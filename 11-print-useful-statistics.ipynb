{
 "cells": [
  {
   "cell_type": "code",
   "execution_count": 1,
   "metadata": {},
   "outputs": [],
   "source": [
    "import pandas as pd\n",
    "import scipy as sc\n",
    "import numpy as np\n",
    "import os\n",
    "\n",
    "\n",
    "import matplotlib as mpl\n",
    "import matplotlib.pyplot as plt\n",
    "from matplotlib.gridspec import GridSpec\n",
    "from matplotlib.colors import colorConverter\n",
    "import seaborn as sns\n",
    "\n",
    "%load_ext autoreload\n",
    "%autoreload 2\n",
    "%load_ext blackcellmagic\n",
    "%matplotlib inline"
   ]
  },
  {
   "cell_type": "code",
   "execution_count": 2,
   "metadata": {},
   "outputs": [],
   "source": [
    "from constants import guest_types\n",
    "from constants import colors\n",
    "from bootstrap import bootstrap\n",
    "from bootstrap import dG_bootstrap\n",
    "from bootstrap import dH_bootstrap\n",
    "import plotting"
   ]
  },
  {
   "cell_type": "code",
   "execution_count": 3,
   "metadata": {},
   "outputs": [],
   "source": [
    "from constants import experimental_deltaG\n",
    "from constants import experimental_deltaH\n",
    "from constants import systems"
   ]
  },
  {
   "cell_type": "code",
   "execution_count": 4,
   "metadata": {},
   "outputs": [],
   "source": [
    "bgbg = pd.read_csv(\"results/bgbg_tip3p_by_orientation.csv\")\n",
    "bgbg_combined = pd.read_csv(\"results/bgbg_tip3p_combined.csv\")\n",
    "\n",
    "bg2bg2 = pd.read_csv(\"results/bg2bg2_tip3p_by_orientation.csv\")\n",
    "bg2bg2_combined = pd.read_csv(\"results/bg2bg2_tip3p_combined.csv\")\n",
    "\n",
    "smirnoff = pd.read_csv(\"results/smirnoff_by_orientation.csv\")\n",
    "smirnoff_combined = pd.read_csv(\"results/smirnoff_combined.csv\")\n",
    "\n",
    "experimental = pd.read_csv(\"results/experimental.csv\")"
   ]
  },
  {
   "cell_type": "code",
   "execution_count": 5,
   "metadata": {},
   "outputs": [],
   "source": [
    "from make_statistics_table import table"
   ]
  },
  {
   "cell_type": "code",
   "execution_count": 22,
   "metadata": {},
   "outputs": [
    {
     "name": "stdout",
     "output_type": "stream",
     "text": [
      "\n",
      "experimental_smirnoff_dG_statistics_overall.csv\n",
      "\n",
      "| ΔG | SMIRNOFF99Frosst | 0.91 | [0.71, 1.13] | -0.01 | [-0.28, 0.26] | 0.34 | [0.12, 0.56] | 0.49 | [0.26, 0.72] | -1.55 | [-0.80, -2.29] | \n",
      "\n",
      "experimental_smirnoff_dG_statistics_aliphatic_ammoniums.csv\n",
      "\n",
      "| ΔG | SMIRNOFF99Frosst | 0.76 | [0.43, 1.11] | -0.10 | [-0.54, 0.31] | 0.48 | [0.07, 0.84] | 0.69 | [0.19, 1.16] | -1.06 | [0.54, -2.77] | \n",
      "\n",
      "experimental_smirnoff_dG_statistics_aliphatic_carboxylates.csv\n",
      "\n",
      "| ΔG | SMIRNOFF99Frosst | 0.87 | [0.59, 1.16] | -0.36 | [-0.74, -0.01] | 0.34 | [0.02, 0.68] | 0.45 | [0.11, 0.75] | -1.85 | [-0.91, -2.83] | \n",
      "\n",
      "experimental_smirnoff_dG_statistics_cyclic_alcohols.csv\n",
      "\n",
      "| ΔG | SMIRNOFF99Frosst | 1.07 | [0.66, 1.58] | 0.71 | [0.22, 1.21] | 0.54 | [0.09, 0.86] | 0.55 | [0.20, 0.84] | -0.84 | [0.16, -2.09] | \n",
      "\n",
      "experimental_bgbg_dG_statistics_overall.csv\n",
      "\n",
      "| ΔG | GAFF v1.7 | 0.88 | [0.72, 1.08] | 0.46 | [0.23, 0.69] | 0.54 | [0.33, 0.71] | 0.69 | [0.47, 0.91] | -0.48 | [0.22, -1.16] | \n",
      "\n",
      "experimental_bgbg_dG_statistics_aliphatic_ammoniums.csv\n",
      "\n",
      "| ΔG | GAFF v1.7 | 0.77 | [0.59, 0.95] | 0.69 | [0.51, 0.88] | 0.90 | [0.76, 0.98] | 1.08 | [0.88, 1.26] | 0.95 | [1.56, 0.32] | \n",
      "\n",
      "experimental_bgbg_dG_statistics_aliphatic_carboxylates.csv\n",
      "\n",
      "| ΔG | GAFF v1.7 | 0.68 | [0.49, 0.88] | 0.03 | [-0.28, 0.34] | 0.52 | [0.16, 0.80] | 0.68 | [0.33, 0.97] | -0.84 | [0.08, -1.75] | \n",
      "\n",
      "experimental_bgbg_dG_statistics_cyclic_alcohols.csv\n",
      "\n",
      "| ΔG | GAFF v1.7 | 1.22 | [0.86, 1.67] | 0.93 | [0.45, 1.41] | 0.56 | [0.12, 0.89] | 0.59 | [0.25, 0.89] | -0.47 | [0.64, -1.77] | \n",
      "\n",
      "experimental_bg2bg2_dG_statistics_overall.csv\n",
      "\n",
      "| ΔG | GAFF v2.1 | 1.68 | [1.51, 1.85] | -1.56 | [-1.74, -1.37] | 0.82 | [0.61, 0.92] | 1.19 | [0.96, 1.34] | -1.00 | [-0.52, -1.62] | \n",
      "\n",
      "experimental_bg2bg2_dG_statistics_aliphatic_ammoniums.csv\n",
      "\n",
      "| ΔG | GAFF v2.1 | 1.85 | [1.59, 2.09] | -1.79 | [-2.04, -1.53] | 0.93 | [0.83, 0.98] | 1.32 | [1.13, 1.51] | -0.80 | [-0.20, -1.46] | \n",
      "\n",
      "experimental_bg2bg2_dG_statistics_aliphatic_carboxylates.csv\n",
      "\n",
      "| ΔG | GAFF v2.1 | 1.46 | [1.21, 1.71] | -1.36 | [-1.61, -1.10] | 0.81 | [0.61, 0.93] | 1.18 | [0.85, 1.46] | -0.87 | [0.02, -1.74] | \n",
      "\n",
      "experimental_bg2bg2_dG_statistics_cyclic_alcohols.csv\n",
      "\n",
      "| ΔG | GAFF v2.1 | 1.80 | [1.48, 2.15] | -1.64 | [-2.04, -1.14] | 0.73 | [0.19, 0.98] | 1.01 | [0.49, 1.27] | -1.63 | [-0.67, -3.19] | \n"
     ]
    }
   ],
   "source": [
    "table(thermodynamic_quantity=\"G\")"
   ]
  },
  {
   "cell_type": "code",
   "execution_count": 23,
   "metadata": {},
   "outputs": [
    {
     "name": "stdout",
     "output_type": "stream",
     "text": [
      "\n",
      "experimental_smirnoff_dH_statistics_overall.csv\n",
      "\n",
      "| ΔH | SMIRNOFF99Frosst | 1.85 | [1.41, 2.30] | 0.76 | [0.26, 1.28] | 0.44 | [0.21, 0.66] | 0.85 | [0.54, 1.19] | 0.41 | [1.55, -0.50] | \n",
      "\n",
      "experimental_smirnoff_dH_statistics_aliphatic_ammoniums.csv\n",
      "\n",
      "| ΔH | SMIRNOFF99Frosst | 1.15 | [0.77, 1.51] | 0.83 | [0.39, 1.27] | 0.89 | [0.76, 0.97] | 1.15 | [0.89, 1.53] | 1.31 | [2.81, 0.38] | \n",
      "\n",
      "experimental_smirnoff_dH_statistics_aliphatic_carboxylates.csv\n",
      "\n",
      "| ΔH | SMIRNOFF99Frosst | 1.41 | [0.94, 1.93] | 0.20 | [-0.43, 0.84] | 0.53 | [0.20, 0.79] | 0.83 | [0.40, 1.53] | -0.14 | [2.12, -1.30] | \n",
      "\n",
      "experimental_smirnoff_dH_statistics_cyclic_alcohols.csv\n",
      "\n",
      "| ΔH | SMIRNOFF99Frosst | 2.88 | [1.99, 3.68] | 1.66 | [0.21, 3.03] | 0.09 | [0.00, 0.44] | 0.07 | [-1.28, 1.67] | -0.29 | [3.93, -4.06] | \n",
      "\n",
      "experimental_bgbg_dH_statistics_overall.csv\n",
      "\n",
      "| ΔH | GAFF v1.7 | 2.54 | [2.08, 3.00] | 1.84 | [1.31, 2.37] | 0.39 | [0.17, 0.62] | 0.80 | [0.47, 1.18] | 1.36 | [2.67, 0.31] | \n",
      "\n",
      "experimental_bgbg_dH_statistics_aliphatic_ammoniums.csv\n",
      "\n",
      "| ΔH | GAFF v1.7 | 2.12 | [1.77, 2.47] | 2.02 | [1.67, 2.37] | 0.92 | [0.80, 0.98] | 1.09 | [0.86, 1.35] | 2.29 | [3.34, 1.39] | \n",
      "\n",
      "experimental_bgbg_dH_statistics_aliphatic_carboxylates.csv\n",
      "\n",
      "| ΔH | GAFF v1.7 | 1.95 | [1.34, 2.55] | 1.24 | [0.55, 1.93] | 0.47 | [0.13, 0.78] | 0.79 | [0.32, 1.49] | 0.82 | [3.10, -0.54] | \n",
      "\n",
      "experimental_bgbg_dH_statistics_cyclic_alcohols.csv\n",
      "\n",
      "| ΔH | GAFF v1.7 | 3.63 | [2.67, 4.47] | 2.66 | [1.13, 4.07] | 0.10 | [0.00, 0.57] | 0.12 | [-1.09, 2.28] | 0.91 | [6.66, -2.47] | \n",
      "\n",
      "experimental_bg2bg2_dH_statistics_overall.csv\n",
      "\n",
      "| ΔH | GAFF v2.1 | 2.21 | [1.77, 2.65] | -1.64 | [-2.10, -1.20] | 0.75 | [0.58, 0.87] | 1.38 | [1.15, 1.63] | -0.69 | [0.16, -1.43] | \n",
      "\n",
      "experimental_bg2bg2_dH_statistics_aliphatic_ammoniums.csv\n",
      "\n",
      "| ΔH | GAFF v2.1 | 1.90 | [1.31, 2.43] | -1.51 | [-2.15, -0.88] | 0.96 | [0.91, 0.99] | 1.54 | [1.38, 1.83] | 0.09 | [1.18, -0.44] | \n",
      "\n",
      "experimental_bg2bg2_dH_statistics_aliphatic_carboxylates.csv\n",
      "\n",
      "| ΔH | GAFF v2.1 | 2.43 | [1.75, 3.06] | -1.73 | [-2.51, -0.96] | 0.69 | [0.49, 0.85] | 1.40 | [0.99, 2.29] | -0.66 | [2.15, -1.61] | \n",
      "\n",
      "experimental_bg2bg2_dH_statistics_cyclic_alcohols.csv\n",
      "\n",
      "| ΔH | GAFF v2.1 | 2.08 | [1.18, 3.16] | -1.64 | [-2.54, -0.91] | 0.54 | [0.00, 0.97] | 1.08 | [-0.37, 1.90] | -1.51 | [0.83, -5.50] | \n"
     ]
    }
   ],
   "source": [
    "table(thermodynamic_quantity=\"H\")"
   ]
  },
  {
   "cell_type": "code",
   "execution_count": 24,
   "metadata": {},
   "outputs": [
    {
     "name": "stdout",
     "output_type": "stream",
     "text": [
      "\n",
      "experimental_smirnoff_-TdS_statistics_overall.csv\n",
      "\n",
      "| -TΔS | SMIRNOFF99Frosst | 1.90 | [1.49, 2.32] | -0.78 | [-1.29, -0.24] | 0.40 | [0.14, 0.63] | 0.90 | [0.51, 1.29] | -0.83 | [-0.34, -1.34] | \n",
      "\n",
      "experimental_smirnoff_-TdS_statistics_aliphatic_ammoniums.csv\n",
      "\n",
      "| -TΔS | SMIRNOFF99Frosst | 1.47 | [0.90, 2.10] | -0.93 | [-1.59, -0.31] | 0.65 | [0.13, 0.91] | 0.99 | [0.58, 1.35] | -0.88 | [-0.09, -1.66] | \n",
      "\n",
      "experimental_smirnoff_-TdS_statistics_aliphatic_carboxylates.csv\n",
      "\n",
      "| -TΔS | SMIRNOFF99Frosst | 1.73 | [1.17, 2.29] | -0.57 | [-1.32, 0.16] | 0.29 | [0.02, 0.61] | 0.62 | [0.16, 1.09] | -0.68 | [0.05, -1.43] | \n",
      "\n",
      "experimental_smirnoff_-TdS_statistics_cyclic_alcohols.csv\n",
      "\n",
      "| -TΔS | SMIRNOFF99Frosst | 2.47 | [1.62, 3.36] | -0.96 | [-2.22, 0.52] | 0.40 | [0.00, 0.93] | 1.18 | [-0.45, 2.26] | -0.88 | [0.36, -3.60] | \n",
      "\n",
      "experimental_bgbg_-TdS_statistics_overall.csv\n",
      "\n",
      "| -TΔS | GAFF v1.7 | 2.21 | [1.74, 2.68] | -1.38 | [-1.90, -0.86] | 0.43 | [0.16, 0.68] | 0.95 | [0.54, 1.38] | -1.41 | [-0.96, -1.89] | \n",
      "\n",
      "experimental_bgbg_-TdS_statistics_aliphatic_ammoniums.csv\n",
      "\n",
      "| -TΔS | GAFF v1.7 | 1.45 | [1.14, 1.79] | -1.33 | [-1.66, -1.00] | 0.88 | [0.18, 0.97] | 1.04 | [-0.02, 1.37] | -1.27 | [-0.55, -1.62] | \n",
      "\n",
      "experimental_bgbg_-TdS_statistics_aliphatic_carboxylates.csv\n",
      "\n",
      "| -TΔS | GAFF v1.7 | 2.07 | [1.35, 2.76] | -1.22 | [-2.00, -0.46] | 0.29 | [0.00, 0.67] | 0.63 | [-0.02, 1.18] | -1.31 | [-0.58, -2.09] | \n",
      "\n",
      "experimental_bgbg_-TdS_statistics_cyclic_alcohols.csv\n",
      "\n",
      "| -TΔS | GAFF v1.7 | 3.00 | [2.07, 3.88] | -1.73 | [-3.14, -0.18] | 0.37 | [0.00, 0.93] | 1.23 | [-0.38, 2.48] | -1.59 | [-0.31, -4.23] | \n",
      "\n",
      "experimental_bg2bg2_-TdS_statistics_overall.csv\n",
      "\n",
      "| -TΔS | GAFF v2.1 | 1.47 | [1.09, 1.99] | 0.08 | [-0.35, 0.54] | 0.60 | [0.29, 0.80] | 1.14 | [0.74, 1.47] | 0.15 | [0.57, -0.27] | \n",
      "\n",
      "experimental_bg2bg2_-TdS_statistics_aliphatic_ammoniums.csv\n",
      "\n",
      "| -TΔS | GAFF v2.1 | 1.04 | [0.67, 1.40] | -0.27 | [-0.84, 0.26] | 0.89 | [0.29, 0.98] | 1.36 | [-0.53, 1.66] | -0.12 | [1.16, -0.59] | \n",
      "\n",
      "experimental_bg2bg2_-TdS_statistics_aliphatic_carboxylates.csv\n",
      "\n",
      "| -TΔS | GAFF v2.1 | 1.46 | [1.12, 1.77] | 0.37 | [-0.27, 1.00] | 0.50 | [0.13, 0.76] | 0.93 | [0.58, 1.30] | 0.37 | [1.07, -0.34] | \n",
      "\n",
      "experimental_bg2bg2_-TdS_statistics_cyclic_alcohols.csv\n",
      "\n",
      "| -TΔS | GAFF v2.1 | 1.80 | [0.68, 3.19] | -0.00 | [-0.98, 1.27] | 0.48 | [0.00, 0.97] | 1.13 | [-0.22, 1.96] | 0.08 | [1.14, -1.79] | \n"
     ]
    }
   ],
   "source": [
    "table(thermodynamic_quantity=\"-TdS\")"
   ]
  },
  {
   "cell_type": "code",
   "execution_count": 9,
   "metadata": {},
   "outputs": [],
   "source": [
    "def print_table_header(columns=12,\n",
    "                      labels = [\"\", \"\", \"RMSE\", \"\", \"MSE\", \"\", \"R²\", \"\", \"Slope\", \"\", \"Intercept\", \"\"]):\n",
    "    print(\"| \", end = \"\")\n",
    "    for label in labels:\n",
    "        print(f\"{label:>4}\", end=\" | \")\n",
    "    print(\"\")\n",
    "    print(\" | \", end = \"\")\n",
    "    for label in labels:\n",
    "        print(\" --- \", end = \" | \")"
   ]
  },
  {
   "cell_type": "code",
   "execution_count": 10,
   "metadata": {},
   "outputs": [
    {
     "name": "stdout",
     "output_type": "stream",
     "text": [
      "|      |      | RMSE |      |  MSE |      |   R² |      | Slope |      | Intercept |      | \n",
      " |  ---  |  ---  |  ---  |  ---  |  ---  |  ---  |  ---  |  ---  |  ---  |  ---  |  ---  |  ---  | "
     ]
    }
   ],
   "source": [
    "print_table_header()"
   ]
  },
  {
   "cell_type": "code",
   "execution_count": null,
   "metadata": {},
   "outputs": [],
   "source": []
  }
 ],
 "metadata": {
  "kernelspec": {
   "display_name": "Python 3",
   "language": "python",
   "name": "python3"
  },
  "language_info": {
   "codemirror_mode": {
    "name": "ipython",
    "version": 3
   },
   "file_extension": ".py",
   "mimetype": "text/x-python",
   "name": "python",
   "nbconvert_exporter": "python",
   "pygments_lexer": "ipython3",
   "version": "3.7.3"
  }
 },
 "nbformat": 4,
 "nbformat_minor": 2
}
