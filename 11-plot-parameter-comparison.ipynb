{
 "cells": [
  {
   "cell_type": "code",
   "execution_count": null,
   "metadata": {},
   "outputs": [],
   "source": [
    "library(tidyr)\n",
    "library(ggplot2)\n",
    "library(ggrepel)"
   ]
  },
  {
   "cell_type": "code",
   "execution_count": null,
   "metadata": {},
   "outputs": [],
   "source": []
  },
  {
   "cell_type": "code",
   "execution_count": null,
   "metadata": {},
   "outputs": [],
   "source": [
    "width = 5\n",
    "height = 6\n",
    "options(repr.plot.width=width, repr.plot.height=height)\n",
    "\n",
    "\n",
    "lennard_jones = \n",
    "  readr::read_csv(\"~/Downloads/lennard_jones.csv\")\n",
    "\n",
    "\n",
    "distinct(lennard_jones, smirnoff_s, .keep_all = TRUE) %>%\n",
    "ggplot(aes(x = smirnoff_s, y = original_s, label = original_type)) + \n",
    "  geom_point() +\n",
    "  geom_text_repel(nudge_y = 0.2, segment.size = 0) +\n",
    "  geom_abline(slope = 1, size = 0.1) +\n",
    "  labs(subtitle=\"\", \n",
    "       y=\"GAFF v1.7 sigma\", \n",
    "       x=\"SMIRNOFF99Frosst sigma\", \n",
    "       title=\"\", \n",
    "       caption = \"\")\n",
    "\n",
    "\n",
    "distinct(lennard_jones, smirnoff_e, .keep_all = TRUE) %>%\n",
    "  ggplot(aes(x = smirnoff_e, y = original_e, label = original_type)) + \n",
    "  geom_point() +\n",
    "  geom_text_repel(nudge_y = 0.01) +\n",
    "  geom_abline(slope = 1, size = 0.1) +\n",
    "  labs(subtitle=\"\", \n",
    "       y=\"GAFF v1.7 epsilon\", \n",
    "       x=\"SMIRNOFF99Frosst epsilon\", \n",
    "       title=\"\", \n",
    "       caption = \"\")\n",
    "\n",
    "\n",
    "\n",
    "bonds = \n",
    "  readr::read_csv(\"~/Downloads/bonds.csv\")\n",
    "\n",
    "\n",
    "distinct(bonds, smirnoff_k, .keep_all = TRUE) %>%\n",
    "  ggplot(aes(x = smirnoff_k, y = original_k, label = paste0(atom1, \"-\", atom2))) + \n",
    "  geom_point() +\n",
    "  geom_text_repel(nudge_y = 0.2) +\n",
    "  geom_abline(slope = 1, size = 0.1) +\n",
    "  coord_equal() + \n",
    "  xlim(NA, 570) + \n",
    "  ylim(NA, 570) +\n",
    "  labs(subtitle=\"\", \n",
    "       y=\"GAFF v1.7 bond force constant\", \n",
    "       x=\"SMIRNOFF99Frosst bond force constant\", \n",
    "       title=\"\", \n",
    "       caption = \"\")\n",
    "\n",
    "distinct(bonds, smirnoff_req, .keep_all = TRUE) %>%\n",
    "  ggplot(aes(x = smirnoff_req, y = original_req, label = paste0(atom1, \"-\", atom2))) + \n",
    "  geom_point() +\n",
    "  geom_text_repel() +\n",
    "  geom_abline(slope = 1, size = 0.1) +\n",
    "  coord_equal() + \n",
    "  labs(subtitle=\"\", \n",
    "       y=\"GAFF v1.7 bond equilibrium distance\", \n",
    "       x=\"SMIRNOFF99Frosst bond equilibrium distance\", \n",
    "       title=\"\", \n",
    "       caption = \"\")\n"
   ]
  },
  {
   "cell_type": "code",
   "execution_count": null,
   "metadata": {},
   "outputs": [],
   "source": []
  }
 ],
 "metadata": {
  "kernelspec": {
   "display_name": "R [conda env:scihub]",
   "language": "R",
   "name": "conda-env-scihub-r"
  },
  "language_info": {
   "codemirror_mode": "r",
   "file_extension": ".r",
   "mimetype": "text/x-r-source",
   "name": "R",
   "pygments_lexer": "r",
   "version": "3.3.2"
  }
 },
 "nbformat": 4,
 "nbformat_minor": 2
}
