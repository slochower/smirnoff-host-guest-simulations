{
 "cells": [
  {
   "cell_type": "code",
   "execution_count": null,
   "metadata": {
    "ExecuteTime": {
     "end_time": "2019-02-05T00:11:33.288843Z",
     "start_time": "2019-02-04T23:53:51.568Z"
    }
   },
   "outputs": [],
   "source": [
    "import pandas as pd\n",
    "import scipy as sc\n",
    "import numpy as np\n",
    "import os\n",
    "\n",
    "\n",
    "import matplotlib as mpl\n",
    "import matplotlib.pyplot as plt\n",
    "from matplotlib.gridspec import GridSpec\n",
    "from matplotlib.colors import colorConverter\n",
    "import seaborn as sns\n",
    "\n",
    "%load_ext autoreload\n",
    "%autoreload 2\n",
    "%load_ext blackcellmagic\n",
    "%matplotlib inline"
   ]
  },
  {
   "cell_type": "code",
   "execution_count": null,
   "metadata": {
    "ExecuteTime": {
     "end_time": "2019-02-05T00:11:33.289785Z",
     "start_time": "2019-02-04T23:53:51.807Z"
    }
   },
   "outputs": [],
   "source": [
    "from constants import guest_types\n",
    "from constants import colors\n",
    "from bootstrap import bootstrap\n",
    "from bootstrap import dG_bootstrap\n",
    "from bootstrap import dH_bootstrap\n",
    "import plotting"
   ]
  },
  {
   "cell_type": "code",
   "execution_count": null,
   "metadata": {
    "ExecuteTime": {
     "end_time": "2019-02-05T00:11:33.291225Z",
     "start_time": "2019-02-04T23:53:52.174Z"
    }
   },
   "outputs": [],
   "source": [
    "from constants import experimental_deltaG\n",
    "from constants import experimental_deltaH\n",
    "from constants import systems"
   ]
  },
  {
   "cell_type": "code",
   "execution_count": 25,
   "metadata": {
    "ExecuteTime": {
     "end_time": "2019-02-05T00:22:14.839338Z",
     "start_time": "2019-02-05T00:22:14.795630Z"
    }
   },
   "outputs": [],
   "source": [
    "from summarize_statistics import write_statistics"
   ]
  },
  {
   "cell_type": "markdown",
   "metadata": {},
   "source": [
    "# Calculate or load in the summary results"
   ]
  },
  {
   "cell_type": "code",
   "execution_count": null,
   "metadata": {
    "ExecuteTime": {
     "end_time": "2019-02-05T00:11:33.292135Z",
     "start_time": "2019-02-04T23:53:53.152Z"
    }
   },
   "outputs": [],
   "source": [
    "bgbg = pd.read_csv(\"results/bgbg_tip3p_by_orientation.csv\")\n",
    "bgbg_combined = pd.read_csv(\"results/bgbg_tip3p_combined.csv\")\n",
    "\n",
    "bg2bg2 = pd.read_csv(\"results/bg2bg2_tip3p_by_orientation.csv\")\n",
    "bg2bg2_combined = pd.read_csv(\"results/bg2bg2_tip3p_combined.csv\")\n",
    "\n",
    "smirnoff = pd.read_csv(\"results/smirnoff_by_orientation.csv\")\n",
    "smirnoff_combined = pd.read_csv(\"results/smirnoff_combined.csv\")\n",
    "\n",
    "experimental = pd.read_csv(\"results/experimental.csv\")"
   ]
  },
  {
   "cell_type": "code",
   "execution_count": null,
   "metadata": {
    "ExecuteTime": {
     "end_time": "2019-02-05T00:11:33.293039Z",
     "start_time": "2019-02-04T23:53:55.294Z"
    }
   },
   "outputs": [],
   "source": [
    "data_sets = [bgbg_combined, bg2bg2_combined, smirnoff_combined, experimental]\n",
    "names = [\"GAFF v1.7\", \"GAFF v2.1\", \"SMIRNOFF99Frosst\", \"Experimental\"]"
   ]
  },
  {
   "cell_type": "code",
   "execution_count": null,
   "metadata": {
    "ExecuteTime": {
     "end_time": "2019-02-05T00:11:33.293836Z",
     "start_time": "2019-02-04T23:53:55.552Z"
    }
   },
   "outputs": [],
   "source": [
    "from itertools import permutations"
   ]
  },
  {
   "cell_type": "code",
   "execution_count": 33,
   "metadata": {
    "ExecuteTime": {
     "end_time": "2019-02-04T18:13:20.206837Z",
     "start_time": "2019-02-04T18:10:46.442855Z"
    }
   },
   "outputs": [
    {
     "name": "stdout",
     "output_type": "stream",
     "text": [
      "GAFF v1.7 -- GAFF v1.7 0.8640459088400202\n",
      "GAFF v1.7 -- GAFF v1.7 0.8952935292070222\n",
      "GAFF v1.7 -- GAFF v2.1 0.5443148855533857\n",
      "GAFF v1.7 -- GAFF v2.1 0.6117083425882566\n",
      "GAFF v1.7 -- SMIRNOFF99Frosst 0.5856835226983856\n",
      "GAFF v1.7 -- SMIRNOFF99Frosst 0.6944846702335524\n",
      "GAFF v1.7 -- Experimental 0.5370083937757651\n",
      "GAFF v1.7 -- Experimental 0.3936289653837588\n",
      "GAFF v2.1 -- GAFF v1.7 0.5377748892540649\n",
      "GAFF v2.1 -- GAFF v1.7 0.6091330657408875\n",
      "GAFF v2.1 -- GAFF v2.1 0.9574387696819072\n",
      "GAFF v2.1 -- GAFF v2.1 0.974101682963238\n",
      "GAFF v2.1 -- SMIRNOFF99Frosst 0.3711021040197053\n",
      "GAFF v2.1 -- SMIRNOFF99Frosst 0.5979700428934158\n",
      "GAFF v2.1 -- Experimental 0.8225389382298827\n",
      "GAFF v2.1 -- Experimental 0.7507165075495107\n",
      "SMIRNOFF99Frosst -- GAFF v1.7 0.5913937963590066\n",
      "SMIRNOFF99Frosst -- GAFF v1.7 0.6967604030590443\n",
      "SMIRNOFF99Frosst -- GAFF v2.1 0.36670847384122957\n",
      "SMIRNOFF99Frosst -- GAFF v2.1 0.6040172606566303\n",
      "SMIRNOFF99Frosst -- SMIRNOFF99Frosst 0.7451402000029268\n",
      "SMIRNOFF99Frosst -- SMIRNOFF99Frosst 0.8856075320816237\n",
      "SMIRNOFF99Frosst -- Experimental 0.3374410561125791\n",
      "SMIRNOFF99Frosst -- Experimental 0.43805872099896376\n",
      "Experimental -- GAFF v1.7 0.5397102563436296\n",
      "Experimental -- GAFF v1.7 0.3922698166349977\n",
      "Experimental -- GAFF v2.1 0.818127393307886\n",
      "Experimental -- GAFF v2.1 0.7504741788226762\n",
      "Experimental -- SMIRNOFF99Frosst 0.3390863710326805\n",
      "Experimental -- SMIRNOFF99Frosst 0.43867390547189866\n",
      "Experimental -- Experimental 0.9424696640156924\n",
      "Experimental -- Experimental 0.991693657451427\n"
     ]
    }
   ],
   "source": [
    "delta_G_r_squared = pd.DataFrame()\n",
    "delta_G_rmse = pd.DataFrame()\n",
    "delta_G_mse = pd.DataFrame()\n",
    "\n",
    "delta_H_r_squared = pd.DataFrame()\n",
    "delta_H_rmse = pd.DataFrame()\n",
    "delta_H_mse = pd.DataFrame()\n",
    "\n",
    "for index_i, i in enumerate(data_sets):\n",
    "    for index_j, j in enumerate(data_sets):\n",
    "                    \n",
    "        # This seems the most reliable way of matching keys. Took a little while to figure out,\n",
    "        # even if the data frames are ordered properly.\n",
    "        df = i.merge(j, on=[\"System\"], suffixes=(\"_i\", \"_j\"))    \n",
    "        \n",
    "        results = bootstrap(df[\"Delta G_i\"], df[\"G_SEM_i\"], df[\"Delta G_j\"], df[\"G_SEM_j\"], cycles=1000)\n",
    "        print(f\"{names[index_i]} -- {names[index_j]} {results['mean']['R**2']}\")\n",
    "\n",
    "\n",
    "        delta_G_r_squared = delta_G_r_squared.append(\n",
    "            {\n",
    "                \"x\": names[index_i],\n",
    "                \"y\": names[index_j],\n",
    "                \"R**2\": results[\"mean\"][\"R**2\"],\n",
    "                \"R**2 SEM\": results[\"sem\"][\"R**2\"]\n",
    "            },\n",
    "            ignore_index=True,\n",
    "        )\n",
    "\n",
    "        delta_G_rmse = delta_G_rmse.append(\n",
    "            {\n",
    "                \"x\": names[index_i],\n",
    "                \"y\": names[index_j],\n",
    "                \"RMSE\": results[\"mean\"][\"RMSE\"],\n",
    "                \"RMSE SEM\": results[\"sem\"][\"RMSE\"]\n",
    "            },\n",
    "            ignore_index=True,\n",
    "        )\n",
    "\n",
    "        delta_G_mse = delta_G_mse.append(\n",
    "            {\n",
    "                \"x\": names[index_i],\n",
    "                \"y\": names[index_j],\n",
    "                \"MSE\": results[\"mean\"][\"MSE\"],\n",
    "                \"MSE SEM\": results[\"mean\"][\"MSE\"]\n",
    "            },\n",
    "            ignore_index=True,\n",
    "        )\n",
    "        \n",
    "        results = bootstrap(df[\"Delta H_i\"], df[\"H_SEM_i\"], df[\"Delta H_j\"], df[\"H_SEM_j\"], cycles=1000)\n",
    "        print(f\"{names[index_i]} -- {names[index_j]} {results['mean']['R**2']}\")\n",
    "        \n",
    "        delta_H_r_squared = delta_H_r_squared.append(\n",
    "            {\n",
    "                \"x\": names[index_i],\n",
    "                \"y\": names[index_j],\n",
    "                \"R**2\": results[\"mean\"][\"R**2\"],\n",
    "                \"R**2 SEM\": results[\"sem\"][\"R**2\"]\n",
    "                \n",
    "            },\n",
    "            ignore_index=True,\n",
    "        )\n",
    "\n",
    "        delta_H_rmse = delta_H_rmse.append(\n",
    "            {\n",
    "                \"x\": names[index_i],\n",
    "                \"y\": names[index_j],\n",
    "                \"RMSE\": results[\"mean\"][\"RMSE\"],\n",
    "                \"RMSE SEM\": results[\"sem\"][\"RMSE\"]\n",
    "            },\n",
    "            ignore_index=True,\n",
    "        )\n",
    "\n",
    "        delta_H_mse = delta_H_mse.append(\n",
    "            {\n",
    "                \"x\": names[index_i],\n",
    "                \"y\": names[index_j],\n",
    "                \"MSE\": results[\"mean\"][\"MSE\"],\n",
    "                \"MSE SEM\": results[\"sem\"][\"MSE\"]\n",
    "            },\n",
    "            ignore_index=True,\n",
    "        )\n"
   ]
  },
  {
   "cell_type": "code",
   "execution_count": 8,
   "metadata": {
    "ExecuteTime": {
     "end_time": "2019-02-01T23:07:09.770290Z",
     "start_time": "2019-02-01T23:07:09.685370Z"
    }
   },
   "outputs": [],
   "source": [
    "delta_G_r_squared_pivot = delta_G_r_squared.pivot(columns=\"y\", index=\"x\")\n",
    "delta_G_rmse_pivot = delta_G_rmse.pivot(columns=\"y\", index=\"x\",)\n",
    "delta_G_mse_pivot = delta_G_mse.pivot(columns=\"y\", index=\"x\",)\n",
    "\n",
    "delta_H_r_squared_pivot = delta_H_r_squared.pivot(columns=\"y\", index=\"x\", )\n",
    "delta_H_rmse_pivot = delta_H_rmse.pivot(columns=\"y\", index=\"x\",)\n",
    "delta_H_mse_pivot = delta_H_mse.pivot(columns=\"y\", index=\"x\", )\n"
   ]
  },
  {
   "cell_type": "code",
   "execution_count": 9,
   "metadata": {
    "ExecuteTime": {
     "end_time": "2019-02-01T23:07:10.002289Z",
     "start_time": "2019-02-01T23:07:09.773217Z"
    }
   },
   "outputs": [
    {
     "data": {
      "text/html": [
       "<div>\n",
       "<style scoped>\n",
       "    .dataframe tbody tr th:only-of-type {\n",
       "        vertical-align: middle;\n",
       "    }\n",
       "\n",
       "    .dataframe tbody tr th {\n",
       "        vertical-align: top;\n",
       "    }\n",
       "\n",
       "    .dataframe thead tr th {\n",
       "        text-align: left;\n",
       "    }\n",
       "\n",
       "    .dataframe thead tr:last-of-type th {\n",
       "        text-align: right;\n",
       "    }\n",
       "</style>\n",
       "<table border=\"1\" class=\"dataframe\">\n",
       "  <thead>\n",
       "    <tr>\n",
       "      <th></th>\n",
       "      <th colspan=\"4\" halign=\"left\">R**2</th>\n",
       "      <th colspan=\"4\" halign=\"left\">R**2 SEM</th>\n",
       "    </tr>\n",
       "    <tr>\n",
       "      <th>y</th>\n",
       "      <th>Experimental</th>\n",
       "      <th>GAFF v1.7</th>\n",
       "      <th>GAFF v2.1</th>\n",
       "      <th>SMIRNOFF99Frosst</th>\n",
       "      <th>Experimental</th>\n",
       "      <th>GAFF v1.7</th>\n",
       "      <th>GAFF v2.1</th>\n",
       "      <th>SMIRNOFF99Frosst</th>\n",
       "    </tr>\n",
       "    <tr>\n",
       "      <th>x</th>\n",
       "      <th></th>\n",
       "      <th></th>\n",
       "      <th></th>\n",
       "      <th></th>\n",
       "      <th></th>\n",
       "      <th></th>\n",
       "      <th></th>\n",
       "      <th></th>\n",
       "    </tr>\n",
       "  </thead>\n",
       "  <tbody>\n",
       "    <tr>\n",
       "      <th>Experimental</th>\n",
       "      <td>0.94</td>\n",
       "      <td>0.53</td>\n",
       "      <td>0.82</td>\n",
       "      <td>0.34</td>\n",
       "      <td>0.08</td>\n",
       "      <td>0.10</td>\n",
       "      <td>0.08</td>\n",
       "      <td>0.11</td>\n",
       "    </tr>\n",
       "    <tr>\n",
       "      <th>GAFF v1.7</th>\n",
       "      <td>0.53</td>\n",
       "      <td>0.86</td>\n",
       "      <td>0.54</td>\n",
       "      <td>0.59</td>\n",
       "      <td>0.10</td>\n",
       "      <td>0.04</td>\n",
       "      <td>0.10</td>\n",
       "      <td>0.11</td>\n",
       "    </tr>\n",
       "    <tr>\n",
       "      <th>GAFF v2.1</th>\n",
       "      <td>0.82</td>\n",
       "      <td>0.54</td>\n",
       "      <td>0.96</td>\n",
       "      <td>0.37</td>\n",
       "      <td>0.08</td>\n",
       "      <td>0.10</td>\n",
       "      <td>0.01</td>\n",
       "      <td>0.11</td>\n",
       "    </tr>\n",
       "    <tr>\n",
       "      <th>SMIRNOFF99Frosst</th>\n",
       "      <td>0.34</td>\n",
       "      <td>0.59</td>\n",
       "      <td>0.37</td>\n",
       "      <td>0.74</td>\n",
       "      <td>0.11</td>\n",
       "      <td>0.12</td>\n",
       "      <td>0.11</td>\n",
       "      <td>0.09</td>\n",
       "    </tr>\n",
       "  </tbody>\n",
       "</table>\n",
       "</div>"
      ],
      "text/plain": [
       "                         R**2                                       \\\n",
       "y                Experimental GAFF v1.7 GAFF v2.1 SMIRNOFF99Frosst   \n",
       "x                                                                    \n",
       "Experimental             0.94      0.53      0.82             0.34   \n",
       "GAFF v1.7                0.53      0.86      0.54             0.59   \n",
       "GAFF v2.1                0.82      0.54      0.96             0.37   \n",
       "SMIRNOFF99Frosst         0.34      0.59      0.37             0.74   \n",
       "\n",
       "                     R**2 SEM                                       \n",
       "y                Experimental GAFF v1.7 GAFF v2.1 SMIRNOFF99Frosst  \n",
       "x                                                                   \n",
       "Experimental             0.08      0.10      0.08             0.11  \n",
       "GAFF v1.7                0.10      0.04      0.10             0.11  \n",
       "GAFF v2.1                0.08      0.10      0.01             0.11  \n",
       "SMIRNOFF99Frosst         0.11      0.12      0.11             0.09  "
      ]
     },
     "execution_count": 9,
     "metadata": {},
     "output_type": "execute_result"
    }
   ],
   "source": [
    "pd.options.display.float_format = '{:,.2f}'.format\n",
    "delta_G_r_squared_pivot"
   ]
  },
  {
   "cell_type": "code",
   "execution_count": 10,
   "metadata": {
    "ExecuteTime": {
     "end_time": "2019-02-01T23:07:10.071291Z",
     "start_time": "2019-02-01T23:07:10.004327Z"
    },
    "scrolled": true
   },
   "outputs": [
    {
     "data": {
      "text/html": [
       "<div>\n",
       "<style scoped>\n",
       "    .dataframe tbody tr th:only-of-type {\n",
       "        vertical-align: middle;\n",
       "    }\n",
       "\n",
       "    .dataframe tbody tr th {\n",
       "        vertical-align: top;\n",
       "    }\n",
       "\n",
       "    .dataframe thead tr th {\n",
       "        text-align: left;\n",
       "    }\n",
       "\n",
       "    .dataframe thead tr:last-of-type th {\n",
       "        text-align: right;\n",
       "    }\n",
       "</style>\n",
       "<table border=\"1\" class=\"dataframe\">\n",
       "  <thead>\n",
       "    <tr>\n",
       "      <th></th>\n",
       "      <th colspan=\"4\" halign=\"left\">RMSE</th>\n",
       "      <th colspan=\"4\" halign=\"left\">RMSE SEM</th>\n",
       "    </tr>\n",
       "    <tr>\n",
       "      <th>y</th>\n",
       "      <th>Experimental</th>\n",
       "      <th>GAFF v1.7</th>\n",
       "      <th>GAFF v2.1</th>\n",
       "      <th>SMIRNOFF99Frosst</th>\n",
       "      <th>Experimental</th>\n",
       "      <th>GAFF v1.7</th>\n",
       "      <th>GAFF v2.1</th>\n",
       "      <th>SMIRNOFF99Frosst</th>\n",
       "    </tr>\n",
       "    <tr>\n",
       "      <th>x</th>\n",
       "      <th></th>\n",
       "      <th></th>\n",
       "      <th></th>\n",
       "      <th></th>\n",
       "      <th></th>\n",
       "      <th></th>\n",
       "      <th></th>\n",
       "      <th></th>\n",
       "    </tr>\n",
       "  </thead>\n",
       "  <tbody>\n",
       "    <tr>\n",
       "      <th>Experimental</th>\n",
       "      <td>0.21</td>\n",
       "      <td>0.88</td>\n",
       "      <td>1.68</td>\n",
       "      <td>0.91</td>\n",
       "      <td>0.16</td>\n",
       "      <td>0.09</td>\n",
       "      <td>0.09</td>\n",
       "      <td>0.10</td>\n",
       "    </tr>\n",
       "    <tr>\n",
       "      <th>GAFF v1.7</th>\n",
       "      <td>0.88</td>\n",
       "      <td>0.37</td>\n",
       "      <td>2.22</td>\n",
       "      <td>0.80</td>\n",
       "      <td>0.09</td>\n",
       "      <td>0.04</td>\n",
       "      <td>0.12</td>\n",
       "      <td>0.12</td>\n",
       "    </tr>\n",
       "    <tr>\n",
       "      <th>GAFF v2.1</th>\n",
       "      <td>1.68</td>\n",
       "      <td>2.23</td>\n",
       "      <td>0.29</td>\n",
       "      <td>1.89</td>\n",
       "      <td>0.09</td>\n",
       "      <td>0.12</td>\n",
       "      <td>0.03</td>\n",
       "      <td>0.13</td>\n",
       "    </tr>\n",
       "    <tr>\n",
       "      <th>SMIRNOFF99Frosst</th>\n",
       "      <td>0.91</td>\n",
       "      <td>0.79</td>\n",
       "      <td>1.90</td>\n",
       "      <td>0.46</td>\n",
       "      <td>0.11</td>\n",
       "      <td>0.11</td>\n",
       "      <td>0.14</td>\n",
       "      <td>0.07</td>\n",
       "    </tr>\n",
       "  </tbody>\n",
       "</table>\n",
       "</div>"
      ],
      "text/plain": [
       "                         RMSE                                       \\\n",
       "y                Experimental GAFF v1.7 GAFF v2.1 SMIRNOFF99Frosst   \n",
       "x                                                                    \n",
       "Experimental             0.21      0.88      1.68             0.91   \n",
       "GAFF v1.7                0.88      0.37      2.22             0.80   \n",
       "GAFF v2.1                1.68      2.23      0.29             1.89   \n",
       "SMIRNOFF99Frosst         0.91      0.79      1.90             0.46   \n",
       "\n",
       "                     RMSE SEM                                       \n",
       "y                Experimental GAFF v1.7 GAFF v2.1 SMIRNOFF99Frosst  \n",
       "x                                                                   \n",
       "Experimental             0.16      0.09      0.09             0.10  \n",
       "GAFF v1.7                0.09      0.04      0.12             0.12  \n",
       "GAFF v2.1                0.09      0.12      0.03             0.13  \n",
       "SMIRNOFF99Frosst         0.11      0.11      0.14             0.07  "
      ]
     },
     "execution_count": 10,
     "metadata": {},
     "output_type": "execute_result"
    }
   ],
   "source": [
    "delta_G_rmse_pivot"
   ]
  },
  {
   "cell_type": "code",
   "execution_count": 11,
   "metadata": {
    "ExecuteTime": {
     "end_time": "2019-02-01T23:07:10.154895Z",
     "start_time": "2019-02-01T23:07:10.072905Z"
    }
   },
   "outputs": [
    {
     "data": {
      "text/html": [
       "<div>\n",
       "<style scoped>\n",
       "    .dataframe tbody tr th:only-of-type {\n",
       "        vertical-align: middle;\n",
       "    }\n",
       "\n",
       "    .dataframe tbody tr th {\n",
       "        vertical-align: top;\n",
       "    }\n",
       "\n",
       "    .dataframe thead tr th {\n",
       "        text-align: left;\n",
       "    }\n",
       "\n",
       "    .dataframe thead tr:last-of-type th {\n",
       "        text-align: right;\n",
       "    }\n",
       "</style>\n",
       "<table border=\"1\" class=\"dataframe\">\n",
       "  <thead>\n",
       "    <tr>\n",
       "      <th></th>\n",
       "      <th colspan=\"4\" halign=\"left\">MSE</th>\n",
       "      <th colspan=\"4\" halign=\"left\">MSE SEM</th>\n",
       "    </tr>\n",
       "    <tr>\n",
       "      <th>y</th>\n",
       "      <th>Experimental</th>\n",
       "      <th>GAFF v1.7</th>\n",
       "      <th>GAFF v2.1</th>\n",
       "      <th>SMIRNOFF99Frosst</th>\n",
       "      <th>Experimental</th>\n",
       "      <th>GAFF v1.7</th>\n",
       "      <th>GAFF v2.1</th>\n",
       "      <th>SMIRNOFF99Frosst</th>\n",
       "    </tr>\n",
       "    <tr>\n",
       "      <th>x</th>\n",
       "      <th></th>\n",
       "      <th></th>\n",
       "      <th></th>\n",
       "      <th></th>\n",
       "      <th></th>\n",
       "      <th></th>\n",
       "      <th></th>\n",
       "      <th></th>\n",
       "    </tr>\n",
       "  </thead>\n",
       "  <tbody>\n",
       "    <tr>\n",
       "      <th>Experimental</th>\n",
       "      <td>0.00</td>\n",
       "      <td>0.46</td>\n",
       "      <td>-1.56</td>\n",
       "      <td>-0.01</td>\n",
       "      <td>0.00</td>\n",
       "      <td>0.46</td>\n",
       "      <td>-1.56</td>\n",
       "      <td>-0.01</td>\n",
       "    </tr>\n",
       "    <tr>\n",
       "      <th>GAFF v1.7</th>\n",
       "      <td>-0.46</td>\n",
       "      <td>-0.00</td>\n",
       "      <td>-2.01</td>\n",
       "      <td>-0.47</td>\n",
       "      <td>-0.46</td>\n",
       "      <td>-0.00</td>\n",
       "      <td>-2.01</td>\n",
       "      <td>-0.47</td>\n",
       "    </tr>\n",
       "    <tr>\n",
       "      <th>GAFF v2.1</th>\n",
       "      <td>1.56</td>\n",
       "      <td>2.02</td>\n",
       "      <td>-0.00</td>\n",
       "      <td>1.54</td>\n",
       "      <td>1.56</td>\n",
       "      <td>2.02</td>\n",
       "      <td>-0.00</td>\n",
       "      <td>1.54</td>\n",
       "    </tr>\n",
       "    <tr>\n",
       "      <th>SMIRNOFF99Frosst</th>\n",
       "      <td>0.01</td>\n",
       "      <td>0.47</td>\n",
       "      <td>-1.54</td>\n",
       "      <td>0.00</td>\n",
       "      <td>0.01</td>\n",
       "      <td>0.47</td>\n",
       "      <td>-1.54</td>\n",
       "      <td>0.00</td>\n",
       "    </tr>\n",
       "  </tbody>\n",
       "</table>\n",
       "</div>"
      ],
      "text/plain": [
       "                          MSE                                       \\\n",
       "y                Experimental GAFF v1.7 GAFF v2.1 SMIRNOFF99Frosst   \n",
       "x                                                                    \n",
       "Experimental             0.00      0.46     -1.56            -0.01   \n",
       "GAFF v1.7               -0.46     -0.00     -2.01            -0.47   \n",
       "GAFF v2.1                1.56      2.02     -0.00             1.54   \n",
       "SMIRNOFF99Frosst         0.01      0.47     -1.54             0.00   \n",
       "\n",
       "                      MSE SEM                                       \n",
       "y                Experimental GAFF v1.7 GAFF v2.1 SMIRNOFF99Frosst  \n",
       "x                                                                   \n",
       "Experimental             0.00      0.46     -1.56            -0.01  \n",
       "GAFF v1.7               -0.46     -0.00     -2.01            -0.47  \n",
       "GAFF v2.1                1.56      2.02     -0.00             1.54  \n",
       "SMIRNOFF99Frosst         0.01      0.47     -1.54             0.00  "
      ]
     },
     "execution_count": 11,
     "metadata": {},
     "output_type": "execute_result"
    }
   ],
   "source": [
    "delta_G_mse_pivot"
   ]
  },
  {
   "cell_type": "code",
   "execution_count": 12,
   "metadata": {
    "ExecuteTime": {
     "end_time": "2019-02-01T23:07:10.256346Z",
     "start_time": "2019-02-01T23:07:10.157033Z"
    }
   },
   "outputs": [
    {
     "data": {
      "text/html": [
       "<div>\n",
       "<style scoped>\n",
       "    .dataframe tbody tr th:only-of-type {\n",
       "        vertical-align: middle;\n",
       "    }\n",
       "\n",
       "    .dataframe tbody tr th {\n",
       "        vertical-align: top;\n",
       "    }\n",
       "\n",
       "    .dataframe thead tr th {\n",
       "        text-align: left;\n",
       "    }\n",
       "\n",
       "    .dataframe thead tr:last-of-type th {\n",
       "        text-align: right;\n",
       "    }\n",
       "</style>\n",
       "<table border=\"1\" class=\"dataframe\">\n",
       "  <thead>\n",
       "    <tr>\n",
       "      <th></th>\n",
       "      <th colspan=\"4\" halign=\"left\">R**2</th>\n",
       "      <th colspan=\"4\" halign=\"left\">R**2 SEM</th>\n",
       "    </tr>\n",
       "    <tr>\n",
       "      <th>y</th>\n",
       "      <th>Experimental</th>\n",
       "      <th>GAFF v1.7</th>\n",
       "      <th>GAFF v2.1</th>\n",
       "      <th>SMIRNOFF99Frosst</th>\n",
       "      <th>Experimental</th>\n",
       "      <th>GAFF v1.7</th>\n",
       "      <th>GAFF v2.1</th>\n",
       "      <th>SMIRNOFF99Frosst</th>\n",
       "    </tr>\n",
       "    <tr>\n",
       "      <th>x</th>\n",
       "      <th></th>\n",
       "      <th></th>\n",
       "      <th></th>\n",
       "      <th></th>\n",
       "      <th></th>\n",
       "      <th></th>\n",
       "      <th></th>\n",
       "      <th></th>\n",
       "    </tr>\n",
       "  </thead>\n",
       "  <tbody>\n",
       "    <tr>\n",
       "      <th>Experimental</th>\n",
       "      <td>0.99</td>\n",
       "      <td>0.39</td>\n",
       "      <td>0.75</td>\n",
       "      <td>0.44</td>\n",
       "      <td>0.01</td>\n",
       "      <td>0.12</td>\n",
       "      <td>0.08</td>\n",
       "      <td>0.12</td>\n",
       "    </tr>\n",
       "    <tr>\n",
       "      <th>GAFF v1.7</th>\n",
       "      <td>0.39</td>\n",
       "      <td>0.89</td>\n",
       "      <td>0.61</td>\n",
       "      <td>0.70</td>\n",
       "      <td>0.12</td>\n",
       "      <td>0.04</td>\n",
       "      <td>0.10</td>\n",
       "      <td>0.09</td>\n",
       "    </tr>\n",
       "    <tr>\n",
       "      <th>GAFF v2.1</th>\n",
       "      <td>0.75</td>\n",
       "      <td>0.61</td>\n",
       "      <td>0.97</td>\n",
       "      <td>0.60</td>\n",
       "      <td>0.08</td>\n",
       "      <td>0.10</td>\n",
       "      <td>0.01</td>\n",
       "      <td>0.10</td>\n",
       "    </tr>\n",
       "    <tr>\n",
       "      <th>SMIRNOFF99Frosst</th>\n",
       "      <td>0.44</td>\n",
       "      <td>0.70</td>\n",
       "      <td>0.59</td>\n",
       "      <td>0.89</td>\n",
       "      <td>0.11</td>\n",
       "      <td>0.09</td>\n",
       "      <td>0.10</td>\n",
       "      <td>0.04</td>\n",
       "    </tr>\n",
       "  </tbody>\n",
       "</table>\n",
       "</div>"
      ],
      "text/plain": [
       "                         R**2                                       \\\n",
       "y                Experimental GAFF v1.7 GAFF v2.1 SMIRNOFF99Frosst   \n",
       "x                                                                    \n",
       "Experimental             0.99      0.39      0.75             0.44   \n",
       "GAFF v1.7                0.39      0.89      0.61             0.70   \n",
       "GAFF v2.1                0.75      0.61      0.97             0.60   \n",
       "SMIRNOFF99Frosst         0.44      0.70      0.59             0.89   \n",
       "\n",
       "                     R**2 SEM                                       \n",
       "y                Experimental GAFF v1.7 GAFF v2.1 SMIRNOFF99Frosst  \n",
       "x                                                                   \n",
       "Experimental             0.01      0.12      0.08             0.12  \n",
       "GAFF v1.7                0.12      0.04      0.10             0.09  \n",
       "GAFF v2.1                0.08      0.10      0.01             0.10  \n",
       "SMIRNOFF99Frosst         0.11      0.09      0.10             0.04  "
      ]
     },
     "execution_count": 12,
     "metadata": {},
     "output_type": "execute_result"
    }
   ],
   "source": [
    "delta_H_r_squared_pivot"
   ]
  },
  {
   "cell_type": "code",
   "execution_count": 13,
   "metadata": {
    "ExecuteTime": {
     "end_time": "2019-02-01T23:07:10.350453Z",
     "start_time": "2019-02-01T23:07:10.258933Z"
    }
   },
   "outputs": [
    {
     "data": {
      "text/html": [
       "<div>\n",
       "<style scoped>\n",
       "    .dataframe tbody tr th:only-of-type {\n",
       "        vertical-align: middle;\n",
       "    }\n",
       "\n",
       "    .dataframe tbody tr th {\n",
       "        vertical-align: top;\n",
       "    }\n",
       "\n",
       "    .dataframe thead tr th {\n",
       "        text-align: left;\n",
       "    }\n",
       "\n",
       "    .dataframe thead tr:last-of-type th {\n",
       "        text-align: right;\n",
       "    }\n",
       "</style>\n",
       "<table border=\"1\" class=\"dataframe\">\n",
       "  <thead>\n",
       "    <tr>\n",
       "      <th></th>\n",
       "      <th colspan=\"4\" halign=\"left\">RMSE</th>\n",
       "      <th colspan=\"4\" halign=\"left\">RMSE SEM</th>\n",
       "    </tr>\n",
       "    <tr>\n",
       "      <th>y</th>\n",
       "      <th>Experimental</th>\n",
       "      <th>GAFF v1.7</th>\n",
       "      <th>GAFF v2.1</th>\n",
       "      <th>SMIRNOFF99Frosst</th>\n",
       "      <th>Experimental</th>\n",
       "      <th>GAFF v1.7</th>\n",
       "      <th>GAFF v2.1</th>\n",
       "      <th>SMIRNOFF99Frosst</th>\n",
       "    </tr>\n",
       "    <tr>\n",
       "      <th>x</th>\n",
       "      <th></th>\n",
       "      <th></th>\n",
       "      <th></th>\n",
       "      <th></th>\n",
       "      <th></th>\n",
       "      <th></th>\n",
       "      <th></th>\n",
       "      <th></th>\n",
       "    </tr>\n",
       "  </thead>\n",
       "  <tbody>\n",
       "    <tr>\n",
       "      <th>Experimental</th>\n",
       "      <td>0.15</td>\n",
       "      <td>2.55</td>\n",
       "      <td>2.21</td>\n",
       "      <td>1.85</td>\n",
       "      <td>0.06</td>\n",
       "      <td>0.24</td>\n",
       "      <td>0.22</td>\n",
       "      <td>0.23</td>\n",
       "    </tr>\n",
       "    <tr>\n",
       "      <th>GAFF v1.7</th>\n",
       "      <td>2.54</td>\n",
       "      <td>0.71</td>\n",
       "      <td>3.88</td>\n",
       "      <td>1.65</td>\n",
       "      <td>0.24</td>\n",
       "      <td>0.11</td>\n",
       "      <td>0.21</td>\n",
       "      <td>0.19</td>\n",
       "    </tr>\n",
       "    <tr>\n",
       "      <th>GAFF v2.1</th>\n",
       "      <td>2.20</td>\n",
       "      <td>3.88</td>\n",
       "      <td>0.44</td>\n",
       "      <td>2.96</td>\n",
       "      <td>0.23</td>\n",
       "      <td>0.22</td>\n",
       "      <td>0.05</td>\n",
       "      <td>0.23</td>\n",
       "    </tr>\n",
       "    <tr>\n",
       "      <th>SMIRNOFF99Frosst</th>\n",
       "      <td>1.86</td>\n",
       "      <td>1.65</td>\n",
       "      <td>2.97</td>\n",
       "      <td>0.75</td>\n",
       "      <td>0.22</td>\n",
       "      <td>0.17</td>\n",
       "      <td>0.23</td>\n",
       "      <td>0.12</td>\n",
       "    </tr>\n",
       "  </tbody>\n",
       "</table>\n",
       "</div>"
      ],
      "text/plain": [
       "                         RMSE                                       \\\n",
       "y                Experimental GAFF v1.7 GAFF v2.1 SMIRNOFF99Frosst   \n",
       "x                                                                    \n",
       "Experimental             0.15      2.55      2.21             1.85   \n",
       "GAFF v1.7                2.54      0.71      3.88             1.65   \n",
       "GAFF v2.1                2.20      3.88      0.44             2.96   \n",
       "SMIRNOFF99Frosst         1.86      1.65      2.97             0.75   \n",
       "\n",
       "                     RMSE SEM                                       \n",
       "y                Experimental GAFF v1.7 GAFF v2.1 SMIRNOFF99Frosst  \n",
       "x                                                                   \n",
       "Experimental             0.06      0.24      0.22             0.23  \n",
       "GAFF v1.7                0.24      0.11      0.21             0.19  \n",
       "GAFF v2.1                0.23      0.22      0.05             0.23  \n",
       "SMIRNOFF99Frosst         0.22      0.17      0.23             0.12  "
      ]
     },
     "execution_count": 13,
     "metadata": {},
     "output_type": "execute_result"
    }
   ],
   "source": [
    "delta_H_rmse_pivot"
   ]
  },
  {
   "cell_type": "code",
   "execution_count": 14,
   "metadata": {
    "ExecuteTime": {
     "end_time": "2019-02-01T23:07:10.430602Z",
     "start_time": "2019-02-01T23:07:10.352962Z"
    }
   },
   "outputs": [
    {
     "data": {
      "text/html": [
       "<div>\n",
       "<style scoped>\n",
       "    .dataframe tbody tr th:only-of-type {\n",
       "        vertical-align: middle;\n",
       "    }\n",
       "\n",
       "    .dataframe tbody tr th {\n",
       "        vertical-align: top;\n",
       "    }\n",
       "\n",
       "    .dataframe thead tr th {\n",
       "        text-align: left;\n",
       "    }\n",
       "\n",
       "    .dataframe thead tr:last-of-type th {\n",
       "        text-align: right;\n",
       "    }\n",
       "</style>\n",
       "<table border=\"1\" class=\"dataframe\">\n",
       "  <thead>\n",
       "    <tr>\n",
       "      <th></th>\n",
       "      <th colspan=\"4\" halign=\"left\">MSE</th>\n",
       "      <th colspan=\"4\" halign=\"left\">MSE SEM</th>\n",
       "    </tr>\n",
       "    <tr>\n",
       "      <th>y</th>\n",
       "      <th>Experimental</th>\n",
       "      <th>GAFF v1.7</th>\n",
       "      <th>GAFF v2.1</th>\n",
       "      <th>SMIRNOFF99Frosst</th>\n",
       "      <th>Experimental</th>\n",
       "      <th>GAFF v1.7</th>\n",
       "      <th>GAFF v2.1</th>\n",
       "      <th>SMIRNOFF99Frosst</th>\n",
       "    </tr>\n",
       "    <tr>\n",
       "      <th>x</th>\n",
       "      <th></th>\n",
       "      <th></th>\n",
       "      <th></th>\n",
       "      <th></th>\n",
       "      <th></th>\n",
       "      <th></th>\n",
       "      <th></th>\n",
       "      <th></th>\n",
       "    </tr>\n",
       "  </thead>\n",
       "  <tbody>\n",
       "    <tr>\n",
       "      <th>Experimental</th>\n",
       "      <td>0.00</td>\n",
       "      <td>1.85</td>\n",
       "      <td>-1.64</td>\n",
       "      <td>0.77</td>\n",
       "      <td>0.03</td>\n",
       "      <td>0.27</td>\n",
       "      <td>0.22</td>\n",
       "      <td>0.27</td>\n",
       "    </tr>\n",
       "    <tr>\n",
       "      <th>GAFF v1.7</th>\n",
       "      <td>-1.84</td>\n",
       "      <td>-0.00</td>\n",
       "      <td>-3.48</td>\n",
       "      <td>-1.08</td>\n",
       "      <td>0.27</td>\n",
       "      <td>0.11</td>\n",
       "      <td>0.26</td>\n",
       "      <td>0.20</td>\n",
       "    </tr>\n",
       "    <tr>\n",
       "      <th>GAFF v2.1</th>\n",
       "      <td>1.63</td>\n",
       "      <td>3.48</td>\n",
       "      <td>0.00</td>\n",
       "      <td>2.40</td>\n",
       "      <td>0.23</td>\n",
       "      <td>0.27</td>\n",
       "      <td>0.07</td>\n",
       "      <td>0.27</td>\n",
       "    </tr>\n",
       "    <tr>\n",
       "      <th>SMIRNOFF99Frosst</th>\n",
       "      <td>-0.77</td>\n",
       "      <td>1.08</td>\n",
       "      <td>-2.41</td>\n",
       "      <td>-0.00</td>\n",
       "      <td>0.26</td>\n",
       "      <td>0.19</td>\n",
       "      <td>0.27</td>\n",
       "      <td>0.11</td>\n",
       "    </tr>\n",
       "  </tbody>\n",
       "</table>\n",
       "</div>"
      ],
      "text/plain": [
       "                          MSE                                       \\\n",
       "y                Experimental GAFF v1.7 GAFF v2.1 SMIRNOFF99Frosst   \n",
       "x                                                                    \n",
       "Experimental             0.00      1.85     -1.64             0.77   \n",
       "GAFF v1.7               -1.84     -0.00     -3.48            -1.08   \n",
       "GAFF v2.1                1.63      3.48      0.00             2.40   \n",
       "SMIRNOFF99Frosst        -0.77      1.08     -2.41            -0.00   \n",
       "\n",
       "                      MSE SEM                                       \n",
       "y                Experimental GAFF v1.7 GAFF v2.1 SMIRNOFF99Frosst  \n",
       "x                                                                   \n",
       "Experimental             0.03      0.27      0.22             0.27  \n",
       "GAFF v1.7                0.27      0.11      0.26             0.20  \n",
       "GAFF v2.1                0.23      0.27      0.07             0.27  \n",
       "SMIRNOFF99Frosst         0.26      0.19      0.27             0.11  "
      ]
     },
     "execution_count": 14,
     "metadata": {},
     "output_type": "execute_result"
    }
   ],
   "source": [
    "delta_H_mse_pivot"
   ]
  },
  {
   "cell_type": "code",
   "execution_count": 10,
   "metadata": {
    "ExecuteTime": {
     "end_time": "2019-02-04T19:10:30.559665Z",
     "start_time": "2019-02-04T19:10:30.500314Z"
    }
   },
   "outputs": [],
   "source": [
    "def pretty_print(results):\n",
    "    print(f\"{results['mean']['RMSE']:2.2f} ± {results['sem']['RMSE']:2.2f}\", end=\"\")\n",
    "    print(\"\\n\", end=\"\")\n",
    "    print(f\"{results['mean']['MSE']:2.2f} ± {results['sem']['MSE']:2.2f}\", end=\"\")\n",
    "    print(\"\\n\", end=\"\")\n",
    "    print(f\"{results['mean']['R**2']:2.2f} ± {results['sem']['R**2']:2.2f}\", end=\"\")\n",
    "    print(\"\\n\", end=\"\")\n",
    "    print(f\"{results['mean']['slope']:2.2f} ± {results['sem']['slope']:2.2f}\", end=\"\")\n",
    "    print(\"\\n\", end=\"\")\n",
    "    print(f\"{results['mean']['intercept']:2.2f} ± {results['sem']['intercept']:2.2f}\", end=\"\")\n",
    "    print(\"\\n\")"
   ]
  },
  {
   "cell_type": "markdown",
   "metadata": {},
   "source": [
    "# Binding free energy\n",
    "\n",
    "(Create statistics files for re-use)"
   ]
  },
  {
   "cell_type": "code",
   "execution_count": 57,
   "metadata": {
    "ExecuteTime": {
     "end_time": "2019-02-06T02:47:18.026150Z",
     "start_time": "2019-02-06T02:47:17.943172Z"
    },
    "scrolled": true
   },
   "outputs": [
    {
     "name": "stdout",
     "output_type": "stream",
     "text": [
      "Skipping results/experimental_smirnoff_dG_statistics_overall.csv...\n",
      "Skipping results/experimental_smirnoff_dG_statistics_aliphatic_ammoniums.csv...\n",
      "Skipping results/experimental_smirnoff_dG_statistics_cyclic_alcohols.csv...\n",
      "Skipping results/experimental_smirnoff_dG_statistics_aliphatic_carboxylates.csv...\n",
      "Skipping results/experimental_bgbg_dG_statistics_overall.csv...\n",
      "Skipping results/experimental_bgbg_dG_statistics_aliphatic_ammoniums.csv...\n",
      "Skipping results/experimental_bgbg_dG_statistics_cyclic_alcohols.csv...\n",
      "Skipping results/experimental_bgbg_dG_statistics_aliphatic_carboxylates.csv...\n",
      "Skipping results/experimental_bg2bg2_dG_statistics_overall.csv...\n",
      "Skipping results/experimental_bg2bg2_dG_statistics_aliphatic_ammoniums.csv...\n",
      "Skipping results/experimental_bg2bg2_dG_statistics_cyclic_alcohols.csv...\n",
      "Skipping results/experimental_bg2bg2_dG_statistics_aliphatic_carboxylates.csv...\n"
     ]
    }
   ],
   "source": [
    "write_statistics(experimental, smirnoff_combined, \"G\", \"experimental_smirnoff\")\n",
    "write_statistics(experimental, bgbg_combined, \"G\", \"experimental_bgbg\")\n",
    "write_statistics(experimental, bg2bg2_combined, \"G\", \"experimental_bg2bg2\")"
   ]
  },
  {
   "cell_type": "code",
   "execution_count": 58,
   "metadata": {
    "ExecuteTime": {
     "end_time": "2019-02-06T02:47:20.998729Z",
     "start_time": "2019-02-06T02:47:20.928602Z"
    },
    "scrolled": true
   },
   "outputs": [
    {
     "name": "stdout",
     "output_type": "stream",
     "text": [
      "Skipping results/bgbg_smirnoff_dG_statistics_overall.csv...\n",
      "Skipping results/bgbg_smirnoff_dG_statistics_aliphatic_ammoniums.csv...\n",
      "Skipping results/bgbg_smirnoff_dG_statistics_cyclic_alcohols.csv...\n",
      "Skipping results/bgbg_smirnoff_dG_statistics_aliphatic_carboxylates.csv...\n",
      "Skipping results/bgbg_smirnoff_dG_statistics_overall.csv...\n",
      "Skipping results/bgbg_smirnoff_dG_statistics_aliphatic_ammoniums.csv...\n",
      "Skipping results/bgbg_smirnoff_dG_statistics_cyclic_alcohols.csv...\n",
      "Skipping results/bgbg_smirnoff_dG_statistics_aliphatic_carboxylates.csv...\n"
     ]
    }
   ],
   "source": [
    "write_statistics(bgbg_combined, smirnoff_combined, \"G\", \"bgbg_smirnoff\")\n",
    "write_statistics(bg2bg2_combined, smirnoff_combined, \"G\", \"bgbg_smirnoff\")"
   ]
  },
  {
   "cell_type": "code",
   "execution_count": null,
   "metadata": {
    "ExecuteTime": {
     "start_time": "2019-02-06T02:46:37.680Z"
    }
   },
   "outputs": [],
   "source": [
    "write_statistics(bgbg_combined, bg2bg2_combined, \"G\", \"bgbg_bg2bg2\")"
   ]
  },
  {
   "cell_type": "code",
   "execution_count": 66,
   "metadata": {
    "ExecuteTime": {
     "end_time": "2019-02-06T22:28:11.362376Z",
     "start_time": "2019-02-06T22:08:37.657108Z"
    }
   },
   "outputs": [
    {
     "name": "stdout",
     "output_type": "stream",
     "text": [
      "Skipping results/bgbg_bg2bg2_by_orientation_dG_statistics_overall.csv...\n",
      "Skipping results/bgbg_bg2bg2_by_orientation_dG_statistics_aliphatic_ammoniums.csv...\n",
      "Skipping results/bgbg_bg2bg2_by_orientation_dG_statistics_cyclic_alcohols.csv...\n",
      "Skipping results/bgbg_bg2bg2_by_orientation_dG_statistics_aliphatic_carboxylates.csv...\n",
      "Skipping results/bgbg_smirnoff_by_orientation_dG_statistics_overall.csv...\n",
      "Skipping results/bgbg_smirnoff_by_orientation_dG_statistics_aliphatic_ammoniums.csv...\n",
      "Skipping results/bgbg_smirnoff_by_orientation_dG_statistics_cyclic_alcohols.csv...\n",
      "Skipping results/bgbg_smirnoff_by_orientation_dG_statistics_aliphatic_carboxylates.csv...\n"
     ]
    }
   ],
   "source": [
    "write_statistics(bgbg, bg2bg2, \"G\", \"bgbg_bg2bg2_by_orientation\")\n",
    "write_statistics(bgbg, smirnoff, \"G\", \"bgbg_smirnoff_by_orientation\")\n",
    "write_statistics(bg2bg2, smirnoff, \"G\", \"bg2bg2_smirnoff_by_orientation\")"
   ]
  },
  {
   "cell_type": "markdown",
   "metadata": {},
   "source": [
    "## Enthalpy"
   ]
  },
  {
   "cell_type": "code",
   "execution_count": null,
   "metadata": {
    "ExecuteTime": {
     "start_time": "2019-02-06T02:46:42.406Z"
    }
   },
   "outputs": [],
   "source": [
    "write_statistics(experimental, smirnoff_combined, \"H\", \"experimental_smirnoff\")\n",
    "write_statistics(experimental, bgbg_combined, \"H\", \"experimental_bgbg\")\n",
    "write_statistics(experimental, bg2bg2_combined, \"H\", \"experimental_bg2bg2\")"
   ]
  },
  {
   "cell_type": "code",
   "execution_count": null,
   "metadata": {
    "ExecuteTime": {
     "start_time": "2019-02-06T02:46:43.926Z"
    }
   },
   "outputs": [],
   "source": [
    "write_statistics(bgbg_combined, smirnoff_combined, \"H\", \"bgbg_smirnoff\")\n",
    "write_statistics(bg2bg2_combined, smirnoff_combined, \"H\", \"bgbg_smirnoff\")"
   ]
  },
  {
   "cell_type": "code",
   "execution_count": null,
   "metadata": {
    "ExecuteTime": {
     "start_time": "2019-02-06T02:46:49.075Z"
    }
   },
   "outputs": [],
   "source": [
    "write_statistics(bgbg_combined, bg2bg2_combined, \"H\", \"bgbg_bg2bg2\")\n",
    "write_statistics(bgbg_combined, bg2bg2_combined, \"H\", \"bgbg_bg2bg2\")"
   ]
  },
  {
   "cell_type": "code",
   "execution_count": 65,
   "metadata": {
    "ExecuteTime": {
     "end_time": "2019-02-06T21:38:48.943250Z",
     "start_time": "2019-02-06T21:19:38.172656Z"
    }
   },
   "outputs": [
    {
     "name": "stdout",
     "output_type": "stream",
     "text": [
      "Skipping results/bgbg_bg2bg2_by_orientation_dH_statistics_overall.csv...\n",
      "Skipping results/bgbg_bg2bg2_by_orientation_dH_statistics_aliphatic_ammoniums.csv...\n",
      "Skipping results/bgbg_bg2bg2_by_orientation_dH_statistics_cyclic_alcohols.csv...\n",
      "Skipping results/bgbg_bg2bg2_by_orientation_dH_statistics_aliphatic_carboxylates.csv...\n",
      "Skipping results/bgbg_smirnoff_by_orientation_dH_statistics_overall.csv...\n",
      "Skipping results/bgbg_smirnoff_by_orientation_dH_statistics_aliphatic_ammoniums.csv...\n",
      "Skipping results/bgbg_smirnoff_by_orientation_dH_statistics_cyclic_alcohols.csv...\n",
      "Skipping results/bgbg_smirnoff_by_orientation_dH_statistics_aliphatic_carboxylates.csv...\n"
     ]
    }
   ],
   "source": [
    "write_statistics(bgbg, bg2bg2, \"H\", \"bgbg_bg2bg2_by_orientation\")\n",
    "write_statistics(bgbg, smirnoff, \"H\", \"bgbg_smirnoff_by_orientation\")\n",
    "write_statistics(bg2bg2, smirnoff, \"H\", \"bg2bg2_smirnoff_by_orientation\")"
   ]
  },
  {
   "cell_type": "markdown",
   "metadata": {},
   "source": [
    "# Entropy"
   ]
  },
  {
   "cell_type": "code",
   "execution_count": 22,
   "metadata": {
    "ExecuteTime": {
     "end_time": "2019-02-01T23:13:08.086448Z",
     "start_time": "2019-02-01T23:13:07.928236Z"
    }
   },
   "outputs": [],
   "source": [
    "smirnoff_combined[\"-TdS\"] = smirnoff_combined[\"Delta G\"] - smirnoff_combined[\"Delta H\"]\n",
    "smirnoff_combined[\"-TdS_SEM\"] = np.sqrt(smirnoff_combined[\"G_SEM\"]**2 + smirnoff_combined[\"H_SEM\"]**2)\n",
    "\n",
    "bgbg_combined[\"-TdS\"] = bgbg_combined[\"Delta G\"] - bgbg_combined[\"Delta H\"]\n",
    "bgbg_combined[\"-TdS_SEM\"] = np.sqrt(bgbg_combined[\"G_SEM\"]**2 + bgbg_combined[\"H_SEM\"]**2)\n",
    "\n",
    "bg2bg2_combined[\"-TdS\"] = bg2bg2_combined[\"Delta G\"] - bg2bg2_combined[\"Delta H\"]\n",
    "bg2bg2_combined[\"-TdS_SEM\"] = np.sqrt(bg2bg2_combined[\"G_SEM\"]**2 + bg2bg2_combined[\"H_SEM\"]**2)\n",
    "\n",
    "experimental[\"-TdS\"] = experimental[\"Delta G\"] - experimental[\"Delta H\"]\n",
    "experimental[\"-TdS_SEM\"] = np.sqrt(experimental[\"G_SEM\"]**2 + experimental[\"H_SEM\"]**2)"
   ]
  },
  {
   "cell_type": "code",
   "execution_count": 23,
   "metadata": {
    "ExecuteTime": {
     "end_time": "2019-02-01T23:14:03.620769Z",
     "start_time": "2019-02-01T23:13:08.088441Z"
    }
   },
   "outputs": [
    {
     "name": "stdout",
     "output_type": "stream",
     "text": [
      "2.21 ± 0.24\n",
      "-1.38 ± 0.27\n",
      "0.43 ± 0.13\n",
      "0.95 ± 0.21\n",
      "-1.41 ± 0.24"
     ]
    }
   ],
   "source": [
    "df = experimental.merge(bgbg_combined, on=[\"System\"], suffixes=(\"_i\", \"_j\"))    \n",
    "results = bootstrap(df[\"-TdS_i\"], df[\"-TdS_SEM_i\"], df[\"-TdS_j\"], df[\"-TdS_SEM_j\"], cycles=10000)\n",
    "pretty_print(results)"
   ]
  },
  {
   "cell_type": "code",
   "execution_count": 24,
   "metadata": {
    "ExecuteTime": {
     "end_time": "2019-02-01T23:14:57.554854Z",
     "start_time": "2019-02-01T23:14:03.622564Z"
    }
   },
   "outputs": [
    {
     "name": "stdout",
     "output_type": "stream",
     "text": [
      "1.90 ± 0.21\n",
      "-0.78 ± 0.26\n",
      "0.40 ± 0.13\n",
      "0.90 ± 0.20\n",
      "-0.83 ± 0.25"
     ]
    }
   ],
   "source": [
    "df = experimental.merge(smirnoff_combined, on=[\"System\"], suffixes=(\"_i\", \"_j\"))    \n",
    "results = bootstrap(df[\"-TdS_i\"], df[\"-TdS_SEM_i\"], df[\"-TdS_j\"], df[\"-TdS_SEM_j\"], cycles=10000)\n",
    "pretty_print(results)"
   ]
  },
  {
   "cell_type": "code",
   "execution_count": 25,
   "metadata": {
    "ExecuteTime": {
     "end_time": "2019-02-01T23:15:53.173374Z",
     "start_time": "2019-02-01T23:14:57.556577Z"
    }
   },
   "outputs": [
    {
     "name": "stdout",
     "output_type": "stream",
     "text": [
      "1.48 ± 0.24\n",
      "0.08 ± 0.23\n",
      "0.59 ± 0.14\n",
      "1.14 ± 0.19\n",
      "0.15 ± 0.21"
     ]
    }
   ],
   "source": [
    "df = experimental.merge(bg2bg2_combined, on=[\"System\"], suffixes=(\"_i\", \"_j\"))    \n",
    "results = bootstrap(df[\"-TdS_i\"], df[\"-TdS_SEM_i\"], df[\"-TdS_j\"], df[\"-TdS_SEM_j\"], cycles=10000)\n",
    "pretty_print(results)"
   ]
  },
  {
   "cell_type": "code",
   "execution_count": 84,
   "metadata": {
    "ExecuteTime": {
     "end_time": "2019-02-07T20:22:09.622659Z",
     "start_time": "2019-02-07T20:22:09.576471Z"
    }
   },
   "outputs": [],
   "source": [
    "from make_statistics_table import table"
   ]
  },
  {
   "cell_type": "code",
   "execution_count": 88,
   "metadata": {
    "ExecuteTime": {
     "end_time": "2019-02-07T20:29:34.946419Z",
     "start_time": "2019-02-07T20:29:34.886901Z"
    }
   },
   "outputs": [
    {
     "name": "stdout",
     "output_type": "stream",
     "text": [
      "SMIRNOFF99Frosst\t0.91\t0.11\t-0.01\t0.14\t0.34\t0.11\t0.49\t0.12\t-1.55\t0.38\t\n",
      "\n",
      "GAFF v1.7\t0.88\t0.09\t0.46\t0.12\t0.54\t0.10\t0.69\t0.11\t-0.48\t0.35\t\n",
      "\n",
      "GAFF v2.1\t1.68\t0.09\t-1.56\t0.10\t0.82\t0.08\t1.19\t0.09\t-1.00\t0.28\t\n",
      "\n"
     ]
    }
   ],
   "source": [
    "table(thermodynamic_quantity=\"G\")"
   ]
  },
  {
   "cell_type": "code",
   "execution_count": 89,
   "metadata": {
    "ExecuteTime": {
     "end_time": "2019-02-07T20:31:29.063142Z",
     "start_time": "2019-02-07T20:31:28.999703Z"
    }
   },
   "outputs": [
    {
     "name": "stdout",
     "output_type": "stream",
     "text": [
      "SMIRNOFF99Frosst\t1.85\t0.23\t0.77\t0.26\t0.44\t0.12\t0.85\t0.17\t0.41\t0.52\t\n",
      "\n",
      "GAFF v1.7\t2.54\t0.24\t1.84\t0.27\t0.39\t0.12\t0.80\t0.18\t1.36\t0.60\t\n",
      "\n",
      "GAFF v2.1\t2.21\t0.23\t-1.64\t0.23\t0.75\t0.08\t1.38\t0.12\t-0.69\t0.40\t\n",
      "\n"
     ]
    }
   ],
   "source": [
    "table(thermodynamic_quantity=\"H\")"
   ]
  },
  {
   "cell_type": "code",
   "execution_count": null,
   "metadata": {},
   "outputs": [],
   "source": []
  }
 ],
 "metadata": {
  "kernelspec": {
   "display_name": "Python [default]",
   "language": "python",
   "name": "python3"
  },
  "language_info": {
   "codemirror_mode": {
    "name": "ipython",
    "version": 3
   },
   "file_extension": ".py",
   "mimetype": "text/x-python",
   "name": "python",
   "nbconvert_exporter": "python",
   "pygments_lexer": "ipython3",
   "version": "3.6.4"
  }
 },
 "nbformat": 4,
 "nbformat_minor": 2
}
