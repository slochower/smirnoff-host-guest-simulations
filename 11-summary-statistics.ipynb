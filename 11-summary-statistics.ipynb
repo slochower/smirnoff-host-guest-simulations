{
 "cells": [
  {
   "cell_type": "code",
   "execution_count": 1,
   "metadata": {
    "ExecuteTime": {
     "end_time": "2019-02-01T22:39:53.898455Z",
     "start_time": "2019-02-01T22:39:50.230280Z"
    }
   },
   "outputs": [
    {
     "name": "stderr",
     "output_type": "stream",
     "text": [
      "/home/dslochower/data/applications/anaconda3/lib/python3.6/importlib/_bootstrap.py:219: RuntimeWarning: numpy.dtype size changed, may indicate binary incompatibility. Expected 96, got 88\n",
      "  return f(*args, **kwds)\n",
      "/home/dslochower/data/applications/anaconda3/lib/python3.6/importlib/_bootstrap.py:219: RuntimeWarning: numpy.dtype size changed, may indicate binary incompatibility. Expected 96, got 88\n",
      "  return f(*args, **kwds)\n",
      "/home/dslochower/data/applications/anaconda3/lib/python3.6/importlib/_bootstrap.py:219: RuntimeWarning: numpy.dtype size changed, may indicate binary incompatibility. Expected 96, got 88\n",
      "  return f(*args, **kwds)\n"
     ]
    }
   ],
   "source": [
    "import pandas as pd\n",
    "import scipy as sc\n",
    "import numpy as np\n",
    "import os\n",
    "\n",
    "\n",
    "import matplotlib as mpl\n",
    "import matplotlib.pyplot as plt\n",
    "from matplotlib.gridspec import GridSpec\n",
    "from matplotlib.colors import colorConverter\n",
    "import seaborn as sns\n",
    "\n",
    "%load_ext autoreload\n",
    "%autoreload 2\n",
    "%load_ext blackcellmagic\n",
    "%matplotlib inline"
   ]
  },
  {
   "cell_type": "code",
   "execution_count": 2,
   "metadata": {
    "ExecuteTime": {
     "end_time": "2019-02-01T22:40:02.041114Z",
     "start_time": "2019-02-01T22:40:01.990627Z"
    }
   },
   "outputs": [],
   "source": [
    "from constants import guest_types\n",
    "from constants import colors\n",
    "from bootstrap import bootstrap\n",
    "from bootstrap import dG_bootstrap\n",
    "from bootstrap import dH_bootstrap\n",
    "import plotting"
   ]
  },
  {
   "cell_type": "code",
   "execution_count": 3,
   "metadata": {
    "ExecuteTime": {
     "end_time": "2019-02-01T22:40:02.872439Z",
     "start_time": "2019-02-01T22:40:02.847862Z"
    }
   },
   "outputs": [],
   "source": [
    "from constants import experimental_deltaG\n",
    "from constants import experimental_deltaH\n",
    "from constants import systems"
   ]
  },
  {
   "cell_type": "markdown",
   "metadata": {},
   "source": [
    "# Calculate or load in the summary results"
   ]
  },
  {
   "cell_type": "code",
   "execution_count": 4,
   "metadata": {
    "ExecuteTime": {
     "end_time": "2019-02-01T23:04:18.524319Z",
     "start_time": "2019-02-01T23:04:18.337245Z"
    }
   },
   "outputs": [],
   "source": [
    "bgbg = pd.read_csv(\"results/bgbg_tip3p_by_orientation.csv\")\n",
    "bgbg_combined = pd.read_csv(\"results/bgbg_tip3p_combined.csv\")\n",
    "\n",
    "bg2bg2 = pd.read_csv(\"results/bg2bg2_tip3p_by_orientation.csv\")\n",
    "bg2bg2_combined = pd.read_csv(\"results/bg2bg2_tip3p_combined.csv\")\n",
    "\n",
    "smirnoff = pd.read_csv(\"results/smirnoff_by_orientation.csv\")\n",
    "smirnoff_combined = pd.read_csv(\"results/smirnoff_combined.csv\")\n",
    "\n",
    "experimental = pd.read_csv(\"results/experimental.csv\")"
   ]
  },
  {
   "cell_type": "code",
   "execution_count": 5,
   "metadata": {
    "ExecuteTime": {
     "end_time": "2019-02-01T23:04:18.807549Z",
     "start_time": "2019-02-01T23:04:18.780346Z"
    }
   },
   "outputs": [],
   "source": [
    "data_sets = [bgbg_combined, bg2bg2_combined, smirnoff_combined, experimental]\n",
    "names = [\"GAFF v1.7\", \"GAFF v2.1\", \"SMIRNOFF99Frosst\", \"Experimental\"]"
   ]
  },
  {
   "cell_type": "code",
   "execution_count": 6,
   "metadata": {
    "ExecuteTime": {
     "end_time": "2019-02-01T23:04:19.151180Z",
     "start_time": "2019-02-01T23:04:19.124816Z"
    }
   },
   "outputs": [],
   "source": [
    "from itertools import permutations"
   ]
  },
  {
   "cell_type": "code",
   "execution_count": 7,
   "metadata": {
    "ExecuteTime": {
     "end_time": "2019-02-01T23:07:09.683296Z",
     "start_time": "2019-02-01T23:04:19.379946Z"
    }
   },
   "outputs": [
    {
     "name": "stdout",
     "output_type": "stream",
     "text": [
      "GAFF v1.7 -- GAFF v1.7 0.8633855789097872\n",
      "GAFF v1.7 -- GAFF v1.7 0.8949388102049061\n",
      "GAFF v1.7 -- GAFF v2.1 0.5406388829688028\n",
      "GAFF v1.7 -- GAFF v2.1 0.6091119815970619\n",
      "GAFF v1.7 -- SMIRNOFF99Frosst 0.5872120592799711\n",
      "GAFF v1.7 -- SMIRNOFF99Frosst 0.7019429201692048\n",
      "GAFF v1.7 -- Experimental 0.5342481779468413\n",
      "GAFF v1.7 -- Experimental 0.3936755568984785\n",
      "GAFF v2.1 -- GAFF v1.7 0.538127903534604\n",
      "GAFF v2.1 -- GAFF v1.7 0.6095615728839157\n",
      "GAFF v2.1 -- GAFF v2.1 0.9569956787133556\n",
      "GAFF v2.1 -- GAFF v2.1 0.9739275731832029\n",
      "GAFF v2.1 -- SMIRNOFF99Frosst 0.36735217820903915\n",
      "GAFF v2.1 -- SMIRNOFF99Frosst 0.6002395969000279\n",
      "GAFF v2.1 -- Experimental 0.8191219388841698\n",
      "GAFF v2.1 -- Experimental 0.7497678191144045\n",
      "SMIRNOFF99Frosst -- GAFF v1.7 0.5914435843847202\n",
      "SMIRNOFF99Frosst -- GAFF v1.7 0.6971475262551112\n",
      "SMIRNOFF99Frosst -- GAFF v2.1 0.3683475682044087\n",
      "SMIRNOFF99Frosst -- GAFF v2.1 0.5933243607398356\n",
      "SMIRNOFF99Frosst -- SMIRNOFF99Frosst 0.7447076165187979\n",
      "SMIRNOFF99Frosst -- SMIRNOFF99Frosst 0.8850021873016584\n",
      "SMIRNOFF99Frosst -- Experimental 0.33912500577990873\n",
      "SMIRNOFF99Frosst -- Experimental 0.43768093381457035\n",
      "Experimental -- GAFF v1.7 0.5323476720986018\n",
      "Experimental -- GAFF v1.7 0.39484796059057137\n",
      "Experimental -- GAFF v2.1 0.8153151333167908\n",
      "Experimental -- GAFF v2.1 0.7548648127606011\n",
      "Experimental -- SMIRNOFF99Frosst 0.3368988889995249\n",
      "Experimental -- SMIRNOFF99Frosst 0.4392360890399003\n",
      "Experimental -- Experimental 0.94171147158968\n",
      "Experimental -- Experimental 0.9919396576985845\n"
     ]
    }
   ],
   "source": [
    "delta_G_r_squared = pd.DataFrame()\n",
    "delta_G_rmse = pd.DataFrame()\n",
    "delta_G_mse = pd.DataFrame()\n",
    "\n",
    "delta_H_r_squared = pd.DataFrame()\n",
    "delta_H_rmse = pd.DataFrame()\n",
    "delta_H_mse = pd.DataFrame()\n",
    "\n",
    "for index_i, i in enumerate(data_sets):\n",
    "    for index_j, j in enumerate(data_sets):\n",
    "                    \n",
    "        # This seems the most reliable way of matching keys. Took a little while to figure out,\n",
    "        # even if the data frames are ordered properly.\n",
    "        df = i.merge(j, on=[\"System\"], suffixes=(\"_i\", \"_j\"))    \n",
    "        \n",
    "        results = bootstrap(df[\"Delta G_i\"], df[\"G_SEM_i\"], df[\"Delta G_j\"], df[\"G_SEM_j\"], cycles=1000)\n",
    "        print(f\"{names[index_i]} -- {names[index_j]} {results['mean']['R**2']}\")\n",
    "\n",
    "\n",
    "        delta_G_r_squared = delta_G_r_squared.append(\n",
    "            {\n",
    "                \"x\": names[index_i],\n",
    "                \"y\": names[index_j],\n",
    "                \"R**2\": results[\"mean\"][\"R**2\"],\n",
    "                \"R**2 SEM\": results[\"sem\"][\"R**2\"]\n",
    "            },\n",
    "            ignore_index=True,\n",
    "        )\n",
    "\n",
    "        delta_G_rmse = delta_G_rmse.append(\n",
    "            {\n",
    "                \"x\": names[index_i],\n",
    "                \"y\": names[index_j],\n",
    "                \"RMSE\": results[\"mean\"][\"RMSE\"],\n",
    "                \"RMSE SEM\": results[\"sem\"][\"RMSE\"]\n",
    "            },\n",
    "            ignore_index=True,\n",
    "        )\n",
    "\n",
    "        delta_G_mse = delta_G_mse.append(\n",
    "            {\n",
    "                \"x\": names[index_i],\n",
    "                \"y\": names[index_j],\n",
    "                \"MSE\": results[\"mean\"][\"MSE\"],\n",
    "                \"MSE SEM\": results[\"mean\"][\"MSE\"]\n",
    "            },\n",
    "            ignore_index=True,\n",
    "        )\n",
    "        \n",
    "        results = bootstrap(df[\"Delta H_i\"], df[\"H_SEM_i\"], df[\"Delta H_j\"], df[\"H_SEM_j\"], cycles=1000)\n",
    "        print(f\"{names[index_i]} -- {names[index_j]} {results['mean']['R**2']}\")\n",
    "        \n",
    "        delta_H_r_squared = delta_H_r_squared.append(\n",
    "            {\n",
    "                \"x\": names[index_i],\n",
    "                \"y\": names[index_j],\n",
    "                \"R**2\": results[\"mean\"][\"R**2\"],\n",
    "                \"R**2 SEM\": results[\"sem\"][\"R**2\"]\n",
    "                \n",
    "            },\n",
    "            ignore_index=True,\n",
    "        )\n",
    "\n",
    "        delta_H_rmse = delta_H_rmse.append(\n",
    "            {\n",
    "                \"x\": names[index_i],\n",
    "                \"y\": names[index_j],\n",
    "                \"RMSE\": results[\"mean\"][\"RMSE\"],\n",
    "                \"RMSE SEM\": results[\"sem\"][\"RMSE\"]\n",
    "            },\n",
    "            ignore_index=True,\n",
    "        )\n",
    "\n",
    "        delta_H_mse = delta_H_mse.append(\n",
    "            {\n",
    "                \"x\": names[index_i],\n",
    "                \"y\": names[index_j],\n",
    "                \"MSE\": results[\"mean\"][\"MSE\"],\n",
    "                \"MSE SEM\": results[\"sem\"][\"MSE\"]\n",
    "            },\n",
    "            ignore_index=True,\n",
    "        )\n"
   ]
  },
  {
   "cell_type": "code",
   "execution_count": 8,
   "metadata": {
    "ExecuteTime": {
     "end_time": "2019-02-01T23:07:09.770290Z",
     "start_time": "2019-02-01T23:07:09.685370Z"
    }
   },
   "outputs": [],
   "source": [
    "delta_G_r_squared_pivot = delta_G_r_squared.pivot(columns=\"y\", index=\"x\")\n",
    "delta_G_rmse_pivot = delta_G_rmse.pivot(columns=\"y\", index=\"x\",)\n",
    "delta_G_mse_pivot = delta_G_mse.pivot(columns=\"y\", index=\"x\",)\n",
    "\n",
    "delta_H_r_squared_pivot = delta_H_r_squared.pivot(columns=\"y\", index=\"x\", )\n",
    "delta_H_rmse_pivot = delta_H_rmse.pivot(columns=\"y\", index=\"x\",)\n",
    "delta_H_mse_pivot = delta_H_mse.pivot(columns=\"y\", index=\"x\", )\n"
   ]
  },
  {
   "cell_type": "code",
   "execution_count": 9,
   "metadata": {
    "ExecuteTime": {
     "end_time": "2019-02-01T23:07:10.002289Z",
     "start_time": "2019-02-01T23:07:09.773217Z"
    }
   },
   "outputs": [
    {
     "data": {
      "text/html": [
       "<div>\n",
       "<style scoped>\n",
       "    .dataframe tbody tr th:only-of-type {\n",
       "        vertical-align: middle;\n",
       "    }\n",
       "\n",
       "    .dataframe tbody tr th {\n",
       "        vertical-align: top;\n",
       "    }\n",
       "\n",
       "    .dataframe thead tr th {\n",
       "        text-align: left;\n",
       "    }\n",
       "\n",
       "    .dataframe thead tr:last-of-type th {\n",
       "        text-align: right;\n",
       "    }\n",
       "</style>\n",
       "<table border=\"1\" class=\"dataframe\">\n",
       "  <thead>\n",
       "    <tr>\n",
       "      <th></th>\n",
       "      <th colspan=\"4\" halign=\"left\">R**2</th>\n",
       "      <th colspan=\"4\" halign=\"left\">R**2 SEM</th>\n",
       "    </tr>\n",
       "    <tr>\n",
       "      <th>y</th>\n",
       "      <th>Experimental</th>\n",
       "      <th>GAFF v1.7</th>\n",
       "      <th>GAFF v2.1</th>\n",
       "      <th>SMIRNOFF99Frosst</th>\n",
       "      <th>Experimental</th>\n",
       "      <th>GAFF v1.7</th>\n",
       "      <th>GAFF v2.1</th>\n",
       "      <th>SMIRNOFF99Frosst</th>\n",
       "    </tr>\n",
       "    <tr>\n",
       "      <th>x</th>\n",
       "      <th></th>\n",
       "      <th></th>\n",
       "      <th></th>\n",
       "      <th></th>\n",
       "      <th></th>\n",
       "      <th></th>\n",
       "      <th></th>\n",
       "      <th></th>\n",
       "    </tr>\n",
       "  </thead>\n",
       "  <tbody>\n",
       "    <tr>\n",
       "      <th>Experimental</th>\n",
       "      <td>0.94</td>\n",
       "      <td>0.53</td>\n",
       "      <td>0.82</td>\n",
       "      <td>0.34</td>\n",
       "      <td>0.08</td>\n",
       "      <td>0.10</td>\n",
       "      <td>0.08</td>\n",
       "      <td>0.11</td>\n",
       "    </tr>\n",
       "    <tr>\n",
       "      <th>GAFF v1.7</th>\n",
       "      <td>0.53</td>\n",
       "      <td>0.86</td>\n",
       "      <td>0.54</td>\n",
       "      <td>0.59</td>\n",
       "      <td>0.10</td>\n",
       "      <td>0.04</td>\n",
       "      <td>0.10</td>\n",
       "      <td>0.11</td>\n",
       "    </tr>\n",
       "    <tr>\n",
       "      <th>GAFF v2.1</th>\n",
       "      <td>0.82</td>\n",
       "      <td>0.54</td>\n",
       "      <td>0.96</td>\n",
       "      <td>0.37</td>\n",
       "      <td>0.08</td>\n",
       "      <td>0.10</td>\n",
       "      <td>0.01</td>\n",
       "      <td>0.11</td>\n",
       "    </tr>\n",
       "    <tr>\n",
       "      <th>SMIRNOFF99Frosst</th>\n",
       "      <td>0.34</td>\n",
       "      <td>0.59</td>\n",
       "      <td>0.37</td>\n",
       "      <td>0.74</td>\n",
       "      <td>0.11</td>\n",
       "      <td>0.12</td>\n",
       "      <td>0.11</td>\n",
       "      <td>0.09</td>\n",
       "    </tr>\n",
       "  </tbody>\n",
       "</table>\n",
       "</div>"
      ],
      "text/plain": [
       "                         R**2                                       \\\n",
       "y                Experimental GAFF v1.7 GAFF v2.1 SMIRNOFF99Frosst   \n",
       "x                                                                    \n",
       "Experimental             0.94      0.53      0.82             0.34   \n",
       "GAFF v1.7                0.53      0.86      0.54             0.59   \n",
       "GAFF v2.1                0.82      0.54      0.96             0.37   \n",
       "SMIRNOFF99Frosst         0.34      0.59      0.37             0.74   \n",
       "\n",
       "                     R**2 SEM                                       \n",
       "y                Experimental GAFF v1.7 GAFF v2.1 SMIRNOFF99Frosst  \n",
       "x                                                                   \n",
       "Experimental             0.08      0.10      0.08             0.11  \n",
       "GAFF v1.7                0.10      0.04      0.10             0.11  \n",
       "GAFF v2.1                0.08      0.10      0.01             0.11  \n",
       "SMIRNOFF99Frosst         0.11      0.12      0.11             0.09  "
      ]
     },
     "execution_count": 9,
     "metadata": {},
     "output_type": "execute_result"
    }
   ],
   "source": [
    "pd.options.display.float_format = '{:,.2f}'.format\n",
    "delta_G_r_squared_pivot"
   ]
  },
  {
   "cell_type": "code",
   "execution_count": 10,
   "metadata": {
    "ExecuteTime": {
     "end_time": "2019-02-01T23:07:10.071291Z",
     "start_time": "2019-02-01T23:07:10.004327Z"
    },
    "scrolled": true
   },
   "outputs": [
    {
     "data": {
      "text/html": [
       "<div>\n",
       "<style scoped>\n",
       "    .dataframe tbody tr th:only-of-type {\n",
       "        vertical-align: middle;\n",
       "    }\n",
       "\n",
       "    .dataframe tbody tr th {\n",
       "        vertical-align: top;\n",
       "    }\n",
       "\n",
       "    .dataframe thead tr th {\n",
       "        text-align: left;\n",
       "    }\n",
       "\n",
       "    .dataframe thead tr:last-of-type th {\n",
       "        text-align: right;\n",
       "    }\n",
       "</style>\n",
       "<table border=\"1\" class=\"dataframe\">\n",
       "  <thead>\n",
       "    <tr>\n",
       "      <th></th>\n",
       "      <th colspan=\"4\" halign=\"left\">RMSE</th>\n",
       "      <th colspan=\"4\" halign=\"left\">RMSE SEM</th>\n",
       "    </tr>\n",
       "    <tr>\n",
       "      <th>y</th>\n",
       "      <th>Experimental</th>\n",
       "      <th>GAFF v1.7</th>\n",
       "      <th>GAFF v2.1</th>\n",
       "      <th>SMIRNOFF99Frosst</th>\n",
       "      <th>Experimental</th>\n",
       "      <th>GAFF v1.7</th>\n",
       "      <th>GAFF v2.1</th>\n",
       "      <th>SMIRNOFF99Frosst</th>\n",
       "    </tr>\n",
       "    <tr>\n",
       "      <th>x</th>\n",
       "      <th></th>\n",
       "      <th></th>\n",
       "      <th></th>\n",
       "      <th></th>\n",
       "      <th></th>\n",
       "      <th></th>\n",
       "      <th></th>\n",
       "      <th></th>\n",
       "    </tr>\n",
       "  </thead>\n",
       "  <tbody>\n",
       "    <tr>\n",
       "      <th>Experimental</th>\n",
       "      <td>0.21</td>\n",
       "      <td>0.88</td>\n",
       "      <td>1.68</td>\n",
       "      <td>0.91</td>\n",
       "      <td>0.16</td>\n",
       "      <td>0.09</td>\n",
       "      <td>0.09</td>\n",
       "      <td>0.10</td>\n",
       "    </tr>\n",
       "    <tr>\n",
       "      <th>GAFF v1.7</th>\n",
       "      <td>0.88</td>\n",
       "      <td>0.37</td>\n",
       "      <td>2.22</td>\n",
       "      <td>0.80</td>\n",
       "      <td>0.09</td>\n",
       "      <td>0.04</td>\n",
       "      <td>0.12</td>\n",
       "      <td>0.12</td>\n",
       "    </tr>\n",
       "    <tr>\n",
       "      <th>GAFF v2.1</th>\n",
       "      <td>1.68</td>\n",
       "      <td>2.23</td>\n",
       "      <td>0.29</td>\n",
       "      <td>1.89</td>\n",
       "      <td>0.09</td>\n",
       "      <td>0.12</td>\n",
       "      <td>0.03</td>\n",
       "      <td>0.13</td>\n",
       "    </tr>\n",
       "    <tr>\n",
       "      <th>SMIRNOFF99Frosst</th>\n",
       "      <td>0.91</td>\n",
       "      <td>0.79</td>\n",
       "      <td>1.90</td>\n",
       "      <td>0.46</td>\n",
       "      <td>0.11</td>\n",
       "      <td>0.11</td>\n",
       "      <td>0.14</td>\n",
       "      <td>0.07</td>\n",
       "    </tr>\n",
       "  </tbody>\n",
       "</table>\n",
       "</div>"
      ],
      "text/plain": [
       "                         RMSE                                       \\\n",
       "y                Experimental GAFF v1.7 GAFF v2.1 SMIRNOFF99Frosst   \n",
       "x                                                                    \n",
       "Experimental             0.21      0.88      1.68             0.91   \n",
       "GAFF v1.7                0.88      0.37      2.22             0.80   \n",
       "GAFF v2.1                1.68      2.23      0.29             1.89   \n",
       "SMIRNOFF99Frosst         0.91      0.79      1.90             0.46   \n",
       "\n",
       "                     RMSE SEM                                       \n",
       "y                Experimental GAFF v1.7 GAFF v2.1 SMIRNOFF99Frosst  \n",
       "x                                                                   \n",
       "Experimental             0.16      0.09      0.09             0.10  \n",
       "GAFF v1.7                0.09      0.04      0.12             0.12  \n",
       "GAFF v2.1                0.09      0.12      0.03             0.13  \n",
       "SMIRNOFF99Frosst         0.11      0.11      0.14             0.07  "
      ]
     },
     "execution_count": 10,
     "metadata": {},
     "output_type": "execute_result"
    }
   ],
   "source": [
    "delta_G_rmse_pivot"
   ]
  },
  {
   "cell_type": "code",
   "execution_count": 11,
   "metadata": {
    "ExecuteTime": {
     "end_time": "2019-02-01T23:07:10.154895Z",
     "start_time": "2019-02-01T23:07:10.072905Z"
    }
   },
   "outputs": [
    {
     "data": {
      "text/html": [
       "<div>\n",
       "<style scoped>\n",
       "    .dataframe tbody tr th:only-of-type {\n",
       "        vertical-align: middle;\n",
       "    }\n",
       "\n",
       "    .dataframe tbody tr th {\n",
       "        vertical-align: top;\n",
       "    }\n",
       "\n",
       "    .dataframe thead tr th {\n",
       "        text-align: left;\n",
       "    }\n",
       "\n",
       "    .dataframe thead tr:last-of-type th {\n",
       "        text-align: right;\n",
       "    }\n",
       "</style>\n",
       "<table border=\"1\" class=\"dataframe\">\n",
       "  <thead>\n",
       "    <tr>\n",
       "      <th></th>\n",
       "      <th colspan=\"4\" halign=\"left\">MSE</th>\n",
       "      <th colspan=\"4\" halign=\"left\">MSE SEM</th>\n",
       "    </tr>\n",
       "    <tr>\n",
       "      <th>y</th>\n",
       "      <th>Experimental</th>\n",
       "      <th>GAFF v1.7</th>\n",
       "      <th>GAFF v2.1</th>\n",
       "      <th>SMIRNOFF99Frosst</th>\n",
       "      <th>Experimental</th>\n",
       "      <th>GAFF v1.7</th>\n",
       "      <th>GAFF v2.1</th>\n",
       "      <th>SMIRNOFF99Frosst</th>\n",
       "    </tr>\n",
       "    <tr>\n",
       "      <th>x</th>\n",
       "      <th></th>\n",
       "      <th></th>\n",
       "      <th></th>\n",
       "      <th></th>\n",
       "      <th></th>\n",
       "      <th></th>\n",
       "      <th></th>\n",
       "      <th></th>\n",
       "    </tr>\n",
       "  </thead>\n",
       "  <tbody>\n",
       "    <tr>\n",
       "      <th>Experimental</th>\n",
       "      <td>0.00</td>\n",
       "      <td>0.46</td>\n",
       "      <td>-1.56</td>\n",
       "      <td>-0.01</td>\n",
       "      <td>0.00</td>\n",
       "      <td>0.46</td>\n",
       "      <td>-1.56</td>\n",
       "      <td>-0.01</td>\n",
       "    </tr>\n",
       "    <tr>\n",
       "      <th>GAFF v1.7</th>\n",
       "      <td>-0.46</td>\n",
       "      <td>-0.00</td>\n",
       "      <td>-2.01</td>\n",
       "      <td>-0.47</td>\n",
       "      <td>-0.46</td>\n",
       "      <td>-0.00</td>\n",
       "      <td>-2.01</td>\n",
       "      <td>-0.47</td>\n",
       "    </tr>\n",
       "    <tr>\n",
       "      <th>GAFF v2.1</th>\n",
       "      <td>1.56</td>\n",
       "      <td>2.02</td>\n",
       "      <td>-0.00</td>\n",
       "      <td>1.54</td>\n",
       "      <td>1.56</td>\n",
       "      <td>2.02</td>\n",
       "      <td>-0.00</td>\n",
       "      <td>1.54</td>\n",
       "    </tr>\n",
       "    <tr>\n",
       "      <th>SMIRNOFF99Frosst</th>\n",
       "      <td>0.01</td>\n",
       "      <td>0.47</td>\n",
       "      <td>-1.54</td>\n",
       "      <td>0.00</td>\n",
       "      <td>0.01</td>\n",
       "      <td>0.47</td>\n",
       "      <td>-1.54</td>\n",
       "      <td>0.00</td>\n",
       "    </tr>\n",
       "  </tbody>\n",
       "</table>\n",
       "</div>"
      ],
      "text/plain": [
       "                          MSE                                       \\\n",
       "y                Experimental GAFF v1.7 GAFF v2.1 SMIRNOFF99Frosst   \n",
       "x                                                                    \n",
       "Experimental             0.00      0.46     -1.56            -0.01   \n",
       "GAFF v1.7               -0.46     -0.00     -2.01            -0.47   \n",
       "GAFF v2.1                1.56      2.02     -0.00             1.54   \n",
       "SMIRNOFF99Frosst         0.01      0.47     -1.54             0.00   \n",
       "\n",
       "                      MSE SEM                                       \n",
       "y                Experimental GAFF v1.7 GAFF v2.1 SMIRNOFF99Frosst  \n",
       "x                                                                   \n",
       "Experimental             0.00      0.46     -1.56            -0.01  \n",
       "GAFF v1.7               -0.46     -0.00     -2.01            -0.47  \n",
       "GAFF v2.1                1.56      2.02     -0.00             1.54  \n",
       "SMIRNOFF99Frosst         0.01      0.47     -1.54             0.00  "
      ]
     },
     "execution_count": 11,
     "metadata": {},
     "output_type": "execute_result"
    }
   ],
   "source": [
    "delta_G_mse_pivot"
   ]
  },
  {
   "cell_type": "code",
   "execution_count": 12,
   "metadata": {
    "ExecuteTime": {
     "end_time": "2019-02-01T23:07:10.256346Z",
     "start_time": "2019-02-01T23:07:10.157033Z"
    }
   },
   "outputs": [
    {
     "data": {
      "text/html": [
       "<div>\n",
       "<style scoped>\n",
       "    .dataframe tbody tr th:only-of-type {\n",
       "        vertical-align: middle;\n",
       "    }\n",
       "\n",
       "    .dataframe tbody tr th {\n",
       "        vertical-align: top;\n",
       "    }\n",
       "\n",
       "    .dataframe thead tr th {\n",
       "        text-align: left;\n",
       "    }\n",
       "\n",
       "    .dataframe thead tr:last-of-type th {\n",
       "        text-align: right;\n",
       "    }\n",
       "</style>\n",
       "<table border=\"1\" class=\"dataframe\">\n",
       "  <thead>\n",
       "    <tr>\n",
       "      <th></th>\n",
       "      <th colspan=\"4\" halign=\"left\">R**2</th>\n",
       "      <th colspan=\"4\" halign=\"left\">R**2 SEM</th>\n",
       "    </tr>\n",
       "    <tr>\n",
       "      <th>y</th>\n",
       "      <th>Experimental</th>\n",
       "      <th>GAFF v1.7</th>\n",
       "      <th>GAFF v2.1</th>\n",
       "      <th>SMIRNOFF99Frosst</th>\n",
       "      <th>Experimental</th>\n",
       "      <th>GAFF v1.7</th>\n",
       "      <th>GAFF v2.1</th>\n",
       "      <th>SMIRNOFF99Frosst</th>\n",
       "    </tr>\n",
       "    <tr>\n",
       "      <th>x</th>\n",
       "      <th></th>\n",
       "      <th></th>\n",
       "      <th></th>\n",
       "      <th></th>\n",
       "      <th></th>\n",
       "      <th></th>\n",
       "      <th></th>\n",
       "      <th></th>\n",
       "    </tr>\n",
       "  </thead>\n",
       "  <tbody>\n",
       "    <tr>\n",
       "      <th>Experimental</th>\n",
       "      <td>0.99</td>\n",
       "      <td>0.39</td>\n",
       "      <td>0.75</td>\n",
       "      <td>0.44</td>\n",
       "      <td>0.01</td>\n",
       "      <td>0.12</td>\n",
       "      <td>0.08</td>\n",
       "      <td>0.12</td>\n",
       "    </tr>\n",
       "    <tr>\n",
       "      <th>GAFF v1.7</th>\n",
       "      <td>0.39</td>\n",
       "      <td>0.89</td>\n",
       "      <td>0.61</td>\n",
       "      <td>0.70</td>\n",
       "      <td>0.12</td>\n",
       "      <td>0.04</td>\n",
       "      <td>0.10</td>\n",
       "      <td>0.09</td>\n",
       "    </tr>\n",
       "    <tr>\n",
       "      <th>GAFF v2.1</th>\n",
       "      <td>0.75</td>\n",
       "      <td>0.61</td>\n",
       "      <td>0.97</td>\n",
       "      <td>0.60</td>\n",
       "      <td>0.08</td>\n",
       "      <td>0.10</td>\n",
       "      <td>0.01</td>\n",
       "      <td>0.10</td>\n",
       "    </tr>\n",
       "    <tr>\n",
       "      <th>SMIRNOFF99Frosst</th>\n",
       "      <td>0.44</td>\n",
       "      <td>0.70</td>\n",
       "      <td>0.59</td>\n",
       "      <td>0.89</td>\n",
       "      <td>0.11</td>\n",
       "      <td>0.09</td>\n",
       "      <td>0.10</td>\n",
       "      <td>0.04</td>\n",
       "    </tr>\n",
       "  </tbody>\n",
       "</table>\n",
       "</div>"
      ],
      "text/plain": [
       "                         R**2                                       \\\n",
       "y                Experimental GAFF v1.7 GAFF v2.1 SMIRNOFF99Frosst   \n",
       "x                                                                    \n",
       "Experimental             0.99      0.39      0.75             0.44   \n",
       "GAFF v1.7                0.39      0.89      0.61             0.70   \n",
       "GAFF v2.1                0.75      0.61      0.97             0.60   \n",
       "SMIRNOFF99Frosst         0.44      0.70      0.59             0.89   \n",
       "\n",
       "                     R**2 SEM                                       \n",
       "y                Experimental GAFF v1.7 GAFF v2.1 SMIRNOFF99Frosst  \n",
       "x                                                                   \n",
       "Experimental             0.01      0.12      0.08             0.12  \n",
       "GAFF v1.7                0.12      0.04      0.10             0.09  \n",
       "GAFF v2.1                0.08      0.10      0.01             0.10  \n",
       "SMIRNOFF99Frosst         0.11      0.09      0.10             0.04  "
      ]
     },
     "execution_count": 12,
     "metadata": {},
     "output_type": "execute_result"
    }
   ],
   "source": [
    "delta_H_r_squared_pivot"
   ]
  },
  {
   "cell_type": "code",
   "execution_count": 13,
   "metadata": {
    "ExecuteTime": {
     "end_time": "2019-02-01T23:07:10.350453Z",
     "start_time": "2019-02-01T23:07:10.258933Z"
    }
   },
   "outputs": [
    {
     "data": {
      "text/html": [
       "<div>\n",
       "<style scoped>\n",
       "    .dataframe tbody tr th:only-of-type {\n",
       "        vertical-align: middle;\n",
       "    }\n",
       "\n",
       "    .dataframe tbody tr th {\n",
       "        vertical-align: top;\n",
       "    }\n",
       "\n",
       "    .dataframe thead tr th {\n",
       "        text-align: left;\n",
       "    }\n",
       "\n",
       "    .dataframe thead tr:last-of-type th {\n",
       "        text-align: right;\n",
       "    }\n",
       "</style>\n",
       "<table border=\"1\" class=\"dataframe\">\n",
       "  <thead>\n",
       "    <tr>\n",
       "      <th></th>\n",
       "      <th colspan=\"4\" halign=\"left\">RMSE</th>\n",
       "      <th colspan=\"4\" halign=\"left\">RMSE SEM</th>\n",
       "    </tr>\n",
       "    <tr>\n",
       "      <th>y</th>\n",
       "      <th>Experimental</th>\n",
       "      <th>GAFF v1.7</th>\n",
       "      <th>GAFF v2.1</th>\n",
       "      <th>SMIRNOFF99Frosst</th>\n",
       "      <th>Experimental</th>\n",
       "      <th>GAFF v1.7</th>\n",
       "      <th>GAFF v2.1</th>\n",
       "      <th>SMIRNOFF99Frosst</th>\n",
       "    </tr>\n",
       "    <tr>\n",
       "      <th>x</th>\n",
       "      <th></th>\n",
       "      <th></th>\n",
       "      <th></th>\n",
       "      <th></th>\n",
       "      <th></th>\n",
       "      <th></th>\n",
       "      <th></th>\n",
       "      <th></th>\n",
       "    </tr>\n",
       "  </thead>\n",
       "  <tbody>\n",
       "    <tr>\n",
       "      <th>Experimental</th>\n",
       "      <td>0.15</td>\n",
       "      <td>2.55</td>\n",
       "      <td>2.21</td>\n",
       "      <td>1.85</td>\n",
       "      <td>0.06</td>\n",
       "      <td>0.24</td>\n",
       "      <td>0.22</td>\n",
       "      <td>0.23</td>\n",
       "    </tr>\n",
       "    <tr>\n",
       "      <th>GAFF v1.7</th>\n",
       "      <td>2.54</td>\n",
       "      <td>0.71</td>\n",
       "      <td>3.88</td>\n",
       "      <td>1.65</td>\n",
       "      <td>0.24</td>\n",
       "      <td>0.11</td>\n",
       "      <td>0.21</td>\n",
       "      <td>0.19</td>\n",
       "    </tr>\n",
       "    <tr>\n",
       "      <th>GAFF v2.1</th>\n",
       "      <td>2.20</td>\n",
       "      <td>3.88</td>\n",
       "      <td>0.44</td>\n",
       "      <td>2.96</td>\n",
       "      <td>0.23</td>\n",
       "      <td>0.22</td>\n",
       "      <td>0.05</td>\n",
       "      <td>0.23</td>\n",
       "    </tr>\n",
       "    <tr>\n",
       "      <th>SMIRNOFF99Frosst</th>\n",
       "      <td>1.86</td>\n",
       "      <td>1.65</td>\n",
       "      <td>2.97</td>\n",
       "      <td>0.75</td>\n",
       "      <td>0.22</td>\n",
       "      <td>0.17</td>\n",
       "      <td>0.23</td>\n",
       "      <td>0.12</td>\n",
       "    </tr>\n",
       "  </tbody>\n",
       "</table>\n",
       "</div>"
      ],
      "text/plain": [
       "                         RMSE                                       \\\n",
       "y                Experimental GAFF v1.7 GAFF v2.1 SMIRNOFF99Frosst   \n",
       "x                                                                    \n",
       "Experimental             0.15      2.55      2.21             1.85   \n",
       "GAFF v1.7                2.54      0.71      3.88             1.65   \n",
       "GAFF v2.1                2.20      3.88      0.44             2.96   \n",
       "SMIRNOFF99Frosst         1.86      1.65      2.97             0.75   \n",
       "\n",
       "                     RMSE SEM                                       \n",
       "y                Experimental GAFF v1.7 GAFF v2.1 SMIRNOFF99Frosst  \n",
       "x                                                                   \n",
       "Experimental             0.06      0.24      0.22             0.23  \n",
       "GAFF v1.7                0.24      0.11      0.21             0.19  \n",
       "GAFF v2.1                0.23      0.22      0.05             0.23  \n",
       "SMIRNOFF99Frosst         0.22      0.17      0.23             0.12  "
      ]
     },
     "execution_count": 13,
     "metadata": {},
     "output_type": "execute_result"
    }
   ],
   "source": [
    "delta_H_rmse_pivot"
   ]
  },
  {
   "cell_type": "code",
   "execution_count": 14,
   "metadata": {
    "ExecuteTime": {
     "end_time": "2019-02-01T23:07:10.430602Z",
     "start_time": "2019-02-01T23:07:10.352962Z"
    }
   },
   "outputs": [
    {
     "data": {
      "text/html": [
       "<div>\n",
       "<style scoped>\n",
       "    .dataframe tbody tr th:only-of-type {\n",
       "        vertical-align: middle;\n",
       "    }\n",
       "\n",
       "    .dataframe tbody tr th {\n",
       "        vertical-align: top;\n",
       "    }\n",
       "\n",
       "    .dataframe thead tr th {\n",
       "        text-align: left;\n",
       "    }\n",
       "\n",
       "    .dataframe thead tr:last-of-type th {\n",
       "        text-align: right;\n",
       "    }\n",
       "</style>\n",
       "<table border=\"1\" class=\"dataframe\">\n",
       "  <thead>\n",
       "    <tr>\n",
       "      <th></th>\n",
       "      <th colspan=\"4\" halign=\"left\">MSE</th>\n",
       "      <th colspan=\"4\" halign=\"left\">MSE SEM</th>\n",
       "    </tr>\n",
       "    <tr>\n",
       "      <th>y</th>\n",
       "      <th>Experimental</th>\n",
       "      <th>GAFF v1.7</th>\n",
       "      <th>GAFF v2.1</th>\n",
       "      <th>SMIRNOFF99Frosst</th>\n",
       "      <th>Experimental</th>\n",
       "      <th>GAFF v1.7</th>\n",
       "      <th>GAFF v2.1</th>\n",
       "      <th>SMIRNOFF99Frosst</th>\n",
       "    </tr>\n",
       "    <tr>\n",
       "      <th>x</th>\n",
       "      <th></th>\n",
       "      <th></th>\n",
       "      <th></th>\n",
       "      <th></th>\n",
       "      <th></th>\n",
       "      <th></th>\n",
       "      <th></th>\n",
       "      <th></th>\n",
       "    </tr>\n",
       "  </thead>\n",
       "  <tbody>\n",
       "    <tr>\n",
       "      <th>Experimental</th>\n",
       "      <td>0.00</td>\n",
       "      <td>1.85</td>\n",
       "      <td>-1.64</td>\n",
       "      <td>0.77</td>\n",
       "      <td>0.03</td>\n",
       "      <td>0.27</td>\n",
       "      <td>0.22</td>\n",
       "      <td>0.27</td>\n",
       "    </tr>\n",
       "    <tr>\n",
       "      <th>GAFF v1.7</th>\n",
       "      <td>-1.84</td>\n",
       "      <td>-0.00</td>\n",
       "      <td>-3.48</td>\n",
       "      <td>-1.08</td>\n",
       "      <td>0.27</td>\n",
       "      <td>0.11</td>\n",
       "      <td>0.26</td>\n",
       "      <td>0.20</td>\n",
       "    </tr>\n",
       "    <tr>\n",
       "      <th>GAFF v2.1</th>\n",
       "      <td>1.63</td>\n",
       "      <td>3.48</td>\n",
       "      <td>0.00</td>\n",
       "      <td>2.40</td>\n",
       "      <td>0.23</td>\n",
       "      <td>0.27</td>\n",
       "      <td>0.07</td>\n",
       "      <td>0.27</td>\n",
       "    </tr>\n",
       "    <tr>\n",
       "      <th>SMIRNOFF99Frosst</th>\n",
       "      <td>-0.77</td>\n",
       "      <td>1.08</td>\n",
       "      <td>-2.41</td>\n",
       "      <td>-0.00</td>\n",
       "      <td>0.26</td>\n",
       "      <td>0.19</td>\n",
       "      <td>0.27</td>\n",
       "      <td>0.11</td>\n",
       "    </tr>\n",
       "  </tbody>\n",
       "</table>\n",
       "</div>"
      ],
      "text/plain": [
       "                          MSE                                       \\\n",
       "y                Experimental GAFF v1.7 GAFF v2.1 SMIRNOFF99Frosst   \n",
       "x                                                                    \n",
       "Experimental             0.00      1.85     -1.64             0.77   \n",
       "GAFF v1.7               -1.84     -0.00     -3.48            -1.08   \n",
       "GAFF v2.1                1.63      3.48      0.00             2.40   \n",
       "SMIRNOFF99Frosst        -0.77      1.08     -2.41            -0.00   \n",
       "\n",
       "                      MSE SEM                                       \n",
       "y                Experimental GAFF v1.7 GAFF v2.1 SMIRNOFF99Frosst  \n",
       "x                                                                   \n",
       "Experimental             0.03      0.27      0.22             0.27  \n",
       "GAFF v1.7                0.27      0.11      0.26             0.20  \n",
       "GAFF v2.1                0.23      0.27      0.07             0.27  \n",
       "SMIRNOFF99Frosst         0.26      0.19      0.27             0.11  "
      ]
     },
     "execution_count": 14,
     "metadata": {},
     "output_type": "execute_result"
    }
   ],
   "source": [
    "delta_H_mse_pivot"
   ]
  },
  {
   "cell_type": "code",
   "execution_count": 15,
   "metadata": {
    "ExecuteTime": {
     "end_time": "2019-02-01T23:07:11.128405Z",
     "start_time": "2019-02-01T23:07:10.433152Z"
    }
   },
   "outputs": [
    {
     "ename": "NameError",
     "evalue": "name 'ListedColormap' is not defined",
     "output_type": "error",
     "traceback": [
      "\u001b[0;31m---------------------------------------------------------------------------\u001b[0m",
      "\u001b[0;31mNameError\u001b[0m                                 Traceback (most recent call last)",
      "\u001b[0;32m<ipython-input-15-2d7be8f11765>\u001b[0m in \u001b[0;36m<module>\u001b[0;34m()\u001b[0m\n\u001b[1;32m      1\u001b[0m \u001b[0mfig\u001b[0m\u001b[0;34m,\u001b[0m \u001b[0max\u001b[0m \u001b[0;34m=\u001b[0m \u001b[0mplt\u001b[0m\u001b[0;34m.\u001b[0m\u001b[0msubplots\u001b[0m\u001b[0;34m(\u001b[0m\u001b[0;36m1\u001b[0m\u001b[0;34m,\u001b[0m \u001b[0;36m1\u001b[0m\u001b[0;34m,\u001b[0m \u001b[0mfigsize\u001b[0m\u001b[0;34m=\u001b[0m\u001b[0;34m(\u001b[0m\u001b[0;36m6\u001b[0m\u001b[0;34m,\u001b[0m \u001b[0;36m6\u001b[0m\u001b[0;34m)\u001b[0m\u001b[0;34m)\u001b[0m\u001b[0;34m\u001b[0m\u001b[0m\n\u001b[1;32m      2\u001b[0m sns.heatmap(delta_G_r_squared_pivot[\"R**2\"], annot=True, fmt=\".2f\", square=True, ax=ax, \n\u001b[0;32m----> 3\u001b[0;31m             \u001b[0mcmap\u001b[0m\u001b[0;34m=\u001b[0m\u001b[0mListedColormap\u001b[0m\u001b[0;34m(\u001b[0m\u001b[0;34m[\u001b[0m\u001b[0;34m'white'\u001b[0m\u001b[0;34m]\u001b[0m\u001b[0;34m)\u001b[0m\u001b[0;34m,\u001b[0m\u001b[0;34m\u001b[0m\u001b[0m\n\u001b[0m\u001b[1;32m      4\u001b[0m             cbar=False, annot_kws={\"size\": 20})\n\u001b[1;32m      5\u001b[0m \u001b[0max\u001b[0m\u001b[0;34m.\u001b[0m\u001b[0mset_xlabel\u001b[0m\u001b[0;34m(\u001b[0m\u001b[0;34m\"\"\u001b[0m\u001b[0;34m)\u001b[0m\u001b[0;34m\u001b[0m\u001b[0m\n",
      "\u001b[0;31mNameError\u001b[0m: name 'ListedColormap' is not defined"
     ]
    },
    {
     "data": {
      "image/png": "[encoded data removed]",
      "text/plain": [
       "<matplotlib.figure.Figure at 0x7f40f4bf3160>"
      ]
     },
     "metadata": {},
     "output_type": "display_data"
    }
   ],
   "source": [
    "fig, ax = plt.subplots(1, 1, figsize=(6, 6))\n",
    "sns.heatmap(delta_G_r_squared_pivot[\"R**2\"], annot=True, fmt=\".2f\", square=True, ax=ax, \n",
    "            cmap=ListedColormap(['white']), \n",
    "            cbar=False, annot_kws={\"size\": 20})\n",
    "ax.set_xlabel(\"\")\n",
    "ax.set_ylabel(\"\")\n",
    "ax.set_title(\"$\\Delta G$: R$^2$ cross correlation\")\n",
    "\n",
    "fig, ax = plt.subplots(1, 1, figsize=(6, 6))\n",
    "sns.heatmap(delta_G_rmse_pivot[\"RMSE\"], annot=True, fmt=\".2f\", square=True, ax=ax,\n",
    "            cmap=ListedColormap(['white']), \n",
    "            cbar=False, annot_kws={\"size\": 20})\n",
    "ax.set_xlabel(\"\")\n",
    "ax.set_ylabel(\"\")\n",
    "ax.set_title(\"$\\Delta G$: RMSE cross correlation\")\n",
    "\n",
    "\n",
    "fig, ax = plt.subplots(1, 1, figsize=(6, 6))\n",
    "sns.heatmap(delta_G_mse_pivot[\"MSE\"], annot=True, fmt=\".2f\", square=True, ax=ax, cmap=sns.color_palette(\"RdBu_r\"), cbar=False, annot_kws={\"size\": 20})\n",
    "ax.set_xlabel(\"\")\n",
    "ax.set_ylabel(\"\")\n",
    "ax.set_title(\"$\\Delta G$: MSE cross correlation\")"
   ]
  },
  {
   "cell_type": "code",
   "execution_count": null,
   "metadata": {
    "ExecuteTime": {
     "end_time": "2019-02-01T23:07:11.130006Z",
     "start_time": "2019-02-01T23:04:23.388Z"
    }
   },
   "outputs": [],
   "source": [
    "from matplotlib.colors import ListedColormap\n",
    "fig, ax = plt.subplots(1, 1, figsize=(6, 6))\n",
    "sns.heatmap(delta_H_r_squared_pivot[\"R**2\"], annot=True, fmt=\".2f\", square=True, ax=ax, cmap=ListedColormap(['white']), \n",
    "            cbar=False, annot_kws={\"size\": 20})\n",
    "ax.set_xlabel(\"\")\n",
    "ax.set_ylabel(\"\")\n",
    "ax.set_title(\"$\\Delta H$: R$^2$ cross correlation\")\n",
    "\n",
    "fig, ax = plt.subplots(1, 1, figsize=(6, 6))\n",
    "sns.heatmap(delta_H_rmse_pivot[\"RMSE\"], annot=True, fmt=\".2f\", square=True, ax=ax, cmap=ListedColormap(['white']), \n",
    "            cbar=False, annot_kws={\"size\": 20})\n",
    "ax.set_xlabel(\"\")\n",
    "ax.set_ylabel(\"\")\n",
    "ax.set_title(\"$\\Delta H$: RMSE cross correlation\")\n",
    "\n",
    "\n",
    "fig, ax = plt.subplots(1, 1, figsize=(6, 6))\n",
    "sns.heatmap(delta_H_mse_pivot[\"MSE\"], annot=True, fmt=\".2f\", square=True, ax=ax, cmap=sns.color_palette(\"RdBu_r\"), \n",
    "            cbar=False, annot_kws={\"size\": 20})\n",
    "ax.set_xlabel(\"\")\n",
    "ax.set_ylabel(\"\")\n",
    "ax.set_title(\"$\\Delta H$: MSE cross correlation\")"
   ]
  },
  {
   "cell_type": "code",
   "execution_count": null,
   "metadata": {
    "ExecuteTime": {
     "end_time": "2019-02-01T23:07:11.131711Z",
     "start_time": "2019-02-01T23:04:23.731Z"
    }
   },
   "outputs": [],
   "source": [
    "r_squared = pd.DataFrame()\n",
    "rmse = pd.DataFrame()\n",
    "\n",
    "for index_i, i in enumerate(data_sets):\n",
    "    for index_j, j in enumerate(data_sets):\n",
    "                    \n",
    "        # This seems the most reliable way of matching keys. Took a little while to figure out,\n",
    "        # even if the data frames are ordered properly.\n",
    "        df = i.merge(j, on=[\"System\"], suffixes=(\"_i\", \"_j\"))    \n",
    "            \n",
    "        results = bootstrap(df[\"Delta H_i\"], df[\"H_SEM_i\"], df[\"Delta H_j\"], df[\"H_SEM_j\"], cycles=1000)\n",
    "        print(f\"{names[index_i]} -- {names[index_j]} {results['mean']['R**2']}\")\n",
    "        \n",
    "        \n",
    "        r_squared = r_squared.append(\n",
    "            {\n",
    "                \"x\": names[index_i],\n",
    "                \"y\": names[index_j],\n",
    "                \"R**2\": results[\"mean\"][\"R**2\"]\n",
    "            },\n",
    "            ignore_index=True,\n",
    "        )\n",
    "        \n",
    "        rmse = rmse.append(\n",
    "            {\n",
    "                \"x\": names[index_i],\n",
    "                \"y\": names[index_j],\n",
    "                \"RMSE\": results[\"mean\"][\"RMSE\"]\n",
    "            },\n",
    "            ignore_index=True,\n",
    "        )\n"
   ]
  },
  {
   "cell_type": "code",
   "execution_count": null,
   "metadata": {
    "ExecuteTime": {
     "end_time": "2019-02-01T23:07:11.133323Z",
     "start_time": "2019-02-01T23:04:24.284Z"
    }
   },
   "outputs": [],
   "source": [
    "r_squared_pivot = r_squared.pivot(columns=\"y\", index=\"x\", values=\"R**2\")\n",
    "rmse_pivot = rmse.pivot(columns=\"y\", index=\"x\", values=\"RMSE\")"
   ]
  },
  {
   "cell_type": "code",
   "execution_count": null,
   "metadata": {
    "ExecuteTime": {
     "end_time": "2019-02-01T23:07:11.134332Z",
     "start_time": "2019-02-01T23:04:24.525Z"
    }
   },
   "outputs": [],
   "source": [
    "fig, ax = plt.subplots(1, 1, figsize=(6, 6))\n",
    "sns.heatmap(r_squared_pivot, annot=True, fmt=\".2f\", square=True, ax=ax, cmap=sns.light_palette(\"blue\"), cbar=False)\n",
    "ax.set_xlabel(\"\")\n",
    "ax.set_ylabel(\"\")\n",
    "ax.set_title(\"$\\Delta H$: R$^2$ cross correlation\")\n",
    "\n",
    "fig, ax = plt.subplots(1, 1, figsize=(6, 6))\n",
    "sns.heatmap(rmse_pivot, annot=True, fmt=\".2f\", square=True, ax=ax, cmap=sns.light_palette(\"green\"), cbar=False)\n",
    "ax.set_xlabel(\"\")\n",
    "ax.set_ylabel(\"\")\n",
    "ax.set_title(\"$\\Delta H$: RMSE cross correlation\")"
   ]
  },
  {
   "cell_type": "code",
   "execution_count": 16,
   "metadata": {
    "ExecuteTime": {
     "end_time": "2019-02-01T23:09:28.815662Z",
     "start_time": "2019-02-01T23:08:33.698684Z"
    }
   },
   "outputs": [],
   "source": [
    "df = experimental.merge(smirnoff_combined, on=[\"System\"], suffixes=(\"_i\", \"_j\"))    \n",
    "results = bootstrap(df[\"Delta G_i\"], df[\"G_SEM_i\"], df[\"Delta G_j\"], df[\"G_SEM_j\"], cycles=10000)\n"
   ]
  },
  {
   "cell_type": "code",
   "execution_count": 17,
   "metadata": {
    "ExecuteTime": {
     "end_time": "2019-02-01T23:09:28.855140Z",
     "start_time": "2019-02-01T23:09:28.817489Z"
    }
   },
   "outputs": [
    {
     "name": "stdout",
     "output_type": "stream",
     "text": [
      "0.91 ± 0.11\n",
      "-0.01 ± 0.14\n",
      "0.34 ± 0.11\n",
      "0.49 ± 0.12\n",
      "-1.55 ± 0.38"
     ]
    }
   ],
   "source": [
    "def pretty_print(results):\n",
    "    print(f\"{results['mean']['RMSE']:2.2f} ± {results['sem']['RMSE']:2.2f}\", end=\"\")\n",
    "    print(\"\\n\", end=\"\")\n",
    "    print(f\"{results['mean']['MSE']:2.2f} ± {results['sem']['MSE']:2.2f}\", end=\"\")\n",
    "    print(\"\\n\", end=\"\")\n",
    "    print(f\"{results['mean']['R**2']:2.2f} ± {results['sem']['R**2']:2.2f}\", end=\"\")\n",
    "    print(\"\\n\", end=\"\")\n",
    "    print(f\"{results['mean']['slope']:2.2f} ± {results['sem']['slope']:2.2f}\", end=\"\")\n",
    "    print(\"\\n\", end=\"\")\n",
    "    print(f\"{results['mean']['intercept']:2.2f} ± {results['sem']['intercept']:2.2f}\", end=\"\")\n",
    "\n",
    "\n",
    "pretty_print(results)"
   ]
  },
  {
   "cell_type": "code",
   "execution_count": 18,
   "metadata": {
    "ExecuteTime": {
     "end_time": "2019-02-01T23:10:23.641207Z",
     "start_time": "2019-02-01T23:09:28.856986Z"
    }
   },
   "outputs": [
    {
     "name": "stdout",
     "output_type": "stream",
     "text": [
      "0.88 ± 0.09\n",
      "0.46 ± 0.12\n",
      "0.54 ± 0.10\n",
      "0.69 ± 0.11\n",
      "-0.47 ± 0.35"
     ]
    }
   ],
   "source": [
    "df = experimental.merge(bgbg_combined, on=[\"System\"], suffixes=(\"_i\", \"_j\"))    \n",
    "results = bootstrap(df[\"Delta G_i\"], df[\"G_SEM_i\"], df[\"Delta G_j\"], df[\"G_SEM_j\"], cycles=10000)\n",
    "pretty_print(results)"
   ]
  },
  {
   "cell_type": "code",
   "execution_count": 19,
   "metadata": {
    "ExecuteTime": {
     "end_time": "2019-02-01T23:11:18.267819Z",
     "start_time": "2019-02-01T23:10:23.643534Z"
    }
   },
   "outputs": [
    {
     "name": "stdout",
     "output_type": "stream",
     "text": [
      "1.68 ± 0.08\n",
      "-1.56 ± 0.09\n",
      "0.82 ± 0.08\n",
      "1.19 ± 0.09\n",
      "-1.00 ± 0.27"
     ]
    }
   ],
   "source": [
    "df = experimental.merge(bg2bg2_combined, on=[\"System\"], suffixes=(\"_i\", \"_j\"))    \n",
    "results = bootstrap(df[\"Delta G_i\"], df[\"G_SEM_i\"], df[\"Delta G_j\"], df[\"G_SEM_j\"], cycles=10000)\n",
    "pretty_print(results)"
   ]
  },
  {
   "cell_type": "code",
   "execution_count": 20,
   "metadata": {
    "ExecuteTime": {
     "end_time": "2019-02-01T23:12:14.022471Z",
     "start_time": "2019-02-01T23:11:18.269605Z"
    }
   },
   "outputs": [
    {
     "name": "stdout",
     "output_type": "stream",
     "text": [
      "1.85 ± 0.23\n",
      "0.76 ± 0.26\n",
      "0.44 ± 0.12\n",
      "0.84 ± 0.16\n",
      "0.40 ± 0.52"
     ]
    }
   ],
   "source": [
    "df = experimental.merge(smirnoff_combined, on=[\"System\"], suffixes=(\"_i\", \"_j\"))    \n",
    "results = bootstrap(df[\"Delta H_i\"], df[\"H_SEM_i\"], df[\"Delta H_j\"], df[\"H_SEM_j\"], cycles=10000)\n",
    "pretty_print(results)"
   ]
  },
  {
   "cell_type": "code",
   "execution_count": 21,
   "metadata": {
    "ExecuteTime": {
     "end_time": "2019-02-01T23:13:07.926159Z",
     "start_time": "2019-02-01T23:12:14.024284Z"
    }
   },
   "outputs": [
    {
     "name": "stdout",
     "output_type": "stream",
     "text": [
      "2.54 ± 0.24\n",
      "1.85 ± 0.27\n",
      "0.39 ± 0.12\n",
      "0.80 ± 0.18\n",
      "1.37 ± 0.60"
     ]
    }
   ],
   "source": [
    "df = experimental.merge(bgbg_combined, on=[\"System\"], suffixes=(\"_i\", \"_j\"))    \n",
    "results = bootstrap(df[\"Delta H_i\"], df[\"H_SEM_i\"], df[\"Delta H_j\"], df[\"H_SEM_j\"], cycles=10000)\n",
    "pretty_print(results)"
   ]
  },
  {
   "cell_type": "code",
   "execution_count": 26,
   "metadata": {
    "ExecuteTime": {
     "end_time": "2019-02-01T23:16:50.625150Z",
     "start_time": "2019-02-01T23:15:53.175087Z"
    }
   },
   "outputs": [
    {
     "name": "stdout",
     "output_type": "stream",
     "text": [
      "2.21 ± 0.22\n",
      "-1.64 ± 0.23\n",
      "0.76 ± 0.08\n",
      "1.38 ± 0.12\n",
      "-0.69 ± 0.40"
     ]
    }
   ],
   "source": [
    "df = experimental.merge(bg2bg2_combined, on=[\"System\"], suffixes=(\"_i\", \"_j\"))    \n",
    "results = bootstrap(df[\"Delta H_i\"], df[\"H_SEM_i\"], df[\"Delta H_j\"], df[\"H_SEM_j\"], cycles=10000)\n",
    "pretty_print(results)"
   ]
  },
  {
   "cell_type": "markdown",
   "metadata": {},
   "source": [
    "# Entropy"
   ]
  },
  {
   "cell_type": "code",
   "execution_count": 22,
   "metadata": {
    "ExecuteTime": {
     "end_time": "2019-02-01T23:13:08.086448Z",
     "start_time": "2019-02-01T23:13:07.928236Z"
    }
   },
   "outputs": [],
   "source": [
    "smirnoff_combined[\"-TdS\"] = smirnoff_combined[\"Delta G\"] - smirnoff_combined[\"Delta H\"]\n",
    "smirnoff_combined[\"-TdS_SEM\"] = np.sqrt(smirnoff_combined[\"G_SEM\"]**2 + smirnoff_combined[\"H_SEM\"]**2)\n",
    "\n",
    "bgbg_combined[\"-TdS\"] = bgbg_combined[\"Delta G\"] - bgbg_combined[\"Delta H\"]\n",
    "bgbg_combined[\"-TdS_SEM\"] = np.sqrt(bgbg_combined[\"G_SEM\"]**2 + bgbg_combined[\"H_SEM\"]**2)\n",
    "\n",
    "bg2bg2_combined[\"-TdS\"] = bg2bg2_combined[\"Delta G\"] - bg2bg2_combined[\"Delta H\"]\n",
    "bg2bg2_combined[\"-TdS_SEM\"] = np.sqrt(bg2bg2_combined[\"G_SEM\"]**2 + bg2bg2_combined[\"H_SEM\"]**2)\n",
    "\n",
    "experimental[\"-TdS\"] = experimental[\"Delta G\"] - experimental[\"Delta H\"]\n",
    "experimental[\"-TdS_SEM\"] = np.sqrt(experimental[\"G_SEM\"]**2 + experimental[\"H_SEM\"]**2)"
   ]
  },
  {
   "cell_type": "code",
   "execution_count": 23,
   "metadata": {
    "ExecuteTime": {
     "end_time": "2019-02-01T23:14:03.620769Z",
     "start_time": "2019-02-01T23:13:08.088441Z"
    }
   },
   "outputs": [
    {
     "name": "stdout",
     "output_type": "stream",
     "text": [
      "2.21 ± 0.24\n",
      "-1.38 ± 0.27\n",
      "0.43 ± 0.13\n",
      "0.95 ± 0.21\n",
      "-1.41 ± 0.24"
     ]
    }
   ],
   "source": [
    "df = experimental.merge(bgbg_combined, on=[\"System\"], suffixes=(\"_i\", \"_j\"))    \n",
    "results = bootstrap(df[\"-TdS_i\"], df[\"-TdS_SEM_i\"], df[\"-TdS_j\"], df[\"-TdS_SEM_j\"], cycles=10000)\n",
    "pretty_print(results)"
   ]
  },
  {
   "cell_type": "code",
   "execution_count": 24,
   "metadata": {
    "ExecuteTime": {
     "end_time": "2019-02-01T23:14:57.554854Z",
     "start_time": "2019-02-01T23:14:03.622564Z"
    }
   },
   "outputs": [
    {
     "name": "stdout",
     "output_type": "stream",
     "text": [
      "1.90 ± 0.21\n",
      "-0.78 ± 0.26\n",
      "0.40 ± 0.13\n",
      "0.90 ± 0.20\n",
      "-0.83 ± 0.25"
     ]
    }
   ],
   "source": [
    "df = experimental.merge(smirnoff_combined, on=[\"System\"], suffixes=(\"_i\", \"_j\"))    \n",
    "results = bootstrap(df[\"-TdS_i\"], df[\"-TdS_SEM_i\"], df[\"-TdS_j\"], df[\"-TdS_SEM_j\"], cycles=10000)\n",
    "pretty_print(results)"
   ]
  },
  {
   "cell_type": "code",
   "execution_count": 25,
   "metadata": {
    "ExecuteTime": {
     "end_time": "2019-02-01T23:15:53.173374Z",
     "start_time": "2019-02-01T23:14:57.556577Z"
    }
   },
   "outputs": [
    {
     "name": "stdout",
     "output_type": "stream",
     "text": [
      "1.48 ± 0.24\n",
      "0.08 ± 0.23\n",
      "0.59 ± 0.14\n",
      "1.14 ± 0.19\n",
      "0.15 ± 0.21"
     ]
    }
   ],
   "source": [
    "df = experimental.merge(bg2bg2_combined, on=[\"System\"], suffixes=(\"_i\", \"_j\"))    \n",
    "results = bootstrap(df[\"-TdS_i\"], df[\"-TdS_SEM_i\"], df[\"-TdS_j\"], df[\"-TdS_SEM_j\"], cycles=10000)\n",
    "pretty_print(results)"
   ]
  },
  {
   "cell_type": "code",
   "execution_count": null,
   "metadata": {},
   "outputs": [],
   "source": []
  }
 ],
 "metadata": {
  "kernelspec": {
   "display_name": "Python [default]",
   "language": "python",
   "name": "python3"
  },
  "language_info": {
   "codemirror_mode": {
    "name": "ipython",
    "version": 3
   },
   "file_extension": ".py",
   "mimetype": "text/x-python",
   "name": "python",
   "nbconvert_exporter": "python",
   "pygments_lexer": "ipython3",
   "version": "3.6.4"
  }
 },
 "nbformat": 4,
 "nbformat_minor": 2
}
