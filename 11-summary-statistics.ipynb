{
 "cells": [
  {
   "cell_type": "code",
   "execution_count": 2,
   "metadata": {
    "ExecuteTime": {
     "end_time": "2019-01-07T01:40:39.202614Z",
     "start_time": "2019-01-07T01:40:38.292995Z"
    }
   },
   "outputs": [
    {
     "name": "stderr",
     "output_type": "stream",
     "text": [
      "/home/dslochower/data/applications/anaconda3/lib/python3.6/importlib/_bootstrap.py:219: RuntimeWarning: numpy.dtype size changed, may indicate binary incompatibility. Expected 96, got 88\n",
      "  return f(*args, **kwds)\n",
      "/home/dslochower/data/applications/anaconda3/lib/python3.6/importlib/_bootstrap.py:219: RuntimeWarning: numpy.dtype size changed, may indicate binary incompatibility. Expected 96, got 88\n",
      "  return f(*args, **kwds)\n",
      "/home/dslochower/data/applications/anaconda3/lib/python3.6/importlib/_bootstrap.py:219: RuntimeWarning: numpy.dtype size changed, may indicate binary incompatibility. Expected 96, got 88\n",
      "  return f(*args, **kwds)\n"
     ]
    }
   ],
   "source": [
    "import pandas as pd\n",
    "import scipy as sc\n",
    "import numpy as np\n",
    "import os\n",
    "\n",
    "\n",
    "import matplotlib as mpl\n",
    "import matplotlib.pyplot as plt\n",
    "from matplotlib.gridspec import GridSpec\n",
    "from matplotlib.colors import colorConverter\n",
    "import seaborn as sns\n",
    "\n",
    "%load_ext autoreload\n",
    "%autoreload 2\n",
    "%load_ext blackcellmagic\n",
    "%matplotlib inline"
   ]
  },
  {
   "cell_type": "code",
   "execution_count": 3,
   "metadata": {
    "ExecuteTime": {
     "end_time": "2019-01-07T01:40:39.260685Z",
     "start_time": "2019-01-07T01:40:39.204298Z"
    }
   },
   "outputs": [],
   "source": [
    "from constants import guest_types\n",
    "from constants import colors\n",
    "from bootstrap import bootstrap\n",
    "from bootstrap import thermodynamic_bootstrap\n",
    "import plotting"
   ]
  },
  {
   "cell_type": "code",
   "execution_count": 4,
   "metadata": {
    "ExecuteTime": {
     "end_time": "2019-01-07T01:40:39.314617Z",
     "start_time": "2019-01-07T01:40:39.263249Z"
    }
   },
   "outputs": [],
   "source": [
    "from constants import experimental_deltaG\n",
    "from constants import experimental_deltaH\n",
    "from constants import systems"
   ]
  },
  {
   "cell_type": "markdown",
   "metadata": {},
   "source": [
    "# Calculate or load in the summary results\n",
    "\n",
    "Perhaps I should have done this in another notebook, but I didn't think of it earlier, so it's going here."
   ]
  },
  {
   "cell_type": "markdown",
   "metadata": {
    "ExecuteTime": {
     "end_time": "2018-12-17T18:29:01.944062Z",
     "start_time": "2018-12-17T18:29:01.916324Z"
    }
   },
   "source": [
    "** Nope, I actually got around to extracting this to `summarize.py`.**"
   ]
  },
  {
   "cell_type": "code",
   "execution_count": 5,
   "metadata": {
    "ExecuteTime": {
     "end_time": "2019-01-07T01:40:43.761421Z",
     "start_time": "2019-01-07T01:40:43.660354Z"
    }
   },
   "outputs": [],
   "source": [
    "bgbg = pd.read_csv(\"results/bgbg_tip3p_by_orientation.csv\")\n",
    "bgbg_combined = pd.read_csv(\"results/bgbg_tip3p_combined.csv\")\n",
    "\n",
    "bg2bg2 = pd.read_csv(\"results/bg2bg2_tip3p_by_orientation.csv\")\n",
    "bg2bg2_combined = pd.read_csv(\"results/bg2bg2_tip3p_combined.csv\")\n",
    "\n",
    "smirnoff = pd.read_csv(\"results/smirnoff_by_orientation.csv\")\n",
    "smirnoff_combined = pd.read_csv(\"results/smirnoff_combined.csv\")\n",
    "\n",
    "experimental = pd.read_csv(\"results/experimental.csv\")"
   ]
  },
  {
   "cell_type": "code",
   "execution_count": 11,
   "metadata": {
    "ExecuteTime": {
     "end_time": "2018-12-18T01:09:39.924764Z",
     "start_time": "2018-12-18T01:09:39.894477Z"
    }
   },
   "outputs": [],
   "source": [
    "data_sets = [bgbg_combined, bg2bg2_combined, smirnoff_combined, experimental]\n",
    "names = [\"GAFF v1.7\", \"GAFF v2.1\", \"SMIRNOFF99Frosst\", \"Experimental\"]"
   ]
  },
  {
   "cell_type": "code",
   "execution_count": 12,
   "metadata": {
    "ExecuteTime": {
     "end_time": "2018-12-18T01:09:40.069640Z",
     "start_time": "2018-12-18T01:09:40.036848Z"
    }
   },
   "outputs": [],
   "source": [
    "from itertools import permutations"
   ]
  },
  {
   "cell_type": "code",
   "execution_count": 213,
   "metadata": {
    "ExecuteTime": {
     "end_time": "2018-12-18T17:45:27.498006Z",
     "start_time": "2018-12-18T17:42:54.889227Z"
    }
   },
   "outputs": [
    {
     "name": "stdout",
     "output_type": "stream",
     "text": [
      "GAFF v1.7 -- GAFF v1.7 0.9029389070340694\n",
      "GAFF v1.7 -- GAFF v1.7 0.8870297123398293\n",
      "GAFF v1.7 -- GAFF v2.1 0.6215628262373905\n",
      "GAFF v1.7 -- GAFF v2.1 0.572614002295077\n",
      "GAFF v1.7 -- SMIRNOFF99Frosst 0.7307554171130589\n",
      "GAFF v1.7 -- SMIRNOFF99Frosst 0.5490067691073677\n",
      "GAFF v1.7 -- Experimental 0.6092692508145672\n",
      "GAFF v1.7 -- Experimental 0.3722141404358595\n",
      "GAFF v2.1 -- GAFF v1.7 0.6210568793240205\n",
      "GAFF v2.1 -- GAFF v1.7 0.5861026884151318\n",
      "GAFF v2.1 -- GAFF v2.1 0.9743495073567466\n",
      "GAFF v2.1 -- GAFF v2.1 0.9816211195742012\n",
      "GAFF v2.1 -- SMIRNOFF99Frosst 0.46564359600719774\n",
      "GAFF v2.1 -- SMIRNOFF99Frosst 0.5877729650633315\n",
      "GAFF v2.1 -- Experimental 0.7073047040493958\n",
      "GAFF v2.1 -- Experimental 0.7474048715958704\n",
      "SMIRNOFF99Frosst -- GAFF v1.7 0.73337985481411\n",
      "SMIRNOFF99Frosst -- GAFF v1.7 0.5500287412281553\n",
      "SMIRNOFF99Frosst -- GAFF v2.1 0.47037185986904784\n",
      "SMIRNOFF99Frosst -- GAFF v2.1 0.5817587262400232\n",
      "SMIRNOFF99Frosst -- SMIRNOFF99Frosst 0.8875183607894953\n",
      "SMIRNOFF99Frosst -- SMIRNOFF99Frosst 0.9060120650260621\n",
      "SMIRNOFF99Frosst -- Experimental 0.5206603736534939\n",
      "SMIRNOFF99Frosst -- Experimental 0.414366413029707\n",
      "Experimental -- GAFF v1.7 0.6078014427137645\n",
      "Experimental -- GAFF v1.7 0.37294088024647887\n",
      "Experimental -- GAFF v2.1 0.7085317174675431\n",
      "Experimental -- GAFF v2.1 0.7427030541200834\n",
      "Experimental -- SMIRNOFF99Frosst 0.5299018063301494\n",
      "Experimental -- SMIRNOFF99Frosst 0.4071892280039334\n",
      "Experimental -- Experimental 0.9416991447772778\n",
      "Experimental -- Experimental 0.992639276673418\n"
     ]
    }
   ],
   "source": [
    "delta_G_r_squared = pd.DataFrame()\n",
    "delta_G_rmse = pd.DataFrame()\n",
    "delta_G_mse = pd.DataFrame()\n",
    "\n",
    "delta_H_r_squared = pd.DataFrame()\n",
    "delta_H_rmse = pd.DataFrame()\n",
    "delta_H_mse = pd.DataFrame()\n",
    "\n",
    "for index_i, i in enumerate(data_sets):\n",
    "    for index_j, j in enumerate(data_sets):\n",
    "                    \n",
    "        # This seems the most reliable way of matching keys. Took a little while to figure out,\n",
    "        # even if the data frames are ordered properly.\n",
    "        df = i.merge(j, on=[\"System\"], suffixes=(\"_i\", \"_j\"))    \n",
    "        \n",
    "        results = bootstrap(df[\"Delta G_i\"], df[\"G_SEM_i\"], df[\"Delta G_j\"], df[\"G_SEM_j\"], cycles=1000)\n",
    "        print(f\"{names[index_i]} -- {names[index_j]} {results['mean']['R**2']}\")\n",
    "\n",
    "\n",
    "        delta_G_r_squared = delta_G_r_squared.append(\n",
    "            {\n",
    "                \"x\": names[index_i],\n",
    "                \"y\": names[index_j],\n",
    "                \"R**2\": results[\"mean\"][\"R**2\"],\n",
    "                \"R**2 SEM\": results[\"sem\"][\"R**2\"]\n",
    "            },\n",
    "            ignore_index=True,\n",
    "        )\n",
    "\n",
    "        delta_G_rmse = delta_G_rmse.append(\n",
    "            {\n",
    "                \"x\": names[index_i],\n",
    "                \"y\": names[index_j],\n",
    "                \"RMSE\": results[\"mean\"][\"RMSE\"],\n",
    "                \"RMSE SEM\": results[\"sem\"][\"RMSE\"]\n",
    "            },\n",
    "            ignore_index=True,\n",
    "        )\n",
    "\n",
    "        delta_G_mse = delta_G_mse.append(\n",
    "            {\n",
    "                \"x\": names[index_i],\n",
    "                \"y\": names[index_j],\n",
    "                \"MSE\": results[\"mean\"][\"MSE\"],\n",
    "                \"MSE SEM\": results[\"mean\"][\"MSE\"]\n",
    "            },\n",
    "            ignore_index=True,\n",
    "        )\n",
    "        \n",
    "        results = bootstrap(df[\"Delta H_i\"], df[\"H_SEM_i\"], df[\"Delta H_j\"], df[\"H_SEM_j\"], cycles=1000)\n",
    "        print(f\"{names[index_i]} -- {names[index_j]} {results['mean']['R**2']}\")\n",
    "        \n",
    "        delta_H_r_squared = delta_H_r_squared.append(\n",
    "            {\n",
    "                \"x\": names[index_i],\n",
    "                \"y\": names[index_j],\n",
    "                \"R**2\": results[\"mean\"][\"R**2\"],\n",
    "                \"R**2 SEM\": results[\"sem\"][\"R**2\"]\n",
    "                \n",
    "            },\n",
    "            ignore_index=True,\n",
    "        )\n",
    "\n",
    "        delta_H_rmse = delta_H_rmse.append(\n",
    "            {\n",
    "                \"x\": names[index_i],\n",
    "                \"y\": names[index_j],\n",
    "                \"RMSE\": results[\"mean\"][\"RMSE\"],\n",
    "                \"RMSE SEM\": results[\"sem\"][\"RMSE\"]\n",
    "            },\n",
    "            ignore_index=True,\n",
    "        )\n",
    "\n",
    "        delta_H_mse = delta_H_mse.append(\n",
    "            {\n",
    "                \"x\": names[index_i],\n",
    "                \"y\": names[index_j],\n",
    "                \"MSE\": results[\"mean\"][\"MSE\"],\n",
    "                \"MSE SEM\": results[\"sem\"][\"MSE\"]\n",
    "            },\n",
    "            ignore_index=True,\n",
    "        )\n"
   ]
  },
  {
   "cell_type": "code",
   "execution_count": 217,
   "metadata": {
    "ExecuteTime": {
     "end_time": "2018-12-18T17:45:33.067371Z",
     "start_time": "2018-12-18T17:45:33.010495Z"
    }
   },
   "outputs": [],
   "source": [
    "delta_G_r_squared_pivot = delta_G_r_squared.pivot(columns=\"y\", index=\"x\")\n",
    "delta_G_rmse_pivot = delta_G_rmse.pivot(columns=\"y\", index=\"x\",)\n",
    "delta_G_mse_pivot = delta_G_mse.pivot(columns=\"y\", index=\"x\",)\n",
    "\n",
    "delta_H_r_squared_pivot = delta_H_r_squared.pivot(columns=\"y\", index=\"x\", )\n",
    "delta_H_rmse_pivot = delta_H_rmse.pivot(columns=\"y\", index=\"x\",)\n",
    "delta_H_mse_pivot = delta_H_mse.pivot(columns=\"y\", index=\"x\", )\n"
   ]
  },
  {
   "cell_type": "code",
   "execution_count": 232,
   "metadata": {
    "ExecuteTime": {
     "end_time": "2018-12-18T18:42:53.904636Z",
     "start_time": "2018-12-18T18:42:53.840592Z"
    }
   },
   "outputs": [
    {
     "data": {
      "text/html": [
       "<div>\n",
       "<style scoped>\n",
       "    .dataframe tbody tr th:only-of-type {\n",
       "        vertical-align: middle;\n",
       "    }\n",
       "\n",
       "    .dataframe tbody tr th {\n",
       "        vertical-align: top;\n",
       "    }\n",
       "\n",
       "    .dataframe thead tr th {\n",
       "        text-align: left;\n",
       "    }\n",
       "\n",
       "    .dataframe thead tr:last-of-type th {\n",
       "        text-align: right;\n",
       "    }\n",
       "</style>\n",
       "<table border=\"1\" class=\"dataframe\">\n",
       "  <thead>\n",
       "    <tr>\n",
       "      <th></th>\n",
       "      <th colspan=\"4\" halign=\"left\">R**2</th>\n",
       "      <th colspan=\"4\" halign=\"left\">R**2 SEM</th>\n",
       "    </tr>\n",
       "    <tr>\n",
       "      <th>y</th>\n",
       "      <th>Experimental</th>\n",
       "      <th>GAFF v1.7</th>\n",
       "      <th>GAFF v2.1</th>\n",
       "      <th>SMIRNOFF99Frosst</th>\n",
       "      <th>Experimental</th>\n",
       "      <th>GAFF v1.7</th>\n",
       "      <th>GAFF v2.1</th>\n",
       "      <th>SMIRNOFF99Frosst</th>\n",
       "    </tr>\n",
       "    <tr>\n",
       "      <th>x</th>\n",
       "      <th></th>\n",
       "      <th></th>\n",
       "      <th></th>\n",
       "      <th></th>\n",
       "      <th></th>\n",
       "      <th></th>\n",
       "      <th></th>\n",
       "      <th></th>\n",
       "    </tr>\n",
       "  </thead>\n",
       "  <tbody>\n",
       "    <tr>\n",
       "      <th>Experimental</th>\n",
       "      <td>0.94</td>\n",
       "      <td>0.61</td>\n",
       "      <td>0.71</td>\n",
       "      <td>0.53</td>\n",
       "      <td>0.08</td>\n",
       "      <td>0.08</td>\n",
       "      <td>0.07</td>\n",
       "      <td>0.11</td>\n",
       "    </tr>\n",
       "    <tr>\n",
       "      <th>GAFF v1.7</th>\n",
       "      <td>0.61</td>\n",
       "      <td>0.90</td>\n",
       "      <td>0.62</td>\n",
       "      <td>0.73</td>\n",
       "      <td>0.09</td>\n",
       "      <td>0.03</td>\n",
       "      <td>0.08</td>\n",
       "      <td>0.06</td>\n",
       "    </tr>\n",
       "    <tr>\n",
       "      <th>GAFF v2.1</th>\n",
       "      <td>0.71</td>\n",
       "      <td>0.62</td>\n",
       "      <td>0.97</td>\n",
       "      <td>0.47</td>\n",
       "      <td>0.07</td>\n",
       "      <td>0.08</td>\n",
       "      <td>0.01</td>\n",
       "      <td>0.10</td>\n",
       "    </tr>\n",
       "    <tr>\n",
       "      <th>SMIRNOFF99Frosst</th>\n",
       "      <td>0.52</td>\n",
       "      <td>0.73</td>\n",
       "      <td>0.47</td>\n",
       "      <td>0.89</td>\n",
       "      <td>0.11</td>\n",
       "      <td>0.06</td>\n",
       "      <td>0.10</td>\n",
       "      <td>0.04</td>\n",
       "    </tr>\n",
       "  </tbody>\n",
       "</table>\n",
       "</div>"
      ],
      "text/plain": [
       "                         R**2                                       \\\n",
       "y                Experimental GAFF v1.7 GAFF v2.1 SMIRNOFF99Frosst   \n",
       "x                                                                    \n",
       "Experimental             0.94      0.61      0.71             0.53   \n",
       "GAFF v1.7                0.61      0.90      0.62             0.73   \n",
       "GAFF v2.1                0.71      0.62      0.97             0.47   \n",
       "SMIRNOFF99Frosst         0.52      0.73      0.47             0.89   \n",
       "\n",
       "                     R**2 SEM                                       \n",
       "y                Experimental GAFF v1.7 GAFF v2.1 SMIRNOFF99Frosst  \n",
       "x                                                                   \n",
       "Experimental             0.08      0.08      0.07             0.11  \n",
       "GAFF v1.7                0.09      0.03      0.08             0.06  \n",
       "GAFF v2.1                0.07      0.08      0.01             0.10  \n",
       "SMIRNOFF99Frosst         0.11      0.06      0.10             0.04  "
      ]
     },
     "execution_count": 232,
     "metadata": {},
     "output_type": "execute_result"
    }
   ],
   "source": [
    "pd.options.display.float_format = '{:,.2f}'.format\n",
    "delta_G_r_squared_pivot"
   ]
  },
  {
   "cell_type": "code",
   "execution_count": 222,
   "metadata": {
    "ExecuteTime": {
     "end_time": "2018-12-18T17:45:53.782888Z",
     "start_time": "2018-12-18T17:45:53.711513Z"
    },
    "scrolled": true
   },
   "outputs": [
    {
     "data": {
      "text/html": [
       "<div>\n",
       "<style scoped>\n",
       "    .dataframe tbody tr th:only-of-type {\n",
       "        vertical-align: middle;\n",
       "    }\n",
       "\n",
       "    .dataframe tbody tr th {\n",
       "        vertical-align: top;\n",
       "    }\n",
       "\n",
       "    .dataframe thead tr th {\n",
       "        text-align: left;\n",
       "    }\n",
       "\n",
       "    .dataframe thead tr:last-of-type th {\n",
       "        text-align: right;\n",
       "    }\n",
       "</style>\n",
       "<table border=\"1\" class=\"dataframe\">\n",
       "  <thead>\n",
       "    <tr>\n",
       "      <th></th>\n",
       "      <th colspan=\"4\" halign=\"left\">RMSE</th>\n",
       "      <th colspan=\"4\" halign=\"left\">RMSE SEM</th>\n",
       "    </tr>\n",
       "    <tr>\n",
       "      <th>y</th>\n",
       "      <th>Experimental</th>\n",
       "      <th>GAFF v1.7</th>\n",
       "      <th>GAFF v2.1</th>\n",
       "      <th>SMIRNOFF99Frosst</th>\n",
       "      <th>Experimental</th>\n",
       "      <th>GAFF v1.7</th>\n",
       "      <th>GAFF v2.1</th>\n",
       "      <th>SMIRNOFF99Frosst</th>\n",
       "    </tr>\n",
       "    <tr>\n",
       "      <th>x</th>\n",
       "      <th></th>\n",
       "      <th></th>\n",
       "      <th></th>\n",
       "      <th></th>\n",
       "      <th></th>\n",
       "      <th></th>\n",
       "      <th></th>\n",
       "      <th></th>\n",
       "    </tr>\n",
       "  </thead>\n",
       "  <tbody>\n",
       "    <tr>\n",
       "      <th>Experimental</th>\n",
       "      <td>0.21</td>\n",
       "      <td>0.93</td>\n",
       "      <td>1.58</td>\n",
       "      <td>0.82</td>\n",
       "      <td>0.16</td>\n",
       "      <td>0.09</td>\n",
       "      <td>0.10</td>\n",
       "      <td>0.11</td>\n",
       "    </tr>\n",
       "    <tr>\n",
       "      <th>GAFF v1.7</th>\n",
       "      <td>0.92</td>\n",
       "      <td>0.32</td>\n",
       "      <td>2.16</td>\n",
       "      <td>0.70</td>\n",
       "      <td>0.09</td>\n",
       "      <td>0.04</td>\n",
       "      <td>0.12</td>\n",
       "      <td>0.08</td>\n",
       "    </tr>\n",
       "    <tr>\n",
       "      <th>GAFF v2.1</th>\n",
       "      <td>1.58</td>\n",
       "      <td>2.16</td>\n",
       "      <td>0.24</td>\n",
       "      <td>1.89</td>\n",
       "      <td>0.10</td>\n",
       "      <td>0.12</td>\n",
       "      <td>0.03</td>\n",
       "      <td>0.14</td>\n",
       "    </tr>\n",
       "    <tr>\n",
       "      <th>SMIRNOFF99Frosst</th>\n",
       "      <td>0.83</td>\n",
       "      <td>0.70</td>\n",
       "      <td>1.89</td>\n",
       "      <td>0.37</td>\n",
       "      <td>0.11</td>\n",
       "      <td>0.08</td>\n",
       "      <td>0.14</td>\n",
       "      <td>0.05</td>\n",
       "    </tr>\n",
       "  </tbody>\n",
       "</table>\n",
       "</div>"
      ],
      "text/plain": [
       "                         RMSE                                       \\\n",
       "y                Experimental GAFF v1.7 GAFF v2.1 SMIRNOFF99Frosst   \n",
       "x                                                                    \n",
       "Experimental             0.21      0.93      1.58             0.82   \n",
       "GAFF v1.7                0.92      0.32      2.16             0.70   \n",
       "GAFF v2.1                1.58      2.16      0.24             1.89   \n",
       "SMIRNOFF99Frosst         0.83      0.70      1.89             0.37   \n",
       "\n",
       "                     RMSE SEM                                       \n",
       "y                Experimental GAFF v1.7 GAFF v2.1 SMIRNOFF99Frosst  \n",
       "x                                                                   \n",
       "Experimental             0.16      0.09      0.10             0.11  \n",
       "GAFF v1.7                0.09      0.04      0.12             0.08  \n",
       "GAFF v2.1                0.10      0.12      0.03             0.14  \n",
       "SMIRNOFF99Frosst         0.11      0.08      0.14             0.05  "
      ]
     },
     "execution_count": 222,
     "metadata": {},
     "output_type": "execute_result"
    }
   ],
   "source": [
    "delta_G_rmse_pivot"
   ]
  },
  {
   "cell_type": "code",
   "execution_count": 223,
   "metadata": {
    "ExecuteTime": {
     "end_time": "2018-12-18T17:45:59.706740Z",
     "start_time": "2018-12-18T17:45:59.650186Z"
    }
   },
   "outputs": [
    {
     "data": {
      "text/html": [
       "<div>\n",
       "<style scoped>\n",
       "    .dataframe tbody tr th:only-of-type {\n",
       "        vertical-align: middle;\n",
       "    }\n",
       "\n",
       "    .dataframe tbody tr th {\n",
       "        vertical-align: top;\n",
       "    }\n",
       "\n",
       "    .dataframe thead tr th {\n",
       "        text-align: left;\n",
       "    }\n",
       "\n",
       "    .dataframe thead tr:last-of-type th {\n",
       "        text-align: right;\n",
       "    }\n",
       "</style>\n",
       "<table border=\"1\" class=\"dataframe\">\n",
       "  <thead>\n",
       "    <tr>\n",
       "      <th></th>\n",
       "      <th colspan=\"4\" halign=\"left\">MSE</th>\n",
       "      <th colspan=\"4\" halign=\"left\">MSE SEM</th>\n",
       "    </tr>\n",
       "    <tr>\n",
       "      <th>y</th>\n",
       "      <th>Experimental</th>\n",
       "      <th>GAFF v1.7</th>\n",
       "      <th>GAFF v2.1</th>\n",
       "      <th>SMIRNOFF99Frosst</th>\n",
       "      <th>Experimental</th>\n",
       "      <th>GAFF v1.7</th>\n",
       "      <th>GAFF v2.1</th>\n",
       "      <th>SMIRNOFF99Frosst</th>\n",
       "    </tr>\n",
       "    <tr>\n",
       "      <th>x</th>\n",
       "      <th></th>\n",
       "      <th></th>\n",
       "      <th></th>\n",
       "      <th></th>\n",
       "      <th></th>\n",
       "      <th></th>\n",
       "      <th></th>\n",
       "      <th></th>\n",
       "    </tr>\n",
       "  </thead>\n",
       "  <tbody>\n",
       "    <tr>\n",
       "      <th>Experimental</th>\n",
       "      <td>-0.00</td>\n",
       "      <td>0.61</td>\n",
       "      <td>-1.35</td>\n",
       "      <td>0.20</td>\n",
       "      <td>-0.00</td>\n",
       "      <td>0.61</td>\n",
       "      <td>-1.35</td>\n",
       "      <td>0.20</td>\n",
       "    </tr>\n",
       "    <tr>\n",
       "      <th>GAFF v1.7</th>\n",
       "      <td>-0.61</td>\n",
       "      <td>-0.00</td>\n",
       "      <td>-1.96</td>\n",
       "      <td>-0.40</td>\n",
       "      <td>-0.61</td>\n",
       "      <td>-0.00</td>\n",
       "      <td>-1.96</td>\n",
       "      <td>-0.40</td>\n",
       "    </tr>\n",
       "    <tr>\n",
       "      <th>GAFF v2.1</th>\n",
       "      <td>1.35</td>\n",
       "      <td>1.96</td>\n",
       "      <td>-0.00</td>\n",
       "      <td>1.54</td>\n",
       "      <td>1.35</td>\n",
       "      <td>1.96</td>\n",
       "      <td>-0.00</td>\n",
       "      <td>1.54</td>\n",
       "    </tr>\n",
       "    <tr>\n",
       "      <th>SMIRNOFF99Frosst</th>\n",
       "      <td>-0.20</td>\n",
       "      <td>0.41</td>\n",
       "      <td>-1.55</td>\n",
       "      <td>0.00</td>\n",
       "      <td>-0.20</td>\n",
       "      <td>0.41</td>\n",
       "      <td>-1.55</td>\n",
       "      <td>0.00</td>\n",
       "    </tr>\n",
       "  </tbody>\n",
       "</table>\n",
       "</div>"
      ],
      "text/plain": [
       "                          MSE                                       \\\n",
       "y                Experimental GAFF v1.7 GAFF v2.1 SMIRNOFF99Frosst   \n",
       "x                                                                    \n",
       "Experimental            -0.00      0.61     -1.35             0.20   \n",
       "GAFF v1.7               -0.61     -0.00     -1.96            -0.40   \n",
       "GAFF v2.1                1.35      1.96     -0.00             1.54   \n",
       "SMIRNOFF99Frosst        -0.20      0.41     -1.55             0.00   \n",
       "\n",
       "                      MSE SEM                                       \n",
       "y                Experimental GAFF v1.7 GAFF v2.1 SMIRNOFF99Frosst  \n",
       "x                                                                   \n",
       "Experimental            -0.00      0.61     -1.35             0.20  \n",
       "GAFF v1.7               -0.61     -0.00     -1.96            -0.40  \n",
       "GAFF v2.1                1.35      1.96     -0.00             1.54  \n",
       "SMIRNOFF99Frosst        -0.20      0.41     -1.55             0.00  "
      ]
     },
     "execution_count": 223,
     "metadata": {},
     "output_type": "execute_result"
    }
   ],
   "source": [
    "delta_G_mse_pivot"
   ]
  },
  {
   "cell_type": "code",
   "execution_count": 224,
   "metadata": {
    "ExecuteTime": {
     "end_time": "2018-12-18T17:46:03.358635Z",
     "start_time": "2018-12-18T17:46:03.292099Z"
    }
   },
   "outputs": [
    {
     "data": {
      "text/html": [
       "<div>\n",
       "<style scoped>\n",
       "    .dataframe tbody tr th:only-of-type {\n",
       "        vertical-align: middle;\n",
       "    }\n",
       "\n",
       "    .dataframe tbody tr th {\n",
       "        vertical-align: top;\n",
       "    }\n",
       "\n",
       "    .dataframe thead tr th {\n",
       "        text-align: left;\n",
       "    }\n",
       "\n",
       "    .dataframe thead tr:last-of-type th {\n",
       "        text-align: right;\n",
       "    }\n",
       "</style>\n",
       "<table border=\"1\" class=\"dataframe\">\n",
       "  <thead>\n",
       "    <tr>\n",
       "      <th></th>\n",
       "      <th colspan=\"4\" halign=\"left\">R**2</th>\n",
       "      <th colspan=\"4\" halign=\"left\">R**2 SEM</th>\n",
       "    </tr>\n",
       "    <tr>\n",
       "      <th>y</th>\n",
       "      <th>Experimental</th>\n",
       "      <th>GAFF v1.7</th>\n",
       "      <th>GAFF v2.1</th>\n",
       "      <th>SMIRNOFF99Frosst</th>\n",
       "      <th>Experimental</th>\n",
       "      <th>GAFF v1.7</th>\n",
       "      <th>GAFF v2.1</th>\n",
       "      <th>SMIRNOFF99Frosst</th>\n",
       "    </tr>\n",
       "    <tr>\n",
       "      <th>x</th>\n",
       "      <th></th>\n",
       "      <th></th>\n",
       "      <th></th>\n",
       "      <th></th>\n",
       "      <th></th>\n",
       "      <th></th>\n",
       "      <th></th>\n",
       "      <th></th>\n",
       "    </tr>\n",
       "  </thead>\n",
       "  <tbody>\n",
       "    <tr>\n",
       "      <th>Experimental</th>\n",
       "      <td>0.99</td>\n",
       "      <td>0.37</td>\n",
       "      <td>0.74</td>\n",
       "      <td>0.41</td>\n",
       "      <td>0.01</td>\n",
       "      <td>0.11</td>\n",
       "      <td>0.08</td>\n",
       "      <td>0.12</td>\n",
       "    </tr>\n",
       "    <tr>\n",
       "      <th>GAFF v1.7</th>\n",
       "      <td>0.37</td>\n",
       "      <td>0.89</td>\n",
       "      <td>0.57</td>\n",
       "      <td>0.55</td>\n",
       "      <td>0.11</td>\n",
       "      <td>0.05</td>\n",
       "      <td>0.11</td>\n",
       "      <td>0.12</td>\n",
       "    </tr>\n",
       "    <tr>\n",
       "      <th>GAFF v2.1</th>\n",
       "      <td>0.75</td>\n",
       "      <td>0.59</td>\n",
       "      <td>0.98</td>\n",
       "      <td>0.59</td>\n",
       "      <td>0.08</td>\n",
       "      <td>0.10</td>\n",
       "      <td>0.01</td>\n",
       "      <td>0.09</td>\n",
       "    </tr>\n",
       "    <tr>\n",
       "      <th>SMIRNOFF99Frosst</th>\n",
       "      <td>0.41</td>\n",
       "      <td>0.55</td>\n",
       "      <td>0.58</td>\n",
       "      <td>0.91</td>\n",
       "      <td>0.12</td>\n",
       "      <td>0.11</td>\n",
       "      <td>0.10</td>\n",
       "      <td>0.04</td>\n",
       "    </tr>\n",
       "  </tbody>\n",
       "</table>\n",
       "</div>"
      ],
      "text/plain": [
       "                         R**2                                       \\\n",
       "y                Experimental GAFF v1.7 GAFF v2.1 SMIRNOFF99Frosst   \n",
       "x                                                                    \n",
       "Experimental             0.99      0.37      0.74             0.41   \n",
       "GAFF v1.7                0.37      0.89      0.57             0.55   \n",
       "GAFF v2.1                0.75      0.59      0.98             0.59   \n",
       "SMIRNOFF99Frosst         0.41      0.55      0.58             0.91   \n",
       "\n",
       "                     R**2 SEM                                       \n",
       "y                Experimental GAFF v1.7 GAFF v2.1 SMIRNOFF99Frosst  \n",
       "x                                                                   \n",
       "Experimental             0.01      0.11      0.08             0.12  \n",
       "GAFF v1.7                0.11      0.05      0.11             0.12  \n",
       "GAFF v2.1                0.08      0.10      0.01             0.09  \n",
       "SMIRNOFF99Frosst         0.12      0.11      0.10             0.04  "
      ]
     },
     "execution_count": 224,
     "metadata": {},
     "output_type": "execute_result"
    }
   ],
   "source": [
    "delta_H_r_squared_pivot"
   ]
  },
  {
   "cell_type": "code",
   "execution_count": 226,
   "metadata": {
    "ExecuteTime": {
     "end_time": "2018-12-18T17:46:10.146115Z",
     "start_time": "2018-12-18T17:46:10.086774Z"
    }
   },
   "outputs": [
    {
     "data": {
      "text/html": [
       "<div>\n",
       "<style scoped>\n",
       "    .dataframe tbody tr th:only-of-type {\n",
       "        vertical-align: middle;\n",
       "    }\n",
       "\n",
       "    .dataframe tbody tr th {\n",
       "        vertical-align: top;\n",
       "    }\n",
       "\n",
       "    .dataframe thead tr th {\n",
       "        text-align: left;\n",
       "    }\n",
       "\n",
       "    .dataframe thead tr:last-of-type th {\n",
       "        text-align: right;\n",
       "    }\n",
       "</style>\n",
       "<table border=\"1\" class=\"dataframe\">\n",
       "  <thead>\n",
       "    <tr>\n",
       "      <th></th>\n",
       "      <th colspan=\"4\" halign=\"left\">RMSE</th>\n",
       "      <th colspan=\"4\" halign=\"left\">RMSE SEM</th>\n",
       "    </tr>\n",
       "    <tr>\n",
       "      <th>y</th>\n",
       "      <th>Experimental</th>\n",
       "      <th>GAFF v1.7</th>\n",
       "      <th>GAFF v2.1</th>\n",
       "      <th>SMIRNOFF99Frosst</th>\n",
       "      <th>Experimental</th>\n",
       "      <th>GAFF v1.7</th>\n",
       "      <th>GAFF v2.1</th>\n",
       "      <th>SMIRNOFF99Frosst</th>\n",
       "    </tr>\n",
       "    <tr>\n",
       "      <th>x</th>\n",
       "      <th></th>\n",
       "      <th></th>\n",
       "      <th></th>\n",
       "      <th></th>\n",
       "      <th></th>\n",
       "      <th></th>\n",
       "      <th></th>\n",
       "      <th></th>\n",
       "    </tr>\n",
       "  </thead>\n",
       "  <tbody>\n",
       "    <tr>\n",
       "      <th>Experimental</th>\n",
       "      <td>0.14</td>\n",
       "      <td>2.05</td>\n",
       "      <td>2.52</td>\n",
       "      <td>1.73</td>\n",
       "      <td>0.06</td>\n",
       "      <td>0.21</td>\n",
       "      <td>0.24</td>\n",
       "      <td>0.22</td>\n",
       "    </tr>\n",
       "    <tr>\n",
       "      <th>GAFF v1.7</th>\n",
       "      <td>2.05</td>\n",
       "      <td>0.66</td>\n",
       "      <td>3.65</td>\n",
       "      <td>1.87</td>\n",
       "      <td>0.21</td>\n",
       "      <td>0.13</td>\n",
       "      <td>0.20</td>\n",
       "      <td>0.21</td>\n",
       "    </tr>\n",
       "    <tr>\n",
       "      <th>GAFF v2.1</th>\n",
       "      <td>2.50</td>\n",
       "      <td>3.66</td>\n",
       "      <td>0.36</td>\n",
       "      <td>2.71</td>\n",
       "      <td>0.24</td>\n",
       "      <td>0.20</td>\n",
       "      <td>0.04</td>\n",
       "      <td>0.21</td>\n",
       "    </tr>\n",
       "    <tr>\n",
       "      <th>SMIRNOFF99Frosst</th>\n",
       "      <td>1.72</td>\n",
       "      <td>1.88</td>\n",
       "      <td>2.72</td>\n",
       "      <td>0.67</td>\n",
       "      <td>0.21</td>\n",
       "      <td>0.20</td>\n",
       "      <td>0.21</td>\n",
       "      <td>0.11</td>\n",
       "    </tr>\n",
       "  </tbody>\n",
       "</table>\n",
       "</div>"
      ],
      "text/plain": [
       "                         RMSE                                       \\\n",
       "y                Experimental GAFF v1.7 GAFF v2.1 SMIRNOFF99Frosst   \n",
       "x                                                                    \n",
       "Experimental             0.14      2.05      2.52             1.73   \n",
       "GAFF v1.7                2.05      0.66      3.65             1.87   \n",
       "GAFF v2.1                2.50      3.66      0.36             2.71   \n",
       "SMIRNOFF99Frosst         1.72      1.88      2.72             0.67   \n",
       "\n",
       "                     RMSE SEM                                       \n",
       "y                Experimental GAFF v1.7 GAFF v2.1 SMIRNOFF99Frosst  \n",
       "x                                                                   \n",
       "Experimental             0.06      0.21      0.24             0.22  \n",
       "GAFF v1.7                0.21      0.13      0.20             0.21  \n",
       "GAFF v2.1                0.24      0.20      0.04             0.21  \n",
       "SMIRNOFF99Frosst         0.21      0.20      0.21             0.11  "
      ]
     },
     "execution_count": 226,
     "metadata": {},
     "output_type": "execute_result"
    }
   ],
   "source": [
    "delta_H_rmse_pivot"
   ]
  },
  {
   "cell_type": "code",
   "execution_count": 227,
   "metadata": {
    "ExecuteTime": {
     "end_time": "2018-12-18T17:46:12.331482Z",
     "start_time": "2018-12-18T17:46:12.257310Z"
    }
   },
   "outputs": [
    {
     "data": {
      "text/html": [
       "<div>\n",
       "<style scoped>\n",
       "    .dataframe tbody tr th:only-of-type {\n",
       "        vertical-align: middle;\n",
       "    }\n",
       "\n",
       "    .dataframe tbody tr th {\n",
       "        vertical-align: top;\n",
       "    }\n",
       "\n",
       "    .dataframe thead tr th {\n",
       "        text-align: left;\n",
       "    }\n",
       "\n",
       "    .dataframe thead tr:last-of-type th {\n",
       "        text-align: right;\n",
       "    }\n",
       "</style>\n",
       "<table border=\"1\" class=\"dataframe\">\n",
       "  <thead>\n",
       "    <tr>\n",
       "      <th></th>\n",
       "      <th colspan=\"4\" halign=\"left\">MSE</th>\n",
       "      <th colspan=\"4\" halign=\"left\">MSE SEM</th>\n",
       "    </tr>\n",
       "    <tr>\n",
       "      <th>y</th>\n",
       "      <th>Experimental</th>\n",
       "      <th>GAFF v1.7</th>\n",
       "      <th>GAFF v2.1</th>\n",
       "      <th>SMIRNOFF99Frosst</th>\n",
       "      <th>Experimental</th>\n",
       "      <th>GAFF v1.7</th>\n",
       "      <th>GAFF v2.1</th>\n",
       "      <th>SMIRNOFF99Frosst</th>\n",
       "    </tr>\n",
       "    <tr>\n",
       "      <th>x</th>\n",
       "      <th></th>\n",
       "      <th></th>\n",
       "      <th></th>\n",
       "      <th></th>\n",
       "      <th></th>\n",
       "      <th></th>\n",
       "      <th></th>\n",
       "      <th></th>\n",
       "    </tr>\n",
       "  </thead>\n",
       "  <tbody>\n",
       "    <tr>\n",
       "      <th>Experimental</th>\n",
       "      <td>0.00</td>\n",
       "      <td>1.19</td>\n",
       "      <td>-2.04</td>\n",
       "      <td>0.06</td>\n",
       "      <td>0.00</td>\n",
       "      <td>1.19</td>\n",
       "      <td>-2.04</td>\n",
       "      <td>0.06</td>\n",
       "    </tr>\n",
       "    <tr>\n",
       "      <th>GAFF v1.7</th>\n",
       "      <td>-1.19</td>\n",
       "      <td>-0.00</td>\n",
       "      <td>-3.20</td>\n",
       "      <td>-1.12</td>\n",
       "      <td>-1.19</td>\n",
       "      <td>-0.00</td>\n",
       "      <td>-3.20</td>\n",
       "      <td>-1.12</td>\n",
       "    </tr>\n",
       "    <tr>\n",
       "      <th>GAFF v2.1</th>\n",
       "      <td>2.02</td>\n",
       "      <td>3.22</td>\n",
       "      <td>-0.00</td>\n",
       "      <td>2.08</td>\n",
       "      <td>2.02</td>\n",
       "      <td>3.22</td>\n",
       "      <td>-0.00</td>\n",
       "      <td>2.08</td>\n",
       "    </tr>\n",
       "    <tr>\n",
       "      <th>SMIRNOFF99Frosst</th>\n",
       "      <td>-0.07</td>\n",
       "      <td>1.12</td>\n",
       "      <td>-2.10</td>\n",
       "      <td>-0.00</td>\n",
       "      <td>-0.07</td>\n",
       "      <td>1.12</td>\n",
       "      <td>-2.10</td>\n",
       "      <td>-0.00</td>\n",
       "    </tr>\n",
       "  </tbody>\n",
       "</table>\n",
       "</div>"
      ],
      "text/plain": [
       "                          MSE                                       \\\n",
       "y                Experimental GAFF v1.7 GAFF v2.1 SMIRNOFF99Frosst   \n",
       "x                                                                    \n",
       "Experimental             0.00      1.19     -2.04             0.06   \n",
       "GAFF v1.7               -1.19     -0.00     -3.20            -1.12   \n",
       "GAFF v2.1                2.02      3.22     -0.00             2.08   \n",
       "SMIRNOFF99Frosst        -0.07      1.12     -2.10            -0.00   \n",
       "\n",
       "                      MSE SEM                                       \n",
       "y                Experimental GAFF v1.7 GAFF v2.1 SMIRNOFF99Frosst  \n",
       "x                                                                   \n",
       "Experimental             0.00      1.19     -2.04             0.06  \n",
       "GAFF v1.7               -1.19     -0.00     -3.20            -1.12  \n",
       "GAFF v2.1                2.02      3.22     -0.00             2.08  \n",
       "SMIRNOFF99Frosst        -0.07      1.12     -2.10            -0.00  "
      ]
     },
     "execution_count": 227,
     "metadata": {},
     "output_type": "execute_result"
    }
   ],
   "source": [
    "delta_H_mse_pivot"
   ]
  },
  {
   "cell_type": "code",
   "execution_count": 239,
   "metadata": {
    "ExecuteTime": {
     "end_time": "2018-12-18T18:46:04.085959Z",
     "start_time": "2018-12-18T18:45:57.112054Z"
    }
   },
   "outputs": [
    {
     "data": {
      "text/plain": [
       "Text(0.5,1,'$\\\\Delta G$: MSE cross correlation')"
      ]
     },
     "execution_count": 239,
     "metadata": {},
     "output_type": "execute_result"
    },
    {
     "data": {
      "image/png": "[encoded data removed]",
      "text/plain": [
       "<matplotlib.figure.Figure at 0x7f8a2222e160>"
      ]
     },
     "metadata": {},
     "output_type": "display_data"
    },
    {
     "data": {
      "image/png": "[encoded data removed]",
      "text/plain": [
       "<matplotlib.figure.Figure at 0x7f8a221e1eb8>"
      ]
     },
     "metadata": {},
     "output_type": "display_data"
    },
    {
     "data": {
      "image/png": "[encoded data removed]",
      "text/plain": [
       "<matplotlib.figure.Figure at 0x7f8a2214eb00>"
      ]
     },
     "metadata": {},
     "output_type": "display_data"
    }
   ],
   "source": [
    "fig, ax = plt.subplots(1, 1, figsize=(6, 6))\n",
    "sns.heatmap(delta_G_r_squared_pivot[\"R**2\"], annot=True, fmt=\".2f\", square=True, ax=ax, \n",
    "            cmap=ListedColormap(['white']), \n",
    "            cbar=False, annot_kws={\"size\": 20})\n",
    "ax.set_xlabel(\"\")\n",
    "ax.set_ylabel(\"\")\n",
    "ax.set_title(\"$\\Delta G$: R$^2$ cross correlation\")\n",
    "\n",
    "fig, ax = plt.subplots(1, 1, figsize=(6, 6))\n",
    "sns.heatmap(delta_G_rmse_pivot[\"RMSE\"], annot=True, fmt=\".2f\", square=True, ax=ax,\n",
    "            cmap=ListedColormap(['white']), \n",
    "            cbar=False, annot_kws={\"size\": 20})\n",
    "ax.set_xlabel(\"\")\n",
    "ax.set_ylabel(\"\")\n",
    "ax.set_title(\"$\\Delta G$: RMSE cross correlation\")\n",
    "\n",
    "\n",
    "fig, ax = plt.subplots(1, 1, figsize=(6, 6))\n",
    "sns.heatmap(delta_G_mse_pivot[\"MSE\"], annot=True, fmt=\".2f\", square=True, ax=ax, cmap=sns.color_palette(\"RdBu_r\"), cbar=False, annot_kws={\"size\": 20})\n",
    "ax.set_xlabel(\"\")\n",
    "ax.set_ylabel(\"\")\n",
    "ax.set_title(\"$\\Delta G$: MSE cross correlation\")"
   ]
  },
  {
   "cell_type": "code",
   "execution_count": 238,
   "metadata": {
    "ExecuteTime": {
     "end_time": "2018-12-18T18:45:14.397313Z",
     "start_time": "2018-12-18T18:45:06.251326Z"
    }
   },
   "outputs": [
    {
     "data": {
      "text/plain": [
       "Text(0.5,1,'$\\\\Delta H$: MSE cross correlation')"
      ]
     },
     "execution_count": 238,
     "metadata": {},
     "output_type": "execute_result"
    },
    {
     "data": {
      "image/png": "[encoded data removed]",
      "text/plain": [
       "<matplotlib.figure.Figure at 0x7f8a280b0e80>"
      ]
     },
     "metadata": {},
     "output_type": "display_data"
    },
    {
     "data": {
      "image/png": "[encoded data removed]",
      "text/plain": [
       "<matplotlib.figure.Figure at 0x7f8a2844f710>"
      ]
     },
     "metadata": {},
     "output_type": "display_data"
    },
    {
     "data": {
      "image/png": "[encoded data removed]",
      "text/plain": [
       "<matplotlib.figure.Figure at 0x7f8a22226358>"
      ]
     },
     "metadata": {},
     "output_type": "display_data"
    }
   ],
   "source": [
    "from matplotlib.colors import ListedColormap\n",
    "fig, ax = plt.subplots(1, 1, figsize=(6, 6))\n",
    "sns.heatmap(delta_H_r_squared_pivot[\"R**2\"], annot=True, fmt=\".2f\", square=True, ax=ax, cmap=ListedColormap(['white']), \n",
    "            cbar=False, annot_kws={\"size\": 20})\n",
    "ax.set_xlabel(\"\")\n",
    "ax.set_ylabel(\"\")\n",
    "ax.set_title(\"$\\Delta H$: R$^2$ cross correlation\")\n",
    "\n",
    "fig, ax = plt.subplots(1, 1, figsize=(6, 6))\n",
    "sns.heatmap(delta_H_rmse_pivot[\"RMSE\"], annot=True, fmt=\".2f\", square=True, ax=ax, cmap=ListedColormap(['white']), \n",
    "            cbar=False, annot_kws={\"size\": 20})\n",
    "ax.set_xlabel(\"\")\n",
    "ax.set_ylabel(\"\")\n",
    "ax.set_title(\"$\\Delta H$: RMSE cross correlation\")\n",
    "\n",
    "\n",
    "fig, ax = plt.subplots(1, 1, figsize=(6, 6))\n",
    "sns.heatmap(delta_H_mse_pivot[\"MSE\"], annot=True, fmt=\".2f\", square=True, ax=ax, cmap=sns.color_palette(\"RdBu_r\"), \n",
    "            cbar=False, annot_kws={\"size\": 20})\n",
    "ax.set_xlabel(\"\")\n",
    "ax.set_ylabel(\"\")\n",
    "ax.set_title(\"$\\Delta H$: MSE cross correlation\")"
   ]
  },
  {
   "cell_type": "code",
   "execution_count": 182,
   "metadata": {
    "ExecuteTime": {
     "end_time": "2018-12-18T01:14:49.940396Z",
     "start_time": "2018-12-18T01:13:32.086413Z"
    }
   },
   "outputs": [
    {
     "name": "stdout",
     "output_type": "stream",
     "text": [
      "GAFF v1.7 -- GAFF v1.7 0.8883780208139701\n",
      "GAFF v1.7 -- GAFF v2.1 0.5748982604030785\n",
      "GAFF v1.7 -- SMIRNOFF99Frosst 0.5527055204696476\n",
      "GAFF v1.7 -- Experimental 0.36846787704417466\n",
      "GAFF v2.1 -- GAFF v1.7 0.577647987050691\n",
      "GAFF v2.1 -- GAFF v2.1 0.9816885288580764\n",
      "GAFF v2.1 -- SMIRNOFF99Frosst 0.5847027605326159\n",
      "GAFF v2.1 -- Experimental 0.7454015773386664\n",
      "SMIRNOFF99Frosst -- GAFF v1.7 0.5506907668622799\n",
      "SMIRNOFF99Frosst -- GAFF v2.1 0.5877133603941203\n",
      "SMIRNOFF99Frosst -- SMIRNOFF99Frosst 0.9091473775422225\n",
      "SMIRNOFF99Frosst -- Experimental 0.41223823153178313\n",
      "Experimental -- GAFF v1.7 0.36885966081322624\n",
      "Experimental -- GAFF v2.1 0.7471081263071817\n",
      "Experimental -- SMIRNOFF99Frosst 0.4140404457705174\n",
      "Experimental -- Experimental 0.9918994930777664\n"
     ]
    }
   ],
   "source": [
    "r_squared = pd.DataFrame()\n",
    "rmse = pd.DataFrame()\n",
    "\n",
    "for index_i, i in enumerate(data_sets):\n",
    "    for index_j, j in enumerate(data_sets):\n",
    "                    \n",
    "        # This seems the most reliable way of matching keys. Took a little while to figure out,\n",
    "        # even if the data frames are ordered properly.\n",
    "        df = i.merge(j, on=[\"System\"], suffixes=(\"_i\", \"_j\"))    \n",
    "            \n",
    "        results = bootstrap(df[\"Delta H_i\"], df[\"H_SEM_i\"], df[\"Delta H_j\"], df[\"H_SEM_j\"], cycles=1000)\n",
    "        print(f\"{names[index_i]} -- {names[index_j]} {results['mean']['R**2']}\")\n",
    "        \n",
    "        \n",
    "        r_squared = r_squared.append(\n",
    "            {\n",
    "                \"x\": names[index_i],\n",
    "                \"y\": names[index_j],\n",
    "                \"R**2\": results[\"mean\"][\"R**2\"]\n",
    "            },\n",
    "            ignore_index=True,\n",
    "        )\n",
    "        \n",
    "        rmse = rmse.append(\n",
    "            {\n",
    "                \"x\": names[index_i],\n",
    "                \"y\": names[index_j],\n",
    "                \"RMSE\": results[\"mean\"][\"RMSE\"]\n",
    "            },\n",
    "            ignore_index=True,\n",
    "        )\n"
   ]
  },
  {
   "cell_type": "code",
   "execution_count": 183,
   "metadata": {
    "ExecuteTime": {
     "end_time": "2018-12-18T01:14:59.560171Z",
     "start_time": "2018-12-18T01:14:59.501221Z"
    }
   },
   "outputs": [],
   "source": [
    "r_squared_pivot = r_squared.pivot(columns=\"y\", index=\"x\", values=\"R**2\")\n",
    "rmse_pivot = rmse.pivot(columns=\"y\", index=\"x\", values=\"RMSE\")"
   ]
  },
  {
   "cell_type": "code",
   "execution_count": 189,
   "metadata": {
    "ExecuteTime": {
     "end_time": "2018-12-18T01:20:19.475737Z",
     "start_time": "2018-12-18T01:20:18.634788Z"
    }
   },
   "outputs": [
    {
     "data": {
      "text/plain": [
       "Text(0.5,1,'$\\\\Delta H$: RMSE cross correlation')"
      ]
     },
     "execution_count": 189,
     "metadata": {},
     "output_type": "execute_result"
    },
    {
     "data": {
      "image/png": "[encoded data removed]",
      "text/plain": [
       "<matplotlib.figure.Figure at 0x7f8a22de6a90>"
      ]
     },
     "metadata": {},
     "output_type": "display_data"
    },
    {
     "data": {
      "image/png": "[encoded data removed]",
      "text/plain": [
       "<matplotlib.figure.Figure at 0x7f8a22de6588>"
      ]
     },
     "metadata": {},
     "output_type": "display_data"
    }
   ],
   "source": [
    "fig, ax = plt.subplots(1, 1, figsize=(6, 6))\n",
    "sns.heatmap(r_squared_pivot, annot=True, fmt=\".2f\", square=True, ax=ax, cmap=sns.light_palette(\"blue\"), cbar=False)\n",
    "ax.set_xlabel(\"\")\n",
    "ax.set_ylabel(\"\")\n",
    "ax.set_title(\"$\\Delta H$: R$^2$ cross correlation\")\n",
    "\n",
    "fig, ax = plt.subplots(1, 1, figsize=(6, 6))\n",
    "sns.heatmap(rmse_pivot, annot=True, fmt=\".2f\", square=True, ax=ax, cmap=sns.light_palette(\"green\"), cbar=False)\n",
    "ax.set_xlabel(\"\")\n",
    "ax.set_ylabel(\"\")\n",
    "ax.set_title(\"$\\Delta H$: RMSE cross correlation\")"
   ]
  },
  {
   "cell_type": "code",
   "execution_count": 36,
   "metadata": {},
   "outputs": [],
   "source": [
    "df = experimental.merge(smirnoff_combined, on=[\"System\"], suffixes=(\"_i\", \"_j\"))    \n",
    "results = bootstrap(df[\"Delta G_i\"], df[\"G_SEM_i\"], df[\"Delta G_j\"], df[\"G_SEM_j\"], cycles=10000)\n"
   ]
  },
  {
   "cell_type": "code",
   "execution_count": 7,
   "metadata": {
    "ExecuteTime": {
     "end_time": "2019-01-07T01:40:56.204752Z",
     "start_time": "2019-01-07T01:40:55.980706Z"
    }
   },
   "outputs": [
    {
     "ename": "NameError",
     "evalue": "name 'results' is not defined",
     "output_type": "error",
     "traceback": [
      "\u001b[0;31m---------------------------------------------------------------------------\u001b[0m",
      "\u001b[0;31mNameError\u001b[0m                                 Traceback (most recent call last)",
      "\u001b[0;32m<ipython-input-7-93e18e06fe35>\u001b[0m in \u001b[0;36m<module>\u001b[0;34m()\u001b[0m\n\u001b[1;32m     11\u001b[0m \u001b[0;34m\u001b[0m\u001b[0m\n\u001b[1;32m     12\u001b[0m \u001b[0;34m\u001b[0m\u001b[0m\n\u001b[0;32m---> 13\u001b[0;31m \u001b[0mpretty_print\u001b[0m\u001b[0;34m(\u001b[0m\u001b[0mresults\u001b[0m\u001b[0;34m)\u001b[0m\u001b[0;34m\u001b[0m\u001b[0m\n\u001b[0m",
      "\u001b[0;31mNameError\u001b[0m: name 'results' is not defined"
     ]
    }
   ],
   "source": [
    "def pretty_print(results):\n",
    "    print(f\"{results['mean']['RMSE']:2.2f} ± {results['sem']['RMSE']:2.2f}\", end=\"\")\n",
    "    print(\"\\n\", end=\"\")\n",
    "    print(f\"{results['mean']['MSE']:2.2f} ± {results['sem']['MSE']:2.2f}\", end=\"\")\n",
    "    print(\"\\n\", end=\"\")\n",
    "    print(f\"{results['mean']['R**2']:2.2f} ± {results['sem']['R**2']:2.2f}\", end=\"\")\n",
    "    print(\"\\n\", end=\"\")\n",
    "    print(f\"{results['mean']['slope']:2.2f} ± {results['sem']['slope']:2.2f}\", end=\"\")\n",
    "    print(\"\\n\", end=\"\")\n",
    "    print(f\"{results['mean']['intercept']:2.2f} ± {results['sem']['intercept']:2.2f}\", end=\"\")\n",
    "\n",
    "\n",
    "pretty_print(results)"
   ]
  },
  {
   "cell_type": "code",
   "execution_count": 40,
   "metadata": {},
   "outputs": [
    {
     "name": "stdout",
     "output_type": "stream",
     "text": [
      "0.92 ± 0.09\n",
      "0.61 ± 0.11\n",
      "0.61 ± 0.09\n",
      "0.77 ± 0.10\n",
      "-0.08 ± 0.30"
     ]
    }
   ],
   "source": [
    "df = experimental.merge(bgbg_combined, on=[\"System\"], suffixes=(\"_i\", \"_j\"))    \n",
    "results = bootstrap(df[\"Delta G_i\"], df[\"G_SEM_i\"], df[\"Delta G_j\"], df[\"G_SEM_j\"], cycles=10000)\n",
    "pretty_print(results)"
   ]
  },
  {
   "cell_type": "code",
   "execution_count": 41,
   "metadata": {},
   "outputs": [
    {
     "name": "stdout",
     "output_type": "stream",
     "text": [
      "1.58 ± 0.10\n",
      "-1.35 ± 0.13\n",
      "0.71 ± 0.07\n",
      "1.19 ± 0.12\n",
      "-0.79 ± 0.38"
     ]
    }
   ],
   "source": [
    "df = experimental.merge(bg2bg2_combined, on=[\"System\"], suffixes=(\"_i\", \"_j\"))    \n",
    "results = bootstrap(df[\"Delta G_i\"], df[\"G_SEM_i\"], df[\"Delta G_j\"], df[\"G_SEM_j\"], cycles=10000)\n",
    "pretty_print(results)"
   ]
  },
  {
   "cell_type": "code",
   "execution_count": 43,
   "metadata": {},
   "outputs": [
    {
     "name": "stdout",
     "output_type": "stream",
     "text": [
      "1.71 ± 0.22\n",
      "0.06 ± 0.26\n",
      "0.41 ± 0.12\n",
      "0.81 ± 0.17\n",
      "-0.39 ± 0.54"
     ]
    }
   ],
   "source": [
    "df = experimental.merge(smirnoff_combined, on=[\"System\"], suffixes=(\"_i\", \"_j\"))    \n",
    "results = bootstrap(df[\"Delta H_i\"], df[\"H_SEM_i\"], df[\"Delta H_j\"], df[\"H_SEM_j\"], cycles=10000)\n",
    "pretty_print(results)"
   ]
  },
  {
   "cell_type": "code",
   "execution_count": 44,
   "metadata": {},
   "outputs": [
    {
     "name": "stdout",
     "output_type": "stream",
     "text": [
      "2.05 ± 0.21\n",
      "1.19 ± 0.26\n",
      "0.37 ± 0.11\n",
      "0.70 ± 0.17\n",
      "0.47 ± 0.57"
     ]
    }
   ],
   "source": [
    "df = experimental.merge(bgbg_combined, on=[\"System\"], suffixes=(\"_i\", \"_j\"))    \n",
    "results = bootstrap(df[\"Delta H_i\"], df[\"H_SEM_i\"], df[\"Delta H_j\"], df[\"H_SEM_j\"], cycles=10000)\n",
    "pretty_print(results)"
   ]
  },
  {
   "cell_type": "code",
   "execution_count": 45,
   "metadata": {},
   "outputs": [
    {
     "name": "stdout",
     "output_type": "stream",
     "text": [
      "2.50 ± 0.23\n",
      "-2.02 ± 0.23\n",
      "0.74 ± 0.08\n",
      "1.35 ± 0.13\n",
      "-1.13 ± 0.42"
     ]
    }
   ],
   "source": [
    "df = experimental.merge(bg2bg2_combined, on=[\"System\"], suffixes=(\"_i\", \"_j\"))    \n",
    "results = bootstrap(df[\"Delta H_i\"], df[\"H_SEM_i\"], df[\"Delta H_j\"], df[\"H_SEM_j\"], cycles=10000)\n",
    "pretty_print(results)"
   ]
  },
  {
   "cell_type": "markdown",
   "metadata": {},
   "source": [
    "# Entropy"
   ]
  },
  {
   "cell_type": "code",
   "execution_count": 6,
   "metadata": {
    "ExecuteTime": {
     "end_time": "2019-01-07T01:40:48.220183Z",
     "start_time": "2019-01-07T01:40:48.118795Z"
    }
   },
   "outputs": [],
   "source": [
    "smirnoff_combined[\"-TdS\"] = smirnoff_combined[\"Delta G\"] - smirnoff_combined[\"Delta H\"]\n",
    "smirnoff_combined[\"-TdS_SEM\"] = np.sqrt(smirnoff_combined[\"G_SEM\"]**2 + smirnoff_combined[\"H_SEM\"]**2)\n",
    "\n",
    "bgbg_combined[\"-TdS\"] = bgbg_combined[\"Delta G\"] - bgbg_combined[\"Delta H\"]\n",
    "bgbg_combined[\"-TdS_SEM\"] = np.sqrt(bgbg_combined[\"G_SEM\"]**2 + bgbg_combined[\"H_SEM\"]**2)\n",
    "\n",
    "bg2bg2_combined[\"-TdS\"] = bg2bg2_combined[\"Delta G\"] - bg2bg2_combined[\"Delta H\"]\n",
    "bg2bg2_combined[\"-TdS_SEM\"] = np.sqrt(bg2bg2_combined[\"G_SEM\"]**2 + bg2bg2_combined[\"H_SEM\"]**2)\n",
    "\n",
    "experimental[\"-TdS\"] = experimental[\"Delta G\"] - experimental[\"Delta H\"]\n",
    "experimental[\"-TdS_SEM\"] = np.sqrt(experimental[\"G_SEM\"]**2 + experimental[\"H_SEM\"]**2)"
   ]
  },
  {
   "cell_type": "code",
   "execution_count": 11,
   "metadata": {
    "ExecuteTime": {
     "end_time": "2019-01-07T01:43:03.463366Z",
     "start_time": "2019-01-07T01:42:16.842059Z"
    }
   },
   "outputs": [
    {
     "name": "stdout",
     "output_type": "stream",
     "text": [
      "1.68 ± 0.20\n",
      "-0.58 ± 0.25\n",
      "0.37 ± 0.14\n",
      "0.74 ± 0.19\n",
      "-0.72 ± 0.19"
     ]
    }
   ],
   "source": [
    "df = experimental.merge(bgbg_combined, on=[\"System\"], suffixes=(\"_i\", \"_j\"))    \n",
    "results = bootstrap(df[\"-TdS_i\"], df[\"-TdS_SEM_i\"], df[\"-TdS_j\"], df[\"-TdS_SEM_j\"], cycles=10000)\n",
    "pretty_print(results)"
   ]
  },
  {
   "cell_type": "code",
   "execution_count": 13,
   "metadata": {
    "ExecuteTime": {
     "end_time": "2019-01-07T01:44:45.327949Z",
     "start_time": "2019-01-07T01:43:57.957258Z"
    }
   },
   "outputs": [
    {
     "name": "stdout",
     "output_type": "stream",
     "text": [
      "1.68 ± 0.22\n",
      "0.14 ± 0.25\n",
      "0.38 ± 0.12\n",
      "0.83 ± 0.19\n",
      "0.04 ± 0.23"
     ]
    }
   ],
   "source": [
    "df = experimental.merge(smirnoff_combined, on=[\"System\"], suffixes=(\"_i\", \"_j\"))    \n",
    "results = bootstrap(df[\"-TdS_i\"], df[\"-TdS_SEM_i\"], df[\"-TdS_j\"], df[\"-TdS_SEM_j\"], cycles=10000)\n",
    "pretty_print(results)"
   ]
  },
  {
   "cell_type": "code",
   "execution_count": 14,
   "metadata": {
    "ExecuteTime": {
     "end_time": "2019-01-07T01:45:44.225409Z",
     "start_time": "2019-01-07T01:44:56.922856Z"
    }
   },
   "outputs": [
    {
     "name": "stdout",
     "output_type": "stream",
     "text": [
      "1.43 ± 0.25\n",
      "0.67 ± 0.20\n",
      "0.59 ± 0.13\n",
      "0.99 ± 0.15\n",
      "0.67 ± 0.19"
     ]
    }
   ],
   "source": [
    "df = experimental.merge(bg2bg2_combined, on=[\"System\"], suffixes=(\"_i\", \"_j\"))    \n",
    "results = bootstrap(df[\"-TdS_i\"], df[\"-TdS_SEM_i\"], df[\"-TdS_j\"], df[\"-TdS_SEM_j\"], cycles=10000)\n",
    "pretty_print(results)"
   ]
  },
  {
   "cell_type": "code",
   "execution_count": null,
   "metadata": {},
   "outputs": [],
   "source": []
  }
 ],
 "metadata": {
  "kernelspec": {
   "display_name": "Python [default]",
   "language": "python",
   "name": "python3"
  },
  "language_info": {
   "codemirror_mode": {
    "name": "ipython",
    "version": 3
   },
   "file_extension": ".py",
   "mimetype": "text/x-python",
   "name": "python",
   "nbconvert_exporter": "python",
   "pygments_lexer": "ipython3",
   "version": "3.6.4"
  }
 },
 "nbformat": 4,
 "nbformat_minor": 2
}
