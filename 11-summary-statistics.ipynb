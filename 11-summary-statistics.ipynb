{
 "cells": [
  {
   "cell_type": "code",
   "execution_count": 110,
   "metadata": {
    "ExecuteTime": {
     "end_time": "2019-02-09T20:04:02.767755Z",
     "start_time": "2019-02-09T20:04:02.542994Z"
    }
   },
   "outputs": [
    {
     "name": "stdout",
     "output_type": "stream",
     "text": [
      "The autoreload extension is already loaded. To reload it, use:\n",
      "  %reload_ext autoreload\n",
      "The blackcellmagic extension is already loaded. To reload it, use:\n",
      "  %reload_ext blackcellmagic\n"
     ]
    }
   ],
   "source": [
    "import pandas as pd\n",
    "import scipy as sc\n",
    "import numpy as np\n",
    "import os\n",
    "\n",
    "\n",
    "import matplotlib as mpl\n",
    "import matplotlib.pyplot as plt\n",
    "from matplotlib.gridspec import GridSpec\n",
    "from matplotlib.colors import colorConverter\n",
    "import seaborn as sns\n",
    "\n",
    "%load_ext autoreload\n",
    "%autoreload 2\n",
    "%load_ext blackcellmagic\n",
    "%matplotlib inline"
   ]
  },
  {
   "cell_type": "code",
   "execution_count": 111,
   "metadata": {
    "ExecuteTime": {
     "end_time": "2019-02-09T20:04:02.835695Z",
     "start_time": "2019-02-09T20:04:02.784842Z"
    }
   },
   "outputs": [],
   "source": [
    "from constants import guest_types\n",
    "from constants import colors\n",
    "from bootstrap import bootstrap\n",
    "from bootstrap import dG_bootstrap\n",
    "from bootstrap import dH_bootstrap\n",
    "import plotting"
   ]
  },
  {
   "cell_type": "code",
   "execution_count": 112,
   "metadata": {
    "ExecuteTime": {
     "end_time": "2019-02-09T20:04:03.008447Z",
     "start_time": "2019-02-09T20:04:02.959097Z"
    }
   },
   "outputs": [],
   "source": [
    "from constants import experimental_deltaG\n",
    "from constants import experimental_deltaH\n",
    "from constants import systems"
   ]
  },
  {
   "cell_type": "code",
   "execution_count": 113,
   "metadata": {
    "ExecuteTime": {
     "end_time": "2019-02-09T20:04:03.948593Z",
     "start_time": "2019-02-09T20:04:03.902793Z"
    }
   },
   "outputs": [],
   "source": [
    "from summarize_statistics import write_statistics"
   ]
  },
  {
   "cell_type": "markdown",
   "metadata": {},
   "source": [
    "# Calculate or load in the summary results"
   ]
  },
  {
   "cell_type": "code",
   "execution_count": 108,
   "metadata": {
    "ExecuteTime": {
     "end_time": "2019-02-09T20:02:50.920831Z",
     "start_time": "2019-02-09T20:02:50.832877Z"
    }
   },
   "outputs": [],
   "source": [
    "bgbg = pd.read_csv(\"results/bgbg_tip3p_by_orientation.csv\")\n",
    "bgbg_combined = pd.read_csv(\"results/bgbg_tip3p_combined.csv\")\n",
    "\n",
    "bg2bg2 = pd.read_csv(\"results/bg2bg2_tip3p_by_orientation.csv\")\n",
    "bg2bg2_combined = pd.read_csv(\"results/bg2bg2_tip3p_combined.csv\")\n",
    "\n",
    "smirnoff = pd.read_csv(\"results/smirnoff_by_orientation.csv\")\n",
    "smirnoff_combined = pd.read_csv(\"results/smirnoff_combined.csv\")\n",
    "\n",
    "experimental = pd.read_csv(\"results/experimental.csv\")"
   ]
  },
  {
   "cell_type": "code",
   "execution_count": null,
   "metadata": {
    "ExecuteTime": {
     "end_time": "2019-02-05T00:11:33.293039Z",
     "start_time": "2019-02-04T23:53:55.294Z"
    }
   },
   "outputs": [],
   "source": [
    "data_sets = [bgbg_combined, bg2bg2_combined, smirnoff_combined, experimental]\n",
    "names = [\"GAFF v1.7\", \"GAFF v2.1\", \"SMIRNOFF99Frosst\", \"Experimental\"]"
   ]
  },
  {
   "cell_type": "code",
   "execution_count": null,
   "metadata": {
    "ExecuteTime": {
     "end_time": "2019-02-05T00:11:33.293836Z",
     "start_time": "2019-02-04T23:53:55.552Z"
    }
   },
   "outputs": [],
   "source": [
    "from itertools import permutations"
   ]
  },
  {
   "cell_type": "code",
   "execution_count": 33,
   "metadata": {
    "ExecuteTime": {
     "end_time": "2019-02-04T18:13:20.206837Z",
     "start_time": "2019-02-04T18:10:46.442855Z"
    }
   },
   "outputs": [
    {
     "name": "stdout",
     "output_type": "stream",
     "text": [
      "GAFF v1.7 -- GAFF v1.7 0.8640459088400202\n",
      "GAFF v1.7 -- GAFF v1.7 0.8952935292070222\n",
      "GAFF v1.7 -- GAFF v2.1 0.5443148855533857\n",
      "GAFF v1.7 -- GAFF v2.1 0.6117083425882566\n",
      "GAFF v1.7 -- SMIRNOFF99Frosst 0.5856835226983856\n",
      "GAFF v1.7 -- SMIRNOFF99Frosst 0.6944846702335524\n",
      "GAFF v1.7 -- Experimental 0.5370083937757651\n",
      "GAFF v1.7 -- Experimental 0.3936289653837588\n",
      "GAFF v2.1 -- GAFF v1.7 0.5377748892540649\n",
      "GAFF v2.1 -- GAFF v1.7 0.6091330657408875\n",
      "GAFF v2.1 -- GAFF v2.1 0.9574387696819072\n",
      "GAFF v2.1 -- GAFF v2.1 0.974101682963238\n",
      "GAFF v2.1 -- SMIRNOFF99Frosst 0.3711021040197053\n",
      "GAFF v2.1 -- SMIRNOFF99Frosst 0.5979700428934158\n",
      "GAFF v2.1 -- Experimental 0.8225389382298827\n",
      "GAFF v2.1 -- Experimental 0.7507165075495107\n",
      "SMIRNOFF99Frosst -- GAFF v1.7 0.5913937963590066\n",
      "SMIRNOFF99Frosst -- GAFF v1.7 0.6967604030590443\n",
      "SMIRNOFF99Frosst -- GAFF v2.1 0.36670847384122957\n",
      "SMIRNOFF99Frosst -- GAFF v2.1 0.6040172606566303\n",
      "SMIRNOFF99Frosst -- SMIRNOFF99Frosst 0.7451402000029268\n",
      "SMIRNOFF99Frosst -- SMIRNOFF99Frosst 0.8856075320816237\n",
      "SMIRNOFF99Frosst -- Experimental 0.3374410561125791\n",
      "SMIRNOFF99Frosst -- Experimental 0.43805872099896376\n",
      "Experimental -- GAFF v1.7 0.5397102563436296\n",
      "Experimental -- GAFF v1.7 0.3922698166349977\n",
      "Experimental -- GAFF v2.1 0.818127393307886\n",
      "Experimental -- GAFF v2.1 0.7504741788226762\n",
      "Experimental -- SMIRNOFF99Frosst 0.3390863710326805\n",
      "Experimental -- SMIRNOFF99Frosst 0.43867390547189866\n",
      "Experimental -- Experimental 0.9424696640156924\n",
      "Experimental -- Experimental 0.991693657451427\n"
     ]
    }
   ],
   "source": [
    "delta_G_r_squared = pd.DataFrame()\n",
    "delta_G_rmse = pd.DataFrame()\n",
    "delta_G_mse = pd.DataFrame()\n",
    "\n",
    "delta_H_r_squared = pd.DataFrame()\n",
    "delta_H_rmse = pd.DataFrame()\n",
    "delta_H_mse = pd.DataFrame()\n",
    "\n",
    "for index_i, i in enumerate(data_sets):\n",
    "    for index_j, j in enumerate(data_sets):\n",
    "                    \n",
    "        # This seems the most reliable way of matching keys. Took a little while to figure out,\n",
    "        # even if the data frames are ordered properly.\n",
    "        df = i.merge(j, on=[\"System\"], suffixes=(\"_i\", \"_j\"))    \n",
    "        \n",
    "        results = bootstrap(df[\"Delta G_i\"], df[\"G_SEM_i\"], df[\"Delta G_j\"], df[\"G_SEM_j\"], cycles=1000)\n",
    "        print(f\"{names[index_i]} -- {names[index_j]} {results['mean']['R**2']}\")\n",
    "\n",
    "\n",
    "        delta_G_r_squared = delta_G_r_squared.append(\n",
    "            {\n",
    "                \"x\": names[index_i],\n",
    "                \"y\": names[index_j],\n",
    "                \"R**2\": results[\"mean\"][\"R**2\"],\n",
    "                \"R**2 SEM\": results[\"sem\"][\"R**2\"]\n",
    "            },\n",
    "            ignore_index=True,\n",
    "        )\n",
    "\n",
    "        delta_G_rmse = delta_G_rmse.append(\n",
    "            {\n",
    "                \"x\": names[index_i],\n",
    "                \"y\": names[index_j],\n",
    "                \"RMSE\": results[\"mean\"][\"RMSE\"],\n",
    "                \"RMSE SEM\": results[\"sem\"][\"RMSE\"]\n",
    "            },\n",
    "            ignore_index=True,\n",
    "        )\n",
    "\n",
    "        delta_G_mse = delta_G_mse.append(\n",
    "            {\n",
    "                \"x\": names[index_i],\n",
    "                \"y\": names[index_j],\n",
    "                \"MSE\": results[\"mean\"][\"MSE\"],\n",
    "                \"MSE SEM\": results[\"mean\"][\"MSE\"]\n",
    "            },\n",
    "            ignore_index=True,\n",
    "        )\n",
    "        \n",
    "        results = bootstrap(df[\"Delta H_i\"], df[\"H_SEM_i\"], df[\"Delta H_j\"], df[\"H_SEM_j\"], cycles=1000)\n",
    "        print(f\"{names[index_i]} -- {names[index_j]} {results['mean']['R**2']}\")\n",
    "        \n",
    "        delta_H_r_squared = delta_H_r_squared.append(\n",
    "            {\n",
    "                \"x\": names[index_i],\n",
    "                \"y\": names[index_j],\n",
    "                \"R**2\": results[\"mean\"][\"R**2\"],\n",
    "                \"R**2 SEM\": results[\"sem\"][\"R**2\"]\n",
    "                \n",
    "            },\n",
    "            ignore_index=True,\n",
    "        )\n",
    "\n",
    "        delta_H_rmse = delta_H_rmse.append(\n",
    "            {\n",
    "                \"x\": names[index_i],\n",
    "                \"y\": names[index_j],\n",
    "                \"RMSE\": results[\"mean\"][\"RMSE\"],\n",
    "                \"RMSE SEM\": results[\"sem\"][\"RMSE\"]\n",
    "            },\n",
    "            ignore_index=True,\n",
    "        )\n",
    "\n",
    "        delta_H_mse = delta_H_mse.append(\n",
    "            {\n",
    "                \"x\": names[index_i],\n",
    "                \"y\": names[index_j],\n",
    "                \"MSE\": results[\"mean\"][\"MSE\"],\n",
    "                \"MSE SEM\": results[\"sem\"][\"MSE\"]\n",
    "            },\n",
    "            ignore_index=True,\n",
    "        )\n"
   ]
  },
  {
   "cell_type": "code",
   "execution_count": 8,
   "metadata": {
    "ExecuteTime": {
     "end_time": "2019-02-01T23:07:09.770290Z",
     "start_time": "2019-02-01T23:07:09.685370Z"
    }
   },
   "outputs": [],
   "source": [
    "delta_G_r_squared_pivot = delta_G_r_squared.pivot(columns=\"y\", index=\"x\")\n",
    "delta_G_rmse_pivot = delta_G_rmse.pivot(columns=\"y\", index=\"x\",)\n",
    "delta_G_mse_pivot = delta_G_mse.pivot(columns=\"y\", index=\"x\",)\n",
    "\n",
    "delta_H_r_squared_pivot = delta_H_r_squared.pivot(columns=\"y\", index=\"x\", )\n",
    "delta_H_rmse_pivot = delta_H_rmse.pivot(columns=\"y\", index=\"x\",)\n",
    "delta_H_mse_pivot = delta_H_mse.pivot(columns=\"y\", index=\"x\", )\n"
   ]
  },
  {
   "cell_type": "code",
   "execution_count": 9,
   "metadata": {
    "ExecuteTime": {
     "end_time": "2019-02-01T23:07:10.002289Z",
     "start_time": "2019-02-01T23:07:09.773217Z"
    }
   },
   "outputs": [
    {
     "data": {
      "text/html": [
       "<div>\n",
       "<style scoped>\n",
       "    .dataframe tbody tr th:only-of-type {\n",
       "        vertical-align: middle;\n",
       "    }\n",
       "\n",
       "    .dataframe tbody tr th {\n",
       "        vertical-align: top;\n",
       "    }\n",
       "\n",
       "    .dataframe thead tr th {\n",
       "        text-align: left;\n",
       "    }\n",
       "\n",
       "    .dataframe thead tr:last-of-type th {\n",
       "        text-align: right;\n",
       "    }\n",
       "</style>\n",
       "<table border=\"1\" class=\"dataframe\">\n",
       "  <thead>\n",
       "    <tr>\n",
       "      <th></th>\n",
       "      <th colspan=\"4\" halign=\"left\">R**2</th>\n",
       "      <th colspan=\"4\" halign=\"left\">R**2 SEM</th>\n",
       "    </tr>\n",
       "    <tr>\n",
       "      <th>y</th>\n",
       "      <th>Experimental</th>\n",
       "      <th>GAFF v1.7</th>\n",
       "      <th>GAFF v2.1</th>\n",
       "      <th>SMIRNOFF99Frosst</th>\n",
       "      <th>Experimental</th>\n",
       "      <th>GAFF v1.7</th>\n",
       "      <th>GAFF v2.1</th>\n",
       "      <th>SMIRNOFF99Frosst</th>\n",
       "    </tr>\n",
       "    <tr>\n",
       "      <th>x</th>\n",
       "      <th></th>\n",
       "      <th></th>\n",
       "      <th></th>\n",
       "      <th></th>\n",
       "      <th></th>\n",
       "      <th></th>\n",
       "      <th></th>\n",
       "      <th></th>\n",
       "    </tr>\n",
       "  </thead>\n",
       "  <tbody>\n",
       "    <tr>\n",
       "      <th>Experimental</th>\n",
       "      <td>0.94</td>\n",
       "      <td>0.53</td>\n",
       "      <td>0.82</td>\n",
       "      <td>0.34</td>\n",
       "      <td>0.08</td>\n",
       "      <td>0.10</td>\n",
       "      <td>0.08</td>\n",
       "      <td>0.11</td>\n",
       "    </tr>\n",
       "    <tr>\n",
       "      <th>GAFF v1.7</th>\n",
       "      <td>0.53</td>\n",
       "      <td>0.86</td>\n",
       "      <td>0.54</td>\n",
       "      <td>0.59</td>\n",
       "      <td>0.10</td>\n",
       "      <td>0.04</td>\n",
       "      <td>0.10</td>\n",
       "      <td>0.11</td>\n",
       "    </tr>\n",
       "    <tr>\n",
       "      <th>GAFF v2.1</th>\n",
       "      <td>0.82</td>\n",
       "      <td>0.54</td>\n",
       "      <td>0.96</td>\n",
       "      <td>0.37</td>\n",
       "      <td>0.08</td>\n",
       "      <td>0.10</td>\n",
       "      <td>0.01</td>\n",
       "      <td>0.11</td>\n",
       "    </tr>\n",
       "    <tr>\n",
       "      <th>SMIRNOFF99Frosst</th>\n",
       "      <td>0.34</td>\n",
       "      <td>0.59</td>\n",
       "      <td>0.37</td>\n",
       "      <td>0.74</td>\n",
       "      <td>0.11</td>\n",
       "      <td>0.12</td>\n",
       "      <td>0.11</td>\n",
       "      <td>0.09</td>\n",
       "    </tr>\n",
       "  </tbody>\n",
       "</table>\n",
       "</div>"
      ],
      "text/plain": [
       "                         R**2                                       \\\n",
       "y                Experimental GAFF v1.7 GAFF v2.1 SMIRNOFF99Frosst   \n",
       "x                                                                    \n",
       "Experimental             0.94      0.53      0.82             0.34   \n",
       "GAFF v1.7                0.53      0.86      0.54             0.59   \n",
       "GAFF v2.1                0.82      0.54      0.96             0.37   \n",
       "SMIRNOFF99Frosst         0.34      0.59      0.37             0.74   \n",
       "\n",
       "                     R**2 SEM                                       \n",
       "y                Experimental GAFF v1.7 GAFF v2.1 SMIRNOFF99Frosst  \n",
       "x                                                                   \n",
       "Experimental             0.08      0.10      0.08             0.11  \n",
       "GAFF v1.7                0.10      0.04      0.10             0.11  \n",
       "GAFF v2.1                0.08      0.10      0.01             0.11  \n",
       "SMIRNOFF99Frosst         0.11      0.12      0.11             0.09  "
      ]
     },
     "execution_count": 9,
     "metadata": {},
     "output_type": "execute_result"
    }
   ],
   "source": [
    "pd.options.display.float_format = '{:,.2f}'.format\n",
    "delta_G_r_squared_pivot"
   ]
  },
  {
   "cell_type": "code",
   "execution_count": 10,
   "metadata": {
    "ExecuteTime": {
     "end_time": "2019-02-01T23:07:10.071291Z",
     "start_time": "2019-02-01T23:07:10.004327Z"
    },
    "scrolled": true
   },
   "outputs": [
    {
     "data": {
      "text/html": [
       "<div>\n",
       "<style scoped>\n",
       "    .dataframe tbody tr th:only-of-type {\n",
       "        vertical-align: middle;\n",
       "    }\n",
       "\n",
       "    .dataframe tbody tr th {\n",
       "        vertical-align: top;\n",
       "    }\n",
       "\n",
       "    .dataframe thead tr th {\n",
       "        text-align: left;\n",
       "    }\n",
       "\n",
       "    .dataframe thead tr:last-of-type th {\n",
       "        text-align: right;\n",
       "    }\n",
       "</style>\n",
       "<table border=\"1\" class=\"dataframe\">\n",
       "  <thead>\n",
       "    <tr>\n",
       "      <th></th>\n",
       "      <th colspan=\"4\" halign=\"left\">RMSE</th>\n",
       "      <th colspan=\"4\" halign=\"left\">RMSE SEM</th>\n",
       "    </tr>\n",
       "    <tr>\n",
       "      <th>y</th>\n",
       "      <th>Experimental</th>\n",
       "      <th>GAFF v1.7</th>\n",
       "      <th>GAFF v2.1</th>\n",
       "      <th>SMIRNOFF99Frosst</th>\n",
       "      <th>Experimental</th>\n",
       "      <th>GAFF v1.7</th>\n",
       "      <th>GAFF v2.1</th>\n",
       "      <th>SMIRNOFF99Frosst</th>\n",
       "    </tr>\n",
       "    <tr>\n",
       "      <th>x</th>\n",
       "      <th></th>\n",
       "      <th></th>\n",
       "      <th></th>\n",
       "      <th></th>\n",
       "      <th></th>\n",
       "      <th></th>\n",
       "      <th></th>\n",
       "      <th></th>\n",
       "    </tr>\n",
       "  </thead>\n",
       "  <tbody>\n",
       "    <tr>\n",
       "      <th>Experimental</th>\n",
       "      <td>0.21</td>\n",
       "      <td>0.88</td>\n",
       "      <td>1.68</td>\n",
       "      <td>0.91</td>\n",
       "      <td>0.16</td>\n",
       "      <td>0.09</td>\n",
       "      <td>0.09</td>\n",
       "      <td>0.10</td>\n",
       "    </tr>\n",
       "    <tr>\n",
       "      <th>GAFF v1.7</th>\n",
       "      <td>0.88</td>\n",
       "      <td>0.37</td>\n",
       "      <td>2.22</td>\n",
       "      <td>0.80</td>\n",
       "      <td>0.09</td>\n",
       "      <td>0.04</td>\n",
       "      <td>0.12</td>\n",
       "      <td>0.12</td>\n",
       "    </tr>\n",
       "    <tr>\n",
       "      <th>GAFF v2.1</th>\n",
       "      <td>1.68</td>\n",
       "      <td>2.23</td>\n",
       "      <td>0.29</td>\n",
       "      <td>1.89</td>\n",
       "      <td>0.09</td>\n",
       "      <td>0.12</td>\n",
       "      <td>0.03</td>\n",
       "      <td>0.13</td>\n",
       "    </tr>\n",
       "    <tr>\n",
       "      <th>SMIRNOFF99Frosst</th>\n",
       "      <td>0.91</td>\n",
       "      <td>0.79</td>\n",
       "      <td>1.90</td>\n",
       "      <td>0.46</td>\n",
       "      <td>0.11</td>\n",
       "      <td>0.11</td>\n",
       "      <td>0.14</td>\n",
       "      <td>0.07</td>\n",
       "    </tr>\n",
       "  </tbody>\n",
       "</table>\n",
       "</div>"
      ],
      "text/plain": [
       "                         RMSE                                       \\\n",
       "y                Experimental GAFF v1.7 GAFF v2.1 SMIRNOFF99Frosst   \n",
       "x                                                                    \n",
       "Experimental             0.21      0.88      1.68             0.91   \n",
       "GAFF v1.7                0.88      0.37      2.22             0.80   \n",
       "GAFF v2.1                1.68      2.23      0.29             1.89   \n",
       "SMIRNOFF99Frosst         0.91      0.79      1.90             0.46   \n",
       "\n",
       "                     RMSE SEM                                       \n",
       "y                Experimental GAFF v1.7 GAFF v2.1 SMIRNOFF99Frosst  \n",
       "x                                                                   \n",
       "Experimental             0.16      0.09      0.09             0.10  \n",
       "GAFF v1.7                0.09      0.04      0.12             0.12  \n",
       "GAFF v2.1                0.09      0.12      0.03             0.13  \n",
       "SMIRNOFF99Frosst         0.11      0.11      0.14             0.07  "
      ]
     },
     "execution_count": 10,
     "metadata": {},
     "output_type": "execute_result"
    }
   ],
   "source": [
    "delta_G_rmse_pivot"
   ]
  },
  {
   "cell_type": "code",
   "execution_count": 11,
   "metadata": {
    "ExecuteTime": {
     "end_time": "2019-02-01T23:07:10.154895Z",
     "start_time": "2019-02-01T23:07:10.072905Z"
    }
   },
   "outputs": [
    {
     "data": {
      "text/html": [
       "<div>\n",
       "<style scoped>\n",
       "    .dataframe tbody tr th:only-of-type {\n",
       "        vertical-align: middle;\n",
       "    }\n",
       "\n",
       "    .dataframe tbody tr th {\n",
       "        vertical-align: top;\n",
       "    }\n",
       "\n",
       "    .dataframe thead tr th {\n",
       "        text-align: left;\n",
       "    }\n",
       "\n",
       "    .dataframe thead tr:last-of-type th {\n",
       "        text-align: right;\n",
       "    }\n",
       "</style>\n",
       "<table border=\"1\" class=\"dataframe\">\n",
       "  <thead>\n",
       "    <tr>\n",
       "      <th></th>\n",
       "      <th colspan=\"4\" halign=\"left\">MSE</th>\n",
       "      <th colspan=\"4\" halign=\"left\">MSE SEM</th>\n",
       "    </tr>\n",
       "    <tr>\n",
       "      <th>y</th>\n",
       "      <th>Experimental</th>\n",
       "      <th>GAFF v1.7</th>\n",
       "      <th>GAFF v2.1</th>\n",
       "      <th>SMIRNOFF99Frosst</th>\n",
       "      <th>Experimental</th>\n",
       "      <th>GAFF v1.7</th>\n",
       "      <th>GAFF v2.1</th>\n",
       "      <th>SMIRNOFF99Frosst</th>\n",
       "    </tr>\n",
       "    <tr>\n",
       "      <th>x</th>\n",
       "      <th></th>\n",
       "      <th></th>\n",
       "      <th></th>\n",
       "      <th></th>\n",
       "      <th></th>\n",
       "      <th></th>\n",
       "      <th></th>\n",
       "      <th></th>\n",
       "    </tr>\n",
       "  </thead>\n",
       "  <tbody>\n",
       "    <tr>\n",
       "      <th>Experimental</th>\n",
       "      <td>0.00</td>\n",
       "      <td>0.46</td>\n",
       "      <td>-1.56</td>\n",
       "      <td>-0.01</td>\n",
       "      <td>0.00</td>\n",
       "      <td>0.46</td>\n",
       "      <td>-1.56</td>\n",
       "      <td>-0.01</td>\n",
       "    </tr>\n",
       "    <tr>\n",
       "      <th>GAFF v1.7</th>\n",
       "      <td>-0.46</td>\n",
       "      <td>-0.00</td>\n",
       "      <td>-2.01</td>\n",
       "      <td>-0.47</td>\n",
       "      <td>-0.46</td>\n",
       "      <td>-0.00</td>\n",
       "      <td>-2.01</td>\n",
       "      <td>-0.47</td>\n",
       "    </tr>\n",
       "    <tr>\n",
       "      <th>GAFF v2.1</th>\n",
       "      <td>1.56</td>\n",
       "      <td>2.02</td>\n",
       "      <td>-0.00</td>\n",
       "      <td>1.54</td>\n",
       "      <td>1.56</td>\n",
       "      <td>2.02</td>\n",
       "      <td>-0.00</td>\n",
       "      <td>1.54</td>\n",
       "    </tr>\n",
       "    <tr>\n",
       "      <th>SMIRNOFF99Frosst</th>\n",
       "      <td>0.01</td>\n",
       "      <td>0.47</td>\n",
       "      <td>-1.54</td>\n",
       "      <td>0.00</td>\n",
       "      <td>0.01</td>\n",
       "      <td>0.47</td>\n",
       "      <td>-1.54</td>\n",
       "      <td>0.00</td>\n",
       "    </tr>\n",
       "  </tbody>\n",
       "</table>\n",
       "</div>"
      ],
      "text/plain": [
       "                          MSE                                       \\\n",
       "y                Experimental GAFF v1.7 GAFF v2.1 SMIRNOFF99Frosst   \n",
       "x                                                                    \n",
       "Experimental             0.00      0.46     -1.56            -0.01   \n",
       "GAFF v1.7               -0.46     -0.00     -2.01            -0.47   \n",
       "GAFF v2.1                1.56      2.02     -0.00             1.54   \n",
       "SMIRNOFF99Frosst         0.01      0.47     -1.54             0.00   \n",
       "\n",
       "                      MSE SEM                                       \n",
       "y                Experimental GAFF v1.7 GAFF v2.1 SMIRNOFF99Frosst  \n",
       "x                                                                   \n",
       "Experimental             0.00      0.46     -1.56            -0.01  \n",
       "GAFF v1.7               -0.46     -0.00     -2.01            -0.47  \n",
       "GAFF v2.1                1.56      2.02     -0.00             1.54  \n",
       "SMIRNOFF99Frosst         0.01      0.47     -1.54             0.00  "
      ]
     },
     "execution_count": 11,
     "metadata": {},
     "output_type": "execute_result"
    }
   ],
   "source": [
    "delta_G_mse_pivot"
   ]
  },
  {
   "cell_type": "code",
   "execution_count": 12,
   "metadata": {
    "ExecuteTime": {
     "end_time": "2019-02-01T23:07:10.256346Z",
     "start_time": "2019-02-01T23:07:10.157033Z"
    }
   },
   "outputs": [
    {
     "data": {
      "text/html": [
       "<div>\n",
       "<style scoped>\n",
       "    .dataframe tbody tr th:only-of-type {\n",
       "        vertical-align: middle;\n",
       "    }\n",
       "\n",
       "    .dataframe tbody tr th {\n",
       "        vertical-align: top;\n",
       "    }\n",
       "\n",
       "    .dataframe thead tr th {\n",
       "        text-align: left;\n",
       "    }\n",
       "\n",
       "    .dataframe thead tr:last-of-type th {\n",
       "        text-align: right;\n",
       "    }\n",
       "</style>\n",
       "<table border=\"1\" class=\"dataframe\">\n",
       "  <thead>\n",
       "    <tr>\n",
       "      <th></th>\n",
       "      <th colspan=\"4\" halign=\"left\">R**2</th>\n",
       "      <th colspan=\"4\" halign=\"left\">R**2 SEM</th>\n",
       "    </tr>\n",
       "    <tr>\n",
       "      <th>y</th>\n",
       "      <th>Experimental</th>\n",
       "      <th>GAFF v1.7</th>\n",
       "      <th>GAFF v2.1</th>\n",
       "      <th>SMIRNOFF99Frosst</th>\n",
       "      <th>Experimental</th>\n",
       "      <th>GAFF v1.7</th>\n",
       "      <th>GAFF v2.1</th>\n",
       "      <th>SMIRNOFF99Frosst</th>\n",
       "    </tr>\n",
       "    <tr>\n",
       "      <th>x</th>\n",
       "      <th></th>\n",
       "      <th></th>\n",
       "      <th></th>\n",
       "      <th></th>\n",
       "      <th></th>\n",
       "      <th></th>\n",
       "      <th></th>\n",
       "      <th></th>\n",
       "    </tr>\n",
       "  </thead>\n",
       "  <tbody>\n",
       "    <tr>\n",
       "      <th>Experimental</th>\n",
       "      <td>0.99</td>\n",
       "      <td>0.39</td>\n",
       "      <td>0.75</td>\n",
       "      <td>0.44</td>\n",
       "      <td>0.01</td>\n",
       "      <td>0.12</td>\n",
       "      <td>0.08</td>\n",
       "      <td>0.12</td>\n",
       "    </tr>\n",
       "    <tr>\n",
       "      <th>GAFF v1.7</th>\n",
       "      <td>0.39</td>\n",
       "      <td>0.89</td>\n",
       "      <td>0.61</td>\n",
       "      <td>0.70</td>\n",
       "      <td>0.12</td>\n",
       "      <td>0.04</td>\n",
       "      <td>0.10</td>\n",
       "      <td>0.09</td>\n",
       "    </tr>\n",
       "    <tr>\n",
       "      <th>GAFF v2.1</th>\n",
       "      <td>0.75</td>\n",
       "      <td>0.61</td>\n",
       "      <td>0.97</td>\n",
       "      <td>0.60</td>\n",
       "      <td>0.08</td>\n",
       "      <td>0.10</td>\n",
       "      <td>0.01</td>\n",
       "      <td>0.10</td>\n",
       "    </tr>\n",
       "    <tr>\n",
       "      <th>SMIRNOFF99Frosst</th>\n",
       "      <td>0.44</td>\n",
       "      <td>0.70</td>\n",
       "      <td>0.59</td>\n",
       "      <td>0.89</td>\n",
       "      <td>0.11</td>\n",
       "      <td>0.09</td>\n",
       "      <td>0.10</td>\n",
       "      <td>0.04</td>\n",
       "    </tr>\n",
       "  </tbody>\n",
       "</table>\n",
       "</div>"
      ],
      "text/plain": [
       "                         R**2                                       \\\n",
       "y                Experimental GAFF v1.7 GAFF v2.1 SMIRNOFF99Frosst   \n",
       "x                                                                    \n",
       "Experimental             0.99      0.39      0.75             0.44   \n",
       "GAFF v1.7                0.39      0.89      0.61             0.70   \n",
       "GAFF v2.1                0.75      0.61      0.97             0.60   \n",
       "SMIRNOFF99Frosst         0.44      0.70      0.59             0.89   \n",
       "\n",
       "                     R**2 SEM                                       \n",
       "y                Experimental GAFF v1.7 GAFF v2.1 SMIRNOFF99Frosst  \n",
       "x                                                                   \n",
       "Experimental             0.01      0.12      0.08             0.12  \n",
       "GAFF v1.7                0.12      0.04      0.10             0.09  \n",
       "GAFF v2.1                0.08      0.10      0.01             0.10  \n",
       "SMIRNOFF99Frosst         0.11      0.09      0.10             0.04  "
      ]
     },
     "execution_count": 12,
     "metadata": {},
     "output_type": "execute_result"
    }
   ],
   "source": [
    "delta_H_r_squared_pivot"
   ]
  },
  {
   "cell_type": "code",
   "execution_count": 13,
   "metadata": {
    "ExecuteTime": {
     "end_time": "2019-02-01T23:07:10.350453Z",
     "start_time": "2019-02-01T23:07:10.258933Z"
    }
   },
   "outputs": [
    {
     "data": {
      "text/html": [
       "<div>\n",
       "<style scoped>\n",
       "    .dataframe tbody tr th:only-of-type {\n",
       "        vertical-align: middle;\n",
       "    }\n",
       "\n",
       "    .dataframe tbody tr th {\n",
       "        vertical-align: top;\n",
       "    }\n",
       "\n",
       "    .dataframe thead tr th {\n",
       "        text-align: left;\n",
       "    }\n",
       "\n",
       "    .dataframe thead tr:last-of-type th {\n",
       "        text-align: right;\n",
       "    }\n",
       "</style>\n",
       "<table border=\"1\" class=\"dataframe\">\n",
       "  <thead>\n",
       "    <tr>\n",
       "      <th></th>\n",
       "      <th colspan=\"4\" halign=\"left\">RMSE</th>\n",
       "      <th colspan=\"4\" halign=\"left\">RMSE SEM</th>\n",
       "    </tr>\n",
       "    <tr>\n",
       "      <th>y</th>\n",
       "      <th>Experimental</th>\n",
       "      <th>GAFF v1.7</th>\n",
       "      <th>GAFF v2.1</th>\n",
       "      <th>SMIRNOFF99Frosst</th>\n",
       "      <th>Experimental</th>\n",
       "      <th>GAFF v1.7</th>\n",
       "      <th>GAFF v2.1</th>\n",
       "      <th>SMIRNOFF99Frosst</th>\n",
       "    </tr>\n",
       "    <tr>\n",
       "      <th>x</th>\n",
       "      <th></th>\n",
       "      <th></th>\n",
       "      <th></th>\n",
       "      <th></th>\n",
       "      <th></th>\n",
       "      <th></th>\n",
       "      <th></th>\n",
       "      <th></th>\n",
       "    </tr>\n",
       "  </thead>\n",
       "  <tbody>\n",
       "    <tr>\n",
       "      <th>Experimental</th>\n",
       "      <td>0.15</td>\n",
       "      <td>2.55</td>\n",
       "      <td>2.21</td>\n",
       "      <td>1.85</td>\n",
       "      <td>0.06</td>\n",
       "      <td>0.24</td>\n",
       "      <td>0.22</td>\n",
       "      <td>0.23</td>\n",
       "    </tr>\n",
       "    <tr>\n",
       "      <th>GAFF v1.7</th>\n",
       "      <td>2.54</td>\n",
       "      <td>0.71</td>\n",
       "      <td>3.88</td>\n",
       "      <td>1.65</td>\n",
       "      <td>0.24</td>\n",
       "      <td>0.11</td>\n",
       "      <td>0.21</td>\n",
       "      <td>0.19</td>\n",
       "    </tr>\n",
       "    <tr>\n",
       "      <th>GAFF v2.1</th>\n",
       "      <td>2.20</td>\n",
       "      <td>3.88</td>\n",
       "      <td>0.44</td>\n",
       "      <td>2.96</td>\n",
       "      <td>0.23</td>\n",
       "      <td>0.22</td>\n",
       "      <td>0.05</td>\n",
       "      <td>0.23</td>\n",
       "    </tr>\n",
       "    <tr>\n",
       "      <th>SMIRNOFF99Frosst</th>\n",
       "      <td>1.86</td>\n",
       "      <td>1.65</td>\n",
       "      <td>2.97</td>\n",
       "      <td>0.75</td>\n",
       "      <td>0.22</td>\n",
       "      <td>0.17</td>\n",
       "      <td>0.23</td>\n",
       "      <td>0.12</td>\n",
       "    </tr>\n",
       "  </tbody>\n",
       "</table>\n",
       "</div>"
      ],
      "text/plain": [
       "                         RMSE                                       \\\n",
       "y                Experimental GAFF v1.7 GAFF v2.1 SMIRNOFF99Frosst   \n",
       "x                                                                    \n",
       "Experimental             0.15      2.55      2.21             1.85   \n",
       "GAFF v1.7                2.54      0.71      3.88             1.65   \n",
       "GAFF v2.1                2.20      3.88      0.44             2.96   \n",
       "SMIRNOFF99Frosst         1.86      1.65      2.97             0.75   \n",
       "\n",
       "                     RMSE SEM                                       \n",
       "y                Experimental GAFF v1.7 GAFF v2.1 SMIRNOFF99Frosst  \n",
       "x                                                                   \n",
       "Experimental             0.06      0.24      0.22             0.23  \n",
       "GAFF v1.7                0.24      0.11      0.21             0.19  \n",
       "GAFF v2.1                0.23      0.22      0.05             0.23  \n",
       "SMIRNOFF99Frosst         0.22      0.17      0.23             0.12  "
      ]
     },
     "execution_count": 13,
     "metadata": {},
     "output_type": "execute_result"
    }
   ],
   "source": [
    "delta_H_rmse_pivot"
   ]
  },
  {
   "cell_type": "code",
   "execution_count": 14,
   "metadata": {
    "ExecuteTime": {
     "end_time": "2019-02-01T23:07:10.430602Z",
     "start_time": "2019-02-01T23:07:10.352962Z"
    }
   },
   "outputs": [
    {
     "data": {
      "text/html": [
       "<div>\n",
       "<style scoped>\n",
       "    .dataframe tbody tr th:only-of-type {\n",
       "        vertical-align: middle;\n",
       "    }\n",
       "\n",
       "    .dataframe tbody tr th {\n",
       "        vertical-align: top;\n",
       "    }\n",
       "\n",
       "    .dataframe thead tr th {\n",
       "        text-align: left;\n",
       "    }\n",
       "\n",
       "    .dataframe thead tr:last-of-type th {\n",
       "        text-align: right;\n",
       "    }\n",
       "</style>\n",
       "<table border=\"1\" class=\"dataframe\">\n",
       "  <thead>\n",
       "    <tr>\n",
       "      <th></th>\n",
       "      <th colspan=\"4\" halign=\"left\">MSE</th>\n",
       "      <th colspan=\"4\" halign=\"left\">MSE SEM</th>\n",
       "    </tr>\n",
       "    <tr>\n",
       "      <th>y</th>\n",
       "      <th>Experimental</th>\n",
       "      <th>GAFF v1.7</th>\n",
       "      <th>GAFF v2.1</th>\n",
       "      <th>SMIRNOFF99Frosst</th>\n",
       "      <th>Experimental</th>\n",
       "      <th>GAFF v1.7</th>\n",
       "      <th>GAFF v2.1</th>\n",
       "      <th>SMIRNOFF99Frosst</th>\n",
       "    </tr>\n",
       "    <tr>\n",
       "      <th>x</th>\n",
       "      <th></th>\n",
       "      <th></th>\n",
       "      <th></th>\n",
       "      <th></th>\n",
       "      <th></th>\n",
       "      <th></th>\n",
       "      <th></th>\n",
       "      <th></th>\n",
       "    </tr>\n",
       "  </thead>\n",
       "  <tbody>\n",
       "    <tr>\n",
       "      <th>Experimental</th>\n",
       "      <td>0.00</td>\n",
       "      <td>1.85</td>\n",
       "      <td>-1.64</td>\n",
       "      <td>0.77</td>\n",
       "      <td>0.03</td>\n",
       "      <td>0.27</td>\n",
       "      <td>0.22</td>\n",
       "      <td>0.27</td>\n",
       "    </tr>\n",
       "    <tr>\n",
       "      <th>GAFF v1.7</th>\n",
       "      <td>-1.84</td>\n",
       "      <td>-0.00</td>\n",
       "      <td>-3.48</td>\n",
       "      <td>-1.08</td>\n",
       "      <td>0.27</td>\n",
       "      <td>0.11</td>\n",
       "      <td>0.26</td>\n",
       "      <td>0.20</td>\n",
       "    </tr>\n",
       "    <tr>\n",
       "      <th>GAFF v2.1</th>\n",
       "      <td>1.63</td>\n",
       "      <td>3.48</td>\n",
       "      <td>0.00</td>\n",
       "      <td>2.40</td>\n",
       "      <td>0.23</td>\n",
       "      <td>0.27</td>\n",
       "      <td>0.07</td>\n",
       "      <td>0.27</td>\n",
       "    </tr>\n",
       "    <tr>\n",
       "      <th>SMIRNOFF99Frosst</th>\n",
       "      <td>-0.77</td>\n",
       "      <td>1.08</td>\n",
       "      <td>-2.41</td>\n",
       "      <td>-0.00</td>\n",
       "      <td>0.26</td>\n",
       "      <td>0.19</td>\n",
       "      <td>0.27</td>\n",
       "      <td>0.11</td>\n",
       "    </tr>\n",
       "  </tbody>\n",
       "</table>\n",
       "</div>"
      ],
      "text/plain": [
       "                          MSE                                       \\\n",
       "y                Experimental GAFF v1.7 GAFF v2.1 SMIRNOFF99Frosst   \n",
       "x                                                                    \n",
       "Experimental             0.00      1.85     -1.64             0.77   \n",
       "GAFF v1.7               -1.84     -0.00     -3.48            -1.08   \n",
       "GAFF v2.1                1.63      3.48      0.00             2.40   \n",
       "SMIRNOFF99Frosst        -0.77      1.08     -2.41            -0.00   \n",
       "\n",
       "                      MSE SEM                                       \n",
       "y                Experimental GAFF v1.7 GAFF v2.1 SMIRNOFF99Frosst  \n",
       "x                                                                   \n",
       "Experimental             0.03      0.27      0.22             0.27  \n",
       "GAFF v1.7                0.27      0.11      0.26             0.20  \n",
       "GAFF v2.1                0.23      0.27      0.07             0.27  \n",
       "SMIRNOFF99Frosst         0.26      0.19      0.27             0.11  "
      ]
     },
     "execution_count": 14,
     "metadata": {},
     "output_type": "execute_result"
    }
   ],
   "source": [
    "delta_H_mse_pivot"
   ]
  },
  {
   "cell_type": "code",
   "execution_count": 10,
   "metadata": {
    "ExecuteTime": {
     "end_time": "2019-02-04T19:10:30.559665Z",
     "start_time": "2019-02-04T19:10:30.500314Z"
    }
   },
   "outputs": [],
   "source": [
    "def pretty_print(results):\n",
    "    print(f\"{results['mean']['RMSE']:2.2f} ± {results['sem']['RMSE']:2.2f}\", end=\"\")\n",
    "    print(\"\\n\", end=\"\")\n",
    "    print(f\"{results['mean']['MSE']:2.2f} ± {results['sem']['MSE']:2.2f}\", end=\"\")\n",
    "    print(\"\\n\", end=\"\")\n",
    "    print(f\"{results['mean']['R**2']:2.2f} ± {results['sem']['R**2']:2.2f}\", end=\"\")\n",
    "    print(\"\\n\", end=\"\")\n",
    "    print(f\"{results['mean']['slope']:2.2f} ± {results['sem']['slope']:2.2f}\", end=\"\")\n",
    "    print(\"\\n\", end=\"\")\n",
    "    print(f\"{results['mean']['intercept']:2.2f} ± {results['sem']['intercept']:2.2f}\", end=\"\")\n",
    "    print(\"\\n\")"
   ]
  },
  {
   "cell_type": "markdown",
   "metadata": {},
   "source": [
    "# Binding free energy\n",
    "\n",
    "(Create statistics files for re-use)"
   ]
  },
  {
   "cell_type": "code",
   "execution_count": 102,
   "metadata": {
    "ExecuteTime": {
     "end_time": "2019-02-09T19:57:22.745624Z",
     "start_time": "2019-02-09T19:57:22.708585Z"
    }
   },
   "outputs": [],
   "source": [
    "from multiprocessing import Pool"
   ]
  },
  {
   "cell_type": "code",
   "execution_count": 114,
   "metadata": {
    "ExecuteTime": {
     "end_time": "2019-02-09T20:24:44.331323Z",
     "start_time": "2019-02-09T20:04:08.758589Z"
    }
   },
   "outputs": [
    {
     "name": "stdout",
     "output_type": "stream",
     "text": [
      "Skipping results/experimental_bg2bg2_dG_statistics_overall.csv...\n",
      "Skipping results/experimental_bgbg_dG_statistics_overall.csv...\n",
      "Skipping results/experimental_bgbg_dG_statistics_aliphatic_ammoniums.csv...\n",
      "Skipping results/experimental_bg2bg2_dG_statistics_aliphatic_ammoniums.csv...\n",
      "Skipping results/experimental_bgbg_dG_statistics_cyclic_alcohols.csv...\n",
      "Skipping results/experimental_smirnoff_dG_statistics_overall.csv...\n",
      "Skipping results/experimental_bg2bg2_dG_statistics_cyclic_alcohols.csv...\n",
      "Skipping results/experimental_bgbg_dG_statistics_aliphatic_carboxylates.csv...\n",
      "Skipping results/experimental_smirnoff_dG_statistics_aliphatic_ammoniums.csv...\n",
      "Skipping results/experimental_bg2bg2_dG_statistics_aliphatic_carboxylates.csv...\n",
      "Skipping results/experimental_smirnoff_dG_statistics_cyclic_alcohols.csv...\n",
      "Skipping results/experimental_smirnoff_dG_statistics_aliphatic_carboxylates.csv...\n",
      "Skipping results/bgbg_bg2bg2_by_orientation_dG_statistics_overall.csv...\n",
      "Skipping results/bgbg_bg2bg2_dG_statistics_overall.csv...\n",
      "Skipping results/bgbg_bg2bg2_dG_statistics_aliphatic_ammoniums.csv...\n",
      "Skipping results/bgbg_bg2bg2_by_orientation_dG_statistics_aliphatic_ammoniums.csv...\n",
      "Skipping results/bgbg_bg2bg2_dG_statistics_cyclic_alcohols.csv...\n",
      "Skipping results/bgbg_bg2bg2_by_orientation_dG_statistics_cyclic_alcohols.csv...\n",
      "Skipping results/bgbg_bg2bg2_dG_statistics_aliphatic_carboxylates.csv...\n",
      "Skipping results/bgbg_bg2bg2_by_orientation_dG_statistics_aliphatic_carboxylates.csv...\n"
     ]
    }
   ],
   "source": [
    "with Pool(12) as p:\n",
    "\n",
    "    p.starmap(\n",
    "        write_statistics,\n",
    "        [\n",
    "            (experimental, smirnoff_combined, \"G\", \"experimental_smirnoff\"),\n",
    "            (experimental, bgbg_combined, \"G\", \"experimental_bgbg\"),\n",
    "            (experimental, bg2bg2_combined, \"G\", \"experimental_bg2bg2\"),\n",
    "            (bgbg_combined, smirnoff_combined, \"G\", \"bgbg_smirnoff\"),\n",
    "            (bg2bg2_combined, smirnoff_combined, \"G\", \"bg2bg2_smirnoff\"),\n",
    "            (bgbg_combined, bg2bg2_combined, \"G\", \"bgbg_bg2bg2\"),\n",
    "            (bgbg, bg2bg2, \"G\", \"bgbg_bg2bg2_by_orientation\"),\n",
    "            (bgbg, smirnoff, \"G\", \"bgbg_smirnoff_by_orientation\"),\n",
    "            (bg2bg2, smirnoff, \"G\", \"bg2bg2_smirnoff_by_orientation\"),\n",
    "        ],\n",
    "    )\n"
   ]
  },
  {
   "cell_type": "markdown",
   "metadata": {},
   "source": [
    "## Enthalpy"
   ]
  },
  {
   "cell_type": "code",
   "execution_count": 115,
   "metadata": {
    "ExecuteTime": {
     "end_time": "2019-02-09T20:46:58.768639Z",
     "start_time": "2019-02-09T20:26:17.163342Z"
    }
   },
   "outputs": [
    {
     "name": "stdout",
     "output_type": "stream",
     "text": [
      "Skipping results/experimental_bgbg_dH_statistics_overall.csv...\n",
      "Skipping results/experimental_bg2bg2_dH_statistics_overall.csv...\n",
      "Skipping results/experimental_bgbg_dH_statistics_aliphatic_ammoniums.csv...\n",
      "Skipping results/experimental_bg2bg2_dH_statistics_aliphatic_ammoniums.csv...\n",
      "Skipping results/experimental_bg2bg2_dH_statistics_cyclic_alcohols.csv...\n",
      "Skipping results/experimental_smirnoff_dH_statistics_overall.csv...\n",
      "Skipping results/experimental_bgbg_dH_statistics_cyclic_alcohols.csv...\n",
      "Skipping results/experimental_bg2bg2_dH_statistics_aliphatic_carboxylates.csv...\n",
      "Skipping results/experimental_smirnoff_dH_statistics_aliphatic_ammoniums.csv...\n",
      "Skipping results/experimental_smirnoff_dH_statistics_cyclic_alcohols.csv...\n",
      "Skipping results/experimental_bgbg_dH_statistics_aliphatic_carboxylates.csv...\n",
      "Skipping results/experimental_smirnoff_dH_statistics_aliphatic_carboxylates.csv...\n",
      "Skipping results/bgbg_bg2bg2_dH_statistics_overall.csv...\n",
      "Skipping results/bgbg_bg2bg2_dH_statistics_aliphatic_ammoniums.csv...\n",
      "Skipping results/bgbg_bg2bg2_dH_statistics_cyclic_alcohols.csv...\n",
      "Skipping results/bgbg_bg2bg2_dH_statistics_aliphatic_carboxylates.csv...\n",
      "Skipping results/bgbg_bg2bg2_by_orientation_dH_statistics_overall.csv...\n",
      "Skipping results/bgbg_bg2bg2_by_orientation_dH_statistics_aliphatic_ammoniums.csv...\n",
      "Skipping results/bgbg_bg2bg2_by_orientation_dH_statistics_cyclic_alcohols.csv...\n",
      "Skipping results/bgbg_bg2bg2_by_orientation_dH_statistics_aliphatic_carboxylates.csv...\n"
     ]
    }
   ],
   "source": [
    "with Pool(12) as p:\n",
    "\n",
    "    p.starmap(\n",
    "        write_statistics,\n",
    "        [\n",
    "            (experimental, smirnoff_combined, \"H\", \"experimental_smirnoff\"),\n",
    "            (experimental, bgbg_combined, \"H\", \"experimental_bgbg\"),\n",
    "            (experimental, bg2bg2_combined, \"H\", \"experimental_bg2bg2\"),\n",
    "            (bgbg_combined, smirnoff_combined, \"H\", \"bgbg_smirnoff\"),\n",
    "            (bg2bg2_combined, smirnoff_combined, \"H\", \"bg2bg2_smirnoff\"),\n",
    "            (bgbg_combined, bg2bg2_combined, \"H\", \"bgbg_bg2bg2\"),\n",
    "            (bgbg, bg2bg2, \"H\", \"bgbg_bg2bg2_by_orientation\"),\n",
    "            (bgbg, smirnoff, \"H\", \"bgbg_smirnoff_by_orientation\"),\n",
    "            (bg2bg2, smirnoff, \"H\", \"bg2bg2_smirnoff_by_orientation\"),\n",
    "        ],\n",
    "    )\n"
   ]
  },
  {
   "cell_type": "markdown",
   "metadata": {},
   "source": [
    "# Entropy"
   ]
  },
  {
   "cell_type": "code",
   "execution_count": 117,
   "metadata": {
    "ExecuteTime": {
     "end_time": "2019-02-09T20:51:47.142399Z",
     "start_time": "2019-02-09T20:51:47.015690Z"
    }
   },
   "outputs": [],
   "source": [
    "bgbg[\"-TdS\"] = bgbg[\"Delta G\"] - bgbg[\"Delta H\"]\n",
    "bgbg[\"-TdS_SEM\"] = np.sqrt(bgbg[\"G_SEM\"]**2 + bgbg[\"H_SEM\"]**2)\n",
    "\n",
    "bg2bg2[\"-TdS\"] = bg2bg2[\"Delta G\"] - bg2bg2[\"Delta H\"]\n",
    "bg2bg2[\"-TdS_SEM\"] = np.sqrt(bg2bg2[\"G_SEM\"]**2 + bg2bg2[\"H_SEM\"]**2)\n",
    "\n",
    "smirnoff[\"-TdS\"] = smirnoff[\"Delta G\"] - smirnoff[\"Delta H\"]\n",
    "smirnoff[\"-TdS_SEM\"] = np.sqrt(smirnoff[\"G_SEM\"]**2 + smirnoff[\"H_SEM\"]**2)\n",
    "\n",
    "\n",
    "smirnoff_combined[\"-TdS\"] = smirnoff_combined[\"Delta G\"] - smirnoff_combined[\"Delta H\"]\n",
    "smirnoff_combined[\"-TdS_SEM\"] = np.sqrt(smirnoff_combined[\"G_SEM\"]**2 + smirnoff_combined[\"H_SEM\"]**2)\n",
    "\n",
    "bgbg_combined[\"-TdS\"] = bgbg_combined[\"Delta G\"] - bgbg_combined[\"Delta H\"]\n",
    "bgbg_combined[\"-TdS_SEM\"] = np.sqrt(bgbg_combined[\"G_SEM\"]**2 + bgbg_combined[\"H_SEM\"]**2)\n",
    "\n",
    "bg2bg2_combined[\"-TdS\"] = bg2bg2_combined[\"Delta G\"] - bg2bg2_combined[\"Delta H\"]\n",
    "bg2bg2_combined[\"-TdS_SEM\"] = np.sqrt(bg2bg2_combined[\"G_SEM\"]**2 + bg2bg2_combined[\"H_SEM\"]**2)\n",
    "\n",
    "experimental[\"-TdS\"] = experimental[\"Delta G\"] - experimental[\"Delta H\"]\n",
    "experimental[\"-TdS_SEM\"] = np.sqrt(experimental[\"G_SEM\"]**2 + experimental[\"H_SEM\"]**2)"
   ]
  },
  {
   "cell_type": "code",
   "execution_count": 93,
   "metadata": {
    "ExecuteTime": {
     "end_time": "2019-02-09T18:31:35.158540Z",
     "start_time": "2019-02-09T18:31:35.088501Z"
    }
   },
   "outputs": [],
   "source": [
    "from summarize_statistics import write_entropy_statistics"
   ]
  },
  {
   "cell_type": "code",
   "execution_count": null,
   "metadata": {
    "ExecuteTime": {
     "start_time": "2019-02-09T20:50:59.242Z"
    }
   },
   "outputs": [
    {
     "name": "stdout",
     "output_type": "stream",
     "text": [
      "Skipping results/experimental_bgbg_-TdS_statistics_overall.csv...\n",
      "Skipping results/experimental_bg2bg2_-TdS_statistics_overall.csv...\n",
      "Skipping results/experimental_bg2bg2_-TdS_statistics_aliphatic_ammoniums.csv...\n",
      "Skipping results/experimental_bgbg_-TdS_statistics_aliphatic_ammoniums.csv...\n",
      "Skipping results/experimental_bg2bg2_-TdS_statistics_cyclic_alcohols.csv...\n",
      "Skipping results/experimental_bgbg_-TdS_statistics_cyclic_alcohols.csv...\n",
      "Skipping results/experimental_bg2bg2_-TdS_statistics_aliphatic_carboxylates.csv...\n",
      "Skipping results/experimental_smirnoff_-TdS_statistics_overall.csv...\n",
      "Skipping results/experimental_bgbg_-TdS_statistics_aliphatic_carboxylates.csv...\n",
      "Skipping results/experimental_smirnoff_-TdS_statistics_aliphatic_ammoniums.csv...\n",
      "Skipping results/experimental_smirnoff_-TdS_statistics_cyclic_alcohols.csv...\n",
      "Skipping results/bgbg_bg2bg2_-TdS_statistics_overall.csv...\n",
      "Skipping results/experimental_smirnoff_-TdS_statistics_aliphatic_carboxylates.csv...\n",
      "Skipping results/bgbg_bg2bg2_by_orientation_-TdS_statistics_overall.csv...\n",
      "Skipping results/bgbg_bg2bg2_-TdS_statistics_aliphatic_ammoniums.csv...\n",
      "Skipping results/bgbg_bg2bg2_-TdS_statistics_cyclic_alcohols.csv...\n",
      "Skipping results/bgbg_bg2bg2_-TdS_statistics_aliphatic_carboxylates.csv...\n"
     ]
    }
   ],
   "source": [
    "with Pool(12) as p:\n",
    "\n",
    "    p.starmap(\n",
    "        write_entropy_statistics,\n",
    "        [\n",
    "            (experimental, smirnoff_combined, \"-TdS\", \"experimental_smirnoff\"),\n",
    "            (experimental, bgbg_combined, \"-TdS\", \"experimental_bgbg\"),\n",
    "            (experimental, bg2bg2_combined, \"-TdS\", \"experimental_bg2bg2\"),\n",
    "            (bgbg_combined, smirnoff_combined, \"-TdS\", \"bgbg_smirnoff\"),\n",
    "            (bg2bg2_combined, smirnoff_combined, \"-TdS\", \"bg2bg2_smirnoff\"),\n",
    "            (bgbg_combined, bg2bg2_combined, \"-TdS\", \"bgbg_bg2bg2\"),\n",
    "            (bgbg, bg2bg2, \"-TdS\", \"bgbg_bg2bg2_by_orientation\"),\n",
    "            (bgbg, smirnoff, \"-TdS\", \"bgbg_smirnoff_by_orientation\"),\n",
    "            (bg2bg2, smirnoff, \"-TdS\", \"bg2bg2_smirnoff_by_orientation\"),\n",
    "        ],\n",
    "    )\n"
   ]
  },
  {
   "cell_type": "code",
   "execution_count": 95,
   "metadata": {
    "ExecuteTime": {
     "end_time": "2019-02-09T19:51:28.720643Z",
     "start_time": "2019-02-09T19:51:28.685661Z"
    }
   },
   "outputs": [],
   "source": [
    "from multiprocessing import Pool"
   ]
  },
  {
   "cell_type": "code",
   "execution_count": 100,
   "metadata": {
    "ExecuteTime": {
     "end_time": "2019-02-09T19:55:31.406637Z",
     "start_time": "2019-02-09T19:54:44.347975Z"
    }
   },
   "outputs": [
    {
     "name": "stdout",
     "output_type": "stream",
     "text": [
      "Skipping results/bgbg_bg2bg2_by_orientation_-TdS_statistics_overall.csv...\n"
     ]
    },
    {
     "name": "stderr",
     "output_type": "stream",
     "text": [
      "Process ForkPoolWorker-25:\n",
      "Process ForkPoolWorker-26:\n",
      "Process ForkPoolWorker-27:\n",
      "Process ForkPoolWorker-31:\n",
      "Process ForkPoolWorker-30:\n",
      "Process ForkPoolWorker-28:\n",
      "Process ForkPoolWorker-32:\n",
      "Traceback (most recent call last):\n",
      "Traceback (most recent call last):\n",
      "Traceback (most recent call last):\n",
      "  File \"/home/dslochower/data/applications/anaconda3/lib/python3.6/multiprocessing/process.py\", line 258, in _bootstrap\n",
      "    self.run()\n",
      "  File \"/home/dslochower/data/applications/anaconda3/lib/python3.6/multiprocessing/process.py\", line 258, in _bootstrap\n",
      "    self.run()\n",
      "Traceback (most recent call last):\n",
      "Traceback (most recent call last):\n",
      "  File \"/home/dslochower/data/applications/anaconda3/lib/python3.6/multiprocessing/process.py\", line 93, in run\n",
      "    self._target(*self._args, **self._kwargs)\n",
      "Traceback (most recent call last):\n",
      "  File \"/home/dslochower/data/applications/anaconda3/lib/python3.6/multiprocessing/process.py\", line 258, in _bootstrap\n",
      "    self.run()\n",
      "  File \"/home/dslochower/data/applications/anaconda3/lib/python3.6/multiprocessing/process.py\", line 93, in run\n",
      "    self._target(*self._args, **self._kwargs)\n",
      "Traceback (most recent call last):\n",
      "  File \"/home/dslochower/data/applications/anaconda3/lib/python3.6/multiprocessing/process.py\", line 258, in _bootstrap\n",
      "    self.run()\n",
      "  File \"/home/dslochower/data/applications/anaconda3/lib/python3.6/multiprocessing/process.py\", line 258, in _bootstrap\n",
      "    self.run()\n",
      "  File \"/home/dslochower/data/applications/anaconda3/lib/python3.6/multiprocessing/process.py\", line 258, in _bootstrap\n",
      "    self.run()\n",
      "  File \"/home/dslochower/data/applications/anaconda3/lib/python3.6/multiprocessing/process.py\", line 258, in _bootstrap\n",
      "    self.run()\n",
      "  File \"/home/dslochower/data/applications/anaconda3/lib/python3.6/multiprocessing/process.py\", line 93, in run\n",
      "    self._target(*self._args, **self._kwargs)\n",
      "  File \"/home/dslochower/data/applications/anaconda3/lib/python3.6/multiprocessing/process.py\", line 93, in run\n",
      "    self._target(*self._args, **self._kwargs)\n",
      "  File \"/home/dslochower/data/applications/anaconda3/lib/python3.6/multiprocessing/pool.py\", line 119, in worker\n",
      "    result = (True, func(*args, **kwds))\n",
      "  File \"/home/dslochower/data/applications/anaconda3/lib/python3.6/multiprocessing/process.py\", line 93, in run\n",
      "    self._target(*self._args, **self._kwargs)\n",
      "  File \"/home/dslochower/data/applications/anaconda3/lib/python3.6/multiprocessing/process.py\", line 93, in run\n",
      "    self._target(*self._args, **self._kwargs)\n",
      "  File \"/home/dslochower/data/applications/anaconda3/lib/python3.6/multiprocessing/pool.py\", line 119, in worker\n",
      "    result = (True, func(*args, **kwds))\n",
      "  File \"/home/dslochower/data/applications/anaconda3/lib/python3.6/multiprocessing/pool.py\", line 119, in worker\n",
      "    result = (True, func(*args, **kwds))\n",
      "  File \"/home/dslochower/data/applications/anaconda3/lib/python3.6/multiprocessing/process.py\", line 93, in run\n",
      "    self._target(*self._args, **self._kwargs)\n",
      "  File \"/home/dslochower/data/applications/anaconda3/lib/python3.6/multiprocessing/pool.py\", line 47, in starmapstar\n",
      "    return list(itertools.starmap(args[0], args[1]))\n",
      "  File \"/home/dslochower/data/applications/anaconda3/lib/python3.6/multiprocessing/pool.py\", line 108, in worker\n",
      "    task = get()\n",
      "  File \"/home/dslochower/data/applications/anaconda3/lib/python3.6/multiprocessing/pool.py\", line 47, in starmapstar\n",
      "    return list(itertools.starmap(args[0], args[1]))\n",
      "  File \"/home/dslochower/data/applications/anaconda3/lib/python3.6/multiprocessing/pool.py\", line 108, in worker\n",
      "    task = get()\n",
      "  File \"/home/dslochower/data/applications/anaconda3/lib/python3.6/multiprocessing/pool.py\", line 108, in worker\n",
      "    task = get()\n",
      "  File \"/home/dslochower/data/applications/anaconda3/lib/python3.6/multiprocessing/pool.py\", line 108, in worker\n",
      "    task = get()\n",
      "  File \"/home/dslochower/hgst-3tb-data/projects/smirnoff-host-guest-simulations-analysis/summarize_statistics.py\", line 99, in write_entropy_statistics\n",
      "    cycles=cycles,\n",
      "  File \"/home/dslochower/data/applications/anaconda3/lib/python3.6/multiprocessing/queues.py\", line 334, in get\n",
      "    with self._rlock:\n",
      "  File \"/home/dslochower/data/applications/anaconda3/lib/python3.6/multiprocessing/pool.py\", line 47, in starmapstar\n",
      "    return list(itertools.starmap(args[0], args[1]))\n",
      "  File \"/home/dslochower/data/applications/anaconda3/lib/python3.6/multiprocessing/queues.py\", line 334, in get\n",
      "    with self._rlock:\n",
      "  File \"/home/dslochower/data/applications/anaconda3/lib/python3.6/multiprocessing/queues.py\", line 335, in get\n",
      "    res = self._reader.recv_bytes()\n",
      "  File \"/home/dslochower/data/applications/anaconda3/lib/python3.6/multiprocessing/queues.py\", line 334, in get\n",
      "    with self._rlock:\n",
      "  File \"/home/dslochower/hgst-3tb-data/projects/smirnoff-host-guest-simulations-analysis/bootstrap.py\", line 39, in bootstrap\n",
      "    new_x[index] = np.random.normal(x[j], x_sem[j])\n",
      "  File \"/home/dslochower/hgst-3tb-data/projects/smirnoff-host-guest-simulations-analysis/summarize_statistics.py\", line 114, in write_entropy_statistics\n",
      "    cycles=cycles,\n",
      "  File \"/home/dslochower/hgst-3tb-data/projects/smirnoff-host-guest-simulations-analysis/summarize_statistics.py\", line 99, in write_entropy_statistics\n",
      "    cycles=cycles,\n",
      "  File \"/home/dslochower/data/applications/anaconda3/lib/python3.6/multiprocessing/synchronize.py\", line 96, in __enter__\n",
      "    return self._semlock.__enter__()\n",
      "  File \"/home/dslochower/data/applications/anaconda3/lib/python3.6/multiprocessing/connection.py\", line 216, in recv_bytes\n",
      "    buf = self._recv_bytes(maxlength)\n",
      "  File \"/home/dslochower/data/applications/anaconda3/lib/python3.6/multiprocessing/synchronize.py\", line 96, in __enter__\n",
      "    return self._semlock.__enter__()\n",
      "  File \"/home/dslochower/data/applications/anaconda3/lib/python3.6/multiprocessing/synchronize.py\", line 96, in __enter__\n",
      "    return self._semlock.__enter__()\n",
      "  File \"/home/dslochower/data/applications/anaconda3/lib/python3.6/site-packages/pandas/core/series.py\", line 767, in __getitem__\n",
      "    result = self.index.get_value(self, key)\n",
      "  File \"/home/dslochower/hgst-3tb-data/projects/smirnoff-host-guest-simulations-analysis/bootstrap.py\", line 46, in bootstrap\n",
      "    summary_statistics[cycle] = summarize(new_x, new_y)\n",
      "KeyboardInterrupt\n",
      "  File \"/home/dslochower/hgst-3tb-data/projects/smirnoff-host-guest-simulations-analysis/bootstrap.py\", line 39, in bootstrap\n",
      "    new_x[index] = np.random.normal(x[j], x_sem[j])\n",
      "  File \"/home/dslochower/data/applications/anaconda3/lib/python3.6/multiprocessing/connection.py\", line 407, in _recv_bytes\n",
      "    buf = self._recv(4)\n",
      "KeyboardInterrupt\n",
      "  File \"/home/dslochower/data/applications/anaconda3/lib/python3.6/site-packages/pandas/core/indexes/base.py\", line 3118, in get_value\n",
      "    tz=getattr(series.dtype, 'tz', None))\n",
      "  File \"/home/dslochower/hgst-3tb-data/projects/smirnoff-host-guest-simulations-analysis/bootstrap.py\", line 21, in summarize\n",
      "    summary_statistics[7], prob = sc.stats.kendalltau(x, y)\n",
      "KeyboardInterrupt\n",
      "KeyboardInterrupt\n",
      "  File \"/home/dslochower/data/applications/anaconda3/lib/python3.6/multiprocessing/connection.py\", line 379, in _recv\n",
      "    chunk = read(handle, remaining)\n",
      "  File \"/home/dslochower/data/applications/anaconda3/lib/python3.6/site-packages/pandas/core/series.py\", line 415, in dtype\n",
      "    return self._data.dtype\n",
      "  File \"/home/dslochower/data/applications/anaconda3/lib/python3.6/site-packages/scipy/stats/stats.py\", line 3538, in kendalltau\n",
      "    cnt = np.diff(np.where(obs)[0]).astype('int64', copy=False)\n",
      "KeyboardInterrupt\n",
      "KeyboardInterrupt\n",
      "KeyboardInterrupt\n"
     ]
    },
    {
     "ename": "KeyboardInterrupt",
     "evalue": "",
     "output_type": "error",
     "traceback": [
      "\u001b[0;31m---------------------------------------------------------------------------\u001b[0m",
      "\u001b[0;31mKeyboardInterrupt\u001b[0m                         Traceback (most recent call last)",
      "\u001b[0;32m<ipython-input-100-f42c471d27d7>\u001b[0m in \u001b[0;36m<module>\u001b[0;34m()\u001b[0m\n\u001b[1;32m      4\u001b[0m                 [(bgbg, bg2bg2, \"-TdS\", \"bgbg_bg2bg2_by_orientation\"), \n\u001b[1;32m      5\u001b[0m                  \u001b[0;34m(\u001b[0m\u001b[0mbgbg\u001b[0m\u001b[0;34m,\u001b[0m \u001b[0msmirnoff\u001b[0m\u001b[0;34m,\u001b[0m \u001b[0;34m\"-TdS\"\u001b[0m\u001b[0;34m,\u001b[0m \u001b[0;34m\"bgbg_smirnoff_by_orientation\"\u001b[0m\u001b[0;34m)\u001b[0m\u001b[0;34m,\u001b[0m\u001b[0;34m\u001b[0m\u001b[0m\n\u001b[0;32m----> 6\u001b[0;31m                  (bg2bg2, smirnoff, \"-TdS\", \"bg2bg2_smirnoff_by_orientation\")])\n\u001b[0m",
      "\u001b[0;32m~/data/applications/anaconda3/lib/python3.6/multiprocessing/pool.py\u001b[0m in \u001b[0;36mstarmap\u001b[0;34m(self, func, iterable, chunksize)\u001b[0m\n\u001b[1;32m    272\u001b[0m         \u001b[0;31m`\u001b[0m\u001b[0mfunc\u001b[0m\u001b[0;31m`\u001b[0m \u001b[0;32mand\u001b[0m \u001b[0;34m(\u001b[0m\u001b[0ma\u001b[0m\u001b[0;34m,\u001b[0m \u001b[0mb\u001b[0m\u001b[0;34m)\u001b[0m \u001b[0mbecomes\u001b[0m \u001b[0mfunc\u001b[0m\u001b[0;34m(\u001b[0m\u001b[0ma\u001b[0m\u001b[0;34m,\u001b[0m \u001b[0mb\u001b[0m\u001b[0;34m)\u001b[0m\u001b[0;34m.\u001b[0m\u001b[0;34m\u001b[0m\u001b[0m\n\u001b[1;32m    273\u001b[0m         '''\n\u001b[0;32m--> 274\u001b[0;31m         \u001b[0;32mreturn\u001b[0m \u001b[0mself\u001b[0m\u001b[0;34m.\u001b[0m\u001b[0m_map_async\u001b[0m\u001b[0;34m(\u001b[0m\u001b[0mfunc\u001b[0m\u001b[0;34m,\u001b[0m \u001b[0miterable\u001b[0m\u001b[0;34m,\u001b[0m \u001b[0mstarmapstar\u001b[0m\u001b[0;34m,\u001b[0m \u001b[0mchunksize\u001b[0m\u001b[0;34m)\u001b[0m\u001b[0;34m.\u001b[0m\u001b[0mget\u001b[0m\u001b[0;34m(\u001b[0m\u001b[0;34m)\u001b[0m\u001b[0;34m\u001b[0m\u001b[0m\n\u001b[0m\u001b[1;32m    275\u001b[0m \u001b[0;34m\u001b[0m\u001b[0m\n\u001b[1;32m    276\u001b[0m     def starmap_async(self, func, iterable, chunksize=None, callback=None,\n",
      "\u001b[0;32m~/data/applications/anaconda3/lib/python3.6/multiprocessing/pool.py\u001b[0m in \u001b[0;36mget\u001b[0;34m(self, timeout)\u001b[0m\n\u001b[1;32m    636\u001b[0m \u001b[0;34m\u001b[0m\u001b[0m\n\u001b[1;32m    637\u001b[0m     \u001b[0;32mdef\u001b[0m \u001b[0mget\u001b[0m\u001b[0;34m(\u001b[0m\u001b[0mself\u001b[0m\u001b[0;34m,\u001b[0m \u001b[0mtimeout\u001b[0m\u001b[0;34m=\u001b[0m\u001b[0;32mNone\u001b[0m\u001b[0;34m)\u001b[0m\u001b[0;34m:\u001b[0m\u001b[0;34m\u001b[0m\u001b[0m\n\u001b[0;32m--> 638\u001b[0;31m         \u001b[0mself\u001b[0m\u001b[0;34m.\u001b[0m\u001b[0mwait\u001b[0m\u001b[0;34m(\u001b[0m\u001b[0mtimeout\u001b[0m\u001b[0;34m)\u001b[0m\u001b[0;34m\u001b[0m\u001b[0m\n\u001b[0m\u001b[1;32m    639\u001b[0m         \u001b[0;32mif\u001b[0m \u001b[0;32mnot\u001b[0m \u001b[0mself\u001b[0m\u001b[0;34m.\u001b[0m\u001b[0mready\u001b[0m\u001b[0;34m(\u001b[0m\u001b[0;34m)\u001b[0m\u001b[0;34m:\u001b[0m\u001b[0;34m\u001b[0m\u001b[0m\n\u001b[1;32m    640\u001b[0m             \u001b[0;32mraise\u001b[0m \u001b[0mTimeoutError\u001b[0m\u001b[0;34m\u001b[0m\u001b[0m\n",
      "\u001b[0;32m~/data/applications/anaconda3/lib/python3.6/multiprocessing/pool.py\u001b[0m in \u001b[0;36mwait\u001b[0;34m(self, timeout)\u001b[0m\n\u001b[1;32m    633\u001b[0m \u001b[0;34m\u001b[0m\u001b[0m\n\u001b[1;32m    634\u001b[0m     \u001b[0;32mdef\u001b[0m \u001b[0mwait\u001b[0m\u001b[0;34m(\u001b[0m\u001b[0mself\u001b[0m\u001b[0;34m,\u001b[0m \u001b[0mtimeout\u001b[0m\u001b[0;34m=\u001b[0m\u001b[0;32mNone\u001b[0m\u001b[0;34m)\u001b[0m\u001b[0;34m:\u001b[0m\u001b[0;34m\u001b[0m\u001b[0m\n\u001b[0;32m--> 635\u001b[0;31m         \u001b[0mself\u001b[0m\u001b[0;34m.\u001b[0m\u001b[0m_event\u001b[0m\u001b[0;34m.\u001b[0m\u001b[0mwait\u001b[0m\u001b[0;34m(\u001b[0m\u001b[0mtimeout\u001b[0m\u001b[0;34m)\u001b[0m\u001b[0;34m\u001b[0m\u001b[0m\n\u001b[0m\u001b[1;32m    636\u001b[0m \u001b[0;34m\u001b[0m\u001b[0m\n\u001b[1;32m    637\u001b[0m     \u001b[0;32mdef\u001b[0m \u001b[0mget\u001b[0m\u001b[0;34m(\u001b[0m\u001b[0mself\u001b[0m\u001b[0;34m,\u001b[0m \u001b[0mtimeout\u001b[0m\u001b[0;34m=\u001b[0m\u001b[0;32mNone\u001b[0m\u001b[0;34m)\u001b[0m\u001b[0;34m:\u001b[0m\u001b[0;34m\u001b[0m\u001b[0m\n",
      "\u001b[0;32m~/data/applications/anaconda3/lib/python3.6/threading.py\u001b[0m in \u001b[0;36mwait\u001b[0;34m(self, timeout)\u001b[0m\n\u001b[1;32m    549\u001b[0m             \u001b[0msignaled\u001b[0m \u001b[0;34m=\u001b[0m \u001b[0mself\u001b[0m\u001b[0;34m.\u001b[0m\u001b[0m_flag\u001b[0m\u001b[0;34m\u001b[0m\u001b[0m\n\u001b[1;32m    550\u001b[0m             \u001b[0;32mif\u001b[0m \u001b[0;32mnot\u001b[0m \u001b[0msignaled\u001b[0m\u001b[0;34m:\u001b[0m\u001b[0;34m\u001b[0m\u001b[0m\n\u001b[0;32m--> 551\u001b[0;31m                 \u001b[0msignaled\u001b[0m \u001b[0;34m=\u001b[0m \u001b[0mself\u001b[0m\u001b[0;34m.\u001b[0m\u001b[0m_cond\u001b[0m\u001b[0;34m.\u001b[0m\u001b[0mwait\u001b[0m\u001b[0;34m(\u001b[0m\u001b[0mtimeout\u001b[0m\u001b[0;34m)\u001b[0m\u001b[0;34m\u001b[0m\u001b[0m\n\u001b[0m\u001b[1;32m    552\u001b[0m             \u001b[0;32mreturn\u001b[0m \u001b[0msignaled\u001b[0m\u001b[0;34m\u001b[0m\u001b[0m\n\u001b[1;32m    553\u001b[0m \u001b[0;34m\u001b[0m\u001b[0m\n",
      "\u001b[0;32m~/data/applications/anaconda3/lib/python3.6/threading.py\u001b[0m in \u001b[0;36mwait\u001b[0;34m(self, timeout)\u001b[0m\n\u001b[1;32m    293\u001b[0m         \u001b[0;32mtry\u001b[0m\u001b[0;34m:\u001b[0m    \u001b[0;31m# restore state no matter what (e.g., KeyboardInterrupt)\u001b[0m\u001b[0;34m\u001b[0m\u001b[0m\n\u001b[1;32m    294\u001b[0m             \u001b[0;32mif\u001b[0m \u001b[0mtimeout\u001b[0m \u001b[0;32mis\u001b[0m \u001b[0;32mNone\u001b[0m\u001b[0;34m:\u001b[0m\u001b[0;34m\u001b[0m\u001b[0m\n\u001b[0;32m--> 295\u001b[0;31m                 \u001b[0mwaiter\u001b[0m\u001b[0;34m.\u001b[0m\u001b[0macquire\u001b[0m\u001b[0;34m(\u001b[0m\u001b[0;34m)\u001b[0m\u001b[0;34m\u001b[0m\u001b[0m\n\u001b[0m\u001b[1;32m    296\u001b[0m                 \u001b[0mgotit\u001b[0m \u001b[0;34m=\u001b[0m \u001b[0;32mTrue\u001b[0m\u001b[0;34m\u001b[0m\u001b[0m\n\u001b[1;32m    297\u001b[0m             \u001b[0;32melse\u001b[0m\u001b[0;34m:\u001b[0m\u001b[0;34m\u001b[0m\u001b[0m\n",
      "\u001b[0;31mKeyboardInterrupt\u001b[0m: "
     ]
    }
   ],
   "source": [
    "with Pool(8) as p:\n",
    "    \n",
    "    p.starmap(write_entropy_statistics, \n",
    "                [(bgbg, bg2bg2, \"-TdS\", \"bgbg_bg2bg2_by_orientation\"), \n",
    "                 (bgbg, smirnoff, \"-TdS\", \"bgbg_smirnoff_by_orientation\"), \n",
    "                 (bg2bg2, smirnoff, \"-TdS\", \"bg2bg2_smirnoff_by_orientation\")])"
   ]
  },
  {
   "cell_type": "code",
   "execution_count": 84,
   "metadata": {
    "ExecuteTime": {
     "end_time": "2019-02-07T20:22:09.622659Z",
     "start_time": "2019-02-07T20:22:09.576471Z"
    }
   },
   "outputs": [],
   "source": [
    "from make_statistics_table import table"
   ]
  },
  {
   "cell_type": "code",
   "execution_count": 88,
   "metadata": {
    "ExecuteTime": {
     "end_time": "2019-02-07T20:29:34.946419Z",
     "start_time": "2019-02-07T20:29:34.886901Z"
    }
   },
   "outputs": [
    {
     "name": "stdout",
     "output_type": "stream",
     "text": [
      "SMIRNOFF99Frosst\t0.91\t0.11\t-0.01\t0.14\t0.34\t0.11\t0.49\t0.12\t-1.55\t0.38\t\n",
      "\n",
      "GAFF v1.7\t0.88\t0.09\t0.46\t0.12\t0.54\t0.10\t0.69\t0.11\t-0.48\t0.35\t\n",
      "\n",
      "GAFF v2.1\t1.68\t0.09\t-1.56\t0.10\t0.82\t0.08\t1.19\t0.09\t-1.00\t0.28\t\n",
      "\n"
     ]
    }
   ],
   "source": [
    "table(thermodynamic_quantity=\"G\")"
   ]
  },
  {
   "cell_type": "code",
   "execution_count": 89,
   "metadata": {
    "ExecuteTime": {
     "end_time": "2019-02-07T20:31:29.063142Z",
     "start_time": "2019-02-07T20:31:28.999703Z"
    }
   },
   "outputs": [
    {
     "name": "stdout",
     "output_type": "stream",
     "text": [
      "SMIRNOFF99Frosst\t1.85\t0.23\t0.77\t0.26\t0.44\t0.12\t0.85\t0.17\t0.41\t0.52\t\n",
      "\n",
      "GAFF v1.7\t2.54\t0.24\t1.84\t0.27\t0.39\t0.12\t0.80\t0.18\t1.36\t0.60\t\n",
      "\n",
      "GAFF v2.1\t2.21\t0.23\t-1.64\t0.23\t0.75\t0.08\t1.38\t0.12\t-0.69\t0.40\t\n",
      "\n"
     ]
    }
   ],
   "source": [
    "table(thermodynamic_quantity=\"H\")"
   ]
  },
  {
   "cell_type": "code",
   "execution_count": null,
   "metadata": {
    "ExecuteTime": {
     "start_time": "2019-02-09T21:05:38.919Z"
    }
   },
   "outputs": [],
   "source": [
    "experimental"
   ]
  },
  {
   "cell_type": "code",
   "execution_count": null,
   "metadata": {},
   "outputs": [],
   "source": []
  }
 ],
 "metadata": {
  "kernelspec": {
   "display_name": "Python [default]",
   "language": "python",
   "name": "python3"
  }
 },
 "nbformat": 4,
 "nbformat_minor": 2
}
