{
 "cells": [
  {
   "cell_type": "markdown",
   "metadata": {},
   "source": [
    "# Run a test calculation with `a-bam-p`/`acd-1-p` to find gaps in our workflow..."
   ]
  },
  {
   "cell_type": "code",
   "execution_count": 21,
   "metadata": {
    "ExecuteTime": {
     "end_time": "2018-03-13T21:23:13.744325Z",
     "start_time": "2018-03-13T21:23:13.680516Z"
    }
   },
   "outputs": [
    {
     "name": "stderr",
     "output_type": "stream",
     "text": [
      "DEBUG:root:OpenMM support: Yes\n"
     ]
    },
    {
     "name": "stdout",
     "output_type": "stream",
     "text": [
      "The autoreload extension is already loaded. To reload it, use:\n",
      "  %reload_ext autoreload\n"
     ]
    }
   ],
   "source": [
    "%load_ext autoreload\n",
    "%autoreload 2\n",
    "\n",
    "import os as os\n",
    "import glob as glob\n",
    "import numpy as np\n",
    "\n",
    "import parmed as pmd\n",
    "from paprika import align\n",
    "from paprika import dummy\n",
    "from paprika import build"
   ]
  },
  {
   "cell_type": "code",
   "execution_count": 22,
   "metadata": {
    "ExecuteTime": {
     "end_time": "2018-03-13T21:23:14.140557Z",
     "start_time": "2018-03-13T21:23:14.106827Z"
    }
   },
   "outputs": [],
   "source": [
    "prefix = './benchmarksets/input_files/'\n",
    "suffix = '/prmtop-rst7/'\n",
    "benchmarksets = [\n",
    "    'cd-set1'\n",
    "    ]\n",
    "\n",
    "systems = []\n",
    "\n",
    "for system in benchmarksets:\n",
    "    for index, file in enumerate(sorted(glob.glob(prefix + system + suffix + 'acd-1-p.prmtop'))):\n",
    "        systems.append(file)"
   ]
  },
  {
   "cell_type": "code",
   "execution_count": 23,
   "metadata": {
    "ExecuteTime": {
     "end_time": "2018-03-13T21:23:15.172632Z",
     "start_time": "2018-03-13T21:23:14.972104Z"
    }
   },
   "outputs": [],
   "source": [
    "for file in systems:\n",
    "    base_name = file[:-7].split('/')[-1]\n",
    "    host_set = file[:-7].split('/')[-3]\n",
    "    host = host_set.split('-')[0]\n",
    "    guest = base_name.split('-')[1]\n",
    "        \n",
    "    destination = prefix + host_set + '/' + suffix + 'smirnoff/' + base_name + '/'\n",
    "    reference_prmtop = base_name + '.prmtop'\n",
    "    reference_inpcrd = base_name + '.rst7'\n",
    "    \n",
    "    smirnoff_prmtop = 'hg.prmtop'\n",
    "    smirnoff_inpcrd = 'hg.inpcrd'\n",
    "    \n",
    "    if 'cb7' in host:\n",
    "        host_resname = 'CB7'\n",
    "    elif 'cd' in host:\n",
    "        host_resname = 'MGO'\n",
    "    elif 'gdcc' in host and 'temoa' in base_name:\n",
    "        host_resname = 'OCB'\n",
    "    elif 'gdcc' in host and 'oa' in base_name:\n",
    "        host_resname = 'OCT'\n",
    "    guest_resname = 'MOL'\n",
    "    \n",
    "    hg = pmd.load_file(destination + smirnoff_prmtop, destination + smirnoff_inpcrd, structure=True)\n"
   ]
  },
  {
   "cell_type": "markdown",
   "metadata": {},
   "source": [
    "## Align"
   ]
  },
  {
   "cell_type": "code",
   "execution_count": 24,
   "metadata": {
    "ExecuteTime": {
     "end_time": "2018-03-13T21:23:16.807613Z",
     "start_time": "2018-03-13T21:23:16.619250Z"
    }
   },
   "outputs": [
    {
     "name": "stderr",
     "output_type": "stream",
     "text": [
      "INFO:root:Moving :MOL@C4 (1 atoms) to the origin...\n",
      "INFO:root:Aligning :MOL@N1 (1 atoms) with the z axis...\n",
      "INFO:root:Saved aligned coordinates to ./benchmarksets/input_files/cd-set1//prmtop-rst7/smirnoff/acd-1-p/hg-aligned.pdb\n"
     ]
    }
   ],
   "source": [
    "# Find the guest atoms to align by reading first line in /data/nhenriksen/projects/cds/wat6/bgbg-tip3p/pdbs\n",
    "hg = align.zalign(hg, ':MOL@C4', ':MOL@N1', save=True, filename=destination + 'hg-aligned.pdb')"
   ]
  },
  {
   "cell_type": "markdown",
   "metadata": {},
   "source": [
    "## Add dummy atoms"
   ]
  },
  {
   "cell_type": "code",
   "execution_count": 30,
   "metadata": {
    "ExecuteTime": {
     "end_time": "2018-03-13T23:59:26.885792Z",
     "start_time": "2018-03-13T23:59:26.815734Z"
    }
   },
   "outputs": [],
   "source": [
    "hg = pmd.load_file(destination + 'hg-aligned.pdb', structure=True)\n",
    "# print(hg.atoms[-1].number)\n",
    "\n",
    "hg = dummy.add_dummy(hg, residue_name='DM1', z=-6.000)\n",
    "hg = dummy.add_dummy(hg, residue_name='DM2', z=-9.000)\n",
    "hg = dummy.add_dummy(hg, residue_name='DM3', z=-11.200, y=2.200)\n",
    "\n",
    "dummy.write_dummy_frcmod(path = destination)\n",
    "dummy.write_dummy_mol2(path = destination)\n",
    "\n",
    "hg.write_pdb(destination + 'hg-aligned-dum.pdb', renumber=False)"
   ]
  },
  {
   "cell_type": "markdown",
   "metadata": {},
   "source": [
    "## Solvate"
   ]
  },
  {
   "cell_type": "code",
   "execution_count": 42,
   "metadata": {
    "ExecuteTime": {
     "end_time": "2018-03-14T00:28:21.280442Z",
     "start_time": "2018-03-14T00:28:21.264582Z"
    }
   },
   "outputs": [],
   "source": [
    "with open(destination + 'tleap.in', 'w') as file:\n",
    "    tleap_header = f'''\\n\n",
    "source leaprc.protein.ff14SB\n",
    "source leaprc.water.tip3p\n",
    "source leaprc.gaff\n",
    "loadamberparams {host_resname}.frcmod\n",
    "{host_resname} = loadmol2 {host_resname}.mol2\n",
    "loadamberparams {guest_resname}.frcmod\n",
    "{guest_resname} = loadmol2 {guest_resname}.mol2\n",
    "\n",
    "DUM = loadmol2 dummy.mol2\n",
    "loadamberparams dummy.frcmod\n",
    "\n",
    "model = loadpdb {str('hg-aligned-dum.pdb')}\n",
    "'''\n",
    "    file.write(tleap_header)"
   ]
  },
  {
   "cell_type": "code",
   "execution_count": 44,
   "metadata": {
    "ExecuteTime": {
     "end_time": "2018-03-14T00:29:07.119883Z",
     "start_time": "2018-03-14T00:29:00.238679Z"
    },
    "scrolled": true
   },
   "outputs": [
    {
     "name": "stderr",
     "output_type": "stream",
     "text": [
      "DEBUG:root:Deleted existing leap.log file...\n",
      "WARNING:root:It appears there was a problem with solvation: check `leap.log`...\n",
      "WARNING:root:It appears there was a problem with solvation: check `leap.log`...\n",
      "WARNING:root:It appears there was a problem with solvation: check `leap.log`...\n",
      "DEBUG:root:Cycle 00\t 1 752 (2000)\n",
      "DEBUG:root:Deleted existing leap.log file...\n",
      "WARNING:root:It appears there was a problem with solvation: check `leap.log`...\n",
      "WARNING:root:It appears there was a problem with solvation: check `leap.log`...\n",
      "WARNING:root:It appears there was a problem with solvation: check `leap.log`...\n",
      "DEBUG:root:Cycle 01\t 11 1570 (2000)\n",
      "DEBUG:root:Deleted existing leap.log file...\n",
      "WARNING:root:It appears there was a problem with solvation: check `leap.log`...\n",
      "WARNING:root:It appears there was a problem with solvation: check `leap.log`...\n",
      "WARNING:root:It appears there was a problem with solvation: check `leap.log`...\n",
      "DEBUG:root:Cycle 02\t 21 2405 (2000)\n",
      "DEBUG:root:Deleted existing leap.log file...\n",
      "WARNING:root:It appears there was a problem with solvation: check `leap.log`...\n",
      "WARNING:root:It appears there was a problem with solvation: check `leap.log`...\n",
      "WARNING:root:It appears there was a problem with solvation: check `leap.log`...\n",
      "DEBUG:root:Cycle 03\t 16 1990 (2000)\n",
      "DEBUG:root:Deleted existing leap.log file...\n",
      "WARNING:root:It appears there was a problem with solvation: check `leap.log`...\n",
      "WARNING:root:It appears there was a problem with solvation: check `leap.log`...\n",
      "WARNING:root:It appears there was a problem with solvation: check `leap.log`...\n",
      "DEBUG:root:Cycle 04\t 16 2042 (2000)\n",
      "DEBUG:root:Deleted existing leap.log file...\n",
      "WARNING:root:It appears there was a problem with solvation: check `leap.log`...\n",
      "WARNING:root:It appears there was a problem with solvation: check `leap.log`...\n",
      "WARNING:root:It appears there was a problem with solvation: check `leap.log`...\n",
      "DEBUG:root:Cycle 05\t 16 2032 (2000)\n",
      "DEBUG:root:Deleted existing leap.log file...\n",
      "WARNING:root:It appears there was a problem with solvation: check `leap.log`...\n",
      "WARNING:root:It appears there was a problem with solvation: check `leap.log`...\n",
      "WARNING:root:It appears there was a problem with solvation: check `leap.log`...\n",
      "DEBUG:root:Cycle 06\t 16 2032 (2000)\n",
      "DEBUG:root:Deleted existing leap.log file...\n",
      "WARNING:root:It appears there was a problem with solvation: check `leap.log`...\n",
      "WARNING:root:It appears there was a problem with solvation: check `leap.log`...\n",
      "WARNING:root:It appears there was a problem with solvation: check `leap.log`...\n",
      "DEBUG:root:Cycle 07\t 16 2032 (2000)\n",
      "DEBUG:root:Deleted existing leap.log file...\n",
      "WARNING:root:It appears there was a problem with solvation: check `leap.log`...\n",
      "WARNING:root:It appears there was a problem with solvation: check `leap.log`...\n",
      "WARNING:root:It appears there was a problem with solvation: check `leap.log`...\n",
      "DEBUG:root:Cycle 08\t 16 2032 (2000)\n",
      "DEBUG:root:Deleted existing leap.log file...\n",
      "WARNING:root:It appears there was a problem with solvation: check `leap.log`...\n",
      "WARNING:root:It appears there was a problem with solvation: check `leap.log`...\n",
      "WARNING:root:It appears there was a problem with solvation: check `leap.log`...\n",
      "DEBUG:root:Cycle 09\t 16 2024 (2000)\n",
      "DEBUG:root:Deleted existing leap.log file...\n",
      "WARNING:root:It appears there was a problem with solvation: check `leap.log`...\n",
      "WARNING:root:It appears there was a problem with solvation: check `leap.log`...\n",
      "WARNING:root:It appears there was a problem with solvation: check `leap.log`...\n",
      "DEBUG:root:Cycle 10\t 16 2024 (2000)\n",
      "DEBUG:root:Deleted existing leap.log file...\n",
      "WARNING:root:It appears there was a problem with solvation: check `leap.log`...\n",
      "WARNING:root:It appears there was a problem with solvation: check `leap.log`...\n",
      "WARNING:root:It appears there was a problem with solvation: check `leap.log`...\n",
      "DEBUG:root:Cycle 11\t 16 2024 (2000)\n",
      "DEBUG:root:Deleted existing leap.log file...\n",
      "WARNING:root:It appears there was a problem with solvation: check `leap.log`...\n",
      "WARNING:root:It appears there was a problem with solvation: check `leap.log`...\n",
      "WARNING:root:It appears there was a problem with solvation: check `leap.log`...\n",
      "DEBUG:root:Cycle 12\t 16 2024 (2000)\n",
      "DEBUG:root:Deleted existing leap.log file...\n",
      "WARNING:root:It appears there was a problem with solvation: check `leap.log`...\n",
      "WARNING:root:It appears there was a problem with solvation: check `leap.log`...\n",
      "WARNING:root:It appears there was a problem with solvation: check `leap.log`...\n",
      "DEBUG:root:Cycle 13\t 16 2024 (2000)\n",
      "DEBUG:root:Deleted existing leap.log file...\n",
      "WARNING:root:It appears there was a problem with solvation: check `leap.log`...\n",
      "WARNING:root:It appears there was a problem with solvation: check `leap.log`...\n",
      "WARNING:root:It appears there was a problem with solvation: check `leap.log`...\n",
      "DEBUG:root:Cycle 14\t 16 2024 (2000)\n",
      "DEBUG:root:Deleted existing leap.log file...\n",
      "WARNING:root:It appears there was a problem with solvation: check `leap.log`...\n",
      "WARNING:root:It appears there was a problem with solvation: check `leap.log`...\n",
      "WARNING:root:It appears there was a problem with solvation: check `leap.log`...\n",
      "DEBUG:root:Cycle 15\t 16 2024 (2000)\n",
      "DEBUG:root:Deleted existing leap.log file...\n",
      "WARNING:root:It appears there was a problem with solvation: check `leap.log`...\n",
      "WARNING:root:It appears there was a problem with solvation: check `leap.log`...\n",
      "WARNING:root:It appears there was a problem with solvation: check `leap.log`...\n",
      "DEBUG:root:Cycle 16\t 16 2020 (2000)\n",
      "DEBUG:root:Deleted existing leap.log file...\n",
      "WARNING:root:It appears there was a problem with solvation: check `leap.log`...\n",
      "WARNING:root:It appears there was a problem with solvation: check `leap.log`...\n",
      "WARNING:root:It appears there was a problem with solvation: check `leap.log`...\n",
      "DEBUG:root:Cycle 17\t 16 2020 (2000)\n",
      "DEBUG:root:Deleted existing leap.log file...\n",
      "WARNING:root:It appears there was a problem with solvation: check `leap.log`...\n",
      "WARNING:root:It appears there was a problem with solvation: check `leap.log`...\n",
      "WARNING:root:It appears there was a problem with solvation: check `leap.log`...\n",
      "DEBUG:root:Cycle 18\t 16 2020 (2000)\n",
      "DEBUG:root:Deleted existing leap.log file...\n",
      "WARNING:root:It appears there was a problem with solvation: check `leap.log`...\n",
      "WARNING:root:It appears there was a problem with solvation: check `leap.log`...\n",
      "WARNING:root:It appears there was a problem with solvation: check `leap.log`...\n",
      "DEBUG:root:Cycle 19\t 16 2016 (2000)\n",
      "DEBUG:root:Deleted existing leap.log file...\n",
      "WARNING:root:It appears there was a problem with solvation: check `leap.log`...\n",
      "WARNING:root:It appears there was a problem with solvation: check `leap.log`...\n",
      "WARNING:root:It appears there was a problem with solvation: check `leap.log`...\n",
      "DEBUG:root:Cycle 20\t 16 2016 (2000)\n",
      "DEBUG:root:Deleted existing leap.log file...\n",
      "WARNING:root:It appears there was a problem with solvation: check `leap.log`...\n",
      "WARNING:root:It appears there was a problem with solvation: check `leap.log`...\n",
      "WARNING:root:It appears there was a problem with solvation: check `leap.log`...\n",
      "DEBUG:root:Cycle 21\t 16 2012 (2000)\n",
      "DEBUG:root:Deleted existing leap.log file...\n",
      "WARNING:root:It appears there was a problem with solvation: check `leap.log`...\n",
      "WARNING:root:It appears there was a problem with solvation: check `leap.log`...\n",
      "WARNING:root:It appears there was a problem with solvation: check `leap.log`...\n",
      "DEBUG:root:Cycle 22\t 16 2012 (2000)\n",
      "DEBUG:root:Deleted existing leap.log file...\n",
      "WARNING:root:It appears there was a problem with solvation: check `leap.log`...\n",
      "WARNING:root:It appears there was a problem with solvation: check `leap.log`...\n",
      "WARNING:root:It appears there was a problem with solvation: check `leap.log`...\n",
      "DEBUG:root:Cycle 23\t 16 2012 (2000)\n",
      "DEBUG:root:Deleted existing leap.log file...\n",
      "WARNING:root:It appears there was a problem with solvation: check `leap.log`...\n",
      "WARNING:root:It appears there was a problem with solvation: check `leap.log`...\n",
      "WARNING:root:It appears there was a problem with solvation: check `leap.log`...\n",
      "DEBUG:root:Cycle 24\t 16 2010 (2000)\n",
      "DEBUG:root:Deleted existing leap.log file...\n",
      "WARNING:root:It appears there was a problem with solvation: check `leap.log`...\n",
      "WARNING:root:It appears there was a problem with solvation: check `leap.log`...\n"
     ]
    },
    {
     "name": "stderr",
     "output_type": "stream",
     "text": [
      "WARNING:root:It appears there was a problem with solvation: check `leap.log`...\n",
      "DEBUG:root:Manually removing waters... ['2012', '2013', '2014', '2015', '2016', '2017', '2018', '2019', '2020', '2021']\n",
      "DEBUG:root:Deleted existing leap.log file...\n",
      "WARNING:root:It appears there was a problem with solvation: check `leap.log`...\n",
      "WARNING:root:It appears there was a problem with solvation: check `leap.log`...\n",
      "WARNING:root:It appears there was a problem with solvation: check `leap.log`...\n",
      "INFO:root:Cl-\t1\n",
      "INFO:root:DM1\t1\n",
      "INFO:root:DM2\t1\n",
      "INFO:root:DM3\t1\n",
      "INFO:root:MGO\t36\n",
      "INFO:root:MOL\t1\n",
      "INFO:root:WAT\t2000\n"
     ]
    }
   ],
   "source": [
    "build.solvate(tleap_file='tleap.in', pdb_file='hg-aligned-dum.pdb', pbc_type='rectangular', buffer_target=2000,\n",
    "             output_prefix='hg-solvated', path=destination)"
   ]
  },
  {
   "cell_type": "markdown",
   "metadata": {},
   "source": []
  }
 ],
 "metadata": {
  "kernelspec": {
   "display_name": "Python [conda env:smirnoff-paprika]",
   "language": "python",
   "name": "conda-env-smirnoff-paprika-py"
  },
  "language_info": {
   "codemirror_mode": {
    "name": "ipython",
    "version": 3
   },
   "file_extension": ".py",
   "mimetype": "text/x-python",
   "name": "python",
   "nbconvert_exporter": "python",
   "pygments_lexer": "ipython3",
   "version": "3.6.4"
  }
 },
 "nbformat": 4,
 "nbformat_minor": 2
}
