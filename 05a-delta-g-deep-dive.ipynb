{
 "cells": [
  {
   "cell_type": "code",
   "execution_count": 14,
   "metadata": {
    "ExecuteTime": {
     "end_time": "2018-10-25T17:42:49.425566Z",
     "start_time": "2018-10-25T17:42:48.615965Z"
    }
   },
   "outputs": [
    {
     "name": "stdout",
     "output_type": "stream",
     "text": [
      "The autoreload extension is already loaded. To reload it, use:\n",
      "  %reload_ext autoreload\n",
      "The blackcellmagic extension is already loaded. To reload it, use:\n",
      "  %reload_ext blackcellmagic\n"
     ]
    }
   ],
   "source": [
    "import pandas as pd\n",
    "import scipy as sc\n",
    "import numpy as np\n",
    "import os\n",
    "\n",
    "\n",
    "import matplotlib as mpl\n",
    "import matplotlib.pyplot as plt\n",
    "from matplotlib.gridspec import GridSpec\n",
    "from matplotlib.colors import colorConverter\n",
    "import seaborn as sns\n",
    "\n",
    "%load_ext autoreload\n",
    "%autoreload 2\n",
    "%load_ext blackcellmagic\n",
    "%matplotlib inline"
   ]
  },
  {
   "cell_type": "markdown",
   "metadata": {},
   "source": [
    "Project-level imports."
   ]
  },
  {
   "cell_type": "code",
   "execution_count": 15,
   "metadata": {
    "ExecuteTime": {
     "end_time": "2018-10-25T17:42:49.453289Z",
     "start_time": "2018-10-25T17:42:49.427516Z"
    }
   },
   "outputs": [],
   "source": [
    "from constants import guest_types\n",
    "from constants import colors\n",
    "from bootstrap import bootstrap\n",
    "from bootstrap import thermodynamic_bootstrap\n",
    "import plotting"
   ]
  },
  {
   "cell_type": "markdown",
   "metadata": {},
   "source": [
    "# Load in results\n",
    "\n",
    "## Experimental data from Rekharsky et al."
   ]
  },
  {
   "cell_type": "code",
   "execution_count": 16,
   "metadata": {
    "ExecuteTime": {
     "end_time": "2018-10-25T17:42:49.523692Z",
     "start_time": "2018-10-25T17:42:49.454998Z"
    }
   },
   "outputs": [],
   "source": [
    "from constants import experimental_deltaG"
   ]
  },
  {
   "cell_type": "code",
   "execution_count": 17,
   "metadata": {
    "ExecuteTime": {
     "end_time": "2018-10-25T17:42:49.593009Z",
     "start_time": "2018-10-25T17:42:49.525592Z"
    }
   },
   "outputs": [],
   "source": [
    "experimental_list = experimental_deltaG.split(\"\\n\")\n",
    "experimental = pd.DataFrame([i.split(\"\\t\") for i in experimental_list],\n",
    "            columns=[\"System\", \"Delta G\", \"SEM\"])\n",
    "experimental[\"Delta G\"] = pd.to_numeric(experimental[\"Delta G\"])\n",
    "experimental[\"SEM\"] = pd.to_numeric(experimental[\"SEM\"])"
   ]
  },
  {
   "cell_type": "markdown",
   "metadata": {},
   "source": [
    "## Load in the BGBG-TIP3P and BGBG-TIP3P data"
   ]
  },
  {
   "cell_type": "code",
   "execution_count": 18,
   "metadata": {
    "ExecuteTime": {
     "end_time": "2018-10-25T17:42:49.715425Z",
     "start_time": "2018-10-25T17:42:49.594764Z"
    }
   },
   "outputs": [],
   "source": [
    "from constants import systems"
   ]
  },
  {
   "cell_type": "code",
   "execution_count": 19,
   "metadata": {
    "ExecuteTime": {
     "end_time": "2018-10-25T17:42:50.144584Z",
     "start_time": "2018-10-25T17:42:49.717178Z"
    }
   },
   "outputs": [],
   "source": [
    "bgbg_tip3p = pd.DataFrame()\n",
    "\n",
    "for system in systems:\n",
    "\n",
    "    # BGBG-TIP3P (GAFF v1.7)\n",
    "\n",
    "    prefix = os.path.join(\"systems\", system, \"bgbg-tip3p\")\n",
    "    bgbg_tip3p_attach = np.genfromtxt(os.path.join(prefix, \"ti-a.dat\"))\n",
    "    bgbg_tip3p_pull = np.genfromtxt(os.path.join(prefix, \"ti-u.dat\"))\n",
    "\n",
    "    if system[0] == \"a\":\n",
    "        bgbg_tip3p_release = np.genfromtxt(\n",
    "            os.path.join(\"systems\", \"a-release\", \"bgbg-tip3p\", \"ti-r.dat\")\n",
    "        )\n",
    "    else:\n",
    "        bgbg_tip3p_release = np.genfromtxt(\n",
    "            os.path.join(\"systems\", \"b-release\", \"bgbg-tip3p\", \"ti-r.dat\")\n",
    "        )\n",
    "    bgbg_tip3p_analytic = 7.14\n",
    "\n",
    "    delta_g = -1 * (\n",
    "        bgbg_tip3p_attach[-1, 1]\n",
    "        + bgbg_tip3p_pull[-1, 1]\n",
    "        - bgbg_tip3p_release[-1, 1]\n",
    "        - bgbg_tip3p_analytic\n",
    "    )\n",
    "    delta_g_sem = np.sqrt(\n",
    "        bgbg_tip3p_attach[-1, 2] ** 2\n",
    "        + bgbg_tip3p_pull[-1, 2] ** 2\n",
    "        + bgbg_tip3p_release[-1, 2] ** 2\n",
    "    )\n",
    "\n",
    "    bgbg_tip3p = bgbg_tip3p.append(\n",
    "        {\"System\": system, \"Delta G\": delta_g, \"SEM\": delta_g_sem, \"Type\": guest_types[system[0:-2]]}, ignore_index=True\n",
    "    )\n"
   ]
  },
  {
   "cell_type": "code",
   "execution_count": 28,
   "metadata": {
    "ExecuteTime": {
     "end_time": "2018-10-25T17:42:50.203465Z",
     "start_time": "2018-10-25T17:42:50.146342Z"
    }
   },
   "outputs": [
    {
     "data": {
      "text/html": [
       "<div>\n",
       "<style scoped>\n",
       "    .dataframe tbody tr th:only-of-type {\n",
       "        vertical-align: middle;\n",
       "    }\n",
       "\n",
       "    .dataframe tbody tr th {\n",
       "        vertical-align: top;\n",
       "    }\n",
       "\n",
       "    .dataframe thead th {\n",
       "        text-align: right;\n",
       "    }\n",
       "</style>\n",
       "<table border=\"1\" class=\"dataframe\">\n",
       "  <thead>\n",
       "    <tr style=\"text-align: right;\">\n",
       "      <th></th>\n",
       "      <th>Delta G</th>\n",
       "      <th>SEM</th>\n",
       "      <th>System</th>\n",
       "      <th>Type</th>\n",
       "    </tr>\n",
       "  </thead>\n",
       "  <tbody>\n",
       "    <tr>\n",
       "      <th>0</th>\n",
       "      <td>-0.016103</td>\n",
       "      <td>0.234765</td>\n",
       "      <td>a-bam-p</td>\n",
       "      <td>aliphatic_ammoniums</td>\n",
       "    </tr>\n",
       "    <tr>\n",
       "      <th>1</th>\n",
       "      <td>-0.616992</td>\n",
       "      <td>0.270263</td>\n",
       "      <td>a-bam-s</td>\n",
       "      <td>aliphatic_ammoniums</td>\n",
       "    </tr>\n",
       "    <tr>\n",
       "      <th>2</th>\n",
       "      <td>-0.335027</td>\n",
       "      <td>0.312059</td>\n",
       "      <td>a-but-p</td>\n",
       "      <td>aliphatic_carboxylates</td>\n",
       "    </tr>\n",
       "    <tr>\n",
       "      <th>3</th>\n",
       "      <td>-0.846324</td>\n",
       "      <td>0.255411</td>\n",
       "      <td>a-but-s</td>\n",
       "      <td>aliphatic_carboxylates</td>\n",
       "    </tr>\n",
       "    <tr>\n",
       "      <th>4</th>\n",
       "      <td>-0.264900</td>\n",
       "      <td>0.265886</td>\n",
       "      <td>a-cbu-p</td>\n",
       "      <td>cyclic_alcohols</td>\n",
       "    </tr>\n",
       "  </tbody>\n",
       "</table>\n",
       "</div>"
      ],
      "text/plain": [
       "    Delta G       SEM   System                    Type\n",
       "0 -0.016103  0.234765  a-bam-p     aliphatic_ammoniums\n",
       "1 -0.616992  0.270263  a-bam-s     aliphatic_ammoniums\n",
       "2 -0.335027  0.312059  a-but-p  aliphatic_carboxylates\n",
       "3 -0.846324  0.255411  a-but-s  aliphatic_carboxylates\n",
       "4 -0.264900  0.265886  a-cbu-p         cyclic_alcohols"
      ]
     },
     "execution_count": 28,
     "metadata": {},
     "output_type": "execute_result"
    }
   ],
   "source": [
    "bgbg_tip3p.head()"
   ]
  },
  {
   "cell_type": "code",
   "execution_count": 21,
   "metadata": {
    "ExecuteTime": {
     "end_time": "2018-10-25T17:42:50.589714Z",
     "start_time": "2018-10-25T17:42:50.205191Z"
    }
   },
   "outputs": [],
   "source": [
    "bg2bg2_tip3p = pd.DataFrame()\n",
    "\n",
    "for system in systems:\n",
    "\n",
    "    # BG2BG2-TIP3P (GAFF v2.1)\n",
    "\n",
    "    prefix = os.path.join(\"systems\", system, \"bg2bg2-tip3p\")\n",
    "    bg2bg2_tip3p_attach = np.genfromtxt(os.path.join(prefix, \"ti-a.dat\"))\n",
    "    bg2bg2_tip3p_pull = np.genfromtxt(os.path.join(prefix, \"ti-u.dat\"))\n",
    "\n",
    "    if system[0] == \"a\":\n",
    "        bg2bg2_tip3p_release = np.genfromtxt(\n",
    "            os.path.join(\"systems\", \"a-release\", \"bg2bg2-tip3p\", \"ti-r.dat\")\n",
    "        )\n",
    "    else:\n",
    "        bg2bg2_tip3p_release = np.genfromtxt(\n",
    "            os.path.join(\"systems\", \"b-release\", \"bg2bg2-tip3p\", \"ti-r.dat\")\n",
    "        )\n",
    "    bg2bg2_tip3p_analytic = 7.14\n",
    "\n",
    "    delta_g = -1 * (\n",
    "        bg2bg2_tip3p_attach[-1, 1]\n",
    "        + bg2bg2_tip3p_pull[-1, 1]\n",
    "        - bg2bg2_tip3p_release[-1, 1]\n",
    "        - bg2bg2_tip3p_analytic\n",
    "    )\n",
    "    delta_g_sem = np.sqrt(\n",
    "        bg2bg2_tip3p_attach[-1, 2] ** 2\n",
    "        + bg2bg2_tip3p_pull[-1, 2] ** 2\n",
    "        + bg2bg2_tip3p_release[-1, 2] ** 2\n",
    "    )\n",
    "\n",
    "    bg2bg2_tip3p = bg2bg2_tip3p.append(\n",
    "        {\"System\": system, \"Delta G\": delta_g, \"SEM\": delta_g_sem, \"Type\": guest_types[system[0:-2]]}, ignore_index=True\n",
    "    )\n"
   ]
  },
  {
   "cell_type": "code",
   "execution_count": 27,
   "metadata": {
    "ExecuteTime": {
     "end_time": "2018-10-25T17:42:50.622384Z",
     "start_time": "2018-10-25T17:42:50.591355Z"
    }
   },
   "outputs": [
    {
     "data": {
      "text/html": [
       "<div>\n",
       "<style scoped>\n",
       "    .dataframe tbody tr th:only-of-type {\n",
       "        vertical-align: middle;\n",
       "    }\n",
       "\n",
       "    .dataframe tbody tr th {\n",
       "        vertical-align: top;\n",
       "    }\n",
       "\n",
       "    .dataframe thead th {\n",
       "        text-align: right;\n",
       "    }\n",
       "</style>\n",
       "<table border=\"1\" class=\"dataframe\">\n",
       "  <thead>\n",
       "    <tr style=\"text-align: right;\">\n",
       "      <th></th>\n",
       "      <th>Delta G</th>\n",
       "      <th>SEM</th>\n",
       "      <th>System</th>\n",
       "      <th>Type</th>\n",
       "    </tr>\n",
       "  </thead>\n",
       "  <tbody>\n",
       "    <tr>\n",
       "      <th>0</th>\n",
       "      <td>0.150013</td>\n",
       "      <td>0.229452</td>\n",
       "      <td>a-bam-p</td>\n",
       "      <td>aliphatic_ammoniums</td>\n",
       "    </tr>\n",
       "    <tr>\n",
       "      <th>1</th>\n",
       "      <td>-2.930536</td>\n",
       "      <td>0.235066</td>\n",
       "      <td>a-bam-s</td>\n",
       "      <td>aliphatic_ammoniums</td>\n",
       "    </tr>\n",
       "    <tr>\n",
       "      <th>2</th>\n",
       "      <td>-1.369206</td>\n",
       "      <td>0.234800</td>\n",
       "      <td>a-but-p</td>\n",
       "      <td>aliphatic_carboxylates</td>\n",
       "    </tr>\n",
       "    <tr>\n",
       "      <th>3</th>\n",
       "      <td>-3.103348</td>\n",
       "      <td>0.231945</td>\n",
       "      <td>a-but-s</td>\n",
       "      <td>aliphatic_carboxylates</td>\n",
       "    </tr>\n",
       "    <tr>\n",
       "      <th>4</th>\n",
       "      <td>-2.064314</td>\n",
       "      <td>0.249570</td>\n",
       "      <td>a-cbu-p</td>\n",
       "      <td>cyclic_alcohols</td>\n",
       "    </tr>\n",
       "  </tbody>\n",
       "</table>\n",
       "</div>"
      ],
      "text/plain": [
       "    Delta G       SEM   System                    Type\n",
       "0  0.150013  0.229452  a-bam-p     aliphatic_ammoniums\n",
       "1 -2.930536  0.235066  a-bam-s     aliphatic_ammoniums\n",
       "2 -1.369206  0.234800  a-but-p  aliphatic_carboxylates\n",
       "3 -3.103348  0.231945  a-but-s  aliphatic_carboxylates\n",
       "4 -2.064314  0.249570  a-cbu-p         cyclic_alcohols"
      ]
     },
     "execution_count": 27,
     "metadata": {},
     "output_type": "execute_result"
    }
   ],
   "source": [
    "bg2bg2_tip3p.head()"
   ]
  },
  {
   "cell_type": "markdown",
   "metadata": {},
   "source": [
    "## Load in SMIRNOFF99Frosst data"
   ]
  },
  {
   "cell_type": "code",
   "execution_count": 23,
   "metadata": {
    "ExecuteTime": {
     "end_time": "2018-10-25T17:45:06.261539Z",
     "start_time": "2018-10-25T17:45:06.221928Z"
    }
   },
   "outputs": [],
   "source": [
    "from paprika.restraints_json import json_numpy_obj_hook\n",
    "import json"
   ]
  },
  {
   "cell_type": "code",
   "execution_count": 24,
   "metadata": {
    "ExecuteTime": {
     "end_time": "2018-10-25T17:45:06.581959Z",
     "start_time": "2018-10-25T17:45:06.549325Z"
    }
   },
   "outputs": [],
   "source": [
    "def load_results(filepath=\"results.json\"):\n",
    "    with open(os.path.join(filepath), \"r\") as f:\n",
    "        json_data = f.read()\n",
    "    loaded = json.loads(json_data, object_hook=json_numpy_obj_hook)\n",
    "    return loaded\n"
   ]
  },
  {
   "cell_type": "code",
   "execution_count": 25,
   "metadata": {
    "ExecuteTime": {
     "end_time": "2018-10-25T17:45:07.408858Z",
     "start_time": "2018-10-25T17:45:06.948540Z"
    }
   },
   "outputs": [],
   "source": [
    "smirnoff = pd.DataFrame()\n",
    "\n",
    "for system in systems:\n",
    "    results = load_results(f\"results/{system}-results.json\")\n",
    "    results_release = load_results(f\"results/{system[0]}-release.json\")\n",
    "    \n",
    "    smirnoff_attach = results[\"attach\"][\"ti-block\"][\"fe\"]\n",
    "    smirnoff_pull = results[\"pull\"][\"ti-block\"][\"fe\"]\n",
    "    smirnoff_release = results_release[\"release\"][\"ti-block\"][\"fe\"]\n",
    "    \n",
    "    smirnoff_attach_sem = results[\"attach\"][\"ti-block\"][\"sem\"]\n",
    "    smirnoff_pull_sem = results[\"pull\"][\"ti-block\"][\"sem\"]\n",
    "    smirnoff_release_sem = results_release[\"release\"][\"ti-block\"][\"sem\"]\n",
    "        \n",
    "    smirnoff_analytic = 7.14\n",
    "\n",
    "    delta_g = (\n",
    "        -1 * (smirnoff_attach\n",
    "        + smirnoff_pull\n",
    "        - smirnoff_release\n",
    "        - smirnoff_analytic)\n",
    "    )\n",
    "    delta_g_sem = np.sqrt(\n",
    "        smirnoff_attach_sem ** 2\n",
    "        + smirnoff_pull_sem ** 2\n",
    "        + smirnoff_release_sem ** 2\n",
    "    )\n",
    "\n",
    "    smirnoff = smirnoff.append(\n",
    "        {\"System\": system, \"Delta G\": delta_g, \"SEM\": delta_g_sem, \"Type\": guest_types[system[0:-2]]}, ignore_index=True\n",
    "    )\n"
   ]
  },
  {
   "cell_type": "code",
   "execution_count": 37,
   "metadata": {
    "ExecuteTime": {
     "end_time": "2018-10-25T17:45:07.783786Z",
     "start_time": "2018-10-25T17:45:07.743144Z"
    }
   },
   "outputs": [
    {
     "data": {
      "text/html": [
       "<div>\n",
       "<style scoped>\n",
       "    .dataframe tbody tr th:only-of-type {\n",
       "        vertical-align: middle;\n",
       "    }\n",
       "\n",
       "    .dataframe tbody tr th {\n",
       "        vertical-align: top;\n",
       "    }\n",
       "\n",
       "    .dataframe thead th {\n",
       "        text-align: right;\n",
       "    }\n",
       "</style>\n",
       "<table border=\"1\" class=\"dataframe\">\n",
       "  <thead>\n",
       "    <tr style=\"text-align: right;\">\n",
       "      <th></th>\n",
       "      <th>Delta G</th>\n",
       "      <th>SEM</th>\n",
       "      <th>System</th>\n",
       "      <th>Type</th>\n",
       "    </tr>\n",
       "  </thead>\n",
       "  <tbody>\n",
       "    <tr>\n",
       "      <th>0</th>\n",
       "      <td>-3.236993</td>\n",
       "      <td>0.451365</td>\n",
       "      <td>a-bam-p</td>\n",
       "      <td>aliphatic_ammoniums</td>\n",
       "    </tr>\n",
       "    <tr>\n",
       "      <th>1</th>\n",
       "      <td>-0.544564</td>\n",
       "      <td>0.380773</td>\n",
       "      <td>a-bam-s</td>\n",
       "      <td>aliphatic_ammoniums</td>\n",
       "    </tr>\n",
       "    <tr>\n",
       "      <th>2</th>\n",
       "      <td>0.202175</td>\n",
       "      <td>0.298335</td>\n",
       "      <td>a-but-p</td>\n",
       "      <td>aliphatic_carboxylates</td>\n",
       "    </tr>\n",
       "    <tr>\n",
       "      <th>3</th>\n",
       "      <td>-1.440784</td>\n",
       "      <td>0.287627</td>\n",
       "      <td>a-but-s</td>\n",
       "      <td>aliphatic_carboxylates</td>\n",
       "    </tr>\n",
       "    <tr>\n",
       "      <th>4</th>\n",
       "      <td>-0.789488</td>\n",
       "      <td>0.289186</td>\n",
       "      <td>a-cbu-p</td>\n",
       "      <td>cyclic_alcohols</td>\n",
       "    </tr>\n",
       "  </tbody>\n",
       "</table>\n",
       "</div>"
      ],
      "text/plain": [
       "    Delta G       SEM   System                    Type\n",
       "0 -3.236993  0.451365  a-bam-p     aliphatic_ammoniums\n",
       "1 -0.544564  0.380773  a-bam-s     aliphatic_ammoniums\n",
       "2  0.202175  0.298335  a-but-p  aliphatic_carboxylates\n",
       "3 -1.440784  0.287627  a-but-s  aliphatic_carboxylates\n",
       "4 -0.789488  0.289186  a-cbu-p         cyclic_alcohols"
      ]
     },
     "execution_count": 37,
     "metadata": {},
     "output_type": "execute_result"
    }
   ],
   "source": [
    "smirnoff.head()"
   ]
  },
  {
   "cell_type": "code",
   "execution_count": 38,
   "metadata": {},
   "outputs": [],
   "source": [
    "def combine_data(df):\n",
    "\n",
    "    combined = pd.DataFrame()\n",
    "    df[\"Short\"] = [i[0:-2] for i in df[\"System\"].values]\n",
    "\n",
    "    for hg in df[\"Short\"].unique():\n",
    "        tmp = df[df[\"Short\"] == hg]\n",
    "        for _, row in tmp.iterrows():\n",
    "            for p in row[\"System\"].split(\"-\")[2]:\n",
    "                primary_fe = row[\"Delta G\"]\n",
    "                primary_sem = row[\"SEM\"]\n",
    "            else:\n",
    "                secondary_fe = row[\"Delta G\"]\n",
    "                secondary_sem = row[\"SEM\"]\n",
    "        results = thermodynamic_bootstrap(\n",
    "            primary_fe, primary_sem, secondary_fe, secondary_sem\n",
    "        )\n",
    "\n",
    "        print(f\"{hg} P: {primary_fe:+0.4f} ± {primary_sem:+0.2f} S: {secondary_fe:+0.2f} ± {secondary_sem:+0.2f} → Boot: {results['mean']:+0.2f} ± {results['sem']:+0.2f}\")\n",
    "        combined = combined.append(\n",
    "            {\n",
    "                \"System\": hg,\n",
    "                \"Delta G\": results[\"mean\"],\n",
    "                \"SEM\": results[\"sem\"],\n",
    "                \"Type\": guest_types[hg],\n",
    "            },\n",
    "            ignore_index=True,\n",
    "        )\n",
    "    return combined\n"
   ]
  },
  {
   "cell_type": "code",
   "execution_count": 39,
   "metadata": {},
   "outputs": [
    {
     "name": "stdout",
     "output_type": "stream",
     "text": [
      "a-bam P: -0.5446 ± +0.38 S: -0.54 ± +0.38 → Boot: -1.02 ± +0.28\n",
      "a-but P: -1.4408 ± +0.29 S: -1.44 ± +0.29 → Boot: -1.88 ± +0.20\n",
      "a-cbu P: -0.9796 ± +0.24 S: -0.98 ± +0.24 → Boot: -1.42 ± +0.17\n",
      "a-chp P: -2.3202 ± +0.31 S: -2.32 ± +0.31 → Boot: -2.77 ± +0.22\n",
      "a-cpe P: -1.5650 ± +0.26 S: -1.56 ± +0.26 → Boot: -2.00 ± +0.20\n",
      "a-coc P: -1.7633 ± +0.30 S: -1.76 ± +0.30 → Boot: -2.21 ± +0.22\n",
      "a-hep P: -3.7776 ± +0.25 S: -3.78 ± +0.25 → Boot: -4.21 ± +0.18\n",
      "a-ham P: -3.4800 ± +0.53 S: -3.48 ± +0.53 → Boot: -4.00 ± +0.41\n",
      "a-hp6 P: -3.0652 ± +0.30 S: -3.07 ± +0.30 → Boot: -3.52 ± +0.21\n",
      "a-hex P: -2.5262 ± +0.26 S: -2.53 ± +0.26 → Boot: -2.98 ± +0.18\n",
      "a-hx2 P: -2.2245 ± +0.24 S: -2.22 ± +0.24 → Boot: -2.67 ± +0.17\n",
      "a-hpa P: -3.9136 ± +0.85 S: -3.91 ± +0.85 → Boot: -4.55 ± +0.67\n",
      "a-mba P: -1.1912 ± +0.32 S: -1.19 ± +0.32 → Boot: -1.65 ± +0.22\n",
      "a-hx3 P: -0.9247 ± +0.31 S: -0.92 ± +0.31 → Boot: -1.38 ± +0.22\n",
      "a-mhp P: -3.8299 ± +0.35 S: -3.83 ± +0.35 → Boot: -4.30 ± +0.27\n",
      "a-mha P: -3.5475 ± +0.31 S: -3.55 ± +0.31 → Boot: -4.02 ± +0.22\n",
      "a-nmh P: -3.0138 ± +0.48 S: -3.01 ± +0.48 → Boot: -3.50 ± +0.35\n",
      "a-nmb P: -0.8424 ± +0.45 S: -0.84 ± +0.45 → Boot: -1.32 ± +0.33\n",
      "a-oct P: -4.5010 ± +0.36 S: -4.50 ± +0.36 → Boot: -4.97 ± +0.26\n",
      "a-oam P: -3.4326 ± +0.34 S: -3.43 ± +0.34 → Boot: -3.89 ± +0.25\n",
      "a-pnt P: -2.3136 ± +0.29 S: -2.31 ± +0.29 → Boot: -2.76 ± +0.21\n",
      "a-pam P: -0.2904 ± +0.42 S: -0.29 ± +0.42 → Boot: -0.75 ± +0.32\n",
      "b-ben P: -1.1606 ± +0.31 S: -1.16 ± +0.31 → Boot: -1.61 ± +0.23\n",
      "b-cbu P: -1.3810 ± +0.29 S: -1.38 ± +0.29 → Boot: -1.83 ± +0.20\n",
      "b-chp P: -2.6859 ± +0.30 S: -2.69 ± +0.30 → Boot: -3.14 ± +0.22\n",
      "b-coc P: -3.5289 ± +0.36 S: -3.53 ± +0.36 → Boot: -4.00 ± +0.28\n",
      "b-cpe P: -1.9493 ± +0.26 S: -1.95 ± +0.26 → Boot: -2.39 ± +0.18\n",
      "b-ham P: -1.3393 ± +0.29 S: -1.34 ± +0.29 → Boot: -1.78 ± +0.21\n",
      "b-hep P: -2.2111 ± +0.31 S: -2.21 ± +0.31 → Boot: -2.66 ± +0.23\n",
      "b-hex P: -2.8278 ± +0.28 S: -2.83 ± +0.28 → Boot: -3.27 ± +0.20\n",
      "b-m4c P: -2.7967 ± +0.26 S: -2.80 ± +0.26 → Boot: -3.24 ± +0.19\n",
      "b-m4t P: -3.4467 ± +0.26 S: -3.45 ± +0.26 → Boot: -3.89 ± +0.19\n",
      "b-mch P: -3.3015 ± +0.29 S: -3.30 ± +0.29 → Boot: -3.77 ± +0.22\n",
      "b-mha P: -1.9093 ± +0.31 S: -1.91 ± +0.31 → Boot: -2.36 ± +0.22\n",
      "b-mo3 P: -2.0277 ± +0.47 S: -2.03 ± +0.47 → Boot: -2.51 ± +0.35\n",
      "b-mo4 P: -4.1428 ± +0.44 S: -4.14 ± +0.44 → Boot: -4.62 ± +0.32\n",
      "b-mp3 P: -2.1374 ± +0.44 S: -2.14 ± +0.44 → Boot: -2.62 ± +0.32\n",
      "b-mp4 P: -1.6134 ± +0.36 S: -1.61 ± +0.36 → Boot: -2.09 ± +0.26\n",
      "b-oam P: -2.8602 ± +0.28 S: -2.86 ± +0.28 → Boot: -3.30 ± +0.20\n",
      "b-pb3 P: -2.1456 ± +0.34 S: -2.15 ± +0.34 → Boot: -2.61 ± +0.25\n",
      "b-pb4 P: -2.5779 ± +0.36 S: -2.58 ± +0.36 → Boot: -3.04 ± +0.26\n",
      "b-pha P: -1.5409 ± +0.40 S: -1.54 ± +0.40 → Boot: -2.01 ± +0.29\n",
      "b-pnt P: -1.0873 ± +0.33 S: -1.09 ± +0.33 → Boot: -1.54 ± +0.24\n"
     ]
    }
   ],
   "source": [
    "smirnoff_combined = combine_data(smirnoff)"
   ]
  },
  {
   "cell_type": "markdown",
   "metadata": {},
   "source": [
    "# Investiate a few outliers"
   ]
  },
  {
   "cell_type": "code",
   "execution_count": 42,
   "metadata": {},
   "outputs": [],
   "source": [
    "df = smirnoff_combined.merge(experimental, on=[\"System\"], suffixes=(\"_smirnoff\",\n",
    "                                                                \"_experiment\"))\n"
   ]
  },
  {
   "cell_type": "code",
   "execution_count": 44,
   "metadata": {},
   "outputs": [
    {
     "data": {
      "text/html": [
       "<div>\n",
       "<style scoped>\n",
       "    .dataframe tbody tr th:only-of-type {\n",
       "        vertical-align: middle;\n",
       "    }\n",
       "\n",
       "    .dataframe tbody tr th {\n",
       "        vertical-align: top;\n",
       "    }\n",
       "\n",
       "    .dataframe thead th {\n",
       "        text-align: right;\n",
       "    }\n",
       "</style>\n",
       "<table border=\"1\" class=\"dataframe\">\n",
       "  <thead>\n",
       "    <tr style=\"text-align: right;\">\n",
       "      <th></th>\n",
       "      <th>Delta G_smirnoff</th>\n",
       "      <th>SEM_smirnoff</th>\n",
       "      <th>System</th>\n",
       "      <th>Type</th>\n",
       "      <th>Delta G_experiment</th>\n",
       "      <th>SEM_experiment</th>\n",
       "    </tr>\n",
       "  </thead>\n",
       "  <tbody>\n",
       "    <tr>\n",
       "      <th>13</th>\n",
       "      <td>-1.376249</td>\n",
       "      <td>0.224058</td>\n",
       "      <td>a-hx3</td>\n",
       "      <td>aliphatic_carboxylates</td>\n",
       "      <td>-3.01</td>\n",
       "      <td>0.01</td>\n",
       "    </tr>\n",
       "    <tr>\n",
       "      <th>21</th>\n",
       "      <td>-0.753809</td>\n",
       "      <td>0.322994</td>\n",
       "      <td>a-pam</td>\n",
       "      <td>aliphatic_ammoniums</td>\n",
       "      <td>-2.72</td>\n",
       "      <td>0.00</td>\n",
       "    </tr>\n",
       "    <tr>\n",
       "      <th>35</th>\n",
       "      <td>-4.622982</td>\n",
       "      <td>0.320130</td>\n",
       "      <td>b-mo4</td>\n",
       "      <td>aliphatic_carboxylates</td>\n",
       "      <td>-2.51</td>\n",
       "      <td>0.01</td>\n",
       "    </tr>\n",
       "  </tbody>\n",
       "</table>\n",
       "</div>"
      ],
      "text/plain": [
       "    Delta G_smirnoff  SEM_smirnoff System                    Type  \\\n",
       "13         -1.376249      0.224058  a-hx3  aliphatic_carboxylates   \n",
       "21         -0.753809      0.322994  a-pam     aliphatic_ammoniums   \n",
       "35         -4.622982      0.320130  b-mo4  aliphatic_carboxylates   \n",
       "\n",
       "    Delta G_experiment  SEM_experiment  \n",
       "13               -3.01            0.01  \n",
       "21               -2.72            0.00  \n",
       "35               -2.51            0.01  "
      ]
     },
     "execution_count": 44,
     "metadata": {},
     "output_type": "execute_result"
    }
   ],
   "source": [
    "df[abs(df[\"Delta G_smirnoff\"] - df[\"Delta G_experiment\"]) > 1.5]"
   ]
  },
  {
   "cell_type": "code",
   "execution_count": 43,
   "metadata": {},
   "outputs": [
    {
     "data": {
      "text/html": [
       "<div>\n",
       "<style scoped>\n",
       "    .dataframe tbody tr th:only-of-type {\n",
       "        vertical-align: middle;\n",
       "    }\n",
       "\n",
       "    .dataframe tbody tr th {\n",
       "        vertical-align: top;\n",
       "    }\n",
       "\n",
       "    .dataframe thead th {\n",
       "        text-align: right;\n",
       "    }\n",
       "</style>\n",
       "<table border=\"1\" class=\"dataframe\">\n",
       "  <thead>\n",
       "    <tr style=\"text-align: right;\">\n",
       "      <th></th>\n",
       "      <th>Delta G_smirnoff</th>\n",
       "      <th>SEM_smirnoff</th>\n",
       "      <th>System</th>\n",
       "      <th>Type</th>\n",
       "      <th>Delta G_experiment</th>\n",
       "      <th>SEM_experiment</th>\n",
       "    </tr>\n",
       "  </thead>\n",
       "  <tbody>\n",
       "    <tr>\n",
       "      <th>0</th>\n",
       "      <td>-1.020950</td>\n",
       "      <td>0.281391</td>\n",
       "      <td>a-bam</td>\n",
       "      <td>aliphatic_ammoniums</td>\n",
       "      <td>-1.58</td>\n",
       "      <td>0.02</td>\n",
       "    </tr>\n",
       "    <tr>\n",
       "      <th>1</th>\n",
       "      <td>-1.882162</td>\n",
       "      <td>0.204196</td>\n",
       "      <td>a-but</td>\n",
       "      <td>aliphatic_carboxylates</td>\n",
       "      <td>-1.51</td>\n",
       "      <td>0.04</td>\n",
       "    </tr>\n",
       "    <tr>\n",
       "      <th>2</th>\n",
       "      <td>-1.420308</td>\n",
       "      <td>0.170185</td>\n",
       "      <td>a-cbu</td>\n",
       "      <td>cyclic_alcohols</td>\n",
       "      <td>-2.02</td>\n",
       "      <td>0.02</td>\n",
       "    </tr>\n",
       "    <tr>\n",
       "      <th>3</th>\n",
       "      <td>-2.771116</td>\n",
       "      <td>0.219020</td>\n",
       "      <td>a-chp</td>\n",
       "      <td>cyclic_alcohols</td>\n",
       "      <td>-2.51</td>\n",
       "      <td>0.06</td>\n",
       "    </tr>\n",
       "    <tr>\n",
       "      <th>4</th>\n",
       "      <td>-2.004806</td>\n",
       "      <td>0.195619</td>\n",
       "      <td>a-cpe</td>\n",
       "      <td>cyclic_alcohols</td>\n",
       "      <td>-2.13</td>\n",
       "      <td>0.02</td>\n",
       "    </tr>\n",
       "  </tbody>\n",
       "</table>\n",
       "</div>"
      ],
      "text/plain": [
       "   Delta G_smirnoff  SEM_smirnoff System                    Type  \\\n",
       "0         -1.020950      0.281391  a-bam     aliphatic_ammoniums   \n",
       "1         -1.882162      0.204196  a-but  aliphatic_carboxylates   \n",
       "2         -1.420308      0.170185  a-cbu         cyclic_alcohols   \n",
       "3         -2.771116      0.219020  a-chp         cyclic_alcohols   \n",
       "4         -2.004806      0.195619  a-cpe         cyclic_alcohols   \n",
       "\n",
       "   Delta G_experiment  SEM_experiment  \n",
       "0               -1.58            0.02  \n",
       "1               -1.51            0.04  \n",
       "2               -2.02            0.02  \n",
       "3               -2.51            0.06  \n",
       "4               -2.13            0.02  "
      ]
     },
     "execution_count": 43,
     "metadata": {},
     "output_type": "execute_result"
    }
   ],
   "source": [
    "df.head()"
   ]
  },
  {
   "cell_type": "code",
   "execution_count": null,
   "metadata": {},
   "outputs": [],
   "source": []
  }
 ],
 "metadata": {
  "kernelspec": {
   "display_name": "Python [default]",
   "language": "python",
   "name": "python3"
  },
  "language_info": {
   "codemirror_mode": {
    "name": "ipython",
    "version": 3
   },
   "file_extension": ".py",
   "mimetype": "text/x-python",
   "name": "python",
   "nbconvert_exporter": "python",
   "pygments_lexer": "ipython3",
   "version": "3.6.4"
  }
 },
 "nbformat": 4,
 "nbformat_minor": 2
}
