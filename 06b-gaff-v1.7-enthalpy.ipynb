{
 "cells": [
  {
   "cell_type": "code",
   "execution_count": 9,
   "metadata": {
    "ExecuteTime": {
     "end_time": "2019-02-01T19:19:56.336232Z",
     "start_time": "2019-02-01T19:19:56.286535Z"
    }
   },
   "outputs": [
    {
     "name": "stdout",
     "output_type": "stream",
     "text": [
      "The autoreload extension is already loaded. To reload it, use:\n",
      "  %reload_ext autoreload\n",
      "The blackcellmagic extension is already loaded. To reload it, use:\n",
      "  %reload_ext blackcellmagic\n"
     ]
    }
   ],
   "source": [
    "import pandas as pd\n",
    "import scipy as sc\n",
    "import numpy as np\n",
    "import os\n",
    "import json\n",
    "\n",
    "import matplotlib as mpl\n",
    "import matplotlib.pyplot as plt\n",
    "from matplotlib.gridspec import GridSpec\n",
    "from matplotlib.colors import colorConverter\n",
    "import seaborn as sns\n",
    "import glob\n",
    "\n",
    "%load_ext autoreload\n",
    "%autoreload 2\n",
    "%load_ext blackcellmagic\n",
    "%matplotlib inline"
   ]
  },
  {
   "cell_type": "code",
   "execution_count": 12,
   "metadata": {
    "ExecuteTime": {
     "end_time": "2019-02-01T19:21:54.226672Z",
     "start_time": "2019-02-01T19:21:54.185858Z"
    }
   },
   "outputs": [],
   "source": [
    "from constants import guest_types\n",
    "from constants import colors\n",
    "from constants import systems\n",
    "from constants import experimental_deltaH\n",
    "from bootstrap import bootstrap\n",
    "from bootstrap import thermodynamic_bootstrap\n",
    "from blocking import get_block_sem\n",
    "import plotting"
   ]
  },
  {
   "cell_type": "markdown",
   "metadata": {},
   "source": [
    "# Grab experimental data"
   ]
  },
  {
   "cell_type": "code",
   "execution_count": 4,
   "metadata": {
    "ExecuteTime": {
     "end_time": "2019-02-01T19:16:21.272606Z",
     "start_time": "2019-02-01T19:16:21.230011Z"
    }
   },
   "outputs": [],
   "source": [
    "experimental_list = experimental_deltaH.split(\"\\n\")\n",
    "experimental = pd.DataFrame([i.split(\"\\t\") for i in experimental_list],\n",
    "            columns=[\"System\", \"Delta H\", \"SEM\"])\n",
    "experimental[\"Delta H\"] = pd.to_numeric(experimental[\"Delta H\"])\n",
    "experimental[\"SEM\"] = pd.to_numeric(experimental[\"SEM\"])"
   ]
  },
  {
   "cell_type": "code",
   "execution_count": 5,
   "metadata": {
    "ExecuteTime": {
     "end_time": "2019-02-01T19:16:25.447466Z",
     "start_time": "2019-02-01T19:16:25.313185Z"
    }
   },
   "outputs": [
    {
     "data": {
      "text/html": [
       "<div>\n",
       "<style scoped>\n",
       "    .dataframe tbody tr th:only-of-type {\n",
       "        vertical-align: middle;\n",
       "    }\n",
       "\n",
       "    .dataframe tbody tr th {\n",
       "        vertical-align: top;\n",
       "    }\n",
       "\n",
       "    .dataframe thead th {\n",
       "        text-align: right;\n",
       "    }\n",
       "</style>\n",
       "<table border=\"1\" class=\"dataframe\">\n",
       "  <thead>\n",
       "    <tr style=\"text-align: right;\">\n",
       "      <th></th>\n",
       "      <th>System</th>\n",
       "      <th>Delta H</th>\n",
       "      <th>SEM</th>\n",
       "    </tr>\n",
       "  </thead>\n",
       "  <tbody>\n",
       "    <tr>\n",
       "      <th>0</th>\n",
       "      <td>a-bam</td>\n",
       "      <td>-2.17</td>\n",
       "      <td>0.05</td>\n",
       "    </tr>\n",
       "    <tr>\n",
       "      <th>1</th>\n",
       "      <td>a-nmb</td>\n",
       "      <td>-2.57</td>\n",
       "      <td>0.06</td>\n",
       "    </tr>\n",
       "    <tr>\n",
       "      <th>2</th>\n",
       "      <td>a-mba</td>\n",
       "      <td>-2.68</td>\n",
       "      <td>0.07</td>\n",
       "    </tr>\n",
       "    <tr>\n",
       "      <th>3</th>\n",
       "      <td>a-pam</td>\n",
       "      <td>-3.28</td>\n",
       "      <td>0.02</td>\n",
       "    </tr>\n",
       "    <tr>\n",
       "      <th>4</th>\n",
       "      <td>a-ham</td>\n",
       "      <td>-4.19</td>\n",
       "      <td>0.02</td>\n",
       "    </tr>\n",
       "  </tbody>\n",
       "</table>\n",
       "</div>"
      ],
      "text/plain": [
       "  System  Delta H   SEM\n",
       "0  a-bam    -2.17  0.05\n",
       "1  a-nmb    -2.57  0.06\n",
       "2  a-mba    -2.68  0.07\n",
       "3  a-pam    -3.28  0.02\n",
       "4  a-ham    -4.19  0.02"
      ]
     },
     "execution_count": 5,
     "metadata": {},
     "output_type": "execute_result"
    }
   ],
   "source": [
    "experimental.head()"
   ]
  },
  {
   "cell_type": "markdown",
   "metadata": {},
   "source": [
    "# Grab Niel's BGBG-TIP3P data"
   ]
  },
  {
   "cell_type": "code",
   "execution_count": 6,
   "metadata": {
    "ExecuteTime": {
     "end_time": "2019-02-01T19:17:01.255765Z",
     "start_time": "2019-02-01T19:17:01.174988Z"
    }
   },
   "outputs": [],
   "source": [
    "def get_energies_for_enthalpy(mden):\n",
    "    \"\"\"\n",
    "    Modeled after Niel's version.\n",
    "    \"\"\"\n",
    "\n",
    "    vdw = []\n",
    "    ele = []\n",
    "    bnd = []\n",
    "    ang = []\n",
    "    dih = []\n",
    "    v14 = []\n",
    "    e14 = []\n",
    "\n",
    "    with open(mden, \"r\") as f:\n",
    "        for line in f.readlines()[10:]:\n",
    "            words = line.rstrip().split()\n",
    "            if words[0] == \"L6\":\n",
    "                vdw.append(float(words[3]))\n",
    "                ele.append(float(words[4]))\n",
    "            elif words[0] == \"L7\":\n",
    "                bnd.append(float(words[2]))\n",
    "                ang.append(float(words[3]))\n",
    "                dih.append(float(words[4]))\n",
    "            elif words[0] == \"L8\":\n",
    "                v14.append(float(words[1]))\n",
    "                e14.append(float(words[2]))\n",
    "    return bnd, ang, dih, v14, e14, vdw, ele\n"
   ]
  },
  {
   "cell_type": "code",
   "execution_count": 20,
   "metadata": {
    "ExecuteTime": {
     "end_time": "2019-02-01T20:56:14.942161Z",
     "start_time": "2019-02-01T19:37:40.625452Z"
    }
   },
   "outputs": [],
   "source": [
    "for system in systems:\n",
    "    end_point_energies = {}\n",
    "    end_point_energies[system] = {}\n",
    "    for window in [\"a00\", \"r00\"]:\n",
    "        end_point_energies[system][window] = {}\n",
    "        mden_files = glob.glob(\n",
    "            os.path.join(\"/home/dslochower/kirkwood-niel/projects/cds/wat6/bgbg-tip3p/\", system, window) + \"/mden*\"\n",
    "        )\n",
    "        mden_files = [i for i in mden_files if \"pl\" not in i]\n",
    "\n",
    "        e_bond = []\n",
    "        e_ang = []\n",
    "        e_dih = []\n",
    "        e_v14 = []\n",
    "        e_e14 = []\n",
    "        e_vdw = []\n",
    "        e_ele = []\n",
    "\n",
    "        for index, file in enumerate(mden_files):\n",
    "            bnd, ang, dih, v14, e14, vdw, ele = get_energies_for_enthalpy(file)\n",
    "            e_bond.append(bnd)\n",
    "            e_ang.append(ang)\n",
    "            e_dih.append(dih)\n",
    "            e_v14.append(v14)\n",
    "            e_e14.append(e14)\n",
    "            e_vdw.append(vdw)\n",
    "            e_ele.append(ele)\n",
    "\n",
    "        e_bond = [item for sublist in e_bond for item in sublist]\n",
    "        e_ang = [item for sublist in e_ang for item in sublist]\n",
    "        e_dih = [item for sublist in e_dih for item in sublist]\n",
    "        e_v14 = [item for sublist in e_v14 for item in sublist]\n",
    "        e_e14 = [item for sublist in e_e14 for item in sublist]\n",
    "        e_vdw = [item for sublist in e_vdw for item in sublist]\n",
    "        e_ele = [item for sublist in e_ele for item in sublist]\n",
    "\n",
    "        lists = [e_bond, e_ang, e_dih, e_v14, e_e14, e_vdw, e_ele]\n",
    "        e_total = [sum(x) for x in zip(*lists)]\n",
    "\n",
    "\n",
    "        # Skip SEMs right now... that is the slow part.\n",
    "#         end_point_energies[system][window][\"total\"] = [np.mean(e_total), get_block_sem(e_total)]\n",
    "#         end_point_energies[system][window][\"bond\"] = [np.mean(e_bond), get_block_sem(e_bond)]\n",
    "#         end_point_energies[system][window][\"ang\"]  = [np.mean(e_ang), get_block_sem(e_ang)]\n",
    "#         end_point_energies[system][window][\"dih\"] = [np.mean(e_dih), get_block_sem(e_dih)]\n",
    "#         end_point_energies[system][window][\"v14\"] = [np.mean(e_v14), get_block_sem(e_v14)]\n",
    "#         end_point_energies[system][window][\"e14\"] = [np.mean(e_e14), get_block_sem(e_e14)]\n",
    "#         end_point_energies[system][window][\"ele\"] = [np.mean(e_ele), get_block_sem(e_ele)]\n",
    "#         end_point_energies[system][window][\"vdw\"] = [np.mean(e_vdw), get_block_sem(e_vdw)]\n",
    "\n",
    "        end_point_energies[system][window][\"total\"] = [np.mean(e_total), 1]\n",
    "        end_point_energies[system][window][\"bond\"] = [np.mean(e_bond), 1]\n",
    "        end_point_energies[system][window][\"ang\"]  = [np.mean(e_ang), 1]\n",
    "        end_point_energies[system][window][\"dih\"] = [np.mean(e_dih), 1]\n",
    "        end_point_energies[system][window][\"v14\"] = [np.mean(e_v14), 1]\n",
    "        end_point_energies[system][window][\"e14\"] = [np.mean(e_e14), 1]\n",
    "        end_point_energies[system][window][\"ele\"] = [np.mean(e_ele), 1]\n",
    "        end_point_energies[system][window][\"vdw\"] = [np.mean(e_vdw), 1]"
   ]
  },
  {
   "cell_type": "code",
   "execution_count": 21,
   "metadata": {
    "ExecuteTime": {
     "end_time": "2019-02-01T20:56:15.271383Z",
     "start_time": "2019-02-01T20:56:15.123047Z"
    }
   },
   "outputs": [
    {
     "data": {
      "text/plain": [
       "{'b-pnt-p': {'a00': {'ang': [95.45397955704888, 1],\n",
       "   'bond': [38.62544272535933, 1],\n",
       "   'dih': [147.7272861780413, 1],\n",
       "   'e14': [809.3768775216431, 1],\n",
       "   'ele': [-26262.936436501564, 1],\n",
       "   'total': [-22014.13227654164, 1],\n",
       "   'v14': [35.027296287172454, 1],\n",
       "   'vdw': [3122.593277690674, 1]},\n",
       "  'r00': {'ang': [95.76493645642839, 1],\n",
       "   'bond': [38.722951772580224, 1],\n",
       "   'dih': [146.46133177258793, 1],\n",
       "   'e14': [808.8530230049261, 1],\n",
       "   'ele': [-26262.600121018346, 1],\n",
       "   'total': [-22013.69821419658, 1],\n",
       "   'v14': [34.69329062666554, 1],\n",
       "   'vdw': [3124.406373188578, 1]}}}"
      ]
     },
     "execution_count": 21,
     "metadata": {},
     "output_type": "execute_result"
    }
   ],
   "source": [
    "end_point_energies_point_energies"
   ]
  },
  {
   "cell_type": "markdown",
   "metadata": {},
   "source": [
    "## Plot by orientation"
   ]
  },
  {
   "cell_type": "markdown",
   "metadata": {},
   "source": [
    "## Combine each orientation"
   ]
  },
  {
   "cell_type": "code",
   "execution_count": null,
   "metadata": {
    "ExecuteTime": {
     "end_time": "2019-02-01T19:26:10.341574Z",
     "start_time": "2019-02-01T19:22:21.175Z"
    }
   },
   "outputs": [],
   "source": [
    "def combine_data(df):\n",
    "\n",
    "    combined = pd.DataFrame()\n",
    "    df[\"Short\"] = [i[0:-2] for i in df[\"System\"].values]\n",
    "\n",
    "    for hg in df[\"Short\"].unique():\n",
    "        tmp = df[df[\"Short\"] == hg]\n",
    "        for _, row in tmp.iterrows():\n",
    "            for p in row[\"System\"].split(\"-\")[2]:\n",
    "                primary_fe = row[\"total\"]\n",
    "                primary_sem = row[\"total_sem\"]\n",
    "            else:\n",
    "                secondary_fe = row[\"total\"]\n",
    "                secondary_sem = row[\"total_sem\"]\n",
    "        results = thermodynamic_bootstrap(\n",
    "            primary_fe, primary_sem, secondary_fe, secondary_sem\n",
    "        )\n",
    "\n",
    "        print(f\"{hg} P: {primary_fe:+0.4f} ± {primary_sem:+0.2f} S: {secondary_fe:+0.2f} ± {secondary_sem:+0.2f} → Boot: {results['mean']:+0.2f} ± {results['sem']:+0.2f}\")\n",
    "        combined = combined.append(\n",
    "            {\n",
    "                \"System\": hg,\n",
    "                \"Delta H\": results[\"mean\"],\n",
    "                \"SEM\": results[\"sem\"],\n",
    "                \"Type\": guest_types[hg],\n",
    "            },\n",
    "            ignore_index=True,\n",
    "        )\n",
    "    return combined\n"
   ]
  },
  {
   "cell_type": "code",
   "execution_count": null,
   "metadata": {},
   "outputs": [],
   "source": []
  }
 ],
 "metadata": {
  "kernelspec": {
   "display_name": "Python [default]",
   "language": "python",
   "name": "python3"
  },
  "language_info": {
   "codemirror_mode": {
    "name": "ipython",
    "version": 3
   },
   "file_extension": ".py",
   "mimetype": "text/x-python",
   "name": "python",
   "nbconvert_exporter": "python",
   "pygments_lexer": "ipython3",
   "version": "3.6.4"
  }
 },
 "nbformat": 4,
 "nbformat_minor": 2
}
