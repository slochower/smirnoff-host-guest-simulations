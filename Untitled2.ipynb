{
 "cells": [
  {
   "cell_type": "code",
   "execution_count": 2,
   "metadata": {},
   "outputs": [],
   "source": [
    "import pandas as pd\n",
    "import scipy as sc\n",
    "import glob\n",
    "import os\n",
    "import numpy as np\n",
    "\n",
    "import matplotlib as mpl\n",
    "import matplotlib.pyplot as plt\n",
    "from matplotlib.gridspec import GridSpec\n",
    "from matplotlib.colors import colorConverter\n",
    "import seaborn as sns\n",
    "\n",
    "%load_ext autoreload\n",
    "%autoreload 2\n",
    "%load_ext blackcellmagic\n",
    "%matplotlib inline"
   ]
  },
  {
   "cell_type": "code",
   "execution_count": 78,
   "metadata": {},
   "outputs": [],
   "source": [
    "def factors(n):  # Return list of integer factors\n",
    "    facs = []\n",
    "    sqrt = int(round(np.sqrt(n) + 0.5))\n",
    "    i = 1\n",
    "    while i <= sqrt:\n",
    "        if n % i == 0:\n",
    "            facs.append(i)\n",
    "            j = n / i\n",
    "            if j != i:\n",
    "                facs.append(j)\n",
    "        i += 1\n",
    "    return sorted(facs, key=int)\n"
   ]
  },
  {
   "cell_type": "code",
   "execution_count": 88,
   "metadata": {},
   "outputs": [],
   "source": []
  },
  {
   "cell_type": "code",
   "execution_count": 89,
   "metadata": {},
   "outputs": [],
   "source": [
    "N = 500 \n",
    "noise = sc.random.randn(N)\n",
    "arr = [i + 100 * n for i, n in zip(range(N), noise)]"
   ]
  },
  {
   "cell_type": "code",
   "execution_count": 90,
   "metadata": {},
   "outputs": [
    {
     "name": "stdout",
     "output_type": "stream",
     "text": [
      "0 245.2843613791846\n",
      "1 302.9654384870984\n",
      "2 329.2629925990744\n",
      "3 344.4344653068229\n",
      "4 354.0549021193059\n",
      "5 360.60171191638983\n",
      "6 368.1874482702641\n",
      "7 372.9976666765056\n",
      "8 376.2710715750475\n",
      "9 379.4778838458751\n",
      "10 380.4248700495774\n",
      "11 382.82997925269825\n",
      "12 384.4666817019691\n",
      "13 386.07008783738297\n",
      "14 386.5435809392341\n",
      "15 387.74613554079457\n",
      "16 388.56448676543005\n",
      "17 389.36618983313684\n",
      "18 390.1247634685243\n",
      "19 390.53393908084206\n",
      "20 390.93479061469554\n",
      "21 391.31407743238924\n"
     ]
    },
    {
     "data": {
      "text/plain": [
       "90.20449240910605"
      ]
     },
     "execution_count": 90,
     "metadata": {},
     "output_type": "execute_result"
    }
   ],
   "source": [
    "seom(480, arr[0:480])"
   ]
  },
  {
   "cell_type": "code",
   "execution_count": 64,
   "metadata": {},
   "outputs": [
    {
     "data": {
      "text/plain": [
       "175.5949041854262"
      ]
     },
     "execution_count": 64,
     "metadata": {},
     "output_type": "execute_result"
    }
   ],
   "source": [
    "np.std(arr)"
   ]
  },
  {
   "cell_type": "code",
   "execution_count": 73,
   "metadata": {},
   "outputs": [
    {
     "data": {
      "text/plain": [
       "[int, int, int, int, int, int, float, float, float, float, float, float]"
      ]
     },
     "execution_count": 73,
     "metadata": {},
     "output_type": "execute_result"
    }
   ],
   "source": [
    "[type(i) for i in factors(500)]"
   ]
  },
  {
   "cell_type": "code",
   "execution_count": 79,
   "metadata": {},
   "outputs": [],
   "source": [
    "# https://stackoverflow.com/questions/6800193/what-is-the-most-efficient-way-of-finding-all-the-factors-of-a-number-in-python\n",
    "# THis is good.\n",
    "from functools import reduce\n",
    "\n",
    "def fctors(n):    \n",
    "    return set(reduce(list.__add__, \n",
    "                ([i, n//i] for i in range(1, int(n**0.5) + 1) if n % i == 0)))\n"
   ]
  },
  {
   "cell_type": "code",
   "execution_count": 80,
   "metadata": {},
   "outputs": [
    {
     "data": {
      "text/plain": [
       "[1, 2, 4, 5, 10, 20, 25.0, 50.0, 100.0, 125.0, 250.0, 500.0]"
      ]
     },
     "execution_count": 80,
     "metadata": {},
     "output_type": "execute_result"
    }
   ],
   "source": [
    "factors(500)"
   ]
  },
  {
   "cell_type": "code",
   "execution_count": 81,
   "metadata": {},
   "outputs": [
    {
     "data": {
      "text/plain": [
       "{1, 2, 4, 5, 10, 20, 25, 50, 100, 125, 250, 500}"
      ]
     },
     "execution_count": 81,
     "metadata": {},
     "output_type": "execute_result"
    }
   ],
   "source": [
    "fctors(500)"
   ]
  },
  {
   "cell_type": "code",
   "execution_count": null,
   "metadata": {},
   "outputs": [],
   "source": [
    "fctors(500)\n",
    "def get_nearest_max(n):\n",
    "    \"\"\"\n",
    "    Return the number with the largest number of factors between n-100 and n.\n",
    "    \"\"\"\n",
    "    num_factors = []\n",
    "    max_factors = 0\n",
    "    if n % 2 == 0:\n",
    "        beg = n - 100\n",
    "        end = n\n",
    "    else:\n",
    "        beg = n - 101\n",
    "        end = n - 1\n",
    "    if beg < 0:\n",
    "        beg = 0\n",
    "    for i in range(beg, end + 2, 2):\n",
    "        num_factors = len(fctors(i))\n",
    "        if num_factors >= max_factors:\n",
    "            max_factors = num_factors\n",
    "            most_factors = i\n",
    "    return most_factors\n"
   ]
  },
  {
   "cell_type": "code",
   "execution_count": null,
   "metadata": {},
   "outputs": [],
   "source": [
    "\n",
    "def get_block_sem(data_array):\n",
    "    \"\"\"\n",
    "    Compute the standard error of the mean (SEM) for a data_array using the blocking method.\"\n",
    "    \"\"\"\n",
    "    # Get the integer factors for the number of data points. These\n",
    "    # are equivalent to the block sizes we will check.\n",
    "    block_sizes = get_factors(len(data_array))\n",
    "\n",
    "    # An array to store means for each block ... make it bigger than we need.\n",
    "    block_means = np.zeros([block_sizes[-1]], np.float64)\n",
    "\n",
    "    # Store the SEM for each block size, except the last two size for which\n",
    "    # there will only be two or one blocks total and thus very noisy.\n",
    "    sems = np.zeros([len(block_sizes) - 2], np.float64)\n",
    "\n",
    "    # Check each block size except the last two.\n",
    "    for size_idx in range(len(block_sizes) - 2):\n",
    "        # Check each block, the number of which is conveniently found as\n",
    "        # the other number of the factor pair in block_sizes\n",
    "        num_blocks = block_sizes[-size_idx - 1]\n",
    "        for blk_idx in range(num_blocks):\n",
    "            # Find the index for beg and end of data points for each block\n",
    "            data_beg_idx = blk_idx * block_sizes[size_idx]\n",
    "            data_end_idx = (blk_idx + 1) * block_sizes[size_idx]\n",
    "            # Compute the mean of this block and store in array\n",
    "            block_means[blk_idx] = np.mean(data_array[data_beg_idx:data_end_idx])\n",
    "        # Compute the standard deviation across all blocks, devide by num_blocks-1 for SEM\n",
    "        sems[size_idx] = np.std(block_means[0:num_blocks], ddof=0) / np.sqrt(num_blocks - 1)\n",
    "        # Hmm or should ddof=1? I think 0, see Flyvbjerg -----^\n",
    "\n",
    "    # Return the max SEM found ... this is a conservative approach.\n",
    "    return np.max(sems)\n"
   ]
  },
  {
   "cell_type": "code",
   "execution_count": null,
   "metadata": {},
   "outputs": [],
   "source": []
  }
 ],
 "metadata": {
  "kernelspec": {
   "display_name": "Python [default]",
   "language": "python",
   "name": "python3"
  },
  "language_info": {
   "codemirror_mode": {
    "name": "ipython",
    "version": 3
   },
   "file_extension": ".py",
   "mimetype": "text/x-python",
   "name": "python",
   "nbconvert_exporter": "python",
   "pygments_lexer": "ipython3",
   "version": "3.6.4"
  }
 },
 "nbformat": 4,
 "nbformat_minor": 2
}
