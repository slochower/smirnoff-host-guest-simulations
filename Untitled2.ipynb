{
 "cells": [
  {
   "cell_type": "code",
   "execution_count": 11,
   "metadata": {
    "ExecuteTime": {
     "end_time": "2018-03-17T03:52:03.449929Z",
     "start_time": "2018-03-17T03:52:03.445188Z"
    }
   },
   "outputs": [],
   "source": [
    "import glob\n",
    "import parmed as pmd\n",
    "from openforcefield.typing.engines.smirnoff import ForceField, unit\n",
    "from openforcefield.utils import mergeStructure\n",
    "\n",
    "from smirnovert.utils import (create_pdb_with_conect, prune_conect, split_topology, create_host_guest_topology,\n",
    "                    create_host_mol2, convert_mol2_to_sybyl_antechamber,\n",
    "                    load_mol2, check_unique_atom_names,\n",
    "                    check_bond_lengths,\n",
    "                    extract_water_and_ions, create_water_and_ions_parameters)"
   ]
  },
  {
   "cell_type": "code",
   "execution_count": 12,
   "metadata": {
    "ExecuteTime": {
     "end_time": "2018-03-17T03:52:03.895133Z",
     "start_time": "2018-03-17T03:52:03.887541Z"
    }
   },
   "outputs": [],
   "source": [
    "prefix = './benchmarksets/input_files/'\n",
    "suffix = '/prmtop-rst7/'\n",
    "benchmarksets = [\n",
    "    'cd-set1'\n",
    "    ]\n",
    "\n",
    "systems = []\n",
    "\n",
    "for system in benchmarksets:\n",
    "    for index, file in enumerate(sorted(glob.glob(prefix + system + suffix + 'acd-1-p.prmtop'))):\n",
    "        systems.append(file)"
   ]
  },
  {
   "cell_type": "code",
   "execution_count": 13,
   "metadata": {
    "ExecuteTime": {
     "end_time": "2018-03-17T03:52:04.105400Z",
     "start_time": "2018-03-17T03:52:04.084424Z"
    }
   },
   "outputs": [],
   "source": [
    "for file in systems:\n",
    "    base_name = file[:-7].split('/')[-1]\n",
    "    host_set = file[:-7].split('/')[-3]\n",
    "    host = host_set.split('-')[0]\n",
    "    guest = base_name.split('-')[1]\n",
    "        \n",
    "    destination = prefix + host_set + '/' + suffix + 'smirnoff/' + base_name + '/'\n",
    "        \n",
    "    reference_prmtop = base_name + '.prmtop'\n",
    "    reference_inpcrd = base_name + '.rst7'\n",
    "    \n",
    "    name = 'smirnoff'\n",
    "    \n",
    "    if 'cb7' in host:\n",
    "        host_resname = 'CB7'\n",
    "    elif 'cd' in host:\n",
    "        host_resname = 'MGO'\n",
    "    elif 'gdcc' in host and 'temoa' in base_name:\n",
    "        host_resname = 'OCB'\n",
    "    elif 'gdcc' in host and 'oa' in base_name:\n",
    "        host_resname = 'OCT'\n",
    "    guest_resname = 'MOL'"
   ]
  },
  {
   "cell_type": "code",
   "execution_count": 14,
   "metadata": {
    "ExecuteTime": {
     "end_time": "2018-03-17T03:52:04.555934Z",
     "start_time": "2018-03-17T03:52:04.553928Z"
    }
   },
   "outputs": [],
   "source": [
    "prefix = name"
   ]
  },
  {
   "cell_type": "code",
   "execution_count": 21,
   "metadata": {
    "ExecuteTime": {
     "end_time": "2018-03-17T03:53:28.991008Z",
     "start_time": "2018-03-17T03:53:25.061222Z"
    }
   },
   "outputs": [
    {
     "name": "stdout",
     "output_type": "stream",
     "text": [
      "Check if the host-guest parameter file already exists...\n",
      "Check if the host-guest coordinate file already exists...\n"
     ]
    }
   ],
   "source": [
    "    reference = pmd.load_file(\n",
    "        destination + reference_prmtop, xyz=destination + reference_inpcrd)\n",
    "\n",
    "    create_pdb_with_conect(\n",
    "        solvated_pdb=destination + reference_inpcrd,\n",
    "        amber_prmtop=destination + reference_prmtop,\n",
    "        output_pdb=destination + prefix + '.pdb')\n",
    "\n",
    "    prune_conect(\n",
    "        input_pdb=prefix + '.pdb',\n",
    "        output_pdb=prefix + '.pruned.pdb',\n",
    "        path=destination)\n",
    "\n",
    "    components = split_topology(file_name=destination + prefix + '.pruned.pdb')\n",
    "    hg_topology = create_host_guest_topology(\n",
    "        components, host_resname=host_resname, guest_resname=guest_resname)\n",
    "\n",
    "    create_host_mol2(\n",
    "        solvated_pdb=destination + prefix + '.pruned.pdb',\n",
    "        amber_prmtop=destination + reference_prmtop,\n",
    "        mask=host_resname,\n",
    "        output_mol2=destination + host_resname + '.mol2')\n",
    "\n",
    "    create_host_mol2(\n",
    "        solvated_pdb=destination + prefix + '.pdb',\n",
    "        amber_prmtop=destination + reference_prmtop,\n",
    "        mask=guest_resname,\n",
    "        output_mol2=destination + guest_resname + '.mol2')\n",
    "\n",
    "    convert_mol2_to_sybyl_antechamber(\n",
    "        input_mol2=destination + host_resname + '.mol2',\n",
    "        output_mol2=destination + host_resname + '-sybyl.mol2',\n",
    "        ac_doctor=False)\n",
    "\n",
    "    convert_mol2_to_sybyl_antechamber(\n",
    "        input_mol2=destination + guest_resname + '.mol2',\n",
    "        output_mol2=destination + guest_resname + '-sybyl.mol2',\n",
    "        ac_doctor=False)\n",
    "\n",
    "    extract_water_and_ions(\n",
    "        amber_prmtop=reference_prmtop,\n",
    "        amber_inpcrd=reference_inpcrd,\n",
    "        host_residue=':' + host_resname,\n",
    "        guest_residue=':' + guest_resname,\n",
    "        dummy_atoms=True,\n",
    "        output_pdb='water_ions.pdb',\n",
    "        path=destination)\n",
    "\n",
    "    create_water_and_ions_parameters(\n",
    "        input_pdb='water_ions.pdb',\n",
    "        output_prmtop='water_ions.prmtop',\n",
    "        output_inpcrd='water_ions.inpcrd',\n",
    "        dummy_atoms=False,\n",
    "        path=destination)\n",
    "\n",
    "    host = load_mol2(\n",
    "        filename=destination + host_resname + '-sybyl.mol2',\n",
    "        name=host_resname,\n",
    "        add_tripos=True)\n",
    "\n",
    "    guest = load_mol2(\n",
    "        filename=destination + guest_resname + '-sybyl.mol2',\n",
    "        name=guest_resname,\n",
    "        add_tripos=False)\n",
    "\n",
    "    check_unique_atom_names(host)\n",
    "    check_unique_atom_names(guest)\n",
    "    molecules = [host, guest]\n",
    "\n",
    "    ff = ForceField('forcefield/smirnoff99Frosst.offxml')\n",
    "    system = ff.createSystem(\n",
    "        hg_topology.topology,\n",
    "        molecules,\n",
    "        nonbondedCutoff=1.1 * unit.nanometer,\n",
    "        ewaldErrorTolerance=1e-4)\n",
    "\n",
    "    hg_structure = pmd.openmm.topsystem.load_topology(\n",
    "        hg_topology.topology, system, hg_topology.positions)\n",
    "\n",
    "    check_bond_lengths(hg_structure, threshold=4)\n",
    "\n",
    "    try:\n",
    "        hg_structure.save(destination + 'hg.prmtop')\n",
    "    except OSError:\n",
    "        print('Check if the host-guest parameter file already exists...')\n",
    "\n",
    "    try:\n",
    "        hg_structure.save(destination + 'hg.inpcrd')\n",
    "    except OSError:\n",
    "        print('Check if the host-guest coordinate file already exists...')\n",
    "\n",
    "    water_and_ions = pmd.amber.AmberParm(\n",
    "        destination + 'water_ions.prmtop',\n",
    "        xyz=destination + 'water_ions.inpcrd')\n",
    "\n",
    "    merged = mergeStructure(hg_structure, water_and_ions)\n",
    "    merged.box = reference.box"
   ]
  },
  {
   "cell_type": "code",
   "execution_count": 22,
   "metadata": {
    "ExecuteTime": {
     "end_time": "2018-03-17T03:53:28.996206Z",
     "start_time": "2018-03-17T03:53:28.992793Z"
    }
   },
   "outputs": [],
   "source": [
    "host = load_mol2(\n",
    "        filename=destination + host_resname + '-sybyl.mol2',\n",
    "        name=host_resname,\n",
    "        add_tripos=True)"
   ]
  },
  {
   "cell_type": "code",
   "execution_count": 23,
   "metadata": {
    "ExecuteTime": {
     "end_time": "2018-03-17T03:53:29.084779Z",
     "start_time": "2018-03-17T03:53:28.997722Z"
    }
   },
   "outputs": [
    {
     "data": {
      "text/plain": [
       "<openeye.oechem.OEMol; proxy of <Swig Object of type 'OEMolWrapper *' at 0x7fbd8d33dae0> >"
      ]
     },
     "execution_count": 23,
     "metadata": {},
     "output_type": "execute_result"
    }
   ],
   "source": [
    "host"
   ]
  },
  {
   "cell_type": "code",
   "execution_count": 24,
   "metadata": {
    "ExecuteTime": {
     "end_time": "2018-03-17T03:53:29.159232Z",
     "start_time": "2018-03-17T03:53:29.086293Z"
    }
   },
   "outputs": [],
   "source": [
    "guest = load_mol2(\n",
    "    filename=destination + guest_resname + '-sybyl.mol2',\n",
    "    name=guest_resname,\n",
    "    add_tripos=False)"
   ]
  },
  {
   "cell_type": "code",
   "execution_count": 25,
   "metadata": {
    "ExecuteTime": {
     "end_time": "2018-03-17T03:54:03.640942Z",
     "start_time": "2018-03-17T03:54:03.638416Z"
    }
   },
   "outputs": [],
   "source": [
    "import openforcefield"
   ]
  },
  {
   "cell_type": "code",
   "execution_count": 26,
   "metadata": {
    "ExecuteTime": {
     "end_time": "2018-03-17T03:54:09.782868Z",
     "start_time": "2018-03-17T03:54:09.779745Z"
    }
   },
   "outputs": [
    {
     "data": {
      "text/plain": [
       "'0.0.4'"
      ]
     },
     "execution_count": 26,
     "metadata": {},
     "output_type": "execute_result"
    }
   ],
   "source": [
    "openforcefield.__version__"
   ]
  },
  {
   "cell_type": "code",
   "execution_count": null,
   "metadata": {},
   "outputs": [],
   "source": []
  }
 ],
 "metadata": {
  "kernelspec": {
   "display_name": "Python [conda env:smirnoff-paprika]",
   "language": "python",
   "name": "conda-env-smirnoff-paprika-py"
  },
  "language_info": {
   "codemirror_mode": {
    "name": "ipython",
    "version": 3
   },
   "file_extension": ".py",
   "mimetype": "text/x-python",
   "name": "python",
   "nbconvert_exporter": "python",
   "pygments_lexer": "ipython3",
   "version": "3.6.4"
  }
 },
 "nbformat": 4,
 "nbformat_minor": 2
}
