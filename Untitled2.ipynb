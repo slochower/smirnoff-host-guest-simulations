{
 "cells": [
  {
   "cell_type": "code",
   "execution_count": 33,
   "metadata": {
    "ExecuteTime": {
     "end_time": "2018-05-24T22:57:45.342159Z",
     "start_time": "2018-05-24T22:57:45.337788Z"
    }
   },
   "outputs": [],
   "source": [
    "import os as os\n",
    "import glob as glob\n",
    "import shutil as shutil"
   ]
  },
  {
   "cell_type": "code",
   "execution_count": 18,
   "metadata": {
    "ExecuteTime": {
     "end_time": "2018-05-24T22:56:42.708843Z",
     "start_time": "2018-05-24T22:56:42.706497Z"
    }
   },
   "outputs": [],
   "source": [
    "prefix = '/home/dslochower/kirkwood/projects/smirnoff-host-guest-simulations/systems/a-bam-p/'"
   ]
  },
  {
   "cell_type": "code",
   "execution_count": 42,
   "metadata": {
    "ExecuteTime": {
     "end_time": "2018-05-24T23:00:59.325316Z",
     "start_time": "2018-05-24T23:00:59.303839Z"
    }
   },
   "outputs": [],
   "source": [
    "old_attach = glob.glob(os.path.join(prefix, 'original/') + 'a*')\n",
    "old_pull = glob.glob(os.path.join(prefix, 'original/') + 'u*')\n",
    "\n",
    "new_attach = glob.glob(os.path.join(prefix, 'confirm-original/') + 'a*')\n",
    "new_pull = glob.glob(os.path.join(prefix, 'confirm-original/') + 'p*')"
   ]
  },
  {
   "cell_type": "code",
   "execution_count": 38,
   "metadata": {
    "ExecuteTime": {
     "end_time": "2018-05-24T22:59:27.641534Z",
     "start_time": "2018-05-24T22:59:26.788961Z"
    }
   },
   "outputs": [],
   "source": [
    "files = ['full.hmr.topo',\n",
    "        'full.crds',\n",
    "        ]\n",
    "\n",
    "for old, new in zip(old_attach, new_attach):\n",
    "    for file in files:\n",
    "        shutil.copy(os.path.join(old, 'original', file), \n",
    "                    os.path.join(new, file))"
   ]
  },
  {
   "cell_type": "code",
   "execution_count": 43,
   "metadata": {
    "ExecuteTime": {
     "end_time": "2018-05-24T23:01:04.513564Z",
     "start_time": "2018-05-24T23:01:01.510067Z"
    }
   },
   "outputs": [],
   "source": [
    "for old, new in zip(old_pull, new_pull):\n",
    "    for file in files:\n",
    "        shutil.copy(os.path.join(old, 'original', file), \n",
    "                    os.path.join(new, file))"
   ]
  },
  {
   "cell_type": "code",
   "execution_count": 44,
   "metadata": {
    "ExecuteTime": {
     "end_time": "2018-05-24T23:37:35.577348Z",
     "start_time": "2018-05-24T23:37:35.565777Z"
    }
   },
   "outputs": [],
   "source": [
    "release = glob.glob(os.path.join(prefix, 'confirm-original/') + 'r*')"
   ]
  },
  {
   "cell_type": "code",
   "execution_count": 45,
   "metadata": {
    "ExecuteTime": {
     "end_time": "2018-05-24T23:37:57.288250Z",
     "start_time": "2018-05-24T23:37:57.275187Z"
    }
   },
   "outputs": [
    {
     "ename": "NotADirectoryError",
     "evalue": "[Errno 20] Not a directory: '/home/dslochower/kirkwood/projects/smirnoff-host-guest-simulations/systems/a-bam-p/confirm-original/run_all.py/equil*'",
     "output_type": "error",
     "traceback": [
      "\u001b[0;31m---------------------------------------------------------------------------\u001b[0m",
      "\u001b[0;31mNotADirectoryError\u001b[0m                        Traceback (most recent call last)",
      "\u001b[0;32m<ipython-input-45-944de5476474>\u001b[0m in \u001b[0;36m<module>\u001b[0;34m()\u001b[0m\n\u001b[1;32m      6\u001b[0m \u001b[0;32mfor\u001b[0m \u001b[0mnew\u001b[0m \u001b[0;32min\u001b[0m \u001b[0mrelease\u001b[0m\u001b[0;34m:\u001b[0m\u001b[0;34m\u001b[0m\u001b[0m\n\u001b[1;32m      7\u001b[0m     \u001b[0;32mfor\u001b[0m \u001b[0mfile\u001b[0m \u001b[0;32min\u001b[0m \u001b[0mfiles\u001b[0m\u001b[0;34m:\u001b[0m\u001b[0;34m\u001b[0m\u001b[0m\n\u001b[0;32m----> 8\u001b[0;31m         \u001b[0mos\u001b[0m\u001b[0;34m.\u001b[0m\u001b[0mremove\u001b[0m\u001b[0;34m(\u001b[0m\u001b[0mos\u001b[0m\u001b[0;34m.\u001b[0m\u001b[0mpath\u001b[0m\u001b[0;34m.\u001b[0m\u001b[0mjoin\u001b[0m\u001b[0;34m(\u001b[0m\u001b[0mnew\u001b[0m\u001b[0;34m,\u001b[0m \u001b[0mfile\u001b[0m\u001b[0;34m)\u001b[0m\u001b[0;34m)\u001b[0m\u001b[0;34m\u001b[0m\u001b[0m\n\u001b[0m",
      "\u001b[0;31mNotADirectoryError\u001b[0m: [Errno 20] Not a directory: '/home/dslochower/kirkwood/projects/smirnoff-host-guest-simulations/systems/a-bam-p/confirm-original/run_all.py/equil*'"
     ]
    }
   ],
   "source": [
    "files = ['equil*',\n",
    "        'min*',\n",
    "         'prod*',\n",
    "        ]\n",
    "\n",
    "for new in release:\n",
    "    for file in files:\n",
    "        os.remove(os.path.join(new, file))"
   ]
  },
  {
   "cell_type": "code",
   "execution_count": null,
   "metadata": {},
   "outputs": [],
   "source": []
  }
 ],
 "metadata": {
  "kernelspec": {
   "display_name": "Python [conda env:smirnoff-paprika]",
   "language": "python",
   "name": "conda-env-smirnoff-paprika-py"
  },
  "language_info": {
   "codemirror_mode": {
    "name": "ipython",
    "version": 3
   },
   "file_extension": ".py",
   "mimetype": "text/x-python",
   "name": "python",
   "nbconvert_exporter": "python",
   "pygments_lexer": "ipython3",
   "version": "3.6.5"
  }
 },
 "nbformat": 4,
 "nbformat_minor": 2
}
