{
 "cells": [
  {
   "cell_type": "code",
   "execution_count": 1,
   "metadata": {
    "ExecuteTime": {
     "end_time": "2019-01-10T22:14:51.251187Z",
     "start_time": "2019-01-10T22:14:49.922231Z"
    },
    "scrolled": true
   },
   "outputs": [
    {
     "name": "stderr",
     "output_type": "stream",
     "text": [
      "/home/dslochower/data/applications/anaconda3/lib/python3.6/importlib/_bootstrap.py:219: RuntimeWarning: numpy.dtype size changed, may indicate binary incompatibility. Expected 96, got 88\n",
      "  return f(*args, **kwds)\n",
      "/home/dslochower/data/applications/anaconda3/lib/python3.6/importlib/_bootstrap.py:219: RuntimeWarning: numpy.dtype size changed, may indicate binary incompatibility. Expected 96, got 88\n",
      "  return f(*args, **kwds)\n",
      "/home/dslochower/data/applications/anaconda3/lib/python3.6/importlib/_bootstrap.py:219: RuntimeWarning: numpy.dtype size changed, may indicate binary incompatibility. Expected 96, got 88\n",
      "  return f(*args, **kwds)\n"
     ]
    }
   ],
   "source": [
    "import parmed as pmd\n",
    "import numpy as np\n",
    "import os\n",
    "import pandas as pd\n",
    "\n",
    "import matplotlib as mpl\n",
    "import matplotlib.pyplot as plt\n",
    "from matplotlib.gridspec import GridSpec\n",
    "from matplotlib.colors import colorConverter\n",
    "import seaborn as sns\n",
    "\n",
    "%load_ext autoreload\n",
    "%autoreload 2\n",
    "%matplotlib inline"
   ]
  },
  {
   "cell_type": "markdown",
   "metadata": {},
   "source": [
    "# Parameter comparisons\n",
    "\n",
    "I find there are a different number of dihedral parameters applied to a system parameterized with GAFF v1.7 and SMIRNOFF99Frosst."
   ]
  },
  {
   "cell_type": "markdown",
   "metadata": {},
   "source": [
    "## Method 1 (use ParmEd)"
   ]
  },
  {
   "cell_type": "code",
   "execution_count": 6,
   "metadata": {
    "ExecuteTime": {
     "end_time": "2019-01-11T19:56:18.306571Z",
     "start_time": "2019-01-11T19:56:17.988767Z"
    }
   },
   "outputs": [],
   "source": [
    "smirnoff_prmtop = pmd.load_file(\"systems/a-bam-p/smirnoff/a000/hg.prmtop\")\n",
    "smirnoff_prmtop = smirnoff_prmtop[\":MGO\"]\n",
    "\n",
    "gaff_prmtop = pmd.load_file(\"systems/a-bam-p/bgbg-tip3p/hg.topo\")\n",
    "gaff_prmtop = gaff_prmtop[\":MGO\"]"
   ]
  },
  {
   "cell_type": "code",
   "execution_count": 11,
   "metadata": {
    "ExecuteTime": {
     "end_time": "2019-01-11T19:57:12.191969Z",
     "start_time": "2019-01-11T19:57:12.143847Z"
    }
   },
   "outputs": [
    {
     "name": "stdout",
     "output_type": "stream",
     "text": [
      "SMIRNOFF99Frosst: 630 dihedrals and 0 impropers.\n"
     ]
    }
   ],
   "source": [
    "print(f\"SMIRNOFF99Frosst: {len(smirnoff_prmtop.dihedrals)} dihedrals and {len(smirnoff_prmtop.impropers)} impropers.\")"
   ]
  },
  {
   "cell_type": "code",
   "execution_count": 12,
   "metadata": {
    "ExecuteTime": {
     "end_time": "2019-01-11T19:57:30.757502Z",
     "start_time": "2019-01-11T19:57:30.729859Z"
    }
   },
   "outputs": [
    {
     "name": "stdout",
     "output_type": "stream",
     "text": [
      "GAFF v1.7: 624 dihedrals and 0 impropers.\n"
     ]
    }
   ],
   "source": [
    "print(f\"GAFF v1.7: {len(gaff_prmtop.dihedrals)} dihedrals and {len(gaff_prmtop.impropers)} impropers.\")"
   ]
  },
  {
   "cell_type": "code",
   "execution_count": 33,
   "metadata": {
    "ExecuteTime": {
     "end_time": "2019-01-11T20:18:13.232363Z",
     "start_time": "2019-01-11T20:18:13.168446Z"
    }
   },
   "outputs": [],
   "source": [
    "def find_dihedrals(structure):\n",
    "    df = pd.DataFrame()\n",
    "    for dihedral in structure.dihedrals:\n",
    "        df = df.append(\n",
    "            pd.DataFrame(\n",
    "                {\n",
    "                    \"atom1\": dihedral.atom1.name,\n",
    "                    \"atom2\": dihedral.atom2.name,\n",
    "                    \"atom3\": dihedral.atom3.name,\n",
    "                    \"atom4\": dihedral.atom4.name,\n",
    "                    \"phi_k\": dihedral.type.phi_k,\n",
    "                    \"per\": dihedral.type.per,\n",
    "                    \"phase\": dihedral.type.phase,\n",
    "                },\n",
    "                index=[0],\n",
    "            ),\n",
    "            ignore_index=True,\n",
    "        )\n",
    "    return df"
   ]
  },
  {
   "cell_type": "code",
   "execution_count": 37,
   "metadata": {
    "ExecuteTime": {
     "end_time": "2019-01-11T20:19:32.093814Z",
     "start_time": "2019-01-11T20:19:30.274855Z"
    }
   },
   "outputs": [],
   "source": [
    "gaff_prmtop_dihedrals = find_dihedrals(gaff_prmtop)\n",
    "assert len(gaff_prmtop.dihedrals) == len(gaff_prmtop_dihedrals)\n",
    "gaff_prmtop_dihedrals.drop_duplicates(inplace=True)"
   ]
  },
  {
   "cell_type": "code",
   "execution_count": 40,
   "metadata": {
    "ExecuteTime": {
     "end_time": "2019-01-11T20:19:57.511885Z",
     "start_time": "2019-01-11T20:19:57.456503Z"
    }
   },
   "outputs": [
    {
     "name": "stdout",
     "output_type": "stream",
     "text": [
      "GAFF v1.7: 127 unique dihedrals.\n"
     ]
    }
   ],
   "source": [
    "print(f\"GAFF v1.7: {len(gaff_prmtop_dihedrals)} unique dihedrals.\")"
   ]
  },
  {
   "cell_type": "code",
   "execution_count": 41,
   "metadata": {
    "ExecuteTime": {
     "end_time": "2019-01-11T20:20:23.836240Z",
     "start_time": "2019-01-11T20:20:21.939823Z"
    }
   },
   "outputs": [],
   "source": [
    "smirnoff_prmtop_dihedrals = find_dihedrals(smirnoff_prmtop)\n",
    "assert len(smirnoff_prmtop.dihedrals) == len(smirnoff_prmtop_dihedrals)\n",
    "smirnoff_prmtop_dihedrals.drop_duplicates(inplace=True)"
   ]
  },
  {
   "cell_type": "code",
   "execution_count": 43,
   "metadata": {
    "ExecuteTime": {
     "end_time": "2019-01-11T20:20:38.416979Z",
     "start_time": "2019-01-11T20:20:38.374608Z"
    }
   },
   "outputs": [
    {
     "name": "stdout",
     "output_type": "stream",
     "text": [
      "SMIRNOFF99Frosst: 131 unique dihedrals.\n"
     ]
    }
   ],
   "source": [
    "print(f\"SMIRNOFF99Frosst: {len(smirnoff_prmtop_dihedrals)} unique dihedrals.\")"
   ]
  },
  {
   "cell_type": "markdown",
   "metadata": {},
   "source": [
    "Where are they different?"
   ]
  },
  {
   "cell_type": "code",
   "execution_count": 55,
   "metadata": {
    "ExecuteTime": {
     "end_time": "2019-01-11T20:25:00.458978Z",
     "start_time": "2019-01-11T20:25:00.365048Z"
    }
   },
   "outputs": [],
   "source": [
    "dihedral_differences = smirnoff_prmtop_dihedrals.merge(gaff_prmtop_dihedrals, \n",
    "                                                       indicator=True,\n",
    "                                                       suffixes=(\"_smirnoff\", \"_bgbg_tip3p\"),\n",
    "                                                       how=\"outer\")"
   ]
  },
  {
   "cell_type": "code",
   "execution_count": 63,
   "metadata": {
    "ExecuteTime": {
     "end_time": "2019-01-11T20:28:53.996536Z",
     "start_time": "2019-01-11T20:28:53.921212Z"
    }
   },
   "outputs": [
    {
     "data": {
      "text/html": [
       "<div>\n",
       "<style scoped>\n",
       "    .dataframe tbody tr th:only-of-type {\n",
       "        vertical-align: middle;\n",
       "    }\n",
       "\n",
       "    .dataframe tbody tr th {\n",
       "        vertical-align: top;\n",
       "    }\n",
       "\n",
       "    .dataframe thead th {\n",
       "        text-align: right;\n",
       "    }\n",
       "</style>\n",
       "<table border=\"1\" class=\"dataframe\">\n",
       "  <thead>\n",
       "    <tr style=\"text-align: right;\">\n",
       "      <th></th>\n",
       "      <th>atom1</th>\n",
       "      <th>atom2</th>\n",
       "      <th>atom3</th>\n",
       "      <th>atom4</th>\n",
       "      <th>phi_k</th>\n",
       "      <th>per</th>\n",
       "      <th>phase</th>\n",
       "      <th>_merge</th>\n",
       "    </tr>\n",
       "  </thead>\n",
       "  <tbody>\n",
       "    <tr>\n",
       "      <th>2</th>\n",
       "      <td>O1</td>\n",
       "      <td>C1</td>\n",
       "      <td>C2</td>\n",
       "      <td>C3</td>\n",
       "      <td>0.156</td>\n",
       "      <td>3</td>\n",
       "      <td>0.0</td>\n",
       "      <td>left_only</td>\n",
       "    </tr>\n",
       "    <tr>\n",
       "      <th>4</th>\n",
       "      <td>O5</td>\n",
       "      <td>C1</td>\n",
       "      <td>C2</td>\n",
       "      <td>O2</td>\n",
       "      <td>1.175</td>\n",
       "      <td>2</td>\n",
       "      <td>0.0</td>\n",
       "      <td>left_only</td>\n",
       "    </tr>\n",
       "    <tr>\n",
       "      <th>5</th>\n",
       "      <td>O5</td>\n",
       "      <td>C1</td>\n",
       "      <td>C2</td>\n",
       "      <td>C3</td>\n",
       "      <td>0.156</td>\n",
       "      <td>3</td>\n",
       "      <td>0.0</td>\n",
       "      <td>left_only</td>\n",
       "    </tr>\n",
       "    <tr>\n",
       "      <th>8</th>\n",
       "      <td>O2</td>\n",
       "      <td>C2</td>\n",
       "      <td>C3</td>\n",
       "      <td>C4</td>\n",
       "      <td>0.156</td>\n",
       "      <td>3</td>\n",
       "      <td>0.0</td>\n",
       "      <td>left_only</td>\n",
       "    </tr>\n",
       "    <tr>\n",
       "      <th>9</th>\n",
       "      <td>C1</td>\n",
       "      <td>C2</td>\n",
       "      <td>C3</td>\n",
       "      <td>O3</td>\n",
       "      <td>0.156</td>\n",
       "      <td>3</td>\n",
       "      <td>0.0</td>\n",
       "      <td>left_only</td>\n",
       "    </tr>\n",
       "  </tbody>\n",
       "</table>\n",
       "</div>"
      ],
      "text/plain": [
       "  atom1 atom2 atom3 atom4  phi_k  per  phase     _merge\n",
       "2    O1    C1    C2    C3  0.156    3    0.0  left_only\n",
       "4    O5    C1    C2    O2  1.175    2    0.0  left_only\n",
       "5    O5    C1    C2    C3  0.156    3    0.0  left_only\n",
       "8    O2    C2    C3    C4  0.156    3    0.0  left_only\n",
       "9    C1    C2    C3    O3  0.156    3    0.0  left_only"
      ]
     },
     "execution_count": 63,
     "metadata": {},
     "output_type": "execute_result"
    }
   ],
   "source": [
    "all_differences = dihedral_differences[dihedral_differences[\"_merge\"] != \"both\"]\n",
    "all_differences.head()"
   ]
  },
  {
   "cell_type": "code",
   "execution_count": 70,
   "metadata": {
    "ExecuteTime": {
     "end_time": "2019-01-11T20:32:34.609602Z",
     "start_time": "2019-01-11T20:32:34.560009Z"
    }
   },
   "outputs": [],
   "source": [
    "smirnoff_only = all_differences[all_differences[\"_merge\"] == \"left_only\"]\n",
    "gaff_only = all_differences[all_differences[\"_merge\"] == \"right_only\"]"
   ]
  },
  {
   "cell_type": "code",
   "execution_count": 71,
   "metadata": {
    "ExecuteTime": {
     "end_time": "2019-01-11T20:33:02.771334Z",
     "start_time": "2019-01-11T20:33:02.720954Z"
    }
   },
   "outputs": [
    {
     "name": "stdout",
     "output_type": "stream",
     "text": [
      "SMIRNOFF99Frosst only: 52 dihedrals.\n",
      "GAFF v1.7 only: 48 dihedrals.\n"
     ]
    }
   ],
   "source": [
    "print(f\"SMIRNOFF99Frosst only: {len(smirnoff_only)} dihedrals.\")\n",
    "print(f\"GAFF v1.7 only: {len(gaff_only)} dihedrals.\")"
   ]
  },
  {
   "cell_type": "markdown",
   "metadata": {
    "ExecuteTime": {
     "end_time": "2019-01-11T20:31:15.034566Z",
     "start_time": "2019-01-11T20:31:14.992779Z"
    }
   },
   "source": [
    "Because of periodicity, some sets of four atoms are listed multiple times. **I am interested in where there are any set of four atoms for which one force field applies a dihedral and the other force field does not.** If we ignore periodicity are there a different number of SMIRNOFF99Frosst-only and GAFF v1.7-only dihedrals?"
   ]
  },
  {
   "cell_type": "code",
   "execution_count": 78,
   "metadata": {
    "ExecuteTime": {
     "end_time": "2019-01-11T20:37:18.929010Z",
     "start_time": "2019-01-11T20:37:18.876992Z"
    }
   },
   "outputs": [],
   "source": [
    "smirnoff_tmp = smirnoff_only.drop(columns=[\"_merge\"])\n",
    "gaff_tmp = gaff_only.drop(columns=[\"_merge\"])\n",
    "\n",
    "dihedral_atom_name_merge = smirnoff_tmp.merge(gaff_tmp,\n",
    "                           on=[\"atom1\", \"atom2\", \"atom3\", \"atom4\"],\n",
    "                           indicator=True,\n",
    "                           suffixes=(\"_smirnoff\", \"_bgbg_tip3p\"),\n",
    "                           how=\"outer\")"
   ]
  },
  {
   "cell_type": "code",
   "execution_count": 82,
   "metadata": {
    "ExecuteTime": {
     "end_time": "2019-01-11T20:37:42.814212Z",
     "start_time": "2019-01-11T20:37:42.740650Z"
    }
   },
   "outputs": [
    {
     "data": {
      "text/html": [
       "<div>\n",
       "<style scoped>\n",
       "    .dataframe tbody tr th:only-of-type {\n",
       "        vertical-align: middle;\n",
       "    }\n",
       "\n",
       "    .dataframe tbody tr th {\n",
       "        vertical-align: top;\n",
       "    }\n",
       "\n",
       "    .dataframe thead th {\n",
       "        text-align: right;\n",
       "    }\n",
       "</style>\n",
       "<table border=\"1\" class=\"dataframe\">\n",
       "  <thead>\n",
       "    <tr style=\"text-align: right;\">\n",
       "      <th></th>\n",
       "      <th>atom1</th>\n",
       "      <th>atom2</th>\n",
       "      <th>atom3</th>\n",
       "      <th>atom4</th>\n",
       "      <th>phi_k_smirnoff</th>\n",
       "      <th>per_smirnoff</th>\n",
       "      <th>phase_smirnoff</th>\n",
       "      <th>phi_k_bgbg_tip3p</th>\n",
       "      <th>per_bgbg_tip3p</th>\n",
       "      <th>phase_bgbg_tip3p</th>\n",
       "      <th>_merge</th>\n",
       "    </tr>\n",
       "  </thead>\n",
       "  <tbody>\n",
       "    <tr>\n",
       "      <th>1</th>\n",
       "      <td>O5</td>\n",
       "      <td>C1</td>\n",
       "      <td>C2</td>\n",
       "      <td>O2</td>\n",
       "      <td>1.175</td>\n",
       "      <td>2</td>\n",
       "      <td>0.0</td>\n",
       "      <td>NaN</td>\n",
       "      <td>NaN</td>\n",
       "      <td>NaN</td>\n",
       "      <td>left_only</td>\n",
       "    </tr>\n",
       "    <tr>\n",
       "      <th>2</th>\n",
       "      <td>O5</td>\n",
       "      <td>C1</td>\n",
       "      <td>C2</td>\n",
       "      <td>C3</td>\n",
       "      <td>0.156</td>\n",
       "      <td>3</td>\n",
       "      <td>0.0</td>\n",
       "      <td>NaN</td>\n",
       "      <td>NaN</td>\n",
       "      <td>NaN</td>\n",
       "      <td>left_only</td>\n",
       "    </tr>\n",
       "    <tr>\n",
       "      <th>46</th>\n",
       "      <td>O5</td>\n",
       "      <td>C1</td>\n",
       "      <td>C2</td>\n",
       "      <td>H2</td>\n",
       "      <td>0.250</td>\n",
       "      <td>1</td>\n",
       "      <td>0.0</td>\n",
       "      <td>NaN</td>\n",
       "      <td>NaN</td>\n",
       "      <td>NaN</td>\n",
       "      <td>left_only</td>\n",
       "    </tr>\n",
       "  </tbody>\n",
       "</table>\n",
       "</div>"
      ],
      "text/plain": [
       "   atom1 atom2 atom3 atom4  phi_k_smirnoff  per_smirnoff  phase_smirnoff  \\\n",
       "1     O5    C1    C2    O2           1.175             2             0.0   \n",
       "2     O5    C1    C2    C3           0.156             3             0.0   \n",
       "46    O5    C1    C2    H2           0.250             1             0.0   \n",
       "\n",
       "    phi_k_bgbg_tip3p  per_bgbg_tip3p  phase_bgbg_tip3p     _merge  \n",
       "1                NaN             NaN               NaN  left_only  \n",
       "2                NaN             NaN               NaN  left_only  \n",
       "46               NaN             NaN               NaN  left_only  "
      ]
     },
     "execution_count": 82,
     "metadata": {},
     "output_type": "execute_result"
    }
   ],
   "source": [
    "dihedral_atom_name_merge[dihedral_atom_name_merge[\"_merge\"] != \"both\"]"
   ]
  },
  {
   "cell_type": "markdown",
   "metadata": {},
   "source": [
    "It seems that only SMIRNOFF99Frosst applies dihedrals to these four atoms."
   ]
  },
  {
   "cell_type": "code",
   "execution_count": 87,
   "metadata": {
    "ExecuteTime": {
     "end_time": "2019-01-11T20:40:09.516505Z",
     "start_time": "2019-01-11T20:40:09.473819Z"
    },
    "code_folding": []
   },
   "outputs": [],
   "source": [
    "name_type_map = dict()\n",
    "for atom in gaff_prmtop.atoms:\n",
    "    name_type_map[atom.name] = atom.type"
   ]
  },
  {
   "cell_type": "code",
   "execution_count": 90,
   "metadata": {
    "ExecuteTime": {
     "end_time": "2019-01-11T20:41:37.126081Z",
     "start_time": "2019-01-11T20:41:37.073000Z"
    }
   },
   "outputs": [
    {
     "name": "stdout",
     "output_type": "stream",
     "text": [
      "os-c3-c3-oh\n",
      "os-c3-c3-c3\n",
      "os-c3-c3-h1\n"
     ]
    }
   ],
   "source": [
    "for index, row in dihedral_atom_name_merge[dihedral_atom_name_merge[\"_merge\"] != \"both\"].iterrows():\n",
    "    print(f'{name_type_map[row[\"atom1\"]]}-{name_type_map[row[\"atom2\"]]}-{name_type_map[row[\"atom3\"]]}-{name_type_map[row[\"atom4\"]]}')"
   ]
  },
  {
   "cell_type": "markdown",
   "metadata": {},
   "source": [
    "I can confirm that I don't see these dihedrals in the `frcmod` file.\n",
    "\n",
    "** I think there may also be SCEE/SCNB scaling differences.**"
   ]
  },
  {
   "cell_type": "code",
   "execution_count": null,
   "metadata": {},
   "outputs": [],
   "source": []
  }
 ],
 "metadata": {
  "kernelspec": {
   "display_name": "Python [default]",
   "language": "python",
   "name": "python3"
  },
  "language_info": {
   "codemirror_mode": {
    "name": "ipython",
    "version": 3
   },
   "file_extension": ".py",
   "mimetype": "text/x-python",
   "name": "python",
   "nbconvert_exporter": "python",
   "pygments_lexer": "ipython3",
   "version": "3.6.4"
  }
 },
 "nbformat": 4,
 "nbformat_minor": 2
}
