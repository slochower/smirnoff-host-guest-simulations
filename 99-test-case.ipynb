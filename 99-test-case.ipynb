{
 "cells": [
  {
   "cell_type": "markdown",
   "metadata": {},
   "source": [
    "# Run a test calculation with `a-bam-p`/`acd-1-p` to find gaps in our workflow..."
   ]
  },
  {
   "cell_type": "code",
   "execution_count": 4,
   "metadata": {
    "ExecuteTime": {
     "end_time": "2018-03-17T17:22:17.507857Z",
     "start_time": "2018-03-17T17:22:17.421274Z"
    }
   },
   "outputs": [
    {
     "name": "stdout",
     "output_type": "stream",
     "text": [
      "The autoreload extension is already loaded. To reload it, use:\n",
      "  %reload_ext autoreload\n",
      "a8e4be9\n",
      "a8e4be9\n"
     ]
    }
   ],
   "source": [
    "%load_ext autoreload\n",
    "%autoreload 2\n",
    "\n",
    "import os as os\n",
    "import glob as glob\n",
    "import numpy as np\n",
    "\n",
    "import parmed as pmd\n",
    "from paprika import align\n",
    "from paprika import dummy\n",
    "from paprika import build\n",
    "\n",
    "import paprika\n",
    "print(paprika.__version__)\n",
    "\n",
    "import smirnovert\n",
    "print(smirnovert.__version__)\n",
    "\n",
    "from smirnovert.convert import *"
   ]
  },
  {
   "cell_type": "code",
   "execution_count": 5,
   "metadata": {
    "ExecuteTime": {
     "end_time": "2018-03-17T17:22:19.033649Z",
     "start_time": "2018-03-17T17:22:19.011028Z"
    }
   },
   "outputs": [],
   "source": [
    "prefix = './benchmarksets/input_files/'\n",
    "suffix = '/prmtop-rst7/'\n",
    "benchmarksets = [\n",
    "    'cd-set1'\n",
    "    ]\n",
    "\n",
    "systems = []\n",
    "\n",
    "for system in benchmarksets:\n",
    "    for index, file in enumerate(sorted(glob.glob(prefix + system + suffix + 'acd-1-p.prmtop'))):\n",
    "        systems.append(file)"
   ]
  },
  {
   "cell_type": "markdown",
   "metadata": {},
   "source": [
    "## Load in the reference coordinates and SMIRNOFF99Frosst parameters"
   ]
  },
  {
   "cell_type": "code",
   "execution_count": 6,
   "metadata": {
    "ExecuteTime": {
     "end_time": "2018-03-17T18:02:05.370070Z",
     "start_time": "2018-03-17T18:02:03.932302Z"
    },
    "scrolled": false
   },
   "outputs": [
    {
     "name": "stderr",
     "output_type": "stream",
     "text": [
      "INFO:root:Creating ./benchmarksets/input_files/cd-set1/prmtop-rst7/smirnoff/acd-1-p/smirnoff.pdb with CONECT records...\n",
      "DEBUG:root:PDB file written by cpptraj.\n",
      "INFO:root:Pruning water-water CONECT records...\n",
      "DEBUG:root:First water residue = 151\n",
      "DEBUG:root:Found first water CONECT entry at line = 6304\n",
      "INFO:root:Splitting topology into components...\n",
      "INFO:root:Creating a combined topology for the host and guest molecules...\n",
      "INFO:root:Writing a `mol2` for the host molecule...\n",
      "DEBUG:root:MOL2 file written by cpptraj.\n",
      "INFO:root:Writing a `mol2` for the host molecule...\n",
      "DEBUG:root:MOL2 file written by cpptraj.\n",
      "INFO:root:Converting ./benchmarksets/input_files/cd-set1/prmtop-rst7/smirnoff/acd-1-p/MGO.mol2 to SYBYL atom types via Antechamber...\n",
      "DEBUG:root:MOL2 file written by antechamber.\n",
      "INFO:root:Converting ./benchmarksets/input_files/cd-set1/prmtop-rst7/smirnoff/acd-1-p/MOL.mol2 to SYBYL atom types via Antechamber...\n",
      "DEBUG:root:MOL2 file written by antechamber.\n",
      "INFO:root:Extracting water and ions from acd-1-p.prmtop...\n",
      "DEBUG:root:Water and ion PDB file written by cpptraj.\n",
      "INFO:root:Creating parameters for the waters and ions...\n",
      "DEBUG:root:Water and ion parameters and coordinates written by tleap.\n",
      "INFO:root:Loading ./benchmarksets/input_files/cd-set1/prmtop-rst7/smirnoff/acd-1-p/MGO-sybyl.mol2...\n",
      "INFO:root:Loading ./benchmarksets/input_files/cd-set1/prmtop-rst7/smirnoff/acd-1-p/MOL-sybyl.mol2...\n",
      "INFO:root:Checking all atoms have unique names...\n",
      "DEBUG:root:126 atoms in structure, 126 unique atom names.\n",
      "INFO:root:Checking all atoms have unique names...\n",
      "DEBUG:root:17 atoms in structure, 17 unique atom names.\n",
      "INFO:root:Checking structure for bonds >4 A...\n",
      "DEBUG:root:Structure looks good.\n"
     ]
    }
   ],
   "source": [
    "destination = './benchmarksets/input_files/cd-set1/prmtop-rst7/smirnoff/acd-1-p/'\n",
    "name = 'smirnoff'\n",
    "reference_prmtop = 'acd-1-p.prmtop'\n",
    "reference_inpcrd = 'acd-1-p.rst7'\n",
    "host_resname = 'MGO'\n",
    "guest_resname = 'MOL'\n",
    "\n",
    "nonunique = convert(destination, name, \n",
    "    reference_prmtop, reference_inpcrd, \n",
    "    host_resname, guest_resname,\n",
    "               debug=True)"
   ]
  },
  {
   "cell_type": "code",
   "execution_count": 7,
   "metadata": {
    "ExecuteTime": {
     "end_time": "2018-03-17T18:02:05.370894Z",
     "start_time": "2018-03-17T18:02:00.688Z"
    }
   },
   "outputs": [],
   "source": [
    "from smirnovert.amber import create_mapping"
   ]
  },
  {
   "cell_type": "code",
   "execution_count": 8,
   "metadata": {
    "ExecuteTime": {
     "end_time": "2018-03-17T04:26:33.223712Z",
     "start_time": "2018-03-17T04:26:33.205032Z"
    }
   },
   "outputs": [],
   "source": [
    "host_mapping, guest_mapping = create_mapping(nonunique, host_resname, guest_resname)"
   ]
  },
  {
   "cell_type": "code",
   "execution_count": 9,
   "metadata": {
    "ExecuteTime": {
     "end_time": "2018-03-17T04:27:09.117089Z",
     "start_time": "2018-03-17T04:27:09.099066Z"
    }
   },
   "outputs": [],
   "source": [
    "from smirnovert.amber import remap_atom_types"
   ]
  },
  {
   "cell_type": "code",
   "execution_count": 10,
   "metadata": {
    "ExecuteTime": {
     "end_time": "2018-03-17T04:27:25.449004Z",
     "start_time": "2018-03-17T04:27:25.139088Z"
    }
   },
   "outputs": [],
   "source": [
    "parm = pmd.amber.LoadParm(destination + 'hg.prmtop')"
   ]
  },
  {
   "cell_type": "code",
   "execution_count": 11,
   "metadata": {
    "ExecuteTime": {
     "end_time": "2018-03-17T04:27:29.467898Z",
     "start_time": "2018-03-17T04:27:28.598100Z"
    }
   },
   "outputs": [
    {
     "name": "stdout",
     "output_type": "stream",
     "text": [
      "Assigning 0 C1 1 → C0\n",
      "Assigning 0 H1 2 → H0\n",
      "Assigning 0 O1 3 → O0\n",
      "Assigning 0 C2 4 → C1\n",
      "Assigning 0 H2 5 → H1\n",
      "Assigning 0 O2 6 → O1\n",
      "Assigning 0 HO2 7 → H2\n",
      "Assigning 0 C3 8 → C2\n",
      "Assigning 0 H3 9 → H3\n",
      "Assigning 0 O3 10 → O2\n",
      "Assigning 0 HO3 11 → H4\n",
      "Assigning 0 C4 12 → C3\n",
      "Assigning 0 H4 13 → H5\n",
      "Assigning 0 C5 14 → C4\n",
      "Assigning 0 H5 15 → H6\n",
      "Assigning 0 O5 16 → O3\n",
      "Assigning 0 C6 17 → C5\n",
      "Assigning 0 H61 18 → H7\n",
      "Assigning 0 H62 19 → H8\n",
      "Assigning 0 O6 20 → O4\n",
      "Assigning 0 HO6 21 → H9\n",
      "Assigning 1 C1 22 → C0\n",
      "Assigning 1 H1 23 → H0\n",
      "Assigning 1 O1 24 → O0\n",
      "Assigning 1 C2 25 → C1\n",
      "Assigning 1 H2 26 → H1\n",
      "Assigning 1 O2 27 → O1\n",
      "Assigning 1 HO2 28 → H2\n",
      "Assigning 1 C3 29 → C2\n",
      "Assigning 1 H3 30 → H3\n",
      "Assigning 1 O3 31 → O2\n",
      "Assigning 1 HO3 32 → H4\n",
      "Assigning 1 C4 33 → C3\n",
      "Assigning 1 H4 34 → H5\n",
      "Assigning 1 C5 35 → C4\n",
      "Assigning 1 H5 36 → H6\n",
      "Assigning 1 O5 37 → O3\n",
      "Assigning 1 C6 38 → C5\n",
      "Assigning 1 H61 39 → H7\n",
      "Assigning 1 H62 40 → H8\n",
      "Assigning 1 O6 41 → O4\n",
      "Assigning 1 HO6 42 → H9\n",
      "Assigning 2 C1 43 → C0\n",
      "Assigning 2 H1 44 → H0\n",
      "Assigning 2 O1 45 → O0\n",
      "Assigning 2 C2 46 → C1\n",
      "Assigning 2 H2 47 → H1\n",
      "Assigning 2 O2 48 → O1\n",
      "Assigning 2 HO2 49 → H2\n",
      "Assigning 2 C3 50 → C2\n",
      "Assigning 2 H3 51 → H3\n",
      "Assigning 2 O3 52 → O2\n",
      "Assigning 2 HO3 53 → H4\n",
      "Assigning 2 C4 54 → C3\n",
      "Assigning 2 H4 55 → H5\n",
      "Assigning 2 C5 56 → C4\n",
      "Assigning 2 H5 57 → H6\n",
      "Assigning 2 O5 58 → O3\n",
      "Assigning 2 C6 59 → C5\n",
      "Assigning 2 H61 60 → H7\n",
      "Assigning 2 H62 61 → H8\n",
      "Assigning 2 O6 62 → O4\n",
      "Assigning 2 HO6 63 → H9\n",
      "Assigning 3 C1 64 → C0\n",
      "Assigning 3 H1 65 → H0\n",
      "Assigning 3 O1 66 → O0\n",
      "Assigning 3 C2 67 → C1\n",
      "Assigning 3 H2 68 → H1\n",
      "Assigning 3 O2 69 → O1\n",
      "Assigning 3 HO2 70 → H2\n",
      "Assigning 3 C3 71 → C2\n",
      "Assigning 3 H3 72 → H3\n",
      "Assigning 3 O3 73 → O2\n",
      "Assigning 3 HO3 74 → H4\n",
      "Assigning 3 C4 75 → C3\n",
      "Assigning 3 H4 76 → H5\n",
      "Assigning 3 C5 77 → C4\n",
      "Assigning 3 H5 78 → H6\n",
      "Assigning 3 O5 79 → O3\n",
      "Assigning 3 C6 80 → C5\n",
      "Assigning 3 H61 81 → H7\n",
      "Assigning 3 H62 82 → H8\n",
      "Assigning 3 O6 83 → O4\n",
      "Assigning 3 HO6 84 → H9\n",
      "Assigning 4 C1 85 → C0\n",
      "Assigning 4 H1 86 → H0\n",
      "Assigning 4 O1 87 → O0\n",
      "Assigning 4 C2 88 → C1\n",
      "Assigning 4 H2 89 → H1\n",
      "Assigning 4 O2 90 → O1\n",
      "Assigning 4 HO2 91 → H2\n",
      "Assigning 4 C3 92 → C2\n",
      "Assigning 4 H3 93 → H3\n",
      "Assigning 4 O3 94 → O2\n",
      "Assigning 4 HO3 95 → H4\n",
      "Assigning 4 C4 96 → C3\n",
      "Assigning 4 H4 97 → H5\n",
      "Assigning 4 C5 98 → C4\n",
      "Assigning 4 H5 99 → H6\n",
      "Assigning 4 O5 100 → O3\n",
      "Assigning 4 C6 101 → C5\n",
      "Assigning 4 H61 102 → H7\n",
      "Assigning 4 H62 103 → H8\n",
      "Assigning 4 O6 104 → O4\n",
      "Assigning 4 HO6 105 → H9\n",
      "Assigning 5 C1 106 → C0\n",
      "Assigning 5 H1 107 → H0\n",
      "Assigning 5 O1 108 → O0\n",
      "Assigning 5 C2 109 → C1\n",
      "Assigning 5 H2 110 → H1\n",
      "Assigning 5 O2 111 → O1\n",
      "Assigning 5 HO2 112 → H2\n",
      "Assigning 5 C3 113 → C2\n",
      "Assigning 5 H3 114 → H3\n",
      "Assigning 5 O3 115 → O2\n",
      "Assigning 5 HO3 116 → H4\n",
      "Assigning 5 C4 117 → C3\n",
      "Assigning 5 H4 118 → H5\n",
      "Assigning 5 C5 119 → C4\n",
      "Assigning 5 H5 120 → H6\n",
      "Assigning 5 O5 121 → O3\n",
      "Assigning 5 C6 122 → C5\n",
      "Assigning 5 H61 123 → H7\n",
      "Assigning 5 H62 124 → H8\n",
      "Assigning 5 O6 125 → O4\n",
      "Assigning 5 HO6 126 → H9\n",
      "Assigning 6 N1 127 → N0\n",
      "Assigning 6 H1 128 → Ha\n",
      "Assigning 6 H2 129 → Hb\n",
      "Assigning 6 HN11 130 → Hc\n",
      "Assigning 6 C1 131 → C6\n",
      "Assigning 6 H3 132 → Hd\n",
      "Assigning 6 H4 133 → He\n",
      "Assigning 6 C2 134 → C7\n",
      "Assigning 6 H5 135 → Hf\n",
      "Assigning 6 H6 136 → Hg\n",
      "Assigning 6 C3 137 → C8\n",
      "Assigning 6 H7 138 → Hh\n",
      "Assigning 6 H8 139 → Hi\n",
      "Assigning 6 C4 140 → C9\n",
      "Assigning 6 H9 141 → Hj\n",
      "Assigning 6 H10 142 → Hk\n",
      "Assigning 6 H11 143 → Hl\n"
     ]
    }
   ],
   "source": [
    "remap_atom_types(parm, host_resname, host_mapping, guest_resname, guest_mapping, destination)"
   ]
  },
  {
   "cell_type": "markdown",
   "metadata": {},
   "source": [
    "## Now re-load in the new structure"
   ]
  },
  {
   "cell_type": "code",
   "execution_count": 12,
   "metadata": {
    "ExecuteTime": {
     "end_time": "2018-03-17T16:26:30.544790Z",
     "start_time": "2018-03-17T16:26:30.323972Z"
    }
   },
   "outputs": [],
   "source": [
    "hg = pmd.load_file(destination + 'smirnoff-unique.prmtop', destination + 'hg.inpcrd', structure=True)"
   ]
  },
  {
   "cell_type": "markdown",
   "metadata": {},
   "source": [
    "## Align"
   ]
  },
  {
   "cell_type": "code",
   "execution_count": 13,
   "metadata": {
    "ExecuteTime": {
     "end_time": "2018-03-17T16:26:50.807428Z",
     "start_time": "2018-03-17T16:26:32.264692Z"
    }
   },
   "outputs": [
    {
     "name": "stderr",
     "output_type": "stream",
     "text": [
      "INFO:root:Moving :MOL@C4 (1 atoms) to the origin...\n",
      "INFO:root:Aligning :MOL@N1 (1 atoms) with the z axis...\n",
      "INFO:root:Saved aligned coordinates to ./benchmarksets/input_files/cd-set1/prmtop-rst7/smirnoff/acd-1-p/hg-aligned.pdb\n"
     ]
    }
   ],
   "source": [
    "# Find the guest atoms to align by reading first line in /data/nhenriksen/projects/cds/wat6/bgbg-tip3p/pdbs\n",
    "hg = align.zalign(hg, ':MOL@C4', ':MOL@N1', save=True, filename=destination + 'hg-aligned.pdb')"
   ]
  },
  {
   "cell_type": "markdown",
   "metadata": {},
   "source": [
    "## Add dummy atoms"
   ]
  },
  {
   "cell_type": "code",
   "execution_count": 14,
   "metadata": {
    "ExecuteTime": {
     "end_time": "2018-03-17T16:28:16.838002Z",
     "start_time": "2018-03-17T16:28:15.687450Z"
    }
   },
   "outputs": [],
   "source": [
    "hg = pmd.load_file(destination + 'hg-aligned.pdb', structure=True)\n",
    "# print(hg.atoms[-1].number)\n",
    "\n",
    "hg = dummy.add_dummy(hg, residue_name='DM1', z=-6.000)\n",
    "hg = dummy.add_dummy(hg, residue_name='DM2', z=-9.000)\n",
    "hg = dummy.add_dummy(hg, residue_name='DM3', z=-11.200, y=2.200)\n",
    "\n",
    "dummy.write_dummy_frcmod(path = destination)\n",
    "dummy.write_dummy_mol2(path = destination, residue_name='DM1', filename='DM1.mol2')\n",
    "dummy.write_dummy_mol2(path = destination, residue_name='DM2', filename='DM2.mol2')\n",
    "dummy.write_dummy_mol2(path = destination, residue_name='DM3', filename='DM3.mol2')\n",
    "\n",
    "hg.write_pdb(destination + 'hg-aligned-dum.pdb', renumber=False)"
   ]
  },
  {
   "cell_type": "markdown",
   "metadata": {},
   "source": [
    "## Solvate"
   ]
  },
  {
   "cell_type": "code",
   "execution_count": 17,
   "metadata": {
    "ExecuteTime": {
     "end_time": "2018-03-17T16:28:20.346213Z",
     "start_time": "2018-03-17T16:28:20.324320Z"
    }
   },
   "outputs": [],
   "source": [
    "base_name = 'smirnoff'\n",
    "with open(destination + 'tleap.in', 'w') as file:\n",
    "    tleap_header = f'''\\n\n",
    "source leaprc.water.tip3p\n",
    "loadamberparams {base_name}-unique.frcmod\n",
    "{host_resname} = loadmol2 {base_name}-{host_resname}-unique.mol2\n",
    "{guest_resname} = loadmol2 {base_name}-{guest_resname}-unique.mol2\n",
    "\n",
    "DM1 = loadmol2 DM1.mol2\n",
    "DM2 = loadmol2 DM2.mol2\n",
    "DM3 = loadmol2 DM3.mol2\n",
    "loadamberparams dummy.frcmod\n",
    "\n",
    "model = loadpdb {str('hg-aligned-dum.pdb')}\n",
    "bond model.1.O1 model.2.C4\n",
    "bond model.2.O1 model.3.C4\n",
    "bond model.3.O1 model.4.C4\n",
    "bond model.4.O1 model.5.C4\n",
    "bond model.5.O1 model.6.C4\n",
    "bond model.6.O1 model.1.C4\n",
    "\n",
    "\n",
    "'''\n",
    "    file.write(tleap_header)\n",
    "#     for line in bonds_between_monomers:\n",
    "#         file.write(line + '\\n')"
   ]
  },
  {
   "cell_type": "code",
   "execution_count": 23,
   "metadata": {
    "ExecuteTime": {
     "end_time": "2018-03-17T16:45:23.932644Z",
     "start_time": "2018-03-17T16:45:10.729394Z"
    },
    "scrolled": true
   },
   "outputs": [
    {
     "name": "stderr",
     "output_type": "stream",
     "text": [
      "DEBUG:root:Cycle\tBuffer Waters Target\n",
      "DEBUG:root:00\t 1 748 (2000)\n",
      "DEBUG:root:01\t 11 1534 (2000)\n",
      "DEBUG:root:02\t 21 2329 (2000)\n",
      "DEBUG:root:03\t 16 1936 (2000)\n",
      "DEBUG:root:04\t 16 1988 (2000)\n",
      "DEBUG:root:05\t 16 1988 (2000)\n",
      "DEBUG:root:06\t 16 2000 (2000)\n"
     ]
    }
   ],
   "source": [
    "destination = './benchmarksets/input_files/cd-set1/prmtop-rst7/smirnoff/acd-1-p/'\n",
    "\n",
    "build.solvate(tleap_file='tleap.in', pdb_file='hg-aligned-dum.pdb', pbc_type='rectangular', \n",
    "              buffer_target=2000,\n",
    "              output_prefix='hg-solvated', path=destination)"
   ]
  },
  {
   "cell_type": "code",
   "execution_count": null,
   "metadata": {},
   "outputs": [],
   "source": []
  }
 ],
 "metadata": {
  "kernelspec": {
   "display_name": "Python [conda env:smirnoff-paprika]",
   "language": "python",
   "name": "conda-env-smirnoff-paprika-py"
  },
  "language_info": {
   "codemirror_mode": {
    "name": "ipython",
    "version": 3
   },
   "file_extension": ".py",
   "mimetype": "text/x-python",
   "name": "python",
   "nbconvert_exporter": "python",
   "pygments_lexer": "ipython3",
   "version": "3.6.4"
  }
 },
 "nbformat": 4,
 "nbformat_minor": 2
}
