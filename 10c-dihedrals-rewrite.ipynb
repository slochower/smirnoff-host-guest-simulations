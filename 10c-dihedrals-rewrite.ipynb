{
 "cells": [
  {
   "cell_type": "code",
   "execution_count": 60,
   "metadata": {
    "ExecuteTime": {
     "end_time": "2019-02-12T21:43:34.163561Z",
     "start_time": "2019-02-12T21:43:33.827867Z"
    },
    "scrolled": true
   },
   "outputs": [
    {
     "name": "stdout",
     "output_type": "stream",
     "text": [
      "The autoreload extension is already loaded. To reload it, use:\n",
      "  %reload_ext autoreload\n"
     ]
    }
   ],
   "source": [
    "import parmed as pmd\n",
    "import numpy as np\n",
    "import os\n",
    "import pandas as pd\n",
    "\n",
    "import matplotlib as mpl\n",
    "import matplotlib.pyplot as plt\n",
    "from matplotlib.gridspec import GridSpec\n",
    "from matplotlib.colors import colorConverter\n",
    "import seaborn as sns\n",
    "\n",
    "%load_ext autoreload\n",
    "%autoreload 2\n",
    "%matplotlib inline\n",
    "%load_ext blackcellmagic"
   ]
  },
  {
   "cell_type": "code",
   "execution_count": 5,
   "metadata": {
    "ExecuteTime": {
     "end_time": "2019-02-12T21:05:31.474959Z",
     "start_time": "2019-02-12T21:05:31.390503Z"
    }
   },
   "outputs": [],
   "source": [
    "from adjustText import adjust_text\n",
    "import plotting"
   ]
  },
  {
   "cell_type": "markdown",
   "metadata": {},
   "source": [
    "# Dihedral parameter comparison.\n",
    "\n",
    "Let's iterate through the structure and look at the parameters, one-by-one. This seems to be the only reliable way to compare apples with apples.\n",
    "\n",
    "First, find the unique set of four atoms, by atom name, in a single alpha-cyclodextrin residue. Then we'll look at the dihedrals applied to these 4 atom sets. Thankfully, when we query ParmEd for a mask of four atoms, ParmEd looks for the atoms in either ordering (e.g., `a-b-c-d` and `d-c-b-a`), which are the same dihedral, but may be listed separately."
   ]
  },
  {
   "cell_type": "code",
   "execution_count": 6,
   "metadata": {
    "ExecuteTime": {
     "end_time": "2019-02-12T21:05:33.416915Z",
     "start_time": "2019-02-12T21:05:32.370177Z"
    }
   },
   "outputs": [],
   "source": [
    "smirnoff_prmtop = pmd.load_file(\"systems/a-bam-p/smirnoff/a000/hg.prmtop\")\n",
    "\n",
    "bgbg_prmtop = pmd.load_file(\"systems/a-bam-p/bgbg-tip3p/hg.topo\")\n",
    "\n",
    "bg2bg2_prmtop = pmd.load_file(\"systems/a-bam-p/bg2bg2-tip3p/vac.topo\")\n"
   ]
  },
  {
   "cell_type": "code",
   "execution_count": 7,
   "metadata": {
    "ExecuteTime": {
     "end_time": "2019-02-12T21:05:33.460822Z",
     "start_time": "2019-02-12T21:05:33.420474Z"
    }
   },
   "outputs": [],
   "source": [
    "def find_dihedrals(structure, residue=5):\n",
    "    df = pd.DataFrame()\n",
    "    for dihedral in structure[f\":{residue}\"].dihedrals:\n",
    "        df = df.append(\n",
    "            pd.DataFrame(\n",
    "                {\n",
    "                    \"atom1\": dihedral.atom1.name,\n",
    "                    \"atom2\": dihedral.atom2.name,\n",
    "                    \"atom3\": dihedral.atom3.name,\n",
    "                    \"atom4\": dihedral.atom4.name,\n",
    "                },\n",
    "                index=[0],\n",
    "            ),\n",
    "            ignore_index=True,\n",
    "        )\n",
    "    return df"
   ]
  },
  {
   "cell_type": "code",
   "execution_count": 8,
   "metadata": {
    "ExecuteTime": {
     "end_time": "2019-02-12T21:05:34.027202Z",
     "start_time": "2019-02-12T21:05:33.462651Z"
    }
   },
   "outputs": [],
   "source": [
    "bgbg_prmtop_dihedrals = find_dihedrals(bgbg_prmtop)\n",
    "bg2bg2_prmtop_dihedrals = find_dihedrals(bg2bg2_prmtop)\n",
    "smirnoff_prmtop_dihedrals = find_dihedrals(smirnoff_prmtop)"
   ]
  },
  {
   "cell_type": "markdown",
   "metadata": {
    "ExecuteTime": {
     "end_time": "2019-01-16T19:45:02.806275Z",
     "start_time": "2019-01-16T19:45:02.686252Z"
    }
   },
   "source": [
    "These are just labeled by *atom name* so it is safe to drop duplicates by only keeping the unique rows."
   ]
  },
  {
   "cell_type": "code",
   "execution_count": 9,
   "metadata": {
    "ExecuteTime": {
     "end_time": "2019-02-12T21:05:34.278114Z",
     "start_time": "2019-02-12T21:05:34.242185Z"
    }
   },
   "outputs": [],
   "source": [
    "bgbg_prmtop_dihedrals.drop_duplicates(inplace=True)\n",
    "bg2bg2_prmtop_dihedrals.drop_duplicates(inplace=True)\n",
    "smirnoff_prmtop_dihedrals.drop_duplicates(inplace=True)"
   ]
  },
  {
   "cell_type": "code",
   "execution_count": 10,
   "metadata": {
    "ExecuteTime": {
     "end_time": "2019-02-12T21:05:35.345487Z",
     "start_time": "2019-02-12T21:05:35.302586Z"
    }
   },
   "outputs": [],
   "source": [
    "assert len(bgbg_prmtop_dihedrals) == len(smirnoff_prmtop_dihedrals)\n",
    "assert len(bgbg_prmtop_dihedrals) == len(bg2bg2_prmtop_dihedrals)"
   ]
  },
  {
   "cell_type": "code",
   "execution_count": 11,
   "metadata": {
    "ExecuteTime": {
     "end_time": "2019-02-12T21:05:35.856900Z",
     "start_time": "2019-02-12T21:05:35.829146Z"
    }
   },
   "outputs": [
    {
     "name": "stdout",
     "output_type": "stream",
     "text": [
      "There are 54 sets of four atoms in the structure.\n"
     ]
    }
   ],
   "source": [
    "print(f\"There are {len(bgbg_prmtop_dihedrals)} sets of four atoms in the structure.\")"
   ]
  },
  {
   "cell_type": "code",
   "execution_count": 12,
   "metadata": {
    "ExecuteTime": {
     "end_time": "2019-02-12T21:05:36.734010Z",
     "start_time": "2019-02-12T21:05:36.679697Z"
    }
   },
   "outputs": [],
   "source": [
    "def parse_parmed_output(printDihedrals_string):\n",
    "    df = pd.DataFrame()\n",
    "    lines = printDihedrals_string.split(\"\\n\")\n",
    "    for line in lines[1:-1]:\n",
    "        df = df.append(\n",
    "            pd.DataFrame(\n",
    "                {\n",
    "                    \"atom1\": \"\".join(line[10:15]),\n",
    "                    \"atom2\": \"\".join(line[30:35]),\n",
    "                    \"atom3\": \"\".join(line[52:57]),\n",
    "                    \"atom4\": \"\".join(line[72:77]),\n",
    "                    \"height\": float(\"\".join(line[89:95])),\n",
    "                    \"periodicity\": float(\"\".join(line[100:105])),\n",
    "                    \"phase\": float(\"\".join(line[111:116])),\n",
    "                    },\n",
    "                index=[0],\n",
    "            ),\n",
    "            ignore_index=True,\n",
    "        )\n",
    "    return df"
   ]
  },
  {
   "cell_type": "code",
   "execution_count": 13,
   "metadata": {
    "ExecuteTime": {
     "end_time": "2019-02-12T21:05:37.042080Z",
     "start_time": "2019-02-12T21:05:36.846946Z"
    }
   },
   "outputs": [],
   "source": [
    "smirnoff_dihedrals = find_dihedrals(smirnoff_prmtop)\n",
    "smirnoff_dihedrals.drop_duplicates(inplace=True)"
   ]
  },
  {
   "cell_type": "code",
   "execution_count": 14,
   "metadata": {
    "ExecuteTime": {
     "end_time": "2019-02-12T21:05:37.852121Z",
     "start_time": "2019-02-12T21:05:37.658447Z"
    }
   },
   "outputs": [],
   "source": [
    "bgbg_dihedrals = find_dihedrals(bgbg_prmtop)\n",
    "bgbg_dihedrals.drop_duplicates(inplace=True)"
   ]
  },
  {
   "cell_type": "code",
   "execution_count": 15,
   "metadata": {
    "ExecuteTime": {
     "end_time": "2019-02-12T21:05:38.482301Z",
     "start_time": "2019-02-12T21:05:38.264493Z"
    }
   },
   "outputs": [],
   "source": [
    "bg2bg2_dihedrals = find_dihedrals(bg2bg2_prmtop)\n",
    "bg2bg2_dihedrals.drop_duplicates(inplace=True)"
   ]
  },
  {
   "cell_type": "code",
   "execution_count": 16,
   "metadata": {
    "ExecuteTime": {
     "end_time": "2019-02-12T21:05:39.007773Z",
     "start_time": "2019-02-12T21:05:38.962172Z"
    }
   },
   "outputs": [],
   "source": [
    "def organize_dihedrals(dihedrals, prmtop):\n",
    "    df = pd.DataFrame()\n",
    "    for index, row in dihedrals.iterrows():\n",
    "        atom1 = row[\"atom1\"]\n",
    "        atom2 = row[\"atom2\"]\n",
    "        atom3 = row[\"atom3\"]\n",
    "        atom4 = row[\"atom4\"]\n",
    "        mask = f\":4@{atom1} :4@{atom2} :4@{atom3} :4@{atom4}\"\n",
    "        parmed_output = str(pmd.tools.actions.printDihedrals(prmtop, mask))\n",
    "        parmed_df = parse_parmed_output(parmed_output)\n",
    "        df = df.append(parmed_df, ignore_index=True)\n",
    "        df = df.round(decimals = 2)\n",
    "    return df"
   ]
  },
  {
   "cell_type": "code",
   "execution_count": 17,
   "metadata": {
    "ExecuteTime": {
     "end_time": "2019-02-12T21:05:41.634570Z",
     "start_time": "2019-02-12T21:05:39.702537Z"
    }
   },
   "outputs": [],
   "source": [
    "smirnoff = organize_dihedrals(smirnoff_dihedrals, smirnoff_prmtop)\n",
    "bgbg = organize_dihedrals(bgbg_dihedrals, bgbg_prmtop)\n",
    "bg2bg2 = organize_dihedrals(bg2bg2_dihedrals, bg2bg2_prmtop)"
   ]
  },
  {
   "cell_type": "code",
   "execution_count": 18,
   "metadata": {
    "ExecuteTime": {
     "end_time": "2019-02-12T21:05:43.270397Z",
     "start_time": "2019-02-12T21:05:43.233726Z"
    }
   },
   "outputs": [],
   "source": [
    "def differing_rows(df_one, df_two):\n",
    "    df = pd.merge(df_one, df_two, how='outer', indicator=True)\n",
    "    rows_in_df1_not_in_df2 = df[df['_merge']=='left_only'][df_one.columns]\n",
    "    rows_in_df2_not_in_df1 = df[df['_merge']=='right_only'][df_two.columns]\n",
    "    differences = rows_in_df1_not_in_df2.merge(rows_in_df2_not_in_df1, \n",
    "                                           on=[\"atom1\", \"atom2\", \"atom3\", \"atom4\", \"periodicity\", \"phase\"],\n",
    "                                           how=\"outer\",\n",
    "                                           suffixes = (\"_one\", \"_two\"))    \n",
    "    return differences"
   ]
  },
  {
   "cell_type": "code",
   "execution_count": 19,
   "metadata": {
    "ExecuteTime": {
     "end_time": "2019-02-12T21:05:44.270739Z",
     "start_time": "2019-02-12T21:05:43.903168Z"
    }
   },
   "outputs": [
    {
     "data": {
      "text/html": [
       "<div>\n",
       "<style scoped>\n",
       "    .dataframe tbody tr th:only-of-type {\n",
       "        vertical-align: middle;\n",
       "    }\n",
       "\n",
       "    .dataframe tbody tr th {\n",
       "        vertical-align: top;\n",
       "    }\n",
       "\n",
       "    .dataframe thead th {\n",
       "        text-align: right;\n",
       "    }\n",
       "</style>\n",
       "<table border=\"1\" class=\"dataframe\">\n",
       "  <thead>\n",
       "    <tr style=\"text-align: right;\">\n",
       "      <th></th>\n",
       "      <th>atom1</th>\n",
       "      <th>atom2</th>\n",
       "      <th>atom3</th>\n",
       "      <th>atom4</th>\n",
       "      <th>height_one</th>\n",
       "      <th>periodicity</th>\n",
       "      <th>phase</th>\n",
       "      <th>height_two</th>\n",
       "    </tr>\n",
       "  </thead>\n",
       "  <tbody>\n",
       "    <tr>\n",
       "      <th>0</th>\n",
       "      <td>H1</td>\n",
       "      <td>C1</td>\n",
       "      <td>C2</td>\n",
       "      <td>O2</td>\n",
       "      <td>0.00</td>\n",
       "      <td>3.0</td>\n",
       "      <td>0.0</td>\n",
       "      <td>0.16</td>\n",
       "    </tr>\n",
       "    <tr>\n",
       "      <th>1</th>\n",
       "      <td>H1</td>\n",
       "      <td>C1</td>\n",
       "      <td>C2</td>\n",
       "      <td>O2</td>\n",
       "      <td>0.25</td>\n",
       "      <td>1.0</td>\n",
       "      <td>0.0</td>\n",
       "      <td>NaN</td>\n",
       "    </tr>\n",
       "    <tr>\n",
       "      <th>2</th>\n",
       "      <td>H1</td>\n",
       "      <td>C1</td>\n",
       "      <td>C2</td>\n",
       "      <td>H2</td>\n",
       "      <td>0.15</td>\n",
       "      <td>3.0</td>\n",
       "      <td>0.0</td>\n",
       "      <td>0.16</td>\n",
       "    </tr>\n",
       "    <tr>\n",
       "      <th>3</th>\n",
       "      <td>H2</td>\n",
       "      <td>C2</td>\n",
       "      <td>C3</td>\n",
       "      <td>H3</td>\n",
       "      <td>0.15</td>\n",
       "      <td>3.0</td>\n",
       "      <td>0.0</td>\n",
       "      <td>0.16</td>\n",
       "    </tr>\n",
       "    <tr>\n",
       "      <th>4</th>\n",
       "      <td>H3</td>\n",
       "      <td>C3</td>\n",
       "      <td>C4</td>\n",
       "      <td>H4</td>\n",
       "      <td>0.15</td>\n",
       "      <td>3.0</td>\n",
       "      <td>0.0</td>\n",
       "      <td>0.16</td>\n",
       "    </tr>\n",
       "  </tbody>\n",
       "</table>\n",
       "</div>"
      ],
      "text/plain": [
       "   atom1  atom2  atom3  atom4  height_one  periodicity  phase  height_two\n",
       "0    H1      C1    C2      O2        0.00          3.0    0.0        0.16\n",
       "1    H1      C1    C2      O2        0.25          1.0    0.0         NaN\n",
       "2    H1      C1    C2      H2        0.15          3.0    0.0        0.16\n",
       "3    H2      C2    C3      H3        0.15          3.0    0.0        0.16\n",
       "4    H3      C3    C4      H4        0.15          3.0    0.0        0.16"
      ]
     },
     "execution_count": 19,
     "metadata": {},
     "output_type": "execute_result"
    }
   ],
   "source": [
    "differences = differing_rows(smirnoff, bgbg)\n",
    "differences.head()"
   ]
  },
  {
   "cell_type": "markdown",
   "metadata": {},
   "source": [
    "All of the differences come from H-C-C-O, or H-C-C-H (which is a really tiny difference.)"
   ]
  },
  {
   "cell_type": "code",
   "execution_count": 20,
   "metadata": {
    "ExecuteTime": {
     "end_time": "2019-02-12T21:05:46.782541Z",
     "start_time": "2019-02-12T21:05:46.720330Z"
    }
   },
   "outputs": [
    {
     "data": {
      "text/html": [
       "<div>\n",
       "<style scoped>\n",
       "    .dataframe tbody tr th:only-of-type {\n",
       "        vertical-align: middle;\n",
       "    }\n",
       "\n",
       "    .dataframe tbody tr th {\n",
       "        vertical-align: top;\n",
       "    }\n",
       "\n",
       "    .dataframe thead th {\n",
       "        text-align: right;\n",
       "    }\n",
       "</style>\n",
       "<table border=\"1\" class=\"dataframe\">\n",
       "  <thead>\n",
       "    <tr style=\"text-align: right;\">\n",
       "      <th></th>\n",
       "      <th>atom1</th>\n",
       "      <th>atom2</th>\n",
       "      <th>atom3</th>\n",
       "      <th>atom4</th>\n",
       "      <th>height_one</th>\n",
       "      <th>periodicity</th>\n",
       "      <th>phase</th>\n",
       "      <th>height_two</th>\n",
       "    </tr>\n",
       "  </thead>\n",
       "  <tbody>\n",
       "    <tr>\n",
       "      <th>0</th>\n",
       "      <td>H1</td>\n",
       "      <td>C1</td>\n",
       "      <td>C2</td>\n",
       "      <td>O2</td>\n",
       "      <td>0.00</td>\n",
       "      <td>3.0</td>\n",
       "      <td>0.0</td>\n",
       "      <td>0.16</td>\n",
       "    </tr>\n",
       "    <tr>\n",
       "      <th>1</th>\n",
       "      <td>H1</td>\n",
       "      <td>C1</td>\n",
       "      <td>C2</td>\n",
       "      <td>O2</td>\n",
       "      <td>0.25</td>\n",
       "      <td>1.0</td>\n",
       "      <td>0.0</td>\n",
       "      <td>NaN</td>\n",
       "    </tr>\n",
       "    <tr>\n",
       "      <th>2</th>\n",
       "      <td>H1</td>\n",
       "      <td>C1</td>\n",
       "      <td>C2</td>\n",
       "      <td>H2</td>\n",
       "      <td>0.15</td>\n",
       "      <td>3.0</td>\n",
       "      <td>0.0</td>\n",
       "      <td>0.16</td>\n",
       "    </tr>\n",
       "    <tr>\n",
       "      <th>3</th>\n",
       "      <td>H2</td>\n",
       "      <td>C2</td>\n",
       "      <td>C3</td>\n",
       "      <td>H3</td>\n",
       "      <td>0.15</td>\n",
       "      <td>3.0</td>\n",
       "      <td>0.0</td>\n",
       "      <td>0.16</td>\n",
       "    </tr>\n",
       "    <tr>\n",
       "      <th>4</th>\n",
       "      <td>H3</td>\n",
       "      <td>C3</td>\n",
       "      <td>C4</td>\n",
       "      <td>H4</td>\n",
       "      <td>0.15</td>\n",
       "      <td>3.0</td>\n",
       "      <td>0.0</td>\n",
       "      <td>0.16</td>\n",
       "    </tr>\n",
       "    <tr>\n",
       "      <th>5</th>\n",
       "      <td>H4</td>\n",
       "      <td>C4</td>\n",
       "      <td>C5</td>\n",
       "      <td>H5</td>\n",
       "      <td>0.15</td>\n",
       "      <td>3.0</td>\n",
       "      <td>0.0</td>\n",
       "      <td>0.16</td>\n",
       "    </tr>\n",
       "    <tr>\n",
       "      <th>6</th>\n",
       "      <td>H5</td>\n",
       "      <td>C5</td>\n",
       "      <td>C6</td>\n",
       "      <td>H61</td>\n",
       "      <td>0.15</td>\n",
       "      <td>3.0</td>\n",
       "      <td>0.0</td>\n",
       "      <td>0.16</td>\n",
       "    </tr>\n",
       "    <tr>\n",
       "      <th>7</th>\n",
       "      <td>H5</td>\n",
       "      <td>C5</td>\n",
       "      <td>C6</td>\n",
       "      <td>H62</td>\n",
       "      <td>0.15</td>\n",
       "      <td>3.0</td>\n",
       "      <td>0.0</td>\n",
       "      <td>0.16</td>\n",
       "    </tr>\n",
       "  </tbody>\n",
       "</table>\n",
       "</div>"
      ],
      "text/plain": [
       "   atom1  atom2  atom3  atom4  height_one  periodicity  phase  height_two\n",
       "0    H1      C1    C2      O2        0.00          3.0    0.0        0.16\n",
       "1    H1      C1    C2      O2        0.25          1.0    0.0         NaN\n",
       "2    H1      C1    C2      H2        0.15          3.0    0.0        0.16\n",
       "3    H2      C2    C3      H3        0.15          3.0    0.0        0.16\n",
       "4    H3      C3    C4      H4        0.15          3.0    0.0        0.16\n",
       "5    H4      C4    C5      H5        0.15          3.0    0.0        0.16\n",
       "6    H5      C5    C6     H61        0.15          3.0    0.0        0.16\n",
       "7    H5      C5    C6     H62        0.15          3.0    0.0        0.16"
      ]
     },
     "execution_count": 20,
     "metadata": {},
     "output_type": "execute_result"
    }
   ],
   "source": [
    "differences"
   ]
  },
  {
   "cell_type": "markdown",
   "metadata": {},
   "source": [
    "Now let's print things that aren't *just* differences of in height."
   ]
  },
  {
   "cell_type": "code",
   "execution_count": 21,
   "metadata": {
    "ExecuteTime": {
     "end_time": "2019-02-12T21:05:48.292962Z",
     "start_time": "2019-02-12T21:05:48.258162Z"
    },
    "scrolled": false
   },
   "outputs": [],
   "source": [
    "def missing(df):\n",
    "    missing = df[df.isnull().any(axis=1)]\n",
    "    return missing"
   ]
  },
  {
   "cell_type": "code",
   "execution_count": 22,
   "metadata": {
    "ExecuteTime": {
     "end_time": "2019-02-12T21:05:49.323214Z",
     "start_time": "2019-02-12T21:05:49.267405Z"
    }
   },
   "outputs": [
    {
     "data": {
      "text/html": [
       "<div>\n",
       "<style scoped>\n",
       "    .dataframe tbody tr th:only-of-type {\n",
       "        vertical-align: middle;\n",
       "    }\n",
       "\n",
       "    .dataframe tbody tr th {\n",
       "        vertical-align: top;\n",
       "    }\n",
       "\n",
       "    .dataframe thead th {\n",
       "        text-align: right;\n",
       "    }\n",
       "</style>\n",
       "<table border=\"1\" class=\"dataframe\">\n",
       "  <thead>\n",
       "    <tr style=\"text-align: right;\">\n",
       "      <th></th>\n",
       "      <th>atom1</th>\n",
       "      <th>atom2</th>\n",
       "      <th>atom3</th>\n",
       "      <th>atom4</th>\n",
       "      <th>height_one</th>\n",
       "      <th>periodicity</th>\n",
       "      <th>phase</th>\n",
       "      <th>height_two</th>\n",
       "    </tr>\n",
       "  </thead>\n",
       "  <tbody>\n",
       "    <tr>\n",
       "      <th>1</th>\n",
       "      <td>H1</td>\n",
       "      <td>C1</td>\n",
       "      <td>C2</td>\n",
       "      <td>O2</td>\n",
       "      <td>0.25</td>\n",
       "      <td>1.0</td>\n",
       "      <td>0.0</td>\n",
       "      <td>NaN</td>\n",
       "    </tr>\n",
       "  </tbody>\n",
       "</table>\n",
       "</div>"
      ],
      "text/plain": [
       "   atom1  atom2  atom3  atom4  height_one  periodicity  phase  height_two\n",
       "1    H1      C1    C2      O2        0.25          1.0    0.0         NaN"
      ]
     },
     "execution_count": 22,
     "metadata": {},
     "output_type": "execute_result"
    }
   ],
   "source": [
    "missing_dihedrals = missing(differences)\n",
    "missing_dihedrals.head()"
   ]
  },
  {
   "cell_type": "markdown",
   "metadata": {},
   "source": [
    "But to tell the complete story, for each of these dihedrals, we should print what either FF has for those given atoms (i.e., not just the missing terms here, but all the terms for these atoms.)"
   ]
  },
  {
   "cell_type": "code",
   "execution_count": 64,
   "metadata": {
    "ExecuteTime": {
     "end_time": "2019-02-12T21:45:57.841219Z",
     "start_time": "2019-02-12T21:45:57.694093Z"
    }
   },
   "outputs": [],
   "source": [
    "def detail_differences(differences, df_one, df_two):\n",
    "\n",
    "    comprehensive_differences = pd.DataFrame()\n",
    "\n",
    "    for index, row in differences.iterrows():\n",
    "        one = df_one[\n",
    "            (df_one[\"atom1\"] == row[\"atom1\"])\n",
    "            & (df_one[\"atom2\"] == row[\"atom2\"])\n",
    "            & (df_one[\"atom3\"] == row[\"atom3\"])\n",
    "            & (df_one[\"atom4\"] == row[\"atom4\"])\n",
    "        ]\n",
    "\n",
    "        two = df_two[\n",
    "            (df_two[\"atom1\"] == row[\"atom1\"])\n",
    "            & (df_two[\"atom2\"] == row[\"atom2\"])\n",
    "            & (df_two[\"atom3\"] == row[\"atom3\"])\n",
    "            & (df_two[\"atom4\"] == row[\"atom4\"])\n",
    "        ]\n",
    "\n",
    "        this_dihedral_differences = one.merge(\n",
    "            two,\n",
    "            how=\"outer\",\n",
    "            on=[\"atom1\", \"atom2\", \"atom3\", \"atom4\", \"periodicity\", \"phase\"],\n",
    "        )\n",
    "        comprehensive_differences = comprehensive_differences.append(\n",
    "            this_dihedral_differences, ignore_index=True\n",
    "        )\n",
    "    rows_with_missing_data = comprehensive_differences[\n",
    "        comprehensive_differences.isnull().any(axis=1)\n",
    "    ]\n",
    "    dihedrals_to_exclude = pd.DataFrame()\n",
    "    for index, row in rows_with_missing_data.iterrows():\n",
    "        dihedrals_to_exclude = dihedrals_to_exclude.append(\n",
    "            pd.DataFrame(\n",
    "                {\n",
    "                    \"atom1\": row[\"atom1\"],\n",
    "                    \"atom2\": row[\"atom2\"],\n",
    "                    \"atom3\": row[\"atom3\"],\n",
    "                    \"atom4\": row[\"atom4\"],\n",
    "                },\n",
    "                index=[0],\n",
    "            ),\n",
    "            ignore_index=True,\n",
    "        )\n",
    "\n",
    "    # https://stackoverflow.com/questions/33282119/pandas-filter-dataframe-by-another-dataframe-by-row-elements\n",
    "    keys = list(dihedrals_to_exclude.columns.values)\n",
    "    i1 = comprehensive_differences.set_index(keys).index\n",
    "    i2 = dihedrals_to_exclude.set_index(keys).index\n",
    "    comprehensive_differences = comprehensive_differences[~i1.isin(i2)]\n",
    "    \n",
    "    comprehensive_differences = comprehensive_differences.sort_values(\n",
    "        by=[\"atom1\", \"atom2\", \"atom3\", \"atom4\", \"periodicity\"]\n",
    "    )\n",
    "    return comprehensive_differences[\n",
    "        [\n",
    "            \"atom1\",\n",
    "            \"atom2\",\n",
    "            \"atom3\",\n",
    "            \"atom4\",\n",
    "            \"periodicity\",\n",
    "            \"phase\",\n",
    "            \"height_x\",\n",
    "            \"height_y\",\n",
    "        ]\n",
    "    ]\n"
   ]
  },
  {
   "cell_type": "code",
   "execution_count": 24,
   "metadata": {
    "ExecuteTime": {
     "end_time": "2019-02-12T21:05:51.990748Z",
     "start_time": "2019-02-12T21:05:51.896602Z"
    }
   },
   "outputs": [],
   "source": [
    "def detail_missing(missing, df_one, df_two):\n",
    "\n",
    "    comprehensive_missing = pd.DataFrame()\n",
    "\n",
    "    for index, row in missing.iterrows():\n",
    "        one = df_one[\n",
    "            (df_one[\"atom1\"] == row[\"atom1\"])\n",
    "            & (df_one[\"atom2\"] == row[\"atom2\"])\n",
    "            & (df_one[\"atom3\"] == row[\"atom3\"])\n",
    "            & (df_one[\"atom4\"] == row[\"atom4\"])\n",
    "        ]\n",
    "\n",
    "        two = df_two[\n",
    "            (df_two[\"atom1\"] == row[\"atom1\"])\n",
    "            & (df_two[\"atom2\"] == row[\"atom2\"])\n",
    "            & (df_two[\"atom3\"] == row[\"atom3\"])\n",
    "            & (df_two[\"atom4\"] == row[\"atom4\"])\n",
    "        ]\n",
    "\n",
    "        this_dihedral_differences = one.merge(\n",
    "            two,\n",
    "            how=\"outer\",\n",
    "            on=[\"atom1\", \"atom2\", \"atom3\", \"atom4\", \"periodicity\", \"phase\"],\n",
    "        )\n",
    "        comprehensive_missing = comprehensive_missing.append(\n",
    "            this_dihedral_differences, ignore_index=True\n",
    "        )\n",
    "    comprehensive_missing = comprehensive_missing.replace(np.nan, \"--\", regex=True)\n",
    "\n",
    "\n",
    "    comprehensive_missing = comprehensive_missing.sort_values(by=[\"atom1\", \"atom2\", \"atom3\", \"atom4\", \"periodicity\"])\n",
    "    return comprehensive_missing[[\"atom1\", \"atom2\", \"atom3\", \"atom4\", \"periodicity\", \"phase\", \"height_x\", \"height_y\"]]"
   ]
  },
  {
   "cell_type": "code",
   "execution_count": 25,
   "metadata": {
    "ExecuteTime": {
     "end_time": "2019-02-12T21:05:53.060244Z",
     "start_time": "2019-02-12T21:05:52.944620Z"
    }
   },
   "outputs": [
    {
     "data": {
      "text/html": [
       "<div>\n",
       "<style scoped>\n",
       "    .dataframe tbody tr th:only-of-type {\n",
       "        vertical-align: middle;\n",
       "    }\n",
       "\n",
       "    .dataframe tbody tr th {\n",
       "        vertical-align: top;\n",
       "    }\n",
       "\n",
       "    .dataframe thead th {\n",
       "        text-align: right;\n",
       "    }\n",
       "</style>\n",
       "<table border=\"1\" class=\"dataframe\">\n",
       "  <thead>\n",
       "    <tr style=\"text-align: right;\">\n",
       "      <th></th>\n",
       "      <th>atom1</th>\n",
       "      <th>atom2</th>\n",
       "      <th>atom3</th>\n",
       "      <th>atom4</th>\n",
       "      <th>periodicity</th>\n",
       "      <th>phase</th>\n",
       "      <th>height_x</th>\n",
       "      <th>height_y</th>\n",
       "    </tr>\n",
       "  </thead>\n",
       "  <tbody>\n",
       "    <tr>\n",
       "      <th>1</th>\n",
       "      <td>H1</td>\n",
       "      <td>C1</td>\n",
       "      <td>C2</td>\n",
       "      <td>O2</td>\n",
       "      <td>1.0</td>\n",
       "      <td>0.0</td>\n",
       "      <td>0.25</td>\n",
       "      <td>--</td>\n",
       "    </tr>\n",
       "    <tr>\n",
       "      <th>0</th>\n",
       "      <td>H1</td>\n",
       "      <td>C1</td>\n",
       "      <td>C2</td>\n",
       "      <td>O2</td>\n",
       "      <td>3.0</td>\n",
       "      <td>0.0</td>\n",
       "      <td>0.00</td>\n",
       "      <td>0.16</td>\n",
       "    </tr>\n",
       "  </tbody>\n",
       "</table>\n",
       "</div>"
      ],
      "text/plain": [
       "   atom1  atom2  atom3  atom4  periodicity  phase  height_x height_y\n",
       "1    H1      C1    C2      O2          1.0    0.0      0.25       --\n",
       "0    H1      C1    C2      O2          3.0    0.0      0.00     0.16"
      ]
     },
     "execution_count": 25,
     "metadata": {},
     "output_type": "execute_result"
    }
   ],
   "source": [
    "detail_missing(missing_dihedrals, smirnoff, bgbg)"
   ]
  },
  {
   "cell_type": "markdown",
   "metadata": {},
   "source": [
    "## Work specifically on the interresidue dihedrals"
   ]
  },
  {
   "cell_type": "code",
   "execution_count": 26,
   "metadata": {
    "ExecuteTime": {
     "end_time": "2019-02-12T21:05:58.243464Z",
     "start_time": "2019-02-12T21:05:58.190230Z"
    }
   },
   "outputs": [],
   "source": [
    "interresidue_masks = [\n",
    "\":5@C2 :5@C1 :5@O1 :6@C4\",\n",
    "\":5@O5 :5@C1 :5@O1 :6@C4\",\n",
    "\":5@H1 :5@C1 :5@O1 :6@C4\",\n",
    "\":5@C1 :5@O1 :6@C4 :6@H4\",\n",
    "\":5@C1 :5@O1 :6@C4 :6@C3\",\n",
    "\":5@C1 :5@O1 :6@C4 :6@C5\",\n",
    "\":5@O1 :6@C4 :6@C3 :6@H3\",\n",
    "\":5@O1 :6@C4 :6@C3 :6@O3\",\n",
    "\":5@O1 :6@C4 :6@C3 :6@C2\",\n",
    "\":5@O1 :6@C4 :6@C5 :6@H5\",\n",
    "\":5@O1 :6@C4 :6@C5 :6@O5\",\n",
    "\":5@O1 :6@C4 :6@C5 :6@C6\",\n",
    "]"
   ]
  },
  {
   "cell_type": "code",
   "execution_count": 27,
   "metadata": {
    "ExecuteTime": {
     "end_time": "2019-02-12T21:05:58.516206Z",
     "start_time": "2019-02-12T21:05:58.480325Z"
    }
   },
   "outputs": [],
   "source": [
    "def organize_interresidue_dihedrals(masks, prmtop):\n",
    "    df = pd.DataFrame()\n",
    "    for index, mask in enumerate(masks):\n",
    "        atoms = mask.split(\" \")\n",
    "        mask = f\":4@{atoms[0]} :4@{atoms[1]} :4@{atoms[2]} :4@{atoms[3]}\"\n",
    "        parmed_output = str(pmd.tools.actions.printDihedrals(prmtop, mask))\n",
    "        parmed_df = parse_parmed_output(parmed_output)\n",
    "        df = df.append(parmed_df, ignore_index=True)\n",
    "        df = df.round(decimals = 2)\n",
    "    return df"
   ]
  },
  {
   "cell_type": "code",
   "execution_count": 28,
   "metadata": {
    "ExecuteTime": {
     "end_time": "2019-02-12T21:05:59.748767Z",
     "start_time": "2019-02-12T21:05:59.361423Z"
    }
   },
   "outputs": [],
   "source": [
    "smirnoff_interresidue = organize_interresidue_dihedrals(interresidue_masks, smirnoff_prmtop)\n",
    "smirnoff_interresidue.drop_duplicates(inplace=True)\n",
    "\n",
    "bgbg_interresidue = organize_interresidue_dihedrals(interresidue_masks, bgbg_prmtop)\n",
    "bgbg_interresidue.drop_duplicates(inplace=True)"
   ]
  },
  {
   "cell_type": "code",
   "execution_count": 29,
   "metadata": {
    "ExecuteTime": {
     "end_time": "2019-02-12T21:06:00.001457Z",
     "start_time": "2019-02-12T21:05:59.933029Z"
    }
   },
   "outputs": [],
   "source": [
    "interresidue_differences = differing_rows(smirnoff_interresidue, bgbg_interresidue)"
   ]
  },
  {
   "cell_type": "code",
   "execution_count": 30,
   "metadata": {
    "ExecuteTime": {
     "end_time": "2019-02-12T21:06:00.389826Z",
     "start_time": "2019-02-12T21:06:00.319270Z"
    }
   },
   "outputs": [
    {
     "data": {
      "text/html": [
       "<div>\n",
       "<style scoped>\n",
       "    .dataframe tbody tr th:only-of-type {\n",
       "        vertical-align: middle;\n",
       "    }\n",
       "\n",
       "    .dataframe tbody tr th {\n",
       "        vertical-align: top;\n",
       "    }\n",
       "\n",
       "    .dataframe thead th {\n",
       "        text-align: right;\n",
       "    }\n",
       "</style>\n",
       "<table border=\"1\" class=\"dataframe\">\n",
       "  <thead>\n",
       "    <tr style=\"text-align: right;\">\n",
       "      <th></th>\n",
       "      <th>height_one</th>\n",
       "      <th>atom1</th>\n",
       "      <th>atom2</th>\n",
       "      <th>atom3</th>\n",
       "      <th>atom4</th>\n",
       "      <th>height_two</th>\n",
       "      <th>periodicity</th>\n",
       "      <th>phase</th>\n",
       "    </tr>\n",
       "  </thead>\n",
       "  <tbody>\n",
       "  </tbody>\n",
       "</table>\n",
       "</div>"
      ],
      "text/plain": [
       "Empty DataFrame\n",
       "Columns: [height_one, atom1, atom2, atom3, atom4, height_two, periodicity, phase]\n",
       "Index: []"
      ]
     },
     "execution_count": 30,
     "metadata": {},
     "output_type": "execute_result"
    }
   ],
   "source": [
    "interresidue_differences.head()"
   ]
  },
  {
   "cell_type": "markdown",
   "metadata": {},
   "source": [
    "# Now, test on BG2BG2"
   ]
  },
  {
   "cell_type": "code",
   "execution_count": 69,
   "metadata": {
    "ExecuteTime": {
     "end_time": "2019-02-12T23:16:55.756460Z",
     "start_time": "2019-02-12T23:16:55.666630Z"
    }
   },
   "outputs": [],
   "source": [
    "differences = differing_rows(smirnoff, bg2bg2)"
   ]
  },
  {
   "cell_type": "markdown",
   "metadata": {},
   "source": [
    "Here are the different dihedrals, that may or MAY NOT have a missing term."
   ]
  },
  {
   "cell_type": "code",
   "execution_count": 70,
   "metadata": {
    "ExecuteTime": {
     "end_time": "2019-02-12T23:16:57.208381Z",
     "start_time": "2019-02-12T23:16:56.333708Z"
    }
   },
   "outputs": [
    {
     "data": {
      "text/html": [
       "<div>\n",
       "<style scoped>\n",
       "    .dataframe tbody tr th:only-of-type {\n",
       "        vertical-align: middle;\n",
       "    }\n",
       "\n",
       "    .dataframe tbody tr th {\n",
       "        vertical-align: top;\n",
       "    }\n",
       "\n",
       "    .dataframe thead th {\n",
       "        text-align: right;\n",
       "    }\n",
       "</style>\n",
       "<table border=\"1\" class=\"dataframe\">\n",
       "  <thead>\n",
       "    <tr style=\"text-align: right;\">\n",
       "      <th></th>\n",
       "      <th>atom1</th>\n",
       "      <th>atom2</th>\n",
       "      <th>atom3</th>\n",
       "      <th>atom4</th>\n",
       "      <th>periodicity</th>\n",
       "      <th>phase</th>\n",
       "      <th>height_x</th>\n",
       "      <th>height_y</th>\n",
       "    </tr>\n",
       "  </thead>\n",
       "  <tbody>\n",
       "    <tr>\n",
       "      <th>20</th>\n",
       "      <td>C1</td>\n",
       "      <td>C2</td>\n",
       "      <td>C3</td>\n",
       "      <td>C4</td>\n",
       "      <td>1.0</td>\n",
       "      <td>0.0</td>\n",
       "      <td>0.20</td>\n",
       "      <td>0.11</td>\n",
       "    </tr>\n",
       "    <tr>\n",
       "      <th>19</th>\n",
       "      <td>C1</td>\n",
       "      <td>C2</td>\n",
       "      <td>C3</td>\n",
       "      <td>C4</td>\n",
       "      <td>2.0</td>\n",
       "      <td>0.0</td>\n",
       "      <td>0.25</td>\n",
       "      <td>0.29</td>\n",
       "    </tr>\n",
       "    <tr>\n",
       "      <th>18</th>\n",
       "      <td>C1</td>\n",
       "      <td>C2</td>\n",
       "      <td>C3</td>\n",
       "      <td>C4</td>\n",
       "      <td>3.0</td>\n",
       "      <td>0.0</td>\n",
       "      <td>0.18</td>\n",
       "      <td>0.13</td>\n",
       "    </tr>\n",
       "    <tr>\n",
       "      <th>17</th>\n",
       "      <td>C1</td>\n",
       "      <td>C2</td>\n",
       "      <td>C3</td>\n",
       "      <td>O3</td>\n",
       "      <td>3.0</td>\n",
       "      <td>0.0</td>\n",
       "      <td>0.16</td>\n",
       "      <td>0.21</td>\n",
       "    </tr>\n",
       "    <tr>\n",
       "      <th>114</th>\n",
       "      <td>C1</td>\n",
       "      <td>O5</td>\n",
       "      <td>C5</td>\n",
       "      <td>H5</td>\n",
       "      <td>3.0</td>\n",
       "      <td>0.0</td>\n",
       "      <td>0.38</td>\n",
       "      <td>0.34</td>\n",
       "    </tr>\n",
       "    <tr>\n",
       "      <th>30</th>\n",
       "      <td>C2</td>\n",
       "      <td>C3</td>\n",
       "      <td>C4</td>\n",
       "      <td>C5</td>\n",
       "      <td>1.0</td>\n",
       "      <td>0.0</td>\n",
       "      <td>0.20</td>\n",
       "      <td>0.11</td>\n",
       "    </tr>\n",
       "    <tr>\n",
       "      <th>29</th>\n",
       "      <td>C2</td>\n",
       "      <td>C3</td>\n",
       "      <td>C4</td>\n",
       "      <td>C5</td>\n",
       "      <td>2.0</td>\n",
       "      <td>0.0</td>\n",
       "      <td>0.25</td>\n",
       "      <td>0.29</td>\n",
       "    </tr>\n",
       "    <tr>\n",
       "      <th>28</th>\n",
       "      <td>C2</td>\n",
       "      <td>C3</td>\n",
       "      <td>C4</td>\n",
       "      <td>C5</td>\n",
       "      <td>3.0</td>\n",
       "      <td>0.0</td>\n",
       "      <td>0.18</td>\n",
       "      <td>0.13</td>\n",
       "    </tr>\n",
       "    <tr>\n",
       "      <th>39</th>\n",
       "      <td>C3</td>\n",
       "      <td>C4</td>\n",
       "      <td>C5</td>\n",
       "      <td>C6</td>\n",
       "      <td>1.0</td>\n",
       "      <td>0.0</td>\n",
       "      <td>0.20</td>\n",
       "      <td>0.11</td>\n",
       "    </tr>\n",
       "    <tr>\n",
       "      <th>38</th>\n",
       "      <td>C3</td>\n",
       "      <td>C4</td>\n",
       "      <td>C5</td>\n",
       "      <td>C6</td>\n",
       "      <td>2.0</td>\n",
       "      <td>0.0</td>\n",
       "      <td>0.25</td>\n",
       "      <td>0.29</td>\n",
       "    </tr>\n",
       "    <tr>\n",
       "      <th>37</th>\n",
       "      <td>C3</td>\n",
       "      <td>C4</td>\n",
       "      <td>C5</td>\n",
       "      <td>C6</td>\n",
       "      <td>3.0</td>\n",
       "      <td>0.0</td>\n",
       "      <td>0.18</td>\n",
       "      <td>0.13</td>\n",
       "    </tr>\n",
       "    <tr>\n",
       "      <th>52</th>\n",
       "      <td>C4</td>\n",
       "      <td>C5</td>\n",
       "      <td>C6</td>\n",
       "      <td>O6</td>\n",
       "      <td>3.0</td>\n",
       "      <td>0.0</td>\n",
       "      <td>0.16</td>\n",
       "      <td>0.21</td>\n",
       "    </tr>\n",
       "    <tr>\n",
       "      <th>84</th>\n",
       "      <td>H1</td>\n",
       "      <td>C1</td>\n",
       "      <td>C2</td>\n",
       "      <td>H2</td>\n",
       "      <td>3.0</td>\n",
       "      <td>0.0</td>\n",
       "      <td>0.15</td>\n",
       "      <td>0.16</td>\n",
       "    </tr>\n",
       "    <tr>\n",
       "      <th>85</th>\n",
       "      <td>H2</td>\n",
       "      <td>C2</td>\n",
       "      <td>C3</td>\n",
       "      <td>H3</td>\n",
       "      <td>3.0</td>\n",
       "      <td>0.0</td>\n",
       "      <td>0.15</td>\n",
       "      <td>0.16</td>\n",
       "    </tr>\n",
       "    <tr>\n",
       "      <th>98</th>\n",
       "      <td>H2</td>\n",
       "      <td>C2</td>\n",
       "      <td>O2</td>\n",
       "      <td>HO2</td>\n",
       "      <td>3.0</td>\n",
       "      <td>0.0</td>\n",
       "      <td>0.17</td>\n",
       "      <td>0.11</td>\n",
       "    </tr>\n",
       "    <tr>\n",
       "      <th>86</th>\n",
       "      <td>H3</td>\n",
       "      <td>C3</td>\n",
       "      <td>C4</td>\n",
       "      <td>H4</td>\n",
       "      <td>3.0</td>\n",
       "      <td>0.0</td>\n",
       "      <td>0.15</td>\n",
       "      <td>0.16</td>\n",
       "    </tr>\n",
       "    <tr>\n",
       "      <th>107</th>\n",
       "      <td>H3</td>\n",
       "      <td>C3</td>\n",
       "      <td>O3</td>\n",
       "      <td>HO3</td>\n",
       "      <td>3.0</td>\n",
       "      <td>0.0</td>\n",
       "      <td>0.17</td>\n",
       "      <td>0.11</td>\n",
       "    </tr>\n",
       "    <tr>\n",
       "      <th>87</th>\n",
       "      <td>H4</td>\n",
       "      <td>C4</td>\n",
       "      <td>C5</td>\n",
       "      <td>H5</td>\n",
       "      <td>3.0</td>\n",
       "      <td>0.0</td>\n",
       "      <td>0.15</td>\n",
       "      <td>0.16</td>\n",
       "    </tr>\n",
       "    <tr>\n",
       "      <th>88</th>\n",
       "      <td>H5</td>\n",
       "      <td>C5</td>\n",
       "      <td>C6</td>\n",
       "      <td>H61</td>\n",
       "      <td>3.0</td>\n",
       "      <td>0.0</td>\n",
       "      <td>0.15</td>\n",
       "      <td>0.16</td>\n",
       "    </tr>\n",
       "    <tr>\n",
       "      <th>89</th>\n",
       "      <td>H5</td>\n",
       "      <td>C5</td>\n",
       "      <td>C6</td>\n",
       "      <td>H62</td>\n",
       "      <td>3.0</td>\n",
       "      <td>0.0</td>\n",
       "      <td>0.15</td>\n",
       "      <td>0.16</td>\n",
       "    </tr>\n",
       "    <tr>\n",
       "      <th>67</th>\n",
       "      <td>O1</td>\n",
       "      <td>C1</td>\n",
       "      <td>O5</td>\n",
       "      <td>C5</td>\n",
       "      <td>1.0</td>\n",
       "      <td>0.0</td>\n",
       "      <td>1.35</td>\n",
       "      <td>0.97</td>\n",
       "    </tr>\n",
       "    <tr>\n",
       "      <th>66</th>\n",
       "      <td>O1</td>\n",
       "      <td>C1</td>\n",
       "      <td>O5</td>\n",
       "      <td>C5</td>\n",
       "      <td>2.0</td>\n",
       "      <td>0.0</td>\n",
       "      <td>0.85</td>\n",
       "      <td>1.24</td>\n",
       "    </tr>\n",
       "    <tr>\n",
       "      <th>65</th>\n",
       "      <td>O1</td>\n",
       "      <td>C1</td>\n",
       "      <td>O5</td>\n",
       "      <td>C5</td>\n",
       "      <td>3.0</td>\n",
       "      <td>0.0</td>\n",
       "      <td>0.10</td>\n",
       "      <td>0.00</td>\n",
       "    </tr>\n",
       "    <tr>\n",
       "      <th>16</th>\n",
       "      <td>O2</td>\n",
       "      <td>C2</td>\n",
       "      <td>C3</td>\n",
       "      <td>C4</td>\n",
       "      <td>3.0</td>\n",
       "      <td>0.0</td>\n",
       "      <td>0.16</td>\n",
       "      <td>0.21</td>\n",
       "    </tr>\n",
       "    <tr>\n",
       "      <th>13</th>\n",
       "      <td>O2</td>\n",
       "      <td>C2</td>\n",
       "      <td>C3</td>\n",
       "      <td>O3</td>\n",
       "      <td>2.0</td>\n",
       "      <td>0.0</td>\n",
       "      <td>1.18</td>\n",
       "      <td>1.13</td>\n",
       "    </tr>\n",
       "    <tr>\n",
       "      <th>12</th>\n",
       "      <td>O2</td>\n",
       "      <td>C2</td>\n",
       "      <td>C3</td>\n",
       "      <td>O3</td>\n",
       "      <td>3.0</td>\n",
       "      <td>0.0</td>\n",
       "      <td>0.14</td>\n",
       "      <td>0.90</td>\n",
       "    </tr>\n",
       "    <tr>\n",
       "      <th>27</th>\n",
       "      <td>O3</td>\n",
       "      <td>C3</td>\n",
       "      <td>C4</td>\n",
       "      <td>C5</td>\n",
       "      <td>3.0</td>\n",
       "      <td>0.0</td>\n",
       "      <td>0.16</td>\n",
       "      <td>0.21</td>\n",
       "    </tr>\n",
       "    <tr>\n",
       "      <th>112</th>\n",
       "      <td>H61</td>\n",
       "      <td>C6</td>\n",
       "      <td>O6</td>\n",
       "      <td>HO6</td>\n",
       "      <td>3.0</td>\n",
       "      <td>0.0</td>\n",
       "      <td>0.17</td>\n",
       "      <td>0.11</td>\n",
       "    </tr>\n",
       "    <tr>\n",
       "      <th>113</th>\n",
       "      <td>H62</td>\n",
       "      <td>C6</td>\n",
       "      <td>O6</td>\n",
       "      <td>HO6</td>\n",
       "      <td>3.0</td>\n",
       "      <td>0.0</td>\n",
       "      <td>0.17</td>\n",
       "      <td>0.11</td>\n",
       "    </tr>\n",
       "  </tbody>\n",
       "</table>\n",
       "</div>"
      ],
      "text/plain": [
       "     atom1  atom2  atom3  atom4  periodicity  phase  height_x  height_y\n",
       "20     C1      C2    C3      C4          1.0    0.0      0.20      0.11\n",
       "19     C1      C2    C3      C4          2.0    0.0      0.25      0.29\n",
       "18     C1      C2    C3      C4          3.0    0.0      0.18      0.13\n",
       "17     C1      C2    C3      O3          3.0    0.0      0.16      0.21\n",
       "114    C1      O5    C5      H5          3.0    0.0      0.38      0.34\n",
       "30     C2      C3    C4      C5          1.0    0.0      0.20      0.11\n",
       "29     C2      C3    C4      C5          2.0    0.0      0.25      0.29\n",
       "28     C2      C3    C4      C5          3.0    0.0      0.18      0.13\n",
       "39     C3      C4    C5      C6          1.0    0.0      0.20      0.11\n",
       "38     C3      C4    C5      C6          2.0    0.0      0.25      0.29\n",
       "37     C3      C4    C5      C6          3.0    0.0      0.18      0.13\n",
       "52     C4      C5    C6      O6          3.0    0.0      0.16      0.21\n",
       "84     H1      C1    C2      H2          3.0    0.0      0.15      0.16\n",
       "85     H2      C2    C3      H3          3.0    0.0      0.15      0.16\n",
       "98     H2      C2    O2     HO2          3.0    0.0      0.17      0.11\n",
       "86     H3      C3    C4      H4          3.0    0.0      0.15      0.16\n",
       "107    H3      C3    O3     HO3          3.0    0.0      0.17      0.11\n",
       "87     H4      C4    C5      H5          3.0    0.0      0.15      0.16\n",
       "88     H5      C5    C6     H61          3.0    0.0      0.15      0.16\n",
       "89     H5      C5    C6     H62          3.0    0.0      0.15      0.16\n",
       "67     O1      C1    O5      C5          1.0    0.0      1.35      0.97\n",
       "66     O1      C1    O5      C5          2.0    0.0      0.85      1.24\n",
       "65     O1      C1    O5      C5          3.0    0.0      0.10      0.00\n",
       "16     O2      C2    C3      C4          3.0    0.0      0.16      0.21\n",
       "13     O2      C2    C3      O3          2.0    0.0      1.18      1.13\n",
       "12     O2      C2    C3      O3          3.0    0.0      0.14      0.90\n",
       "27     O3      C3    C4      C5          3.0    0.0      0.16      0.21\n",
       "112   H61      C6    O6     HO6          3.0    0.0      0.17      0.11\n",
       "113   H62      C6    O6     HO6          3.0    0.0      0.17      0.11"
      ]
     },
     "execution_count": 70,
     "metadata": {},
     "output_type": "execute_result"
    }
   ],
   "source": [
    "detail_differences(differences, smirnoff, bg2bg2).drop_duplicates()"
   ]
  },
  {
   "cell_type": "code",
   "execution_count": null,
   "metadata": {},
   "outputs": [],
   "source": []
  },
  {
   "cell_type": "code",
   "execution_count": null,
   "metadata": {},
   "outputs": [],
   "source": []
  },
  {
   "cell_type": "code",
   "execution_count": null,
   "metadata": {},
   "outputs": [],
   "source": []
  },
  {
   "cell_type": "code",
   "execution_count": null,
   "metadata": {},
   "outputs": [],
   "source": []
  },
  {
   "cell_type": "code",
   "execution_count": 71,
   "metadata": {
    "ExecuteTime": {
     "end_time": "2019-02-12T23:16:58.508944Z",
     "start_time": "2019-02-12T23:16:58.255046Z"
    }
   },
   "outputs": [],
   "source": [
    "missing_dihedrals = missing(differences)\n",
    "detailed = detail_missing(missing_dihedrals, smirnoff, bg2bg2)"
   ]
  },
  {
   "cell_type": "code",
   "execution_count": 72,
   "metadata": {
    "ExecuteTime": {
     "end_time": "2019-02-12T23:16:59.031860Z",
     "start_time": "2019-02-12T23:16:58.955736Z"
    }
   },
   "outputs": [
    {
     "data": {
      "text/html": [
       "<div>\n",
       "<style scoped>\n",
       "    .dataframe tbody tr th:only-of-type {\n",
       "        vertical-align: middle;\n",
       "    }\n",
       "\n",
       "    .dataframe tbody tr th {\n",
       "        vertical-align: top;\n",
       "    }\n",
       "\n",
       "    .dataframe thead th {\n",
       "        text-align: right;\n",
       "    }\n",
       "</style>\n",
       "<table border=\"1\" class=\"dataframe\">\n",
       "  <thead>\n",
       "    <tr style=\"text-align: right;\">\n",
       "      <th></th>\n",
       "      <th>atom1</th>\n",
       "      <th>atom2</th>\n",
       "      <th>atom3</th>\n",
       "      <th>atom4</th>\n",
       "      <th>periodicity</th>\n",
       "      <th>phase</th>\n",
       "      <th>height_x</th>\n",
       "      <th>height_y</th>\n",
       "    </tr>\n",
       "  </thead>\n",
       "  <tbody>\n",
       "    <tr>\n",
       "      <th>5</th>\n",
       "      <td>C1</td>\n",
       "      <td>C2</td>\n",
       "      <td>O2</td>\n",
       "      <td>HO2</td>\n",
       "      <td>1.0</td>\n",
       "      <td>0.0</td>\n",
       "      <td>0.25</td>\n",
       "      <td>--</td>\n",
       "    </tr>\n",
       "    <tr>\n",
       "      <th>4</th>\n",
       "      <td>C1</td>\n",
       "      <td>C2</td>\n",
       "      <td>O2</td>\n",
       "      <td>HO2</td>\n",
       "      <td>3.0</td>\n",
       "      <td>0.0</td>\n",
       "      <td>0.16</td>\n",
       "      <td>0</td>\n",
       "    </tr>\n",
       "    <tr>\n",
       "      <th>26</th>\n",
       "      <td>C1</td>\n",
       "      <td>O5</td>\n",
       "      <td>C5</td>\n",
       "      <td>C4</td>\n",
       "      <td>1.0</td>\n",
       "      <td>0.0</td>\n",
       "      <td>--</td>\n",
       "      <td>0</td>\n",
       "    </tr>\n",
       "    <tr>\n",
       "      <th>25</th>\n",
       "      <td>C1</td>\n",
       "      <td>O5</td>\n",
       "      <td>C5</td>\n",
       "      <td>C4</td>\n",
       "      <td>2.0</td>\n",
       "      <td>0.0</td>\n",
       "      <td>0.1</td>\n",
       "      <td>0.16</td>\n",
       "    </tr>\n",
       "    <tr>\n",
       "      <th>24</th>\n",
       "      <td>C1</td>\n",
       "      <td>O5</td>\n",
       "      <td>C5</td>\n",
       "      <td>C4</td>\n",
       "      <td>3.0</td>\n",
       "      <td>0.0</td>\n",
       "      <td>0.38</td>\n",
       "      <td>0.24</td>\n",
       "    </tr>\n",
       "  </tbody>\n",
       "</table>\n",
       "</div>"
      ],
      "text/plain": [
       "    atom1  atom2  atom3  atom4  periodicity  phase height_x height_y\n",
       "5     C1      C2    O2     HO2          1.0    0.0     0.25       --\n",
       "4     C1      C2    O2     HO2          3.0    0.0     0.16        0\n",
       "26    C1      O5    C5      C4          1.0    0.0       --        0\n",
       "25    C1      O5    C5      C4          2.0    0.0      0.1     0.16\n",
       "24    C1      O5    C5      C4          3.0    0.0     0.38     0.24"
      ]
     },
     "execution_count": 72,
     "metadata": {},
     "output_type": "execute_result"
    }
   ],
   "source": [
    "detailed.head()"
   ]
  },
  {
   "cell_type": "code",
   "execution_count": 73,
   "metadata": {
    "ExecuteTime": {
     "end_time": "2019-02-12T23:16:59.912849Z",
     "start_time": "2019-02-12T23:16:59.646451Z"
    }
   },
   "outputs": [],
   "source": [
    "bg2bg2_interresidue = organize_interresidue_dihedrals(interresidue_masks, bg2bg2_prmtop)\n",
    "bg2bg2_interresidue.drop_duplicates(inplace=True)"
   ]
  },
  {
   "cell_type": "code",
   "execution_count": 74,
   "metadata": {
    "ExecuteTime": {
     "end_time": "2019-02-12T23:17:01.707067Z",
     "start_time": "2019-02-12T23:17:01.599542Z"
    }
   },
   "outputs": [],
   "source": [
    "interresidue_differences = differing_rows(smirnoff_interresidue, bg2bg2_interresidue)"
   ]
  },
  {
   "cell_type": "code",
   "execution_count": 75,
   "metadata": {
    "ExecuteTime": {
     "end_time": "2019-02-12T23:17:03.053084Z",
     "start_time": "2019-02-12T23:17:02.732442Z"
    }
   },
   "outputs": [
    {
     "ename": "ValueError",
     "evalue": "Must pass non-zero number of levels/labels",
     "output_type": "error",
     "traceback": [
      "\u001b[0;31m---------------------------------------------------------------------------\u001b[0m",
      "\u001b[0;31mValueError\u001b[0m                                Traceback (most recent call last)",
      "\u001b[0;32m<ipython-input-75-2ff569f0a5be>\u001b[0m in \u001b[0;36m<module>\u001b[0;34m()\u001b[0m\n\u001b[0;32m----> 1\u001b[0;31m \u001b[0mdetail_differences\u001b[0m\u001b[0;34m(\u001b[0m\u001b[0minterresidue_differences\u001b[0m\u001b[0;34m,\u001b[0m \u001b[0msmirnoff\u001b[0m\u001b[0;34m,\u001b[0m \u001b[0mbg2bg2\u001b[0m\u001b[0;34m)\u001b[0m\u001b[0;34m.\u001b[0m\u001b[0mdrop_duplicates\u001b[0m\u001b[0;34m(\u001b[0m\u001b[0;34m)\u001b[0m\u001b[0;34m\u001b[0m\u001b[0m\n\u001b[0m",
      "\u001b[0;32m<ipython-input-64-e4550ff502fc>\u001b[0m in \u001b[0;36mdetail_differences\u001b[0;34m(differences, df_one, df_two)\u001b[0m\n\u001b[1;32m     46\u001b[0m     \u001b[0;31m# https://stackoverflow.com/questions/33282119/pandas-filter-dataframe-by-another-dataframe-by-row-elements\u001b[0m\u001b[0;34m\u001b[0m\u001b[0;34m\u001b[0m\u001b[0m\n\u001b[1;32m     47\u001b[0m     \u001b[0mkeys\u001b[0m \u001b[0;34m=\u001b[0m \u001b[0mlist\u001b[0m\u001b[0;34m(\u001b[0m\u001b[0mdihedrals_to_exclude\u001b[0m\u001b[0;34m.\u001b[0m\u001b[0mcolumns\u001b[0m\u001b[0;34m.\u001b[0m\u001b[0mvalues\u001b[0m\u001b[0;34m)\u001b[0m\u001b[0;34m\u001b[0m\u001b[0m\n\u001b[0;32m---> 48\u001b[0;31m     \u001b[0mi1\u001b[0m \u001b[0;34m=\u001b[0m \u001b[0mcomprehensive_differences\u001b[0m\u001b[0;34m.\u001b[0m\u001b[0mset_index\u001b[0m\u001b[0;34m(\u001b[0m\u001b[0mkeys\u001b[0m\u001b[0;34m)\u001b[0m\u001b[0;34m.\u001b[0m\u001b[0mindex\u001b[0m\u001b[0;34m\u001b[0m\u001b[0m\n\u001b[0m\u001b[1;32m     49\u001b[0m     \u001b[0mi2\u001b[0m \u001b[0;34m=\u001b[0m \u001b[0mdihedrals_to_exclude\u001b[0m\u001b[0;34m.\u001b[0m\u001b[0mset_index\u001b[0m\u001b[0;34m(\u001b[0m\u001b[0mkeys\u001b[0m\u001b[0;34m)\u001b[0m\u001b[0;34m.\u001b[0m\u001b[0mindex\u001b[0m\u001b[0;34m\u001b[0m\u001b[0m\n\u001b[1;32m     50\u001b[0m     \u001b[0mcomprehensive_differences\u001b[0m \u001b[0;34m=\u001b[0m \u001b[0mcomprehensive_differences\u001b[0m\u001b[0;34m[\u001b[0m\u001b[0;34m~\u001b[0m\u001b[0mi1\u001b[0m\u001b[0;34m.\u001b[0m\u001b[0misin\u001b[0m\u001b[0;34m(\u001b[0m\u001b[0mi2\u001b[0m\u001b[0;34m)\u001b[0m\u001b[0;34m]\u001b[0m\u001b[0;34m\u001b[0m\u001b[0m\n",
      "\u001b[0;32m~/data/applications/anaconda3/lib/python3.6/site-packages/pandas/core/frame.py\u001b[0m in \u001b[0;36mset_index\u001b[0;34m(self, keys, drop, append, inplace, verify_integrity)\u001b[0m\n\u001b[1;32m   3913\u001b[0m             \u001b[0marrays\u001b[0m\u001b[0;34m.\u001b[0m\u001b[0mappend\u001b[0m\u001b[0;34m(\u001b[0m\u001b[0mlevel\u001b[0m\u001b[0;34m)\u001b[0m\u001b[0;34m\u001b[0m\u001b[0m\n\u001b[1;32m   3914\u001b[0m \u001b[0;34m\u001b[0m\u001b[0m\n\u001b[0;32m-> 3915\u001b[0;31m         \u001b[0mindex\u001b[0m \u001b[0;34m=\u001b[0m \u001b[0m_ensure_index_from_sequences\u001b[0m\u001b[0;34m(\u001b[0m\u001b[0marrays\u001b[0m\u001b[0;34m,\u001b[0m \u001b[0mnames\u001b[0m\u001b[0;34m)\u001b[0m\u001b[0;34m\u001b[0m\u001b[0m\n\u001b[0m\u001b[1;32m   3916\u001b[0m \u001b[0;34m\u001b[0m\u001b[0m\n\u001b[1;32m   3917\u001b[0m         \u001b[0;32mif\u001b[0m \u001b[0mverify_integrity\u001b[0m \u001b[0;32mand\u001b[0m \u001b[0;32mnot\u001b[0m \u001b[0mindex\u001b[0m\u001b[0;34m.\u001b[0m\u001b[0mis_unique\u001b[0m\u001b[0;34m:\u001b[0m\u001b[0;34m\u001b[0m\u001b[0m\n",
      "\u001b[0;32m~/data/applications/anaconda3/lib/python3.6/site-packages/pandas/core/indexes/base.py\u001b[0m in \u001b[0;36m_ensure_index_from_sequences\u001b[0;34m(sequences, names)\u001b[0m\n\u001b[1;32m   4909\u001b[0m         \u001b[0;32mreturn\u001b[0m \u001b[0mIndex\u001b[0m\u001b[0;34m(\u001b[0m\u001b[0msequences\u001b[0m\u001b[0;34m[\u001b[0m\u001b[0;36m0\u001b[0m\u001b[0;34m]\u001b[0m\u001b[0;34m,\u001b[0m \u001b[0mname\u001b[0m\u001b[0;34m=\u001b[0m\u001b[0mnames\u001b[0m\u001b[0;34m)\u001b[0m\u001b[0;34m\u001b[0m\u001b[0m\n\u001b[1;32m   4910\u001b[0m     \u001b[0;32melse\u001b[0m\u001b[0;34m:\u001b[0m\u001b[0;34m\u001b[0m\u001b[0m\n\u001b[0;32m-> 4911\u001b[0;31m         \u001b[0;32mreturn\u001b[0m \u001b[0mMultiIndex\u001b[0m\u001b[0;34m.\u001b[0m\u001b[0mfrom_arrays\u001b[0m\u001b[0;34m(\u001b[0m\u001b[0msequences\u001b[0m\u001b[0;34m,\u001b[0m \u001b[0mnames\u001b[0m\u001b[0;34m=\u001b[0m\u001b[0mnames\u001b[0m\u001b[0;34m)\u001b[0m\u001b[0;34m\u001b[0m\u001b[0m\n\u001b[0m\u001b[1;32m   4912\u001b[0m \u001b[0;34m\u001b[0m\u001b[0m\n\u001b[1;32m   4913\u001b[0m \u001b[0;34m\u001b[0m\u001b[0m\n",
      "\u001b[0;32m~/data/applications/anaconda3/lib/python3.6/site-packages/pandas/core/indexes/multi.py\u001b[0m in \u001b[0;36mfrom_arrays\u001b[0;34m(cls, arrays, sortorder, names)\u001b[0m\n\u001b[1;32m   1277\u001b[0m \u001b[0;34m\u001b[0m\u001b[0m\n\u001b[1;32m   1278\u001b[0m         return MultiIndex(levels=levels, labels=labels, sortorder=sortorder,\n\u001b[0;32m-> 1279\u001b[0;31m                           names=names, verify_integrity=False)\n\u001b[0m\u001b[1;32m   1280\u001b[0m \u001b[0;34m\u001b[0m\u001b[0m\n\u001b[1;32m   1281\u001b[0m     \u001b[0;34m@\u001b[0m\u001b[0mclassmethod\u001b[0m\u001b[0;34m\u001b[0m\u001b[0m\n",
      "\u001b[0;32m~/data/applications/anaconda3/lib/python3.6/site-packages/pandas/core/indexes/multi.py\u001b[0m in \u001b[0;36m__new__\u001b[0;34m(cls, levels, labels, sortorder, names, dtype, copy, name, verify_integrity, _set_identity)\u001b[0m\n\u001b[1;32m    222\u001b[0m             \u001b[0;32mraise\u001b[0m \u001b[0mValueError\u001b[0m\u001b[0;34m(\u001b[0m\u001b[0;34m'Length of levels and labels must be the same.'\u001b[0m\u001b[0;34m)\u001b[0m\u001b[0;34m\u001b[0m\u001b[0m\n\u001b[1;32m    223\u001b[0m         \u001b[0;32mif\u001b[0m \u001b[0mlen\u001b[0m\u001b[0;34m(\u001b[0m\u001b[0mlevels\u001b[0m\u001b[0;34m)\u001b[0m \u001b[0;34m==\u001b[0m \u001b[0;36m0\u001b[0m\u001b[0;34m:\u001b[0m\u001b[0;34m\u001b[0m\u001b[0m\n\u001b[0;32m--> 224\u001b[0;31m             \u001b[0;32mraise\u001b[0m \u001b[0mValueError\u001b[0m\u001b[0;34m(\u001b[0m\u001b[0;34m'Must pass non-zero number of levels/labels'\u001b[0m\u001b[0;34m)\u001b[0m\u001b[0;34m\u001b[0m\u001b[0m\n\u001b[0m\u001b[1;32m    225\u001b[0m \u001b[0;34m\u001b[0m\u001b[0m\n\u001b[1;32m    226\u001b[0m         \u001b[0mresult\u001b[0m \u001b[0;34m=\u001b[0m \u001b[0mobject\u001b[0m\u001b[0;34m.\u001b[0m\u001b[0m__new__\u001b[0m\u001b[0;34m(\u001b[0m\u001b[0mMultiIndex\u001b[0m\u001b[0;34m)\u001b[0m\u001b[0;34m\u001b[0m\u001b[0m\n",
      "\u001b[0;31mValueError\u001b[0m: Must pass non-zero number of levels/labels"
     ]
    }
   ],
   "source": [
    "detail_differences(interresidue_differences, smirnoff, bg2bg2).drop_duplicates()"
   ]
  },
  {
   "cell_type": "code",
   "execution_count": null,
   "metadata": {},
   "outputs": [],
   "source": []
  },
  {
   "cell_type": "code",
   "execution_count": 468,
   "metadata": {
    "ExecuteTime": {
     "end_time": "2019-02-03T22:01:08.928562Z",
     "start_time": "2019-02-03T22:01:08.865692Z"
    }
   },
   "outputs": [],
   "source": [
    "missing_interresidue = missing(interresidue_differences)"
   ]
  },
  {
   "cell_type": "code",
   "execution_count": 469,
   "metadata": {
    "ExecuteTime": {
     "end_time": "2019-02-03T22:01:38.735667Z",
     "start_time": "2019-02-03T22:01:38.567604Z"
    }
   },
   "outputs": [],
   "source": [
    "detailed_interresidue = detail_missing(missing_interresidue, smirnoff_interresidue, bg2bg2_interresidue)"
   ]
  },
  {
   "cell_type": "code",
   "execution_count": 470,
   "metadata": {
    "ExecuteTime": {
     "end_time": "2019-02-03T22:01:41.354704Z",
     "start_time": "2019-02-03T22:01:41.265990Z"
    }
   },
   "outputs": [
    {
     "data": {
      "text/html": [
       "<div>\n",
       "<style scoped>\n",
       "    .dataframe tbody tr th:only-of-type {\n",
       "        vertical-align: middle;\n",
       "    }\n",
       "\n",
       "    .dataframe tbody tr th {\n",
       "        vertical-align: top;\n",
       "    }\n",
       "\n",
       "    .dataframe thead th {\n",
       "        text-align: right;\n",
       "    }\n",
       "</style>\n",
       "<table border=\"1\" class=\"dataframe\">\n",
       "  <thead>\n",
       "    <tr style=\"text-align: right;\">\n",
       "      <th></th>\n",
       "      <th>atom1</th>\n",
       "      <th>atom2</th>\n",
       "      <th>atom3</th>\n",
       "      <th>atom4</th>\n",
       "      <th>periodicity</th>\n",
       "      <th>phase</th>\n",
       "      <th>height_x</th>\n",
       "      <th>height_y</th>\n",
       "    </tr>\n",
       "  </thead>\n",
       "  <tbody>\n",
       "    <tr>\n",
       "      <th>5</th>\n",
       "      <td>C1</td>\n",
       "      <td>O1</td>\n",
       "      <td>C4</td>\n",
       "      <td>C3</td>\n",
       "      <td>1.0</td>\n",
       "      <td>0.0</td>\n",
       "      <td>--</td>\n",
       "      <td>0.00</td>\n",
       "    </tr>\n",
       "    <tr>\n",
       "      <th>4</th>\n",
       "      <td>C1</td>\n",
       "      <td>O1</td>\n",
       "      <td>C4</td>\n",
       "      <td>C3</td>\n",
       "      <td>2.0</td>\n",
       "      <td>0.0</td>\n",
       "      <td>0.1</td>\n",
       "      <td>0.16</td>\n",
       "    </tr>\n",
       "    <tr>\n",
       "      <th>3</th>\n",
       "      <td>C1</td>\n",
       "      <td>O1</td>\n",
       "      <td>C4</td>\n",
       "      <td>C3</td>\n",
       "      <td>3.0</td>\n",
       "      <td>0.0</td>\n",
       "      <td>0.38</td>\n",
       "      <td>0.24</td>\n",
       "    </tr>\n",
       "    <tr>\n",
       "      <th>8</th>\n",
       "      <td>C1</td>\n",
       "      <td>O1</td>\n",
       "      <td>C4</td>\n",
       "      <td>C5</td>\n",
       "      <td>1.0</td>\n",
       "      <td>0.0</td>\n",
       "      <td>--</td>\n",
       "      <td>0.00</td>\n",
       "    </tr>\n",
       "    <tr>\n",
       "      <th>7</th>\n",
       "      <td>C1</td>\n",
       "      <td>O1</td>\n",
       "      <td>C4</td>\n",
       "      <td>C5</td>\n",
       "      <td>2.0</td>\n",
       "      <td>0.0</td>\n",
       "      <td>0.1</td>\n",
       "      <td>0.16</td>\n",
       "    </tr>\n",
       "    <tr>\n",
       "      <th>6</th>\n",
       "      <td>C1</td>\n",
       "      <td>O1</td>\n",
       "      <td>C4</td>\n",
       "      <td>C5</td>\n",
       "      <td>3.0</td>\n",
       "      <td>0.0</td>\n",
       "      <td>0.38</td>\n",
       "      <td>0.24</td>\n",
       "    </tr>\n",
       "    <tr>\n",
       "      <th>2</th>\n",
       "      <td>C2</td>\n",
       "      <td>C1</td>\n",
       "      <td>O1</td>\n",
       "      <td>C4</td>\n",
       "      <td>1.0</td>\n",
       "      <td>0.0</td>\n",
       "      <td>--</td>\n",
       "      <td>0.00</td>\n",
       "    </tr>\n",
       "    <tr>\n",
       "      <th>1</th>\n",
       "      <td>C2</td>\n",
       "      <td>C1</td>\n",
       "      <td>O1</td>\n",
       "      <td>C4</td>\n",
       "      <td>2.0</td>\n",
       "      <td>0.0</td>\n",
       "      <td>0.1</td>\n",
       "      <td>0.16</td>\n",
       "    </tr>\n",
       "    <tr>\n",
       "      <th>0</th>\n",
       "      <td>C2</td>\n",
       "      <td>C1</td>\n",
       "      <td>O1</td>\n",
       "      <td>C4</td>\n",
       "      <td>3.0</td>\n",
       "      <td>0.0</td>\n",
       "      <td>0.38</td>\n",
       "      <td>0.24</td>\n",
       "    </tr>\n",
       "    <tr>\n",
       "      <th>11</th>\n",
       "      <td>O1</td>\n",
       "      <td>C4</td>\n",
       "      <td>C3</td>\n",
       "      <td>O3</td>\n",
       "      <td>1.0</td>\n",
       "      <td>0.0</td>\n",
       "      <td>--</td>\n",
       "      <td>0.02</td>\n",
       "    </tr>\n",
       "    <tr>\n",
       "      <th>10</th>\n",
       "      <td>O1</td>\n",
       "      <td>C4</td>\n",
       "      <td>C3</td>\n",
       "      <td>O3</td>\n",
       "      <td>2.0</td>\n",
       "      <td>0.0</td>\n",
       "      <td>1.18</td>\n",
       "      <td>0.00</td>\n",
       "    </tr>\n",
       "    <tr>\n",
       "      <th>9</th>\n",
       "      <td>O1</td>\n",
       "      <td>C4</td>\n",
       "      <td>C3</td>\n",
       "      <td>O3</td>\n",
       "      <td>3.0</td>\n",
       "      <td>0.0</td>\n",
       "      <td>0.14</td>\n",
       "      <td>1.01</td>\n",
       "    </tr>\n",
       "    <tr>\n",
       "      <th>14</th>\n",
       "      <td>O1</td>\n",
       "      <td>C4</td>\n",
       "      <td>C5</td>\n",
       "      <td>O5</td>\n",
       "      <td>1.0</td>\n",
       "      <td>0.0</td>\n",
       "      <td>--</td>\n",
       "      <td>0.17</td>\n",
       "    </tr>\n",
       "    <tr>\n",
       "      <th>13</th>\n",
       "      <td>O1</td>\n",
       "      <td>C4</td>\n",
       "      <td>C5</td>\n",
       "      <td>O5</td>\n",
       "      <td>2.0</td>\n",
       "      <td>0.0</td>\n",
       "      <td>1.18</td>\n",
       "      <td>0.00</td>\n",
       "    </tr>\n",
       "    <tr>\n",
       "      <th>12</th>\n",
       "      <td>O1</td>\n",
       "      <td>C4</td>\n",
       "      <td>C5</td>\n",
       "      <td>O5</td>\n",
       "      <td>3.0</td>\n",
       "      <td>0.0</td>\n",
       "      <td>0.14</td>\n",
       "      <td>0.00</td>\n",
       "    </tr>\n",
       "  </tbody>\n",
       "</table>\n",
       "</div>"
      ],
      "text/plain": [
       "    atom1  atom2  atom3  atom4  periodicity  phase height_x  height_y\n",
       "5     C1      O1    C4      C3          1.0    0.0       --      0.00\n",
       "4     C1      O1    C4      C3          2.0    0.0      0.1      0.16\n",
       "3     C1      O1    C4      C3          3.0    0.0     0.38      0.24\n",
       "8     C1      O1    C4      C5          1.0    0.0       --      0.00\n",
       "7     C1      O1    C4      C5          2.0    0.0      0.1      0.16\n",
       "6     C1      O1    C4      C5          3.0    0.0     0.38      0.24\n",
       "2     C2      C1    O1      C4          1.0    0.0       --      0.00\n",
       "1     C2      C1    O1      C4          2.0    0.0      0.1      0.16\n",
       "0     C2      C1    O1      C4          3.0    0.0     0.38      0.24\n",
       "11    O1      C4    C3      O3          1.0    0.0       --      0.02\n",
       "10    O1      C4    C3      O3          2.0    0.0     1.18      0.00\n",
       "9     O1      C4    C3      O3          3.0    0.0     0.14      1.01\n",
       "14    O1      C4    C5      O5          1.0    0.0       --      0.17\n",
       "13    O1      C4    C5      O5          2.0    0.0     1.18      0.00\n",
       "12    O1      C4    C5      O5          3.0    0.0     0.14      0.00"
      ]
     },
     "execution_count": 470,
     "metadata": {},
     "output_type": "execute_result"
    }
   ],
   "source": [
    "detailed_interresidue"
   ]
  },
  {
   "cell_type": "code",
   "execution_count": null,
   "metadata": {},
   "outputs": [],
   "source": []
  }
 ],
 "metadata": {
  "kernelspec": {
   "display_name": "Python [default]",
   "language": "python",
   "name": "python3"
  }
 },
 "nbformat": 4,
 "nbformat_minor": 2
}
