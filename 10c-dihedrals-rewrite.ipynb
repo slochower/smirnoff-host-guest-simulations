{
 "cells": [
  {
   "cell_type": "code",
   "execution_count": 376,
   "metadata": {
    "ExecuteTime": {
     "end_time": "2019-02-03T02:04:09.742977Z",
     "start_time": "2019-02-03T02:04:09.662760Z"
    },
    "scrolled": true
   },
   "outputs": [
    {
     "name": "stdout",
     "output_type": "stream",
     "text": [
      "The autoreload extension is already loaded. To reload it, use:\n",
      "  %reload_ext autoreload\n"
     ]
    }
   ],
   "source": [
    "import parmed as pmd\n",
    "import numpy as np\n",
    "import os\n",
    "import pandas as pd\n",
    "\n",
    "import matplotlib as mpl\n",
    "import matplotlib.pyplot as plt\n",
    "from matplotlib.gridspec import GridSpec\n",
    "from matplotlib.colors import colorConverter\n",
    "import seaborn as sns\n",
    "\n",
    "%load_ext autoreload\n",
    "%autoreload 2\n",
    "%matplotlib inline"
   ]
  },
  {
   "cell_type": "code",
   "execution_count": 377,
   "metadata": {
    "ExecuteTime": {
     "end_time": "2019-02-03T02:04:09.879431Z",
     "start_time": "2019-02-03T02:04:09.816161Z"
    }
   },
   "outputs": [],
   "source": [
    "from adjustText import adjust_text\n",
    "import plotting"
   ]
  },
  {
   "cell_type": "markdown",
   "metadata": {},
   "source": [
    "# Dihedral parameter comparison.\n",
    "\n",
    "Let's iterate through the structure and look at the parameters, one-by-one. This seems to be the only reliable way to compare apples with apples.\n",
    "\n",
    "First, find the unique set of four atoms, by atom name, in a single alpha-cyclodextrin residue. Then we'll look at the dihedrals applied to these 4 atom sets. Thankfully, when we query ParmEd for a mask of four atoms, ParmEd looks for the atoms in either ordering (e.g., `a-b-c-d` and `d-c-b-a`), which are the same dihedral, but may be listed separately."
   ]
  },
  {
   "cell_type": "code",
   "execution_count": 378,
   "metadata": {
    "ExecuteTime": {
     "end_time": "2019-02-03T02:04:10.342093Z",
     "start_time": "2019-02-03T02:04:10.075990Z"
    }
   },
   "outputs": [],
   "source": [
    "smirnoff_prmtop = pmd.load_file(\"systems/a-bam-p/smirnoff/a000/hg.prmtop\")\n",
    "\n",
    "bgbg_prmtop = pmd.load_file(\"systems/a-bam-p/bgbg-tip3p/hg.topo\")\n",
    "\n",
    "bg2bg2_prmtop = pmd.load_file(\"systems/a-bam-p/bg2bg2-tip3p/vac.topo\")\n"
   ]
  },
  {
   "cell_type": "code",
   "execution_count": 379,
   "metadata": {
    "ExecuteTime": {
     "end_time": "2019-02-03T02:04:10.383047Z",
     "start_time": "2019-02-03T02:04:10.344466Z"
    }
   },
   "outputs": [],
   "source": [
    "def find_dihedrals(structure, residue=5):\n",
    "    df = pd.DataFrame()\n",
    "    for dihedral in structure[f\":{residue}\"].dihedrals:\n",
    "        df = df.append(\n",
    "            pd.DataFrame(\n",
    "                {\n",
    "                    \"atom1\": dihedral.atom1.name,\n",
    "                    \"atom2\": dihedral.atom2.name,\n",
    "                    \"atom3\": dihedral.atom3.name,\n",
    "                    \"atom4\": dihedral.atom4.name,\n",
    "                },\n",
    "                index=[0],\n",
    "            ),\n",
    "            ignore_index=True,\n",
    "        )\n",
    "    return df"
   ]
  },
  {
   "cell_type": "code",
   "execution_count": 380,
   "metadata": {
    "ExecuteTime": {
     "end_time": "2019-02-03T02:04:10.892488Z",
     "start_time": "2019-02-03T02:04:10.385394Z"
    }
   },
   "outputs": [],
   "source": [
    "bgbg_prmtop_dihedrals = find_dihedrals(bgbg_prmtop)\n",
    "bg2bg2_prmtop_dihedrals = find_dihedrals(bg2bg2_prmtop)\n",
    "smirnoff_prmtop_dihedrals = find_dihedrals(smirnoff_prmtop)"
   ]
  },
  {
   "cell_type": "markdown",
   "metadata": {
    "ExecuteTime": {
     "end_time": "2019-01-16T19:45:02.806275Z",
     "start_time": "2019-01-16T19:45:02.686252Z"
    }
   },
   "source": [
    "These are just labeled by *atom name* so it is safe to drop duplicates by only keeping the unique rows."
   ]
  },
  {
   "cell_type": "code",
   "execution_count": 381,
   "metadata": {
    "ExecuteTime": {
     "end_time": "2019-02-03T02:04:10.934206Z",
     "start_time": "2019-02-03T02:04:10.895348Z"
    }
   },
   "outputs": [],
   "source": [
    "bgbg_prmtop_dihedrals.drop_duplicates(inplace=True)\n",
    "bg2bg2_prmtop_dihedrals.drop_duplicates(inplace=True)\n",
    "smirnoff_prmtop_dihedrals.drop_duplicates(inplace=True)"
   ]
  },
  {
   "cell_type": "code",
   "execution_count": 382,
   "metadata": {
    "ExecuteTime": {
     "end_time": "2019-02-03T02:04:10.993529Z",
     "start_time": "2019-02-03T02:04:10.936843Z"
    }
   },
   "outputs": [],
   "source": [
    "assert len(bgbg_prmtop_dihedrals) == len(smirnoff_prmtop_dihedrals)\n",
    "assert len(bgbg_prmtop_dihedrals) == len(bg2bg2_prmtop_dihedrals)"
   ]
  },
  {
   "cell_type": "code",
   "execution_count": 436,
   "metadata": {
    "ExecuteTime": {
     "end_time": "2019-02-03T02:20:24.490541Z",
     "start_time": "2019-02-03T02:20:24.428772Z"
    }
   },
   "outputs": [
    {
     "name": "stdout",
     "output_type": "stream",
     "text": [
      "There are 54 sets of four atoms in the structure.\n"
     ]
    }
   ],
   "source": [
    "print(f\"There are {len(bgbg_prmtop_dihedrals)} sets of four atoms in the structure.\")"
   ]
  },
  {
   "cell_type": "code",
   "execution_count": 437,
   "metadata": {
    "ExecuteTime": {
     "end_time": "2019-02-03T02:20:24.658289Z",
     "start_time": "2019-02-03T02:20:24.578508Z"
    }
   },
   "outputs": [],
   "source": [
    "def parse_parmed_output(printDihedrals_string):\n",
    "    df = pd.DataFrame()\n",
    "    lines = printDihedrals_string.split(\"\\n\")\n",
    "    for line in lines[1:-1]:\n",
    "        df = df.append(\n",
    "            pd.DataFrame(\n",
    "                {\n",
    "                    \"atom1\": \"\".join(line[10:15]),\n",
    "                    \"atom2\": \"\".join(line[30:35]),\n",
    "                    \"atom3\": \"\".join(line[52:57]),\n",
    "                    \"atom4\": \"\".join(line[72:77]),\n",
    "                    \"height\": float(\"\".join(line[89:95])),\n",
    "                    \"periodicity\": float(\"\".join(line[100:105])),\n",
    "                    \"phase\": float(\"\".join(line[111:116])),\n",
    "                    },\n",
    "                index=[0],\n",
    "            ),\n",
    "            ignore_index=True,\n",
    "        )\n",
    "    return df"
   ]
  },
  {
   "cell_type": "code",
   "execution_count": 438,
   "metadata": {
    "ExecuteTime": {
     "end_time": "2019-02-03T02:20:24.958479Z",
     "start_time": "2019-02-03T02:20:24.721091Z"
    }
   },
   "outputs": [],
   "source": [
    "smirnoff_dihedrals = find_dihedrals(smirnoff_prmtop)\n",
    "smirnoff_dihedrals.drop_duplicates(inplace=True)"
   ]
  },
  {
   "cell_type": "code",
   "execution_count": 439,
   "metadata": {
    "ExecuteTime": {
     "end_time": "2019-02-03T02:20:25.123434Z",
     "start_time": "2019-02-03T02:20:24.960349Z"
    }
   },
   "outputs": [],
   "source": [
    "bgbg_dihedrals = find_dihedrals(bgbg_prmtop)\n",
    "bgbg_dihedrals.drop_duplicates(inplace=True)"
   ]
  },
  {
   "cell_type": "code",
   "execution_count": 440,
   "metadata": {
    "ExecuteTime": {
     "end_time": "2019-02-03T02:20:25.289532Z",
     "start_time": "2019-02-03T02:20:25.125588Z"
    }
   },
   "outputs": [],
   "source": [
    "bg2bg2_dihedrals = find_dihedrals(bg2bg2_prmtop)\n",
    "bg2bg2_dihedrals.drop_duplicates(inplace=True)"
   ]
  },
  {
   "cell_type": "code",
   "execution_count": 441,
   "metadata": {
    "ExecuteTime": {
     "end_time": "2019-02-03T02:20:25.332950Z",
     "start_time": "2019-02-03T02:20:25.291885Z"
    }
   },
   "outputs": [],
   "source": [
    "def organize_dihedrals(dihedrals, prmtop):\n",
    "    df = pd.DataFrame()\n",
    "    for index, row in dihedrals.iterrows():\n",
    "        atom1 = row[\"atom1\"]\n",
    "        atom2 = row[\"atom2\"]\n",
    "        atom3 = row[\"atom3\"]\n",
    "        atom4 = row[\"atom4\"]\n",
    "        mask = f\":4@{atom1} :4@{atom2} :4@{atom3} :4@{atom4}\"\n",
    "        parmed_output = str(pmd.tools.actions.printDihedrals(prmtop, mask))\n",
    "        parmed_df = parse_parmed_output(parmed_output)\n",
    "        df = df.append(parmed_df, ignore_index=True)\n",
    "        df = df.round(decimals = 2)\n",
    "    return df"
   ]
  },
  {
   "cell_type": "code",
   "execution_count": 442,
   "metadata": {
    "ExecuteTime": {
     "end_time": "2019-02-03T02:20:27.204219Z",
     "start_time": "2019-02-03T02:20:25.334703Z"
    }
   },
   "outputs": [],
   "source": [
    "smirnoff = organize_dihedrals(smirnoff_dihedrals, smirnoff_prmtop)\n",
    "bgbg = organize_dihedrals(bgbg_dihedrals, bgbg_prmtop)\n",
    "bg2bg2 = organize_dihedrals(bg2bg2_dihedrals, bg2bg2_prmtop)"
   ]
  },
  {
   "cell_type": "code",
   "execution_count": 443,
   "metadata": {
    "ExecuteTime": {
     "end_time": "2019-02-03T02:20:27.235514Z",
     "start_time": "2019-02-03T02:20:27.206200Z"
    }
   },
   "outputs": [],
   "source": [
    "def differing_rows(df_one, df_two):\n",
    "    df = pd.merge(df_one, df_two, how='outer', indicator=True)\n",
    "    rows_in_df1_not_in_df2 = df[df['_merge']=='left_only'][df_one.columns]\n",
    "    rows_in_df2_not_in_df1 = df[df['_merge']=='right_only'][df_two.columns]\n",
    "    differences = rows_in_df1_not_in_df2.merge(rows_in_df2_not_in_df1, \n",
    "                                           on=[\"atom1\", \"atom2\", \"atom3\", \"atom4\", \"periodicity\", \"phase\"],\n",
    "                                           how=\"outer\",\n",
    "                                           suffixes = (\"_one\", \"_two\"))    \n",
    "    return differences"
   ]
  },
  {
   "cell_type": "code",
   "execution_count": 444,
   "metadata": {
    "ExecuteTime": {
     "end_time": "2019-02-03T02:20:27.412591Z",
     "start_time": "2019-02-03T02:20:27.237310Z"
    }
   },
   "outputs": [
    {
     "data": {
      "text/html": [
       "<div>\n",
       "<style scoped>\n",
       "    .dataframe tbody tr th:only-of-type {\n",
       "        vertical-align: middle;\n",
       "    }\n",
       "\n",
       "    .dataframe tbody tr th {\n",
       "        vertical-align: top;\n",
       "    }\n",
       "\n",
       "    .dataframe thead th {\n",
       "        text-align: right;\n",
       "    }\n",
       "</style>\n",
       "<table border=\"1\" class=\"dataframe\">\n",
       "  <thead>\n",
       "    <tr style=\"text-align: right;\">\n",
       "      <th></th>\n",
       "      <th>atom1</th>\n",
       "      <th>atom2</th>\n",
       "      <th>atom3</th>\n",
       "      <th>atom4</th>\n",
       "      <th>height_one</th>\n",
       "      <th>periodicity</th>\n",
       "      <th>phase</th>\n",
       "      <th>height_two</th>\n",
       "    </tr>\n",
       "  </thead>\n",
       "  <tbody>\n",
       "    <tr>\n",
       "      <th>0</th>\n",
       "      <td>H1</td>\n",
       "      <td>C1</td>\n",
       "      <td>C2</td>\n",
       "      <td>O2</td>\n",
       "      <td>0.00</td>\n",
       "      <td>3.0</td>\n",
       "      <td>0.0</td>\n",
       "      <td>0.16</td>\n",
       "    </tr>\n",
       "    <tr>\n",
       "      <th>1</th>\n",
       "      <td>H1</td>\n",
       "      <td>C1</td>\n",
       "      <td>C2</td>\n",
       "      <td>O2</td>\n",
       "      <td>0.25</td>\n",
       "      <td>1.0</td>\n",
       "      <td>0.0</td>\n",
       "      <td>NaN</td>\n",
       "    </tr>\n",
       "    <tr>\n",
       "      <th>2</th>\n",
       "      <td>H1</td>\n",
       "      <td>C1</td>\n",
       "      <td>C2</td>\n",
       "      <td>H2</td>\n",
       "      <td>0.15</td>\n",
       "      <td>3.0</td>\n",
       "      <td>0.0</td>\n",
       "      <td>0.16</td>\n",
       "    </tr>\n",
       "    <tr>\n",
       "      <th>3</th>\n",
       "      <td>H2</td>\n",
       "      <td>C2</td>\n",
       "      <td>C3</td>\n",
       "      <td>H3</td>\n",
       "      <td>0.15</td>\n",
       "      <td>3.0</td>\n",
       "      <td>0.0</td>\n",
       "      <td>0.16</td>\n",
       "    </tr>\n",
       "    <tr>\n",
       "      <th>4</th>\n",
       "      <td>H3</td>\n",
       "      <td>C3</td>\n",
       "      <td>C4</td>\n",
       "      <td>H4</td>\n",
       "      <td>0.15</td>\n",
       "      <td>3.0</td>\n",
       "      <td>0.0</td>\n",
       "      <td>0.16</td>\n",
       "    </tr>\n",
       "  </tbody>\n",
       "</table>\n",
       "</div>"
      ],
      "text/plain": [
       "   atom1  atom2  atom3  atom4  height_one  periodicity  phase  height_two\n",
       "0    H1      C1    C2      O2        0.00          3.0    0.0        0.16\n",
       "1    H1      C1    C2      O2        0.25          1.0    0.0         NaN\n",
       "2    H1      C1    C2      H2        0.15          3.0    0.0        0.16\n",
       "3    H2      C2    C3      H3        0.15          3.0    0.0        0.16\n",
       "4    H3      C3    C4      H4        0.15          3.0    0.0        0.16"
      ]
     },
     "execution_count": 444,
     "metadata": {},
     "output_type": "execute_result"
    }
   ],
   "source": [
    "differences = differing_rows(smirnoff, bgbg)\n",
    "differences.head()"
   ]
  },
  {
   "cell_type": "markdown",
   "metadata": {},
   "source": [
    "Now let's print things that aren't *just* differences of in height."
   ]
  },
  {
   "cell_type": "code",
   "execution_count": 445,
   "metadata": {
    "ExecuteTime": {
     "end_time": "2019-02-03T02:20:27.457452Z",
     "start_time": "2019-02-03T02:20:27.415760Z"
    },
    "scrolled": false
   },
   "outputs": [],
   "source": [
    "def missing(df):\n",
    "    missing = df[df.isnull().any(axis=1)]\n",
    "    return missing"
   ]
  },
  {
   "cell_type": "code",
   "execution_count": 446,
   "metadata": {
    "ExecuteTime": {
     "end_time": "2019-02-03T02:20:27.541895Z",
     "start_time": "2019-02-03T02:20:27.460213Z"
    }
   },
   "outputs": [
    {
     "data": {
      "text/html": [
       "<div>\n",
       "<style scoped>\n",
       "    .dataframe tbody tr th:only-of-type {\n",
       "        vertical-align: middle;\n",
       "    }\n",
       "\n",
       "    .dataframe tbody tr th {\n",
       "        vertical-align: top;\n",
       "    }\n",
       "\n",
       "    .dataframe thead th {\n",
       "        text-align: right;\n",
       "    }\n",
       "</style>\n",
       "<table border=\"1\" class=\"dataframe\">\n",
       "  <thead>\n",
       "    <tr style=\"text-align: right;\">\n",
       "      <th></th>\n",
       "      <th>atom1</th>\n",
       "      <th>atom2</th>\n",
       "      <th>atom3</th>\n",
       "      <th>atom4</th>\n",
       "      <th>height_one</th>\n",
       "      <th>periodicity</th>\n",
       "      <th>phase</th>\n",
       "      <th>height_two</th>\n",
       "    </tr>\n",
       "  </thead>\n",
       "  <tbody>\n",
       "    <tr>\n",
       "      <th>1</th>\n",
       "      <td>H1</td>\n",
       "      <td>C1</td>\n",
       "      <td>C2</td>\n",
       "      <td>O2</td>\n",
       "      <td>0.25</td>\n",
       "      <td>1.0</td>\n",
       "      <td>0.0</td>\n",
       "      <td>NaN</td>\n",
       "    </tr>\n",
       "  </tbody>\n",
       "</table>\n",
       "</div>"
      ],
      "text/plain": [
       "   atom1  atom2  atom3  atom4  height_one  periodicity  phase  height_two\n",
       "1    H1      C1    C2      O2        0.25          1.0    0.0         NaN"
      ]
     },
     "execution_count": 446,
     "metadata": {},
     "output_type": "execute_result"
    }
   ],
   "source": [
    "missing_dihedrals = missing(differences)\n",
    "missing_dihedrals.head()"
   ]
  },
  {
   "cell_type": "markdown",
   "metadata": {},
   "source": [
    "But to tell the complete story, for each of these dihedrals, we should print what either FF has for those given atoms (i.e., not just the missing terms here, but all the terms for these atoms.)"
   ]
  },
  {
   "cell_type": "code",
   "execution_count": 447,
   "metadata": {
    "ExecuteTime": {
     "end_time": "2019-02-03T02:20:27.626142Z",
     "start_time": "2019-02-03T02:20:27.545121Z"
    }
   },
   "outputs": [],
   "source": [
    "def detail_missing(missing, df_one, df_two):\n",
    "\n",
    "    comprehensive_missing = pd.DataFrame()\n",
    "\n",
    "    for index, row in missing.iterrows():\n",
    "        one = df_one[\n",
    "            (df_one[\"atom1\"] == row[\"atom1\"])\n",
    "            & (df_one[\"atom2\"] == row[\"atom2\"])\n",
    "            & (df_one[\"atom3\"] == row[\"atom3\"])\n",
    "            & (df_one[\"atom4\"] == row[\"atom4\"])\n",
    "        ]\n",
    "\n",
    "        two = df_two[\n",
    "            (df_two[\"atom1\"] == row[\"atom1\"])\n",
    "            & (df_two[\"atom2\"] == row[\"atom2\"])\n",
    "            & (df_two[\"atom3\"] == row[\"atom3\"])\n",
    "            & (df_two[\"atom4\"] == row[\"atom4\"])\n",
    "        ]\n",
    "\n",
    "        this_dihedral_differences = one.merge(\n",
    "            two,\n",
    "            how=\"outer\",\n",
    "            on=[\"atom1\", \"atom2\", \"atom3\", \"atom4\", \"periodicity\", \"phase\"],\n",
    "        )\n",
    "        comprehensive_missing = comprehensive_missing.append(\n",
    "            this_dihedral_differences, ignore_index=True\n",
    "        )\n",
    "    comprehensive_missing = comprehensive_missing.replace(np.nan, \"--\", regex=True)\n",
    "\n",
    "\n",
    "    comprehensive_missing = comprehensive_missing.sort_values(by=[\"atom1\", \"atom2\", \"atom3\", \"atom4\", \"periodicity\"])\n",
    "    return comprehensive_missing[[\"atom1\", \"atom2\", \"atom3\", \"atom4\", \"periodicity\", \"phase\", \"height_x\", \"height_y\"]]"
   ]
  },
  {
   "cell_type": "code",
   "execution_count": 448,
   "metadata": {
    "ExecuteTime": {
     "end_time": "2019-02-03T02:20:27.737976Z",
     "start_time": "2019-02-03T02:20:27.628489Z"
    }
   },
   "outputs": [
    {
     "data": {
      "text/html": [
       "<div>\n",
       "<style scoped>\n",
       "    .dataframe tbody tr th:only-of-type {\n",
       "        vertical-align: middle;\n",
       "    }\n",
       "\n",
       "    .dataframe tbody tr th {\n",
       "        vertical-align: top;\n",
       "    }\n",
       "\n",
       "    .dataframe thead th {\n",
       "        text-align: right;\n",
       "    }\n",
       "</style>\n",
       "<table border=\"1\" class=\"dataframe\">\n",
       "  <thead>\n",
       "    <tr style=\"text-align: right;\">\n",
       "      <th></th>\n",
       "      <th>atom1</th>\n",
       "      <th>atom2</th>\n",
       "      <th>atom3</th>\n",
       "      <th>atom4</th>\n",
       "      <th>periodicity</th>\n",
       "      <th>phase</th>\n",
       "      <th>height_x</th>\n",
       "      <th>height_y</th>\n",
       "    </tr>\n",
       "  </thead>\n",
       "  <tbody>\n",
       "    <tr>\n",
       "      <th>1</th>\n",
       "      <td>H1</td>\n",
       "      <td>C1</td>\n",
       "      <td>C2</td>\n",
       "      <td>O2</td>\n",
       "      <td>1.0</td>\n",
       "      <td>0.0</td>\n",
       "      <td>0.25</td>\n",
       "      <td>--</td>\n",
       "    </tr>\n",
       "    <tr>\n",
       "      <th>0</th>\n",
       "      <td>H1</td>\n",
       "      <td>C1</td>\n",
       "      <td>C2</td>\n",
       "      <td>O2</td>\n",
       "      <td>3.0</td>\n",
       "      <td>0.0</td>\n",
       "      <td>0.00</td>\n",
       "      <td>0.16</td>\n",
       "    </tr>\n",
       "  </tbody>\n",
       "</table>\n",
       "</div>"
      ],
      "text/plain": [
       "   atom1  atom2  atom3  atom4  periodicity  phase  height_x height_y\n",
       "1    H1      C1    C2      O2          1.0    0.0      0.25       --\n",
       "0    H1      C1    C2      O2          3.0    0.0      0.00     0.16"
      ]
     },
     "execution_count": 448,
     "metadata": {},
     "output_type": "execute_result"
    }
   ],
   "source": [
    "detail_missing(missing_dihedrals, smirnoff, bgbg)"
   ]
  },
  {
   "cell_type": "markdown",
   "metadata": {},
   "source": [
    "## Work specifically on the interresidue dihedrals"
   ]
  },
  {
   "cell_type": "code",
   "execution_count": 455,
   "metadata": {
    "ExecuteTime": {
     "end_time": "2019-02-03T21:57:01.404705Z",
     "start_time": "2019-02-03T21:57:01.340274Z"
    }
   },
   "outputs": [],
   "source": [
    "interresidue_masks = [\n",
    "\":5@C2 :5@C1 :5@O1 :6@C4\",\n",
    "\":5@O5 :5@C1 :5@O1 :6@C4\",\n",
    "\":5@H1 :5@C1 :5@O1 :6@C4\",\n",
    "\":5@C1 :5@O1 :6@C4 :6@H4\",\n",
    "\":5@C1 :5@O1 :6@C4 :6@C3\",\n",
    "\":5@C1 :5@O1 :6@C4 :6@C5\",\n",
    "\":5@O1 :6@C4 :6@C3 :6@H3\",\n",
    "\":5@O1 :6@C4 :6@C3 :6@O3\",\n",
    "\":5@O1 :6@C4 :6@C3 :6@C2\",\n",
    "\":5@O1 :6@C4 :6@C5 :6@H5\",\n",
    "\":5@O1 :6@C4 :6@C5 :6@O5\",\n",
    "\":5@O1 :6@C4 :6@C5 :6@C6\",\n",
    "]"
   ]
  },
  {
   "cell_type": "code",
   "execution_count": 458,
   "metadata": {
    "ExecuteTime": {
     "end_time": "2019-02-03T21:58:45.564626Z",
     "start_time": "2019-02-03T21:58:45.492698Z"
    }
   },
   "outputs": [],
   "source": [
    "def organize_interresidue_dihedrals(masks, prmtop):\n",
    "    df = pd.DataFrame()\n",
    "    for index, mask in enumerate(masks):\n",
    "        atoms = mask.split(\" \")\n",
    "        mask = f\":4@{atoms[0]} :4@{atoms[1]} :4@{atoms[2]} :4@{atoms[3]}\"\n",
    "        parmed_output = str(pmd.tools.actions.printDihedrals(prmtop, mask))\n",
    "        parmed_df = parse_parmed_output(parmed_output)\n",
    "        df = df.append(parmed_df, ignore_index=True)\n",
    "        df = df.round(decimals = 2)\n",
    "    return df"
   ]
  },
  {
   "cell_type": "code",
   "execution_count": 462,
   "metadata": {
    "ExecuteTime": {
     "end_time": "2019-02-03T21:59:49.943651Z",
     "start_time": "2019-02-03T21:59:49.527161Z"
    }
   },
   "outputs": [],
   "source": [
    "smirnoff_interresidue = organize_interresidue_dihedrals(interresidue_masks, smirnoff_prmtop)\n",
    "smirnoff_interresidue.drop_duplicates(inplace=True)\n",
    "\n",
    "bgbg_interresidue = organize_interresidue_dihedrals(interresidue_masks, bgbg_prmtop)\n",
    "bgbg_interresidue.drop_duplicates(inplace=True)"
   ]
  },
  {
   "cell_type": "code",
   "execution_count": 463,
   "metadata": {
    "ExecuteTime": {
     "end_time": "2019-02-03T22:00:06.239338Z",
     "start_time": "2019-02-03T22:00:06.144977Z"
    }
   },
   "outputs": [],
   "source": [
    "interresidue_differences = differing_rows(smirnoff_interresidue, bgbg_interresidue)"
   ]
  },
  {
   "cell_type": "code",
   "execution_count": 464,
   "metadata": {
    "ExecuteTime": {
     "end_time": "2019-02-03T22:00:09.949043Z",
     "start_time": "2019-02-03T22:00:09.878171Z"
    }
   },
   "outputs": [
    {
     "data": {
      "text/html": [
       "<div>\n",
       "<style scoped>\n",
       "    .dataframe tbody tr th:only-of-type {\n",
       "        vertical-align: middle;\n",
       "    }\n",
       "\n",
       "    .dataframe tbody tr th {\n",
       "        vertical-align: top;\n",
       "    }\n",
       "\n",
       "    .dataframe thead th {\n",
       "        text-align: right;\n",
       "    }\n",
       "</style>\n",
       "<table border=\"1\" class=\"dataframe\">\n",
       "  <thead>\n",
       "    <tr style=\"text-align: right;\">\n",
       "      <th></th>\n",
       "      <th>height_one</th>\n",
       "      <th>atom1</th>\n",
       "      <th>atom2</th>\n",
       "      <th>atom3</th>\n",
       "      <th>atom4</th>\n",
       "      <th>height_two</th>\n",
       "      <th>periodicity</th>\n",
       "      <th>phase</th>\n",
       "    </tr>\n",
       "  </thead>\n",
       "  <tbody>\n",
       "  </tbody>\n",
       "</table>\n",
       "</div>"
      ],
      "text/plain": [
       "Empty DataFrame\n",
       "Columns: [height_one, atom1, atom2, atom3, atom4, height_two, periodicity, phase]\n",
       "Index: []"
      ]
     },
     "execution_count": 464,
     "metadata": {},
     "output_type": "execute_result"
    }
   ],
   "source": [
    "interresidue_differences.head()"
   ]
  },
  {
   "cell_type": "markdown",
   "metadata": {},
   "source": [
    "# Now, test on BG2BG2"
   ]
  },
  {
   "cell_type": "code",
   "execution_count": 449,
   "metadata": {
    "ExecuteTime": {
     "end_time": "2019-02-03T02:20:28.068158Z",
     "start_time": "2019-02-03T02:20:27.740560Z"
    }
   },
   "outputs": [],
   "source": [
    "differences = differing_rows(smirnoff, bg2bg2)\n",
    "missing_dihedrals = missing(differences)\n",
    "detailed = detail_missing(missing_dihedrals, smirnoff, bg2bg2)"
   ]
  },
  {
   "cell_type": "code",
   "execution_count": 450,
   "metadata": {
    "ExecuteTime": {
     "end_time": "2019-02-03T02:20:28.099111Z",
     "start_time": "2019-02-03T02:20:28.069974Z"
    }
   },
   "outputs": [],
   "source": [
    "detailed.to_clipboard(excel=True, index=False)"
   ]
  },
  {
   "cell_type": "code",
   "execution_count": 453,
   "metadata": {
    "ExecuteTime": {
     "end_time": "2019-02-03T02:20:32.949568Z",
     "start_time": "2019-02-03T02:20:32.890252Z"
    }
   },
   "outputs": [],
   "source": [
    "detailed.to_csv(\"10b.csv\", index=False)"
   ]
  },
  {
   "cell_type": "code",
   "execution_count": 465,
   "metadata": {
    "ExecuteTime": {
     "end_time": "2019-02-03T22:00:30.459542Z",
     "start_time": "2019-02-03T22:00:30.188051Z"
    }
   },
   "outputs": [],
   "source": [
    "bg2bg2_interresidue = organize_interresidue_dihedrals(interresidue_masks, bg2bg2_prmtop)\n",
    "bg2bg2_interresidue.drop_duplicates(inplace=True)"
   ]
  },
  {
   "cell_type": "code",
   "execution_count": 466,
   "metadata": {
    "ExecuteTime": {
     "end_time": "2019-02-03T22:00:46.583583Z",
     "start_time": "2019-02-03T22:00:46.476543Z"
    }
   },
   "outputs": [],
   "source": [
    "interresidue_differences = differing_rows(smirnoff_interresidue, bg2bg2_interresidue)"
   ]
  },
  {
   "cell_type": "code",
   "execution_count": 468,
   "metadata": {
    "ExecuteTime": {
     "end_time": "2019-02-03T22:01:08.928562Z",
     "start_time": "2019-02-03T22:01:08.865692Z"
    }
   },
   "outputs": [],
   "source": [
    "missing_interresidue = missing(interresidue_differences)"
   ]
  },
  {
   "cell_type": "code",
   "execution_count": 469,
   "metadata": {
    "ExecuteTime": {
     "end_time": "2019-02-03T22:01:38.735667Z",
     "start_time": "2019-02-03T22:01:38.567604Z"
    }
   },
   "outputs": [],
   "source": [
    "detailed_interresidue = detail_missing(missing_interresidue, smirnoff_interresidue, bg2bg2_interresidue)"
   ]
  },
  {
   "cell_type": "code",
   "execution_count": 470,
   "metadata": {
    "ExecuteTime": {
     "end_time": "2019-02-03T22:01:41.354704Z",
     "start_time": "2019-02-03T22:01:41.265990Z"
    }
   },
   "outputs": [
    {
     "data": {
      "text/html": [
       "<div>\n",
       "<style scoped>\n",
       "    .dataframe tbody tr th:only-of-type {\n",
       "        vertical-align: middle;\n",
       "    }\n",
       "\n",
       "    .dataframe tbody tr th {\n",
       "        vertical-align: top;\n",
       "    }\n",
       "\n",
       "    .dataframe thead th {\n",
       "        text-align: right;\n",
       "    }\n",
       "</style>\n",
       "<table border=\"1\" class=\"dataframe\">\n",
       "  <thead>\n",
       "    <tr style=\"text-align: right;\">\n",
       "      <th></th>\n",
       "      <th>atom1</th>\n",
       "      <th>atom2</th>\n",
       "      <th>atom3</th>\n",
       "      <th>atom4</th>\n",
       "      <th>periodicity</th>\n",
       "      <th>phase</th>\n",
       "      <th>height_x</th>\n",
       "      <th>height_y</th>\n",
       "    </tr>\n",
       "  </thead>\n",
       "  <tbody>\n",
       "    <tr>\n",
       "      <th>5</th>\n",
       "      <td>C1</td>\n",
       "      <td>O1</td>\n",
       "      <td>C4</td>\n",
       "      <td>C3</td>\n",
       "      <td>1.0</td>\n",
       "      <td>0.0</td>\n",
       "      <td>--</td>\n",
       "      <td>0.00</td>\n",
       "    </tr>\n",
       "    <tr>\n",
       "      <th>4</th>\n",
       "      <td>C1</td>\n",
       "      <td>O1</td>\n",
       "      <td>C4</td>\n",
       "      <td>C3</td>\n",
       "      <td>2.0</td>\n",
       "      <td>0.0</td>\n",
       "      <td>0.1</td>\n",
       "      <td>0.16</td>\n",
       "    </tr>\n",
       "    <tr>\n",
       "      <th>3</th>\n",
       "      <td>C1</td>\n",
       "      <td>O1</td>\n",
       "      <td>C4</td>\n",
       "      <td>C3</td>\n",
       "      <td>3.0</td>\n",
       "      <td>0.0</td>\n",
       "      <td>0.38</td>\n",
       "      <td>0.24</td>\n",
       "    </tr>\n",
       "    <tr>\n",
       "      <th>8</th>\n",
       "      <td>C1</td>\n",
       "      <td>O1</td>\n",
       "      <td>C4</td>\n",
       "      <td>C5</td>\n",
       "      <td>1.0</td>\n",
       "      <td>0.0</td>\n",
       "      <td>--</td>\n",
       "      <td>0.00</td>\n",
       "    </tr>\n",
       "    <tr>\n",
       "      <th>7</th>\n",
       "      <td>C1</td>\n",
       "      <td>O1</td>\n",
       "      <td>C4</td>\n",
       "      <td>C5</td>\n",
       "      <td>2.0</td>\n",
       "      <td>0.0</td>\n",
       "      <td>0.1</td>\n",
       "      <td>0.16</td>\n",
       "    </tr>\n",
       "    <tr>\n",
       "      <th>6</th>\n",
       "      <td>C1</td>\n",
       "      <td>O1</td>\n",
       "      <td>C4</td>\n",
       "      <td>C5</td>\n",
       "      <td>3.0</td>\n",
       "      <td>0.0</td>\n",
       "      <td>0.38</td>\n",
       "      <td>0.24</td>\n",
       "    </tr>\n",
       "    <tr>\n",
       "      <th>2</th>\n",
       "      <td>C2</td>\n",
       "      <td>C1</td>\n",
       "      <td>O1</td>\n",
       "      <td>C4</td>\n",
       "      <td>1.0</td>\n",
       "      <td>0.0</td>\n",
       "      <td>--</td>\n",
       "      <td>0.00</td>\n",
       "    </tr>\n",
       "    <tr>\n",
       "      <th>1</th>\n",
       "      <td>C2</td>\n",
       "      <td>C1</td>\n",
       "      <td>O1</td>\n",
       "      <td>C4</td>\n",
       "      <td>2.0</td>\n",
       "      <td>0.0</td>\n",
       "      <td>0.1</td>\n",
       "      <td>0.16</td>\n",
       "    </tr>\n",
       "    <tr>\n",
       "      <th>0</th>\n",
       "      <td>C2</td>\n",
       "      <td>C1</td>\n",
       "      <td>O1</td>\n",
       "      <td>C4</td>\n",
       "      <td>3.0</td>\n",
       "      <td>0.0</td>\n",
       "      <td>0.38</td>\n",
       "      <td>0.24</td>\n",
       "    </tr>\n",
       "    <tr>\n",
       "      <th>11</th>\n",
       "      <td>O1</td>\n",
       "      <td>C4</td>\n",
       "      <td>C3</td>\n",
       "      <td>O3</td>\n",
       "      <td>1.0</td>\n",
       "      <td>0.0</td>\n",
       "      <td>--</td>\n",
       "      <td>0.02</td>\n",
       "    </tr>\n",
       "    <tr>\n",
       "      <th>10</th>\n",
       "      <td>O1</td>\n",
       "      <td>C4</td>\n",
       "      <td>C3</td>\n",
       "      <td>O3</td>\n",
       "      <td>2.0</td>\n",
       "      <td>0.0</td>\n",
       "      <td>1.18</td>\n",
       "      <td>0.00</td>\n",
       "    </tr>\n",
       "    <tr>\n",
       "      <th>9</th>\n",
       "      <td>O1</td>\n",
       "      <td>C4</td>\n",
       "      <td>C3</td>\n",
       "      <td>O3</td>\n",
       "      <td>3.0</td>\n",
       "      <td>0.0</td>\n",
       "      <td>0.14</td>\n",
       "      <td>1.01</td>\n",
       "    </tr>\n",
       "    <tr>\n",
       "      <th>14</th>\n",
       "      <td>O1</td>\n",
       "      <td>C4</td>\n",
       "      <td>C5</td>\n",
       "      <td>O5</td>\n",
       "      <td>1.0</td>\n",
       "      <td>0.0</td>\n",
       "      <td>--</td>\n",
       "      <td>0.17</td>\n",
       "    </tr>\n",
       "    <tr>\n",
       "      <th>13</th>\n",
       "      <td>O1</td>\n",
       "      <td>C4</td>\n",
       "      <td>C5</td>\n",
       "      <td>O5</td>\n",
       "      <td>2.0</td>\n",
       "      <td>0.0</td>\n",
       "      <td>1.18</td>\n",
       "      <td>0.00</td>\n",
       "    </tr>\n",
       "    <tr>\n",
       "      <th>12</th>\n",
       "      <td>O1</td>\n",
       "      <td>C4</td>\n",
       "      <td>C5</td>\n",
       "      <td>O5</td>\n",
       "      <td>3.0</td>\n",
       "      <td>0.0</td>\n",
       "      <td>0.14</td>\n",
       "      <td>0.00</td>\n",
       "    </tr>\n",
       "  </tbody>\n",
       "</table>\n",
       "</div>"
      ],
      "text/plain": [
       "    atom1  atom2  atom3  atom4  periodicity  phase height_x  height_y\n",
       "5     C1      O1    C4      C3          1.0    0.0       --      0.00\n",
       "4     C1      O1    C4      C3          2.0    0.0      0.1      0.16\n",
       "3     C1      O1    C4      C3          3.0    0.0     0.38      0.24\n",
       "8     C1      O1    C4      C5          1.0    0.0       --      0.00\n",
       "7     C1      O1    C4      C5          2.0    0.0      0.1      0.16\n",
       "6     C1      O1    C4      C5          3.0    0.0     0.38      0.24\n",
       "2     C2      C1    O1      C4          1.0    0.0       --      0.00\n",
       "1     C2      C1    O1      C4          2.0    0.0      0.1      0.16\n",
       "0     C2      C1    O1      C4          3.0    0.0     0.38      0.24\n",
       "11    O1      C4    C3      O3          1.0    0.0       --      0.02\n",
       "10    O1      C4    C3      O3          2.0    0.0     1.18      0.00\n",
       "9     O1      C4    C3      O3          3.0    0.0     0.14      1.01\n",
       "14    O1      C4    C5      O5          1.0    0.0       --      0.17\n",
       "13    O1      C4    C5      O5          2.0    0.0     1.18      0.00\n",
       "12    O1      C4    C5      O5          3.0    0.0     0.14      0.00"
      ]
     },
     "execution_count": 470,
     "metadata": {},
     "output_type": "execute_result"
    }
   ],
   "source": [
    "detailed_interresidue"
   ]
  },
  {
   "cell_type": "code",
   "execution_count": 473,
   "metadata": {
    "ExecuteTime": {
     "end_time": "2019-02-03T22:04:39.515671Z",
     "start_time": "2019-02-03T22:04:39.451937Z"
    }
   },
   "outputs": [],
   "source": [
    "detailed_interresidue.to_csv(\"smirnoff_bg2bg_interresidue_dihedral_differences.csv\", index=False)"
   ]
  },
  {
   "cell_type": "code",
   "execution_count": null,
   "metadata": {},
   "outputs": [],
   "source": []
  }
 ],
 "metadata": {
  "kernelspec": {
   "display_name": "Python [default]",
   "language": "python",
   "name": "python3"
  },
  "language_info": {
   "codemirror_mode": {
    "name": "ipython",
    "version": 3
   },
   "file_extension": ".py",
   "mimetype": "text/x-python",
   "name": "python",
   "nbconvert_exporter": "python",
   "pygments_lexer": "ipython3",
   "version": "3.6.4"
  }
 },
 "nbformat": 4,
 "nbformat_minor": 2
}
