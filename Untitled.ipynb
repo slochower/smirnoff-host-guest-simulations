{
 "cells": [
  {
   "cell_type": "code",
   "execution_count": 1,
   "metadata": {},
   "outputs": [],
   "source": [
    "# Get systems"
   ]
  },
  {
   "cell_type": "markdown",
   "metadata": {},
   "source": [
    "0. `rsync`\n",
    "1. Get all the systems.\n",
    "\n",
    "2. For each system:\n",
    "\n",
    "    - Convert\n",
    "    - Determine if alpha or beta\n",
    "    - Determine H and G anchor atoms\n",
    "    - Setup simulation time\n",
    "    - Get total simulation time"
   ]
  },
  {
   "cell_type": "code",
   "execution_count": null,
   "metadata": {},
   "outputs": [],
   "source": []
  }
 ],
 "metadata": {
  "kernelspec": {
   "display_name": "Python [conda env:smirnoff-paprika]",
   "language": "python",
   "name": "conda-env-smirnoff-paprika-py"
  },
  "language_info": {
   "codemirror_mode": {
    "name": "ipython",
    "version": 3
   },
   "file_extension": ".py",
   "mimetype": "text/x-python",
   "name": "python",
   "nbconvert_exporter": "python",
   "pygments_lexer": "ipython3",
   "version": "3.6.5"
  }
 },
 "nbformat": 4,
 "nbformat_minor": 2
}
