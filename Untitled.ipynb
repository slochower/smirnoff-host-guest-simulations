{
 "cells": [
  {
   "cell_type": "markdown",
   "metadata": {},
   "source": [
    "# Setup simulations based on the process I used for SAMPLing"
   ]
  },
  {
   "cell_type": "code",
   "execution_count": 2,
   "metadata": {
    "ExecuteTime": {
     "end_time": "2018-05-18T20:02:54.076546Z",
     "start_time": "2018-05-18T20:02:53.950471Z"
    }
   },
   "outputs": [],
   "source": [
    "import glob as glob\n",
    "import os as os\n",
    "import subprocess as sp\n",
    "import numpy as np\n",
    "\n",
    "import parmed as pmd\n",
    "from paprika.align import zalign, rotate_about_z, get_theta\n",
    "from paprika.dummy import add_dummy, write_dummy_mol2, write_dummy_frcmod\n",
    "from paprika.tleap import System"
   ]
  },
  {
   "cell_type": "markdown",
   "metadata": {},
   "source": [
    "Niel ran...\n",
    "\n",
    "- 1 microsecond on endpoints\n",
    "- Minimum 5 ns, maximum 50 ns on interior windows, with convergence value for attach and release 0.02, and 0.1 for pull (with TI)"
   ]
  },
  {
   "cell_type": "markdown",
   "metadata": {},
   "source": [
    "First, I'd like to clean the `confirm-original` and `smirnoff` directories of output files because I can't remember what I was doing before we switched to SAMPLing. I *think* I recall saying that I ran simulations quickly, but accidentally omitted the equilibration phase. This will be a good opportunity to do it consistently, and log the process."
   ]
  },
  {
   "cell_type": "code",
   "execution_count": 10,
   "metadata": {
    "ExecuteTime": {
     "end_time": "2018-05-18T20:31:59.418158Z",
     "start_time": "2018-05-18T20:31:59.407936Z"
    }
   },
   "outputs": [],
   "source": [
    "files = ['minimize.in',\n",
    "        'minimize.mdinfo',\n",
    "        'minimize.out',\n",
    "        'minimize.rst7',\n",
    "        'traj.in',\n",
    "        'traj.mden',\n",
    "        'traj.nc',\n",
    "        'traj.out',\n",
    "        'traj.rst7']\n",
    "\n",
    "directories = glob.glob('systems/a-bam-p/confirm-original/*') + \\\n",
    "              glob.glob('systems/a-bam-p/smirnoff/*')"
   ]
  },
  {
   "cell_type": "code",
   "execution_count": 11,
   "metadata": {
    "ExecuteTime": {
     "end_time": "2018-05-18T20:31:59.614419Z",
     "start_time": "2018-05-18T20:31:59.608947Z"
    }
   },
   "outputs": [
    {
     "data": {
      "text/plain": [
       "['systems/a-bam-p/confirm-original/p045',\n",
       " 'systems/a-bam-p/confirm-original/p028',\n",
       " 'systems/a-bam-p/confirm-original/a004',\n",
       " 'systems/a-bam-p/confirm-original/a001',\n",
       " 'systems/a-bam-p/confirm-original/p013',\n",
       " 'systems/a-bam-p/confirm-original/p016',\n",
       " 'systems/a-bam-p/confirm-original/a012',\n",
       " 'systems/a-bam-p/confirm-original/p030',\n",
       " 'systems/a-bam-p/confirm-original/r000',\n",
       " 'systems/a-bam-p/confirm-original/p042',\n",
       " 'systems/a-bam-p/confirm-original/p024',\n",
       " 'systems/a-bam-p/confirm-original/p001',\n",
       " 'systems/a-bam-p/confirm-original/p025',\n",
       " 'systems/a-bam-p/confirm-original/p036',\n",
       " 'systems/a-bam-p/confirm-original/a006',\n",
       " 'systems/a-bam-p/confirm-original/p029',\n",
       " 'systems/a-bam-p/confirm-original/p023',\n",
       " 'systems/a-bam-p/confirm-original/a008',\n",
       " 'systems/a-bam-p/confirm-original/p011',\n",
       " 'systems/a-bam-p/confirm-original/p035',\n",
       " 'systems/a-bam-p/confirm-original/p017',\n",
       " 'systems/a-bam-p/confirm-original/p007',\n",
       " 'systems/a-bam-p/confirm-original/p037',\n",
       " 'systems/a-bam-p/confirm-original/p031',\n",
       " 'systems/a-bam-p/confirm-original/p022',\n",
       " 'systems/a-bam-p/confirm-original/p034',\n",
       " 'systems/a-bam-p/confirm-original/a011',\n",
       " 'systems/a-bam-p/confirm-original/p000',\n",
       " 'systems/a-bam-p/confirm-original/p015',\n",
       " 'systems/a-bam-p/confirm-original/p019',\n",
       " 'systems/a-bam-p/confirm-original/p008',\n",
       " 'systems/a-bam-p/confirm-original/p012',\n",
       " 'systems/a-bam-p/confirm-original/a002',\n",
       " 'systems/a-bam-p/confirm-original/p009',\n",
       " 'systems/a-bam-p/confirm-original/p004',\n",
       " 'systems/a-bam-p/confirm-original/p021',\n",
       " 'systems/a-bam-p/confirm-original/p005',\n",
       " 'systems/a-bam-p/confirm-original/p020',\n",
       " 'systems/a-bam-p/confirm-original/p039',\n",
       " 'systems/a-bam-p/confirm-original/a005',\n",
       " 'systems/a-bam-p/confirm-original/a013',\n",
       " 'systems/a-bam-p/confirm-original/p033',\n",
       " 'systems/a-bam-p/confirm-original/a009',\n",
       " 'systems/a-bam-p/confirm-original/p041',\n",
       " 'systems/a-bam-p/confirm-original/a000',\n",
       " 'systems/a-bam-p/confirm-original/p026',\n",
       " 'systems/a-bam-p/confirm-original/p002',\n",
       " 'systems/a-bam-p/confirm-original/p014',\n",
       " 'systems/a-bam-p/confirm-original/p010',\n",
       " 'systems/a-bam-p/confirm-original/p027',\n",
       " 'systems/a-bam-p/confirm-original/p038',\n",
       " 'systems/a-bam-p/confirm-original/p043',\n",
       " 'systems/a-bam-p/confirm-original/a010',\n",
       " 'systems/a-bam-p/confirm-original/a007',\n",
       " 'systems/a-bam-p/confirm-original/p018',\n",
       " 'systems/a-bam-p/confirm-original/a003',\n",
       " 'systems/a-bam-p/confirm-original/p040',\n",
       " 'systems/a-bam-p/confirm-original/p044',\n",
       " 'systems/a-bam-p/confirm-original/p006',\n",
       " 'systems/a-bam-p/confirm-original/p003',\n",
       " 'systems/a-bam-p/confirm-original/p032',\n",
       " 'systems/a-bam-p/smirnoff/p045',\n",
       " 'systems/a-bam-p/smirnoff/p028',\n",
       " 'systems/a-bam-p/smirnoff/a004',\n",
       " 'systems/a-bam-p/smirnoff/a001',\n",
       " 'systems/a-bam-p/smirnoff/p013',\n",
       " 'systems/a-bam-p/smirnoff/p016',\n",
       " 'systems/a-bam-p/smirnoff/a012',\n",
       " 'systems/a-bam-p/smirnoff/p030',\n",
       " 'systems/a-bam-p/smirnoff/r000',\n",
       " 'systems/a-bam-p/smirnoff/p042',\n",
       " 'systems/a-bam-p/smirnoff/p024',\n",
       " 'systems/a-bam-p/smirnoff/p001',\n",
       " 'systems/a-bam-p/smirnoff/p025',\n",
       " 'systems/a-bam-p/smirnoff/p036',\n",
       " 'systems/a-bam-p/smirnoff/a006',\n",
       " 'systems/a-bam-p/smirnoff/p029',\n",
       " 'systems/a-bam-p/smirnoff/p023',\n",
       " 'systems/a-bam-p/smirnoff/a008',\n",
       " 'systems/a-bam-p/smirnoff/p011',\n",
       " 'systems/a-bam-p/smirnoff/p035',\n",
       " 'systems/a-bam-p/smirnoff/p017',\n",
       " 'systems/a-bam-p/smirnoff/p007',\n",
       " 'systems/a-bam-p/smirnoff/p037',\n",
       " 'systems/a-bam-p/smirnoff/p031',\n",
       " 'systems/a-bam-p/smirnoff/p022',\n",
       " 'systems/a-bam-p/smirnoff/p034',\n",
       " 'systems/a-bam-p/smirnoff/a011',\n",
       " 'systems/a-bam-p/smirnoff/p000',\n",
       " 'systems/a-bam-p/smirnoff/p015',\n",
       " 'systems/a-bam-p/smirnoff/p019',\n",
       " 'systems/a-bam-p/smirnoff/p008',\n",
       " 'systems/a-bam-p/smirnoff/p012',\n",
       " 'systems/a-bam-p/smirnoff/a002',\n",
       " 'systems/a-bam-p/smirnoff/p009',\n",
       " 'systems/a-bam-p/smirnoff/p004',\n",
       " 'systems/a-bam-p/smirnoff/p021',\n",
       " 'systems/a-bam-p/smirnoff/p005',\n",
       " 'systems/a-bam-p/smirnoff/p020',\n",
       " 'systems/a-bam-p/smirnoff/p039',\n",
       " 'systems/a-bam-p/smirnoff/a005',\n",
       " 'systems/a-bam-p/smirnoff/a013',\n",
       " 'systems/a-bam-p/smirnoff/p033',\n",
       " 'systems/a-bam-p/smirnoff/a009',\n",
       " 'systems/a-bam-p/smirnoff/p041',\n",
       " 'systems/a-bam-p/smirnoff/a000',\n",
       " 'systems/a-bam-p/smirnoff/p026',\n",
       " 'systems/a-bam-p/smirnoff/p002',\n",
       " 'systems/a-bam-p/smirnoff/p014',\n",
       " 'systems/a-bam-p/smirnoff/p010',\n",
       " 'systems/a-bam-p/smirnoff/p027',\n",
       " 'systems/a-bam-p/smirnoff/p038',\n",
       " 'systems/a-bam-p/smirnoff/p043',\n",
       " 'systems/a-bam-p/smirnoff/a010',\n",
       " 'systems/a-bam-p/smirnoff/a007',\n",
       " 'systems/a-bam-p/smirnoff/p018',\n",
       " 'systems/a-bam-p/smirnoff/a003',\n",
       " 'systems/a-bam-p/smirnoff/p040',\n",
       " 'systems/a-bam-p/smirnoff/p044',\n",
       " 'systems/a-bam-p/smirnoff/p006',\n",
       " 'systems/a-bam-p/smirnoff/p003',\n",
       " 'systems/a-bam-p/smirnoff/p032']"
      ]
     },
     "execution_count": 11,
     "metadata": {},
     "output_type": "execute_result"
    }
   ],
   "source": [
    "for directory in directories:\n",
    "    "
   ]
  },
  {
   "cell_type": "code",
   "execution_count": null,
   "metadata": {},
   "outputs": [],
   "source": []
  }
 ],
 "metadata": {
  "kernelspec": {
   "display_name": "Python [conda env:smirnoff-host-guest]",
   "language": "python",
   "name": "conda-env-smirnoff-host-guest-py"
  },
  "language_info": {
   "codemirror_mode": {
    "name": "ipython",
    "version": 3
   },
   "file_extension": ".py",
   "mimetype": "text/x-python",
   "name": "python",
   "nbconvert_exporter": "python",
   "pygments_lexer": "ipython3",
   "version": "3.6.4"
  }
 },
 "nbformat": 4,
 "nbformat_minor": 2
}
