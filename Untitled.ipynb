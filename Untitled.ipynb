{
 "cells": [
  {
   "cell_type": "code",
   "execution_count": 1,
   "metadata": {
    "ExecuteTime": {
     "end_time": "2018-03-13T19:25:53.890745Z",
     "start_time": "2018-03-13T19:25:53.673278Z"
    }
   },
   "outputs": [],
   "source": [
    "import paprika"
   ]
  },
  {
   "cell_type": "code",
   "execution_count": 2,
   "metadata": {
    "ExecuteTime": {
     "end_time": "2018-03-13T19:25:56.094362Z",
     "start_time": "2018-03-13T19:25:56.089798Z"
    }
   },
   "outputs": [
    {
     "name": "stdout",
     "output_type": "stream",
     "text": [
      "Help on package paprika:\n",
      "\n",
      "NAME\n",
      "    paprika - The pAPRika package sets up and performs attach-pull-release calculations.\n",
      "\n",
      "PACKAGE CONTENTS\n",
      "    align\n",
      "    amber\n",
      "    analysis\n",
      "    build\n",
      "    dummy\n",
      "    openmm_simulate\n",
      "    restraints\n",
      "    utils\n",
      "\n",
      "DATA\n",
      "    error = b''\n",
      "    git_describe = '2f55d6f'\n",
      "    logger = <RootLogger root (DEBUG)>\n",
      "    output = b'2f55d6f\\n'\n",
      "    p = <subprocess.Popen object>\n",
      "\n",
      "VERSION\n",
      "    2f55d6f\n",
      "\n",
      "FILE\n",
      "    /home/dslochower/data/applications/anaconda3/envs/smirnoff-paprika/lib/python3.6/site-packages/paprika/__init__.py\n",
      "\n",
      "\n"
     ]
    }
   ],
   "source": [
    "help(paprika)"
   ]
  },
  {
   "cell_type": "code",
   "execution_count": 8,
   "metadata": {
    "ExecuteTime": {
     "end_time": "2018-03-13T19:28:20.000747Z",
     "start_time": "2018-03-13T19:28:19.991825Z"
    }
   },
   "outputs": [
    {
     "ename": "AttributeError",
     "evalue": "module 'paprika' has no attribute 'dummy'",
     "output_type": "error",
     "traceback": [
      "\u001b[0;31m---------------------------------------------------------------------------\u001b[0m",
      "\u001b[0;31mAttributeError\u001b[0m                            Traceback (most recent call last)",
      "\u001b[0;32m<ipython-input-8-064ffbd45abf>\u001b[0m in \u001b[0;36m<module>\u001b[0;34m()\u001b[0m\n\u001b[0;32m----> 1\u001b[0;31m \u001b[0mpaprika\u001b[0m\u001b[0;34m.\u001b[0m\u001b[0mdummy\u001b[0m\u001b[0;34m\u001b[0m\u001b[0m\n\u001b[0m",
      "\u001b[0;31mAttributeError\u001b[0m: module 'paprika' has no attribute 'dummy'"
     ]
    }
   ],
   "source": [
    "paprika.dummy"
   ]
  },
  {
   "cell_type": "code",
   "execution_count": 9,
   "metadata": {
    "ExecuteTime": {
     "end_time": "2018-03-13T19:28:47.547247Z",
     "start_time": "2018-03-13T19:28:47.544892Z"
    }
   },
   "outputs": [],
   "source": [
    "import numpy as np"
   ]
  },
  {
   "cell_type": "code",
   "execution_count": 10,
   "metadata": {
    "ExecuteTime": {
     "end_time": "2018-03-13T19:29:12.071896Z",
     "start_time": "2018-03-13T19:29:12.055499Z"
    }
   },
   "outputs": [
    {
     "data": {
      "text/plain": [
       "-1.3440682790845309"
      ]
     },
     "execution_count": 10,
     "metadata": {},
     "output_type": "execute_result"
    }
   ],
   "source": [
    "np.random.normal()"
   ]
  },
  {
   "cell_type": "code",
   "execution_count": 12,
   "metadata": {
    "ExecuteTime": {
     "end_time": "2018-03-13T19:30:41.745234Z",
     "start_time": "2018-03-13T19:30:40.408568Z"
    }
   },
   "outputs": [
    {
     "name": "stderr",
     "output_type": "stream",
     "text": [
      "IOPub data rate exceeded.\n",
      "The notebook server will temporarily stop sending output\n",
      "to the client in order to avoid crashing it.\n",
      "To change this limit, set the config variable\n",
      "`--NotebookApp.iopub_data_rate_limit`.\n",
      "\n",
      "Current values:\n",
      "NotebookApp.iopub_data_rate_limit=1000000.0 (bytes/sec)\n",
      "NotebookApp.rate_limit_window=3.0 (secs)\n",
      "\n"
     ]
    }
   ],
   "source": [
    "help(np)"
   ]
  },
  {
   "cell_type": "code",
   "execution_count": null,
   "metadata": {},
   "outputs": [],
   "source": []
  }
 ],
 "metadata": {
  "kernelspec": {
   "display_name": "Python [conda env:smirnoff-paprika]",
   "language": "python",
   "name": "conda-env-smirnoff-paprika-py"
  },
  "language_info": {
   "codemirror_mode": {
    "name": "ipython",
    "version": 3
   },
   "file_extension": ".py",
   "mimetype": "text/x-python",
   "name": "python",
   "nbconvert_exporter": "python",
   "pygments_lexer": "ipython3",
   "version": "3.6.4"
  }
 },
 "nbformat": 4,
 "nbformat_minor": 2
}
