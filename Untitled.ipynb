{
 "cells": [
  {
   "cell_type": "code",
   "execution_count": 60,
   "metadata": {},
   "outputs": [
    {
     "name": "stdout",
     "output_type": "stream",
     "text": [
      "The autoreload extension is already loaded. To reload it, use:\n",
      "  %reload_ext autoreload\n",
      "The blackcellmagic extension is already loaded. To reload it, use:\n",
      "  %reload_ext blackcellmagic\n"
     ]
    }
   ],
   "source": [
    "%load_ext autoreload\n",
    "%load_ext blackcellmagic\n",
    "%autoreload 2\n",
    "\n",
    "import os as os\n",
    "\n",
    "from rsync import rsync\n",
    "from smirnovert.convert import convert"
   ]
  },
  {
   "cell_type": "markdown",
   "metadata": {},
   "source": [
    "# Get all the systems"
   ]
  },
  {
   "cell_type": "code",
   "execution_count": 46,
   "metadata": {},
   "outputs": [],
   "source": [
    "systems = \"\"\"./a-bam-p\n",
    "./a-bam-s\n",
    "./a-but-p\n",
    "./a-but-s\n",
    "./a-cbu-p\n",
    "./a-chp-p\n",
    "./a-cbu-s\n",
    "./a-chp-s\n",
    "./a-cpe-p\n",
    "./a-coc-p\n",
    "./a-coc-s\n",
    "./a-cpe-s\n",
    "./a-hep-p\n",
    "./a-ham-s\n",
    "./a-ham-p\n",
    "./a-hep-s\n",
    "./a-hp6-p\n",
    "./a-hex-p\n",
    "./a-hex-s\n",
    "./a-hp6-s\n",
    "./a-hx2-p\n",
    "./a-hpa-s\n",
    "./a-hpa-p\n",
    "./a-hx2-s\n",
    "./a-mba-p\n",
    "./a-hx3-s\n",
    "./a-hx3-p\n",
    "./a-mba-s\n",
    "./a-mhp-p\n",
    "./a-mha-p\n",
    "./a-mha-s\n",
    "./a-mhp-s\n",
    "./a-nmh-p\n",
    "./a-nmb-p\n",
    "./a-nmb-s\n",
    "./a-nmh-s\n",
    "./a-oct-p\n",
    "./a-oam-p\n",
    "./a-oam-s\n",
    "./a-oct-s\n",
    "./a-pnt-p\n",
    "./a-pam-p\n",
    "./a-pam-s\n",
    "./a-pnt-s\n",
    "./b-ben-s\n",
    "./a-xxxx-s\n",
    "./b-ben-p\n",
    "./b-cbu-p\n",
    "./b-cbu-s\n",
    "./b-chp-s\n",
    "./b-chp-p\n",
    "./b-coc-s\n",
    "./b-coc-p\n",
    "./b-cpe-s\n",
    "./b-cpe-p\n",
    "./b-ham-s\n",
    "./b-ham-p\n",
    "./b-hep-s\n",
    "./b-hep-p\n",
    "./b-hex-p\n",
    "./b-hex-s\n",
    "./b-m4c-s\n",
    "./b-m4c-p\n",
    "./b-m4t-p\n",
    "./b-m4t-s\n",
    "./b-mch-s\n",
    "./b-mha-s\n",
    "./b-mha-p\n",
    "./b-mch-p\n",
    "./b-mo3-s\n",
    "./b-mo4-p\n",
    "./b-mo4-s\n",
    "./b-mo3-p\n",
    "./b-mp3-s\n",
    "./b-mp4-s\n",
    "./b-mp4-p\n",
    "./b-mp3-p\n",
    "./b-oam-s\n",
    "./b-pb3-s\n",
    "./b-pb3-p\n",
    "./b-oam-p\n",
    "./b-pb4-s\n",
    "./b-pha-s\n",
    "./b-pb4-p\n",
    "./b-pha-p\n",
    "./b-pnt-s\n",
    "./b-pnt-p\"\"\"\n"
   ]
  },
  {
   "cell_type": "code",
   "execution_count": 47,
   "metadata": {},
   "outputs": [],
   "source": [
    "systems = systems.split(\"\\n\")\n"
   ]
  },
  {
   "cell_type": "code",
   "execution_count": 48,
   "metadata": {},
   "outputs": [],
   "source": [
    "systems = [i[2:] for i in systems]\n"
   ]
  },
  {
   "cell_type": "code",
   "execution_count": 49,
   "metadata": {},
   "outputs": [],
   "source": [
    "systems = [i for i in systems if \"xxxx\" not in i]\n"
   ]
  },
  {
   "cell_type": "code",
   "execution_count": 50,
   "metadata": {},
   "outputs": [],
   "source": [
    "for system in systems:\n",
    "    rsync(system)\n"
   ]
  },
  {
   "cell_type": "markdown",
   "metadata": {},
   "source": [
    "# Convert the systems to `smirnoff99Frosst` using `smirnovert`"
   ]
  },
  {
   "cell_type": "code",
   "execution_count": 67,
   "metadata": {},
   "outputs": [
    {
     "ename": "OSError",
     "evalue": "systems/a-bam-p/smirnofffull.hmr.gaff.topo does not exist",
     "output_type": "error",
     "traceback": [
      "\u001b[0;31m---------------------------------------------------------------------------\u001b[0m",
      "\u001b[0;31mOSError\u001b[0m                                   Traceback (most recent call last)",
      "\u001b[0;32m<ipython-input-67-ebce6524d043>\u001b[0m in \u001b[0;36m<module>\u001b[0;34m()\u001b[0m\n\u001b[1;32m     19\u001b[0m         \u001b[0mreference_inpcrd\u001b[0m\u001b[0;34m=\u001b[0m\u001b[0;34m\"full.gaff.crds\"\u001b[0m\u001b[0;34m,\u001b[0m\u001b[0;34m\u001b[0m\u001b[0m\n\u001b[1;32m     20\u001b[0m         \u001b[0mhost_resname\u001b[0m\u001b[0;34m=\u001b[0m\u001b[0;34m\"MGO\"\u001b[0m\u001b[0;34m,\u001b[0m\u001b[0;34m\u001b[0m\u001b[0m\n\u001b[0;32m---> 21\u001b[0;31m         \u001b[0mguest_resname\u001b[0m\u001b[0;34m=\u001b[0m\u001b[0msystem\u001b[0m\u001b[0;34m[\u001b[0m\u001b[0;36m2\u001b[0m\u001b[0;34m:\u001b[0m\u001b[0;36m5\u001b[0m\u001b[0;34m]\u001b[0m\u001b[0;34m,\u001b[0m\u001b[0;34m\u001b[0m\u001b[0m\n\u001b[0m\u001b[1;32m     22\u001b[0m     )\n",
      "\u001b[0;32m~/data/applications/anaconda3/envs/smirnoff-paprika/lib/python3.6/site-packages/smirnovert/convert.py\u001b[0m in \u001b[0;36mconvert\u001b[0;34m(destination, prefix, reference_prmtop, reference_inpcrd, host_resname, guest_resname, debug)\u001b[0m\n\u001b[1;32m     50\u001b[0m         guest_resname=guest_resname)\n\u001b[1;32m     51\u001b[0m     reference = pmd.load_file(\n\u001b[0;32m---> 52\u001b[0;31m         destination + reference_prmtop, xyz=destination + reference_inpcrd)\n\u001b[0m\u001b[1;32m     53\u001b[0m \u001b[0;34m\u001b[0m\u001b[0m\n\u001b[1;32m     54\u001b[0m     create_pdb_with_conect(\n",
      "\u001b[0;32m~/data/applications/anaconda3/envs/smirnoff-paprika/lib/python3.6/site-packages/parmed/formats/registry.py\u001b[0m in \u001b[0;36mload_file\u001b[0;34m(filename, *args, **kwargs)\u001b[0m\n\u001b[1;32m    166\u001b[0m             \u001b[0;32massert\u001b[0m \u001b[0mf\u001b[0m\u001b[0;34m\u001b[0m\u001b[0m\n\u001b[1;32m    167\u001b[0m     \u001b[0;32melif\u001b[0m \u001b[0;32mnot\u001b[0m \u001b[0mos\u001b[0m\u001b[0;34m.\u001b[0m\u001b[0mpath\u001b[0m\u001b[0;34m.\u001b[0m\u001b[0mexists\u001b[0m\u001b[0;34m(\u001b[0m\u001b[0mfilename\u001b[0m\u001b[0;34m)\u001b[0m\u001b[0;34m:\u001b[0m\u001b[0;34m\u001b[0m\u001b[0m\n\u001b[0;32m--> 168\u001b[0;31m         \u001b[0;32mraise\u001b[0m \u001b[0mIOError\u001b[0m\u001b[0;34m(\u001b[0m\u001b[0;34m'%s does not exist'\u001b[0m \u001b[0;34m%\u001b[0m \u001b[0mfilename\u001b[0m\u001b[0;34m)\u001b[0m\u001b[0;34m\u001b[0m\u001b[0m\n\u001b[0m\u001b[1;32m    169\u001b[0m     \u001b[0;32melif\u001b[0m \u001b[0;32mnot\u001b[0m \u001b[0mos\u001b[0m\u001b[0;34m.\u001b[0m\u001b[0maccess\u001b[0m\u001b[0;34m(\u001b[0m\u001b[0mfilename\u001b[0m\u001b[0;34m,\u001b[0m \u001b[0mos\u001b[0m\u001b[0;34m.\u001b[0m\u001b[0mR_OK\u001b[0m\u001b[0;34m)\u001b[0m\u001b[0;34m:\u001b[0m\u001b[0;34m\u001b[0m\u001b[0m\n\u001b[1;32m    170\u001b[0m         \u001b[0;32mraise\u001b[0m \u001b[0mIOError\u001b[0m\u001b[0;34m(\u001b[0m\u001b[0;34m'%s does not have read permissions set'\u001b[0m \u001b[0;34m%\u001b[0m \u001b[0mfilename\u001b[0m\u001b[0;34m)\u001b[0m\u001b[0;34m\u001b[0m\u001b[0m\n",
      "\u001b[0;31mOSError\u001b[0m: systems/a-bam-p/smirnofffull.hmr.gaff.topo does not exist"
     ]
    }
   ],
   "source": [
    "for system in systems:\n",
    "    smirnoff = os.path.join(\"systems\", system, \"smirnoff\")\n",
    "    bgbg = os.path.join(\"systems\", system, \"bgbg-tip3p\")\n",
    "    if not os.path.isdir(smirnoff):\n",
    "        os.makedirs(smirnoff)\n",
    "        os.symlink(\n",
    "            source=\"../bgbg-tip3p/full.crds\",\n",
    "            link_name=os.path.join(smirnoff, \"full.gaff.crds\"),\n",
    "        )\n",
    "        os.symlink(\n",
    "            source=os.path.join(bgbg, \"full.hmr.topo\"),\n",
    "            link_name=os.path.join(smirnoff, \"full.hmr.gaff.topo\"),\n",
    "        )\n",
    "\n",
    "    convert(\n",
    "        destination=os.path.join(\"systems\", system, \"smirnoff\"),\n",
    "        prefix=\"smirnoff\",\n",
    "        reference_prmtop=\"full.hmr.gaff.topo\",\n",
    "        reference_inpcrd=\"full.gaff.crds\",\n",
    "        host_resname=\"MGO\",\n",
    "        guest_resname=system[2:5],\n",
    "    )\n"
   ]
  },
  {
   "cell_type": "code",
   "execution_count": 65,
   "metadata": {},
   "outputs": [
    {
     "data": {
      "text/plain": [
       "'systems/a-bam-p/smirnoff'"
      ]
     },
     "execution_count": 65,
     "metadata": {},
     "output_type": "execute_result"
    }
   ],
   "source": [
    "smirnoff"
   ]
  },
  {
   "cell_type": "code",
   "execution_count": 66,
   "metadata": {},
   "outputs": [
    {
     "data": {
      "text/plain": [
       "'systems/a-bam-p/smirnoff/full.crds'"
      ]
     },
     "execution_count": 66,
     "metadata": {},
     "output_type": "execute_result"
    }
   ],
   "source": [
    "os.path.join(smirnoff, \"full.crds\")"
   ]
  },
  {
   "cell_type": "code",
   "execution_count": null,
   "metadata": {},
   "outputs": [],
   "source": []
  }
 ],
 "metadata": {
  "kernelspec": {
   "display_name": "Python [conda env:smirnoff-paprika]",
   "language": "python",
   "name": "conda-env-smirnoff-paprika-py"
  },
  "language_info": {
   "codemirror_mode": {
    "name": "ipython",
    "version": 3
   },
   "file_extension": ".py",
   "mimetype": "text/x-python",
   "name": "python",
   "nbconvert_exporter": "python",
   "pygments_lexer": "ipython3",
   "version": "3.6.5"
  }
 },
 "nbformat": 4,
 "nbformat_minor": 2
}
