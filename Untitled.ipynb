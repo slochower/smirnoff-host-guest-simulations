{
 "cells": [
  {
   "cell_type": "code",
   "execution_count": 1,
   "metadata": {
    "ExecuteTime": {
     "end_time": "2019-02-13T22:41:47.030261Z",
     "start_time": "2019-02-13T22:41:44.548387Z"
    }
   },
   "outputs": [],
   "source": [
    "import parmed as pmd"
   ]
  },
  {
   "cell_type": "code",
   "execution_count": 101,
   "metadata": {
    "ExecuteTime": {
     "end_time": "2019-02-13T23:11:46.987356Z",
     "start_time": "2019-02-13T23:11:46.178201Z"
    }
   },
   "outputs": [],
   "source": [
    "smirnoff = pmd.load_file(\"systems/a-bam-p/smirnoff/a000/smirnoff.prmtop\", structure=True)\n",
    "gaff = pmd.load_file(\"systems/a-bam-p/bgbg-tip3p/full.hmr.topo\", structure=True)"
   ]
  },
  {
   "cell_type": "code",
   "execution_count": 86,
   "metadata": {
    "ExecuteTime": {
     "end_time": "2019-02-13T23:09:36.474189Z",
     "start_time": "2019-02-13T23:09:36.469560Z"
    },
    "scrolled": true
   },
   "outputs": [
    {
     "name": "stdout",
     "output_type": "stream",
     "text": [
      "HO3 11 0 0\n",
      "HO3 32 0 0\n",
      "HO3 53 0 0\n",
      "HO3 74 0 0\n",
      "HO3 95 0 0\n",
      "HO3 116 0 0\n"
     ]
    }
   ],
   "source": [
    "for atom in smirnoff.atoms:\n",
    "    if atom.name == \"HO3\":\n",
    "        print(atom.name, atom.type, atom.rmin, atom.epsilon)"
   ]
  },
  {
   "cell_type": "code",
   "execution_count": 87,
   "metadata": {
    "ExecuteTime": {
     "end_time": "2019-02-13T23:09:36.546028Z",
     "start_time": "2019-02-13T23:09:36.476287Z"
    }
   },
   "outputs": [
    {
     "name": "stdout",
     "output_type": "stream",
     "text": [
      "HO3 ho 0 0\n",
      "HO3 ho 0 0\n",
      "HO3 ho 0 0\n",
      "HO3 ho 0 0\n",
      "HO3 ho 0 0\n",
      "HO3 ho 0 0\n"
     ]
    }
   ],
   "source": [
    "for atom in gaff.atoms:\n",
    "    if atom.name == \"HO3\":\n",
    "        print(atom.name, atom.type, atom.rmin, atom.epsilon)"
   ]
  },
  {
   "cell_type": "code",
   "execution_count": 88,
   "metadata": {
    "ExecuteTime": {
     "end_time": "2019-02-13T23:09:36.637215Z",
     "start_time": "2019-02-13T23:09:36.548172Z"
    }
   },
   "outputs": [
    {
     "name": "stdout",
     "output_type": "stream",
     "text": [
      "O3 10 1.7209999997862238 0.2104000002486992\n",
      "O3 31 1.7209999997862238 0.2104000002486992\n",
      "O3 52 1.7209999997862238 0.2104000002486992\n",
      "O3 73 1.7209999997862238 0.2104000002486992\n",
      "O3 94 1.7209999997862238 0.2104000002486992\n",
      "O3 115 1.7209999997862238 0.2104000002486992\n"
     ]
    }
   ],
   "source": [
    "for atom in smirnoff.atoms:\n",
    "    if atom.name == \"O3\":\n",
    "        print(atom.name, atom.type, atom.rmin, atom.epsilon)"
   ]
  },
  {
   "cell_type": "code",
   "execution_count": 93,
   "metadata": {
    "ExecuteTime": {
     "end_time": "2019-02-13T23:10:15.017859Z",
     "start_time": "2019-02-13T23:10:15.008089Z"
    },
    "scrolled": true
   },
   "outputs": [
    {
     "name": "stdout",
     "output_type": "stream",
     "text": [
      "O3 oh 1.7209999997862238 0.2104000002486992\n",
      "O3 oh 1.7209999997862238 0.2104000002486992\n",
      "O3 oh 1.7209999997862238 0.2104000002486992\n",
      "O3 oh 1.7209999997862238 0.2104000002486992\n",
      "O3 oh 1.7209999997862238 0.2104000002486992\n",
      "O3 oh 1.7209999997862238 0.2104000002486992\n"
     ]
    }
   ],
   "source": [
    "for atom in gaff.atoms:\n",
    "    if atom.name == \"O3\":\n",
    "        print(atom.name, atom.type, atom.rmin, atom.epsilon)"
   ]
  },
  {
   "cell_type": "markdown",
   "metadata": {},
   "source": [
    "At this point, I'm thinking \"Oh no\" the SMIRNOFF99Frosst parameters are actually GAFF v1.7 parameters. But I can see that the bonded parameters are different.\n",
    "\n",
    "GAFF v1.7 has:\n",
    "```\n",
    "ho-oh  371.4    0.9730          SOURCE3_SOURCE5   21237  0.0034\n",
    "```\n",
    "\n",
    "SMIRNOFF99Frosst has:\n",
    "```\n",
    "    <Bond smirks=\"[#8:1]-[#1:2]\" id=\"b87\" k=\"1106.0\" length=\"0.960\"/>\n",
    "```\n",
    "(where `k` is two times the value reported by ParmEd, so ParmEd should report 553...)"
   ]
  },
  {
   "cell_type": "code",
   "execution_count": 103,
   "metadata": {
    "ExecuteTime": {
     "end_time": "2019-02-13T23:17:39.355916Z",
     "start_time": "2019-02-13T23:17:39.346374Z"
    }
   },
   "outputs": [
    {
     "name": "stdout",
     "output_type": "stream",
     "text": [
      "<Bond <Atom O3 [12]; In MGO 3>--<Atom HO3 [13]; In MGO 3>; type=<BondType; k=369.600, req=0.974>>\n",
      "<Bond <Atom O3 [33]; In MGO 4>--<Atom HO3 [34]; In MGO 4>; type=<BondType; k=369.600, req=0.974>>\n",
      "<Bond <Atom O3 [54]; In MGO 5>--<Atom HO3 [55]; In MGO 5>; type=<BondType; k=369.600, req=0.974>>\n",
      "<Bond <Atom O3 [75]; In MGO 6>--<Atom HO3 [76]; In MGO 6>; type=<BondType; k=369.600, req=0.974>>\n",
      "<Bond <Atom O3 [96]; In MGO 7>--<Atom HO3 [97]; In MGO 7>; type=<BondType; k=369.600, req=0.974>>\n",
      "<Bond <Atom O3 [117]; In MGO 8>--<Atom HO3 [118]; In MGO 8>; type=<BondType; k=369.600, req=0.974>>\n"
     ]
    }
   ],
   "source": [
    "for bond in gaff.bonds:\n",
    "    if bond.atom1.name == \"O3\" and bond.atom2.name == \"HO3\":\n",
    "        print(bond)"
   ]
  },
  {
   "cell_type": "code",
   "execution_count": 104,
   "metadata": {
    "ExecuteTime": {
     "end_time": "2019-02-13T23:17:39.614552Z",
     "start_time": "2019-02-13T23:17:39.609258Z"
    }
   },
   "outputs": [
    {
     "name": "stdout",
     "output_type": "stream",
     "text": [
      "<Bond <Atom O3 [9]; In MGO 0>--<Atom HO3 [10]; In MGO 0>; type=<BondType; k=553.000, req=0.960>>\n",
      "<Bond <Atom O3 [30]; In MGO 1>--<Atom HO3 [31]; In MGO 1>; type=<BondType; k=553.000, req=0.960>>\n",
      "<Bond <Atom O3 [51]; In MGO 2>--<Atom HO3 [52]; In MGO 2>; type=<BondType; k=553.000, req=0.960>>\n",
      "<Bond <Atom O3 [72]; In MGO 3>--<Atom HO3 [73]; In MGO 3>; type=<BondType; k=553.000, req=0.960>>\n",
      "<Bond <Atom O3 [93]; In MGO 4>--<Atom HO3 [94]; In MGO 4>; type=<BondType; k=553.000, req=0.960>>\n",
      "<Bond <Atom O3 [114]; In MGO 5>--<Atom HO3 [115]; In MGO 5>; type=<BondType; k=553.000, req=0.960>>\n"
     ]
    }
   ],
   "source": [
    "for bond in smirnoff.bonds:\n",
    "    if bond.atom1.name == \"O3\" and bond.atom2.name == \"HO3\":\n",
    "        print(bond)"
   ]
  },
  {
   "cell_type": "code",
   "execution_count": null,
   "metadata": {},
   "outputs": [],
   "source": []
  }
 ],
 "metadata": {
  "kernelspec": {
   "display_name": "Python [conda env:smirnoff-paprika]",
   "language": "python",
   "name": "conda-env-smirnoff-paprika-py"
  }
 },
 "nbformat": 4,
 "nbformat_minor": 2
}
