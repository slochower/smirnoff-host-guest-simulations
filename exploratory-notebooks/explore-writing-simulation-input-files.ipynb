{
 "cells": [
  {
   "cell_type": "markdown",
   "metadata": {},
   "source": [
    "# Setup simulations based on the process I used for SAMPLing"
   ]
  },
  {
   "cell_type": "code",
   "execution_count": 2,
   "metadata": {
    "ExecuteTime": {
     "end_time": "2018-05-18T20:02:54.076546Z",
     "start_time": "2018-05-18T20:02:53.950471Z"
    }
   },
   "outputs": [],
   "source": [
    "import glob as glob\n",
    "import os as os\n",
    "import subprocess as sp\n",
    "import numpy as np\n",
    "\n",
    "import parmed as pmd\n",
    "from paprika.align import zalign, rotate_about_z, get_theta\n",
    "from paprika.dummy import add_dummy, write_dummy_mol2, write_dummy_frcmod\n",
    "from paprika.tleap import System"
   ]
  },
  {
   "cell_type": "markdown",
   "metadata": {},
   "source": [
    "Niel ran...\n",
    "\n",
    "- 1 microsecond on endpoints\n",
    "- Minimum 5 ns, maximum 50 ns on interior windows, with convergence value for attach and release 0.02, and 0.1 for pull (with TI)"
   ]
  },
  {
   "cell_type": "markdown",
   "metadata": {},
   "source": [
    "First, I'd like to clean the `confirm-original` and `smirnoff` directories of output files because I can't remember what I was doing before we switched to SAMPLing. I *think* I recall saying that I ran simulations quickly, but accidentally omitted the equilibration phase. This will be a good opportunity to do it consistently, and log the process."
   ]
  },
  {
   "cell_type": "code",
   "execution_count": 10,
   "metadata": {
    "ExecuteTime": {
     "end_time": "2018-05-18T20:31:59.418158Z",
     "start_time": "2018-05-18T20:31:59.407936Z"
    }
   },
   "outputs": [],
   "source": [
    "files = ['minimize.in',\n",
    "        'minimize.mdinfo',\n",
    "        'minimize.out',\n",
    "        'minimize.rst7',\n",
    "        'traj.in',\n",
    "        'traj.mden',\n",
    "        'traj.nc',\n",
    "        'traj.out',\n",
    "        'traj.rst7']\n",
    "\n",
    "directories = glob.glob('systems/a-bam-p/confirm-original/*') + \\\n",
    "              glob.glob('systems/a-bam-p/smirnoff/*')"
   ]
  },
  {
   "cell_type": "code",
   "execution_count": 12,
   "metadata": {
    "ExecuteTime": {
     "end_time": "2018-05-18T20:33:04.488786Z",
     "start_time": "2018-05-18T20:33:04.130942Z"
    }
   },
   "outputs": [],
   "source": [
    "for directory in directories:\n",
    "    for file in files:\n",
    "        try:\n",
    "            os.remove(os.path.join(directory, file))\n",
    "        except:\n",
    "            pass"
   ]
  },
  {
   "cell_type": "markdown",
   "metadata": {},
   "source": [
    "I already have a restraint file written in each directory, which was written by the `02...` notebooks. To run analysis during the simulation, I'll have to import those here.\n",
    "\n",
    "However, while waiting to see if the TI-block convergence values (from the standard deviation of the window-to-window bootstrapped integrations) is the same as the `scale_w` method, I'll just minimize, equilibrate, and run 5 ns in each window."
   ]
  },
  {
   "cell_type": "markdown",
   "metadata": {},
   "source": [
    "## Confirm-original\n",
    "The original topology uses HMR with `dt = 0.004`.\n"
   ]
  },
  {
   "cell_type": "code",
   "execution_count": 34,
   "metadata": {
    "ExecuteTime": {
     "end_time": "2018-05-19T00:07:30.517620Z",
     "start_time": "2018-05-19T00:07:30.389387Z"
    }
   },
   "outputs": [
    {
     "name": "stdout",
     "output_type": "stream",
     "text": [
      "import os as os\r\n",
      "import shutil as shutil\r\n",
      "import re as re\r\n",
      "\r\n",
      "import paprika as paprika\r\n",
      "from paprika.amber import Simulation\r\n",
      "\r\n",
      "import logging\r\n",
      "\r\n",
      "logging.basicConfig(\r\n",
      "    filename='tscc.log',\r\n",
      "    format='%(asctime)s %(message)s',\r\n",
      "    datefmt='%Y-%m-%d %I:%M:%S %p',\r\n",
      "    level=logging.DEBUG)\r\n",
      "logging.info('Started logging...')\r\n",
      "logging.info(paprika.__version__)\r\n",
      "\r\n",
      "ntwprt = 146\r\n",
      "nstlim = 1250000\r\n",
      "dt = 0.004\r\n",
      "initial_topology = 'full.hmr.topo'\r\n",
      "initial_coordinates = 'full.crds'\r\n",
      "\r\n",
      "sim = Simulation()\r\n",
      "\r\n",
      "# Minimization\r\n",
      "sim.executable = 'pmemd.cuda'\r\n",
      "sim.topology = initial_topology\r\n",
      "sim.prefix = 'minimize'\r\n",
      "sim.inpcrd = initial_coordinates\r\n",
      "sim.path = './'\r\n",
      "sim.ref = initial_coordinates\r\n",
      "sim.config_pbc_min()\r\n",
      "sim.cntrl['maxcyc'] = 50000\r\n",
      "sim.cntrl['ncyc'] = 5000\r\n",
      "sim.cntrl['ntr'] = 1\r\n",
      "sim.cntrl['restraint_wt'] = 50.0\r\n",
      "sim.cntrl['restraintmask'] = \"'@DUM | :10@C4 | :10@N1'\"\r\n",
      "sim.cntrl['cut'] = 9.0\r\n",
      "sim.restraint_file = 'disang.rest'\r\n",
      "sim.run(fail_ok=False)\r\n",
      "\r\n",
      "# Equilibration\r\n",
      "sim.config_pbc_md()\r\n",
      "sim.executable = 'pmemd.cuda'\r\n",
      "sim.topology = initial_topology\r\n",
      "sim.path = './'\r\n",
      "sim.restraint_file = 'disang.rest'\r\n",
      "\r\n",
      "sim.cntrl['nstlim'] = nstlim\r\n",
      "sim.cntrl['ntwx'] = 250\r\n",
      "sim.cntrl['ntwprt'] = ntwprt\r\n",
      "sim.cntrl['ntwr'] = 250\r\n",
      "sim.cntrl['cut'] = 9.0\r\n",
      "\r\n",
      "iteration = 0\r\n",
      "sim.prefix = 'equil.{:03d}'.format(iteration)\r\n",
      "sim.inpcrd = initial_coordinates\r\n",
      "sim.ref = initial_coordinates\r\n",
      "\r\n",
      "while not os.path.isfile('equil.rst7') and iteration < 10:\r\n",
      "    sim.run(fail_ok=True)\r\n",
      "    with open('equil.{:03d}.out'.format(iteration)) as f:\r\n",
      "        for line in f.readlines():\r\n",
      "            if re.search(' TIMINGS', line):\r\n",
      "                shutil.copy(sim.restart, 'equil.rst7')\r\n",
      "    iteration += 1\r\n",
      "    sim.prefix = 'equil.{:03d}'.format(iteration)\r\n",
      "    sim.inpcrd = 'equil.{:03d}.rst7'.format(iteration - 1)\r\n",
      "    sim.ref = initial_coordinates\r\n",
      "\r\n",
      "# Production -- first 5 ns\r\n",
      "iteration = 0\r\n",
      "sim.executable = 'pmemd.cuda'\r\n",
      "sim.path = './'\r\n",
      "sim.topology = initial_topology\r\n",
      "sim.restraint_file = 'disang.rest'\r\n",
      "sim.config_pbc_md()\r\n",
      "\r\n",
      "sim.prefix = 'prod.{:03d}'.format(iteration)\r\n",
      "if iteration == 0:\r\n",
      "    sim.inpcrd = 'equil.rst7'\r\n",
      "else:\r\n",
      "    sim.inpcrd = 'prod.{:03d}.rst7'.format(iteration - 1)\r\n",
      "\r\n",
      "sim.ref = 'solvate.rst7'\r\n",
      "sim.cntrl['ntx'] = 5\r\n",
      "sim.cntrl['irest'] = 1\r\n",
      "sim.cntrl['nstlim'] = nstlim\r\n",
      "sim.cntrl['ntwr'] = nstlim\r\n",
      "sim.cntrl['ntwx'] = 250\r\n",
      "sim.cntrl['ntwprt'] = ntwprt\r\n",
      "sim.cntrl['ntxo'] = 2\r\n",
      "sim.cntrl['cut'] = 9.0\r\n",
      "sim.restraint_file = 'disang.rest'\r\n",
      "sim.run(fail_ok=False)"
     ]
    }
   ],
   "source": [
    "!cat 'systems/a-bam-p/confirm-original/simulate.py'"
   ]
  },
  {
   "cell_type": "code",
   "execution_count": 31,
   "metadata": {
    "ExecuteTime": {
     "end_time": "2018-05-18T22:19:28.642259Z",
     "start_time": "2018-05-18T22:19:28.595061Z"
    }
   },
   "outputs": [],
   "source": [
    "directories = glob.glob('systems/a-bam-p/confirm-original/*')\n",
    "directories = [i for i in directories if os.path.isdir(i)]\n",
    "for directory in directories:\n",
    "    try:\n",
    "        os.symlink('../simulate.py', os.path.join(directory, 'simulate.py'))\n",
    "    except:\n",
    "        os.remove(os.path.join(directory, 'simulate.py'))\n",
    "        os.symlink('../simulate.py', os.path.join(directory, 'simulate.py'))\n",
    "    try:\n",
    "        os.symlink('../tscc-driver.sh', os.path.join(directory, 'tscc-driver.sh'))\n",
    "    except:\n",
    "        os.remove(os.path.join(directory, 'tscc-driver.sh'))\n",
    "        os.symlink('../tscc-driver.sh', os.path.join(directory, 'tscc-driver.sh'))"
   ]
  },
  {
   "cell_type": "markdown",
   "metadata": {},
   "source": [
    "## SMIRNOFF\n",
    "This topology does not use HMR and sets `dt = 0.002`."
   ]
  },
  {
   "cell_type": "code",
   "execution_count": 32,
   "metadata": {
    "ExecuteTime": {
     "end_time": "2018-05-18T22:21:47.051862Z",
     "start_time": "2018-05-18T22:21:46.930509Z"
    }
   },
   "outputs": [
    {
     "name": "stdout",
     "output_type": "stream",
     "text": [
      "import os as os\r\n",
      "import shutil as shutil\r\n",
      "import re as re\r\n",
      "\r\n",
      "import paprika as paprika\r\n",
      "from paprika.amber import Simulation\r\n",
      "\r\n",
      "import logging\r\n",
      "\r\n",
      "logging.basicConfig(\r\n",
      "    filename='tscc.log',\r\n",
      "    format='%(asctime)s %(message)s',\r\n",
      "    datefmt='%Y-%m-%d %I:%M:%S %p',\r\n",
      "    level=logging.DEBUG)\r\n",
      "logging.info('Started logging...')\r\n",
      "logging.info(paprika.__version__)\r\n",
      "\r\n",
      "ntwprt = 146\r\n",
      "nstlim = 2500000\r\n",
      "dt = 0.002\r\n",
      "initial_topology = 'smirnoff.prmtop'\r\n",
      "initial_coordinates = 'smirnoff.inpcrd'\r\n",
      "\r\n",
      "sim = Simulation()\r\n",
      "\r\n",
      "# Minimization\r\n",
      "sim.executable = 'pmemd.cuda'\r\n",
      "sim.topology = initial_topology\r\n",
      "sim.prefix = 'minimize'\r\n",
      "sim.inpcrd = initial_coordinates\r\n",
      "sim.path = './'\r\n",
      "sim.ref = initial_coordinates\r\n",
      "sim.config_pbc_min()\r\n",
      "sim.cntrl['maxcyc'] = 50000\r\n",
      "sim.cntrl['ncyc'] = 5000\r\n",
      "sim.cntrl['ntr'] = 1\r\n",
      "sim.cntrl['restraint_wt'] = 50.0\r\n",
      "sim.cntrl['restraintmask'] = \"'@DUM | :10@C4 | :10@N1'\"\r\n",
      "sim.cntrl['cut'] = 9.0\r\n",
      "sim.restraint_file = 'disang.rest'\r\n",
      "sim.run(fail_ok=False)\r\n",
      "\r\n",
      "# Equilibration\r\n",
      "sim.config_pbc_md()\r\n",
      "sim.executable = 'pmemd.cuda'\r\n",
      "sim.topology = initial_topology\r\n",
      "sim.path = './'\r\n",
      "sim.restraint_file = 'disang.rest'\r\n",
      "\r\n",
      "sim.cntrl['nstlim'] = nstlim\r\n",
      "sim.cntrl['ntwx'] = 250\r\n",
      "sim.cntrl['ntwprt'] = ntwprt\r\n",
      "sim.cntrl['ntwr'] = 250\r\n",
      "sim.cntrl['cut'] = 9.0\r\n",
      "\r\n",
      "iteration = 0\r\n",
      "sim.prefix = 'equil.{:03d}'.format(iteration)\r\n",
      "sim.inpcrd = initial_coordinates\r\n",
      "sim.ref = initial_coordinates\r\n",
      "\r\n",
      "while not os.path.isfile('equil.rst7') and iteration < 10:\r\n",
      "    sim.run(fail_ok=True)\r\n",
      "    with open('equil.{:03d}.out'.format(iteration)) as f:\r\n",
      "        for line in f.readlines():\r\n",
      "            if re.search(' TIMINGS', line):\r\n",
      "                shutil.copy(sim.restart, 'equil.rst7')\r\n",
      "    iteration += 1\r\n",
      "    sim.prefix = 'equil.{:03d}'.format(iteration)\r\n",
      "    sim.inpcrd = 'equil.{:03d}.rst7'.format(iteration - 1)\r\n",
      "    sim.ref = initial_coordinates\r\n",
      "\r\n",
      "# Production -- first 5 ns\r\n",
      "iteration = 0\r\n",
      "sim.executable = 'pmemd.cuda'\r\n",
      "sim.path = './'\r\n",
      "sim.topology = initial_topology\r\n",
      "sim.restraint_file = 'disang.rest'\r\n",
      "sim.config_pbc_md()\r\n",
      "\r\n",
      "sim.prefix = 'prod.{:03d}'.format(iteration)\r\n",
      "if iteration == 0:\r\n",
      "    sim.inpcrd = 'equil.rst7'\r\n",
      "else:\r\n",
      "    sim.inpcrd = 'prod.{:03d}.rst7'.format(iteration - 1)\r\n",
      "\r\n",
      "sim.ref = 'solvate.rst7'\r\n",
      "sim.cntrl['ntx'] = 5\r\n",
      "sim.cntrl['irest'] = 1\r\n",
      "sim.cntrl['nstlim'] = nstlim\r\n",
      "sim.cntrl['ntwr'] = nstlim\r\n",
      "sim.cntrl['ntwx'] = 250\r\n",
      "sim.cntrl['ntwprt'] = ntwprt\r\n",
      "sim.cntrl['ntxo'] = 2\r\n",
      "sim.cntrl['cut'] = 9.0\r\n",
      "sim.restraint_file = 'disang.rest'\r\n",
      "sim.run(fail_ok=False)"
     ]
    }
   ],
   "source": [
    "!cat 'systems/a-bam-p/smirnoff/simulate.py'"
   ]
  },
  {
   "cell_type": "code",
   "execution_count": 33,
   "metadata": {
    "ExecuteTime": {
     "end_time": "2018-05-18T22:21:57.650960Z",
     "start_time": "2018-05-18T22:21:57.617559Z"
    }
   },
   "outputs": [],
   "source": [
    "directories = glob.glob('systems/a-bam-p/smirnoff/*')\n",
    "directories = [i for i in directories if os.path.isdir(i)]\n",
    "for directory in directories:\n",
    "    try:\n",
    "        os.symlink('../simulate.py', os.path.join(directory, 'simulate.py'))\n",
    "    except:\n",
    "        os.remove(os.path.join(directory, 'simulate.py'))\n",
    "        os.symlink('../simulate.py', os.path.join(directory, 'simulate.py'))\n",
    "    try:\n",
    "        os.symlink('../tscc-driver.sh', os.path.join(directory, 'tscc-driver.sh'))\n",
    "    except:\n",
    "        os.remove(os.path.join(directory, 'tscc-driver.sh'))\n",
    "        os.symlink('../tscc-driver.sh', os.path.join(directory, 'tscc-driver.sh'))"
   ]
  },
  {
   "cell_type": "code",
   "execution_count": null,
   "metadata": {},
   "outputs": [],
   "source": []
  }
 ],
 "metadata": {
  "kernelspec": {
   "display_name": "Python 3",
   "language": "python",
   "name": "python3"
  },
  "language_info": {
   "codemirror_mode": {
    "name": "ipython",
    "version": 3
   },
   "file_extension": ".py",
   "mimetype": "text/x-python",
   "name": "python",
   "nbconvert_exporter": "python",
   "pygments_lexer": "ipython3",
   "version": "3.6.5"
  }
 },
 "nbformat": 4,
 "nbformat_minor": 2
}
