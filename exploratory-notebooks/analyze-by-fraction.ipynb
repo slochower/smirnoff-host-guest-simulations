{
 "cells": [
  {
   "cell_type": "code",
   "execution_count": 1,
   "metadata": {},
   "outputs": [],
   "source": [
    "import pandas as pd\n",
    "import scipy as sc\n",
    "import numpy as np\n",
    "import os\n",
    "import json\n",
    "import base64\n",
    "import pandas as pd\n",
    "\n",
    "import matplotlib as mpl\n",
    "import matplotlib.pyplot as plt\n",
    "from matplotlib.gridspec import GridSpec\n",
    "from matplotlib.colors import colorConverter\n",
    "import seaborn as sns\n",
    "\n",
    "%load_ext autoreload\n",
    "%autoreload 2\n",
    "%load_ext blackcellmagic\n",
    "%matplotlib inline"
   ]
  },
  {
   "cell_type": "code",
   "execution_count": 2,
   "metadata": {},
   "outputs": [],
   "source": [
    "from constants import guest_types\n",
    "from constants import colors\n",
    "from bootstrap import bootstrap\n",
    "from bootstrap import dG_bootstrap\n",
    "from bootstrap import dH_bootstrap\n",
    "\n",
    "from summarize_statistics import write_statistics\n",
    "import plotting"
   ]
  },
  {
   "cell_type": "code",
   "execution_count": 3,
   "metadata": {},
   "outputs": [],
   "source": [
    "from constants import experimental_deltaG\n",
    "from constants import experimental_deltaH\n",
    "from constants import systems"
   ]
  },
  {
   "cell_type": "code",
   "execution_count": null,
   "metadata": {},
   "outputs": [],
   "source": [
    "def json_numpy_obj_hook(dct):\n",
    "    \"\"\"Decodes a previously encoded numpy ndarray with proper shape and dtype.\n",
    "    :param dct: (dict) json encoded ndarray\n",
    "    :return: (ndarray) if input was an encoded ndarray\n",
    "    \"\"\"\n",
    "    if isinstance(dct, dict) and \"__ndarray__\" in dct:\n",
    "        data = base64.b64decode(dct[\"__ndarray__\"])\n",
    "        return np.frombuffer(data, dct[\"dtype\"]).reshape(dct[\"shape\"])\n",
    "        # return dct['__ndarray__']\n",
    "    return dct"
   ]
  },
  {
   "cell_type": "code",
   "execution_count": null,
   "metadata": {},
   "outputs": [],
   "source": [
    "def combine_data(df):\n",
    "    \"\"\"\n",
    "    Combine data for individual orientations into a single thermodynamic value.\n",
    "    \"\"\"\n",
    "\n",
    "    combined = pd.DataFrame()\n",
    "    df[\"Short\"] = [i[0:-2] for i in df[\"System\"].values]\n",
    "\n",
    "    for hg in df[\"Short\"].unique():\n",
    "        tmp = df[df[\"Short\"] == hg]\n",
    "        for _, row in tmp.iterrows():\n",
    "            if \"p\" in row[\"System\"].split(\"-\")[2]:\n",
    "                # Reducing generality for speed.\n",
    "                primary_fe = row[f\"Delta G\"]\n",
    "                primary_fe_sem = row[f\"G_SEM\"]\n",
    "\n",
    "                primary_enthalpy = row[f\"Delta H\"]\n",
    "                primary_enthalpy_sem = row[f\"H_SEM\"]\n",
    "            else:\n",
    "                secondary_fe = row[f\"Delta G\"]\n",
    "                secondary_fe_sem = row[f\"G_SEM\"]\n",
    "\n",
    "                secondary_enthalpy = row[f\"Delta H\"]\n",
    "                secondary_enthalpy_sem = row[f\"H_SEM\"]\n",
    "        combined_fe = dG_bootstrap(\n",
    "                    primary_fe,\n",
    "                    primary_fe_sem,\n",
    "                    secondary_fe,\n",
    "                    secondary_fe_sem,\n",
    "                    cycles=100000,\n",
    "        )\n",
    "        combined_enthalpy = dH_bootstrap(\n",
    "            primary_enthalpy,\n",
    "            primary_enthalpy_sem,\n",
    "            secondary_enthalpy,\n",
    "            secondary_enthalpy_sem,\n",
    "            primary_fe,\n",
    "            primary_fe_sem,\n",
    "            secondary_fe,\n",
    "            secondary_fe_sem,\n",
    "            cycles=100000,\n",
    "        )\n",
    "\n",
    "        combined = combined.append(\n",
    "            {\n",
    "                \"System\": hg,\n",
    "                \"Delta G\": combined_fe[\"mean\"],\n",
    "                \"G_SEM\": combined_fe[\"sem\"],\n",
    "                \"G_CI\": combined_fe[\"ci\"],\n",
    "                \"Delta H\": combined_enthalpy[\"mean\"],\n",
    "                \"H_SEM\": combined_enthalpy[\"sem\"],\n",
    "                \"H_CI\": combined_enthalpy[\"ci\"],\n",
    "                \"Type\": guest_types[hg],\n",
    "            },\n",
    "            ignore_index=True,\n",
    "        )\n",
    "    return combined"
   ]
  },
  {
   "cell_type": "markdown",
   "metadata": {},
   "source": [
    "## 1. Combine the data by bootstrapping"
   ]
  },
  {
   "cell_type": "code",
   "execution_count": null,
   "metadata": {},
   "outputs": [
    {
     "name": "stdout",
     "output_type": "stream",
     "text": [
      "Working on fraction 0.2...\n",
      "Working on system a-bam-p...\n",
      "Working on system a-bam-s...\n",
      "Working on system a-but-p...\n",
      "Working on system a-but-s...\n",
      "Working on system a-cbu-p...\n",
      "Working on system a-chp-p...\n",
      "Working on system a-cbu-s...\n",
      "Working on system a-chp-s...\n",
      "Working on system a-cpe-p...\n",
      "Working on system a-coc-p...\n",
      "Working on system a-coc-s...\n",
      "Working on system a-cpe-s...\n",
      "Working on system a-hep-p...\n",
      "Working on system a-ham-s...\n",
      "Working on system a-ham-p...\n",
      "Working on system a-hep-s...\n",
      "Working on system a-hp6-p...\n",
      "Working on system a-hex-p...\n",
      "Working on system a-hex-s...\n",
      "Working on system a-hp6-s...\n",
      "Working on system a-hx2-p...\n",
      "Working on system a-hpa-s...\n",
      "Working on system a-hpa-p...\n",
      "Working on system a-hx2-s...\n",
      "Working on system a-mba-p...\n",
      "Working on system a-hx3-s...\n",
      "Working on system a-hx3-p...\n",
      "Working on system a-mba-s...\n",
      "Working on system a-mhp-p...\n",
      "Working on system a-mha-p...\n",
      "Working on system a-mha-s...\n",
      "Working on system a-mhp-s...\n",
      "Working on system a-nmh-p...\n",
      "Working on system a-nmb-p...\n",
      "Working on system a-nmb-s...\n",
      "Working on system a-nmh-s...\n",
      "Working on system a-oct-p...\n",
      "Working on system a-oam-p...\n",
      "Working on system a-oam-s...\n",
      "Working on system a-oct-s...\n",
      "Working on system a-pnt-p...\n",
      "Working on system a-pam-p...\n",
      "Working on system a-pam-s...\n",
      "Working on system a-pnt-s...\n",
      "Working on system b-ben-s...\n",
      "Working on system b-ben-p...\n",
      "Working on system b-cbu-p...\n",
      "Working on system b-cbu-s...\n",
      "Working on system b-chp-s...\n",
      "Working on system b-chp-p...\n",
      "Working on system b-coc-s...\n",
      "Working on system b-coc-p...\n",
      "Working on system b-cpe-s...\n",
      "Working on system b-cpe-p...\n",
      "Working on system b-ham-s...\n",
      "Working on system b-ham-p...\n",
      "Working on system b-hep-s...\n",
      "Working on system b-hep-p...\n",
      "Working on system b-hex-p...\n",
      "Working on system b-hex-s...\n",
      "Working on system b-m4c-s...\n",
      "Working on system b-m4c-p...\n",
      "Working on system b-m4t-p...\n",
      "Working on system b-m4t-s...\n",
      "Working on system b-mch-s...\n",
      "Working on system b-mha-s...\n",
      "Working on system b-mha-p...\n",
      "Working on system b-mch-p...\n",
      "Working on system b-mo3-s...\n",
      "Working on system b-mo4-p...\n",
      "Working on system b-mo4-s...\n",
      "Working on system b-mo3-p...\n",
      "Working on system b-mp3-s...\n",
      "Working on system b-mp4-s...\n",
      "Working on system b-mp4-p...\n",
      "Working on system b-mp3-p...\n",
      "Working on system b-oam-s...\n",
      "Working on system b-pb3-s...\n",
      "Working on system b-pb3-p...\n",
      "Working on system b-oam-p...\n",
      "Working on system b-pb4-s...\n",
      "Working on system b-pha-s...\n",
      "Working on system b-pb4-p...\n",
      "Working on system b-pha-p...\n",
      "Working on system b-pnt-s...\n",
      "Working on system b-pnt-p...\n"
     ]
    },
    {
     "name": "stderr",
     "output_type": "stream",
     "text": [
      "100%|██████████| 100000/100000 [08:28<00:00, 196.82it/s]\n",
      "100%|██████████| 100000/100000 [00:02<00:00, 35115.87it/s]\n",
      " 24%|██▍       | 24029/100000 [02:25<07:23, 171.38it/s]"
     ]
    }
   ],
   "source": [
    "# for fraction in [0.2, 0.4, 0.6, 0.8]:\n",
    "    \n",
    "#     print(f\"Working on fraction {fraction}...\")\n",
    "\n",
    "#     smirnoff = pd.DataFrame()\n",
    "\n",
    "#     for system in systems:\n",
    "        \n",
    "#         print(f\"Working on system {system}...\")\n",
    "\n",
    "#         with open(f\"/home/davids4/gpfs/smirnoff-host-guest-simulations-data/results/fractions/{system}-fractions-results.json\", \"r\") as f:\n",
    "#             json_data = f.read()\n",
    "#         results = json.loads(json_data, object_hook=json_numpy_obj_hook)\n",
    "\n",
    "#         with open(f\"/home/davids4/gpfs/smirnoff-host-guest-simulations-data/results/pre-enthalpy/{system[0]}-release.json\", \"r\") as f:\n",
    "#             json_data = f.read()\n",
    "#         results_release = json.loads(json_data, object_hook=json_numpy_obj_hook)\n",
    "\n",
    "\n",
    "#         smirnoff_attach = results[\"attach\"][\"ti-block\"][\"fraction_fe\"][f\"{fraction}\"]\n",
    "#         smirnoff_pull = results[\"pull\"][\"ti-block\"][\"fraction_fe\"][f\"{fraction}\"]\n",
    "#         smirnoff_release = results_release[\"release\"][\"ti-block\"][\"fe\"]\n",
    "\n",
    "#         smirnoff_attach_sem = results[\"attach\"][\"ti-block\"][\"fraction_sem\"][f\"{fraction}\"]\n",
    "#         smirnoff_pull_sem = results[\"pull\"][\"ti-block\"][\"fraction_sem\"][f\"{fraction}\"]\n",
    "#         smirnoff_release_sem = results_release[\"release\"][\"ti-block\"][\"sem\"]\n",
    "\n",
    "#         smirnoff_analytic = 7.14\n",
    "\n",
    "#         delta_g = -1 * (\n",
    "#             smirnoff_attach + smirnoff_pull - smirnoff_release - smirnoff_analytic\n",
    "#         )\n",
    "#         delta_g_sem = np.sqrt(\n",
    "#             smirnoff_attach_sem ** 2 + smirnoff_pull_sem ** 2 + smirnoff_release_sem ** 2\n",
    "#         )\n",
    "\n",
    "#         with open(f\"results/{system}-smirnoff-enthalpy-full.json\", \"r\") as f:\n",
    "#             json_data = f.read()\n",
    "#         loaded = json.loads(json_data)\n",
    "#         delta_h = loaded[\"a000\"][\"total\"][0] - loaded[\"r014\"][\"total\"][0]\n",
    "#         delta_h_sem = np.sqrt(\n",
    "#             loaded[\"a000\"][\"total\"][1] ** 2 + loaded[\"r014\"][\"total\"][1] ** 2\n",
    "#         )\n",
    "\n",
    "#         smirnoff = smirnoff.append(\n",
    "#             {\n",
    "#                 \"System\": system,\n",
    "#                 \"Delta G\": delta_g,\n",
    "#                 \"G_SEM\": delta_g_sem,\n",
    "#                 \"Delta H\": delta_h,\n",
    "#                 \"H_SEM\": delta_h_sem,\n",
    "#                 \"Type\": guest_types[system[0:-2]],\n",
    "#             },\n",
    "#             ignore_index=True,\n",
    "#         )\n",
    "\n",
    "#     smirnoff.to_csv(f\"/home/davids4/gpfs/smirnoff-host-guest-simulations-data/results/fractions/smirnoff_by_orientation_fraction_{fraction}.csv\")\n",
    "#     smirnoff_combined = combine_data(smirnoff)\n",
    "#     smirnoff_combined.to_csv(f\"/home/davids4/gpfs/smirnoff-host-guest-simulations-data/results/fractions/smirnoff_by_orientation_fraction_{fraction}_combined.csv\")\n",
    "\n"
   ]
  },
  {
   "cell_type": "markdown",
   "metadata": {},
   "source": [
    "## 2. Compute the statistics"
   ]
  },
  {
   "cell_type": "code",
   "execution_count": null,
   "metadata": {},
   "outputs": [
    {
     "name": "stdout",
     "output_type": "stream",
     "text": [
      "Bootstrapping results/experimental_smirnoff_fraction_0.2_dG_statistics_overall.csv\n",
      "Bootstrapping results/experimental_smirnoff_fraction_0.2_dG_statistics_aliphatic_ammoniums.csv\n",
      "Bootstrapping results/experimental_smirnoff_fraction_0.2_dG_statistics_cyclic_alcohols.csv\n",
      "Bootstrapping results/experimental_smirnoff_fraction_0.2_dG_statistics_aliphatic_carboxylates.csv\n",
      "Bootstrapping results/experimental_smirnoff_fraction_0.4_dG_statistics_overall.csv\n",
      "Bootstrapping results/experimental_smirnoff_fraction_0.4_dG_statistics_aliphatic_ammoniums.csv\n",
      "Bootstrapping results/experimental_smirnoff_fraction_0.4_dG_statistics_cyclic_alcohols.csv\n",
      "Bootstrapping results/experimental_smirnoff_fraction_0.4_dG_statistics_aliphatic_carboxylates.csv\n",
      "Bootstrapping results/experimental_smirnoff_fraction_0.6_dG_statistics_overall.csv\n",
      "Bootstrapping results/experimental_smirnoff_fraction_0.6_dG_statistics_aliphatic_ammoniums.csv\n",
      "Bootstrapping results/experimental_smirnoff_fraction_0.6_dG_statistics_cyclic_alcohols.csv\n",
      "Bootstrapping results/experimental_smirnoff_fraction_0.6_dG_statistics_aliphatic_carboxylates.csv\n",
      "Bootstrapping results/experimental_smirnoff_fraction_0.8_dG_statistics_overall.csv\n",
      "Bootstrapping results/experimental_smirnoff_fraction_0.8_dG_statistics_aliphatic_ammoniums.csv\n",
      "Bootstrapping results/experimental_smirnoff_fraction_0.8_dG_statistics_cyclic_alcohols.csv\n",
      "Bootstrapping results/experimental_smirnoff_fraction_0.8_dG_statistics_aliphatic_carboxylates.csv\n"
     ]
    }
   ],
   "source": [
    "for fraction in [0.2, 0.4, 0.6, 0.8]:\n",
    "    \n",
    "    smirnoff_combined = pd.read_csv(f\"/home/davids4/gpfs/smirnoff-host-guest-simulations-data/results/fractions/smirnoff_by_orientation_fraction_{fraction}_combined.csv\")\n",
    "    experimental = pd.read_csv(\"results/experimental.csv\")\n",
    "    write_statistics(experimental, smirnoff_combined, \"G\", f\"experimental_smirnoff_fraction_{fraction}\", overwrite=False)"
   ]
  },
  {
   "cell_type": "code",
   "execution_count": 4,
   "metadata": {},
   "outputs": [],
   "source": [
    "def return_bootstrapped_dictionary(\n",
    "    df_one, df_two, thermodynamic_quantity, cycles=100000,\n",
    "    name=\"smirnoff_experimental\"\n",
    "):\n",
    "    try:\n",
    "        df = df_one.merge(df_two, on=[\"System\", \"Type\"], suffixes=(\"_i\", \"_j\"))\n",
    "    except KeyError:\n",
    "        # Experimental doesn't have a Type column, so won't merge cleanly.\n",
    "        df = df_one.merge(df_two, on=[\"System\"], suffixes=(\"_i\", \"_j\"))\n",
    "    \n",
    "    \n",
    "    results = bootstrap(\n",
    "        x=df[f\"Delta {thermodynamic_quantity}_i\"],\n",
    "        x_sem=df[f\"{thermodynamic_quantity}_SEM_i\"],\n",
    "        y=df[f\"Delta {thermodynamic_quantity}_j\"],\n",
    "        y_sem=df[f\"{thermodynamic_quantity}_SEM_j\"],\n",
    "        cycles=cycles,\n",
    "    )\n",
    "    key = dict()\n",
    "    key[name] = results\n",
    "    return key"
   ]
  },
  {
   "cell_type": "markdown",
   "metadata": {},
   "source": [
    "# Important to merge local `results` and `GPFS` results"
   ]
  },
  {
   "cell_type": "markdown",
   "metadata": {},
   "source": [
    "## 3. Plot"
   ]
  },
  {
   "cell_type": "code",
   "execution_count": 7,
   "metadata": {},
   "outputs": [
    {
     "data": {
      "text/plain": [
       "Text(0.5, 0, 'Fraction of simulation data')"
      ]
     },
     "execution_count": 7,
     "metadata": {},
     "output_type": "execute_result"
    },
    {
     "data": {
      "image/png": "[encoded data removed]",
      "text/plain": [
       "<Figure size 518.4x432 with 1 Axes>"
      ]
     },
     "metadata": {},
     "output_type": "display_data"
    }
   ],
   "source": [
    "fig, ax = plt.subplots(1, figsize=(6 * 1.2, 6))\n",
    "\n",
    "fractions = [0.2, 0.4, 0.6, 0.8, 1.0]\n",
    "ci_low, ci_high = [], []\n",
    "for fraction in fractions:\n",
    "\n",
    "    if fraction != 1.0:\n",
    "        statistics = pd.read_csv(f\"results/experimental_smirnoff_fraction_{fraction}_dG_statistics_overall.csv\")\n",
    "    else:\n",
    "        statistics = pd.read_csv(f\"results/experimental_smirnoff_dG_statistics_overall.csv\")\n",
    "    \n",
    "    statistics.index = statistics[\"Unnamed: 0\"]\n",
    "    ax.errorbar(\n",
    "            fraction,\n",
    "            statistics[\"mean\"][\"Tau\"],\n",
    "            yerr = statistics[\"sem\"][\"Tau\"],\n",
    "            fmt=\"o\",\n",
    "            markersize=12,\n",
    "            markeredgecolor=\"k\",\n",
    "            markeredgewidth=0.2,\n",
    "            elinewidth=1.5,\n",
    "            ecolor=\"k\",\n",
    "            color=\"k\"\n",
    "    )\n",
    "    \n",
    "    ci_low.append(statistics[\"ci_low\"][\"Tau\"])\n",
    "    ci_high.append(statistics[\"ci_high\"][\"Tau\"])\n",
    "\n",
    "ax.fill_between(fractions, \n",
    "                ci_low, \n",
    "                ci_high,\n",
    "                alpha=0.5)\n",
    "\n",
    "ax.set_ylim(-1.0, 1.0)\n",
    "ax.set_xlim(0, 1.1)\n",
    "ax.set_ylabel(r\"Kendall's $\\tau$ coefficient for $\\Delta G^\\circ$\")\n",
    "ax.set_xlabel(\"Fraction of simulation data\")"
   ]
  },
  {
   "cell_type": "code",
   "execution_count": 26,
   "metadata": {},
   "outputs": [
    {
     "data": {
      "text/plain": [
       "0.5636766334440753"
      ]
     },
     "execution_count": 26,
     "metadata": {},
     "output_type": "execute_result"
    }
   ],
   "source": [
    "statistics[\"ci_high\"][\"Tau\"]"
   ]
  },
  {
   "cell_type": "code",
   "execution_count": null,
   "metadata": {},
   "outputs": [],
   "source": []
  }
 ],
 "metadata": {
  "kernelspec": {
   "display_name": "Python 3",
   "language": "python",
   "name": "python3"
  },
  "language_info": {
   "codemirror_mode": {
    "name": "ipython",
    "version": 3
   },
   "file_extension": ".py",
   "mimetype": "text/x-python",
   "name": "python",
   "nbconvert_exporter": "python",
   "pygments_lexer": "ipython3",
   "version": "3.6.7"
  }
 },
 "nbformat": 4,
 "nbformat_minor": 2
}
