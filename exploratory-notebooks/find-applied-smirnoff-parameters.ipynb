{
 "cells": [
  {
   "cell_type": "code",
   "execution_count": 69,
   "metadata": {
    "ExecuteTime": {
     "end_time": "2018-09-20T23:56:22.551258Z",
     "start_time": "2018-09-20T23:56:22.542722Z"
    }
   },
   "outputs": [],
   "source": [
    "import datetime\n",
    "import numpy as np\n",
    "\n",
    "import plotting\n",
    "import matplotlib.pyplot as plt\n",
    "%matplotlib inline\n",
    "\n",
    "import openeye.oechem as oechem\n",
    "import openeye.oeiupac as oeiupac\n",
    "import openeye.oeomega as oeomega\n",
    "import openeye.oedepict as oedepict\n",
    "\n",
    "from openforcefield.typing.engines.smirnoff.forcefield import *\n",
    "from openforcefield.typing.engines.smirnoff.forcefield_utils import get_molecule_parameterIDs\n",
    "from openforcefield.utils import *"
   ]
  },
  {
   "cell_type": "code",
   "execution_count": 70,
   "metadata": {},
   "outputs": [
    {
     "name": "stdout",
     "output_type": "stream",
     "text": [
      "This notebook was last rendered on 2018-09-21.\n"
     ]
    }
   ],
   "source": [
    "now = datetime.datetime.utcnow()\n",
    "today = now.strftime(\"%Y-%m-%d\")\n",
    "print('This notebook was last rendered on {}.'.format(today))"
   ]
  },
  {
   "cell_type": "code",
   "execution_count": 28,
   "metadata": {
    "ExecuteTime": {
     "end_time": "2018-09-20T23:57:33.500876Z",
     "start_time": "2018-09-20T23:57:33.006989Z"
    }
   },
   "outputs": [],
   "source": []
  },
  {
   "cell_type": "code",
   "execution_count": 2,
   "metadata": {
    "ExecuteTime": {
     "end_time": "2018-09-20T22:59:06.408057Z",
     "start_time": "2018-09-20T22:59:06.401607Z"
    }
   },
   "outputs": [],
   "source": [
    "def depictAtomByIdx(mol_copy, atomIdxList, supH = True, width=900, height=500):\n",
    "    mol = oechem.OEMol(mol_copy)\n",
    "    OEGenerate2DCoordinates(mol)\n",
    "    atomBondSet = oechem.OEAtomBondSet()\n",
    "    for atom in mol.GetAtoms():\n",
    "        if atom.GetIdx() in atomIdxList:\n",
    "            atomBondSet.AddAtom( atom)\n",
    "            for bond in atom.GetBonds():\n",
    "                nbrAtom = bond.GetNbr(atom)\n",
    "                nbrIdx = nbrAtom.GetIdx()\n",
    "                if (nbrIdx in atomIdxList) and nbrIdx>atom.GetIdx():\n",
    "                    atomBondSet.AddBond( bond)\n",
    "    from IPython.display import Image\n",
    "    dopt = oedepict.OEPrepareDepictionOptions()\n",
    "    dopt.SetDepictOrientation( oedepict.OEDepictOrientation_Horizontal)\n",
    "    dopt.SetSuppressHydrogens(supH)\n",
    "    oedepict.OEPrepareDepiction(mol, dopt)\n",
    "    opts = oedepict.OE2DMolDisplayOptions(width, height, oedepict.OEScale_AutoScale)\n",
    "    disp = oedepict.OE2DMolDisplay(mol, opts)\n",
    "    aroStyle = oedepict.OEHighlightStyle_Color\n",
    "    aroColor = oechem.OEColor(oechem.OEGrey)\n",
    "    oedepict.OEAddHighlighting(disp, aroColor, aroStyle, \n",
    "                               oechem.OEIsAromaticAtom(), oechem.OEIsAromaticBond() )\n",
    "    hstyle = oedepict.OEHighlightStyle_BallAndStick\n",
    "    hcolor = oechem.OEColor(oechem.OELightGreen)\n",
    "    oedepict.OEAddHighlighting(disp, hcolor, hstyle, atomBondSet)\n",
    "    #ofs = oechem.oeosstream()\n",
    "    img = oedepict.OEImage(width, height)\n",
    "    oedepict.OERenderMolecule(img, disp)\n",
    "    #oedepict.OERenderMolecule(ofs, 'png', disp)\n",
    "    #ofs.flush()\n",
    "    #return Image(data = \"\".join(ofs.str()))\n",
    "    return Image(oedepict.OEWriteImageToString(\"png\",img))\n",
    "\n"
   ]
  },
  {
   "cell_type": "code",
   "execution_count": 3,
   "metadata": {
    "ExecuteTime": {
     "end_time": "2018-09-20T22:59:06.493772Z",
     "start_time": "2018-09-20T22:59:06.409906Z"
    }
   },
   "outputs": [],
   "source": [
    "def getMolParamIDToAtomIndex( oemol, ff):\n",
    "    \"\"\"Take an OEMol and a SMIRNOFF forcefield object and return a dictionary,\n",
    "    keyed by parameter ID, where each entry is a tuple of\n",
    "    ( smirks, [[atom1, ... atomN], [atom1, ... atomN]) giving the SMIRKS\n",
    "    corresponding to that parameter ID and a list of the atom groups in that\n",
    "    molecule that parameter is applied to.\n",
    "\n",
    "    Parameters\n",
    "    ----------\n",
    "    oemol : OEMol\n",
    "        OpenEye OEMol with the molecule to investigate.\n",
    "    ff : ForceField\n",
    "        SMIRNOFF ForceField object (obtained from an ffxml via ForceField(ffxml)) containing FF of interest.\n",
    "\n",
    "    Returns\n",
    "    -------\n",
    "    param_usage : dictionary\n",
    "        Dictionary, keyed by parameter ID, where each entry is a tuple of\n",
    "        ( smirks, [[atom1, ... atomN], [atom1, ... atomN]) giving the SMIRKS\n",
    "        corresponding to that parameter ID and a list of the atom groups in\n",
    "        that molecule that parameter is applied to.\n",
    "\n",
    "    \"\"\"\n",
    "    labels = ff.labelMolecules([oemol])\n",
    "    param_usage = {}\n",
    "    for mol_entry in range(len(labels)):\n",
    "        for force in labels[mol_entry].keys():\n",
    "            for (atom_indices, pid, smirks) in labels[mol_entry][force]:\n",
    "                if not pid in param_usage:\n",
    "                    param_usage[pid] = (smirks, [atom_indices])\n",
    "                else:\n",
    "                    param_usage[pid][1].append( atom_indices )\n",
    "\n",
    "    return param_usage"
   ]
  },
  {
   "cell_type": "code",
   "execution_count": 4,
   "metadata": {
    "ExecuteTime": {
     "end_time": "2018-09-20T22:59:06.655798Z",
     "start_time": "2018-09-20T22:59:06.495672Z"
    }
   },
   "outputs": [],
   "source": [
    "def GetAtomInfo(mol, indices, skip_atoms = []):\n",
    "    #print(indices)\n",
    "    atoms_by_index = dict()\n",
    "    charges_by_index = dict()\n",
    "    for atom in mol.GetAtoms():\n",
    "        idx = atom.GetIdx()\n",
    "        if idx in indices:\n",
    "            atoms_by_index[idx] = atom\n",
    "            charge = atom.GetFormalCharge()\n",
    "            if charge == 0:\n",
    "                charges_by_index[idx] = ''\n",
    "            elif charge > -1:\n",
    "                charges_by_index[idx] = '+%i' % charge\n",
    "            else:\n",
    "                charges_by_index[idx] = str(charge)\n",
    "    atoms = [(atoms_by_index[idx],charges_by_index[idx]) for idx in indices]\n",
    "    types = [atom.GetType() for (atom,charge) in atoms]\n",
    "    atom_smarts = ['[#%i%s]' % (atom.GetAtomicNum(),charge) for (atom,charge) in atoms]\n",
    "    smarts = '~'.join(atom_smarts)\n",
    "    types = '~'.join(types)\n",
    "    \n",
    "    for (atom, charge) in atoms:\n",
    "        if atom.GetAtomicNum() in skip_atoms:\n",
    "            return (True, smarts, types)\n",
    "    \n",
    "\n",
    "    return (False, smarts, types)\n",
    "    \n",
    "def DepictMolWithParam(mol, indice_list, supH = False, print_atoms = True, skip_atoms = []):\n",
    "    skip_count = 0\n",
    "    for IdxByOccurrence in indice_list:\n",
    "        \n",
    "        skip_it, approx_smarts, types = GetAtomInfo(mol, IdxByOccurrence, skip_atoms)\n",
    "        \n",
    "        if skip_it:\n",
    "            skip_count += 1\n",
    "            continue\n",
    "            \n",
    "        if print_atoms:\n",
    "            print(\"Approximate SMARTS: %s\" % approx_smarts)\n",
    "            print(\"Current Atom Types: %s\" % types)\n",
    "        display(depictAtomByIdx(mol, IdxByOccurrence, supH = supH))\n",
    "    if skip_count > 0:\n",
    "        skips = ','.join([str(i) for i in skip_atoms])\n",
    "        print(\"This molecule contains %i fragment(s) with at least one atom in (%s)\" % (skip_count, skips))"
   ]
  },
  {
   "cell_type": "code",
   "execution_count": 5,
   "metadata": {
    "ExecuteTime": {
     "end_time": "2018-09-20T22:59:06.780844Z",
     "start_time": "2018-09-20T22:59:06.657550Z"
    }
   },
   "outputs": [],
   "source": [
    "def make_param_histogram(param_id_counts, param_ids, letter, title):\n",
    "    # Graph occurrences of bond parameters\n",
    "    parm_ids = [ pid for pid in param_ids if pid[0]==letter]\n",
    "    parm_ids.sort()\n",
    "    counts_parms = [param_id_counts[parm_id] for parm_id in parm_ids]\n",
    "    #print( parm_ids)\n",
    "    #print( counts_parms)\n",
    "    split = int(len(parm_ids)/2)\n",
    "    \n",
    "    indices = np.arange(len(parm_ids))\n",
    "    fix, ax = plt.subplots(2,1,figsize=(16,5))\n",
    "    ax[0].set_yscale('log', nonposy='clip')\n",
    "    ax[1].set_yscale('log', nonposy='clip')\n",
    "    \n",
    "    rects2 = ax[0].bar(indices[0:split], counts_parms[0:split] )\n",
    "    ax[0].set_ylabel('Count')\n",
    "    ax[0].set_xticks( indices[0:split])\n",
    "    ax[0].set_xticklabels( parm_ids[0:split], rotation=-60, ha='left')\n",
    "    ax[0].set_xlim(indices[0], indices[split])\n",
    "    plt.yscale('log',nonposy='clip')\n",
    "    rects2 = ax[1].bar(indices[split:], counts_parms[split:])\n",
    "    ax[1].set_ylabel('Count')\n",
    "    ax[1].set_xticks( indices[split:])\n",
    "    ax[1].set_xticklabels( parm_ids[split:], rotation=-60, ha='left')\n",
    "    ax[1].set_xlim(indices[split], indices[-1]+1)\n",
    "    \n",
    "    ax[0].set_title(title)\n",
    "    plt.show()"
   ]
  },
  {
   "cell_type": "code",
   "execution_count": 6,
   "metadata": {
    "ExecuteTime": {
     "end_time": "2018-09-20T22:59:06.889295Z",
     "start_time": "2018-09-20T22:59:06.782856Z"
    }
   },
   "outputs": [],
   "source": [
    "def check_valence(mol):\n",
    "    \"\"\"\n",
    "    Checks for hypervalency\n",
    "    Parameter\n",
    "    ---------\n",
    "    mol - OEMol()\n",
    "\n",
    "    Return\n",
    "    ------\n",
    "    boolean - True (no inappropriate valency)\n",
    "              False (an atom with atomic number < 10 has > 4 Valence)\n",
    "    \"\"\"\n",
    "    for atom in mol.GetAtoms():\n",
    "        atomNum = atom.GetAtomicNum()\n",
    "        # find number of neighbors to this atom\n",
    "        valence = atom.GetValence()\n",
    "        if atomNum <= 10: # first row elements\n",
    "            if valence > 4:\n",
    "                print(\"Found a #%i atom with valence %i in molecule %s\" % (atomNum, valence, oechem.OECreateIsoSmiString(mol)))\n",
    "                return False\n",
    "    return True"
   ]
  },
  {
   "cell_type": "markdown",
   "metadata": {},
   "source": [
    "# Sections from Caitlin's notebook\n",
    "\n",
    "## 1"
   ]
  },
  {
   "cell_type": "code",
   "execution_count": 7,
   "metadata": {
    "ExecuteTime": {
     "end_time": "2018-09-20T22:59:07.272637Z",
     "start_time": "2018-09-20T22:59:06.890984Z"
    }
   },
   "outputs": [],
   "source": [
    "ff = ForceField(\"forcefield/smirnoff99Frosst.offxml\")"
   ]
  },
  {
   "cell_type": "markdown",
   "metadata": {},
   "source": [
    "## 2"
   ]
  },
  {
   "cell_type": "code",
   "execution_count": 8,
   "metadata": {
    "ExecuteTime": {
     "end_time": "2018-09-20T22:59:39.485999Z",
     "start_time": "2018-09-20T22:59:39.413967Z"
    }
   },
   "outputs": [
    {
     "name": "stdout",
     "output_type": "stream",
     "text": [
      "Loading molecules from 'quantum/aCD.mol2'...\n",
      "1 molecules read\n",
      "0.068 s elapsed\n"
     ]
    }
   ],
   "source": [
    "molecules = read_molecules(\"quantum/aCD.mol2\")"
   ]
  },
  {
   "cell_type": "code",
   "execution_count": 12,
   "metadata": {
    "ExecuteTime": {
     "end_time": "2018-09-20T23:00:41.956649Z",
     "start_time": "2018-09-20T23:00:41.950491Z"
    }
   },
   "outputs": [],
   "source": [
    "c_mol = OEMol(mol)\n",
    "oechem.OEAddExplicitHydrogens(c_mol)\n",
    "smi = oechem.OECreateIsoSmiString(c_mol)"
   ]
  },
  {
   "cell_type": "code",
   "execution_count": 16,
   "metadata": {
    "ExecuteTime": {
     "end_time": "2018-09-20T23:01:34.458665Z",
     "start_time": "2018-09-20T23:01:34.456050Z"
    }
   },
   "outputs": [],
   "source": [
    "oemols = [c_mol]"
   ]
  },
  {
   "cell_type": "markdown",
   "metadata": {},
   "source": [
    "## 3a"
   ]
  },
  {
   "cell_type": "code",
   "execution_count": 17,
   "metadata": {
    "ExecuteTime": {
     "end_time": "2018-09-20T23:01:39.404265Z",
     "start_time": "2018-09-20T23:01:39.130429Z"
    }
   },
   "outputs": [
    {
     "name": "stdout",
     "output_type": "stream",
     "text": [
      "Assigned labels took 0.00 minutes\n"
     ]
    }
   ],
   "source": [
    "# Track time\n",
    "init_time = time.time()\n",
    "# label molecules\n",
    "labels = ff.labelMolecules(oemols, verbose = False)\n",
    "elapsed = (time.time() - init_time) / 60.0\n",
    "print(\"Assigned labels took %.2f minutes\" % (elapsed))"
   ]
  },
  {
   "cell_type": "code",
   "execution_count": 18,
   "metadata": {
    "ExecuteTime": {
     "end_time": "2018-09-20T23:01:40.013083Z",
     "start_time": "2018-09-20T23:01:39.999680Z"
    }
   },
   "outputs": [
    {
     "name": "stdout",
     "output_type": "stream",
     "text": [
      "Organizing dictionaries took 0.00 minutes\n"
     ]
    }
   ],
   "source": [
    "# organize dictionaries to reference information \n",
    "init_time = time.time()\n",
    "parameters_by_molecule = dict()\n",
    "parameters_by_ID = dict()\n",
    "param_ids = set()\n",
    "param_id_counts = dict()\n",
    "for idx, mol_dict in enumerate(labels):\n",
    "    smi = OECreateIsoSmiString(oemols[idx])\n",
    "    parameters_by_molecule[smi] = dict()\n",
    "    for force_type, label_set in mol_dict.items():\n",
    "        for (indices, pid, smirks) in label_set:\n",
    "            if not pid in parameters_by_molecule[smi]:\n",
    "                parameters_by_molecule[smi][pid] = list()\n",
    "            parameters_by_molecule[smi][pid].append(indices)\n",
    "            \n",
    "            if not pid in parameters_by_ID:\n",
    "                parameters_by_ID[pid] = set()\n",
    "            parameters_by_ID[pid].add(smi)\n",
    "            \n",
    "            param_ids.add(pid)\n",
    "\n",
    "for pid in param_ids:\n",
    "    param_id_counts[pid] = 0\n",
    "    \n",
    "for smi, pid_dict in parameters_by_molecule.items():\n",
    "    for pid, ind_list in pid_dict.items():\n",
    "        param_id_counts[pid] += len(ind_list)   \n",
    "\n",
    "elapsed = (time.time() - init_time) / 60.0\n",
    "print(\"Organizing dictionaries took %.2f minutes\" % (elapsed))"
   ]
  },
  {
   "cell_type": "code",
   "execution_count": 29,
   "metadata": {
    "ExecuteTime": {
     "end_time": "2018-09-20T23:57:45.821414Z",
     "start_time": "2018-09-20T23:57:37.433641Z"
    }
   },
   "outputs": [
    {
     "data": {
      "image/png": "[encoded data removed]",
      "text/plain": [
       "<matplotlib.figure.Figure at 0x7f4d358ffc50>"
      ]
     },
     "metadata": {},
     "output_type": "display_data"
    },
    {
     "data": {
      "image/png": "[encoded data removed]",
      "text/plain": [
       "<matplotlib.figure.Figure at 0x7f4d358ffc88>"
      ]
     },
     "metadata": {},
     "output_type": "display_data"
    },
    {
     "data": {
      "image/png": "[encoded data removed]",
      "text/plain": [
       "<matplotlib.figure.Figure at 0x7f4d065307f0>"
      ]
     },
     "metadata": {},
     "output_type": "display_data"
    },
    {
     "data": {
      "image/png": "[encoded data removed]",
      "text/plain": [
       "<matplotlib.figure.Figure at 0x7f4d06530128>"
      ]
     },
     "metadata": {},
     "output_type": "display_data"
    }
   ],
   "source": [
    "# Create Hisogram for each type of parameter\n",
    "# VdW\n",
    "make_param_histogram(param_id_counts, param_ids, 'n', \"VdW for aCD\")\n",
    "# Bonds\n",
    "make_param_histogram(param_id_counts, param_ids, 'b', \"Bonds for aCD\")\n",
    "# Angles\n",
    "make_param_histogram(param_id_counts, param_ids, 'a', \"Angles for aCD\")\n",
    "# Torsions\n",
    "make_param_histogram(param_id_counts, param_ids, 't', \"Torsions for aCD\")"
   ]
  },
  {
   "cell_type": "code",
   "execution_count": 32,
   "metadata": {
    "ExecuteTime": {
     "end_time": "2018-09-20T23:58:57.402589Z",
     "start_time": "2018-09-20T23:58:57.398732Z"
    }
   },
   "outputs": [
    {
     "data": {
      "text/plain": [
       "{'t4': 54,\n",
       " 't87': 36,\n",
       " 't3': 36,\n",
       " 't84': 24,\n",
       " 't1': 54,\n",
       " 't2': 18,\n",
       " 'n18': 12,\n",
       " 'n12': 18,\n",
       " 't9': 72,\n",
       " 'n3': 36,\n",
       " 'a27': 30,\n",
       " 'b14': 18,\n",
       " 'b83': 42,\n",
       " 'b87': 18,\n",
       " 'b15': 24,\n",
       " 't86': 24,\n",
       " 'b1': 30,\n",
       " 'a2': 6,\n",
       " 'n16': 36,\n",
       " 't5': 36,\n",
       " 't89': 12,\n",
       " 'n4': 6,\n",
       " 'a1': 210,\n",
       " 't85': 30,\n",
       " 'n19': 18}"
      ]
     },
     "execution_count": 32,
     "metadata": {},
     "output_type": "execute_result"
    }
   ],
   "source": [
    "param_id_counts"
   ]
  },
  {
   "cell_type": "code",
   "execution_count": 35,
   "metadata": {
    "ExecuteTime": {
     "end_time": "2018-09-21T00:00:40.208438Z",
     "start_time": "2018-09-21T00:00:40.203724Z"
    }
   },
   "outputs": [],
   "source": [
    "torsion_names, torsion_counts = [], []\n",
    "for key, value in param_id_counts.items():\n",
    "    if key[0] == \"t\":\n",
    "        torsion_names.append(key)\n",
    "        torsion_counts.append(value)"
   ]
  },
  {
   "cell_type": "code",
   "execution_count": 40,
   "metadata": {
    "ExecuteTime": {
     "end_time": "2018-09-21T00:01:04.831436Z",
     "start_time": "2018-09-21T00:01:04.826631Z"
    }
   },
   "outputs": [
    {
     "data": {
      "text/plain": [
       "array([ 9,  5,  3,  7, 10,  1,  2,  8,  0,  4,  6])"
      ]
     },
     "execution_count": 40,
     "metadata": {},
     "output_type": "execute_result"
    }
   ],
   "source": [
    "np.argsort(torsion_counts)"
   ]
  },
  {
   "cell_type": "code",
   "execution_count": 44,
   "metadata": {
    "ExecuteTime": {
     "end_time": "2018-09-21T00:02:32.722782Z",
     "start_time": "2018-09-21T00:02:32.718465Z"
    }
   },
   "outputs": [],
   "source": [
    "sorted_counts = np.sort(torsion_counts)\n",
    "sorted_names = [torsion_names[i] for i in np.argsort(torsion_counts)]"
   ]
  },
  {
   "cell_type": "code",
   "execution_count": 67,
   "metadata": {
    "ExecuteTime": {
     "end_time": "2018-09-21T00:07:54.251696Z",
     "start_time": "2018-09-21T00:07:53.922071Z"
    }
   },
   "outputs": [
    {
     "data": {
      "text/plain": [
       "<matplotlib.text.Text at 0x7f4d05da8ba8>"
      ]
     },
     "execution_count": 67,
     "metadata": {},
     "output_type": "execute_result"
    },
    {
     "data": {
      "image/png": "[encoded data removed]",
      "text/plain": [
       "<matplotlib.figure.Figure at 0x7f4d05ee55f8>"
      ]
     },
     "metadata": {},
     "output_type": "display_data"
    }
   ],
   "source": [
    "fig, ax = plt.subplots(1, figsize=(6 * 1.2, 6))\n",
    "sns.barplot(sorted_names, sorted_counts, color=\"b\")\n",
    "ax.set_ylabel(\"Count\")\n",
    "ax.set_xlabel(\"SMIRNOFF99Frosst torsion code\", labelpad=10)\n",
    "ax.set_title(r\"$\\alpha$-cyclodextrin\")"
   ]
  },
  {
   "cell_type": "code",
   "execution_count": 48,
   "metadata": {
    "ExecuteTime": {
     "end_time": "2018-09-21T00:04:28.046421Z",
     "start_time": "2018-09-21T00:04:28.042291Z"
    }
   },
   "outputs": [],
   "source": [
    "import seaborn as sns"
   ]
  },
  {
   "cell_type": "code",
   "execution_count": null,
   "metadata": {},
   "outputs": [],
   "source": []
  }
 ],
 "metadata": {
  "kernelspec": {
   "display_name": "Python [conda env:smirnoff-host-guest]",
   "language": "python",
   "name": "conda-env-smirnoff-host-guest-py"
  },
  "language_info": {
   "codemirror_mode": {
    "name": "ipython",
    "version": 3
   },
   "file_extension": ".py",
   "mimetype": "text/x-python",
   "name": "python",
   "nbconvert_exporter": "python",
   "pygments_lexer": "ipython3",
   "version": "3.6.6"
  }
 },
 "nbformat": 4,
 "nbformat_minor": 2
}
