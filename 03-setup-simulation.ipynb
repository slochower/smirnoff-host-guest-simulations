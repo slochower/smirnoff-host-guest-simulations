{
 "cells": [
  {
   "cell_type": "markdown",
   "metadata": {},
   "source": [
    "# Try 1: run the simulations."
   ]
  },
  {
   "cell_type": "code",
   "execution_count": 1,
   "metadata": {
    "ExecuteTime": {
     "end_time": "2018-04-07T02:01:25.733979Z",
     "start_time": "2018-04-07T02:01:25.679271Z"
    }
   },
   "outputs": [],
   "source": [
    "%load_ext autoreload\n",
    "%autoreload 2\n",
    "\n",
    "import os as os\n",
    "import numpy as np\n",
    "import glob\n",
    "import shutil"
   ]
  },
  {
   "cell_type": "code",
   "execution_count": 2,
   "metadata": {
    "ExecuteTime": {
     "end_time": "2018-04-07T02:01:26.154599Z",
     "start_time": "2018-04-07T02:01:26.131218Z"
    }
   },
   "outputs": [
    {
     "name": "stdout",
     "output_type": "stream",
     "text": [
      "2018-04-02_15:06:19_-0700-5a6c2cb-0.0.3\n"
     ]
    }
   ],
   "source": [
    "import paprika\n",
    "print(paprika.__version__)\n",
    "from paprika.amber import Simulation"
   ]
  },
  {
   "cell_type": "markdown",
   "metadata": {},
   "source": [
    "Here are things I need to copy, because I'm setting up the simulations in a different kernel than the restraints."
   ]
  },
  {
   "cell_type": "code",
   "execution_count": 12,
   "metadata": {
    "ExecuteTime": {
     "end_time": "2018-04-04T18:24:09.623410Z",
     "start_time": "2018-04-04T18:24:09.609980Z"
    }
   },
   "outputs": [],
   "source": [
    "window_list = ['a000', 'a001', 'a002', 'a003', 'a004', 'a005', 'a006', 'a007', 'a008', 'a009', 'a010', 'a011', 'a012', 'a013', 'p000', 'p001', 'p002', 'p003', 'p004', 'p005', 'p006', 'p007', 'p008', 'p009', 'p010', 'p011', 'p012', 'p013', 'p014', 'p015', 'p016', 'p017', 'p018', 'p019', 'p020', 'p021', 'p022', 'p023', 'p024', 'p025', 'p026', 'p027', 'p028', 'p029', 'p030', 'p031', 'p032', 'p033', 'p034', 'p035', 'p036', 'p037', 'p038', 'p039', 'p040', 'p041', 'p042', 'p043', 'p044', 'p045']\n",
    "path = 'systems/a-bam-p/smirnoff/'"
   ]
  },
  {
   "cell_type": "code",
   "execution_count": 18,
   "metadata": {
    "ExecuteTime": {
     "end_time": "2018-04-04T19:34:24.380278Z",
     "start_time": "2018-04-04T19:23:51.998008Z"
    }
   },
   "outputs": [],
   "source": [
    "for window in window_list:\n",
    "   \n",
    "    sim = Simulation()\n",
    "    sim.executable = 'pmemd.cuda'\n",
    "    \n",
    "    \n",
    "    sim.prefix = 'minimize'\n",
    "    sim.path = os.path.join(path, window)\n",
    "\n",
    "    # These have to come after the prefix thing...\n",
    "    sim.topology = 'smirnoff.prmtop'\n",
    "    sim.inpcrd = 'smirnoff.inpcrd'\n",
    "    sim.ref = 'smirnoff.inpcrd'\n",
    "    sim.disang = 'disang.rest'\n",
    "    \n",
    "    sim.config_pbc_min()\n",
    "\n",
    "    # These are taken from systems/a-bam-p/original/a00/original/mini.in\n",
    "\n",
    "    sim.cntrl['maxcyc'] = 50000\n",
    "    sim.cntrl['ncyc'] = 5000\n",
    "    sim.cntrl['cut'] = 9.0\n",
    "    sim.cntrl['ntr'] = 1\n",
    "    sim.cntrl['restraint_wt'] = 50.0\n",
    "    sim.cntrl['restraintmask'] = \"':8-10 | :7@C4 | :7@N1'\"\n",
    "    sim.run()"
   ]
  },
  {
   "cell_type": "markdown",
   "metadata": {
    "ExecuteTime": {
     "end_time": "2018-04-04T18:17:42.919136Z",
     "start_time": "2018-04-04T18:17:42.905492Z"
    }
   },
   "source": [
    "`a002` is incomplete!"
   ]
  },
  {
   "cell_type": "code",
   "execution_count": 28,
   "metadata": {
    "ExecuteTime": {
     "end_time": "2018-04-05T13:03:29.510955Z",
     "start_time": "2018-04-04T22:25:45.313404Z"
    }
   },
   "outputs": [],
   "source": [
    "for window in window_list:\n",
    "    sim = Simulation()\n",
    "    sim.executable = 'pmemd.cuda'\n",
    "    sim.prefix = 'traj'\n",
    "    sim.path = os.path.join(path, window)\n",
    "\n",
    "    # These have to come after the prefix thing...\n",
    "    sim.topology = 'smirnoff.prmtop'\n",
    "    sim.inpcrd = 'minimize.rst7'\n",
    "    sim.ref = 'smirnoff.inpcrd'\n",
    "    sim.disang = 'disang.rest'\n",
    "\n",
    "    sim.config_pbc_md()\n",
    "\n",
    "    # These are taken from systems/a-bam-p/original/a00/original/mini.in\n",
    "#     sim.cntrl['ntx'] = 5\n",
    "#     sim.cntrl['irest'] = 1\n",
    "    sim.cntrl['ntpr'] = 1250000\n",
    "    sim.cntrl['ntwr'] = 1250000\n",
    "    sim.cntrl['nstlim'] = 1250000\n",
    "    sim.cntrl['ntwe'] = 250\n",
    "    \n",
    "    sim.cntrl['ntwprt'] = 146\n",
    "    \n",
    "    sim.cntrl['cut'] = 9.0\n",
    "    sim.cntrl['ntr'] = 1\n",
    "    sim.cntrl['restraint_wt'] = 50.0\n",
    "    sim.cntrl['restraintmask'] = \"':8-10'\"\n",
    "    sim.run()"
   ]
  },
  {
   "cell_type": "markdown",
   "metadata": {},
   "source": [
    "Create a prmtop with just 146 atoms..."
   ]
  },
  {
   "cell_type": "markdown",
   "metadata": {},
   "source": [
    "# Control simulations."
   ]
  },
  {
   "cell_type": "code",
   "execution_count": 4,
   "metadata": {
    "ExecuteTime": {
     "end_time": "2018-04-07T02:06:31.873847Z",
     "start_time": "2018-04-07T02:06:31.861019Z"
    }
   },
   "outputs": [],
   "source": [
    "window_list = ['a000', 'a001', 'a002', 'a003', 'a004', 'a005', 'a006', 'a007', 'a008', 'a009', 'a010', 'a011', 'a012', 'a013', 'p000', 'p001', 'p002', 'p003', 'p004', 'p005', 'p006', 'p007', 'p008', 'p009', 'p010', 'p011', 'p012', 'p013', 'p014', 'p015', 'p016', 'p017', 'p018', 'p019', 'p020', 'p021', 'p022', 'p023', 'p024', 'p025', 'p026', 'p027', 'p028', 'p029', 'p030', 'p031', 'p032', 'p033', 'p034', 'p035', 'p036', 'p037', 'p038', 'p039', 'p040', 'p041', 'p042', 'p043', 'p044', 'p045']\n",
    "path = 'systems/a-bam-p/confirm-original/'"
   ]
  },
  {
   "cell_type": "code",
   "execution_count": null,
   "metadata": {
    "ExecuteTime": {
     "start_time": "2018-04-07T02:06:26.236Z"
    }
   },
   "outputs": [],
   "source": [
    "for window in window_list:\n",
    "   \n",
    "    sim = Simulation()\n",
    "    sim.executable = 'pmemd.cuda'\n",
    "    \n",
    "    \n",
    "    sim.prefix = 'minimize'\n",
    "    sim.path = os.path.join(path, window)\n",
    "\n",
    "    # These have to come after the prefix thing...\n",
    "    sim.topology = 'full.hmr.topo'\n",
    "    sim.inpcrd = 'full.crds'\n",
    "    sim.ref = 'full.crds'\n",
    "    sim.disang = 'disang.rest'\n",
    "    \n",
    "    sim.config_pbc_min()\n",
    "\n",
    "    # These are taken from systems/a-bam-p/original/a00/original/mini.in\n",
    "\n",
    "    sim.cntrl['maxcyc'] = 50000\n",
    "    sim.cntrl['ncyc'] = 5000\n",
    "    sim.cntrl['cut'] = 9.0\n",
    "    sim.cntrl['ntr'] = 1\n",
    "    sim.cntrl['restraint_wt'] = 50.0\n",
    "    sim.cntrl['restraintmask'] = \"':1-3 | :10@C4 | :10@N1'\"\n",
    "    sim.run()\n",
    "    \n",
    "    \n",
    "    sim = Simulation()\n",
    "    sim.executable = 'pmemd.cuda'\n",
    "    sim.prefix = 'traj'\n",
    "    sim.path = os.path.join(path, window)\n",
    "\n",
    "    # These have to come after the prefix thing...\n",
    "    sim.topology = 'full.hmr.topo'\n",
    "    sim.inpcrd = 'minimize.rst7'\n",
    "    sim.ref = 'full.crds'\n",
    "    sim.disang = 'disang.rest'\n",
    "\n",
    "    sim.config_pbc_md()\n",
    "\n",
    "    # These are taken from systems/a-bam-p/original/a00/original/mini.in\n",
    "#     sim.cntrl['ntx'] = 5\n",
    "#     sim.cntrl['irest'] = 1\n",
    "    sim.cntrl['ntpr'] = 1250000\n",
    "    sim.cntrl['ntwr'] = 1250000\n",
    "    sim.cntrl['nstlim'] = 1250000\n",
    "    sim.cntrl['ntwe'] = 250\n",
    "    \n",
    "    sim.cntrl['ntwprt'] = 146\n",
    "    \n",
    "    sim.cntrl['cut'] = 9.0\n",
    "    sim.cntrl['ntr'] = 1\n",
    "    sim.cntrl['restraint_wt'] = 50.0\n",
    "    sim.cntrl['restraintmask'] = \"':1-3'\"\n",
    "    sim.run()"
   ]
  },
  {
   "cell_type": "code",
   "execution_count": null,
   "metadata": {},
   "outputs": [],
   "source": []
  }
 ],
 "metadata": {
  "kernelspec": {
   "display_name": "Python [conda env:smirnoff-paprika]",
   "language": "python",
   "name": "conda-env-smirnoff-paprika-py"
  },
  "language_info": {
   "codemirror_mode": {
    "name": "ipython",
    "version": 3
   },
   "file_extension": ".py",
   "mimetype": "text/x-python",
   "name": "python",
   "nbconvert_exporter": "python",
   "pygments_lexer": "ipython3",
   "version": "3.6.4"
  }
 },
 "nbformat": 4,
 "nbformat_minor": 2
}
