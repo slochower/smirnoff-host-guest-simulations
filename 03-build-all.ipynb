{
 "cells": [
  {
   "cell_type": "markdown",
   "metadata": {},
   "source": [
    "# Align, add dummy atoms, and solvate with `pAPRika`"
   ]
  },
  {
   "cell_type": "code",
   "execution_count": 12,
   "metadata": {
    "ExecuteTime": {
     "end_time": "2018-03-13T18:40:38.141621Z",
     "start_time": "2018-03-13T18:40:37.702318Z"
    }
   },
   "outputs": [
    {
     "name": "stdout",
     "output_type": "stream",
     "text": [
      "The autoreload extension is already loaded. To reload it, use:\n",
      "  %reload_ext autoreload\n"
     ]
    }
   ],
   "source": [
    "%load_ext autoreload\n",
    "%autoreload 2\n",
    "\n",
    "import os as os\n",
    "import glob as glob\n",
    "import numpy as np\n",
    "\n",
    "import parmed as pmd\n",
    "import paprika"
   ]
  },
  {
   "cell_type": "code",
   "execution_count": 8,
   "metadata": {
    "ExecuteTime": {
     "end_time": "2018-03-13T18:35:46.154471Z",
     "start_time": "2018-03-13T18:35:46.102469Z"
    }
   },
   "outputs": [],
   "source": [
    "prefix = './benchmarksets/input_files/'\n",
    "suffix = '/prmtop-rst7/'\n",
    "benchmarksets = [\n",
    "    'cb7-set1',\n",
    "    'cb7-set2',\n",
    "    'cd-set1',\n",
    "    'cd-set2',\n",
    "    'gdcc-set1',\n",
    "    'gdcc-set2'\n",
    "]\n",
    "\n",
    "systems = []\n",
    "\n",
    "for system in benchmarksets:\n",
    "    for index, file in enumerate(sorted(glob.glob(prefix + system + suffix + '*.prmtop'))):\n",
    "        systems.append(file)"
   ]
  },
  {
   "cell_type": "code",
   "execution_count": 13,
   "metadata": {
    "ExecuteTime": {
     "end_time": "2018-03-13T18:41:22.608900Z",
     "start_time": "2018-03-13T18:41:09.734647Z"
    }
   },
   "outputs": [],
   "source": [
    "for file in systems:\n",
    "    base_name = file[:-7].split('/')[-1]\n",
    "    host_set = file[:-7].split('/')[-3]\n",
    "    host = host_set.split('-')[0]\n",
    "    guest = base_name.split('-')[1]\n",
    "        \n",
    "    destination = prefix + host_set + '/' + suffix + 'smirnoff/' + base_name + '/'\n",
    "    reference_prmtop = base_name + '.prmtop'\n",
    "    reference_inpcrd = base_name + '.rst7'\n",
    "    \n",
    "    smirnoff_prmtop = 'hg.prmtop'\n",
    "    smirnoff_inpcrd = 'hg.inpcrd'\n",
    "    \n",
    "    if 'cb7' in host:\n",
    "        host_resname = 'CB7'\n",
    "    elif 'cd' in host:\n",
    "        host_resname = 'MGO'\n",
    "    elif 'gdcc' in host and 'temoa' in base_name:\n",
    "        host_resname = 'OCB'\n",
    "    elif 'gdcc' in host and 'oa' in base_name:\n",
    "        host_resname = 'OCT'\n",
    "    guest_resname = 'MOL'\n",
    "    \n",
    "    hg = pmd.load_file(destination + smirnoff_prmtop, destination + smirnoff_inpcrd)"
   ]
  },
  {
   "cell_type": "code",
   "execution_count": null,
   "metadata": {},
   "outputs": [],
   "source": [
    "# Load and align\n",
    "hostguest = pmd.load_file('cb6-but-notcentered.pdb', structure=True)\n",
    "hostguest = align.zalign(hostguest, ':BUT@C', ':BUT@C3', save=True, filename='cb6-but-aligned.pdb')\n",
    "\n",
    "# Add dummy atoms\n",
    "hostguest = build.add_dummy(hostguest, residue_name='DM1', z=-6.000)\n",
    "hostguest = build.add_dummy(hostguest, residue_name='DM2', z=-9.000)\n",
    "hostguest = build.add_dummy(hostguest, residue_name='DM3', z=-11.200, y=2.200)\n",
    "hostguest.write_pdb('cb6-but-aligned-dum.pdb', renumber=False)"
   ]
  }
 ],
 "metadata": {
  "kernelspec": {
   "display_name": "Python [conda env:smirnoff-host-guest]",
   "language": "python",
   "name": "conda-env-smirnoff-host-guest-py"
  },
  "language_info": {
   "codemirror_mode": {
    "name": "ipython",
    "version": 3
   },
   "file_extension": ".py",
   "mimetype": "text/x-python",
   "name": "python",
   "nbconvert_exporter": "python",
   "pygments_lexer": "ipython3",
   "version": "3.6.4"
  }
 },
 "nbformat": 4,
 "nbformat_minor": 2
}
