{
 "cells": [
  {
   "cell_type": "code",
   "execution_count": 2,
   "metadata": {
    "ExecuteTime": {
     "end_time": "2019-01-12T21:45:20.950166Z",
     "start_time": "2019-01-12T21:45:20.890089Z"
    },
    "scrolled": true
   },
   "outputs": [
    {
     "name": "stdout",
     "output_type": "stream",
     "text": [
      "The autoreload extension is already loaded. To reload it, use:\n",
      "  %reload_ext autoreload\n"
     ]
    }
   ],
   "source": [
    "import parmed as pmd\n",
    "import numpy as np\n",
    "import os\n",
    "import pandas as pd\n",
    "\n",
    "import matplotlib as mpl\n",
    "import matplotlib.pyplot as plt\n",
    "from matplotlib.gridspec import GridSpec\n",
    "from matplotlib.colors import colorConverter\n",
    "import seaborn as sns\n",
    "\n",
    "%load_ext autoreload\n",
    "%autoreload 2\n",
    "%matplotlib inline"
   ]
  },
  {
   "cell_type": "code",
   "execution_count": 3,
   "metadata": {
    "ExecuteTime": {
     "end_time": "2019-01-12T21:45:23.780211Z",
     "start_time": "2019-01-12T21:45:23.615251Z"
    }
   },
   "outputs": [
    {
     "name": "stdout",
     "output_type": "stream",
     "text": [
      "/home/dslochower/data/projects/smirnoff-host-guest-simulations-analysis\r\n"
     ]
    }
   ],
   "source": [
    "!pwd"
   ]
  },
  {
   "cell_type": "code",
   "execution_count": 4,
   "metadata": {
    "ExecuteTime": {
     "end_time": "2019-01-12T21:45:44.584910Z",
     "start_time": "2019-01-12T21:45:44.448620Z"
    }
   },
   "outputs": [],
   "source": [
    "vac = pmd.load_file(\"../smirnoff-host-guest-simulations-data-2/geometry/trimer/vac.topo\",\n",
    "                   \"../smirnoff-host-guest-simulations-data-2/geometry/trimer/vac.crds\")"
   ]
  },
  {
   "cell_type": "code",
   "execution_count": 12,
   "metadata": {
    "ExecuteTime": {
     "end_time": "2019-01-12T21:47:57.928678Z",
     "start_time": "2019-01-12T21:47:57.880038Z"
    }
   },
   "outputs": [],
   "source": [
    "pseudodihedral = [\":4@O3\", \":4@C4\", \":5@C1\", \":5@O2\"]"
   ]
  },
  {
   "cell_type": "code",
   "execution_count": 13,
   "metadata": {
    "ExecuteTime": {
     "end_time": "2019-01-12T21:48:13.900549Z",
     "start_time": "2019-01-12T21:48:13.842444Z"
    }
   },
   "outputs": [
    {
     "name": "stdout",
     "output_type": "stream",
     "text": [
      "[13]\n",
      "[15]\n",
      "[25]\n",
      "[30]\n"
     ]
    }
   ],
   "source": [
    "for atom in pseudodihedral:\n",
    "    print([i + 1 for i in pmd.amber.mask.AmberMask(vac, atom).Selected()])"
   ]
  },
  {
   "cell_type": "code",
   "execution_count": 14,
   "metadata": {
    "ExecuteTime": {
     "end_time": "2019-01-12T22:13:59.252989Z",
     "start_time": "2019-01-12T22:13:57.817703Z"
    }
   },
   "outputs": [],
   "source": [
    "import pytraj as pt"
   ]
  },
  {
   "cell_type": "code",
   "execution_count": 17,
   "metadata": {
    "ExecuteTime": {
     "end_time": "2019-01-12T22:14:46.520300Z",
     "start_time": "2019-01-12T22:14:46.479118Z"
    },
    "code_folding": []
   },
   "outputs": [],
   "source": [
    "structure = pt.load(\"../smirnoff-host-guest-simulations-data-2/geometry/trimer/Restrts/restrt.0\",\n",
    "       top = \"../smirnoff-host-guest-simulations-data-2/geometry/trimer/vac.topo\")"
   ]
  },
  {
   "cell_type": "code",
   "execution_count": 19,
   "metadata": {
    "ExecuteTime": {
     "end_time": "2019-01-12T22:15:10.014330Z",
     "start_time": "2019-01-12T22:15:09.917324Z"
    }
   },
   "outputs": [],
   "source": [
    "structure.save(\"../smirnoff-host-guest-simulations-data-2/geometry/trimer/tmp.pdb\")"
   ]
  },
  {
   "cell_type": "code",
   "execution_count": 38,
   "metadata": {
    "ExecuteTime": {
     "end_time": "2019-01-14T01:45:27.518136Z",
     "start_time": "2019-01-14T01:45:27.286102Z"
    }
   },
   "outputs": [],
   "source": [
    "import glob\n",
    "for file in sorted(glob.glob(\"../smirnoff-host-guest-simulations-data-2/geometry/trimer/Restrts/restrt.*\")):\n",
    "    structure = pt.load(file, top = \"../smirnoff-host-guest-simulations-data-2/geometry/trimer/alpha_gaff.prmtop\")\n",
    "    structure.save(f\"../smirnoff-host-guest-simulations-data-2/geometry/trimer/Restrts/restrt.{file.split('.')[-1]}.pdb\")"
   ]
  },
  {
   "cell_type": "code",
   "execution_count": 29,
   "metadata": {
    "ExecuteTime": {
     "end_time": "2019-01-12T22:36:54.353665Z",
     "start_time": "2019-01-12T22:36:54.096253Z"
    }
   },
   "outputs": [
    {
     "data": {
      "text/plain": [
       "[<matplotlib.lines.Line2D at 0x7f18edc27198>]"
      ]
     },
     "execution_count": 29,
     "metadata": {},
     "output_type": "execute_result"
    },
    {
     "data": {
      "image/png": "[encoded data removed]",
      "text/plain": [
       "<matplotlib.figure.Figure at 0x7f18ed864358>"
      ]
     },
     "metadata": {},
     "output_type": "display_data"
    }
   ],
   "source": [
    "results = np.genfromtxt(\"../smirnoff-host-guest-simulations-data-2/geometry/trimer/profile.dat\")\n",
    "plt.plot(results[:,0], results[:,1])"
   ]
  },
  {
   "cell_type": "code",
   "execution_count": 31,
   "metadata": {
    "ExecuteTime": {
     "end_time": "2019-01-14T01:28:11.671168Z",
     "start_time": "2019-01-14T01:28:11.588648Z"
    }
   },
   "outputs": [],
   "source": [
    "structure = pmd.load_file(\"../smirnoff-host-guest-simulations-analysis/geometry/alpha_gaff.prmtop\",\n",
    "                   \"../smirnoff-host-guest-simulations-analysis/geometry/alpha_gaff.rst7\")"
   ]
  },
  {
   "cell_type": "code",
   "execution_count": 32,
   "metadata": {
    "ExecuteTime": {
     "end_time": "2019-01-14T01:29:42.157565Z",
     "start_time": "2019-01-14T01:29:42.129949Z"
    }
   },
   "outputs": [],
   "source": [
    "pseudodihedral = [\":5@O3\", \":5@C4\", \":4@C1\", \":4@O2\", \":6@O3\", \":6@C4\", \":5@C1\", \":5@O2\"]"
   ]
  },
  {
   "cell_type": "code",
   "execution_count": 34,
   "metadata": {
    "ExecuteTime": {
     "end_time": "2019-01-14T01:33:47.921671Z",
     "start_time": "2019-01-14T01:33:47.849965Z"
    }
   },
   "outputs": [
    {
     "name": "stdout",
     "output_type": "stream",
     "text": [
      "atom1=34\n",
      "atom2=36\n",
      "atom3=4\n",
      "atom4=9\n",
      "atom5=55\n",
      "atom6=57\n",
      "atom7=25\n",
      "atom8=30\n"
     ]
    }
   ],
   "source": [
    "for index, atom in enumerate(pseudodihedral):\n",
    "    print(f\"atom{index+1}={[i + 1 for i in pmd.amber.mask.AmberMask(vac, atom).Selected()][0]}\")"
   ]
  },
  {
   "cell_type": "code",
   "execution_count": 37,
   "metadata": {
    "ExecuteTime": {
     "end_time": "2019-01-14T01:44:43.182100Z",
     "start_time": "2019-01-14T01:44:42.924630Z"
    }
   },
   "outputs": [
    {
     "data": {
      "text/plain": [
       "[<matplotlib.lines.Line2D at 0x7f18ed66c6a0>]"
      ]
     },
     "execution_count": 37,
     "metadata": {},
     "output_type": "execute_result"
    },
    {
     "data": {
      "image/png": "[encoded data removed]",
      "text/plain": [
       "<matplotlib.figure.Figure at 0x7f18ed92f5c0>"
      ]
     },
     "metadata": {},
     "output_type": "display_data"
    }
   ],
   "source": [
    "results = np.genfromtxt(\"../smirnoff-host-guest-simulations-data-2/geometry/trimer/profile.dat\")\n",
    "plt.plot(results[:,0], results[:,1])"
   ]
  },
  {
   "cell_type": "code",
   "execution_count": 36,
   "metadata": {
    "ExecuteTime": {
     "end_time": "2019-01-14T01:43:57.779538Z",
     "start_time": "2019-01-14T01:43:57.731842Z"
    }
   },
   "outputs": [
    {
     "data": {
      "text/plain": [
       "array([[-8.300000e-02,  3.156049e+02],\n",
       "       [ 4.990000e+00,  3.113831e+02],\n",
       "       [ 9.982000e+00,  3.117476e+02],\n",
       "       ...,\n",
       "       [ 3.499460e+02,  3.654459e+02],\n",
       "       [ 0.000000e+00,  3.627392e+02],\n",
       "       [ 0.000000e+00,  3.639174e+02]])"
      ]
     },
     "execution_count": 36,
     "metadata": {},
     "output_type": "execute_result"
    }
   ],
   "source": [
    "results"
   ]
  },
  {
   "cell_type": "code",
   "execution_count": null,
   "metadata": {},
   "outputs": [],
   "source": []
  }
 ],
 "metadata": {
  "kernelspec": {
   "display_name": "Python [default]",
   "language": "python",
   "name": "python3"
  },
  "language_info": {
   "codemirror_mode": {
    "name": "ipython",
    "version": 3
   },
   "file_extension": ".py",
   "mimetype": "text/x-python",
   "name": "python",
   "nbconvert_exporter": "python",
   "pygments_lexer": "ipython3",
   "version": "3.6.4"
  }
 },
 "nbformat": 4,
 "nbformat_minor": 2
}
