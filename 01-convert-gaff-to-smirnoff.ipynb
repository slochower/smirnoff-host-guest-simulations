{
 "cells": [
  {
   "cell_type": "code",
   "execution_count": 1,
   "metadata": {},
   "outputs": [
    {
     "name": "stdout",
     "output_type": "stream",
     "text": [
      "Using `git` to find current version`.\n"
     ]
    }
   ],
   "source": [
    "%load_ext autoreload\n",
    "%load_ext blackcellmagic\n",
    "%autoreload 2\n",
    "\n",
    "import os as os\n",
    "\n",
    "from rsync import rsync\n",
    "from smirnovert.convert import convert\n",
    "from constants import systems"
   ]
  },
  {
   "cell_type": "code",
   "execution_count": 3,
   "metadata": {},
   "outputs": [],
   "source": [
    "systems = systems.split(\"\\n\")\n"
   ]
  },
  {
   "cell_type": "code",
   "execution_count": 4,
   "metadata": {},
   "outputs": [],
   "source": [
    "systems = [i[2:] for i in systems]\n"
   ]
  },
  {
   "cell_type": "code",
   "execution_count": 5,
   "metadata": {},
   "outputs": [],
   "source": [
    "systems = [i for i in systems if \"xxxx\" not in i]\n"
   ]
  },
  {
   "cell_type": "code",
   "execution_count": 50,
   "metadata": {},
   "outputs": [],
   "source": [
    "for system in systems:\n",
    "    rsync(system)\n"
   ]
  },
  {
   "cell_type": "markdown",
   "metadata": {},
   "source": [
    "# Convert the systems to `smirnoff99Frosst` using `smirnovert`"
   ]
  },
  {
   "cell_type": "markdown",
   "metadata": {},
   "source": [
    "I am **not** using unique two-character atom names -- let's see if this works."
   ]
  },
  {
   "cell_type": "code",
   "execution_count": 12,
   "metadata": {},
   "outputs": [
    {
     "name": "stdout",
     "output_type": "stream",
     "text": [
      "Check if the host-guest parameter file already exists...\n",
      "Check if the host-guest coordinate file already exists...\n",
      "Check if solvated parameter file already exists...\n",
      "Check if solvated coordinate file already exists...\n"
     ]
    }
   ],
   "source": [
    "system = systems[0]\n",
    "\n",
    "_ = convert(\n",
    "    source=os.path.abspath(os.path.join(\"systems\", system, \"bgbg-tip3p\")),\n",
    "    destination=os.path.abspath(os.path.join(\"systems\", system, \"smirnoff\")),\n",
    "    prefix=\"smirnoff\",\n",
    "    reference_prmtop=\"full.hmr.topo\",\n",
    "    reference_inpcrd=\"full.crds\",\n",
    "    host_resname=\"MGO\",\n",
    "    guest_resname=system[2:5],\n",
    "    dummy=True,\n",
    ")\n"
   ]
  },
  {
   "cell_type": "code",
   "execution_count": 14,
   "metadata": {},
   "outputs": [
    {
     "name": "stdout",
     "output_type": "stream",
     "text": [
      "Check if the host-guest parameter file already exists...\n",
      "Check if the host-guest coordinate file already exists...\n",
      "Check if solvated parameter file already exists...\n",
      "Check if solvated coordinate file already exists...\n"
     ]
    }
   ],
   "source": [
    "for system in systems:\n",
    "    \n",
    "    smirnoff = os.path.join(\"systems\", system, \"smirnoff\")\n",
    "    if not os.path.isdir(smirnoff):\n",
    "        os.makedirs(smirnoff)\n",
    "\n",
    "    _ = convert(\n",
    "    source=os.path.abspath(os.path.join(\"systems\", system, \"bgbg-tip3p\")),\n",
    "    destination=os.path.abspath(os.path.join(\"systems\", system, \"smirnoff\")),\n",
    "    prefix=\"smirnoff\",\n",
    "    reference_prmtop=\"full.hmr.topo\",\n",
    "    reference_inpcrd=\"full.crds\",\n",
    "    host_resname=\"MGO\",\n",
    "    guest_resname=system[2:5],\n",
    "    dummy=True,\n",
    ")\n"
   ]
  }
 ],
 "metadata": {
  "kernelspec": {
   "display_name": "Python [conda env:smirnoff-paprika]",
   "language": "python",
   "name": "conda-env-smirnoff-paprika-py"
  },
  "language_info": {
   "codemirror_mode": {
    "name": "ipython",
    "version": 3
   },
   "file_extension": ".py",
   "mimetype": "text/x-python",
   "name": "python",
   "nbconvert_exporter": "python",
   "pygments_lexer": "ipython3",
   "version": "3.6.6"
  }
 },
 "nbformat": 4,
 "nbformat_minor": 2
}
