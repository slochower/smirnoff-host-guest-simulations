{
 "cells": [
  {
   "cell_type": "markdown",
   "metadata": {},
   "source": [
    "# Run a test calculation with `a-bam-p`/`acd-1-p` to find gaps in our workflow..."
   ]
  },
  {
   "cell_type": "code",
   "execution_count": 4,
   "metadata": {
    "ExecuteTime": {
     "end_time": "2018-03-17T18:05:04.585004Z",
     "start_time": "2018-03-17T18:05:04.565419Z"
    }
   },
   "outputs": [
    {
     "name": "stdout",
     "output_type": "stream",
     "text": [
      "0.0.4\n"
     ]
    }
   ],
   "source": [
    "import logging\n",
    "import openforcefield\n",
    "print(openforcefield.__version__)\n",
    "\n",
    "from openforcefield.typing.engines.smirnoff import ForceField, unit"
   ]
  },
  {
   "cell_type": "code",
   "execution_count": 5,
   "metadata": {
    "ExecuteTime": {
     "end_time": "2018-03-17T18:05:09.756164Z",
     "start_time": "2018-03-17T18:05:09.735181Z"
    }
   },
   "outputs": [
    {
     "name": "stdout",
     "output_type": "stream",
     "text": [
      "2018.Feb.1\n"
     ]
    }
   ],
   "source": [
    "import openeye.oechem\n",
    "print(openeye.__version__)\n",
    "\n",
    "from openeye.oechem import (\n",
    "    oemolistream, oemolostream, OEIFlavor_MOL2_Forcefield,\n",
    "    OEIFlavor_Generic_Default, OEIFlavor_PDB_Default, OEIFlavor_PDB_ALL,\n",
    "    OEFormat_MOL2, OEFormat_MOL2H, OEWriteMolecule, OETriposAtomNames, OEMol,\n",
    "    OEFormat_PDB, OESmilesToMol, OEAddExplicitHydrogens, OEHasAtomIdx,\n",
    "    OEAtomGetResidue)"
   ]
  },
  {
   "cell_type": "code",
   "execution_count": 6,
   "metadata": {
    "ExecuteTime": {
     "end_time": "2018-03-17T18:05:15.395402Z",
     "start_time": "2018-03-17T18:05:15.376120Z"
    }
   },
   "outputs": [
    {
     "name": "stdout",
     "output_type": "stream",
     "text": [
      "2.7.3\n"
     ]
    }
   ],
   "source": [
    "import parmed as pmd\n",
    "print(pmd.__version__)"
   ]
  },
  {
   "cell_type": "code",
   "execution_count": 7,
   "metadata": {
    "ExecuteTime": {
     "end_time": "2018-03-17T18:05:22.212757Z",
     "start_time": "2018-03-17T18:05:22.177932Z"
    }
   },
   "outputs": [],
   "source": [
    "def load_mol2(filename, name=None, add_tripos=True, flavor='FF'):\n",
    "    \"\"\"\n",
    "    Converts a `mol2` file to an `OEMol` object.\n",
    "    Parameters\n",
    "    ----------\n",
    "    filename : str\n",
    "        MOL2 file\n",
    "    name : str\n",
    "        Residue name\n",
    "    add_tripos : bool\n",
    "        Whether to add Tripos atom names to the file\n",
    "    Returns\n",
    "    -------\n",
    "    openeye.oechem.OEMol\n",
    "    \"\"\"\n",
    "    logging.info(f'Loading {filename}...')\n",
    "    ifs = oemolistream()\n",
    "    if flavor is not None:\n",
    "        flavor = OEIFlavor_MOL2_Forcefield\n",
    "        ifs.SetFlavor(OEFormat_MOL2, flavor)\n",
    "    molecules = []\n",
    "\n",
    "    if not ifs.open(filename):\n",
    "        logging.error(f'Unable to open {filename} for reading...')\n",
    "\n",
    "    for mol in ifs.GetOEMols():\n",
    "        if add_tripos:\n",
    "            OETriposAtomNames(mol)\n",
    "        if name:\n",
    "            mol.SetTitle(name)\n",
    "        # Add all the molecules in this file to a list, but only return the first one.\n",
    "        molecules.append(OEMol(mol))\n",
    "        # This should now handle single-residue and multi-residue hosts.\n",
    "        return molecules[0]"
   ]
  },
  {
   "cell_type": "code",
   "execution_count": 14,
   "metadata": {
    "ExecuteTime": {
     "end_time": "2018-03-17T18:06:54.422119Z",
     "start_time": "2018-03-17T18:06:54.399790Z"
    }
   },
   "outputs": [
    {
     "name": "stderr",
     "output_type": "stream",
     "text": [
      "INFO:root:Loading ./benchmarksets/input_files/cd-set1//prmtop-rst7/smirnoff/acd-1-p/MGO-sybyl.mol2...\n",
      "INFO:root:Loading ./benchmarksets/input_files/cd-set1//prmtop-rst7/smirnoff/acd-1-p/MOL-sybyl.mol2...\n"
     ]
    }
   ],
   "source": [
    "path = './benchmarksets/input_files/cd-set1//prmtop-rst7/smirnoff/acd-1-p/'\n",
    "host = load_mol2(path + 'MGO-sybyl.mol2', add_tripos=True)\n",
    "guest = load_mol2(path + 'MOL-sybyl.mol2')"
   ]
  },
  {
   "cell_type": "code",
   "execution_count": 15,
   "metadata": {
    "ExecuteTime": {
     "end_time": "2018-03-17T18:06:58.356322Z",
     "start_time": "2018-03-17T18:06:58.338459Z"
    }
   },
   "outputs": [],
   "source": [
    "molecules = [host, guest]"
   ]
  },
  {
   "cell_type": "code",
   "execution_count": 16,
   "metadata": {
    "ExecuteTime": {
     "end_time": "2018-03-17T18:07:01.800965Z",
     "start_time": "2018-03-17T18:07:01.777220Z"
    }
   },
   "outputs": [],
   "source": [
    "def create_host_guest_topology(components, host_resname, guest_resname):\n",
    "    \"\"\"Return the topology components belonging the host and guest only.\n",
    "    \n",
    "    Parameters:\n",
    "    ----------\n",
    "    components : parmed.topology.components\n",
    "        ParmEd topology components, split by molecule\n",
    "    host_resname : str\n",
    "        Residue name of the host molecule (no colon)\n",
    "    guest_resname : str\n",
    "        Residue name of the guest molecule (no colon)\n",
    "    Returns\n",
    "    -------\n",
    "    pmd.Structure\n",
    "        A ParmEd structure containing just the host and guest molecule\n",
    "    \"\"\"\n",
    "    logging.info(\n",
    "        'Creating a combined topology for the host and guest molecules...')\n",
    "    topology = pmd.Structure()\n",
    "    for component in components:\n",
    "        # Check the first residue of each component because there may be multiple residues in each component, but they should all have the same residue name.hash\n",
    "        if component[0].residues[0].name == host_resname.upper() or \\\n",
    "            component[0].residues[0].name == guest_resname.upper():\n",
    "            topology += component[0]\n",
    "    return topology"
   ]
  },
  {
   "cell_type": "code",
   "execution_count": 17,
   "metadata": {
    "ExecuteTime": {
     "end_time": "2018-03-17T18:07:02.878324Z",
     "start_time": "2018-03-17T18:07:01.920396Z"
    }
   },
   "outputs": [],
   "source": [
    "# Either loading acd-1-p.prmtop and acd-1-p.rst7 or loading smirnoff.pruned.pdb (created from those files) casues an error.\n",
    "input_topology = pmd.load_file(path + 'smirnoff.pruned.pdb')"
   ]
  },
  {
   "cell_type": "code",
   "execution_count": 18,
   "metadata": {
    "ExecuteTime": {
     "end_time": "2018-03-17T18:07:02.988589Z",
     "start_time": "2018-03-17T18:07:02.880108Z"
    }
   },
   "outputs": [
    {
     "name": "stderr",
     "output_type": "stream",
     "text": [
      "INFO:root:Creating a combined topology for the host and guest molecules...\n"
     ]
    }
   ],
   "source": [
    "topology = create_host_guest_topology(input_topology.split(), 'MGO', 'MOL')"
   ]
  },
  {
   "cell_type": "code",
   "execution_count": 19,
   "metadata": {
    "ExecuteTime": {
     "end_time": "2018-03-17T18:07:03.141853Z",
     "start_time": "2018-03-17T18:07:02.990168Z"
    }
   },
   "outputs": [
    {
     "ename": "AttributeError",
     "evalue": "'Structure' object has no attribute '_chains'",
     "output_type": "error",
     "traceback": [
      "\u001b[0;31m---------------------------------------------------------------------------\u001b[0m",
      "\u001b[0;31mAttributeError\u001b[0m                            Traceback (most recent call last)",
      "\u001b[0;32m<ipython-input-19-2af3d7c3c85a>\u001b[0m in \u001b[0;36m<module>\u001b[0;34m()\u001b[0m\n\u001b[1;32m      4\u001b[0m     \u001b[0mmolecules\u001b[0m\u001b[0;34m,\u001b[0m\u001b[0;34m\u001b[0m\u001b[0m\n\u001b[1;32m      5\u001b[0m     \u001b[0mnonbondedCutoff\u001b[0m\u001b[0;34m=\u001b[0m\u001b[0;36m1.1\u001b[0m \u001b[0;34m*\u001b[0m \u001b[0munit\u001b[0m\u001b[0;34m.\u001b[0m\u001b[0mnanometer\u001b[0m\u001b[0;34m,\u001b[0m\u001b[0;34m\u001b[0m\u001b[0m\n\u001b[0;32m----> 6\u001b[0;31m     ewaldErrorTolerance=1e-4)\n\u001b[0m",
      "\u001b[0;32m~/data/applications/anaconda3/envs/smirnoff-paprika/lib/python3.6/site-packages/openforcefield/typing/engines/smirnoff/forcefield.py\u001b[0m in \u001b[0;36mcreateSystem\u001b[0;34m(self, topology, molecules, nonbondedMethod, nonbondedCutoff, constraints, rigidWater, removeCMMotion, hydrogenMass, residueTemplates, chargeMethod, verbose, **kwargs)\u001b[0m\n\u001b[1;32m    967\u001b[0m \u001b[0;34m\u001b[0m\u001b[0m\n\u001b[1;32m    968\u001b[0m         \u001b[0;31m# Work with a modified form of the topology that provides additional accessors.\u001b[0m\u001b[0;34m\u001b[0m\u001b[0;34m\u001b[0m\u001b[0m\n\u001b[0;32m--> 969\u001b[0;31m         \u001b[0mtopology\u001b[0m \u001b[0;34m=\u001b[0m \u001b[0m_Topology\u001b[0m\u001b[0;34m(\u001b[0m\u001b[0mtopology\u001b[0m\u001b[0;34m,\u001b[0m \u001b[0mmolecules\u001b[0m\u001b[0;34m)\u001b[0m\u001b[0;34m\u001b[0m\u001b[0m\n\u001b[0m\u001b[1;32m    970\u001b[0m \u001b[0;34m\u001b[0m\u001b[0m\n\u001b[1;32m    971\u001b[0m         \u001b[0;31m# If the charge method was not an OpenEye AM1 method and we need Wiberg bond orders, obtain Wiberg bond orders\u001b[0m\u001b[0;34m\u001b[0m\u001b[0;34m\u001b[0m\u001b[0m\n",
      "\u001b[0;32m~/data/applications/anaconda3/envs/smirnoff-paprika/lib/python3.6/site-packages/openforcefield/typing/engines/smirnoff/forcefield.py\u001b[0m in \u001b[0;36m__init__\u001b[0;34m(self, topology, reference_molecules)\u001b[0m\n\u001b[1;32m    182\u001b[0m         \u001b[0;31m# TODO: Find a way to avoid having this be fragile based on internal representation of Topology.\u001b[0m\u001b[0;34m\u001b[0m\u001b[0;34m\u001b[0m\u001b[0m\n\u001b[1;32m    183\u001b[0m         \u001b[0;31m# TODO: Should this also use a deepcopy of 'topology' first?\u001b[0m\u001b[0;34m\u001b[0m\u001b[0;34m\u001b[0m\u001b[0m\n\u001b[0;32m--> 184\u001b[0;31m         \u001b[0mself\u001b[0m\u001b[0;34m.\u001b[0m\u001b[0m_chains\u001b[0m \u001b[0;34m=\u001b[0m \u001b[0mtopology\u001b[0m\u001b[0;34m.\u001b[0m\u001b[0m_chains\u001b[0m\u001b[0;34m\u001b[0m\u001b[0m\n\u001b[0m\u001b[1;32m    185\u001b[0m         \u001b[0mself\u001b[0m\u001b[0;34m.\u001b[0m\u001b[0m_numResidues\u001b[0m \u001b[0;34m=\u001b[0m \u001b[0mtopology\u001b[0m\u001b[0;34m.\u001b[0m\u001b[0m_numResidues\u001b[0m\u001b[0;34m\u001b[0m\u001b[0m\n\u001b[1;32m    186\u001b[0m         \u001b[0mself\u001b[0m\u001b[0;34m.\u001b[0m\u001b[0m_numAtoms\u001b[0m \u001b[0;34m=\u001b[0m \u001b[0mtopology\u001b[0m\u001b[0;34m.\u001b[0m\u001b[0m_numAtoms\u001b[0m\u001b[0;34m\u001b[0m\u001b[0m\n",
      "\u001b[0;31mAttributeError\u001b[0m: 'Structure' object has no attribute '_chains'"
     ]
    }
   ],
   "source": [
    "ff = ForceField('forcefield/smirnoff99Frosst.offxml')\n",
    "system = ff.createSystem(\n",
    "    topology,\n",
    "    molecules,\n",
    "    nonbondedCutoff=1.1 * unit.nanometer,\n",
    "    ewaldErrorTolerance=1e-4)"
   ]
  },
  {
   "cell_type": "code",
   "execution_count": null,
   "metadata": {},
   "outputs": [],
   "source": []
  },
  {
   "cell_type": "markdown",
   "metadata": {},
   "source": [
    "## Load in the reference coordinates and SMIRNOFF99Frosst parameters"
   ]
  },
  {
   "cell_type": "code",
   "execution_count": 57,
   "metadata": {
    "ExecuteTime": {
     "end_time": "2018-03-17T18:02:03.413436Z",
     "start_time": "2018-03-17T18:02:03.373308Z"
    }
   },
   "outputs": [],
   "source": [
    "def my_convert(destination,\n",
    "            prefix,\n",
    "            reference_prmtop,\n",
    "            reference_inpcrd,\n",
    "            host_resname,\n",
    "            guest_resname,\n",
    "            debug=False):\n",
    "    \"\"\"\n",
    "    Convert from an existing parameter set to SMIRNOFF99Frosst.\n",
    "    Parameters\n",
    "    ----------\n",
    "    destination : str\n",
    "        Directory where existing files will be read and new files will be written\n",
    "    prefix : str\n",
    "        Base name of output files (e.g., \"smirnoff\" or \"hg\")\n",
    "    reference_prmtop : str\n",
    "        Name of existing AMBER parameter file\n",
    "    reference_inpcrd : str\n",
    "        Name of existing AMBER coordinate file\n",
    "    host_resname : str\n",
    "        Residue name of the host molecule (*not* the mask)\n",
    "    guest_resname : str\n",
    "        Residue name of the guest molecule (*not* the mask)\n",
    "    debug : bool\n",
    "        If True, intermediary files will be kept\n",
    "    Returns\n",
    "    -------\n",
    "    merged : parmed.Structure\n",
    "        A ParmEd structure containing the SMIRNOFF99Frosst parameters and coordinates\n",
    "    \"\"\"\n",
    "\n",
    "    reference = pmd.load_file(\n",
    "        destination + reference_prmtop, xyz=destination + reference_inpcrd)\n",
    "    \n",
    "    components = split_topology(file_name=destination + prefix + '.pruned.pdb')\n",
    "    hg_topology = create_host_guest_topology(\n",
    "        components, host_resname=host_resname, guest_resname=guest_resname)\n",
    "\n",
    "    host = load_mol2(\n",
    "        filename=destination + host_resname + '-sybyl.mol2',\n",
    "        name=host_resname,\n",
    "        add_tripos=True)\n",
    "\n",
    "    guest = load_mol2(\n",
    "        filename=destination + guest_resname + '-sybyl.mol2',\n",
    "        name=guest_resname,\n",
    "        add_tripos=False)\n",
    "\n",
    "    molecules = [host, guest]\n",
    "\n",
    "    ff = ForceField('forcefield/smirnoff99Frosst.offxml')\n",
    "    system = ff.createSystem(\n",
    "        hg_topology.topology,\n",
    "        molecules,\n",
    "        nonbondedCutoff=1.1 * unit.nanometer,\n",
    "        ewaldErrorTolerance=1e-4)"
   ]
  },
  {
   "cell_type": "code",
   "execution_count": 58,
   "metadata": {
    "ExecuteTime": {
     "end_time": "2018-03-17T18:02:05.370070Z",
     "start_time": "2018-03-17T18:02:03.932302Z"
    },
    "scrolled": false
   },
   "outputs": [
    {
     "name": "stderr",
     "output_type": "stream",
     "text": [
      "INFO:root:Splitting topology into components...\n",
      "INFO:root:Creating a combined topology for the host and guest molecules...\n",
      "INFO:root:Loading ./benchmarksets/input_files/cd-set1//prmtop-rst7/smirnoff/acd-1-p/MGO-sybyl.mol2...\n",
      "INFO:root:Loading ./benchmarksets/input_files/cd-set1//prmtop-rst7/smirnoff/acd-1-p/MOL-sybyl.mol2...\n"
     ]
    },
    {
     "name": "stdout",
     "output_type": "stream",
     "text": [
      "<openeye.oechem.OEMol; proxy of <Swig Object of type 'OEMolWrapper *' at 0x7fe03ccb2ae0> >\n",
      "<openeye.oechem.OEMol; proxy of <Swig Object of type 'OEMolWrapper *' at 0x7fe02d240cf0> >\n",
      "<Structure 143 atoms; 7 residues; 148 bonds; NOT parametrized>\n"
     ]
    },
    {
     "ename": "SMIRKSParsingError",
     "evalue": "(SMIRKSParsingError(...), 'Error SMIRKS ([*:1]-[#6X4:2]-[#6X4:3]-[*:4]) was not parseable                        into a ChemicalEnvironment')",
     "output_type": "error",
     "traceback": [
      "\u001b[0;31m---------------------------------------------------------------------------\u001b[0m",
      "\u001b[0;31mTypeError\u001b[0m                                 Traceback (most recent call last)",
      "\u001b[0;32m~/data/applications/anaconda3/envs/smirnoff-paprika/lib/python3.6/site-packages/openforcefield/typing/chemistry/environment.py\u001b[0m in \u001b[0;36m__init__\u001b[0;34m(self, smirks, label, replacements)\u001b[0m\n\u001b[1;32m    467\u001b[0m             \u001b[0;32mtry\u001b[0m\u001b[0;34m:\u001b[0m\u001b[0;34m\u001b[0m\u001b[0m\n\u001b[0;32m--> 468\u001b[0;31m                 \u001b[0mself\u001b[0m\u001b[0;34m.\u001b[0m\u001b[0m_parse_smirks\u001b[0m\u001b[0;34m(\u001b[0m\u001b[0msmirks\u001b[0m\u001b[0;34m)\u001b[0m\u001b[0;34m\u001b[0m\u001b[0m\n\u001b[0m\u001b[1;32m    469\u001b[0m             \u001b[0;32mexcept\u001b[0m\u001b[0;34m:\u001b[0m\u001b[0;34m\u001b[0m\u001b[0m\n",
      "\u001b[0;32m~/data/applications/anaconda3/envs/smirnoff-paprika/lib/python3.6/site-packages/openforcefield/typing/chemistry/environment.py\u001b[0m in \u001b[0;36m_parse_smirks\u001b[0;34m(self, input_smirks)\u001b[0m\n\u001b[1;32m    630\u001b[0m                     \u001b[0mbondANDtypes\u001b[0m\u001b[0;34m=\u001b[0m\u001b[0mbAND\u001b[0m\u001b[0;34m,\u001b[0m \u001b[0mnewORtypes\u001b[0m\u001b[0;34m=\u001b[0m\u001b[0maOR\u001b[0m\u001b[0;34m,\u001b[0m \u001b[0mnewANDtypes\u001b[0m\u001b[0;34m=\u001b[0m\u001b[0maAND\u001b[0m\u001b[0;34m,\u001b[0m\u001b[0;34m\u001b[0m\u001b[0m\n\u001b[0;32m--> 631\u001b[0;31m                     newAtomIndex=index, newAtomRing=ring, beyondBeta=True)\n\u001b[0m\u001b[1;32m    632\u001b[0m \u001b[0;34m\u001b[0m\u001b[0m\n",
      "\u001b[0;32m~/data/applications/anaconda3/envs/smirnoff-paprika/lib/python3.6/site-packages/openforcefield/typing/chemistry/environment.py\u001b[0m in \u001b[0;36maddAtom\u001b[0;34m(self, bondToAtom, bondORtypes, bondANDtypes, newORtypes, newANDtypes, newAtomIndex, newAtomRing, beyondBeta)\u001b[0m\n\u001b[1;32m    956\u001b[0m         \u001b[0;31m# create new bond\u001b[0m\u001b[0;34m\u001b[0m\u001b[0;34m\u001b[0m\u001b[0m\n\u001b[0;32m--> 957\u001b[0;31m         \u001b[0mnewBond\u001b[0m \u001b[0;34m=\u001b[0m \u001b[0mself\u001b[0m\u001b[0;34m.\u001b[0m\u001b[0mBond\u001b[0m\u001b[0;34m(\u001b[0m\u001b[0mbondORtypes\u001b[0m\u001b[0;34m,\u001b[0m \u001b[0mbondANDtypes\u001b[0m\u001b[0;34m)\u001b[0m\u001b[0;34m\u001b[0m\u001b[0m\n\u001b[0m\u001b[1;32m    958\u001b[0m \u001b[0;34m\u001b[0m\u001b[0m\n",
      "\u001b[0;32m~/data/applications/anaconda3/envs/smirnoff-paprika/lib/python3.6/site-packages/openforcefield/typing/chemistry/environment.py\u001b[0m in \u001b[0;36m__init__\u001b[0;34m(self, ORtypes, ANDtypes)\u001b[0m\n\u001b[1;32m    347\u001b[0m             \"\"\"\n\u001b[0;32m--> 348\u001b[0;31m             \u001b[0msuper\u001b[0m\u001b[0;34m(\u001b[0m\u001b[0mChemicalEnvironment\u001b[0m\u001b[0;34m.\u001b[0m\u001b[0mBond\u001b[0m\u001b[0;34m,\u001b[0m\u001b[0mself\u001b[0m\u001b[0;34m)\u001b[0m\u001b[0;34m.\u001b[0m\u001b[0m__init__\u001b[0m\u001b[0;34m(\u001b[0m\u001b[0mORtypes\u001b[0m\u001b[0;34m,\u001b[0m \u001b[0mANDtypes\u001b[0m\u001b[0;34m,\u001b[0m \u001b[0;32mNone\u001b[0m\u001b[0;34m,\u001b[0m \u001b[0;32mNone\u001b[0m\u001b[0;34m)\u001b[0m\u001b[0;34m\u001b[0m\u001b[0m\n\u001b[0m\u001b[1;32m    349\u001b[0m             \u001b[0mself\u001b[0m\u001b[0;34m.\u001b[0m\u001b[0m_atom\u001b[0m \u001b[0;34m=\u001b[0m \u001b[0;32mFalse\u001b[0m\u001b[0;34m\u001b[0m\u001b[0m\n",
      "\u001b[0;31mTypeError\u001b[0m: super(type, obj): obj must be an instance or subtype of type",
      "\nDuring handling of the above exception, another exception occurred:\n",
      "\u001b[0;31mSMIRKSParsingError\u001b[0m                        Traceback (most recent call last)",
      "\u001b[0;32m<ipython-input-58-9ddd9fda852d>\u001b[0m in \u001b[0;36m<module>\u001b[0;34m()\u001b[0m\n\u001b[1;32m     25\u001b[0m             \u001b[0mreference_prmtop\u001b[0m\u001b[0;34m,\u001b[0m \u001b[0mreference_inpcrd\u001b[0m\u001b[0;34m,\u001b[0m\u001b[0;34m\u001b[0m\u001b[0m\n\u001b[1;32m     26\u001b[0m             \u001b[0mhost_resname\u001b[0m\u001b[0;34m,\u001b[0m \u001b[0mguest_resname\u001b[0m\u001b[0;34m,\u001b[0m\u001b[0;34m\u001b[0m\u001b[0m\n\u001b[0;32m---> 27\u001b[0;31m                        debug=True)\n\u001b[0m",
      "\u001b[0;32m<ipython-input-57-4058dac7df8e>\u001b[0m in \u001b[0;36mmy_convert\u001b[0;34m(destination, prefix, reference_prmtop, reference_inpcrd, host_resname, guest_resname, debug)\u001b[0m\n\u001b[1;32m     52\u001b[0m     \u001b[0mmolecules\u001b[0m \u001b[0;34m=\u001b[0m \u001b[0;34m[\u001b[0m\u001b[0mhost\u001b[0m\u001b[0;34m,\u001b[0m \u001b[0mguest\u001b[0m\u001b[0;34m]\u001b[0m\u001b[0;34m\u001b[0m\u001b[0m\n\u001b[1;32m     53\u001b[0m \u001b[0;34m\u001b[0m\u001b[0m\n\u001b[0;32m---> 54\u001b[0;31m     \u001b[0mff\u001b[0m \u001b[0;34m=\u001b[0m \u001b[0mForceField\u001b[0m\u001b[0;34m(\u001b[0m\u001b[0;34m'forcefield/smirnoff99Frosst.offxml'\u001b[0m\u001b[0;34m)\u001b[0m\u001b[0;34m\u001b[0m\u001b[0m\n\u001b[0m\u001b[1;32m     55\u001b[0m     system = ff.createSystem(\n\u001b[1;32m     56\u001b[0m         \u001b[0mhg_topology\u001b[0m\u001b[0;34m.\u001b[0m\u001b[0mtopology\u001b[0m\u001b[0;34m,\u001b[0m\u001b[0;34m\u001b[0m\u001b[0m\n",
      "\u001b[0;32m~/data/applications/anaconda3/envs/smirnoff-paprika/lib/python3.6/site-packages/openforcefield/typing/engines/smirnoff/forcefield.py\u001b[0m in \u001b[0;36m__init__\u001b[0;34m(self, *files)\u001b[0m\n\u001b[1;32m    530\u001b[0m         \"\"\"\n\u001b[1;32m    531\u001b[0m         \u001b[0mself\u001b[0m\u001b[0;34m.\u001b[0m\u001b[0m_forces\u001b[0m \u001b[0;34m=\u001b[0m \u001b[0;34m[\u001b[0m\u001b[0;34m]\u001b[0m\u001b[0;34m\u001b[0m\u001b[0m\n\u001b[0;32m--> 532\u001b[0;31m         \u001b[0mself\u001b[0m\u001b[0;34m.\u001b[0m\u001b[0mloadFile\u001b[0m\u001b[0;34m(\u001b[0m\u001b[0mfiles\u001b[0m\u001b[0;34m)\u001b[0m\u001b[0;34m\u001b[0m\u001b[0m\n\u001b[0m\u001b[1;32m    533\u001b[0m \u001b[0;34m\u001b[0m\u001b[0m\n\u001b[1;32m    534\u001b[0m     \u001b[0;32mdef\u001b[0m \u001b[0mloadFile\u001b[0m\u001b[0;34m(\u001b[0m\u001b[0mself\u001b[0m\u001b[0;34m,\u001b[0m \u001b[0mfiles\u001b[0m\u001b[0;34m)\u001b[0m\u001b[0;34m:\u001b[0m\u001b[0;34m\u001b[0m\u001b[0m\n",
      "\u001b[0;32m~/data/applications/anaconda3/envs/smirnoff-paprika/lib/python3.6/site-packages/openforcefield/typing/engines/smirnoff/forcefield.py\u001b[0m in \u001b[0;36mloadFile\u001b[0;34m(self, files)\u001b[0m\n\u001b[1;32m    577\u001b[0m \u001b[0;34m\u001b[0m\u001b[0m\n\u001b[1;32m    578\u001b[0m         \u001b[0;31m# Parse XML, get force definitions\u001b[0m\u001b[0;34m\u001b[0m\u001b[0;34m\u001b[0m\u001b[0m\n\u001b[0;32m--> 579\u001b[0;31m         \u001b[0mself\u001b[0m\u001b[0;34m.\u001b[0m\u001b[0mparseXMLTrees\u001b[0m\u001b[0;34m(\u001b[0m\u001b[0;34m)\u001b[0m\u001b[0;34m\u001b[0m\u001b[0m\n\u001b[0m\u001b[1;32m    580\u001b[0m \u001b[0;34m\u001b[0m\u001b[0m\n\u001b[1;32m    581\u001b[0m     \u001b[0;32mdef\u001b[0m \u001b[0mparseXMLTrees\u001b[0m\u001b[0;34m(\u001b[0m\u001b[0mself\u001b[0m\u001b[0;34m)\u001b[0m\u001b[0;34m:\u001b[0m\u001b[0;34m\u001b[0m\u001b[0m\n",
      "\u001b[0;32m~/data/applications/anaconda3/envs/smirnoff-paprika/lib/python3.6/site-packages/openforcefield/typing/engines/smirnoff/forcefield.py\u001b[0m in \u001b[0;36mparseXMLTrees\u001b[0;34m(self)\u001b[0m\n\u001b[1;32m    624\u001b[0m             \u001b[0;32mfor\u001b[0m \u001b[0mchild\u001b[0m \u001b[0;32min\u001b[0m \u001b[0mroot\u001b[0m\u001b[0;34m:\u001b[0m\u001b[0;34m\u001b[0m\u001b[0m\n\u001b[1;32m    625\u001b[0m                 \u001b[0;32mif\u001b[0m \u001b[0mchild\u001b[0m\u001b[0;34m.\u001b[0m\u001b[0mtag\u001b[0m \u001b[0;32min\u001b[0m \u001b[0mparsers\u001b[0m\u001b[0;34m:\u001b[0m\u001b[0;34m\u001b[0m\u001b[0m\n\u001b[0;32m--> 626\u001b[0;31m                     \u001b[0mparsers\u001b[0m\u001b[0;34m[\u001b[0m\u001b[0mchild\u001b[0m\u001b[0;34m.\u001b[0m\u001b[0mtag\u001b[0m\u001b[0;34m]\u001b[0m\u001b[0;34m(\u001b[0m\u001b[0mchild\u001b[0m\u001b[0;34m,\u001b[0m \u001b[0mself\u001b[0m\u001b[0;34m)\u001b[0m\u001b[0;34m\u001b[0m\u001b[0m\n\u001b[0m\u001b[1;32m    627\u001b[0m \u001b[0;34m\u001b[0m\u001b[0m\n\u001b[1;32m    628\u001b[0m \u001b[0;34m\u001b[0m\u001b[0m\n",
      "\u001b[0;32m~/data/applications/anaconda3/envs/smirnoff-paprika/lib/python3.6/site-packages/openforcefield/typing/engines/smirnoff/forcefield.py\u001b[0m in \u001b[0;36mparseElement\u001b[0;34m(element, ff)\u001b[0m\n\u001b[1;32m   1779\u001b[0m         \u001b[0;31m# Register all SMIRNOFF torsion definitions.\u001b[0m\u001b[0;34m\u001b[0m\u001b[0;34m\u001b[0m\u001b[0m\n\u001b[1;32m   1780\u001b[0m         \u001b[0;32mfor\u001b[0m \u001b[0mtorsion\u001b[0m \u001b[0;32min\u001b[0m \u001b[0melement\u001b[0m\u001b[0;34m.\u001b[0m\u001b[0mfindall\u001b[0m\u001b[0;34m(\u001b[0m\u001b[0;34m'Proper'\u001b[0m\u001b[0;34m)\u001b[0m\u001b[0;34m:\u001b[0m\u001b[0;34m\u001b[0m\u001b[0m\n\u001b[0;32m-> 1781\u001b[0;31m             \u001b[0mgenerator\u001b[0m\u001b[0;34m.\u001b[0m\u001b[0mregisterProperTorsion\u001b[0m\u001b[0;34m(\u001b[0m\u001b[0mtorsion\u001b[0m\u001b[0;34m,\u001b[0m \u001b[0melement\u001b[0m\u001b[0;34m)\u001b[0m\u001b[0;34m\u001b[0m\u001b[0m\n\u001b[0m\u001b[1;32m   1782\u001b[0m         \u001b[0;32mfor\u001b[0m \u001b[0mtorsion\u001b[0m \u001b[0;32min\u001b[0m \u001b[0melement\u001b[0m\u001b[0;34m.\u001b[0m\u001b[0mfindall\u001b[0m\u001b[0;34m(\u001b[0m\u001b[0;34m'Improper'\u001b[0m\u001b[0;34m)\u001b[0m\u001b[0;34m:\u001b[0m\u001b[0;34m\u001b[0m\u001b[0m\n\u001b[1;32m   1783\u001b[0m             \u001b[0mgenerator\u001b[0m\u001b[0;34m.\u001b[0m\u001b[0mregisterImproperTorsion\u001b[0m\u001b[0;34m(\u001b[0m\u001b[0mtorsion\u001b[0m\u001b[0;34m,\u001b[0m \u001b[0melement\u001b[0m\u001b[0;34m)\u001b[0m\u001b[0;34m\u001b[0m\u001b[0m\n",
      "\u001b[0;32m~/data/applications/anaconda3/envs/smirnoff-paprika/lib/python3.6/site-packages/openforcefield/typing/engines/smirnoff/forcefield.py\u001b[0m in \u001b[0;36mregisterProperTorsion\u001b[0;34m(self, node, parent)\u001b[0m\n\u001b[1;32m   1759\u001b[0m     \u001b[0;32mdef\u001b[0m \u001b[0mregisterProperTorsion\u001b[0m\u001b[0;34m(\u001b[0m\u001b[0mself\u001b[0m\u001b[0;34m,\u001b[0m \u001b[0mnode\u001b[0m\u001b[0;34m,\u001b[0m \u001b[0mparent\u001b[0m\u001b[0;34m)\u001b[0m\u001b[0;34m:\u001b[0m\u001b[0;34m\u001b[0m\u001b[0m\n\u001b[1;32m   1760\u001b[0m         \u001b[0;34m\"\"\"Register a SMIRNOFF torsiontype definition for a proper.\"\"\"\u001b[0m\u001b[0;34m\u001b[0m\u001b[0m\n\u001b[0;32m-> 1761\u001b[0;31m         \u001b[0mtorsion\u001b[0m \u001b[0;34m=\u001b[0m \u001b[0mPeriodicTorsionGenerator\u001b[0m\u001b[0;34m.\u001b[0m\u001b[0mProperTorsionType\u001b[0m\u001b[0;34m(\u001b[0m\u001b[0mnode\u001b[0m\u001b[0;34m,\u001b[0m \u001b[0mparent\u001b[0m\u001b[0;34m)\u001b[0m\u001b[0;34m\u001b[0m\u001b[0m\n\u001b[0m\u001b[1;32m   1762\u001b[0m         \u001b[0mself\u001b[0m\u001b[0;34m.\u001b[0m\u001b[0m_propertorsiontypes\u001b[0m\u001b[0;34m.\u001b[0m\u001b[0mappend\u001b[0m\u001b[0;34m(\u001b[0m\u001b[0mtorsion\u001b[0m\u001b[0;34m)\u001b[0m\u001b[0;34m\u001b[0m\u001b[0m\n\u001b[1;32m   1763\u001b[0m \u001b[0;34m\u001b[0m\u001b[0m\n",
      "\u001b[0;32m~/data/applications/anaconda3/envs/smirnoff-paprika/lib/python3.6/site-packages/openforcefield/typing/engines/smirnoff/forcefield.py\u001b[0m in \u001b[0;36m__init__\u001b[0;34m(self, node, parent)\u001b[0m\n\u001b[1;32m   1678\u001b[0m             \u001b[0;31m# Check that the SMIRKS pattern matches the type it's supposed to\u001b[0m\u001b[0;34m\u001b[0m\u001b[0;34m\u001b[0m\u001b[0m\n\u001b[1;32m   1679\u001b[0m             \u001b[0;32mtry\u001b[0m\u001b[0;34m:\u001b[0m\u001b[0;34m\u001b[0m\u001b[0m\n\u001b[0;32m-> 1680\u001b[0;31m                 \u001b[0mchemenv\u001b[0m \u001b[0;34m=\u001b[0m \u001b[0mChemicalEnvironment\u001b[0m\u001b[0;34m(\u001b[0m\u001b[0mself\u001b[0m\u001b[0;34m.\u001b[0m\u001b[0msmirks\u001b[0m\u001b[0;34m)\u001b[0m\u001b[0;34m\u001b[0m\u001b[0m\n\u001b[0m\u001b[1;32m   1681\u001b[0m                 \u001b[0mthistype\u001b[0m \u001b[0;34m=\u001b[0m \u001b[0mchemenv\u001b[0m\u001b[0;34m.\u001b[0m\u001b[0mgetType\u001b[0m\u001b[0;34m(\u001b[0m\u001b[0;34m)\u001b[0m\u001b[0;34m\u001b[0m\u001b[0m\n\u001b[1;32m   1682\u001b[0m                 \u001b[0;32mif\u001b[0m \u001b[0mthistype\u001b[0m \u001b[0;34m!=\u001b[0m \u001b[0;34m'Torsion'\u001b[0m\u001b[0;34m:\u001b[0m\u001b[0;34m\u001b[0m\u001b[0m\n",
      "\u001b[0;32m~/data/applications/anaconda3/envs/smirnoff-paprika/lib/python3.6/site-packages/openforcefield/typing/chemistry/environment.py\u001b[0m in \u001b[0;36m__init__\u001b[0;34m(self, smirks, label, replacements)\u001b[0m\n\u001b[1;32m    469\u001b[0m             \u001b[0;32mexcept\u001b[0m\u001b[0;34m:\u001b[0m\u001b[0;34m\u001b[0m\u001b[0m\n\u001b[1;32m    470\u001b[0m                 raise SMIRKSParsingError(\"Error SMIRKS (%s) was not parseable\\\n\u001b[0;32m--> 471\u001b[0;31m                         into a ChemicalEnvironment\" % smirks)\n\u001b[0m\u001b[1;32m    472\u001b[0m \u001b[0;34m\u001b[0m\u001b[0m\n\u001b[1;32m    473\u001b[0m         \u001b[0;31m# Check that the created Environment is valid\u001b[0m\u001b[0;34m\u001b[0m\u001b[0;34m\u001b[0m\u001b[0m\n",
      "\u001b[0;31mSMIRKSParsingError\u001b[0m: (SMIRKSParsingError(...), 'Error SMIRKS ([*:1]-[#6X4:2]-[#6X4:3]-[*:4]) was not parseable                        into a ChemicalEnvironment')"
     ]
    }
   ],
   "source": [
    "nonunique = my_convert(destination, name, \n",
    "    reference_prmtop, reference_inpcrd, \n",
    "    host_resname, guest_resname,\n",
    "               debug=True)"
   ]
  },
  {
   "cell_type": "code",
   "execution_count": null,
   "metadata": {
    "ExecuteTime": {
     "end_time": "2018-03-17T18:02:05.370894Z",
     "start_time": "2018-03-17T18:02:00.688Z"
    }
   },
   "outputs": [],
   "source": [
    "from smirnovert.amber import create_mapping"
   ]
  },
  {
   "cell_type": "code",
   "execution_count": 10,
   "metadata": {
    "ExecuteTime": {
     "end_time": "2018-03-17T04:26:33.223712Z",
     "start_time": "2018-03-17T04:26:33.205032Z"
    }
   },
   "outputs": [],
   "source": [
    "host_mapping, guest_mapping = create_mapping(nonunique, host_resname, guest_resname)"
   ]
  },
  {
   "cell_type": "code",
   "execution_count": 14,
   "metadata": {
    "ExecuteTime": {
     "end_time": "2018-03-17T04:27:09.117089Z",
     "start_time": "2018-03-17T04:27:09.099066Z"
    }
   },
   "outputs": [],
   "source": [
    "from smirnovert.amber import remap_atom_types"
   ]
  },
  {
   "cell_type": "code",
   "execution_count": 15,
   "metadata": {
    "ExecuteTime": {
     "end_time": "2018-03-17T04:27:25.449004Z",
     "start_time": "2018-03-17T04:27:25.139088Z"
    }
   },
   "outputs": [],
   "source": [
    "parm = pmd.amber.LoadParm(destination + 'smirnoff.prmtop')"
   ]
  },
  {
   "cell_type": "code",
   "execution_count": 16,
   "metadata": {
    "ExecuteTime": {
     "end_time": "2018-03-17T04:27:29.467898Z",
     "start_time": "2018-03-17T04:27:28.598100Z"
    }
   },
   "outputs": [
    {
     "name": "stdout",
     "output_type": "stream",
     "text": [
      "Assigning 0 C1 1 → C0\n",
      "Assigning 0 H1 2 → H0\n",
      "Assigning 0 O1 3 → O0\n",
      "Assigning 0 C2 4 → C1\n",
      "Assigning 0 H2 5 → H1\n",
      "Assigning 0 O2 6 → O1\n",
      "Assigning 0 HO2 7 → H2\n",
      "Assigning 0 C3 8 → C2\n",
      "Assigning 0 H3 9 → H3\n",
      "Assigning 0 O3 10 → O2\n",
      "Assigning 0 HO3 11 → H4\n",
      "Assigning 0 C4 12 → C3\n",
      "Assigning 0 H4 13 → H5\n",
      "Assigning 0 C5 14 → C4\n",
      "Assigning 0 H5 15 → H6\n",
      "Assigning 0 O5 16 → O3\n",
      "Assigning 0 C6 17 → C5\n",
      "Assigning 0 H61 18 → H7\n",
      "Assigning 0 H62 19 → H8\n",
      "Assigning 0 O6 20 → O4\n",
      "Assigning 0 HO6 21 → H9\n",
      "Assigning 1 C1 22 → C0\n",
      "Assigning 1 H1 23 → H0\n",
      "Assigning 1 O1 24 → O0\n",
      "Assigning 1 C2 25 → C1\n",
      "Assigning 1 H2 26 → H1\n",
      "Assigning 1 O2 27 → O1\n",
      "Assigning 1 HO2 28 → H2\n",
      "Assigning 1 C3 29 → C2\n",
      "Assigning 1 H3 30 → H3\n",
      "Assigning 1 O3 31 → O2\n",
      "Assigning 1 HO3 32 → H4\n",
      "Assigning 1 C4 33 → C3\n",
      "Assigning 1 H4 34 → H5\n",
      "Assigning 1 C5 35 → C4\n",
      "Assigning 1 H5 36 → H6\n",
      "Assigning 1 O5 37 → O3\n",
      "Assigning 1 C6 38 → C5\n",
      "Assigning 1 H61 39 → H7\n",
      "Assigning 1 H62 40 → H8\n",
      "Assigning 1 O6 41 → O4\n",
      "Assigning 1 HO6 42 → H9\n",
      "Assigning 2 C1 43 → C0\n",
      "Assigning 2 H1 44 → H0\n",
      "Assigning 2 O1 45 → O0\n",
      "Assigning 2 C2 46 → C1\n",
      "Assigning 2 H2 47 → H1\n",
      "Assigning 2 O2 48 → O1\n",
      "Assigning 2 HO2 49 → H2\n",
      "Assigning 2 C3 50 → C2\n",
      "Assigning 2 H3 51 → H3\n",
      "Assigning 2 O3 52 → O2\n",
      "Assigning 2 HO3 53 → H4\n",
      "Assigning 2 C4 54 → C3\n",
      "Assigning 2 H4 55 → H5\n",
      "Assigning 2 C5 56 → C4\n",
      "Assigning 2 H5 57 → H6\n",
      "Assigning 2 O5 58 → O3\n",
      "Assigning 2 C6 59 → C5\n",
      "Assigning 2 H61 60 → H7\n",
      "Assigning 2 H62 61 → H8\n",
      "Assigning 2 O6 62 → O4\n",
      "Assigning 2 HO6 63 → H9\n",
      "Assigning 3 C1 64 → C0\n",
      "Assigning 3 H1 65 → H0\n",
      "Assigning 3 O1 66 → O0\n",
      "Assigning 3 C2 67 → C1\n",
      "Assigning 3 H2 68 → H1\n",
      "Assigning 3 O2 69 → O1\n",
      "Assigning 3 HO2 70 → H2\n",
      "Assigning 3 C3 71 → C2\n",
      "Assigning 3 H3 72 → H3\n",
      "Assigning 3 O3 73 → O2\n",
      "Assigning 3 HO3 74 → H4\n",
      "Assigning 3 C4 75 → C3\n",
      "Assigning 3 H4 76 → H5\n",
      "Assigning 3 C5 77 → C4\n",
      "Assigning 3 H5 78 → H6\n",
      "Assigning 3 O5 79 → O3\n",
      "Assigning 3 C6 80 → C5\n",
      "Assigning 3 H61 81 → H7\n",
      "Assigning 3 H62 82 → H8\n",
      "Assigning 3 O6 83 → O4\n",
      "Assigning 3 HO6 84 → H9\n",
      "Assigning 4 C1 85 → C0\n",
      "Assigning 4 H1 86 → H0\n",
      "Assigning 4 O1 87 → O0\n",
      "Assigning 4 C2 88 → C1\n",
      "Assigning 4 H2 89 → H1\n",
      "Assigning 4 O2 90 → O1\n",
      "Assigning 4 HO2 91 → H2\n",
      "Assigning 4 C3 92 → C2\n",
      "Assigning 4 H3 93 → H3\n",
      "Assigning 4 O3 94 → O2\n",
      "Assigning 4 HO3 95 → H4\n",
      "Assigning 4 C4 96 → C3\n",
      "Assigning 4 H4 97 → H5\n",
      "Assigning 4 C5 98 → C4\n",
      "Assigning 4 H5 99 → H6\n",
      "Assigning 4 O5 100 → O3\n",
      "Assigning 4 C6 101 → C5\n",
      "Assigning 4 H61 102 → H7\n",
      "Assigning 4 H62 103 → H8\n",
      "Assigning 4 O6 104 → O4\n",
      "Assigning 4 HO6 105 → H9\n",
      "Assigning 5 C1 106 → C0\n",
      "Assigning 5 H1 107 → H0\n",
      "Assigning 5 O1 108 → O0\n",
      "Assigning 5 C2 109 → C1\n",
      "Assigning 5 H2 110 → H1\n",
      "Assigning 5 O2 111 → O1\n",
      "Assigning 5 HO2 112 → H2\n",
      "Assigning 5 C3 113 → C2\n",
      "Assigning 5 H3 114 → H3\n",
      "Assigning 5 O3 115 → O2\n",
      "Assigning 5 HO3 116 → H4\n",
      "Assigning 5 C4 117 → C3\n",
      "Assigning 5 H4 118 → H5\n",
      "Assigning 5 C5 119 → C4\n",
      "Assigning 5 H5 120 → H6\n",
      "Assigning 5 O5 121 → O3\n",
      "Assigning 5 C6 122 → C5\n",
      "Assigning 5 H61 123 → H7\n",
      "Assigning 5 H62 124 → H8\n",
      "Assigning 5 O6 125 → O4\n",
      "Assigning 5 HO6 126 → H9\n",
      "Assigning 6 N1 127 → N0\n",
      "Assigning 6 H1 128 → Ha\n",
      "Assigning 6 H2 129 → Hb\n",
      "Assigning 6 HN11 130 → Hc\n",
      "Assigning 6 C1 131 → C6\n",
      "Assigning 6 H3 132 → Hd\n",
      "Assigning 6 H4 133 → He\n",
      "Assigning 6 C2 134 → C7\n",
      "Assigning 6 H5 135 → Hf\n",
      "Assigning 6 H6 136 → Hg\n",
      "Assigning 6 C3 137 → C8\n",
      "Assigning 6 H7 138 → Hh\n",
      "Assigning 6 H8 139 → Hi\n",
      "Assigning 6 C4 140 → C9\n",
      "Assigning 6 H9 141 → Hj\n",
      "Assigning 6 H10 142 → Hk\n",
      "Assigning 6 H11 143 → Hl\n"
     ]
    }
   ],
   "source": [
    "remap_atom_types(parm, host_resname, host_mapping, guest_resname, guest_mapping, destination)"
   ]
  },
  {
   "cell_type": "markdown",
   "metadata": {},
   "source": [
    "## Now re-load in the new structure"
   ]
  },
  {
   "cell_type": "code",
   "execution_count": 21,
   "metadata": {
    "ExecuteTime": {
     "end_time": "2018-03-17T16:26:30.544790Z",
     "start_time": "2018-03-17T16:26:30.323972Z"
    }
   },
   "outputs": [],
   "source": [
    "hg = pmd.load_file(destination + 'smirnoff-unique.prmtop', destination + 'smirnoff.inpcrd', structure=True)"
   ]
  },
  {
   "cell_type": "markdown",
   "metadata": {},
   "source": [
    "## Align"
   ]
  },
  {
   "cell_type": "code",
   "execution_count": 22,
   "metadata": {
    "ExecuteTime": {
     "end_time": "2018-03-17T16:26:50.807428Z",
     "start_time": "2018-03-17T16:26:32.264692Z"
    }
   },
   "outputs": [
    {
     "name": "stderr",
     "output_type": "stream",
     "text": [
      "INFO:root:Moving :MOL@C4 (1 atoms) to the origin...\n",
      "INFO:root:Aligning :MOL@N1 (1 atoms) with the z axis...\n",
      "INFO:root:Saved aligned coordinates to ./benchmarksets/input_files/cd-set1//prmtop-rst7/smirnoff/acd-1-p/hg-aligned.pdb\n"
     ]
    }
   ],
   "source": [
    "# Find the guest atoms to align by reading first line in /data/nhenriksen/projects/cds/wat6/bgbg-tip3p/pdbs\n",
    "hg = align.zalign(hg, ':MOL@C4', ':MOL@N1', save=True, filename=destination + 'hg-aligned.pdb')"
   ]
  },
  {
   "cell_type": "markdown",
   "metadata": {},
   "source": [
    "## Add dummy atoms"
   ]
  },
  {
   "cell_type": "code",
   "execution_count": 23,
   "metadata": {
    "ExecuteTime": {
     "end_time": "2018-03-17T16:28:16.838002Z",
     "start_time": "2018-03-17T16:28:15.687450Z"
    }
   },
   "outputs": [],
   "source": [
    "hg = pmd.load_file(destination + 'hg-aligned.pdb', structure=True)\n",
    "# print(hg.atoms[-1].number)\n",
    "\n",
    "hg = dummy.add_dummy(hg, residue_name='DM1', z=-6.000)\n",
    "hg = dummy.add_dummy(hg, residue_name='DM2', z=-9.000)\n",
    "hg = dummy.add_dummy(hg, residue_name='DM3', z=-11.200, y=2.200)\n",
    "\n",
    "dummy.write_dummy_frcmod(path = destination)\n",
    "dummy.write_dummy_mol2(path = destination, residue_name='DM1', filename='DM1.mol2')\n",
    "dummy.write_dummy_mol2(path = destination, residue_name='DM2', filename='DM2.mol2')\n",
    "dummy.write_dummy_mol2(path = destination, residue_name='DM3', filename='DM3.mol2')\n",
    "\n",
    "hg.write_pdb(destination + 'hg-aligned-dum.pdb', renumber=False)"
   ]
  },
  {
   "cell_type": "markdown",
   "metadata": {},
   "source": [
    "## Solvate"
   ]
  },
  {
   "cell_type": "code",
   "execution_count": 24,
   "metadata": {
    "ExecuteTime": {
     "end_time": "2018-03-17T16:28:20.346213Z",
     "start_time": "2018-03-17T16:28:20.324320Z"
    }
   },
   "outputs": [],
   "source": [
    "with open(destination + 'tleap.in', 'w') as file:\n",
    "    tleap_header = f'''\\n\n",
    "source leaprc.water.tip3p\n",
    "loadamberparams {base_name}-unique.frcmod\n",
    "{host_resname} = loadmol2 {base_name}-{host_resname}-multi-unique.mol2\n",
    "{guest_resname} = loadmol2 {base_name}-{guest_resname}-unique.mol2\n",
    "\n",
    "DM1 = loadmol2 DM1.mol2\n",
    "DM2 = loadmol2 DM2.mol2\n",
    "DM3 = loadmol2 DM3.mol2\n",
    "loadamberparams dummy.frcmod\n",
    "\n",
    "model = loadpdb {str('hg-aligned-dum.pdb')}\n",
    "bond model.1.O1 model.2.C4\n",
    "bond model.2.O1 model.3.C4\n",
    "bond model.3.O1 model.4.C4\n",
    "bond model.4.O1 model.5.C4\n",
    "bond model.5.O1 model.6.C4\n",
    "bond model.6.O1 model.1.C4\n",
    "\n",
    "\n",
    "'''\n",
    "    file.write(tleap_header)\n",
    "#     for line in bonds_between_monomers:\n",
    "#         file.write(line + '\\n')"
   ]
  },
  {
   "cell_type": "code",
   "execution_count": 32,
   "metadata": {
    "ExecuteTime": {
     "end_time": "2018-03-17T16:45:23.932644Z",
     "start_time": "2018-03-17T16:45:10.729394Z"
    },
    "scrolled": true
   },
   "outputs": [
    {
     "name": "stderr",
     "output_type": "stream",
     "text": [
      "DEBUG:root:{'MGO': 6, 'MOL': 1, 'Cl-': 4, 'Na+': 4, 'WAT': 5782, 'DM1': 1, 'DM2': 1, 'DM3': 1}\n",
      "DEBUG:root:Cycle 00\t 1 5782 (2000)\n",
      "DEBUG:root:{'MGO': 6, 'MOL': 1, 'Cl-': 4, 'Na+': 4, 'WAT': 1499, 'DM1': 1, 'DM2': 1, 'DM3': 1}\n",
      "DEBUG:root:Cycle 01\t -4 1499 (2000)\n",
      "DEBUG:root:{'MGO': 6, 'MOL': 1, 'Cl-': 4, 'Na+': 4, 'WAT': 1499, 'DM1': 1, 'DM2': 1, 'DM3': 1}\n",
      "DEBUG:root:Cycle 02\t -3 1499 (2000)\n",
      "DEBUG:root:{'MGO': 6, 'MOL': 1, 'Cl-': 4, 'Na+': 4, 'WAT': 1499, 'DM1': 1, 'DM2': 1, 'DM3': 1}\n",
      "DEBUG:root:Cycle 03\t -3 1499 (2000)\n",
      "DEBUG:root:{'MGO': 6, 'MOL': 1, 'Cl-': 4, 'Na+': 4, 'WAT': 1499, 'DM1': 1, 'DM2': 1, 'DM3': 1}\n",
      "DEBUG:root:Cycle 04\t -3 1499 (2000)\n",
      "DEBUG:root:{'MGO': 6, 'MOL': 1, 'Cl-': 4, 'Na+': 4, 'WAT': 1499, 'DM1': 1, 'DM2': 1, 'DM3': 1}\n",
      "DEBUG:root:Cycle 05\t -3 1499 (2000)\n",
      "DEBUG:root:{'MGO': 6, 'MOL': 1, 'Cl-': 4, 'Na+': 4, 'WAT': 1499, 'DM1': 1, 'DM2': 1, 'DM3': 1}\n",
      "DEBUG:root:Cycle 06\t -3 1499 (2000)\n",
      "DEBUG:root:{'MGO': 6, 'MOL': 1, 'Cl-': 4, 'Na+': 4, 'WAT': 1499, 'DM1': 1, 'DM2': 1, 'DM3': 1}\n",
      "DEBUG:root:Cycle 07\t -2 1499 (2000)\n",
      "DEBUG:root:{'MGO': 6, 'MOL': 1, 'Cl-': 4, 'Na+': 4, 'WAT': 1499, 'DM1': 1, 'DM2': 1, 'DM3': 1}\n",
      "DEBUG:root:Cycle 08\t -2 1499 (2000)\n",
      "DEBUG:root:{'MGO': 6, 'MOL': 1, 'Cl-': 4, 'Na+': 4, 'WAT': 1499, 'DM1': 1, 'DM2': 1, 'DM3': 1}\n",
      "DEBUG:root:Cycle 09\t -2 1499 (2000)\n",
      "DEBUG:root:{'MGO': 6, 'MOL': 1, 'Cl-': 4, 'Na+': 4, 'WAT': 1499, 'DM1': 1, 'DM2': 1, 'DM3': 1}\n",
      "DEBUG:root:Cycle 10\t -2 1499 (2000)\n",
      "DEBUG:root:{'MGO': 6, 'MOL': 1, 'Cl-': 4, 'Na+': 4, 'WAT': 1499, 'DM1': 1, 'DM2': 1, 'DM3': 1}\n",
      "DEBUG:root:Cycle 11\t -2 1499 (2000)\n",
      "DEBUG:root:{'MGO': 6, 'MOL': 1, 'Cl-': 4, 'Na+': 4, 'WAT': 1499, 'DM1': 1, 'DM2': 1, 'DM3': 1}\n",
      "DEBUG:root:Cycle 12\t -2 1499 (2000)\n",
      "DEBUG:root:{'MGO': 6, 'MOL': 1, 'Cl-': 4, 'Na+': 4, 'WAT': 1499, 'DM1': 1, 'DM2': 1, 'DM3': 1}\n",
      "DEBUG:root:Cycle 13\t -2 1499 (2000)\n",
      "DEBUG:root:{'MGO': 6, 'MOL': 1, 'Cl-': 4, 'Na+': 4, 'WAT': 1499, 'DM1': 1, 'DM2': 1, 'DM3': 1}\n",
      "DEBUG:root:Cycle 14\t -2 1499 (2000)\n",
      "DEBUG:root:{'MGO': 6, 'MOL': 1, 'Cl-': 4, 'Na+': 4, 'WAT': 1499, 'DM1': 1, 'DM2': 1, 'DM3': 1}\n",
      "DEBUG:root:Cycle 15\t -2 1499 (2000)\n",
      "DEBUG:root:{'MGO': 6, 'MOL': 1, 'Cl-': 4, 'Na+': 4, 'WAT': 1499, 'DM1': 1, 'DM2': 1, 'DM3': 1}\n",
      "DEBUG:root:Cycle 16\t -2 1499 (2000)\n",
      "DEBUG:root:{'MGO': 6, 'MOL': 1, 'Cl-': 4, 'Na+': 4, 'WAT': 1499, 'DM1': 1, 'DM2': 1, 'DM3': 1}\n",
      "DEBUG:root:Cycle 17\t -1 1499 (2000)\n",
      "DEBUG:root:{'MGO': 6, 'MOL': 1, 'Cl-': 4, 'Na+': 4, 'WAT': 1499, 'DM1': 1, 'DM2': 1, 'DM3': 1}\n",
      "DEBUG:root:Cycle 18\t -1 1499 (2000)\n",
      "DEBUG:root:{'MGO': 6, 'MOL': 1, 'Cl-': 4, 'Na+': 4, 'WAT': 1499, 'DM1': 1, 'DM2': 1, 'DM3': 1}\n",
      "DEBUG:root:Cycle 19\t -1 1499 (2000)\n",
      "DEBUG:root:{'MGO': 6, 'MOL': 1, 'Cl-': 4, 'Na+': 4, 'WAT': 1499, 'DM1': 1, 'DM2': 1, 'DM3': 1}\n",
      "DEBUG:root:Cycle 20\t -1 1499 (2000)\n",
      "DEBUG:root:{'MGO': 6, 'MOL': 1, 'Cl-': 4, 'Na+': 4, 'WAT': 1499, 'DM1': 1, 'DM2': 1, 'DM3': 1}\n",
      "DEBUG:root:Cycle 21\t -1 1499 (2000)\n",
      "DEBUG:root:{'MGO': 6, 'MOL': 1, 'Cl-': 4, 'Na+': 4, 'WAT': 1499, 'DM1': 1, 'DM2': 1, 'DM3': 1}\n",
      "DEBUG:root:Cycle 22\t -1 1499 (2000)\n",
      "DEBUG:root:{'MGO': 6, 'MOL': 1, 'Cl-': 4, 'Na+': 4, 'WAT': 1499, 'DM1': 1, 'DM2': 1, 'DM3': 1}\n",
      "DEBUG:root:Cycle 23\t -1 1499 (2000)\n",
      "DEBUG:root:{'MGO': 6, 'MOL': 1, 'Cl-': 4, 'Na+': 4, 'WAT': 1499, 'DM1': 1, 'DM2': 1, 'DM3': 1}\n",
      "DEBUG:root:Cycle 24\t -1 1499 (2000)\n",
      "DEBUG:root:{'MGO': 6, 'MOL': 1, 'Cl-': 4, 'Na+': 4, 'WAT': 1499, 'DM1': 1, 'DM2': 1, 'DM3': 1}\n",
      "DEBUG:root:Cycle 25\t -1 1499 (2000)\n",
      "DEBUG:root:{'MGO': 6, 'MOL': 1, 'Cl-': 4, 'Na+': 4, 'WAT': 1499, 'DM1': 1, 'DM2': 1, 'DM3': 1}\n",
      "DEBUG:root:Cycle 26\t -1 1499 (2000)\n",
      "DEBUG:root:{'MGO': 6, 'MOL': 1, 'Cl-': 4, 'Na+': 4, 'WAT': 1499, 'DM1': 1, 'DM2': 1, 'DM3': 1}\n",
      "DEBUG:root:Cycle 27\t 0 1499 (2000)\n",
      "DEBUG:root:{'MGO': 6, 'MOL': 1, 'Cl-': 4, 'Na+': 4, 'WAT': 1499, 'DM1': 1, 'DM2': 1, 'DM3': 1}\n",
      "DEBUG:root:Cycle 28\t 0 1499 (2000)\n",
      "DEBUG:root:{'MGO': 6, 'MOL': 1, 'Cl-': 4, 'Na+': 4, 'WAT': 1499, 'DM1': 1, 'DM2': 1, 'DM3': 1}\n",
      "DEBUG:root:Cycle 29\t 0 1499 (2000)\n",
      "DEBUG:root:{'MGO': 6, 'MOL': 1, 'Cl-': 4, 'Na+': 4, 'WAT': 1499, 'DM1': 1, 'DM2': 1, 'DM3': 1}\n",
      "DEBUG:root:Cycle 30\t 0 1499 (2000)\n",
      "DEBUG:root:{'MGO': 6, 'MOL': 1, 'Cl-': 4, 'Na+': 4, 'WAT': 1499, 'DM1': 1, 'DM2': 1, 'DM3': 1}\n",
      "DEBUG:root:Cycle 31\t 0 1499 (2000)\n",
      "DEBUG:root:{'MGO': 6, 'MOL': 1, 'Cl-': 4, 'Na+': 4, 'WAT': 1499, 'DM1': 1, 'DM2': 1, 'DM3': 1}\n",
      "DEBUG:root:Cycle 32\t 0 1499 (2000)\n",
      "DEBUG:root:{'MGO': 6, 'MOL': 1, 'Cl-': 4, 'Na+': 4, 'WAT': 1499, 'DM1': 1, 'DM2': 1, 'DM3': 1}\n",
      "DEBUG:root:Cycle 33\t 0 1499 (2000)\n",
      "DEBUG:root:{'MGO': 6, 'MOL': 1, 'Cl-': 4, 'Na+': 4, 'WAT': 1499, 'DM1': 1, 'DM2': 1, 'DM3': 1}\n",
      "DEBUG:root:Cycle 34\t 0 1499 (2000)\n",
      "DEBUG:root:{'MGO': 6, 'MOL': 1, 'Cl-': 4, 'Na+': 4, 'WAT': 1499, 'DM1': 1, 'DM2': 1, 'DM3': 1}\n",
      "DEBUG:root:Cycle 35\t 0 1499 (2000)\n",
      "DEBUG:root:{'MGO': 6, 'MOL': 1, 'Cl-': 4, 'Na+': 4, 'WAT': 1499, 'DM1': 1, 'DM2': 1, 'DM3': 1}\n",
      "DEBUG:root:Cycle 36\t 0 1499 (2000)\n",
      "DEBUG:root:{'MGO': 6, 'MOL': 1, 'Cl-': 4, 'Na+': 4, 'WAT': 5480, 'DM1': 1, 'DM2': 1, 'DM3': 1}\n",
      "DEBUG:root:Cycle 37\t 0 5480 (2000)\n",
      "DEBUG:root:{'MGO': 6, 'MOL': 1, 'Cl-': 4, 'Na+': 4, 'WAT': 1499, 'DM1': 1, 'DM2': 1, 'DM3': 1}\n",
      "DEBUG:root:Cycle 38\t 0 1499 (2000)\n",
      "DEBUG:root:{'MGO': 6, 'MOL': 1, 'Cl-': 4, 'Na+': 4, 'WAT': 1499, 'DM1': 1, 'DM2': 1, 'DM3': 1}\n",
      "DEBUG:root:Cycle 39\t 0 1499 (2000)\n",
      "DEBUG:root:{'MGO': 6, 'MOL': 1, 'Cl-': 4, 'Na+': 4, 'WAT': 1499, 'DM1': 1, 'DM2': 1, 'DM3': 1}\n",
      "DEBUG:root:Cycle 40\t 0 1499 (2000)\n",
      "DEBUG:root:{'MGO': 6, 'MOL': 1, 'Cl-': 4, 'Na+': 4, 'WAT': 1499, 'DM1': 1, 'DM2': 1, 'DM3': 1}\n",
      "DEBUG:root:Cycle 41\t 0 1499 (2000)\n",
      "DEBUG:root:{'MGO': 6, 'MOL': 1, 'Cl-': 4, 'Na+': 4, 'WAT': 1499, 'DM1': 1, 'DM2': 1, 'DM3': 1}\n",
      "DEBUG:root:Cycle 42\t 0 1499 (2000)\n",
      "DEBUG:root:{'MGO': 6, 'MOL': 1, 'Cl-': 4, 'Na+': 4, 'WAT': 1499, 'DM1': 1, 'DM2': 1, 'DM3': 1}\n",
      "DEBUG:root:Cycle 43\t 0 1499 (2000)\n",
      "DEBUG:root:{'MGO': 6, 'MOL': 1, 'Cl-': 4, 'Na+': 4, 'WAT': 1499, 'DM1': 1, 'DM2': 1, 'DM3': 1}\n",
      "DEBUG:root:Cycle 44\t 0 1499 (2000)\n",
      "DEBUG:root:{'MGO': 6, 'MOL': 1, 'Cl-': 4, 'Na+': 4, 'WAT': 1499, 'DM1': 1, 'DM2': 1, 'DM3': 1}\n",
      "DEBUG:root:Cycle 45\t 0 1499 (2000)\n",
      "DEBUG:root:{'MGO': 6, 'MOL': 1, 'Cl-': 4, 'Na+': 4, 'WAT': 1499, 'DM1': 1, 'DM2': 1, 'DM3': 1}\n",
      "DEBUG:root:Cycle 46\t 0 1499 (2000)\n",
      "DEBUG:root:{'MGO': 6, 'MOL': 1, 'Cl-': 4, 'Na+': 4, 'WAT': 1499, 'DM1': 1, 'DM2': 1, 'DM3': 1}\n",
      "DEBUG:root:Cycle 47\t 0 1499 (2000)\n",
      "DEBUG:root:{'MGO': 6, 'MOL': 1, 'Cl-': 4, 'Na+': 4, 'WAT': 1499, 'DM1': 1, 'DM2': 1, 'DM3': 1}\n",
      "DEBUG:root:Cycle 48\t 0 1499 (2000)\n",
      "DEBUG:root:{'MGO': 6, 'MOL': 1, 'Cl-': 4, 'Na+': 4, 'WAT': 1499, 'DM1': 1, 'DM2': 1, 'DM3': 1}\n",
      "DEBUG:root:Cycle 49\t 0 1499 (2000)\n"
     ]
    },
    {
     "ename": "Exception",
     "evalue": "Automatic adjustment of the buffer value resulted in fewer waters             added than targeted by `buffer_water`. Try increasing the tolerance in the above loop",
     "output_type": "error",
     "traceback": [
      "\u001b[0;31m---------------------------------------------------------------------------\u001b[0m",
      "\u001b[0;31mException\u001b[0m                                 Traceback (most recent call last)",
      "\u001b[0;32m<ipython-input-32-72f01d236161>\u001b[0m in \u001b[0;36m<module>\u001b[0;34m()\u001b[0m\n\u001b[1;32m      1\u001b[0m build.solvate(tleap_file='tleap.in', pdb_file='hg-aligned-dum.pdb', pbc_type='rectangular', buffer_target=2000,\n\u001b[0;32m----> 2\u001b[0;31m              output_prefix='hg-solvated', path=destination)\n\u001b[0m",
      "\u001b[0;32m~/data/applications/anaconda3/envs/smirnoff-paprika/lib/python3.6/site-packages/paprika/build.py\u001b[0m in \u001b[0;36msolvate\u001b[0;34m(tleap_file, pdb_file, pbc_type, buffer_target, water_box, neutralize, counter_cation, counter_anion, add_ions, output_prefix, path)\u001b[0m\n\u001b[1;32m    578\u001b[0m     \u001b[0;32mif\u001b[0m \u001b[0mcycle\u001b[0m \u001b[0;34m>=\u001b[0m \u001b[0mmax_cycles\u001b[0m \u001b[0;32mand\u001b[0m \u001b[0mwaters\u001b[0m \u001b[0;34m<\u001b[0m \u001b[0mtarget_number_of_waters\u001b[0m\u001b[0;34m:\u001b[0m\u001b[0;34m\u001b[0m\u001b[0m\n\u001b[1;32m    579\u001b[0m         raise Exception(\"Automatic adjustment of the buffer value resulted in fewer waters \\\n\u001b[0;32m--> 580\u001b[0;31m             added than targeted by `buffer_water`. Try increasing the tolerance in the above loop\")\n\u001b[0m\u001b[1;32m    581\u001b[0m     \u001b[0;32melse\u001b[0m\u001b[0;34m:\u001b[0m\u001b[0;34m\u001b[0m\u001b[0m\n\u001b[1;32m    582\u001b[0m         raise Exception(\"Automatic adjustment of the buffer value was unable to converge on \\\n",
      "\u001b[0;31mException\u001b[0m: Automatic adjustment of the buffer value resulted in fewer waters             added than targeted by `buffer_water`. Try increasing the tolerance in the above loop"
     ]
    }
   ],
   "source": [
    "build.solvate(tleap_file='tleap.in', pdb_file='hg-aligned-dum.pdb', pbc_type='rectangular', buffer_target=2000,\n",
    "             output_prefix='hg-solvated', path=destination)"
   ]
  },
  {
   "cell_type": "code",
   "execution_count": null,
   "metadata": {},
   "outputs": [],
   "source": []
  }
 ],
 "metadata": {
  "kernelspec": {
   "display_name": "Python [conda env:smirnoff-paprika]",
   "language": "python",
   "name": "conda-env-smirnoff-paprika-py"
  },
  "language_info": {
   "codemirror_mode": {
    "name": "ipython",
    "version": 3
   },
   "file_extension": ".py",
   "mimetype": "text/x-python",
   "name": "python",
   "nbconvert_exporter": "python",
   "pygments_lexer": "ipython3",
   "version": "3.6.4"
  }
 },
 "nbformat": 4,
 "nbformat_minor": 2
}
