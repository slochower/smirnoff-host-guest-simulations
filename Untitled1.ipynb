{
 "cells": [
  {
   "cell_type": "code",
   "execution_count": 1,
   "metadata": {
    "ExecuteTime": {
     "end_time": "2018-09-20T22:27:22.039869Z",
     "start_time": "2018-09-20T22:27:21.735515Z"
    }
   },
   "outputs": [],
   "source": [
    "import psi4"
   ]
  },
  {
   "cell_type": "code",
   "execution_count": 26,
   "metadata": {
    "ExecuteTime": {
     "end_time": "2018-09-20T22:37:45.149824Z",
     "start_time": "2018-09-20T22:37:45.038610Z"
    }
   },
   "outputs": [],
   "source": [
    "molecule = psi4.geometry(\"\"\"\n",
    "C         16.44600       15.01300       33.82400\n",
    "H         16.49700       13.91600       33.96900\n",
    "O         17.75300       15.56600       33.45000\n",
    "C         15.46400       15.30800       32.69400\n",
    "H         14.48500       14.88200       32.93000\n",
    "O         15.96500       14.73700       31.47400\n",
    "H         16.91800       14.57800       31.55800\n",
    "C         15.35000       16.80100       32.47000\n",
    "H         16.30900       17.18700       32.11500\n",
    "O         14.33200       16.99700       31.47600\n",
    "H         14.42700       16.27600       30.83800\n",
    "C         14.95000       17.52000       33.75100\n",
    "H         13.91400       17.27200       33.99400\n",
    "C         15.87400       17.14900       34.92500\n",
    "H         16.87400       17.51600       34.68300\n",
    "O         15.95100       15.66800       35.04800\n",
    "C         15.53100       17.73800       36.30100\n",
    "H         16.06500       18.68000       36.44200\n",
    "H         15.84200       17.05200       37.09300\n",
    "O         14.12400       17.99000       36.41200\n",
    "H         13.95600       18.88800       36.10000\n",
    "C         21.81400       14.73800       33.82400\n",
    "H         22.78900       14.23400       33.96900\n",
    "O         21.98900       16.14700       33.45000\n",
    "C         21.06900       14.03500       32.69500\n",
    "H         20.94800       12.97400       32.93000\n",
    "O         21.81400       14.18400       31.47500\n",
    "H         22.42800       14.92900       31.55800\n",
    "C         19.71800       14.68400       32.47100\n",
    "H         19.86400       15.70700       32.11500\n",
    "O         19.03800       13.89900       31.47600\n",
    "H         19.71200       13.62200       30.83800\n",
    "C         18.89400       14.69700       33.75100\n",
    "H         18.59200       13.67500       33.99300\n",
    "C         19.67800       15.31100       34.92600\n",
    "H         19.86000       16.36000       34.68400\n",
    "O         20.99900       14.63700       35.04800\n",
    "C         18.99600       15.30800       36.30100\n",
    "H         18.44700       16.24100       36.44300\n",
    "H         19.74600       15.23400       37.09300\n",
    "O         18.07500       14.21500       36.41200\n",
    "H         17.21200       14.51900       36.09900\n",
    "C         24.73600       19.25000       33.82500\n",
    "H         25.66000       19.84200       33.97100\n",
    "O         23.60400       20.10600       33.45100\n",
    "C         24.97200       18.25300       32.69600\n",
    "H         25.83000       17.61700       32.93100\n",
    "O         25.21700       18.97100       31.47600\n",
    "H         24.87900       19.87600       31.55900\n",
    "C         23.73600       17.40600       32.47100\n",
    "H         22.92200       18.04400       32.11500\n",
    "O         24.07600       16.42600       31.47700\n",
    "H         24.65200       16.87000       30.84000\n",
    "C         23.31200       16.70100       33.75200\n",
    "H         24.04600       15.92800       33.99500\n",
    "C         23.17200       17.68700       34.92600\n",
    "H         22.35400       18.36900       34.68400\n",
    "O         24.41500       18.49300       35.04900\n",
    "C         22.83300       17.09500       36.30200\n",
    "H         21.75000       17.08700       36.44300\n",
    "H         23.27100       17.70800       37.09300\n",
    "O         23.31900       15.75100       36.41300\n",
    "H         22.62400       15.15600       36.10000\n",
    "C         22.29100       24.03600       33.82400\n",
    "H         22.23900       25.13300       33.96900\n",
    "O         20.98300       23.48300       33.45000\n",
    "C         23.27300       23.74200       32.69500\n",
    "H         24.25200       24.16800       32.93100\n",
    "O         22.77200       24.31300       31.47500\n",
    "H         21.81900       24.47200       31.55800\n",
    "C         23.38700       22.24800       32.47100\n",
    "H         22.42700       21.86300       32.11500\n",
    "O         24.40500       22.05200       31.47700\n",
    "H         24.30900       22.77300       30.83900\n",
    "C         23.78600       21.52900       33.75100\n",
    "H         24.82200       21.77800       33.99500\n",
    "C         22.86200       21.90000       34.92500\n",
    "H         21.86200       21.53400       34.68400\n",
    "O         22.78500       23.38000       35.04900\n",
    "C         23.20500       21.31200       36.30200\n",
    "H         22.67200       20.36900       36.44300\n",
    "H         22.89400       21.99700       37.09300\n",
    "O         24.61100       21.06000       36.41400\n",
    "H         24.78000       20.16100       36.10100\n",
    "C         16.92300       24.31100       33.82400\n",
    "H         15.94700       24.81500       33.97000\n",
    "O         16.74800       22.90200       33.45000\n",
    "C         17.66700       25.01500       32.69500\n",
    "H         17.78900       26.07500       32.93100\n",
    "O         16.92300       24.86500       31.47500\n",
    "H         16.30900       24.12100       31.55900\n",
    "C         19.01900       24.36700       32.47100\n",
    "H         18.87300       23.34300       32.11400\n",
    "O         19.69700       25.15100       31.47600\n",
    "H         19.02600       25.42800       30.83900\n",
    "C         19.84200       24.35300       33.75100\n",
    "H         20.14400       25.37400       33.99400\n",
    "C         19.05800       23.73800       34.92600\n",
    "H         18.87500       22.68900       34.68400\n",
    "O         17.73800       24.41200       35.04800\n",
    "C         19.74000       23.74200       36.30100\n",
    "H         20.28900       22.80800       36.44200\n",
    "H         18.99000       23.81500       37.09300\n",
    "O         20.66100       24.83400       36.41300\n",
    "H         21.52300       24.53000       36.10000\n",
    "C         14.00000       19.79900       33.82400\n",
    "H         13.07600       19.20700       33.97000\n",
    "O         15.13200       18.94300       33.44900\n",
    "C         13.76400       20.79700       32.69500\n",
    "H         12.90600       21.43200       32.93100\n",
    "O         13.52000       20.07800       31.47500\n",
    "H         13.85800       19.17300       31.55800\n",
    "C         15.00000       21.64300       32.47100\n",
    "H         15.81400       21.00400       32.11500\n",
    "O         14.66100       22.62300       31.47700\n",
    "H         14.08500       22.18000       30.83900\n",
    "C         15.42400       22.34800       33.75100\n",
    "H         14.69000       23.12100       33.99500\n",
    "C         15.56400       21.36300       34.92500\n",
    "H         16.38200       20.68000       34.68400\n",
    "O         14.32000       20.55600       35.04800\n",
    "C         15.90300       21.95400       36.30100\n",
    "H         16.98700       21.96300       36.44200\n",
    "H         15.46500       21.34100       37.09300\n",
    "O         15.41700       23.29900       36.41300\n",
    "H         16.11200       23.89300       36.10000\n",
    "\"\"\", name=\"aCD\")"
   ]
  },
  {
   "cell_type": "code",
   "execution_count": null,
   "metadata": {
    "ExecuteTime": {
     "end_time": "2018-09-20T22:45:35.629696Z",
     "start_time": "2018-09-20T22:43:38.881Z"
    }
   },
   "outputs": [],
   "source": [
    "psi4.energy(\"B3LYP/6-31G*\")"
   ]
  },
  {
   "cell_type": "code",
   "execution_count": 28,
   "metadata": {
    "ExecuteTime": {
     "end_time": "2018-09-20T22:55:39.018772Z",
     "start_time": "2018-09-20T22:47:45.332474Z"
    }
   },
   "outputs": [
    {
     "ename": "SystemError",
     "evalue": "<built-in method compute_energy of PyCapsule object at 0x7feb24044720> returned NULL without setting an error",
     "output_type": "error",
     "traceback": [
      "\u001b[0;31m---------------------------------------------------------------------------\u001b[0m",
      "\u001b[0;31mSystemError\u001b[0m                               Traceback (most recent call last)",
      "\u001b[0;32m<ipython-input-28-781c25b9f682>\u001b[0m in \u001b[0;36m<module>\u001b[0;34m()\u001b[0m\n\u001b[0;32m----> 1\u001b[0;31m \u001b[0mpsi4\u001b[0m\u001b[0;34m.\u001b[0m\u001b[0moptimize\u001b[0m\u001b[0;34m(\u001b[0m\u001b[0;34m\"B3LYP/6-31G*\"\u001b[0m\u001b[0;34m,\u001b[0m \u001b[0mmolecule\u001b[0m\u001b[0;34m=\u001b[0m\u001b[0mmolecule\u001b[0m\u001b[0;34m)\u001b[0m\u001b[0;34m\u001b[0m\u001b[0m\n\u001b[0m",
      "\u001b[0;32m~/data/applications/anaconda3/lib/python3.6/site-packages/psi4/driver/driver.py\u001b[0m in \u001b[0;36moptimize\u001b[0;34m(name, **kwargs)\u001b[0m\n\u001b[1;32m   1109\u001b[0m \u001b[0;34m\u001b[0m\u001b[0m\n\u001b[1;32m   1110\u001b[0m         \u001b[0;31m# Compute the gradient\u001b[0m\u001b[0;34m\u001b[0m\u001b[0;34m\u001b[0m\u001b[0m\n\u001b[0;32m-> 1111\u001b[0;31m         \u001b[0mG\u001b[0m\u001b[0;34m,\u001b[0m \u001b[0mwfn\u001b[0m \u001b[0;34m=\u001b[0m \u001b[0mgradient\u001b[0m\u001b[0;34m(\u001b[0m\u001b[0mlowername\u001b[0m\u001b[0;34m,\u001b[0m \u001b[0mreturn_wfn\u001b[0m\u001b[0;34m=\u001b[0m\u001b[0;32mTrue\u001b[0m\u001b[0;34m,\u001b[0m \u001b[0mmolecule\u001b[0m\u001b[0;34m=\u001b[0m\u001b[0mmoleculeclone\u001b[0m\u001b[0;34m,\u001b[0m \u001b[0;34m**\u001b[0m\u001b[0mkwargs\u001b[0m\u001b[0;34m)\u001b[0m\u001b[0;34m\u001b[0m\u001b[0m\n\u001b[0m\u001b[1;32m   1112\u001b[0m         \u001b[0mthisenergy\u001b[0m \u001b[0;34m=\u001b[0m \u001b[0mcore\u001b[0m\u001b[0;34m.\u001b[0m\u001b[0mget_variable\u001b[0m\u001b[0;34m(\u001b[0m\u001b[0;34m'CURRENT ENERGY'\u001b[0m\u001b[0;34m)\u001b[0m\u001b[0;34m\u001b[0m\u001b[0m\n\u001b[1;32m   1113\u001b[0m \u001b[0;34m\u001b[0m\u001b[0m\n",
      "\u001b[0;32m~/data/applications/anaconda3/lib/python3.6/site-packages/psi4/driver/driver.py\u001b[0m in \u001b[0;36mgradient\u001b[0;34m(name, **kwargs)\u001b[0m\n\u001b[1;32m    583\u001b[0m         \u001b[0;32mif\u001b[0m \u001b[0mdertype\u001b[0m \u001b[0;34m==\u001b[0m \u001b[0;36m1\u001b[0m\u001b[0;34m:\u001b[0m\u001b[0;34m\u001b[0m\u001b[0m\n\u001b[1;32m    584\u001b[0m             \u001b[0;31m# Bounce to CBS in pure-gradient mode if \"method/basis\" name and all parts have analytic grad. avail.\u001b[0m\u001b[0;34m\u001b[0m\u001b[0;34m\u001b[0m\u001b[0m\n\u001b[0;32m--> 585\u001b[0;31m             \u001b[0;32mreturn\u001b[0m \u001b[0mdriver_cbs\u001b[0m\u001b[0;34m.\u001b[0m\u001b[0m_cbs_gufunc\u001b[0m\u001b[0;34m(\u001b[0m\u001b[0mgradient\u001b[0m\u001b[0;34m,\u001b[0m \u001b[0mname\u001b[0m\u001b[0;34m,\u001b[0m \u001b[0mptype\u001b[0m\u001b[0;34m=\u001b[0m\u001b[0;34m'gradient'\u001b[0m\u001b[0;34m,\u001b[0m \u001b[0;34m**\u001b[0m\u001b[0mkwargs\u001b[0m\u001b[0;34m)\u001b[0m\u001b[0;34m\u001b[0m\u001b[0m\n\u001b[0m\u001b[1;32m    586\u001b[0m         \u001b[0;32melse\u001b[0m\u001b[0;34m:\u001b[0m\u001b[0;34m\u001b[0m\u001b[0m\n\u001b[1;32m    587\u001b[0m             \u001b[0;31m# Set method-dependent scf convergence criteria (test on procedures['energy'] since that's guaranteed)\u001b[0m\u001b[0;34m\u001b[0m\u001b[0;34m\u001b[0m\u001b[0m\n",
      "\u001b[0;32m~/data/applications/anaconda3/lib/python3.6/site-packages/psi4/driver/driver_cbs.py\u001b[0m in \u001b[0;36m_cbs_gufunc\u001b[0;34m(func, total_method_name, **kwargs)\u001b[0m\n\u001b[1;32m   1816\u001b[0m         \u001b[0moptstash\u001b[0m \u001b[0;34m=\u001b[0m \u001b[0mp4util\u001b[0m\u001b[0;34m.\u001b[0m\u001b[0mOptionsState\u001b[0m\u001b[0;34m(\u001b[0m\u001b[0;34m[\u001b[0m\u001b[0;34m'BASIS'\u001b[0m\u001b[0;34m]\u001b[0m\u001b[0;34m)\u001b[0m\u001b[0;34m\u001b[0m\u001b[0m\n\u001b[1;32m   1817\u001b[0m         \u001b[0mcore\u001b[0m\u001b[0;34m.\u001b[0m\u001b[0mset_global_option\u001b[0m\u001b[0;34m(\u001b[0m\u001b[0;34m'BASIS'\u001b[0m\u001b[0;34m,\u001b[0m \u001b[0mbasis\u001b[0m\u001b[0;34m)\u001b[0m\u001b[0;34m\u001b[0m\u001b[0m\n\u001b[0;32m-> 1818\u001b[0;31m         \u001b[0mptype_value\u001b[0m\u001b[0;34m,\u001b[0m \u001b[0mwfn\u001b[0m \u001b[0;34m=\u001b[0m \u001b[0mfunc\u001b[0m\u001b[0;34m(\u001b[0m\u001b[0mmethod_name\u001b[0m\u001b[0;34m,\u001b[0m \u001b[0mreturn_wfn\u001b[0m\u001b[0;34m=\u001b[0m\u001b[0;32mTrue\u001b[0m\u001b[0;34m,\u001b[0m \u001b[0mmolecule\u001b[0m\u001b[0;34m=\u001b[0m\u001b[0mmolecule\u001b[0m\u001b[0;34m,\u001b[0m \u001b[0;34m**\u001b[0m\u001b[0mkwargs\u001b[0m\u001b[0;34m)\u001b[0m\u001b[0;34m\u001b[0m\u001b[0m\n\u001b[0m\u001b[1;32m   1819\u001b[0m         \u001b[0mcore\u001b[0m\u001b[0;34m.\u001b[0m\u001b[0mclean\u001b[0m\u001b[0;34m(\u001b[0m\u001b[0;34m)\u001b[0m\u001b[0;34m\u001b[0m\u001b[0m\n\u001b[1;32m   1820\u001b[0m \u001b[0;34m\u001b[0m\u001b[0m\n",
      "\u001b[0;32m~/data/applications/anaconda3/lib/python3.6/site-packages/psi4/driver/driver.py\u001b[0m in \u001b[0;36mgradient\u001b[0;34m(name, **kwargs)\u001b[0m\n\u001b[1;32m    636\u001b[0m \u001b[0;34m\u001b[0m\u001b[0m\n\u001b[1;32m    637\u001b[0m         \u001b[0;31m# Perform the gradient calculation\u001b[0m\u001b[0;34m\u001b[0m\u001b[0;34m\u001b[0m\u001b[0m\n\u001b[0;32m--> 638\u001b[0;31m         \u001b[0mwfn\u001b[0m \u001b[0;34m=\u001b[0m \u001b[0mprocedures\u001b[0m\u001b[0;34m[\u001b[0m\u001b[0;34m'gradient'\u001b[0m\u001b[0;34m]\u001b[0m\u001b[0;34m[\u001b[0m\u001b[0mlowername\u001b[0m\u001b[0;34m]\u001b[0m\u001b[0;34m(\u001b[0m\u001b[0mlowername\u001b[0m\u001b[0;34m,\u001b[0m \u001b[0mmolecule\u001b[0m\u001b[0;34m=\u001b[0m\u001b[0mmolecule\u001b[0m\u001b[0;34m,\u001b[0m \u001b[0;34m**\u001b[0m\u001b[0mkwargs\u001b[0m\u001b[0;34m)\u001b[0m\u001b[0;34m\u001b[0m\u001b[0m\n\u001b[0m\u001b[1;32m    639\u001b[0m \u001b[0;34m\u001b[0m\u001b[0m\n\u001b[1;32m    640\u001b[0m         \u001b[0moptstash\u001b[0m\u001b[0;34m.\u001b[0m\u001b[0mrestore\u001b[0m\u001b[0;34m(\u001b[0m\u001b[0;34m)\u001b[0m\u001b[0;34m\u001b[0m\u001b[0m\n",
      "\u001b[0;32m~/data/applications/anaconda3/lib/python3.6/site-packages/psi4/driver/procrouting/proc.py\u001b[0m in \u001b[0;36mrun_scf_gradient\u001b[0;34m(name, **kwargs)\u001b[0m\n\u001b[1;32m   2069\u001b[0m     \u001b[0mref_wfn\u001b[0m \u001b[0;34m=\u001b[0m \u001b[0mkwargs\u001b[0m\u001b[0;34m.\u001b[0m\u001b[0mget\u001b[0m\u001b[0;34m(\u001b[0m\u001b[0;34m'ref_wfn'\u001b[0m\u001b[0;34m,\u001b[0m \u001b[0;32mNone\u001b[0m\u001b[0;34m)\u001b[0m\u001b[0;34m\u001b[0m\u001b[0m\n\u001b[1;32m   2070\u001b[0m     \u001b[0;32mif\u001b[0m \u001b[0mref_wfn\u001b[0m \u001b[0;32mis\u001b[0m \u001b[0;32mNone\u001b[0m\u001b[0;34m:\u001b[0m\u001b[0;34m\u001b[0m\u001b[0m\n\u001b[0;32m-> 2071\u001b[0;31m         \u001b[0mref_wfn\u001b[0m \u001b[0;34m=\u001b[0m \u001b[0mrun_scf\u001b[0m\u001b[0;34m(\u001b[0m\u001b[0mname\u001b[0m\u001b[0;34m,\u001b[0m \u001b[0;34m**\u001b[0m\u001b[0mkwargs\u001b[0m\u001b[0;34m)\u001b[0m\u001b[0;34m\u001b[0m\u001b[0m\n\u001b[0m\u001b[1;32m   2072\u001b[0m \u001b[0;34m\u001b[0m\u001b[0m\n\u001b[1;32m   2073\u001b[0m     \u001b[0;32mif\u001b[0m \u001b[0mcore\u001b[0m\u001b[0;34m.\u001b[0m\u001b[0mget_option\u001b[0m\u001b[0;34m(\u001b[0m\u001b[0;34m'SCF'\u001b[0m\u001b[0;34m,\u001b[0m \u001b[0;34m'REFERENCE'\u001b[0m\u001b[0;34m)\u001b[0m \u001b[0;32min\u001b[0m \u001b[0;34m[\u001b[0m\u001b[0;34m'ROHF'\u001b[0m\u001b[0;34m,\u001b[0m \u001b[0;34m'CUHF'\u001b[0m\u001b[0;34m]\u001b[0m\u001b[0;34m:\u001b[0m\u001b[0;34m\u001b[0m\u001b[0m\n",
      "\u001b[0;32m~/data/applications/anaconda3/lib/python3.6/site-packages/psi4/driver/procrouting/proc.py\u001b[0m in \u001b[0;36mrun_scf\u001b[0;34m(name, **kwargs)\u001b[0m\n\u001b[1;32m   2007\u001b[0m \u001b[0;34m\u001b[0m\u001b[0m\n\u001b[1;32m   2008\u001b[0m \u001b[0;34m\u001b[0m\u001b[0m\n\u001b[0;32m-> 2009\u001b[0;31m     \u001b[0mscf_wfn\u001b[0m \u001b[0;34m=\u001b[0m \u001b[0mscf_helper\u001b[0m\u001b[0;34m(\u001b[0m\u001b[0mname\u001b[0m\u001b[0;34m,\u001b[0m \u001b[0mpost_scf\u001b[0m\u001b[0;34m=\u001b[0m\u001b[0;32mFalse\u001b[0m\u001b[0;34m,\u001b[0m \u001b[0;34m**\u001b[0m\u001b[0mkwargs\u001b[0m\u001b[0;34m)\u001b[0m\u001b[0;34m\u001b[0m\u001b[0m\n\u001b[0m\u001b[1;32m   2010\u001b[0m     \u001b[0mreturnvalue\u001b[0m \u001b[0;34m=\u001b[0m \u001b[0mcore\u001b[0m\u001b[0;34m.\u001b[0m\u001b[0mget_variable\u001b[0m\u001b[0;34m(\u001b[0m\u001b[0;34m'CURRENT ENERGY'\u001b[0m\u001b[0;34m)\u001b[0m\u001b[0;34m\u001b[0m\u001b[0m\n\u001b[1;32m   2011\u001b[0m \u001b[0;34m\u001b[0m\u001b[0m\n",
      "\u001b[0;32m~/data/applications/anaconda3/lib/python3.6/site-packages/psi4/driver/procrouting/proc.py\u001b[0m in \u001b[0;36mscf_helper\u001b[0;34m(name, post_scf, **kwargs)\u001b[0m\n\u001b[1;32m   1361\u001b[0m         \u001b[0mscf_wfn\u001b[0m\u001b[0;34m.\u001b[0m\u001b[0mset_variable\u001b[0m\u001b[0;34m(\u001b[0m\u001b[0;34m\"-D Energy\"\u001b[0m\u001b[0;34m,\u001b[0m \u001b[0mdisp_energy\u001b[0m\u001b[0;34m)\u001b[0m\u001b[0;34m\u001b[0m\u001b[0m\n\u001b[1;32m   1362\u001b[0m \u001b[0;34m\u001b[0m\u001b[0m\n\u001b[0;32m-> 1363\u001b[0;31m     \u001b[0me_scf\u001b[0m \u001b[0;34m=\u001b[0m \u001b[0mscf_wfn\u001b[0m\u001b[0;34m.\u001b[0m\u001b[0mcompute_energy\u001b[0m\u001b[0;34m(\u001b[0m\u001b[0;34m)\u001b[0m\u001b[0;34m\u001b[0m\u001b[0m\n\u001b[0m\u001b[1;32m   1364\u001b[0m     \u001b[0mcore\u001b[0m\u001b[0;34m.\u001b[0m\u001b[0mset_variable\u001b[0m\u001b[0;34m(\u001b[0m\u001b[0;34m\"SCF TOTAL ENERGY\"\u001b[0m\u001b[0;34m,\u001b[0m \u001b[0me_scf\u001b[0m\u001b[0;34m)\u001b[0m\u001b[0;34m\u001b[0m\u001b[0m\n\u001b[1;32m   1365\u001b[0m     \u001b[0mcore\u001b[0m\u001b[0;34m.\u001b[0m\u001b[0mset_variable\u001b[0m\u001b[0;34m(\u001b[0m\u001b[0;34m\"CURRENT ENERGY\"\u001b[0m\u001b[0;34m,\u001b[0m \u001b[0me_scf\u001b[0m\u001b[0;34m)\u001b[0m\u001b[0;34m\u001b[0m\u001b[0m\n",
      "\u001b[0;31mSystemError\u001b[0m: <built-in method compute_energy of PyCapsule object at 0x7feb24044720> returned NULL without setting an error"
     ]
    }
   ],
   "source": [
    "psi4.optimize(\"B3LYP/6-31G*\", molecule=molecule)"
   ]
  },
  {
   "cell_type": "code",
   "execution_count": null,
   "metadata": {
    "ExecuteTime": {
     "end_time": "2018-09-20T22:55:39.019705Z",
     "start_time": "2018-09-20T22:48:43.281Z"
    }
   },
   "outputs": [],
   "source": [
    "molecule.geometry()"
   ]
  },
  {
   "cell_type": "code",
   "execution_count": null,
   "metadata": {},
   "outputs": [],
   "source": []
  }
 ],
 "metadata": {
  "kernelspec": {
   "display_name": "Python [default]",
   "language": "python",
   "name": "python3"
  },
  "language_info": {
   "codemirror_mode": {
    "name": "ipython",
    "version": 3
   },
   "file_extension": ".py",
   "mimetype": "text/x-python",
   "name": "python",
   "nbconvert_exporter": "python",
   "pygments_lexer": "ipython3",
   "version": "3.6.4"
  }
 },
 "nbformat": 4,
 "nbformat_minor": 2
}
