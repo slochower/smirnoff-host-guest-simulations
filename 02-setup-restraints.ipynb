{
 "cells": [
  {
   "cell_type": "markdown",
   "metadata": {},
   "source": [
    "# Try 13: setup `paprika` restraints"
   ]
  },
  {
   "cell_type": "markdown",
   "metadata": {},
   "source": [
    "Presuming we have a host-guest system already setup, let's see if we can rationally instruct `paprika` to setup all the restraints for a real system."
   ]
  },
  {
   "cell_type": "code",
   "execution_count": 1,
   "metadata": {
    "ExecuteTime": {
     "end_time": "2018-03-27T00:09:20.771135Z",
     "start_time": "2018-03-27T00:09:20.472551Z"
    }
   },
   "outputs": [],
   "source": [
    "%load_ext autoreload\n",
    "%autoreload 2\n",
    "\n",
    "import os as os\n",
    "import numpy as np\n",
    "\n",
    "import parmed as pmd\n",
    "import pytraj as pt"
   ]
  },
  {
   "cell_type": "markdown",
   "metadata": {},
   "source": [
    "We are going to setup host translational restraints, guest translational restraints, host \"jacks,\" and guest wall restraints with `paprika`. First, let's try working in a directory where we have a known `disang.rest` file we can use as a reference: `/data/davids4/projects/smirnoff-host-guest/a-bam-p/a00/original` or `/data/davids4/projects/smirnoff-host-guest/a-bam-p/u00/original` for the final values.\n",
    "\n",
    "Since we're starting with files Niel prepared, the dummy atoms are first, followed by the host, and then the guest atoms."
   ]
  },
  {
   "cell_type": "code",
   "execution_count": 2,
   "metadata": {
    "ExecuteTime": {
     "end_time": "2018-03-27T00:09:20.790006Z",
     "start_time": "2018-03-27T00:09:20.772910Z"
    }
   },
   "outputs": [],
   "source": [
    "dummy_anchors = [':1', ':2', ':3']\n",
    "host_anchors  = [':4@O3', ':6@C1', ':8@C6']\n",
    "guest_anchors = [':10@C4', ':10@N1']\n",
    "\n",
    "code_mapping = {\n",
    "    'D2' : dummy_anchors[0],\n",
    "    'D1' : dummy_anchors[1],\n",
    "    'D0' : dummy_anchors[2],\n",
    "    'H0' : host_anchors[0],\n",
    "    'H1' : host_anchors[1],\n",
    "    'H2' : host_anchors[2],\n",
    "    'G0' : guest_anchors[0],\n",
    "    'G1' : guest_anchors[1]\n",
    "}"
   ]
  },
  {
   "cell_type": "markdown",
   "metadata": {},
   "source": [
    "The attach fractions can be found in the `Setup.pl` file in the original location on `kirkwood`: `/data/nhenriksen/projects/cds/wat6/bgbg-tip3p/a-bam-p/a00/` under `@AttachFC`."
   ]
  },
  {
   "cell_type": "code",
   "execution_count": 3,
   "metadata": {
    "ExecuteTime": {
     "end_time": "2018-03-27T00:09:20.886581Z",
     "start_time": "2018-03-27T00:09:20.791594Z"
    }
   },
   "outputs": [],
   "source": [
    "attach_string = '0.00 0.40 0.80 1.60 2.40 4.00 5.50 8.65 11.80 18.10 24.40 37.00 49.60 74.80 100.00'\n",
    "attach_fractions = [float(i) / 100 for i in attach_string.split()]"
   ]
  },
  {
   "cell_type": "markdown",
   "metadata": {
    "ExecuteTime": {
     "end_time": "2018-03-23T23:19:14.410610Z",
     "start_time": "2018-03-23T23:19:14.389300Z"
    }
   },
   "source": [
    "The attach force constant is 5.0 kcal/mol-A^{2} for distances and 100.0 kcal/mol-rad^{2} for angels and torsions based on `disang.rest` in `u00`."
   ]
  },
  {
   "cell_type": "code",
   "execution_count": 4,
   "metadata": {
    "ExecuteTime": {
     "end_time": "2018-03-27T00:09:20.982552Z",
     "start_time": "2018-03-27T00:09:20.888256Z"
    }
   },
   "outputs": [],
   "source": [
    "attach_distance_fc = 5.0\n",
    "attach_angle_fc    = 100.0"
   ]
  },
  {
   "cell_type": "markdown",
   "metadata": {},
   "source": [
    "The pull distances are specified by `@Translate` in `Setup.pl` and are offset by 6 Angstroms."
   ]
  },
  {
   "cell_type": "code",
   "execution_count": 5,
   "metadata": {
    "ExecuteTime": {
     "end_time": "2018-03-27T00:09:21.064417Z",
     "start_time": "2018-03-27T00:09:20.984202Z"
    }
   },
   "outputs": [],
   "source": [
    "pull_string = '0.00 0.40 0.80 1.20 1.60 2.00 2.40 2.80 3.20 3.60 4.00 4.40 4.80 5.20 5.60 6.00 6.40 6.80 7.20 7.60 8.00 8.40 8.80 9.20 9.60 10.00 10.40 10.80 11.20 11.60 12.00 12.40 12.80 13.20 13.60 14.00 14.40 14.80 15.20 15.60 16.00 16.40 16.80 17.20 17.60 18.00'\n",
    "pull_distances = [float(i) + 6.00 for i in pull_string.split()]"
   ]
  },
  {
   "cell_type": "markdown",
   "metadata": {},
   "source": [
    "## Load in the structure"
   ]
  },
  {
   "cell_type": "code",
   "execution_count": 6,
   "metadata": {
    "ExecuteTime": {
     "end_time": "2018-03-27T00:09:21.429634Z",
     "start_time": "2018-03-27T00:09:21.065902Z"
    }
   },
   "outputs": [],
   "source": [
    "hg = pmd.load_file('systems/a-bam-p/a00/original/full.hmr.topo',\n",
    "                   'systems/a-bam-p/a00/original/full.crds',\n",
    "                    structure=True)"
   ]
  },
  {
   "cell_type": "code",
   "execution_count": 7,
   "metadata": {
    "ExecuteTime": {
     "end_time": "2018-03-27T00:09:21.448339Z",
     "start_time": "2018-03-27T00:09:21.431675Z"
    }
   },
   "outputs": [
    {
     "name": "stdout",
     "output_type": "stream",
     "text": [
      "There are [15, 46, 0] windows in this attach-pull calculation.\n"
     ]
    }
   ],
   "source": [
    "windows = [len(attach_fractions), len(pull_distances), 0]\n",
    "print(f'There are {windows} windows in this attach-pull calculation.')"
   ]
  },
  {
   "cell_type": "markdown",
   "metadata": {},
   "source": [
    "## Initialize `paprika` restraints"
   ]
  },
  {
   "cell_type": "markdown",
   "metadata": {},
   "source": [
    "Let's create a container to hold *all* the static and dynamic restraints."
   ]
  },
  {
   "cell_type": "code",
   "execution_count": 8,
   "metadata": {
    "ExecuteTime": {
     "end_time": "2018-03-27T00:09:21.531492Z",
     "start_time": "2018-03-27T00:09:21.450427Z"
    }
   },
   "outputs": [],
   "source": [
    "restraints = []"
   ]
  },
  {
   "cell_type": "markdown",
   "metadata": {},
   "source": [
    "### Host translational restraints"
   ]
  },
  {
   "cell_type": "markdown",
   "metadata": {},
   "source": [
    "First, let's add \"static\" restraints where the value of the restraint doesn't change over the course of the simulation."
   ]
  },
  {
   "cell_type": "code",
   "execution_count": 9,
   "metadata": {
    "ExecuteTime": {
     "end_time": "2018-03-27T00:09:21.615812Z",
     "start_time": "2018-03-27T00:09:21.533605Z"
    }
   },
   "outputs": [
    {
     "name": "stdout",
     "output_type": "stream",
     "text": [
      "/home/dslochower/hgst-3tb-data/projects/pAPRika/paprika/__init__.py\n"
     ]
    }
   ],
   "source": [
    "import paprika\n",
    "print(os.path.abspath(paprika.__file__))\n",
    "from paprika.restraints import static_DAT_restraint\n",
    "from paprika.restraints import DAT_restraint"
   ]
  },
  {
   "cell_type": "code",
   "execution_count": 10,
   "metadata": {
    "ExecuteTime": {
     "end_time": "2018-03-27T00:09:21.681432Z",
     "start_time": "2018-03-27T00:09:21.618272Z"
    }
   },
   "outputs": [],
   "source": [
    "host_restraints = []"
   ]
  },
  {
   "cell_type": "code",
   "execution_count": 11,
   "metadata": {
    "ExecuteTime": {
     "end_time": "2018-03-27T00:09:23.974058Z",
     "start_time": "2018-03-27T00:09:21.683197Z"
    },
    "scrolled": true
   },
   "outputs": [
    {
     "name": "stderr",
     "output_type": "stream",
     "text": [
      "DEBUG:root:Calculating attach targets and force constants...\n",
      "DEBUG:root:Attach, Method #1\n",
      "DEBUG:root:Calculating pull targets and force constants...\n",
      "DEBUG:root:Pull, Method #1\n",
      "DEBUG:root:Calculating release targets and force constants...\n",
      "DEBUG:root:No restraint info set for the release phase! Skipping...\n",
      "DEBUG:root:Number of attach windows = 15\n",
      "DEBUG:root:Number of pull windows = 46\n",
      "DEBUG:root:This restraint will be skipped in the release phase\n",
      "DEBUG:root:Assigning atom indices...\n",
      "DEBUG:root:There are 1 atoms in the mask :1  ...\n",
      "DEBUG:root:There are 1 atoms in the mask :4@O3  ...\n",
      "DEBUG:root:Calculating attach targets and force constants...\n",
      "DEBUG:root:Attach, Method #1\n",
      "DEBUG:root:Calculating pull targets and force constants...\n",
      "DEBUG:root:Pull, Method #1\n",
      "DEBUG:root:Calculating release targets and force constants...\n",
      "DEBUG:root:No restraint info set for the release phase! Skipping...\n",
      "DEBUG:root:Number of attach windows = 15\n",
      "DEBUG:root:Number of pull windows = 46\n",
      "DEBUG:root:This restraint will be skipped in the release phase\n",
      "DEBUG:root:Assigning atom indices...\n",
      "DEBUG:root:There are 1 atoms in the mask :3  ...\n",
      "DEBUG:root:There are 1 atoms in the mask :2  ...\n",
      "DEBUG:root:There are 1 atoms in the mask :4@O3  ...\n",
      "DEBUG:root:Calculating attach targets and force constants...\n",
      "DEBUG:root:Attach, Method #1\n",
      "DEBUG:root:Calculating pull targets and force constants...\n",
      "DEBUG:root:Pull, Method #1\n",
      "DEBUG:root:Calculating release targets and force constants...\n",
      "DEBUG:root:No restraint info set for the release phase! Skipping...\n",
      "DEBUG:root:Number of attach windows = 15\n",
      "DEBUG:root:Number of pull windows = 46\n",
      "DEBUG:root:This restraint will be skipped in the release phase\n",
      "DEBUG:root:Assigning atom indices...\n",
      "DEBUG:root:There are 1 atoms in the mask :3  ...\n",
      "DEBUG:root:There are 1 atoms in the mask :2  ...\n",
      "DEBUG:root:There are 1 atoms in the mask :1  ...\n",
      "DEBUG:root:There are 1 atoms in the mask :4@O3  ...\n",
      "DEBUG:root:Calculating attach targets and force constants...\n",
      "DEBUG:root:Attach, Method #1\n",
      "DEBUG:root:Calculating pull targets and force constants...\n",
      "DEBUG:root:Pull, Method #1\n",
      "DEBUG:root:Calculating release targets and force constants...\n",
      "DEBUG:root:No restraint info set for the release phase! Skipping...\n",
      "DEBUG:root:Number of attach windows = 15\n",
      "DEBUG:root:Number of pull windows = 46\n",
      "DEBUG:root:This restraint will be skipped in the release phase\n",
      "DEBUG:root:Assigning atom indices...\n",
      "DEBUG:root:There are 1 atoms in the mask :1  ...\n",
      "DEBUG:root:There are 1 atoms in the mask :4@O3  ...\n",
      "DEBUG:root:There are 1 atoms in the mask :6@C1  ...\n",
      "DEBUG:root:Calculating attach targets and force constants...\n",
      "DEBUG:root:Attach, Method #1\n",
      "DEBUG:root:Calculating pull targets and force constants...\n",
      "DEBUG:root:Pull, Method #1\n",
      "DEBUG:root:Calculating release targets and force constants...\n",
      "DEBUG:root:No restraint info set for the release phase! Skipping...\n",
      "DEBUG:root:Number of attach windows = 15\n",
      "DEBUG:root:Number of pull windows = 46\n",
      "DEBUG:root:This restraint will be skipped in the release phase\n",
      "DEBUG:root:Assigning atom indices...\n",
      "DEBUG:root:There are 1 atoms in the mask :3  ...\n",
      "DEBUG:root:There are 1 atoms in the mask :2  ...\n",
      "DEBUG:root:There are 1 atoms in the mask :4@O3  ...\n",
      "DEBUG:root:There are 1 atoms in the mask :6@C1  ...\n",
      "DEBUG:root:Calculating attach targets and force constants...\n",
      "DEBUG:root:Attach, Method #1\n",
      "DEBUG:root:Calculating pull targets and force constants...\n",
      "DEBUG:root:Pull, Method #1\n",
      "DEBUG:root:Calculating release targets and force constants...\n",
      "DEBUG:root:No restraint info set for the release phase! Skipping...\n",
      "DEBUG:root:Number of attach windows = 15\n",
      "DEBUG:root:Number of pull windows = 46\n",
      "DEBUG:root:This restraint will be skipped in the release phase\n",
      "DEBUG:root:Assigning atom indices...\n",
      "DEBUG:root:There are 1 atoms in the mask :2  ...\n",
      "DEBUG:root:There are 1 atoms in the mask :4@O3  ...\n",
      "DEBUG:root:There are 1 atoms in the mask :6@C1  ...\n",
      "DEBUG:root:There are 1 atoms in the mask :8@C6  ...\n"
     ]
    }
   ],
   "source": [
    "static_restraints = [['D2', 'H0'],\n",
    "                     ['D0', 'D1', 'H0'],\n",
    "                     ['D0', 'D1', 'D2', 'H0'],\n",
    "                     ['D2', 'H0', 'H1'],\n",
    "                     ['D0', 'D1', 'H0', 'H1'],\n",
    "                     ['D1', 'H0', 'H1', 'H2'],\n",
    "                    ]\n",
    "\n",
    "static_restraint_list = []\n",
    "for static_restraint in static_restraints:\n",
    "    static_restraint_list.append(\n",
    "        static_DAT_restraint([code_mapping[mask] for mask in static_restraint], \n",
    "                             windows, hg,\n",
    "                             attach_angle_fc, amber_index=True))"
   ]
  },
  {
   "cell_type": "code",
   "execution_count": 12,
   "metadata": {
    "ExecuteTime": {
     "end_time": "2018-03-27T00:09:23.993112Z",
     "start_time": "2018-03-27T00:09:23.975848Z"
    }
   },
   "outputs": [
    {
     "name": "stdout",
     "output_type": "stream",
     "text": [
      "Adding 6 static host restraints...\n"
     ]
    }
   ],
   "source": [
    "print(f'Adding {len(static_restraint_list)} static host restraints...')"
   ]
  },
  {
   "cell_type": "code",
   "execution_count": 13,
   "metadata": {
    "ExecuteTime": {
     "end_time": "2018-03-27T00:09:24.103948Z",
     "start_time": "2018-03-27T00:09:23.994628Z"
    },
    "scrolled": true
   },
   "outputs": [],
   "source": [
    "restraints.extend(static_restraint_list)"
   ]
  },
  {
   "cell_type": "markdown",
   "metadata": {},
   "source": [
    "### Guest translational restraints\n",
    "\n",
    "Let's define the guest translational distance, translational angle, and orientational angle relative to the dummy atoms."
   ]
  },
  {
   "cell_type": "code",
   "execution_count": 14,
   "metadata": {
    "ExecuteTime": {
     "end_time": "2018-03-27T00:09:24.248606Z",
     "start_time": "2018-03-27T00:09:24.105545Z"
    }
   },
   "outputs": [],
   "source": [
    "guest_restraints = [\n",
    "    ['D2', 'G0'],\n",
    "    ['D1', 'D2', 'G0'],\n",
    "    ['D2', 'G0', 'G1']\n",
    "]\n",
    "\n",
    "guest_targets = [\n",
    "    [6.0],\n",
    "    [180.0],\n",
    "    [180.0]\n",
    "]"
   ]
  },
  {
   "cell_type": "code",
   "execution_count": 15,
   "metadata": {
    "ExecuteTime": {
     "end_time": "2018-03-27T00:09:24.567389Z",
     "start_time": "2018-03-27T00:09:24.250263Z"
    },
    "scrolled": true
   },
   "outputs": [
    {
     "name": "stderr",
     "output_type": "stream",
     "text": [
      "DEBUG:root:Calculating attach targets and force constants...\n",
      "DEBUG:root:Attach, Method #3\n",
      "DEBUG:root:Calculating pull targets and force constants...\n",
      "DEBUG:root:Pull, Method #1\n",
      "DEBUG:root:Calculating release targets and force constants...\n",
      "DEBUG:root:No restraint info set for the release phase! Skipping...\n",
      "DEBUG:root:Number of attach windows = 15\n",
      "DEBUG:root:Number of pull windows = 46\n",
      "DEBUG:root:This restraint will be skipped in the release phase\n",
      "DEBUG:root:Assigning atom indices...\n",
      "DEBUG:root:There are 1 atoms in the mask :1  ...\n",
      "DEBUG:root:There are 1 atoms in the mask :10@C4  ...\n",
      "DEBUG:root:Calculating attach targets and force constants...\n",
      "DEBUG:root:Attach, Method #3\n",
      "DEBUG:root:Calculating pull targets and force constants...\n",
      "DEBUG:root:Pull, Method #1\n",
      "DEBUG:root:Calculating release targets and force constants...\n",
      "DEBUG:root:No restraint info set for the release phase! Skipping...\n",
      "DEBUG:root:Number of attach windows = 15\n",
      "DEBUG:root:Number of pull windows = 46\n",
      "DEBUG:root:This restraint will be skipped in the release phase\n",
      "DEBUG:root:Assigning atom indices...\n",
      "DEBUG:root:There are 1 atoms in the mask :2  ...\n",
      "DEBUG:root:There are 1 atoms in the mask :1  ...\n",
      "DEBUG:root:There are 1 atoms in the mask :10@C4  ...\n",
      "DEBUG:root:Calculating attach targets and force constants...\n",
      "DEBUG:root:Attach, Method #3\n",
      "DEBUG:root:Calculating pull targets and force constants...\n",
      "DEBUG:root:Pull, Method #1\n",
      "DEBUG:root:Calculating release targets and force constants...\n",
      "DEBUG:root:No restraint info set for the release phase! Skipping...\n",
      "DEBUG:root:Number of attach windows = 15\n",
      "DEBUG:root:Number of pull windows = 46\n",
      "DEBUG:root:This restraint will be skipped in the release phase\n",
      "DEBUG:root:Assigning atom indices...\n",
      "DEBUG:root:There are 1 atoms in the mask :1  ...\n",
      "DEBUG:root:There are 1 atoms in the mask :10@C4  ...\n",
      "DEBUG:root:There are 1 atoms in the mask :10@N1  ...\n"
     ]
    }
   ],
   "source": [
    "guest_restraints_list = []\n",
    "for restraint in guest_restraints:\n",
    "    if len(restraint) > 2:\n",
    "        angle = True\n",
    "    else:\n",
    "        angle = False\n",
    "    this = DAT_restraint()\n",
    "    this.auto_apr = True\n",
    "    this.amber_index = True\n",
    "    this.topology = hg\n",
    "    this.attach['fraction_list'] = attach_fractions\n",
    "    this.pull['num_windows'] = len(pull_distances)\n",
    "    this.mask1 = code_mapping[restraint[0]]\n",
    "    this.mask2 = code_mapping[restraint[1]]\n",
    "    \n",
    "    if angle:\n",
    "        this.mask3 = code_mapping[restraint[2]]\n",
    "        this.attach['target'] = 180.0\n",
    "        this.pull['target_final'] = 180.0\n",
    "        this.attach['fc_final'] = attach_angle_fc\n",
    "    else:\n",
    "        this.attach['target'] = pull_distances[0]\n",
    "        this.pull['target_final'] = pull_distances[-1]\n",
    "        this.attach['fc_final'] = attach_distance_fc\n",
    "    \n",
    "    this.initialize()\n",
    "    guest_restraints_list.append(this)"
   ]
  },
  {
   "cell_type": "code",
   "execution_count": 16,
   "metadata": {
    "ExecuteTime": {
     "end_time": "2018-03-27T00:09:24.586456Z",
     "start_time": "2018-03-27T00:09:24.569806Z"
    }
   },
   "outputs": [
    {
     "name": "stdout",
     "output_type": "stream",
     "text": [
      "Adding 3 static guest restraints...\n"
     ]
    }
   ],
   "source": [
    "print(f'Adding {len(guest_restraints_list)} static guest restraints...')"
   ]
  },
  {
   "cell_type": "code",
   "execution_count": 17,
   "metadata": {
    "ExecuteTime": {
     "end_time": "2018-03-27T00:09:24.690583Z",
     "start_time": "2018-03-27T00:09:24.588847Z"
    }
   },
   "outputs": [],
   "source": [
    "restraints.extend(guest_restraints_list)"
   ]
  },
  {
   "cell_type": "markdown",
   "metadata": {},
   "source": [
    "###  Host \"jacks\" restraints\n",
    "\n",
    "The \"jacks\" restraints can be written... O5_n - C1_n - O1_n - C4_n+1 and C1_n - O1_n - C4_n+1 - C5_n+1."
   ]
  },
  {
   "cell_type": "markdown",
   "metadata": {},
   "source": [
    "The C1-O1-C4-C5 dihedral has an equilibrium value, measured based on `full.crds` of -108.777 degrees. This makes sense! The O5-C1-O1-C4 dihedral has an equilibrium value of 104.333. This also makes sense."
   ]
  },
  {
   "cell_type": "code",
   "execution_count": 18,
   "metadata": {
    "ExecuteTime": {
     "end_time": "2018-03-27T00:09:24.773819Z",
     "start_time": "2018-03-27T00:09:24.692762Z"
    }
   },
   "outputs": [],
   "source": [
    "host_conformational_restraints_template = [\n",
    "    ['O5', 'C1', 'O1', 'C4'],\n",
    "    ['C1', 'O1', 'C4', 'C5']\n",
    "]"
   ]
  },
  {
   "cell_type": "code",
   "execution_count": 19,
   "metadata": {
    "ExecuteTime": {
     "end_time": "2018-03-27T00:09:25.006454Z",
     "start_time": "2018-03-27T00:09:24.776043Z"
    }
   },
   "outputs": [],
   "source": [
    "host_conformational_restraints = []\n",
    "host_residues = len(hg[':MGO'].residues)\n",
    "first_host_residue = hg[':MGO'].residues[0].number + 1\n",
    "template = host_conformational_restraints_template\n",
    "\n",
    "for n in range(first_host_residue, host_residues + first_host_residue):\n",
    "    if n + 1 < host_residues + first_host_residue:\n",
    "        next_residue = n + 1\n",
    "    else:\n",
    "        next_residue = first_host_residue\n",
    "    host_conformational_restraints.append(\n",
    "        [f':{n}@{template[0][0]}',\n",
    "         f':{n}@{template[0][1]}',\n",
    "         f':{n}@{template[0][2]}',\n",
    "         f':{next_residue}@{template[0][3]}'\n",
    "        ])\n",
    "    host_conformational_restraints.append(\n",
    "        [f':{n}@{template[1][0]}',\n",
    "         f':{n}@{template[1][1]}',\n",
    "         f':{next_residue}@{template[1][2]}',\n",
    "         f':{next_residue}@{template[1][3]}'\n",
    "        ])"
   ]
  },
  {
   "cell_type": "code",
   "execution_count": 20,
   "metadata": {
    "ExecuteTime": {
     "end_time": "2018-03-27T00:09:25.033240Z",
     "start_time": "2018-03-27T00:09:25.008452Z"
    }
   },
   "outputs": [
    {
     "data": {
      "text/plain": [
       "[[':4@O5', ':4@C1', ':4@O1', ':5@C4'],\n",
       " [':4@C1', ':4@O1', ':5@C4', ':5@C5'],\n",
       " [':5@O5', ':5@C1', ':5@O1', ':6@C4'],\n",
       " [':5@C1', ':5@O1', ':6@C4', ':6@C5'],\n",
       " [':6@O5', ':6@C1', ':6@O1', ':7@C4'],\n",
       " [':6@C1', ':6@O1', ':7@C4', ':7@C5'],\n",
       " [':7@O5', ':7@C1', ':7@O1', ':8@C4'],\n",
       " [':7@C1', ':7@O1', ':8@C4', ':8@C5'],\n",
       " [':8@O5', ':8@C1', ':8@O1', ':9@C4'],\n",
       " [':8@C1', ':8@O1', ':9@C4', ':9@C5'],\n",
       " [':9@O5', ':9@C1', ':9@O1', ':4@C4'],\n",
       " [':9@C1', ':9@O1', ':4@C4', ':4@C5']]"
      ]
     },
     "execution_count": 20,
     "metadata": {},
     "output_type": "execute_result"
    }
   ],
   "source": [
    "host_conformational_restraints"
   ]
  },
  {
   "cell_type": "markdown",
   "metadata": {},
   "source": [
    "Set the target value of the jacks based on the current (equilibrium) angle of these dihedrals."
   ]
  },
  {
   "cell_type": "code",
   "execution_count": 21,
   "metadata": {
    "ExecuteTime": {
     "end_time": "2018-03-27T00:09:25.379398Z",
     "start_time": "2018-03-27T00:09:25.035638Z"
    }
   },
   "outputs": [],
   "source": [
    "host_conformational_targets = [\n",
    "    [],\n",
    "    []\n",
    "]\n",
    "\n",
    "structure = pt.load_parmed(hg, traj=True)\n",
    "mask_string = host_conformational_restraints[0]\n",
    "target = pt.dihedral(structure, ' '.join(mask_string))[0]\n",
    "\n",
    "host_conformational_targets[0] = [target]\n",
    "\n",
    "mask_string = host_conformational_restraints[1]\n",
    "target = pt.dihedral(structure, ' '.join(mask_string))[0]\n",
    "\n",
    "host_conformational_targets[1] = [target]"
   ]
  },
  {
   "cell_type": "code",
   "execution_count": 22,
   "metadata": {
    "ExecuteTime": {
     "end_time": "2018-03-27T00:09:27.433920Z",
     "start_time": "2018-03-27T00:09:25.381587Z"
    },
    "scrolled": true
   },
   "outputs": [
    {
     "name": "stderr",
     "output_type": "stream",
     "text": [
      "DEBUG:root:Calculating attach targets and force constants...\n",
      "DEBUG:root:Attach, Method #3\n",
      "DEBUG:root:Calculating pull targets and force constants...\n",
      "DEBUG:root:Pull, Method #1\n",
      "DEBUG:root:Calculating release targets and force constants...\n",
      "DEBUG:root:No restraint info set for the release phase! Skipping...\n",
      "DEBUG:root:Number of attach windows = 15\n",
      "DEBUG:root:Number of pull windows = 46\n",
      "DEBUG:root:This restraint will be skipped in the release phase\n",
      "DEBUG:root:Assigning atom indices...\n",
      "DEBUG:root:There are 1 atoms in the mask :4@O5  ...\n",
      "DEBUG:root:There are 1 atoms in the mask :4@C1  ...\n",
      "DEBUG:root:There are 1 atoms in the mask :4@O1  ...\n",
      "DEBUG:root:There are 1 atoms in the mask :5@C4  ...\n",
      "DEBUG:root:Calculating attach targets and force constants...\n",
      "DEBUG:root:Attach, Method #3\n",
      "DEBUG:root:Calculating pull targets and force constants...\n",
      "DEBUG:root:Pull, Method #1\n",
      "DEBUG:root:Calculating release targets and force constants...\n",
      "DEBUG:root:No restraint info set for the release phase! Skipping...\n",
      "DEBUG:root:Number of attach windows = 15\n",
      "DEBUG:root:Number of pull windows = 46\n",
      "DEBUG:root:This restraint will be skipped in the release phase\n",
      "DEBUG:root:Assigning atom indices...\n",
      "DEBUG:root:There are 1 atoms in the mask :4@C1  ...\n",
      "DEBUG:root:There are 1 atoms in the mask :4@O1  ...\n",
      "DEBUG:root:There are 1 atoms in the mask :5@C4  ...\n",
      "DEBUG:root:There are 1 atoms in the mask :5@C5  ...\n",
      "DEBUG:root:Calculating attach targets and force constants...\n",
      "DEBUG:root:Attach, Method #3\n",
      "DEBUG:root:Calculating pull targets and force constants...\n",
      "DEBUG:root:Pull, Method #1\n",
      "DEBUG:root:Calculating release targets and force constants...\n",
      "DEBUG:root:No restraint info set for the release phase! Skipping...\n",
      "DEBUG:root:Number of attach windows = 15\n",
      "DEBUG:root:Number of pull windows = 46\n",
      "DEBUG:root:This restraint will be skipped in the release phase\n",
      "DEBUG:root:Assigning atom indices...\n",
      "DEBUG:root:There are 1 atoms in the mask :5@O5  ...\n",
      "DEBUG:root:There are 1 atoms in the mask :5@C1  ...\n",
      "DEBUG:root:There are 1 atoms in the mask :5@O1  ...\n",
      "DEBUG:root:There are 1 atoms in the mask :6@C4  ...\n",
      "DEBUG:root:Calculating attach targets and force constants...\n",
      "DEBUG:root:Attach, Method #3\n",
      "DEBUG:root:Calculating pull targets and force constants...\n",
      "DEBUG:root:Pull, Method #1\n",
      "DEBUG:root:Calculating release targets and force constants...\n",
      "DEBUG:root:No restraint info set for the release phase! Skipping...\n",
      "DEBUG:root:Number of attach windows = 15\n",
      "DEBUG:root:Number of pull windows = 46\n",
      "DEBUG:root:This restraint will be skipped in the release phase\n",
      "DEBUG:root:Assigning atom indices...\n",
      "DEBUG:root:There are 1 atoms in the mask :5@C1  ...\n",
      "DEBUG:root:There are 1 atoms in the mask :5@O1  ...\n",
      "DEBUG:root:There are 1 atoms in the mask :6@C4  ...\n",
      "DEBUG:root:There are 1 atoms in the mask :6@C5  ...\n",
      "DEBUG:root:Calculating attach targets and force constants...\n",
      "DEBUG:root:Attach, Method #3\n",
      "DEBUG:root:Calculating pull targets and force constants...\n",
      "DEBUG:root:Pull, Method #1\n",
      "DEBUG:root:Calculating release targets and force constants...\n",
      "DEBUG:root:No restraint info set for the release phase! Skipping...\n",
      "DEBUG:root:Number of attach windows = 15\n",
      "DEBUG:root:Number of pull windows = 46\n",
      "DEBUG:root:This restraint will be skipped in the release phase\n",
      "DEBUG:root:Assigning atom indices...\n",
      "DEBUG:root:There are 1 atoms in the mask :6@O5  ...\n",
      "DEBUG:root:There are 1 atoms in the mask :6@C1  ...\n",
      "DEBUG:root:There are 1 atoms in the mask :6@O1  ...\n",
      "DEBUG:root:There are 1 atoms in the mask :7@C4  ...\n",
      "DEBUG:root:Calculating attach targets and force constants...\n",
      "DEBUG:root:Attach, Method #3\n",
      "DEBUG:root:Calculating pull targets and force constants...\n",
      "DEBUG:root:Pull, Method #1\n",
      "DEBUG:root:Calculating release targets and force constants...\n",
      "DEBUG:root:No restraint info set for the release phase! Skipping...\n",
      "DEBUG:root:Number of attach windows = 15\n",
      "DEBUG:root:Number of pull windows = 46\n",
      "DEBUG:root:This restraint will be skipped in the release phase\n",
      "DEBUG:root:Assigning atom indices...\n",
      "DEBUG:root:There are 1 atoms in the mask :6@C1  ...\n",
      "DEBUG:root:There are 1 atoms in the mask :6@O1  ...\n",
      "DEBUG:root:There are 1 atoms in the mask :7@C4  ...\n",
      "DEBUG:root:There are 1 atoms in the mask :7@C5  ...\n",
      "DEBUG:root:Calculating attach targets and force constants...\n",
      "DEBUG:root:Attach, Method #3\n",
      "DEBUG:root:Calculating pull targets and force constants...\n",
      "DEBUG:root:Pull, Method #1\n",
      "DEBUG:root:Calculating release targets and force constants...\n",
      "DEBUG:root:No restraint info set for the release phase! Skipping...\n",
      "DEBUG:root:Number of attach windows = 15\n",
      "DEBUG:root:Number of pull windows = 46\n",
      "DEBUG:root:This restraint will be skipped in the release phase\n",
      "DEBUG:root:Assigning atom indices...\n",
      "DEBUG:root:There are 1 atoms in the mask :7@O5  ...\n",
      "DEBUG:root:There are 1 atoms in the mask :7@C1  ...\n",
      "DEBUG:root:There are 1 atoms in the mask :7@O1  ...\n",
      "DEBUG:root:There are 1 atoms in the mask :8@C4  ...\n",
      "DEBUG:root:Calculating attach targets and force constants...\n",
      "DEBUG:root:Attach, Method #3\n",
      "DEBUG:root:Calculating pull targets and force constants...\n",
      "DEBUG:root:Pull, Method #1\n",
      "DEBUG:root:Calculating release targets and force constants...\n",
      "DEBUG:root:No restraint info set for the release phase! Skipping...\n",
      "DEBUG:root:Number of attach windows = 15\n",
      "DEBUG:root:Number of pull windows = 46\n",
      "DEBUG:root:This restraint will be skipped in the release phase\n",
      "DEBUG:root:Assigning atom indices...\n",
      "DEBUG:root:There are 1 atoms in the mask :7@C1  ...\n",
      "DEBUG:root:There are 1 atoms in the mask :7@O1  ...\n",
      "DEBUG:root:There are 1 atoms in the mask :8@C4  ...\n",
      "DEBUG:root:There are 1 atoms in the mask :8@C5  ...\n",
      "DEBUG:root:Calculating attach targets and force constants...\n",
      "DEBUG:root:Attach, Method #3\n",
      "DEBUG:root:Calculating pull targets and force constants...\n",
      "DEBUG:root:Pull, Method #1\n",
      "DEBUG:root:Calculating release targets and force constants...\n",
      "DEBUG:root:No restraint info set for the release phase! Skipping...\n",
      "DEBUG:root:Number of attach windows = 15\n",
      "DEBUG:root:Number of pull windows = 46\n",
      "DEBUG:root:This restraint will be skipped in the release phase\n",
      "DEBUG:root:Assigning atom indices...\n",
      "DEBUG:root:There are 1 atoms in the mask :8@O5  ...\n",
      "DEBUG:root:There are 1 atoms in the mask :8@C1  ...\n",
      "DEBUG:root:There are 1 atoms in the mask :8@O1  ...\n",
      "DEBUG:root:There are 1 atoms in the mask :9@C4  ...\n",
      "DEBUG:root:Calculating attach targets and force constants...\n",
      "DEBUG:root:Attach, Method #3\n",
      "DEBUG:root:Calculating pull targets and force constants...\n",
      "DEBUG:root:Pull, Method #1\n",
      "DEBUG:root:Calculating release targets and force constants...\n",
      "DEBUG:root:No restraint info set for the release phase! Skipping...\n",
      "DEBUG:root:Number of attach windows = 15\n",
      "DEBUG:root:Number of pull windows = 46\n",
      "DEBUG:root:This restraint will be skipped in the release phase\n",
      "DEBUG:root:Assigning atom indices...\n",
      "DEBUG:root:There are 1 atoms in the mask :8@C1  ...\n",
      "DEBUG:root:There are 1 atoms in the mask :8@O1  ...\n",
      "DEBUG:root:There are 1 atoms in the mask :9@C4  ...\n",
      "DEBUG:root:There are 1 atoms in the mask :9@C5  ...\n",
      "DEBUG:root:Calculating attach targets and force constants...\n",
      "DEBUG:root:Attach, Method #3\n",
      "DEBUG:root:Calculating pull targets and force constants...\n",
      "DEBUG:root:Pull, Method #1\n",
      "DEBUG:root:Calculating release targets and force constants...\n",
      "DEBUG:root:No restraint info set for the release phase! Skipping...\n",
      "DEBUG:root:Number of attach windows = 15\n",
      "DEBUG:root:Number of pull windows = 46\n",
      "DEBUG:root:This restraint will be skipped in the release phase\n",
      "DEBUG:root:Assigning atom indices...\n",
      "DEBUG:root:There are 1 atoms in the mask :9@O5  ...\n",
      "DEBUG:root:There are 1 atoms in the mask :9@C1  ...\n",
      "DEBUG:root:There are 1 atoms in the mask :9@O1  ...\n",
      "DEBUG:root:There are 1 atoms in the mask :4@C4  ...\n",
      "DEBUG:root:Calculating attach targets and force constants...\n",
      "DEBUG:root:Attach, Method #3\n",
      "DEBUG:root:Calculating pull targets and force constants...\n",
      "DEBUG:root:Pull, Method #1\n",
      "DEBUG:root:Calculating release targets and force constants...\n",
      "DEBUG:root:No restraint info set for the release phase! Skipping...\n",
      "DEBUG:root:Number of attach windows = 15\n",
      "DEBUG:root:Number of pull windows = 46\n",
      "DEBUG:root:This restraint will be skipped in the release phase\n",
      "DEBUG:root:Assigning atom indices...\n",
      "DEBUG:root:There are 1 atoms in the mask :9@C1  ...\n",
      "DEBUG:root:There are 1 atoms in the mask :9@O1  ...\n"
     ]
    },
    {
     "name": "stderr",
     "output_type": "stream",
     "text": [
      "DEBUG:root:There are 1 atoms in the mask :4@C4  ...\n",
      "DEBUG:root:There are 1 atoms in the mask :4@C5  ...\n"
     ]
    }
   ],
   "source": [
    "jacks_force_constant = 6.0\n",
    "\n",
    "host_conformational_restraints_list = []\n",
    "for index, restraint in enumerate(host_conformational_restraints):\n",
    "    \n",
    "    this = DAT_restraint()\n",
    "    this.auto_apr = True\n",
    "    this.amber_index = True\n",
    "    this.topology = hg\n",
    "    this.attach['fraction_list'] = attach_fractions\n",
    "    this.pull['num_windows'] = len(pull_distances)\n",
    "    this.mask1 = restraint[0]\n",
    "    this.mask2 = restraint[1]\n",
    "    this.mask3 = restraint[2]\n",
    "    this.mask4 = restraint[3]\n",
    "    \n",
    "    this.attach['target'] = host_conformational_targets[index % 2][0]\n",
    "    this.pull['target_final'] = host_conformational_targets[index % 2][0]\n",
    "    this.attach['fc_final'] = jacks_force_constant\n",
    "\n",
    "    this.initialize()\n",
    "    # print(this.phase['pull']['force_constants'])\n",
    "    # print(this.phase['pull']['targets'])\n",
    "    # print(this.phase['attach']['force_constants'][10])\n",
    "    # print(amber_restraint_line(this, 'attach', 10))\n",
    "    host_conformational_restraints_list.append(this)"
   ]
  },
  {
   "cell_type": "code",
   "execution_count": 23,
   "metadata": {
    "ExecuteTime": {
     "end_time": "2018-03-27T00:09:27.464779Z",
     "start_time": "2018-03-27T00:09:27.436435Z"
    }
   },
   "outputs": [
    {
     "name": "stdout",
     "output_type": "stream",
     "text": [
      "Adding 12 host conformational restraints...\n"
     ]
    }
   ],
   "source": [
    "print(f'Adding {len(host_conformational_restraints_list)} host conformational restraints...')"
   ]
  },
  {
   "cell_type": "code",
   "execution_count": 24,
   "metadata": {
    "ExecuteTime": {
     "end_time": "2018-03-27T00:09:27.596396Z",
     "start_time": "2018-03-27T00:09:27.466342Z"
    }
   },
   "outputs": [],
   "source": [
    "restraints.extend(host_conformational_restraints_list)"
   ]
  },
  {
   "cell_type": "markdown",
   "metadata": {},
   "source": [
    "### Guest \"wall\" restraints"
   ]
  },
  {
   "cell_type": "markdown",
   "metadata": {},
   "source": [
    "Okay great, I think we're ready for just the wall restraints!\n",
    "\n",
    "The first set of guest \"wall restraints\" go between `guest_anchors[0]` and the `HO2` and `HO6` hydroxyls along the host. These will probably have to swap when binding to the secondary face."
   ]
  },
  {
   "cell_type": "code",
   "execution_count": 43,
   "metadata": {
    "ExecuteTime": {
     "end_time": "2018-03-27T00:11:19.635775Z",
     "start_time": "2018-03-27T00:11:19.465956Z"
    }
   },
   "outputs": [],
   "source": [
    "guest_wall_restraints_template = [\n",
    "    ['HO2', guest_anchors[0]],\n",
    "    ['HO6', guest_anchors[0]]\n",
    "]\n",
    "\n",
    "guest_wall_restraints = []\n",
    "host_residues = len(hg[':MGO'].residues)\n",
    "first_host_residue = hg[':MGO'].residues[0].number\n",
    "template = guest_wall_restraints_template\n",
    "\n",
    "for n in range(first_host_residue, host_residues + first_host_residue):\n",
    "    guest_wall_restraints.append(\n",
    "        [f':{n}@{template[0][0]}',\n",
    "         f'{template[0][1]}',\n",
    "        ])\n",
    "    guest_wall_restraints.append(\n",
    "        [f':{n}@{template[1][0]}',\n",
    "         f'{template[1][1]}',\n",
    "        ])\n",
    "    \n",
    "guest_wall_restraints.append([dummy_anchors[1],\n",
    "                             guest_anchors[0],\n",
    "                             guest_anchors[1]])"
   ]
  },
  {
   "cell_type": "markdown",
   "metadata": {},
   "source": [
    "These target values come from "
   ]
  },
  {
   "cell_type": "code",
   "execution_count": 44,
   "metadata": {
    "ExecuteTime": {
     "end_time": "2018-03-27T00:11:20.167022Z",
     "start_time": "2018-03-27T00:11:20.153385Z"
    }
   },
   "outputs": [],
   "source": [
    "guest_wall_restraint_targets = [\n",
    "    11.3,\n",
    "    13.3\n",
    "]"
   ]
  },
  {
   "cell_type": "markdown",
   "metadata": {},
   "source": [
    "The guest wall restraints are only on during the attachment phase, and make sure that the guest does not unbind and waste time diffusing around the simulation box. These distance restraints are flat from zero through the restraint target value, near the edge of the binding cavity, and then increase harmonically beyond that. The guest \"wall\" angle restraint is harmonic and prevents the guest from flipping around during the bound phase."
   ]
  },
  {
   "cell_type": "code",
   "execution_count": 45,
   "metadata": {
    "ExecuteTime": {
     "end_time": "2018-03-27T00:11:21.590847Z",
     "start_time": "2018-03-27T00:11:20.457819Z"
    },
    "scrolled": true
   },
   "outputs": [
    {
     "name": "stderr",
     "output_type": "stream",
     "text": [
      "DEBUG:root:Calculating attach targets and force constants...\n",
      "DEBUG:root:Attach, Method #3\n",
      "DEBUG:root:Calculating pull targets and force constants...\n",
      "DEBUG:root:No restraint info set for the pull phase! Skipping...\n",
      "DEBUG:root:Calculating release targets and force constants...\n",
      "DEBUG:root:No restraint info set for the release phase! Skipping...\n",
      "DEBUG:root:Number of attach windows = 15\n",
      "DEBUG:root:This restraint will be skipped in the pull phase\n",
      "DEBUG:root:This restraint will be skipped in the release phase\n",
      "DEBUG:root:Assigning atom indices...\n",
      "DEBUG:root:There are 0 atoms in the mask :3@HO2  ...\n",
      "DEBUG:root:There are 1 atoms in the mask :10@C4  ...\n",
      "DEBUG:root:Calculating attach targets and force constants...\n",
      "DEBUG:root:Attach, Method #3\n",
      "DEBUG:root:Calculating pull targets and force constants...\n",
      "DEBUG:root:No restraint info set for the pull phase! Skipping...\n",
      "DEBUG:root:Calculating release targets and force constants...\n",
      "DEBUG:root:No restraint info set for the release phase! Skipping...\n",
      "DEBUG:root:Number of attach windows = 15\n",
      "DEBUG:root:This restraint will be skipped in the pull phase\n",
      "DEBUG:root:This restraint will be skipped in the release phase\n",
      "DEBUG:root:Assigning atom indices...\n",
      "DEBUG:root:There are 0 atoms in the mask :3@HO6  ...\n",
      "DEBUG:root:There are 1 atoms in the mask :10@C4  ...\n",
      "DEBUG:root:Calculating attach targets and force constants...\n",
      "DEBUG:root:Attach, Method #3\n",
      "DEBUG:root:Calculating pull targets and force constants...\n",
      "DEBUG:root:No restraint info set for the pull phase! Skipping...\n",
      "DEBUG:root:Calculating release targets and force constants...\n",
      "DEBUG:root:No restraint info set for the release phase! Skipping...\n",
      "DEBUG:root:Number of attach windows = 15\n",
      "DEBUG:root:This restraint will be skipped in the pull phase\n",
      "DEBUG:root:This restraint will be skipped in the release phase\n",
      "DEBUG:root:Assigning atom indices...\n",
      "DEBUG:root:There are 1 atoms in the mask :4@HO2  ...\n",
      "DEBUG:root:There are 1 atoms in the mask :10@C4  ...\n",
      "DEBUG:root:Calculating attach targets and force constants...\n",
      "DEBUG:root:Attach, Method #3\n",
      "DEBUG:root:Calculating pull targets and force constants...\n",
      "DEBUG:root:No restraint info set for the pull phase! Skipping...\n",
      "DEBUG:root:Calculating release targets and force constants...\n",
      "DEBUG:root:No restraint info set for the release phase! Skipping...\n",
      "DEBUG:root:Number of attach windows = 15\n",
      "DEBUG:root:This restraint will be skipped in the pull phase\n",
      "DEBUG:root:This restraint will be skipped in the release phase\n",
      "DEBUG:root:Assigning atom indices...\n",
      "DEBUG:root:There are 1 atoms in the mask :4@HO6  ...\n",
      "DEBUG:root:There are 1 atoms in the mask :10@C4  ...\n",
      "DEBUG:root:Calculating attach targets and force constants...\n",
      "DEBUG:root:Attach, Method #3\n",
      "DEBUG:root:Calculating pull targets and force constants...\n",
      "DEBUG:root:No restraint info set for the pull phase! Skipping...\n",
      "DEBUG:root:Calculating release targets and force constants...\n",
      "DEBUG:root:No restraint info set for the release phase! Skipping...\n",
      "DEBUG:root:Number of attach windows = 15\n",
      "DEBUG:root:This restraint will be skipped in the pull phase\n",
      "DEBUG:root:This restraint will be skipped in the release phase\n",
      "DEBUG:root:Assigning atom indices...\n",
      "DEBUG:root:There are 1 atoms in the mask :5@HO2  ...\n",
      "DEBUG:root:There are 1 atoms in the mask :10@C4  ...\n",
      "DEBUG:root:Calculating attach targets and force constants...\n",
      "DEBUG:root:Attach, Method #3\n",
      "DEBUG:root:Calculating pull targets and force constants...\n",
      "DEBUG:root:No restraint info set for the pull phase! Skipping...\n",
      "DEBUG:root:Calculating release targets and force constants...\n",
      "DEBUG:root:No restraint info set for the release phase! Skipping...\n",
      "DEBUG:root:Number of attach windows = 15\n",
      "DEBUG:root:This restraint will be skipped in the pull phase\n",
      "DEBUG:root:This restraint will be skipped in the release phase\n",
      "DEBUG:root:Assigning atom indices...\n",
      "DEBUG:root:There are 1 atoms in the mask :5@HO6  ...\n",
      "DEBUG:root:There are 1 atoms in the mask :10@C4  ...\n",
      "DEBUG:root:Calculating attach targets and force constants...\n",
      "DEBUG:root:Attach, Method #3\n",
      "DEBUG:root:Calculating pull targets and force constants...\n",
      "DEBUG:root:No restraint info set for the pull phase! Skipping...\n",
      "DEBUG:root:Calculating release targets and force constants...\n",
      "DEBUG:root:No restraint info set for the release phase! Skipping...\n",
      "DEBUG:root:Number of attach windows = 15\n",
      "DEBUG:root:This restraint will be skipped in the pull phase\n",
      "DEBUG:root:This restraint will be skipped in the release phase\n",
      "DEBUG:root:Assigning atom indices...\n",
      "DEBUG:root:There are 1 atoms in the mask :6@HO2  ...\n",
      "DEBUG:root:There are 1 atoms in the mask :10@C4  ...\n",
      "DEBUG:root:Calculating attach targets and force constants...\n",
      "DEBUG:root:Attach, Method #3\n",
      "DEBUG:root:Calculating pull targets and force constants...\n",
      "DEBUG:root:No restraint info set for the pull phase! Skipping...\n",
      "DEBUG:root:Calculating release targets and force constants...\n",
      "DEBUG:root:No restraint info set for the release phase! Skipping...\n",
      "DEBUG:root:Number of attach windows = 15\n",
      "DEBUG:root:This restraint will be skipped in the pull phase\n",
      "DEBUG:root:This restraint will be skipped in the release phase\n",
      "DEBUG:root:Assigning atom indices...\n",
      "DEBUG:root:There are 1 atoms in the mask :6@HO6  ...\n",
      "DEBUG:root:There are 1 atoms in the mask :10@C4  ...\n",
      "DEBUG:root:Calculating attach targets and force constants...\n",
      "DEBUG:root:Attach, Method #3\n",
      "DEBUG:root:Calculating pull targets and force constants...\n",
      "DEBUG:root:No restraint info set for the pull phase! Skipping...\n",
      "DEBUG:root:Calculating release targets and force constants...\n",
      "DEBUG:root:No restraint info set for the release phase! Skipping...\n",
      "DEBUG:root:Number of attach windows = 15\n",
      "DEBUG:root:This restraint will be skipped in the pull phase\n",
      "DEBUG:root:This restraint will be skipped in the release phase\n",
      "DEBUG:root:Assigning atom indices...\n",
      "DEBUG:root:There are 1 atoms in the mask :7@HO2  ...\n",
      "DEBUG:root:There are 1 atoms in the mask :10@C4  ...\n",
      "DEBUG:root:Calculating attach targets and force constants...\n",
      "DEBUG:root:Attach, Method #3\n",
      "DEBUG:root:Calculating pull targets and force constants...\n",
      "DEBUG:root:No restraint info set for the pull phase! Skipping...\n",
      "DEBUG:root:Calculating release targets and force constants...\n",
      "DEBUG:root:No restraint info set for the release phase! Skipping...\n",
      "DEBUG:root:Number of attach windows = 15\n",
      "DEBUG:root:This restraint will be skipped in the pull phase\n",
      "DEBUG:root:This restraint will be skipped in the release phase\n",
      "DEBUG:root:Assigning atom indices...\n",
      "DEBUG:root:There are 1 atoms in the mask :7@HO6  ...\n",
      "DEBUG:root:There are 1 atoms in the mask :10@C4  ...\n",
      "DEBUG:root:Calculating attach targets and force constants...\n",
      "DEBUG:root:Attach, Method #3\n",
      "DEBUG:root:Calculating pull targets and force constants...\n",
      "DEBUG:root:No restraint info set for the pull phase! Skipping...\n",
      "DEBUG:root:Calculating release targets and force constants...\n",
      "DEBUG:root:No restraint info set for the release phase! Skipping...\n",
      "DEBUG:root:Number of attach windows = 15\n",
      "DEBUG:root:This restraint will be skipped in the pull phase\n",
      "DEBUG:root:This restraint will be skipped in the release phase\n",
      "DEBUG:root:Assigning atom indices...\n",
      "DEBUG:root:There are 1 atoms in the mask :8@HO2  ...\n",
      "DEBUG:root:There are 1 atoms in the mask :10@C4  ...\n",
      "DEBUG:root:Calculating attach targets and force constants...\n",
      "DEBUG:root:Attach, Method #3\n",
      "DEBUG:root:Calculating pull targets and force constants...\n",
      "DEBUG:root:No restraint info set for the pull phase! Skipping...\n",
      "DEBUG:root:Calculating release targets and force constants...\n",
      "DEBUG:root:No restraint info set for the release phase! Skipping...\n",
      "DEBUG:root:Number of attach windows = 15\n",
      "DEBUG:root:This restraint will be skipped in the pull phase\n",
      "DEBUG:root:This restraint will be skipped in the release phase\n",
      "DEBUG:root:Assigning atom indices...\n",
      "DEBUG:root:There are 1 atoms in the mask :8@HO6  ...\n",
      "DEBUG:root:There are 1 atoms in the mask :10@C4  ...\n",
      "DEBUG:root:Calculating attach targets and force constants...\n",
      "DEBUG:root:Attach, Method #3\n",
      "DEBUG:root:Calculating pull targets and force constants...\n",
      "DEBUG:root:No restraint info set for the pull phase! Skipping...\n",
      "DEBUG:root:Calculating release targets and force constants...\n",
      "DEBUG:root:No restraint info set for the release phase! Skipping...\n",
      "DEBUG:root:Number of attach windows = 15\n"
     ]
    },
    {
     "name": "stderr",
     "output_type": "stream",
     "text": [
      "DEBUG:root:This restraint will be skipped in the pull phase\n",
      "DEBUG:root:This restraint will be skipped in the release phase\n",
      "DEBUG:root:Assigning atom indices...\n",
      "DEBUG:root:There are 1 atoms in the mask :2  ...\n",
      "DEBUG:root:There are 1 atoms in the mask :10@C4  ...\n",
      "DEBUG:root:There are 1 atoms in the mask :10@N1  ...\n"
     ]
    }
   ],
   "source": [
    "guest_wall_restraints_list = []\n",
    "\n",
    "for index, restraint in enumerate(guest_wall_restraints):\n",
    "    if len(restraint) > 2:\n",
    "        angle = True\n",
    "    else:\n",
    "        angle = False\n",
    "    this = DAT_restraint()\n",
    "    this.auto_apr = True\n",
    "    this.amber_index = True\n",
    "    this.topology = hg\n",
    "    this.attach['fraction_list'] = attach_fractions\n",
    "    this.mask1 = restraint[0]\n",
    "    this.mask2 = restraint[1]\n",
    "    \n",
    "    if angle:\n",
    "        this.mask3 = restraint[2]\n",
    "        this.custom_restraint_values['rk3'] = 0.0\n",
    "        this.attach['target'] = 80.0\n",
    "        this.attach['fc_final'] = 500.0\n",
    "    else:\n",
    "        this.custom_restraint_values['r1'] = 0.0\n",
    "        this.custom_restraint_values['r2'] = 0.0\n",
    "        this.attach['target'] = guest_wall_restraint_targets[index % 2]\n",
    "        this.attach['fc_final'] = 50.0\n",
    "    \n",
    "    this.initialize()\n",
    "    guest_wall_restraints_list.append(this)"
   ]
  },
  {
   "cell_type": "code",
   "execution_count": 46,
   "metadata": {
    "ExecuteTime": {
     "end_time": "2018-03-27T00:11:21.653598Z",
     "start_time": "2018-03-27T00:11:21.592831Z"
    }
   },
   "outputs": [
    {
     "name": "stdout",
     "output_type": "stream",
     "text": [
      "Adding 13 guest wall restraints...\n"
     ]
    }
   ],
   "source": [
    "print(f'Adding {len(guest_wall_restraints_list)} guest wall restraints...')"
   ]
  },
  {
   "cell_type": "code",
   "execution_count": 47,
   "metadata": {
    "ExecuteTime": {
     "end_time": "2018-03-27T00:11:21.763497Z",
     "start_time": "2018-03-27T00:11:21.655156Z"
    }
   },
   "outputs": [],
   "source": [
    "restraints.extend(guest_wall_restraints_list)"
   ]
  },
  {
   "cell_type": "code",
   "execution_count": 48,
   "metadata": {
    "ExecuteTime": {
     "end_time": "2018-03-27T00:11:21.907945Z",
     "start_time": "2018-03-27T00:11:21.765231Z"
    },
    "scrolled": true
   },
   "outputs": [
    {
     "data": {
      "text/plain": [
       "[<paprika.restraints.DAT_restraint at 0x7f3dd094ccf8>,\n",
       " <paprika.restraints.DAT_restraint at 0x7f3dd094cc50>,\n",
       " <paprika.restraints.DAT_restraint at 0x7f3dd094cdd8>,\n",
       " <paprika.restraints.DAT_restraint at 0x7f3dd094cf60>,\n",
       " <paprika.restraints.DAT_restraint at 0x7f3dd08a0710>,\n",
       " <paprika.restraints.DAT_restraint at 0x7f3dd08a0978>,\n",
       " <paprika.restraints.DAT_restraint at 0x7f3dd0929400>,\n",
       " <paprika.restraints.DAT_restraint at 0x7f3dd0929438>,\n",
       " <paprika.restraints.DAT_restraint at 0x7f3dd0929518>,\n",
       " <paprika.restraints.DAT_restraint at 0x7f3dd078a400>,\n",
       " <paprika.restraints.DAT_restraint at 0x7f3dd0accc18>,\n",
       " <paprika.restraints.DAT_restraint at 0x7f3dd078a3c8>,\n",
       " <paprika.restraints.DAT_restraint at 0x7f3dd078a4a8>,\n",
       " <paprika.restraints.DAT_restraint at 0x7f3dd078a2b0>,\n",
       " <paprika.restraints.DAT_restraint at 0x7f3dd078a128>,\n",
       " <paprika.restraints.DAT_restraint at 0x7f3dd078a2e8>,\n",
       " <paprika.restraints.DAT_restraint at 0x7f3dd078af98>,\n",
       " <paprika.restraints.DAT_restraint at 0x7f3dd078a160>,\n",
       " <paprika.restraints.DAT_restraint at 0x7f3dd078a080>,\n",
       " <paprika.restraints.DAT_restraint at 0x7f3dd078a0f0>,\n",
       " <paprika.restraints.DAT_restraint at 0x7f3dd0a92978>,\n",
       " <paprika.restraints.DAT_restraint at 0x7f3dd07658d0>,\n",
       " <paprika.restraints.DAT_restraint at 0x7f3dd0765978>,\n",
       " <paprika.restraints.DAT_restraint at 0x7f3dd0765860>,\n",
       " <paprika.restraints.DAT_restraint at 0x7f3dd0765898>,\n",
       " <paprika.restraints.DAT_restraint at 0x7f3dd07656a0>,\n",
       " <paprika.restraints.DAT_restraint at 0x7f3dd07657b8>,\n",
       " <paprika.restraints.DAT_restraint at 0x7f3dd0765320>,\n",
       " <paprika.restraints.DAT_restraint at 0x7f3e041ac908>,\n",
       " <paprika.restraints.DAT_restraint at 0x7f3dd0a926d8>,\n",
       " <paprika.restraints.DAT_restraint at 0x7f3dd0721860>,\n",
       " <paprika.restraints.DAT_restraint at 0x7f3dd08c33c8>,\n",
       " <paprika.restraints.DAT_restraint at 0x7f3dd0765dd8>,\n",
       " <paprika.restraints.DAT_restraint at 0x7f3dd0765e10>,\n",
       " <paprika.restraints.DAT_restraint at 0x7f3dd06a1908>,\n",
       " <paprika.restraints.DAT_restraint at 0x7f3dd06a19b0>,\n",
       " <paprika.restraints.DAT_restraint at 0x7f3dd06a1898>,\n",
       " <paprika.restraints.DAT_restraint at 0x7f3dd06a1940>,\n",
       " <paprika.restraints.DAT_restraint at 0x7f3dd06a1828>,\n",
       " <paprika.restraints.DAT_restraint at 0x7f3dd06a1860>,\n",
       " <paprika.restraints.DAT_restraint at 0x7f3dd06a18d0>,\n",
       " <paprika.restraints.DAT_restraint at 0x7f3dd06a1780>,\n",
       " <paprika.restraints.DAT_restraint at 0x7f3dd06a1710>,\n",
       " <paprika.restraints.DAT_restraint at 0x7f3dd06a16a0>,\n",
       " <paprika.restraints.DAT_restraint at 0x7f3dd06a16d8>,\n",
       " <paprika.restraints.DAT_restraint at 0x7f3dd06a1748>,\n",
       " <paprika.restraints.DAT_restraint at 0x7f3dd0812dd8>,\n",
       " <paprika.restraints.DAT_restraint at 0x7f3dd0618978>,\n",
       " <paprika.restraints.DAT_restraint at 0x7f3dd06189e8>,\n",
       " <paprika.restraints.DAT_restraint at 0x7f3dd06187f0>,\n",
       " <paprika.restraints.DAT_restraint at 0x7f3dd06186a0>,\n",
       " <paprika.restraints.DAT_restraint at 0x7f3dd06187b8>,\n",
       " <paprika.restraints.DAT_restraint at 0x7f3dd0618748>,\n",
       " <paprika.restraints.DAT_restraint at 0x7f3dd0618630>,\n",
       " <paprika.restraints.DAT_restraint at 0x7f3dd073e4e0>,\n",
       " <paprika.restraints.DAT_restraint at 0x7f3dd0618860>,\n",
       " <paprika.restraints.DAT_restraint at 0x7f3dd0618710>,\n",
       " <paprika.restraints.DAT_restraint at 0x7f3dd06185f8>,\n",
       " <paprika.restraints.DAT_restraint at 0x7f3dd0618518>,\n",
       " <paprika.restraints.DAT_restraint at 0x7f3dd0929240>]"
      ]
     },
     "execution_count": 48,
     "metadata": {},
     "output_type": "execute_result"
    }
   ],
   "source": [
    "restraints"
   ]
  },
  {
   "cell_type": "markdown",
   "metadata": {},
   "source": [
    "## Make the window list"
   ]
  },
  {
   "cell_type": "code",
   "execution_count": 49,
   "metadata": {
    "ExecuteTime": {
     "end_time": "2018-03-27T00:11:21.982473Z",
     "start_time": "2018-03-27T00:11:21.909603Z"
    }
   },
   "outputs": [
    {
     "name": "stderr",
     "output_type": "stream",
     "text": [
      "DEBUG:root:All restraints are \"continuous_apr\" style.\n",
      "INFO:root:Restraints appear to be consistent\n"
     ]
    }
   ],
   "source": [
    "from paprika.restraints import create_window_list\n",
    "window_list = create_window_list(restraints)"
   ]
  },
  {
   "cell_type": "code",
   "execution_count": 50,
   "metadata": {
    "ExecuteTime": {
     "end_time": "2018-03-27T00:11:22.066590Z",
     "start_time": "2018-03-27T00:11:22.025996Z"
    }
   },
   "outputs": [],
   "source": [
    "from paprika.restraints import amber_restraint_line"
   ]
  },
  {
   "cell_type": "code",
   "execution_count": 51,
   "metadata": {
    "ExecuteTime": {
     "end_time": "2018-03-27T00:11:22.364613Z",
     "start_time": "2018-03-27T00:11:22.169961Z"
    },
    "scrolled": true
   },
   "outputs": [
    {
     "name": "stderr",
     "output_type": "stream",
     "text": [
      "DEBUG:root:Overriding r1 = 0.0\n",
      "DEBUG:root:Overriding r2 = 0.0\n",
      "DEBUG:root:Overriding r1 = 0.0\n",
      "DEBUG:root:Overriding r2 = 0.0\n",
      "DEBUG:root:Overriding r1 = 0.0\n",
      "DEBUG:root:Overriding r2 = 0.0\n",
      "DEBUG:root:Overriding r1 = 0.0\n",
      "DEBUG:root:Overriding r2 = 0.0\n",
      "DEBUG:root:Overriding r1 = 0.0\n",
      "DEBUG:root:Overriding r2 = 0.0\n",
      "DEBUG:root:Overriding r1 = 0.0\n",
      "DEBUG:root:Overriding r2 = 0.0\n",
      "DEBUG:root:Overriding r1 = 0.0\n",
      "DEBUG:root:Overriding r2 = 0.0\n",
      "DEBUG:root:Overriding r1 = 0.0\n",
      "DEBUG:root:Overriding r2 = 0.0\n",
      "DEBUG:root:Overriding r1 = 0.0\n",
      "DEBUG:root:Overriding r2 = 0.0\n",
      "DEBUG:root:Overriding r1 = 0.0\n",
      "DEBUG:root:Overriding r2 = 0.0\n",
      "DEBUG:root:Overriding r1 = 0.0\n",
      "DEBUG:root:Overriding r2 = 0.0\n",
      "DEBUG:root:Overriding r1 = 0.0\n",
      "DEBUG:root:Overriding r2 = 0.0\n",
      "DEBUG:root:Overriding rk3 = 0.0\n",
      "DEBUG:root:Overriding r1 = 0.0\n",
      "DEBUG:root:Overriding r2 = 0.0\n",
      "DEBUG:root:Overriding r1 = 0.0\n",
      "DEBUG:root:Overriding r2 = 0.0\n",
      "DEBUG:root:Overriding r1 = 0.0\n",
      "DEBUG:root:Overriding r2 = 0.0\n",
      "DEBUG:root:Overriding r1 = 0.0\n",
      "DEBUG:root:Overriding r2 = 0.0\n",
      "DEBUG:root:Overriding r1 = 0.0\n",
      "DEBUG:root:Overriding r2 = 0.0\n",
      "DEBUG:root:Overriding r1 = 0.0\n",
      "DEBUG:root:Overriding r2 = 0.0\n",
      "DEBUG:root:Overriding r1 = 0.0\n",
      "DEBUG:root:Overriding r2 = 0.0\n",
      "DEBUG:root:Overriding r1 = 0.0\n",
      "DEBUG:root:Overriding r2 = 0.0\n",
      "DEBUG:root:Overriding r1 = 0.0\n",
      "DEBUG:root:Overriding r2 = 0.0\n",
      "DEBUG:root:Overriding r1 = 0.0\n",
      "DEBUG:root:Overriding r2 = 0.0\n",
      "DEBUG:root:Overriding r1 = 0.0\n",
      "DEBUG:root:Overriding r2 = 0.0\n",
      "DEBUG:root:Overriding r1 = 0.0\n",
      "DEBUG:root:Overriding r2 = 0.0\n",
      "DEBUG:root:Overriding rk3 = 0.0\n"
     ]
    },
    {
     "name": "stdout",
     "output_type": "stream",
     "text": [
      "&rst iat = 1,    13,                 r1 =    0.00000, r2 =    7.49023, r3 =    7.49023, r4 =  999.00000, rk2 =  100.00000, rk3 =  100.00000,  &end\n",
      "\n",
      "&rst iat = 3,    2,    13,           r1 =    0.00000, r2 =  139.75389, r3 =  139.75389, r4 =  180.00000, rk2 =  100.00000, rk3 =  100.00000,  &end\n",
      "\n",
      "&rst iat = 3,    2,    1,    13,     r1 =  -64.88459, r2 =  115.11541, r3 =  115.11541, r4 =  295.11541, rk2 =  100.00000, rk3 =  100.00000,  &end\n",
      "\n",
      "&rst iat = 1,    13,   46,           r1 =    0.00000, r2 =   55.11100, r3 =   55.11100, r4 =  180.00000, rk2 =  100.00000, rk3 =  100.00000,  &end\n",
      "\n",
      "&rst iat = 3,    2,    13,   46,     r1 = -290.82051, r2 = -110.82051, r3 = -110.82051, r4 =   69.17949, rk2 =  100.00000, rk3 =  100.00000,  &end\n",
      "\n",
      "&rst iat = 2,    13,   46,   104,    r1 =  -65.63097, r2 =  114.36903, r3 =  114.36903, r4 =  294.36903, rk2 =  100.00000, rk3 =  100.00000,  &end\n",
      "\n",
      "&rst iat = 1,    143,                r1 =    0.00000, r2 =    6.00000, r3 =    6.00000, r4 =  999.00000, rk2 =    1.22000, rk3 =    1.22000,  &end\n",
      "\n",
      "&rst iat = 2,    1,    143,          r1 =    0.00000, r2 =  180.00000, r3 =  180.00000, r4 =  180.00000, rk2 =   24.40000, rk3 =   24.40000,  &end\n",
      "\n",
      "&rst iat = 1,    143,  130,          r1 =    0.00000, r2 =  180.00000, r3 =  180.00000, r4 =  180.00000, rk2 =   24.40000, rk3 =   24.40000,  &end\n",
      "\n",
      "&rst iat = 19,   4,    6,    36,     r1 =  -75.67912, r2 =  104.32088, r3 =  104.32088, r4 =  284.32088, rk2 =    1.46400, rk3 =    1.46400,  &end\n",
      "\n",
      "&rst iat = 4,    6,    36,   38,     r1 = -288.73933, r2 = -108.73933, r3 = -108.73933, r4 =   71.26067, rk2 =    1.46400, rk3 =    1.46400,  &end\n",
      "\n",
      "&rst iat = 40,   25,   27,   57,     r1 =  -75.67912, r2 =  104.32088, r3 =  104.32088, r4 =  284.32088, rk2 =    1.46400, rk3 =    1.46400,  &end\n",
      "\n",
      "&rst iat = 25,   27,   57,   59,     r1 = -288.73933, r2 = -108.73933, r3 = -108.73933, r4 =   71.26067, rk2 =    1.46400, rk3 =    1.46400,  &end\n",
      "\n",
      "&rst iat = 61,   46,   48,   78,     r1 =  -75.67912, r2 =  104.32088, r3 =  104.32088, r4 =  284.32088, rk2 =    1.46400, rk3 =    1.46400,  &end\n",
      "\n",
      "&rst iat = 46,   48,   78,   80,     r1 = -288.73933, r2 = -108.73933, r3 = -108.73933, r4 =   71.26067, rk2 =    1.46400, rk3 =    1.46400,  &end\n",
      "\n",
      "&rst iat = 82,   67,   69,   99,     r1 =  -75.67912, r2 =  104.32088, r3 =  104.32088, r4 =  284.32088, rk2 =    1.46400, rk3 =    1.46400,  &end\n",
      "\n",
      "&rst iat = 67,   69,   99,   101,    r1 = -288.73933, r2 = -108.73933, r3 = -108.73933, r4 =   71.26067, rk2 =    1.46400, rk3 =    1.46400,  &end\n",
      "\n",
      "&rst iat = 103,  88,   90,   120,    r1 =  -75.67912, r2 =  104.32088, r3 =  104.32088, r4 =  284.32088, rk2 =    1.46400, rk3 =    1.46400,  &end\n",
      "\n",
      "&rst iat = 88,   90,   120,  122,    r1 = -288.73933, r2 = -108.73933, r3 = -108.73933, r4 =   71.26067, rk2 =    1.46400, rk3 =    1.46400,  &end\n",
      "\n",
      "&rst iat = 124,  109,  111,  15,     r1 =  -75.67912, r2 =  104.32088, r3 =  104.32088, r4 =  284.32088, rk2 =    1.46400, rk3 =    1.46400,  &end\n",
      "\n",
      "&rst iat = 109,  111,  15,   17,     r1 = -288.73933, r2 = -108.73933, r3 = -108.73933, r4 =   71.26067, rk2 =    1.46400, rk3 =    1.46400,  &end\n",
      "\n",
      "&rst iat = 10,   143,                r1 =    0.00000, r2 =    0.00000, r3 =   11.30000, r4 =  999.00000, rk2 =   12.20000, rk3 =   12.20000,  &end\n",
      "\n",
      "&rst iat = 24,   143,                r1 =    0.00000, r2 =    0.00000, r3 =   13.30000, r4 =  999.00000, rk2 =   12.20000, rk3 =   12.20000,  &end\n",
      "\n",
      "&rst iat = 31,   143,                r1 =    0.00000, r2 =    0.00000, r3 =   11.30000, r4 =  999.00000, rk2 =   12.20000, rk3 =   12.20000,  &end\n",
      "\n",
      "&rst iat = 45,   143,                r1 =    0.00000, r2 =    0.00000, r3 =   13.30000, r4 =  999.00000, rk2 =   12.20000, rk3 =   12.20000,  &end\n",
      "\n",
      "&rst iat = 52,   143,                r1 =    0.00000, r2 =    0.00000, r3 =   11.30000, r4 =  999.00000, rk2 =   12.20000, rk3 =   12.20000,  &end\n",
      "\n",
      "&rst iat = 66,   143,                r1 =    0.00000, r2 =    0.00000, r3 =   13.30000, r4 =  999.00000, rk2 =   12.20000, rk3 =   12.20000,  &end\n",
      "\n",
      "&rst iat = 73,   143,                r1 =    0.00000, r2 =    0.00000, r3 =   11.30000, r4 =  999.00000, rk2 =   12.20000, rk3 =   12.20000,  &end\n",
      "\n",
      "&rst iat = 87,   143,                r1 =    0.00000, r2 =    0.00000, r3 =   13.30000, r4 =  999.00000, rk2 =   12.20000, rk3 =   12.20000,  &end\n",
      "\n",
      "&rst iat = 94,   143,                r1 =    0.00000, r2 =    0.00000, r3 =   11.30000, r4 =  999.00000, rk2 =   12.20000, rk3 =   12.20000,  &end\n",
      "\n",
      "&rst iat = 108,  143,                r1 =    0.00000, r2 =    0.00000, r3 =   13.30000, r4 =  999.00000, rk2 =   12.20000, rk3 =   12.20000,  &end\n",
      "\n",
      "&rst iat = 115,  143,                r1 =    0.00000, r2 =    0.00000, r3 =   11.30000, r4 =  999.00000, rk2 =   12.20000, rk3 =   12.20000,  &end\n",
      "\n",
      "&rst iat = 129,  143,                r1 =    0.00000, r2 =    0.00000, r3 =   13.30000, r4 =  999.00000, rk2 =   12.20000, rk3 =   12.20000,  &end\n",
      "\n",
      "&rst iat = 3,    143,  130,          r1 =    0.00000, r2 =   80.00000, r3 =   80.00000, r4 =  180.00000, rk2 =  122.00000, rk3 =    0.00000,  &end\n",
      "\n",
      "&rst iat = 10,   143,                r1 =    0.00000, r2 =    0.00000, r3 =   11.30000, r4 =  999.00000, rk2 =   12.20000, rk3 =   12.20000,  &end\n",
      "\n",
      "&rst iat = 24,   143,                r1 =    0.00000, r2 =    0.00000, r3 =   13.30000, r4 =  999.00000, rk2 =   12.20000, rk3 =   12.20000,  &end\n",
      "\n",
      "&rst iat = 31,   143,                r1 =    0.00000, r2 =    0.00000, r3 =   11.30000, r4 =  999.00000, rk2 =   12.20000, rk3 =   12.20000,  &end\n",
      "\n",
      "&rst iat = 45,   143,                r1 =    0.00000, r2 =    0.00000, r3 =   13.30000, r4 =  999.00000, rk2 =   12.20000, rk3 =   12.20000,  &end\n",
      "\n",
      "&rst iat = 52,   143,                r1 =    0.00000, r2 =    0.00000, r3 =   11.30000, r4 =  999.00000, rk2 =   12.20000, rk3 =   12.20000,  &end\n",
      "\n",
      "&rst iat = 66,   143,                r1 =    0.00000, r2 =    0.00000, r3 =   13.30000, r4 =  999.00000, rk2 =   12.20000, rk3 =   12.20000,  &end\n",
      "\n",
      "&rst iat = 73,   143,                r1 =    0.00000, r2 =    0.00000, r3 =   11.30000, r4 =  999.00000, rk2 =   12.20000, rk3 =   12.20000,  &end\n",
      "\n",
      "&rst iat = 87,   143,                r1 =    0.00000, r2 =    0.00000, r3 =   13.30000, r4 =  999.00000, rk2 =   12.20000, rk3 =   12.20000,  &end\n",
      "\n",
      "&rst iat = 94,   143,                r1 =    0.00000, r2 =    0.00000, r3 =   11.30000, r4 =  999.00000, rk2 =   12.20000, rk3 =   12.20000,  &end\n",
      "\n",
      "&rst iat = 108,  143,                r1 =    0.00000, r2 =    0.00000, r3 =   13.30000, r4 =  999.00000, rk2 =   12.20000, rk3 =   12.20000,  &end\n",
      "\n",
      "&rst iat = 115,  143,                r1 =    0.00000, r2 =    0.00000, r3 =   11.30000, r4 =  999.00000, rk2 =   12.20000, rk3 =   12.20000,  &end\n",
      "\n",
      "&rst iat = 129,  143,                r1 =    0.00000, r2 =    0.00000, r3 =   13.30000, r4 =  999.00000, rk2 =   12.20000, rk3 =   12.20000,  &end\n",
      "\n",
      "&rst iat = 2,    143,  130,          r1 =    0.00000, r2 =   80.00000, r3 =   80.00000, r4 =  180.00000, rk2 =  122.00000, rk3 =    0.00000,  &end\n",
      "\n"
     ]
    },
    {
     "ename": "Exception",
     "evalue": "There must be at least two atoms in a restraint.",
     "output_type": "error",
     "traceback": [
      "\u001b[0;31m---------------------------------------------------------------------------\u001b[0m",
      "\u001b[0;31mException\u001b[0m                                 Traceback (most recent call last)",
      "\u001b[0;32m<ipython-input-51-d2e6a120decb>\u001b[0m in \u001b[0;36m<module>\u001b[0;34m()\u001b[0m\n\u001b[1;32m      3\u001b[0m         \u001b[0;31m# print(restraint.phase[phase]['force_constants'][index])\u001b[0m\u001b[0;34m\u001b[0m\u001b[0;34m\u001b[0m\u001b[0m\n\u001b[1;32m      4\u001b[0m         \u001b[0;31m# print(restraint, index)\u001b[0m\u001b[0;34m\u001b[0m\u001b[0;34m\u001b[0m\u001b[0m\n\u001b[0;32m----> 5\u001b[0;31m         \u001b[0mprint\u001b[0m\u001b[0;34m(\u001b[0m\u001b[0mamber_restraint_line\u001b[0m\u001b[0;34m(\u001b[0m\u001b[0mrestraint\u001b[0m\u001b[0;34m,\u001b[0m \u001b[0;34m'attach'\u001b[0m\u001b[0;34m,\u001b[0m \u001b[0;36m10\u001b[0m\u001b[0;34m)\u001b[0m\u001b[0;34m)\u001b[0m\u001b[0;34m\u001b[0m\u001b[0m\n\u001b[0m\u001b[1;32m      6\u001b[0m         \u001b[0;31m# print(restraint.phase[phase]['force_constants'])\u001b[0m\u001b[0;34m\u001b[0m\u001b[0;34m\u001b[0m\u001b[0m\n",
      "\u001b[0;32m~/hgst-3tb-data/projects/pAPRika/paprika/restraints.py\u001b[0m in \u001b[0;36mamber_restraint_line\u001b[0;34m(restraint, phase, window)\u001b[0m\n\u001b[1;32m    573\u001b[0m     \u001b[0;32mif\u001b[0m \u001b[0;32mnot\u001b[0m \u001b[0mrestraint\u001b[0m\u001b[0;34m.\u001b[0m\u001b[0mindex1\u001b[0m\u001b[0;34m:\u001b[0m\u001b[0;34m\u001b[0m\u001b[0m\n\u001b[1;32m    574\u001b[0m         \u001b[0miat1\u001b[0m \u001b[0;34m=\u001b[0m \u001b[0;34m' '\u001b[0m\u001b[0;34m\u001b[0m\u001b[0m\n\u001b[0;32m--> 575\u001b[0;31m         \u001b[0;32mraise\u001b[0m \u001b[0mException\u001b[0m\u001b[0;34m(\u001b[0m\u001b[0;34m'There must be at least two atoms in a restraint.'\u001b[0m\u001b[0;34m)\u001b[0m\u001b[0;34m\u001b[0m\u001b[0m\n\u001b[0m\u001b[1;32m    576\u001b[0m     \u001b[0;32melif\u001b[0m \u001b[0;32mnot\u001b[0m \u001b[0mrestraint\u001b[0m\u001b[0;34m.\u001b[0m\u001b[0mgroup1\u001b[0m\u001b[0;34m:\u001b[0m\u001b[0;34m\u001b[0m\u001b[0m\n\u001b[1;32m    577\u001b[0m         \u001b[0miat1\u001b[0m \u001b[0;34m=\u001b[0m \u001b[0;34m'{},'\u001b[0m\u001b[0;34m.\u001b[0m\u001b[0mformat\u001b[0m\u001b[0;34m(\u001b[0m\u001b[0mrestraint\u001b[0m\u001b[0;34m.\u001b[0m\u001b[0mindex1\u001b[0m\u001b[0;34m[\u001b[0m\u001b[0;36m0\u001b[0m\u001b[0;34m]\u001b[0m\u001b[0;34m)\u001b[0m\u001b[0;34m\u001b[0m\u001b[0m\n",
      "\u001b[0;31mException\u001b[0m: There must be at least two atoms in a restraint."
     ]
    }
   ],
   "source": [
    "for phase in ['attach']:\n",
    "    for restraint in restraints:\n",
    "        # print(restraint.phase[phase]['force_constants'][index])\n",
    "        # print(restraint, index)\n",
    "        print(amber_restraint_line(restraint, 'attach', 10))\n",
    "        # print(restraint.phase[phase]['force_constants'])"
   ]
  },
  {
   "cell_type": "code",
   "execution_count": null,
   "metadata": {},
   "outputs": [],
   "source": []
  },
  {
   "cell_type": "code",
   "execution_count": null,
   "metadata": {},
   "outputs": [],
   "source": []
  }
 ],
 "metadata": {
  "kernelspec": {
   "display_name": "Python [conda env:smirnoff-paprika]",
   "language": "python",
   "name": "conda-env-smirnoff-paprika-py"
  },
  "language_info": {
   "codemirror_mode": {
    "name": "ipython",
    "version": 3
   },
   "file_extension": ".py",
   "mimetype": "text/x-python",
   "name": "python",
   "nbconvert_exporter": "python",
   "pygments_lexer": "ipython3",
   "version": "3.6.4"
  }
 },
 "nbformat": 4,
 "nbformat_minor": 2
}
