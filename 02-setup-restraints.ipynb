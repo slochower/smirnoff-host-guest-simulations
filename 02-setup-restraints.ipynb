{
 "cells": [
  {
   "cell_type": "markdown",
   "metadata": {},
   "source": [
    "# Try 13: setup `paprika` restraints"
   ]
  },
  {
   "cell_type": "markdown",
   "metadata": {},
   "source": [
    "Presuming we have a host-guest system already setup, let's see if we can rationally instruct `paprika` to setup all the restraints for a real system."
   ]
  },
  {
   "cell_type": "code",
   "execution_count": 1,
   "metadata": {
    "ExecuteTime": {
     "end_time": "2018-03-24T02:16:23.726135Z",
     "start_time": "2018-03-24T02:16:23.371532Z"
    }
   },
   "outputs": [],
   "source": [
    "%load_ext autoreload\n",
    "%autoreload 2\n",
    "\n",
    "import os as os\n",
    "import glob as glob\n",
    "import numpy as np\n",
    "import pandas as pd\n",
    "\n",
    "import parmed as pmd"
   ]
  },
  {
   "cell_type": "markdown",
   "metadata": {},
   "source": [
    "We are going to setup host translational restraints, guest translational restraints, host \"jacks,\" and guest wall restraints with `paprika`. First, let's try working in a directory where we have a known `disang.rest` file we can use as a reference: `/data/davids4/projects/smirnoff-host-guest/a-bam-p/a00/original` or `/data/davids4/projects/smirnoff-host-guest/a-bam-p/u00/original` for the final values.\n",
    "\n",
    "Since we're starting with files Niel prepared, the dummy atoms are first, followed by the host, and then the guest atoms."
   ]
  },
  {
   "cell_type": "code",
   "execution_count": 30,
   "metadata": {
    "ExecuteTime": {
     "end_time": "2018-03-24T02:47:44.826614Z",
     "start_time": "2018-03-24T02:47:44.808755Z"
    }
   },
   "outputs": [],
   "source": [
    "dummy_anchors = [':1', ':2', ':3']\n",
    "host_anchors  = [':4@O3', ':6@C1', ':8@C6']\n",
    "guest_anchors = [':10@C4', ':10@N1']\n",
    "\n",
    "code_mapping = {\n",
    "    'D0' : dummy_anchors[0],\n",
    "    'D1' : dummy_anchors[1],\n",
    "    'D2' : dummy_anchors[2],\n",
    "    'H0' : host_anchors[0],\n",
    "    'H1' : host_anchors[1],\n",
    "    'H2' : host_anchors[2],\n",
    "    'G0' : guest_anchors[0],\n",
    "    'G1' : guest_anchors[1]\n",
    "}\n"
   ]
  },
  {
   "cell_type": "markdown",
   "metadata": {},
   "source": [
    "The attach fractions can be found in the `Setup.pl` file in the original location on `kirkwood`: `/data/nhenriksen/projects/cds/wat6/bgbg-tip3p/a-bam-p/a00/` under `@AttachFC`."
   ]
  },
  {
   "cell_type": "code",
   "execution_count": 3,
   "metadata": {
    "ExecuteTime": {
     "end_time": "2018-03-24T02:16:24.947855Z",
     "start_time": "2018-03-24T02:16:24.932477Z"
    }
   },
   "outputs": [],
   "source": [
    "attach_string = '0.00 0.40 0.80 1.60 2.40 4.00 5.50 8.65 11.80 18.10 24.40 37.00 49.60 74.80'\n",
    "attach_fractions = [float(i) / 100 for i in attach_string.split()]"
   ]
  },
  {
   "cell_type": "markdown",
   "metadata": {
    "ExecuteTime": {
     "end_time": "2018-03-23T23:19:14.410610Z",
     "start_time": "2018-03-23T23:19:14.389300Z"
    }
   },
   "source": [
    "The attach force constant is 5.0 kcal/mol-A^{2} for distances and 100.0 kcal/mol-rad^{2} for angels and torsions based on `disang.rest` in `u00`."
   ]
  },
  {
   "cell_type": "code",
   "execution_count": 4,
   "metadata": {
    "ExecuteTime": {
     "end_time": "2018-03-24T02:16:25.407547Z",
     "start_time": "2018-03-24T02:16:25.392439Z"
    }
   },
   "outputs": [],
   "source": [
    "attach_distance_fc = 5.0\n",
    "attach_angle_fc    = 100.0"
   ]
  },
  {
   "cell_type": "markdown",
   "metadata": {},
   "source": [
    "The pull distances are specified by `@Translate` in `Setup.pl` and are offset by 6 Angstroms."
   ]
  },
  {
   "cell_type": "code",
   "execution_count": 5,
   "metadata": {
    "ExecuteTime": {
     "end_time": "2018-03-24T02:16:25.836368Z",
     "start_time": "2018-03-24T02:16:25.820872Z"
    }
   },
   "outputs": [],
   "source": [
    "pull_string = '0.00 0.40 0.80 1.20 1.60 2.00 2.40 2.80 3.20 3.60 4.00 4.40 4.80 5.20 5.60 6.00 6.40 6.80 7.20 7.60 8.00 8.40 8.80 9.20 9.60 10.00 10.40 10.80 11.20 11.60 12.00 12.40 12.80 13.20 13.60 14.00 14.40 14.80 15.20 15.60 16.00 16.40 16.80 17.20 17.60 18.00'\n",
    "pull_distances = [float(i) + 6.00 for i in pull_string.split()]"
   ]
  },
  {
   "cell_type": "markdown",
   "metadata": {},
   "source": [
    "## Load in the structure"
   ]
  },
  {
   "cell_type": "code",
   "execution_count": 6,
   "metadata": {
    "ExecuteTime": {
     "end_time": "2018-03-24T02:16:26.846497Z",
     "start_time": "2018-03-24T02:16:26.469254Z"
    }
   },
   "outputs": [],
   "source": [
    "hg = pmd.load_file('systems/a-bam-p/a00/original/full.hmr.topo',\n",
    "                   'systems/a-bam-p/a00/original/full.crds',\n",
    "                    structure=True)"
   ]
  },
  {
   "cell_type": "code",
   "execution_count": 7,
   "metadata": {
    "ExecuteTime": {
     "end_time": "2018-03-24T02:16:27.509721Z",
     "start_time": "2018-03-24T02:16:27.489789Z"
    }
   },
   "outputs": [
    {
     "data": {
      "text/plain": [
       "parmed.amber._amberparm.AmberParm"
      ]
     },
     "execution_count": 7,
     "metadata": {},
     "output_type": "execute_result"
    }
   ],
   "source": [
    "type(hg)"
   ]
  },
  {
   "cell_type": "code",
   "execution_count": 12,
   "metadata": {
    "ExecuteTime": {
     "end_time": "2018-03-24T02:17:46.192809Z",
     "start_time": "2018-03-24T02:17:46.175520Z"
    }
   },
   "outputs": [
    {
     "name": "stderr",
     "output_type": "stream",
     "text": [
      "DEBUG:root:OpenMM support: Yes\n"
     ]
    },
    {
     "name": "stdout",
     "output_type": "stream",
     "text": [
      "There are [14, 46, 0] windows in this attach-pull calculation.\n"
     ]
    }
   ],
   "source": [
    "windows = [len(attach_fractions), len(pull_distances), 0]\n",
    "print(f'There are {windows} windows in this attach-pull calculation.')"
   ]
  },
  {
   "cell_type": "markdown",
   "metadata": {},
   "source": [
    "## Initialize `paprika` restraints"
   ]
  },
  {
   "cell_type": "markdown",
   "metadata": {},
   "source": [
    "First, let's add \"static\" restraints where the value of the restraint doesn't change over the course of the simulation."
   ]
  },
  {
   "cell_type": "code",
   "execution_count": 33,
   "metadata": {
    "ExecuteTime": {
     "end_time": "2018-03-24T02:50:36.438313Z",
     "start_time": "2018-03-24T02:50:36.422867Z"
    }
   },
   "outputs": [
    {
     "name": "stdout",
     "output_type": "stream",
     "text": [
      "/home/dslochower/hgst-3tb-data/projects/pAPRika/paprika/__init__.py\n"
     ]
    }
   ],
   "source": [
    "import paprika\n",
    "print(os.path.abspath(paprika.__file__))\n",
    "from paprika.restraints import static_DAT_restraint\n",
    "from paprika.restraints import DAT_restraint"
   ]
  },
  {
   "cell_type": "code",
   "execution_count": 14,
   "metadata": {
    "ExecuteTime": {
     "end_time": "2018-03-24T02:17:50.185201Z",
     "start_time": "2018-03-24T02:17:50.172029Z"
    }
   },
   "outputs": [],
   "source": [
    "host_restraints = []"
   ]
  },
  {
   "cell_type": "markdown",
   "metadata": {},
   "source": [
    "The translational distance of the host..."
   ]
  },
  {
   "cell_type": "code",
   "execution_count": 20,
   "metadata": {
    "ExecuteTime": {
     "end_time": "2018-03-24T02:34:35.737862Z",
     "start_time": "2018-03-24T02:34:33.581664Z"
    },
    "scrolled": true
   },
   "outputs": [
    {
     "name": "stderr",
     "output_type": "stream",
     "text": [
      "DEBUG:root:Calculating attach targets and force constants...\n",
      "DEBUG:root:Attach, Method #1\n",
      "DEBUG:root:Calculating pull targets and force constants...\n",
      "DEBUG:root:Pull, Method #1\n",
      "DEBUG:root:Calculating release targets and force constants...\n",
      "DEBUG:root:No restraint info set for the release phase! Skipping...\n",
      "DEBUG:root:Number of attach windows = 14\n",
      "DEBUG:root:Number of pull windows = 46\n",
      "DEBUG:root:This restraint will be skipped in the release phase\n",
      "DEBUG:root:Assigning atom indices...\n",
      "DEBUG:root:There are 1 atoms in the mask :3  ...\n",
      "DEBUG:root:There are 1 atoms in the mask :4@O3  ...\n",
      "DEBUG:root:Calculating attach targets and force constants...\n",
      "DEBUG:root:Attach, Method #1\n",
      "DEBUG:root:Calculating pull targets and force constants...\n",
      "DEBUG:root:Pull, Method #1\n",
      "DEBUG:root:Calculating release targets and force constants...\n",
      "DEBUG:root:No restraint info set for the release phase! Skipping...\n",
      "DEBUG:root:Number of attach windows = 14\n",
      "DEBUG:root:Number of pull windows = 46\n",
      "DEBUG:root:This restraint will be skipped in the release phase\n",
      "DEBUG:root:Assigning atom indices...\n",
      "DEBUG:root:There are 1 atoms in the mask :1  ...\n",
      "DEBUG:root:There are 1 atoms in the mask :2  ...\n",
      "DEBUG:root:There are 1 atoms in the mask :4@O3  ...\n",
      "DEBUG:root:Calculating attach targets and force constants...\n",
      "DEBUG:root:Attach, Method #1\n",
      "DEBUG:root:Calculating pull targets and force constants...\n",
      "DEBUG:root:Pull, Method #1\n",
      "DEBUG:root:Calculating release targets and force constants...\n",
      "DEBUG:root:No restraint info set for the release phase! Skipping...\n",
      "DEBUG:root:Number of attach windows = 14\n",
      "DEBUG:root:Number of pull windows = 46\n",
      "DEBUG:root:This restraint will be skipped in the release phase\n",
      "DEBUG:root:Assigning atom indices...\n",
      "DEBUG:root:There are 1 atoms in the mask :1  ...\n",
      "DEBUG:root:There are 1 atoms in the mask :2  ...\n",
      "DEBUG:root:There are 1 atoms in the mask :3  ...\n",
      "DEBUG:root:There are 1 atoms in the mask :4@O3  ...\n",
      "DEBUG:root:Calculating attach targets and force constants...\n",
      "DEBUG:root:Attach, Method #1\n",
      "DEBUG:root:Calculating pull targets and force constants...\n",
      "DEBUG:root:Pull, Method #1\n",
      "DEBUG:root:Calculating release targets and force constants...\n",
      "DEBUG:root:No restraint info set for the release phase! Skipping...\n",
      "DEBUG:root:Number of attach windows = 14\n",
      "DEBUG:root:Number of pull windows = 46\n",
      "DEBUG:root:This restraint will be skipped in the release phase\n",
      "DEBUG:root:Assigning atom indices...\n",
      "DEBUG:root:There are 1 atoms in the mask :3  ...\n",
      "DEBUG:root:There are 1 atoms in the mask :4@O3  ...\n",
      "DEBUG:root:There are 1 atoms in the mask :6@C1  ...\n",
      "DEBUG:root:Calculating attach targets and force constants...\n",
      "DEBUG:root:Attach, Method #1\n",
      "DEBUG:root:Calculating pull targets and force constants...\n",
      "DEBUG:root:Pull, Method #1\n",
      "DEBUG:root:Calculating release targets and force constants...\n",
      "DEBUG:root:No restraint info set for the release phase! Skipping...\n",
      "DEBUG:root:Number of attach windows = 14\n",
      "DEBUG:root:Number of pull windows = 46\n",
      "DEBUG:root:This restraint will be skipped in the release phase\n",
      "DEBUG:root:Assigning atom indices...\n",
      "DEBUG:root:There are 1 atoms in the mask :1  ...\n",
      "DEBUG:root:There are 1 atoms in the mask :2  ...\n",
      "DEBUG:root:There are 1 atoms in the mask :4@O3  ...\n",
      "DEBUG:root:There are 1 atoms in the mask :6@C1  ...\n",
      "DEBUG:root:Calculating attach targets and force constants...\n",
      "DEBUG:root:Attach, Method #1\n",
      "DEBUG:root:Calculating pull targets and force constants...\n",
      "DEBUG:root:Pull, Method #1\n",
      "DEBUG:root:Calculating release targets and force constants...\n",
      "DEBUG:root:No restraint info set for the release phase! Skipping...\n",
      "DEBUG:root:Number of attach windows = 14\n",
      "DEBUG:root:Number of pull windows = 46\n",
      "DEBUG:root:This restraint will be skipped in the release phase\n",
      "DEBUG:root:Assigning atom indices...\n",
      "DEBUG:root:There are 1 atoms in the mask :2  ...\n",
      "DEBUG:root:There are 1 atoms in the mask :4@O3  ...\n",
      "DEBUG:root:There are 1 atoms in the mask :6@C1  ...\n",
      "DEBUG:root:There are 1 atoms in the mask :8@C6  ...\n"
     ]
    },
    {
     "data": {
      "text/plain": [
       "<paprika.restraints.DAT_restraint at 0x7f502b61d940>"
      ]
     },
     "execution_count": 20,
     "metadata": {},
     "output_type": "execute_result"
    }
   ],
   "source": [
    "# Translational distance...\n",
    "# Anchored with last dummy atom - first host atom\n",
    "static_DAT_restraint([dummy_anchors[2], host_anchors[0]], \n",
    "                     windows, hg, \n",
    "                     attach_distance_fc, amber_index=True)\n",
    "\n",
    "# Translational angle...\n",
    "# Anchored with first two dummy atoms - first host atom\n",
    "static_DAT_restraint([dummy_anchors[0], dummy_anchors[1], host_anchors[0]], \n",
    "                     windows, hg,\n",
    "                     attach_angle_fc, amber_index=True)\n",
    "\n",
    "# Translational dihedral...\n",
    "# Anchored with three dummy atoms - first host atom\n",
    "static_DAT_restraint([dummy_anchors[0], dummy_anchors[1], dummy_anchors[2], host_anchors[0],], \n",
    "                     windows, hg, attach_angle_fc, amber_index=True)\n",
    "\n",
    "# Orientational angle\n",
    "# Anchored with the last dummy atom - first two host atoms...\n",
    "static_DAT_restraint([dummy_anchors[2], host_anchors[0], host_anchors[1]], \n",
    "                     windows, hg, attach_angle_fc, amber_index=True)\n",
    "\n",
    "# Orientational dihedral 1\n",
    "# Anchored with the last two dummy atoms - first two host atoms...\n",
    "static_DAT_restraint([dummy_anchors[0], dummy_anchors[1], host_anchors[0], host_anchors[1]], \n",
    "                     windows, hg, attach_angle_fc, amber_index=True)\n",
    "\n",
    "# Orientational dihedral 2\n",
    "# Anchored with the last dummy atom - first three host atoms..\n",
    "static_DAT_restraint([dummy_anchors[1], host_anchors[0], host_anchors[1], host_anchors[2]], \n",
    "                     windows, hg, attach_angle_fc, amber_index=True)"
   ]
  },
  {
   "cell_type": "code",
   "execution_count": 97,
   "metadata": {
    "ExecuteTime": {
     "end_time": "2018-03-24T00:28:53.763449Z",
     "start_time": "2018-03-24T00:28:53.735814Z"
    },
    "scrolled": true
   },
   "outputs": [
    {
     "name": "stdout",
     "output_type": "stream",
     "text": [
      "systems/a-bam-p/a00/original/full.hmr.topo\n",
      "<class 'parmed.amber._amberparm.AmberParm'>\n",
      "True\n",
      "True\n"
     ]
    },
    {
     "ename": "TypeError",
     "evalue": "must be str, not FileFormatType",
     "output_type": "error",
     "traceback": [
      "\u001b[0;31m---------------------------------------------------------------------------\u001b[0m",
      "\u001b[0;31mTypeError\u001b[0m                                 Traceback (most recent call last)",
      "\u001b[0;32m<ipython-input-97-e7716d363292>\u001b[0m in \u001b[0;36m<module>\u001b[0;34m()\u001b[0m\n\u001b[1;32m      1\u001b[0m static_DAT_restraint([dummy_anchors[2], host_anchors[0]], windows, hg, \n\u001b[0;32m----> 2\u001b[0;31m                      attach_distance_fc, amber_index=True)\n\u001b[0m",
      "\u001b[0;32m~/data/applications/anaconda3/envs/smirnoff-paprika/lib/python3.6/site-packages/paprika/restraints.py\u001b[0m in \u001b[0;36mstatic_DAT_restraint\u001b[0;34m(restraint_mask_list, num_window_list, ref_structure, force_constant, continuous_apr, amber_index)\u001b[0m\n\u001b[1;32m    496\u001b[0m         \u001b[0;32mpass\u001b[0m\u001b[0;34m\u001b[0m\u001b[0m\n\u001b[1;32m    497\u001b[0m     \u001b[0;32melse\u001b[0m\u001b[0;34m:\u001b[0m\u001b[0;34m\u001b[0m\u001b[0m\n\u001b[0;32m--> 498\u001b[0;31m         \u001b[0;32mraise\u001b[0m \u001b[0mException\u001b[0m\u001b[0;34m(\u001b[0m\u001b[0;34m'static_DAT_restraint does not support the type associated with ref_structure:'\u001b[0m\u001b[0;34m+\u001b[0m\u001b[0mtype\u001b[0m\u001b[0;34m(\u001b[0m\u001b[0mref_structure\u001b[0m\u001b[0;34m)\u001b[0m\u001b[0;34m)\u001b[0m\u001b[0;34m\u001b[0m\u001b[0m\n\u001b[0m\u001b[1;32m    499\u001b[0m     \u001b[0mref_traj\u001b[0m \u001b[0;34m=\u001b[0m \u001b[0mpt\u001b[0m\u001b[0;34m.\u001b[0m\u001b[0mload_parmed\u001b[0m\u001b[0;34m(\u001b[0m\u001b[0mref_structure\u001b[0m\u001b[0;34m,\u001b[0m \u001b[0mtraj\u001b[0m\u001b[0;34m=\u001b[0m\u001b[0;32mTrue\u001b[0m\u001b[0;34m)\u001b[0m\u001b[0;34m\u001b[0m\u001b[0m\n\u001b[1;32m    500\u001b[0m \u001b[0;34m\u001b[0m\u001b[0m\n",
      "\u001b[0;31mTypeError\u001b[0m: must be str, not FileFormatType"
     ]
    }
   ],
   "source": [
    "static_DAT_restraint([dummy_anchors[2], host_anchors[0]], windows, hg, \n",
    "                     attach_distance_fc, amber_index=True)"
   ]
  },
  {
   "cell_type": "code",
   "execution_count": 29,
   "metadata": {
    "ExecuteTime": {
     "end_time": "2018-03-24T02:44:43.028591Z",
     "start_time": "2018-03-24T02:44:40.867498Z"
    },
    "scrolled": true
   },
   "outputs": [
    {
     "name": "stderr",
     "output_type": "stream",
     "text": [
      "DEBUG:root:Calculating attach targets and force constants...\n",
      "DEBUG:root:Attach, Method #1\n",
      "DEBUG:root:Calculating pull targets and force constants...\n",
      "DEBUG:root:Pull, Method #1\n",
      "DEBUG:root:Calculating release targets and force constants...\n",
      "DEBUG:root:No restraint info set for the release phase! Skipping...\n",
      "DEBUG:root:Number of attach windows = 14\n",
      "DEBUG:root:Number of pull windows = 46\n",
      "DEBUG:root:This restraint will be skipped in the release phase\n",
      "DEBUG:root:Assigning atom indices...\n",
      "DEBUG:root:There are 1 atoms in the mask :3  ...\n",
      "DEBUG:root:There are 1 atoms in the mask :4@O3  ...\n",
      "DEBUG:root:Calculating attach targets and force constants...\n",
      "DEBUG:root:Attach, Method #1\n",
      "DEBUG:root:Calculating pull targets and force constants...\n",
      "DEBUG:root:Pull, Method #1\n",
      "DEBUG:root:Calculating release targets and force constants...\n",
      "DEBUG:root:No restraint info set for the release phase! Skipping...\n",
      "DEBUG:root:Number of attach windows = 14\n",
      "DEBUG:root:Number of pull windows = 46\n",
      "DEBUG:root:This restraint will be skipped in the release phase\n",
      "DEBUG:root:Assigning atom indices...\n",
      "DEBUG:root:There are 1 atoms in the mask :1  ...\n",
      "DEBUG:root:There are 1 atoms in the mask :2  ...\n",
      "DEBUG:root:There are 1 atoms in the mask :4@O3  ...\n",
      "DEBUG:root:Calculating attach targets and force constants...\n",
      "DEBUG:root:Attach, Method #1\n",
      "DEBUG:root:Calculating pull targets and force constants...\n",
      "DEBUG:root:Pull, Method #1\n",
      "DEBUG:root:Calculating release targets and force constants...\n",
      "DEBUG:root:No restraint info set for the release phase! Skipping...\n",
      "DEBUG:root:Number of attach windows = 14\n",
      "DEBUG:root:Number of pull windows = 46\n",
      "DEBUG:root:This restraint will be skipped in the release phase\n",
      "DEBUG:root:Assigning atom indices...\n",
      "DEBUG:root:There are 1 atoms in the mask :1  ...\n",
      "DEBUG:root:There are 1 atoms in the mask :2  ...\n",
      "DEBUG:root:There are 1 atoms in the mask :3  ...\n",
      "DEBUG:root:There are 1 atoms in the mask :4@O3  ...\n",
      "DEBUG:root:Calculating attach targets and force constants...\n",
      "DEBUG:root:Attach, Method #1\n",
      "DEBUG:root:Calculating pull targets and force constants...\n",
      "DEBUG:root:Pull, Method #1\n",
      "DEBUG:root:Calculating release targets and force constants...\n",
      "DEBUG:root:No restraint info set for the release phase! Skipping...\n",
      "DEBUG:root:Number of attach windows = 14\n",
      "DEBUG:root:Number of pull windows = 46\n",
      "DEBUG:root:This restraint will be skipped in the release phase\n",
      "DEBUG:root:Assigning atom indices...\n",
      "DEBUG:root:There are 1 atoms in the mask :3  ...\n",
      "DEBUG:root:There are 1 atoms in the mask :4@O3  ...\n",
      "DEBUG:root:There are 1 atoms in the mask :6@C1  ...\n",
      "DEBUG:root:Calculating attach targets and force constants...\n",
      "DEBUG:root:Attach, Method #1\n",
      "DEBUG:root:Calculating pull targets and force constants...\n",
      "DEBUG:root:Pull, Method #1\n",
      "DEBUG:root:Calculating release targets and force constants...\n",
      "DEBUG:root:No restraint info set for the release phase! Skipping...\n",
      "DEBUG:root:Number of attach windows = 14\n",
      "DEBUG:root:Number of pull windows = 46\n",
      "DEBUG:root:This restraint will be skipped in the release phase\n",
      "DEBUG:root:Assigning atom indices...\n",
      "DEBUG:root:There are 1 atoms in the mask :1  ...\n",
      "DEBUG:root:There are 1 atoms in the mask :2  ...\n",
      "DEBUG:root:There are 1 atoms in the mask :4@O3  ...\n",
      "DEBUG:root:There are 1 atoms in the mask :6@C1  ...\n",
      "DEBUG:root:Calculating attach targets and force constants...\n",
      "DEBUG:root:Attach, Method #1\n",
      "DEBUG:root:Calculating pull targets and force constants...\n",
      "DEBUG:root:Pull, Method #1\n",
      "DEBUG:root:Calculating release targets and force constants...\n",
      "DEBUG:root:No restraint info set for the release phase! Skipping...\n",
      "DEBUG:root:Number of attach windows = 14\n",
      "DEBUG:root:Number of pull windows = 46\n",
      "DEBUG:root:This restraint will be skipped in the release phase\n",
      "DEBUG:root:Assigning atom indices...\n",
      "DEBUG:root:There are 1 atoms in the mask :2  ...\n",
      "DEBUG:root:There are 1 atoms in the mask :4@O3  ...\n",
      "DEBUG:root:There are 1 atoms in the mask :6@C1  ...\n",
      "DEBUG:root:There are 1 atoms in the mask :8@C6  ...\n"
     ]
    }
   ],
   "source": [
    "static_restraints = [['D2', 'H0'],\n",
    "                     ['D0', 'D1', 'H0'],\n",
    "                     ['D0', 'D1', 'D2', 'H0'],\n",
    "                     ['D2', 'H0', 'H1'],\n",
    "                     ['D0', 'D1', 'H0', 'H1'],\n",
    "                     ['D1', 'H0', 'H1', 'H2'],\n",
    "                    ]\n",
    "\n",
    "static_restraint_list = []\n",
    "for static_restraint in static_restraints:\n",
    "    static_restraint_list.append(\n",
    "        static_DAT_restraint([code_mapping[mask] for mask in static_restraint], \n",
    "                             windows, hg,\n",
    "                             attach_angle_fc, amber_index=True))"
   ]
  },
  {
   "cell_type": "markdown",
   "metadata": {},
   "source": [
    "Let's define the guest translational distance, translational angle, and orientational angle relative to the dummy atoms."
   ]
  },
  {
   "cell_type": "code",
   "execution_count": 36,
   "metadata": {
    "ExecuteTime": {
     "end_time": "2018-03-24T02:58:12.352269Z",
     "start_time": "2018-03-24T02:58:12.334470Z"
    }
   },
   "outputs": [],
   "source": [
    "guest_restraints = [\n",
    "    ['D2', 'G0'],\n",
    "    ['D1', 'D2', 'G0'],\n",
    "    ['D2', 'G0', 'G1']\n",
    "]\n",
    "\n",
    "guest_targets = [\n",
    "    [6.0],\n",
    "    [180.0],\n",
    "    [180.0]\n",
    "]"
   ]
  },
  {
   "cell_type": "code",
   "execution_count": 42,
   "metadata": {
    "ExecuteTime": {
     "end_time": "2018-03-24T02:59:57.427543Z",
     "start_time": "2018-03-24T02:59:57.186514Z"
    }
   },
   "outputs": [
    {
     "name": "stderr",
     "output_type": "stream",
     "text": [
      "DEBUG:root:Calculating attach targets and force constants...\n",
      "DEBUG:root:Attach, Method #3\n",
      "DEBUG:root:Calculating pull targets and force constants...\n",
      "DEBUG:root:Pull, Method #1\n",
      "DEBUG:root:Calculating release targets and force constants...\n",
      "DEBUG:root:No restraint info set for the release phase! Skipping...\n",
      "DEBUG:root:Number of attach windows = 14\n",
      "DEBUG:root:Number of pull windows = 46\n",
      "DEBUG:root:This restraint will be skipped in the release phase\n",
      "DEBUG:root:Assigning atom indices...\n",
      "DEBUG:root:There are 1 atoms in the mask :3  ...\n",
      "DEBUG:root:There are 1 atoms in the mask :10@C4  ...\n",
      "DEBUG:root:Calculating attach targets and force constants...\n",
      "DEBUG:root:Attach, Method #3\n",
      "DEBUG:root:Calculating pull targets and force constants...\n",
      "DEBUG:root:Pull, Method #1\n",
      "DEBUG:root:Calculating release targets and force constants...\n",
      "DEBUG:root:No restraint info set for the release phase! Skipping...\n",
      "DEBUG:root:Number of attach windows = 14\n",
      "DEBUG:root:Number of pull windows = 46\n",
      "DEBUG:root:This restraint will be skipped in the release phase\n",
      "DEBUG:root:Assigning atom indices...\n",
      "DEBUG:root:There are 1 atoms in the mask :2  ...\n",
      "DEBUG:root:There are 1 atoms in the mask :3  ...\n",
      "DEBUG:root:There are 1 atoms in the mask :10@C4  ...\n",
      "DEBUG:root:Calculating attach targets and force constants...\n",
      "DEBUG:root:Attach, Method #3\n",
      "DEBUG:root:Calculating pull targets and force constants...\n",
      "DEBUG:root:Pull, Method #1\n",
      "DEBUG:root:Calculating release targets and force constants...\n",
      "DEBUG:root:No restraint info set for the release phase! Skipping...\n",
      "DEBUG:root:Number of attach windows = 14\n",
      "DEBUG:root:Number of pull windows = 46\n",
      "DEBUG:root:This restraint will be skipped in the release phase\n",
      "DEBUG:root:Assigning atom indices...\n",
      "DEBUG:root:There are 1 atoms in the mask :3  ...\n",
      "DEBUG:root:There are 1 atoms in the mask :10@C4  ...\n",
      "DEBUG:root:There are 1 atoms in the mask :10@N1  ...\n"
     ]
    }
   ],
   "source": [
    "for restraint in guest_restraints:\n",
    "    if len(restraint) > 2:\n",
    "        angle = True\n",
    "    else:\n",
    "        angle = False\n",
    "    this = DAT_restraint()\n",
    "    this.auto_apr = True\n",
    "    this.amber_index = True\n",
    "    this.topology = hg\n",
    "    this.attach['fraction_list'] = attach_fractions\n",
    "    this.pull['num_windows'] = len(pull_distances)\n",
    "    this.mask1 = code_mapping[restraint[0]]\n",
    "    this.mask2 = code_mapping[restraint[1]]\n",
    "    \n",
    "    if angle:\n",
    "        this.mask3 = code_mapping[restraint[2]]\n",
    "        this.attach['target'] = 180.0\n",
    "        this.pull['target_final'] = 180.0\n",
    "        this.attach['fc_final'] = attach_angle_fc\n",
    "    else:\n",
    "        this.attach['target'] = pull_distances[0]\n",
    "        this.pull['target_final'] = pull_distances[-1]\n",
    "        this.attach['fc_final'] = attach_distance_fc\n",
    "    \n",
    "    this.initialize()"
   ]
  },
  {
   "cell_type": "markdown",
   "metadata": {},
   "source": [
    "The translational angle of the host..."
   ]
  },
  {
   "cell_type": "markdown",
   "metadata": {},
   "source": [
    "Great, all we need now are the jacks, and the wall restraints!"
   ]
  },
  {
   "cell_type": "markdown",
   "metadata": {},
   "source": [
    "## \"Jacks\"\n",
    "The \"jacks\" restraints are from O5_n - C1_n - O1_n - C4_n+1 and C1_n - O1_n - C4_n+1 - C5_n+1."
   ]
  },
  {
   "cell_type": "markdown",
   "metadata": {},
   "source": [
    "The C1-O1-C4-C5 dihedral has an equilibrium value, measured based on `full.crds` of -108.777 degrees. This makes sense! The O5-C1-O1-C4 dihedral has an equilibrium value of 104.333. This also makes sense."
   ]
  },
  {
   "cell_type": "code",
   "execution_count": 83,
   "metadata": {
    "ExecuteTime": {
     "end_time": "2018-03-24T18:58:23.999496Z",
     "start_time": "2018-03-24T18:58:23.984856Z"
    }
   },
   "outputs": [],
   "source": [
    "host_conformational_restraints_template = [\n",
    "    ['O5', 'C1', 'O1', 'C4'],\n",
    "    ['C1', 'O1', 'C4', 'C5']\n",
    "]"
   ]
  },
  {
   "cell_type": "code",
   "execution_count": 94,
   "metadata": {
    "ExecuteTime": {
     "end_time": "2018-03-24T19:01:54.328650Z",
     "start_time": "2018-03-24T19:01:54.240718Z"
    }
   },
   "outputs": [
    {
     "data": {
      "text/plain": [
       "4"
      ]
     },
     "execution_count": 94,
     "metadata": {},
     "output_type": "execute_result"
    }
   ],
   "source": [
    "hg[':MGO'].residues[0].number + 1"
   ]
  },
  {
   "cell_type": "code",
   "execution_count": 117,
   "metadata": {
    "ExecuteTime": {
     "end_time": "2018-03-24T19:13:08.126056Z",
     "start_time": "2018-03-24T19:13:07.960796Z"
    }
   },
   "outputs": [],
   "source": [
    "host_conformational_restraints = []\n",
    "host_residues = len(hg[':MGO'].residues)\n",
    "first_host_residue = hg[':MGO'].residues[0].number + 1\n",
    "template = host_conformational_restraints_template\n",
    "\n",
    "for n in range(first_host_residue, host_residues + first_host_residue):\n",
    "    if n + 1 < host_residues + first_host_residue:\n",
    "        next_residue = n + 1\n",
    "    else:\n",
    "        next_residue = first_host_residue\n",
    "    host_conformational_restraints.append(\n",
    "        [f':{n}@{template[0][0]}',\n",
    "         f':{n}@{template[0][1]}',\n",
    "         f':{n}@{template[0][2]}',\n",
    "         f':{next_residue}@{template[0][3]}'\n",
    "        ])\n",
    "    host_conformational_restraints.append(\n",
    "        [f':{n}@{template[1][0]}',\n",
    "         f':{n}@{template[1][1]}',\n",
    "         f':{next_residue}@{template[1][2]}',\n",
    "         f':{next_residue}@{template[1][3]}'\n",
    "        ])"
   ]
  },
  {
   "cell_type": "code",
   "execution_count": 118,
   "metadata": {
    "ExecuteTime": {
     "end_time": "2018-03-24T19:13:08.757512Z",
     "start_time": "2018-03-24T19:13:08.741598Z"
    }
   },
   "outputs": [
    {
     "data": {
      "text/plain": [
       "[[':4@O5', ':4@C1', ':4@O1', ':5@C4'],\n",
       " [':4@C1', ':4@O1', ':5@C4', ':5@C5'],\n",
       " [':5@O5', ':5@C1', ':5@O1', ':6@C4'],\n",
       " [':5@C1', ':5@O1', ':6@C4', ':6@C5'],\n",
       " [':6@O5', ':6@C1', ':6@O1', ':7@C4'],\n",
       " [':6@C1', ':6@O1', ':7@C4', ':7@C5'],\n",
       " [':7@O5', ':7@C1', ':7@O1', ':8@C4'],\n",
       " [':7@C1', ':7@O1', ':8@C4', ':8@C5'],\n",
       " [':8@O5', ':8@C1', ':8@O1', ':9@C4'],\n",
       " [':8@C1', ':8@O1', ':9@C4', ':9@C5'],\n",
       " [':9@O5', ':9@C1', ':9@O1', ':4@C4'],\n",
       " [':9@C1', ':9@O1', ':4@C4', ':4@C5']]"
      ]
     },
     "execution_count": 118,
     "metadata": {},
     "output_type": "execute_result"
    }
   ],
   "source": [
    "host_conformational_restraints"
   ]
  },
  {
   "cell_type": "code",
   "execution_count": 51,
   "metadata": {
    "ExecuteTime": {
     "end_time": "2018-03-24T18:38:54.489526Z",
     "start_time": "2018-03-24T18:38:54.461396Z"
    }
   },
   "outputs": [],
   "source": [
    "import pytraj as pt"
   ]
  },
  {
   "cell_type": "code",
   "execution_count": 106,
   "metadata": {
    "ExecuteTime": {
     "end_time": "2018-03-24T19:09:00.296358Z",
     "start_time": "2018-03-24T19:09:00.001494Z"
    }
   },
   "outputs": [],
   "source": [
    "\n",
    "host_conformational_targets = [\n",
    "    [],\n",
    "    []\n",
    "]\n",
    "\n",
    "structure = pt.load_parmed(hg, traj=True)\n",
    "mask_string = host_conformational_restraints[0]\n",
    "target = pt.dihedral(structure, mask_string)[0]\n",
    "\n",
    "host_conformational_targets[0] = [target]\n",
    "\n",
    "mask_string = host_conformational_restraints[1]\n",
    "target = pt.dihedral(structure, mask_string)[0]\n",
    "\n",
    "host_conformational_targets[1] = [target]"
   ]
  },
  {
   "cell_type": "code",
   "execution_count": 107,
   "metadata": {
    "ExecuteTime": {
     "end_time": "2018-03-24T19:09:00.787674Z",
     "start_time": "2018-03-24T19:09:00.772953Z"
    }
   },
   "outputs": [
    {
     "data": {
      "text/plain": [
       "[[104.32087633544486], [-108.73932910089661]]"
      ]
     },
     "execution_count": 107,
     "metadata": {},
     "output_type": "execute_result"
    }
   ],
   "source": [
    "host_conformational_targets"
   ]
  },
  {
   "cell_type": "code",
   "execution_count": 120,
   "metadata": {
    "ExecuteTime": {
     "end_time": "2018-03-24T19:14:00.156733Z",
     "start_time": "2018-03-24T19:13:58.394514Z"
    }
   },
   "outputs": [
    {
     "name": "stderr",
     "output_type": "stream",
     "text": [
      "DEBUG:root:Calculating attach targets and force constants...\n",
      "DEBUG:root:Attach, Method #3\n",
      "DEBUG:root:Calculating pull targets and force constants...\n",
      "DEBUG:root:Pull, Method #1\n",
      "DEBUG:root:Calculating release targets and force constants...\n",
      "DEBUG:root:No restraint info set for the release phase! Skipping...\n",
      "DEBUG:root:Number of attach windows = 14\n",
      "DEBUG:root:Number of pull windows = 46\n",
      "DEBUG:root:This restraint will be skipped in the release phase\n",
      "DEBUG:root:Assigning atom indices...\n",
      "DEBUG:root:There are 1 atoms in the mask :4@O5  ...\n",
      "DEBUG:root:There are 1 atoms in the mask :4@C1  ...\n",
      "DEBUG:root:There are 1 atoms in the mask :4@O1  ...\n",
      "DEBUG:root:There are 1 atoms in the mask :5@C4  ...\n",
      "DEBUG:root:Calculating attach targets and force constants...\n",
      "DEBUG:root:Attach, Method #3\n",
      "DEBUG:root:Calculating pull targets and force constants...\n",
      "DEBUG:root:Pull, Method #1\n",
      "DEBUG:root:Calculating release targets and force constants...\n",
      "DEBUG:root:No restraint info set for the release phase! Skipping...\n",
      "DEBUG:root:Number of attach windows = 14\n",
      "DEBUG:root:Number of pull windows = 46\n",
      "DEBUG:root:This restraint will be skipped in the release phase\n",
      "DEBUG:root:Assigning atom indices...\n",
      "DEBUG:root:There are 1 atoms in the mask :4@C1  ...\n",
      "DEBUG:root:There are 1 atoms in the mask :4@O1  ...\n",
      "DEBUG:root:There are 1 atoms in the mask :5@C4  ...\n",
      "DEBUG:root:There are 1 atoms in the mask :5@C5  ...\n",
      "DEBUG:root:Calculating attach targets and force constants...\n",
      "DEBUG:root:Attach, Method #3\n",
      "DEBUG:root:Calculating pull targets and force constants...\n",
      "DEBUG:root:Pull, Method #1\n",
      "DEBUG:root:Calculating release targets and force constants...\n",
      "DEBUG:root:No restraint info set for the release phase! Skipping...\n",
      "DEBUG:root:Number of attach windows = 14\n",
      "DEBUG:root:Number of pull windows = 46\n",
      "DEBUG:root:This restraint will be skipped in the release phase\n",
      "DEBUG:root:Assigning atom indices...\n",
      "DEBUG:root:There are 1 atoms in the mask :5@O5  ...\n",
      "DEBUG:root:There are 1 atoms in the mask :5@C1  ...\n",
      "DEBUG:root:There are 1 atoms in the mask :5@O1  ...\n",
      "DEBUG:root:There are 1 atoms in the mask :6@C4  ...\n",
      "DEBUG:root:Calculating attach targets and force constants...\n",
      "DEBUG:root:Attach, Method #3\n",
      "DEBUG:root:Calculating pull targets and force constants...\n",
      "DEBUG:root:Pull, Method #1\n",
      "DEBUG:root:Calculating release targets and force constants...\n",
      "DEBUG:root:No restraint info set for the release phase! Skipping...\n",
      "DEBUG:root:Number of attach windows = 14\n",
      "DEBUG:root:Number of pull windows = 46\n",
      "DEBUG:root:This restraint will be skipped in the release phase\n",
      "DEBUG:root:Assigning atom indices...\n",
      "DEBUG:root:There are 1 atoms in the mask :5@C1  ...\n",
      "DEBUG:root:There are 1 atoms in the mask :5@O1  ...\n",
      "DEBUG:root:There are 1 atoms in the mask :6@C4  ...\n",
      "DEBUG:root:There are 1 atoms in the mask :6@C5  ...\n",
      "DEBUG:root:Calculating attach targets and force constants...\n",
      "DEBUG:root:Attach, Method #3\n",
      "DEBUG:root:Calculating pull targets and force constants...\n",
      "DEBUG:root:Pull, Method #1\n",
      "DEBUG:root:Calculating release targets and force constants...\n",
      "DEBUG:root:No restraint info set for the release phase! Skipping...\n",
      "DEBUG:root:Number of attach windows = 14\n",
      "DEBUG:root:Number of pull windows = 46\n",
      "DEBUG:root:This restraint will be skipped in the release phase\n",
      "DEBUG:root:Assigning atom indices...\n",
      "DEBUG:root:There are 1 atoms in the mask :6@O5  ...\n",
      "DEBUG:root:There are 1 atoms in the mask :6@C1  ...\n",
      "DEBUG:root:There are 1 atoms in the mask :6@O1  ...\n",
      "DEBUG:root:There are 1 atoms in the mask :7@C4  ...\n",
      "DEBUG:root:Calculating attach targets and force constants...\n",
      "DEBUG:root:Attach, Method #3\n",
      "DEBUG:root:Calculating pull targets and force constants...\n",
      "DEBUG:root:Pull, Method #1\n",
      "DEBUG:root:Calculating release targets and force constants...\n",
      "DEBUG:root:No restraint info set for the release phase! Skipping...\n",
      "DEBUG:root:Number of attach windows = 14\n",
      "DEBUG:root:Number of pull windows = 46\n",
      "DEBUG:root:This restraint will be skipped in the release phase\n",
      "DEBUG:root:Assigning atom indices...\n",
      "DEBUG:root:There are 1 atoms in the mask :6@C1  ...\n",
      "DEBUG:root:There are 1 atoms in the mask :6@O1  ...\n",
      "DEBUG:root:There are 1 atoms in the mask :7@C4  ...\n",
      "DEBUG:root:There are 1 atoms in the mask :7@C5  ...\n",
      "DEBUG:root:Calculating attach targets and force constants...\n",
      "DEBUG:root:Attach, Method #3\n",
      "DEBUG:root:Calculating pull targets and force constants...\n",
      "DEBUG:root:Pull, Method #1\n",
      "DEBUG:root:Calculating release targets and force constants...\n",
      "DEBUG:root:No restraint info set for the release phase! Skipping...\n",
      "DEBUG:root:Number of attach windows = 14\n",
      "DEBUG:root:Number of pull windows = 46\n",
      "DEBUG:root:This restraint will be skipped in the release phase\n",
      "DEBUG:root:Assigning atom indices...\n",
      "DEBUG:root:There are 1 atoms in the mask :7@O5  ...\n",
      "DEBUG:root:There are 1 atoms in the mask :7@C1  ...\n",
      "DEBUG:root:There are 1 atoms in the mask :7@O1  ...\n",
      "DEBUG:root:There are 1 atoms in the mask :8@C4  ...\n",
      "DEBUG:root:Calculating attach targets and force constants...\n",
      "DEBUG:root:Attach, Method #3\n",
      "DEBUG:root:Calculating pull targets and force constants...\n",
      "DEBUG:root:Pull, Method #1\n",
      "DEBUG:root:Calculating release targets and force constants...\n",
      "DEBUG:root:No restraint info set for the release phase! Skipping...\n",
      "DEBUG:root:Number of attach windows = 14\n",
      "DEBUG:root:Number of pull windows = 46\n",
      "DEBUG:root:This restraint will be skipped in the release phase\n",
      "DEBUG:root:Assigning atom indices...\n",
      "DEBUG:root:There are 1 atoms in the mask :7@C1  ...\n",
      "DEBUG:root:There are 1 atoms in the mask :7@O1  ...\n",
      "DEBUG:root:There are 1 atoms in the mask :8@C4  ...\n",
      "DEBUG:root:There are 1 atoms in the mask :8@C5  ...\n",
      "DEBUG:root:Calculating attach targets and force constants...\n",
      "DEBUG:root:Attach, Method #3\n",
      "DEBUG:root:Calculating pull targets and force constants...\n",
      "DEBUG:root:Pull, Method #1\n",
      "DEBUG:root:Calculating release targets and force constants...\n",
      "DEBUG:root:No restraint info set for the release phase! Skipping...\n",
      "DEBUG:root:Number of attach windows = 14\n",
      "DEBUG:root:Number of pull windows = 46\n",
      "DEBUG:root:This restraint will be skipped in the release phase\n",
      "DEBUG:root:Assigning atom indices...\n",
      "DEBUG:root:There are 1 atoms in the mask :8@O5  ...\n",
      "DEBUG:root:There are 1 atoms in the mask :8@C1  ...\n",
      "DEBUG:root:There are 1 atoms in the mask :8@O1  ...\n",
      "DEBUG:root:There are 1 atoms in the mask :9@C4  ...\n",
      "DEBUG:root:Calculating attach targets and force constants...\n",
      "DEBUG:root:Attach, Method #3\n",
      "DEBUG:root:Calculating pull targets and force constants...\n",
      "DEBUG:root:Pull, Method #1\n",
      "DEBUG:root:Calculating release targets and force constants...\n",
      "DEBUG:root:No restraint info set for the release phase! Skipping...\n",
      "DEBUG:root:Number of attach windows = 14\n",
      "DEBUG:root:Number of pull windows = 46\n",
      "DEBUG:root:This restraint will be skipped in the release phase\n",
      "DEBUG:root:Assigning atom indices...\n",
      "DEBUG:root:There are 1 atoms in the mask :8@C1  ...\n",
      "DEBUG:root:There are 1 atoms in the mask :8@O1  ...\n",
      "DEBUG:root:There are 1 atoms in the mask :9@C4  ...\n",
      "DEBUG:root:There are 1 atoms in the mask :9@C5  ...\n",
      "DEBUG:root:Calculating attach targets and force constants...\n",
      "DEBUG:root:Attach, Method #3\n",
      "DEBUG:root:Calculating pull targets and force constants...\n",
      "DEBUG:root:Pull, Method #1\n",
      "DEBUG:root:Calculating release targets and force constants...\n",
      "DEBUG:root:No restraint info set for the release phase! Skipping...\n",
      "DEBUG:root:Number of attach windows = 14\n",
      "DEBUG:root:Number of pull windows = 46\n",
      "DEBUG:root:This restraint will be skipped in the release phase\n",
      "DEBUG:root:Assigning atom indices...\n",
      "DEBUG:root:There are 1 atoms in the mask :9@O5  ...\n",
      "DEBUG:root:There are 1 atoms in the mask :9@C1  ...\n",
      "DEBUG:root:There are 1 atoms in the mask :9@O1  ...\n",
      "DEBUG:root:There are 1 atoms in the mask :4@C4  ...\n",
      "DEBUG:root:Calculating attach targets and force constants...\n",
      "DEBUG:root:Attach, Method #3\n",
      "DEBUG:root:Calculating pull targets and force constants...\n",
      "DEBUG:root:Pull, Method #1\n",
      "DEBUG:root:Calculating release targets and force constants...\n",
      "DEBUG:root:No restraint info set for the release phase! Skipping...\n",
      "DEBUG:root:Number of attach windows = 14\n",
      "DEBUG:root:Number of pull windows = 46\n",
      "DEBUG:root:This restraint will be skipped in the release phase\n",
      "DEBUG:root:Assigning atom indices...\n",
      "DEBUG:root:There are 1 atoms in the mask :9@C1  ...\n",
      "DEBUG:root:There are 1 atoms in the mask :9@O1  ...\n"
     ]
    },
    {
     "name": "stderr",
     "output_type": "stream",
     "text": [
      "DEBUG:root:There are 1 atoms in the mask :4@C4  ...\n",
      "DEBUG:root:There are 1 atoms in the mask :4@C5  ...\n"
     ]
    }
   ],
   "source": [
    "for index, restraint in enumerate(host_conformational_restraints):\n",
    "    \n",
    "    this = DAT_restraint()\n",
    "    this.auto_apr = True\n",
    "    this.amber_index = True\n",
    "    this.topology = hg\n",
    "    this.attach['fraction_list'] = attach_fractions\n",
    "    this.pull['num_windows'] = len(pull_distances)\n",
    "    this.mask1 = restraint[0]\n",
    "    this.mask2 = restraint[1]\n",
    "    this.mask3 = restraint[2]\n",
    "    this.mask4 = restraint[3]\n",
    "    \n",
    "    this.attach['target'] = host_conformational_targets[index % 2]\n",
    "    this.pull['target_final'] = host_conformational_targets[index % 2]\n",
    "    this.attach['fc_final'] = attach_angle_fc\n",
    "\n",
    "    this.initialize()"
   ]
  },
  {
   "cell_type": "code",
   "execution_count": null,
   "metadata": {},
   "outputs": [],
   "source": []
  }
 ],
 "metadata": {
  "kernelspec": {
   "display_name": "Python [conda env:smirnoff-paprika]",
   "language": "python",
   "name": "conda-env-smirnoff-paprika-py"
  },
  "language_info": {
   "codemirror_mode": {
    "name": "ipython",
    "version": 3
   },
   "file_extension": ".py",
   "mimetype": "text/x-python",
   "name": "python",
   "nbconvert_exporter": "python",
   "pygments_lexer": "ipython3",
   "version": "3.6.4"
  }
 },
 "nbformat": 4,
 "nbformat_minor": 2
}
