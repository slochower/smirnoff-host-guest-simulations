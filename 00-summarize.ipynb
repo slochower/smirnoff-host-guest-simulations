{
 "cells": [
  {
   "cell_type": "code",
   "execution_count": 1,
   "metadata": {
    "ExecuteTime": {
     "end_time": "2019-04-04T18:08:07.141523Z",
     "start_time": "2019-04-04T18:08:06.309224Z"
    }
   },
   "outputs": [],
   "source": [
    "import pandas as pd\n",
    "import scipy as sc\n",
    "import numpy as np\n",
    "import os\n",
    "\n",
    "\n",
    "import matplotlib as mpl\n",
    "import matplotlib.pyplot as plt\n",
    "from matplotlib.gridspec import GridSpec\n",
    "from matplotlib.colors import colorConverter\n",
    "import seaborn as sns\n",
    "\n",
    "%load_ext autoreload\n",
    "%autoreload 2\n",
    "%load_ext blackcellmagic\n",
    "%matplotlib inline"
   ]
  },
  {
   "cell_type": "code",
   "execution_count": 2,
   "metadata": {
    "ExecuteTime": {
     "end_time": "2019-04-04T18:08:07.174996Z",
     "start_time": "2019-04-04T18:08:07.143478Z"
    }
   },
   "outputs": [],
   "source": [
    "from constants import guest_types\n",
    "from constants import colors\n",
    "from bootstrap import bootstrap\n",
    "from bootstrap import dG_bootstrap\n",
    "from bootstrap import dH_bootstrap\n",
    "import plotting"
   ]
  },
  {
   "cell_type": "code",
   "execution_count": 3,
   "metadata": {
    "ExecuteTime": {
     "end_time": "2019-04-04T18:08:07.288009Z",
     "start_time": "2019-04-04T18:08:07.176910Z"
    }
   },
   "outputs": [],
   "source": [
    "from constants import experimental_deltaG\n",
    "from constants import experimental_deltaH\n",
    "from constants import systems"
   ]
  },
  {
   "cell_type": "code",
   "execution_count": 4,
   "metadata": {
    "ExecuteTime": {
     "end_time": "2019-04-04T18:08:07.771067Z",
     "start_time": "2019-04-04T18:08:07.747708Z"
    }
   },
   "outputs": [],
   "source": [
    "from summarize_statistics import write_statistics"
   ]
  },
  {
   "cell_type": "markdown",
   "metadata": {},
   "source": [
    "# Calculate or load in the summary results"
   ]
  },
  {
   "cell_type": "code",
   "execution_count": 8,
   "metadata": {
    "ExecuteTime": {
     "end_time": "2019-04-04T18:08:09.344308Z",
     "start_time": "2019-04-04T18:08:09.267764Z"
    }
   },
   "outputs": [],
   "source": [
    "bgbg = pd.read_csv(\"results/bgbg_tip3p_by_orientation.csv\")\n",
    "bgbg_combined = pd.read_csv(\"results/bgbg_tip3p_combined.csv\")\n",
    "\n",
    "bg2bg2 = pd.read_csv(\"results/bg2bg2_tip3p_by_orientation.csv\")\n",
    "bg2bg2_combined = pd.read_csv(\"results/bg2bg2_tip3p_combined.csv\")\n",
    "\n",
    "smirnoff = pd.read_csv(\"results/smirnoff_by_orientation.csv\")\n",
    "smirnoff_combined = pd.read_csv(\"results/smirnoff_combined.csv\")\n",
    "\n",
    "experimental = pd.read_csv(\"results/experimental.csv\")"
   ]
  },
  {
   "cell_type": "code",
   "execution_count": 9,
   "metadata": {
    "ExecuteTime": {
     "end_time": "2019-04-04T18:08:10.089412Z",
     "start_time": "2019-04-04T18:08:10.057292Z"
    }
   },
   "outputs": [],
   "source": [
    "data_sets = [bgbg_combined, bg2bg2_combined, smirnoff_combined, experimental]\n",
    "names = [\"GAFF v1.7\", \"GAFF v2.1\", \"SMIRNOFF99Frosst\", \"Experimental\"]"
   ]
  },
  {
   "cell_type": "markdown",
   "metadata": {},
   "source": [
    "# Binding free energy\n",
    "\n",
    "(Create statistics files for re-use)"
   ]
  },
  {
   "cell_type": "code",
   "execution_count": 8,
   "metadata": {
    "ExecuteTime": {
     "end_time": "2019-04-04T18:08:25.590750Z",
     "start_time": "2019-04-04T18:08:25.559094Z"
    }
   },
   "outputs": [],
   "source": [
    "from multiprocessing import Pool"
   ]
  },
  {
   "cell_type": "code",
   "execution_count": 18,
   "metadata": {},
   "outputs": [],
   "source": [
    "def return_bootstrapped_dictionary(\n",
    "    df_one, df_two, thermodynamic_quantity, cycles=100000,\n",
    "    name=\"smirnoff_experimental\"\n",
    "):\n",
    "    try:\n",
    "        df = df_one.merge(df_two, on=[\"System\", \"Type\"], suffixes=(\"_i\", \"_j\"))\n",
    "    except KeyError:\n",
    "        # Experimental doesn't have a Type column, so won't merge cleanly.\n",
    "        df = df_one.merge(df_two, on=[\"System\"], suffixes=(\"_i\", \"_j\"))\n",
    "    \n",
    "    \n",
    "    results = bootstrap(\n",
    "        x=df[f\"Delta {thermodynamic_quantity}_i\"],\n",
    "        x_sem=df[f\"{thermodynamic_quantity}_SEM_i\"],\n",
    "        y=df[f\"Delta {thermodynamic_quantity}_j\"],\n",
    "        y_sem=df[f\"{thermodynamic_quantity}_SEM_j\"],\n",
    "        cycles=cycles,\n",
    "    )\n",
    "    key = dict()\n",
    "    key[name] = results\n",
    "    return key"
   ]
  },
  {
   "cell_type": "code",
   "execution_count": 32,
   "metadata": {},
   "outputs": [],
   "source": [
    "results = dict()\n",
    "results.update(return_bootstrapped_dictionary(experimental, smirnoff_combined, \"G\", name=\"smirnoff_experimental\"))\n",
    "results.update(return_bootstrapped_dictionary(experimental, bgbg_combined, \"G\", name=\"bgbg_experimental\"))\n",
    "results.update(return_bootstrapped_dictionary(experimental, bg2bg2_combined, \"G\", name=\"bg2bg2_experimental\"))"
   ]
  },
  {
   "cell_type": "code",
   "execution_count": 33,
   "metadata": {},
   "outputs": [],
   "source": [
    "import json"
   ]
  },
  {
   "cell_type": "code",
   "execution_count": 34,
   "metadata": {},
   "outputs": [],
   "source": [
    "with open(\"results/dG-overall.json\", \"w\") as f:\n",
    "    json.dump(results, f)"
   ]
  },
  {
   "cell_type": "code",
   "execution_count": 35,
   "metadata": {
    "ExecuteTime": {
     "end_time": "2019-04-04T17:18:13.868703Z",
     "start_time": "2019-04-04T16:48:57.723962Z"
    }
   },
   "outputs": [
    {
     "name": "stdout",
     "output_type": "stream",
     "text": [
      "Bootstrapping results/experimental_bgbg_dG_statistics_overall.csv\n",
      "Bootstrapping results/experimental_smirnoff_dG_statistics_overall.csv\n",
      "Bootstrapping results/bgbg_smirnoff_dG_statistics_overall.csv\n",
      "Bootstrapping results/experimental_bg2bg2_dG_statistics_overall.csv\n",
      "Bootstrapping results/bg2bg2_smirnoff_by_orientation_dG_statistics_overall.csv\n",
      "Bootstrapping results/bg2bg2_smirnoff_dG_statistics_overall.csv\n",
      "Bootstrapping results/bgbg_bg2bg2_by_orientation_dG_statistics_overall.csv\n",
      "Bootstrapping results/bgbg_smirnoff_by_orientation_dG_statistics_overall.csv\n",
      "Bootstrapping results/bgbg_bg2bg2_dG_statistics_overall.csv\n",
      "Bootstrapping results/bgbg_smirnoff_dG_statistics_aliphatic_ammoniums.csv\n",
      "Bootstrapping results/experimental_smirnoff_dG_statistics_aliphatic_ammoniums.csv\n",
      "Bootstrapping results/bgbg_bg2bg2_dG_statistics_aliphatic_ammoniums.csv\n",
      "Bootstrapping results/bg2bg2_smirnoff_dG_statistics_aliphatic_ammoniums.csv\n",
      "Bootstrapping results/bgbg_smirnoff_dG_statistics_cyclic_alcohols.csv\n",
      "Bootstrapping results/experimental_bg2bg2_dG_statistics_aliphatic_ammoniums.csv\n",
      "Bootstrapping results/experimental_smirnoff_dG_statistics_cyclic_alcohols.csv\n",
      "Bootstrapping results/experimental_bgbg_dG_statistics_aliphatic_ammoniums.csv\n",
      "Bootstrapping results/bg2bg2_smirnoff_dG_statistics_cyclic_alcohols.csv\n",
      "Bootstrapping results/bgbg_bg2bg2_dG_statistics_cyclic_alcohols.csv\n",
      "Bootstrapping results/bgbg_smirnoff_dG_statistics_aliphatic_carboxylates.csv\n",
      "Bootstrapping results/experimental_bg2bg2_dG_statistics_cyclic_alcohols.csv\n",
      "Bootstrapping results/experimental_smirnoff_dG_statistics_aliphatic_carboxylates.csv\n",
      "Bootstrapping results/experimental_bgbg_dG_statistics_cyclic_alcohols.csv\n",
      "Bootstrapping results/bg2bg2_smirnoff_dG_statistics_aliphatic_carboxylates.csv\n",
      "Bootstrapping results/bgbg_bg2bg2_dG_statistics_aliphatic_carboxylates.csv\n",
      "Bootstrapping results/experimental_bg2bg2_dG_statistics_aliphatic_carboxylates.csv\n",
      "Bootstrapping results/experimental_bgbg_dG_statistics_aliphatic_carboxylates.csv\n",
      "Bootstrapping results/bg2bg2_smirnoff_by_orientation_dG_statistics_aliphatic_ammoniums.csv\n",
      "Bootstrapping results/bgbg_bg2bg2_by_orientation_dG_statistics_aliphatic_ammoniums.csv\n",
      "Bootstrapping results/bgbg_smirnoff_by_orientation_dG_statistics_aliphatic_ammoniums.csv\n",
      "Bootstrapping results/bg2bg2_smirnoff_by_orientation_dG_statistics_cyclic_alcohols.csv\n",
      "Bootstrapping results/bgbg_bg2bg2_by_orientation_dG_statistics_cyclic_alcohols.csv\n",
      "Bootstrapping results/bg2bg2_smirnoff_by_orientation_dG_statistics_aliphatic_carboxylates.csv\n",
      "Bootstrapping results/bgbg_smirnoff_by_orientation_dG_statistics_cyclic_alcohols.csv\n",
      "Bootstrapping results/bgbg_bg2bg2_by_orientation_dG_statistics_aliphatic_carboxylates.csv\n",
      "Bootstrapping results/bgbg_smirnoff_by_orientation_dG_statistics_aliphatic_carboxylates.csv\n"
     ]
    }
   ],
   "source": [
    "with Pool(12) as p:\n",
    "\n",
    "    p.starmap(\n",
    "        write_statistics,\n",
    "        [\n",
    "            (experimental, smirnoff_combined, \"G\", \"experimental_smirnoff\"),\n",
    "            (experimental, bgbg_combined, \"G\", \"experimental_bgbg\"),\n",
    "            (experimental, bg2bg2_combined, \"G\", \"experimental_bg2bg2\"),\n",
    "            (bgbg_combined, smirnoff_combined, \"G\", \"bgbg_smirnoff\"),\n",
    "            (bg2bg2_combined, smirnoff_combined, \"G\", \"bg2bg2_smirnoff\"),\n",
    "            (bgbg_combined, bg2bg2_combined, \"G\", \"bgbg_bg2bg2\"),\n",
    "            (bgbg, bg2bg2, \"G\", \"bgbg_bg2bg2_by_orientation\"),\n",
    "            (bgbg, smirnoff, \"G\", \"bgbg_smirnoff_by_orientation\"),\n",
    "            (bg2bg2, smirnoff, \"G\", \"bg2bg2_smirnoff_by_orientation\"),\n",
    "        ],\n",
    "    )\n"
   ]
  },
  {
   "cell_type": "markdown",
   "metadata": {},
   "source": [
    "## Enthalpy"
   ]
  },
  {
   "cell_type": "code",
   "execution_count": 9,
   "metadata": {
    "ExecuteTime": {
     "end_time": "2019-04-04T18:07:05.623841Z",
     "start_time": "2019-04-04T17:36:56.356963Z"
    }
   },
   "outputs": [
    {
     "name": "stdout",
     "output_type": "stream",
     "text": [
      "Bootstrapping results/bgbg_smirnoff_dH_statistics_overall.csv\n",
      "Bootstrapping results/experimental_smirnoff_dH_statistics_overall.csv\n",
      "Bootstrapping results/experimental_bgbg_dH_statistics_overall.csv\n",
      "Bootstrapping results/experimental_bg2bg2_dH_statistics_overall.csv\n",
      "Bootstrapping results/bgbg_bg2bg2_by_orientation_dH_statistics_overall.csv\n",
      "Bootstrapping results/bg2bg2_smirnoff_dH_statistics_overall.csv\n",
      "Bootstrapping results/bg2bg2_smirnoff_by_orientation_dH_statistics_overall.csv\n",
      "Bootstrapping results/bgbg_smirnoff_by_orientation_dH_statistics_overall.csv\n",
      "Bootstrapping results/bgbg_bg2bg2_dH_statistics_overall.csv\n",
      "Bootstrapping results/bgbg_bg2bg2_dH_statistics_aliphatic_ammoniums.csv\n",
      "Bootstrapping results/bg2bg2_smirnoff_dH_statistics_aliphatic_ammoniums.csv\n",
      "Bootstrapping results/experimental_bgbg_dH_statistics_aliphatic_ammoniums.csv\n",
      "Bootstrapping results/bgbg_bg2bg2_dH_statistics_cyclic_alcohols.csv\n",
      "Bootstrapping results/bgbg_smirnoff_dH_statistics_aliphatic_ammoniums.csv\n",
      "Bootstrapping results/experimental_smirnoff_dH_statistics_aliphatic_ammoniums.csv\n",
      "Bootstrapping results/experimental_bg2bg2_dH_statistics_aliphatic_ammoniums.csv\n",
      "Bootstrapping results/experimental_bgbg_dH_statistics_cyclic_alcohols.csv\n",
      "Bootstrapping results/bg2bg2_smirnoff_dH_statistics_cyclic_alcohols.csv\n",
      "Bootstrapping results/bgbg_bg2bg2_dH_statistics_aliphatic_carboxylates.csv\n",
      "Bootstrapping results/bgbg_smirnoff_dH_statistics_cyclic_alcohols.csv\n",
      "Bootstrapping results/bg2bg2_smirnoff_dH_statistics_aliphatic_carboxylates.csv\n",
      "Bootstrapping results/experimental_smirnoff_dH_statistics_cyclic_alcohols.csv\n",
      "Bootstrapping results/experimental_bgbg_dH_statistics_aliphatic_carboxylates.csv\n",
      "Bootstrapping results/experimental_bg2bg2_dH_statistics_cyclic_alcohols.csv\n",
      "Bootstrapping results/bgbg_smirnoff_dH_statistics_aliphatic_carboxylates.csv\n",
      "Bootstrapping results/experimental_bg2bg2_dH_statistics_aliphatic_carboxylates.csv\n",
      "Bootstrapping results/experimental_smirnoff_dH_statistics_aliphatic_carboxylates.csv\n",
      "Bootstrapping results/bg2bg2_smirnoff_by_orientation_dH_statistics_aliphatic_ammoniums.csv\n",
      "Bootstrapping results/bgbg_smirnoff_by_orientation_dH_statistics_aliphatic_ammoniums.csv\n",
      "Bootstrapping results/bgbg_bg2bg2_by_orientation_dH_statistics_aliphatic_ammoniums.csv\n",
      "Bootstrapping results/bg2bg2_smirnoff_by_orientation_dH_statistics_cyclic_alcohols.csv\n",
      "Bootstrapping results/bgbg_smirnoff_by_orientation_dH_statistics_cyclic_alcohols.csv\n",
      "Bootstrapping results/bgbg_bg2bg2_by_orientation_dH_statistics_cyclic_alcohols.csv\n",
      "Bootstrapping results/bg2bg2_smirnoff_by_orientation_dH_statistics_aliphatic_carboxylates.csv\n",
      "Bootstrapping results/bgbg_smirnoff_by_orientation_dH_statistics_aliphatic_carboxylates.csv\n",
      "Bootstrapping results/bgbg_bg2bg2_by_orientation_dH_statistics_aliphatic_carboxylates.csv\n"
     ]
    }
   ],
   "source": [
    "with Pool(12) as p:\n",
    "\n",
    "    p.starmap(\n",
    "        write_statistics,\n",
    "        [\n",
    "            (experimental, smirnoff_combined, \"H\", \"experimental_smirnoff\"),\n",
    "            (experimental, bgbg_combined, \"H\", \"experimental_bgbg\"),\n",
    "            (experimental, bg2bg2_combined, \"H\", \"experimental_bg2bg2\"),\n",
    "            (bgbg_combined, smirnoff_combined, \"H\", \"bgbg_smirnoff\"),\n",
    "            (bg2bg2_combined, smirnoff_combined, \"H\", \"bg2bg2_smirnoff\"),\n",
    "            (bgbg_combined, bg2bg2_combined, \"H\", \"bgbg_bg2bg2\"),\n",
    "            (bgbg, bg2bg2, \"H\", \"bgbg_bg2bg2_by_orientation\"),\n",
    "            (bgbg, smirnoff, \"H\", \"bgbg_smirnoff_by_orientation\"),\n",
    "            (bg2bg2, smirnoff, \"H\", \"bg2bg2_smirnoff_by_orientation\"),\n",
    "        ],\n",
    "    )\n"
   ]
  },
  {
   "cell_type": "markdown",
   "metadata": {},
   "source": [
    "# Entropy"
   ]
  },
  {
   "cell_type": "code",
   "execution_count": 10,
   "metadata": {
    "ExecuteTime": {
     "end_time": "2019-04-04T18:08:16.777332Z",
     "start_time": "2019-04-04T18:08:16.653388Z"
    }
   },
   "outputs": [],
   "source": [
    "bgbg[\"-TdS\"] = bgbg[\"Delta G\"] - bgbg[\"Delta H\"]\n",
    "bgbg[\"-TdS_SEM\"] = np.sqrt(bgbg[\"G_SEM\"]**2 + bgbg[\"H_SEM\"]**2)\n",
    "\n",
    "bg2bg2[\"-TdS\"] = bg2bg2[\"Delta G\"] - bg2bg2[\"Delta H\"]\n",
    "bg2bg2[\"-TdS_SEM\"] = np.sqrt(bg2bg2[\"G_SEM\"]**2 + bg2bg2[\"H_SEM\"]**2)\n",
    "\n",
    "smirnoff[\"-TdS\"] = smirnoff[\"Delta G\"] - smirnoff[\"Delta H\"]\n",
    "smirnoff[\"-TdS_SEM\"] = np.sqrt(smirnoff[\"G_SEM\"]**2 + smirnoff[\"H_SEM\"]**2)\n",
    "\n",
    "\n",
    "smirnoff_combined[\"-TdS\"] = smirnoff_combined[\"Delta G\"] - smirnoff_combined[\"Delta H\"]\n",
    "smirnoff_combined[\"-TdS_SEM\"] = np.sqrt(smirnoff_combined[\"G_SEM\"]**2 + smirnoff_combined[\"H_SEM\"]**2)\n",
    "\n",
    "bgbg_combined[\"-TdS\"] = bgbg_combined[\"Delta G\"] - bgbg_combined[\"Delta H\"]\n",
    "bgbg_combined[\"-TdS_SEM\"] = np.sqrt(bgbg_combined[\"G_SEM\"]**2 + bgbg_combined[\"H_SEM\"]**2)\n",
    "\n",
    "bg2bg2_combined[\"-TdS\"] = bg2bg2_combined[\"Delta G\"] - bg2bg2_combined[\"Delta H\"]\n",
    "bg2bg2_combined[\"-TdS_SEM\"] = np.sqrt(bg2bg2_combined[\"G_SEM\"]**2 + bg2bg2_combined[\"H_SEM\"]**2)\n",
    "\n",
    "experimental[\"-TdS\"] = experimental[\"Delta G\"] - experimental[\"Delta H\"]\n",
    "experimental[\"-TdS_SEM\"] = np.sqrt(experimental[\"G_SEM\"]**2 + experimental[\"H_SEM\"]**2)"
   ]
  },
  {
   "cell_type": "code",
   "execution_count": 11,
   "metadata": {
    "ExecuteTime": {
     "end_time": "2019-04-04T18:08:17.680341Z",
     "start_time": "2019-04-04T18:08:17.642037Z"
    }
   },
   "outputs": [],
   "source": [
    "from summarize_statistics import write_entropy_statistics"
   ]
  },
  {
   "cell_type": "code",
   "execution_count": 12,
   "metadata": {
    "ExecuteTime": {
     "end_time": "2019-04-04T18:37:10.915102Z",
     "start_time": "2019-04-04T18:08:29.254136Z"
    },
    "scrolled": true
   },
   "outputs": [
    {
     "name": "stdout",
     "output_type": "stream",
     "text": [
      "Bootstrapping results/experimental_smirnoff_-TdS_statistics_overall.csv\n",
      "Bootstrapping results/bgbg_smirnoff_-TdS_statistics_overall.csv\n",
      "Bootstrapping results/experimental_bgbg_-TdS_statistics_overall.csv\n",
      "Bootstrapping results/bg2bg2_smirnoff_-TdS_statistics_overall.csv\n",
      "Bootstrapping results/experimental_bg2bg2_-TdS_statistics_overall.csv\n",
      "Bootstrapping results/bgbg_bg2bg2_-TdS_statistics_overall.csv\n",
      "Bootstrapping results/bg2bg2_smirnoff_by_orientation_-TdS_statistics_overall.csv\n",
      "Bootstrapping results/bgbg_smirnoff_by_orientation_-TdS_statistics_overall.csv\n",
      "Bootstrapping results/bgbg_bg2bg2_by_orientation_-TdS_statistics_overall.csv\n",
      "Bootstrapping results/experimental_smirnoff_-TdS_statistics_aliphatic_ammoniums.csv\n",
      "Bootstrapping results/bg2bg2_smirnoff_-TdS_statistics_aliphatic_ammoniums.csv\n",
      "Bootstrapping results/bgbg_smirnoff_-TdS_statistics_aliphatic_ammoniums.csv\n",
      "Bootstrapping results/experimental_smirnoff_-TdS_statistics_cyclic_alcohols.csv\n",
      "Bootstrapping results/bgbg_bg2bg2_-TdS_statistics_aliphatic_ammoniums.csv\n",
      "Bootstrapping results/experimental_bg2bg2_-TdS_statistics_aliphatic_ammoniums.csv\n",
      "Bootstrapping results/bg2bg2_smirnoff_-TdS_statistics_cyclic_alcohols.csv\n",
      "Bootstrapping results/bgbg_smirnoff_-TdS_statistics_cyclic_alcohols.csv\n",
      "Bootstrapping results/experimental_smirnoff_-TdS_statistics_aliphatic_ammoniums.csv\n",
      "Bootstrapping results/experimental_bgbg_-TdS_statistics_aliphatic_ammoniums.csv\n",
      "Bootstrapping results/bg2bg2_smirnoff_-TdS_statistics_aliphatic_ammoniums.csv\n",
      "Bootstrapping results/experimental_bg2bg2_-TdS_statistics_cyclic_alcohols.csv\n",
      "Bootstrapping results/bgbg_bg2bg2_-TdS_statistics_cyclic_alcohols.csv\n",
      "Bootstrapping results/bgbg_smirnoff_-TdS_statistics_aliphatic_ammoniums.csv\n",
      "Bootstrapping results/bgbg_bg2bg2_-TdS_statistics_aliphatic_ammoniums.csv\n",
      "Bootstrapping results/experimental_bg2bg2_-TdS_statistics_aliphatic_ammoniums.csv\n",
      "Bootstrapping results/experimental_bgbg_-TdS_statistics_cyclic_alcohols.csv\n",
      "Bootstrapping results/bg2bg2_smirnoff_by_orientation_-TdS_statistics_aliphatic_ammoniums.csv\n",
      "Bootstrapping results/experimental_bgbg_-TdS_statistics_aliphatic_ammoniums.csv\n",
      "Bootstrapping results/bg2bg2_smirnoff_by_orientation_-TdS_statistics_cyclic_alcohols.csv\n",
      "Bootstrapping results/bgbg_smirnoff_by_orientation_-TdS_statistics_aliphatic_ammoniums.csv\n",
      "Bootstrapping results/bgbg_bg2bg2_by_orientation_-TdS_statistics_aliphatic_ammoniums.csv\n",
      "Bootstrapping results/bg2bg2_smirnoff_by_orientation_-TdS_statistics_aliphatic_ammoniums.csv\n",
      "Bootstrapping results/bgbg_smirnoff_by_orientation_-TdS_statistics_cyclic_alcohols.csv\n",
      "Bootstrapping results/bgbg_bg2bg2_by_orientation_-TdS_statistics_cyclic_alcohols.csv\n",
      "Bootstrapping results/bgbg_smirnoff_by_orientation_-TdS_statistics_aliphatic_ammoniums.csv\n",
      "Bootstrapping results/bgbg_bg2bg2_by_orientation_-TdS_statistics_aliphatic_ammoniums.csv\n"
     ]
    }
   ],
   "source": [
    "with Pool(12) as p:\n",
    "\n",
    "    p.starmap(\n",
    "        write_entropy_statistics,\n",
    "        [\n",
    "            (experimental, smirnoff_combined, \"-TdS\", \"experimental_smirnoff\"),\n",
    "            (experimental, bgbg_combined, \"-TdS\", \"experimental_bgbg\"),\n",
    "            (experimental, bg2bg2_combined, \"-TdS\", \"experimental_bg2bg2\"),\n",
    "            (bgbg_combined, smirnoff_combined, \"-TdS\", \"bgbg_smirnoff\"),\n",
    "            (bg2bg2_combined, smirnoff_combined, \"-TdS\", \"bg2bg2_smirnoff\"),\n",
    "            (bgbg_combined, bg2bg2_combined, \"-TdS\", \"bgbg_bg2bg2\"),\n",
    "            (bgbg, bg2bg2, \"-TdS\", \"bgbg_bg2bg2_by_orientation\"),\n",
    "            (bgbg, smirnoff, \"-TdS\", \"bgbg_smirnoff_by_orientation\"),\n",
    "            (bg2bg2, smirnoff, \"-TdS\", \"bg2bg2_smirnoff_by_orientation\"),\n",
    "        ],\n",
    "    )\n"
   ]
  },
  {
   "cell_type": "markdown",
   "metadata": {},
   "source": [
    "# Bootstrap the MBAR results"
   ]
  },
  {
   "cell_type": "code",
   "execution_count": 6,
   "metadata": {},
   "outputs": [],
   "source": [
    "bgbg = pd.read_csv(\"results/bgbg_tip3p_by_orientation.csv\")\n",
    "bgbg_combined = pd.read_csv(\"results/bgbg_tip3p_combined.csv\")\n",
    "\n",
    "bg2bg2 = pd.read_csv(\"results/bg2bg2_tip3p_by_orientation.csv\")\n",
    "bg2bg2_combined = pd.read_csv(\"results/bg2bg2_tip3p_combined.csv\")\n",
    "\n",
    "smirnoff = pd.read_csv(\"results/smirnoff_mbar_by_orientation.csv\")\n",
    "smirnoff_combined = pd.read_csv(\"results/smirnoff_mbar_combined.csv\")\n",
    "\n",
    "experimental = pd.read_csv(\"results/experimental.csv\")"
   ]
  },
  {
   "cell_type": "code",
   "execution_count": 7,
   "metadata": {},
   "outputs": [],
   "source": [
    "data_sets = [bgbg_combined, bg2bg2_combined, smirnoff_combined, experimental]\n",
    "names = [\"GAFF v1.7\", \"GAFF v2.1\", \"SMIRNOFF99Frosst\", \"Experimental\"]"
   ]
  },
  {
   "cell_type": "code",
   "execution_count": 18,
   "metadata": {},
   "outputs": [],
   "source": [
    "def return_bootstrapped_dictionary(\n",
    "    df_one, df_two, thermodynamic_quantity, cycles=100000,\n",
    "    name=\"smirnoff_experimental\"\n",
    "):\n",
    "    try:\n",
    "        df = df_one.merge(df_two, on=[\"System\", \"Type\"], suffixes=(\"_i\", \"_j\"))\n",
    "    except KeyError:\n",
    "        # Experimental doesn't have a Type column, so won't merge cleanly.\n",
    "        df = df_one.merge(df_two, on=[\"System\"], suffixes=(\"_i\", \"_j\"))\n",
    "    \n",
    "    if not thermodynamic_quantity == \"-TdS\":\n",
    "        column = f\"Delta {thermodynamic_quantity}\"\n",
    "    else:\n",
    "        column = f\"{thermodynamic_quantity}\"\n",
    "\n",
    "    results = bootstrap(\n",
    "        x=df[f\"{column}_i\"],\n",
    "        x_sem=df[f\"{thermodynamic_quantity}_SEM_i\"],\n",
    "        y=df[f\"{column}_j\"],\n",
    "        y_sem=df[f\"{thermodynamic_quantity}_SEM_j\"],\n",
    "        cycles=cycles,\n",
    "    )\n",
    "    key = dict()\n",
    "    key[name] = results\n",
    "    return key"
   ]
  },
  {
   "cell_type": "code",
   "execution_count": 9,
   "metadata": {},
   "outputs": [],
   "source": [
    "results = dict()\n",
    "results.update(return_bootstrapped_dictionary(experimental, smirnoff_combined, \"G\", name=\"smirnoff_experimental\"))"
   ]
  },
  {
   "cell_type": "code",
   "execution_count": 10,
   "metadata": {},
   "outputs": [
    {
     "data": {
      "text/plain": [
       "{'smirnoff_experimental': {'mean': {'slope': 0.52890785365297732,\n",
       "   'intercept': -1.4504055739032329,\n",
       "   'R': 0.66664089973143947,\n",
       "   'R**2': 0.45170010487586837,\n",
       "   'RMSE': 0.79500744385756994,\n",
       "   'MSE': -0.041187470092817847,\n",
       "   'MUE': 0.61970635509652461,\n",
       "   'Tau': 0.48198688141325097},\n",
       "  'sem': {'slope': 0.099080330007001394,\n",
       "   'intercept': 0.32294934116307938,\n",
       "   'R': 0.085381588654260501,\n",
       "   'R**2': 0.10909640376193572,\n",
       "   'RMSE': 0.097979118495851114,\n",
       "   'MSE': 0.12155954058333204,\n",
       "   'MUE': 0.077501117449154236,\n",
       "   'Tau': 0.077257182105958291},\n",
       "  'ci_low': {'slope': 0.33371837950933958,\n",
       "   'intercept': -2.067423361833427,\n",
       "   'R': 0.47178970990966135,\n",
       "   'R**2': 0.22258553037664242,\n",
       "   'RMSE': 0.61636330203158973,\n",
       "   'MSE': -0.28096921830942029,\n",
       "   'MUE': 0.47469023578776465,\n",
       "   'Tau': 0.31946799630706646},\n",
       "  'ci_high': {'slope': 0.72558645075794681,\n",
       "   'intercept': -0.79060243458596524,\n",
       "   'R': 0.80482448057030798,\n",
       "   'R**2': 0.64774244452526608,\n",
       "   'RMSE': 1.004053497705802,\n",
       "   'MSE': 0.19500282463118318,\n",
       "   'MUE': 0.77762068644141424,\n",
       "   'Tau': 0.62264304341534538}}}"
      ]
     },
     "execution_count": 10,
     "metadata": {},
     "output_type": "execute_result"
    }
   ],
   "source": [
    "results"
   ]
  },
  {
   "cell_type": "code",
   "execution_count": 11,
   "metadata": {},
   "outputs": [],
   "source": [
    "results.update(return_bootstrapped_dictionary(experimental, smirnoff_combined, \"H\", name=\"smirnoff_experimental\"))"
   ]
  },
  {
   "cell_type": "code",
   "execution_count": 13,
   "metadata": {
    "scrolled": false
   },
   "outputs": [
    {
     "data": {
      "text/plain": [
       "{'smirnoff_experimental': {'mean': {'slope': 0.84231801079445534,\n",
       "   'intercept': 0.35653983554889396,\n",
       "   'R': 0.6558646763011966,\n",
       "   'R**2': 0.43840427163839296,\n",
       "   'RMSE': 1.8265121256361585,\n",
       "   'MSE': 0.72621281855725062,\n",
       "   'MUE': 1.3685756059035254,\n",
       "   'Tau': 0.52715849390919156},\n",
       "  'sem': {'slope': 0.1605492515181357,\n",
       "   'intercept': 0.50772018563238919,\n",
       "   'R': 0.090806376531162969,\n",
       "   'R**2': 0.11554588137353196,\n",
       "   'RMSE': 0.23267974168898475,\n",
       "   'MSE': 0.25810152384152857,\n",
       "   'MUE': 0.18836203970522608,\n",
       "   'Tau': 0.088495609580905785},\n",
       "  'ci_low': {'slope': 0.54290789194262012,\n",
       "   'intercept': -0.5378322982735011,\n",
       "   'R': 0.45760501215033217,\n",
       "   'R**2': 0.20940234714510564,\n",
       "   'RMSE': 1.3697914953202168,\n",
       "   'MSE': 0.2259657238010159,\n",
       "   'MUE': 1.0162021895586144,\n",
       "   'Tau': 0.33776301218161681},\n",
       "  'ci_high': {'slope': 1.1767477446865602,\n",
       "   'intercept': 1.4638295162323893,\n",
       "   'R': 0.8116227422075768,\n",
       "   'R**2': 0.65873147566854662,\n",
       "   'RMSE': 2.279240094628971,\n",
       "   'MSE': 1.2393445703548132,\n",
       "   'MUE': 1.7518767366577119,\n",
       "   'Tau': 0.68327796234772975}}}"
      ]
     },
     "execution_count": 13,
     "metadata": {},
     "output_type": "execute_result"
    }
   ],
   "source": [
    "results"
   ]
  },
  {
   "cell_type": "code",
   "execution_count": 22,
   "metadata": {},
   "outputs": [],
   "source": [
    "smirnoff[\"-TdS\"] = smirnoff[\"Delta G\"] - smirnoff[\"Delta H\"]\n",
    "smirnoff[\"-TdS_SEM\"] = np.sqrt(smirnoff[\"G_SEM\"]**2 + smirnoff[\"H_SEM\"]**2)\n",
    "\n",
    "\n",
    "smirnoff_combined[\"-TdS\"] = smirnoff_combined[\"Delta G\"] - smirnoff_combined[\"Delta H\"]\n",
    "smirnoff_combined[\"-TdS_SEM\"] = np.sqrt(smirnoff_combined[\"G_SEM\"]**2 + smirnoff_combined[\"H_SEM\"]**2)\n",
    "\n",
    "experimental[\"-TdS\"] = experimental[\"Delta G\"] - experimental[\"Delta H\"]\n",
    "experimental[\"-TdS_SEM\"] = np.sqrt(experimental[\"G_SEM\"]**2 + experimental[\"H_SEM\"]**2)"
   ]
  },
  {
   "cell_type": "code",
   "execution_count": 23,
   "metadata": {},
   "outputs": [],
   "source": [
    "results.update(return_bootstrapped_dictionary(experimental, smirnoff_combined, \"-TdS\", name=\"smirnoff_experimental\"))"
   ]
  },
  {
   "cell_type": "code",
   "execution_count": 24,
   "metadata": {},
   "outputs": [
    {
     "data": {
      "text/plain": [
       "{'smirnoff_experimental': {'mean': {'slope': 0.87258353361334451,\n",
       "   'intercept': -0.83673525720323538,\n",
       "   'R': 0.62586341930702738,\n",
       "   'R**2': 0.40274773176955997,\n",
       "   'RMSE': 1.8422417321127627,\n",
       "   'MSE': -0.76654987557790899,\n",
       "   'MUE': 1.4303475128408021,\n",
       "   'Tau': 0.32192006644518273},\n",
       "  'sem': {'slope': 0.18678458299447881,\n",
       "   'intercept': 0.24621775456538025,\n",
       "   'R': 0.10508430968929544,\n",
       "   'R**2': 0.12490490868843854,\n",
       "   'RMSE': 0.20406663275917974,\n",
       "   'MSE': 0.25695459799092457,\n",
       "   'MUE': 0.17910344262530811,\n",
       "   'Tau': 0.096916873911185641},\n",
       "  'ci_low': {'slope': 0.49945447463088966,\n",
       "   'intercept': -1.3252091794895102,\n",
       "   'R': 0.38678651210032333,\n",
       "   'R**2': 0.14960380594273356,\n",
       "   'RMSE': 1.4470347695776069,\n",
       "   'MSE': -1.2625501563085686,\n",
       "   'MUE': 1.0902224262204983,\n",
       "   'Tau': 0.1140642303433001},\n",
       "  'ci_high': {'slope': 1.2392097482678666,\n",
       "   'intercept': -0.36136842727597651,\n",
       "   'R': 0.79266327079152998,\n",
       "   'R**2': 0.62831506086192634,\n",
       "   'RMSE': 2.2490213989621708,\n",
       "   'MSE': -0.25645553872390825,\n",
       "   'MUE': 1.7933810491236224,\n",
       "   'Tau': 0.49501661129568103}}}"
      ]
     },
     "execution_count": 24,
     "metadata": {},
     "output_type": "execute_result"
    }
   ],
   "source": [
    "results"
   ]
  },
  {
   "cell_type": "code",
   "execution_count": null,
   "metadata": {},
   "outputs": [],
   "source": []
  }
 ],
 "metadata": {
  "kernelspec": {
   "display_name": "Python 3",
   "language": "python",
   "name": "python3"
  },
  "language_info": {
   "codemirror_mode": {
    "name": "ipython",
    "version": 3
   },
   "file_extension": ".py",
   "mimetype": "text/x-python",
   "name": "python",
   "nbconvert_exporter": "python",
   "pygments_lexer": "ipython3",
   "version": "3.6.7"
  }
 },
 "nbformat": 4,
 "nbformat_minor": 2
}
