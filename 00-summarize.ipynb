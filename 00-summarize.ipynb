{
 "cells": [
  {
   "cell_type": "code",
   "execution_count": 2,
   "metadata": {
    "ExecuteTime": {
     "end_time": "2019-04-04T18:08:07.141523Z",
     "start_time": "2019-04-04T18:08:06.309224Z"
    }
   },
   "outputs": [],
   "source": [
    "import pandas as pd\n",
    "import scipy as sc\n",
    "import numpy as np\n",
    "import os\n",
    "\n",
    "\n",
    "import matplotlib as mpl\n",
    "import matplotlib.pyplot as plt\n",
    "from matplotlib.gridspec import GridSpec\n",
    "from matplotlib.colors import colorConverter\n",
    "import seaborn as sns\n",
    "\n",
    "%load_ext autoreload\n",
    "%autoreload 2\n",
    "%load_ext blackcellmagic\n",
    "%matplotlib inline"
   ]
  },
  {
   "cell_type": "code",
   "execution_count": 3,
   "metadata": {
    "ExecuteTime": {
     "end_time": "2019-04-04T18:08:07.174996Z",
     "start_time": "2019-04-04T18:08:07.143478Z"
    }
   },
   "outputs": [],
   "source": [
    "from constants import guest_types\n",
    "from constants import colors\n",
    "from bootstrap import bootstrap\n",
    "from bootstrap import dG_bootstrap\n",
    "from bootstrap import dH_bootstrap\n",
    "import plotting"
   ]
  },
  {
   "cell_type": "code",
   "execution_count": 4,
   "metadata": {
    "ExecuteTime": {
     "end_time": "2019-04-04T18:08:07.288009Z",
     "start_time": "2019-04-04T18:08:07.176910Z"
    }
   },
   "outputs": [],
   "source": [
    "from constants import experimental_deltaG\n",
    "from constants import experimental_deltaH\n",
    "from constants import systems"
   ]
  },
  {
   "cell_type": "code",
   "execution_count": 5,
   "metadata": {
    "ExecuteTime": {
     "end_time": "2019-04-04T18:08:07.771067Z",
     "start_time": "2019-04-04T18:08:07.747708Z"
    }
   },
   "outputs": [],
   "source": [
    "from summarize_statistics import write_statistics"
   ]
  },
  {
   "cell_type": "markdown",
   "metadata": {},
   "source": [
    "# Calculate or load in the summary results"
   ]
  },
  {
   "cell_type": "code",
   "execution_count": 6,
   "metadata": {
    "ExecuteTime": {
     "end_time": "2019-04-04T18:08:09.344308Z",
     "start_time": "2019-04-04T18:08:09.267764Z"
    }
   },
   "outputs": [],
   "source": [
    "bgbg = pd.read_csv(\"results/bgbg_tip3p_by_orientation.csv\")\n",
    "bgbg_combined = pd.read_csv(\"results/bgbg_tip3p_combined.csv\")\n",
    "\n",
    "bg2bg2 = pd.read_csv(\"results/bg2bg2_tip3p_by_orientation.csv\")\n",
    "bg2bg2_combined = pd.read_csv(\"results/bg2bg2_tip3p_combined.csv\")\n",
    "\n",
    "smirnoff = pd.read_csv(\"results/smirnoff_by_orientation.csv\")\n",
    "smirnoff_combined = pd.read_csv(\"results/smirnoff_combined.csv\")\n",
    "\n",
    "experimental = pd.read_csv(\"results/experimental.csv\")"
   ]
  },
  {
   "cell_type": "code",
   "execution_count": 7,
   "metadata": {
    "ExecuteTime": {
     "end_time": "2019-04-04T18:08:10.089412Z",
     "start_time": "2019-04-04T18:08:10.057292Z"
    }
   },
   "outputs": [],
   "source": [
    "data_sets = [bgbg_combined, bg2bg2_combined, smirnoff_combined, experimental]\n",
    "names = [\"GAFF v1.7\", \"GAFF v2.1\", \"SMIRNOFF99Frosst\", \"Experimental\"]"
   ]
  },
  {
   "cell_type": "markdown",
   "metadata": {},
   "source": [
    "# Binding free energy\n",
    "\n",
    "(Create statistics files for re-use)"
   ]
  },
  {
   "cell_type": "code",
   "execution_count": 8,
   "metadata": {
    "ExecuteTime": {
     "end_time": "2019-04-04T18:08:25.590750Z",
     "start_time": "2019-04-04T18:08:25.559094Z"
    }
   },
   "outputs": [],
   "source": [
    "from multiprocessing import Pool"
   ]
  },
  {
   "cell_type": "code",
   "execution_count": 31,
   "metadata": {},
   "outputs": [],
   "source": [
    "def return_bootstrapped_dictionary(\n",
    "    df_one, df_two, thermodynamic_quantity, cycles=100000,\n",
    "    name=\"smirnoff_experimental\"\n",
    "):\n",
    "    try:\n",
    "        df = df_one.merge(df_two, on=[\"System\", \"Type\"], suffixes=(\"_i\", \"_j\"))\n",
    "    except KeyError:\n",
    "        # Experimental doesn't have a Type column, so won't merge cleanly.\n",
    "        df = df_one.merge(df_two, on=[\"System\"], suffixes=(\"_i\", \"_j\"))\n",
    "    \n",
    "    \n",
    "    results = bootstrap(\n",
    "        x=df[f\"Delta {thermodynamic_quantity}_i\"],\n",
    "        x_sem=df[f\"{thermodynamic_quantity}_SEM_i\"],\n",
    "        y=df[f\"Delta {thermodynamic_quantity}_j\"],\n",
    "        y_sem=df[f\"{thermodynamic_quantity}_SEM_j\"],\n",
    "        cycles=cycles,\n",
    "    )\n",
    "    key = dict()\n",
    "    key[name] = results\n",
    "    return key"
   ]
  },
  {
   "cell_type": "code",
   "execution_count": 32,
   "metadata": {},
   "outputs": [],
   "source": [
    "results = dict()\n",
    "results.update(return_bootstrapped_dictionary(experimental, smirnoff_combined, \"G\", name=\"smirnoff_experimental\"))\n",
    "results.update(return_bootstrapped_dictionary(experimental, bgbg_combined, \"G\", name=\"bgbg_experimental\"))\n",
    "results.update(return_bootstrapped_dictionary(experimental, bg2bg2_combined, \"G\", name=\"bg2bg2_experimental\"))"
   ]
  },
  {
   "cell_type": "code",
   "execution_count": 33,
   "metadata": {},
   "outputs": [],
   "source": [
    "import json"
   ]
  },
  {
   "cell_type": "code",
   "execution_count": 34,
   "metadata": {},
   "outputs": [],
   "source": [
    "with open(\"results/dG-overall.json\", \"w\") as f:\n",
    "    json.dump(results, f)"
   ]
  },
  {
   "cell_type": "code",
   "execution_count": 35,
   "metadata": {
    "ExecuteTime": {
     "end_time": "2019-04-04T17:18:13.868703Z",
     "start_time": "2019-04-04T16:48:57.723962Z"
    }
   },
   "outputs": [
    {
     "name": "stdout",
     "output_type": "stream",
     "text": [
      "Bootstrapping results/experimental_bgbg_dG_statistics_overall.csv\n",
      "Bootstrapping results/experimental_smirnoff_dG_statistics_overall.csv\n",
      "Bootstrapping results/bgbg_smirnoff_dG_statistics_overall.csv\n",
      "Bootstrapping results/experimental_bg2bg2_dG_statistics_overall.csv\n",
      "Bootstrapping results/bg2bg2_smirnoff_by_orientation_dG_statistics_overall.csv\n",
      "Bootstrapping results/bg2bg2_smirnoff_dG_statistics_overall.csv\n",
      "Bootstrapping results/bgbg_bg2bg2_by_orientation_dG_statistics_overall.csv\n",
      "Bootstrapping results/bgbg_smirnoff_by_orientation_dG_statistics_overall.csv\n",
      "Bootstrapping results/bgbg_bg2bg2_dG_statistics_overall.csv\n",
      "Bootstrapping results/bgbg_smirnoff_dG_statistics_aliphatic_ammoniums.csv\n",
      "Bootstrapping results/experimental_smirnoff_dG_statistics_aliphatic_ammoniums.csv\n",
      "Bootstrapping results/bgbg_bg2bg2_dG_statistics_aliphatic_ammoniums.csv\n",
      "Bootstrapping results/bg2bg2_smirnoff_dG_statistics_aliphatic_ammoniums.csv\n",
      "Bootstrapping results/bgbg_smirnoff_dG_statistics_cyclic_alcohols.csv\n",
      "Bootstrapping results/experimental_bg2bg2_dG_statistics_aliphatic_ammoniums.csv\n",
      "Bootstrapping results/experimental_smirnoff_dG_statistics_cyclic_alcohols.csv\n",
      "Bootstrapping results/experimental_bgbg_dG_statistics_aliphatic_ammoniums.csv\n",
      "Bootstrapping results/bg2bg2_smirnoff_dG_statistics_cyclic_alcohols.csv\n",
      "Bootstrapping results/bgbg_bg2bg2_dG_statistics_cyclic_alcohols.csv\n",
      "Bootstrapping results/bgbg_smirnoff_dG_statistics_aliphatic_carboxylates.csv\n",
      "Bootstrapping results/experimental_bg2bg2_dG_statistics_cyclic_alcohols.csv\n",
      "Bootstrapping results/experimental_smirnoff_dG_statistics_aliphatic_carboxylates.csv\n",
      "Bootstrapping results/experimental_bgbg_dG_statistics_cyclic_alcohols.csv\n",
      "Bootstrapping results/bg2bg2_smirnoff_dG_statistics_aliphatic_carboxylates.csv\n",
      "Bootstrapping results/bgbg_bg2bg2_dG_statistics_aliphatic_carboxylates.csv\n",
      "Bootstrapping results/experimental_bg2bg2_dG_statistics_aliphatic_carboxylates.csv\n",
      "Bootstrapping results/experimental_bgbg_dG_statistics_aliphatic_carboxylates.csv\n",
      "Bootstrapping results/bg2bg2_smirnoff_by_orientation_dG_statistics_aliphatic_ammoniums.csv\n",
      "Bootstrapping results/bgbg_bg2bg2_by_orientation_dG_statistics_aliphatic_ammoniums.csv\n",
      "Bootstrapping results/bgbg_smirnoff_by_orientation_dG_statistics_aliphatic_ammoniums.csv\n",
      "Bootstrapping results/bg2bg2_smirnoff_by_orientation_dG_statistics_cyclic_alcohols.csv\n",
      "Bootstrapping results/bgbg_bg2bg2_by_orientation_dG_statistics_cyclic_alcohols.csv\n",
      "Bootstrapping results/bg2bg2_smirnoff_by_orientation_dG_statistics_aliphatic_carboxylates.csv\n",
      "Bootstrapping results/bgbg_smirnoff_by_orientation_dG_statistics_cyclic_alcohols.csv\n",
      "Bootstrapping results/bgbg_bg2bg2_by_orientation_dG_statistics_aliphatic_carboxylates.csv\n",
      "Bootstrapping results/bgbg_smirnoff_by_orientation_dG_statistics_aliphatic_carboxylates.csv\n"
     ]
    }
   ],
   "source": [
    "with Pool(12) as p:\n",
    "\n",
    "    p.starmap(\n",
    "        write_statistics,\n",
    "        [\n",
    "            (experimental, smirnoff_combined, \"G\", \"experimental_smirnoff\"),\n",
    "            (experimental, bgbg_combined, \"G\", \"experimental_bgbg\"),\n",
    "            (experimental, bg2bg2_combined, \"G\", \"experimental_bg2bg2\"),\n",
    "            (bgbg_combined, smirnoff_combined, \"G\", \"bgbg_smirnoff\"),\n",
    "            (bg2bg2_combined, smirnoff_combined, \"G\", \"bg2bg2_smirnoff\"),\n",
    "            (bgbg_combined, bg2bg2_combined, \"G\", \"bgbg_bg2bg2\"),\n",
    "            (bgbg, bg2bg2, \"G\", \"bgbg_bg2bg2_by_orientation\"),\n",
    "            (bgbg, smirnoff, \"G\", \"bgbg_smirnoff_by_orientation\"),\n",
    "            (bg2bg2, smirnoff, \"G\", \"bg2bg2_smirnoff_by_orientation\"),\n",
    "        ],\n",
    "    )\n"
   ]
  },
  {
   "cell_type": "markdown",
   "metadata": {},
   "source": [
    "## Enthalpy"
   ]
  },
  {
   "cell_type": "code",
   "execution_count": 9,
   "metadata": {
    "ExecuteTime": {
     "end_time": "2019-04-04T18:07:05.623841Z",
     "start_time": "2019-04-04T17:36:56.356963Z"
    }
   },
   "outputs": [
    {
     "name": "stdout",
     "output_type": "stream",
     "text": [
      "Bootstrapping results/bgbg_smirnoff_dH_statistics_overall.csv\n",
      "Bootstrapping results/experimental_smirnoff_dH_statistics_overall.csv\n",
      "Bootstrapping results/experimental_bgbg_dH_statistics_overall.csv\n",
      "Bootstrapping results/experimental_bg2bg2_dH_statistics_overall.csv\n",
      "Bootstrapping results/bgbg_bg2bg2_by_orientation_dH_statistics_overall.csv\n",
      "Bootstrapping results/bg2bg2_smirnoff_dH_statistics_overall.csv\n",
      "Bootstrapping results/bg2bg2_smirnoff_by_orientation_dH_statistics_overall.csv\n",
      "Bootstrapping results/bgbg_smirnoff_by_orientation_dH_statistics_overall.csv\n",
      "Bootstrapping results/bgbg_bg2bg2_dH_statistics_overall.csv\n",
      "Bootstrapping results/bgbg_bg2bg2_dH_statistics_aliphatic_ammoniums.csv\n",
      "Bootstrapping results/bg2bg2_smirnoff_dH_statistics_aliphatic_ammoniums.csv\n",
      "Bootstrapping results/experimental_bgbg_dH_statistics_aliphatic_ammoniums.csv\n",
      "Bootstrapping results/bgbg_bg2bg2_dH_statistics_cyclic_alcohols.csv\n",
      "Bootstrapping results/bgbg_smirnoff_dH_statistics_aliphatic_ammoniums.csv\n",
      "Bootstrapping results/experimental_smirnoff_dH_statistics_aliphatic_ammoniums.csv\n",
      "Bootstrapping results/experimental_bg2bg2_dH_statistics_aliphatic_ammoniums.csv\n",
      "Bootstrapping results/experimental_bgbg_dH_statistics_cyclic_alcohols.csv\n",
      "Bootstrapping results/bg2bg2_smirnoff_dH_statistics_cyclic_alcohols.csv\n",
      "Bootstrapping results/bgbg_bg2bg2_dH_statistics_aliphatic_carboxylates.csv\n",
      "Bootstrapping results/bgbg_smirnoff_dH_statistics_cyclic_alcohols.csv\n",
      "Bootstrapping results/bg2bg2_smirnoff_dH_statistics_aliphatic_carboxylates.csv\n",
      "Bootstrapping results/experimental_smirnoff_dH_statistics_cyclic_alcohols.csv\n",
      "Bootstrapping results/experimental_bgbg_dH_statistics_aliphatic_carboxylates.csv\n",
      "Bootstrapping results/experimental_bg2bg2_dH_statistics_cyclic_alcohols.csv\n",
      "Bootstrapping results/bgbg_smirnoff_dH_statistics_aliphatic_carboxylates.csv\n",
      "Bootstrapping results/experimental_bg2bg2_dH_statistics_aliphatic_carboxylates.csv\n",
      "Bootstrapping results/experimental_smirnoff_dH_statistics_aliphatic_carboxylates.csv\n",
      "Bootstrapping results/bg2bg2_smirnoff_by_orientation_dH_statistics_aliphatic_ammoniums.csv\n",
      "Bootstrapping results/bgbg_smirnoff_by_orientation_dH_statistics_aliphatic_ammoniums.csv\n",
      "Bootstrapping results/bgbg_bg2bg2_by_orientation_dH_statistics_aliphatic_ammoniums.csv\n",
      "Bootstrapping results/bg2bg2_smirnoff_by_orientation_dH_statistics_cyclic_alcohols.csv\n",
      "Bootstrapping results/bgbg_smirnoff_by_orientation_dH_statistics_cyclic_alcohols.csv\n",
      "Bootstrapping results/bgbg_bg2bg2_by_orientation_dH_statistics_cyclic_alcohols.csv\n",
      "Bootstrapping results/bg2bg2_smirnoff_by_orientation_dH_statistics_aliphatic_carboxylates.csv\n",
      "Bootstrapping results/bgbg_smirnoff_by_orientation_dH_statistics_aliphatic_carboxylates.csv\n",
      "Bootstrapping results/bgbg_bg2bg2_by_orientation_dH_statistics_aliphatic_carboxylates.csv\n"
     ]
    }
   ],
   "source": [
    "with Pool(12) as p:\n",
    "\n",
    "    p.starmap(\n",
    "        write_statistics,\n",
    "        [\n",
    "            (experimental, smirnoff_combined, \"H\", \"experimental_smirnoff\"),\n",
    "            (experimental, bgbg_combined, \"H\", \"experimental_bgbg\"),\n",
    "            (experimental, bg2bg2_combined, \"H\", \"experimental_bg2bg2\"),\n",
    "            (bgbg_combined, smirnoff_combined, \"H\", \"bgbg_smirnoff\"),\n",
    "            (bg2bg2_combined, smirnoff_combined, \"H\", \"bg2bg2_smirnoff\"),\n",
    "            (bgbg_combined, bg2bg2_combined, \"H\", \"bgbg_bg2bg2\"),\n",
    "            (bgbg, bg2bg2, \"H\", \"bgbg_bg2bg2_by_orientation\"),\n",
    "            (bgbg, smirnoff, \"H\", \"bgbg_smirnoff_by_orientation\"),\n",
    "            (bg2bg2, smirnoff, \"H\", \"bg2bg2_smirnoff_by_orientation\"),\n",
    "        ],\n",
    "    )\n"
   ]
  },
  {
   "cell_type": "markdown",
   "metadata": {},
   "source": [
    "# Entropy"
   ]
  },
  {
   "cell_type": "code",
   "execution_count": 10,
   "metadata": {
    "ExecuteTime": {
     "end_time": "2019-04-04T18:08:16.777332Z",
     "start_time": "2019-04-04T18:08:16.653388Z"
    }
   },
   "outputs": [],
   "source": [
    "bgbg[\"-TdS\"] = bgbg[\"Delta G\"] - bgbg[\"Delta H\"]\n",
    "bgbg[\"-TdS_SEM\"] = np.sqrt(bgbg[\"G_SEM\"]**2 + bgbg[\"H_SEM\"]**2)\n",
    "\n",
    "bg2bg2[\"-TdS\"] = bg2bg2[\"Delta G\"] - bg2bg2[\"Delta H\"]\n",
    "bg2bg2[\"-TdS_SEM\"] = np.sqrt(bg2bg2[\"G_SEM\"]**2 + bg2bg2[\"H_SEM\"]**2)\n",
    "\n",
    "smirnoff[\"-TdS\"] = smirnoff[\"Delta G\"] - smirnoff[\"Delta H\"]\n",
    "smirnoff[\"-TdS_SEM\"] = np.sqrt(smirnoff[\"G_SEM\"]**2 + smirnoff[\"H_SEM\"]**2)\n",
    "\n",
    "\n",
    "smirnoff_combined[\"-TdS\"] = smirnoff_combined[\"Delta G\"] - smirnoff_combined[\"Delta H\"]\n",
    "smirnoff_combined[\"-TdS_SEM\"] = np.sqrt(smirnoff_combined[\"G_SEM\"]**2 + smirnoff_combined[\"H_SEM\"]**2)\n",
    "\n",
    "bgbg_combined[\"-TdS\"] = bgbg_combined[\"Delta G\"] - bgbg_combined[\"Delta H\"]\n",
    "bgbg_combined[\"-TdS_SEM\"] = np.sqrt(bgbg_combined[\"G_SEM\"]**2 + bgbg_combined[\"H_SEM\"]**2)\n",
    "\n",
    "bg2bg2_combined[\"-TdS\"] = bg2bg2_combined[\"Delta G\"] - bg2bg2_combined[\"Delta H\"]\n",
    "bg2bg2_combined[\"-TdS_SEM\"] = np.sqrt(bg2bg2_combined[\"G_SEM\"]**2 + bg2bg2_combined[\"H_SEM\"]**2)\n",
    "\n",
    "experimental[\"-TdS\"] = experimental[\"Delta G\"] - experimental[\"Delta H\"]\n",
    "experimental[\"-TdS_SEM\"] = np.sqrt(experimental[\"G_SEM\"]**2 + experimental[\"H_SEM\"]**2)"
   ]
  },
  {
   "cell_type": "code",
   "execution_count": 11,
   "metadata": {
    "ExecuteTime": {
     "end_time": "2019-04-04T18:08:17.680341Z",
     "start_time": "2019-04-04T18:08:17.642037Z"
    }
   },
   "outputs": [],
   "source": [
    "from summarize_statistics import write_entropy_statistics"
   ]
  },
  {
   "cell_type": "code",
   "execution_count": 12,
   "metadata": {
    "ExecuteTime": {
     "end_time": "2019-04-04T18:37:10.915102Z",
     "start_time": "2019-04-04T18:08:29.254136Z"
    }
   },
   "outputs": [
    {
     "name": "stdout",
     "output_type": "stream",
     "text": [
      "Bootstrapping results/experimental_smirnoff_-TdS_statistics_overall.csv\n",
      "Bootstrapping results/bgbg_smirnoff_-TdS_statistics_overall.csv\n",
      "Bootstrapping results/experimental_bgbg_-TdS_statistics_overall.csv\n",
      "Bootstrapping results/bg2bg2_smirnoff_-TdS_statistics_overall.csv\n",
      "Bootstrapping results/experimental_bg2bg2_-TdS_statistics_overall.csv\n",
      "Bootstrapping results/bgbg_bg2bg2_-TdS_statistics_overall.csv\n",
      "Bootstrapping results/bg2bg2_smirnoff_by_orientation_-TdS_statistics_overall.csv\n",
      "Bootstrapping results/bgbg_smirnoff_by_orientation_-TdS_statistics_overall.csv\n",
      "Bootstrapping results/bgbg_bg2bg2_by_orientation_-TdS_statistics_overall.csv\n",
      "Bootstrapping results/experimental_smirnoff_-TdS_statistics_aliphatic_ammoniums.csv\n",
      "Bootstrapping results/bg2bg2_smirnoff_-TdS_statistics_aliphatic_ammoniums.csv\n",
      "Bootstrapping results/bgbg_smirnoff_-TdS_statistics_aliphatic_ammoniums.csv\n",
      "Bootstrapping results/experimental_smirnoff_-TdS_statistics_cyclic_alcohols.csv\n",
      "Bootstrapping results/bgbg_bg2bg2_-TdS_statistics_aliphatic_ammoniums.csv\n",
      "Bootstrapping results/experimental_bg2bg2_-TdS_statistics_aliphatic_ammoniums.csv\n",
      "Bootstrapping results/bg2bg2_smirnoff_-TdS_statistics_cyclic_alcohols.csv\n",
      "Bootstrapping results/bgbg_smirnoff_-TdS_statistics_cyclic_alcohols.csv\n",
      "Bootstrapping results/experimental_smirnoff_-TdS_statistics_aliphatic_ammoniums.csv\n",
      "Bootstrapping results/experimental_bgbg_-TdS_statistics_aliphatic_ammoniums.csv\n",
      "Bootstrapping results/bg2bg2_smirnoff_-TdS_statistics_aliphatic_ammoniums.csv\n",
      "Bootstrapping results/experimental_bg2bg2_-TdS_statistics_cyclic_alcohols.csv\n",
      "Bootstrapping results/bgbg_bg2bg2_-TdS_statistics_cyclic_alcohols.csv\n",
      "Bootstrapping results/bgbg_smirnoff_-TdS_statistics_aliphatic_ammoniums.csv\n",
      "Bootstrapping results/bgbg_bg2bg2_-TdS_statistics_aliphatic_ammoniums.csv\n",
      "Bootstrapping results/experimental_bg2bg2_-TdS_statistics_aliphatic_ammoniums.csv\n",
      "Bootstrapping results/experimental_bgbg_-TdS_statistics_cyclic_alcohols.csv\n",
      "Bootstrapping results/bg2bg2_smirnoff_by_orientation_-TdS_statistics_aliphatic_ammoniums.csv\n",
      "Bootstrapping results/experimental_bgbg_-TdS_statistics_aliphatic_ammoniums.csv\n",
      "Bootstrapping results/bg2bg2_smirnoff_by_orientation_-TdS_statistics_cyclic_alcohols.csv\n",
      "Bootstrapping results/bgbg_smirnoff_by_orientation_-TdS_statistics_aliphatic_ammoniums.csv\n",
      "Bootstrapping results/bgbg_bg2bg2_by_orientation_-TdS_statistics_aliphatic_ammoniums.csv\n",
      "Bootstrapping results/bg2bg2_smirnoff_by_orientation_-TdS_statistics_aliphatic_ammoniums.csv\n",
      "Bootstrapping results/bgbg_smirnoff_by_orientation_-TdS_statistics_cyclic_alcohols.csv\n",
      "Bootstrapping results/bgbg_bg2bg2_by_orientation_-TdS_statistics_cyclic_alcohols.csv\n",
      "Bootstrapping results/bgbg_smirnoff_by_orientation_-TdS_statistics_aliphatic_ammoniums.csv\n",
      "Bootstrapping results/bgbg_bg2bg2_by_orientation_-TdS_statistics_aliphatic_ammoniums.csv\n"
     ]
    }
   ],
   "source": [
    "with Pool(12) as p:\n",
    "\n",
    "    p.starmap(\n",
    "        write_entropy_statistics,\n",
    "        [\n",
    "            (experimental, smirnoff_combined, \"-TdS\", \"experimental_smirnoff\"),\n",
    "            (experimental, bgbg_combined, \"-TdS\", \"experimental_bgbg\"),\n",
    "            (experimental, bg2bg2_combined, \"-TdS\", \"experimental_bg2bg2\"),\n",
    "            (bgbg_combined, smirnoff_combined, \"-TdS\", \"bgbg_smirnoff\"),\n",
    "            (bg2bg2_combined, smirnoff_combined, \"-TdS\", \"bg2bg2_smirnoff\"),\n",
    "            (bgbg_combined, bg2bg2_combined, \"-TdS\", \"bgbg_bg2bg2\"),\n",
    "            (bgbg, bg2bg2, \"-TdS\", \"bgbg_bg2bg2_by_orientation\"),\n",
    "            (bgbg, smirnoff, \"-TdS\", \"bgbg_smirnoff_by_orientation\"),\n",
    "            (bg2bg2, smirnoff, \"-TdS\", \"bg2bg2_smirnoff_by_orientation\"),\n",
    "        ],\n",
    "    )\n"
   ]
  },
  {
   "cell_type": "code",
   "execution_count": 27,
   "metadata": {
    "ExecuteTime": {
     "end_time": "2019-02-09T21:26:48.393511Z",
     "start_time": "2019-02-09T21:26:48.336979Z"
    }
   },
   "outputs": [],
   "source": [
    "from make_statistics_table import table"
   ]
  },
  {
   "cell_type": "code",
   "execution_count": 28,
   "metadata": {
    "ExecuteTime": {
     "end_time": "2019-02-09T21:25:16.928615Z",
     "start_time": "2019-02-09T21:25:16.852071Z"
    }
   },
   "outputs": [
    {
     "name": "stdout",
     "output_type": "stream",
     "text": [
      "| ΔG | SMIRNOFF99Frosst | 0.91 | [0.71, 1.13] | -0.01 | [-0.29, 0.26] | 0.34 | [0.12, 0.56] | 0.49 | [0.26, 0.72] | -1.55 | [-0.80, -2.29] | \n",
      "| ΔG | GAFF v1.7 | 0.88 | [0.71, 1.08] | 0.46 | [0.23, 0.69] | 0.54 | [0.33, 0.71] | 0.69 | [0.47, 0.91] | -0.47 | [0.22, -1.16] | \n"
     ]
    },
    {
     "ename": "KeyError",
     "evalue": "'ci'",
     "output_type": "error",
     "traceback": [
      "\u001b[0;31m---------------------------------------------------------------------------\u001b[0m",
      "\u001b[0;31mKeyError\u001b[0m                                  Traceback (most recent call last)",
      "\u001b[0;32m~/data/anaconda3/envs/smirnoff-paprika/lib/python3.6/site-packages/pandas/core/indexes/base.py\u001b[0m in \u001b[0;36mget_loc\u001b[0;34m(self, key, method, tolerance)\u001b[0m\n\u001b[1;32m   2656\u001b[0m             \u001b[0;32mtry\u001b[0m\u001b[0;34m:\u001b[0m\u001b[0;34m\u001b[0m\u001b[0m\n\u001b[0;32m-> 2657\u001b[0;31m                 \u001b[0;32mreturn\u001b[0m \u001b[0mself\u001b[0m\u001b[0;34m.\u001b[0m\u001b[0m_engine\u001b[0m\u001b[0;34m.\u001b[0m\u001b[0mget_loc\u001b[0m\u001b[0;34m(\u001b[0m\u001b[0mkey\u001b[0m\u001b[0;34m)\u001b[0m\u001b[0;34m\u001b[0m\u001b[0m\n\u001b[0m\u001b[1;32m   2658\u001b[0m             \u001b[0;32mexcept\u001b[0m \u001b[0mKeyError\u001b[0m\u001b[0;34m:\u001b[0m\u001b[0;34m\u001b[0m\u001b[0m\n",
      "\u001b[0;32mpandas/_libs/index.pyx\u001b[0m in \u001b[0;36mpandas._libs.index.IndexEngine.get_loc\u001b[0;34m()\u001b[0m\n",
      "\u001b[0;32mpandas/_libs/index.pyx\u001b[0m in \u001b[0;36mpandas._libs.index.IndexEngine.get_loc\u001b[0;34m()\u001b[0m\n",
      "\u001b[0;32mpandas/_libs/hashtable_class_helper.pxi\u001b[0m in \u001b[0;36mpandas._libs.hashtable.PyObjectHashTable.get_item\u001b[0;34m()\u001b[0m\n",
      "\u001b[0;32mpandas/_libs/hashtable_class_helper.pxi\u001b[0m in \u001b[0;36mpandas._libs.hashtable.PyObjectHashTable.get_item\u001b[0;34m()\u001b[0m\n",
      "\u001b[0;31mKeyError\u001b[0m: 'ci'",
      "\nDuring handling of the above exception, another exception occurred:\n",
      "\u001b[0;31mKeyError\u001b[0m                                  Traceback (most recent call last)",
      "\u001b[0;32m<ipython-input-28-72aa6eab61c8>\u001b[0m in \u001b[0;36m<module>\u001b[0;34m\u001b[0m\n\u001b[0;32m----> 1\u001b[0;31m \u001b[0mtable\u001b[0m\u001b[0;34m(\u001b[0m\u001b[0mthermodynamic_quantity\u001b[0m\u001b[0;34m=\u001b[0m\u001b[0;34m\"G\"\u001b[0m\u001b[0;34m)\u001b[0m\u001b[0;34m\u001b[0m\u001b[0m\n\u001b[0m",
      "\u001b[0;32m/media/davids4/data-beta/projects/smirnoff-host-guest-simulations-analysis/make_statistics_table.py\u001b[0m in \u001b[0;36mtable\u001b[0;34m(thermodynamic_quantity)\u001b[0m\n\u001b[1;32m     28\u001b[0m \u001b[0;34m\u001b[0m\u001b[0m\n\u001b[1;32m     29\u001b[0m         \u001b[0mrmse\u001b[0m \u001b[0;34m=\u001b[0m \u001b[0mstatistics\u001b[0m\u001b[0;34m[\u001b[0m\u001b[0;34m\"mean\"\u001b[0m\u001b[0;34m]\u001b[0m\u001b[0;34m[\u001b[0m\u001b[0;34m\"RMSE\"\u001b[0m\u001b[0;34m]\u001b[0m\u001b[0;34m\u001b[0m\u001b[0m\n\u001b[0;32m---> 30\u001b[0;31m         \u001b[0mrmse_ci_low\u001b[0m\u001b[0;34m,\u001b[0m \u001b[0mrmse_ci_high\u001b[0m \u001b[0;34m=\u001b[0m \u001b[0mprocess_ci\u001b[0m\u001b[0;34m(\u001b[0m\u001b[0mstatistics\u001b[0m\u001b[0;34m[\u001b[0m\u001b[0;34m\"ci\"\u001b[0m\u001b[0;34m]\u001b[0m\u001b[0;34m[\u001b[0m\u001b[0;34m\"RMSE\"\u001b[0m\u001b[0;34m]\u001b[0m\u001b[0;34m)\u001b[0m\u001b[0;34m\u001b[0m\u001b[0m\n\u001b[0m\u001b[1;32m     31\u001b[0m         \u001b[0mmse\u001b[0m \u001b[0;34m=\u001b[0m \u001b[0mstatistics\u001b[0m\u001b[0;34m[\u001b[0m\u001b[0;34m\"mean\"\u001b[0m\u001b[0;34m]\u001b[0m\u001b[0;34m[\u001b[0m\u001b[0;34m\"MSE\"\u001b[0m\u001b[0;34m]\u001b[0m\u001b[0;34m\u001b[0m\u001b[0m\n\u001b[1;32m     32\u001b[0m         \u001b[0mmse_ci_low\u001b[0m\u001b[0;34m,\u001b[0m \u001b[0mmse_ci_high\u001b[0m \u001b[0;34m=\u001b[0m \u001b[0mprocess_ci\u001b[0m\u001b[0;34m(\u001b[0m\u001b[0mstatistics\u001b[0m\u001b[0;34m[\u001b[0m\u001b[0;34m\"ci\"\u001b[0m\u001b[0;34m]\u001b[0m\u001b[0;34m[\u001b[0m\u001b[0;34m\"MSE\"\u001b[0m\u001b[0;34m]\u001b[0m\u001b[0;34m)\u001b[0m\u001b[0;34m\u001b[0m\u001b[0m\n",
      "\u001b[0;32m~/data/anaconda3/envs/smirnoff-paprika/lib/python3.6/site-packages/pandas/core/frame.py\u001b[0m in \u001b[0;36m__getitem__\u001b[0;34m(self, key)\u001b[0m\n\u001b[1;32m   2925\u001b[0m             \u001b[0;32mif\u001b[0m \u001b[0mself\u001b[0m\u001b[0;34m.\u001b[0m\u001b[0mcolumns\u001b[0m\u001b[0;34m.\u001b[0m\u001b[0mnlevels\u001b[0m \u001b[0;34m>\u001b[0m \u001b[0;36m1\u001b[0m\u001b[0;34m:\u001b[0m\u001b[0;34m\u001b[0m\u001b[0m\n\u001b[1;32m   2926\u001b[0m                 \u001b[0;32mreturn\u001b[0m \u001b[0mself\u001b[0m\u001b[0;34m.\u001b[0m\u001b[0m_getitem_multilevel\u001b[0m\u001b[0;34m(\u001b[0m\u001b[0mkey\u001b[0m\u001b[0;34m)\u001b[0m\u001b[0;34m\u001b[0m\u001b[0m\n\u001b[0;32m-> 2927\u001b[0;31m             \u001b[0mindexer\u001b[0m \u001b[0;34m=\u001b[0m \u001b[0mself\u001b[0m\u001b[0;34m.\u001b[0m\u001b[0mcolumns\u001b[0m\u001b[0;34m.\u001b[0m\u001b[0mget_loc\u001b[0m\u001b[0;34m(\u001b[0m\u001b[0mkey\u001b[0m\u001b[0;34m)\u001b[0m\u001b[0;34m\u001b[0m\u001b[0m\n\u001b[0m\u001b[1;32m   2928\u001b[0m             \u001b[0;32mif\u001b[0m \u001b[0mis_integer\u001b[0m\u001b[0;34m(\u001b[0m\u001b[0mindexer\u001b[0m\u001b[0;34m)\u001b[0m\u001b[0;34m:\u001b[0m\u001b[0;34m\u001b[0m\u001b[0m\n\u001b[1;32m   2929\u001b[0m                 \u001b[0mindexer\u001b[0m \u001b[0;34m=\u001b[0m \u001b[0;34m[\u001b[0m\u001b[0mindexer\u001b[0m\u001b[0;34m]\u001b[0m\u001b[0;34m\u001b[0m\u001b[0m\n",
      "\u001b[0;32m~/data/anaconda3/envs/smirnoff-paprika/lib/python3.6/site-packages/pandas/core/indexes/base.py\u001b[0m in \u001b[0;36mget_loc\u001b[0;34m(self, key, method, tolerance)\u001b[0m\n\u001b[1;32m   2657\u001b[0m                 \u001b[0;32mreturn\u001b[0m \u001b[0mself\u001b[0m\u001b[0;34m.\u001b[0m\u001b[0m_engine\u001b[0m\u001b[0;34m.\u001b[0m\u001b[0mget_loc\u001b[0m\u001b[0;34m(\u001b[0m\u001b[0mkey\u001b[0m\u001b[0;34m)\u001b[0m\u001b[0;34m\u001b[0m\u001b[0m\n\u001b[1;32m   2658\u001b[0m             \u001b[0;32mexcept\u001b[0m \u001b[0mKeyError\u001b[0m\u001b[0;34m:\u001b[0m\u001b[0;34m\u001b[0m\u001b[0m\n\u001b[0;32m-> 2659\u001b[0;31m                 \u001b[0;32mreturn\u001b[0m \u001b[0mself\u001b[0m\u001b[0;34m.\u001b[0m\u001b[0m_engine\u001b[0m\u001b[0;34m.\u001b[0m\u001b[0mget_loc\u001b[0m\u001b[0;34m(\u001b[0m\u001b[0mself\u001b[0m\u001b[0;34m.\u001b[0m\u001b[0m_maybe_cast_indexer\u001b[0m\u001b[0;34m(\u001b[0m\u001b[0mkey\u001b[0m\u001b[0;34m)\u001b[0m\u001b[0;34m)\u001b[0m\u001b[0;34m\u001b[0m\u001b[0m\n\u001b[0m\u001b[1;32m   2660\u001b[0m         \u001b[0mindexer\u001b[0m \u001b[0;34m=\u001b[0m \u001b[0mself\u001b[0m\u001b[0;34m.\u001b[0m\u001b[0mget_indexer\u001b[0m\u001b[0;34m(\u001b[0m\u001b[0;34m[\u001b[0m\u001b[0mkey\u001b[0m\u001b[0;34m]\u001b[0m\u001b[0;34m,\u001b[0m \u001b[0mmethod\u001b[0m\u001b[0;34m=\u001b[0m\u001b[0mmethod\u001b[0m\u001b[0;34m,\u001b[0m \u001b[0mtolerance\u001b[0m\u001b[0;34m=\u001b[0m\u001b[0mtolerance\u001b[0m\u001b[0;34m)\u001b[0m\u001b[0;34m\u001b[0m\u001b[0m\n\u001b[1;32m   2661\u001b[0m         \u001b[0;32mif\u001b[0m \u001b[0mindexer\u001b[0m\u001b[0;34m.\u001b[0m\u001b[0mndim\u001b[0m \u001b[0;34m>\u001b[0m \u001b[0;36m1\u001b[0m \u001b[0;32mor\u001b[0m \u001b[0mindexer\u001b[0m\u001b[0;34m.\u001b[0m\u001b[0msize\u001b[0m \u001b[0;34m>\u001b[0m \u001b[0;36m1\u001b[0m\u001b[0;34m:\u001b[0m\u001b[0;34m\u001b[0m\u001b[0m\n",
      "\u001b[0;32mpandas/_libs/index.pyx\u001b[0m in \u001b[0;36mpandas._libs.index.IndexEngine.get_loc\u001b[0;34m()\u001b[0m\n",
      "\u001b[0;32mpandas/_libs/index.pyx\u001b[0m in \u001b[0;36mpandas._libs.index.IndexEngine.get_loc\u001b[0;34m()\u001b[0m\n",
      "\u001b[0;32mpandas/_libs/hashtable_class_helper.pxi\u001b[0m in \u001b[0;36mpandas._libs.hashtable.PyObjectHashTable.get_item\u001b[0;34m()\u001b[0m\n",
      "\u001b[0;32mpandas/_libs/hashtable_class_helper.pxi\u001b[0m in \u001b[0;36mpandas._libs.hashtable.PyObjectHashTable.get_item\u001b[0;34m()\u001b[0m\n",
      "\u001b[0;31mKeyError\u001b[0m: 'ci'"
     ]
    }
   ],
   "source": [
    "table(thermodynamic_quantity=\"G\")"
   ]
  },
  {
   "cell_type": "code",
   "execution_count": 29,
   "metadata": {
    "ExecuteTime": {
     "end_time": "2019-02-09T21:25:18.062916Z",
     "start_time": "2019-02-09T21:25:17.992743Z"
    }
   },
   "outputs": [
    {
     "name": "stdout",
     "output_type": "stream",
     "text": [
      "| ΔH | SMIRNOFF99Frosst | 1.85 | [1.40, 2.30] | 0.77 | [0.26, 1.28] | 0.44 | [0.21, 0.66] | 0.85 | [0.54, 1.19] | 0.41 | [1.55, -0.50] | \n",
      "| ΔH | GAFF v1.7 | 2.54 | [2.08, 2.99] | 1.84 | [1.31, 2.37] | 0.39 | [0.17, 0.62] | 0.80 | [0.47, 1.18] | 1.36 | [2.66, 0.31] | \n"
     ]
    },
    {
     "ename": "KeyError",
     "evalue": "'ci'",
     "output_type": "error",
     "traceback": [
      "\u001b[0;31m---------------------------------------------------------------------------\u001b[0m",
      "\u001b[0;31mKeyError\u001b[0m                                  Traceback (most recent call last)",
      "\u001b[0;32m~/data/anaconda3/envs/smirnoff-paprika/lib/python3.6/site-packages/pandas/core/indexes/base.py\u001b[0m in \u001b[0;36mget_loc\u001b[0;34m(self, key, method, tolerance)\u001b[0m\n\u001b[1;32m   2656\u001b[0m             \u001b[0;32mtry\u001b[0m\u001b[0;34m:\u001b[0m\u001b[0;34m\u001b[0m\u001b[0m\n\u001b[0;32m-> 2657\u001b[0;31m                 \u001b[0;32mreturn\u001b[0m \u001b[0mself\u001b[0m\u001b[0;34m.\u001b[0m\u001b[0m_engine\u001b[0m\u001b[0;34m.\u001b[0m\u001b[0mget_loc\u001b[0m\u001b[0;34m(\u001b[0m\u001b[0mkey\u001b[0m\u001b[0;34m)\u001b[0m\u001b[0;34m\u001b[0m\u001b[0m\n\u001b[0m\u001b[1;32m   2658\u001b[0m             \u001b[0;32mexcept\u001b[0m \u001b[0mKeyError\u001b[0m\u001b[0;34m:\u001b[0m\u001b[0;34m\u001b[0m\u001b[0m\n",
      "\u001b[0;32mpandas/_libs/index.pyx\u001b[0m in \u001b[0;36mpandas._libs.index.IndexEngine.get_loc\u001b[0;34m()\u001b[0m\n",
      "\u001b[0;32mpandas/_libs/index.pyx\u001b[0m in \u001b[0;36mpandas._libs.index.IndexEngine.get_loc\u001b[0;34m()\u001b[0m\n",
      "\u001b[0;32mpandas/_libs/hashtable_class_helper.pxi\u001b[0m in \u001b[0;36mpandas._libs.hashtable.PyObjectHashTable.get_item\u001b[0;34m()\u001b[0m\n",
      "\u001b[0;32mpandas/_libs/hashtable_class_helper.pxi\u001b[0m in \u001b[0;36mpandas._libs.hashtable.PyObjectHashTable.get_item\u001b[0;34m()\u001b[0m\n",
      "\u001b[0;31mKeyError\u001b[0m: 'ci'",
      "\nDuring handling of the above exception, another exception occurred:\n",
      "\u001b[0;31mKeyError\u001b[0m                                  Traceback (most recent call last)",
      "\u001b[0;32m<ipython-input-29-19fe52feaabe>\u001b[0m in \u001b[0;36m<module>\u001b[0;34m\u001b[0m\n\u001b[0;32m----> 1\u001b[0;31m \u001b[0mtable\u001b[0m\u001b[0;34m(\u001b[0m\u001b[0mthermodynamic_quantity\u001b[0m\u001b[0;34m=\u001b[0m\u001b[0;34m\"H\"\u001b[0m\u001b[0;34m)\u001b[0m\u001b[0;34m\u001b[0m\u001b[0m\n\u001b[0m",
      "\u001b[0;32m/media/davids4/data-beta/projects/smirnoff-host-guest-simulations-analysis/make_statistics_table.py\u001b[0m in \u001b[0;36mtable\u001b[0;34m(thermodynamic_quantity)\u001b[0m\n\u001b[1;32m     28\u001b[0m \u001b[0;34m\u001b[0m\u001b[0m\n\u001b[1;32m     29\u001b[0m         \u001b[0mrmse\u001b[0m \u001b[0;34m=\u001b[0m \u001b[0mstatistics\u001b[0m\u001b[0;34m[\u001b[0m\u001b[0;34m\"mean\"\u001b[0m\u001b[0;34m]\u001b[0m\u001b[0;34m[\u001b[0m\u001b[0;34m\"RMSE\"\u001b[0m\u001b[0;34m]\u001b[0m\u001b[0;34m\u001b[0m\u001b[0m\n\u001b[0;32m---> 30\u001b[0;31m         \u001b[0mrmse_ci_low\u001b[0m\u001b[0;34m,\u001b[0m \u001b[0mrmse_ci_high\u001b[0m \u001b[0;34m=\u001b[0m \u001b[0mprocess_ci\u001b[0m\u001b[0;34m(\u001b[0m\u001b[0mstatistics\u001b[0m\u001b[0;34m[\u001b[0m\u001b[0;34m\"ci\"\u001b[0m\u001b[0;34m]\u001b[0m\u001b[0;34m[\u001b[0m\u001b[0;34m\"RMSE\"\u001b[0m\u001b[0;34m]\u001b[0m\u001b[0;34m)\u001b[0m\u001b[0;34m\u001b[0m\u001b[0m\n\u001b[0m\u001b[1;32m     31\u001b[0m         \u001b[0mmse\u001b[0m \u001b[0;34m=\u001b[0m \u001b[0mstatistics\u001b[0m\u001b[0;34m[\u001b[0m\u001b[0;34m\"mean\"\u001b[0m\u001b[0;34m]\u001b[0m\u001b[0;34m[\u001b[0m\u001b[0;34m\"MSE\"\u001b[0m\u001b[0;34m]\u001b[0m\u001b[0;34m\u001b[0m\u001b[0m\n\u001b[1;32m     32\u001b[0m         \u001b[0mmse_ci_low\u001b[0m\u001b[0;34m,\u001b[0m \u001b[0mmse_ci_high\u001b[0m \u001b[0;34m=\u001b[0m \u001b[0mprocess_ci\u001b[0m\u001b[0;34m(\u001b[0m\u001b[0mstatistics\u001b[0m\u001b[0;34m[\u001b[0m\u001b[0;34m\"ci\"\u001b[0m\u001b[0;34m]\u001b[0m\u001b[0;34m[\u001b[0m\u001b[0;34m\"MSE\"\u001b[0m\u001b[0;34m]\u001b[0m\u001b[0;34m)\u001b[0m\u001b[0;34m\u001b[0m\u001b[0m\n",
      "\u001b[0;32m~/data/anaconda3/envs/smirnoff-paprika/lib/python3.6/site-packages/pandas/core/frame.py\u001b[0m in \u001b[0;36m__getitem__\u001b[0;34m(self, key)\u001b[0m\n\u001b[1;32m   2925\u001b[0m             \u001b[0;32mif\u001b[0m \u001b[0mself\u001b[0m\u001b[0;34m.\u001b[0m\u001b[0mcolumns\u001b[0m\u001b[0;34m.\u001b[0m\u001b[0mnlevels\u001b[0m \u001b[0;34m>\u001b[0m \u001b[0;36m1\u001b[0m\u001b[0;34m:\u001b[0m\u001b[0;34m\u001b[0m\u001b[0m\n\u001b[1;32m   2926\u001b[0m                 \u001b[0;32mreturn\u001b[0m \u001b[0mself\u001b[0m\u001b[0;34m.\u001b[0m\u001b[0m_getitem_multilevel\u001b[0m\u001b[0;34m(\u001b[0m\u001b[0mkey\u001b[0m\u001b[0;34m)\u001b[0m\u001b[0;34m\u001b[0m\u001b[0m\n\u001b[0;32m-> 2927\u001b[0;31m             \u001b[0mindexer\u001b[0m \u001b[0;34m=\u001b[0m \u001b[0mself\u001b[0m\u001b[0;34m.\u001b[0m\u001b[0mcolumns\u001b[0m\u001b[0;34m.\u001b[0m\u001b[0mget_loc\u001b[0m\u001b[0;34m(\u001b[0m\u001b[0mkey\u001b[0m\u001b[0;34m)\u001b[0m\u001b[0;34m\u001b[0m\u001b[0m\n\u001b[0m\u001b[1;32m   2928\u001b[0m             \u001b[0;32mif\u001b[0m \u001b[0mis_integer\u001b[0m\u001b[0;34m(\u001b[0m\u001b[0mindexer\u001b[0m\u001b[0;34m)\u001b[0m\u001b[0;34m:\u001b[0m\u001b[0;34m\u001b[0m\u001b[0m\n\u001b[1;32m   2929\u001b[0m                 \u001b[0mindexer\u001b[0m \u001b[0;34m=\u001b[0m \u001b[0;34m[\u001b[0m\u001b[0mindexer\u001b[0m\u001b[0;34m]\u001b[0m\u001b[0;34m\u001b[0m\u001b[0m\n",
      "\u001b[0;32m~/data/anaconda3/envs/smirnoff-paprika/lib/python3.6/site-packages/pandas/core/indexes/base.py\u001b[0m in \u001b[0;36mget_loc\u001b[0;34m(self, key, method, tolerance)\u001b[0m\n\u001b[1;32m   2657\u001b[0m                 \u001b[0;32mreturn\u001b[0m \u001b[0mself\u001b[0m\u001b[0;34m.\u001b[0m\u001b[0m_engine\u001b[0m\u001b[0;34m.\u001b[0m\u001b[0mget_loc\u001b[0m\u001b[0;34m(\u001b[0m\u001b[0mkey\u001b[0m\u001b[0;34m)\u001b[0m\u001b[0;34m\u001b[0m\u001b[0m\n\u001b[1;32m   2658\u001b[0m             \u001b[0;32mexcept\u001b[0m \u001b[0mKeyError\u001b[0m\u001b[0;34m:\u001b[0m\u001b[0;34m\u001b[0m\u001b[0m\n\u001b[0;32m-> 2659\u001b[0;31m                 \u001b[0;32mreturn\u001b[0m \u001b[0mself\u001b[0m\u001b[0;34m.\u001b[0m\u001b[0m_engine\u001b[0m\u001b[0;34m.\u001b[0m\u001b[0mget_loc\u001b[0m\u001b[0;34m(\u001b[0m\u001b[0mself\u001b[0m\u001b[0;34m.\u001b[0m\u001b[0m_maybe_cast_indexer\u001b[0m\u001b[0;34m(\u001b[0m\u001b[0mkey\u001b[0m\u001b[0;34m)\u001b[0m\u001b[0;34m)\u001b[0m\u001b[0;34m\u001b[0m\u001b[0m\n\u001b[0m\u001b[1;32m   2660\u001b[0m         \u001b[0mindexer\u001b[0m \u001b[0;34m=\u001b[0m \u001b[0mself\u001b[0m\u001b[0;34m.\u001b[0m\u001b[0mget_indexer\u001b[0m\u001b[0;34m(\u001b[0m\u001b[0;34m[\u001b[0m\u001b[0mkey\u001b[0m\u001b[0;34m]\u001b[0m\u001b[0;34m,\u001b[0m \u001b[0mmethod\u001b[0m\u001b[0;34m=\u001b[0m\u001b[0mmethod\u001b[0m\u001b[0;34m,\u001b[0m \u001b[0mtolerance\u001b[0m\u001b[0;34m=\u001b[0m\u001b[0mtolerance\u001b[0m\u001b[0;34m)\u001b[0m\u001b[0;34m\u001b[0m\u001b[0m\n\u001b[1;32m   2661\u001b[0m         \u001b[0;32mif\u001b[0m \u001b[0mindexer\u001b[0m\u001b[0;34m.\u001b[0m\u001b[0mndim\u001b[0m \u001b[0;34m>\u001b[0m \u001b[0;36m1\u001b[0m \u001b[0;32mor\u001b[0m \u001b[0mindexer\u001b[0m\u001b[0;34m.\u001b[0m\u001b[0msize\u001b[0m \u001b[0;34m>\u001b[0m \u001b[0;36m1\u001b[0m\u001b[0;34m:\u001b[0m\u001b[0;34m\u001b[0m\u001b[0m\n",
      "\u001b[0;32mpandas/_libs/index.pyx\u001b[0m in \u001b[0;36mpandas._libs.index.IndexEngine.get_loc\u001b[0;34m()\u001b[0m\n",
      "\u001b[0;32mpandas/_libs/index.pyx\u001b[0m in \u001b[0;36mpandas._libs.index.IndexEngine.get_loc\u001b[0;34m()\u001b[0m\n",
      "\u001b[0;32mpandas/_libs/hashtable_class_helper.pxi\u001b[0m in \u001b[0;36mpandas._libs.hashtable.PyObjectHashTable.get_item\u001b[0;34m()\u001b[0m\n",
      "\u001b[0;32mpandas/_libs/hashtable_class_helper.pxi\u001b[0m in \u001b[0;36mpandas._libs.hashtable.PyObjectHashTable.get_item\u001b[0;34m()\u001b[0m\n",
      "\u001b[0;31mKeyError\u001b[0m: 'ci'"
     ]
    }
   ],
   "source": [
    "table(thermodynamic_quantity=\"H\")"
   ]
  },
  {
   "cell_type": "code",
   "execution_count": null,
   "metadata": {
    "ExecuteTime": {
     "end_time": "2019-02-09T21:26:51.774759Z",
     "start_time": "2019-02-09T21:26:51.703154Z"
    }
   },
   "outputs": [],
   "source": [
    "entropy_table(thermodynamic_quantity=\"-TdS\")"
   ]
  },
  {
   "cell_type": "code",
   "execution_count": null,
   "metadata": {
    "ExecuteTime": {
     "end_time": "2019-02-09T21:44:55.708697Z",
     "start_time": "2019-02-09T21:44:55.637930Z"
    }
   },
   "outputs": [],
   "source": [
    "df = pd.merge(experimental, smirnoff_combined, on=[\"System\"], \n",
    "              suffixes=).merge(bgbg_combined, on=[\"System\"])   \n"
   ]
  },
  {
   "cell_type": "code",
   "execution_count": null,
   "metadata": {
    "ExecuteTime": {
     "end_time": "2019-02-09T21:57:35.073035Z",
     "start_time": "2019-02-09T21:57:34.996453Z"
    }
   },
   "outputs": [],
   "source": [
    "experimental = experimental.sort_values(by=\"System\").reset_index(drop=True)\n",
    "smirnoff_combined = smirnoff_combined.sort_values(by=\"System\").reset_index(drop=True)\n",
    "bgbg_combined = bgbg_combined.sort_values(by=\"System\").reset_index(drop=True)\n",
    "bg2bg2_combined = bg2bg2_combined.sort_values(by=\"System\").reset_index(drop=True)\n",
    "\n",
    "experimental = experimental.add_suffix('_experimental')\n",
    "smirnoff_combined = smirnoff_combined.add_suffix('_smirnoff')\n",
    "bgbg_combined = bgbg_combined.add_suffix('_bgbg')\n",
    "bg2bg2_combined = bg2bg2_combined.add_suffix('_bg2bg2')\n"
   ]
  },
  {
   "cell_type": "code",
   "execution_count": null,
   "metadata": {
    "ExecuteTime": {
     "end_time": "2019-02-09T21:57:47.062305Z",
     "start_time": "2019-02-09T21:57:46.993824Z"
    }
   },
   "outputs": [],
   "source": [
    "experimental.tail()"
   ]
  },
  {
   "cell_type": "code",
   "execution_count": null,
   "metadata": {
    "ExecuteTime": {
     "end_time": "2019-02-09T21:57:40.229874Z",
     "start_time": "2019-02-09T21:57:40.160480Z"
    }
   },
   "outputs": [],
   "source": [
    "bg2bg2_combined.tail()"
   ]
  },
  {
   "cell_type": "code",
   "execution_count": null,
   "metadata": {
    "ExecuteTime": {
     "end_time": "2019-02-09T21:57:51.445736Z",
     "start_time": "2019-02-09T21:57:51.394792Z"
    }
   },
   "outputs": [],
   "source": [
    "data = [experimental, smirnoff_combined, bgbg_combined, bg2bg2_combined]\n",
    "df = data[0].join(data[1:])"
   ]
  },
  {
   "cell_type": "code",
   "execution_count": null,
   "metadata": {
    "ExecuteTime": {
     "end_time": "2019-02-09T21:59:15.672044Z",
     "start_time": "2019-02-09T21:59:15.567747Z"
    }
   },
   "outputs": [],
   "source": [
    "df[[\"System_experimental\",\n",
    "   \"Delta G_experimental\",\n",
    "   \"G_SEM_experimental\",\n",
    "   \"Delta G_smirnoff\",\n",
    "   \"G_SEM_smirnoff\",\n",
    "   \"Delta G_bgbg\",\n",
    "   \"G_SEM_bgbg\",\n",
    "   \"Delta G_bg2bg2\",\n",
    "   \"G_SEM_bg2bg2\"]]"
   ]
  },
  {
   "cell_type": "code",
   "execution_count": null,
   "metadata": {
    "ExecuteTime": {
     "end_time": "2019-02-09T22:04:15.513975Z",
     "start_time": "2019-02-09T22:04:15.409847Z"
    }
   },
   "outputs": [],
   "source": [
    "df[[\"System_experimental\",\n",
    "   \"Delta H_experimental\",\n",
    "   \"H_SEM_experimental\",\n",
    "   \"Delta H_smirnoff\",\n",
    "   \"H_SEM_smirnoff\",\n",
    "   \"Delta H_bgbg\",\n",
    "   \"H_SEM_bgbg\",\n",
    "   \"Delta H_bg2bg2\",\n",
    "   \"H_SEM_bg2bg2\"]]"
   ]
  },
  {
   "cell_type": "code",
   "execution_count": null,
   "metadata": {
    "ExecuteTime": {
     "end_time": "2019-02-09T22:05:25.916754Z",
     "start_time": "2019-02-09T22:05:25.812789Z"
    }
   },
   "outputs": [],
   "source": [
    "df[[\"System_experimental\",\n",
    "   \"-TdS_experimental\",\n",
    "   \"-TdS_SEM_experimental\",\n",
    "   \"-TdS_smirnoff\",\n",
    "   \"-TdS_SEM_smirnoff\",\n",
    "   \"-TdS_bgbg\",\n",
    "   \"-TdS_SEM_bgbg\",\n",
    "   \"-TdS_bg2bg2\",\n",
    "   \"-TdS_SEM_bg2bg2\"]]"
   ]
  }
 ],
 "metadata": {
  "kernelspec": {
   "display_name": "Python 3",
   "language": "python",
   "name": "python3"
  },
  "language_info": {
   "codemirror_mode": {
    "name": "ipython",
    "version": 3
   },
   "file_extension": ".py",
   "mimetype": "text/x-python",
   "name": "python",
   "nbconvert_exporter": "python",
   "pygments_lexer": "ipython3",
   "version": "3.7.3"
  }
 },
 "nbformat": 4,
 "nbformat_minor": 2
}
