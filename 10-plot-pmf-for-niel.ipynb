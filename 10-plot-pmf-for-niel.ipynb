{
 "cells": [
  {
   "cell_type": "code",
   "execution_count": 1,
   "metadata": {
    "ExecuteTime": {
     "end_time": "2018-10-31T19:43:44.809584Z",
     "start_time": "2018-10-31T19:43:43.677428Z"
    }
   },
   "outputs": [
    {
     "name": "stderr",
     "output_type": "stream",
     "text": [
      "/home/dslochower/data/applications/anaconda3/lib/python3.6/importlib/_bootstrap.py:219: RuntimeWarning: numpy.dtype size changed, may indicate binary incompatibility. Expected 96, got 88\n",
      "  return f(*args, **kwds)\n",
      "/home/dslochower/data/applications/anaconda3/lib/python3.6/importlib/_bootstrap.py:219: RuntimeWarning: numpy.dtype size changed, may indicate binary incompatibility. Expected 96, got 88\n",
      "  return f(*args, **kwds)\n"
     ]
    }
   ],
   "source": [
    "import parmed as pmd\n",
    "import numpy as np\n",
    "import os\n",
    "\n",
    "\n",
    "import matplotlib as mpl\n",
    "import matplotlib.pyplot as plt\n",
    "from matplotlib.gridspec import GridSpec\n",
    "from matplotlib.colors import colorConverter\n",
    "import seaborn as sns\n",
    "\n",
    "%load_ext autoreload\n",
    "%autoreload 2\n",
    "%load_ext blackcellmagic\n",
    "%matplotlib inline"
   ]
  },
  {
   "cell_type": "code",
   "execution_count": 2,
   "metadata": {
    "ExecuteTime": {
     "end_time": "2018-10-31T19:43:50.064761Z",
     "start_time": "2018-10-31T19:43:50.015517Z"
    }
   },
   "outputs": [],
   "source": [
    "import plotting"
   ]
  },
  {
   "cell_type": "code",
   "execution_count": 5,
   "metadata": {
    "ExecuteTime": {
     "end_time": "2018-10-31T19:44:37.166414Z",
     "start_time": "2018-10-31T19:44:37.124817Z"
    }
   },
   "outputs": [],
   "source": [
    "lambd, attach, attach_sem = np.genfromtxt(\"/home/dslochower/kirkwood-niel/projects/partially-charged-ions/K-Cl_Simple/t300/data/int-a.100.dat\",\n",
    "                                         unpack=True)"
   ]
  },
  {
   "cell_type": "code",
   "execution_count": 19,
   "metadata": {
    "ExecuteTime": {
     "end_time": "2018-10-31T19:48:31.144661Z",
     "start_time": "2018-10-31T19:48:31.089963Z"
    }
   },
   "outputs": [],
   "source": [
    "dist, pull, pull_sem = np.genfromtxt(\"/home/dslochower/kirkwood-niel/projects/partially-charged-ions/K-Cl_Simple/t300/data/int-u.100.dat\",\n",
    "                                         unpack=True)"
   ]
  },
  {
   "cell_type": "code",
   "execution_count": 52,
   "metadata": {
    "ExecuteTime": {
     "end_time": "2018-10-31T20:10:13.611583Z",
     "start_time": "2018-10-31T20:10:13.561400Z"
    }
   },
   "outputs": [],
   "source": [
    "analytic = 0.078"
   ]
  },
  {
   "cell_type": "code",
   "execution_count": 21,
   "metadata": {
    "ExecuteTime": {
     "end_time": "2018-10-31T19:48:38.631203Z",
     "start_time": "2018-10-31T19:48:38.244812Z"
    }
   },
   "outputs": [
    {
     "ename": "ValueError",
     "evalue": "err must be [ scalar | N, Nx1 or 2xN array-like ]",
     "output_type": "error",
     "traceback": [
      "\u001b[0;31m---------------------------------------------------------------------------\u001b[0m",
      "\u001b[0;31mValueError\u001b[0m                                Traceback (most recent call last)",
      "\u001b[0;32m<ipython-input-21-467a2fbe7a98>\u001b[0m in \u001b[0;36m<module>\u001b[0;34m()\u001b[0m\n\u001b[1;32m     38\u001b[0m     \u001b[0mmarkeredgewidth\u001b[0m\u001b[0;34m=\u001b[0m\u001b[0;36m0.2\u001b[0m\u001b[0;34m,\u001b[0m\u001b[0;34m\u001b[0m\u001b[0m\n\u001b[1;32m     39\u001b[0m     \u001b[0melinewidth\u001b[0m\u001b[0;34m=\u001b[0m\u001b[0;36m1.0\u001b[0m\u001b[0;34m,\u001b[0m\u001b[0;34m\u001b[0m\u001b[0m\n\u001b[0;32m---> 40\u001b[0;31m     \u001b[0mecolor\u001b[0m\u001b[0;34m=\u001b[0m\u001b[0;34m\"0.5\"\u001b[0m\u001b[0;34m,\u001b[0m\u001b[0;34m\u001b[0m\u001b[0m\n\u001b[0m\u001b[1;32m     41\u001b[0m )\n\u001b[1;32m     42\u001b[0m \u001b[0;34m\u001b[0m\u001b[0m\n",
      "\u001b[0;32m~/data/applications/anaconda3/lib/python3.6/site-packages/matplotlib/__init__.py\u001b[0m in \u001b[0;36minner\u001b[0;34m(ax, *args, **kwargs)\u001b[0m\n\u001b[1;32m   1715\u001b[0m                     warnings.warn(msg % (label_namer, func.__name__),\n\u001b[1;32m   1716\u001b[0m                                   RuntimeWarning, stacklevel=2)\n\u001b[0;32m-> 1717\u001b[0;31m             \u001b[0;32mreturn\u001b[0m \u001b[0mfunc\u001b[0m\u001b[0;34m(\u001b[0m\u001b[0max\u001b[0m\u001b[0;34m,\u001b[0m \u001b[0;34m*\u001b[0m\u001b[0margs\u001b[0m\u001b[0;34m,\u001b[0m \u001b[0;34m**\u001b[0m\u001b[0mkwargs\u001b[0m\u001b[0;34m)\u001b[0m\u001b[0;34m\u001b[0m\u001b[0m\n\u001b[0m\u001b[1;32m   1718\u001b[0m         \u001b[0mpre_doc\u001b[0m \u001b[0;34m=\u001b[0m \u001b[0minner\u001b[0m\u001b[0;34m.\u001b[0m\u001b[0m__doc__\u001b[0m\u001b[0;34m\u001b[0m\u001b[0m\n\u001b[1;32m   1719\u001b[0m         \u001b[0;32mif\u001b[0m \u001b[0mpre_doc\u001b[0m \u001b[0;32mis\u001b[0m \u001b[0;32mNone\u001b[0m\u001b[0;34m:\u001b[0m\u001b[0;34m\u001b[0m\u001b[0m\n",
      "\u001b[0;32m~/data/applications/anaconda3/lib/python3.6/site-packages/matplotlib/axes/_axes.py\u001b[0m in \u001b[0;36merrorbar\u001b[0;34m(self, x, y, yerr, xerr, fmt, ecolor, elinewidth, capsize, barsabove, lolims, uplims, xlolims, xuplims, errorevery, capthick, **kwargs)\u001b[0m\n\u001b[1;32m   3018\u001b[0m \u001b[0;34m\u001b[0m\u001b[0m\n\u001b[1;32m   3019\u001b[0m         \u001b[0;32mif\u001b[0m \u001b[0myerr\u001b[0m \u001b[0;32mis\u001b[0m \u001b[0;32mnot\u001b[0m \u001b[0;32mNone\u001b[0m\u001b[0;34m:\u001b[0m\u001b[0;34m\u001b[0m\u001b[0m\n\u001b[0;32m-> 3020\u001b[0;31m             \u001b[0mlower\u001b[0m\u001b[0;34m,\u001b[0m \u001b[0mupper\u001b[0m \u001b[0;34m=\u001b[0m \u001b[0mextract_err\u001b[0m\u001b[0;34m(\u001b[0m\u001b[0myerr\u001b[0m\u001b[0;34m,\u001b[0m \u001b[0my\u001b[0m\u001b[0;34m)\u001b[0m\u001b[0;34m\u001b[0m\u001b[0m\n\u001b[0m\u001b[1;32m   3021\u001b[0m             \u001b[0;31m# select points without upper/lower limits in y and\u001b[0m\u001b[0;34m\u001b[0m\u001b[0;34m\u001b[0m\u001b[0m\n\u001b[1;32m   3022\u001b[0m             \u001b[0;31m# draw normal errorbars for these points\u001b[0m\u001b[0;34m\u001b[0m\u001b[0;34m\u001b[0m\u001b[0m\n",
      "\u001b[0;32m~/data/applications/anaconda3/lib/python3.6/site-packages/matplotlib/axes/_axes.py\u001b[0m in \u001b[0;36mextract_err\u001b[0;34m(err, data)\u001b[0m\n\u001b[1;32m   2959\u001b[0m                 \u001b[0mfe\u001b[0m \u001b[0;34m=\u001b[0m \u001b[0msafe_first_element\u001b[0m\u001b[0;34m(\u001b[0m\u001b[0merr\u001b[0m\u001b[0;34m)\u001b[0m\u001b[0;34m\u001b[0m\u001b[0m\n\u001b[1;32m   2960\u001b[0m                 \u001b[0;32mif\u001b[0m \u001b[0;34m(\u001b[0m\u001b[0mlen\u001b[0m\u001b[0;34m(\u001b[0m\u001b[0merr\u001b[0m\u001b[0;34m)\u001b[0m \u001b[0;34m!=\u001b[0m \u001b[0mlen\u001b[0m\u001b[0;34m(\u001b[0m\u001b[0mdata\u001b[0m\u001b[0;34m)\u001b[0m \u001b[0;32mor\u001b[0m \u001b[0mnp\u001b[0m\u001b[0;34m.\u001b[0m\u001b[0msize\u001b[0m\u001b[0;34m(\u001b[0m\u001b[0mfe\u001b[0m\u001b[0;34m)\u001b[0m \u001b[0;34m>\u001b[0m \u001b[0;36m1\u001b[0m\u001b[0;34m)\u001b[0m\u001b[0;34m:\u001b[0m\u001b[0;34m\u001b[0m\u001b[0m\n\u001b[0;32m-> 2961\u001b[0;31m                     raise ValueError(\"err must be [ scalar | N, Nx1 \"\n\u001b[0m\u001b[1;32m   2962\u001b[0m                                      \"or 2xN array-like ]\")\n\u001b[1;32m   2963\u001b[0m             \u001b[0;31m# using list comps rather than arrays to preserve units\u001b[0m\u001b[0;34m\u001b[0m\u001b[0;34m\u001b[0m\u001b[0m\n",
      "\u001b[0;31mValueError\u001b[0m: err must be [ scalar | N, Nx1 or 2xN array-like ]"
     ]
    },
    {
     "data": {
      "image/png": "[encoded data removed]",
      "text/plain": [
       "<matplotlib.figure.Figure at 0x7f676e9922b0>"
      ]
     },
     "metadata": {},
     "output_type": "display_data"
    }
   ],
   "source": [
    "fig, ax = plt.subplots(1, figsize=(6 * 1.2, 6))\n",
    "\n",
    "ax.errorbar(\n",
    "    lambd,\n",
    "    attach,\n",
    "    yerr=attach_sem,\n",
    "    fmt=\"o\",\n",
    "    ls=\"-\",\n",
    "    markersize=8,\n",
    "    markeredgecolor=\"k\",\n",
    "    markeredgewidth=0.2,\n",
    "    elinewidth=1.0,\n",
    "    ecolor=\"0.5\",\n",
    "    color=\"r\",\n",
    ")\n",
    "\n",
    "ax.errorbar(\n",
    "    dist,\n",
    "    pull,\n",
    "    yerr=pull_sem,\n",
    "    fmt=\"o\",\n",
    "    ls=\"-\",\n",
    "    markersize=8,\n",
    "    markeredgecolor=\"k\",\n",
    "    markeredgewidth=0.2,\n",
    "    elinewidth=1.0,\n",
    "    ecolor=\"0.5\",\n",
    ")\n",
    "\n",
    "# ax.errorbar(\n",
    "#     dist,\n",
    "#     pull[-1] - analytic,\n",
    "#     yerr=pull_sem,\n",
    "#     fmt=\"o\",\n",
    "#     ls=\"-\",\n",
    "#     markersize=8,\n",
    "#     markeredgecolor=\"k\",\n",
    "#     markeredgewidth=0.2,\n",
    "#     elinewidth=1.0,\n",
    "#     ecolor=\"0.5\",\n",
    "# )\n",
    "\n",
    "ax.set_xlabel(r\"$\\lambda$ or distance (\\AA)\")\n",
    "ax.set_ylabel(\"Work (kcal/mol)\")"
   ]
  },
  {
   "cell_type": "code",
   "execution_count": 61,
   "metadata": {
    "ExecuteTime": {
     "end_time": "2018-10-31T20:13:05.987330Z",
     "start_time": "2018-10-31T20:13:05.594567Z"
    }
   },
   "outputs": [],
   "source": [
    "def plot_pmf(attach, pull, release=None, release_to_std=None,\n",
    "         attach_sem=None, pull_sem=None, release_SEM=None,\n",
    "         attach_lambda=None, pull_initial=None, pull_final=None, release_lambda=None,\n",
    "        title=None):\n",
    "\n",
    "    fig = plt.figure(figsize=(6 * 1.2, 6))\n",
    "    gs = GridSpec(1, 1, wspace=0.2, hspace=0.5)\n",
    "    ax1 = plt.subplot(gs[0, 0])\n",
    "    \n",
    "    attach = np.asarray(attach)\n",
    "    pull = np.asarray(pull)\n",
    "    if release:\n",
    "        release = np.asarray(release)\n",
    "\n",
    "    attach_range = np.arange(len(attach))\n",
    "    pull_range = np.arange(attach_range[-1], attach_range[-1] + len(pull))\n",
    "    \n",
    "    if release:\n",
    "        release_range = np.arange(pull_range[-1], pull_range[-1] + len(release))\n",
    "        analytic_range = [release_range[-1], release_range[-1]]\n",
    "    else:\n",
    "        analytic_range = [pull_range[-1], pull_range[-1]]\n",
    "        \n",
    "    if release:\n",
    "        final_fe = attach[-1] + pull[-1] + release[-1] + release_to_std\n",
    "        final_sem = np.sqrt(attach_sem[-1]**2 + pull_sem[-1]**2 + release_SEM[-1]**2)\n",
    "    else:\n",
    "        final_fe = attach[-1] + pull[-1] + release_to_std\n",
    "\n",
    "        final_sem = np.sqrt(attach_sem[-1]**2 + pull_sem[-1]**2)\n",
    "\n",
    "\n",
    "    ax1.errorbar(attach_range, attach, yerr=attach_sem, marker=\"o\",\n",
    "                 ms=8, markeredgecolor='k', markeredgewidth=1, lw=3,\n",
    "                label=\"Attach\")\n",
    "    ax1.errorbar(pull_range, attach[-1] + pull, yerr=pull_sem, marker=\"o\", ms=8,\n",
    "                 markeredgecolor='k', markeredgewidth=1, lw=3,\n",
    "                label=\"Pull\")\n",
    "\n",
    "    if release:\n",
    "        ax1.errorbar(release_range, attach[-1] + pull[-1] + -1 * release, yerr=release_SEM,\n",
    "                     marker=\"o\", ms=8, markeredgecolor='k', markeredgewidth=1, lw=3,\n",
    "                    label=\"Release\")\n",
    "        ax1.errorbar(analytic_range, [attach[-1] + pull[-1] + -1 * release[-1], final_fe],\n",
    "                     yerr=[release_SEM[-1], release_SEM[-1]],\n",
    "                    label=\"Analytic\")\n",
    "\n",
    "        ax1.scatter(release_range[-1], final_fe, c='w', edgecolor='k', lw=2, s=80, zorder=10)\n",
    "        ax1.annotate(r'${0:2.2f} \\pm {1:2.2f}$'.format(final_fe, final_sem), \n",
    "                     xy=(release_range[-1] + 2, final_fe), xycoords='data')\n",
    "        \n",
    "        ax1.set_xticks([0, len(attach) - 1, \n",
    "                len(attach) - 1, len(attach) - 1 + len(pull) - 1,\n",
    "                len(attach) - 1 + len(pull) - 1,  len(attach) - 1 + len(pull) - 1 + len(release) - 1])\n",
    "        \n",
    "        ax1.set_xticklabels([0, 1, pull_initial, pull_final, 0, 1])\n",
    "        va = [ 0, 0, -0.05, -0.05, 0, 0]\n",
    "        for t, y in zip( ax1.get_xticklabels( ), va ):\n",
    "            t.set_y( y )\n",
    "\n",
    "        \n",
    "    else:\n",
    "        ax1.errorbar(analytic_range, [attach[-1] + pull[-1], final_fe],\n",
    "                     yerr=[pull_sem[-1], pull_sem[-1]],\n",
    "                    label=\"Analytic\")\n",
    "\n",
    "        ax1.scatter(pull_range[-1], final_fe, c='w', edgecolor='k', lw=2, s=80, zorder=10)\n",
    "        ax1.annotate(r'${0:2.2f} \\pm {1:2.2f}$'.format(final_fe, final_sem), \n",
    "                     xy=(pull_range[-1] + 2, final_fe), xycoords='data')\n",
    "        \n",
    "        ax1.set_xticks([0, len(attach) - 1, \n",
    "                len(attach) - 1, len(attach) - 1 + len(pull) - 1,\n",
    "                ])\n",
    "        \n",
    "        ax1.set_xticklabels([0, 1, pull_initial, pull_final])\n",
    "        va = [ 0, 0, -0.05, -0.05]\n",
    "        for t, y in zip( ax1.get_xticklabels( ), va ):\n",
    "            t.set_y( y )\n",
    "\n",
    "    \n",
    "    ax1.legend()\n",
    "    ax1.grid()\n",
    "    ax1.set_xlabel(r'$\\lambda$ or distance')\n",
    "    ax1.set_ylabel('Work (kcal/mol)')"
   ]
  },
  {
   "cell_type": "code",
   "execution_count": 64,
   "metadata": {
    "ExecuteTime": {
     "end_time": "2018-10-31T20:13:23.164736Z",
     "start_time": "2018-10-31T20:13:22.763279Z"
    }
   },
   "outputs": [
    {
     "data": {
      "image/png": "[encoded data removed]",
      "text/plain": [
       "<matplotlib.figure.Figure at 0x7f676e98ecf8>"
      ]
     },
     "metadata": {},
     "output_type": "display_data"
    }
   ],
   "source": [
    "plot_pmf(attach, pull, release=None, release_to_std=analytic,\n",
    "    attach_sem=attach_sem, pull_sem=pull_sem,\n",
    "        pull_initial=2.65, pull_final=18.65)"
   ]
  },
  {
   "cell_type": "code",
   "execution_count": 71,
   "metadata": {
    "ExecuteTime": {
     "end_time": "2018-10-31T20:14:29.458715Z",
     "start_time": "2018-10-31T20:14:29.410920Z"
    }
   },
   "outputs": [
    {
     "data": {
      "text/plain": [
       "1.8438657"
      ]
     },
     "execution_count": 71,
     "metadata": {},
     "output_type": "execute_result"
    }
   ],
   "source": [
    "pull[-1] + attach[-1]"
   ]
  },
  {
   "cell_type": "code",
   "execution_count": null,
   "metadata": {},
   "outputs": [],
   "source": []
  }
 ],
 "metadata": {
  "kernelspec": {
   "display_name": "Python [default]",
   "language": "python",
   "name": "python3"
  },
  "language_info": {
   "codemirror_mode": {
    "name": "ipython",
    "version": 3
   },
   "file_extension": ".py",
   "mimetype": "text/x-python",
   "name": "python",
   "nbconvert_exporter": "python",
   "pygments_lexer": "ipython3",
   "version": "3.6.4"
  }
 },
 "nbformat": 4,
 "nbformat_minor": 2
}
