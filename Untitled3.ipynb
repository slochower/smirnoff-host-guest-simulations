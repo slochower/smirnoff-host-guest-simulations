{
 "cells": [
  {
   "cell_type": "code",
   "execution_count": 1,
   "metadata": {
    "ExecuteTime": {
     "end_time": "2018-04-06T16:37:51.022693Z",
     "start_time": "2018-04-06T16:37:50.906196Z"
    }
   },
   "outputs": [],
   "source": [
    "import pytraj as pt"
   ]
  },
  {
   "cell_type": "code",
   "execution_count": 2,
   "metadata": {
    "ExecuteTime": {
     "end_time": "2018-04-06T16:38:26.822910Z",
     "start_time": "2018-04-06T16:38:26.780432Z"
    }
   },
   "outputs": [
    {
     "data": {
      "text/plain": [
       "pytraj.TrajectoryIterator, 0 frames: \n",
       "Size: 0.000000 (GB)\n",
       "<Topology: 6159 atoms, 2023 residues, 2018 mols, PBC with box type = ortho>\n",
       "           "
      ]
     },
     "execution_count": 2,
     "metadata": {},
     "output_type": "execute_result"
    }
   ],
   "source": [
    "pt.iterload('systems/a-bam-p/smirnoff/a000/traj.nc', 'systems/a-bam-p/smirnoff/a000/smirnoff.prmtop')"
   ]
  },
  {
   "cell_type": "code",
   "execution_count": 10,
   "metadata": {
    "ExecuteTime": {
     "end_time": "2018-04-06T17:07:33.366138Z",
     "start_time": "2018-04-06T17:07:33.337936Z"
    }
   },
   "outputs": [],
   "source": [
    "structure = pt.load('systems/a-bam-p/smirnoff/a000/smirnoff.inpcrd', 'systems/a-bam-p/smirnoff/a000/smirnoff.prmtop')"
   ]
  },
  {
   "cell_type": "code",
   "execution_count": 11,
   "metadata": {
    "ExecuteTime": {
     "end_time": "2018-04-06T17:07:34.414023Z",
     "start_time": "2018-04-06T17:07:34.410066Z"
    }
   },
   "outputs": [],
   "source": [
    "stripped = structure.strip(':WAT,:Na+,Cl-')"
   ]
  },
  {
   "cell_type": "code",
   "execution_count": 14,
   "metadata": {
    "ExecuteTime": {
     "end_time": "2018-04-06T17:07:48.536413Z",
     "start_time": "2018-04-06T17:07:48.531212Z"
    }
   },
   "outputs": [
    {
     "data": {
      "text/plain": [
       "pytraj.TrajectoryIterator, 2500 frames: \n",
       "Size: 0.008158 (GB)\n",
       "<Topology: 146 atoms, 10 residues, 5 mols, PBC with box type = ortho>\n",
       "           "
      ]
     },
     "execution_count": 14,
     "metadata": {},
     "output_type": "execute_result"
    }
   ],
   "source": [
    "pt.iterload('systems/a-bam-p/smirnoff/a000/traj.nc', top=stripped.topology)"
   ]
  },
  {
   "cell_type": "code",
   "execution_count": 13,
   "metadata": {
    "ExecuteTime": {
     "end_time": "2018-04-06T17:07:35.550293Z",
     "start_time": "2018-04-06T17:07:35.546438Z"
    }
   },
   "outputs": [
    {
     "data": {
      "text/plain": [
       "pytraj.Trajectory, 1 frames: \n",
       "Size: 0.000003 (GB)\n",
       "<Topology: 146 atoms, 10 residues, 5 mols, PBC with box type = ortho>\n",
       "           "
      ]
     },
     "execution_count": 13,
     "metadata": {},
     "output_type": "execute_result"
    }
   ],
   "source": [
    "stripped"
   ]
  },
  {
   "cell_type": "code",
   "execution_count": null,
   "metadata": {},
   "outputs": [],
   "source": []
  }
 ],
 "metadata": {
  "kernelspec": {
   "display_name": "Python [conda env:smirnoff-paprika]",
   "language": "python",
   "name": "conda-env-smirnoff-paprika-py"
  },
  "language_info": {
   "codemirror_mode": {
    "name": "ipython",
    "version": 3
   },
   "file_extension": ".py",
   "mimetype": "text/x-python",
   "name": "python",
   "nbconvert_exporter": "python",
   "pygments_lexer": "ipython3",
   "version": "3.6.4"
  }
 },
 "nbformat": 4,
 "nbformat_minor": 2
}
