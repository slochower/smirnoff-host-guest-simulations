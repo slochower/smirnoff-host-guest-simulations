{
 "cells": [
  {
   "cell_type": "code",
   "execution_count": 1,
   "metadata": {},
   "outputs": [],
   "source": [
    "\n",
    "def get_energies_for_enthalpy(mden):\n",
    "    \"\"\"\n",
    "    Modeled after Niel's version.\n",
    "    \"\"\"\n",
    "\n",
    "    vdw = []\n",
    "    ele = []\n",
    "    bnd = []\n",
    "    ang = []\n",
    "    dih = []\n",
    "    v14 = []\n",
    "    e14 = []\n",
    "\n",
    "    with open(mden, \"r\") as f:\n",
    "        for line in f.readlines()[10:]:\n",
    "            words = line.rstrip().split()\n",
    "            if words[0] == \"L6\":\n",
    "                vdw.append(float(words[3]))\n",
    "                ele.append(float(words[4]))\n",
    "            elif words[0] == \"L7\":\n",
    "                bnd.append(float(words[2]))\n",
    "                ang.append(float(words[3]))\n",
    "                dih.append(float(words[4]))\n",
    "            elif words[0] == \"L8\":\n",
    "                v14.append(float(words[1]))\n",
    "                e14.append(float(words[2]))\n",
    "    return bnd, ang, dih, v14, e14, vdw, ele\n"
   ]
  },
  {
   "cell_type": "code",
   "execution_count": 5,
   "metadata": {},
   "outputs": [],
   "source": [
    "bnd, ang, dih, v14, e14, vdw, ele = get_energies_for_enthalpy(\"systems/a-bam-p/smirnoff/a000/prod.000.mden\")"
   ]
  },
  {
   "cell_type": "code",
   "execution_count": null,
   "metadata": {},
   "outputs": [],
   "source": [
    "bnd, ang, dih, v14, e14, vdw, ele = get_energies_for_enthalpy(\"systems/a-bam-p/smirnoff/a000/prod.000.mden\")"
   ]
  }
 ],
 "metadata": {
  "kernelspec": {
   "display_name": "Python [default]",
   "language": "python",
   "name": "python3"
  },
  "language_info": {
   "codemirror_mode": {
    "name": "ipython",
    "version": 3
   },
   "file_extension": ".py",
   "mimetype": "text/x-python",
   "name": "python",
   "nbconvert_exporter": "python",
   "pygments_lexer": "ipython3",
   "version": "3.6.4"
  }
 },
 "nbformat": 4,
 "nbformat_minor": 2
}
