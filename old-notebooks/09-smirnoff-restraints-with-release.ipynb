{
 "cells": [
  {
   "cell_type": "markdown",
   "metadata": {},
   "source": [
    "# Set up original restraints (from `02-confirm-restraints`) and add information for `.phase['release']` instead of setting up dedicated release-only restraints and then fussing with `collect_data()` in `analysis.py`"
   ]
  },
  {
   "cell_type": "code",
   "execution_count": 3,
   "metadata": {
    "ExecuteTime": {
     "end_time": "2018-06-04T18:09:34.851030Z",
     "start_time": "2018-06-04T18:09:34.441169Z"
    }
   },
   "outputs": [],
   "source": [
    "hg = pmd.load_file(\n",
    "    \"systems/a-bam-p/smirnoff/a000/smirnoff.prmtop\",\n",
    "    \"systems/a-bam-p/smirnoff/a000/smirnoff.inpcrd\",\n",
    "    structure=True,\n",
    ")\n",
    "\n",
    "dummy_anchors = [\":8\", \":9\", \":10\"]\n",
    "host_anchors = [\":1@O3\", \":3@C1\", \":5@C6\"]\n",
    "guest_anchors = [\":7@C4\", \":7@N1\"]\n"
   ]
  },
  {
   "cell_type": "code",
   "execution_count": 4,
   "metadata": {
    "ExecuteTime": {
     "end_time": "2018-06-04T18:09:34.869591Z",
     "start_time": "2018-06-04T18:09:34.852874Z"
    }
   },
   "outputs": [],
   "source": [
    "attach_string = (\n",
    "    \"0.00 0.40 0.80 1.60 2.40 4.00 5.50 8.65 11.80 18.10 24.40 37.00 49.60 74.80 100.00\"\n",
    ")\n",
    "attach_fractions = [float(i) / 100 for i in attach_string.split()]\n",
    "\n",
    "pull_string = \"0.00 0.40 0.80 1.20 1.60 2.00 2.40 2.80 3.20 3.60 4.00 4.40 4.80 5.20 5.60 6.00 6.40 6.80 7.20 7.60 8.00 8.40 8.80 9.20 9.60 10.00 10.40 10.80 11.20 11.60 12.00 12.40 12.80 13.20 13.60 14.00 14.40 14.80 15.20 15.60 16.00 16.40 16.80 17.20 17.60 18.00\"\n",
    "pull_distances = [float(i) + 6.00 for i in pull_string.split()]\n",
    "\n",
    "release_fractions = attach_fractions[::-1]\n",
    "\n",
    "windows = [len(attach_fractions), len(pull_distances), len(release_fractions)]\n",
    "print(f\"There are {windows} windows in this attach-pull-release calculation.\")\n"
   ]
  },
  {
   "cell_type": "markdown",
   "metadata": {},
   "source": [
    "## Restraint definitions"
   ]
  },
  {
   "cell_type": "markdown",
   "metadata": {},
   "source": [
    "### Static restraints connecting the host and dummy atoms"
   ]
  },
  {
   "cell_type": "code",
   "execution_count": 6,
   "metadata": {
    "ExecuteTime": {
     "end_time": "2018-06-04T18:09:34.952542Z",
     "start_time": "2018-06-04T18:09:34.871282Z"
    }
   },
   "outputs": [],
   "source": [
    "static_restraint_atoms = [[dummy_anchors[0], host_anchors[0]],\n",
    "                          [dummy_anchors[1], dummy_anchors[0], host_anchors[0]],\n",
    "                          [dummy_anchors[2], dummy_anchors[1], dummy_anchors[0], host_anchors[0]],\n",
    "                          [dummy_anchors[0], host_anchors[0], host_anchors[1]],\n",
    "                          [dummy_anchors[1], dummy_anchors[0], host_anchors[0], host_anchors[1]],\n",
    "                          [dummy_anchors[0], host_anchors[0], host_anchors[1], host_anchors[2]],\n",
    "                        ]\n",
    "\n",
    "static_restraint_distance_fc = 5.0\n",
    "static_restraint_angle_fc = 100.0"
   ]
  },
  {
   "cell_type": "markdown",
   "metadata": {},
   "source": [
    "### Guest restraints connecting the guest and dummy atoms"
   ]
  },
  {
   "cell_type": "code",
   "execution_count": 7,
   "metadata": {
    "ExecuteTime": {
     "end_time": "2018-06-04T18:09:35.080520Z",
     "start_time": "2018-06-04T18:09:34.954232Z"
    }
   },
   "outputs": [],
   "source": [
    "guest_restraint_atoms = [[dummy_anchors[0], guest_anchors[0]],\n",
    "                         [dummy_anchors[1], dummy_anchors[0], guest_anchors[0]],\n",
    "                         [dummy_anchors[0], guest_anchors[0], guest_anchors[1]],\n",
    "                        ]\n",
    "\n",
    "guest_restraint_targets = [6.0,\n",
    "                           180.0,\n",
    "                           180.0\n",
    "                          ]\n",
    "guest_restraint_target_final = [24.0, 180.0, 180.0]\n",
    "guest_restraint_distance_fc = 5.0\n",
    "guest_restraint_angle_fc = 100.0"
   ]
  },
  {
   "cell_type": "markdown",
   "metadata": {},
   "source": [
    "### Host conformational restraints"
   ]
  },
  {
   "cell_type": "code",
   "execution_count": 8,
   "metadata": {
    "ExecuteTime": {
     "end_time": "2018-06-04T18:09:35.363255Z",
     "start_time": "2018-06-04T18:09:35.082537Z"
    }
   },
   "outputs": [],
   "source": [
    "host_conformational_template = [['O5', 'C1', 'O1', 'C4'],\n",
    "                                ['C1', 'O1', 'C4', 'C5']\n",
    "                               ]\n",
    "\n",
    "host_residues = len(hg[':MGO'].residues)\n",
    "first_host_residue = hg[':MGO'].residues[0].number + 1\n",
    "conformational_restraint_atoms = []\n",
    "conformational_restraint_targets = []\n",
    "conformational_restraint_fc = 6.0\n",
    "\n",
    "for n in range(first_host_residue, host_residues + first_host_residue):\n",
    "    if n + 1 < host_residues + first_host_residue:\n",
    "        next_residue = n + 1\n",
    "    else:\n",
    "        next_residue = first_host_residue\n",
    "    conformational_restraint_atoms.append(\n",
    "        [f':{n}@{host_conformational_template[0][0]}',\n",
    "         f':{n}@{host_conformational_template[0][1]}',\n",
    "         f':{n}@{host_conformational_template[0][2]}',\n",
    "         f':{next_residue}@{host_conformational_template[0][3]}'\n",
    "        ])\n",
    "    conformational_restraint_targets.append(104.30)\n",
    "    conformational_restraint_atoms.append(\n",
    "        [f':{n}@{host_conformational_template[1][0]}',\n",
    "         f':{n}@{host_conformational_template[1][1]}',\n",
    "         f':{next_residue}@{host_conformational_template[1][2]}',\n",
    "         f':{next_residue}@{host_conformational_template[1][3]}'\n",
    "        ])\n",
    "    conformational_restraint_targets.append(-108.8)"
   ]
  },
  {
   "cell_type": "markdown",
   "metadata": {},
   "source": [
    "### Guest wall restraints"
   ]
  },
  {
   "cell_type": "code",
   "execution_count": 9,
   "metadata": {
    "ExecuteTime": {
     "end_time": "2018-06-04T18:09:35.382311Z",
     "start_time": "2018-06-04T18:09:35.364986Z"
    }
   },
   "outputs": [],
   "source": [
    "guest_wall_template = [\n",
    "    ['O2', guest_anchors[0]],\n",
    "    ['O6', guest_anchors[0]]\n",
    "]\n",
    "\n",
    "guest_wall_restraint_atoms = []\n",
    "guest_wall_restraint_targets = []\n",
    "guest_wall_restraint_angle_fc = 500.0\n",
    "guest_wall_restraint_distance_fc = 50.0\n",
    "\n",
    "for n in range(first_host_residue, host_residues + first_host_residue):\n",
    "    guest_wall_restraint_atoms.append(\n",
    "        [f':{n}@{guest_wall_template[0][0]}',\n",
    "         f'{guest_wall_template[0][1]}',\n",
    "        ])\n",
    "    guest_wall_restraint_targets.append(11.3)\n",
    "    guest_wall_restraint_atoms.append(\n",
    "        [f':{n}@{guest_wall_template[1][0]}',\n",
    "         f'{guest_wall_template[1][1]}',\n",
    "        ])\n",
    "    guest_wall_restraint_targets.append(13.3)\n",
    "\n",
    "guest_wall_restraint_atoms.append([dummy_anchors[1],\n",
    "                                 guest_anchors[0],\n",
    "                                 guest_anchors[1]])\n",
    "guest_wall_restraint_targets.append(80.0)"
   ]
  },
  {
   "cell_type": "markdown",
   "metadata": {},
   "source": [
    "## Initialize the restraints"
   ]
  },
  {
   "cell_type": "markdown",
   "metadata": {},
   "source": [
    "### Static restraints"
   ]
  },
  {
   "cell_type": "code",
   "execution_count": 10,
   "metadata": {
    "ExecuteTime": {
     "end_time": "2018-06-04T18:09:38.114093Z",
     "start_time": "2018-06-04T18:09:35.384019Z"
    },
    "scrolled": true
   },
   "outputs": [
    {
     "name": "stderr",
     "output_type": "stream",
     "text": [
      "2018-06-04 11:09:35 AM Calculating attach targets and force constants...\n",
      "2018-06-04 11:09:35 AM Attach, Method #1\n",
      "2018-06-04 11:09:35 AM Calculating pull targets and force constants...\n",
      "2018-06-04 11:09:35 AM Pull, Method #1\n",
      "2018-06-04 11:09:35 AM Calculating release targets and force constants...\n",
      "2018-06-04 11:09:35 AM Release, Method #1\n",
      "2018-06-04 11:09:35 AM Number of attach windows = 15\n",
      "2018-06-04 11:09:35 AM Number of pull windows = 46\n",
      "2018-06-04 11:09:35 AM Number of release windows = 15\n",
      "2018-06-04 11:09:35 AM Assigning atom indices...\n",
      "2018-06-04 11:09:35 AM There are 1 atoms in the mask :8  ...\n",
      "2018-06-04 11:09:35 AM There are 1 atoms in the mask :1@O3  ...\n",
      "2018-06-04 11:09:36 AM Calculating attach targets and force constants...\n",
      "2018-06-04 11:09:36 AM Attach, Method #1\n",
      "2018-06-04 11:09:36 AM Calculating pull targets and force constants...\n",
      "2018-06-04 11:09:36 AM Pull, Method #1\n",
      "2018-06-04 11:09:36 AM Calculating release targets and force constants...\n",
      "2018-06-04 11:09:36 AM Release, Method #1\n",
      "2018-06-04 11:09:36 AM Number of attach windows = 15\n",
      "2018-06-04 11:09:36 AM Number of pull windows = 46\n",
      "2018-06-04 11:09:36 AM Number of release windows = 15\n",
      "2018-06-04 11:09:36 AM Assigning atom indices...\n",
      "2018-06-04 11:09:36 AM There are 1 atoms in the mask :9  ...\n",
      "2018-06-04 11:09:36 AM There are 1 atoms in the mask :8  ...\n",
      "2018-06-04 11:09:36 AM There are 1 atoms in the mask :1@O3  ...\n",
      "2018-06-04 11:09:36 AM Calculating attach targets and force constants...\n",
      "2018-06-04 11:09:36 AM Attach, Method #1\n",
      "2018-06-04 11:09:36 AM Calculating pull targets and force constants...\n",
      "2018-06-04 11:09:36 AM Pull, Method #1\n",
      "2018-06-04 11:09:36 AM Calculating release targets and force constants...\n",
      "2018-06-04 11:09:36 AM Release, Method #1\n",
      "2018-06-04 11:09:36 AM Number of attach windows = 15\n",
      "2018-06-04 11:09:36 AM Number of pull windows = 46\n",
      "2018-06-04 11:09:36 AM Number of release windows = 15\n",
      "2018-06-04 11:09:36 AM Assigning atom indices...\n",
      "2018-06-04 11:09:36 AM There are 1 atoms in the mask :10  ...\n",
      "2018-06-04 11:09:36 AM There are 1 atoms in the mask :9  ...\n",
      "2018-06-04 11:09:36 AM There are 1 atoms in the mask :8  ...\n",
      "2018-06-04 11:09:36 AM There are 1 atoms in the mask :1@O3  ...\n",
      "2018-06-04 11:09:37 AM Calculating attach targets and force constants...\n",
      "2018-06-04 11:09:37 AM Attach, Method #1\n",
      "2018-06-04 11:09:37 AM Calculating pull targets and force constants...\n",
      "2018-06-04 11:09:37 AM Pull, Method #1\n",
      "2018-06-04 11:09:37 AM Calculating release targets and force constants...\n",
      "2018-06-04 11:09:37 AM Release, Method #1\n",
      "2018-06-04 11:09:37 AM Number of attach windows = 15\n",
      "2018-06-04 11:09:37 AM Number of pull windows = 46\n",
      "2018-06-04 11:09:37 AM Number of release windows = 15\n",
      "2018-06-04 11:09:37 AM Assigning atom indices...\n",
      "2018-06-04 11:09:37 AM There are 1 atoms in the mask :8  ...\n",
      "2018-06-04 11:09:37 AM There are 1 atoms in the mask :1@O3  ...\n",
      "2018-06-04 11:09:37 AM There are 1 atoms in the mask :3@C1  ...\n",
      "2018-06-04 11:09:37 AM Calculating attach targets and force constants...\n",
      "2018-06-04 11:09:37 AM Attach, Method #1\n",
      "2018-06-04 11:09:37 AM Calculating pull targets and force constants...\n",
      "2018-06-04 11:09:37 AM Pull, Method #1\n",
      "2018-06-04 11:09:37 AM Calculating release targets and force constants...\n",
      "2018-06-04 11:09:37 AM Release, Method #1\n",
      "2018-06-04 11:09:37 AM Number of attach windows = 15\n",
      "2018-06-04 11:09:37 AM Number of pull windows = 46\n",
      "2018-06-04 11:09:37 AM Number of release windows = 15\n",
      "2018-06-04 11:09:37 AM Assigning atom indices...\n",
      "2018-06-04 11:09:37 AM There are 1 atoms in the mask :9  ...\n",
      "2018-06-04 11:09:37 AM There are 1 atoms in the mask :8  ...\n",
      "2018-06-04 11:09:37 AM There are 1 atoms in the mask :1@O3  ...\n",
      "2018-06-04 11:09:37 AM There are 1 atoms in the mask :3@C1  ...\n",
      "2018-06-04 11:09:37 AM Calculating attach targets and force constants...\n",
      "2018-06-04 11:09:37 AM Attach, Method #1\n",
      "2018-06-04 11:09:37 AM Calculating pull targets and force constants...\n",
      "2018-06-04 11:09:37 AM Pull, Method #1\n",
      "2018-06-04 11:09:37 AM Calculating release targets and force constants...\n",
      "2018-06-04 11:09:37 AM Release, Method #1\n",
      "2018-06-04 11:09:37 AM Number of attach windows = 15\n",
      "2018-06-04 11:09:37 AM Number of pull windows = 46\n",
      "2018-06-04 11:09:37 AM Number of release windows = 15\n",
      "2018-06-04 11:09:37 AM Assigning atom indices...\n",
      "2018-06-04 11:09:37 AM There are 1 atoms in the mask :8  ...\n",
      "2018-06-04 11:09:38 AM There are 1 atoms in the mask :1@O3  ...\n",
      "2018-06-04 11:09:38 AM There are 1 atoms in the mask :3@C1  ...\n",
      "2018-06-04 11:09:38 AM There are 1 atoms in the mask :5@C6  ...\n"
     ]
    }
   ],
   "source": [
    "static_restraints = []\n",
    "for index, atoms in enumerate(static_restraint_atoms):    \n",
    "    this = static_DAT_restraint(restraint_mask_list=atoms,\n",
    "                        num_window_list=windows, \n",
    "                        ref_structure=hg,\n",
    "                        force_constant=static_restraint_angle_fc if len(atoms) > 2 else static_restraint_distance_fc,\n",
    "                        amber_index=True)\n",
    "    static_restraints.append(this)"
   ]
  },
  {
   "cell_type": "markdown",
   "metadata": {},
   "source": [
    "### Guest restraints"
   ]
  },
  {
   "cell_type": "code",
   "execution_count": 11,
   "metadata": {
    "ExecuteTime": {
     "end_time": "2018-06-04T18:09:38.465705Z",
     "start_time": "2018-06-04T18:09:38.115910Z"
    },
    "scrolled": true
   },
   "outputs": [
    {
     "name": "stderr",
     "output_type": "stream",
     "text": [
      "2018-06-04 11:09:38 AM Calculating attach targets and force constants...\n",
      "2018-06-04 11:09:38 AM Attach, Method #3\n",
      "2018-06-04 11:09:38 AM Calculating pull targets and force constants...\n",
      "2018-06-04 11:09:38 AM Pull, Method #1\n",
      "2018-06-04 11:09:38 AM Calculating release targets and force constants...\n",
      "2018-06-04 11:09:38 AM Release, Method #3\n",
      "2018-06-04 11:09:38 AM Number of attach windows = 15\n",
      "2018-06-04 11:09:38 AM Number of pull windows = 46\n",
      "2018-06-04 11:09:38 AM Number of release windows = 15\n",
      "2018-06-04 11:09:38 AM Assigning atom indices...\n",
      "2018-06-04 11:09:38 AM There are 1 atoms in the mask :8  ...\n",
      "2018-06-04 11:09:38 AM There are 1 atoms in the mask :7@C4  ...\n",
      "2018-06-04 11:09:38 AM Calculating attach targets and force constants...\n",
      "2018-06-04 11:09:38 AM Attach, Method #3\n",
      "2018-06-04 11:09:38 AM Calculating pull targets and force constants...\n",
      "2018-06-04 11:09:38 AM Pull, Method #1\n",
      "2018-06-04 11:09:38 AM Calculating release targets and force constants...\n",
      "2018-06-04 11:09:38 AM Release, Method #3\n",
      "2018-06-04 11:09:38 AM Number of attach windows = 15\n",
      "2018-06-04 11:09:38 AM Number of pull windows = 46\n",
      "2018-06-04 11:09:38 AM Number of release windows = 15\n",
      "2018-06-04 11:09:38 AM Assigning atom indices...\n",
      "2018-06-04 11:09:38 AM There are 1 atoms in the mask :9  ...\n",
      "2018-06-04 11:09:38 AM There are 1 atoms in the mask :8  ...\n",
      "2018-06-04 11:09:38 AM There are 1 atoms in the mask :7@C4  ...\n",
      "2018-06-04 11:09:38 AM Calculating attach targets and force constants...\n",
      "2018-06-04 11:09:38 AM Attach, Method #3\n",
      "2018-06-04 11:09:38 AM Calculating pull targets and force constants...\n",
      "2018-06-04 11:09:38 AM Pull, Method #1\n",
      "2018-06-04 11:09:38 AM Calculating release targets and force constants...\n",
      "2018-06-04 11:09:38 AM Release, Method #3\n",
      "2018-06-04 11:09:38 AM Number of attach windows = 15\n",
      "2018-06-04 11:09:38 AM Number of pull windows = 46\n",
      "2018-06-04 11:09:38 AM Number of release windows = 15\n",
      "2018-06-04 11:09:38 AM Assigning atom indices...\n",
      "2018-06-04 11:09:38 AM There are 1 atoms in the mask :8  ...\n",
      "2018-06-04 11:09:38 AM There are 1 atoms in the mask :7@C4  ...\n",
      "2018-06-04 11:09:38 AM There are 1 atoms in the mask :7@N1  ...\n"
     ]
    }
   ],
   "source": [
    "guest_restraints = []\n",
    "for index, atoms in enumerate(guest_restraint_atoms): \n",
    "    if len(atoms) > 2:\n",
    "        angle = True\n",
    "    else:\n",
    "        angle = False\n",
    "    this = DAT_restraint()\n",
    "    this.auto_apr = True\n",
    "    this.amber_index = True\n",
    "    this.topology = hg\n",
    "    this.mask1 = atoms[0]\n",
    "    this.mask2 = atoms[1]\n",
    "    if angle:\n",
    "        this.mask3 = atoms[2]\n",
    "        this.attach['fc_final'] = guest_restraint_angle_fc\n",
    "        this.release['fc_final'] = guest_restraint_angle_fc\n",
    "    else:\n",
    "        this.attach['fc_final'] = guest_restraint_distance_fc\n",
    "        this.release['fc_final'] = guest_restraint_distance_fc\n",
    "    this.attach['target'] = guest_restraint_targets[index]\n",
    "    this.attach['fraction_list'] = attach_fractions\n",
    "    \n",
    "    this.pull['target_final'] = guest_restraint_target_final[index]\n",
    "    this.pull['num_windows'] = windows[1]\n",
    "    \n",
    "    this.release['target'] = guest_restraint_targets[index]\n",
    "    # Keep the guest restraints on during release.\n",
    "    this.release['fraction_list'] = [1.0] * windows[2]\n",
    "    \n",
    "    this.initialize()\n",
    "    guest_restraints.append(this)"
   ]
  },
  {
   "cell_type": "markdown",
   "metadata": {},
   "source": [
    "### Host conformational restraints"
   ]
  },
  {
   "cell_type": "code",
   "execution_count": 5,
   "metadata": {
    "ExecuteTime": {
     "end_time": "2018-06-04T18:09:40.529501Z",
     "start_time": "2018-06-04T18:09:38.467451Z"
    },
    "code_folding": []
   },
   "outputs": [],
   "source": [
    "conformational_restraints = []\n",
    "for index, atoms in enumerate(conformational_restraint_atoms):\n",
    "\n",
    "    this = DAT_restraint()\n",
    "    this.auto_apr = True\n",
    "    this.amber_index = True\n",
    "    this.topology = hg\n",
    "    this.mask1 = atoms[0]\n",
    "    this.mask2 = atoms[1]\n",
    "    this.mask3 = atoms[2]\n",
    "    this.mask4 = atoms[3]\n",
    "\n",
    "    this.attach[\"fraction_list\"] = attach_fractions\n",
    "    this.attach[\"target\"] = conformational_restraint_targets[index]\n",
    "    this.attach[\"fc_final\"] = conformational_restraint_fc\n",
    "    this.pull[\"target_final\"] = conformational_restraint_targets[index]\n",
    "    this.pull[\"num_windows\"] = windows[1]\n",
    "\n",
    "    this.release[\"fraction_list\"] = release_fractions\n",
    "    this.release[\"target\"] = conformational_restraint_targets[index]\n",
    "    this.release[\"fc_final\"] = conformational_restraint_fc\n",
    "\n",
    "    this.initialize()\n",
    "    conformational_restraints.append(this)\n"
   ]
  },
  {
   "cell_type": "markdown",
   "metadata": {},
   "source": [
    "### Guest wall restraints"
   ]
  },
  {
   "cell_type": "code",
   "execution_count": 13,
   "metadata": {
    "ExecuteTime": {
     "end_time": "2018-06-04T18:09:41.722033Z",
     "start_time": "2018-06-04T18:09:40.531405Z"
    },
    "scrolled": true
   },
   "outputs": [
    {
     "name": "stderr",
     "output_type": "stream",
     "text": [
      "2018-06-04 11:09:40 AM Calculating attach targets and force constants...\n",
      "2018-06-04 11:09:40 AM Attach, Method #1\n",
      "2018-06-04 11:09:40 AM Calculating pull targets and force constants...\n",
      "2018-06-04 11:09:40 AM No restraint info set for the pull phase! Skipping...\n",
      "2018-06-04 11:09:40 AM Calculating release targets and force constants...\n",
      "2018-06-04 11:09:40 AM No restraint info set for the release phase! Skipping...\n",
      "2018-06-04 11:09:40 AM Number of attach windows = 15\n",
      "2018-06-04 11:09:40 AM This restraint will be skipped in the pull phase\n",
      "2018-06-04 11:09:40 AM This restraint will be skipped in the release phase\n",
      "2018-06-04 11:09:40 AM Assigning atom indices...\n",
      "2018-06-04 11:09:40 AM There are 1 atoms in the mask :1@O2  ...\n",
      "2018-06-04 11:09:40 AM There are 1 atoms in the mask :7@C4  ...\n",
      "2018-06-04 11:09:40 AM Calculating attach targets and force constants...\n",
      "2018-06-04 11:09:40 AM Attach, Method #1\n",
      "2018-06-04 11:09:40 AM Calculating pull targets and force constants...\n",
      "2018-06-04 11:09:40 AM No restraint info set for the pull phase! Skipping...\n",
      "2018-06-04 11:09:40 AM Calculating release targets and force constants...\n",
      "2018-06-04 11:09:40 AM No restraint info set for the release phase! Skipping...\n",
      "2018-06-04 11:09:40 AM Number of attach windows = 15\n",
      "2018-06-04 11:09:40 AM This restraint will be skipped in the pull phase\n",
      "2018-06-04 11:09:40 AM This restraint will be skipped in the release phase\n",
      "2018-06-04 11:09:40 AM Assigning atom indices...\n",
      "2018-06-04 11:09:40 AM There are 1 atoms in the mask :1@O6  ...\n",
      "2018-06-04 11:09:40 AM There are 1 atoms in the mask :7@C4  ...\n",
      "2018-06-04 11:09:40 AM Calculating attach targets and force constants...\n",
      "2018-06-04 11:09:40 AM Attach, Method #1\n",
      "2018-06-04 11:09:40 AM Calculating pull targets and force constants...\n",
      "2018-06-04 11:09:40 AM No restraint info set for the pull phase! Skipping...\n",
      "2018-06-04 11:09:40 AM Calculating release targets and force constants...\n",
      "2018-06-04 11:09:40 AM No restraint info set for the release phase! Skipping...\n",
      "2018-06-04 11:09:40 AM Number of attach windows = 15\n",
      "2018-06-04 11:09:40 AM This restraint will be skipped in the pull phase\n",
      "2018-06-04 11:09:40 AM This restraint will be skipped in the release phase\n",
      "2018-06-04 11:09:40 AM Assigning atom indices...\n",
      "2018-06-04 11:09:40 AM There are 1 atoms in the mask :2@O2  ...\n",
      "2018-06-04 11:09:40 AM There are 1 atoms in the mask :7@C4  ...\n",
      "2018-06-04 11:09:40 AM Calculating attach targets and force constants...\n",
      "2018-06-04 11:09:40 AM Attach, Method #1\n",
      "2018-06-04 11:09:40 AM Calculating pull targets and force constants...\n",
      "2018-06-04 11:09:40 AM No restraint info set for the pull phase! Skipping...\n",
      "2018-06-04 11:09:40 AM Calculating release targets and force constants...\n",
      "2018-06-04 11:09:40 AM No restraint info set for the release phase! Skipping...\n",
      "2018-06-04 11:09:40 AM Number of attach windows = 15\n",
      "2018-06-04 11:09:40 AM This restraint will be skipped in the pull phase\n",
      "2018-06-04 11:09:40 AM This restraint will be skipped in the release phase\n",
      "2018-06-04 11:09:40 AM Assigning atom indices...\n",
      "2018-06-04 11:09:40 AM There are 1 atoms in the mask :2@O6  ...\n",
      "2018-06-04 11:09:40 AM There are 1 atoms in the mask :7@C4  ...\n",
      "2018-06-04 11:09:40 AM Calculating attach targets and force constants...\n",
      "2018-06-04 11:09:40 AM Attach, Method #1\n",
      "2018-06-04 11:09:40 AM Calculating pull targets and force constants...\n",
      "2018-06-04 11:09:40 AM No restraint info set for the pull phase! Skipping...\n",
      "2018-06-04 11:09:40 AM Calculating release targets and force constants...\n",
      "2018-06-04 11:09:40 AM No restraint info set for the release phase! Skipping...\n",
      "2018-06-04 11:09:40 AM Number of attach windows = 15\n",
      "2018-06-04 11:09:40 AM This restraint will be skipped in the pull phase\n",
      "2018-06-04 11:09:40 AM This restraint will be skipped in the release phase\n",
      "2018-06-04 11:09:40 AM Assigning atom indices...\n",
      "2018-06-04 11:09:41 AM There are 1 atoms in the mask :3@O2  ...\n",
      "2018-06-04 11:09:41 AM There are 1 atoms in the mask :7@C4  ...\n",
      "2018-06-04 11:09:41 AM Calculating attach targets and force constants...\n",
      "2018-06-04 11:09:41 AM Attach, Method #1\n",
      "2018-06-04 11:09:41 AM Calculating pull targets and force constants...\n",
      "2018-06-04 11:09:41 AM No restraint info set for the pull phase! Skipping...\n",
      "2018-06-04 11:09:41 AM Calculating release targets and force constants...\n",
      "2018-06-04 11:09:41 AM No restraint info set for the release phase! Skipping...\n",
      "2018-06-04 11:09:41 AM Number of attach windows = 15\n",
      "2018-06-04 11:09:41 AM This restraint will be skipped in the pull phase\n",
      "2018-06-04 11:09:41 AM This restraint will be skipped in the release phase\n",
      "2018-06-04 11:09:41 AM Assigning atom indices...\n",
      "2018-06-04 11:09:41 AM There are 1 atoms in the mask :3@O6  ...\n",
      "2018-06-04 11:09:41 AM There are 1 atoms in the mask :7@C4  ...\n",
      "2018-06-04 11:09:41 AM Calculating attach targets and force constants...\n",
      "2018-06-04 11:09:41 AM Attach, Method #1\n",
      "2018-06-04 11:09:41 AM Calculating pull targets and force constants...\n",
      "2018-06-04 11:09:41 AM No restraint info set for the pull phase! Skipping...\n",
      "2018-06-04 11:09:41 AM Calculating release targets and force constants...\n",
      "2018-06-04 11:09:41 AM No restraint info set for the release phase! Skipping...\n",
      "2018-06-04 11:09:41 AM Number of attach windows = 15\n",
      "2018-06-04 11:09:41 AM This restraint will be skipped in the pull phase\n",
      "2018-06-04 11:09:41 AM This restraint will be skipped in the release phase\n",
      "2018-06-04 11:09:41 AM Assigning atom indices...\n",
      "2018-06-04 11:09:41 AM There are 1 atoms in the mask :4@O2  ...\n",
      "2018-06-04 11:09:41 AM There are 1 atoms in the mask :7@C4  ...\n",
      "2018-06-04 11:09:41 AM Calculating attach targets and force constants...\n",
      "2018-06-04 11:09:41 AM Attach, Method #1\n",
      "2018-06-04 11:09:41 AM Calculating pull targets and force constants...\n",
      "2018-06-04 11:09:41 AM No restraint info set for the pull phase! Skipping...\n",
      "2018-06-04 11:09:41 AM Calculating release targets and force constants...\n",
      "2018-06-04 11:09:41 AM No restraint info set for the release phase! Skipping...\n",
      "2018-06-04 11:09:41 AM Number of attach windows = 15\n",
      "2018-06-04 11:09:41 AM This restraint will be skipped in the pull phase\n",
      "2018-06-04 11:09:41 AM This restraint will be skipped in the release phase\n",
      "2018-06-04 11:09:41 AM Assigning atom indices...\n",
      "2018-06-04 11:09:41 AM There are 1 atoms in the mask :4@O6  ...\n",
      "2018-06-04 11:09:41 AM There are 1 atoms in the mask :7@C4  ...\n",
      "2018-06-04 11:09:41 AM Calculating attach targets and force constants...\n",
      "2018-06-04 11:09:41 AM Attach, Method #1\n",
      "2018-06-04 11:09:41 AM Calculating pull targets and force constants...\n",
      "2018-06-04 11:09:41 AM No restraint info set for the pull phase! Skipping...\n",
      "2018-06-04 11:09:41 AM Calculating release targets and force constants...\n",
      "2018-06-04 11:09:41 AM No restraint info set for the release phase! Skipping...\n",
      "2018-06-04 11:09:41 AM Number of attach windows = 15\n",
      "2018-06-04 11:09:41 AM This restraint will be skipped in the pull phase\n",
      "2018-06-04 11:09:41 AM This restraint will be skipped in the release phase\n",
      "2018-06-04 11:09:41 AM Assigning atom indices...\n",
      "2018-06-04 11:09:41 AM There are 1 atoms in the mask :5@O2  ...\n",
      "2018-06-04 11:09:41 AM There are 1 atoms in the mask :7@C4  ...\n",
      "2018-06-04 11:09:41 AM Calculating attach targets and force constants...\n",
      "2018-06-04 11:09:41 AM Attach, Method #1\n",
      "2018-06-04 11:09:41 AM Calculating pull targets and force constants...\n",
      "2018-06-04 11:09:41 AM No restraint info set for the pull phase! Skipping...\n",
      "2018-06-04 11:09:41 AM Calculating release targets and force constants...\n",
      "2018-06-04 11:09:41 AM No restraint info set for the release phase! Skipping...\n",
      "2018-06-04 11:09:41 AM Number of attach windows = 15\n",
      "2018-06-04 11:09:41 AM This restraint will be skipped in the pull phase\n",
      "2018-06-04 11:09:41 AM This restraint will be skipped in the release phase\n",
      "2018-06-04 11:09:41 AM Assigning atom indices...\n",
      "2018-06-04 11:09:41 AM There are 1 atoms in the mask :5@O6  ...\n",
      "2018-06-04 11:09:41 AM There are 1 atoms in the mask :7@C4  ...\n",
      "2018-06-04 11:09:41 AM Calculating attach targets and force constants...\n",
      "2018-06-04 11:09:41 AM Attach, Method #1\n",
      "2018-06-04 11:09:41 AM Calculating pull targets and force constants...\n",
      "2018-06-04 11:09:41 AM No restraint info set for the pull phase! Skipping...\n",
      "2018-06-04 11:09:41 AM Calculating release targets and force constants...\n",
      "2018-06-04 11:09:41 AM No restraint info set for the release phase! Skipping...\n",
      "2018-06-04 11:09:41 AM Number of attach windows = 15\n",
      "2018-06-04 11:09:41 AM This restraint will be skipped in the pull phase\n",
      "2018-06-04 11:09:41 AM This restraint will be skipped in the release phase\n",
      "2018-06-04 11:09:41 AM Assigning atom indices...\n",
      "2018-06-04 11:09:41 AM There are 1 atoms in the mask :6@O2  ...\n",
      "2018-06-04 11:09:41 AM There are 1 atoms in the mask :7@C4  ...\n",
      "2018-06-04 11:09:41 AM Calculating attach targets and force constants...\n",
      "2018-06-04 11:09:41 AM Attach, Method #1\n",
      "2018-06-04 11:09:41 AM Calculating pull targets and force constants...\n",
      "2018-06-04 11:09:41 AM No restraint info set for the pull phase! Skipping...\n",
      "2018-06-04 11:09:41 AM Calculating release targets and force constants...\n",
      "2018-06-04 11:09:41 AM No restraint info set for the release phase! Skipping...\n",
      "2018-06-04 11:09:41 AM Number of attach windows = 15\n",
      "2018-06-04 11:09:41 AM This restraint will be skipped in the pull phase\n",
      "2018-06-04 11:09:41 AM This restraint will be skipped in the release phase\n",
      "2018-06-04 11:09:41 AM Assigning atom indices...\n",
      "2018-06-04 11:09:41 AM There are 1 atoms in the mask :6@O6  ...\n",
      "2018-06-04 11:09:41 AM There are 1 atoms in the mask :7@C4  ...\n",
      "2018-06-04 11:09:41 AM Calculating attach targets and force constants...\n",
      "2018-06-04 11:09:41 AM Attach, Method #1\n",
      "2018-06-04 11:09:41 AM Calculating pull targets and force constants...\n",
      "2018-06-04 11:09:41 AM No restraint info set for the pull phase! Skipping...\n",
      "2018-06-04 11:09:41 AM Calculating release targets and force constants...\n",
      "2018-06-04 11:09:41 AM No restraint info set for the release phase! Skipping...\n",
      "2018-06-04 11:09:41 AM Number of attach windows = 15\n",
      "2018-06-04 11:09:41 AM This restraint will be skipped in the pull phase\n",
      "2018-06-04 11:09:41 AM This restraint will be skipped in the release phase\n",
      "2018-06-04 11:09:41 AM Assigning atom indices...\n",
      "2018-06-04 11:09:41 AM There are 1 atoms in the mask :9  ...\n",
      "2018-06-04 11:09:41 AM There are 1 atoms in the mask :7@C4  ...\n",
      "2018-06-04 11:09:41 AM There are 1 atoms in the mask :7@N1  ...\n"
     ]
    }
   ],
   "source": [
    "wall_restraints = []\n",
    "for index, atoms in enumerate(guest_wall_restraint_atoms): \n",
    "    if len(atoms) > 2:\n",
    "        angle = True\n",
    "    else:\n",
    "        angle = False\n",
    "    \n",
    "    this = DAT_restraint()\n",
    "    this.auto_apr = True\n",
    "    this.amber_index = True\n",
    "    this.topology = hg\n",
    "    this.mask1 = atoms[0]\n",
    "    this.mask2 = atoms[1]\n",
    "    if angle:\n",
    "        this.mask3 = atoms[2]\n",
    "        this.attach['fc_initial'] = guest_wall_restraint_angle_fc\n",
    "        this.attach['fc_final'] = guest_wall_restraint_angle_fc\n",
    "        this.custom_restraint_values['rk2'] = 500.0\n",
    "        this.custom_restraint_values['rk3'] = 0.0\n",
    "    else:\n",
    "        this.attach['fc_initial'] = guest_wall_restraint_distance_fc\n",
    "        this.attach['fc_final'] = guest_wall_restraint_distance_fc\n",
    "        this.custom_restraint_values['rk2'] = 50.0\n",
    "        this.custom_restraint_values['rk3'] = 50.0\n",
    "        this.custom_restraint_values['r1'] = 0.0\n",
    "        this.custom_restraint_values['r2'] = 0.0\n",
    "\n",
    "    this.attach['target'] = guest_wall_restraint_targets[index]\n",
    "    this.attach['num_windows'] = len(attach_fractions)\n",
    "       \n",
    "    this.initialize()\n",
    "    wall_restraints.append(this)"
   ]
  },
  {
   "cell_type": "code",
   "execution_count": 14,
   "metadata": {
    "ExecuteTime": {
     "end_time": "2018-06-04T18:09:41.798185Z",
     "start_time": "2018-06-04T18:09:41.723861Z"
    }
   },
   "outputs": [
    {
     "name": "stderr",
     "output_type": "stream",
     "text": [
      "2018-06-04 11:09:41 AM All restraints are \"continuous_apr\" style.\n",
      "2018-06-04 11:09:41 AM Restraints appear to be consistent\n"
     ]
    }
   ],
   "source": [
    "window_list = create_window_list(guest_restraints)"
   ]
  },
  {
   "cell_type": "code",
   "execution_count": 15,
   "metadata": {
    "ExecuteTime": {
     "end_time": "2018-06-04T18:09:41.887099Z",
     "start_time": "2018-06-04T18:09:41.799856Z"
    }
   },
   "outputs": [],
   "source": [
    "# for window in window_list:\n",
    "#     if not os.path.isdir(os.path.join(prefix, 'smirnoff', window)):\n",
    "#         print(f'Creating {os.path.join(prefix, \"smirnoff\", window)}')\n",
    "#         os.makedirs(os.path.join(prefix, 'smirnoff', window))\n"
   ]
  },
  {
   "cell_type": "code",
   "execution_count": 16,
   "metadata": {
    "ExecuteTime": {
     "end_time": "2018-06-04T18:09:41.970401Z",
     "start_time": "2018-06-04T18:09:41.888930Z"
    }
   },
   "outputs": [],
   "source": [
    "# files = ['smirnoff.prmtop',\n",
    "#         'smirnoff.inpcrd',\n",
    "#         ]\n",
    "\n",
    "# for window_index, window in enumerate([i for i in window_list if i[0] == 'r']):\n",
    "#     for file in files:\n",
    "#         if os.path.isfile(os.path.join(prefix, 'smirnoff', window, file)):\n",
    "#             os.remove(os.path.join(prefix, 'smirnoff', window, file))\n",
    "#         try:\n",
    "#             os.symlink(os.path.join('../', 'p045', file),\n",
    "#                        os.path.join(prefix, 'smirnoff', window, file))        \n",
    "#         except:\n",
    "#             pass"
   ]
  },
  {
   "cell_type": "code",
   "execution_count": 17,
   "metadata": {
    "ExecuteTime": {
     "end_time": "2018-06-04T18:09:42.053689Z",
     "start_time": "2018-06-04T18:09:41.972053Z"
    }
   },
   "outputs": [],
   "source": [
    "# print('Writing restratint file in each window...')\n",
    "# for window in window_list:\n",
    "#     with open(os.path.join(prefix, 'smirnoff', window, 'disang.rest'), 'w') as file:\n",
    "#         for restraint in static_restraints + guest_restraints + \\\n",
    "#                           conformational_restraints + wall_restraints:\n",
    "#             if window[0] == 'a':\n",
    "#                 phase = 'attach'\n",
    "#             if window[0] == 'p':\n",
    "#                 phase = 'pull'\n",
    "#             if window[0] == 'r':\n",
    "#                 phase = 'release'\n",
    "\n",
    "#             try:\n",
    "#                 string = amber_restraint_line(restraint, phase, int(window[1:]))\n",
    "#             except:\n",
    "#                 # Hack to get around trying to access\n",
    "#                 # --> 630         'r2': restraint.phase[phase]['targets'][window],\n",
    "#                 # for wall restraints, during pull.\n",
    "#                 continue\n",
    "#             if string is not None:\n",
    "#                 file.write(string)"
   ]
  },
  {
   "cell_type": "code",
   "execution_count": 18,
   "metadata": {
    "ExecuteTime": {
     "end_time": "2018-06-04T18:09:42.186460Z",
     "start_time": "2018-06-04T18:09:42.055390Z"
    }
   },
   "outputs": [],
   "source": [
    "structure = pt.load(\n",
    "    os.path.join('systems', 'a-bam-p', 'smirnoff', 'a000', 'smirnoff.inpcrd'),\n",
    "    os.path.join('systems', 'a-bam-p', 'smirnoff', 'a000', 'smirnoff.prmtop'))\n",
    "\n",
    "stripped = structure.strip(':WAT,:Na+,:Cl-')"
   ]
  },
  {
   "cell_type": "code",
   "execution_count": 36,
   "metadata": {
    "ExecuteTime": {
     "end_time": "2018-06-05T16:13:57.550642Z",
     "start_time": "2018-06-05T16:13:57.516737Z"
    }
   },
   "outputs": [],
   "source": [
    "analyze = fe_calc()\n",
    "analyze.prmtop = stripped.topology\n",
    "analyze.trajectory = 'prod.*.nc'\n",
    "analyze.path = os.path.join('/home', 'dslochower', 'kirkwood', 'projects', 'smirnoff-host-guest-simulations', \n",
    "                            'systems', 'a-bam-p', 'smirnoff')\n"
   ]
  },
  {
   "cell_type": "code",
   "execution_count": 37,
   "metadata": {
    "ExecuteTime": {
     "end_time": "2018-06-05T16:23:19.866065Z",
     "start_time": "2018-06-05T16:13:58.640769Z"
    }
   },
   "outputs": [
    {
     "name": "stderr",
     "output_type": "stream",
     "text": [
      "2018-06-05 09:13:58 AM Replacing /home/dslochower/kirkwood/projects/smirnoff-host-guest-simulations/systems/a-bam-p/smirnoff/a014 with /home/dslochower/kirkwood/projects/smirnoff-host-guest-simulations/systems/a-bam-p/smirnoff/p000 in ['/home/dslochower/kirkwood/projects/smirnoff-host-guest-simulations/systems/a-bam-p/smirnoff/a000', '/home/dslochower/kirkwood/projects/smirnoff-host-guest-simulations/systems/a-bam-p/smirnoff/a001', '/home/dslochower/kirkwood/projects/smirnoff-host-guest-simulations/systems/a-bam-p/smirnoff/a002', '/home/dslochower/kirkwood/projects/smirnoff-host-guest-simulations/systems/a-bam-p/smirnoff/a003', '/home/dslochower/kirkwood/projects/smirnoff-host-guest-simulations/systems/a-bam-p/smirnoff/a004', '/home/dslochower/kirkwood/projects/smirnoff-host-guest-simulations/systems/a-bam-p/smirnoff/a005', '/home/dslochower/kirkwood/projects/smirnoff-host-guest-simulations/systems/a-bam-p/smirnoff/a006', '/home/dslochower/kirkwood/projects/smirnoff-host-guest-simulations/systems/a-bam-p/smirnoff/a007', '/home/dslochower/kirkwood/projects/smirnoff-host-guest-simulations/systems/a-bam-p/smirnoff/a008', '/home/dslochower/kirkwood/projects/smirnoff-host-guest-simulations/systems/a-bam-p/smirnoff/a009', '/home/dslochower/kirkwood/projects/smirnoff-host-guest-simulations/systems/a-bam-p/smirnoff/a010', '/home/dslochower/kirkwood/projects/smirnoff-host-guest-simulations/systems/a-bam-p/smirnoff/a011', '/home/dslochower/kirkwood/projects/smirnoff-host-guest-simulations/systems/a-bam-p/smirnoff/a012', '/home/dslochower/kirkwood/projects/smirnoff-host-guest-simulations/systems/a-bam-p/smirnoff/a013', '/home/dslochower/kirkwood/projects/smirnoff-host-guest-simulations/systems/a-bam-p/smirnoff/a014'] for `continuous_apr`...\n",
      "2018-06-05 09:13:58 AM Replacing /home/dslochower/kirkwood/projects/smirnoff-host-guest-simulations/systems/a-bam-p/smirnoff/r000 with /home/dslochower/kirkwood/projects/smirnoff-host-guest-simulations/systems/a-bam-p/smirnoff/p045 in ['/home/dslochower/kirkwood/projects/smirnoff-host-guest-simulations/systems/a-bam-p/smirnoff/r014', '/home/dslochower/kirkwood/projects/smirnoff-host-guest-simulations/systems/a-bam-p/smirnoff/r013', '/home/dslochower/kirkwood/projects/smirnoff-host-guest-simulations/systems/a-bam-p/smirnoff/r012', '/home/dslochower/kirkwood/projects/smirnoff-host-guest-simulations/systems/a-bam-p/smirnoff/r011', '/home/dslochower/kirkwood/projects/smirnoff-host-guest-simulations/systems/a-bam-p/smirnoff/r010', '/home/dslochower/kirkwood/projects/smirnoff-host-guest-simulations/systems/a-bam-p/smirnoff/r009', '/home/dslochower/kirkwood/projects/smirnoff-host-guest-simulations/systems/a-bam-p/smirnoff/r008', '/home/dslochower/kirkwood/projects/smirnoff-host-guest-simulations/systems/a-bam-p/smirnoff/r007', '/home/dslochower/kirkwood/projects/smirnoff-host-guest-simulations/systems/a-bam-p/smirnoff/r006', '/home/dslochower/kirkwood/projects/smirnoff-host-guest-simulations/systems/a-bam-p/smirnoff/r005', '/home/dslochower/kirkwood/projects/smirnoff-host-guest-simulations/systems/a-bam-p/smirnoff/r004', '/home/dslochower/kirkwood/projects/smirnoff-host-guest-simulations/systems/a-bam-p/smirnoff/r003', '/home/dslochower/kirkwood/projects/smirnoff-host-guest-simulations/systems/a-bam-p/smirnoff/r002', '/home/dslochower/kirkwood/projects/smirnoff-host-guest-simulations/systems/a-bam-p/smirnoff/r001', '/home/dslochower/kirkwood/projects/smirnoff-host-guest-simulations/systems/a-bam-p/smirnoff/r000'] for `continuous_apr`...\n",
      "2018-06-05 09:13:58 AM Reading restraint data for /home/dslochower/kirkwood/projects/smirnoff-host-guest-simulations/systems/a-bam-p/smirnoff/a000...\n",
      "2018-06-05 09:14:30 AM Reading restraint data for /home/dslochower/kirkwood/projects/smirnoff-host-guest-simulations/systems/a-bam-p/smirnoff/a000...\n",
      "2018-06-05 09:14:40 AM Reading restraint data for /home/dslochower/kirkwood/projects/smirnoff-host-guest-simulations/systems/a-bam-p/smirnoff/a000...\n",
      "2018-06-05 09:14:50 AM Reading restraint data for /home/dslochower/kirkwood/projects/smirnoff-host-guest-simulations/systems/a-bam-p/smirnoff/a000...\n",
      "2018-06-05 09:14:59 AM Reading restraint data for /home/dslochower/kirkwood/projects/smirnoff-host-guest-simulations/systems/a-bam-p/smirnoff/a000...\n",
      "2018-06-05 09:15:08 AM Reading restraint data for /home/dslochower/kirkwood/projects/smirnoff-host-guest-simulations/systems/a-bam-p/smirnoff/a000...\n",
      "2018-06-05 09:15:18 AM Reading restraint data for /home/dslochower/kirkwood/projects/smirnoff-host-guest-simulations/systems/a-bam-p/smirnoff/a000...\n",
      "2018-06-05 09:15:27 AM Reading restraint data for /home/dslochower/kirkwood/projects/smirnoff-host-guest-simulations/systems/a-bam-p/smirnoff/a000...\n",
      "2018-06-05 09:15:36 AM Reading restraint data for /home/dslochower/kirkwood/projects/smirnoff-host-guest-simulations/systems/a-bam-p/smirnoff/a000...\n",
      "2018-06-05 09:15:45 AM Reading restraint data for /home/dslochower/kirkwood/projects/smirnoff-host-guest-simulations/systems/a-bam-p/smirnoff/a000...\n",
      "2018-06-05 09:15:55 AM Reading restraint data for /home/dslochower/kirkwood/projects/smirnoff-host-guest-simulations/systems/a-bam-p/smirnoff/a000...\n",
      "2018-06-05 09:16:05 AM Reading restraint data for /home/dslochower/kirkwood/projects/smirnoff-host-guest-simulations/systems/a-bam-p/smirnoff/a000...\n",
      "2018-06-05 09:16:13 AM Reading restraint data for /home/dslochower/kirkwood/projects/smirnoff-host-guest-simulations/systems/a-bam-p/smirnoff/a000...\n",
      "2018-06-05 09:16:23 AM Reading restraint data for /home/dslochower/kirkwood/projects/smirnoff-host-guest-simulations/systems/a-bam-p/smirnoff/a000...\n",
      "2018-06-05 09:16:33 AM Reading restraint data for /home/dslochower/kirkwood/projects/smirnoff-host-guest-simulations/systems/a-bam-p/smirnoff/a000...\n",
      "2018-06-05 09:16:42 AM Reading restraint data for /home/dslochower/kirkwood/projects/smirnoff-host-guest-simulations/systems/a-bam-p/smirnoff/a001...\n",
      "2018-06-05 09:16:42 AM Reading restraint data for /home/dslochower/kirkwood/projects/smirnoff-host-guest-simulations/systems/a-bam-p/smirnoff/a001...\n",
      "2018-06-05 09:16:42 AM Reading restraint data for /home/dslochower/kirkwood/projects/smirnoff-host-guest-simulations/systems/a-bam-p/smirnoff/a001...\n",
      "2018-06-05 09:16:42 AM Reading restraint data for /home/dslochower/kirkwood/projects/smirnoff-host-guest-simulations/systems/a-bam-p/smirnoff/a001...\n",
      "2018-06-05 09:16:42 AM Reading restraint data for /home/dslochower/kirkwood/projects/smirnoff-host-guest-simulations/systems/a-bam-p/smirnoff/a001...\n",
      "2018-06-05 09:16:42 AM Reading restraint data for /home/dslochower/kirkwood/projects/smirnoff-host-guest-simulations/systems/a-bam-p/smirnoff/a001...\n",
      "2018-06-05 09:16:42 AM Reading restraint data for /home/dslochower/kirkwood/projects/smirnoff-host-guest-simulations/systems/a-bam-p/smirnoff/a001...\n",
      "2018-06-05 09:16:42 AM Reading restraint data for /home/dslochower/kirkwood/projects/smirnoff-host-guest-simulations/systems/a-bam-p/smirnoff/a001...\n",
      "2018-06-05 09:16:42 AM Reading restraint data for /home/dslochower/kirkwood/projects/smirnoff-host-guest-simulations/systems/a-bam-p/smirnoff/a001...\n",
      "2018-06-05 09:16:42 AM Reading restraint data for /home/dslochower/kirkwood/projects/smirnoff-host-guest-simulations/systems/a-bam-p/smirnoff/a001...\n",
      "2018-06-05 09:16:42 AM Reading restraint data for /home/dslochower/kirkwood/projects/smirnoff-host-guest-simulations/systems/a-bam-p/smirnoff/a001...\n",
      "2018-06-05 09:16:42 AM Reading restraint data for /home/dslochower/kirkwood/projects/smirnoff-host-guest-simulations/systems/a-bam-p/smirnoff/a001...\n",
      "2018-06-05 09:16:42 AM Reading restraint data for /home/dslochower/kirkwood/projects/smirnoff-host-guest-simulations/systems/a-bam-p/smirnoff/a001...\n",
      "2018-06-05 09:16:42 AM Reading restraint data for /home/dslochower/kirkwood/projects/smirnoff-host-guest-simulations/systems/a-bam-p/smirnoff/a001...\n",
      "2018-06-05 09:16:43 AM Reading restraint data for /home/dslochower/kirkwood/projects/smirnoff-host-guest-simulations/systems/a-bam-p/smirnoff/a001...\n",
      "2018-06-05 09:16:43 AM Reading restraint data for /home/dslochower/kirkwood/projects/smirnoff-host-guest-simulations/systems/a-bam-p/smirnoff/a002...\n",
      "2018-06-05 09:16:43 AM Reading restraint data for /home/dslochower/kirkwood/projects/smirnoff-host-guest-simulations/systems/a-bam-p/smirnoff/a002...\n",
      "2018-06-05 09:16:43 AM Reading restraint data for /home/dslochower/kirkwood/projects/smirnoff-host-guest-simulations/systems/a-bam-p/smirnoff/a002...\n",
      "2018-06-05 09:16:43 AM Reading restraint data for /home/dslochower/kirkwood/projects/smirnoff-host-guest-simulations/systems/a-bam-p/smirnoff/a002...\n",
      "2018-06-05 09:16:43 AM Reading restraint data for /home/dslochower/kirkwood/projects/smirnoff-host-guest-simulations/systems/a-bam-p/smirnoff/a002...\n",
      "2018-06-05 09:16:43 AM Reading restraint data for /home/dslochower/kirkwood/projects/smirnoff-host-guest-simulations/systems/a-bam-p/smirnoff/a002...\n",
      "2018-06-05 09:16:43 AM Reading restraint data for /home/dslochower/kirkwood/projects/smirnoff-host-guest-simulations/systems/a-bam-p/smirnoff/a002...\n",
      "2018-06-05 09:16:43 AM Reading restraint data for /home/dslochower/kirkwood/projects/smirnoff-host-guest-simulations/systems/a-bam-p/smirnoff/a002...\n",
      "2018-06-05 09:16:43 AM Reading restraint data for /home/dslochower/kirkwood/projects/smirnoff-host-guest-simulations/systems/a-bam-p/smirnoff/a002...\n",
      "2018-06-05 09:16:43 AM Reading restraint data for /home/dslochower/kirkwood/projects/smirnoff-host-guest-simulations/systems/a-bam-p/smirnoff/a002...\n",
      "2018-06-05 09:16:43 AM Reading restraint data for /home/dslochower/kirkwood/projects/smirnoff-host-guest-simulations/systems/a-bam-p/smirnoff/a002...\n",
      "2018-06-05 09:16:43 AM Reading restraint data for /home/dslochower/kirkwood/projects/smirnoff-host-guest-simulations/systems/a-bam-p/smirnoff/a002...\n",
      "2018-06-05 09:16:43 AM Reading restraint data for /home/dslochower/kirkwood/projects/smirnoff-host-guest-simulations/systems/a-bam-p/smirnoff/a002...\n",
      "2018-06-05 09:16:43 AM Reading restraint data for /home/dslochower/kirkwood/projects/smirnoff-host-guest-simulations/systems/a-bam-p/smirnoff/a002...\n",
      "2018-06-05 09:16:43 AM Reading restraint data for /home/dslochower/kirkwood/projects/smirnoff-host-guest-simulations/systems/a-bam-p/smirnoff/a002...\n",
      "2018-06-05 09:16:43 AM Reading restraint data for /home/dslochower/kirkwood/projects/smirnoff-host-guest-simulations/systems/a-bam-p/smirnoff/a003...\n",
      "2018-06-05 09:16:43 AM Reading restraint data for /home/dslochower/kirkwood/projects/smirnoff-host-guest-simulations/systems/a-bam-p/smirnoff/a003...\n",
      "2018-06-05 09:16:43 AM Reading restraint data for /home/dslochower/kirkwood/projects/smirnoff-host-guest-simulations/systems/a-bam-p/smirnoff/a003...\n",
      "2018-06-05 09:16:43 AM Reading restraint data for /home/dslochower/kirkwood/projects/smirnoff-host-guest-simulations/systems/a-bam-p/smirnoff/a003...\n",
      "2018-06-05 09:16:44 AM Reading restraint data for /home/dslochower/kirkwood/projects/smirnoff-host-guest-simulations/systems/a-bam-p/smirnoff/a003...\n",
      "2018-06-05 09:16:44 AM Reading restraint data for /home/dslochower/kirkwood/projects/smirnoff-host-guest-simulations/systems/a-bam-p/smirnoff/a003...\n",
      "2018-06-05 09:16:44 AM Reading restraint data for /home/dslochower/kirkwood/projects/smirnoff-host-guest-simulations/systems/a-bam-p/smirnoff/a003...\n",
      "2018-06-05 09:16:44 AM Reading restraint data for /home/dslochower/kirkwood/projects/smirnoff-host-guest-simulations/systems/a-bam-p/smirnoff/a003...\n",
      "2018-06-05 09:16:44 AM Reading restraint data for /home/dslochower/kirkwood/projects/smirnoff-host-guest-simulations/systems/a-bam-p/smirnoff/a003...\n",
      "2018-06-05 09:16:44 AM Reading restraint data for /home/dslochower/kirkwood/projects/smirnoff-host-guest-simulations/systems/a-bam-p/smirnoff/a003...\n",
      "2018-06-05 09:16:44 AM Reading restraint data for /home/dslochower/kirkwood/projects/smirnoff-host-guest-simulations/systems/a-bam-p/smirnoff/a003...\n",
      "2018-06-05 09:16:44 AM Reading restraint data for /home/dslochower/kirkwood/projects/smirnoff-host-guest-simulations/systems/a-bam-p/smirnoff/a003...\n",
      "2018-06-05 09:16:44 AM Reading restraint data for /home/dslochower/kirkwood/projects/smirnoff-host-guest-simulations/systems/a-bam-p/smirnoff/a003...\n",
      "2018-06-05 09:16:44 AM Reading restraint data for /home/dslochower/kirkwood/projects/smirnoff-host-guest-simulations/systems/a-bam-p/smirnoff/a003...\n",
      "2018-06-05 09:16:44 AM Reading restraint data for /home/dslochower/kirkwood/projects/smirnoff-host-guest-simulations/systems/a-bam-p/smirnoff/a003...\n",
      "2018-06-05 09:16:44 AM Reading restraint data for /home/dslochower/kirkwood/projects/smirnoff-host-guest-simulations/systems/a-bam-p/smirnoff/a004...\n",
      "2018-06-05 09:16:44 AM Reading restraint data for /home/dslochower/kirkwood/projects/smirnoff-host-guest-simulations/systems/a-bam-p/smirnoff/a004...\n",
      "2018-06-05 09:16:44 AM Reading restraint data for /home/dslochower/kirkwood/projects/smirnoff-host-guest-simulations/systems/a-bam-p/smirnoff/a004...\n",
      "2018-06-05 09:16:44 AM Reading restraint data for /home/dslochower/kirkwood/projects/smirnoff-host-guest-simulations/systems/a-bam-p/smirnoff/a004...\n",
      "2018-06-05 09:16:44 AM Reading restraint data for /home/dslochower/kirkwood/projects/smirnoff-host-guest-simulations/systems/a-bam-p/smirnoff/a004...\n",
      "2018-06-05 09:16:44 AM Reading restraint data for /home/dslochower/kirkwood/projects/smirnoff-host-guest-simulations/systems/a-bam-p/smirnoff/a004...\n",
      "2018-06-05 09:16:44 AM Reading restraint data for /home/dslochower/kirkwood/projects/smirnoff-host-guest-simulations/systems/a-bam-p/smirnoff/a004...\n",
      "2018-06-05 09:16:44 AM Reading restraint data for /home/dslochower/kirkwood/projects/smirnoff-host-guest-simulations/systems/a-bam-p/smirnoff/a004...\n",
      "2018-06-05 09:16:44 AM Reading restraint data for /home/dslochower/kirkwood/projects/smirnoff-host-guest-simulations/systems/a-bam-p/smirnoff/a004...\n",
      "2018-06-05 09:16:44 AM Reading restraint data for /home/dslochower/kirkwood/projects/smirnoff-host-guest-simulations/systems/a-bam-p/smirnoff/a004...\n",
      "2018-06-05 09:16:45 AM Reading restraint data for /home/dslochower/kirkwood/projects/smirnoff-host-guest-simulations/systems/a-bam-p/smirnoff/a004...\n",
      "2018-06-05 09:16:45 AM Reading restraint data for /home/dslochower/kirkwood/projects/smirnoff-host-guest-simulations/systems/a-bam-p/smirnoff/a004...\n",
      "2018-06-05 09:16:45 AM Reading restraint data for /home/dslochower/kirkwood/projects/smirnoff-host-guest-simulations/systems/a-bam-p/smirnoff/a004...\n",
      "2018-06-05 09:16:45 AM Reading restraint data for /home/dslochower/kirkwood/projects/smirnoff-host-guest-simulations/systems/a-bam-p/smirnoff/a004...\n",
      "2018-06-05 09:16:45 AM Reading restraint data for /home/dslochower/kirkwood/projects/smirnoff-host-guest-simulations/systems/a-bam-p/smirnoff/a004...\n",
      "2018-06-05 09:16:45 AM Reading restraint data for /home/dslochower/kirkwood/projects/smirnoff-host-guest-simulations/systems/a-bam-p/smirnoff/a005...\n",
      "2018-06-05 09:16:45 AM Reading restraint data for /home/dslochower/kirkwood/projects/smirnoff-host-guest-simulations/systems/a-bam-p/smirnoff/a005...\n",
      "2018-06-05 09:16:45 AM Reading restraint data for /home/dslochower/kirkwood/projects/smirnoff-host-guest-simulations/systems/a-bam-p/smirnoff/a005...\n",
      "2018-06-05 09:16:45 AM Reading restraint data for /home/dslochower/kirkwood/projects/smirnoff-host-guest-simulations/systems/a-bam-p/smirnoff/a005...\n",
      "2018-06-05 09:16:45 AM Reading restraint data for /home/dslochower/kirkwood/projects/smirnoff-host-guest-simulations/systems/a-bam-p/smirnoff/a005...\n",
      "2018-06-05 09:16:45 AM Reading restraint data for /home/dslochower/kirkwood/projects/smirnoff-host-guest-simulations/systems/a-bam-p/smirnoff/a005...\n",
      "2018-06-05 09:16:45 AM Reading restraint data for /home/dslochower/kirkwood/projects/smirnoff-host-guest-simulations/systems/a-bam-p/smirnoff/a005...\n",
      "2018-06-05 09:16:45 AM Reading restraint data for /home/dslochower/kirkwood/projects/smirnoff-host-guest-simulations/systems/a-bam-p/smirnoff/a005...\n",
      "2018-06-05 09:16:45 AM Reading restraint data for /home/dslochower/kirkwood/projects/smirnoff-host-guest-simulations/systems/a-bam-p/smirnoff/a005...\n",
      "2018-06-05 09:16:45 AM Reading restraint data for /home/dslochower/kirkwood/projects/smirnoff-host-guest-simulations/systems/a-bam-p/smirnoff/a005...\n",
      "2018-06-05 09:16:45 AM Reading restraint data for /home/dslochower/kirkwood/projects/smirnoff-host-guest-simulations/systems/a-bam-p/smirnoff/a005...\n",
      "2018-06-05 09:16:45 AM Reading restraint data for /home/dslochower/kirkwood/projects/smirnoff-host-guest-simulations/systems/a-bam-p/smirnoff/a005...\n",
      "2018-06-05 09:16:45 AM Reading restraint data for /home/dslochower/kirkwood/projects/smirnoff-host-guest-simulations/systems/a-bam-p/smirnoff/a005...\n",
      "2018-06-05 09:16:45 AM Reading restraint data for /home/dslochower/kirkwood/projects/smirnoff-host-guest-simulations/systems/a-bam-p/smirnoff/a005...\n",
      "2018-06-05 09:16:46 AM Reading restraint data for /home/dslochower/kirkwood/projects/smirnoff-host-guest-simulations/systems/a-bam-p/smirnoff/a005...\n",
      "2018-06-05 09:16:46 AM Reading restraint data for /home/dslochower/kirkwood/projects/smirnoff-host-guest-simulations/systems/a-bam-p/smirnoff/a006...\n",
      "2018-06-05 09:16:46 AM Reading restraint data for /home/dslochower/kirkwood/projects/smirnoff-host-guest-simulations/systems/a-bam-p/smirnoff/a006...\n",
      "2018-06-05 09:16:46 AM Reading restraint data for /home/dslochower/kirkwood/projects/smirnoff-host-guest-simulations/systems/a-bam-p/smirnoff/a006...\n",
      "2018-06-05 09:16:46 AM Reading restraint data for /home/dslochower/kirkwood/projects/smirnoff-host-guest-simulations/systems/a-bam-p/smirnoff/a006...\n",
      "2018-06-05 09:16:46 AM Reading restraint data for /home/dslochower/kirkwood/projects/smirnoff-host-guest-simulations/systems/a-bam-p/smirnoff/a006...\n",
      "2018-06-05 09:16:46 AM Reading restraint data for /home/dslochower/kirkwood/projects/smirnoff-host-guest-simulations/systems/a-bam-p/smirnoff/a006...\n",
      "2018-06-05 09:16:46 AM Reading restraint data for /home/dslochower/kirkwood/projects/smirnoff-host-guest-simulations/systems/a-bam-p/smirnoff/a006...\n",
      "2018-06-05 09:16:46 AM Reading restraint data for /home/dslochower/kirkwood/projects/smirnoff-host-guest-simulations/systems/a-bam-p/smirnoff/a006...\n",
      "2018-06-05 09:16:46 AM Reading restraint data for /home/dslochower/kirkwood/projects/smirnoff-host-guest-simulations/systems/a-bam-p/smirnoff/a006...\n",
      "2018-06-05 09:16:46 AM Reading restraint data for /home/dslochower/kirkwood/projects/smirnoff-host-guest-simulations/systems/a-bam-p/smirnoff/a006...\n",
      "2018-06-05 09:16:46 AM Reading restraint data for /home/dslochower/kirkwood/projects/smirnoff-host-guest-simulations/systems/a-bam-p/smirnoff/a006...\n",
      "2018-06-05 09:16:46 AM Reading restraint data for /home/dslochower/kirkwood/projects/smirnoff-host-guest-simulations/systems/a-bam-p/smirnoff/a006...\n",
      "2018-06-05 09:16:46 AM Reading restraint data for /home/dslochower/kirkwood/projects/smirnoff-host-guest-simulations/systems/a-bam-p/smirnoff/a006...\n",
      "2018-06-05 09:16:46 AM Reading restraint data for /home/dslochower/kirkwood/projects/smirnoff-host-guest-simulations/systems/a-bam-p/smirnoff/a006...\n",
      "2018-06-05 09:16:46 AM Reading restraint data for /home/dslochower/kirkwood/projects/smirnoff-host-guest-simulations/systems/a-bam-p/smirnoff/a006...\n",
      "2018-06-05 09:16:46 AM Reading restraint data for /home/dslochower/kirkwood/projects/smirnoff-host-guest-simulations/systems/a-bam-p/smirnoff/a007...\n",
      "2018-06-05 09:16:47 AM Reading restraint data for /home/dslochower/kirkwood/projects/smirnoff-host-guest-simulations/systems/a-bam-p/smirnoff/a007...\n",
      "2018-06-05 09:16:47 AM Reading restraint data for /home/dslochower/kirkwood/projects/smirnoff-host-guest-simulations/systems/a-bam-p/smirnoff/a007...\n",
      "2018-06-05 09:16:47 AM Reading restraint data for /home/dslochower/kirkwood/projects/smirnoff-host-guest-simulations/systems/a-bam-p/smirnoff/a007...\n",
      "2018-06-05 09:16:47 AM Reading restraint data for /home/dslochower/kirkwood/projects/smirnoff-host-guest-simulations/systems/a-bam-p/smirnoff/a007...\n",
      "2018-06-05 09:16:47 AM Reading restraint data for /home/dslochower/kirkwood/projects/smirnoff-host-guest-simulations/systems/a-bam-p/smirnoff/a007...\n",
      "2018-06-05 09:16:47 AM Reading restraint data for /home/dslochower/kirkwood/projects/smirnoff-host-guest-simulations/systems/a-bam-p/smirnoff/a007...\n",
      "2018-06-05 09:16:47 AM Reading restraint data for /home/dslochower/kirkwood/projects/smirnoff-host-guest-simulations/systems/a-bam-p/smirnoff/a007...\n",
      "2018-06-05 09:16:47 AM Reading restraint data for /home/dslochower/kirkwood/projects/smirnoff-host-guest-simulations/systems/a-bam-p/smirnoff/a007...\n",
      "2018-06-05 09:16:47 AM Reading restraint data for /home/dslochower/kirkwood/projects/smirnoff-host-guest-simulations/systems/a-bam-p/smirnoff/a007...\n",
      "2018-06-05 09:16:47 AM Reading restraint data for /home/dslochower/kirkwood/projects/smirnoff-host-guest-simulations/systems/a-bam-p/smirnoff/a007...\n",
      "2018-06-05 09:16:47 AM Reading restraint data for /home/dslochower/kirkwood/projects/smirnoff-host-guest-simulations/systems/a-bam-p/smirnoff/a007...\n",
      "2018-06-05 09:16:47 AM Reading restraint data for /home/dslochower/kirkwood/projects/smirnoff-host-guest-simulations/systems/a-bam-p/smirnoff/a007...\n",
      "2018-06-05 09:16:47 AM Reading restraint data for /home/dslochower/kirkwood/projects/smirnoff-host-guest-simulations/systems/a-bam-p/smirnoff/a007...\n",
      "2018-06-05 09:16:47 AM Reading restraint data for /home/dslochower/kirkwood/projects/smirnoff-host-guest-simulations/systems/a-bam-p/smirnoff/a007...\n",
      "2018-06-05 09:16:47 AM Reading restraint data for /home/dslochower/kirkwood/projects/smirnoff-host-guest-simulations/systems/a-bam-p/smirnoff/a008...\n",
      "2018-06-05 09:16:47 AM Reading restraint data for /home/dslochower/kirkwood/projects/smirnoff-host-guest-simulations/systems/a-bam-p/smirnoff/a008...\n",
      "2018-06-05 09:16:47 AM Reading restraint data for /home/dslochower/kirkwood/projects/smirnoff-host-guest-simulations/systems/a-bam-p/smirnoff/a008...\n",
      "2018-06-05 09:16:47 AM Reading restraint data for /home/dslochower/kirkwood/projects/smirnoff-host-guest-simulations/systems/a-bam-p/smirnoff/a008...\n",
      "2018-06-05 09:16:47 AM Reading restraint data for /home/dslochower/kirkwood/projects/smirnoff-host-guest-simulations/systems/a-bam-p/smirnoff/a008...\n",
      "2018-06-05 09:16:48 AM Reading restraint data for /home/dslochower/kirkwood/projects/smirnoff-host-guest-simulations/systems/a-bam-p/smirnoff/a008...\n",
      "2018-06-05 09:16:48 AM Reading restraint data for /home/dslochower/kirkwood/projects/smirnoff-host-guest-simulations/systems/a-bam-p/smirnoff/a008...\n",
      "2018-06-05 09:16:48 AM Reading restraint data for /home/dslochower/kirkwood/projects/smirnoff-host-guest-simulations/systems/a-bam-p/smirnoff/a008...\n",
      "2018-06-05 09:16:48 AM Reading restraint data for /home/dslochower/kirkwood/projects/smirnoff-host-guest-simulations/systems/a-bam-p/smirnoff/a008...\n",
      "2018-06-05 09:16:48 AM Reading restraint data for /home/dslochower/kirkwood/projects/smirnoff-host-guest-simulations/systems/a-bam-p/smirnoff/a008...\n",
      "2018-06-05 09:16:48 AM Reading restraint data for /home/dslochower/kirkwood/projects/smirnoff-host-guest-simulations/systems/a-bam-p/smirnoff/a008...\n",
      "2018-06-05 09:16:48 AM Reading restraint data for /home/dslochower/kirkwood/projects/smirnoff-host-guest-simulations/systems/a-bam-p/smirnoff/a008...\n",
      "2018-06-05 09:16:48 AM Reading restraint data for /home/dslochower/kirkwood/projects/smirnoff-host-guest-simulations/systems/a-bam-p/smirnoff/a008...\n",
      "2018-06-05 09:16:48 AM Reading restraint data for /home/dslochower/kirkwood/projects/smirnoff-host-guest-simulations/systems/a-bam-p/smirnoff/a008...\n",
      "2018-06-05 09:16:48 AM Reading restraint data for /home/dslochower/kirkwood/projects/smirnoff-host-guest-simulations/systems/a-bam-p/smirnoff/a008...\n",
      "2018-06-05 09:16:48 AM Reading restraint data for /home/dslochower/kirkwood/projects/smirnoff-host-guest-simulations/systems/a-bam-p/smirnoff/a009...\n",
      "2018-06-05 09:16:48 AM Reading restraint data for /home/dslochower/kirkwood/projects/smirnoff-host-guest-simulations/systems/a-bam-p/smirnoff/a009...\n",
      "2018-06-05 09:16:48 AM Reading restraint data for /home/dslochower/kirkwood/projects/smirnoff-host-guest-simulations/systems/a-bam-p/smirnoff/a009...\n",
      "2018-06-05 09:16:48 AM Reading restraint data for /home/dslochower/kirkwood/projects/smirnoff-host-guest-simulations/systems/a-bam-p/smirnoff/a009...\n",
      "2018-06-05 09:16:48 AM Reading restraint data for /home/dslochower/kirkwood/projects/smirnoff-host-guest-simulations/systems/a-bam-p/smirnoff/a009...\n",
      "2018-06-05 09:16:48 AM Reading restraint data for /home/dslochower/kirkwood/projects/smirnoff-host-guest-simulations/systems/a-bam-p/smirnoff/a009...\n",
      "2018-06-05 09:16:48 AM Reading restraint data for /home/dslochower/kirkwood/projects/smirnoff-host-guest-simulations/systems/a-bam-p/smirnoff/a009...\n",
      "2018-06-05 09:16:48 AM Reading restraint data for /home/dslochower/kirkwood/projects/smirnoff-host-guest-simulations/systems/a-bam-p/smirnoff/a009...\n",
      "2018-06-05 09:16:49 AM Reading restraint data for /home/dslochower/kirkwood/projects/smirnoff-host-guest-simulations/systems/a-bam-p/smirnoff/a009...\n",
      "2018-06-05 09:16:49 AM Reading restraint data for /home/dslochower/kirkwood/projects/smirnoff-host-guest-simulations/systems/a-bam-p/smirnoff/a009...\n",
      "2018-06-05 09:16:49 AM Reading restraint data for /home/dslochower/kirkwood/projects/smirnoff-host-guest-simulations/systems/a-bam-p/smirnoff/a009...\n",
      "2018-06-05 09:16:49 AM Reading restraint data for /home/dslochower/kirkwood/projects/smirnoff-host-guest-simulations/systems/a-bam-p/smirnoff/a009...\n",
      "2018-06-05 09:16:49 AM Reading restraint data for /home/dslochower/kirkwood/projects/smirnoff-host-guest-simulations/systems/a-bam-p/smirnoff/a009...\n",
      "2018-06-05 09:16:49 AM Reading restraint data for /home/dslochower/kirkwood/projects/smirnoff-host-guest-simulations/systems/a-bam-p/smirnoff/a009...\n",
      "2018-06-05 09:16:49 AM Reading restraint data for /home/dslochower/kirkwood/projects/smirnoff-host-guest-simulations/systems/a-bam-p/smirnoff/a009...\n",
      "2018-06-05 09:16:49 AM Reading restraint data for /home/dslochower/kirkwood/projects/smirnoff-host-guest-simulations/systems/a-bam-p/smirnoff/a010...\n",
      "2018-06-05 09:16:49 AM Reading restraint data for /home/dslochower/kirkwood/projects/smirnoff-host-guest-simulations/systems/a-bam-p/smirnoff/a010...\n",
      "2018-06-05 09:16:49 AM Reading restraint data for /home/dslochower/kirkwood/projects/smirnoff-host-guest-simulations/systems/a-bam-p/smirnoff/a010...\n",
      "2018-06-05 09:16:49 AM Reading restraint data for /home/dslochower/kirkwood/projects/smirnoff-host-guest-simulations/systems/a-bam-p/smirnoff/a010...\n",
      "2018-06-05 09:16:49 AM Reading restraint data for /home/dslochower/kirkwood/projects/smirnoff-host-guest-simulations/systems/a-bam-p/smirnoff/a010...\n",
      "2018-06-05 09:16:49 AM Reading restraint data for /home/dslochower/kirkwood/projects/smirnoff-host-guest-simulations/systems/a-bam-p/smirnoff/a010...\n",
      "2018-06-05 09:16:49 AM Reading restraint data for /home/dslochower/kirkwood/projects/smirnoff-host-guest-simulations/systems/a-bam-p/smirnoff/a010...\n",
      "2018-06-05 09:16:49 AM Reading restraint data for /home/dslochower/kirkwood/projects/smirnoff-host-guest-simulations/systems/a-bam-p/smirnoff/a010...\n",
      "2018-06-05 09:16:49 AM Reading restraint data for /home/dslochower/kirkwood/projects/smirnoff-host-guest-simulations/systems/a-bam-p/smirnoff/a010...\n",
      "2018-06-05 09:16:49 AM Reading restraint data for /home/dslochower/kirkwood/projects/smirnoff-host-guest-simulations/systems/a-bam-p/smirnoff/a010...\n",
      "2018-06-05 09:16:49 AM Reading restraint data for /home/dslochower/kirkwood/projects/smirnoff-host-guest-simulations/systems/a-bam-p/smirnoff/a010...\n",
      "2018-06-05 09:16:50 AM Reading restraint data for /home/dslochower/kirkwood/projects/smirnoff-host-guest-simulations/systems/a-bam-p/smirnoff/a010...\n",
      "2018-06-05 09:16:50 AM Reading restraint data for /home/dslochower/kirkwood/projects/smirnoff-host-guest-simulations/systems/a-bam-p/smirnoff/a010...\n",
      "2018-06-05 09:16:50 AM Reading restraint data for /home/dslochower/kirkwood/projects/smirnoff-host-guest-simulations/systems/a-bam-p/smirnoff/a010...\n",
      "2018-06-05 09:16:50 AM Reading restraint data for /home/dslochower/kirkwood/projects/smirnoff-host-guest-simulations/systems/a-bam-p/smirnoff/a010...\n",
      "2018-06-05 09:16:50 AM Reading restraint data for /home/dslochower/kirkwood/projects/smirnoff-host-guest-simulations/systems/a-bam-p/smirnoff/a011...\n",
      "2018-06-05 09:16:50 AM Reading restraint data for /home/dslochower/kirkwood/projects/smirnoff-host-guest-simulations/systems/a-bam-p/smirnoff/a011...\n",
      "2018-06-05 09:16:50 AM Reading restraint data for /home/dslochower/kirkwood/projects/smirnoff-host-guest-simulations/systems/a-bam-p/smirnoff/a011...\n",
      "2018-06-05 09:16:50 AM Reading restraint data for /home/dslochower/kirkwood/projects/smirnoff-host-guest-simulations/systems/a-bam-p/smirnoff/a011...\n",
      "2018-06-05 09:16:50 AM Reading restraint data for /home/dslochower/kirkwood/projects/smirnoff-host-guest-simulations/systems/a-bam-p/smirnoff/a011...\n",
      "2018-06-05 09:16:50 AM Reading restraint data for /home/dslochower/kirkwood/projects/smirnoff-host-guest-simulations/systems/a-bam-p/smirnoff/a011...\n",
      "2018-06-05 09:16:50 AM Reading restraint data for /home/dslochower/kirkwood/projects/smirnoff-host-guest-simulations/systems/a-bam-p/smirnoff/a011...\n",
      "2018-06-05 09:16:50 AM Reading restraint data for /home/dslochower/kirkwood/projects/smirnoff-host-guest-simulations/systems/a-bam-p/smirnoff/a011...\n",
      "2018-06-05 09:16:50 AM Reading restraint data for /home/dslochower/kirkwood/projects/smirnoff-host-guest-simulations/systems/a-bam-p/smirnoff/a011...\n",
      "2018-06-05 09:16:50 AM Reading restraint data for /home/dslochower/kirkwood/projects/smirnoff-host-guest-simulations/systems/a-bam-p/smirnoff/a011...\n",
      "2018-06-05 09:16:50 AM Reading restraint data for /home/dslochower/kirkwood/projects/smirnoff-host-guest-simulations/systems/a-bam-p/smirnoff/a011...\n",
      "2018-06-05 09:16:50 AM Reading restraint data for /home/dslochower/kirkwood/projects/smirnoff-host-guest-simulations/systems/a-bam-p/smirnoff/a011...\n",
      "2018-06-05 09:16:50 AM Reading restraint data for /home/dslochower/kirkwood/projects/smirnoff-host-guest-simulations/systems/a-bam-p/smirnoff/a011...\n",
      "2018-06-05 09:16:50 AM Reading restraint data for /home/dslochower/kirkwood/projects/smirnoff-host-guest-simulations/systems/a-bam-p/smirnoff/a011...\n",
      "2018-06-05 09:16:51 AM Reading restraint data for /home/dslochower/kirkwood/projects/smirnoff-host-guest-simulations/systems/a-bam-p/smirnoff/a011...\n",
      "2018-06-05 09:16:51 AM Reading restraint data for /home/dslochower/kirkwood/projects/smirnoff-host-guest-simulations/systems/a-bam-p/smirnoff/a012...\n",
      "2018-06-05 09:16:51 AM Reading restraint data for /home/dslochower/kirkwood/projects/smirnoff-host-guest-simulations/systems/a-bam-p/smirnoff/a012...\n",
      "2018-06-05 09:16:51 AM Reading restraint data for /home/dslochower/kirkwood/projects/smirnoff-host-guest-simulations/systems/a-bam-p/smirnoff/a012...\n",
      "2018-06-05 09:16:51 AM Reading restraint data for /home/dslochower/kirkwood/projects/smirnoff-host-guest-simulations/systems/a-bam-p/smirnoff/a012...\n",
      "2018-06-05 09:16:51 AM Reading restraint data for /home/dslochower/kirkwood/projects/smirnoff-host-guest-simulations/systems/a-bam-p/smirnoff/a012...\n",
      "2018-06-05 09:16:51 AM Reading restraint data for /home/dslochower/kirkwood/projects/smirnoff-host-guest-simulations/systems/a-bam-p/smirnoff/a012...\n",
      "2018-06-05 09:16:51 AM Reading restraint data for /home/dslochower/kirkwood/projects/smirnoff-host-guest-simulations/systems/a-bam-p/smirnoff/a012...\n",
      "2018-06-05 09:16:51 AM Reading restraint data for /home/dslochower/kirkwood/projects/smirnoff-host-guest-simulations/systems/a-bam-p/smirnoff/a012...\n",
      "2018-06-05 09:16:51 AM Reading restraint data for /home/dslochower/kirkwood/projects/smirnoff-host-guest-simulations/systems/a-bam-p/smirnoff/a012...\n",
      "2018-06-05 09:16:51 AM Reading restraint data for /home/dslochower/kirkwood/projects/smirnoff-host-guest-simulations/systems/a-bam-p/smirnoff/a012...\n",
      "2018-06-05 09:16:51 AM Reading restraint data for /home/dslochower/kirkwood/projects/smirnoff-host-guest-simulations/systems/a-bam-p/smirnoff/a012...\n",
      "2018-06-05 09:16:51 AM Reading restraint data for /home/dslochower/kirkwood/projects/smirnoff-host-guest-simulations/systems/a-bam-p/smirnoff/a012...\n",
      "2018-06-05 09:16:51 AM Reading restraint data for /home/dslochower/kirkwood/projects/smirnoff-host-guest-simulations/systems/a-bam-p/smirnoff/a012...\n",
      "2018-06-05 09:16:51 AM Reading restraint data for /home/dslochower/kirkwood/projects/smirnoff-host-guest-simulations/systems/a-bam-p/smirnoff/a012...\n",
      "2018-06-05 09:16:51 AM Reading restraint data for /home/dslochower/kirkwood/projects/smirnoff-host-guest-simulations/systems/a-bam-p/smirnoff/a012...\n",
      "2018-06-05 09:16:51 AM Reading restraint data for /home/dslochower/kirkwood/projects/smirnoff-host-guest-simulations/systems/a-bam-p/smirnoff/a013...\n",
      "2018-06-05 09:16:51 AM Reading restraint data for /home/dslochower/kirkwood/projects/smirnoff-host-guest-simulations/systems/a-bam-p/smirnoff/a013...\n",
      "2018-06-05 09:16:52 AM Reading restraint data for /home/dslochower/kirkwood/projects/smirnoff-host-guest-simulations/systems/a-bam-p/smirnoff/a013...\n",
      "2018-06-05 09:16:52 AM Reading restraint data for /home/dslochower/kirkwood/projects/smirnoff-host-guest-simulations/systems/a-bam-p/smirnoff/a013...\n",
      "2018-06-05 09:16:52 AM Reading restraint data for /home/dslochower/kirkwood/projects/smirnoff-host-guest-simulations/systems/a-bam-p/smirnoff/a013...\n",
      "2018-06-05 09:16:52 AM Reading restraint data for /home/dslochower/kirkwood/projects/smirnoff-host-guest-simulations/systems/a-bam-p/smirnoff/a013...\n",
      "2018-06-05 09:16:52 AM Reading restraint data for /home/dslochower/kirkwood/projects/smirnoff-host-guest-simulations/systems/a-bam-p/smirnoff/a013...\n",
      "2018-06-05 09:16:52 AM Reading restraint data for /home/dslochower/kirkwood/projects/smirnoff-host-guest-simulations/systems/a-bam-p/smirnoff/a013...\n",
      "2018-06-05 09:16:52 AM Reading restraint data for /home/dslochower/kirkwood/projects/smirnoff-host-guest-simulations/systems/a-bam-p/smirnoff/a013...\n",
      "2018-06-05 09:16:52 AM Reading restraint data for /home/dslochower/kirkwood/projects/smirnoff-host-guest-simulations/systems/a-bam-p/smirnoff/a013...\n",
      "2018-06-05 09:16:52 AM Reading restraint data for /home/dslochower/kirkwood/projects/smirnoff-host-guest-simulations/systems/a-bam-p/smirnoff/a013...\n",
      "2018-06-05 09:16:52 AM Reading restraint data for /home/dslochower/kirkwood/projects/smirnoff-host-guest-simulations/systems/a-bam-p/smirnoff/a013...\n",
      "2018-06-05 09:16:52 AM Reading restraint data for /home/dslochower/kirkwood/projects/smirnoff-host-guest-simulations/systems/a-bam-p/smirnoff/a013...\n",
      "2018-06-05 09:16:52 AM Reading restraint data for /home/dslochower/kirkwood/projects/smirnoff-host-guest-simulations/systems/a-bam-p/smirnoff/a013...\n",
      "2018-06-05 09:16:52 AM Reading restraint data for /home/dslochower/kirkwood/projects/smirnoff-host-guest-simulations/systems/a-bam-p/smirnoff/a013...\n",
      "2018-06-05 09:16:52 AM Reading restraint data for /home/dslochower/kirkwood/projects/smirnoff-host-guest-simulations/systems/a-bam-p/smirnoff/p000...\n",
      "2018-06-05 09:16:52 AM Reading restraint data for /home/dslochower/kirkwood/projects/smirnoff-host-guest-simulations/systems/a-bam-p/smirnoff/p000...\n",
      "2018-06-05 09:16:52 AM Reading restraint data for /home/dslochower/kirkwood/projects/smirnoff-host-guest-simulations/systems/a-bam-p/smirnoff/p000...\n",
      "2018-06-05 09:16:52 AM Reading restraint data for /home/dslochower/kirkwood/projects/smirnoff-host-guest-simulations/systems/a-bam-p/smirnoff/p000...\n",
      "2018-06-05 09:16:52 AM Reading restraint data for /home/dslochower/kirkwood/projects/smirnoff-host-guest-simulations/systems/a-bam-p/smirnoff/p000...\n",
      "2018-06-05 09:16:53 AM Reading restraint data for /home/dslochower/kirkwood/projects/smirnoff-host-guest-simulations/systems/a-bam-p/smirnoff/p000...\n",
      "2018-06-05 09:16:53 AM Reading restraint data for /home/dslochower/kirkwood/projects/smirnoff-host-guest-simulations/systems/a-bam-p/smirnoff/p000...\n",
      "2018-06-05 09:16:53 AM Reading restraint data for /home/dslochower/kirkwood/projects/smirnoff-host-guest-simulations/systems/a-bam-p/smirnoff/p000...\n",
      "2018-06-05 09:16:53 AM Reading restraint data for /home/dslochower/kirkwood/projects/smirnoff-host-guest-simulations/systems/a-bam-p/smirnoff/p000...\n",
      "2018-06-05 09:16:53 AM Reading restraint data for /home/dslochower/kirkwood/projects/smirnoff-host-guest-simulations/systems/a-bam-p/smirnoff/p000...\n",
      "2018-06-05 09:16:53 AM Reading restraint data for /home/dslochower/kirkwood/projects/smirnoff-host-guest-simulations/systems/a-bam-p/smirnoff/p000...\n",
      "2018-06-05 09:16:53 AM Reading restraint data for /home/dslochower/kirkwood/projects/smirnoff-host-guest-simulations/systems/a-bam-p/smirnoff/p000...\n",
      "2018-06-05 09:16:53 AM Reading restraint data for /home/dslochower/kirkwood/projects/smirnoff-host-guest-simulations/systems/a-bam-p/smirnoff/p000...\n",
      "2018-06-05 09:16:53 AM Reading restraint data for /home/dslochower/kirkwood/projects/smirnoff-host-guest-simulations/systems/a-bam-p/smirnoff/p000...\n",
      "2018-06-05 09:16:53 AM Reading restraint data for /home/dslochower/kirkwood/projects/smirnoff-host-guest-simulations/systems/a-bam-p/smirnoff/p000...\n",
      "2018-06-05 09:16:53 AM Reading restraint data for /home/dslochower/kirkwood/projects/smirnoff-host-guest-simulations/systems/a-bam-p/smirnoff/p000...\n",
      "2018-06-05 09:16:53 AM Reading restraint data for /home/dslochower/kirkwood/projects/smirnoff-host-guest-simulations/systems/a-bam-p/smirnoff/p001...\n",
      "2018-06-05 09:16:53 AM Reading restraint data for /home/dslochower/kirkwood/projects/smirnoff-host-guest-simulations/systems/a-bam-p/smirnoff/p002...\n",
      "2018-06-05 09:16:53 AM Reading restraint data for /home/dslochower/kirkwood/projects/smirnoff-host-guest-simulations/systems/a-bam-p/smirnoff/p003...\n",
      "2018-06-05 09:16:53 AM Reading restraint data for /home/dslochower/kirkwood/projects/smirnoff-host-guest-simulations/systems/a-bam-p/smirnoff/p004...\n",
      "2018-06-05 09:16:53 AM Reading restraint data for /home/dslochower/kirkwood/projects/smirnoff-host-guest-simulations/systems/a-bam-p/smirnoff/p005...\n",
      "2018-06-05 09:16:53 AM Reading restraint data for /home/dslochower/kirkwood/projects/smirnoff-host-guest-simulations/systems/a-bam-p/smirnoff/p006...\n",
      "2018-06-05 09:16:53 AM Reading restraint data for /home/dslochower/kirkwood/projects/smirnoff-host-guest-simulations/systems/a-bam-p/smirnoff/p007...\n",
      "2018-06-05 09:16:53 AM Reading restraint data for /home/dslochower/kirkwood/projects/smirnoff-host-guest-simulations/systems/a-bam-p/smirnoff/p008...\n",
      "2018-06-05 09:16:53 AM Reading restraint data for /home/dslochower/kirkwood/projects/smirnoff-host-guest-simulations/systems/a-bam-p/smirnoff/p009...\n",
      "2018-06-05 09:16:54 AM Reading restraint data for /home/dslochower/kirkwood/projects/smirnoff-host-guest-simulations/systems/a-bam-p/smirnoff/p010...\n",
      "2018-06-05 09:16:54 AM Reading restraint data for /home/dslochower/kirkwood/projects/smirnoff-host-guest-simulations/systems/a-bam-p/smirnoff/p011...\n",
      "2018-06-05 09:16:54 AM Reading restraint data for /home/dslochower/kirkwood/projects/smirnoff-host-guest-simulations/systems/a-bam-p/smirnoff/p012...\n",
      "2018-06-05 09:16:54 AM Reading restraint data for /home/dslochower/kirkwood/projects/smirnoff-host-guest-simulations/systems/a-bam-p/smirnoff/p013...\n",
      "2018-06-05 09:16:54 AM Reading restraint data for /home/dslochower/kirkwood/projects/smirnoff-host-guest-simulations/systems/a-bam-p/smirnoff/p014...\n",
      "2018-06-05 09:16:54 AM Reading restraint data for /home/dslochower/kirkwood/projects/smirnoff-host-guest-simulations/systems/a-bam-p/smirnoff/p015...\n",
      "2018-06-05 09:16:54 AM Reading restraint data for /home/dslochower/kirkwood/projects/smirnoff-host-guest-simulations/systems/a-bam-p/smirnoff/p016...\n",
      "2018-06-05 09:16:54 AM Reading restraint data for /home/dslochower/kirkwood/projects/smirnoff-host-guest-simulations/systems/a-bam-p/smirnoff/p017...\n",
      "2018-06-05 09:16:54 AM Reading restraint data for /home/dslochower/kirkwood/projects/smirnoff-host-guest-simulations/systems/a-bam-p/smirnoff/p018...\n",
      "2018-06-05 09:16:54 AM Reading restraint data for /home/dslochower/kirkwood/projects/smirnoff-host-guest-simulations/systems/a-bam-p/smirnoff/p019...\n",
      "2018-06-05 09:16:54 AM Reading restraint data for /home/dslochower/kirkwood/projects/smirnoff-host-guest-simulations/systems/a-bam-p/smirnoff/p020...\n",
      "2018-06-05 09:16:54 AM Reading restraint data for /home/dslochower/kirkwood/projects/smirnoff-host-guest-simulations/systems/a-bam-p/smirnoff/p021...\n",
      "2018-06-05 09:16:54 AM Reading restraint data for /home/dslochower/kirkwood/projects/smirnoff-host-guest-simulations/systems/a-bam-p/smirnoff/p022...\n",
      "2018-06-05 09:16:54 AM Reading restraint data for /home/dslochower/kirkwood/projects/smirnoff-host-guest-simulations/systems/a-bam-p/smirnoff/p023...\n",
      "2018-06-05 09:16:54 AM Reading restraint data for /home/dslochower/kirkwood/projects/smirnoff-host-guest-simulations/systems/a-bam-p/smirnoff/p024...\n",
      "2018-06-05 09:16:54 AM Reading restraint data for /home/dslochower/kirkwood/projects/smirnoff-host-guest-simulations/systems/a-bam-p/smirnoff/p025...\n",
      "2018-06-05 09:16:54 AM Reading restraint data for /home/dslochower/kirkwood/projects/smirnoff-host-guest-simulations/systems/a-bam-p/smirnoff/p026...\n",
      "2018-06-05 09:16:54 AM Reading restraint data for /home/dslochower/kirkwood/projects/smirnoff-host-guest-simulations/systems/a-bam-p/smirnoff/p027...\n",
      "2018-06-05 09:16:54 AM Reading restraint data for /home/dslochower/kirkwood/projects/smirnoff-host-guest-simulations/systems/a-bam-p/smirnoff/p028...\n",
      "2018-06-05 09:16:54 AM Reading restraint data for /home/dslochower/kirkwood/projects/smirnoff-host-guest-simulations/systems/a-bam-p/smirnoff/p029...\n",
      "2018-06-05 09:16:54 AM Reading restraint data for /home/dslochower/kirkwood/projects/smirnoff-host-guest-simulations/systems/a-bam-p/smirnoff/p030...\n",
      "2018-06-05 09:16:54 AM Reading restraint data for /home/dslochower/kirkwood/projects/smirnoff-host-guest-simulations/systems/a-bam-p/smirnoff/p031...\n",
      "2018-06-05 09:16:54 AM Reading restraint data for /home/dslochower/kirkwood/projects/smirnoff-host-guest-simulations/systems/a-bam-p/smirnoff/p032...\n",
      "2018-06-05 09:16:55 AM Reading restraint data for /home/dslochower/kirkwood/projects/smirnoff-host-guest-simulations/systems/a-bam-p/smirnoff/p033...\n",
      "2018-06-05 09:16:55 AM Reading restraint data for /home/dslochower/kirkwood/projects/smirnoff-host-guest-simulations/systems/a-bam-p/smirnoff/p034...\n",
      "2018-06-05 09:16:55 AM Reading restraint data for /home/dslochower/kirkwood/projects/smirnoff-host-guest-simulations/systems/a-bam-p/smirnoff/p035...\n",
      "2018-06-05 09:16:55 AM Reading restraint data for /home/dslochower/kirkwood/projects/smirnoff-host-guest-simulations/systems/a-bam-p/smirnoff/p036...\n",
      "2018-06-05 09:16:55 AM Reading restraint data for /home/dslochower/kirkwood/projects/smirnoff-host-guest-simulations/systems/a-bam-p/smirnoff/p037...\n",
      "2018-06-05 09:16:55 AM Reading restraint data for /home/dslochower/kirkwood/projects/smirnoff-host-guest-simulations/systems/a-bam-p/smirnoff/p038...\n",
      "2018-06-05 09:16:55 AM Reading restraint data for /home/dslochower/kirkwood/projects/smirnoff-host-guest-simulations/systems/a-bam-p/smirnoff/p039...\n",
      "2018-06-05 09:16:55 AM Reading restraint data for /home/dslochower/kirkwood/projects/smirnoff-host-guest-simulations/systems/a-bam-p/smirnoff/p040...\n",
      "2018-06-05 09:16:55 AM Reading restraint data for /home/dslochower/kirkwood/projects/smirnoff-host-guest-simulations/systems/a-bam-p/smirnoff/p041...\n",
      "2018-06-05 09:16:55 AM Reading restraint data for /home/dslochower/kirkwood/projects/smirnoff-host-guest-simulations/systems/a-bam-p/smirnoff/p042...\n",
      "2018-06-05 09:16:55 AM Reading restraint data for /home/dslochower/kirkwood/projects/smirnoff-host-guest-simulations/systems/a-bam-p/smirnoff/p043...\n",
      "2018-06-05 09:16:55 AM Reading restraint data for /home/dslochower/kirkwood/projects/smirnoff-host-guest-simulations/systems/a-bam-p/smirnoff/p044...\n",
      "2018-06-05 09:16:55 AM Reading restraint data for /home/dslochower/kirkwood/projects/smirnoff-host-guest-simulations/systems/a-bam-p/smirnoff/p045...\n",
      "2018-06-05 09:17:27 AM Reading restraint data for /home/dslochower/kirkwood/projects/smirnoff-host-guest-simulations/systems/a-bam-p/smirnoff/r014...\n",
      "2018-06-05 09:17:27 AM Reading restraint data for /home/dslochower/kirkwood/projects/smirnoff-host-guest-simulations/systems/a-bam-p/smirnoff/r014...\n",
      "2018-06-05 09:17:27 AM Reading restraint data for /home/dslochower/kirkwood/projects/smirnoff-host-guest-simulations/systems/a-bam-p/smirnoff/r014...\n",
      "2018-06-05 09:17:27 AM Reading restraint data for /home/dslochower/kirkwood/projects/smirnoff-host-guest-simulations/systems/a-bam-p/smirnoff/r014...\n",
      "2018-06-05 09:17:27 AM Reading restraint data for /home/dslochower/kirkwood/projects/smirnoff-host-guest-simulations/systems/a-bam-p/smirnoff/r014...\n",
      "2018-06-05 09:17:28 AM Reading restraint data for /home/dslochower/kirkwood/projects/smirnoff-host-guest-simulations/systems/a-bam-p/smirnoff/r014...\n",
      "2018-06-05 09:17:28 AM Reading restraint data for /home/dslochower/kirkwood/projects/smirnoff-host-guest-simulations/systems/a-bam-p/smirnoff/r014...\n",
      "2018-06-05 09:17:28 AM Reading restraint data for /home/dslochower/kirkwood/projects/smirnoff-host-guest-simulations/systems/a-bam-p/smirnoff/r014...\n",
      "2018-06-05 09:17:28 AM Reading restraint data for /home/dslochower/kirkwood/projects/smirnoff-host-guest-simulations/systems/a-bam-p/smirnoff/r014...\n",
      "2018-06-05 09:17:28 AM Reading restraint data for /home/dslochower/kirkwood/projects/smirnoff-host-guest-simulations/systems/a-bam-p/smirnoff/r014...\n",
      "2018-06-05 09:17:28 AM Reading restraint data for /home/dslochower/kirkwood/projects/smirnoff-host-guest-simulations/systems/a-bam-p/smirnoff/r014...\n",
      "2018-06-05 09:17:28 AM Reading restraint data for /home/dslochower/kirkwood/projects/smirnoff-host-guest-simulations/systems/a-bam-p/smirnoff/r014...\n",
      "2018-06-05 09:17:28 AM Reading restraint data for /home/dslochower/kirkwood/projects/smirnoff-host-guest-simulations/systems/a-bam-p/smirnoff/r013...\n",
      "2018-06-05 09:17:28 AM Reading restraint data for /home/dslochower/kirkwood/projects/smirnoff-host-guest-simulations/systems/a-bam-p/smirnoff/r013...\n",
      "2018-06-05 09:17:28 AM Reading restraint data for /home/dslochower/kirkwood/projects/smirnoff-host-guest-simulations/systems/a-bam-p/smirnoff/r013...\n",
      "2018-06-05 09:17:28 AM Reading restraint data for /home/dslochower/kirkwood/projects/smirnoff-host-guest-simulations/systems/a-bam-p/smirnoff/r013...\n",
      "2018-06-05 09:17:28 AM Reading restraint data for /home/dslochower/kirkwood/projects/smirnoff-host-guest-simulations/systems/a-bam-p/smirnoff/r013...\n",
      "2018-06-05 09:17:28 AM Reading restraint data for /home/dslochower/kirkwood/projects/smirnoff-host-guest-simulations/systems/a-bam-p/smirnoff/r013...\n",
      "2018-06-05 09:17:28 AM Reading restraint data for /home/dslochower/kirkwood/projects/smirnoff-host-guest-simulations/systems/a-bam-p/smirnoff/r013...\n",
      "2018-06-05 09:17:28 AM Reading restraint data for /home/dslochower/kirkwood/projects/smirnoff-host-guest-simulations/systems/a-bam-p/smirnoff/r013...\n",
      "2018-06-05 09:17:28 AM Reading restraint data for /home/dslochower/kirkwood/projects/smirnoff-host-guest-simulations/systems/a-bam-p/smirnoff/r013...\n",
      "2018-06-05 09:17:28 AM Reading restraint data for /home/dslochower/kirkwood/projects/smirnoff-host-guest-simulations/systems/a-bam-p/smirnoff/r013...\n",
      "2018-06-05 09:17:28 AM Reading restraint data for /home/dslochower/kirkwood/projects/smirnoff-host-guest-simulations/systems/a-bam-p/smirnoff/r013...\n",
      "2018-06-05 09:17:29 AM Reading restraint data for /home/dslochower/kirkwood/projects/smirnoff-host-guest-simulations/systems/a-bam-p/smirnoff/r013...\n",
      "2018-06-05 09:17:29 AM Reading restraint data for /home/dslochower/kirkwood/projects/smirnoff-host-guest-simulations/systems/a-bam-p/smirnoff/r012...\n",
      "2018-06-05 09:17:29 AM Reading restraint data for /home/dslochower/kirkwood/projects/smirnoff-host-guest-simulations/systems/a-bam-p/smirnoff/r012...\n",
      "2018-06-05 09:17:29 AM Reading restraint data for /home/dslochower/kirkwood/projects/smirnoff-host-guest-simulations/systems/a-bam-p/smirnoff/r012...\n",
      "2018-06-05 09:17:29 AM Reading restraint data for /home/dslochower/kirkwood/projects/smirnoff-host-guest-simulations/systems/a-bam-p/smirnoff/r012...\n",
      "2018-06-05 09:17:29 AM Reading restraint data for /home/dslochower/kirkwood/projects/smirnoff-host-guest-simulations/systems/a-bam-p/smirnoff/r012...\n",
      "2018-06-05 09:17:29 AM Reading restraint data for /home/dslochower/kirkwood/projects/smirnoff-host-guest-simulations/systems/a-bam-p/smirnoff/r012...\n",
      "2018-06-05 09:17:29 AM Reading restraint data for /home/dslochower/kirkwood/projects/smirnoff-host-guest-simulations/systems/a-bam-p/smirnoff/r012...\n",
      "2018-06-05 09:17:29 AM Reading restraint data for /home/dslochower/kirkwood/projects/smirnoff-host-guest-simulations/systems/a-bam-p/smirnoff/r012...\n",
      "2018-06-05 09:17:29 AM Reading restraint data for /home/dslochower/kirkwood/projects/smirnoff-host-guest-simulations/systems/a-bam-p/smirnoff/r012...\n",
      "2018-06-05 09:17:29 AM Reading restraint data for /home/dslochower/kirkwood/projects/smirnoff-host-guest-simulations/systems/a-bam-p/smirnoff/r012...\n",
      "2018-06-05 09:17:29 AM Reading restraint data for /home/dslochower/kirkwood/projects/smirnoff-host-guest-simulations/systems/a-bam-p/smirnoff/r012...\n",
      "2018-06-05 09:17:29 AM Reading restraint data for /home/dslochower/kirkwood/projects/smirnoff-host-guest-simulations/systems/a-bam-p/smirnoff/r012...\n",
      "2018-06-05 09:17:29 AM Reading restraint data for /home/dslochower/kirkwood/projects/smirnoff-host-guest-simulations/systems/a-bam-p/smirnoff/r011...\n",
      "2018-06-05 09:17:29 AM Reading restraint data for /home/dslochower/kirkwood/projects/smirnoff-host-guest-simulations/systems/a-bam-p/smirnoff/r011...\n",
      "2018-06-05 09:17:29 AM Reading restraint data for /home/dslochower/kirkwood/projects/smirnoff-host-guest-simulations/systems/a-bam-p/smirnoff/r011...\n",
      "2018-06-05 09:17:29 AM Reading restraint data for /home/dslochower/kirkwood/projects/smirnoff-host-guest-simulations/systems/a-bam-p/smirnoff/r011...\n",
      "2018-06-05 09:17:29 AM Reading restraint data for /home/dslochower/kirkwood/projects/smirnoff-host-guest-simulations/systems/a-bam-p/smirnoff/r011...\n",
      "2018-06-05 09:17:30 AM Reading restraint data for /home/dslochower/kirkwood/projects/smirnoff-host-guest-simulations/systems/a-bam-p/smirnoff/r011...\n",
      "2018-06-05 09:17:30 AM Reading restraint data for /home/dslochower/kirkwood/projects/smirnoff-host-guest-simulations/systems/a-bam-p/smirnoff/r011...\n",
      "2018-06-05 09:17:30 AM Reading restraint data for /home/dslochower/kirkwood/projects/smirnoff-host-guest-simulations/systems/a-bam-p/smirnoff/r011...\n",
      "2018-06-05 09:17:30 AM Reading restraint data for /home/dslochower/kirkwood/projects/smirnoff-host-guest-simulations/systems/a-bam-p/smirnoff/r011...\n",
      "2018-06-05 09:17:30 AM Reading restraint data for /home/dslochower/kirkwood/projects/smirnoff-host-guest-simulations/systems/a-bam-p/smirnoff/r011...\n",
      "2018-06-05 09:17:30 AM Reading restraint data for /home/dslochower/kirkwood/projects/smirnoff-host-guest-simulations/systems/a-bam-p/smirnoff/r011...\n",
      "2018-06-05 09:17:30 AM Reading restraint data for /home/dslochower/kirkwood/projects/smirnoff-host-guest-simulations/systems/a-bam-p/smirnoff/r011...\n",
      "2018-06-05 09:17:30 AM Reading restraint data for /home/dslochower/kirkwood/projects/smirnoff-host-guest-simulations/systems/a-bam-p/smirnoff/r010...\n",
      "2018-06-05 09:17:30 AM Reading restraint data for /home/dslochower/kirkwood/projects/smirnoff-host-guest-simulations/systems/a-bam-p/smirnoff/r010...\n",
      "2018-06-05 09:17:30 AM Reading restraint data for /home/dslochower/kirkwood/projects/smirnoff-host-guest-simulations/systems/a-bam-p/smirnoff/r010...\n",
      "2018-06-05 09:17:30 AM Reading restraint data for /home/dslochower/kirkwood/projects/smirnoff-host-guest-simulations/systems/a-bam-p/smirnoff/r010...\n",
      "2018-06-05 09:17:30 AM Reading restraint data for /home/dslochower/kirkwood/projects/smirnoff-host-guest-simulations/systems/a-bam-p/smirnoff/r010...\n",
      "2018-06-05 09:17:30 AM Reading restraint data for /home/dslochower/kirkwood/projects/smirnoff-host-guest-simulations/systems/a-bam-p/smirnoff/r010...\n",
      "2018-06-05 09:17:30 AM Reading restraint data for /home/dslochower/kirkwood/projects/smirnoff-host-guest-simulations/systems/a-bam-p/smirnoff/r010...\n",
      "2018-06-05 09:17:30 AM Reading restraint data for /home/dslochower/kirkwood/projects/smirnoff-host-guest-simulations/systems/a-bam-p/smirnoff/r010...\n",
      "2018-06-05 09:17:30 AM Reading restraint data for /home/dslochower/kirkwood/projects/smirnoff-host-guest-simulations/systems/a-bam-p/smirnoff/r010...\n",
      "2018-06-05 09:17:30 AM Reading restraint data for /home/dslochower/kirkwood/projects/smirnoff-host-guest-simulations/systems/a-bam-p/smirnoff/r010...\n",
      "2018-06-05 09:17:31 AM Reading restraint data for /home/dslochower/kirkwood/projects/smirnoff-host-guest-simulations/systems/a-bam-p/smirnoff/r010...\n",
      "2018-06-05 09:17:31 AM Reading restraint data for /home/dslochower/kirkwood/projects/smirnoff-host-guest-simulations/systems/a-bam-p/smirnoff/r010...\n",
      "2018-06-05 09:17:31 AM Reading restraint data for /home/dslochower/kirkwood/projects/smirnoff-host-guest-simulations/systems/a-bam-p/smirnoff/r009...\n",
      "2018-06-05 09:17:31 AM Reading restraint data for /home/dslochower/kirkwood/projects/smirnoff-host-guest-simulations/systems/a-bam-p/smirnoff/r009...\n",
      "2018-06-05 09:17:31 AM Reading restraint data for /home/dslochower/kirkwood/projects/smirnoff-host-guest-simulations/systems/a-bam-p/smirnoff/r009...\n",
      "2018-06-05 09:17:31 AM Reading restraint data for /home/dslochower/kirkwood/projects/smirnoff-host-guest-simulations/systems/a-bam-p/smirnoff/r009...\n",
      "2018-06-05 09:17:31 AM Reading restraint data for /home/dslochower/kirkwood/projects/smirnoff-host-guest-simulations/systems/a-bam-p/smirnoff/r009...\n",
      "2018-06-05 09:17:31 AM Reading restraint data for /home/dslochower/kirkwood/projects/smirnoff-host-guest-simulations/systems/a-bam-p/smirnoff/r009...\n",
      "2018-06-05 09:17:31 AM Reading restraint data for /home/dslochower/kirkwood/projects/smirnoff-host-guest-simulations/systems/a-bam-p/smirnoff/r009...\n",
      "2018-06-05 09:17:31 AM Reading restraint data for /home/dslochower/kirkwood/projects/smirnoff-host-guest-simulations/systems/a-bam-p/smirnoff/r009...\n",
      "2018-06-05 09:17:31 AM Reading restraint data for /home/dslochower/kirkwood/projects/smirnoff-host-guest-simulations/systems/a-bam-p/smirnoff/r009...\n",
      "2018-06-05 09:17:31 AM Reading restraint data for /home/dslochower/kirkwood/projects/smirnoff-host-guest-simulations/systems/a-bam-p/smirnoff/r009...\n",
      "2018-06-05 09:17:31 AM Reading restraint data for /home/dslochower/kirkwood/projects/smirnoff-host-guest-simulations/systems/a-bam-p/smirnoff/r009...\n",
      "2018-06-05 09:17:31 AM Reading restraint data for /home/dslochower/kirkwood/projects/smirnoff-host-guest-simulations/systems/a-bam-p/smirnoff/r009...\n",
      "2018-06-05 09:17:31 AM Reading restraint data for /home/dslochower/kirkwood/projects/smirnoff-host-guest-simulations/systems/a-bam-p/smirnoff/r008...\n",
      "2018-06-05 09:17:31 AM Reading restraint data for /home/dslochower/kirkwood/projects/smirnoff-host-guest-simulations/systems/a-bam-p/smirnoff/r008...\n",
      "2018-06-05 09:17:31 AM Reading restraint data for /home/dslochower/kirkwood/projects/smirnoff-host-guest-simulations/systems/a-bam-p/smirnoff/r008...\n",
      "2018-06-05 09:17:32 AM Reading restraint data for /home/dslochower/kirkwood/projects/smirnoff-host-guest-simulations/systems/a-bam-p/smirnoff/r008...\n",
      "2018-06-05 09:17:32 AM Reading restraint data for /home/dslochower/kirkwood/projects/smirnoff-host-guest-simulations/systems/a-bam-p/smirnoff/r008...\n",
      "2018-06-05 09:17:32 AM Reading restraint data for /home/dslochower/kirkwood/projects/smirnoff-host-guest-simulations/systems/a-bam-p/smirnoff/r008...\n",
      "2018-06-05 09:17:32 AM Reading restraint data for /home/dslochower/kirkwood/projects/smirnoff-host-guest-simulations/systems/a-bam-p/smirnoff/r008...\n",
      "2018-06-05 09:17:32 AM Reading restraint data for /home/dslochower/kirkwood/projects/smirnoff-host-guest-simulations/systems/a-bam-p/smirnoff/r008...\n",
      "2018-06-05 09:17:32 AM Reading restraint data for /home/dslochower/kirkwood/projects/smirnoff-host-guest-simulations/systems/a-bam-p/smirnoff/r008...\n",
      "2018-06-05 09:17:32 AM Reading restraint data for /home/dslochower/kirkwood/projects/smirnoff-host-guest-simulations/systems/a-bam-p/smirnoff/r008...\n",
      "2018-06-05 09:17:32 AM Reading restraint data for /home/dslochower/kirkwood/projects/smirnoff-host-guest-simulations/systems/a-bam-p/smirnoff/r008...\n",
      "2018-06-05 09:17:32 AM Reading restraint data for /home/dslochower/kirkwood/projects/smirnoff-host-guest-simulations/systems/a-bam-p/smirnoff/r008...\n",
      "2018-06-05 09:17:32 AM Reading restraint data for /home/dslochower/kirkwood/projects/smirnoff-host-guest-simulations/systems/a-bam-p/smirnoff/r007...\n",
      "2018-06-05 09:17:32 AM Reading restraint data for /home/dslochower/kirkwood/projects/smirnoff-host-guest-simulations/systems/a-bam-p/smirnoff/r007...\n",
      "2018-06-05 09:17:32 AM Reading restraint data for /home/dslochower/kirkwood/projects/smirnoff-host-guest-simulations/systems/a-bam-p/smirnoff/r007...\n",
      "2018-06-05 09:17:32 AM Reading restraint data for /home/dslochower/kirkwood/projects/smirnoff-host-guest-simulations/systems/a-bam-p/smirnoff/r007...\n",
      "2018-06-05 09:17:32 AM Reading restraint data for /home/dslochower/kirkwood/projects/smirnoff-host-guest-simulations/systems/a-bam-p/smirnoff/r007...\n",
      "2018-06-05 09:17:32 AM Reading restraint data for /home/dslochower/kirkwood/projects/smirnoff-host-guest-simulations/systems/a-bam-p/smirnoff/r007...\n",
      "2018-06-05 09:17:32 AM Reading restraint data for /home/dslochower/kirkwood/projects/smirnoff-host-guest-simulations/systems/a-bam-p/smirnoff/r007...\n",
      "2018-06-05 09:17:33 AM Reading restraint data for /home/dslochower/kirkwood/projects/smirnoff-host-guest-simulations/systems/a-bam-p/smirnoff/r007...\n",
      "2018-06-05 09:17:33 AM Reading restraint data for /home/dslochower/kirkwood/projects/smirnoff-host-guest-simulations/systems/a-bam-p/smirnoff/r007...\n",
      "2018-06-05 09:17:33 AM Reading restraint data for /home/dslochower/kirkwood/projects/smirnoff-host-guest-simulations/systems/a-bam-p/smirnoff/r007...\n",
      "2018-06-05 09:17:33 AM Reading restraint data for /home/dslochower/kirkwood/projects/smirnoff-host-guest-simulations/systems/a-bam-p/smirnoff/r007...\n",
      "2018-06-05 09:17:33 AM Reading restraint data for /home/dslochower/kirkwood/projects/smirnoff-host-guest-simulations/systems/a-bam-p/smirnoff/r007...\n",
      "2018-06-05 09:17:33 AM Reading restraint data for /home/dslochower/kirkwood/projects/smirnoff-host-guest-simulations/systems/a-bam-p/smirnoff/r006...\n",
      "2018-06-05 09:17:33 AM Reading restraint data for /home/dslochower/kirkwood/projects/smirnoff-host-guest-simulations/systems/a-bam-p/smirnoff/r006...\n",
      "2018-06-05 09:17:33 AM Reading restraint data for /home/dslochower/kirkwood/projects/smirnoff-host-guest-simulations/systems/a-bam-p/smirnoff/r006...\n",
      "2018-06-05 09:17:33 AM Reading restraint data for /home/dslochower/kirkwood/projects/smirnoff-host-guest-simulations/systems/a-bam-p/smirnoff/r006...\n",
      "2018-06-05 09:17:33 AM Reading restraint data for /home/dslochower/kirkwood/projects/smirnoff-host-guest-simulations/systems/a-bam-p/smirnoff/r006...\n",
      "2018-06-05 09:17:33 AM Reading restraint data for /home/dslochower/kirkwood/projects/smirnoff-host-guest-simulations/systems/a-bam-p/smirnoff/r006...\n",
      "2018-06-05 09:17:33 AM Reading restraint data for /home/dslochower/kirkwood/projects/smirnoff-host-guest-simulations/systems/a-bam-p/smirnoff/r006...\n",
      "2018-06-05 09:17:33 AM Reading restraint data for /home/dslochower/kirkwood/projects/smirnoff-host-guest-simulations/systems/a-bam-p/smirnoff/r006...\n",
      "2018-06-05 09:17:33 AM Reading restraint data for /home/dslochower/kirkwood/projects/smirnoff-host-guest-simulations/systems/a-bam-p/smirnoff/r006...\n",
      "2018-06-05 09:17:33 AM Reading restraint data for /home/dslochower/kirkwood/projects/smirnoff-host-guest-simulations/systems/a-bam-p/smirnoff/r006...\n",
      "2018-06-05 09:17:33 AM Reading restraint data for /home/dslochower/kirkwood/projects/smirnoff-host-guest-simulations/systems/a-bam-p/smirnoff/r006...\n",
      "2018-06-05 09:17:33 AM Reading restraint data for /home/dslochower/kirkwood/projects/smirnoff-host-guest-simulations/systems/a-bam-p/smirnoff/r006...\n",
      "2018-06-05 09:17:34 AM Reading restraint data for /home/dslochower/kirkwood/projects/smirnoff-host-guest-simulations/systems/a-bam-p/smirnoff/r005...\n",
      "2018-06-05 09:17:34 AM Reading restraint data for /home/dslochower/kirkwood/projects/smirnoff-host-guest-simulations/systems/a-bam-p/smirnoff/r005...\n",
      "2018-06-05 09:17:34 AM Reading restraint data for /home/dslochower/kirkwood/projects/smirnoff-host-guest-simulations/systems/a-bam-p/smirnoff/r005...\n",
      "2018-06-05 09:17:34 AM Reading restraint data for /home/dslochower/kirkwood/projects/smirnoff-host-guest-simulations/systems/a-bam-p/smirnoff/r005...\n",
      "2018-06-05 09:17:34 AM Reading restraint data for /home/dslochower/kirkwood/projects/smirnoff-host-guest-simulations/systems/a-bam-p/smirnoff/r005...\n",
      "2018-06-05 09:17:34 AM Reading restraint data for /home/dslochower/kirkwood/projects/smirnoff-host-guest-simulations/systems/a-bam-p/smirnoff/r005...\n",
      "2018-06-05 09:17:34 AM Reading restraint data for /home/dslochower/kirkwood/projects/smirnoff-host-guest-simulations/systems/a-bam-p/smirnoff/r005...\n",
      "2018-06-05 09:17:34 AM Reading restraint data for /home/dslochower/kirkwood/projects/smirnoff-host-guest-simulations/systems/a-bam-p/smirnoff/r005...\n",
      "2018-06-05 09:17:34 AM Reading restraint data for /home/dslochower/kirkwood/projects/smirnoff-host-guest-simulations/systems/a-bam-p/smirnoff/r005...\n",
      "2018-06-05 09:17:34 AM Reading restraint data for /home/dslochower/kirkwood/projects/smirnoff-host-guest-simulations/systems/a-bam-p/smirnoff/r005...\n",
      "2018-06-05 09:17:34 AM Reading restraint data for /home/dslochower/kirkwood/projects/smirnoff-host-guest-simulations/systems/a-bam-p/smirnoff/r005...\n",
      "2018-06-05 09:17:34 AM Reading restraint data for /home/dslochower/kirkwood/projects/smirnoff-host-guest-simulations/systems/a-bam-p/smirnoff/r005...\n",
      "2018-06-05 09:17:34 AM Reading restraint data for /home/dslochower/kirkwood/projects/smirnoff-host-guest-simulations/systems/a-bam-p/smirnoff/r004...\n",
      "2018-06-05 09:17:34 AM Reading restraint data for /home/dslochower/kirkwood/projects/smirnoff-host-guest-simulations/systems/a-bam-p/smirnoff/r004...\n",
      "2018-06-05 09:17:34 AM Reading restraint data for /home/dslochower/kirkwood/projects/smirnoff-host-guest-simulations/systems/a-bam-p/smirnoff/r004...\n",
      "2018-06-05 09:17:34 AM Reading restraint data for /home/dslochower/kirkwood/projects/smirnoff-host-guest-simulations/systems/a-bam-p/smirnoff/r004...\n",
      "2018-06-05 09:17:35 AM Reading restraint data for /home/dslochower/kirkwood/projects/smirnoff-host-guest-simulations/systems/a-bam-p/smirnoff/r004...\n",
      "2018-06-05 09:17:35 AM Reading restraint data for /home/dslochower/kirkwood/projects/smirnoff-host-guest-simulations/systems/a-bam-p/smirnoff/r004...\n",
      "2018-06-05 09:17:35 AM Reading restraint data for /home/dslochower/kirkwood/projects/smirnoff-host-guest-simulations/systems/a-bam-p/smirnoff/r004...\n",
      "2018-06-05 09:17:35 AM Reading restraint data for /home/dslochower/kirkwood/projects/smirnoff-host-guest-simulations/systems/a-bam-p/smirnoff/r004...\n",
      "2018-06-05 09:17:35 AM Reading restraint data for /home/dslochower/kirkwood/projects/smirnoff-host-guest-simulations/systems/a-bam-p/smirnoff/r004...\n",
      "2018-06-05 09:17:35 AM Reading restraint data for /home/dslochower/kirkwood/projects/smirnoff-host-guest-simulations/systems/a-bam-p/smirnoff/r004...\n",
      "2018-06-05 09:17:35 AM Reading restraint data for /home/dslochower/kirkwood/projects/smirnoff-host-guest-simulations/systems/a-bam-p/smirnoff/r004...\n",
      "2018-06-05 09:17:35 AM Reading restraint data for /home/dslochower/kirkwood/projects/smirnoff-host-guest-simulations/systems/a-bam-p/smirnoff/r004...\n",
      "2018-06-05 09:17:35 AM Reading restraint data for /home/dslochower/kirkwood/projects/smirnoff-host-guest-simulations/systems/a-bam-p/smirnoff/r003...\n",
      "2018-06-05 09:17:35 AM Reading restraint data for /home/dslochower/kirkwood/projects/smirnoff-host-guest-simulations/systems/a-bam-p/smirnoff/r003...\n",
      "2018-06-05 09:17:35 AM Reading restraint data for /home/dslochower/kirkwood/projects/smirnoff-host-guest-simulations/systems/a-bam-p/smirnoff/r003...\n",
      "2018-06-05 09:17:35 AM Reading restraint data for /home/dslochower/kirkwood/projects/smirnoff-host-guest-simulations/systems/a-bam-p/smirnoff/r003...\n",
      "2018-06-05 09:17:35 AM Reading restraint data for /home/dslochower/kirkwood/projects/smirnoff-host-guest-simulations/systems/a-bam-p/smirnoff/r003...\n",
      "2018-06-05 09:17:35 AM Reading restraint data for /home/dslochower/kirkwood/projects/smirnoff-host-guest-simulations/systems/a-bam-p/smirnoff/r003...\n",
      "2018-06-05 09:17:35 AM Reading restraint data for /home/dslochower/kirkwood/projects/smirnoff-host-guest-simulations/systems/a-bam-p/smirnoff/r003...\n",
      "2018-06-05 09:17:35 AM Reading restraint data for /home/dslochower/kirkwood/projects/smirnoff-host-guest-simulations/systems/a-bam-p/smirnoff/r003...\n",
      "2018-06-05 09:17:35 AM Reading restraint data for /home/dslochower/kirkwood/projects/smirnoff-host-guest-simulations/systems/a-bam-p/smirnoff/r003...\n",
      "2018-06-05 09:17:36 AM Reading restraint data for /home/dslochower/kirkwood/projects/smirnoff-host-guest-simulations/systems/a-bam-p/smirnoff/r003...\n",
      "2018-06-05 09:17:36 AM Reading restraint data for /home/dslochower/kirkwood/projects/smirnoff-host-guest-simulations/systems/a-bam-p/smirnoff/r003...\n",
      "2018-06-05 09:17:36 AM Reading restraint data for /home/dslochower/kirkwood/projects/smirnoff-host-guest-simulations/systems/a-bam-p/smirnoff/r003...\n",
      "2018-06-05 09:17:36 AM Reading restraint data for /home/dslochower/kirkwood/projects/smirnoff-host-guest-simulations/systems/a-bam-p/smirnoff/r002...\n",
      "2018-06-05 09:17:36 AM Reading restraint data for /home/dslochower/kirkwood/projects/smirnoff-host-guest-simulations/systems/a-bam-p/smirnoff/r002...\n",
      "2018-06-05 09:17:36 AM Reading restraint data for /home/dslochower/kirkwood/projects/smirnoff-host-guest-simulations/systems/a-bam-p/smirnoff/r002...\n",
      "2018-06-05 09:17:36 AM Reading restraint data for /home/dslochower/kirkwood/projects/smirnoff-host-guest-simulations/systems/a-bam-p/smirnoff/r002...\n",
      "2018-06-05 09:17:36 AM Reading restraint data for /home/dslochower/kirkwood/projects/smirnoff-host-guest-simulations/systems/a-bam-p/smirnoff/r002...\n",
      "2018-06-05 09:17:36 AM Reading restraint data for /home/dslochower/kirkwood/projects/smirnoff-host-guest-simulations/systems/a-bam-p/smirnoff/r002...\n",
      "2018-06-05 09:17:36 AM Reading restraint data for /home/dslochower/kirkwood/projects/smirnoff-host-guest-simulations/systems/a-bam-p/smirnoff/r002...\n",
      "2018-06-05 09:17:36 AM Reading restraint data for /home/dslochower/kirkwood/projects/smirnoff-host-guest-simulations/systems/a-bam-p/smirnoff/r002...\n",
      "2018-06-05 09:17:36 AM Reading restraint data for /home/dslochower/kirkwood/projects/smirnoff-host-guest-simulations/systems/a-bam-p/smirnoff/r002...\n",
      "2018-06-05 09:17:36 AM Reading restraint data for /home/dslochower/kirkwood/projects/smirnoff-host-guest-simulations/systems/a-bam-p/smirnoff/r002...\n",
      "2018-06-05 09:17:36 AM Reading restraint data for /home/dslochower/kirkwood/projects/smirnoff-host-guest-simulations/systems/a-bam-p/smirnoff/r002...\n",
      "2018-06-05 09:17:36 AM Reading restraint data for /home/dslochower/kirkwood/projects/smirnoff-host-guest-simulations/systems/a-bam-p/smirnoff/r002...\n",
      "2018-06-05 09:17:36 AM Reading restraint data for /home/dslochower/kirkwood/projects/smirnoff-host-guest-simulations/systems/a-bam-p/smirnoff/r001...\n",
      "2018-06-05 09:17:36 AM Reading restraint data for /home/dslochower/kirkwood/projects/smirnoff-host-guest-simulations/systems/a-bam-p/smirnoff/r001...\n",
      "2018-06-05 09:17:37 AM Reading restraint data for /home/dslochower/kirkwood/projects/smirnoff-host-guest-simulations/systems/a-bam-p/smirnoff/r001...\n",
      "2018-06-05 09:17:37 AM Reading restraint data for /home/dslochower/kirkwood/projects/smirnoff-host-guest-simulations/systems/a-bam-p/smirnoff/r001...\n",
      "2018-06-05 09:17:37 AM Reading restraint data for /home/dslochower/kirkwood/projects/smirnoff-host-guest-simulations/systems/a-bam-p/smirnoff/r001...\n",
      "2018-06-05 09:17:37 AM Reading restraint data for /home/dslochower/kirkwood/projects/smirnoff-host-guest-simulations/systems/a-bam-p/smirnoff/r001...\n",
      "2018-06-05 09:17:37 AM Reading restraint data for /home/dslochower/kirkwood/projects/smirnoff-host-guest-simulations/systems/a-bam-p/smirnoff/r001...\n",
      "2018-06-05 09:17:37 AM Reading restraint data for /home/dslochower/kirkwood/projects/smirnoff-host-guest-simulations/systems/a-bam-p/smirnoff/r001...\n",
      "2018-06-05 09:17:37 AM Reading restraint data for /home/dslochower/kirkwood/projects/smirnoff-host-guest-simulations/systems/a-bam-p/smirnoff/r001...\n",
      "2018-06-05 09:17:37 AM Reading restraint data for /home/dslochower/kirkwood/projects/smirnoff-host-guest-simulations/systems/a-bam-p/smirnoff/r001...\n",
      "2018-06-05 09:17:37 AM Reading restraint data for /home/dslochower/kirkwood/projects/smirnoff-host-guest-simulations/systems/a-bam-p/smirnoff/r001...\n",
      "2018-06-05 09:17:37 AM Reading restraint data for /home/dslochower/kirkwood/projects/smirnoff-host-guest-simulations/systems/a-bam-p/smirnoff/r001...\n",
      "2018-06-05 09:17:37 AM Reading restraint data for /home/dslochower/kirkwood/projects/smirnoff-host-guest-simulations/systems/a-bam-p/smirnoff/p045...\n",
      "2018-06-05 09:17:47 AM Reading restraint data for /home/dslochower/kirkwood/projects/smirnoff-host-guest-simulations/systems/a-bam-p/smirnoff/p045...\n",
      "2018-06-05 09:17:57 AM Reading restraint data for /home/dslochower/kirkwood/projects/smirnoff-host-guest-simulations/systems/a-bam-p/smirnoff/p045...\n",
      "2018-06-05 09:18:07 AM Reading restraint data for /home/dslochower/kirkwood/projects/smirnoff-host-guest-simulations/systems/a-bam-p/smirnoff/p045...\n",
      "2018-06-05 09:18:16 AM Reading restraint data for /home/dslochower/kirkwood/projects/smirnoff-host-guest-simulations/systems/a-bam-p/smirnoff/p045...\n",
      "2018-06-05 09:18:26 AM Reading restraint data for /home/dslochower/kirkwood/projects/smirnoff-host-guest-simulations/systems/a-bam-p/smirnoff/p045...\n",
      "2018-06-05 09:18:36 AM Reading restraint data for /home/dslochower/kirkwood/projects/smirnoff-host-guest-simulations/systems/a-bam-p/smirnoff/p045...\n",
      "2018-06-05 09:18:45 AM Reading restraint data for /home/dslochower/kirkwood/projects/smirnoff-host-guest-simulations/systems/a-bam-p/smirnoff/p045...\n",
      "2018-06-05 09:18:55 AM Reading restraint data for /home/dslochower/kirkwood/projects/smirnoff-host-guest-simulations/systems/a-bam-p/smirnoff/p045...\n",
      "2018-06-05 09:19:04 AM Reading restraint data for /home/dslochower/kirkwood/projects/smirnoff-host-guest-simulations/systems/a-bam-p/smirnoff/p045...\n",
      "2018-06-05 09:19:14 AM Reading restraint data for /home/dslochower/kirkwood/projects/smirnoff-host-guest-simulations/systems/a-bam-p/smirnoff/p045...\n",
      "2018-06-05 09:19:23 AM Reading restraint data for /home/dslochower/kirkwood/projects/smirnoff-host-guest-simulations/systems/a-bam-p/smirnoff/p045...\n",
      "2018-06-05 09:19:33 AM Running ti-block analysis on attach phase ...\n",
      "2018-06-05 09:20:43 AM Running bootstrap calculations\n",
      "2018-06-05 09:20:44 AM attach: computing convergence for ti-block\n",
      "2018-06-05 09:20:44 AM Running ti-block analysis on pull phase ...\n",
      "2018-06-05 09:22:05 AM Running bootstrap calculations\n",
      "2018-06-05 09:22:08 AM pull: computing convergence for ti-block\n",
      "2018-06-05 09:22:08 AM Running ti-block analysis on release phase ...\n",
      "2018-06-05 09:23:18 AM Running bootstrap calculations\n",
      "2018-06-05 09:23:19 AM release: computing convergence for ti-block\n"
     ]
    }
   ],
   "source": [
    "analyze.restraint_list = guest_restraints + conformational_restraints\n",
    "analyze.collect_data()\n",
    "analyze.methods = ['ti-block']\n",
    "analyze.quicker_ti_matrix = True\n",
    "analyze.bootcycles = 1000\n",
    "analyze.compute_free_energy()"
   ]
  },
  {
   "cell_type": "code",
   "execution_count": 38,
   "metadata": {
    "ExecuteTime": {
     "end_time": "2018-06-05T16:23:29.801063Z",
     "start_time": "2018-06-05T16:23:29.531907Z"
    }
   },
   "outputs": [],
   "source": [
    "analyze.compute_ref_state_work([guest_restraints[0], guest_restraints[1], None, None, guest_restraints[2], None])"
   ]
  },
  {
   "cell_type": "code",
   "execution_count": 39,
   "metadata": {
    "ExecuteTime": {
     "end_time": "2018-06-05T16:23:30.488086Z",
     "start_time": "2018-06-05T16:23:30.447066Z"
    }
   },
   "outputs": [
    {
     "name": "stdout",
     "output_type": "stream",
     "text": [
      "Attach     +13.06 +/- 0.13\n",
      "Pull       +4.17 +/- 0.32\n",
      "Release    -7.87 +/- 0.15\n",
      "Reference  -7.14\n",
      "Total      +2.23 +/- 0.38\n"
     ]
    }
   ],
   "source": [
    "print(f\"{'Attach': <10} {analyze.results['attach']['ti-block']['fe']:+04.2f} +/- {analyze.results['attach']['ti-block']['sem']:2.2f}\")\n",
    "print(f\"{'Pull': <10} {analyze.results['pull']['ti-block']['fe']:+04.2f} +/- {analyze.results['pull']['ti-block']['sem']:2.2f}\")\n",
    "print(f\"{'Release': <10} {analyze.results['release']['ti-block']['fe']:+04.2f} +/- {analyze.results['release']['ti-block']['sem']:2.2f}\")\n",
    "print(f\"{'Reference': <10} {analyze.results['ref_state_work']:+04.2f}\")\n",
    "\n",
    "fe = analyze.results['attach']['ti-block']['fe'] + analyze.results['pull']['ti-block']['fe'] + analyze.results['release']['ti-block']['fe'] + analyze.results['ref_state_work']\n",
    "sem = np.sqrt( (analyze.results['attach']['ti-block']['sem']**2 + \\\n",
    "                analyze.results['pull']['ti-block']['sem']**2 + \\\n",
    "                analyze.results['release']['ti-block']['sem']**2\n",
    "               )\n",
    "             )\n",
    "print(f\"{'Total': <10} {fe:+2.2f} +/- {sem:2.2f}\")"
   ]
  },
  {
   "cell_type": "code",
   "execution_count": 23,
   "metadata": {
    "ExecuteTime": {
     "end_time": "2018-06-04T18:10:40.954182Z",
     "start_time": "2018-06-04T18:10:40.666900Z"
    }
   },
   "outputs": [],
   "source": [
    "import matplotlib.pyplot as plt\n",
    "%matplotlib inline"
   ]
  },
  {
   "cell_type": "code",
   "execution_count": 24,
   "metadata": {
    "ExecuteTime": {
     "end_time": "2018-06-04T18:10:40.972787Z",
     "start_time": "2018-06-04T18:10:40.955891Z"
    }
   },
   "outputs": [],
   "source": [
    "attach_fe = analyze.results['attach']['ti-block']['fe_matrix'][0]\n",
    "attach_sem = analyze.results['attach']['ti-block']['sem_matrix'][0]\n",
    "\n",
    "pull_fe = analyze.results['pull']['ti-block']['fe_matrix'][0]\n",
    "pull_sem =  analyze.results['pull']['ti-block']['sem_matrix'][0]\n",
    "\n",
    "release_fe = analyze.results['release']['ti-block']['fe_matrix'][0]\n",
    "release_sem = analyze.results['release']['ti-block']['sem_matrix'][0]\n",
    "\n",
    "reference = analyze.results['ref_state_work']"
   ]
  },
  {
   "cell_type": "code",
   "execution_count": 25,
   "metadata": {
    "ExecuteTime": {
     "end_time": "2018-06-04T18:10:41.293114Z",
     "start_time": "2018-06-04T18:10:40.974495Z"
    }
   },
   "outputs": [
    {
     "data": {
      "text/plain": [
       "<matplotlib.text.Text at 0x7f3d95376160>"
      ]
     },
     "execution_count": 25,
     "metadata": {},
     "output_type": "execute_result"
    },
    {
     "data": {
      "image/png": "[encoded data removed]",
      "text/plain": [
       "<matplotlib.figure.Figure at 0x7f3d956094a8>"
      ]
     },
     "metadata": {},
     "output_type": "display_data"
    }
   ],
   "source": [
    "plt.errorbar(range(0, 15), attach_fe, attach_sem)\n",
    "plt.errorbar(range(14, 60), attach_fe[-1] + pull_fe, pull_sem)\n",
    "plt.errorbar(range(59, 75), list(attach_fe[-1] + pull_fe[-1] + -1 * release_fe) + \\\n",
    "             [attach_fe[-1] + pull_fe[-1] + -1 * release_fe[-1] + reference], list(release_sem) + [release_sem[-1]])\n",
    "plt.ylabel('Work (kcal/mol)')\n",
    "# plt.xticks([0, 14], [0, 1])"
   ]
  },
  {
   "cell_type": "code",
   "execution_count": 26,
   "metadata": {
    "ExecuteTime": {
     "end_time": "2018-06-04T18:10:41.312474Z",
     "start_time": "2018-06-04T18:10:41.294982Z"
    }
   },
   "outputs": [
    {
     "data": {
      "text/plain": [
       "[array([ 17.25359325,  17.08894145,  16.96612657, ...,  11.26187522,\n",
       "         10.1830019 ,   9.38938173])]"
      ]
     },
     "execution_count": 26,
     "metadata": {},
     "output_type": "execute_result"
    }
   ],
   "source": [
    "[attach_fe[-1] + pull_fe[-1] + -1 * release_fe]"
   ]
  },
  {
   "cell_type": "code",
   "execution_count": 27,
   "metadata": {
    "ExecuteTime": {
     "end_time": "2018-06-04T18:10:41.402097Z",
     "start_time": "2018-06-04T18:10:41.314110Z"
    }
   },
   "outputs": [
    {
     "data": {
      "text/plain": [
       "2.2478671461209281"
      ]
     },
     "execution_count": 27,
     "metadata": {},
     "output_type": "execute_result"
    }
   ],
   "source": [
    "attach_fe[-1] + pull_fe[-1] + -1 * release_fe[-1] + reference"
   ]
  },
  {
   "cell_type": "code",
   "execution_count": 28,
   "metadata": {
    "ExecuteTime": {
     "end_time": "2018-06-04T18:10:41.485602Z",
     "start_time": "2018-06-04T18:10:41.403857Z"
    }
   },
   "outputs": [
    {
     "data": {
      "text/plain": [
       "[17.253593253215545,\n",
       " 17.088941451935447,\n",
       " 16.96612657388884,\n",
       " 16.726684691102371,\n",
       " 16.489381972441709,\n",
       " 16.056267328002438,\n",
       " 15.728459035772984,\n",
       " 15.12120653862547,\n",
       " 14.577664329780678,\n",
       " 13.69476943209415,\n",
       " 12.993971753136099,\n",
       " 11.975740661050498,\n",
       " 11.261875219554479,\n",
       " 10.183001904191405,\n",
       " 9.3893817289829329,\n",
       " 2.2478671461209281]"
      ]
     },
     "execution_count": 28,
     "metadata": {},
     "output_type": "execute_result"
    }
   ],
   "source": [
    "list(attach_fe[-1] + pull_fe[-1] + -1 * release_fe) + [attach_fe[-1] + pull_fe[-1] + -1 * release_fe[-1] + reference]"
   ]
  },
  {
   "cell_type": "code",
   "execution_count": 29,
   "metadata": {
    "ExecuteTime": {
     "end_time": "2018-06-04T18:10:41.611764Z",
     "start_time": "2018-06-04T18:10:41.487329Z"
    }
   },
   "outputs": [
    {
     "data": {
      "text/plain": [
       "2.2478671461209281"
      ]
     },
     "execution_count": 29,
     "metadata": {},
     "output_type": "execute_result"
    }
   ],
   "source": [
    "attach_fe[-1] + pull_fe[-1] + -1 * release_fe[-1] + reference"
   ]
  },
  {
   "cell_type": "code",
   "execution_count": 30,
   "metadata": {
    "ExecuteTime": {
     "end_time": "2018-06-04T18:10:41.711994Z",
     "start_time": "2018-06-04T18:10:41.613554Z"
    }
   },
   "outputs": [
    {
     "data": {
      "text/plain": [
       "{'attach': {'ti-block': {'fe': 13.069227450518049,\n",
       "   'sem': 0.17033078770001153,\n",
       "   'fe_matrix': array([[  0.        ,   0.80498234,   1.25381414, ...,   9.94782099,\n",
       "            11.72279341,  13.06922745],\n",
       "          [ -0.80498234,   0.        ,   0.        , ...,   0.        ,\n",
       "             0.        ,  12.25876651],\n",
       "          [ -1.25381414,  -0.        ,   0.        , ...,   0.        ,\n",
       "             0.        ,  11.81164671],\n",
       "          ..., \n",
       "          [ -9.94782099,  -0.        ,  -0.        , ...,   0.        ,\n",
       "             0.        ,   3.11112201],\n",
       "          [-11.72279341,  -0.        ,  -0.        , ...,  -0.        ,\n",
       "             0.        ,   1.33108522],\n",
       "          [-13.06922745, -12.25876651, -11.81164671, ...,  -3.11112201,\n",
       "            -1.33108522,   0.        ]]),\n",
       "   'sem_matrix': array([[ 0.        ,  0.13566964,  0.14063094, ...,  0.16820173,\n",
       "            0.16884535,  0.17033079],\n",
       "          [ 0.13566964,  0.        ,  0.        , ...,  0.        ,\n",
       "            0.        ,  0.09567248],\n",
       "          [ 0.14063094,  0.        ,  0.        , ...,  0.        ,\n",
       "            0.        ,  0.09069217],\n",
       "          ..., \n",
       "          [ 0.16820173,  0.        ,  0.        , ...,  0.        ,\n",
       "            0.        ,  0.02528747],\n",
       "          [ 0.16884535,  0.        ,  0.        , ...,  0.        ,\n",
       "            0.        ,  0.01404114],\n",
       "          [ 0.17033079,  0.09567248,  0.09069217, ...,  0.02528747,\n",
       "            0.01404114,  0.        ]]),\n",
       "   'n_frames': 150000,\n",
       "   'convergence': [0.1356696405161987,\n",
       "    0.1356696405161987,\n",
       "    0.0,\n",
       "    0.0,\n",
       "    0.0,\n",
       "    0.0,\n",
       "    0.0,\n",
       "    0.0,\n",
       "    0.0,\n",
       "    0.0,\n",
       "    0.0,\n",
       "    0.0,\n",
       "    0.0,\n",
       "    0.014041140959954759,\n",
       "    0.014041140959954759],\n",
       "   'ordered_convergence': array([ 0.13566964,  0.13566964,  0.        , ...,  0.        ,\n",
       "           0.01404114,  0.01404114])}},\n",
       " 'pull': {'ti-block': {'fe': 4.1843658026974948,\n",
       "   'sem': 0.31438521441880324,\n",
       "   'fe_matrix': array([[ 0.        ,  1.18035089,  2.06277362, ...,  4.24515746,\n",
       "            4.21623714,  4.1843658 ],\n",
       "          [-1.18035089,  0.        ,  0.        , ...,  0.        ,\n",
       "            0.        ,  2.99129522],\n",
       "          [-2.06277362, -0.        ,  0.        , ...,  0.        ,\n",
       "            0.        ,  2.11665319],\n",
       "          ..., \n",
       "          [-4.24515746, -0.        , -0.        , ...,  0.        ,\n",
       "            0.        , -0.06057117],\n",
       "          [-4.21623714, -0.        , -0.        , ..., -0.        ,\n",
       "            0.        , -0.03151911],\n",
       "          [-4.1843658 , -2.99129522, -2.11665319, ...,  0.06057117,\n",
       "            0.03151911,  0.        ]]),\n",
       "   'sem_matrix': array([[ 0.        ,  0.01978143,  0.0360504 , ...,  0.31363654,\n",
       "            0.31382522,  0.31438521],\n",
       "          [ 0.01978143,  0.        ,  0.        , ...,  0.        ,\n",
       "            0.        ,  0.31406423],\n",
       "          [ 0.0360504 ,  0.        ,  0.        , ...,  0.        ,\n",
       "            0.        ,  0.31283332],\n",
       "          ..., \n",
       "          [ 0.31363654,  0.        ,  0.        , ...,  0.        ,\n",
       "            0.        ,  0.01898026],\n",
       "          [ 0.31382522,  0.        ,  0.        , ...,  0.        ,\n",
       "            0.        ,  0.01160275],\n",
       "          [ 0.31438521,  0.31406423,  0.31283332, ...,  0.01898026,\n",
       "            0.01160275,  0.        ]]),\n",
       "   'n_frames': 460000,\n",
       "   'convergence': [0.019781427987854601,\n",
       "    0.019781427987854601,\n",
       "    0.0,\n",
       "    0.0,\n",
       "    0.0,\n",
       "    0.0,\n",
       "    0.0,\n",
       "    0.0,\n",
       "    0.0,\n",
       "    0.0,\n",
       "    0.0,\n",
       "    0.0,\n",
       "    0.0,\n",
       "    0.0,\n",
       "    0.0,\n",
       "    0.0,\n",
       "    0.0,\n",
       "    0.0,\n",
       "    0.0,\n",
       "    0.0,\n",
       "    0.0,\n",
       "    0.0,\n",
       "    0.0,\n",
       "    0.0,\n",
       "    0.0,\n",
       "    0.0,\n",
       "    0.0,\n",
       "    0.0,\n",
       "    0.0,\n",
       "    0.0,\n",
       "    0.0,\n",
       "    0.0,\n",
       "    0.0,\n",
       "    0.0,\n",
       "    0.0,\n",
       "    0.0,\n",
       "    0.0,\n",
       "    0.0,\n",
       "    0.0,\n",
       "    0.0,\n",
       "    0.0,\n",
       "    0.0,\n",
       "    0.0,\n",
       "    0.0,\n",
       "    0.011602747723865757,\n",
       "    0.011602747723865757],\n",
       "   'ordered_convergence': array([ 0.01978143,  0.01978143,  0.        , ...,  0.        ,\n",
       "           0.01160275,  0.01160275])}},\n",
       " 'release': {'ti-block': {'fe': -7.8642115242326129,\n",
       "   'sem': 0.15009108151724071,\n",
       "   'fe_matrix': array([[ 0.        ,  0.1646518 ,  0.28746668, ...,  5.99171803,\n",
       "            7.07059135,  7.86421152],\n",
       "          [-0.1646518 ,  0.        ,  0.        , ...,  0.        ,\n",
       "            0.        ,  7.69838617],\n",
       "          [-0.28746668, -0.        ,  0.        , ...,  0.        ,\n",
       "            0.        ,  7.57545121],\n",
       "          ..., \n",
       "          [-5.99171803, -0.        , -0.        , ...,  0.        ,\n",
       "            0.        ,  1.86612705],\n",
       "          [-7.07059135, -0.        , -0.        , ..., -0.        ,\n",
       "            0.        ,  0.78446813],\n",
       "          [-7.86421152, -7.69838617, -7.57545121, ..., -1.86612705,\n",
       "           -0.78446813,  0.        ]]),\n",
       "   'sem_matrix': array([[ 0.        ,  0.01015922,  0.01666693, ...,  0.1486429 ,\n",
       "            0.15022315,  0.15009108],\n",
       "          [ 0.01015922,  0.        ,  0.        , ...,  0.        ,\n",
       "            0.        ,  0.14986156],\n",
       "          [ 0.01666693,  0.        ,  0.        , ...,  0.        ,\n",
       "            0.        ,  0.14875638],\n",
       "          ..., \n",
       "          [ 0.1486429 ,  0.        ,  0.        , ...,  0.        ,\n",
       "            0.        ,  0.02448392],\n",
       "          [ 0.15022315,  0.        ,  0.        , ...,  0.        ,\n",
       "            0.        ,  0.01170196],\n",
       "          [ 0.15009108,  0.14986156,  0.14875638, ...,  0.02448392,\n",
       "            0.01170196,  0.        ]]),\n",
       "   'n_frames': 150000,\n",
       "   'convergence': [0.011701964432556548,\n",
       "    0.011701964432556548,\n",
       "    0.0,\n",
       "    0.0,\n",
       "    0.0,\n",
       "    0.0,\n",
       "    0.0,\n",
       "    0.0,\n",
       "    0.0,\n",
       "    0.0,\n",
       "    0.0,\n",
       "    0.0,\n",
       "    0.0,\n",
       "    0.0101592200410708,\n",
       "    0.0101592200410708],\n",
       "   'ordered_convergence': array([ 0.01015922,  0.01015922,  0.        , ...,  0.        ,\n",
       "           0.01170196,  0.01170196])}},\n",
       " 'ref_state_work': -7.1415145828620048}"
      ]
     },
     "execution_count": 30,
     "metadata": {},
     "output_type": "execute_result"
    }
   ],
   "source": [
    "analyze.results"
   ]
  },
  {
   "cell_type": "code",
   "execution_count": 31,
   "metadata": {
    "ExecuteTime": {
     "end_time": "2018-06-04T18:10:41.809401Z",
     "start_time": "2018-06-04T18:10:41.713541Z"
    }
   },
   "outputs": [],
   "source": [
    "import json\n",
    "\n",
    "class NumpyEncoder(json.JSONEncoder):\n",
    "    def default(self, obj):\n",
    "        if isinstance(obj, np.ndarray):\n",
    "            return obj.tolist()\n",
    "        return json.JSONEncoder.default(self, obj)\n",
    "    \n",
    "class MyEncoder(json.JSONEncoder):\n",
    "    def default(self, obj):\n",
    "        if isinstance(obj, np.integer):\n",
    "            return int(obj)\n",
    "        elif isinstance(obj, np.floating):\n",
    "            return float(obj)\n",
    "        elif isinstance(obj, np.ndarray):\n",
    "            return obj.tolist()\n",
    "        else:\n",
    "            return super(MyEncoder, self).default(obj)"
   ]
  },
  {
   "cell_type": "code",
   "execution_count": 32,
   "metadata": {
    "ExecuteTime": {
     "end_time": "2018-06-04T18:10:41.911895Z",
     "start_time": "2018-06-04T18:10:41.811092Z"
    }
   },
   "outputs": [
    {
     "data": {
      "text/plain": [
       "'{\"attach\": {\"ti-block\": {\"fe\": 13.06922745051805, \"sem\": 0.17033078770001153, \"fe_matrix\": [[0.0, 0.8049823369768476, 1.2538141432867704, 1.8843841780029662, 2.3585641519369056, 3.129265958047895, 3.717417939138927, 4.612060514796149, 5.323429061854526, 6.45790056631627, 7.36818827426182, 8.821411078614016, 9.94782098569577, 11.722793414288285, 13.06922745051805], [-0.8049823369768476, 0.0, 0.0, 0.0, 0.0, 0.0, 0.0, 0.0, 0.0, 0.0, 0.0, 0.0, 0.0, 0.0, 12.258766514220065], [-1.2538141432867704, -0.0, 0.0, 0.0, 0.0, 0.0, 0.0, 0.0, 0.0, 0.0, 0.0, 0.0, 0.0, 0.0, 11.811646706258347], [-1.8843841780029662, -0.0, -0.0, 0.0, 0.0, 0.0, 0.0, 0.0, 0.0, 0.0, 0.0, 0.0, 0.0, 0.0, 11.179493187840565], [-2.3585641519369056, -0.0, -0.0, -0.0, 0.0, 0.0, 0.0, 0.0, 0.0, 0.0, 0.0, 0.0, 0.0, 0.0, 10.706422421877766], [-3.129265958047895, -0.0, -0.0, -0.0, -0.0, 0.0, 0.0, 0.0, 0.0, 0.0, 0.0, 0.0, 0.0, 0.0, 9.93286289573411], [-3.717417939138927, -0.0, -0.0, -0.0, -0.0, -0.0, 0.0, 0.0, 0.0, 0.0, 0.0, 0.0, 0.0, 0.0, 9.346663723404482], [-4.612060514796149, -0.0, -0.0, -0.0, -0.0, -0.0, -0.0, 0.0, 0.0, 0.0, 0.0, 0.0, 0.0, 0.0, 8.449465516723219], [-5.323429061854526, -0.0, -0.0, -0.0, -0.0, -0.0, -0.0, -0.0, 0.0, 0.0, 0.0, 0.0, 0.0, 0.0, 7.739208829959759], [-6.45790056631627, -0.0, -0.0, -0.0, -0.0, -0.0, -0.0, -0.0, -0.0, 0.0, 0.0, 0.0, 0.0, 0.0, 6.601461983294594], [-7.36818827426182, -0.0, -0.0, -0.0, -0.0, -0.0, -0.0, -0.0, -0.0, -0.0, 0.0, 0.0, 0.0, 0.0, 5.692585200505062], [-8.821411078614016, -0.0, -0.0, -0.0, -0.0, -0.0, -0.0, -0.0, -0.0, -0.0, -0.0, 0.0, 0.0, 0.0, 4.235300929983814], [-9.94782098569577, -0.0, -0.0, -0.0, -0.0, -0.0, -0.0, -0.0, -0.0, -0.0, -0.0, -0.0, 0.0, 0.0, 3.1111220111359823], [-11.722793414288285, -0.0, -0.0, -0.0, -0.0, -0.0, -0.0, -0.0, -0.0, -0.0, -0.0, -0.0, -0.0, 0.0, 1.3310852175029855], [-13.06922745051805, -12.258766514220065, -11.811646706258347, -11.179493187840565, -10.706422421877766, -9.93286289573411, -9.346663723404482, -8.449465516723219, -7.739208829959759, -6.601461983294594, -5.692585200505062, -4.235300929983814, -3.1111220111359823, -1.3310852175029855, 0.0]], \"sem_matrix\": [[0.0, 0.1356696405161987, 0.14063093543447988, 0.14418112880029946, 0.1477553202644202, 0.1558672710205705, 0.16055849961659804, 0.16098791564921341, 0.16277244871395796, 0.1653064396877776, 0.16623918442888957, 0.16713269634045239, 0.16820173475153427, 0.1688453464453535, 0.17033078770001153], [0.1356696405161987, 0.0, 0.0, 0.0, 0.0, 0.0, 0.0, 0.0, 0.0, 0.0, 0.0, 0.0, 0.0, 0.0, 0.09567248128708271], [0.14063093543447988, 0.0, 0.0, 0.0, 0.0, 0.0, 0.0, 0.0, 0.0, 0.0, 0.0, 0.0, 0.0, 0.0, 0.09069217064181195], [0.14418112880029946, 0.0, 0.0, 0.0, 0.0, 0.0, 0.0, 0.0, 0.0, 0.0, 0.0, 0.0, 0.0, 0.0, 0.08544357007182057], [0.1477553202644202, 0.0, 0.0, 0.0, 0.0, 0.0, 0.0, 0.0, 0.0, 0.0, 0.0, 0.0, 0.0, 0.0, 0.07686927161275019], [0.1558672710205705, 0.0, 0.0, 0.0, 0.0, 0.0, 0.0, 0.0, 0.0, 0.0, 0.0, 0.0, 0.0, 0.0, 0.06110064148792445], [0.16055849961659804, 0.0, 0.0, 0.0, 0.0, 0.0, 0.0, 0.0, 0.0, 0.0, 0.0, 0.0, 0.0, 0.0, 0.056670607073201186], [0.16098791564921341, 0.0, 0.0, 0.0, 0.0, 0.0, 0.0, 0.0, 0.0, 0.0, 0.0, 0.0, 0.0, 0.0, 0.05192788551960134], [0.16277244871395796, 0.0, 0.0, 0.0, 0.0, 0.0, 0.0, 0.0, 0.0, 0.0, 0.0, 0.0, 0.0, 0.0, 0.04882444434632236], [0.1653064396877776, 0.0, 0.0, 0.0, 0.0, 0.0, 0.0, 0.0, 0.0, 0.0, 0.0, 0.0, 0.0, 0.0, 0.04274851148366905], [0.16623918442888957, 0.0, 0.0, 0.0, 0.0, 0.0, 0.0, 0.0, 0.0, 0.0, 0.0, 0.0, 0.0, 0.0, 0.03709043517640136], [0.16713269634045239, 0.0, 0.0, 0.0, 0.0, 0.0, 0.0, 0.0, 0.0, 0.0, 0.0, 0.0, 0.0, 0.0, 0.02862215973562946], [0.16820173475153427, 0.0, 0.0, 0.0, 0.0, 0.0, 0.0, 0.0, 0.0, 0.0, 0.0, 0.0, 0.0, 0.0, 0.025287466986013685], [0.1688453464453535, 0.0, 0.0, 0.0, 0.0, 0.0, 0.0, 0.0, 0.0, 0.0, 0.0, 0.0, 0.0, 0.0, 0.014041140959954759], [0.17033078770001153, 0.09567248128708271, 0.09069217064181195, 0.08544357007182057, 0.07686927161275019, 0.06110064148792445, 0.056670607073201186, 0.05192788551960134, 0.04882444434632236, 0.04274851148366905, 0.03709043517640136, 0.02862215973562946, 0.025287466986013685, 0.014041140959954759, 0.0]], \"n_frames\": 150000, \"convergence\": [0.1356696405161987, 0.1356696405161987, 0.0, 0.0, 0.0, 0.0, 0.0, 0.0, 0.0, 0.0, 0.0, 0.0, 0.0, 0.014041140959954759, 0.014041140959954759], \"ordered_convergence\": [0.1356696405161987, 0.1356696405161987, 0.0, 0.0, 0.0, 0.0, 0.0, 0.0, 0.0, 0.0, 0.0, 0.0, 0.0, 0.014041140959954759, 0.014041140959954759]}}, \"pull\": {\"ti-block\": {\"fe\": 4.184365802697495, \"sem\": 0.31438521441880324, \"fe_matrix\": [[0.0, 1.180350892397167, 2.0627736208495175, 3.2488350209704757, 5.062422524727773, 5.928115793111216, 6.187946872080343, 5.772866464019089, 5.353589080632094, 5.244028779696949, 4.796468167908464, 4.627370109521271, 4.656762745574133, 4.881199114316252, 5.160598084418975, 5.312436168808608, 5.284411887840975, 5.182472019537928, 5.109043143616706, 5.040436364469415, 4.9806174637669045, 4.911520926346136, 4.831019584867269, 4.760583586629012, 4.725663304201102, 4.709531457929938, 4.707357294862048, 4.685957166974368, 4.628279286903716, 4.576941965461575, 4.534513040233867, 4.489349912020969, 4.457745006193575, 4.428108345460268, 4.392951731689508, 4.3586830581813905, 4.333909746800578, 4.302441954561169, 4.271549782259012, 4.264221132375529, 4.261602067925859, 4.2653075343281985, 4.263280584610374, 4.245157461275347, 4.21623714253052, 4.184365802697495], [-1.180350892397167, 0.0, 0.0, 0.0, 0.0, 0.0, 0.0, 0.0, 0.0, 0.0, 0.0, 0.0, 0.0, 0.0, 0.0, 0.0, 0.0, 0.0, 0.0, 0.0, 0.0, 0.0, 0.0, 0.0, 0.0, 0.0, 0.0, 0.0, 0.0, 0.0, 0.0, 0.0, 0.0, 0.0, 0.0, 0.0, 0.0, 0.0, 0.0, 0.0, 0.0, 0.0, 0.0, 0.0, 0.0, 2.9912952219589504], [-2.0627736208495175, -0.0, 0.0, 0.0, 0.0, 0.0, 0.0, 0.0, 0.0, 0.0, 0.0, 0.0, 0.0, 0.0, 0.0, 0.0, 0.0, 0.0, 0.0, 0.0, 0.0, 0.0, 0.0, 0.0, 0.0, 0.0, 0.0, 0.0, 0.0, 0.0, 0.0, 0.0, 0.0, 0.0, 0.0, 0.0, 0.0, 0.0, 0.0, 0.0, 0.0, 0.0, 0.0, 0.0, 0.0, 2.1166531909034556], [-3.2488350209704757, -0.0, -0.0, 0.0, 0.0, 0.0, 0.0, 0.0, 0.0, 0.0, 0.0, 0.0, 0.0, 0.0, 0.0, 0.0, 0.0, 0.0, 0.0, 0.0, 0.0, 0.0, 0.0, 0.0, 0.0, 0.0, 0.0, 0.0, 0.0, 0.0, 0.0, 0.0, 0.0, 0.0, 0.0, 0.0, 0.0, 0.0, 0.0, 0.0, 0.0, 0.0, 0.0, 0.0, 0.0, 0.9163308099817588], [-5.062422524727773, -0.0, -0.0, -0.0, 0.0, 0.0, 0.0, 0.0, 0.0, 0.0, 0.0, 0.0, 0.0, 0.0, 0.0, 0.0, 0.0, 0.0, 0.0, 0.0, 0.0, 0.0, 0.0, 0.0, 0.0, 0.0, 0.0, 0.0, 0.0, 0.0, 0.0, 0.0, 0.0, 0.0, 0.0, 0.0, 0.0, 0.0, 0.0, 0.0, 0.0, 0.0, 0.0, 0.0, 0.0, -0.8933825930467607], [-5.928115793111216, -0.0, -0.0, -0.0, -0.0, 0.0, 0.0, 0.0, 0.0, 0.0, 0.0, 0.0, 0.0, 0.0, 0.0, 0.0, 0.0, 0.0, 0.0, 0.0, 0.0, 0.0, 0.0, 0.0, 0.0, 0.0, 0.0, 0.0, 0.0, 0.0, 0.0, 0.0, 0.0, 0.0, 0.0, 0.0, 0.0, 0.0, 0.0, 0.0, 0.0, 0.0, 0.0, 0.0, 0.0, -1.745671740936994], [-6.187946872080343, -0.0, -0.0, -0.0, -0.0, -0.0, 0.0, 0.0, 0.0, 0.0, 0.0, 0.0, 0.0, 0.0, 0.0, 0.0, 0.0, 0.0, 0.0, 0.0, 0.0, 0.0, 0.0, 0.0, 0.0, 0.0, 0.0, 0.0, 0.0, 0.0, 0.0, 0.0, 0.0, 0.0, 0.0, 0.0, 0.0, 0.0, 0.0, 0.0, 0.0, 0.0, 0.0, 0.0, 0.0, -2.0077016169103827], [-5.772866464019089, -0.0, -0.0, -0.0, -0.0, -0.0, -0.0, 0.0, 0.0, 0.0, 0.0, 0.0, 0.0, 0.0, 0.0, 0.0, 0.0, 0.0, 0.0, 0.0, 0.0, 0.0, 0.0, 0.0, 0.0, 0.0, 0.0, 0.0, 0.0, 0.0, 0.0, 0.0, 0.0, 0.0, 0.0, 0.0, 0.0, 0.0, 0.0, 0.0, 0.0, 0.0, 0.0, 0.0, 0.0, -1.575896721093955], [-5.353589080632094, -0.0, -0.0, -0.0, -0.0, -0.0, -0.0, -0.0, 0.0, 0.0, 0.0, 0.0, 0.0, 0.0, 0.0, 0.0, 0.0, 0.0, 0.0, 0.0, 0.0, 0.0, 0.0, 0.0, 0.0, 0.0, 0.0, 0.0, 0.0, 0.0, 0.0, 0.0, 0.0, 0.0, 0.0, 0.0, 0.0, 0.0, 0.0, 0.0, 0.0, 0.0, 0.0, 0.0, 0.0, -1.1738981971342979], [-5.244028779696949, -0.0, -0.0, -0.0, -0.0, -0.0, -0.0, -0.0, -0.0, 0.0, 0.0, 0.0, 0.0, 0.0, 0.0, 0.0, 0.0, 0.0, 0.0, 0.0, 0.0, 0.0, 0.0, 0.0, 0.0, 0.0, 0.0, 0.0, 0.0, 0.0, 0.0, 0.0, 0.0, 0.0, 0.0, 0.0, 0.0, 0.0, 0.0, 0.0, 0.0, 0.0, 0.0, 0.0, 0.0, -1.0534614518957464], [-4.796468167908464, -0.0, -0.0, -0.0, -0.0, -0.0, -0.0, -0.0, -0.0, -0.0, 0.0, 0.0, 0.0, 0.0, 0.0, 0.0, 0.0, 0.0, 0.0, 0.0, 0.0, 0.0, 0.0, 0.0, 0.0, 0.0, 0.0, 0.0, 0.0, 0.0, 0.0, 0.0, 0.0, 0.0, 0.0, 0.0, 0.0, 0.0, 0.0, 0.0, 0.0, 0.0, 0.0, 0.0, 0.0, -0.6093099408512824], [-4.627370109521271, -0.0, -0.0, -0.0, -0.0, -0.0, -0.0, -0.0, -0.0, -0.0, -0.0, 0.0, 0.0, 0.0, 0.0, 0.0, 0.0, 0.0, 0.0, 0.0, 0.0, 0.0, 0.0, 0.0, 0.0, 0.0, 0.0, 0.0, 0.0, 0.0, 0.0, 0.0, 0.0, 0.0, 0.0, 0.0, 0.0, 0.0, 0.0, 0.0, 0.0, 0.0, 0.0, 0.0, 0.0, -0.4424077365020756], [-4.656762745574133, -0.0, -0.0, -0.0, -0.0, -0.0, -0.0, -0.0, -0.0, -0.0, -0.0, -0.0, 0.0, 0.0, 0.0, 0.0, 0.0, 0.0, 0.0, 0.0, 0.0, 0.0, 0.0, 0.0, 0.0, 0.0, 0.0, 0.0, 0.0, 0.0, 0.0, 0.0, 0.0, 0.0, 0.0, 0.0, 0.0, 0.0, 0.0, 0.0, 0.0, 0.0, 0.0, 0.0, 0.0, -0.473544485937958], [-4.881199114316252, -0.0, -0.0, -0.0, -0.0, -0.0, -0.0, -0.0, -0.0, -0.0, -0.0, -0.0, -0.0, 0.0, 0.0, 0.0, 0.0, 0.0, 0.0, 0.0, 0.0, 0.0, 0.0, 0.0, 0.0, 0.0, 0.0, 0.0, 0.0, 0.0, 0.0, 0.0, 0.0, 0.0, 0.0, 0.0, 0.0, 0.0, 0.0, 0.0, 0.0, 0.0, 0.0, 0.0, 0.0, -0.7000245328685799], [-5.160598084418975, -0.0, -0.0, -0.0, -0.0, -0.0, -0.0, -0.0, -0.0, -0.0, -0.0, -0.0, -0.0, -0.0, 0.0, 0.0, 0.0, 0.0, 0.0, 0.0, 0.0, 0.0, 0.0, 0.0, 0.0, 0.0, 0.0, 0.0, 0.0, 0.0, 0.0, 0.0, 0.0, 0.0, 0.0, 0.0, 0.0, 0.0, 0.0, 0.0, 0.0, 0.0, 0.0, 0.0, 0.0, -0.9783129933380703], [-5.312436168808608, -0.0, -0.0, -0.0, -0.0, -0.0, -0.0, -0.0, -0.0, -0.0, -0.0, -0.0, -0.0, -0.0, -0.0, 0.0, 0.0, 0.0, 0.0, 0.0, 0.0, 0.0, 0.0, 0.0, 0.0, 0.0, 0.0, 0.0, 0.0, 0.0, 0.0, 0.0, 0.0, 0.0, 0.0, 0.0, 0.0, 0.0, 0.0, 0.0, 0.0, 0.0, 0.0, 0.0, 0.0, -1.1289621901156432], [-5.284411887840975, -0.0, -0.0, -0.0, -0.0, -0.0, -0.0, -0.0, -0.0, -0.0, -0.0, -0.0, -0.0, -0.0, -0.0, -0.0, 0.0, 0.0, 0.0, 0.0, 0.0, 0.0, 0.0, 0.0, 0.0, 0.0, 0.0, 0.0, 0.0, 0.0, 0.0, 0.0, 0.0, 0.0, 0.0, 0.0, 0.0, 0.0, 0.0, 0.0, 0.0, 0.0, 0.0, 0.0, 0.0, -1.0986843489056974], [-5.182472019537928, -0.0, -0.0, -0.0, -0.0, -0.0, -0.0, -0.0, -0.0, -0.0, -0.0, -0.0, -0.0, -0.0, -0.0, -0.0, -0.0, 0.0, 0.0, 0.0, 0.0, 0.0, 0.0, 0.0, 0.0, 0.0, 0.0, 0.0, 0.0, 0.0, 0.0, 0.0, 0.0, 0.0, 0.0, 0.0, 0.0, 0.0, 0.0, 0.0, 0.0, 0.0, 0.0, 0.0, 0.0, -0.9975477714706383], [-5.109043143616706, -0.0, -0.0, -0.0, -0.0, -0.0, -0.0, -0.0, -0.0, -0.0, -0.0, -0.0, -0.0, -0.0, -0.0, -0.0, -0.0, -0.0, 0.0, 0.0, 0.0, 0.0, 0.0, 0.0, 0.0, 0.0, 0.0, 0.0, 0.0, 0.0, 0.0, 0.0, 0.0, 0.0, 0.0, 0.0, 0.0, 0.0, 0.0, 0.0, 0.0, 0.0, 0.0, 0.0, 0.0, -0.923785982632835], [-5.040436364469415, -0.0, -0.0, -0.0, -0.0, -0.0, -0.0, -0.0, -0.0, -0.0, -0.0, -0.0, -0.0, -0.0, -0.0, -0.0, -0.0, -0.0, -0.0, 0.0, 0.0, 0.0, 0.0, 0.0, 0.0, 0.0, 0.0, 0.0, 0.0, 0.0, 0.0, 0.0, 0.0, 0.0, 0.0, 0.0, 0.0, 0.0, 0.0, 0.0, 0.0, 0.0, 0.0, 0.0, 0.0, -0.85559057849538], [-4.9806174637669045, -0.0, -0.0, -0.0, -0.0, -0.0, -0.0, -0.0, -0.0, -0.0, -0.0, -0.0, -0.0, -0.0, -0.0, -0.0, -0.0, -0.0, -0.0, -0.0, 0.0, 0.0, 0.0, 0.0, 0.0, 0.0, 0.0, 0.0, 0.0, 0.0, 0.0, 0.0, 0.0, 0.0, 0.0, 0.0, 0.0, 0.0, 0.0, 0.0, 0.0, 0.0, 0.0, 0.0, 0.0, -0.795512003117957], [-4.911520926346136, -0.0, -0.0, -0.0, -0.0, -0.0, -0.0, -0.0, -0.0, -0.0, -0.0, -0.0, -0.0, -0.0, -0.0, -0.0, -0.0, -0.0, -0.0, -0.0, -0.0, 0.0, 0.0, 0.0, 0.0, 0.0, 0.0, 0.0, 0.0, 0.0, 0.0, 0.0, 0.0, 0.0, 0.0, 0.0, 0.0, 0.0, 0.0, 0.0, 0.0, 0.0, 0.0, 0.0, 0.0, -0.7265065533630441], [-4.831019584867269, -0.0, -0.0, -0.0, -0.0, -0.0, -0.0, -0.0, -0.0, -0.0, -0.0, -0.0, -0.0, -0.0, -0.0, -0.0, -0.0, -0.0, -0.0, -0.0, -0.0, -0.0, 0.0, 0.0, 0.0, 0.0, 0.0, 0.0, 0.0, 0.0, 0.0, 0.0, 0.0, 0.0, 0.0, 0.0, 0.0, 0.0, 0.0, 0.0, 0.0, 0.0, 0.0, 0.0, 0.0, -0.6457283502775472], [-4.760583586629012, -0.0, -0.0, -0.0, -0.0, -0.0, -0.0, -0.0, -0.0, -0.0, -0.0, -0.0, -0.0, -0.0, -0.0, -0.0, -0.0, -0.0, -0.0, -0.0, -0.0, -0.0, -0.0, 0.0, 0.0, 0.0, 0.0, 0.0, 0.0, 0.0, 0.0, 0.0, 0.0, 0.0, 0.0, 0.0, 0.0, 0.0, 0.0, 0.0, 0.0, 0.0, 0.0, 0.0, 0.0, -0.5757570045899465], [-4.725663304201102, -0.0, -0.0, -0.0, -0.0, -0.0, -0.0, -0.0, -0.0, -0.0, -0.0, -0.0, -0.0, -0.0, -0.0, -0.0, -0.0, -0.0, -0.0, -0.0, -0.0, -0.0, -0.0, -0.0, 0.0, 0.0, 0.0, 0.0, 0.0, 0.0, 0.0, 0.0, 0.0, 0.0, 0.0, 0.0, 0.0, 0.0, 0.0, 0.0, 0.0, 0.0, 0.0, 0.0, 0.0, -0.5410544715609332], [-4.709531457929938, -0.0, -0.0, -0.0, -0.0, -0.0, -0.0, -0.0, -0.0, -0.0, -0.0, -0.0, -0.0, -0.0, -0.0, -0.0, -0.0, -0.0, -0.0, -0.0, -0.0, -0.0, -0.0, -0.0, -0.0, 0.0, 0.0, 0.0, 0.0, 0.0, 0.0, 0.0, 0.0, 0.0, 0.0, 0.0, 0.0, 0.0, 0.0, 0.0, 0.0, 0.0, 0.0, 0.0, 0.0, -0.525070251888174], [-4.707357294862048, -0.0, -0.0, -0.0, -0.0, -0.0, -0.0, -0.0, -0.0, -0.0, -0.0, -0.0, -0.0, -0.0, -0.0, -0.0, -0.0, -0.0, -0.0, -0.0, -0.0, -0.0, -0.0, -0.0, -0.0, -0.0, 0.0, 0.0, 0.0, 0.0, 0.0, 0.0, 0.0, 0.0, 0.0, 0.0, 0.0, 0.0, 0.0, 0.0, 0.0, 0.0, 0.0, 0.0, 0.0, -0.523007272722628], [-4.685957166974368, -0.0, -0.0, -0.0, -0.0, -0.0, -0.0, -0.0, -0.0, -0.0, -0.0, -0.0, -0.0, -0.0, -0.0, -0.0, -0.0, -0.0, -0.0, -0.0, -0.0, -0.0, -0.0, -0.0, -0.0, -0.0, -0.0, 0.0, 0.0, 0.0, 0.0, 0.0, 0.0, 0.0, 0.0, 0.0, 0.0, 0.0, 0.0, 0.0, 0.0, 0.0, 0.0, 0.0, 0.0, -0.5011190041152642], [-4.628279286903716, -0.0, -0.0, -0.0, -0.0, -0.0, -0.0, -0.0, -0.0, -0.0, -0.0, -0.0, -0.0, -0.0, -0.0, -0.0, -0.0, -0.0, -0.0, -0.0, -0.0, -0.0, -0.0, -0.0, -0.0, -0.0, -0.0, -0.0, 0.0, 0.0, 0.0, 0.0, 0.0, 0.0, 0.0, 0.0, 0.0, 0.0, 0.0, 0.0, 0.0, 0.0, 0.0, 0.0, 0.0, -0.44326162414450837], [-4.576941965461575, -0.0, -0.0, -0.0, -0.0, -0.0, -0.0, -0.0, -0.0, -0.0, -0.0, -0.0, -0.0, -0.0, -0.0, -0.0, -0.0, -0.0, -0.0, -0.0, -0.0, -0.0, -0.0, -0.0, -0.0, -0.0, -0.0, -0.0, -0.0, 0.0, 0.0, 0.0, 0.0, 0.0, 0.0, 0.0, 0.0, 0.0, 0.0, 0.0, 0.0, 0.0, 0.0, 0.0, 0.0, -0.3922239702956126], [-4.534513040233867, -0.0, -0.0, -0.0, -0.0, -0.0, -0.0, -0.0, -0.0, -0.0, -0.0, -0.0, -0.0, -0.0, -0.0, -0.0, -0.0, -0.0, -0.0, -0.0, -0.0, -0.0, -0.0, -0.0, -0.0, -0.0, -0.0, -0.0, -0.0, -0.0, 0.0, 0.0, 0.0, 0.0, 0.0, 0.0, 0.0, 0.0, 0.0, 0.0, 0.0, 0.0, 0.0, 0.0, 0.0, -0.3496521836828919], [-4.489349912020969, -0.0, -0.0, -0.0, -0.0, -0.0, -0.0, -0.0, -0.0, -0.0, -0.0, -0.0, -0.0, -0.0, -0.0, -0.0, -0.0, -0.0, -0.0, -0.0, -0.0, -0.0, -0.0, -0.0, -0.0, -0.0, -0.0, -0.0, -0.0, -0.0, -0.0, 0.0, 0.0, 0.0, 0.0, 0.0, 0.0, 0.0, 0.0, 0.0, 0.0, 0.0, 0.0, 0.0, 0.0, -0.30458220036783357], [-4.457745006193575, -0.0, -0.0, -0.0, -0.0, -0.0, -0.0, -0.0, -0.0, -0.0, -0.0, -0.0, -0.0, -0.0, -0.0, -0.0, -0.0, -0.0, -0.0, -0.0, -0.0, -0.0, -0.0, -0.0, -0.0, -0.0, -0.0, -0.0, -0.0, -0.0, -0.0, -0.0, 0.0, 0.0, 0.0, 0.0, 0.0, 0.0, 0.0, 0.0, 0.0, 0.0, 0.0, 0.0, 0.0, -0.2731436652520767], [-4.428108345460268, -0.0, -0.0, -0.0, -0.0, -0.0, -0.0, -0.0, -0.0, -0.0, -0.0, -0.0, -0.0, -0.0, -0.0, -0.0, -0.0, -0.0, -0.0, -0.0, -0.0, -0.0, -0.0, -0.0, -0.0, -0.0, -0.0, -0.0, -0.0, -0.0, -0.0, -0.0, -0.0, 0.0, 0.0, 0.0, 0.0, 0.0, 0.0, 0.0, 0.0, 0.0, 0.0, 0.0, 0.0, -0.24337440010541742], [-4.392951731689508, -0.0, -0.0, -0.0, -0.0, -0.0, -0.0, -0.0, -0.0, -0.0, -0.0, -0.0, -0.0, -0.0, -0.0, -0.0, -0.0, -0.0, -0.0, -0.0, -0.0, -0.0, -0.0, -0.0, -0.0, -0.0, -0.0, -0.0, -0.0, -0.0, -0.0, -0.0, -0.0, -0.0, 0.0, 0.0, 0.0, 0.0, 0.0, 0.0, 0.0, 0.0, 0.0, 0.0, 0.0, -0.20825697087134967], [-4.3586830581813905, -0.0, -0.0, -0.0, -0.0, -0.0, -0.0, -0.0, -0.0, -0.0, -0.0, -0.0, -0.0, -0.0, -0.0, -0.0, -0.0, -0.0, -0.0, -0.0, -0.0, -0.0, -0.0, -0.0, -0.0, -0.0, -0.0, -0.0, -0.0, -0.0, -0.0, -0.0, -0.0, -0.0, -0.0, 0.0, 0.0, 0.0, 0.0, 0.0, 0.0, 0.0, 0.0, 0.0, 0.0, -0.1739628488689119], [-4.333909746800578, -0.0, -0.0, -0.0, -0.0, -0.0, -0.0, -0.0, -0.0, -0.0, -0.0, -0.0, -0.0, -0.0, -0.0, -0.0, -0.0, -0.0, -0.0, -0.0, -0.0, -0.0, -0.0, -0.0, -0.0, -0.0, -0.0, -0.0, -0.0, -0.0, -0.0, -0.0, -0.0, -0.0, -0.0, -0.0, 0.0, 0.0, 0.0, 0.0, 0.0, 0.0, 0.0, 0.0, 0.0, -0.1494055109601698], [-4.302441954561169, -0.0, -0.0, -0.0, -0.0, -0.0, -0.0, -0.0, -0.0, -0.0, -0.0, -0.0, -0.0, -0.0, -0.0, -0.0, -0.0, -0.0, -0.0, -0.0, -0.0, -0.0, -0.0, -0.0, -0.0, -0.0, -0.0, -0.0, -0.0, -0.0, -0.0, -0.0, -0.0, -0.0, -0.0, -0.0, -0.0, 0.0, 0.0, 0.0, 0.0, 0.0, 0.0, 0.0, 0.0, -0.11758420690997556], [-4.271549782259012, -0.0, -0.0, -0.0, -0.0, -0.0, -0.0, -0.0, -0.0, -0.0, -0.0, -0.0, -0.0, -0.0, -0.0, -0.0, -0.0, -0.0, -0.0, -0.0, -0.0, -0.0, -0.0, -0.0, -0.0, -0.0, -0.0, -0.0, -0.0, -0.0, -0.0, -0.0, -0.0, -0.0, -0.0, -0.0, -0.0, -0.0, 0.0, 0.0, 0.0, 0.0, 0.0, 0.0, 0.0, -0.08707279146631665], [-4.264221132375529, -0.0, -0.0, -0.0, -0.0, -0.0, -0.0, -0.0, -0.0, -0.0, -0.0, -0.0, -0.0, -0.0, -0.0, -0.0, -0.0, -0.0, -0.0, -0.0, -0.0, -0.0, -0.0, -0.0, -0.0, -0.0, -0.0, -0.0, -0.0, -0.0, -0.0, -0.0, -0.0, -0.0, -0.0, -0.0, -0.0, -0.0, -0.0, 0.0, 0.0, 0.0, 0.0, 0.0, 0.0, -0.07981473850368534], [-4.261602067925859, -0.0, -0.0, -0.0, -0.0, -0.0, -0.0, -0.0, -0.0, -0.0, -0.0, -0.0, -0.0, -0.0, -0.0, -0.0, -0.0, -0.0, -0.0, -0.0, -0.0, -0.0, -0.0, -0.0, -0.0, -0.0, -0.0, -0.0, -0.0, -0.0, -0.0, -0.0, -0.0, -0.0, -0.0, -0.0, -0.0, -0.0, -0.0, -0.0, 0.0, 0.0, 0.0, 0.0, 0.0, -0.0772163493019159], [-4.2653075343281985, -0.0, -0.0, -0.0, -0.0, -0.0, -0.0, -0.0, -0.0, -0.0, -0.0, -0.0, -0.0, -0.0, -0.0, -0.0, -0.0, -0.0, -0.0, -0.0, -0.0, -0.0, -0.0, -0.0, -0.0, -0.0, -0.0, -0.0, -0.0, -0.0, -0.0, -0.0, -0.0, -0.0, -0.0, -0.0, -0.0, -0.0, -0.0, -0.0, -0.0, 0.0, 0.0, 0.0, 0.0, -0.08102470383371643], [-4.263280584610374, -0.0, -0.0, -0.0, -0.0, -0.0, -0.0, -0.0, -0.0, -0.0, -0.0, -0.0, -0.0, -0.0, -0.0, -0.0, -0.0, -0.0, -0.0, -0.0, -0.0, -0.0, -0.0, -0.0, -0.0, -0.0, -0.0, -0.0, -0.0, -0.0, -0.0, -0.0, -0.0, -0.0, -0.0, -0.0, -0.0, -0.0, -0.0, -0.0, -0.0, -0.0, 0.0, 0.0, 0.0, -0.07877579415830163], [-4.245157461275347, -0.0, -0.0, -0.0, -0.0, -0.0, -0.0, -0.0, -0.0, -0.0, -0.0, -0.0, -0.0, -0.0, -0.0, -0.0, -0.0, -0.0, -0.0, -0.0, -0.0, -0.0, -0.0, -0.0, -0.0, -0.0, -0.0, -0.0, -0.0, -0.0, -0.0, -0.0, -0.0, -0.0, -0.0, -0.0, -0.0, -0.0, -0.0, -0.0, -0.0, -0.0, -0.0, 0.0, 0.0, -0.0605711669612919], [-4.21623714253052, -0.0, -0.0, -0.0, -0.0, -0.0, -0.0, -0.0, -0.0, -0.0, -0.0, -0.0, -0.0, -0.0, -0.0, -0.0, -0.0, -0.0, -0.0, -0.0, -0.0, -0.0, -0.0, -0.0, -0.0, -0.0, -0.0, -0.0, -0.0, -0.0, -0.0, -0.0, -0.0, -0.0, -0.0, -0.0, -0.0, -0.0, -0.0, -0.0, -0.0, -0.0, -0.0, -0.0, 0.0, -0.03151910552191618], [-4.184365802697495, -2.9912952219589504, -2.1166531909034556, -0.9163308099817588, 0.8933825930467607, 1.745671740936994, 2.0077016169103827, 1.575896721093955, 1.1738981971342979, 1.0534614518957464, 0.6093099408512824, 0.4424077365020756, 0.473544485937958, 0.7000245328685799, 0.9783129933380703, 1.1289621901156432, 1.0986843489056974, 0.9975477714706383, 0.923785982632835, 0.85559057849538, 0.795512003117957, 0.7265065533630441, 0.6457283502775472, 0.5757570045899465, 0.5410544715609332, 0.525070251888174, 0.523007272722628, 0.5011190041152642, 0.44326162414450837, 0.3922239702956126, 0.3496521836828919, 0.30458220036783357, 0.2731436652520767, 0.24337440010541742, 0.20825697087134967, 0.1739628488689119, 0.1494055109601698, 0.11758420690997556, 0.08707279146631665, 0.07981473850368534, 0.0772163493019159, 0.08102470383371643, 0.07877579415830163, 0.0605711669612919, 0.03151910552191618, 0.0]], \"sem_matrix\": [[0.0, 0.0197814279878546, 0.03605039987117919, 0.06424152724641624, 0.09574815404111045, 0.1590386289920363, 0.17411040335299796, 0.17940620358701723, 0.19190409046233353, 0.22087188818592754, 0.2238660130901901, 0.22655150033494625, 0.23152630808236194, 0.2348389272562971, 0.24421158248810657, 0.2584313074604265, 0.26999828417889976, 0.27959072323290224, 0.28412686878875226, 0.2846474143253184, 0.29152671356075355, 0.30171626588841277, 0.3019492611197404, 0.3017543451431064, 0.3013843071692745, 0.30149681727877303, 0.3024094143708521, 0.3032348920286877, 0.3038623176337511, 0.30583946365632725, 0.3074380763001172, 0.3085143556792415, 0.30881489151747893, 0.3089562409919166, 0.30944592815434896, 0.3107939808575596, 0.3115194572939858, 0.31187412390504105, 0.31221850085974784, 0.31231110870672857, 0.31232419628634345, 0.312506072155552, 0.31298698486454485, 0.31363653742961795, 0.3138252190052423, 0.31438521441880324], [0.0197814279878546, 0.0, 0.0, 0.0, 0.0, 0.0, 0.0, 0.0, 0.0, 0.0, 0.0, 0.0, 0.0, 0.0, 0.0, 0.0, 0.0, 0.0, 0.0, 0.0, 0.0, 0.0, 0.0, 0.0, 0.0, 0.0, 0.0, 0.0, 0.0, 0.0, 0.0, 0.0, 0.0, 0.0, 0.0, 0.0, 0.0, 0.0, 0.0, 0.0, 0.0, 0.0, 0.0, 0.0, 0.0, 0.31406422955262103], [0.03605039987117919, 0.0, 0.0, 0.0, 0.0, 0.0, 0.0, 0.0, 0.0, 0.0, 0.0, 0.0, 0.0, 0.0, 0.0, 0.0, 0.0, 0.0, 0.0, 0.0, 0.0, 0.0, 0.0, 0.0, 0.0, 0.0, 0.0, 0.0, 0.0, 0.0, 0.0, 0.0, 0.0, 0.0, 0.0, 0.0, 0.0, 0.0, 0.0, 0.0, 0.0, 0.0, 0.0, 0.0, 0.0, 0.31283331854927443], [0.06424152724641624, 0.0, 0.0, 0.0, 0.0, 0.0, 0.0, 0.0, 0.0, 0.0, 0.0, 0.0, 0.0, 0.0, 0.0, 0.0, 0.0, 0.0, 0.0, 0.0, 0.0, 0.0, 0.0, 0.0, 0.0, 0.0, 0.0, 0.0, 0.0, 0.0, 0.0, 0.0, 0.0, 0.0, 0.0, 0.0, 0.0, 0.0, 0.0, 0.0, 0.0, 0.0, 0.0, 0.0, 0.0, 0.3175291510718025], [0.09574815404111045, 0.0, 0.0, 0.0, 0.0, 0.0, 0.0, 0.0, 0.0, 0.0, 0.0, 0.0, 0.0, 0.0, 0.0, 0.0, 0.0, 0.0, 0.0, 0.0, 0.0, 0.0, 0.0, 0.0, 0.0, 0.0, 0.0, 0.0, 0.0, 0.0, 0.0, 0.0, 0.0, 0.0, 0.0, 0.0, 0.0, 0.0, 0.0, 0.0, 0.0, 0.0, 0.0, 0.0, 0.0, 0.28409613623096525], [0.1590386289920363, 0.0, 0.0, 0.0, 0.0, 0.0, 0.0, 0.0, 0.0, 0.0, 0.0, 0.0, 0.0, 0.0, 0.0, 0.0, 0.0, 0.0, 0.0, 0.0, 0.0, 0.0, 0.0, 0.0, 0.0, 0.0, 0.0, 0.0, 0.0, 0.0, 0.0, 0.0, 0.0, 0.0, 0.0, 0.0, 0.0, 0.0, 0.0, 0.0, 0.0, 0.0, 0.0, 0.0, 0.0, 0.2690327834349047], [0.17411040335299796, 0.0, 0.0, 0.0, 0.0, 0.0, 0.0, 0.0, 0.0, 0.0, 0.0, 0.0, 0.0, 0.0, 0.0, 0.0, 0.0, 0.0, 0.0, 0.0, 0.0, 0.0, 0.0, 0.0, 0.0, 0.0, 0.0, 0.0, 0.0, 0.0, 0.0, 0.0, 0.0, 0.0, 0.0, 0.0, 0.0, 0.0, 0.0, 0.0, 0.0, 0.0, 0.0, 0.0, 0.0, 0.26412269610419986], [0.17940620358701723, 0.0, 0.0, 0.0, 0.0, 0.0, 0.0, 0.0, 0.0, 0.0, 0.0, 0.0, 0.0, 0.0, 0.0, 0.0, 0.0, 0.0, 0.0, 0.0, 0.0, 0.0, 0.0, 0.0, 0.0, 0.0, 0.0, 0.0, 0.0, 0.0, 0.0, 0.0, 0.0, 0.0, 0.0, 0.0, 0.0, 0.0, 0.0, 0.0, 0.0, 0.0, 0.0, 0.0, 0.0, 0.25852663581922386], [0.19190409046233353, 0.0, 0.0, 0.0, 0.0, 0.0, 0.0, 0.0, 0.0, 0.0, 0.0, 0.0, 0.0, 0.0, 0.0, 0.0, 0.0, 0.0, 0.0, 0.0, 0.0, 0.0, 0.0, 0.0, 0.0, 0.0, 0.0, 0.0, 0.0, 0.0, 0.0, 0.0, 0.0, 0.0, 0.0, 0.0, 0.0, 0.0, 0.0, 0.0, 0.0, 0.0, 0.0, 0.0, 0.0, 0.23369852952404735], [0.22087188818592754, 0.0, 0.0, 0.0, 0.0, 0.0, 0.0, 0.0, 0.0, 0.0, 0.0, 0.0, 0.0, 0.0, 0.0, 0.0, 0.0, 0.0, 0.0, 0.0, 0.0, 0.0, 0.0, 0.0, 0.0, 0.0, 0.0, 0.0, 0.0, 0.0, 0.0, 0.0, 0.0, 0.0, 0.0, 0.0, 0.0, 0.0, 0.0, 0.0, 0.0, 0.0, 0.0, 0.0, 0.0, 0.22483190439136666], [0.2238660130901901, 0.0, 0.0, 0.0, 0.0, 0.0, 0.0, 0.0, 0.0, 0.0, 0.0, 0.0, 0.0, 0.0, 0.0, 0.0, 0.0, 0.0, 0.0, 0.0, 0.0, 0.0, 0.0, 0.0, 0.0, 0.0, 0.0, 0.0, 0.0, 0.0, 0.0, 0.0, 0.0, 0.0, 0.0, 0.0, 0.0, 0.0, 0.0, 0.0, 0.0, 0.0, 0.0, 0.0, 0.0, 0.22359569784466257], [0.22655150033494625, 0.0, 0.0, 0.0, 0.0, 0.0, 0.0, 0.0, 0.0, 0.0, 0.0, 0.0, 0.0, 0.0, 0.0, 0.0, 0.0, 0.0, 0.0, 0.0, 0.0, 0.0, 0.0, 0.0, 0.0, 0.0, 0.0, 0.0, 0.0, 0.0, 0.0, 0.0, 0.0, 0.0, 0.0, 0.0, 0.0, 0.0, 0.0, 0.0, 0.0, 0.0, 0.0, 0.0, 0.0, 0.218766131547302], [0.23152630808236194, 0.0, 0.0, 0.0, 0.0, 0.0, 0.0, 0.0, 0.0, 0.0, 0.0, 0.0, 0.0, 0.0, 0.0, 0.0, 0.0, 0.0, 0.0, 0.0, 0.0, 0.0, 0.0, 0.0, 0.0, 0.0, 0.0, 0.0, 0.0, 0.0, 0.0, 0.0, 0.0, 0.0, 0.0, 0.0, 0.0, 0.0, 0.0, 0.0, 0.0, 0.0, 0.0, 0.0, 0.0, 0.2145680602696159], [0.2348389272562971, 0.0, 0.0, 0.0, 0.0, 0.0, 0.0, 0.0, 0.0, 0.0, 0.0, 0.0, 0.0, 0.0, 0.0, 0.0, 0.0, 0.0, 0.0, 0.0, 0.0, 0.0, 0.0, 0.0, 0.0, 0.0, 0.0, 0.0, 0.0, 0.0, 0.0, 0.0, 0.0, 0.0, 0.0, 0.0, 0.0, 0.0, 0.0, 0.0, 0.0, 0.0, 0.0, 0.0, 0.0, 0.20514464841682511], [0.24421158248810657, 0.0, 0.0, 0.0, 0.0, 0.0, 0.0, 0.0, 0.0, 0.0, 0.0, 0.0, 0.0, 0.0, 0.0, 0.0, 0.0, 0.0, 0.0, 0.0, 0.0, 0.0, 0.0, 0.0, 0.0, 0.0, 0.0, 0.0, 0.0, 0.0, 0.0, 0.0, 0.0, 0.0, 0.0, 0.0, 0.0, 0.0, 0.0, 0.0, 0.0, 0.0, 0.0, 0.0, 0.0, 0.18866022896074156], [0.2584313074604265, 0.0, 0.0, 0.0, 0.0, 0.0, 0.0, 0.0, 0.0, 0.0, 0.0, 0.0, 0.0, 0.0, 0.0, 0.0, 0.0, 0.0, 0.0, 0.0, 0.0, 0.0, 0.0, 0.0, 0.0, 0.0, 0.0, 0.0, 0.0, 0.0, 0.0, 0.0, 0.0, 0.0, 0.0, 0.0, 0.0, 0.0, 0.0, 0.0, 0.0, 0.0, 0.0, 0.0, 0.0, 0.1744221874425267], [0.26999828417889976, 0.0, 0.0, 0.0, 0.0, 0.0, 0.0, 0.0, 0.0, 0.0, 0.0, 0.0, 0.0, 0.0, 0.0, 0.0, 0.0, 0.0, 0.0, 0.0, 0.0, 0.0, 0.0, 0.0, 0.0, 0.0, 0.0, 0.0, 0.0, 0.0, 0.0, 0.0, 0.0, 0.0, 0.0, 0.0, 0.0, 0.0, 0.0, 0.0, 0.0, 0.0, 0.0, 0.0, 0.0, 0.16023229102045375], [0.27959072323290224, 0.0, 0.0, 0.0, 0.0, 0.0, 0.0, 0.0, 0.0, 0.0, 0.0, 0.0, 0.0, 0.0, 0.0, 0.0, 0.0, 0.0, 0.0, 0.0, 0.0, 0.0, 0.0, 0.0, 0.0, 0.0, 0.0, 0.0, 0.0, 0.0, 0.0, 0.0, 0.0, 0.0, 0.0, 0.0, 0.0, 0.0, 0.0, 0.0, 0.0, 0.0, 0.0, 0.0, 0.0, 0.14902322103822607], [0.28412686878875226, 0.0, 0.0, 0.0, 0.0, 0.0, 0.0, 0.0, 0.0, 0.0, 0.0, 0.0, 0.0, 0.0, 0.0, 0.0, 0.0, 0.0, 0.0, 0.0, 0.0, 0.0, 0.0, 0.0, 0.0, 0.0, 0.0, 0.0, 0.0, 0.0, 0.0, 0.0, 0.0, 0.0, 0.0, 0.0, 0.0, 0.0, 0.0, 0.0, 0.0, 0.0, 0.0, 0.0, 0.0, 0.1444122810539263], [0.2846474143253184, 0.0, 0.0, 0.0, 0.0, 0.0, 0.0, 0.0, 0.0, 0.0, 0.0, 0.0, 0.0, 0.0, 0.0, 0.0, 0.0, 0.0, 0.0, 0.0, 0.0, 0.0, 0.0, 0.0, 0.0, 0.0, 0.0, 0.0, 0.0, 0.0, 0.0, 0.0, 0.0, 0.0, 0.0, 0.0, 0.0, 0.0, 0.0, 0.0, 0.0, 0.0, 0.0, 0.0, 0.0, 0.136189729999656], [0.29152671356075355, 0.0, 0.0, 0.0, 0.0, 0.0, 0.0, 0.0, 0.0, 0.0, 0.0, 0.0, 0.0, 0.0, 0.0, 0.0, 0.0, 0.0, 0.0, 0.0, 0.0, 0.0, 0.0, 0.0, 0.0, 0.0, 0.0, 0.0, 0.0, 0.0, 0.0, 0.0, 0.0, 0.0, 0.0, 0.0, 0.0, 0.0, 0.0, 0.0, 0.0, 0.0, 0.0, 0.0, 0.0, 0.10960582361225804], [0.30171626588841277, 0.0, 0.0, 0.0, 0.0, 0.0, 0.0, 0.0, 0.0, 0.0, 0.0, 0.0, 0.0, 0.0, 0.0, 0.0, 0.0, 0.0, 0.0, 0.0, 0.0, 0.0, 0.0, 0.0, 0.0, 0.0, 0.0, 0.0, 0.0, 0.0, 0.0, 0.0, 0.0, 0.0, 0.0, 0.0, 0.0, 0.0, 0.0, 0.0, 0.0, 0.0, 0.0, 0.0, 0.0, 0.0968489242494319], [0.3019492611197404, 0.0, 0.0, 0.0, 0.0, 0.0, 0.0, 0.0, 0.0, 0.0, 0.0, 0.0, 0.0, 0.0, 0.0, 0.0, 0.0, 0.0, 0.0, 0.0, 0.0, 0.0, 0.0, 0.0, 0.0, 0.0, 0.0, 0.0, 0.0, 0.0, 0.0, 0.0, 0.0, 0.0, 0.0, 0.0, 0.0, 0.0, 0.0, 0.0, 0.0, 0.0, 0.0, 0.0, 0.0, 0.09445190455934604], [0.3017543451431064, 0.0, 0.0, 0.0, 0.0, 0.0, 0.0, 0.0, 0.0, 0.0, 0.0, 0.0, 0.0, 0.0, 0.0, 0.0, 0.0, 0.0, 0.0, 0.0, 0.0, 0.0, 0.0, 0.0, 0.0, 0.0, 0.0, 0.0, 0.0, 0.0, 0.0, 0.0, 0.0, 0.0, 0.0, 0.0, 0.0, 0.0, 0.0, 0.0, 0.0, 0.0, 0.0, 0.0, 0.0, 0.09141141992872164], [0.3013843071692745, 0.0, 0.0, 0.0, 0.0, 0.0, 0.0, 0.0, 0.0, 0.0, 0.0, 0.0, 0.0, 0.0, 0.0, 0.0, 0.0, 0.0, 0.0, 0.0, 0.0, 0.0, 0.0, 0.0, 0.0, 0.0, 0.0, 0.0, 0.0, 0.0, 0.0, 0.0, 0.0, 0.0, 0.0, 0.0, 0.0, 0.0, 0.0, 0.0, 0.0, 0.0, 0.0, 0.0, 0.0, 0.08769378599506808], [0.30149681727877303, 0.0, 0.0, 0.0, 0.0, 0.0, 0.0, 0.0, 0.0, 0.0, 0.0, 0.0, 0.0, 0.0, 0.0, 0.0, 0.0, 0.0, 0.0, 0.0, 0.0, 0.0, 0.0, 0.0, 0.0, 0.0, 0.0, 0.0, 0.0, 0.0, 0.0, 0.0, 0.0, 0.0, 0.0, 0.0, 0.0, 0.0, 0.0, 0.0, 0.0, 0.0, 0.0, 0.0, 0.0, 0.08568530822708209], [0.3024094143708521, 0.0, 0.0, 0.0, 0.0, 0.0, 0.0, 0.0, 0.0, 0.0, 0.0, 0.0, 0.0, 0.0, 0.0, 0.0, 0.0, 0.0, 0.0, 0.0, 0.0, 0.0, 0.0, 0.0, 0.0, 0.0, 0.0, 0.0, 0.0, 0.0, 0.0, 0.0, 0.0, 0.0, 0.0, 0.0, 0.0, 0.0, 0.0, 0.0, 0.0, 0.0, 0.0, 0.0, 0.0, 0.08320082762209188], [0.3032348920286877, 0.0, 0.0, 0.0, 0.0, 0.0, 0.0, 0.0, 0.0, 0.0, 0.0, 0.0, 0.0, 0.0, 0.0, 0.0, 0.0, 0.0, 0.0, 0.0, 0.0, 0.0, 0.0, 0.0, 0.0, 0.0, 0.0, 0.0, 0.0, 0.0, 0.0, 0.0, 0.0, 0.0, 0.0, 0.0, 0.0, 0.0, 0.0, 0.0, 0.0, 0.0, 0.0, 0.0, 0.0, 0.08100024576188469], [0.3038623176337511, 0.0, 0.0, 0.0, 0.0, 0.0, 0.0, 0.0, 0.0, 0.0, 0.0, 0.0, 0.0, 0.0, 0.0, 0.0, 0.0, 0.0, 0.0, 0.0, 0.0, 0.0, 0.0, 0.0, 0.0, 0.0, 0.0, 0.0, 0.0, 0.0, 0.0, 0.0, 0.0, 0.0, 0.0, 0.0, 0.0, 0.0, 0.0, 0.0, 0.0, 0.0, 0.0, 0.0, 0.0, 0.07356163282414753], [0.30583946365632725, 0.0, 0.0, 0.0, 0.0, 0.0, 0.0, 0.0, 0.0, 0.0, 0.0, 0.0, 0.0, 0.0, 0.0, 0.0, 0.0, 0.0, 0.0, 0.0, 0.0, 0.0, 0.0, 0.0, 0.0, 0.0, 0.0, 0.0, 0.0, 0.0, 0.0, 0.0, 0.0, 0.0, 0.0, 0.0, 0.0, 0.0, 0.0, 0.0, 0.0, 0.0, 0.0, 0.0, 0.0, 0.06729139481880383], [0.3074380763001172, 0.0, 0.0, 0.0, 0.0, 0.0, 0.0, 0.0, 0.0, 0.0, 0.0, 0.0, 0.0, 0.0, 0.0, 0.0, 0.0, 0.0, 0.0, 0.0, 0.0, 0.0, 0.0, 0.0, 0.0, 0.0, 0.0, 0.0, 0.0, 0.0, 0.0, 0.0, 0.0, 0.0, 0.0, 0.0, 0.0, 0.0, 0.0, 0.0, 0.0, 0.0, 0.0, 0.0, 0.0, 0.0631465530887091], [0.3085143556792415, 0.0, 0.0, 0.0, 0.0, 0.0, 0.0, 0.0, 0.0, 0.0, 0.0, 0.0, 0.0, 0.0, 0.0, 0.0, 0.0, 0.0, 0.0, 0.0, 0.0, 0.0, 0.0, 0.0, 0.0, 0.0, 0.0, 0.0, 0.0, 0.0, 0.0, 0.0, 0.0, 0.0, 0.0, 0.0, 0.0, 0.0, 0.0, 0.0, 0.0, 0.0, 0.0, 0.0, 0.0, 0.06038821960359743], [0.30881489151747893, 0.0, 0.0, 0.0, 0.0, 0.0, 0.0, 0.0, 0.0, 0.0, 0.0, 0.0, 0.0, 0.0, 0.0, 0.0, 0.0, 0.0, 0.0, 0.0, 0.0, 0.0, 0.0, 0.0, 0.0, 0.0, 0.0, 0.0, 0.0, 0.0, 0.0, 0.0, 0.0, 0.0, 0.0, 0.0, 0.0, 0.0, 0.0, 0.0, 0.0, 0.0, 0.0, 0.0, 0.0, 0.05709530558576611], [0.3089562409919166, 0.0, 0.0, 0.0, 0.0, 0.0, 0.0, 0.0, 0.0, 0.0, 0.0, 0.0, 0.0, 0.0, 0.0, 0.0, 0.0, 0.0, 0.0, 0.0, 0.0, 0.0, 0.0, 0.0, 0.0, 0.0, 0.0, 0.0, 0.0, 0.0, 0.0, 0.0, 0.0, 0.0, 0.0, 0.0, 0.0, 0.0, 0.0, 0.0, 0.0, 0.0, 0.0, 0.0, 0.0, 0.054751775450455065], [0.30944592815434896, 0.0, 0.0, 0.0, 0.0, 0.0, 0.0, 0.0, 0.0, 0.0, 0.0, 0.0, 0.0, 0.0, 0.0, 0.0, 0.0, 0.0, 0.0, 0.0, 0.0, 0.0, 0.0, 0.0, 0.0, 0.0, 0.0, 0.0, 0.0, 0.0, 0.0, 0.0, 0.0, 0.0, 0.0, 0.0, 0.0, 0.0, 0.0, 0.0, 0.0, 0.0, 0.0, 0.0, 0.0, 0.05259991356305397], [0.3107939808575596, 0.0, 0.0, 0.0, 0.0, 0.0, 0.0, 0.0, 0.0, 0.0, 0.0, 0.0, 0.0, 0.0, 0.0, 0.0, 0.0, 0.0, 0.0, 0.0, 0.0, 0.0, 0.0, 0.0, 0.0, 0.0, 0.0, 0.0, 0.0, 0.0, 0.0, 0.0, 0.0, 0.0, 0.0, 0.0, 0.0, 0.0, 0.0, 0.0, 0.0, 0.0, 0.0, 0.0, 0.0, 0.050041330310297144], [0.3115194572939858, 0.0, 0.0, 0.0, 0.0, 0.0, 0.0, 0.0, 0.0, 0.0, 0.0, 0.0, 0.0, 0.0, 0.0, 0.0, 0.0, 0.0, 0.0, 0.0, 0.0, 0.0, 0.0, 0.0, 0.0, 0.0, 0.0, 0.0, 0.0, 0.0, 0.0, 0.0, 0.0, 0.0, 0.0, 0.0, 0.0, 0.0, 0.0, 0.0, 0.0, 0.0, 0.0, 0.0, 0.0, 0.04834945554667687], [0.31187412390504105, 0.0, 0.0, 0.0, 0.0, 0.0, 0.0, 0.0, 0.0, 0.0, 0.0, 0.0, 0.0, 0.0, 0.0, 0.0, 0.0, 0.0, 0.0, 0.0, 0.0, 0.0, 0.0, 0.0, 0.0, 0.0, 0.0, 0.0, 0.0, 0.0, 0.0, 0.0, 0.0, 0.0, 0.0, 0.0, 0.0, 0.0, 0.0, 0.0, 0.0, 0.0, 0.0, 0.0, 0.0, 0.045840017215690226], [0.31221850085974784, 0.0, 0.0, 0.0, 0.0, 0.0, 0.0, 0.0, 0.0, 0.0, 0.0, 0.0, 0.0, 0.0, 0.0, 0.0, 0.0, 0.0, 0.0, 0.0, 0.0, 0.0, 0.0, 0.0, 0.0, 0.0, 0.0, 0.0, 0.0, 0.0, 0.0, 0.0, 0.0, 0.0, 0.0, 0.0, 0.0, 0.0, 0.0, 0.0, 0.0, 0.0, 0.0, 0.0, 0.0, 0.04111557632336853], [0.31231110870672857, 0.0, 0.0, 0.0, 0.0, 0.0, 0.0, 0.0, 0.0, 0.0, 0.0, 0.0, 0.0, 0.0, 0.0, 0.0, 0.0, 0.0, 0.0, 0.0, 0.0, 0.0, 0.0, 0.0, 0.0, 0.0, 0.0, 0.0, 0.0, 0.0, 0.0, 0.0, 0.0, 0.0, 0.0, 0.0, 0.0, 0.0, 0.0, 0.0, 0.0, 0.0, 0.0, 0.0, 0.0, 0.03743265909688605], [0.31232419628634345, 0.0, 0.0, 0.0, 0.0, 0.0, 0.0, 0.0, 0.0, 0.0, 0.0, 0.0, 0.0, 0.0, 0.0, 0.0, 0.0, 0.0, 0.0, 0.0, 0.0, 0.0, 0.0, 0.0, 0.0, 0.0, 0.0, 0.0, 0.0, 0.0, 0.0, 0.0, 0.0, 0.0, 0.0, 0.0, 0.0, 0.0, 0.0, 0.0, 0.0, 0.0, 0.0, 0.0, 0.0, 0.03440998295442483], [0.312506072155552, 0.0, 0.0, 0.0, 0.0, 0.0, 0.0, 0.0, 0.0, 0.0, 0.0, 0.0, 0.0, 0.0, 0.0, 0.0, 0.0, 0.0, 0.0, 0.0, 0.0, 0.0, 0.0, 0.0, 0.0, 0.0, 0.0, 0.0, 0.0, 0.0, 0.0, 0.0, 0.0, 0.0, 0.0, 0.0, 0.0, 0.0, 0.0, 0.0, 0.0, 0.0, 0.0, 0.0, 0.0, 0.029090017252283957], [0.31298698486454485, 0.0, 0.0, 0.0, 0.0, 0.0, 0.0, 0.0, 0.0, 0.0, 0.0, 0.0, 0.0, 0.0, 0.0, 0.0, 0.0, 0.0, 0.0, 0.0, 0.0, 0.0, 0.0, 0.0, 0.0, 0.0, 0.0, 0.0, 0.0, 0.0, 0.0, 0.0, 0.0, 0.0, 0.0, 0.0, 0.0, 0.0, 0.0, 0.0, 0.0, 0.0, 0.0, 0.0, 0.0, 0.02405913600132903], [0.31363653742961795, 0.0, 0.0, 0.0, 0.0, 0.0, 0.0, 0.0, 0.0, 0.0, 0.0, 0.0, 0.0, 0.0, 0.0, 0.0, 0.0, 0.0, 0.0, 0.0, 0.0, 0.0, 0.0, 0.0, 0.0, 0.0, 0.0, 0.0, 0.0, 0.0, 0.0, 0.0, 0.0, 0.0, 0.0, 0.0, 0.0, 0.0, 0.0, 0.0, 0.0, 0.0, 0.0, 0.0, 0.0, 0.018980259261962437], [0.3138252190052423, 0.0, 0.0, 0.0, 0.0, 0.0, 0.0, 0.0, 0.0, 0.0, 0.0, 0.0, 0.0, 0.0, 0.0, 0.0, 0.0, 0.0, 0.0, 0.0, 0.0, 0.0, 0.0, 0.0, 0.0, 0.0, 0.0, 0.0, 0.0, 0.0, 0.0, 0.0, 0.0, 0.0, 0.0, 0.0, 0.0, 0.0, 0.0, 0.0, 0.0, 0.0, 0.0, 0.0, 0.0, 0.011602747723865757], [0.31438521441880324, 0.31406422955262103, 0.31283331854927443, 0.3175291510718025, 0.28409613623096525, 0.2690327834349047, 0.26412269610419986, 0.25852663581922386, 0.23369852952404735, 0.22483190439136666, 0.22359569784466257, 0.218766131547302, 0.2145680602696159, 0.20514464841682511, 0.18866022896074156, 0.1744221874425267, 0.16023229102045375, 0.14902322103822607, 0.1444122810539263, 0.136189729999656, 0.10960582361225804, 0.0968489242494319, 0.09445190455934604, 0.09141141992872164, 0.08769378599506808, 0.08568530822708209, 0.08320082762209188, 0.08100024576188469, 0.07356163282414753, 0.06729139481880383, 0.0631465530887091, 0.06038821960359743, 0.05709530558576611, 0.054751775450455065, 0.05259991356305397, 0.050041330310297144, 0.04834945554667687, 0.045840017215690226, 0.04111557632336853, 0.03743265909688605, 0.03440998295442483, 0.029090017252283957, 0.02405913600132903, 0.018980259261962437, 0.011602747723865757, 0.0]], \"n_frames\": 460000, \"convergence\": [0.0197814279878546, 0.0197814279878546, 0.0, 0.0, 0.0, 0.0, 0.0, 0.0, 0.0, 0.0, 0.0, 0.0, 0.0, 0.0, 0.0, 0.0, 0.0, 0.0, 0.0, 0.0, 0.0, 0.0, 0.0, 0.0, 0.0, 0.0, 0.0, 0.0, 0.0, 0.0, 0.0, 0.0, 0.0, 0.0, 0.0, 0.0, 0.0, 0.0, 0.0, 0.0, 0.0, 0.0, 0.0, 0.0, 0.011602747723865757, 0.011602747723865757], \"ordered_convergence\": [0.0197814279878546, 0.0197814279878546, 0.0, 0.0, 0.0, 0.0, 0.0, 0.0, 0.0, 0.0, 0.0, 0.0, 0.0, 0.0, 0.0, 0.0, 0.0, 0.0, 0.0, 0.0, 0.0, 0.0, 0.0, 0.0, 0.0, 0.0, 0.0, 0.0, 0.0, 0.0, 0.0, 0.0, 0.0, 0.0, 0.0, 0.0, 0.0, 0.0, 0.0, 0.0, 0.0, 0.0, 0.0, 0.0, 0.011602747723865757, 0.011602747723865757]}}, \"release\": {\"ti-block\": {\"fe\": -7.864211524232613, \"sem\": 0.1500910815172407, \"fe_matrix\": [[0.0, 0.16465180128009752, 0.28746667932670517, 0.5269085621131745, 0.7642112807738372, 1.1973259252131083, 1.5251342174425615, 2.132386714590075, 2.675928923434867, 3.5588238211213956, 4.2596215000794455, 5.277852592165047, 5.991718033661066, 7.07059134902414, 7.864211524232613], [-0.16465180128009752, 0.0, 0.0, 0.0, 0.0, 0.0, 0.0, 0.0, 0.0, 0.0, 0.0, 0.0, 0.0, 0.0, 7.698386169092806], [-0.28746667932670517, -0.0, 0.0, 0.0, 0.0, 0.0, 0.0, 0.0, 0.0, 0.0, 0.0, 0.0, 0.0, 0.0, 7.575451205831332], [-0.5269085621131745, -0.0, -0.0, 0.0, 0.0, 0.0, 0.0, 0.0, 0.0, 0.0, 0.0, 0.0, 0.0, 0.0, 7.335046813258646], [-0.7642112807738372, -0.0, -0.0, -0.0, 0.0, 0.0, 0.0, 0.0, 0.0, 0.0, 0.0, 0.0, 0.0, 0.0, 7.097528497459029], [-1.1973259252131083, -0.0, -0.0, -0.0, -0.0, 0.0, 0.0, 0.0, 0.0, 0.0, 0.0, 0.0, 0.0, 0.0, 6.663125250476099], [-1.5251342174425615, -0.0, -0.0, -0.0, -0.0, -0.0, 0.0, 0.0, 0.0, 0.0, 0.0, 0.0, 0.0, 0.0, 6.336015484336025], [-2.132386714590075, -0.0, -0.0, -0.0, -0.0, -0.0, -0.0, 0.0, 0.0, 0.0, 0.0, 0.0, 0.0, 0.0, 5.725990365987627], [-2.675928923434867, -0.0, -0.0, -0.0, -0.0, -0.0, -0.0, -0.0, 0.0, 0.0, 0.0, 0.0, 0.0, 0.0, 5.183233945442947], [-3.5588238211213956, -0.0, -0.0, -0.0, -0.0, -0.0, -0.0, -0.0, -0.0, 0.0, 0.0, 0.0, 0.0, 0.0, 4.297642135235782], [-4.2596215000794455, -0.0, -0.0, -0.0, -0.0, -0.0, -0.0, -0.0, -0.0, -0.0, 0.0, 0.0, 0.0, 0.0, 3.598255021446952], [-5.277852592165047, -0.0, -0.0, -0.0, -0.0, -0.0, -0.0, -0.0, -0.0, -0.0, -0.0, 0.0, 0.0, 0.0, 2.578203584094042], [-5.991718033661066, -0.0, -0.0, -0.0, -0.0, -0.0, -0.0, -0.0, -0.0, -0.0, -0.0, -0.0, 0.0, 0.0, 1.8661270495224522], [-7.07059134902414, -0.0, -0.0, -0.0, -0.0, -0.0, -0.0, -0.0, -0.0, -0.0, -0.0, -0.0, -0.0, 0.0, 0.7844681261441996], [-7.864211524232613, -7.698386169092806, -7.575451205831332, -7.335046813258646, -7.097528497459029, -6.663125250476099, -6.336015484336025, -5.725990365987627, -5.183233945442947, -4.297642135235782, -3.598255021446952, -2.578203584094042, -1.8661270495224522, -0.7844681261441996, 0.0]], \"sem_matrix\": [[0.0, 0.0101592200410708, 0.016666926584439513, 0.03160373504357102, 0.04306514027517899, 0.05847842670120915, 0.06812109582893704, 0.07254780083245904, 0.08123605689107184, 0.10828741313597326, 0.1265682834927284, 0.1494068470309311, 0.148642900648001, 0.1502231509735565, 0.1500910815172407], [0.0101592200410708, 0.0, 0.0, 0.0, 0.0, 0.0, 0.0, 0.0, 0.0, 0.0, 0.0, 0.0, 0.0, 0.0, 0.1498615585346874], [0.016666926584439513, 0.0, 0.0, 0.0, 0.0, 0.0, 0.0, 0.0, 0.0, 0.0, 0.0, 0.0, 0.0, 0.0, 0.1487563832806984], [0.03160373504357102, 0.0, 0.0, 0.0, 0.0, 0.0, 0.0, 0.0, 0.0, 0.0, 0.0, 0.0, 0.0, 0.0, 0.14561543497337273], [0.04306514027517899, 0.0, 0.0, 0.0, 0.0, 0.0, 0.0, 0.0, 0.0, 0.0, 0.0, 0.0, 0.0, 0.0, 0.1420038546655691], [0.05847842670120915, 0.0, 0.0, 0.0, 0.0, 0.0, 0.0, 0.0, 0.0, 0.0, 0.0, 0.0, 0.0, 0.0, 0.1351613953772008], [0.06812109582893704, 0.0, 0.0, 0.0, 0.0, 0.0, 0.0, 0.0, 0.0, 0.0, 0.0, 0.0, 0.0, 0.0, 0.13344688596049192], [0.07254780083245904, 0.0, 0.0, 0.0, 0.0, 0.0, 0.0, 0.0, 0.0, 0.0, 0.0, 0.0, 0.0, 0.0, 0.13029060211694324], [0.08123605689107184, 0.0, 0.0, 0.0, 0.0, 0.0, 0.0, 0.0, 0.0, 0.0, 0.0, 0.0, 0.0, 0.0, 0.12052614058114941], [0.10828741313597326, 0.0, 0.0, 0.0, 0.0, 0.0, 0.0, 0.0, 0.0, 0.0, 0.0, 0.0, 0.0, 0.0, 0.09803041082316667], [0.1265682834927284, 0.0, 0.0, 0.0, 0.0, 0.0, 0.0, 0.0, 0.0, 0.0, 0.0, 0.0, 0.0, 0.0, 0.06722026749400938], [0.1494068470309311, 0.0, 0.0, 0.0, 0.0, 0.0, 0.0, 0.0, 0.0, 0.0, 0.0, 0.0, 0.0, 0.0, 0.03133804146401187], [0.148642900648001, 0.0, 0.0, 0.0, 0.0, 0.0, 0.0, 0.0, 0.0, 0.0, 0.0, 0.0, 0.0, 0.0, 0.024483916635492375], [0.1502231509735565, 0.0, 0.0, 0.0, 0.0, 0.0, 0.0, 0.0, 0.0, 0.0, 0.0, 0.0, 0.0, 0.0, 0.011701964432556548], [0.1500910815172407, 0.1498615585346874, 0.1487563832806984, 0.14561543497337273, 0.1420038546655691, 0.1351613953772008, 0.13344688596049192, 0.13029060211694324, 0.12052614058114941, 0.09803041082316667, 0.06722026749400938, 0.03133804146401187, 0.024483916635492375, 0.011701964432556548, 0.0]], \"n_frames\": 150000, \"convergence\": [0.011701964432556548, 0.011701964432556548, 0.0, 0.0, 0.0, 0.0, 0.0, 0.0, 0.0, 0.0, 0.0, 0.0, 0.0, 0.0101592200410708, 0.0101592200410708], \"ordered_convergence\": [0.0101592200410708, 0.0101592200410708, 0.0, 0.0, 0.0, 0.0, 0.0, 0.0, 0.0, 0.0, 0.0, 0.0, 0.0, 0.011701964432556548, 0.011701964432556548]}}, \"ref_state_work\": -7.141514582862005}'"
      ]
     },
     "execution_count": 32,
     "metadata": {},
     "output_type": "execute_result"
    }
   ],
   "source": [
    "json.dumps(analyze.results, cls=MyEncoder)"
   ]
  },
  {
   "cell_type": "code",
   "execution_count": 33,
   "metadata": {
    "ExecuteTime": {
     "end_time": "2018-06-04T18:10:42.001664Z",
     "start_time": "2018-06-04T18:10:41.913463Z"
    }
   },
   "outputs": [],
   "source": [
    "with open('tmp.json', 'w') as file:\n",
    "    json.dump(analyze.results, cls=MyEncoder, fp=file)"
   ]
  },
  {
   "cell_type": "code",
   "execution_count": 34,
   "metadata": {
    "ExecuteTime": {
     "end_time": "2018-06-04T18:15:53.964459Z",
     "start_time": "2018-06-04T18:15:53.932592Z"
    }
   },
   "outputs": [],
   "source": [
    "from paprika.analysis import save"
   ]
  },
  {
   "cell_type": "code",
   "execution_count": 40,
   "metadata": {
    "ExecuteTime": {
     "end_time": "2018-06-05T16:23:43.226254Z",
     "start_time": "2018-06-05T16:23:43.115724Z"
    }
   },
   "outputs": [],
   "source": [
    "save(analyze, 'smirnoff-results.json')"
   ]
  },
  {
   "cell_type": "code",
   "execution_count": null,
   "metadata": {},
   "outputs": [],
   "source": []
  }
 ],
 "metadata": {
  "kernelspec": {
   "display_name": "Python [conda env:smirnoff-paprika]",
   "language": "python",
   "name": "conda-env-smirnoff-paprika-py"
  },
  "language_info": {
   "codemirror_mode": {
    "name": "ipython",
    "version": 3
   },
   "file_extension": ".py",
   "mimetype": "text/x-python",
   "name": "python",
   "nbconvert_exporter": "python",
   "pygments_lexer": "ipython3",
   "version": "3.6.5"
  }
 },
 "nbformat": 4,
 "nbformat_minor": 2
}
