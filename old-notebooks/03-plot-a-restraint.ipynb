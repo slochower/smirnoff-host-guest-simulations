{
 "cells": [
  {
   "cell_type": "code",
   "execution_count": 4,
   "metadata": {
    "ExecuteTime": {
     "end_time": "2018-03-28T22:45:17.550481Z",
     "start_time": "2018-03-28T22:45:17.546486Z"
    }
   },
   "outputs": [],
   "source": [
    "from plot import *"
   ]
  },
  {
   "cell_type": "code",
   "execution_count": 6,
   "metadata": {
    "ExecuteTime": {
     "end_time": "2018-03-28T22:45:23.812471Z",
     "start_time": "2018-03-28T22:45:23.801073Z"
    }
   },
   "outputs": [],
   "source": [
    "def restraint_function(x, r1, r2, r3, r4, rk2, rk3):\n",
    "    if x < r1:\n",
    "        # Slope at x = r1 \n",
    "        return 2 * rk2 * (r1 - r2) * x + (rk2 * (r1 - r2)**2)\n",
    "    if r1 <= x < r2:\n",
    "        return rk2 * (x - r2)**2\n",
    "    if r2 <= x < r3:\n",
    "        return 0\n",
    "    if r3 <= x < r4:\n",
    "        return rk3 * (x - r3)**2\n",
    "    if x >= r4:\n",
    "        return 2 * rk3 * (r4 - r3) * x + (rk3 * (r4 - r3)**2)"
   ]
  },
  {
   "cell_type": "code",
   "execution_count": 7,
   "metadata": {
    "ExecuteTime": {
     "end_time": "2018-03-28T22:45:35.114265Z",
     "start_time": "2018-03-28T22:45:35.081549Z"
    }
   },
   "outputs": [],
   "source": [
    "def plot_restraint(restraint, phase, window):\n",
    "    \n",
    "    # -[ ] Get from dictionary\n",
    "    # -[ ] Check if angle or torsion and adjust range\n",
    "    \n",
    "    # line = amber_restraint_line(restraint, phase, window).split()\n",
    "    # print(line)\n",
    "    \n",
    "    r1 = restraint.amber_restraint_values['r1']\n",
    "    r2 = restraint.amber_restraint_values['r2']\n",
    "    r3 = restraint.amber_restraint_values['r3']\n",
    "    r4 = restraint.amber_restraint_values['r4']\n",
    "    rk2 = restraint.amber_restraint_values['rk2']\n",
    "    rk3 = restraint.amber_restraint_values['rk3']\n",
    "    print(r1, r2, r3, r4, rk2, rk3)\n",
    "    if r2 == r3:\n",
    "        parabola = True\n",
    "        fig, ax = setup_plot('', '')\n",
    "        \n",
    "        x = range(0, 20)\n",
    "        y = [function(i, r1, r2, r3, r4, rk2, rk3) for i in x]\n",
    "        ax.plot(x, y, ls='-')\n",
    "        ax.scatter(r2, rk2, color='r', lw=0.2, edgecolor='k', s=80, zorder=10)\n",
    "        ax.scatter(r3, rk3, color='r', lw=0.2, edgecolor='k', s=80)\n",
    "        bbox_props = dict(boxstyle=\"square,pad=0.1\", \n",
    "                          fc=\"white\", \n",
    "                          ec='k', lw=0.5, alpha=0.5)\n",
    "        ax.annotate('r2 = {0:1.2f}'.format(r2), xy=(r2, 1), xycoords='data', \n",
    "                    xytext=(0, 25), \n",
    "                    textcoords='offset points', bbox=bbox_props)\n",
    "        \n",
    "        paper_plot(fig)"
   ]
  },
  {
   "cell_type": "code",
   "execution_count": null,
   "metadata": {},
   "outputs": [],
   "source": []
  }
 ],
 "metadata": {
  "kernelspec": {
   "display_name": "Python [conda env:smirnoff-paprika]",
   "language": "python",
   "name": "conda-env-smirnoff-paprika-py"
  },
  "language_info": {
   "codemirror_mode": {
    "name": "ipython",
    "version": 3
   },
   "file_extension": ".py",
   "mimetype": "text/x-python",
   "name": "python",
   "nbconvert_exporter": "python",
   "pygments_lexer": "ipython3",
   "version": "3.6.4"
  }
 },
 "nbformat": 4,
 "nbformat_minor": 2
}
