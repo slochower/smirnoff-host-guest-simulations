{
 "cells": [
  {
   "cell_type": "code",
   "execution_count": 2,
   "metadata": {
    "ExecuteTime": {
     "end_time": "2018-09-21T16:40:08.923408Z",
     "start_time": "2018-09-21T16:40:08.397170Z"
    }
   },
   "outputs": [
    {
     "name": "stdout",
     "output_type": "stream",
     "text": [
      "The autoreload extension is already loaded. To reload it, use:\n",
      "  %reload_ext autoreload\n"
     ]
    }
   ],
   "source": [
    "import pandas as pd\n",
    "import scipy as sc\n",
    "import glob\n",
    "import os\n",
    "import numpy as np\n",
    "\n",
    "import parmed as pmd\n",
    "\n",
    "%load_ext autoreload\n",
    "%autoreload 2\n",
    "%matplotlib inline"
   ]
  },
  {
   "cell_type": "code",
   "execution_count": 10,
   "metadata": {
    "ExecuteTime": {
     "end_time": "2018-09-21T16:46:14.099236Z",
     "start_time": "2018-09-21T16:46:13.970072Z"
    }
   },
   "outputs": [],
   "source": [
    "alpha_smirnoff = pmd.load_file(\"../smirnoff-host-guest-simulations/systems/a-bam-p/smirnoff/a000/hg.prmtop\",\n",
    "                               \"../smirnoff-host-guest-simulations/systems/a-bam-p/smirnoff/a000/hg.inpcrd\")"
   ]
  },
  {
   "cell_type": "code",
   "execution_count": 11,
   "metadata": {
    "ExecuteTime": {
     "end_time": "2018-09-21T16:46:16.314286Z",
     "start_time": "2018-09-21T16:46:16.271755Z"
    }
   },
   "outputs": [],
   "source": [
    "alpha_smirnoff.strip(\":BAM\")"
   ]
  },
  {
   "cell_type": "code",
   "execution_count": 12,
   "metadata": {
    "ExecuteTime": {
     "end_time": "2018-09-21T17:04:56.306389Z",
     "start_time": "2018-09-21T17:04:56.194722Z"
    }
   },
   "outputs": [],
   "source": [
    "alpha_smirnoff.write_parm(\"geometry/alpha_smirnoff.prmtop\")\n",
    "alpha_smirnoff.write_rst7(\"geometry/alpha_smirnoff.rst7\")"
   ]
  },
  {
   "cell_type": "code",
   "execution_count": 13,
   "metadata": {
    "ExecuteTime": {
     "end_time": "2018-09-21T17:05:19.209920Z",
     "start_time": "2018-09-21T17:05:18.771923Z"
    }
   },
   "outputs": [],
   "source": [
    "beta_smirnoff = pmd.load_file(\"../smirnoff-host-guest-simulations/systems/b-mch-p/smirnoff/a000/hg.prmtop\",\n",
    "                               \"../smirnoff-host-guest-simulations/systems/b-mch-p/smirnoff/a000/hg.inpcrd\")"
   ]
  },
  {
   "cell_type": "code",
   "execution_count": 14,
   "metadata": {
    "ExecuteTime": {
     "end_time": "2018-09-21T17:05:25.340055Z",
     "start_time": "2018-09-21T17:05:25.295881Z"
    }
   },
   "outputs": [],
   "source": [
    "beta_smirnoff.strip(\":MCH\")"
   ]
  },
  {
   "cell_type": "code",
   "execution_count": 15,
   "metadata": {
    "ExecuteTime": {
     "end_time": "2018-09-21T17:05:40.200443Z",
     "start_time": "2018-09-21T17:05:40.054399Z"
    }
   },
   "outputs": [],
   "source": [
    "beta_smirnoff.write_parm(\"geometry/beta_smirnoff.prmtop\")\n",
    "beta_smirnoff.write_rst7(\"geometry/beta_smirnoff.rst7\")"
   ]
  },
  {
   "cell_type": "code",
   "execution_count": 21,
   "metadata": {
    "ExecuteTime": {
     "end_time": "2018-09-21T17:14:26.015336Z",
     "start_time": "2018-09-21T17:14:25.916573Z"
    }
   },
   "outputs": [],
   "source": [
    "alpha_gaff = pmd.load_file(\"/home/dslochower/niel/projects/cds/wat6/bgbg-tip3p/a-bam-p/a00/vac.topo\",\n",
    "                           \"/home/dslochower/niel/projects/cds/wat6/bgbg-tip3p/a-bam-p/a00/vac.crds\")"
   ]
  },
  {
   "cell_type": "code",
   "execution_count": 22,
   "metadata": {
    "ExecuteTime": {
     "end_time": "2018-09-21T17:14:34.053877Z",
     "start_time": "2018-09-21T17:14:33.988000Z"
    }
   },
   "outputs": [],
   "source": [
    " alpha_gaff.strip(\":BAM\")"
   ]
  },
  {
   "cell_type": "code",
   "execution_count": 26,
   "metadata": {
    "ExecuteTime": {
     "end_time": "2018-09-21T17:14:49.822956Z",
     "start_time": "2018-09-21T17:14:49.762996Z"
    }
   },
   "outputs": [],
   "source": [
    "alpha_gaff.strip(\"@Pb\")"
   ]
  },
  {
   "cell_type": "code",
   "execution_count": 28,
   "metadata": {
    "ExecuteTime": {
     "end_time": "2018-09-21T17:15:10.945318Z",
     "start_time": "2018-09-21T17:15:10.870203Z"
    }
   },
   "outputs": [],
   "source": [
    "alpha_gaff.write_parm(\"geometry/alpha_gaff.prmtop\")\n",
    "alpha_gaff.write_rst7(\"geometry/alpha_gaff.rst7\")"
   ]
  },
  {
   "cell_type": "code",
   "execution_count": 29,
   "metadata": {
    "ExecuteTime": {
     "end_time": "2018-09-21T17:15:27.931381Z",
     "start_time": "2018-09-21T17:15:27.812896Z"
    }
   },
   "outputs": [],
   "source": [
    "beta_gaff = pmd.load_file(\"/home/dslochower/niel/projects/cds/wat6/bgbg-tip3p/b-mch-p/a00/vac.topo\",\n",
    "                           \"/home/dslochower/niel/projects/cds/wat6/bgbg-tip3p/b-mch-p/a00/vac.crds\")"
   ]
  },
  {
   "cell_type": "code",
   "execution_count": 30,
   "metadata": {
    "ExecuteTime": {
     "end_time": "2018-09-21T17:15:39.283100Z",
     "start_time": "2018-09-21T17:15:39.159245Z"
    }
   },
   "outputs": [],
   "source": [
    "beta_gaff.strip(\":MCH\")\n",
    "beta_gaff.strip(\"@Pb\")"
   ]
  },
  {
   "cell_type": "code",
   "execution_count": 31,
   "metadata": {
    "ExecuteTime": {
     "end_time": "2018-09-21T17:15:57.770933Z",
     "start_time": "2018-09-21T17:15:57.639673Z"
    }
   },
   "outputs": [],
   "source": [
    "beta_gaff.write_parm(\"geometry/beta_gaff.prmtop\")\n",
    "beta_gaff.write_rst7(\"geometry/beta_gaff.rst7\")"
   ]
  },
  {
   "cell_type": "code",
   "execution_count": null,
   "metadata": {},
   "outputs": [],
   "source": []
  }
 ],
 "metadata": {
  "kernelspec": {
   "display_name": "Python [conda env:smirnoff-host-guest]",
   "language": "python",
   "name": "conda-env-smirnoff-host-guest-py"
  },
  "language_info": {
   "codemirror_mode": {
    "name": "ipython",
    "version": 3
   },
   "file_extension": ".py",
   "mimetype": "text/x-python",
   "name": "python",
   "nbconvert_exporter": "python",
   "pygments_lexer": "ipython3",
   "version": "3.6.6"
  }
 },
 "nbformat": 4,
 "nbformat_minor": 2
}
