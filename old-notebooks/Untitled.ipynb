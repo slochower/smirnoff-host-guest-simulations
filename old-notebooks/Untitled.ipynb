{
 "cells": [
  {
   "cell_type": "code",
   "execution_count": 1,
   "metadata": {
    "ExecuteTime": {
     "end_time": "2018-04-02T22:04:32.933348Z",
     "start_time": "2018-04-02T22:04:32.637848Z"
    }
   },
   "outputs": [
    {
     "name": "stdout",
     "output_type": "stream",
     "text": [
      "2018-04-02_12:12:10_-0700-8c07372-0.0.3\n"
     ]
    }
   ],
   "source": [
    "import parmed as pmd\n",
    "\n",
    "import paprika\n",
    "print(paprika.__version__)\n",
    "\n",
    "from paprika.restraints import static_DAT_restraint\n",
    "from paprika.restraints import DAT_restraint\n",
    "from paprika.restraints import amber_restraint_line\n",
    "from paprika.restraints import create_window_list\n",
    "\n",
    "from paprika.utils import make_window_dirs"
   ]
  },
  {
   "cell_type": "code",
   "execution_count": 2,
   "metadata": {
    "ExecuteTime": {
     "end_time": "2018-04-02T22:04:33.504959Z",
     "start_time": "2018-04-02T22:04:33.501212Z"
    }
   },
   "outputs": [],
   "source": [
    "import logging as log\n",
    "logger = log.getLogger()\n",
    "logger.setLevel(log.DEBUG)\n",
    "log.basicConfig(format='%(asctime)s %(message)s', datefmt='%Y-%m-%d %I:%M:%S %p')"
   ]
  },
  {
   "cell_type": "code",
   "execution_count": 3,
   "metadata": {
    "ExecuteTime": {
     "end_time": "2018-04-02T22:04:34.032989Z",
     "start_time": "2018-04-02T22:04:34.029863Z"
    }
   },
   "outputs": [],
   "source": [
    "dummy_anchors = [':1', ':2', ':3']\n",
    "host_anchors  = [':4@O3', ':6@C1', ':8@C6']\n",
    "guest_anchors = [':10@C4', ':10@N1']"
   ]
  },
  {
   "cell_type": "code",
   "execution_count": 4,
   "metadata": {
    "ExecuteTime": {
     "end_time": "2018-04-02T22:04:34.641726Z",
     "start_time": "2018-04-02T22:04:34.349043Z"
    }
   },
   "outputs": [],
   "source": [
    "hg = pmd.load_file('systems/a-bam-p/a00/original/full.hmr.topo',\n",
    "                   'systems/a-bam-p/a00/original/full.crds',\n",
    "                    structure=True)"
   ]
  },
  {
   "cell_type": "code",
   "execution_count": 5,
   "metadata": {
    "ExecuteTime": {
     "end_time": "2018-04-02T22:04:34.654670Z",
     "start_time": "2018-04-02T22:04:34.643870Z"
    }
   },
   "outputs": [],
   "source": [
    "static_restraint_atoms = [[dummy_anchors[0], host_anchors[0]],\n",
    "                          [dummy_anchors[1], dummy_anchors[0], host_anchors[0]],\n",
    "                          [dummy_anchors[2], dummy_anchors[1], dummy_anchors[0], host_anchors[0]],\n",
    "                          [dummy_anchors[0], host_anchors[0], host_anchors[1]],\n",
    "                          [dummy_anchors[1], dummy_anchors[0], host_anchors[0], host_anchors[1]],\n",
    "                          [dummy_anchors[0], host_anchors[0], host_anchors[1], host_anchors[2]],\n",
    "                        ]\n",
    "\n",
    "static_restraint_distance_fc = 5.0\n",
    "static_restraint_angle_fc = 100.0"
   ]
  },
  {
   "cell_type": "code",
   "execution_count": 6,
   "metadata": {
    "ExecuteTime": {
     "end_time": "2018-04-02T22:04:34.997592Z",
     "start_time": "2018-04-02T22:04:34.990919Z"
    }
   },
   "outputs": [
    {
     "name": "stdout",
     "output_type": "stream",
     "text": [
      "There are [15, 46, 0] windows in this attach-pull calculation.\n"
     ]
    }
   ],
   "source": [
    "attach_string = '0.00 0.40 0.80 1.60 2.40 4.00 5.50 8.65 11.80 18.10 24.40 37.00 49.60 74.80 100.00'\n",
    "attach_fractions = [float(i) / 100 for i in attach_string.split()]\n",
    "\n",
    "pull_string = '0.00 0.40 0.80 1.20 1.60 2.00 2.40 2.80 3.20 3.60 4.00 4.40 4.80 5.20 5.60 6.00 6.40 6.80 7.20 7.60 8.00 8.40 8.80 9.20 9.60 10.00 10.40 10.80 11.20 11.60 12.00 12.40 12.80 13.20 13.60 14.00 14.40 14.80 15.20 15.60 16.00 16.40 16.80 17.20 17.60 18.00'\n",
    "pull_distances = [float(i) + 6.00 for i in pull_string.split()]\n",
    "\n",
    "windows = [len(attach_fractions), len(pull_distances), 0]\n",
    "print(f'There are {windows} windows in this attach-pull calculation.')"
   ]
  },
  {
   "cell_type": "code",
   "execution_count": 7,
   "metadata": {
    "ExecuteTime": {
     "end_time": "2018-04-02T22:04:37.565148Z",
     "start_time": "2018-04-02T22:04:35.327348Z"
    },
    "scrolled": true
   },
   "outputs": [
    {
     "name": "stderr",
     "output_type": "stream",
     "text": [
      "DEBUG:root:Calculating attach targets and force constants...\n",
      "DEBUG:root:Attach, Method #1\n",
      "DEBUG:root:Calculating pull targets and force constants...\n",
      "DEBUG:root:Pull, Method #1\n",
      "DEBUG:root:Calculating release targets and force constants...\n",
      "DEBUG:root:No restraint info set for the release phase! Skipping...\n",
      "DEBUG:root:Number of attach windows = 15\n",
      "DEBUG:root:Number of pull windows = 46\n",
      "DEBUG:root:This restraint will be skipped in the release phase\n",
      "DEBUG:root:Assigning atom indices...\n",
      "DEBUG:root:There are 1 atoms in the mask :1  ...\n",
      "DEBUG:root:There are 1 atoms in the mask :4@O3  ...\n",
      "DEBUG:root:Calculating attach targets and force constants...\n",
      "DEBUG:root:Attach, Method #1\n",
      "DEBUG:root:Calculating pull targets and force constants...\n",
      "DEBUG:root:Pull, Method #1\n",
      "DEBUG:root:Calculating release targets and force constants...\n",
      "DEBUG:root:No restraint info set for the release phase! Skipping...\n",
      "DEBUG:root:Number of attach windows = 15\n",
      "DEBUG:root:Number of pull windows = 46\n",
      "DEBUG:root:This restraint will be skipped in the release phase\n",
      "DEBUG:root:Assigning atom indices...\n",
      "DEBUG:root:There are 1 atoms in the mask :2  ...\n",
      "DEBUG:root:There are 1 atoms in the mask :1  ...\n",
      "DEBUG:root:There are 1 atoms in the mask :4@O3  ...\n",
      "DEBUG:root:Calculating attach targets and force constants...\n",
      "DEBUG:root:Attach, Method #1\n",
      "DEBUG:root:Calculating pull targets and force constants...\n",
      "DEBUG:root:Pull, Method #1\n",
      "DEBUG:root:Calculating release targets and force constants...\n",
      "DEBUG:root:No restraint info set for the release phase! Skipping...\n",
      "DEBUG:root:Number of attach windows = 15\n",
      "DEBUG:root:Number of pull windows = 46\n",
      "DEBUG:root:This restraint will be skipped in the release phase\n",
      "DEBUG:root:Assigning atom indices...\n",
      "DEBUG:root:There are 1 atoms in the mask :3  ...\n",
      "DEBUG:root:There are 1 atoms in the mask :2  ...\n",
      "DEBUG:root:There are 1 atoms in the mask :1  ...\n",
      "DEBUG:root:There are 1 atoms in the mask :4@O3  ...\n",
      "DEBUG:root:Calculating attach targets and force constants...\n",
      "DEBUG:root:Attach, Method #1\n",
      "DEBUG:root:Calculating pull targets and force constants...\n",
      "DEBUG:root:Pull, Method #1\n",
      "DEBUG:root:Calculating release targets and force constants...\n",
      "DEBUG:root:No restraint info set for the release phase! Skipping...\n",
      "DEBUG:root:Number of attach windows = 15\n",
      "DEBUG:root:Number of pull windows = 46\n",
      "DEBUG:root:This restraint will be skipped in the release phase\n",
      "DEBUG:root:Assigning atom indices...\n",
      "DEBUG:root:There are 1 atoms in the mask :1  ...\n",
      "DEBUG:root:There are 1 atoms in the mask :4@O3  ...\n",
      "DEBUG:root:There are 1 atoms in the mask :6@C1  ...\n",
      "DEBUG:root:Calculating attach targets and force constants...\n",
      "DEBUG:root:Attach, Method #1\n",
      "DEBUG:root:Calculating pull targets and force constants...\n",
      "DEBUG:root:Pull, Method #1\n",
      "DEBUG:root:Calculating release targets and force constants...\n",
      "DEBUG:root:No restraint info set for the release phase! Skipping...\n",
      "DEBUG:root:Number of attach windows = 15\n",
      "DEBUG:root:Number of pull windows = 46\n",
      "DEBUG:root:This restraint will be skipped in the release phase\n",
      "DEBUG:root:Assigning atom indices...\n",
      "DEBUG:root:There are 1 atoms in the mask :2  ...\n",
      "DEBUG:root:There are 1 atoms in the mask :1  ...\n",
      "DEBUG:root:There are 1 atoms in the mask :4@O3  ...\n",
      "DEBUG:root:There are 1 atoms in the mask :6@C1  ...\n",
      "DEBUG:root:Calculating attach targets and force constants...\n",
      "DEBUG:root:Attach, Method #1\n",
      "DEBUG:root:Calculating pull targets and force constants...\n",
      "DEBUG:root:Pull, Method #1\n",
      "DEBUG:root:Calculating release targets and force constants...\n",
      "DEBUG:root:No restraint info set for the release phase! Skipping...\n",
      "DEBUG:root:Number of attach windows = 15\n",
      "DEBUG:root:Number of pull windows = 46\n",
      "DEBUG:root:This restraint will be skipped in the release phase\n",
      "DEBUG:root:Assigning atom indices...\n",
      "DEBUG:root:There are 1 atoms in the mask :1  ...\n",
      "DEBUG:root:There are 1 atoms in the mask :4@O3  ...\n",
      "DEBUG:root:There are 1 atoms in the mask :6@C1  ...\n",
      "DEBUG:root:There are 1 atoms in the mask :8@C6  ...\n"
     ]
    }
   ],
   "source": [
    "for index, atoms in enumerate(static_restraint_atoms):    \n",
    "    static_DAT_restraint(restraint_mask_list=atoms,\n",
    "                        num_window_list=windows, \n",
    "                        ref_structure=hg,\n",
    "                        force_constant=static_restraint_angle_fc if len(atoms) > 2 else static_restraint_distance_fc,\n",
    "                        amber_index=True)"
   ]
  },
  {
   "cell_type": "code",
   "execution_count": null,
   "metadata": {},
   "outputs": [],
   "source": []
  }
 ],
 "metadata": {
  "kernelspec": {
   "display_name": "Python [conda env:smirnoff-paprika]",
   "language": "python",
   "name": "conda-env-smirnoff-paprika-py"
  },
  "language_info": {
   "codemirror_mode": {
    "name": "ipython",
    "version": 3
   },
   "file_extension": ".py",
   "mimetype": "text/x-python",
   "name": "python",
   "nbconvert_exporter": "python",
   "pygments_lexer": "ipython3",
   "version": "3.6.4"
  }
 },
 "nbformat": 4,
 "nbformat_minor": 2
}
