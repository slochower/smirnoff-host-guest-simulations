{
 "cells": [
  {
   "cell_type": "code",
   "execution_count": 22,
   "metadata": {
    "ExecuteTime": {
     "end_time": "2018-05-31T02:06:11.495221Z",
     "start_time": "2018-05-31T02:06:11.457437Z"
    }
   },
   "outputs": [
    {
     "name": "stdout",
     "output_type": "stream",
     "text": [
      "The autoreload extension is already loaded. To reload it, use:\n",
      "  %reload_ext autoreload\n"
     ]
    }
   ],
   "source": [
    "%load_ext autoreload\n",
    "%autoreload 2\n",
    "\n",
    "import os as os\n",
    "import numpy as np\n",
    "\n",
    "import parmed as pmd\n",
    "import pytraj as pt"
   ]
  },
  {
   "cell_type": "code",
   "execution_count": 23,
   "metadata": {
    "ExecuteTime": {
     "end_time": "2018-05-31T02:06:11.693438Z",
     "start_time": "2018-05-31T02:06:11.668950Z"
    }
   },
   "outputs": [
    {
     "name": "stderr",
     "output_type": "stream",
     "text": [
      "2018-05-30 07:06:11 PM Started logging...\n"
     ]
    },
    {
     "name": "stdout",
     "output_type": "stream",
     "text": [
      "0.0.3-with-release-tweaks\n"
     ]
    }
   ],
   "source": [
    "import logging\n",
    "import datetime as dt\n",
    "d_date = dt.datetime.now()\n",
    "logging.basicConfig(format='%(asctime)s %(message)s', datefmt='%Y-%m-%d %I:%M:%S %p',\n",
    "                    level=logging.DEBUG)\n",
    "logging.info('Started logging...')\n",
    "\n",
    "import paprika\n",
    "print(paprika.__version__)\n",
    "\n",
    "from paprika.restraints import static_DAT_restraint\n",
    "from paprika.restraints import DAT_restraint\n",
    "from paprika.restraints import amber_restraint_line\n",
    "from paprika.restraints import create_window_list\n",
    "\n",
    "from paprika.utils import make_window_dirs\n",
    "\n",
    "from paprika.analysis import fe_calc"
   ]
  },
  {
   "cell_type": "code",
   "execution_count": 24,
   "metadata": {
    "ExecuteTime": {
     "end_time": "2018-05-31T02:06:12.963046Z",
     "start_time": "2018-05-31T02:06:12.591527Z"
    }
   },
   "outputs": [],
   "source": [
    "structure = pmd.load_file('systems/a-bam-p/confirm-original/p045/full.hmr.topo',\n",
    "                          'systems/a-bam-p/confirm-original/p045/full.crds', \n",
    "                          structure=True)"
   ]
  },
  {
   "cell_type": "code",
   "execution_count": 25,
   "metadata": {
    "ExecuteTime": {
     "end_time": "2018-05-31T02:06:13.569643Z",
     "start_time": "2018-05-31T02:06:13.538329Z"
    }
   },
   "outputs": [
    {
     "data": {
      "text/plain": [
       "<AmberParm 6159 atoms; 2023 residues; 6148 bonds; PBC (orthogonal); parametrized>"
      ]
     },
     "execution_count": 25,
     "metadata": {},
     "output_type": "execute_result"
    }
   ],
   "source": [
    "structure"
   ]
  },
  {
   "cell_type": "code",
   "execution_count": 26,
   "metadata": {
    "ExecuteTime": {
     "end_time": "2018-05-31T02:06:14.575523Z",
     "start_time": "2018-05-31T02:06:14.226003Z"
    }
   },
   "outputs": [],
   "source": [
    "structure.strip(':BAM')"
   ]
  },
  {
   "cell_type": "code",
   "execution_count": 27,
   "metadata": {
    "ExecuteTime": {
     "end_time": "2018-05-31T02:06:16.038106Z",
     "start_time": "2018-05-31T02:06:15.587787Z"
    }
   },
   "outputs": [
    {
     "ename": "OSError",
     "evalue": "systems/a-bam-p/confirm-original/full.hmr.noligand.prmtop exists; not overwriting",
     "output_type": "error",
     "traceback": [
      "\u001b[0;31m---------------------------------------------------------------------------\u001b[0m",
      "\u001b[0;31mOSError\u001b[0m                                   Traceback (most recent call last)",
      "\u001b[0;32m<ipython-input-27-509dc7b9333b>\u001b[0m in \u001b[0;36m<module>\u001b[0;34m()\u001b[0m\n\u001b[0;32m----> 1\u001b[0;31m \u001b[0mstructure\u001b[0m\u001b[0;34m.\u001b[0m\u001b[0msave\u001b[0m\u001b[0;34m(\u001b[0m\u001b[0;34m'systems/a-bam-p/confirm-original/full.hmr.noligand.prmtop'\u001b[0m\u001b[0;34m)\u001b[0m\u001b[0;34m\u001b[0m\u001b[0m\n\u001b[0m",
      "\u001b[0;32m~/data/applications/anaconda3/envs/smirnoff-paprika/lib/python3.6/site-packages/parmed/structure.py\u001b[0m in \u001b[0;36msave\u001b[0;34m(self, fname, format, overwrite, **kwargs)\u001b[0m\n\u001b[1;32m   1476\u001b[0m         \u001b[0;32mif\u001b[0m \u001b[0;32mnot\u001b[0m \u001b[0mhasattr\u001b[0m\u001b[0;34m(\u001b[0m\u001b[0mfname\u001b[0m\u001b[0;34m,\u001b[0m \u001b[0;34m'write'\u001b[0m\u001b[0;34m)\u001b[0m\u001b[0;34m:\u001b[0m\u001b[0;34m\u001b[0m\u001b[0m\n\u001b[1;32m   1477\u001b[0m             \u001b[0;32mif\u001b[0m \u001b[0mos\u001b[0m\u001b[0;34m.\u001b[0m\u001b[0mpath\u001b[0m\u001b[0;34m.\u001b[0m\u001b[0mexists\u001b[0m\u001b[0;34m(\u001b[0m\u001b[0mfname\u001b[0m\u001b[0;34m)\u001b[0m \u001b[0;32mand\u001b[0m \u001b[0;32mnot\u001b[0m \u001b[0moverwrite\u001b[0m\u001b[0;34m:\u001b[0m\u001b[0;34m\u001b[0m\u001b[0m\n\u001b[0;32m-> 1478\u001b[0;31m                 \u001b[0;32mraise\u001b[0m \u001b[0mIOError\u001b[0m\u001b[0;34m(\u001b[0m\u001b[0;34m'%s exists; not overwriting'\u001b[0m \u001b[0;34m%\u001b[0m \u001b[0mfname\u001b[0m\u001b[0;34m)\u001b[0m\u001b[0;34m\u001b[0m\u001b[0m\n\u001b[0m\u001b[1;32m   1479\u001b[0m         \u001b[0;32melse\u001b[0m\u001b[0;34m:\u001b[0m\u001b[0;34m\u001b[0m\u001b[0m\n\u001b[1;32m   1480\u001b[0m             \u001b[0;32mif\u001b[0m \u001b[0mformat\u001b[0m \u001b[0;32mis\u001b[0m \u001b[0;32mNone\u001b[0m\u001b[0;34m:\u001b[0m\u001b[0;34m\u001b[0m\u001b[0m\n",
      "\u001b[0;31mOSError\u001b[0m: systems/a-bam-p/confirm-original/full.hmr.noligand.prmtop exists; not overwriting"
     ]
    },
    {
     "name": "stdout",
     "output_type": "stream",
     "text": [
      "> \u001b[0;32m/home/dslochower/data/applications/anaconda3/envs/smirnoff-paprika/lib/python3.6/site-packages/parmed/structure.py\u001b[0m(1478)\u001b[0;36msave\u001b[0;34m()\u001b[0m\n",
      "\u001b[0;32m   1476 \u001b[0;31m        \u001b[0;32mif\u001b[0m \u001b[0;32mnot\u001b[0m \u001b[0mhasattr\u001b[0m\u001b[0;34m(\u001b[0m\u001b[0mfname\u001b[0m\u001b[0;34m,\u001b[0m \u001b[0;34m'write'\u001b[0m\u001b[0;34m)\u001b[0m\u001b[0;34m:\u001b[0m\u001b[0;34m\u001b[0m\u001b[0m\n",
      "\u001b[0m\u001b[0;32m   1477 \u001b[0;31m            \u001b[0;32mif\u001b[0m \u001b[0mos\u001b[0m\u001b[0;34m.\u001b[0m\u001b[0mpath\u001b[0m\u001b[0;34m.\u001b[0m\u001b[0mexists\u001b[0m\u001b[0;34m(\u001b[0m\u001b[0mfname\u001b[0m\u001b[0;34m)\u001b[0m \u001b[0;32mand\u001b[0m \u001b[0;32mnot\u001b[0m \u001b[0moverwrite\u001b[0m\u001b[0;34m:\u001b[0m\u001b[0;34m\u001b[0m\u001b[0m\n",
      "\u001b[0m\u001b[0;32m-> 1478 \u001b[0;31m                \u001b[0;32mraise\u001b[0m \u001b[0mIOError\u001b[0m\u001b[0;34m(\u001b[0m\u001b[0;34m'%s exists; not overwriting'\u001b[0m \u001b[0;34m%\u001b[0m \u001b[0mfname\u001b[0m\u001b[0;34m)\u001b[0m\u001b[0;34m\u001b[0m\u001b[0m\n",
      "\u001b[0m\u001b[0;32m   1479 \u001b[0;31m        \u001b[0;32melse\u001b[0m\u001b[0;34m:\u001b[0m\u001b[0;34m\u001b[0m\u001b[0m\n",
      "\u001b[0m\u001b[0;32m   1480 \u001b[0;31m            \u001b[0;32mif\u001b[0m \u001b[0mformat\u001b[0m \u001b[0;32mis\u001b[0m \u001b[0;32mNone\u001b[0m\u001b[0;34m:\u001b[0m\u001b[0;34m\u001b[0m\u001b[0m\n",
      "\u001b[0m\n",
      "ipdb> \n"
     ]
    }
   ],
   "source": [
    "structure.save('systems/a-bam-p/confirm-original/full.hmr.noligand.prmtop')"
   ]
  },
  {
   "cell_type": "code",
   "execution_count": 28,
   "metadata": {
    "ExecuteTime": {
     "end_time": "2018-05-31T02:06:18.665889Z",
     "start_time": "2018-05-31T02:06:16.951160Z"
    }
   },
   "outputs": [
    {
     "ename": "OSError",
     "evalue": "systems/a-bam-p/confirm-original/full.hmr.noligand.inpcrd exists; not overwriting",
     "output_type": "error",
     "traceback": [
      "\u001b[0;31m---------------------------------------------------------------------------\u001b[0m",
      "\u001b[0;31mOSError\u001b[0m                                   Traceback (most recent call last)",
      "\u001b[0;32m<ipython-input-28-8389866d658e>\u001b[0m in \u001b[0;36m<module>\u001b[0;34m()\u001b[0m\n\u001b[0;32m----> 1\u001b[0;31m \u001b[0mstructure\u001b[0m\u001b[0;34m.\u001b[0m\u001b[0msave\u001b[0m\u001b[0;34m(\u001b[0m\u001b[0;34m'systems/a-bam-p/confirm-original/full.hmr.noligand.inpcrd'\u001b[0m\u001b[0;34m)\u001b[0m\u001b[0;34m\u001b[0m\u001b[0m\n\u001b[0m",
      "\u001b[0;32m~/data/applications/anaconda3/envs/smirnoff-paprika/lib/python3.6/site-packages/parmed/structure.py\u001b[0m in \u001b[0;36msave\u001b[0;34m(self, fname, format, overwrite, **kwargs)\u001b[0m\n\u001b[1;32m   1476\u001b[0m         \u001b[0;32mif\u001b[0m \u001b[0;32mnot\u001b[0m \u001b[0mhasattr\u001b[0m\u001b[0;34m(\u001b[0m\u001b[0mfname\u001b[0m\u001b[0;34m,\u001b[0m \u001b[0;34m'write'\u001b[0m\u001b[0;34m)\u001b[0m\u001b[0;34m:\u001b[0m\u001b[0;34m\u001b[0m\u001b[0m\n\u001b[1;32m   1477\u001b[0m             \u001b[0;32mif\u001b[0m \u001b[0mos\u001b[0m\u001b[0;34m.\u001b[0m\u001b[0mpath\u001b[0m\u001b[0;34m.\u001b[0m\u001b[0mexists\u001b[0m\u001b[0;34m(\u001b[0m\u001b[0mfname\u001b[0m\u001b[0;34m)\u001b[0m \u001b[0;32mand\u001b[0m \u001b[0;32mnot\u001b[0m \u001b[0moverwrite\u001b[0m\u001b[0;34m:\u001b[0m\u001b[0;34m\u001b[0m\u001b[0m\n\u001b[0;32m-> 1478\u001b[0;31m                 \u001b[0;32mraise\u001b[0m \u001b[0mIOError\u001b[0m\u001b[0;34m(\u001b[0m\u001b[0;34m'%s exists; not overwriting'\u001b[0m \u001b[0;34m%\u001b[0m \u001b[0mfname\u001b[0m\u001b[0;34m)\u001b[0m\u001b[0;34m\u001b[0m\u001b[0m\n\u001b[0m\u001b[1;32m   1479\u001b[0m         \u001b[0;32melse\u001b[0m\u001b[0;34m:\u001b[0m\u001b[0;34m\u001b[0m\u001b[0m\n\u001b[1;32m   1480\u001b[0m             \u001b[0;32mif\u001b[0m \u001b[0mformat\u001b[0m \u001b[0;32mis\u001b[0m \u001b[0;32mNone\u001b[0m\u001b[0;34m:\u001b[0m\u001b[0;34m\u001b[0m\u001b[0m\n",
      "\u001b[0;31mOSError\u001b[0m: systems/a-bam-p/confirm-original/full.hmr.noligand.inpcrd exists; not overwriting"
     ]
    },
    {
     "name": "stdout",
     "output_type": "stream",
     "text": [
      "> \u001b[0;32m/home/dslochower/data/applications/anaconda3/envs/smirnoff-paprika/lib/python3.6/site-packages/parmed/structure.py\u001b[0m(1478)\u001b[0;36msave\u001b[0;34m()\u001b[0m\n",
      "\u001b[0;32m   1476 \u001b[0;31m        \u001b[0;32mif\u001b[0m \u001b[0;32mnot\u001b[0m \u001b[0mhasattr\u001b[0m\u001b[0;34m(\u001b[0m\u001b[0mfname\u001b[0m\u001b[0;34m,\u001b[0m \u001b[0;34m'write'\u001b[0m\u001b[0;34m)\u001b[0m\u001b[0;34m:\u001b[0m\u001b[0;34m\u001b[0m\u001b[0m\n",
      "\u001b[0m\u001b[0;32m   1477 \u001b[0;31m            \u001b[0;32mif\u001b[0m \u001b[0mos\u001b[0m\u001b[0;34m.\u001b[0m\u001b[0mpath\u001b[0m\u001b[0;34m.\u001b[0m\u001b[0mexists\u001b[0m\u001b[0;34m(\u001b[0m\u001b[0mfname\u001b[0m\u001b[0;34m)\u001b[0m \u001b[0;32mand\u001b[0m \u001b[0;32mnot\u001b[0m \u001b[0moverwrite\u001b[0m\u001b[0;34m:\u001b[0m\u001b[0;34m\u001b[0m\u001b[0m\n",
      "\u001b[0m\u001b[0;32m-> 1478 \u001b[0;31m                \u001b[0;32mraise\u001b[0m \u001b[0mIOError\u001b[0m\u001b[0;34m(\u001b[0m\u001b[0;34m'%s exists; not overwriting'\u001b[0m \u001b[0;34m%\u001b[0m \u001b[0mfname\u001b[0m\u001b[0;34m)\u001b[0m\u001b[0;34m\u001b[0m\u001b[0m\n",
      "\u001b[0m\u001b[0;32m   1479 \u001b[0;31m        \u001b[0;32melse\u001b[0m\u001b[0;34m:\u001b[0m\u001b[0;34m\u001b[0m\u001b[0m\n",
      "\u001b[0m\u001b[0;32m   1480 \u001b[0;31m            \u001b[0;32mif\u001b[0m \u001b[0mformat\u001b[0m \u001b[0;32mis\u001b[0m \u001b[0;32mNone\u001b[0m\u001b[0;34m:\u001b[0m\u001b[0;34m\u001b[0m\u001b[0m\n",
      "\u001b[0m\n",
      "ipdb> \n"
     ]
    }
   ],
   "source": [
    "structure.save('systems/a-bam-p/confirm-original/full.hmr.noligand.inpcrd')"
   ]
  },
  {
   "cell_type": "markdown",
   "metadata": {},
   "source": [
    "# Setup `attach`"
   ]
  },
  {
   "cell_type": "code",
   "execution_count": 29,
   "metadata": {
    "ExecuteTime": {
     "end_time": "2018-05-31T02:06:21.665744Z",
     "start_time": "2018-05-31T02:06:21.224429Z"
    }
   },
   "outputs": [],
   "source": [
    "hg = pmd.load_file('systems/a-bam-p/confirm-original/full.hmr.noligand.prmtop',\n",
    "                   'systems/a-bam-p/confirm-original/full.hmr.noligand.inpcrd',\n",
    "                    structure=True)\n",
    "\n",
    "dummy_anchors = [':1', ':2', ':3']\n",
    "host_anchors  = [':4@O3', ':6@C1', ':8@C6']"
   ]
  },
  {
   "cell_type": "code",
   "execution_count": 30,
   "metadata": {
    "ExecuteTime": {
     "end_time": "2018-05-31T02:06:21.689436Z",
     "start_time": "2018-05-31T02:06:21.668202Z"
    }
   },
   "outputs": [
    {
     "name": "stdout",
     "output_type": "stream",
     "text": [
      "There are [15, 0, 0] windows in this attach-pull-release calculation.\n"
     ]
    }
   ],
   "source": [
    "attach_string = '0.00 0.40 0.80 1.60 2.40 4.00 5.50 8.65 11.80 18.10 24.40 37.00 49.60 74.80 100.00'\n",
    "attach_fractions = [float(i) / 100 for i in attach_string.split()]\n",
    "\n",
    "windows = [len(attach_fractions), 0, 0]\n",
    "print(f'There are {windows} windows in this attach-pull-release calculation.')"
   ]
  },
  {
   "cell_type": "code",
   "execution_count": 31,
   "metadata": {
    "ExecuteTime": {
     "end_time": "2018-05-31T02:06:24.534578Z",
     "start_time": "2018-05-31T02:06:24.499211Z"
    }
   },
   "outputs": [],
   "source": [
    "static_restraint_atoms = [[dummy_anchors[0], host_anchors[0]],\n",
    "                          [dummy_anchors[1], dummy_anchors[0], host_anchors[0]],\n",
    "                          [dummy_anchors[2], dummy_anchors[1], dummy_anchors[0], host_anchors[0]],\n",
    "                          [dummy_anchors[0], host_anchors[0], host_anchors[1]],\n",
    "                          [dummy_anchors[1], dummy_anchors[0], host_anchors[0], host_anchors[1]],\n",
    "                          [dummy_anchors[0], host_anchors[0], host_anchors[1], host_anchors[2]],\n",
    "                        ]\n",
    "\n",
    "static_restraint_distance_fc = 5.0\n",
    "static_restraint_angle_fc = 100.0"
   ]
  },
  {
   "cell_type": "code",
   "execution_count": 32,
   "metadata": {
    "ExecuteTime": {
     "end_time": "2018-05-31T02:06:27.661646Z",
     "start_time": "2018-05-31T02:06:27.427556Z"
    }
   },
   "outputs": [],
   "source": [
    "host_conformational_template = [['O5', 'C1', 'O1', 'C4'],\n",
    "                                ['C1', 'O1', 'C4', 'C5']\n",
    "                               ]\n",
    "\n",
    "host_residues = len(hg[':MGO'].residues)\n",
    "first_host_residue = hg[':MGO'].residues[0].number + 1\n",
    "conformational_restraint_atoms = []\n",
    "conformational_restraint_targets = []\n",
    "conformational_restraint_fc = 6.0\n",
    "\n",
    "for n in range(first_host_residue, host_residues + first_host_residue):\n",
    "    if n + 1 < host_residues + first_host_residue:\n",
    "        next_residue = n + 1\n",
    "    else:\n",
    "        next_residue = first_host_residue\n",
    "    conformational_restraint_atoms.append(\n",
    "        [f':{n}@{host_conformational_template[0][0]}',\n",
    "         f':{n}@{host_conformational_template[0][1]}',\n",
    "         f':{n}@{host_conformational_template[0][2]}',\n",
    "         f':{next_residue}@{host_conformational_template[0][3]}'\n",
    "        ])\n",
    "    conformational_restraint_targets.append(104.30)\n",
    "    conformational_restraint_atoms.append(\n",
    "        [f':{n}@{host_conformational_template[1][0]}',\n",
    "         f':{n}@{host_conformational_template[1][1]}',\n",
    "         f':{next_residue}@{host_conformational_template[1][2]}',\n",
    "         f':{next_residue}@{host_conformational_template[1][3]}'\n",
    "        ])\n",
    "    conformational_restraint_targets.append(-108.8)"
   ]
  },
  {
   "cell_type": "code",
   "execution_count": 33,
   "metadata": {
    "ExecuteTime": {
     "end_time": "2018-05-31T02:06:41.355964Z",
     "start_time": "2018-05-31T02:06:39.076880Z"
    },
    "scrolled": true
   },
   "outputs": [
    {
     "name": "stderr",
     "output_type": "stream",
     "text": [
      "2018-05-30 07:06:39 PM Calculating attach targets and force constants...\n",
      "2018-05-30 07:06:39 PM Attach, Method #1\n",
      "2018-05-30 07:06:39 PM Calculating pull targets and force constants...\n",
      "2018-05-30 07:06:39 PM No restraint info set for the pull phase! Skipping...\n",
      "2018-05-30 07:06:39 PM Calculating release targets and force constants...\n",
      "2018-05-30 07:06:39 PM No restraint info set for the release phase! Skipping...\n",
      "2018-05-30 07:06:39 PM Number of attach windows = 15\n",
      "2018-05-30 07:06:39 PM This restraint will be skipped in the pull phase\n",
      "2018-05-30 07:06:39 PM This restraint will be skipped in the release phase\n",
      "2018-05-30 07:06:39 PM Assigning atom indices...\n",
      "2018-05-30 07:06:39 PM There are 1 atoms in the mask :1  ...\n",
      "2018-05-30 07:06:39 PM There are 1 atoms in the mask :4@O3  ...\n",
      "2018-05-30 07:06:39 PM Calculating attach targets and force constants...\n",
      "2018-05-30 07:06:39 PM Attach, Method #1\n",
      "2018-05-30 07:06:39 PM Calculating pull targets and force constants...\n",
      "2018-05-30 07:06:39 PM No restraint info set for the pull phase! Skipping...\n",
      "2018-05-30 07:06:39 PM Calculating release targets and force constants...\n",
      "2018-05-30 07:06:39 PM No restraint info set for the release phase! Skipping...\n",
      "2018-05-30 07:06:39 PM Number of attach windows = 15\n",
      "2018-05-30 07:06:39 PM This restraint will be skipped in the pull phase\n",
      "2018-05-30 07:06:39 PM This restraint will be skipped in the release phase\n",
      "2018-05-30 07:06:39 PM Assigning atom indices...\n",
      "2018-05-30 07:06:39 PM There are 1 atoms in the mask :2  ...\n",
      "2018-05-30 07:06:39 PM There are 1 atoms in the mask :1  ...\n",
      "2018-05-30 07:06:39 PM There are 1 atoms in the mask :4@O3  ...\n",
      "2018-05-30 07:06:40 PM Calculating attach targets and force constants...\n",
      "2018-05-30 07:06:40 PM Attach, Method #1\n",
      "2018-05-30 07:06:40 PM Calculating pull targets and force constants...\n",
      "2018-05-30 07:06:40 PM No restraint info set for the pull phase! Skipping...\n",
      "2018-05-30 07:06:40 PM Calculating release targets and force constants...\n",
      "2018-05-30 07:06:40 PM No restraint info set for the release phase! Skipping...\n",
      "2018-05-30 07:06:40 PM Number of attach windows = 15\n",
      "2018-05-30 07:06:40 PM This restraint will be skipped in the pull phase\n",
      "2018-05-30 07:06:40 PM This restraint will be skipped in the release phase\n",
      "2018-05-30 07:06:40 PM Assigning atom indices...\n",
      "2018-05-30 07:06:40 PM There are 1 atoms in the mask :3  ...\n",
      "2018-05-30 07:06:40 PM There are 1 atoms in the mask :2  ...\n",
      "2018-05-30 07:06:40 PM There are 1 atoms in the mask :1  ...\n",
      "2018-05-30 07:06:40 PM There are 1 atoms in the mask :4@O3  ...\n",
      "2018-05-30 07:06:40 PM Calculating attach targets and force constants...\n",
      "2018-05-30 07:06:40 PM Attach, Method #1\n",
      "2018-05-30 07:06:40 PM Calculating pull targets and force constants...\n",
      "2018-05-30 07:06:40 PM No restraint info set for the pull phase! Skipping...\n",
      "2018-05-30 07:06:40 PM Calculating release targets and force constants...\n",
      "2018-05-30 07:06:40 PM No restraint info set for the release phase! Skipping...\n",
      "2018-05-30 07:06:40 PM Number of attach windows = 15\n",
      "2018-05-30 07:06:40 PM This restraint will be skipped in the pull phase\n",
      "2018-05-30 07:06:40 PM This restraint will be skipped in the release phase\n",
      "2018-05-30 07:06:40 PM Assigning atom indices...\n",
      "2018-05-30 07:06:40 PM There are 1 atoms in the mask :1  ...\n",
      "2018-05-30 07:06:40 PM There are 1 atoms in the mask :4@O3  ...\n",
      "2018-05-30 07:06:40 PM There are 1 atoms in the mask :6@C1  ...\n",
      "2018-05-30 07:06:40 PM Calculating attach targets and force constants...\n",
      "2018-05-30 07:06:40 PM Attach, Method #1\n",
      "2018-05-30 07:06:40 PM Calculating pull targets and force constants...\n",
      "2018-05-30 07:06:40 PM No restraint info set for the pull phase! Skipping...\n",
      "2018-05-30 07:06:40 PM Calculating release targets and force constants...\n",
      "2018-05-30 07:06:40 PM No restraint info set for the release phase! Skipping...\n",
      "2018-05-30 07:06:40 PM Number of attach windows = 15\n",
      "2018-05-30 07:06:40 PM This restraint will be skipped in the pull phase\n",
      "2018-05-30 07:06:40 PM This restraint will be skipped in the release phase\n",
      "2018-05-30 07:06:40 PM Assigning atom indices...\n",
      "2018-05-30 07:06:40 PM There are 1 atoms in the mask :2  ...\n",
      "2018-05-30 07:06:40 PM There are 1 atoms in the mask :1  ...\n",
      "2018-05-30 07:06:40 PM There are 1 atoms in the mask :4@O3  ...\n",
      "2018-05-30 07:06:40 PM There are 1 atoms in the mask :6@C1  ...\n",
      "2018-05-30 07:06:41 PM Calculating attach targets and force constants...\n",
      "2018-05-30 07:06:41 PM Attach, Method #1\n",
      "2018-05-30 07:06:41 PM Calculating pull targets and force constants...\n",
      "2018-05-30 07:06:41 PM No restraint info set for the pull phase! Skipping...\n",
      "2018-05-30 07:06:41 PM Calculating release targets and force constants...\n",
      "2018-05-30 07:06:41 PM No restraint info set for the release phase! Skipping...\n",
      "2018-05-30 07:06:41 PM Number of attach windows = 15\n",
      "2018-05-30 07:06:41 PM This restraint will be skipped in the pull phase\n",
      "2018-05-30 07:06:41 PM This restraint will be skipped in the release phase\n",
      "2018-05-30 07:06:41 PM Assigning atom indices...\n",
      "2018-05-30 07:06:41 PM There are 1 atoms in the mask :1  ...\n",
      "2018-05-30 07:06:41 PM There are 1 atoms in the mask :4@O3  ...\n",
      "2018-05-30 07:06:41 PM There are 1 atoms in the mask :6@C1  ...\n",
      "2018-05-30 07:06:41 PM There are 1 atoms in the mask :8@C6  ...\n"
     ]
    }
   ],
   "source": [
    "static_restraints = []\n",
    "for index, atoms in enumerate(static_restraint_atoms):    \n",
    "    this = static_DAT_restraint(restraint_mask_list=atoms,\n",
    "                        num_window_list=windows, \n",
    "                        ref_structure=hg,\n",
    "                        force_constant=static_restraint_angle_fc if len(atoms) > 2 else static_restraint_distance_fc,\n",
    "                        amber_index=True,\n",
    "                        continuous_apr=False)\n",
    "    static_restraints.append(this)"
   ]
  },
  {
   "cell_type": "code",
   "execution_count": 38,
   "metadata": {
    "ExecuteTime": {
     "end_time": "2018-05-31T02:13:32.956483Z",
     "start_time": "2018-05-31T02:13:31.032656Z"
    }
   },
   "outputs": [
    {
     "name": "stderr",
     "output_type": "stream",
     "text": [
      "2018-05-30 07:13:31 PM Calculating attach targets and force constants...\n",
      "2018-05-30 07:13:31 PM Attach, Method #3\n",
      "2018-05-30 07:13:31 PM Calculating pull targets and force constants...\n",
      "2018-05-30 07:13:31 PM No restraint info set for the pull phase! Skipping...\n",
      "2018-05-30 07:13:31 PM Calculating release targets and force constants...\n",
      "2018-05-30 07:13:31 PM No restraint info set for the release phase! Skipping...\n",
      "2018-05-30 07:13:31 PM Number of attach windows = 15\n",
      "2018-05-30 07:13:31 PM This restraint will be skipped in the pull phase\n",
      "2018-05-30 07:13:31 PM This restraint will be skipped in the release phase\n",
      "2018-05-30 07:13:31 PM Assigning atom indices...\n",
      "2018-05-30 07:13:31 PM There are 1 atoms in the mask :4@O5  ...\n",
      "2018-05-30 07:13:31 PM There are 1 atoms in the mask :4@C1  ...\n",
      "2018-05-30 07:13:31 PM There are 1 atoms in the mask :4@O1  ...\n",
      "2018-05-30 07:13:31 PM There are 1 atoms in the mask :5@C4  ...\n",
      "2018-05-30 07:13:31 PM Calculating attach targets and force constants...\n",
      "2018-05-30 07:13:31 PM Attach, Method #3\n",
      "2018-05-30 07:13:31 PM Calculating pull targets and force constants...\n",
      "2018-05-30 07:13:31 PM No restraint info set for the pull phase! Skipping...\n",
      "2018-05-30 07:13:31 PM Calculating release targets and force constants...\n",
      "2018-05-30 07:13:31 PM No restraint info set for the release phase! Skipping...\n",
      "2018-05-30 07:13:31 PM Number of attach windows = 15\n",
      "2018-05-30 07:13:31 PM This restraint will be skipped in the pull phase\n",
      "2018-05-30 07:13:31 PM This restraint will be skipped in the release phase\n",
      "2018-05-30 07:13:31 PM Assigning atom indices...\n",
      "2018-05-30 07:13:31 PM There are 1 atoms in the mask :4@C1  ...\n",
      "2018-05-30 07:13:31 PM There are 1 atoms in the mask :4@O1  ...\n",
      "2018-05-30 07:13:31 PM There are 1 atoms in the mask :5@C4  ...\n",
      "2018-05-30 07:13:31 PM There are 1 atoms in the mask :5@C5  ...\n",
      "2018-05-30 07:13:31 PM Calculating attach targets and force constants...\n",
      "2018-05-30 07:13:31 PM Attach, Method #3\n",
      "2018-05-30 07:13:31 PM Calculating pull targets and force constants...\n",
      "2018-05-30 07:13:31 PM No restraint info set for the pull phase! Skipping...\n",
      "2018-05-30 07:13:31 PM Calculating release targets and force constants...\n",
      "2018-05-30 07:13:31 PM No restraint info set for the release phase! Skipping...\n",
      "2018-05-30 07:13:31 PM Number of attach windows = 15\n",
      "2018-05-30 07:13:31 PM This restraint will be skipped in the pull phase\n",
      "2018-05-30 07:13:31 PM This restraint will be skipped in the release phase\n",
      "2018-05-30 07:13:31 PM Assigning atom indices...\n",
      "2018-05-30 07:13:31 PM There are 1 atoms in the mask :5@O5  ...\n",
      "2018-05-30 07:13:31 PM There are 1 atoms in the mask :5@C1  ...\n",
      "2018-05-30 07:13:31 PM There are 1 atoms in the mask :5@O1  ...\n",
      "2018-05-30 07:13:31 PM There are 1 atoms in the mask :6@C4  ...\n",
      "2018-05-30 07:13:31 PM Calculating attach targets and force constants...\n",
      "2018-05-30 07:13:31 PM Attach, Method #3\n",
      "2018-05-30 07:13:31 PM Calculating pull targets and force constants...\n",
      "2018-05-30 07:13:31 PM No restraint info set for the pull phase! Skipping...\n",
      "2018-05-30 07:13:31 PM Calculating release targets and force constants...\n",
      "2018-05-30 07:13:31 PM No restraint info set for the release phase! Skipping...\n",
      "2018-05-30 07:13:31 PM Number of attach windows = 15\n",
      "2018-05-30 07:13:31 PM This restraint will be skipped in the pull phase\n",
      "2018-05-30 07:13:31 PM This restraint will be skipped in the release phase\n",
      "2018-05-30 07:13:31 PM Assigning atom indices...\n",
      "2018-05-30 07:13:31 PM There are 1 atoms in the mask :5@C1  ...\n",
      "2018-05-30 07:13:31 PM There are 1 atoms in the mask :5@O1  ...\n",
      "2018-05-30 07:13:31 PM There are 1 atoms in the mask :6@C4  ...\n",
      "2018-05-30 07:13:31 PM There are 1 atoms in the mask :6@C5  ...\n",
      "2018-05-30 07:13:31 PM Calculating attach targets and force constants...\n",
      "2018-05-30 07:13:31 PM Attach, Method #3\n",
      "2018-05-30 07:13:31 PM Calculating pull targets and force constants...\n",
      "2018-05-30 07:13:31 PM No restraint info set for the pull phase! Skipping...\n",
      "2018-05-30 07:13:31 PM Calculating release targets and force constants...\n",
      "2018-05-30 07:13:31 PM No restraint info set for the release phase! Skipping...\n",
      "2018-05-30 07:13:31 PM Number of attach windows = 15\n",
      "2018-05-30 07:13:31 PM This restraint will be skipped in the pull phase\n",
      "2018-05-30 07:13:31 PM This restraint will be skipped in the release phase\n",
      "2018-05-30 07:13:31 PM Assigning atom indices...\n",
      "2018-05-30 07:13:31 PM There are 1 atoms in the mask :6@O5  ...\n",
      "2018-05-30 07:13:31 PM There are 1 atoms in the mask :6@C1  ...\n",
      "2018-05-30 07:13:31 PM There are 1 atoms in the mask :6@O1  ...\n",
      "2018-05-30 07:13:31 PM There are 1 atoms in the mask :7@C4  ...\n",
      "2018-05-30 07:13:31 PM Calculating attach targets and force constants...\n",
      "2018-05-30 07:13:31 PM Attach, Method #3\n",
      "2018-05-30 07:13:31 PM Calculating pull targets and force constants...\n",
      "2018-05-30 07:13:31 PM No restraint info set for the pull phase! Skipping...\n",
      "2018-05-30 07:13:31 PM Calculating release targets and force constants...\n",
      "2018-05-30 07:13:31 PM No restraint info set for the release phase! Skipping...\n",
      "2018-05-30 07:13:31 PM Number of attach windows = 15\n",
      "2018-05-30 07:13:31 PM This restraint will be skipped in the pull phase\n",
      "2018-05-30 07:13:31 PM This restraint will be skipped in the release phase\n",
      "2018-05-30 07:13:31 PM Assigning atom indices...\n",
      "2018-05-30 07:13:31 PM There are 1 atoms in the mask :6@C1  ...\n",
      "2018-05-30 07:13:32 PM There are 1 atoms in the mask :6@O1  ...\n",
      "2018-05-30 07:13:32 PM There are 1 atoms in the mask :7@C4  ...\n",
      "2018-05-30 07:13:32 PM There are 1 atoms in the mask :7@C5  ...\n",
      "2018-05-30 07:13:32 PM Calculating attach targets and force constants...\n",
      "2018-05-30 07:13:32 PM Attach, Method #3\n",
      "2018-05-30 07:13:32 PM Calculating pull targets and force constants...\n",
      "2018-05-30 07:13:32 PM No restraint info set for the pull phase! Skipping...\n",
      "2018-05-30 07:13:32 PM Calculating release targets and force constants...\n",
      "2018-05-30 07:13:32 PM No restraint info set for the release phase! Skipping...\n",
      "2018-05-30 07:13:32 PM Number of attach windows = 15\n",
      "2018-05-30 07:13:32 PM This restraint will be skipped in the pull phase\n",
      "2018-05-30 07:13:32 PM This restraint will be skipped in the release phase\n",
      "2018-05-30 07:13:32 PM Assigning atom indices...\n",
      "2018-05-30 07:13:32 PM There are 1 atoms in the mask :7@O5  ...\n",
      "2018-05-30 07:13:32 PM There are 1 atoms in the mask :7@C1  ...\n",
      "2018-05-30 07:13:32 PM There are 1 atoms in the mask :7@O1  ...\n",
      "2018-05-30 07:13:32 PM There are 1 atoms in the mask :8@C4  ...\n",
      "2018-05-30 07:13:32 PM Calculating attach targets and force constants...\n",
      "2018-05-30 07:13:32 PM Attach, Method #3\n",
      "2018-05-30 07:13:32 PM Calculating pull targets and force constants...\n",
      "2018-05-30 07:13:32 PM No restraint info set for the pull phase! Skipping...\n",
      "2018-05-30 07:13:32 PM Calculating release targets and force constants...\n",
      "2018-05-30 07:13:32 PM No restraint info set for the release phase! Skipping...\n",
      "2018-05-30 07:13:32 PM Number of attach windows = 15\n",
      "2018-05-30 07:13:32 PM This restraint will be skipped in the pull phase\n",
      "2018-05-30 07:13:32 PM This restraint will be skipped in the release phase\n",
      "2018-05-30 07:13:32 PM Assigning atom indices...\n",
      "2018-05-30 07:13:32 PM There are 1 atoms in the mask :7@C1  ...\n",
      "2018-05-30 07:13:32 PM There are 1 atoms in the mask :7@O1  ...\n",
      "2018-05-30 07:13:32 PM There are 1 atoms in the mask :8@C4  ...\n",
      "2018-05-30 07:13:32 PM There are 1 atoms in the mask :8@C5  ...\n",
      "2018-05-30 07:13:32 PM Calculating attach targets and force constants...\n",
      "2018-05-30 07:13:32 PM Attach, Method #3\n",
      "2018-05-30 07:13:32 PM Calculating pull targets and force constants...\n",
      "2018-05-30 07:13:32 PM No restraint info set for the pull phase! Skipping...\n",
      "2018-05-30 07:13:32 PM Calculating release targets and force constants...\n",
      "2018-05-30 07:13:32 PM No restraint info set for the release phase! Skipping...\n",
      "2018-05-30 07:13:32 PM Number of attach windows = 15\n",
      "2018-05-30 07:13:32 PM This restraint will be skipped in the pull phase\n",
      "2018-05-30 07:13:32 PM This restraint will be skipped in the release phase\n",
      "2018-05-30 07:13:32 PM Assigning atom indices...\n",
      "2018-05-30 07:13:32 PM There are 1 atoms in the mask :8@O5  ...\n",
      "2018-05-30 07:13:32 PM There are 1 atoms in the mask :8@C1  ...\n",
      "2018-05-30 07:13:32 PM There are 1 atoms in the mask :8@O1  ...\n"
     ]
    },
    {
     "name": "stderr",
     "output_type": "stream",
     "text": [
      "2018-05-30 07:13:32 PM There are 1 atoms in the mask :9@C4  ...\n",
      "2018-05-30 07:13:32 PM Calculating attach targets and force constants...\n",
      "2018-05-30 07:13:32 PM Attach, Method #3\n",
      "2018-05-30 07:13:32 PM Calculating pull targets and force constants...\n",
      "2018-05-30 07:13:32 PM No restraint info set for the pull phase! Skipping...\n",
      "2018-05-30 07:13:32 PM Calculating release targets and force constants...\n",
      "2018-05-30 07:13:32 PM No restraint info set for the release phase! Skipping...\n",
      "2018-05-30 07:13:32 PM Number of attach windows = 15\n",
      "2018-05-30 07:13:32 PM This restraint will be skipped in the pull phase\n",
      "2018-05-30 07:13:32 PM This restraint will be skipped in the release phase\n",
      "2018-05-30 07:13:32 PM Assigning atom indices...\n",
      "2018-05-30 07:13:32 PM There are 1 atoms in the mask :8@C1  ...\n",
      "2018-05-30 07:13:32 PM There are 1 atoms in the mask :8@O1  ...\n",
      "2018-05-30 07:13:32 PM There are 1 atoms in the mask :9@C4  ...\n",
      "2018-05-30 07:13:32 PM There are 1 atoms in the mask :9@C5  ...\n",
      "2018-05-30 07:13:32 PM Calculating attach targets and force constants...\n",
      "2018-05-30 07:13:32 PM Attach, Method #3\n",
      "2018-05-30 07:13:32 PM Calculating pull targets and force constants...\n",
      "2018-05-30 07:13:32 PM No restraint info set for the pull phase! Skipping...\n",
      "2018-05-30 07:13:32 PM Calculating release targets and force constants...\n",
      "2018-05-30 07:13:32 PM No restraint info set for the release phase! Skipping...\n",
      "2018-05-30 07:13:32 PM Number of attach windows = 15\n",
      "2018-05-30 07:13:32 PM This restraint will be skipped in the pull phase\n",
      "2018-05-30 07:13:32 PM This restraint will be skipped in the release phase\n",
      "2018-05-30 07:13:32 PM Assigning atom indices...\n",
      "2018-05-30 07:13:32 PM There are 1 atoms in the mask :9@O5  ...\n",
      "2018-05-30 07:13:32 PM There are 1 atoms in the mask :9@C1  ...\n",
      "2018-05-30 07:13:32 PM There are 1 atoms in the mask :9@O1  ...\n",
      "2018-05-30 07:13:32 PM There are 1 atoms in the mask :4@C4  ...\n",
      "2018-05-30 07:13:32 PM Calculating attach targets and force constants...\n",
      "2018-05-30 07:13:32 PM Attach, Method #3\n",
      "2018-05-30 07:13:32 PM Calculating pull targets and force constants...\n",
      "2018-05-30 07:13:32 PM No restraint info set for the pull phase! Skipping...\n",
      "2018-05-30 07:13:32 PM Calculating release targets and force constants...\n",
      "2018-05-30 07:13:32 PM No restraint info set for the release phase! Skipping...\n",
      "2018-05-30 07:13:32 PM Number of attach windows = 15\n",
      "2018-05-30 07:13:32 PM This restraint will be skipped in the pull phase\n",
      "2018-05-30 07:13:32 PM This restraint will be skipped in the release phase\n",
      "2018-05-30 07:13:32 PM Assigning atom indices...\n",
      "2018-05-30 07:13:32 PM There are 1 atoms in the mask :9@C1  ...\n",
      "2018-05-30 07:13:32 PM There are 1 atoms in the mask :9@O1  ...\n",
      "2018-05-30 07:13:32 PM There are 1 atoms in the mask :4@C4  ...\n",
      "2018-05-30 07:13:32 PM There are 1 atoms in the mask :4@C5  ...\n"
     ]
    }
   ],
   "source": [
    "conformational_restraints = []\n",
    "for index, atoms in enumerate(conformational_restraint_atoms): \n",
    "    \n",
    "    this = DAT_restraint()\n",
    "    this.auto_apr = True\n",
    "    this.amber_index = True\n",
    "    this.topology = hg\n",
    "    this.mask1 = atoms[0]\n",
    "    this.mask2 = atoms[1]\n",
    "    this.mask3 = atoms[2]\n",
    "    this.mask4 = atoms[3]\n",
    "    \n",
    "    this.attach['fraction_list'] = attach_fractions\n",
    "    this.attach['target'] = conformational_restraint_targets[index]\n",
    "    this.attach['fc_final'] = conformational_restraint_fc\n",
    "    \n",
    "    this.continuous_apr = False\n",
    "    \n",
    "    this.initialize()\n",
    "    conformational_restraints.append(this)"
   ]
  },
  {
   "cell_type": "code",
   "execution_count": 39,
   "metadata": {
    "ExecuteTime": {
     "end_time": "2018-05-31T02:13:33.028489Z",
     "start_time": "2018-05-31T02:13:32.959178Z"
    }
   },
   "outputs": [
    {
     "name": "stderr",
     "output_type": "stream",
     "text": [
      "2018-05-30 07:13:33 PM All restraints are not \"continuous_apr\" style.\n",
      "2018-05-30 07:13:33 PM Restraints appear to be consistent\n"
     ]
    }
   ],
   "source": [
    "window_list = create_window_list(conformational_restraints)"
   ]
  },
  {
   "cell_type": "code",
   "execution_count": 41,
   "metadata": {
    "ExecuteTime": {
     "end_time": "2018-05-31T02:15:18.931605Z",
     "start_time": "2018-05-31T02:15:18.914216Z"
    }
   },
   "outputs": [
    {
     "data": {
      "text/plain": [
       "['a000',\n",
       " 'a001',\n",
       " 'a002',\n",
       " 'a003',\n",
       " 'a004',\n",
       " 'a005',\n",
       " 'a006',\n",
       " 'a007',\n",
       " 'a008',\n",
       " 'a009',\n",
       " 'a010',\n",
       " 'a011',\n",
       " 'a012',\n",
       " 'a013',\n",
       " 'a014']"
      ]
     },
     "execution_count": 41,
     "metadata": {},
     "output_type": "execute_result"
    }
   ],
   "source": [
    "window_list"
   ]
  },
  {
   "cell_type": "code",
   "execution_count": 42,
   "metadata": {
    "ExecuteTime": {
     "end_time": "2018-05-31T02:15:20.020017Z",
     "start_time": "2018-05-31T02:15:19.986223Z"
    }
   },
   "outputs": [],
   "source": [
    "prefix = 'systems/a-bam-p/confirm-original/no-ligand/'"
   ]
  },
  {
   "cell_type": "code",
   "execution_count": 45,
   "metadata": {
    "ExecuteTime": {
     "end_time": "2018-05-31T02:15:42.863410Z",
     "start_time": "2018-05-31T02:15:42.825778Z"
    }
   },
   "outputs": [],
   "source": [
    "for window in window_list:\n",
    "    try:\n",
    "        os.makedirs(os.path.join(prefix, window))\n",
    "        # os.remove(os.path.join(prefix, window, 'full.hmr.noligand.prmtop'))\n",
    "        # os.remove(os.path.join(prefix, window, 'full.hmr.noligand.inpcrd'))\n",
    "        os.symlink(os.path.join('../../', 'full.hmr.noligand.prmtop'), os.path.join(prefix, window, 'full.hmr.noligand.prmtop'))\n",
    "        os.symlink(os.path.join('../../', 'full.hmr.noligand.inpcrd'), os.path.join(prefix, window, 'full.hmr.noligand.inpcrd'))\n",
    "    except:\n",
    "        pass"
   ]
  },
  {
   "cell_type": "code",
   "execution_count": 46,
   "metadata": {
    "ExecuteTime": {
     "end_time": "2018-05-31T02:15:52.537030Z",
     "start_time": "2018-05-31T02:15:52.495052Z"
    }
   },
   "outputs": [],
   "source": [
    "for window in window_list:\n",
    "    with open(os.path.join(prefix, window, 'disang.rest'), 'w') as file:\n",
    "        for restraint in static_restraints + conformational_restraints:\n",
    "            \n",
    "            try:\n",
    "                string = amber_restraint_line(restraint, 'attach', int(window[1:]))\n",
    "            except:\n",
    "                # Hack to get around trying to access\n",
    "                # --> 630         'r2': restraint.phase[phase]['targets'][window],\n",
    "                # for wall restraints, during pull.\n",
    "                continue\n",
    "            if string is not None:\n",
    "                file.write(string)"
   ]
  },
  {
   "cell_type": "code",
   "execution_count": 50,
   "metadata": {
    "ExecuteTime": {
     "end_time": "2018-05-31T14:13:29.922237Z",
     "start_time": "2018-05-31T14:13:20.833492Z"
    }
   },
   "outputs": [
    {
     "name": "stderr",
     "output_type": "stream",
     "text": [
      "2018-05-31 07:13:20 AM Reading restraint data for /home/dslochower/kirkwood/projects/smirnoff-host-guest-simulations/systems/a-bam-p/confirm-original/no-ligand/a000...\n",
      "2018-05-31 07:13:21 AM Reading restraint data for /home/dslochower/kirkwood/projects/smirnoff-host-guest-simulations/systems/a-bam-p/confirm-original/no-ligand/a000...\n",
      "2018-05-31 07:13:21 AM Reading restraint data for /home/dslochower/kirkwood/projects/smirnoff-host-guest-simulations/systems/a-bam-p/confirm-original/no-ligand/a000...\n",
      "2018-05-31 07:13:21 AM Reading restraint data for /home/dslochower/kirkwood/projects/smirnoff-host-guest-simulations/systems/a-bam-p/confirm-original/no-ligand/a000...\n"
     ]
    },
    {
     "name": "stdout",
     "output_type": "stream",
     "text": [
      "Automatic pdb calling has been turned OFF\n"
     ]
    },
    {
     "name": "stderr",
     "output_type": "stream",
     "text": [
      "2018-05-31 07:13:21 AM Reading restraint data for /home/dslochower/kirkwood/projects/smirnoff-host-guest-simulations/systems/a-bam-p/confirm-original/no-ligand/a000...\n",
      "2018-05-31 07:13:21 AM Reading restraint data for /home/dslochower/kirkwood/projects/smirnoff-host-guest-simulations/systems/a-bam-p/confirm-original/no-ligand/a000...\n",
      "2018-05-31 07:13:21 AM Reading restraint data for /home/dslochower/kirkwood/projects/smirnoff-host-guest-simulations/systems/a-bam-p/confirm-original/no-ligand/a000...\n",
      "2018-05-31 07:13:21 AM Reading restraint data for /home/dslochower/kirkwood/projects/smirnoff-host-guest-simulations/systems/a-bam-p/confirm-original/no-ligand/a000...\n",
      "2018-05-31 07:13:21 AM Reading restraint data for /home/dslochower/kirkwood/projects/smirnoff-host-guest-simulations/systems/a-bam-p/confirm-original/no-ligand/a000...\n",
      "2018-05-31 07:13:21 AM Reading restraint data for /home/dslochower/kirkwood/projects/smirnoff-host-guest-simulations/systems/a-bam-p/confirm-original/no-ligand/a000...\n",
      "2018-05-31 07:13:21 AM Reading restraint data for /home/dslochower/kirkwood/projects/smirnoff-host-guest-simulations/systems/a-bam-p/confirm-original/no-ligand/a000...\n",
      "2018-05-31 07:13:21 AM Reading restraint data for /home/dslochower/kirkwood/projects/smirnoff-host-guest-simulations/systems/a-bam-p/confirm-original/no-ligand/a000...\n",
      "2018-05-31 07:13:21 AM Reading restraint data for /home/dslochower/kirkwood/projects/smirnoff-host-guest-simulations/systems/a-bam-p/confirm-original/no-ligand/a001...\n",
      "2018-05-31 07:13:21 AM Reading restraint data for /home/dslochower/kirkwood/projects/smirnoff-host-guest-simulations/systems/a-bam-p/confirm-original/no-ligand/a001...\n",
      "2018-05-31 07:13:21 AM Reading restraint data for /home/dslochower/kirkwood/projects/smirnoff-host-guest-simulations/systems/a-bam-p/confirm-original/no-ligand/a001...\n",
      "2018-05-31 07:13:21 AM Reading restraint data for /home/dslochower/kirkwood/projects/smirnoff-host-guest-simulations/systems/a-bam-p/confirm-original/no-ligand/a001...\n",
      "2018-05-31 07:13:21 AM Reading restraint data for /home/dslochower/kirkwood/projects/smirnoff-host-guest-simulations/systems/a-bam-p/confirm-original/no-ligand/a001...\n",
      "2018-05-31 07:13:21 AM Reading restraint data for /home/dslochower/kirkwood/projects/smirnoff-host-guest-simulations/systems/a-bam-p/confirm-original/no-ligand/a001...\n",
      "2018-05-31 07:13:21 AM Reading restraint data for /home/dslochower/kirkwood/projects/smirnoff-host-guest-simulations/systems/a-bam-p/confirm-original/no-ligand/a001...\n",
      "2018-05-31 07:13:21 AM Reading restraint data for /home/dslochower/kirkwood/projects/smirnoff-host-guest-simulations/systems/a-bam-p/confirm-original/no-ligand/a001...\n",
      "2018-05-31 07:13:21 AM Reading restraint data for /home/dslochower/kirkwood/projects/smirnoff-host-guest-simulations/systems/a-bam-p/confirm-original/no-ligand/a001...\n",
      "2018-05-31 07:13:21 AM Reading restraint data for /home/dslochower/kirkwood/projects/smirnoff-host-guest-simulations/systems/a-bam-p/confirm-original/no-ligand/a001...\n",
      "2018-05-31 07:13:21 AM Reading restraint data for /home/dslochower/kirkwood/projects/smirnoff-host-guest-simulations/systems/a-bam-p/confirm-original/no-ligand/a001...\n",
      "2018-05-31 07:13:21 AM Reading restraint data for /home/dslochower/kirkwood/projects/smirnoff-host-guest-simulations/systems/a-bam-p/confirm-original/no-ligand/a001...\n",
      "2018-05-31 07:13:21 AM Reading restraint data for /home/dslochower/kirkwood/projects/smirnoff-host-guest-simulations/systems/a-bam-p/confirm-original/no-ligand/a002...\n",
      "2018-05-31 07:13:21 AM Reading restraint data for /home/dslochower/kirkwood/projects/smirnoff-host-guest-simulations/systems/a-bam-p/confirm-original/no-ligand/a002...\n",
      "2018-05-31 07:13:21 AM Reading restraint data for /home/dslochower/kirkwood/projects/smirnoff-host-guest-simulations/systems/a-bam-p/confirm-original/no-ligand/a002...\n",
      "2018-05-31 07:13:21 AM Reading restraint data for /home/dslochower/kirkwood/projects/smirnoff-host-guest-simulations/systems/a-bam-p/confirm-original/no-ligand/a002...\n",
      "2018-05-31 07:13:22 AM Reading restraint data for /home/dslochower/kirkwood/projects/smirnoff-host-guest-simulations/systems/a-bam-p/confirm-original/no-ligand/a002...\n",
      "2018-05-31 07:13:22 AM Reading restraint data for /home/dslochower/kirkwood/projects/smirnoff-host-guest-simulations/systems/a-bam-p/confirm-original/no-ligand/a002...\n",
      "2018-05-31 07:13:22 AM Reading restraint data for /home/dslochower/kirkwood/projects/smirnoff-host-guest-simulations/systems/a-bam-p/confirm-original/no-ligand/a002...\n",
      "2018-05-31 07:13:22 AM Reading restraint data for /home/dslochower/kirkwood/projects/smirnoff-host-guest-simulations/systems/a-bam-p/confirm-original/no-ligand/a002...\n",
      "2018-05-31 07:13:22 AM Reading restraint data for /home/dslochower/kirkwood/projects/smirnoff-host-guest-simulations/systems/a-bam-p/confirm-original/no-ligand/a002...\n",
      "2018-05-31 07:13:22 AM Reading restraint data for /home/dslochower/kirkwood/projects/smirnoff-host-guest-simulations/systems/a-bam-p/confirm-original/no-ligand/a002...\n",
      "2018-05-31 07:13:22 AM Reading restraint data for /home/dslochower/kirkwood/projects/smirnoff-host-guest-simulations/systems/a-bam-p/confirm-original/no-ligand/a002...\n",
      "2018-05-31 07:13:22 AM Reading restraint data for /home/dslochower/kirkwood/projects/smirnoff-host-guest-simulations/systems/a-bam-p/confirm-original/no-ligand/a002...\n",
      "2018-05-31 07:13:22 AM Reading restraint data for /home/dslochower/kirkwood/projects/smirnoff-host-guest-simulations/systems/a-bam-p/confirm-original/no-ligand/a003...\n",
      "2018-05-31 07:13:22 AM Reading restraint data for /home/dslochower/kirkwood/projects/smirnoff-host-guest-simulations/systems/a-bam-p/confirm-original/no-ligand/a003...\n",
      "2018-05-31 07:13:22 AM Reading restraint data for /home/dslochower/kirkwood/projects/smirnoff-host-guest-simulations/systems/a-bam-p/confirm-original/no-ligand/a003...\n",
      "2018-05-31 07:13:22 AM Reading restraint data for /home/dslochower/kirkwood/projects/smirnoff-host-guest-simulations/systems/a-bam-p/confirm-original/no-ligand/a003...\n",
      "2018-05-31 07:13:22 AM Reading restraint data for /home/dslochower/kirkwood/projects/smirnoff-host-guest-simulations/systems/a-bam-p/confirm-original/no-ligand/a003...\n",
      "2018-05-31 07:13:22 AM Reading restraint data for /home/dslochower/kirkwood/projects/smirnoff-host-guest-simulations/systems/a-bam-p/confirm-original/no-ligand/a003...\n",
      "2018-05-31 07:13:22 AM Reading restraint data for /home/dslochower/kirkwood/projects/smirnoff-host-guest-simulations/systems/a-bam-p/confirm-original/no-ligand/a003...\n",
      "2018-05-31 07:13:22 AM Reading restraint data for /home/dslochower/kirkwood/projects/smirnoff-host-guest-simulations/systems/a-bam-p/confirm-original/no-ligand/a003...\n",
      "2018-05-31 07:13:22 AM Reading restraint data for /home/dslochower/kirkwood/projects/smirnoff-host-guest-simulations/systems/a-bam-p/confirm-original/no-ligand/a003...\n",
      "2018-05-31 07:13:22 AM Reading restraint data for /home/dslochower/kirkwood/projects/smirnoff-host-guest-simulations/systems/a-bam-p/confirm-original/no-ligand/a003...\n",
      "2018-05-31 07:13:22 AM Reading restraint data for /home/dslochower/kirkwood/projects/smirnoff-host-guest-simulations/systems/a-bam-p/confirm-original/no-ligand/a003...\n",
      "2018-05-31 07:13:22 AM Reading restraint data for /home/dslochower/kirkwood/projects/smirnoff-host-guest-simulations/systems/a-bam-p/confirm-original/no-ligand/a003...\n",
      "2018-05-31 07:13:22 AM Reading restraint data for /home/dslochower/kirkwood/projects/smirnoff-host-guest-simulations/systems/a-bam-p/confirm-original/no-ligand/a004...\n",
      "2018-05-31 07:13:22 AM Reading restraint data for /home/dslochower/kirkwood/projects/smirnoff-host-guest-simulations/systems/a-bam-p/confirm-original/no-ligand/a004...\n",
      "2018-05-31 07:13:22 AM Reading restraint data for /home/dslochower/kirkwood/projects/smirnoff-host-guest-simulations/systems/a-bam-p/confirm-original/no-ligand/a004...\n",
      "2018-05-31 07:13:22 AM Reading restraint data for /home/dslochower/kirkwood/projects/smirnoff-host-guest-simulations/systems/a-bam-p/confirm-original/no-ligand/a004...\n",
      "2018-05-31 07:13:22 AM Reading restraint data for /home/dslochower/kirkwood/projects/smirnoff-host-guest-simulations/systems/a-bam-p/confirm-original/no-ligand/a004...\n"
     ]
    },
    {
     "name": "stderr",
     "output_type": "stream",
     "text": [
      "2018-05-31 07:13:22 AM Reading restraint data for /home/dslochower/kirkwood/projects/smirnoff-host-guest-simulations/systems/a-bam-p/confirm-original/no-ligand/a004...\n",
      "2018-05-31 07:13:22 AM Reading restraint data for /home/dslochower/kirkwood/projects/smirnoff-host-guest-simulations/systems/a-bam-p/confirm-original/no-ligand/a004...\n",
      "2018-05-31 07:13:22 AM Reading restraint data for /home/dslochower/kirkwood/projects/smirnoff-host-guest-simulations/systems/a-bam-p/confirm-original/no-ligand/a004...\n",
      "2018-05-31 07:13:22 AM Reading restraint data for /home/dslochower/kirkwood/projects/smirnoff-host-guest-simulations/systems/a-bam-p/confirm-original/no-ligand/a004...\n",
      "2018-05-31 07:13:22 AM Reading restraint data for /home/dslochower/kirkwood/projects/smirnoff-host-guest-simulations/systems/a-bam-p/confirm-original/no-ligand/a004...\n",
      "2018-05-31 07:13:23 AM Reading restraint data for /home/dslochower/kirkwood/projects/smirnoff-host-guest-simulations/systems/a-bam-p/confirm-original/no-ligand/a004...\n",
      "2018-05-31 07:13:23 AM Reading restraint data for /home/dslochower/kirkwood/projects/smirnoff-host-guest-simulations/systems/a-bam-p/confirm-original/no-ligand/a004...\n",
      "2018-05-31 07:13:23 AM Reading restraint data for /home/dslochower/kirkwood/projects/smirnoff-host-guest-simulations/systems/a-bam-p/confirm-original/no-ligand/a005...\n",
      "2018-05-31 07:13:23 AM Reading restraint data for /home/dslochower/kirkwood/projects/smirnoff-host-guest-simulations/systems/a-bam-p/confirm-original/no-ligand/a005...\n",
      "2018-05-31 07:13:23 AM Reading restraint data for /home/dslochower/kirkwood/projects/smirnoff-host-guest-simulations/systems/a-bam-p/confirm-original/no-ligand/a005...\n",
      "2018-05-31 07:13:23 AM Reading restraint data for /home/dslochower/kirkwood/projects/smirnoff-host-guest-simulations/systems/a-bam-p/confirm-original/no-ligand/a005...\n",
      "2018-05-31 07:13:23 AM Reading restraint data for /home/dslochower/kirkwood/projects/smirnoff-host-guest-simulations/systems/a-bam-p/confirm-original/no-ligand/a005...\n",
      "2018-05-31 07:13:23 AM Reading restraint data for /home/dslochower/kirkwood/projects/smirnoff-host-guest-simulations/systems/a-bam-p/confirm-original/no-ligand/a005...\n",
      "2018-05-31 07:13:23 AM Reading restraint data for /home/dslochower/kirkwood/projects/smirnoff-host-guest-simulations/systems/a-bam-p/confirm-original/no-ligand/a005...\n",
      "2018-05-31 07:13:23 AM Reading restraint data for /home/dslochower/kirkwood/projects/smirnoff-host-guest-simulations/systems/a-bam-p/confirm-original/no-ligand/a005...\n",
      "2018-05-31 07:13:23 AM Reading restraint data for /home/dslochower/kirkwood/projects/smirnoff-host-guest-simulations/systems/a-bam-p/confirm-original/no-ligand/a005...\n",
      "2018-05-31 07:13:23 AM Reading restraint data for /home/dslochower/kirkwood/projects/smirnoff-host-guest-simulations/systems/a-bam-p/confirm-original/no-ligand/a005...\n",
      "2018-05-31 07:13:23 AM Reading restraint data for /home/dslochower/kirkwood/projects/smirnoff-host-guest-simulations/systems/a-bam-p/confirm-original/no-ligand/a005...\n",
      "2018-05-31 07:13:23 AM Reading restraint data for /home/dslochower/kirkwood/projects/smirnoff-host-guest-simulations/systems/a-bam-p/confirm-original/no-ligand/a005...\n",
      "2018-05-31 07:13:23 AM Reading restraint data for /home/dslochower/kirkwood/projects/smirnoff-host-guest-simulations/systems/a-bam-p/confirm-original/no-ligand/a006...\n",
      "2018-05-31 07:13:23 AM Reading restraint data for /home/dslochower/kirkwood/projects/smirnoff-host-guest-simulations/systems/a-bam-p/confirm-original/no-ligand/a006...\n",
      "2018-05-31 07:13:23 AM Reading restraint data for /home/dslochower/kirkwood/projects/smirnoff-host-guest-simulations/systems/a-bam-p/confirm-original/no-ligand/a006...\n",
      "2018-05-31 07:13:23 AM Reading restraint data for /home/dslochower/kirkwood/projects/smirnoff-host-guest-simulations/systems/a-bam-p/confirm-original/no-ligand/a006...\n",
      "2018-05-31 07:13:23 AM Reading restraint data for /home/dslochower/kirkwood/projects/smirnoff-host-guest-simulations/systems/a-bam-p/confirm-original/no-ligand/a006...\n",
      "2018-05-31 07:13:23 AM Reading restraint data for /home/dslochower/kirkwood/projects/smirnoff-host-guest-simulations/systems/a-bam-p/confirm-original/no-ligand/a006...\n",
      "2018-05-31 07:13:23 AM Reading restraint data for /home/dslochower/kirkwood/projects/smirnoff-host-guest-simulations/systems/a-bam-p/confirm-original/no-ligand/a006...\n",
      "2018-05-31 07:13:23 AM Reading restraint data for /home/dslochower/kirkwood/projects/smirnoff-host-guest-simulations/systems/a-bam-p/confirm-original/no-ligand/a006...\n",
      "2018-05-31 07:13:23 AM Reading restraint data for /home/dslochower/kirkwood/projects/smirnoff-host-guest-simulations/systems/a-bam-p/confirm-original/no-ligand/a006...\n",
      "2018-05-31 07:13:23 AM Reading restraint data for /home/dslochower/kirkwood/projects/smirnoff-host-guest-simulations/systems/a-bam-p/confirm-original/no-ligand/a006...\n",
      "2018-05-31 07:13:23 AM Reading restraint data for /home/dslochower/kirkwood/projects/smirnoff-host-guest-simulations/systems/a-bam-p/confirm-original/no-ligand/a006...\n",
      "2018-05-31 07:13:23 AM Reading restraint data for /home/dslochower/kirkwood/projects/smirnoff-host-guest-simulations/systems/a-bam-p/confirm-original/no-ligand/a006...\n",
      "2018-05-31 07:13:23 AM Reading restraint data for /home/dslochower/kirkwood/projects/smirnoff-host-guest-simulations/systems/a-bam-p/confirm-original/no-ligand/a007...\n",
      "2018-05-31 07:13:23 AM Reading restraint data for /home/dslochower/kirkwood/projects/smirnoff-host-guest-simulations/systems/a-bam-p/confirm-original/no-ligand/a007...\n",
      "2018-05-31 07:13:23 AM Reading restraint data for /home/dslochower/kirkwood/projects/smirnoff-host-guest-simulations/systems/a-bam-p/confirm-original/no-ligand/a007...\n",
      "2018-05-31 07:13:23 AM Reading restraint data for /home/dslochower/kirkwood/projects/smirnoff-host-guest-simulations/systems/a-bam-p/confirm-original/no-ligand/a007...\n",
      "2018-05-31 07:13:23 AM Reading restraint data for /home/dslochower/kirkwood/projects/smirnoff-host-guest-simulations/systems/a-bam-p/confirm-original/no-ligand/a007...\n",
      "2018-05-31 07:13:24 AM Reading restraint data for /home/dslochower/kirkwood/projects/smirnoff-host-guest-simulations/systems/a-bam-p/confirm-original/no-ligand/a007...\n",
      "2018-05-31 07:13:24 AM Reading restraint data for /home/dslochower/kirkwood/projects/smirnoff-host-guest-simulations/systems/a-bam-p/confirm-original/no-ligand/a007...\n",
      "2018-05-31 07:13:24 AM Reading restraint data for /home/dslochower/kirkwood/projects/smirnoff-host-guest-simulations/systems/a-bam-p/confirm-original/no-ligand/a007...\n",
      "2018-05-31 07:13:24 AM Reading restraint data for /home/dslochower/kirkwood/projects/smirnoff-host-guest-simulations/systems/a-bam-p/confirm-original/no-ligand/a007...\n",
      "2018-05-31 07:13:24 AM Reading restraint data for /home/dslochower/kirkwood/projects/smirnoff-host-guest-simulations/systems/a-bam-p/confirm-original/no-ligand/a007...\n",
      "2018-05-31 07:13:24 AM Reading restraint data for /home/dslochower/kirkwood/projects/smirnoff-host-guest-simulations/systems/a-bam-p/confirm-original/no-ligand/a007...\n",
      "2018-05-31 07:13:24 AM Reading restraint data for /home/dslochower/kirkwood/projects/smirnoff-host-guest-simulations/systems/a-bam-p/confirm-original/no-ligand/a007...\n",
      "2018-05-31 07:13:24 AM Reading restraint data for /home/dslochower/kirkwood/projects/smirnoff-host-guest-simulations/systems/a-bam-p/confirm-original/no-ligand/a008...\n",
      "2018-05-31 07:13:24 AM Reading restraint data for /home/dslochower/kirkwood/projects/smirnoff-host-guest-simulations/systems/a-bam-p/confirm-original/no-ligand/a008...\n",
      "2018-05-31 07:13:24 AM Reading restraint data for /home/dslochower/kirkwood/projects/smirnoff-host-guest-simulations/systems/a-bam-p/confirm-original/no-ligand/a008...\n",
      "2018-05-31 07:13:24 AM Reading restraint data for /home/dslochower/kirkwood/projects/smirnoff-host-guest-simulations/systems/a-bam-p/confirm-original/no-ligand/a008...\n",
      "2018-05-31 07:13:24 AM Reading restraint data for /home/dslochower/kirkwood/projects/smirnoff-host-guest-simulations/systems/a-bam-p/confirm-original/no-ligand/a008...\n",
      "2018-05-31 07:13:24 AM Reading restraint data for /home/dslochower/kirkwood/projects/smirnoff-host-guest-simulations/systems/a-bam-p/confirm-original/no-ligand/a008...\n"
     ]
    },
    {
     "name": "stderr",
     "output_type": "stream",
     "text": [
      "2018-05-31 07:13:24 AM Reading restraint data for /home/dslochower/kirkwood/projects/smirnoff-host-guest-simulations/systems/a-bam-p/confirm-original/no-ligand/a008...\n",
      "2018-05-31 07:13:24 AM Reading restraint data for /home/dslochower/kirkwood/projects/smirnoff-host-guest-simulations/systems/a-bam-p/confirm-original/no-ligand/a008...\n",
      "2018-05-31 07:13:24 AM Reading restraint data for /home/dslochower/kirkwood/projects/smirnoff-host-guest-simulations/systems/a-bam-p/confirm-original/no-ligand/a008...\n",
      "2018-05-31 07:13:24 AM Reading restraint data for /home/dslochower/kirkwood/projects/smirnoff-host-guest-simulations/systems/a-bam-p/confirm-original/no-ligand/a008...\n",
      "2018-05-31 07:13:24 AM Reading restraint data for /home/dslochower/kirkwood/projects/smirnoff-host-guest-simulations/systems/a-bam-p/confirm-original/no-ligand/a008...\n",
      "2018-05-31 07:13:24 AM Reading restraint data for /home/dslochower/kirkwood/projects/smirnoff-host-guest-simulations/systems/a-bam-p/confirm-original/no-ligand/a008...\n",
      "2018-05-31 07:13:24 AM Reading restraint data for /home/dslochower/kirkwood/projects/smirnoff-host-guest-simulations/systems/a-bam-p/confirm-original/no-ligand/a009...\n",
      "2018-05-31 07:13:24 AM Reading restraint data for /home/dslochower/kirkwood/projects/smirnoff-host-guest-simulations/systems/a-bam-p/confirm-original/no-ligand/a009...\n",
      "2018-05-31 07:13:24 AM Reading restraint data for /home/dslochower/kirkwood/projects/smirnoff-host-guest-simulations/systems/a-bam-p/confirm-original/no-ligand/a009...\n",
      "2018-05-31 07:13:24 AM Reading restraint data for /home/dslochower/kirkwood/projects/smirnoff-host-guest-simulations/systems/a-bam-p/confirm-original/no-ligand/a009...\n",
      "2018-05-31 07:13:24 AM Reading restraint data for /home/dslochower/kirkwood/projects/smirnoff-host-guest-simulations/systems/a-bam-p/confirm-original/no-ligand/a009...\n",
      "2018-05-31 07:13:24 AM Reading restraint data for /home/dslochower/kirkwood/projects/smirnoff-host-guest-simulations/systems/a-bam-p/confirm-original/no-ligand/a009...\n",
      "2018-05-31 07:13:25 AM Reading restraint data for /home/dslochower/kirkwood/projects/smirnoff-host-guest-simulations/systems/a-bam-p/confirm-original/no-ligand/a009...\n",
      "2018-05-31 07:13:25 AM Reading restraint data for /home/dslochower/kirkwood/projects/smirnoff-host-guest-simulations/systems/a-bam-p/confirm-original/no-ligand/a009...\n",
      "2018-05-31 07:13:25 AM Reading restraint data for /home/dslochower/kirkwood/projects/smirnoff-host-guest-simulations/systems/a-bam-p/confirm-original/no-ligand/a009...\n",
      "2018-05-31 07:13:25 AM Reading restraint data for /home/dslochower/kirkwood/projects/smirnoff-host-guest-simulations/systems/a-bam-p/confirm-original/no-ligand/a009...\n",
      "2018-05-31 07:13:25 AM Reading restraint data for /home/dslochower/kirkwood/projects/smirnoff-host-guest-simulations/systems/a-bam-p/confirm-original/no-ligand/a009...\n",
      "2018-05-31 07:13:25 AM Reading restraint data for /home/dslochower/kirkwood/projects/smirnoff-host-guest-simulations/systems/a-bam-p/confirm-original/no-ligand/a009...\n",
      "2018-05-31 07:13:25 AM Reading restraint data for /home/dslochower/kirkwood/projects/smirnoff-host-guest-simulations/systems/a-bam-p/confirm-original/no-ligand/a010...\n",
      "2018-05-31 07:13:25 AM Reading restraint data for /home/dslochower/kirkwood/projects/smirnoff-host-guest-simulations/systems/a-bam-p/confirm-original/no-ligand/a010...\n",
      "2018-05-31 07:13:25 AM Reading restraint data for /home/dslochower/kirkwood/projects/smirnoff-host-guest-simulations/systems/a-bam-p/confirm-original/no-ligand/a010...\n",
      "2018-05-31 07:13:25 AM Reading restraint data for /home/dslochower/kirkwood/projects/smirnoff-host-guest-simulations/systems/a-bam-p/confirm-original/no-ligand/a010...\n",
      "2018-05-31 07:13:25 AM Reading restraint data for /home/dslochower/kirkwood/projects/smirnoff-host-guest-simulations/systems/a-bam-p/confirm-original/no-ligand/a010...\n",
      "2018-05-31 07:13:25 AM Reading restraint data for /home/dslochower/kirkwood/projects/smirnoff-host-guest-simulations/systems/a-bam-p/confirm-original/no-ligand/a010...\n",
      "2018-05-31 07:13:25 AM Reading restraint data for /home/dslochower/kirkwood/projects/smirnoff-host-guest-simulations/systems/a-bam-p/confirm-original/no-ligand/a010...\n",
      "2018-05-31 07:13:25 AM Reading restraint data for /home/dslochower/kirkwood/projects/smirnoff-host-guest-simulations/systems/a-bam-p/confirm-original/no-ligand/a010...\n",
      "2018-05-31 07:13:25 AM Reading restraint data for /home/dslochower/kirkwood/projects/smirnoff-host-guest-simulations/systems/a-bam-p/confirm-original/no-ligand/a010...\n",
      "2018-05-31 07:13:25 AM Reading restraint data for /home/dslochower/kirkwood/projects/smirnoff-host-guest-simulations/systems/a-bam-p/confirm-original/no-ligand/a010...\n",
      "2018-05-31 07:13:25 AM Reading restraint data for /home/dslochower/kirkwood/projects/smirnoff-host-guest-simulations/systems/a-bam-p/confirm-original/no-ligand/a010...\n",
      "2018-05-31 07:13:25 AM Reading restraint data for /home/dslochower/kirkwood/projects/smirnoff-host-guest-simulations/systems/a-bam-p/confirm-original/no-ligand/a010...\n",
      "2018-05-31 07:13:25 AM Reading restraint data for /home/dslochower/kirkwood/projects/smirnoff-host-guest-simulations/systems/a-bam-p/confirm-original/no-ligand/a011...\n",
      "2018-05-31 07:13:25 AM Reading restraint data for /home/dslochower/kirkwood/projects/smirnoff-host-guest-simulations/systems/a-bam-p/confirm-original/no-ligand/a011...\n",
      "2018-05-31 07:13:25 AM Reading restraint data for /home/dslochower/kirkwood/projects/smirnoff-host-guest-simulations/systems/a-bam-p/confirm-original/no-ligand/a011...\n",
      "2018-05-31 07:13:25 AM Reading restraint data for /home/dslochower/kirkwood/projects/smirnoff-host-guest-simulations/systems/a-bam-p/confirm-original/no-ligand/a011...\n",
      "2018-05-31 07:13:25 AM Reading restraint data for /home/dslochower/kirkwood/projects/smirnoff-host-guest-simulations/systems/a-bam-p/confirm-original/no-ligand/a011...\n",
      "2018-05-31 07:13:25 AM Reading restraint data for /home/dslochower/kirkwood/projects/smirnoff-host-guest-simulations/systems/a-bam-p/confirm-original/no-ligand/a011...\n",
      "2018-05-31 07:13:25 AM Reading restraint data for /home/dslochower/kirkwood/projects/smirnoff-host-guest-simulations/systems/a-bam-p/confirm-original/no-ligand/a011...\n",
      "2018-05-31 07:13:25 AM Reading restraint data for /home/dslochower/kirkwood/projects/smirnoff-host-guest-simulations/systems/a-bam-p/confirm-original/no-ligand/a011...\n",
      "2018-05-31 07:13:25 AM Reading restraint data for /home/dslochower/kirkwood/projects/smirnoff-host-guest-simulations/systems/a-bam-p/confirm-original/no-ligand/a011...\n",
      "2018-05-31 07:13:26 AM Reading restraint data for /home/dslochower/kirkwood/projects/smirnoff-host-guest-simulations/systems/a-bam-p/confirm-original/no-ligand/a011...\n",
      "2018-05-31 07:13:26 AM Reading restraint data for /home/dslochower/kirkwood/projects/smirnoff-host-guest-simulations/systems/a-bam-p/confirm-original/no-ligand/a011...\n",
      "2018-05-31 07:13:26 AM Reading restraint data for /home/dslochower/kirkwood/projects/smirnoff-host-guest-simulations/systems/a-bam-p/confirm-original/no-ligand/a011...\n",
      "2018-05-31 07:13:26 AM Reading restraint data for /home/dslochower/kirkwood/projects/smirnoff-host-guest-simulations/systems/a-bam-p/confirm-original/no-ligand/a012...\n",
      "2018-05-31 07:13:26 AM Reading restraint data for /home/dslochower/kirkwood/projects/smirnoff-host-guest-simulations/systems/a-bam-p/confirm-original/no-ligand/a012...\n",
      "2018-05-31 07:13:26 AM Reading restraint data for /home/dslochower/kirkwood/projects/smirnoff-host-guest-simulations/systems/a-bam-p/confirm-original/no-ligand/a012...\n",
      "2018-05-31 07:13:26 AM Reading restraint data for /home/dslochower/kirkwood/projects/smirnoff-host-guest-simulations/systems/a-bam-p/confirm-original/no-ligand/a012...\n",
      "2018-05-31 07:13:26 AM Reading restraint data for /home/dslochower/kirkwood/projects/smirnoff-host-guest-simulations/systems/a-bam-p/confirm-original/no-ligand/a012...\n",
      "2018-05-31 07:13:26 AM Reading restraint data for /home/dslochower/kirkwood/projects/smirnoff-host-guest-simulations/systems/a-bam-p/confirm-original/no-ligand/a012...\n",
      "2018-05-31 07:13:26 AM Reading restraint data for /home/dslochower/kirkwood/projects/smirnoff-host-guest-simulations/systems/a-bam-p/confirm-original/no-ligand/a012...\n"
     ]
    },
    {
     "name": "stderr",
     "output_type": "stream",
     "text": [
      "2018-05-31 07:13:26 AM Reading restraint data for /home/dslochower/kirkwood/projects/smirnoff-host-guest-simulations/systems/a-bam-p/confirm-original/no-ligand/a012...\n",
      "2018-05-31 07:13:26 AM Reading restraint data for /home/dslochower/kirkwood/projects/smirnoff-host-guest-simulations/systems/a-bam-p/confirm-original/no-ligand/a012...\n",
      "2018-05-31 07:13:26 AM Reading restraint data for /home/dslochower/kirkwood/projects/smirnoff-host-guest-simulations/systems/a-bam-p/confirm-original/no-ligand/a012...\n",
      "2018-05-31 07:13:26 AM Reading restraint data for /home/dslochower/kirkwood/projects/smirnoff-host-guest-simulations/systems/a-bam-p/confirm-original/no-ligand/a012...\n",
      "2018-05-31 07:13:26 AM Reading restraint data for /home/dslochower/kirkwood/projects/smirnoff-host-guest-simulations/systems/a-bam-p/confirm-original/no-ligand/a012...\n",
      "2018-05-31 07:13:26 AM Reading restraint data for /home/dslochower/kirkwood/projects/smirnoff-host-guest-simulations/systems/a-bam-p/confirm-original/no-ligand/a013...\n",
      "2018-05-31 07:13:26 AM Reading restraint data for /home/dslochower/kirkwood/projects/smirnoff-host-guest-simulations/systems/a-bam-p/confirm-original/no-ligand/a013...\n",
      "2018-05-31 07:13:26 AM Reading restraint data for /home/dslochower/kirkwood/projects/smirnoff-host-guest-simulations/systems/a-bam-p/confirm-original/no-ligand/a013...\n",
      "2018-05-31 07:13:26 AM Reading restraint data for /home/dslochower/kirkwood/projects/smirnoff-host-guest-simulations/systems/a-bam-p/confirm-original/no-ligand/a013...\n",
      "2018-05-31 07:13:26 AM Reading restraint data for /home/dslochower/kirkwood/projects/smirnoff-host-guest-simulations/systems/a-bam-p/confirm-original/no-ligand/a013...\n",
      "2018-05-31 07:13:26 AM Reading restraint data for /home/dslochower/kirkwood/projects/smirnoff-host-guest-simulations/systems/a-bam-p/confirm-original/no-ligand/a013...\n",
      "2018-05-31 07:13:26 AM Reading restraint data for /home/dslochower/kirkwood/projects/smirnoff-host-guest-simulations/systems/a-bam-p/confirm-original/no-ligand/a013...\n",
      "2018-05-31 07:13:26 AM Reading restraint data for /home/dslochower/kirkwood/projects/smirnoff-host-guest-simulations/systems/a-bam-p/confirm-original/no-ligand/a013...\n",
      "2018-05-31 07:13:26 AM Reading restraint data for /home/dslochower/kirkwood/projects/smirnoff-host-guest-simulations/systems/a-bam-p/confirm-original/no-ligand/a013...\n",
      "2018-05-31 07:13:26 AM Reading restraint data for /home/dslochower/kirkwood/projects/smirnoff-host-guest-simulations/systems/a-bam-p/confirm-original/no-ligand/a013...\n",
      "2018-05-31 07:13:26 AM Reading restraint data for /home/dslochower/kirkwood/projects/smirnoff-host-guest-simulations/systems/a-bam-p/confirm-original/no-ligand/a013...\n",
      "2018-05-31 07:13:26 AM Reading restraint data for /home/dslochower/kirkwood/projects/smirnoff-host-guest-simulations/systems/a-bam-p/confirm-original/no-ligand/a013...\n",
      "2018-05-31 07:13:26 AM Reading restraint data for /home/dslochower/kirkwood/projects/smirnoff-host-guest-simulations/systems/a-bam-p/confirm-original/no-ligand/a014...\n",
      "2018-05-31 07:13:26 AM Reading restraint data for /home/dslochower/kirkwood/projects/smirnoff-host-guest-simulations/systems/a-bam-p/confirm-original/no-ligand/a014...\n",
      "2018-05-31 07:13:26 AM Reading restraint data for /home/dslochower/kirkwood/projects/smirnoff-host-guest-simulations/systems/a-bam-p/confirm-original/no-ligand/a014...\n",
      "2018-05-31 07:13:26 AM Reading restraint data for /home/dslochower/kirkwood/projects/smirnoff-host-guest-simulations/systems/a-bam-p/confirm-original/no-ligand/a014...\n",
      "2018-05-31 07:13:26 AM Reading restraint data for /home/dslochower/kirkwood/projects/smirnoff-host-guest-simulations/systems/a-bam-p/confirm-original/no-ligand/a014...\n",
      "2018-05-31 07:13:27 AM Reading restraint data for /home/dslochower/kirkwood/projects/smirnoff-host-guest-simulations/systems/a-bam-p/confirm-original/no-ligand/a014...\n",
      "2018-05-31 07:13:27 AM Reading restraint data for /home/dslochower/kirkwood/projects/smirnoff-host-guest-simulations/systems/a-bam-p/confirm-original/no-ligand/a014...\n",
      "2018-05-31 07:13:27 AM Reading restraint data for /home/dslochower/kirkwood/projects/smirnoff-host-guest-simulations/systems/a-bam-p/confirm-original/no-ligand/a014...\n",
      "2018-05-31 07:13:27 AM Reading restraint data for /home/dslochower/kirkwood/projects/smirnoff-host-guest-simulations/systems/a-bam-p/confirm-original/no-ligand/a014...\n",
      "2018-05-31 07:13:27 AM Reading restraint data for /home/dslochower/kirkwood/projects/smirnoff-host-guest-simulations/systems/a-bam-p/confirm-original/no-ligand/a014...\n",
      "2018-05-31 07:13:27 AM Reading restraint data for /home/dslochower/kirkwood/projects/smirnoff-host-guest-simulations/systems/a-bam-p/confirm-original/no-ligand/a014...\n",
      "2018-05-31 07:13:27 AM Reading restraint data for /home/dslochower/kirkwood/projects/smirnoff-host-guest-simulations/systems/a-bam-p/confirm-original/no-ligand/a014...\n",
      "2018-05-31 07:13:27 AM Running ti-block analysis on attach phase ...\n",
      "2018-05-31 07:13:29 AM Running boostrap calculations\n",
      "2018-05-31 07:13:29 AM attach: computing convergence for ti-block\n",
      "2018-05-31 07:13:29 AM Skipping free energy calculation for pull\n",
      "2018-05-31 07:13:29 AM Skipping free energy calculation for release\n"
     ]
    },
    {
     "name": "stdout",
     "output_type": "stream",
     "text": [
      "[ 41.56531265  42.05442606  42.53958784 ...,  63.79844873  63.68913581\n",
      "  63.57138963]\n",
      "[  0.00000000e+00   4.00000000e-05   8.00000000e-05 ...,   3.88000000e-03\n",
      "   3.92000000e-03   3.96000000e-03]\n",
      "[ 41.56531265  42.05442606  42.53958784 ...,  31.0448779   30.97153862\n",
      "  30.91313338]\n",
      "[  0.00000000e+00   4.00000000e-05   8.00000000e-05 ...,   7.88000000e-03\n",
      "   7.92000000e-03   7.96000000e-03]\n",
      "[ 41.56531265  42.05442606  42.53958784 ...,  26.85566635  26.77528754\n",
      "  26.69269338]\n",
      "[  0.00000000e+00   4.00000000e-05   8.00000000e-05 ...,   1.57600000e-02\n",
      "   1.58400000e-02   1.59200000e-02]\n",
      "[ 41.56531265  42.05442606  42.53958784 ...,  17.18850611  17.13473827\n",
      "  17.0829798 ]\n",
      "[  0.00000000e+00   4.00000000e-05   8.00000000e-05 ...,   2.37600000e-02\n",
      "   2.38400000e-02   2.39200000e-02]\n",
      "[ 41.56531265  42.05442606  42.53958784 ...,  25.37324533  25.34308605\n",
      "  25.3043434 ]\n",
      "[  0.00000000e+00   4.00000000e-05   8.00000000e-05 ...,   3.95200000e-02\n",
      "   3.96800000e-02   3.98400000e-02]\n",
      "[ 41.56531265  42.05442606  42.53958784 ...,  13.95774265  13.95269944\n",
      "  13.95363968]\n",
      "[  0.00000000e+00   4.00000000e-05   8.00000000e-05 ...,   5.45500000e-02\n",
      "   5.47000000e-02   5.48500000e-02]\n",
      "[ 41.56531265  42.05442606  42.53958784 ...,  17.70380248  17.72305523\n",
      "  17.74115367]\n",
      "[  0.00000000e+00   4.00000000e-05   8.00000000e-05 ...,   8.55550000e-02\n",
      "   8.58700000e-02   8.61850000e-02]\n",
      "[ 41.56531265  42.05442606  42.53958784 ...,  19.00695896  18.99679821\n",
      "  18.98576428]\n",
      "[  0.00000000e+00   4.00000000e-05   8.00000000e-05 ...,   1.17055000e-01\n",
      "   1.17370000e-01   1.17685000e-01]\n",
      "[ 41.56531265  42.05442606  42.53958784 ...,  10.90059222  10.86757424\n",
      "  10.83783461]\n",
      "[  0.00000000e+00   4.00000000e-05   8.00000000e-05 ...,   1.79110000e-01\n",
      "   1.79740000e-01   1.80370000e-01]\n",
      "[ 41.56531265  42.05442606  42.53958784 ...,   8.69047141   8.67288487\n",
      "   8.65541491]\n",
      "[  0.00000000e+00   4.00000000e-05   8.00000000e-05 ...,   2.42110000e-01\n",
      "   2.42740000e-01   2.43370000e-01]\n",
      "[ 41.56531265  42.05442606  42.53958784 ...,   5.43519552   5.42078358\n",
      "   5.40710235]\n",
      "[  0.00000000e+00   4.00000000e-05   8.00000000e-05 ...,   3.66220000e-01\n",
      "   3.67480000e-01   3.68740000e-01]\n",
      "[ 41.56531265  42.05442606  42.53958784 ...,   5.06928397   5.06232349\n",
      "   5.05502289]\n",
      "[  0.00000000e+00   4.00000000e-05   8.00000000e-05 ...,   4.92220000e-01\n",
      "   4.93480000e-01   4.94740000e-01]\n",
      "[ 41.56531265  42.05442606  42.53958784 ...,   3.38168488   3.36892406\n",
      "   3.35637589]\n",
      "[  0.00000000e+00   4.00000000e-05   8.00000000e-05 ...,   7.40440000e-01\n",
      "   7.42960000e-01   7.45480000e-01]\n",
      "[ 41.56531265  42.05442606  42.53958784 ...,   2.56978981   2.56629978\n",
      "   2.56290571]\n",
      "[  0.00000000e+00   4.00000000e-05   8.00000000e-05 ...,   9.92440000e-01\n",
      "   9.94960000e-01   9.97480000e-01]\n",
      "[ 63.44516399  63.30792353  63.1573579  ...,   2.56978981   2.56629978\n",
      "   2.56290571]\n",
      "[ 0.004    0.00404  0.00408 ...,  0.99244  0.99496  0.99748]\n",
      "[ 30.86995352  30.80000636  30.73201644 ...,   2.56978981   2.56629978\n",
      "   2.56290571]\n",
      "[ 0.008    0.00808  0.00816 ...,  0.99244  0.99496  0.99748]\n",
      "[ 26.60784087  26.52118488  26.43323172 ...,   2.56978981   2.56629978\n",
      "   2.56290571]\n",
      "[ 0.016    0.01608  0.01616 ...,  0.99244  0.99496  0.99748]\n",
      "[ 17.03326479  16.94080355  16.85802198 ...,   2.56978981   2.56629978\n",
      "   2.56290571]\n",
      "[ 0.024    0.02416  0.02432 ...,  0.99244  0.99496  0.99748]\n",
      "[ 25.2568291   25.20561687  25.14948552 ...,   2.56978981   2.56629978\n",
      "   2.56290571]\n",
      "[ 0.04     0.04015  0.0403  ...,  0.99244  0.99496  0.99748]\n",
      "[ 13.96067577  13.98247792  14.00535879 ...,   2.56978981   2.56629978\n",
      "   2.56290571]\n",
      "[ 0.055     0.055315  0.05563  ...,  0.99244   0.99496   0.99748 ]\n",
      "[ 17.75807479  17.77455943  17.79135566 ...,   2.56978981   2.56629978\n",
      "   2.56290571]\n",
      "[ 0.0865    0.086815  0.08713  ...,  0.99244   0.99496   0.99748 ]\n",
      "[ 18.97384495  18.94741704  18.91764319 ...,   2.56978981   2.56629978\n",
      "   2.56290571]\n",
      "[ 0.118    0.11863  0.11926 ...,  0.99244  0.99496  0.99748]\n",
      "[ 10.81144161  10.78675969  10.76210837 ...,   2.56978981   2.56629978\n",
      "   2.56290571]\n",
      "[ 0.181    0.18163  0.18226 ...,  0.99244  0.99496  0.99748]\n",
      "[ 8.63806241  8.60332146  8.5682796  ...,  2.56978981  2.56629978\n",
      "  2.56290571]\n",
      "[ 0.244    0.24526  0.24652 ...,  0.99244  0.99496  0.99748]\n",
      "[ 5.39416246  5.38182097  5.36992248 ...,  2.56978981  2.56629978\n",
      "  2.56290571]\n",
      "[ 0.37     0.37126  0.37252 ...,  0.99244  0.99496  0.99748]\n",
      "[ 5.0473741   5.03164783  5.01577376 ...,  2.56978981  2.56629978\n",
      "  2.56290571]\n",
      "[ 0.496    0.49852  0.50104 ...,  0.99244  0.99496  0.99748]\n",
      "[ 3.34404409  3.33186334  3.31976596 ...,  2.56978981  2.56629978\n",
      "  2.56290571]\n",
      "[ 0.748    0.75052  0.75304 ...,  0.99244  0.99496  0.99748]\n"
     ]
    }
   ],
   "source": [
    "%pdb\n",
    "structure = pt.load(\n",
    "    os.path.join('/home', 'dslochower', 'kirkwood', 'projects', 'smirnoff-host-guest-simulations', \n",
    "                            'systems', 'a-bam-p', 'confirm-original', 'no-ligand', 'full.hmr.noligand.inpcrd'),\n",
    "    os.path.join('/home', 'dslochower', 'kirkwood', 'projects', 'smirnoff-host-guest-simulations', \n",
    "                            'systems', 'a-bam-p', 'confirm-original', 'no-ligand', 'full.hmr.noligand.prmtop'))\n",
    "\n",
    "stripped = structure.strip(':WAT,:Na+,:Cl-')\n",
    "\n",
    "analyze = fe_calc()\n",
    "analyze.prmtop = stripped.topology\n",
    "analyze.trajectory = 'prod.*.nc'\n",
    "analyze.path = os.path.join('/home', 'dslochower', 'kirkwood', 'projects', 'smirnoff-host-guest-simulations', \n",
    "                            'systems', 'a-bam-p', 'confirm-original', 'no-ligand')\n",
    "\n",
    "\n",
    "analyze.restraint_list = conformational_restraints\n",
    "analyze.collect_data()\n",
    "analyze.methods = ['ti-block']\n",
    "analyze.quicker_ti_matrix = True\n",
    "analyze.bootcycles = 1\n",
    "analyze.compute_free_energy()\n",
    "\n"
   ]
  },
  {
   "cell_type": "code",
   "execution_count": 51,
   "metadata": {
    "ExecuteTime": {
     "end_time": "2018-05-31T14:13:33.615948Z",
     "start_time": "2018-05-31T14:13:33.583190Z"
    }
   },
   "outputs": [
    {
     "data": {
      "text/plain": [
       "{'attach': {'ti-block': {'fe': 7.3545865761794946,\n",
       "   'sem': 0.0,\n",
       "   'fe_matrix': array([[ 0.        ,  0.22819704,  0.41496523, ...,  5.57953764,\n",
       "            6.62757863,  7.35458658],\n",
       "          [-0.22819704,  0.        ,  0.        , ...,  0.        ,\n",
       "            0.        ,  7.12384921],\n",
       "          [-0.41496523, -0.        ,  0.        , ...,  0.        ,\n",
       "            0.        ,  6.93838568],\n",
       "          ..., \n",
       "          [-5.57953764, -0.        , -0.        , ...,  0.        ,\n",
       "            0.        ,  1.76868443],\n",
       "          [-6.62757863, -0.        , -0.        , ..., -0.        ,\n",
       "            0.        ,  0.71856542],\n",
       "          [-7.35458658, -7.12384921, -6.93838568, ..., -1.76868443,\n",
       "           -0.71856542,  0.        ]]),\n",
       "   'sem_matrix': array([[ 0.,  0.,  0., ...,  0.,  0.,  0.],\n",
       "          [ 0.,  0.,  0., ...,  0.,  0.,  0.],\n",
       "          [ 0.,  0.,  0., ...,  0.,  0.,  0.],\n",
       "          ..., \n",
       "          [ 0.,  0.,  0., ...,  0.,  0.,  0.],\n",
       "          [ 0.,  0.,  0., ...,  0.,  0.,  0.],\n",
       "          [ 0.,  0.,  0., ...,  0.,  0.,  0.]]),\n",
       "   'n_frames': 75000,\n",
       "   'convergence': [0.0,\n",
       "    0.0,\n",
       "    0.0,\n",
       "    0.0,\n",
       "    0.0,\n",
       "    0.0,\n",
       "    0.0,\n",
       "    0.0,\n",
       "    0.0,\n",
       "    0.0,\n",
       "    0.0,\n",
       "    0.0,\n",
       "    0.0,\n",
       "    0.0,\n",
       "    0.0],\n",
       "   'ordered_convergence': array([ 0.,  0.,  0., ...,  0.,  0.,  0.])}},\n",
       " 'pull': {'ti-block': {'fe': None,\n",
       "   'sem': None,\n",
       "   'fe_matrix': None,\n",
       "   'sem_matrix': None}},\n",
       " 'release': {'ti-block': {'fe': None,\n",
       "   'sem': None,\n",
       "   'fe_matrix': None,\n",
       "   'sem_matrix': None}}}"
      ]
     },
     "execution_count": 51,
     "metadata": {},
     "output_type": "execute_result"
    }
   ],
   "source": [
    "analyze.results"
   ]
  },
  {
   "cell_type": "code",
   "execution_count": null,
   "metadata": {},
   "outputs": [],
   "source": []
  }
 ],
 "metadata": {
  "kernelspec": {
   "display_name": "Python [conda env:smirnoff-paprika]",
   "language": "python",
   "name": "conda-env-smirnoff-paprika-py"
  },
  "language_info": {
   "codemirror_mode": {
    "name": "ipython",
    "version": 3
   },
   "file_extension": ".py",
   "mimetype": "text/x-python",
   "name": "python",
   "nbconvert_exporter": "python",
   "pygments_lexer": "ipython3",
   "version": "3.6.5"
  }
 },
 "nbformat": 4,
 "nbformat_minor": 2
}
