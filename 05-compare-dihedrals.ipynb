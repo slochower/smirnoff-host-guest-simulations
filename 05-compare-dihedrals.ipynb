{
 "cells": [
  {
   "cell_type": "code",
   "execution_count": 1,
   "metadata": {
    "ExecuteTime": {
     "end_time": "2019-04-12T17:15:28.580336Z",
     "start_time": "2019-04-12T17:15:27.517696Z"
    },
    "scrolled": true
   },
   "outputs": [
    {
     "name": "stderr",
     "output_type": "stream",
     "text": [
      "/home/dslochower/data/applications/anaconda3/lib/python3.6/importlib/_bootstrap.py:219: RuntimeWarning: numpy.dtype size changed, may indicate binary incompatibility. Expected 96, got 88\n",
      "  return f(*args, **kwds)\n",
      "/home/dslochower/data/applications/anaconda3/lib/python3.6/importlib/_bootstrap.py:219: RuntimeWarning: numpy.dtype size changed, may indicate binary incompatibility. Expected 96, got 88\n",
      "  return f(*args, **kwds)\n",
      "/home/dslochower/data/applications/anaconda3/lib/python3.6/importlib/_bootstrap.py:219: RuntimeWarning: numpy.dtype size changed, may indicate binary incompatibility. Expected 96, got 88\n",
      "  return f(*args, **kwds)\n"
     ]
    }
   ],
   "source": [
    "import parmed as pmd\n",
    "import numpy as np\n",
    "import os\n",
    "import pandas as pd\n",
    "\n",
    "import matplotlib as mpl\n",
    "import matplotlib.pyplot as plt\n",
    "from matplotlib.gridspec import GridSpec\n",
    "from matplotlib.colors import colorConverter\n",
    "import seaborn as sns\n",
    "\n",
    "%load_ext autoreload\n",
    "%autoreload 2\n",
    "%matplotlib inline\n",
    "%load_ext blackcellmagic"
   ]
  },
  {
   "cell_type": "code",
   "execution_count": 2,
   "metadata": {
    "ExecuteTime": {
     "end_time": "2019-04-12T17:15:28.608437Z",
     "start_time": "2019-04-12T17:15:28.581956Z"
    }
   },
   "outputs": [],
   "source": [
    "from adjustText import adjust_text\n",
    "import plotting"
   ]
  },
  {
   "cell_type": "markdown",
   "metadata": {},
   "source": [
    "# Dihedral parameter comparison.\n",
    "\n",
    "Let's iterate through the structure and look at the parameters, one-by-one. This seems to be the only reliable way to compare apples with apples.\n",
    "\n",
    "First, find the unique set of four atoms, by atom name, in a single alpha-cyclodextrin residue. Then we'll look at the dihedrals applied to these 4 atom sets. Thankfully, when we query ParmEd for a mask of four atoms, ParmEd looks for the atoms in either ordering (e.g., `a-b-c-d` and `d-c-b-a`), which are the same dihedral, but may be listed separately."
   ]
  },
  {
   "cell_type": "code",
   "execution_count": 4,
   "metadata": {
    "ExecuteTime": {
     "end_time": "2019-04-12T17:15:32.111245Z",
     "start_time": "2019-04-12T17:15:31.868749Z"
    }
   },
   "outputs": [],
   "source": [
    "smirnoff_prmtop = pmd.load_file(\"systems/a-bam-p/smirnoff/hg.prmtop\")\n",
    "\n",
    "bgbg_prmtop = pmd.load_file(\"systems/a-bam-p/bgbg-tip3p/hg.topo\")\n",
    "\n",
    "bg2bg2_prmtop = pmd.load_file(\"systems/a-bam-p/bg2bg2-tip3p/vac.topo\")\n"
   ]
  },
  {
   "cell_type": "code",
   "execution_count": 5,
   "metadata": {
    "ExecuteTime": {
     "end_time": "2019-04-12T17:15:32.595993Z",
     "start_time": "2019-04-12T17:15:32.561960Z"
    }
   },
   "outputs": [],
   "source": [
    "def find_dihedrals(structure, residue=5):\n",
    "    df = pd.DataFrame()\n",
    "    for dihedral in structure[f\":{residue}\"].dihedrals:\n",
    "        df = df.append(\n",
    "            pd.DataFrame(\n",
    "                {\n",
    "                    \"atom1\": dihedral.atom1.name,\n",
    "                    \"atom2\": dihedral.atom2.name,\n",
    "                    \"atom3\": dihedral.atom3.name,\n",
    "                    \"atom4\": dihedral.atom4.name,\n",
    "                },\n",
    "                index=[0],\n",
    "            ),\n",
    "            ignore_index=True,\n",
    "        )\n",
    "    return df"
   ]
  },
  {
   "cell_type": "code",
   "execution_count": 6,
   "metadata": {
    "ExecuteTime": {
     "end_time": "2019-04-12T17:15:33.490439Z",
     "start_time": "2019-04-12T17:15:33.058987Z"
    }
   },
   "outputs": [],
   "source": [
    "bgbg_prmtop_dihedrals = find_dihedrals(bgbg_prmtop)\n",
    "bg2bg2_prmtop_dihedrals = find_dihedrals(bg2bg2_prmtop)\n",
    "smirnoff_prmtop_dihedrals = find_dihedrals(smirnoff_prmtop)"
   ]
  },
  {
   "cell_type": "markdown",
   "metadata": {
    "ExecuteTime": {
     "end_time": "2019-01-16T19:45:02.806275Z",
     "start_time": "2019-01-16T19:45:02.686252Z"
    }
   },
   "source": [
    "These are just labeled by *atom name* so it is safe to drop duplicates by only keeping the unique rows."
   ]
  },
  {
   "cell_type": "code",
   "execution_count": 7,
   "metadata": {
    "ExecuteTime": {
     "end_time": "2019-04-12T17:15:34.011875Z",
     "start_time": "2019-04-12T17:15:33.970144Z"
    }
   },
   "outputs": [],
   "source": [
    "bgbg_prmtop_dihedrals.drop_duplicates(inplace=True)\n",
    "bg2bg2_prmtop_dihedrals.drop_duplicates(inplace=True)\n",
    "smirnoff_prmtop_dihedrals.drop_duplicates(inplace=True)"
   ]
  },
  {
   "cell_type": "code",
   "execution_count": 8,
   "metadata": {
    "ExecuteTime": {
     "end_time": "2019-04-12T17:15:34.241593Z",
     "start_time": "2019-04-12T17:15:34.193586Z"
    }
   },
   "outputs": [],
   "source": [
    "assert len(bgbg_prmtop_dihedrals) == len(smirnoff_prmtop_dihedrals)\n",
    "assert len(bgbg_prmtop_dihedrals) == len(bg2bg2_prmtop_dihedrals)"
   ]
  },
  {
   "cell_type": "code",
   "execution_count": 9,
   "metadata": {
    "ExecuteTime": {
     "end_time": "2019-04-12T17:15:34.424986Z",
     "start_time": "2019-04-12T17:15:34.400310Z"
    }
   },
   "outputs": [
    {
     "name": "stdout",
     "output_type": "stream",
     "text": [
      "There are 54 sets of four atoms in the structure.\n"
     ]
    }
   ],
   "source": [
    "print(f\"There are {len(bgbg_prmtop_dihedrals)} sets of four atoms in the structure.\")"
   ]
  },
  {
   "cell_type": "code",
   "execution_count": 10,
   "metadata": {
    "ExecuteTime": {
     "end_time": "2019-04-12T17:15:34.920212Z",
     "start_time": "2019-04-12T17:15:34.881950Z"
    }
   },
   "outputs": [],
   "source": [
    "def parse_parmed_output(printDihedrals_string):\n",
    "    df = pd.DataFrame()\n",
    "    lines = printDihedrals_string.split(\"\\n\")\n",
    "    for line in lines[1:-1]:\n",
    "        df = df.append(\n",
    "            pd.DataFrame(\n",
    "                {\n",
    "                    \"atom1\": \"\".join(line[10:15]),\n",
    "                    \"atom2\": \"\".join(line[30:35]),\n",
    "                    \"atom3\": \"\".join(line[52:57]),\n",
    "                    \"atom4\": \"\".join(line[72:77]),\n",
    "                    \"height\": float(\"\".join(line[89:95])),\n",
    "                    \"periodicity\": float(\"\".join(line[100:105])),\n",
    "                    \"phase\": float(\"\".join(line[111:116])),\n",
    "                    },\n",
    "                index=[0],\n",
    "            ),\n",
    "            ignore_index=True,\n",
    "        )\n",
    "    return df"
   ]
  },
  {
   "cell_type": "code",
   "execution_count": 11,
   "metadata": {
    "ExecuteTime": {
     "end_time": "2019-04-12T17:15:35.436135Z",
     "start_time": "2019-04-12T17:15:35.267447Z"
    }
   },
   "outputs": [],
   "source": [
    "smirnoff_dihedrals = find_dihedrals(smirnoff_prmtop)\n",
    "smirnoff_dihedrals.drop_duplicates(inplace=True)"
   ]
  },
  {
   "cell_type": "code",
   "execution_count": 12,
   "metadata": {
    "ExecuteTime": {
     "end_time": "2019-04-12T17:15:35.705178Z",
     "start_time": "2019-04-12T17:15:35.552376Z"
    }
   },
   "outputs": [],
   "source": [
    "bgbg_dihedrals = find_dihedrals(bgbg_prmtop)\n",
    "bgbg_dihedrals.drop_duplicates(inplace=True)"
   ]
  },
  {
   "cell_type": "code",
   "execution_count": 13,
   "metadata": {
    "ExecuteTime": {
     "end_time": "2019-04-12T17:15:35.865109Z",
     "start_time": "2019-04-12T17:15:35.711216Z"
    }
   },
   "outputs": [],
   "source": [
    "bg2bg2_dihedrals = find_dihedrals(bg2bg2_prmtop)\n",
    "bg2bg2_dihedrals.drop_duplicates(inplace=True)"
   ]
  },
  {
   "cell_type": "code",
   "execution_count": 14,
   "metadata": {
    "ExecuteTime": {
     "end_time": "2019-04-12T17:15:35.911151Z",
     "start_time": "2019-04-12T17:15:35.872238Z"
    }
   },
   "outputs": [],
   "source": [
    "def organize_dihedrals(dihedrals, prmtop):\n",
    "    df = pd.DataFrame()\n",
    "    for index, row in dihedrals.iterrows():\n",
    "        atom1 = row[\"atom1\"]\n",
    "        atom2 = row[\"atom2\"]\n",
    "        atom3 = row[\"atom3\"]\n",
    "        atom4 = row[\"atom4\"]\n",
    "        mask = f\":4@{atom1} :4@{atom2} :4@{atom3} :4@{atom4}\"\n",
    "        parmed_output = str(pmd.tools.actions.printDihedrals(prmtop, mask))\n",
    "        parmed_df = parse_parmed_output(parmed_output)\n",
    "        df = df.append(parmed_df, ignore_index=True)\n",
    "        df = df.round(decimals = 2)\n",
    "    return df"
   ]
  },
  {
   "cell_type": "code",
   "execution_count": 15,
   "metadata": {
    "ExecuteTime": {
     "end_time": "2019-04-12T17:15:37.775487Z",
     "start_time": "2019-04-12T17:15:36.016357Z"
    }
   },
   "outputs": [],
   "source": [
    "smirnoff = organize_dihedrals(smirnoff_dihedrals, smirnoff_prmtop)\n",
    "bgbg = organize_dihedrals(bgbg_dihedrals, bgbg_prmtop)\n",
    "bg2bg2 = organize_dihedrals(bg2bg2_dihedrals, bg2bg2_prmtop)"
   ]
  },
  {
   "cell_type": "code",
   "execution_count": 16,
   "metadata": {
    "ExecuteTime": {
     "end_time": "2019-04-12T17:15:37.810645Z",
     "start_time": "2019-04-12T17:15:37.778100Z"
    }
   },
   "outputs": [],
   "source": [
    "def differing_rows(df_one, df_two):\n",
    "    df = pd.merge(df_one, df_two, how='outer', indicator=True)\n",
    "    rows_in_df1_not_in_df2 = df[df['_merge']=='left_only'][df_one.columns]\n",
    "    rows_in_df2_not_in_df1 = df[df['_merge']=='right_only'][df_two.columns]\n",
    "    differences = rows_in_df1_not_in_df2.merge(rows_in_df2_not_in_df1, \n",
    "                                           on=[\"atom1\", \"atom2\", \"atom3\", \"atom4\", \"periodicity\", \"phase\"],\n",
    "                                           how=\"outer\",\n",
    "                                           suffixes = (\"_one\", \"_two\"))    \n",
    "    return differences"
   ]
  },
  {
   "cell_type": "code",
   "execution_count": 17,
   "metadata": {
    "ExecuteTime": {
     "end_time": "2019-04-12T17:15:38.049336Z",
     "start_time": "2019-04-12T17:15:37.812706Z"
    }
   },
   "outputs": [
    {
     "data": {
      "text/html": [
       "<div>\n",
       "<style scoped>\n",
       "    .dataframe tbody tr th:only-of-type {\n",
       "        vertical-align: middle;\n",
       "    }\n",
       "\n",
       "    .dataframe tbody tr th {\n",
       "        vertical-align: top;\n",
       "    }\n",
       "\n",
       "    .dataframe thead th {\n",
       "        text-align: right;\n",
       "    }\n",
       "</style>\n",
       "<table border=\"1\" class=\"dataframe\">\n",
       "  <thead>\n",
       "    <tr style=\"text-align: right;\">\n",
       "      <th></th>\n",
       "      <th>atom1</th>\n",
       "      <th>atom2</th>\n",
       "      <th>atom3</th>\n",
       "      <th>atom4</th>\n",
       "      <th>height_one</th>\n",
       "      <th>periodicity</th>\n",
       "      <th>phase</th>\n",
       "      <th>height_two</th>\n",
       "    </tr>\n",
       "  </thead>\n",
       "  <tbody>\n",
       "    <tr>\n",
       "      <th>0</th>\n",
       "      <td>H1</td>\n",
       "      <td>C1</td>\n",
       "      <td>C2</td>\n",
       "      <td>O2</td>\n",
       "      <td>0.00</td>\n",
       "      <td>3.0</td>\n",
       "      <td>0.0</td>\n",
       "      <td>0.16</td>\n",
       "    </tr>\n",
       "    <tr>\n",
       "      <th>1</th>\n",
       "      <td>H1</td>\n",
       "      <td>C1</td>\n",
       "      <td>C2</td>\n",
       "      <td>O2</td>\n",
       "      <td>0.25</td>\n",
       "      <td>1.0</td>\n",
       "      <td>0.0</td>\n",
       "      <td>NaN</td>\n",
       "    </tr>\n",
       "    <tr>\n",
       "      <th>2</th>\n",
       "      <td>H1</td>\n",
       "      <td>C1</td>\n",
       "      <td>C2</td>\n",
       "      <td>H2</td>\n",
       "      <td>0.15</td>\n",
       "      <td>3.0</td>\n",
       "      <td>0.0</td>\n",
       "      <td>0.16</td>\n",
       "    </tr>\n",
       "    <tr>\n",
       "      <th>3</th>\n",
       "      <td>H2</td>\n",
       "      <td>C2</td>\n",
       "      <td>C3</td>\n",
       "      <td>H3</td>\n",
       "      <td>0.15</td>\n",
       "      <td>3.0</td>\n",
       "      <td>0.0</td>\n",
       "      <td>0.16</td>\n",
       "    </tr>\n",
       "    <tr>\n",
       "      <th>4</th>\n",
       "      <td>H3</td>\n",
       "      <td>C3</td>\n",
       "      <td>C4</td>\n",
       "      <td>H4</td>\n",
       "      <td>0.15</td>\n",
       "      <td>3.0</td>\n",
       "      <td>0.0</td>\n",
       "      <td>0.16</td>\n",
       "    </tr>\n",
       "    <tr>\n",
       "      <th>5</th>\n",
       "      <td>H4</td>\n",
       "      <td>C4</td>\n",
       "      <td>C5</td>\n",
       "      <td>H5</td>\n",
       "      <td>0.15</td>\n",
       "      <td>3.0</td>\n",
       "      <td>0.0</td>\n",
       "      <td>0.16</td>\n",
       "    </tr>\n",
       "    <tr>\n",
       "      <th>6</th>\n",
       "      <td>H5</td>\n",
       "      <td>C5</td>\n",
       "      <td>C6</td>\n",
       "      <td>H61</td>\n",
       "      <td>0.15</td>\n",
       "      <td>3.0</td>\n",
       "      <td>0.0</td>\n",
       "      <td>0.16</td>\n",
       "    </tr>\n",
       "    <tr>\n",
       "      <th>7</th>\n",
       "      <td>H5</td>\n",
       "      <td>C5</td>\n",
       "      <td>C6</td>\n",
       "      <td>H62</td>\n",
       "      <td>0.15</td>\n",
       "      <td>3.0</td>\n",
       "      <td>0.0</td>\n",
       "      <td>0.16</td>\n",
       "    </tr>\n",
       "  </tbody>\n",
       "</table>\n",
       "</div>"
      ],
      "text/plain": [
       "   atom1  atom2  atom3  atom4  height_one  periodicity  phase  height_two\n",
       "0    H1      C1    C2      O2        0.00          3.0    0.0        0.16\n",
       "1    H1      C1    C2      O2        0.25          1.0    0.0         NaN\n",
       "2    H1      C1    C2      H2        0.15          3.0    0.0        0.16\n",
       "3    H2      C2    C3      H3        0.15          3.0    0.0        0.16\n",
       "4    H3      C3    C4      H4        0.15          3.0    0.0        0.16\n",
       "5    H4      C4    C5      H5        0.15          3.0    0.0        0.16\n",
       "6    H5      C5    C6     H61        0.15          3.0    0.0        0.16\n",
       "7    H5      C5    C6     H62        0.15          3.0    0.0        0.16"
      ]
     },
     "execution_count": 17,
     "metadata": {},
     "output_type": "execute_result"
    }
   ],
   "source": [
    "differences = differing_rows(smirnoff, bgbg)\n",
    "differences"
   ]
  },
  {
   "cell_type": "markdown",
   "metadata": {},
   "source": [
    "All of the differences come from H-C-C-O, or H-C-C-H (which is a really tiny difference.) \n",
    "\n",
    "For each of these differences, we should find the other terms involving these atoms."
   ]
  },
  {
   "cell_type": "code",
   "execution_count": 18,
   "metadata": {
    "ExecuteTime": {
     "end_time": "2019-04-12T17:15:38.149146Z",
     "start_time": "2019-04-12T17:15:38.051294Z"
    }
   },
   "outputs": [],
   "source": [
    "def detail_differences(differences, df_one, df_two):\n",
    "\n",
    "    comprehensive_differences = pd.DataFrame()\n",
    "\n",
    "    for index, row in differences.iterrows():\n",
    "        one = df_one[\n",
    "            (df_one[\"atom1\"] == row[\"atom1\"])\n",
    "            & (df_one[\"atom2\"] == row[\"atom2\"])\n",
    "            & (df_one[\"atom3\"] == row[\"atom3\"])\n",
    "            & (df_one[\"atom4\"] == row[\"atom4\"])\n",
    "        ]\n",
    "\n",
    "        two = df_two[\n",
    "            (df_two[\"atom1\"] == row[\"atom1\"])\n",
    "            & (df_two[\"atom2\"] == row[\"atom2\"])\n",
    "            & (df_two[\"atom3\"] == row[\"atom3\"])\n",
    "            & (df_two[\"atom4\"] == row[\"atom4\"])\n",
    "        ]\n",
    "\n",
    "        this_dihedral_differences = one.merge(\n",
    "            two,\n",
    "            how=\"outer\",\n",
    "            on=[\"atom1\", \"atom2\", \"atom3\", \"atom4\", \"periodicity\", \"phase\"],\n",
    "        )\n",
    "        comprehensive_differences = comprehensive_differences.append(\n",
    "            this_dihedral_differences, ignore_index=True\n",
    "        )\n",
    "    rows_with_missing_data = comprehensive_differences[\n",
    "        comprehensive_differences.isnull().any(axis=1)\n",
    "    ]\n",
    "    dihedrals_to_exclude = pd.DataFrame()\n",
    "    for index, row in rows_with_missing_data.iterrows():\n",
    "        dihedrals_to_exclude = dihedrals_to_exclude.append(\n",
    "            pd.DataFrame(\n",
    "                {\n",
    "                    \"atom1\": row[\"atom1\"],\n",
    "                    \"atom2\": row[\"atom2\"],\n",
    "                    \"atom3\": row[\"atom3\"],\n",
    "                    \"atom4\": row[\"atom4\"],\n",
    "                },\n",
    "                index=[0],\n",
    "            ),\n",
    "            ignore_index=True,\n",
    "        )\n",
    "\n",
    "    if len(comprehensive_differences) > 1:\n",
    "        # https://stackoverflow.com/questions/33282119/pandas-filter-dataframe-by-another-dataframe-by-row-elements\n",
    "        keys = list(dihedrals_to_exclude.columns.values)\n",
    "        i1 = comprehensive_differences.set_index(keys).index\n",
    "        i2 = dihedrals_to_exclude.set_index(keys).index\n",
    "        comprehensive_differences = comprehensive_differences[~i1.isin(i2)]\n",
    "\n",
    "        comprehensive_differences = comprehensive_differences.sort_values(\n",
    "            by=[\"atom1\", \"atom2\", \"atom3\", \"atom4\", \"periodicity\"]\n",
    "        )\n",
    "        return comprehensive_differences[\n",
    "            [\n",
    "                \"atom1\",\n",
    "                \"atom2\",\n",
    "                \"atom3\",\n",
    "                \"atom4\",\n",
    "                \"periodicity\",\n",
    "                \"phase\",\n",
    "                \"height_x\",\n",
    "                \"height_y\",\n",
    "            ]\n",
    "        ]\n",
    "    else:\n",
    "        return pd.DataFrame()\n"
   ]
  },
  {
   "cell_type": "code",
   "execution_count": 19,
   "metadata": {
    "ExecuteTime": {
     "end_time": "2019-04-12T17:15:38.382368Z",
     "start_time": "2019-04-12T17:15:38.150852Z"
    }
   },
   "outputs": [
    {
     "data": {
      "text/html": [
       "<div>\n",
       "<style scoped>\n",
       "    .dataframe tbody tr th:only-of-type {\n",
       "        vertical-align: middle;\n",
       "    }\n",
       "\n",
       "    .dataframe tbody tr th {\n",
       "        vertical-align: top;\n",
       "    }\n",
       "\n",
       "    .dataframe thead th {\n",
       "        text-align: right;\n",
       "    }\n",
       "</style>\n",
       "<table border=\"1\" class=\"dataframe\">\n",
       "  <thead>\n",
       "    <tr style=\"text-align: right;\">\n",
       "      <th></th>\n",
       "      <th>atom1</th>\n",
       "      <th>atom2</th>\n",
       "      <th>atom3</th>\n",
       "      <th>atom4</th>\n",
       "      <th>periodicity</th>\n",
       "      <th>phase</th>\n",
       "      <th>height_x</th>\n",
       "      <th>height_y</th>\n",
       "    </tr>\n",
       "  </thead>\n",
       "  <tbody>\n",
       "    <tr>\n",
       "      <th>4</th>\n",
       "      <td>H1</td>\n",
       "      <td>C1</td>\n",
       "      <td>C2</td>\n",
       "      <td>H2</td>\n",
       "      <td>3.0</td>\n",
       "      <td>0.0</td>\n",
       "      <td>0.15</td>\n",
       "      <td>0.16</td>\n",
       "    </tr>\n",
       "    <tr>\n",
       "      <th>5</th>\n",
       "      <td>H2</td>\n",
       "      <td>C2</td>\n",
       "      <td>C3</td>\n",
       "      <td>H3</td>\n",
       "      <td>3.0</td>\n",
       "      <td>0.0</td>\n",
       "      <td>0.15</td>\n",
       "      <td>0.16</td>\n",
       "    </tr>\n",
       "    <tr>\n",
       "      <th>6</th>\n",
       "      <td>H3</td>\n",
       "      <td>C3</td>\n",
       "      <td>C4</td>\n",
       "      <td>H4</td>\n",
       "      <td>3.0</td>\n",
       "      <td>0.0</td>\n",
       "      <td>0.15</td>\n",
       "      <td>0.16</td>\n",
       "    </tr>\n",
       "    <tr>\n",
       "      <th>7</th>\n",
       "      <td>H4</td>\n",
       "      <td>C4</td>\n",
       "      <td>C5</td>\n",
       "      <td>H5</td>\n",
       "      <td>3.0</td>\n",
       "      <td>0.0</td>\n",
       "      <td>0.15</td>\n",
       "      <td>0.16</td>\n",
       "    </tr>\n",
       "    <tr>\n",
       "      <th>8</th>\n",
       "      <td>H5</td>\n",
       "      <td>C5</td>\n",
       "      <td>C6</td>\n",
       "      <td>H61</td>\n",
       "      <td>3.0</td>\n",
       "      <td>0.0</td>\n",
       "      <td>0.15</td>\n",
       "      <td>0.16</td>\n",
       "    </tr>\n",
       "    <tr>\n",
       "      <th>9</th>\n",
       "      <td>H5</td>\n",
       "      <td>C5</td>\n",
       "      <td>C6</td>\n",
       "      <td>H62</td>\n",
       "      <td>3.0</td>\n",
       "      <td>0.0</td>\n",
       "      <td>0.15</td>\n",
       "      <td>0.16</td>\n",
       "    </tr>\n",
       "  </tbody>\n",
       "</table>\n",
       "</div>"
      ],
      "text/plain": [
       "   atom1  atom2  atom3  atom4  periodicity  phase  height_x  height_y\n",
       "4    H1      C1    C2      H2          3.0    0.0      0.15      0.16\n",
       "5    H2      C2    C3      H3          3.0    0.0      0.15      0.16\n",
       "6    H3      C3    C4      H4          3.0    0.0      0.15      0.16\n",
       "7    H4      C4    C5      H5          3.0    0.0      0.15      0.16\n",
       "8    H5      C5    C6     H61          3.0    0.0      0.15      0.16\n",
       "9    H5      C5    C6     H62          3.0    0.0      0.15      0.16"
      ]
     },
     "execution_count": 19,
     "metadata": {},
     "output_type": "execute_result"
    }
   ],
   "source": [
    "detail_differences(differences, smirnoff, bgbg)"
   ]
  },
  {
   "cell_type": "markdown",
   "metadata": {},
   "source": [
    "Now let's print things that aren't *just* differences of in height."
   ]
  },
  {
   "cell_type": "code",
   "execution_count": 20,
   "metadata": {
    "ExecuteTime": {
     "end_time": "2019-04-12T17:15:38.731559Z",
     "start_time": "2019-04-12T17:15:38.704271Z"
    },
    "scrolled": false
   },
   "outputs": [],
   "source": [
    "def missing(df):\n",
    "    missing = df[df.isnull().any(axis=1)]\n",
    "    return missing"
   ]
  },
  {
   "cell_type": "code",
   "execution_count": 21,
   "metadata": {
    "ExecuteTime": {
     "end_time": "2019-04-12T17:15:39.400386Z",
     "start_time": "2019-04-12T17:15:39.360837Z"
    }
   },
   "outputs": [
    {
     "data": {
      "text/html": [
       "<div>\n",
       "<style scoped>\n",
       "    .dataframe tbody tr th:only-of-type {\n",
       "        vertical-align: middle;\n",
       "    }\n",
       "\n",
       "    .dataframe tbody tr th {\n",
       "        vertical-align: top;\n",
       "    }\n",
       "\n",
       "    .dataframe thead th {\n",
       "        text-align: right;\n",
       "    }\n",
       "</style>\n",
       "<table border=\"1\" class=\"dataframe\">\n",
       "  <thead>\n",
       "    <tr style=\"text-align: right;\">\n",
       "      <th></th>\n",
       "      <th>atom1</th>\n",
       "      <th>atom2</th>\n",
       "      <th>atom3</th>\n",
       "      <th>atom4</th>\n",
       "      <th>height_one</th>\n",
       "      <th>periodicity</th>\n",
       "      <th>phase</th>\n",
       "      <th>height_two</th>\n",
       "    </tr>\n",
       "  </thead>\n",
       "  <tbody>\n",
       "    <tr>\n",
       "      <th>1</th>\n",
       "      <td>H1</td>\n",
       "      <td>C1</td>\n",
       "      <td>C2</td>\n",
       "      <td>O2</td>\n",
       "      <td>0.25</td>\n",
       "      <td>1.0</td>\n",
       "      <td>0.0</td>\n",
       "      <td>NaN</td>\n",
       "    </tr>\n",
       "  </tbody>\n",
       "</table>\n",
       "</div>"
      ],
      "text/plain": [
       "   atom1  atom2  atom3  atom4  height_one  periodicity  phase  height_two\n",
       "1    H1      C1    C2      O2        0.25          1.0    0.0         NaN"
      ]
     },
     "execution_count": 21,
     "metadata": {},
     "output_type": "execute_result"
    }
   ],
   "source": [
    "missing_dihedrals = missing(differences)\n",
    "missing_dihedrals.head()"
   ]
  },
  {
   "cell_type": "markdown",
   "metadata": {},
   "source": [
    "But to tell the complete story, for each of these dihedrals, we should print what either FF has for those given atoms (i.e., not just the missing terms here, but all the terms for these atoms.)"
   ]
  },
  {
   "cell_type": "code",
   "execution_count": 22,
   "metadata": {
    "ExecuteTime": {
     "end_time": "2019-04-12T17:15:40.153072Z",
     "start_time": "2019-04-12T17:15:40.071221Z"
    }
   },
   "outputs": [],
   "source": [
    "def detail_missing(missing, df_one, df_two):\n",
    "\n",
    "    comprehensive_missing = pd.DataFrame()\n",
    "\n",
    "    for index, row in missing.iterrows():\n",
    "        one = df_one[\n",
    "            (df_one[\"atom1\"] == row[\"atom1\"])\n",
    "            & (df_one[\"atom2\"] == row[\"atom2\"])\n",
    "            & (df_one[\"atom3\"] == row[\"atom3\"])\n",
    "            & (df_one[\"atom4\"] == row[\"atom4\"])\n",
    "        ]\n",
    "\n",
    "        two = df_two[\n",
    "            (df_two[\"atom1\"] == row[\"atom1\"])\n",
    "            & (df_two[\"atom2\"] == row[\"atom2\"])\n",
    "            & (df_two[\"atom3\"] == row[\"atom3\"])\n",
    "            & (df_two[\"atom4\"] == row[\"atom4\"])\n",
    "        ]\n",
    "\n",
    "        this_dihedral_differences = one.merge(\n",
    "            two,\n",
    "            how=\"outer\",\n",
    "            on=[\"atom1\", \"atom2\", \"atom3\", \"atom4\", \"periodicity\", \"phase\"],\n",
    "        )\n",
    "        comprehensive_missing = comprehensive_missing.append(\n",
    "            this_dihedral_differences, ignore_index=True\n",
    "        )\n",
    "    comprehensive_missing = comprehensive_missing.replace(np.nan, \"--\", regex=True)\n",
    "\n",
    "\n",
    "    comprehensive_missing = comprehensive_missing.sort_values(by=[\"atom1\", \"atom2\", \"atom3\", \"atom4\", \"periodicity\"])\n",
    "    return comprehensive_missing[[\"atom1\", \"atom2\", \"atom3\", \"atom4\", \"periodicity\", \"phase\", \"height_x\", \"height_y\"]]"
   ]
  },
  {
   "cell_type": "code",
   "execution_count": 23,
   "metadata": {
    "ExecuteTime": {
     "end_time": "2019-04-12T17:15:40.838911Z",
     "start_time": "2019-04-12T17:15:40.769369Z"
    }
   },
   "outputs": [
    {
     "data": {
      "text/html": [
       "<div>\n",
       "<style scoped>\n",
       "    .dataframe tbody tr th:only-of-type {\n",
       "        vertical-align: middle;\n",
       "    }\n",
       "\n",
       "    .dataframe tbody tr th {\n",
       "        vertical-align: top;\n",
       "    }\n",
       "\n",
       "    .dataframe thead th {\n",
       "        text-align: right;\n",
       "    }\n",
       "</style>\n",
       "<table border=\"1\" class=\"dataframe\">\n",
       "  <thead>\n",
       "    <tr style=\"text-align: right;\">\n",
       "      <th></th>\n",
       "      <th>atom1</th>\n",
       "      <th>atom2</th>\n",
       "      <th>atom3</th>\n",
       "      <th>atom4</th>\n",
       "      <th>periodicity</th>\n",
       "      <th>phase</th>\n",
       "      <th>height_x</th>\n",
       "      <th>height_y</th>\n",
       "    </tr>\n",
       "  </thead>\n",
       "  <tbody>\n",
       "    <tr>\n",
       "      <th>1</th>\n",
       "      <td>H1</td>\n",
       "      <td>C1</td>\n",
       "      <td>C2</td>\n",
       "      <td>O2</td>\n",
       "      <td>1.0</td>\n",
       "      <td>0.0</td>\n",
       "      <td>0.25</td>\n",
       "      <td>--</td>\n",
       "    </tr>\n",
       "    <tr>\n",
       "      <th>0</th>\n",
       "      <td>H1</td>\n",
       "      <td>C1</td>\n",
       "      <td>C2</td>\n",
       "      <td>O2</td>\n",
       "      <td>3.0</td>\n",
       "      <td>0.0</td>\n",
       "      <td>0.00</td>\n",
       "      <td>0.16</td>\n",
       "    </tr>\n",
       "  </tbody>\n",
       "</table>\n",
       "</div>"
      ],
      "text/plain": [
       "   atom1  atom2  atom3  atom4  periodicity  phase  height_x height_y\n",
       "1    H1      C1    C2      O2          1.0    0.0      0.25       --\n",
       "0    H1      C1    C2      O2          3.0    0.0      0.00     0.16"
      ]
     },
     "execution_count": 23,
     "metadata": {},
     "output_type": "execute_result"
    }
   ],
   "source": [
    "detail_missing(missing_dihedrals, smirnoff, bgbg)"
   ]
  },
  {
   "cell_type": "markdown",
   "metadata": {},
   "source": [
    "## Work specifically on the interresidue dihedrals"
   ]
  },
  {
   "cell_type": "code",
   "execution_count": 24,
   "metadata": {
    "ExecuteTime": {
     "end_time": "2019-04-12T17:15:41.804284Z",
     "start_time": "2019-04-12T17:15:41.751728Z"
    }
   },
   "outputs": [],
   "source": [
    "interresidue_masks = [\n",
    "\":5@C2 :5@C1 :5@O1 :6@C4\",\n",
    "\":5@O5 :5@C1 :5@O1 :6@C4\",\n",
    "\":5@H1 :5@C1 :5@O1 :6@C4\",\n",
    "\":5@C1 :5@O1 :6@C4 :6@H4\",\n",
    "\":5@C1 :5@O1 :6@C4 :6@C3\",\n",
    "\":5@C1 :5@O1 :6@C4 :6@C5\",\n",
    "\":5@O1 :6@C4 :6@C3 :6@H3\",\n",
    "\":5@O1 :6@C4 :6@C3 :6@O3\",\n",
    "\":5@O1 :6@C4 :6@C3 :6@C2\",\n",
    "\":5@O1 :6@C4 :6@C5 :6@H5\",\n",
    "\":5@O1 :6@C4 :6@C5 :6@O5\",\n",
    "\":5@O1 :6@C4 :6@C5 :6@C6\",\n",
    "]"
   ]
  },
  {
   "cell_type": "code",
   "execution_count": 25,
   "metadata": {
    "ExecuteTime": {
     "end_time": "2019-04-12T17:15:42.316563Z",
     "start_time": "2019-04-12T17:15:42.273668Z"
    }
   },
   "outputs": [],
   "source": [
    "def organize_interresidue_dihedrals(masks, prmtop):\n",
    "    df = pd.DataFrame()\n",
    "    for index, mask in enumerate(masks):\n",
    "        atoms = mask.split(\" \")\n",
    "        mask = f\":4@{atoms[0]} :4@{atoms[1]} :4@{atoms[2]} :4@{atoms[3]}\"\n",
    "        parmed_output = str(pmd.tools.actions.printDihedrals(prmtop, mask))\n",
    "        parmed_df = parse_parmed_output(parmed_output)\n",
    "        df = df.append(parmed_df, ignore_index=True)\n",
    "        df = df.round(decimals = 2)\n",
    "    return df"
   ]
  },
  {
   "cell_type": "code",
   "execution_count": 26,
   "metadata": {
    "ExecuteTime": {
     "end_time": "2019-04-12T17:15:43.011294Z",
     "start_time": "2019-04-12T17:15:42.657353Z"
    }
   },
   "outputs": [],
   "source": [
    "smirnoff_interresidue = organize_interresidue_dihedrals(interresidue_masks, smirnoff_prmtop)\n",
    "smirnoff_interresidue.drop_duplicates(inplace=True)\n",
    "\n",
    "bgbg_interresidue = organize_interresidue_dihedrals(interresidue_masks, bgbg_prmtop)\n",
    "bgbg_interresidue.drop_duplicates(inplace=True)"
   ]
  },
  {
   "cell_type": "code",
   "execution_count": 27,
   "metadata": {
    "ExecuteTime": {
     "end_time": "2019-04-12T17:15:43.058319Z",
     "start_time": "2019-04-12T17:15:43.012899Z"
    }
   },
   "outputs": [],
   "source": [
    "interresidue_differences = differing_rows(smirnoff_interresidue, bgbg_interresidue)"
   ]
  },
  {
   "cell_type": "code",
   "execution_count": 28,
   "metadata": {
    "ExecuteTime": {
     "end_time": "2019-04-12T17:15:43.522945Z",
     "start_time": "2019-04-12T17:15:43.489139Z"
    }
   },
   "outputs": [
    {
     "data": {
      "text/html": [
       "<div>\n",
       "<style scoped>\n",
       "    .dataframe tbody tr th:only-of-type {\n",
       "        vertical-align: middle;\n",
       "    }\n",
       "\n",
       "    .dataframe tbody tr th {\n",
       "        vertical-align: top;\n",
       "    }\n",
       "\n",
       "    .dataframe thead th {\n",
       "        text-align: right;\n",
       "    }\n",
       "</style>\n",
       "<table border=\"1\" class=\"dataframe\">\n",
       "  <thead>\n",
       "    <tr style=\"text-align: right;\">\n",
       "      <th></th>\n",
       "      <th>height_one</th>\n",
       "      <th>atom1</th>\n",
       "      <th>atom2</th>\n",
       "      <th>atom3</th>\n",
       "      <th>atom4</th>\n",
       "      <th>height_two</th>\n",
       "      <th>periodicity</th>\n",
       "      <th>phase</th>\n",
       "    </tr>\n",
       "  </thead>\n",
       "  <tbody>\n",
       "  </tbody>\n",
       "</table>\n",
       "</div>"
      ],
      "text/plain": [
       "Empty DataFrame\n",
       "Columns: [height_one, atom1, atom2, atom3, atom4, height_two, periodicity, phase]\n",
       "Index: []"
      ]
     },
     "execution_count": 28,
     "metadata": {},
     "output_type": "execute_result"
    }
   ],
   "source": [
    "interresidue_differences.head()"
   ]
  },
  {
   "cell_type": "markdown",
   "metadata": {},
   "source": [
    "# Now, test on BG2BG2"
   ]
  },
  {
   "cell_type": "code",
   "execution_count": 29,
   "metadata": {
    "ExecuteTime": {
     "end_time": "2019-04-12T17:15:44.707500Z",
     "start_time": "2019-04-12T17:15:44.616043Z"
    }
   },
   "outputs": [],
   "source": [
    "differences = differing_rows(smirnoff, bg2bg2)"
   ]
  },
  {
   "cell_type": "markdown",
   "metadata": {},
   "source": [
    "Here are the dihedral differences that don't have any missing terms."
   ]
  },
  {
   "cell_type": "code",
   "execution_count": 30,
   "metadata": {
    "ExecuteTime": {
     "end_time": "2019-04-12T17:15:45.962105Z",
     "start_time": "2019-04-12T17:15:45.200955Z"
    }
   },
   "outputs": [],
   "source": [
    "detailed_differences = detail_differences(differences, smirnoff, bg2bg2).drop_duplicates()"
   ]
  },
  {
   "cell_type": "code",
   "execution_count": 31,
   "metadata": {
    "ExecuteTime": {
     "end_time": "2019-04-12T17:15:46.003782Z",
     "start_time": "2019-04-12T17:15:45.964106Z"
    }
   },
   "outputs": [
    {
     "data": {
      "text/html": [
       "<div>\n",
       "<style scoped>\n",
       "    .dataframe tbody tr th:only-of-type {\n",
       "        vertical-align: middle;\n",
       "    }\n",
       "\n",
       "    .dataframe tbody tr th {\n",
       "        vertical-align: top;\n",
       "    }\n",
       "\n",
       "    .dataframe thead th {\n",
       "        text-align: right;\n",
       "    }\n",
       "</style>\n",
       "<table border=\"1\" class=\"dataframe\">\n",
       "  <thead>\n",
       "    <tr style=\"text-align: right;\">\n",
       "      <th></th>\n",
       "      <th>atom1</th>\n",
       "      <th>atom2</th>\n",
       "      <th>atom3</th>\n",
       "      <th>atom4</th>\n",
       "      <th>periodicity</th>\n",
       "      <th>phase</th>\n",
       "      <th>height_x</th>\n",
       "      <th>height_y</th>\n",
       "    </tr>\n",
       "  </thead>\n",
       "  <tbody>\n",
       "    <tr>\n",
       "      <th>20</th>\n",
       "      <td>C1</td>\n",
       "      <td>C2</td>\n",
       "      <td>C3</td>\n",
       "      <td>C4</td>\n",
       "      <td>1.0</td>\n",
       "      <td>0.0</td>\n",
       "      <td>0.20</td>\n",
       "      <td>0.11</td>\n",
       "    </tr>\n",
       "    <tr>\n",
       "      <th>19</th>\n",
       "      <td>C1</td>\n",
       "      <td>C2</td>\n",
       "      <td>C3</td>\n",
       "      <td>C4</td>\n",
       "      <td>2.0</td>\n",
       "      <td>0.0</td>\n",
       "      <td>0.25</td>\n",
       "      <td>0.29</td>\n",
       "    </tr>\n",
       "    <tr>\n",
       "      <th>18</th>\n",
       "      <td>C1</td>\n",
       "      <td>C2</td>\n",
       "      <td>C3</td>\n",
       "      <td>C4</td>\n",
       "      <td>3.0</td>\n",
       "      <td>0.0</td>\n",
       "      <td>0.18</td>\n",
       "      <td>0.13</td>\n",
       "    </tr>\n",
       "    <tr>\n",
       "      <th>17</th>\n",
       "      <td>C1</td>\n",
       "      <td>C2</td>\n",
       "      <td>C3</td>\n",
       "      <td>O3</td>\n",
       "      <td>3.0</td>\n",
       "      <td>0.0</td>\n",
       "      <td>0.16</td>\n",
       "      <td>0.21</td>\n",
       "    </tr>\n",
       "    <tr>\n",
       "      <th>114</th>\n",
       "      <td>C1</td>\n",
       "      <td>O5</td>\n",
       "      <td>C5</td>\n",
       "      <td>H5</td>\n",
       "      <td>3.0</td>\n",
       "      <td>0.0</td>\n",
       "      <td>0.38</td>\n",
       "      <td>0.34</td>\n",
       "    </tr>\n",
       "  </tbody>\n",
       "</table>\n",
       "</div>"
      ],
      "text/plain": [
       "     atom1  atom2  atom3  atom4  periodicity  phase  height_x  height_y\n",
       "20     C1      C2    C3      C4          1.0    0.0      0.20      0.11\n",
       "19     C1      C2    C3      C4          2.0    0.0      0.25      0.29\n",
       "18     C1      C2    C3      C4          3.0    0.0      0.18      0.13\n",
       "17     C1      C2    C3      O3          3.0    0.0      0.16      0.21\n",
       "114    C1      O5    C5      H5          3.0    0.0      0.38      0.34"
      ]
     },
     "execution_count": 31,
     "metadata": {},
     "output_type": "execute_result"
    }
   ],
   "source": [
    "detailed_differences.head()"
   ]
  },
  {
   "cell_type": "code",
   "execution_count": 32,
   "metadata": {
    "ExecuteTime": {
     "end_time": "2019-04-12T17:15:46.249859Z",
     "start_time": "2019-04-12T17:15:46.006383Z"
    }
   },
   "outputs": [],
   "source": [
    "missing_dihedrals = missing(differences)\n",
    "detailed = detail_missing(missing_dihedrals, smirnoff, bg2bg2)"
   ]
  },
  {
   "cell_type": "markdown",
   "metadata": {},
   "source": [
    "And here are the differences with missing values."
   ]
  },
  {
   "cell_type": "code",
   "execution_count": 33,
   "metadata": {
    "ExecuteTime": {
     "end_time": "2019-04-12T17:15:46.311807Z",
     "start_time": "2019-04-12T17:15:46.267202Z"
    }
   },
   "outputs": [
    {
     "data": {
      "text/html": [
       "<div>\n",
       "<style scoped>\n",
       "    .dataframe tbody tr th:only-of-type {\n",
       "        vertical-align: middle;\n",
       "    }\n",
       "\n",
       "    .dataframe tbody tr th {\n",
       "        vertical-align: top;\n",
       "    }\n",
       "\n",
       "    .dataframe thead th {\n",
       "        text-align: right;\n",
       "    }\n",
       "</style>\n",
       "<table border=\"1\" class=\"dataframe\">\n",
       "  <thead>\n",
       "    <tr style=\"text-align: right;\">\n",
       "      <th></th>\n",
       "      <th>atom1</th>\n",
       "      <th>atom2</th>\n",
       "      <th>atom3</th>\n",
       "      <th>atom4</th>\n",
       "      <th>periodicity</th>\n",
       "      <th>phase</th>\n",
       "      <th>height_x</th>\n",
       "      <th>height_y</th>\n",
       "    </tr>\n",
       "  </thead>\n",
       "  <tbody>\n",
       "    <tr>\n",
       "      <th>5</th>\n",
       "      <td>C1</td>\n",
       "      <td>C2</td>\n",
       "      <td>O2</td>\n",
       "      <td>HO2</td>\n",
       "      <td>1.0</td>\n",
       "      <td>0.0</td>\n",
       "      <td>0.25</td>\n",
       "      <td>--</td>\n",
       "    </tr>\n",
       "    <tr>\n",
       "      <th>4</th>\n",
       "      <td>C1</td>\n",
       "      <td>C2</td>\n",
       "      <td>O2</td>\n",
       "      <td>HO2</td>\n",
       "      <td>3.0</td>\n",
       "      <td>0.0</td>\n",
       "      <td>0.16</td>\n",
       "      <td>0</td>\n",
       "    </tr>\n",
       "    <tr>\n",
       "      <th>26</th>\n",
       "      <td>C1</td>\n",
       "      <td>O5</td>\n",
       "      <td>C5</td>\n",
       "      <td>C4</td>\n",
       "      <td>1.0</td>\n",
       "      <td>0.0</td>\n",
       "      <td>--</td>\n",
       "      <td>0</td>\n",
       "    </tr>\n",
       "    <tr>\n",
       "      <th>25</th>\n",
       "      <td>C1</td>\n",
       "      <td>O5</td>\n",
       "      <td>C5</td>\n",
       "      <td>C4</td>\n",
       "      <td>2.0</td>\n",
       "      <td>0.0</td>\n",
       "      <td>0.1</td>\n",
       "      <td>0.16</td>\n",
       "    </tr>\n",
       "    <tr>\n",
       "      <th>24</th>\n",
       "      <td>C1</td>\n",
       "      <td>O5</td>\n",
       "      <td>C5</td>\n",
       "      <td>C4</td>\n",
       "      <td>3.0</td>\n",
       "      <td>0.0</td>\n",
       "      <td>0.38</td>\n",
       "      <td>0.24</td>\n",
       "    </tr>\n",
       "  </tbody>\n",
       "</table>\n",
       "</div>"
      ],
      "text/plain": [
       "    atom1  atom2  atom3  atom4  periodicity  phase height_x height_y\n",
       "5     C1      C2    O2     HO2          1.0    0.0     0.25       --\n",
       "4     C1      C2    O2     HO2          3.0    0.0     0.16        0\n",
       "26    C1      O5    C5      C4          1.0    0.0       --        0\n",
       "25    C1      O5    C5      C4          2.0    0.0      0.1     0.16\n",
       "24    C1      O5    C5      C4          3.0    0.0     0.38     0.24"
      ]
     },
     "execution_count": 33,
     "metadata": {},
     "output_type": "execute_result"
    }
   ],
   "source": [
    "detailed.head()"
   ]
  },
  {
   "cell_type": "code",
   "execution_count": 34,
   "metadata": {
    "ExecuteTime": {
     "end_time": "2019-04-12T17:15:46.917075Z",
     "start_time": "2019-04-12T17:15:46.736211Z"
    }
   },
   "outputs": [],
   "source": [
    "bg2bg2_interresidue = organize_interresidue_dihedrals(interresidue_masks, bg2bg2_prmtop)\n",
    "bg2bg2_interresidue.drop_duplicates(inplace=True)"
   ]
  },
  {
   "cell_type": "code",
   "execution_count": 35,
   "metadata": {
    "ExecuteTime": {
     "end_time": "2019-04-12T17:15:47.335544Z",
     "start_time": "2019-04-12T17:15:47.280251Z"
    }
   },
   "outputs": [],
   "source": [
    "interresidue_differences = differing_rows(smirnoff_interresidue, bg2bg2_interresidue)"
   ]
  },
  {
   "cell_type": "code",
   "execution_count": 36,
   "metadata": {
    "ExecuteTime": {
     "end_time": "2019-04-12T17:15:47.860436Z",
     "start_time": "2019-04-12T17:15:47.632842Z"
    }
   },
   "outputs": [],
   "source": [
    "interresidue_detail_differences = detail_differences(interresidue_differences, smirnoff, bg2bg2)"
   ]
  },
  {
   "cell_type": "code",
   "execution_count": 37,
   "metadata": {
    "ExecuteTime": {
     "end_time": "2019-04-12T17:15:47.888639Z",
     "start_time": "2019-04-12T17:15:47.861933Z"
    }
   },
   "outputs": [
    {
     "data": {
      "text/html": [
       "<div>\n",
       "<style scoped>\n",
       "    .dataframe tbody tr th:only-of-type {\n",
       "        vertical-align: middle;\n",
       "    }\n",
       "\n",
       "    .dataframe tbody tr th {\n",
       "        vertical-align: top;\n",
       "    }\n",
       "\n",
       "    .dataframe thead th {\n",
       "        text-align: right;\n",
       "    }\n",
       "</style>\n",
       "<table border=\"1\" class=\"dataframe\">\n",
       "  <thead>\n",
       "    <tr style=\"text-align: right;\">\n",
       "      <th></th>\n",
       "    </tr>\n",
       "  </thead>\n",
       "  <tbody>\n",
       "  </tbody>\n",
       "</table>\n",
       "</div>"
      ],
      "text/plain": [
       "Empty DataFrame\n",
       "Columns: []\n",
       "Index: []"
      ]
     },
     "execution_count": 37,
     "metadata": {},
     "output_type": "execute_result"
    }
   ],
   "source": [
    "interresidue_detail_differences.head()"
   ]
  },
  {
   "cell_type": "markdown",
   "metadata": {},
   "source": [
    "Thus, all of the differences from inter-residue dihedrals arise due to mismatched periodicity and phases."
   ]
  },
  {
   "cell_type": "code",
   "execution_count": 38,
   "metadata": {
    "ExecuteTime": {
     "end_time": "2019-04-12T17:15:48.610099Z",
     "start_time": "2019-04-12T17:15:48.552567Z"
    }
   },
   "outputs": [],
   "source": [
    "missing_interresidue = missing(interresidue_differences)"
   ]
  },
  {
   "cell_type": "code",
   "execution_count": 39,
   "metadata": {
    "ExecuteTime": {
     "end_time": "2019-04-12T17:15:48.965984Z",
     "start_time": "2019-04-12T17:15:48.848680Z"
    }
   },
   "outputs": [],
   "source": [
    "detailed_interresidue = detail_missing(missing_interresidue, smirnoff_interresidue, bg2bg2_interresidue)"
   ]
  },
  {
   "cell_type": "code",
   "execution_count": 40,
   "metadata": {
    "ExecuteTime": {
     "end_time": "2019-04-12T17:15:49.169701Z",
     "start_time": "2019-04-12T17:15:49.123360Z"
    }
   },
   "outputs": [
    {
     "data": {
      "text/html": [
       "<div>\n",
       "<style scoped>\n",
       "    .dataframe tbody tr th:only-of-type {\n",
       "        vertical-align: middle;\n",
       "    }\n",
       "\n",
       "    .dataframe tbody tr th {\n",
       "        vertical-align: top;\n",
       "    }\n",
       "\n",
       "    .dataframe thead th {\n",
       "        text-align: right;\n",
       "    }\n",
       "</style>\n",
       "<table border=\"1\" class=\"dataframe\">\n",
       "  <thead>\n",
       "    <tr style=\"text-align: right;\">\n",
       "      <th></th>\n",
       "      <th>atom1</th>\n",
       "      <th>atom2</th>\n",
       "      <th>atom3</th>\n",
       "      <th>atom4</th>\n",
       "      <th>periodicity</th>\n",
       "      <th>phase</th>\n",
       "      <th>height_x</th>\n",
       "      <th>height_y</th>\n",
       "    </tr>\n",
       "  </thead>\n",
       "  <tbody>\n",
       "    <tr>\n",
       "      <th>5</th>\n",
       "      <td>C1</td>\n",
       "      <td>O1</td>\n",
       "      <td>C4</td>\n",
       "      <td>C3</td>\n",
       "      <td>1.0</td>\n",
       "      <td>0.0</td>\n",
       "      <td>--</td>\n",
       "      <td>0.00</td>\n",
       "    </tr>\n",
       "    <tr>\n",
       "      <th>4</th>\n",
       "      <td>C1</td>\n",
       "      <td>O1</td>\n",
       "      <td>C4</td>\n",
       "      <td>C3</td>\n",
       "      <td>2.0</td>\n",
       "      <td>0.0</td>\n",
       "      <td>0.1</td>\n",
       "      <td>0.16</td>\n",
       "    </tr>\n",
       "    <tr>\n",
       "      <th>3</th>\n",
       "      <td>C1</td>\n",
       "      <td>O1</td>\n",
       "      <td>C4</td>\n",
       "      <td>C3</td>\n",
       "      <td>3.0</td>\n",
       "      <td>0.0</td>\n",
       "      <td>0.38</td>\n",
       "      <td>0.24</td>\n",
       "    </tr>\n",
       "    <tr>\n",
       "      <th>8</th>\n",
       "      <td>C1</td>\n",
       "      <td>O1</td>\n",
       "      <td>C4</td>\n",
       "      <td>C5</td>\n",
       "      <td>1.0</td>\n",
       "      <td>0.0</td>\n",
       "      <td>--</td>\n",
       "      <td>0.00</td>\n",
       "    </tr>\n",
       "    <tr>\n",
       "      <th>7</th>\n",
       "      <td>C1</td>\n",
       "      <td>O1</td>\n",
       "      <td>C4</td>\n",
       "      <td>C5</td>\n",
       "      <td>2.0</td>\n",
       "      <td>0.0</td>\n",
       "      <td>0.1</td>\n",
       "      <td>0.16</td>\n",
       "    </tr>\n",
       "    <tr>\n",
       "      <th>6</th>\n",
       "      <td>C1</td>\n",
       "      <td>O1</td>\n",
       "      <td>C4</td>\n",
       "      <td>C5</td>\n",
       "      <td>3.0</td>\n",
       "      <td>0.0</td>\n",
       "      <td>0.38</td>\n",
       "      <td>0.24</td>\n",
       "    </tr>\n",
       "    <tr>\n",
       "      <th>2</th>\n",
       "      <td>C2</td>\n",
       "      <td>C1</td>\n",
       "      <td>O1</td>\n",
       "      <td>C4</td>\n",
       "      <td>1.0</td>\n",
       "      <td>0.0</td>\n",
       "      <td>--</td>\n",
       "      <td>0.00</td>\n",
       "    </tr>\n",
       "    <tr>\n",
       "      <th>1</th>\n",
       "      <td>C2</td>\n",
       "      <td>C1</td>\n",
       "      <td>O1</td>\n",
       "      <td>C4</td>\n",
       "      <td>2.0</td>\n",
       "      <td>0.0</td>\n",
       "      <td>0.1</td>\n",
       "      <td>0.16</td>\n",
       "    </tr>\n",
       "    <tr>\n",
       "      <th>0</th>\n",
       "      <td>C2</td>\n",
       "      <td>C1</td>\n",
       "      <td>O1</td>\n",
       "      <td>C4</td>\n",
       "      <td>3.0</td>\n",
       "      <td>0.0</td>\n",
       "      <td>0.38</td>\n",
       "      <td>0.24</td>\n",
       "    </tr>\n",
       "    <tr>\n",
       "      <th>11</th>\n",
       "      <td>O1</td>\n",
       "      <td>C4</td>\n",
       "      <td>C3</td>\n",
       "      <td>O3</td>\n",
       "      <td>1.0</td>\n",
       "      <td>0.0</td>\n",
       "      <td>--</td>\n",
       "      <td>0.02</td>\n",
       "    </tr>\n",
       "    <tr>\n",
       "      <th>10</th>\n",
       "      <td>O1</td>\n",
       "      <td>C4</td>\n",
       "      <td>C3</td>\n",
       "      <td>O3</td>\n",
       "      <td>2.0</td>\n",
       "      <td>0.0</td>\n",
       "      <td>1.18</td>\n",
       "      <td>0.00</td>\n",
       "    </tr>\n",
       "    <tr>\n",
       "      <th>9</th>\n",
       "      <td>O1</td>\n",
       "      <td>C4</td>\n",
       "      <td>C3</td>\n",
       "      <td>O3</td>\n",
       "      <td>3.0</td>\n",
       "      <td>0.0</td>\n",
       "      <td>0.14</td>\n",
       "      <td>1.01</td>\n",
       "    </tr>\n",
       "    <tr>\n",
       "      <th>14</th>\n",
       "      <td>O1</td>\n",
       "      <td>C4</td>\n",
       "      <td>C5</td>\n",
       "      <td>O5</td>\n",
       "      <td>1.0</td>\n",
       "      <td>0.0</td>\n",
       "      <td>--</td>\n",
       "      <td>0.17</td>\n",
       "    </tr>\n",
       "    <tr>\n",
       "      <th>13</th>\n",
       "      <td>O1</td>\n",
       "      <td>C4</td>\n",
       "      <td>C5</td>\n",
       "      <td>O5</td>\n",
       "      <td>2.0</td>\n",
       "      <td>0.0</td>\n",
       "      <td>1.18</td>\n",
       "      <td>0.00</td>\n",
       "    </tr>\n",
       "    <tr>\n",
       "      <th>12</th>\n",
       "      <td>O1</td>\n",
       "      <td>C4</td>\n",
       "      <td>C5</td>\n",
       "      <td>O5</td>\n",
       "      <td>3.0</td>\n",
       "      <td>0.0</td>\n",
       "      <td>0.14</td>\n",
       "      <td>0.00</td>\n",
       "    </tr>\n",
       "  </tbody>\n",
       "</table>\n",
       "</div>"
      ],
      "text/plain": [
       "    atom1  atom2  atom3  atom4  periodicity  phase height_x  height_y\n",
       "5     C1      O1    C4      C3          1.0    0.0       --      0.00\n",
       "4     C1      O1    C4      C3          2.0    0.0      0.1      0.16\n",
       "3     C1      O1    C4      C3          3.0    0.0     0.38      0.24\n",
       "8     C1      O1    C4      C5          1.0    0.0       --      0.00\n",
       "7     C1      O1    C4      C5          2.0    0.0      0.1      0.16\n",
       "6     C1      O1    C4      C5          3.0    0.0     0.38      0.24\n",
       "2     C2      C1    O1      C4          1.0    0.0       --      0.00\n",
       "1     C2      C1    O1      C4          2.0    0.0      0.1      0.16\n",
       "0     C2      C1    O1      C4          3.0    0.0     0.38      0.24\n",
       "11    O1      C4    C3      O3          1.0    0.0       --      0.02\n",
       "10    O1      C4    C3      O3          2.0    0.0     1.18      0.00\n",
       "9     O1      C4    C3      O3          3.0    0.0     0.14      1.01\n",
       "14    O1      C4    C5      O5          1.0    0.0       --      0.17\n",
       "13    O1      C4    C5      O5          2.0    0.0     1.18      0.00\n",
       "12    O1      C4    C5      O5          3.0    0.0     0.14      0.00"
      ]
     },
     "execution_count": 40,
     "metadata": {},
     "output_type": "execute_result"
    }
   ],
   "source": [
    "detailed_interresidue"
   ]
  },
  {
   "cell_type": "code",
   "execution_count": null,
   "metadata": {},
   "outputs": [],
   "source": []
  }
 ],
 "metadata": {
  "kernelspec": {
   "display_name": "Python 3",
   "language": "python",
   "name": "python3"
  },
  "language_info": {
   "codemirror_mode": {
    "name": "ipython",
    "version": 3
   },
   "file_extension": ".py",
   "mimetype": "text/x-python",
   "name": "python",
   "nbconvert_exporter": "python",
   "pygments_lexer": "ipython3",
   "version": "3.6.7"
  }
 },
 "nbformat": 4,
 "nbformat_minor": 2
}
