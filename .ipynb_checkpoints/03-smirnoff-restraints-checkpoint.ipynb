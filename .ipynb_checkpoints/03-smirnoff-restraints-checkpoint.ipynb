{
 "cells": [
  {
   "cell_type": "code",
   "execution_count": 1,
   "metadata": {
    "ExecuteTime": {
     "end_time": "2018-05-23T18:38:30.012822Z",
     "start_time": "2018-05-23T18:38:29.661823Z"
    }
   },
   "outputs": [],
   "source": [
    "%load_ext autoreload\n",
    "%autoreload 2\n",
    "\n",
    "import os as os\n",
    "import numpy as np\n",
    "\n",
    "import parmed as pmd\n",
    "import pytraj as pt"
   ]
  },
  {
   "cell_type": "code",
   "execution_count": 2,
   "metadata": {
    "ExecuteTime": {
     "end_time": "2018-05-23T18:38:30.296287Z",
     "start_time": "2018-05-23T18:38:30.014956Z"
    }
   },
   "outputs": [
    {
     "name": "stderr",
     "output_type": "stream",
     "text": [
      "2018-05-23 11:38:30 AM Started logging...\n"
     ]
    },
    {
     "name": "stdout",
     "output_type": "stream",
     "text": [
      "--0.0.3\n"
     ]
    }
   ],
   "source": [
    "import logging\n",
    "import datetime as dt\n",
    "d_date = dt.datetime.now()\n",
    "logging.basicConfig(format='%(asctime)s %(message)s', datefmt='%Y-%m-%d %I:%M:%S %p',\n",
    "                    level=logging.INFO)\n",
    "logging.info('Started logging...')\n",
    "\n",
    "import paprika\n",
    "print(paprika.__version__)\n",
    "\n",
    "from paprika.restraints import static_DAT_restraint\n",
    "from paprika.restraints import DAT_restraint\n",
    "from paprika.restraints import amber_restraint_line\n",
    "from paprika.restraints import create_window_list\n",
    "\n",
    "from paprika.utils import make_window_dirs\n",
    "\n",
    "from paprika.analysis import fe_calc"
   ]
  },
  {
   "cell_type": "markdown",
   "metadata": {},
   "source": [
    "# Setup"
   ]
  },
  {
   "cell_type": "code",
   "execution_count": 3,
   "metadata": {
    "ExecuteTime": {
     "end_time": "2018-05-23T18:38:30.313544Z",
     "start_time": "2018-05-23T18:38:30.297987Z"
    }
   },
   "outputs": [],
   "source": [
    "dummy_anchors = [':1', ':2', ':3']\n",
    "host_anchors  = [':4@O3', ':6@C1', ':8@C6']\n",
    "guest_anchors = [':10@C4', ':10@N1']"
   ]
  },
  {
   "cell_type": "code",
   "execution_count": 4,
   "metadata": {
    "ExecuteTime": {
     "end_time": "2018-05-23T18:38:30.737643Z",
     "start_time": "2018-05-23T18:38:30.338910Z"
    }
   },
   "outputs": [],
   "source": [
    "hg = pmd.load_file('systems/a-bam-p/confirm-original/a000/full.hmr.topo',\n",
    "                   'systems/a-bam-p/confirm-original/a000/full.crds',\n",
    "                    structure=True)"
   ]
  },
  {
   "cell_type": "code",
   "execution_count": 5,
   "metadata": {
    "ExecuteTime": {
     "end_time": "2018-05-23T18:38:30.755339Z",
     "start_time": "2018-05-23T18:38:30.739394Z"
    }
   },
   "outputs": [
    {
     "name": "stdout",
     "output_type": "stream",
     "text": [
      "There are [15, 46, 0] windows in this attach-pull calculation.\n"
     ]
    }
   ],
   "source": [
    "attach_string = '0.00 0.40 0.80 1.60 2.40 4.00 5.50 8.65 11.80 18.10 24.40 37.00 49.60 74.80 100.00'\n",
    "attach_fractions = [float(i) / 100 for i in attach_string.split()]\n",
    "\n",
    "pull_string = '0.00 0.40 0.80 1.20 1.60 2.00 2.40 2.80 3.20 3.60 4.00 4.40 4.80 5.20 5.60 6.00 6.40 6.80 7.20 7.60 8.00 8.40 8.80 9.20 9.60 10.00 10.40 10.80 11.20 11.60 12.00 12.40 12.80 13.20 13.60 14.00 14.40 14.80 15.20 15.60 16.00 16.40 16.80 17.20 17.60 18.00'\n",
    "pull_distances = [float(i) + 6.00 for i in pull_string.split()]\n",
    "\n",
    "windows = [len(attach_fractions), len(pull_distances), 0]\n",
    "print(f'There are {windows} windows in this attach-pull calculation.')"
   ]
  },
  {
   "cell_type": "code",
   "execution_count": 6,
   "metadata": {
    "ExecuteTime": {
     "end_time": "2018-05-23T18:38:30.989052Z",
     "start_time": "2018-05-23T18:38:30.970951Z"
    }
   },
   "outputs": [],
   "source": [
    "static_restraint_atoms = [[dummy_anchors[0], host_anchors[0]],\n",
    "                          [dummy_anchors[1], dummy_anchors[0], host_anchors[0]],\n",
    "                          [dummy_anchors[2], dummy_anchors[1], dummy_anchors[0], host_anchors[0]],\n",
    "                          [dummy_anchors[0], host_anchors[0], host_anchors[1]],\n",
    "                          [dummy_anchors[1], dummy_anchors[0], host_anchors[0], host_anchors[1]],\n",
    "                          [dummy_anchors[0], host_anchors[0], host_anchors[1], host_anchors[2]],\n",
    "                        ]\n",
    "\n",
    "static_restraint_distance_fc = 5.0\n",
    "static_restraint_angle_fc = 100.0"
   ]
  },
  {
   "cell_type": "code",
   "execution_count": 7,
   "metadata": {
    "ExecuteTime": {
     "end_time": "2018-05-23T18:38:31.419687Z",
     "start_time": "2018-05-23T18:38:31.402596Z"
    }
   },
   "outputs": [],
   "source": [
    "guest_restraint_atoms = [[dummy_anchors[0], guest_anchors[0]],\n",
    "                         [dummy_anchors[1], dummy_anchors[0], guest_anchors[0]],\n",
    "                         [dummy_anchors[0], guest_anchors[0], guest_anchors[1]],\n",
    "                        ]\n",
    "\n",
    "guest_restraint_targets = [6.0,\n",
    "                           180.0,\n",
    "                           180.0\n",
    "                          ]\n",
    "guest_restraint_target_final = [24.0, 180.0, 180.0]\n",
    "guest_restraint_distance_fc = 5.0\n",
    "guest_restraint_angle_fc = 100.0"
   ]
  },
  {
   "cell_type": "code",
   "execution_count": 8,
   "metadata": {
    "ExecuteTime": {
     "end_time": "2018-05-23T18:38:32.575483Z",
     "start_time": "2018-05-23T18:38:32.355759Z"
    }
   },
   "outputs": [],
   "source": [
    "host_conformational_template = [['O5', 'C1', 'O1', 'C4'],\n",
    "                                ['C1', 'O1', 'C4', 'C5']\n",
    "                               ]\n",
    "\n",
    "host_residues = len(hg[':MGO'].residues)\n",
    "first_host_residue = hg[':MGO'].residues[0].number + 1\n",
    "conformational_restraint_atoms = []\n",
    "conformational_restraint_targets = []\n",
    "conformational_restraint_fc = 6.0\n",
    "\n",
    "for n in range(first_host_residue, host_residues + first_host_residue):\n",
    "    if n + 1 < host_residues + first_host_residue:\n",
    "        next_residue = n + 1\n",
    "    else:\n",
    "        next_residue = first_host_residue\n",
    "    conformational_restraint_atoms.append(\n",
    "        [f':{n}@{host_conformational_template[0][0]}',\n",
    "         f':{n}@{host_conformational_template[0][1]}',\n",
    "         f':{n}@{host_conformational_template[0][2]}',\n",
    "         f':{next_residue}@{host_conformational_template[0][3]}'\n",
    "        ])\n",
    "    conformational_restraint_targets.append(104.30)\n",
    "    conformational_restraint_atoms.append(\n",
    "        [f':{n}@{host_conformational_template[1][0]}',\n",
    "         f':{n}@{host_conformational_template[1][1]}',\n",
    "         f':{next_residue}@{host_conformational_template[1][2]}',\n",
    "         f':{next_residue}@{host_conformational_template[1][3]}'\n",
    "        ])\n",
    "    conformational_restraint_targets.append(-108.8)"
   ]
  },
  {
   "cell_type": "code",
   "execution_count": 9,
   "metadata": {
    "ExecuteTime": {
     "end_time": "2018-05-23T18:38:32.766085Z",
     "start_time": "2018-05-23T18:38:32.746662Z"
    }
   },
   "outputs": [],
   "source": [
    "guest_wall_template = [\n",
    "    ['O2', guest_anchors[0]],\n",
    "    ['O6', guest_anchors[0]]\n",
    "]\n",
    "\n",
    "guest_wall_restraint_atoms = []\n",
    "guest_wall_restraint_targets = []\n",
    "guest_wall_restraint_angle_fc = 500.0\n",
    "guest_wall_restraint_distance_fc = 50.0\n",
    "\n",
    "for n in range(first_host_residue, host_residues + first_host_residue):\n",
    "    guest_wall_restraint_atoms.append(\n",
    "        [f':{n}@{guest_wall_template[0][0]}',\n",
    "         f'{guest_wall_template[0][1]}',\n",
    "        ])\n",
    "    guest_wall_restraint_targets.append(11.3)\n",
    "    guest_wall_restraint_atoms.append(\n",
    "        [f':{n}@{guest_wall_template[1][0]}',\n",
    "         f'{guest_wall_template[1][1]}',\n",
    "        ])\n",
    "    guest_wall_restraint_targets.append(13.3)\n",
    "\n",
    "guest_wall_restraint_atoms.append([dummy_anchors[1],\n",
    "                                 guest_anchors[0],\n",
    "                                 guest_anchors[1]])\n",
    "guest_wall_restraint_targets.append(80.0)"
   ]
  },
  {
   "cell_type": "markdown",
   "metadata": {},
   "source": [
    "# Initialize the restraints"
   ]
  },
  {
   "cell_type": "code",
   "execution_count": 10,
   "metadata": {
    "ExecuteTime": {
     "end_time": "2018-05-23T18:38:33.577611Z",
     "start_time": "2018-05-23T18:38:33.557018Z"
    }
   },
   "outputs": [],
   "source": [
    "restraint_list = []"
   ]
  },
  {
   "cell_type": "code",
   "execution_count": 11,
   "metadata": {
    "ExecuteTime": {
     "end_time": "2018-05-23T18:38:36.282600Z",
     "start_time": "2018-05-23T18:38:33.996101Z"
    }
   },
   "outputs": [],
   "source": [
    "for index, atoms in enumerate(static_restraint_atoms):    \n",
    "    static_DAT_restraint(restraint_mask_list=atoms,\n",
    "                        num_window_list=windows, \n",
    "                        ref_structure=hg,\n",
    "                        force_constant=static_restraint_angle_fc if len(atoms) > 2 else static_restraint_distance_fc,\n",
    "                        amber_index=True)"
   ]
  },
  {
   "cell_type": "code",
   "execution_count": 12,
   "metadata": {
    "ExecuteTime": {
     "end_time": "2018-05-23T18:38:36.455596Z",
     "start_time": "2018-05-23T18:38:36.284731Z"
    }
   },
   "outputs": [],
   "source": [
    "for index, atoms in enumerate(guest_restraint_atoms): \n",
    "    if len(atoms) > 2:\n",
    "        angle = True\n",
    "    else:\n",
    "        angle = False\n",
    "    this = DAT_restraint()\n",
    "    this.auto_apr = True\n",
    "    this.amber_index = True\n",
    "    this.topology = hg\n",
    "    this.mask1 = atoms[0]\n",
    "    this.mask2 = atoms[1]\n",
    "    if angle:\n",
    "        this.mask3 = atoms[2]\n",
    "        this.attach['fc_final'] = guest_restraint_angle_fc\n",
    "    else:\n",
    "        this.attach['fc_final'] = guest_restraint_distance_fc\n",
    "    this.attach['target'] = guest_restraint_targets[index]\n",
    "    this.attach['fraction_list'] = attach_fractions\n",
    "    \n",
    "    \n",
    "    this.pull['target_final'] = guest_restraint_target_final[index]\n",
    "    this.pull['num_windows'] = windows[1]\n",
    "    this.initialize()\n",
    "    restraint_list.append(this)"
   ]
  },
  {
   "cell_type": "code",
   "execution_count": 13,
   "metadata": {
    "ExecuteTime": {
     "end_time": "2018-05-23T18:38:38.087592Z",
     "start_time": "2018-05-23T18:38:36.457211Z"
    }
   },
   "outputs": [],
   "source": [
    "for index, atoms in enumerate(conformational_restraint_atoms): \n",
    "    \n",
    "    this = DAT_restraint()\n",
    "    this.auto_apr = True\n",
    "    this.amber_index = True\n",
    "    this.topology = hg\n",
    "    this.mask1 = atoms[0]\n",
    "    this.mask2 = atoms[1]\n",
    "    this.mask3 = atoms[2]\n",
    "    this.mask4 = atoms[3]\n",
    "    \n",
    "    this.attach['fraction_list'] = attach_fractions\n",
    "    this.attach['target'] = conformational_restraint_targets[index]\n",
    "    this.attach['fc_final'] = conformational_restraint_fc\n",
    "    this.pull['target_final'] = conformational_restraint_targets[index]\n",
    "    this.pull['num_windows'] = windows[1]\n",
    "    \n",
    "    this.initialize()\n",
    "    restraint_list.append(this)"
   ]
  },
  {
   "cell_type": "code",
   "execution_count": 14,
   "metadata": {
    "ExecuteTime": {
     "end_time": "2018-05-23T18:38:39.013025Z",
     "start_time": "2018-05-23T18:38:38.089613Z"
    },
    "scrolled": true
   },
   "outputs": [],
   "source": [
    "for index, atoms in enumerate(guest_wall_restraint_atoms): \n",
    "    if len(atoms) > 2:\n",
    "        angle = True\n",
    "    else:\n",
    "        angle = False\n",
    "    \n",
    "    this = DAT_restraint()\n",
    "    this.auto_apr = True\n",
    "    this.amber_index = True\n",
    "    this.topology = hg\n",
    "    this.mask1 = atoms[0]\n",
    "    this.mask2 = atoms[1]\n",
    "    if angle:\n",
    "        this.mask3 = atoms[2]\n",
    "        this.attach['fc_initial'] = guest_wall_restraint_angle_fc\n",
    "        this.attach['fc_final'] = guest_wall_restraint_angle_fc\n",
    "        this.custom_restraint_values['rk2'] = 500.0\n",
    "        this.custom_restraint_values['rk3'] = 0.0\n",
    "    else:\n",
    "        this.attach['fc_initial'] = guest_wall_restraint_distance_fc\n",
    "        this.attach['fc_final'] = guest_wall_restraint_distance_fc\n",
    "        this.custom_restraint_values['rk2'] = 50.0\n",
    "        this.custom_restraint_values['rk3'] = 50.0\n",
    "        this.custom_restraint_values['r1'] = 0.0\n",
    "        this.custom_restraint_values['r2'] = 0.0\n",
    "\n",
    "    this.attach['target'] = guest_wall_restraint_targets[index]\n",
    "    this.attach['num_windows'] = len(attach_fractions)\n",
    "    this.initialize()\n",
    "    restraint_list.append(this)"
   ]
  },
  {
   "cell_type": "markdown",
   "metadata": {},
   "source": [
    "# Analyze"
   ]
  },
  {
   "cell_type": "code",
   "execution_count": 15,
   "metadata": {
    "ExecuteTime": {
     "end_time": "2018-05-23T18:38:39.049396Z",
     "start_time": "2018-05-23T18:38:39.014623Z"
    }
   },
   "outputs": [],
   "source": [
    "structure = pt.load(\n",
    "    os.path.join('systems', 'a-bam-p', 'confirm-original', 'a000', 'full.crds'),\n",
    "    os.path.join('systems', 'a-bam-p', 'confirm-original', 'a000', 'full.hmr.topo'))\n",
    "\n",
    "stripped = structure.strip(':WAT,:Na+,:Cl-')"
   ]
  },
  {
   "cell_type": "code",
   "execution_count": 16,
   "metadata": {
    "ExecuteTime": {
     "end_time": "2018-05-23T18:38:39.215123Z",
     "start_time": "2018-05-23T18:38:39.199970Z"
    },
    "code_folding": []
   },
   "outputs": [],
   "source": [
    "analyze = fe_calc()\n",
    "analyze.prmtop = stripped.topology\n",
    "analyze.trajectory = 'prod.*.nc'\n",
    "analyze.path = os.path.join('/home', 'dslochower', 'kirkwood', 'projects', 'smirnoff-host-guest-simulations', \n",
    "                            'systems', 'a-bam-p', 'confirm-original')\n"
   ]
  },
  {
   "cell_type": "code",
   "execution_count": 17,
   "metadata": {
    "ExecuteTime": {
     "end_time": "2018-05-23T18:38:43.455628Z",
     "start_time": "2018-05-23T18:38:43.423932Z"
    }
   },
   "outputs": [
    {
     "data": {
      "text/plain": [
       "'/home/dslochower/kirkwood/projects/smirnoff-host-guest-simulations/systems/a-bam-p/confirm-original'"
      ]
     },
     "execution_count": 17,
     "metadata": {},
     "output_type": "execute_result"
    }
   ],
   "source": [
    "analyze.path"
   ]
  },
  {
   "cell_type": "code",
   "execution_count": 18,
   "metadata": {
    "ExecuteTime": {
     "end_time": "2018-05-23T18:39:23.233434Z",
     "start_time": "2018-05-23T18:38:58.786929Z"
    }
   },
   "outputs": [
    {
     "name": "stderr",
     "output_type": "stream",
     "text": [
      "2018-05-23 11:39:15 AM attach: computing convergence for ti-block\n",
      "2018-05-23 11:39:23 AM pull: computing convergence for ti-block\n"
     ]
    }
   ],
   "source": [
    "analyze.restraint_list = restraint_list\n",
    "analyze.collect_data()\n",
    "analyze.methods = ['ti-block']\n",
    "analyze.quicker_ti_matrix = True\n",
    "analyze.bootcycles = 10\n",
    "analyze.compute_free_energy()"
   ]
  },
  {
   "cell_type": "code",
   "execution_count": 19,
   "metadata": {
    "ExecuteTime": {
     "end_time": "2018-05-23T18:39:38.876194Z",
     "start_time": "2018-05-23T18:39:38.686841Z"
    }
   },
   "outputs": [],
   "source": [
    "analyze.compute_ref_state_work([\n",
    "    restraint_list[0], restraint_list[1], None, None,\n",
    "    restraint_list[2], None\n",
    "])"
   ]
  },
  {
   "cell_type": "code",
   "execution_count": 20,
   "metadata": {
    "ExecuteTime": {
     "end_time": "2018-05-23T18:39:44.239096Z",
     "start_time": "2018-05-23T18:39:44.209376Z"
    }
   },
   "outputs": [
    {
     "name": "stdout",
     "output_type": "stream",
     "text": [
      "8.502 ± 0.392\n"
     ]
    }
   ],
   "source": [
    "fe = analyze.results['attach']['ti-block']['fe'] + \\\n",
    "     analyze.results['pull']['ti-block']['fe'] + \\\n",
    "     analyze.results['ref_state_work']\n",
    "        \n",
    "fe_sem = np.sqrt(analyze.results['attach']['ti-block']['sem']**2 + \\\n",
    "                 analyze.results['pull']['ti-block']['sem']**2)\n",
    "\n",
    "print(f\"{fe:2.3f} ± {fe_sem:2.3f}\")\n"
   ]
  },
  {
   "cell_type": "code",
   "execution_count": 21,
   "metadata": {
    "ExecuteTime": {
     "end_time": "2018-05-23T18:40:00.672485Z",
     "start_time": "2018-05-23T18:40:00.652889Z"
    }
   },
   "outputs": [
    {
     "data": {
      "text/plain": [
       "10.238063908951727"
      ]
     },
     "execution_count": 21,
     "metadata": {},
     "output_type": "execute_result"
    }
   ],
   "source": [
    "analyze.results['attach']['ti-block']['fe']"
   ]
  },
  {
   "cell_type": "code",
   "execution_count": 22,
   "metadata": {
    "ExecuteTime": {
     "end_time": "2018-05-23T18:40:05.795512Z",
     "start_time": "2018-05-23T18:40:05.775008Z"
    }
   },
   "outputs": [
    {
     "data": {
      "text/plain": [
       "5.4055880805638292"
      ]
     },
     "execution_count": 22,
     "metadata": {},
     "output_type": "execute_result"
    }
   ],
   "source": [
    "analyze.results['pull']['ti-block']['fe']"
   ]
  },
  {
   "cell_type": "code",
   "execution_count": 23,
   "metadata": {
    "ExecuteTime": {
     "end_time": "2018-05-23T18:40:15.727520Z",
     "start_time": "2018-05-23T18:40:15.707366Z"
    }
   },
   "outputs": [
    {
     "data": {
      "text/plain": [
       "-7.1415145828620048"
      ]
     },
     "execution_count": 23,
     "metadata": {},
     "output_type": "execute_result"
    }
   ],
   "source": [
    "analyze.results['ref_state_work']"
   ]
  },
  {
   "cell_type": "code",
   "execution_count": null,
   "metadata": {},
   "outputs": [],
   "source": []
  }
 ],
 "metadata": {
  "kernelspec": {
   "display_name": "Python [conda env:smirnoff-paprika]",
   "language": "python",
   "name": "conda-env-smirnoff-paprika-py"
  },
  "language_info": {
   "codemirror_mode": {
    "name": "ipython",
    "version": 3
   },
   "file_extension": ".py",
   "mimetype": "text/x-python",
   "name": "python",
   "nbconvert_exporter": "python",
   "pygments_lexer": "ipython3",
   "version": "3.6.5"
  }
 },
 "nbformat": 4,
 "nbformat_minor": 2
}
