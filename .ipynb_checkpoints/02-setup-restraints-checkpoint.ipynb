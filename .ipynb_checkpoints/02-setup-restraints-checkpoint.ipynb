{
 "cells": [
  {
   "cell_type": "markdown",
   "metadata": {},
   "source": [
    "# Try 13: setup `paprika` restraints"
   ]
  },
  {
   "cell_type": "markdown",
   "metadata": {},
   "source": [
    "Presuming we have a host-guest system already setup, let's see if we can rationally instruct `paprika` to setup all the restraints for a real system."
   ]
  },
  {
   "cell_type": "code",
   "execution_count": 163,
   "metadata": {
    "ExecuteTime": {
     "end_time": "2018-03-25T00:07:59.035967Z",
     "start_time": "2018-03-25T00:07:59.018354Z"
    }
   },
   "outputs": [
    {
     "name": "stdout",
     "output_type": "stream",
     "text": [
      "The autoreload extension is already loaded. To reload it, use:\n",
      "  %reload_ext autoreload\n"
     ]
    }
   ],
   "source": [
    "%load_ext autoreload\n",
    "%autoreload 2\n",
    "\n",
    "import os as os\n",
    "import numpy as np\n",
    "\n",
    "import parmed as pmd\n",
    "import pytraj as pt"
   ]
  },
  {
   "cell_type": "markdown",
   "metadata": {},
   "source": [
    "We are going to setup host translational restraints, guest translational restraints, host \"jacks,\" and guest wall restraints with `paprika`. First, let's try working in a directory where we have a known `disang.rest` file we can use as a reference: `/data/davids4/projects/smirnoff-host-guest/a-bam-p/a00/original` or `/data/davids4/projects/smirnoff-host-guest/a-bam-p/u00/original` for the final values.\n",
    "\n",
    "Since we're starting with files Niel prepared, the dummy atoms are first, followed by the host, and then the guest atoms."
   ]
  },
  {
   "cell_type": "code",
   "execution_count": 178,
   "metadata": {
    "ExecuteTime": {
     "end_time": "2018-03-25T00:15:41.056047Z",
     "start_time": "2018-03-25T00:15:41.038302Z"
    }
   },
   "outputs": [],
   "source": [
    "dummy_anchors = [':1', ':2', ':3']\n",
    "host_anchors  = [':4@O3', ':6@C1', ':8@C6']\n",
    "guest_anchors = [':10@C4', ':10@N1']\n",
    "\n",
    "code_mapping = {\n",
    "    'D0' : dummy_anchors[0],\n",
    "    'D1' : dummy_anchors[1],\n",
    "    'D2' : dummy_anchors[2],\n",
    "    'H0' : host_anchors[0],\n",
    "    'H1' : host_anchors[1],\n",
    "    'H2' : host_anchors[2],\n",
    "    'G0' : guest_anchors[0],\n",
    "    'G1' : guest_anchors[1]\n",
    "}"
   ]
  },
  {
   "cell_type": "markdown",
   "metadata": {},
   "source": [
    "The attach fractions can be found in the `Setup.pl` file in the original location on `kirkwood`: `/data/nhenriksen/projects/cds/wat6/bgbg-tip3p/a-bam-p/a00/` under `@AttachFC`."
   ]
  },
  {
   "cell_type": "code",
   "execution_count": 179,
   "metadata": {
    "ExecuteTime": {
     "end_time": "2018-03-25T00:15:41.333971Z",
     "start_time": "2018-03-25T00:15:41.319902Z"
    }
   },
   "outputs": [],
   "source": [
    "attach_string = '0.00 0.40 0.80 1.60 2.40 4.00 5.50 8.65 11.80 18.10 24.40 37.00 49.60 74.80'\n",
    "attach_fractions = [float(i) / 100 for i in attach_string.split()]"
   ]
  },
  {
   "cell_type": "markdown",
   "metadata": {
    "ExecuteTime": {
     "end_time": "2018-03-23T23:19:14.410610Z",
     "start_time": "2018-03-23T23:19:14.389300Z"
    }
   },
   "source": [
    "The attach force constant is 5.0 kcal/mol-A^{2} for distances and 100.0 kcal/mol-rad^{2} for angels and torsions based on `disang.rest` in `u00`."
   ]
  },
  {
   "cell_type": "code",
   "execution_count": 180,
   "metadata": {
    "ExecuteTime": {
     "end_time": "2018-03-25T00:15:41.883408Z",
     "start_time": "2018-03-25T00:15:41.869294Z"
    }
   },
   "outputs": [],
   "source": [
    "attach_distance_fc = 5.0\n",
    "attach_angle_fc    = 100.0"
   ]
  },
  {
   "cell_type": "markdown",
   "metadata": {},
   "source": [
    "The pull distances are specified by `@Translate` in `Setup.pl` and are offset by 6 Angstroms."
   ]
  },
  {
   "cell_type": "code",
   "execution_count": 181,
   "metadata": {
    "ExecuteTime": {
     "end_time": "2018-03-25T00:15:42.414227Z",
     "start_time": "2018-03-25T00:15:42.399912Z"
    }
   },
   "outputs": [],
   "source": [
    "pull_string = '0.00 0.40 0.80 1.20 1.60 2.00 2.40 2.80 3.20 3.60 4.00 4.40 4.80 5.20 5.60 6.00 6.40 6.80 7.20 7.60 8.00 8.40 8.80 9.20 9.60 10.00 10.40 10.80 11.20 11.60 12.00 12.40 12.80 13.20 13.60 14.00 14.40 14.80 15.20 15.60 16.00 16.40 16.80 17.20 17.60 18.00'\n",
    "pull_distances = [float(i) + 6.00 for i in pull_string.split()]"
   ]
  },
  {
   "cell_type": "markdown",
   "metadata": {},
   "source": [
    "## Load in the structure"
   ]
  },
  {
   "cell_type": "code",
   "execution_count": 182,
   "metadata": {
    "ExecuteTime": {
     "end_time": "2018-03-25T00:15:43.417971Z",
     "start_time": "2018-03-25T00:15:43.166611Z"
    }
   },
   "outputs": [],
   "source": [
    "hg = pmd.load_file('systems/a-bam-p/a00/original/full.hmr.topo',\n",
    "                   'systems/a-bam-p/a00/original/full.crds',\n",
    "                    structure=True)"
   ]
  },
  {
   "cell_type": "code",
   "execution_count": 183,
   "metadata": {
    "ExecuteTime": {
     "end_time": "2018-03-25T00:15:43.577983Z",
     "start_time": "2018-03-25T00:15:43.563178Z"
    }
   },
   "outputs": [
    {
     "name": "stdout",
     "output_type": "stream",
     "text": [
      "There are [14, 46, 0] windows in this attach-pull calculation.\n"
     ]
    }
   ],
   "source": [
    "windows = [len(attach_fractions), len(pull_distances), 0]\n",
    "print(f'There are {windows} windows in this attach-pull calculation.')"
   ]
  },
  {
   "cell_type": "markdown",
   "metadata": {},
   "source": [
    "## Initialize `paprika` restraints"
   ]
  },
  {
   "cell_type": "markdown",
   "metadata": {},
   "source": [
    "Let's create a container to hold *all* the static and dynamic restraints."
   ]
  },
  {
   "cell_type": "code",
   "execution_count": 229,
   "metadata": {
    "ExecuteTime": {
     "end_time": "2018-03-25T00:21:22.504604Z",
     "start_time": "2018-03-25T00:21:22.488550Z"
    }
   },
   "outputs": [],
   "source": [
    "restraints = []"
   ]
  },
  {
   "cell_type": "markdown",
   "metadata": {},
   "source": [
    "### Host translational restraints"
   ]
  },
  {
   "cell_type": "markdown",
   "metadata": {},
   "source": [
    "First, let's add \"static\" restraints where the value of the restraint doesn't change over the course of the simulation."
   ]
  },
  {
   "cell_type": "code",
   "execution_count": 230,
   "metadata": {
    "ExecuteTime": {
     "end_time": "2018-03-25T00:21:23.031601Z",
     "start_time": "2018-03-25T00:21:23.014481Z"
    }
   },
   "outputs": [
    {
     "name": "stdout",
     "output_type": "stream",
     "text": [
      "/home/dslochower/hgst-3tb-data/projects/pAPRika/paprika/__init__.py\n"
     ]
    }
   ],
   "source": [
    "import paprika\n",
    "print(os.path.abspath(paprika.__file__))\n",
    "from paprika.restraints import static_DAT_restraint\n",
    "from paprika.restraints import DAT_restraint"
   ]
  },
  {
   "cell_type": "code",
   "execution_count": 231,
   "metadata": {
    "ExecuteTime": {
     "end_time": "2018-03-25T00:21:23.495483Z",
     "start_time": "2018-03-25T00:21:23.479134Z"
    }
   },
   "outputs": [],
   "source": [
    "host_restraints = []"
   ]
  },
  {
   "cell_type": "code",
   "execution_count": 232,
   "metadata": {
    "ExecuteTime": {
     "end_time": "2018-03-25T00:21:27.904496Z",
     "start_time": "2018-03-25T00:21:25.759684Z"
    },
    "scrolled": true
   },
   "outputs": [
    {
     "name": "stderr",
     "output_type": "stream",
     "text": [
      "DEBUG:root:Calculating attach targets and force constants...\n",
      "DEBUG:root:Attach, Method #1\n",
      "DEBUG:root:Calculating pull targets and force constants...\n",
      "DEBUG:root:Pull, Method #1\n",
      "DEBUG:root:Calculating release targets and force constants...\n",
      "DEBUG:root:No restraint info set for the release phase! Skipping...\n",
      "DEBUG:root:Number of attach windows = 14\n",
      "DEBUG:root:Number of pull windows = 46\n",
      "DEBUG:root:This restraint will be skipped in the release phase\n",
      "DEBUG:root:Assigning atom indices...\n",
      "DEBUG:root:There are 1 atoms in the mask :3  ...\n",
      "DEBUG:root:There are 1 atoms in the mask :4@O3  ...\n",
      "DEBUG:root:Calculating attach targets and force constants...\n",
      "DEBUG:root:Attach, Method #1\n",
      "DEBUG:root:Calculating pull targets and force constants...\n",
      "DEBUG:root:Pull, Method #1\n",
      "DEBUG:root:Calculating release targets and force constants...\n",
      "DEBUG:root:No restraint info set for the release phase! Skipping...\n",
      "DEBUG:root:Number of attach windows = 14\n",
      "DEBUG:root:Number of pull windows = 46\n",
      "DEBUG:root:This restraint will be skipped in the release phase\n",
      "DEBUG:root:Assigning atom indices...\n",
      "DEBUG:root:There are 1 atoms in the mask :1  ...\n",
      "DEBUG:root:There are 1 atoms in the mask :2  ...\n",
      "DEBUG:root:There are 1 atoms in the mask :4@O3  ...\n",
      "DEBUG:root:Calculating attach targets and force constants...\n",
      "DEBUG:root:Attach, Method #1\n",
      "DEBUG:root:Calculating pull targets and force constants...\n",
      "DEBUG:root:Pull, Method #1\n",
      "DEBUG:root:Calculating release targets and force constants...\n",
      "DEBUG:root:No restraint info set for the release phase! Skipping...\n",
      "DEBUG:root:Number of attach windows = 14\n",
      "DEBUG:root:Number of pull windows = 46\n",
      "DEBUG:root:This restraint will be skipped in the release phase\n",
      "DEBUG:root:Assigning atom indices...\n",
      "DEBUG:root:There are 1 atoms in the mask :1  ...\n",
      "DEBUG:root:There are 1 atoms in the mask :2  ...\n",
      "DEBUG:root:There are 1 atoms in the mask :3  ...\n",
      "DEBUG:root:There are 1 atoms in the mask :4@O3  ...\n",
      "DEBUG:root:Calculating attach targets and force constants...\n",
      "DEBUG:root:Attach, Method #1\n",
      "DEBUG:root:Calculating pull targets and force constants...\n",
      "DEBUG:root:Pull, Method #1\n",
      "DEBUG:root:Calculating release targets and force constants...\n",
      "DEBUG:root:No restraint info set for the release phase! Skipping...\n",
      "DEBUG:root:Number of attach windows = 14\n",
      "DEBUG:root:Number of pull windows = 46\n",
      "DEBUG:root:This restraint will be skipped in the release phase\n",
      "DEBUG:root:Assigning atom indices...\n",
      "DEBUG:root:There are 1 atoms in the mask :3  ...\n",
      "DEBUG:root:There are 1 atoms in the mask :4@O3  ...\n",
      "DEBUG:root:There are 1 atoms in the mask :6@C1  ...\n",
      "DEBUG:root:Calculating attach targets and force constants...\n",
      "DEBUG:root:Attach, Method #1\n",
      "DEBUG:root:Calculating pull targets and force constants...\n",
      "DEBUG:root:Pull, Method #1\n",
      "DEBUG:root:Calculating release targets and force constants...\n",
      "DEBUG:root:No restraint info set for the release phase! Skipping...\n",
      "DEBUG:root:Number of attach windows = 14\n",
      "DEBUG:root:Number of pull windows = 46\n",
      "DEBUG:root:This restraint will be skipped in the release phase\n",
      "DEBUG:root:Assigning atom indices...\n",
      "DEBUG:root:There are 1 atoms in the mask :1  ...\n",
      "DEBUG:root:There are 1 atoms in the mask :2  ...\n",
      "DEBUG:root:There are 1 atoms in the mask :4@O3  ...\n",
      "DEBUG:root:There are 1 atoms in the mask :6@C1  ...\n",
      "DEBUG:root:Calculating attach targets and force constants...\n",
      "DEBUG:root:Attach, Method #1\n",
      "DEBUG:root:Calculating pull targets and force constants...\n",
      "DEBUG:root:Pull, Method #1\n",
      "DEBUG:root:Calculating release targets and force constants...\n",
      "DEBUG:root:No restraint info set for the release phase! Skipping...\n",
      "DEBUG:root:Number of attach windows = 14\n",
      "DEBUG:root:Number of pull windows = 46\n",
      "DEBUG:root:This restraint will be skipped in the release phase\n",
      "DEBUG:root:Assigning atom indices...\n",
      "DEBUG:root:There are 1 atoms in the mask :2  ...\n",
      "DEBUG:root:There are 1 atoms in the mask :4@O3  ...\n",
      "DEBUG:root:There are 1 atoms in the mask :6@C1  ...\n",
      "DEBUG:root:There are 1 atoms in the mask :8@C6  ...\n"
     ]
    }
   ],
   "source": [
    "static_restraints = [['D2', 'H0'],\n",
    "                     ['D0', 'D1', 'H0'],\n",
    "                     ['D0', 'D1', 'D2', 'H0'],\n",
    "                     ['D2', 'H0', 'H1'],\n",
    "                     ['D0', 'D1', 'H0', 'H1'],\n",
    "                     ['D1', 'H0', 'H1', 'H2'],\n",
    "                    ]\n",
    "\n",
    "static_restraint_list = []\n",
    "for static_restraint in static_restraints:\n",
    "    static_restraint_list.append(\n",
    "        static_DAT_restraint([code_mapping[mask] for mask in static_restraint], \n",
    "                             windows, hg,\n",
    "                             attach_angle_fc, amber_index=True))"
   ]
  },
  {
   "cell_type": "code",
   "execution_count": 234,
   "metadata": {
    "ExecuteTime": {
     "end_time": "2018-03-25T00:21:50.686237Z",
     "start_time": "2018-03-25T00:21:50.669368Z"
    }
   },
   "outputs": [
    {
     "name": "stdout",
     "output_type": "stream",
     "text": [
      "Adding 6 static host restraints...\n"
     ]
    }
   ],
   "source": [
    "print(f'Adding {len(static_restraint_list)} static host restraints...')"
   ]
  },
  {
   "cell_type": "code",
   "execution_count": 235,
   "metadata": {
    "ExecuteTime": {
     "end_time": "2018-03-25T00:21:51.854887Z",
     "start_time": "2018-03-25T00:21:51.838537Z"
    },
    "scrolled": true
   },
   "outputs": [],
   "source": [
    "restraints.extend(static_restraint_list)"
   ]
  },
  {
   "cell_type": "markdown",
   "metadata": {},
   "source": [
    "### Guest translational restraints\n",
    "\n",
    "Let's define the guest translational distance, translational angle, and orientational angle relative to the dummy atoms."
   ]
  },
  {
   "cell_type": "code",
   "execution_count": 236,
   "metadata": {
    "ExecuteTime": {
     "end_time": "2018-03-25T00:21:55.919833Z",
     "start_time": "2018-03-25T00:21:55.902066Z"
    }
   },
   "outputs": [],
   "source": [
    "guest_restraints = [\n",
    "    ['D2', 'G0'],\n",
    "    ['D1', 'D2', 'G0'],\n",
    "    ['D2', 'G0', 'G1']\n",
    "]\n",
    "\n",
    "guest_targets = [\n",
    "    [6.0],\n",
    "    [180.0],\n",
    "    [180.0]\n",
    "]"
   ]
  },
  {
   "cell_type": "code",
   "execution_count": 237,
   "metadata": {
    "ExecuteTime": {
     "end_time": "2018-03-25T00:21:56.312792Z",
     "start_time": "2018-03-25T00:21:56.080490Z"
    },
    "scrolled": true
   },
   "outputs": [
    {
     "name": "stderr",
     "output_type": "stream",
     "text": [
      "DEBUG:root:Calculating attach targets and force constants...\n",
      "DEBUG:root:Attach, Method #3\n",
      "DEBUG:root:Calculating pull targets and force constants...\n",
      "DEBUG:root:Pull, Method #1\n",
      "DEBUG:root:Calculating release targets and force constants...\n",
      "DEBUG:root:No restraint info set for the release phase! Skipping...\n",
      "DEBUG:root:Number of attach windows = 14\n",
      "DEBUG:root:Number of pull windows = 46\n",
      "DEBUG:root:This restraint will be skipped in the release phase\n",
      "DEBUG:root:Assigning atom indices...\n",
      "DEBUG:root:There are 1 atoms in the mask :3  ...\n",
      "DEBUG:root:There are 1 atoms in the mask :10@C4  ...\n",
      "DEBUG:root:Calculating attach targets and force constants...\n",
      "DEBUG:root:Attach, Method #3\n",
      "DEBUG:root:Calculating pull targets and force constants...\n",
      "DEBUG:root:Pull, Method #1\n",
      "DEBUG:root:Calculating release targets and force constants...\n",
      "DEBUG:root:No restraint info set for the release phase! Skipping...\n",
      "DEBUG:root:Number of attach windows = 14\n",
      "DEBUG:root:Number of pull windows = 46\n",
      "DEBUG:root:This restraint will be skipped in the release phase\n",
      "DEBUG:root:Assigning atom indices...\n",
      "DEBUG:root:There are 1 atoms in the mask :2  ...\n",
      "DEBUG:root:There are 1 atoms in the mask :3  ...\n",
      "DEBUG:root:There are 1 atoms in the mask :10@C4  ...\n",
      "DEBUG:root:Calculating attach targets and force constants...\n",
      "DEBUG:root:Attach, Method #3\n",
      "DEBUG:root:Calculating pull targets and force constants...\n",
      "DEBUG:root:Pull, Method #1\n",
      "DEBUG:root:Calculating release targets and force constants...\n",
      "DEBUG:root:No restraint info set for the release phase! Skipping...\n",
      "DEBUG:root:Number of attach windows = 14\n",
      "DEBUG:root:Number of pull windows = 46\n",
      "DEBUG:root:This restraint will be skipped in the release phase\n",
      "DEBUG:root:Assigning atom indices...\n",
      "DEBUG:root:There are 1 atoms in the mask :3  ...\n",
      "DEBUG:root:There are 1 atoms in the mask :10@C4  ...\n",
      "DEBUG:root:There are 1 atoms in the mask :10@N1  ...\n"
     ]
    }
   ],
   "source": [
    "guest_restraints_list = []\n",
    "for restraint in guest_restraints:\n",
    "    if len(restraint) > 2:\n",
    "        angle = True\n",
    "    else:\n",
    "        angle = False\n",
    "    this = DAT_restraint()\n",
    "    this.auto_apr = True\n",
    "    this.amber_index = True\n",
    "    this.topology = hg\n",
    "    this.attach['fraction_list'] = attach_fractions\n",
    "    this.pull['num_windows'] = len(pull_distances)\n",
    "    this.mask1 = code_mapping[restraint[0]]\n",
    "    this.mask2 = code_mapping[restraint[1]]\n",
    "    \n",
    "    if angle:\n",
    "        this.mask3 = code_mapping[restraint[2]]\n",
    "        this.attach['target'] = 180.0\n",
    "        this.pull['target_final'] = 180.0\n",
    "        this.attach['fc_final'] = attach_angle_fc\n",
    "    else:\n",
    "        this.attach['target'] = pull_distances[0]\n",
    "        this.pull['target_final'] = pull_distances[-1]\n",
    "        this.attach['fc_final'] = attach_distance_fc\n",
    "    \n",
    "    this.initialize()\n",
    "    guest_restraints_list.append(this)"
   ]
  },
  {
   "cell_type": "code",
   "execution_count": 238,
   "metadata": {
    "ExecuteTime": {
     "end_time": "2018-03-25T00:22:09.338889Z",
     "start_time": "2018-03-25T00:22:09.324731Z"
    }
   },
   "outputs": [
    {
     "name": "stdout",
     "output_type": "stream",
     "text": [
      "Adding 3 static guest restraints...\n"
     ]
    }
   ],
   "source": [
    "print(f'Adding {len(guest_restraints_list)} static guest restraints...')"
   ]
  },
  {
   "cell_type": "code",
   "execution_count": 239,
   "metadata": {
    "ExecuteTime": {
     "end_time": "2018-03-25T00:22:11.236890Z",
     "start_time": "2018-03-25T00:22:11.223069Z"
    }
   },
   "outputs": [],
   "source": [
    "restraints.extend(guest_restraint_list)"
   ]
  },
  {
   "cell_type": "markdown",
   "metadata": {},
   "source": [
    "###  Host \"jacks\" restraints\n",
    "\n",
    "The \"jacks\" restraints can be written... O5_n - C1_n - O1_n - C4_n+1 and C1_n - O1_n - C4_n+1 - C5_n+1."
   ]
  },
  {
   "cell_type": "markdown",
   "metadata": {},
   "source": [
    "The C1-O1-C4-C5 dihedral has an equilibrium value, measured based on `full.crds` of -108.777 degrees. This makes sense! The O5-C1-O1-C4 dihedral has an equilibrium value of 104.333. This also makes sense."
   ]
  },
  {
   "cell_type": "code",
   "execution_count": 240,
   "metadata": {
    "ExecuteTime": {
     "end_time": "2018-03-25T00:22:14.412041Z",
     "start_time": "2018-03-25T00:22:14.397778Z"
    }
   },
   "outputs": [],
   "source": [
    "host_conformational_restraints_template = [\n",
    "    ['O5', 'C1', 'O1', 'C4'],\n",
    "    ['C1', 'O1', 'C4', 'C5']\n",
    "]"
   ]
  },
  {
   "cell_type": "code",
   "execution_count": 241,
   "metadata": {
    "ExecuteTime": {
     "end_time": "2018-03-25T00:22:14.696296Z",
     "start_time": "2018-03-25T00:22:14.531902Z"
    }
   },
   "outputs": [],
   "source": [
    "host_conformational_restraints = []\n",
    "host_residues = len(hg[':MGO'].residues)\n",
    "first_host_residue = hg[':MGO'].residues[0].number + 1\n",
    "template = host_conformational_restraints_template\n",
    "\n",
    "for n in range(first_host_residue, host_residues + first_host_residue):\n",
    "    if n + 1 < host_residues + first_host_residue:\n",
    "        next_residue = n + 1\n",
    "    else:\n",
    "        next_residue = first_host_residue\n",
    "    host_conformational_restraints.append(\n",
    "        [f':{n}@{template[0][0]}',\n",
    "         f':{n}@{template[0][1]}',\n",
    "         f':{n}@{template[0][2]}',\n",
    "         f':{next_residue}@{template[0][3]}'\n",
    "        ])\n",
    "    host_conformational_restraints.append(\n",
    "        [f':{n}@{template[1][0]}',\n",
    "         f':{n}@{template[1][1]}',\n",
    "         f':{next_residue}@{template[1][2]}',\n",
    "         f':{next_residue}@{template[1][3]}'\n",
    "        ])"
   ]
  },
  {
   "cell_type": "markdown",
   "metadata": {},
   "source": [
    "Set the target value of the jacks based on the current (equilibrium) angle of these dihedrals."
   ]
  },
  {
   "cell_type": "code",
   "execution_count": 242,
   "metadata": {
    "ExecuteTime": {
     "end_time": "2018-03-25T00:22:15.984685Z",
     "start_time": "2018-03-25T00:22:15.688597Z"
    }
   },
   "outputs": [],
   "source": [
    "host_conformational_targets = [\n",
    "    [],\n",
    "    []\n",
    "]\n",
    "\n",
    "structure = pt.load_parmed(hg, traj=True)\n",
    "mask_string = host_conformational_restraints[0]\n",
    "target = pt.dihedral(structure, ' '.join(mask_string))[0]\n",
    "\n",
    "host_conformational_targets[0] = [target]\n",
    "\n",
    "mask_string = host_conformational_restraints[1]\n",
    "target = pt.dihedral(structure, ' '.join(mask_string))[0]\n",
    "\n",
    "host_conformational_targets[1] = [target]"
   ]
  },
  {
   "cell_type": "code",
   "execution_count": 243,
   "metadata": {
    "ExecuteTime": {
     "end_time": "2018-03-25T00:22:17.746067Z",
     "start_time": "2018-03-25T00:22:15.986383Z"
    },
    "scrolled": true
   },
   "outputs": [
    {
     "name": "stderr",
     "output_type": "stream",
     "text": [
      "DEBUG:root:Calculating attach targets and force constants...\n",
      "DEBUG:root:Attach, Method #3\n",
      "DEBUG:root:Calculating pull targets and force constants...\n",
      "DEBUG:root:Pull, Method #1\n",
      "DEBUG:root:Calculating release targets and force constants...\n",
      "DEBUG:root:No restraint info set for the release phase! Skipping...\n",
      "DEBUG:root:Number of attach windows = 14\n",
      "DEBUG:root:Number of pull windows = 46\n",
      "DEBUG:root:This restraint will be skipped in the release phase\n",
      "DEBUG:root:Assigning atom indices...\n",
      "DEBUG:root:There are 1 atoms in the mask :4@O5  ...\n",
      "DEBUG:root:There are 1 atoms in the mask :4@C1  ...\n",
      "DEBUG:root:There are 1 atoms in the mask :4@O1  ...\n",
      "DEBUG:root:There are 1 atoms in the mask :5@C4  ...\n",
      "DEBUG:root:Calculating attach targets and force constants...\n",
      "DEBUG:root:Attach, Method #3\n",
      "DEBUG:root:Calculating pull targets and force constants...\n",
      "DEBUG:root:Pull, Method #1\n",
      "DEBUG:root:Calculating release targets and force constants...\n",
      "DEBUG:root:No restraint info set for the release phase! Skipping...\n",
      "DEBUG:root:Number of attach windows = 14\n",
      "DEBUG:root:Number of pull windows = 46\n",
      "DEBUG:root:This restraint will be skipped in the release phase\n",
      "DEBUG:root:Assigning atom indices...\n",
      "DEBUG:root:There are 1 atoms in the mask :4@C1  ...\n",
      "DEBUG:root:There are 1 atoms in the mask :4@O1  ...\n",
      "DEBUG:root:There are 1 atoms in the mask :5@C4  ...\n",
      "DEBUG:root:There are 1 atoms in the mask :5@C5  ...\n",
      "DEBUG:root:Calculating attach targets and force constants...\n",
      "DEBUG:root:Attach, Method #3\n",
      "DEBUG:root:Calculating pull targets and force constants...\n",
      "DEBUG:root:Pull, Method #1\n",
      "DEBUG:root:Calculating release targets and force constants...\n",
      "DEBUG:root:No restraint info set for the release phase! Skipping...\n",
      "DEBUG:root:Number of attach windows = 14\n",
      "DEBUG:root:Number of pull windows = 46\n",
      "DEBUG:root:This restraint will be skipped in the release phase\n",
      "DEBUG:root:Assigning atom indices...\n",
      "DEBUG:root:There are 1 atoms in the mask :5@O5  ...\n",
      "DEBUG:root:There are 1 atoms in the mask :5@C1  ...\n",
      "DEBUG:root:There are 1 atoms in the mask :5@O1  ...\n",
      "DEBUG:root:There are 1 atoms in the mask :6@C4  ...\n",
      "DEBUG:root:Calculating attach targets and force constants...\n",
      "DEBUG:root:Attach, Method #3\n",
      "DEBUG:root:Calculating pull targets and force constants...\n",
      "DEBUG:root:Pull, Method #1\n",
      "DEBUG:root:Calculating release targets and force constants...\n",
      "DEBUG:root:No restraint info set for the release phase! Skipping...\n",
      "DEBUG:root:Number of attach windows = 14\n",
      "DEBUG:root:Number of pull windows = 46\n",
      "DEBUG:root:This restraint will be skipped in the release phase\n",
      "DEBUG:root:Assigning atom indices...\n",
      "DEBUG:root:There are 1 atoms in the mask :5@C1  ...\n",
      "DEBUG:root:There are 1 atoms in the mask :5@O1  ...\n",
      "DEBUG:root:There are 1 atoms in the mask :6@C4  ...\n",
      "DEBUG:root:There are 1 atoms in the mask :6@C5  ...\n",
      "DEBUG:root:Calculating attach targets and force constants...\n",
      "DEBUG:root:Attach, Method #3\n",
      "DEBUG:root:Calculating pull targets and force constants...\n",
      "DEBUG:root:Pull, Method #1\n",
      "DEBUG:root:Calculating release targets and force constants...\n",
      "DEBUG:root:No restraint info set for the release phase! Skipping...\n",
      "DEBUG:root:Number of attach windows = 14\n",
      "DEBUG:root:Number of pull windows = 46\n",
      "DEBUG:root:This restraint will be skipped in the release phase\n",
      "DEBUG:root:Assigning atom indices...\n",
      "DEBUG:root:There are 1 atoms in the mask :6@O5  ...\n",
      "DEBUG:root:There are 1 atoms in the mask :6@C1  ...\n",
      "DEBUG:root:There are 1 atoms in the mask :6@O1  ...\n",
      "DEBUG:root:There are 1 atoms in the mask :7@C4  ...\n",
      "DEBUG:root:Calculating attach targets and force constants...\n",
      "DEBUG:root:Attach, Method #3\n",
      "DEBUG:root:Calculating pull targets and force constants...\n",
      "DEBUG:root:Pull, Method #1\n",
      "DEBUG:root:Calculating release targets and force constants...\n",
      "DEBUG:root:No restraint info set for the release phase! Skipping...\n",
      "DEBUG:root:Number of attach windows = 14\n",
      "DEBUG:root:Number of pull windows = 46\n",
      "DEBUG:root:This restraint will be skipped in the release phase\n",
      "DEBUG:root:Assigning atom indices...\n",
      "DEBUG:root:There are 1 atoms in the mask :6@C1  ...\n",
      "DEBUG:root:There are 1 atoms in the mask :6@O1  ...\n",
      "DEBUG:root:There are 1 atoms in the mask :7@C4  ...\n",
      "DEBUG:root:There are 1 atoms in the mask :7@C5  ...\n",
      "DEBUG:root:Calculating attach targets and force constants...\n",
      "DEBUG:root:Attach, Method #3\n",
      "DEBUG:root:Calculating pull targets and force constants...\n",
      "DEBUG:root:Pull, Method #1\n",
      "DEBUG:root:Calculating release targets and force constants...\n",
      "DEBUG:root:No restraint info set for the release phase! Skipping...\n",
      "DEBUG:root:Number of attach windows = 14\n",
      "DEBUG:root:Number of pull windows = 46\n",
      "DEBUG:root:This restraint will be skipped in the release phase\n",
      "DEBUG:root:Assigning atom indices...\n",
      "DEBUG:root:There are 1 atoms in the mask :7@O5  ...\n",
      "DEBUG:root:There are 1 atoms in the mask :7@C1  ...\n",
      "DEBUG:root:There are 1 atoms in the mask :7@O1  ...\n",
      "DEBUG:root:There are 1 atoms in the mask :8@C4  ...\n",
      "DEBUG:root:Calculating attach targets and force constants...\n",
      "DEBUG:root:Attach, Method #3\n",
      "DEBUG:root:Calculating pull targets and force constants...\n",
      "DEBUG:root:Pull, Method #1\n",
      "DEBUG:root:Calculating release targets and force constants...\n",
      "DEBUG:root:No restraint info set for the release phase! Skipping...\n",
      "DEBUG:root:Number of attach windows = 14\n",
      "DEBUG:root:Number of pull windows = 46\n",
      "DEBUG:root:This restraint will be skipped in the release phase\n",
      "DEBUG:root:Assigning atom indices...\n",
      "DEBUG:root:There are 1 atoms in the mask :7@C1  ...\n",
      "DEBUG:root:There are 1 atoms in the mask :7@O1  ...\n",
      "DEBUG:root:There are 1 atoms in the mask :8@C4  ...\n",
      "DEBUG:root:There are 1 atoms in the mask :8@C5  ...\n",
      "DEBUG:root:Calculating attach targets and force constants...\n",
      "DEBUG:root:Attach, Method #3\n",
      "DEBUG:root:Calculating pull targets and force constants...\n",
      "DEBUG:root:Pull, Method #1\n",
      "DEBUG:root:Calculating release targets and force constants...\n",
      "DEBUG:root:No restraint info set for the release phase! Skipping...\n",
      "DEBUG:root:Number of attach windows = 14\n",
      "DEBUG:root:Number of pull windows = 46\n",
      "DEBUG:root:This restraint will be skipped in the release phase\n",
      "DEBUG:root:Assigning atom indices...\n",
      "DEBUG:root:There are 1 atoms in the mask :8@O5  ...\n",
      "DEBUG:root:There are 1 atoms in the mask :8@C1  ...\n",
      "DEBUG:root:There are 1 atoms in the mask :8@O1  ...\n",
      "DEBUG:root:There are 1 atoms in the mask :9@C4  ...\n",
      "DEBUG:root:Calculating attach targets and force constants...\n",
      "DEBUG:root:Attach, Method #3\n",
      "DEBUG:root:Calculating pull targets and force constants...\n",
      "DEBUG:root:Pull, Method #1\n",
      "DEBUG:root:Calculating release targets and force constants...\n",
      "DEBUG:root:No restraint info set for the release phase! Skipping...\n",
      "DEBUG:root:Number of attach windows = 14\n",
      "DEBUG:root:Number of pull windows = 46\n",
      "DEBUG:root:This restraint will be skipped in the release phase\n",
      "DEBUG:root:Assigning atom indices...\n",
      "DEBUG:root:There are 1 atoms in the mask :8@C1  ...\n",
      "DEBUG:root:There are 1 atoms in the mask :8@O1  ...\n",
      "DEBUG:root:There are 1 atoms in the mask :9@C4  ...\n",
      "DEBUG:root:There are 1 atoms in the mask :9@C5  ...\n",
      "DEBUG:root:Calculating attach targets and force constants...\n",
      "DEBUG:root:Attach, Method #3\n",
      "DEBUG:root:Calculating pull targets and force constants...\n",
      "DEBUG:root:Pull, Method #1\n",
      "DEBUG:root:Calculating release targets and force constants...\n",
      "DEBUG:root:No restraint info set for the release phase! Skipping...\n",
      "DEBUG:root:Number of attach windows = 14\n",
      "DEBUG:root:Number of pull windows = 46\n",
      "DEBUG:root:This restraint will be skipped in the release phase\n",
      "DEBUG:root:Assigning atom indices...\n",
      "DEBUG:root:There are 1 atoms in the mask :9@O5  ...\n",
      "DEBUG:root:There are 1 atoms in the mask :9@C1  ...\n",
      "DEBUG:root:There are 1 atoms in the mask :9@O1  ...\n",
      "DEBUG:root:There are 1 atoms in the mask :4@C4  ...\n",
      "DEBUG:root:Calculating attach targets and force constants...\n",
      "DEBUG:root:Attach, Method #3\n",
      "DEBUG:root:Calculating pull targets and force constants...\n",
      "DEBUG:root:Pull, Method #1\n",
      "DEBUG:root:Calculating release targets and force constants...\n",
      "DEBUG:root:No restraint info set for the release phase! Skipping...\n",
      "DEBUG:root:Number of attach windows = 14\n",
      "DEBUG:root:Number of pull windows = 46\n",
      "DEBUG:root:This restraint will be skipped in the release phase\n",
      "DEBUG:root:Assigning atom indices...\n",
      "DEBUG:root:There are 1 atoms in the mask :9@C1  ...\n",
      "DEBUG:root:There are 1 atoms in the mask :9@O1  ...\n"
     ]
    },
    {
     "name": "stderr",
     "output_type": "stream",
     "text": [
      "DEBUG:root:There are 1 atoms in the mask :4@C4  ...\n",
      "DEBUG:root:There are 1 atoms in the mask :4@C5  ...\n"
     ]
    }
   ],
   "source": [
    "host_conformational_restraints_list = []\n",
    "for index, restraint in enumerate(host_conformational_restraints):\n",
    "    \n",
    "    this = DAT_restraint()\n",
    "    this.auto_apr = True\n",
    "    this.amber_index = True\n",
    "    this.topology = hg\n",
    "    this.attach['fraction_list'] = attach_fractions\n",
    "    this.pull['num_windows'] = len(pull_distances)\n",
    "    this.mask1 = restraint[0]\n",
    "    this.mask2 = restraint[1]\n",
    "    this.mask3 = restraint[2]\n",
    "    this.mask4 = restraint[3]\n",
    "    \n",
    "    this.attach['target'] = host_conformational_targets[index % 2]\n",
    "    this.pull['target_final'] = host_conformational_targets[index % 2]\n",
    "    this.attach['fc_final'] = attach_angle_fc\n",
    "\n",
    "    this.initialize()\n",
    "    host_conformational_restraints_list.append(this)"
   ]
  },
  {
   "cell_type": "code",
   "execution_count": 244,
   "metadata": {
    "ExecuteTime": {
     "end_time": "2018-03-25T00:22:32.096890Z",
     "start_time": "2018-03-25T00:22:32.082363Z"
    }
   },
   "outputs": [
    {
     "name": "stdout",
     "output_type": "stream",
     "text": [
      "Adding 12 host conformational restraints...\n"
     ]
    }
   ],
   "source": [
    "print(f'Adding {len(host_conformational_restraints_list)} host conformational restraints...')"
   ]
  },
  {
   "cell_type": "code",
   "execution_count": 245,
   "metadata": {
    "ExecuteTime": {
     "end_time": "2018-03-25T00:22:50.310806Z",
     "start_time": "2018-03-25T00:22:50.296789Z"
    }
   },
   "outputs": [],
   "source": [
    "restraints.extend(host_conformational_restraints_list)"
   ]
  },
  {
   "cell_type": "markdown",
   "metadata": {},
   "source": [
    "### Guest \"wall\" restraints"
   ]
  },
  {
   "cell_type": "markdown",
   "metadata": {},
   "source": [
    "Okay great, I think we're ready for just the wall restraints!\n",
    "\n",
    "The first set of guest \"wall restraints\" go between `guest_anchors[0]` and the `HO2` and `HO6` hydroxyls along the host. These will probably have to swap when binding to the secondary face."
   ]
  },
  {
   "cell_type": "code",
   "execution_count": 246,
   "metadata": {
    "ExecuteTime": {
     "end_time": "2018-03-25T00:22:51.984578Z",
     "start_time": "2018-03-25T00:22:51.812296Z"
    }
   },
   "outputs": [],
   "source": [
    "guest_wall_restraints_template = [\n",
    "    ['HO2', guest_anchors[0]],\n",
    "    ['HO6', guest_anchors[0]]\n",
    "]\n",
    "\n",
    "guest_wall_restraints = []\n",
    "host_residues = len(hg[':MGO'].residues)\n",
    "first_host_residue = hg[':MGO'].residues[0].number + 1\n",
    "template = guest_wall_restraints_template\n",
    "\n",
    "for n in range(first_host_residue, host_residues + first_host_residue):\n",
    "    guest_wall_restraints.append(\n",
    "        [f':{n}@{template[0][0]}',\n",
    "         f'{template[0][1]}',\n",
    "        ])\n",
    "    guest_wall_restraints.append(\n",
    "        [f':{n}@{template[1][0]}',\n",
    "         f'{template[1][1]}',\n",
    "        ])\n",
    "    \n",
    "guest_wall_restraints.append([dummy_anchors[2],\n",
    "                             guest_anchors[0],\n",
    "                             guest_anchors[1]])"
   ]
  },
  {
   "cell_type": "markdown",
   "metadata": {},
   "source": [
    "I'm not sure where these target values come from."
   ]
  },
  {
   "cell_type": "code",
   "execution_count": 247,
   "metadata": {
    "ExecuteTime": {
     "end_time": "2018-03-25T00:22:52.694331Z",
     "start_time": "2018-03-25T00:22:52.680333Z"
    }
   },
   "outputs": [],
   "source": [
    "guest_wall_restraint_targets = [\n",
    "    11.3,\n",
    "    13.3\n",
    "]"
   ]
  },
  {
   "cell_type": "code",
   "execution_count": 248,
   "metadata": {
    "ExecuteTime": {
     "end_time": "2018-03-25T00:22:55.117175Z",
     "start_time": "2018-03-25T00:22:54.111116Z"
    }
   },
   "outputs": [
    {
     "name": "stderr",
     "output_type": "stream",
     "text": [
      "DEBUG:root:Calculating attach targets and force constants...\n",
      "DEBUG:root:Attach, Method #3\n",
      "DEBUG:root:Calculating pull targets and force constants...\n",
      "DEBUG:root:No restraint info set for the pull phase! Skipping...\n",
      "DEBUG:root:Calculating release targets and force constants...\n",
      "DEBUG:root:No restraint info set for the release phase! Skipping...\n",
      "DEBUG:root:Number of attach windows = 14\n",
      "DEBUG:root:This restraint will be skipped in the pull phase\n",
      "DEBUG:root:This restraint will be skipped in the release phase\n",
      "DEBUG:root:Assigning atom indices...\n",
      "DEBUG:root:There are 1 atoms in the mask :4@HO2  ...\n",
      "DEBUG:root:There are 1 atoms in the mask :10@C4  ...\n",
      "DEBUG:root:Calculating attach targets and force constants...\n",
      "DEBUG:root:Attach, Method #3\n",
      "DEBUG:root:Calculating pull targets and force constants...\n",
      "DEBUG:root:No restraint info set for the pull phase! Skipping...\n",
      "DEBUG:root:Calculating release targets and force constants...\n",
      "DEBUG:root:No restraint info set for the release phase! Skipping...\n",
      "DEBUG:root:Number of attach windows = 14\n",
      "DEBUG:root:This restraint will be skipped in the pull phase\n",
      "DEBUG:root:This restraint will be skipped in the release phase\n",
      "DEBUG:root:Assigning atom indices...\n",
      "DEBUG:root:There are 1 atoms in the mask :4@HO6  ...\n",
      "DEBUG:root:There are 1 atoms in the mask :10@C4  ...\n",
      "DEBUG:root:Calculating attach targets and force constants...\n",
      "DEBUG:root:Attach, Method #3\n",
      "DEBUG:root:Calculating pull targets and force constants...\n",
      "DEBUG:root:No restraint info set for the pull phase! Skipping...\n",
      "DEBUG:root:Calculating release targets and force constants...\n",
      "DEBUG:root:No restraint info set for the release phase! Skipping...\n",
      "DEBUG:root:Number of attach windows = 14\n",
      "DEBUG:root:This restraint will be skipped in the pull phase\n",
      "DEBUG:root:This restraint will be skipped in the release phase\n",
      "DEBUG:root:Assigning atom indices...\n",
      "DEBUG:root:There are 1 atoms in the mask :5@HO2  ...\n",
      "DEBUG:root:There are 1 atoms in the mask :10@C4  ...\n",
      "DEBUG:root:Calculating attach targets and force constants...\n",
      "DEBUG:root:Attach, Method #3\n",
      "DEBUG:root:Calculating pull targets and force constants...\n",
      "DEBUG:root:No restraint info set for the pull phase! Skipping...\n",
      "DEBUG:root:Calculating release targets and force constants...\n",
      "DEBUG:root:No restraint info set for the release phase! Skipping...\n",
      "DEBUG:root:Number of attach windows = 14\n",
      "DEBUG:root:This restraint will be skipped in the pull phase\n",
      "DEBUG:root:This restraint will be skipped in the release phase\n",
      "DEBUG:root:Assigning atom indices...\n",
      "DEBUG:root:There are 1 atoms in the mask :5@HO6  ...\n",
      "DEBUG:root:There are 1 atoms in the mask :10@C4  ...\n",
      "DEBUG:root:Calculating attach targets and force constants...\n",
      "DEBUG:root:Attach, Method #3\n",
      "DEBUG:root:Calculating pull targets and force constants...\n",
      "DEBUG:root:No restraint info set for the pull phase! Skipping...\n",
      "DEBUG:root:Calculating release targets and force constants...\n",
      "DEBUG:root:No restraint info set for the release phase! Skipping...\n",
      "DEBUG:root:Number of attach windows = 14\n",
      "DEBUG:root:This restraint will be skipped in the pull phase\n",
      "DEBUG:root:This restraint will be skipped in the release phase\n",
      "DEBUG:root:Assigning atom indices...\n",
      "DEBUG:root:There are 1 atoms in the mask :6@HO2  ...\n",
      "DEBUG:root:There are 1 atoms in the mask :10@C4  ...\n",
      "DEBUG:root:Calculating attach targets and force constants...\n",
      "DEBUG:root:Attach, Method #3\n",
      "DEBUG:root:Calculating pull targets and force constants...\n",
      "DEBUG:root:No restraint info set for the pull phase! Skipping...\n",
      "DEBUG:root:Calculating release targets and force constants...\n",
      "DEBUG:root:No restraint info set for the release phase! Skipping...\n",
      "DEBUG:root:Number of attach windows = 14\n",
      "DEBUG:root:This restraint will be skipped in the pull phase\n",
      "DEBUG:root:This restraint will be skipped in the release phase\n",
      "DEBUG:root:Assigning atom indices...\n",
      "DEBUG:root:There are 1 atoms in the mask :6@HO6  ...\n",
      "DEBUG:root:There are 1 atoms in the mask :10@C4  ...\n",
      "DEBUG:root:Calculating attach targets and force constants...\n",
      "DEBUG:root:Attach, Method #3\n",
      "DEBUG:root:Calculating pull targets and force constants...\n",
      "DEBUG:root:No restraint info set for the pull phase! Skipping...\n",
      "DEBUG:root:Calculating release targets and force constants...\n",
      "DEBUG:root:No restraint info set for the release phase! Skipping...\n",
      "DEBUG:root:Number of attach windows = 14\n",
      "DEBUG:root:This restraint will be skipped in the pull phase\n",
      "DEBUG:root:This restraint will be skipped in the release phase\n",
      "DEBUG:root:Assigning atom indices...\n",
      "DEBUG:root:There are 1 atoms in the mask :7@HO2  ...\n",
      "DEBUG:root:There are 1 atoms in the mask :10@C4  ...\n",
      "DEBUG:root:Calculating attach targets and force constants...\n",
      "DEBUG:root:Attach, Method #3\n",
      "DEBUG:root:Calculating pull targets and force constants...\n",
      "DEBUG:root:No restraint info set for the pull phase! Skipping...\n",
      "DEBUG:root:Calculating release targets and force constants...\n",
      "DEBUG:root:No restraint info set for the release phase! Skipping...\n",
      "DEBUG:root:Number of attach windows = 14\n",
      "DEBUG:root:This restraint will be skipped in the pull phase\n",
      "DEBUG:root:This restraint will be skipped in the release phase\n",
      "DEBUG:root:Assigning atom indices...\n",
      "DEBUG:root:There are 1 atoms in the mask :7@HO6  ...\n",
      "DEBUG:root:There are 1 atoms in the mask :10@C4  ...\n",
      "DEBUG:root:Calculating attach targets and force constants...\n",
      "DEBUG:root:Attach, Method #3\n",
      "DEBUG:root:Calculating pull targets and force constants...\n",
      "DEBUG:root:No restraint info set for the pull phase! Skipping...\n",
      "DEBUG:root:Calculating release targets and force constants...\n",
      "DEBUG:root:No restraint info set for the release phase! Skipping...\n",
      "DEBUG:root:Number of attach windows = 14\n",
      "DEBUG:root:This restraint will be skipped in the pull phase\n",
      "DEBUG:root:This restraint will be skipped in the release phase\n",
      "DEBUG:root:Assigning atom indices...\n",
      "DEBUG:root:There are 1 atoms in the mask :8@HO2  ...\n",
      "DEBUG:root:There are 1 atoms in the mask :10@C4  ...\n",
      "DEBUG:root:Calculating attach targets and force constants...\n",
      "DEBUG:root:Attach, Method #3\n",
      "DEBUG:root:Calculating pull targets and force constants...\n",
      "DEBUG:root:No restraint info set for the pull phase! Skipping...\n",
      "DEBUG:root:Calculating release targets and force constants...\n",
      "DEBUG:root:No restraint info set for the release phase! Skipping...\n",
      "DEBUG:root:Number of attach windows = 14\n",
      "DEBUG:root:This restraint will be skipped in the pull phase\n",
      "DEBUG:root:This restraint will be skipped in the release phase\n",
      "DEBUG:root:Assigning atom indices...\n",
      "DEBUG:root:There are 1 atoms in the mask :8@HO6  ...\n",
      "DEBUG:root:There are 1 atoms in the mask :10@C4  ...\n",
      "DEBUG:root:Calculating attach targets and force constants...\n",
      "DEBUG:root:Attach, Method #3\n",
      "DEBUG:root:Calculating pull targets and force constants...\n",
      "DEBUG:root:No restraint info set for the pull phase! Skipping...\n",
      "DEBUG:root:Calculating release targets and force constants...\n",
      "DEBUG:root:No restraint info set for the release phase! Skipping...\n",
      "DEBUG:root:Number of attach windows = 14\n",
      "DEBUG:root:This restraint will be skipped in the pull phase\n",
      "DEBUG:root:This restraint will be skipped in the release phase\n",
      "DEBUG:root:Assigning atom indices...\n",
      "DEBUG:root:There are 1 atoms in the mask :9@HO2  ...\n",
      "DEBUG:root:There are 1 atoms in the mask :10@C4  ...\n",
      "DEBUG:root:Calculating attach targets and force constants...\n",
      "DEBUG:root:Attach, Method #3\n",
      "DEBUG:root:Calculating pull targets and force constants...\n",
      "DEBUG:root:No restraint info set for the pull phase! Skipping...\n",
      "DEBUG:root:Calculating release targets and force constants...\n",
      "DEBUG:root:No restraint info set for the release phase! Skipping...\n",
      "DEBUG:root:Number of attach windows = 14\n",
      "DEBUG:root:This restraint will be skipped in the pull phase\n",
      "DEBUG:root:This restraint will be skipped in the release phase\n",
      "DEBUG:root:Assigning atom indices...\n",
      "DEBUG:root:There are 1 atoms in the mask :9@HO6  ...\n",
      "DEBUG:root:There are 1 atoms in the mask :10@C4  ...\n",
      "DEBUG:root:Calculating attach targets and force constants...\n",
      "DEBUG:root:Attach, Method #3\n",
      "DEBUG:root:Calculating pull targets and force constants...\n",
      "DEBUG:root:No restraint info set for the pull phase! Skipping...\n",
      "DEBUG:root:Calculating release targets and force constants...\n",
      "DEBUG:root:No restraint info set for the release phase! Skipping...\n",
      "DEBUG:root:Number of attach windows = 14\n"
     ]
    },
    {
     "name": "stderr",
     "output_type": "stream",
     "text": [
      "DEBUG:root:This restraint will be skipped in the pull phase\n",
      "DEBUG:root:This restraint will be skipped in the release phase\n",
      "DEBUG:root:Assigning atom indices...\n",
      "DEBUG:root:There are 1 atoms in the mask :3  ...\n",
      "DEBUG:root:There are 1 atoms in the mask :10@C4  ...\n",
      "DEBUG:root:There are 1 atoms in the mask :10@N1  ...\n"
     ]
    }
   ],
   "source": [
    "# The guest wall restraints are only on during the attachment phase!\n",
    "guest_wall_restraints_list = []\n",
    "\n",
    "for index, restraint in enumerate(guest_wall_restraints):\n",
    "    if len(restraint) > 2:\n",
    "        angle = True\n",
    "    else:\n",
    "        angle = False\n",
    "    this = DAT_restraint()\n",
    "    this.auto_apr = True\n",
    "    this.amber_index = True\n",
    "    this.topology = hg\n",
    "    this.attach['fraction_list'] = attach_fractions\n",
    "    this.mask1 = restraint[0]\n",
    "    this.mask2 = restraint[1]\n",
    "    \n",
    "    if angle:\n",
    "        this.mask3 = restraint[2]\n",
    "        this.attach['target'] = guest_wall_restraint_targets[index % 2]\n",
    "        this.attach['fc_final'] = 50.0\n",
    "    else:\n",
    "        this.attach['target'] = 80.0\n",
    "        this.attach['fc_final'] = 500.0\n",
    "    \n",
    "    this.initialize()\n",
    "    guest_wall_restraints_list.append(this)"
   ]
  },
  {
   "cell_type": "code",
   "execution_count": 249,
   "metadata": {
    "ExecuteTime": {
     "end_time": "2018-03-25T00:23:15.489157Z",
     "start_time": "2018-03-25T00:23:15.474618Z"
    }
   },
   "outputs": [
    {
     "name": "stdout",
     "output_type": "stream",
     "text": [
      "Adding 13 guest wall restraints...\n"
     ]
    }
   ],
   "source": [
    "print(f'Adding {len(guest_wall_restraints_list)} guest wall restraints...')"
   ]
  },
  {
   "cell_type": "code",
   "execution_count": 250,
   "metadata": {
    "ExecuteTime": {
     "end_time": "2018-03-25T00:23:21.046481Z",
     "start_time": "2018-03-25T00:23:21.032359Z"
    }
   },
   "outputs": [],
   "source": [
    "restraints.extend(guest_wall_restraints_list)"
   ]
  },
  {
   "cell_type": "code",
   "execution_count": 251,
   "metadata": {
    "ExecuteTime": {
     "end_time": "2018-03-25T00:23:21.958344Z",
     "start_time": "2018-03-25T00:23:21.942819Z"
    }
   },
   "outputs": [
    {
     "data": {
      "text/plain": [
       "[<paprika.restraints.DAT_restraint at 0x7f502a528a58>,\n",
       " <paprika.restraints.DAT_restraint at 0x7f502937c080>,\n",
       " <paprika.restraints.DAT_restraint at 0x7f502ae9a908>,\n",
       " <paprika.restraints.DAT_restraint at 0x7f5033c890f0>,\n",
       " <paprika.restraints.DAT_restraint at 0x7f502b017908>,\n",
       " <paprika.restraints.DAT_restraint at 0x7f5033b8ad30>,\n",
       " <paprika.restraints.DAT_restraint at 0x7f50286e6e48>,\n",
       " <paprika.restraints.DAT_restraint at 0x7f50286e6e80>,\n",
       " <paprika.restraints.DAT_restraint at 0x7f50286e6978>,\n",
       " <paprika.restraints.DAT_restraint at 0x7f5029bbb320>,\n",
       " <paprika.restraints.DAT_restraint at 0x7f5029bbbc50>,\n",
       " <paprika.restraints.DAT_restraint at 0x7f5029bbb208>,\n",
       " <paprika.restraints.DAT_restraint at 0x7f50295c1470>,\n",
       " <paprika.restraints.DAT_restraint at 0x7f50295c10b8>,\n",
       " <paprika.restraints.DAT_restraint at 0x7f50295c1518>,\n",
       " <paprika.restraints.DAT_restraint at 0x7f50295c10f0>,\n",
       " <paprika.restraints.DAT_restraint at 0x7f50295c1278>,\n",
       " <paprika.restraints.DAT_restraint at 0x7f50295c1630>,\n",
       " <paprika.restraints.DAT_restraint at 0x7f50295c1400>,\n",
       " <paprika.restraints.DAT_restraint at 0x7f50295c1320>,\n",
       " <paprika.restraints.DAT_restraint at 0x7f50295c1128>,\n",
       " <paprika.restraints.DAT_restraint at 0x7f5026710b00>,\n",
       " <paprika.restraints.DAT_restraint at 0x7f5026710f60>,\n",
       " <paprika.restraints.DAT_restraint at 0x7f502888c278>,\n",
       " <paprika.restraints.DAT_restraint at 0x7f5026710ef0>,\n",
       " <paprika.restraints.DAT_restraint at 0x7f50267106d8>,\n",
       " <paprika.restraints.DAT_restraint at 0x7f502a528cc0>,\n",
       " <paprika.restraints.DAT_restraint at 0x7f502a528710>,\n",
       " <paprika.restraints.DAT_restraint at 0x7f502a5285f8>,\n",
       " <paprika.restraints.DAT_restraint at 0x7f502a4296d8>,\n",
       " <paprika.restraints.DAT_restraint at 0x7f50295c1358>,\n",
       " <paprika.restraints.DAT_restraint at 0x7f502b027198>,\n",
       " <paprika.restraints.DAT_restraint at 0x7f502a528208>,\n",
       " <paprika.restraints.DAT_restraint at 0x7f502a528940>]"
      ]
     },
     "execution_count": 251,
     "metadata": {},
     "output_type": "execute_result"
    }
   ],
   "source": [
    "restraints"
   ]
  },
  {
   "cell_type": "code",
   "execution_count": 252,
   "metadata": {
    "ExecuteTime": {
     "end_time": "2018-03-25T00:23:24.060822Z",
     "start_time": "2018-03-25T00:23:24.046444Z"
    }
   },
   "outputs": [
    {
     "name": "stdout",
     "output_type": "stream",
     "text": [
      "34\n"
     ]
    }
   ],
   "source": [
    "print(len(restraints))"
   ]
  },
  {
   "cell_type": "markdown",
   "metadata": {},
   "source": [
    "## Make the window list"
   ]
  },
  {
   "cell_type": "code",
   "execution_count": 253,
   "metadata": {
    "ExecuteTime": {
     "end_time": "2018-03-25T00:24:12.983036Z",
     "start_time": "2018-03-25T00:24:12.954773Z"
    }
   },
   "outputs": [
    {
     "name": "stderr",
     "output_type": "stream",
     "text": [
      "DEBUG:root:All restraints are \"continuous_apr\" style.\n",
      "INFO:root:Restraints appear to be consistent\n"
     ]
    }
   ],
   "source": [
    "from paprika.restraints import create_window_list\n",
    "window_list = create_window_list(restraints)"
   ]
  },
  {
   "cell_type": "code",
   "execution_count": 254,
   "metadata": {
    "ExecuteTime": {
     "end_time": "2018-03-25T00:26:12.582152Z",
     "start_time": "2018-03-25T00:26:12.568178Z"
    }
   },
   "outputs": [],
   "source": [
    "from paprika.restraints import amber_restraint_line"
   ]
  },
  {
   "cell_type": "code",
   "execution_count": 269,
   "metadata": {
    "ExecuteTime": {
     "end_time": "2018-03-25T00:32:33.108748Z",
     "start_time": "2018-03-25T00:32:33.078398Z"
    }
   },
   "outputs": [
    {
     "name": "stdout",
     "output_type": "stream",
     "text": [
      "100.0\n",
      "100.0\n",
      "100.0\n",
      "100.0\n",
      "100.0\n",
      "100.0\n",
      "0.0\n",
      "0.0\n",
      "0.0\n",
      "0.0\n",
      "0.0\n",
      "0.0\n",
      "0.0\n",
      "0.0\n",
      "0.0\n",
      "0.0\n",
      "0.0\n",
      "0.0\n",
      "0.0\n",
      "0.0\n",
      "0.0\n",
      "0.0\n",
      "0.0\n",
      "0.0\n",
      "0.0\n",
      "0.0\n",
      "0.0\n",
      "0.0\n",
      "0.0\n",
      "0.0\n",
      "0.0\n",
      "0.0\n",
      "0.0\n",
      "0.0\n",
      "100.0\n",
      "100.0\n",
      "100.0\n",
      "100.0\n",
      "100.0\n",
      "100.0\n",
      "0.02\n",
      "0.4\n",
      "0.4\n",
      "0.4\n",
      "0.4\n",
      "0.4\n",
      "0.4\n",
      "0.4\n",
      "0.4\n",
      "0.4\n",
      "0.4\n",
      "0.4\n",
      "0.4\n",
      "0.4\n",
      "0.4\n",
      "2.0\n",
      "2.0\n",
      "2.0\n",
      "2.0\n",
      "2.0\n",
      "2.0\n",
      "2.0\n",
      "2.0\n",
      "2.0\n",
      "2.0\n",
      "2.0\n",
      "2.0\n",
      "0.2\n",
      "100.0\n",
      "100.0\n",
      "100.0\n",
      "100.0\n",
      "100.0\n",
      "100.0\n",
      "0.04\n",
      "0.8\n",
      "0.8\n",
      "0.8\n",
      "0.8\n",
      "0.8\n",
      "0.8\n",
      "0.8\n",
      "0.8\n",
      "0.8\n",
      "0.8\n",
      "0.8\n",
      "0.8\n",
      "0.8\n",
      "0.8\n",
      "4.0\n",
      "4.0\n",
      "4.0\n",
      "4.0\n",
      "4.0\n",
      "4.0\n",
      "4.0\n",
      "4.0\n",
      "4.0\n",
      "4.0\n",
      "4.0\n",
      "4.0\n",
      "0.4\n",
      "100.0\n",
      "100.0\n",
      "100.0\n",
      "100.0\n",
      "100.0\n",
      "100.0\n",
      "0.08\n",
      "1.6\n",
      "1.6\n",
      "1.6\n",
      "1.6\n",
      "1.6\n",
      "1.6\n",
      "1.6\n",
      "1.6\n",
      "1.6\n",
      "1.6\n",
      "1.6\n",
      "1.6\n",
      "1.6\n",
      "1.6\n",
      "8.0\n",
      "8.0\n",
      "8.0\n",
      "8.0\n",
      "8.0\n",
      "8.0\n",
      "8.0\n",
      "8.0\n",
      "8.0\n",
      "8.0\n",
      "8.0\n",
      "8.0\n",
      "0.8\n",
      "100.0\n",
      "100.0\n",
      "100.0\n",
      "100.0\n",
      "100.0\n",
      "100.0\n",
      "0.12\n",
      "2.4\n",
      "2.4\n",
      "2.4\n",
      "2.4\n",
      "2.4\n",
      "2.4\n",
      "2.4\n",
      "2.4\n",
      "2.4\n",
      "2.4\n",
      "2.4\n",
      "2.4\n",
      "2.4\n",
      "2.4\n",
      "12.0\n",
      "12.0\n",
      "12.0\n",
      "12.0\n",
      "12.0\n",
      "12.0\n",
      "12.0\n",
      "12.0\n",
      "12.0\n",
      "12.0\n",
      "12.0\n",
      "12.0\n",
      "1.2\n",
      "100.0\n",
      "100.0\n",
      "100.0\n",
      "100.0\n",
      "100.0\n",
      "100.0\n",
      "0.2\n",
      "4.0\n",
      "4.0\n",
      "4.0\n",
      "4.0\n",
      "4.0\n",
      "4.0\n",
      "4.0\n",
      "4.0\n",
      "4.0\n",
      "4.0\n",
      "4.0\n",
      "4.0\n",
      "4.0\n",
      "4.0\n",
      "20.0\n",
      "20.0\n",
      "20.0\n",
      "20.0\n",
      "20.0\n",
      "20.0\n",
      "20.0\n",
      "20.0\n",
      "20.0\n",
      "20.0\n",
      "20.0\n",
      "20.0\n",
      "2.0\n",
      "100.0\n",
      "100.0\n",
      "100.0\n",
      "100.0\n",
      "100.0\n",
      "100.0\n",
      "0.275\n",
      "5.5\n",
      "5.5\n",
      "5.5\n",
      "5.5\n",
      "5.5\n",
      "5.5\n",
      "5.5\n",
      "5.5\n",
      "5.5\n",
      "5.5\n",
      "5.5\n",
      "5.5\n",
      "5.5\n",
      "5.5\n",
      "27.5\n",
      "27.5\n",
      "27.5\n",
      "27.5\n",
      "27.5\n",
      "27.5\n",
      "27.5\n",
      "27.5\n",
      "27.5\n",
      "27.5\n",
      "27.5\n",
      "27.5\n",
      "2.75\n",
      "100.0\n",
      "100.0\n",
      "100.0\n",
      "100.0\n",
      "100.0\n",
      "100.0\n",
      "0.4325\n",
      "8.65\n",
      "8.65\n",
      "8.65\n",
      "8.65\n",
      "8.65\n",
      "8.65\n",
      "8.65\n",
      "8.65\n",
      "8.65\n",
      "8.65\n",
      "8.65\n",
      "8.65\n",
      "8.65\n",
      "8.65\n",
      "43.25\n",
      "43.25\n",
      "43.25\n",
      "43.25\n",
      "43.25\n",
      "43.25\n",
      "43.25\n",
      "43.25\n",
      "43.25\n",
      "43.25\n",
      "43.25\n",
      "43.25\n",
      "4.325\n",
      "100.0\n",
      "100.0\n",
      "100.0\n",
      "100.0\n",
      "100.0\n",
      "100.0\n",
      "0.59\n",
      "11.8\n",
      "11.8\n",
      "11.8\n",
      "11.8\n",
      "11.8\n",
      "11.8\n",
      "11.8\n",
      "11.8\n",
      "11.8\n",
      "11.8\n",
      "11.8\n",
      "11.8\n",
      "11.8\n",
      "11.8\n",
      "59.0\n",
      "59.0\n",
      "59.0\n",
      "59.0\n",
      "59.0\n",
      "59.0\n",
      "59.0\n",
      "59.0\n",
      "59.0\n",
      "59.0\n",
      "59.0\n",
      "59.0\n",
      "5.9\n",
      "100.0\n",
      "100.0\n",
      "100.0\n",
      "100.0\n",
      "100.0\n",
      "100.0\n",
      "0.905\n",
      "18.1\n",
      "18.1\n",
      "18.1\n",
      "18.1\n",
      "18.1\n",
      "18.1\n",
      "18.1\n",
      "18.1\n",
      "18.1\n",
      "18.1\n",
      "18.1\n",
      "18.1\n",
      "18.1\n",
      "18.1\n",
      "90.5\n",
      "90.5\n",
      "90.5\n",
      "90.5\n",
      "90.5\n",
      "90.5\n",
      "90.5\n",
      "90.5\n",
      "90.5\n",
      "90.5\n",
      "90.5\n",
      "90.5\n",
      "9.05\n",
      "100.0\n",
      "100.0\n",
      "100.0\n",
      "100.0\n",
      "100.0\n",
      "100.0\n",
      "1.22\n",
      "24.4\n",
      "24.4\n",
      "24.4\n",
      "24.4\n",
      "24.4\n",
      "24.4\n",
      "24.4\n",
      "24.4\n",
      "24.4\n",
      "24.4\n",
      "24.4\n",
      "24.4\n",
      "24.4\n",
      "24.4\n",
      "122.0\n",
      "122.0\n",
      "122.0\n",
      "122.0\n",
      "122.0\n",
      "122.0\n",
      "122.0\n",
      "122.0\n",
      "122.0\n",
      "122.0\n",
      "122.0\n",
      "122.0\n",
      "12.2\n",
      "100.0\n",
      "100.0\n",
      "100.0\n",
      "100.0\n",
      "100.0\n",
      "100.0\n",
      "1.85\n",
      "37.0\n",
      "37.0\n",
      "37.0\n",
      "37.0\n",
      "37.0\n",
      "37.0\n",
      "37.0\n",
      "37.0\n",
      "37.0\n",
      "37.0\n",
      "37.0\n",
      "37.0\n",
      "37.0\n",
      "37.0\n",
      "185.0\n",
      "185.0\n",
      "185.0\n",
      "185.0\n",
      "185.0\n",
      "185.0\n",
      "185.0\n",
      "185.0\n",
      "185.0\n",
      "185.0\n",
      "185.0\n",
      "185.0\n",
      "18.5\n",
      "100.0\n",
      "100.0\n",
      "100.0\n",
      "100.0\n",
      "100.0\n",
      "100.0\n",
      "2.48\n",
      "49.6\n",
      "49.6\n",
      "49.6\n",
      "49.6\n",
      "49.6\n",
      "49.6\n",
      "49.6\n",
      "49.6\n",
      "49.6\n",
      "49.6\n",
      "49.6\n",
      "49.6\n",
      "49.6\n",
      "49.6\n",
      "248.0\n",
      "248.0\n",
      "248.0\n",
      "248.0\n",
      "248.0\n",
      "248.0\n",
      "248.0\n",
      "248.0\n",
      "248.0\n",
      "248.0\n",
      "248.0\n",
      "248.0\n",
      "24.8\n",
      "100.0\n",
      "100.0\n",
      "100.0\n",
      "100.0\n",
      "100.0\n",
      "100.0\n",
      "3.74\n",
      "74.8\n",
      "74.8\n",
      "74.8\n",
      "74.8\n",
      "74.8\n",
      "74.8\n",
      "74.8\n",
      "74.8\n",
      "74.8\n",
      "74.8\n",
      "74.8\n",
      "74.8\n",
      "74.8\n",
      "74.8\n",
      "374.0\n",
      "374.0\n",
      "374.0\n",
      "374.0\n",
      "374.0\n",
      "374.0\n",
      "374.0\n",
      "374.0\n",
      "374.0\n",
      "374.0\n",
      "374.0\n",
      "374.0\n",
      "37.4\n"
     ]
    },
    {
     "ename": "IndexError",
     "evalue": "index 14 is out of bounds for axis 0 with size 14",
     "output_type": "error",
     "traceback": [
      "\u001b[0;31m---------------------------------------------------------------------------\u001b[0m",
      "\u001b[0;31mIndexError\u001b[0m                                Traceback (most recent call last)",
      "\u001b[0;32m<ipython-input-269-f3dc1febd085>\u001b[0m in \u001b[0;36m<module>\u001b[0;34m()\u001b[0m\n\u001b[1;32m      2\u001b[0m     \u001b[0;32mfor\u001b[0m \u001b[0mindex\u001b[0m\u001b[0;34m,\u001b[0m \u001b[0mwindow\u001b[0m \u001b[0;32min\u001b[0m \u001b[0menumerate\u001b[0m\u001b[0;34m(\u001b[0m\u001b[0mwindow_list\u001b[0m\u001b[0;34m)\u001b[0m\u001b[0;34m:\u001b[0m\u001b[0;34m\u001b[0m\u001b[0m\n\u001b[1;32m      3\u001b[0m         \u001b[0;32mfor\u001b[0m \u001b[0mrestraint\u001b[0m \u001b[0;32min\u001b[0m \u001b[0mrestraints\u001b[0m\u001b[0;34m:\u001b[0m\u001b[0;34m\u001b[0m\u001b[0m\n\u001b[0;32m----> 4\u001b[0;31m             \u001b[0mprint\u001b[0m\u001b[0;34m(\u001b[0m\u001b[0mrestraint\u001b[0m\u001b[0;34m.\u001b[0m\u001b[0mphase\u001b[0m\u001b[0;34m[\u001b[0m\u001b[0mphase\u001b[0m\u001b[0;34m]\u001b[0m\u001b[0;34m[\u001b[0m\u001b[0;34m'force_constants'\u001b[0m\u001b[0;34m]\u001b[0m\u001b[0;34m[\u001b[0m\u001b[0mindex\u001b[0m\u001b[0;34m]\u001b[0m\u001b[0;34m)\u001b[0m\u001b[0;34m\u001b[0m\u001b[0m\n\u001b[0m\u001b[1;32m      5\u001b[0m             \u001b[0;31m# amber_restraint_line(restraint, 'attach', index)\u001b[0m\u001b[0;34m\u001b[0m\u001b[0;34m\u001b[0m\u001b[0m\n\u001b[1;32m      6\u001b[0m \u001b[0;34m\u001b[0m\u001b[0m\n",
      "\u001b[0;31mIndexError\u001b[0m: index 14 is out of bounds for axis 0 with size 14"
     ]
    }
   ],
   "source": [
    "for phase in ['attach', 'pull']:\n",
    "    for index, window in enumerate(window_list):\n",
    "        for restraint in restraints:\n",
    "            print(restraint.phase[phase]['force_constants'][index])\n",
    "            # amber_restraint_line(restraint, 'attach', index)\n",
    "\n"
   ]
  },
  {
   "cell_type": "code",
   "execution_count": 258,
   "metadata": {
    "ExecuteTime": {
     "end_time": "2018-03-25T00:27:36.881223Z",
     "start_time": "2018-03-25T00:27:36.866372Z"
    }
   },
   "outputs": [
    {
     "name": "stdout",
     "output_type": "stream",
     "text": [
      "Help on function amber_restraint_line in module paprika.restraints:\n",
      "\n",
      "amber_restraint_line(restraint, phase, window)\n",
      "    Return an AMBER restraint line a specific phase/window combination.\n",
      "    For example:\n",
      "    &rst iat= 3,109, r1= 0.0000, r2= 6.9665, r3= 6.9665, r4= 999.0000,\n",
      "         rk2= 5.0000000, rk3= 5.0000000, &end\n",
      "    Or:\n",
      "    &rst iat= -1,-1, igr1=3,4,7,8,21,22,25,26,39,40,43,44,57,58,61,62,75,76,79,\n",
      "    80,93,94,97,98, igr2=109,113,115,119,\n",
      "    r1=     0.0000, r2=     5.9665, r3=     5.9665, r4=   999.0000,\n",
      "    rk2=   5.0000000, rk3=   5.0000000, &end\n",
      "\n"
     ]
    }
   ],
   "source": [
    "help(amber_restraint_line)"
   ]
  },
  {
   "cell_type": "code",
   "execution_count": null,
   "metadata": {},
   "outputs": [],
   "source": []
  }
 ],
 "metadata": {
  "kernelspec": {
   "display_name": "Python [conda env:smirnoff-paprika]",
   "language": "python",
   "name": "conda-env-smirnoff-paprika-py"
  },
  "language_info": {
   "codemirror_mode": {
    "name": "ipython",
    "version": 3
   },
   "file_extension": ".py",
   "mimetype": "text/x-python",
   "name": "python",
   "nbconvert_exporter": "python",
   "pygments_lexer": "ipython3",
   "version": "3.6.4"
  }
 },
 "nbformat": 4,
 "nbformat_minor": 2
}
