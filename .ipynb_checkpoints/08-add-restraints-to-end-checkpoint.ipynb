{
 "cells": [
  {
   "cell_type": "markdown",
   "metadata": {},
   "source": [
    "# Minimal simulation setup"
   ]
  },
  {
   "cell_type": "code",
   "execution_count": 69,
   "metadata": {
    "ExecuteTime": {
     "end_time": "2018-04-18T01:33:17.212094Z",
     "start_time": "2018-04-18T01:33:17.190146Z"
    }
   },
   "outputs": [
    {
     "name": "stderr",
     "output_type": "stream",
     "text": [
      "2018-04-17 06:33:17 PM Started logging...\n"
     ]
    },
    {
     "name": "stdout",
     "output_type": "stream",
     "text": [
      "The autoreload extension is already loaded. To reload it, use:\n",
      "  %reload_ext autoreload\n"
     ]
    }
   ],
   "source": [
    "%load_ext autoreload\n",
    "%autoreload 2\n",
    "\n",
    "from importlib import reload\n",
    "import logging\n",
    "\n",
    "reload(logging)\n",
    "logging.basicConfig(format='%(asctime)s %(message)s', datefmt='%Y-%m-%d %I:%M:%S %p',\n",
    "                    level=logging.DEBUG)\n"
   ]
  },
  {
   "cell_type": "code",
   "execution_count": 80,
   "metadata": {
    "ExecuteTime": {
     "end_time": "2018-04-18T01:43:40.415096Z",
     "start_time": "2018-04-18T01:43:40.396238Z"
    }
   },
   "outputs": [],
   "source": [
    "import os\n",
    "import shutil\n",
    "import numpy as np\n",
    "\n",
    "import parmed as pmd\n",
    "from paprika.restraints import DAT_restraint\n",
    "from paprika.restraints import create_window_list\n",
    "from paprika.restraints import amber_restraint_line\n",
    "\n",
    "from paprika.tleap import System\n",
    "\n",
    "from paprika.utils import make_window_dirs\n",
    "from paprika.amber import Simulation"
   ]
  },
  {
   "cell_type": "markdown",
   "metadata": {},
   "source": [
    "## Setup a few restraints"
   ]
  },
  {
   "cell_type": "code",
   "execution_count": 61,
   "metadata": {
    "ExecuteTime": {
     "end_time": "2018-04-18T01:25:02.399230Z",
     "start_time": "2018-04-18T01:25:02.231281Z"
    }
   },
   "outputs": [
    {
     "name": "stderr",
     "output_type": "stream",
     "text": [
      "2018-04-17 06:25:02 PM Calculating attach targets and force constants...\n",
      "2018-04-17 06:25:02 PM Attach, Method #3\n",
      "2018-04-17 06:25:02 PM Calculating pull targets and force constants...\n",
      "2018-04-17 06:25:02 PM Pull, Method #1\n",
      "2018-04-17 06:25:02 PM Calculating release targets and force constants...\n",
      "2018-04-17 06:25:02 PM No restraint info set for the release phase! Skipping...\n",
      "2018-04-17 06:25:02 PM Number of attach windows = 5\n",
      "2018-04-17 06:25:02 PM Number of pull windows = 19\n",
      "2018-04-17 06:25:02 PM This restraint will be skipped in the release phase\n",
      "2018-04-17 06:25:02 PM Assigning atom indices...\n",
      "2018-04-17 06:25:02 PM There are 1 atoms in the mask :CB6@O  ...\n",
      "2018-04-17 06:25:02 PM There are 1 atoms in the mask :BUT@C1  ...\n",
      "2018-04-17 06:25:02 PM Calculating attach targets and force constants...\n",
      "2018-04-17 06:25:02 PM Attach, Method #3\n",
      "2018-04-17 06:25:02 PM Calculating pull targets and force constants...\n",
      "2018-04-17 06:25:02 PM Pull, Method #1\n",
      "2018-04-17 06:25:02 PM Calculating release targets and force constants...\n",
      "2018-04-17 06:25:02 PM No restraint info set for the release phase! Skipping...\n",
      "2018-04-17 06:25:02 PM Number of attach windows = 5\n",
      "2018-04-17 06:25:02 PM Number of pull windows = 19\n",
      "2018-04-17 06:25:02 PM This restraint will be skipped in the release phase\n",
      "2018-04-17 06:25:02 PM Assigning atom indices...\n",
      "2018-04-17 06:25:02 PM There are 1 atoms in the mask :CB6@O1  ...\n",
      "2018-04-17 06:25:02 PM There are 1 atoms in the mask :CB6@O  ...\n",
      "2018-04-17 06:25:02 PM There are 1 atoms in the mask :BUT@C1  ...\n",
      "2018-04-17 06:25:02 PM Calculating attach targets and force constants...\n",
      "2018-04-17 06:25:02 PM Attach, Method #3\n",
      "2018-04-17 06:25:02 PM Calculating pull targets and force constants...\n",
      "2018-04-17 06:25:02 PM Pull, Method #1\n",
      "2018-04-17 06:25:02 PM Calculating release targets and force constants...\n",
      "2018-04-17 06:25:02 PM No restraint info set for the release phase! Skipping...\n",
      "2018-04-17 06:25:02 PM Number of attach windows = 5\n",
      "2018-04-17 06:25:02 PM Number of pull windows = 19\n",
      "2018-04-17 06:25:02 PM This restraint will be skipped in the release phase\n",
      "2018-04-17 06:25:02 PM Assigning atom indices...\n",
      "2018-04-17 06:25:02 PM There are 1 atoms in the mask :CB6@O11  ...\n",
      "2018-04-17 06:25:02 PM There are 1 atoms in the mask :CB6@O1  ...\n",
      "2018-04-17 06:25:02 PM There are 1 atoms in the mask :CB6@O  ...\n",
      "2018-04-17 06:25:02 PM There are 1 atoms in the mask :BUT@C1  ...\n"
     ]
    }
   ],
   "source": [
    "input_pdb = pmd.load_file('/home/dslochower/data/projects/pAPRika/test/cb6_but_gb_apr_ref_data/vac.pdb')\n",
    "\n",
    "# Distance restraint\n",
    "rest1 = DAT_restraint()\n",
    "rest1.continuous_apr = True\n",
    "rest1.amber_index = True\n",
    "rest1.topology = input_pdb\n",
    "rest1.mask1 = ':CB6@O'\n",
    "rest1.mask2 = ':BUT@C1'\n",
    "rest1.attach['target'] = 4.5\n",
    "rest1.attach['fraction_list'] = [0.00, 0.04, 0.181, 0.496, 1.000]\n",
    "rest1.attach['fc_final'] = 5.0\n",
    "rest1.pull['fc'] = rest1.attach['fc_final']\n",
    "rest1.pull['target_initial'] = rest1.attach['target']\n",
    "rest1.pull['target_final'] = 18.5\n",
    "rest1.pull['num_windows'] = 19\n",
    "rest1.initialize()\n",
    "\n",
    "# Angle restraint\n",
    "rest2 = DAT_restraint()\n",
    "rest2.continuous_apr = True\n",
    "rest2.amber_index = True\n",
    "rest2.topology = input_pdb\n",
    "rest2.mask1 = ':CB6@O1'\n",
    "rest2.mask2 = ':CB6@O'\n",
    "rest2.mask3 = ':BUT@C1'\n",
    "rest2.attach['target'] = 8.0\n",
    "rest2.attach['fraction_list'] = [0.00, 0.04, 0.181, 0.496, 1.000]\n",
    "rest2.attach['fc_final'] = 50.0\n",
    "rest2.pull['fc'] = rest2.attach['fc_final']\n",
    "rest2.pull['target_initial'] = rest2.attach['target']\n",
    "rest2.pull['target_final'] = rest2.attach['target']\n",
    "rest2.pull['num_windows'] = 19\n",
    "rest2.initialize()\n",
    "\n",
    "# Dihedral restraint\n",
    "rest3 = DAT_restraint()\n",
    "rest3.continuous_apr = True\n",
    "rest3.amber_index = True\n",
    "rest3.topology = input_pdb\n",
    "rest3.mask1 = ':CB6@O11'\n",
    "rest3.mask2 = ':CB6@O1'\n",
    "rest3.mask3 = ':CB6@O'\n",
    "rest3.mask4 = ':BUT@C1'\n",
    "rest3.attach['target'] = -60.0\n",
    "rest3.attach['fraction_list'] = [0.00, 0.04, 0.181, 0.496, 1.000]\n",
    "rest3.attach['fc_final'] = 50.0\n",
    "rest3.pull['fc'] = rest3.attach['fc_final']\n",
    "rest3.pull['target_initial'] = rest3.attach['target']\n",
    "rest3.pull['target_final'] = rest3.attach['target']\n",
    "rest3.pull['num_windows'] = 19\n",
    "rest3.initialize()"
   ]
  },
  {
   "cell_type": "markdown",
   "metadata": {},
   "source": [
    "## Make the windows"
   ]
  },
  {
   "cell_type": "code",
   "execution_count": 62,
   "metadata": {
    "ExecuteTime": {
     "end_time": "2018-04-18T01:25:05.443723Z",
     "start_time": "2018-04-18T01:25:05.428438Z"
    }
   },
   "outputs": [],
   "source": [
    "if os.path.exists('local'):\n",
    "    shutil.rmtree('local')\n",
    "os.makedirs('local')\n",
    "path = './local/'"
   ]
  },
  {
   "cell_type": "code",
   "execution_count": 63,
   "metadata": {
    "ExecuteTime": {
     "end_time": "2018-04-18T01:25:06.081759Z",
     "start_time": "2018-04-18T01:25:06.065887Z"
    }
   },
   "outputs": [
    {
     "name": "stderr",
     "output_type": "stream",
     "text": [
      "2018-04-17 06:25:06 PM All restraints are \"continuous_apr\" style.\n",
      "2018-04-17 06:25:06 PM Restraints appear to be consistent\n"
     ]
    }
   ],
   "source": [
    "window_list = create_window_list(DAT_restraint.instances)"
   ]
  },
  {
   "cell_type": "code",
   "execution_count": 64,
   "metadata": {
    "ExecuteTime": {
     "end_time": "2018-04-18T01:25:07.791606Z",
     "start_time": "2018-04-18T01:25:07.776200Z"
    }
   },
   "outputs": [],
   "source": [
    "make_window_dirs(window_list, path=path)"
   ]
  },
  {
   "cell_type": "code",
   "execution_count": 65,
   "metadata": {
    "ExecuteTime": {
     "end_time": "2018-04-18T01:25:08.513999Z",
     "start_time": "2018-04-18T01:25:08.486505Z"
    }
   },
   "outputs": [],
   "source": [
    "for window in window_list:\n",
    "    with open(os.path.join(path, 'windows', window, 'disang.rest'), 'w') as file:\n",
    "        for restraint in DAT_restraint.instances:\n",
    "            if window[0] == 'a':\n",
    "                phase = 'attach'\n",
    "            if window[0] == 'p':\n",
    "                phase = 'pull'\n",
    "            if window[0] == 'r':\n",
    "                phase = 'release'\n",
    "            string = amber_restraint_line(restraint, phase, int(window[1:]))\n",
    "            if string is not None:\n",
    "                file.write(string)"
   ]
  },
  {
   "cell_type": "markdown",
   "metadata": {},
   "source": [
    "## Setup the simulation"
   ]
  },
  {
   "cell_type": "code",
   "execution_count": 66,
   "metadata": {
    "ExecuteTime": {
     "end_time": "2018-04-18T01:25:10.961001Z",
     "start_time": "2018-04-18T01:25:10.140832Z"
    }
   },
   "outputs": [],
   "source": [
    "for window in window_list:\n",
    "    \n",
    "    os.symlink('/home/dslochower/data/projects/pAPRika/test/cb6-but/cb6.frcmod', os.path.join(path, 'windows', window, 'cb6.frcmod'))\n",
    "    os.symlink('/home/dslochower/data/projects/pAPRika/test/cb6-but/cb6.mol2', os.path.join(path, 'windows', window, 'cb6.mol2'))\n",
    "    \n",
    "    os.symlink('/home/dslochower/data/projects/pAPRika/test/cb6-but/but.frcmod', os.path.join(path, 'windows', window, 'but.frcmod'))\n",
    "    os.symlink('/home/dslochower/data/projects/pAPRika/test/cb6-but/but.mol2', os.path.join(path, 'windows', window, 'but.mol2'))\n",
    "    \n",
    "    sys = System()\n",
    "    sys.template_file = '/home/dslochower/data/projects/pAPRika/test/cb6-but/tleap_gb.in'\n",
    "    sys.output_path = os.path.join(path, 'windows', window)\n",
    "    sys.output_prefix = 'vac'\n",
    "    sys.pbc_type = None\n",
    "    sys.loadpdb_file = '/home/dslochower/data/projects/pAPRika/test/cb6-but/cb6-but-minimized.pdb'\n",
    "    sys.build()"
   ]
  },
  {
   "cell_type": "markdown",
   "metadata": {},
   "source": [
    "# Run a quick minimization and MD in each window"
   ]
  },
  {
   "cell_type": "code",
   "execution_count": 71,
   "metadata": {
    "ExecuteTime": {
     "end_time": "2018-04-18T01:33:22.344530Z",
     "start_time": "2018-04-18T01:33:22.277251Z"
    }
   },
   "outputs": [
    {
     "name": "stderr",
     "output_type": "stream",
     "text": [
      "2018-04-17 06:33:22 PM Writing minimize.in\n",
      "2018-04-17 06:33:22 PM Running Minimization at ./local/windows/a000\n",
      "2018-04-17 06:33:22 PM Exec line: sander -O -p vac.prmtop -ref minimize.inpcrd -c vac.rst7 -i minimize.in -o minimize.out -r minimize.rst7 -inf minimize.mdinfo\n",
      "2018-04-17 06:33:22 PM Minimization completed...\n",
      "2018-04-17 06:33:22 PM Writing minimize.in\n",
      "2018-04-17 06:33:22 PM Running Minimization at ./local/windows/a001\n",
      "2018-04-17 06:33:22 PM Exec line: sander -O -p vac.prmtop -ref minimize.inpcrd -c vac.rst7 -i minimize.in -o minimize.out -r minimize.rst7 -inf minimize.mdinfo\n",
      "2018-04-17 06:33:22 PM Minimization completed...\n",
      "2018-04-17 06:33:22 PM Writing minimize.in\n",
      "2018-04-17 06:33:22 PM Running Minimization at ./local/windows/a002\n",
      "2018-04-17 06:33:22 PM Exec line: sander -O -p vac.prmtop -ref minimize.inpcrd -c vac.rst7 -i minimize.in -o minimize.out -r minimize.rst7 -inf minimize.mdinfo\n",
      "2018-04-17 06:33:22 PM Minimization completed...\n",
      "2018-04-17 06:33:22 PM Writing minimize.in\n",
      "2018-04-17 06:33:22 PM Running Minimization at ./local/windows/a003\n",
      "2018-04-17 06:33:22 PM Exec line: sander -O -p vac.prmtop -ref minimize.inpcrd -c vac.rst7 -i minimize.in -o minimize.out -r minimize.rst7 -inf minimize.mdinfo\n",
      "2018-04-17 06:33:22 PM Minimization completed...\n",
      "2018-04-17 06:33:22 PM Writing minimize.in\n",
      "2018-04-17 06:33:22 PM Running Minimization at ./local/windows/p000\n",
      "2018-04-17 06:33:22 PM Exec line: sander -O -p vac.prmtop -ref minimize.inpcrd -c vac.rst7 -i minimize.in -o minimize.out -r minimize.rst7 -inf minimize.mdinfo\n",
      "2018-04-17 06:33:22 PM Minimization completed...\n",
      "2018-04-17 06:33:22 PM Writing minimize.in\n",
      "2018-04-17 06:33:22 PM Running Minimization at ./local/windows/p001\n",
      "2018-04-17 06:33:22 PM Exec line: sander -O -p vac.prmtop -ref minimize.inpcrd -c vac.rst7 -i minimize.in -o minimize.out -r minimize.rst7 -inf minimize.mdinfo\n",
      "2018-04-17 06:33:22 PM Minimization completed...\n",
      "2018-04-17 06:33:22 PM Writing minimize.in\n",
      "2018-04-17 06:33:22 PM Running Minimization at ./local/windows/p002\n",
      "2018-04-17 06:33:22 PM Exec line: sander -O -p vac.prmtop -ref minimize.inpcrd -c vac.rst7 -i minimize.in -o minimize.out -r minimize.rst7 -inf minimize.mdinfo\n",
      "2018-04-17 06:33:22 PM Minimization completed...\n",
      "2018-04-17 06:33:22 PM Writing minimize.in\n",
      "2018-04-17 06:33:22 PM Running Minimization at ./local/windows/p003\n",
      "2018-04-17 06:33:22 PM Exec line: sander -O -p vac.prmtop -ref minimize.inpcrd -c vac.rst7 -i minimize.in -o minimize.out -r minimize.rst7 -inf minimize.mdinfo\n",
      "2018-04-17 06:33:22 PM Minimization completed...\n",
      "2018-04-17 06:33:22 PM Writing minimize.in\n",
      "2018-04-17 06:33:22 PM Running Minimization at ./local/windows/p004\n",
      "2018-04-17 06:33:22 PM Exec line: sander -O -p vac.prmtop -ref minimize.inpcrd -c vac.rst7 -i minimize.in -o minimize.out -r minimize.rst7 -inf minimize.mdinfo\n",
      "2018-04-17 06:33:22 PM Minimization completed...\n",
      "2018-04-17 06:33:22 PM Writing minimize.in\n",
      "2018-04-17 06:33:22 PM Running Minimization at ./local/windows/p005\n",
      "2018-04-17 06:33:22 PM Exec line: sander -O -p vac.prmtop -ref minimize.inpcrd -c vac.rst7 -i minimize.in -o minimize.out -r minimize.rst7 -inf minimize.mdinfo\n",
      "2018-04-17 06:33:22 PM Minimization completed...\n",
      "2018-04-17 06:33:22 PM Writing minimize.in\n",
      "2018-04-17 06:33:22 PM Running Minimization at ./local/windows/p006\n",
      "2018-04-17 06:33:22 PM Exec line: sander -O -p vac.prmtop -ref minimize.inpcrd -c vac.rst7 -i minimize.in -o minimize.out -r minimize.rst7 -inf minimize.mdinfo\n",
      "2018-04-17 06:33:22 PM Minimization completed...\n",
      "2018-04-17 06:33:22 PM Writing minimize.in\n",
      "2018-04-17 06:33:22 PM Running Minimization at ./local/windows/p007\n",
      "2018-04-17 06:33:22 PM Exec line: sander -O -p vac.prmtop -ref minimize.inpcrd -c vac.rst7 -i minimize.in -o minimize.out -r minimize.rst7 -inf minimize.mdinfo\n",
      "2018-04-17 06:33:22 PM Minimization completed...\n",
      "2018-04-17 06:33:22 PM Writing minimize.in\n",
      "2018-04-17 06:33:22 PM Running Minimization at ./local/windows/p008\n",
      "2018-04-17 06:33:22 PM Exec line: sander -O -p vac.prmtop -ref minimize.inpcrd -c vac.rst7 -i minimize.in -o minimize.out -r minimize.rst7 -inf minimize.mdinfo\n",
      "2018-04-17 06:33:22 PM Minimization completed...\n",
      "2018-04-17 06:33:22 PM Writing minimize.in\n",
      "2018-04-17 06:33:22 PM Running Minimization at ./local/windows/p009\n",
      "2018-04-17 06:33:22 PM Exec line: sander -O -p vac.prmtop -ref minimize.inpcrd -c vac.rst7 -i minimize.in -o minimize.out -r minimize.rst7 -inf minimize.mdinfo\n",
      "2018-04-17 06:33:22 PM Minimization completed...\n",
      "2018-04-17 06:33:22 PM Writing minimize.in\n",
      "2018-04-17 06:33:22 PM Running Minimization at ./local/windows/p010\n",
      "2018-04-17 06:33:22 PM Exec line: sander -O -p vac.prmtop -ref minimize.inpcrd -c vac.rst7 -i minimize.in -o minimize.out -r minimize.rst7 -inf minimize.mdinfo\n",
      "2018-04-17 06:33:22 PM Minimization completed...\n",
      "2018-04-17 06:33:22 PM Writing minimize.in\n",
      "2018-04-17 06:33:22 PM Running Minimization at ./local/windows/p011\n",
      "2018-04-17 06:33:22 PM Exec line: sander -O -p vac.prmtop -ref minimize.inpcrd -c vac.rst7 -i minimize.in -o minimize.out -r minimize.rst7 -inf minimize.mdinfo\n",
      "2018-04-17 06:33:22 PM Minimization completed...\n",
      "2018-04-17 06:33:22 PM Writing minimize.in\n",
      "2018-04-17 06:33:22 PM Running Minimization at ./local/windows/p012\n",
      "2018-04-17 06:33:22 PM Exec line: sander -O -p vac.prmtop -ref minimize.inpcrd -c vac.rst7 -i minimize.in -o minimize.out -r minimize.rst7 -inf minimize.mdinfo\n",
      "2018-04-17 06:33:22 PM Minimization completed...\n",
      "2018-04-17 06:33:22 PM Writing minimize.in\n",
      "2018-04-17 06:33:22 PM Running Minimization at ./local/windows/p013\n",
      "2018-04-17 06:33:22 PM Exec line: sander -O -p vac.prmtop -ref minimize.inpcrd -c vac.rst7 -i minimize.in -o minimize.out -r minimize.rst7 -inf minimize.mdinfo\n",
      "2018-04-17 06:33:22 PM Minimization completed...\n",
      "2018-04-17 06:33:22 PM Writing minimize.in\n",
      "2018-04-17 06:33:22 PM Running Minimization at ./local/windows/p014\n",
      "2018-04-17 06:33:22 PM Exec line: sander -O -p vac.prmtop -ref minimize.inpcrd -c vac.rst7 -i minimize.in -o minimize.out -r minimize.rst7 -inf minimize.mdinfo\n",
      "2018-04-17 06:33:22 PM Minimization completed...\n",
      "2018-04-17 06:33:22 PM Writing minimize.in\n",
      "2018-04-17 06:33:22 PM Running Minimization at ./local/windows/p015\n",
      "2018-04-17 06:33:22 PM Exec line: sander -O -p vac.prmtop -ref minimize.inpcrd -c vac.rst7 -i minimize.in -o minimize.out -r minimize.rst7 -inf minimize.mdinfo\n",
      "2018-04-17 06:33:22 PM Minimization completed...\n",
      "2018-04-17 06:33:22 PM Writing minimize.in\n",
      "2018-04-17 06:33:22 PM Running Minimization at ./local/windows/p016\n",
      "2018-04-17 06:33:22 PM Exec line: sander -O -p vac.prmtop -ref minimize.inpcrd -c vac.rst7 -i minimize.in -o minimize.out -r minimize.rst7 -inf minimize.mdinfo\n",
      "2018-04-17 06:33:22 PM Minimization completed...\n",
      "2018-04-17 06:33:22 PM Writing minimize.in\n",
      "2018-04-17 06:33:22 PM Running Minimization at ./local/windows/p017\n",
      "2018-04-17 06:33:22 PM Exec line: sander -O -p vac.prmtop -ref minimize.inpcrd -c vac.rst7 -i minimize.in -o minimize.out -r minimize.rst7 -inf minimize.mdinfo\n",
      "2018-04-17 06:33:22 PM Minimization completed...\n",
      "2018-04-17 06:33:22 PM Writing minimize.in\n",
      "2018-04-17 06:33:22 PM Running Minimization at ./local/windows/p018\n",
      "2018-04-17 06:33:22 PM Exec line: sander -O -p vac.prmtop -ref minimize.inpcrd -c vac.rst7 -i minimize.in -o minimize.out -r minimize.rst7 -inf minimize.mdinfo\n",
      "2018-04-17 06:33:22 PM Minimization completed...\n"
     ]
    }
   ],
   "source": [
    "for window in window_list:\n",
    "    \n",
    "    gbsim = Simulation()\n",
    "    gbsim.path = os.path.join(path, 'windows', window)\n",
    "    gbsim.executable = 'sander'\n",
    "    gbsim.topology = 'vac.prmtop'\n",
    "    gbsim.prefix = 'minimize'\n",
    "    gbsim.inpcrd = 'vac.rst7'\n",
    "    gbsim.restraint_file = 'disang.rest'\n",
    "    gbsim.config_gb_min()\n",
    "    gbsim.cntrl['maxcyc'] = 1\n",
    "    gbsim.cntrl['ncyc'] = 1 \n",
    "    gbsim.run()"
   ]
  },
  {
   "cell_type": "code",
   "execution_count": 73,
   "metadata": {
    "ExecuteTime": {
     "end_time": "2018-04-18T01:41:18.625930Z",
     "start_time": "2018-04-18T01:41:18.213956Z"
    }
   },
   "outputs": [
    {
     "name": "stderr",
     "output_type": "stream",
     "text": [
      "2018-04-17 06:41:18 PM Writing md.in\n",
      "2018-04-17 06:41:18 PM Running MD at ./local/windows/a000\n",
      "2018-04-17 06:41:18 PM Exec line: sander -O -p vac.prmtop -ref md.inpcrd -c minimize.rst7 -i md.in -o md.out -r md.rst7 -x md.nc -inf md.mdinfo -e md.mden\n",
      "2018-04-17 06:41:18 PM MD completed ...\n",
      "2018-04-17 06:41:18 PM Writing md.in\n",
      "2018-04-17 06:41:18 PM Running MD at ./local/windows/a001\n",
      "2018-04-17 06:41:18 PM Exec line: sander -O -p vac.prmtop -ref md.inpcrd -c minimize.rst7 -i md.in -o md.out -r md.rst7 -x md.nc -inf md.mdinfo -e md.mden\n",
      "2018-04-17 06:41:18 PM MD completed ...\n",
      "2018-04-17 06:41:18 PM Writing md.in\n",
      "2018-04-17 06:41:18 PM Running MD at ./local/windows/a002\n",
      "2018-04-17 06:41:18 PM Exec line: sander -O -p vac.prmtop -ref md.inpcrd -c minimize.rst7 -i md.in -o md.out -r md.rst7 -x md.nc -inf md.mdinfo -e md.mden\n",
      "2018-04-17 06:41:18 PM MD completed ...\n",
      "2018-04-17 06:41:18 PM Writing md.in\n",
      "2018-04-17 06:41:18 PM Running MD at ./local/windows/a003\n",
      "2018-04-17 06:41:18 PM Exec line: sander -O -p vac.prmtop -ref md.inpcrd -c minimize.rst7 -i md.in -o md.out -r md.rst7 -x md.nc -inf md.mdinfo -e md.mden\n",
      "2018-04-17 06:41:18 PM MD completed ...\n",
      "2018-04-17 06:41:18 PM Writing md.in\n",
      "2018-04-17 06:41:18 PM Running MD at ./local/windows/p000\n",
      "2018-04-17 06:41:18 PM Exec line: sander -O -p vac.prmtop -ref md.inpcrd -c minimize.rst7 -i md.in -o md.out -r md.rst7 -x md.nc -inf md.mdinfo -e md.mden\n",
      "2018-04-17 06:41:18 PM MD completed ...\n",
      "2018-04-17 06:41:18 PM Writing md.in\n",
      "2018-04-17 06:41:18 PM Running MD at ./local/windows/p001\n",
      "2018-04-17 06:41:18 PM Exec line: sander -O -p vac.prmtop -ref md.inpcrd -c minimize.rst7 -i md.in -o md.out -r md.rst7 -x md.nc -inf md.mdinfo -e md.mden\n",
      "2018-04-17 06:41:18 PM MD completed ...\n",
      "2018-04-17 06:41:18 PM Writing md.in\n",
      "2018-04-17 06:41:18 PM Running MD at ./local/windows/p002\n",
      "2018-04-17 06:41:18 PM Exec line: sander -O -p vac.prmtop -ref md.inpcrd -c minimize.rst7 -i md.in -o md.out -r md.rst7 -x md.nc -inf md.mdinfo -e md.mden\n",
      "2018-04-17 06:41:18 PM MD completed ...\n",
      "2018-04-17 06:41:18 PM Writing md.in\n",
      "2018-04-17 06:41:18 PM Running MD at ./local/windows/p003\n",
      "2018-04-17 06:41:18 PM Exec line: sander -O -p vac.prmtop -ref md.inpcrd -c minimize.rst7 -i md.in -o md.out -r md.rst7 -x md.nc -inf md.mdinfo -e md.mden\n",
      "2018-04-17 06:41:18 PM MD completed ...\n",
      "2018-04-17 06:41:18 PM Writing md.in\n",
      "2018-04-17 06:41:18 PM Running MD at ./local/windows/p004\n",
      "2018-04-17 06:41:18 PM Exec line: sander -O -p vac.prmtop -ref md.inpcrd -c minimize.rst7 -i md.in -o md.out -r md.rst7 -x md.nc -inf md.mdinfo -e md.mden\n",
      "2018-04-17 06:41:18 PM MD completed ...\n",
      "2018-04-17 06:41:18 PM Writing md.in\n",
      "2018-04-17 06:41:18 PM Running MD at ./local/windows/p005\n",
      "2018-04-17 06:41:18 PM Exec line: sander -O -p vac.prmtop -ref md.inpcrd -c minimize.rst7 -i md.in -o md.out -r md.rst7 -x md.nc -inf md.mdinfo -e md.mden\n",
      "2018-04-17 06:41:18 PM MD completed ...\n",
      "2018-04-17 06:41:18 PM Writing md.in\n",
      "2018-04-17 06:41:18 PM Running MD at ./local/windows/p006\n",
      "2018-04-17 06:41:18 PM Exec line: sander -O -p vac.prmtop -ref md.inpcrd -c minimize.rst7 -i md.in -o md.out -r md.rst7 -x md.nc -inf md.mdinfo -e md.mden\n",
      "2018-04-17 06:41:18 PM MD completed ...\n",
      "2018-04-17 06:41:18 PM Writing md.in\n",
      "2018-04-17 06:41:18 PM Running MD at ./local/windows/p007\n",
      "2018-04-17 06:41:18 PM Exec line: sander -O -p vac.prmtop -ref md.inpcrd -c minimize.rst7 -i md.in -o md.out -r md.rst7 -x md.nc -inf md.mdinfo -e md.mden\n",
      "2018-04-17 06:41:18 PM MD completed ...\n",
      "2018-04-17 06:41:18 PM Writing md.in\n",
      "2018-04-17 06:41:18 PM Running MD at ./local/windows/p008\n",
      "2018-04-17 06:41:18 PM Exec line: sander -O -p vac.prmtop -ref md.inpcrd -c minimize.rst7 -i md.in -o md.out -r md.rst7 -x md.nc -inf md.mdinfo -e md.mden\n",
      "2018-04-17 06:41:18 PM MD completed ...\n",
      "2018-04-17 06:41:18 PM Writing md.in\n",
      "2018-04-17 06:41:18 PM Running MD at ./local/windows/p009\n",
      "2018-04-17 06:41:18 PM Exec line: sander -O -p vac.prmtop -ref md.inpcrd -c minimize.rst7 -i md.in -o md.out -r md.rst7 -x md.nc -inf md.mdinfo -e md.mden\n",
      "2018-04-17 06:41:18 PM MD completed ...\n",
      "2018-04-17 06:41:18 PM Writing md.in\n",
      "2018-04-17 06:41:18 PM Running MD at ./local/windows/p010\n",
      "2018-04-17 06:41:18 PM Exec line: sander -O -p vac.prmtop -ref md.inpcrd -c minimize.rst7 -i md.in -o md.out -r md.rst7 -x md.nc -inf md.mdinfo -e md.mden\n",
      "2018-04-17 06:41:18 PM MD completed ...\n",
      "2018-04-17 06:41:18 PM Writing md.in\n",
      "2018-04-17 06:41:18 PM Running MD at ./local/windows/p011\n",
      "2018-04-17 06:41:18 PM Exec line: sander -O -p vac.prmtop -ref md.inpcrd -c minimize.rst7 -i md.in -o md.out -r md.rst7 -x md.nc -inf md.mdinfo -e md.mden\n",
      "2018-04-17 06:41:18 PM MD completed ...\n",
      "2018-04-17 06:41:18 PM Writing md.in\n",
      "2018-04-17 06:41:18 PM Running MD at ./local/windows/p012\n",
      "2018-04-17 06:41:18 PM Exec line: sander -O -p vac.prmtop -ref md.inpcrd -c minimize.rst7 -i md.in -o md.out -r md.rst7 -x md.nc -inf md.mdinfo -e md.mden\n",
      "2018-04-17 06:41:18 PM MD completed ...\n",
      "2018-04-17 06:41:18 PM Writing md.in\n",
      "2018-04-17 06:41:18 PM Running MD at ./local/windows/p013\n",
      "2018-04-17 06:41:18 PM Exec line: sander -O -p vac.prmtop -ref md.inpcrd -c minimize.rst7 -i md.in -o md.out -r md.rst7 -x md.nc -inf md.mdinfo -e md.mden\n",
      "2018-04-17 06:41:18 PM MD completed ...\n",
      "2018-04-17 06:41:18 PM Writing md.in\n",
      "2018-04-17 06:41:18 PM Running MD at ./local/windows/p014\n",
      "2018-04-17 06:41:18 PM Exec line: sander -O -p vac.prmtop -ref md.inpcrd -c minimize.rst7 -i md.in -o md.out -r md.rst7 -x md.nc -inf md.mdinfo -e md.mden\n",
      "2018-04-17 06:41:18 PM MD completed ...\n",
      "2018-04-17 06:41:18 PM Writing md.in\n",
      "2018-04-17 06:41:18 PM Running MD at ./local/windows/p015\n",
      "2018-04-17 06:41:18 PM Exec line: sander -O -p vac.prmtop -ref md.inpcrd -c minimize.rst7 -i md.in -o md.out -r md.rst7 -x md.nc -inf md.mdinfo -e md.mden\n",
      "2018-04-17 06:41:18 PM MD completed ...\n",
      "2018-04-17 06:41:18 PM Writing md.in\n",
      "2018-04-17 06:41:18 PM Running MD at ./local/windows/p016\n",
      "2018-04-17 06:41:18 PM Exec line: sander -O -p vac.prmtop -ref md.inpcrd -c minimize.rst7 -i md.in -o md.out -r md.rst7 -x md.nc -inf md.mdinfo -e md.mden\n",
      "2018-04-17 06:41:18 PM MD completed ...\n",
      "2018-04-17 06:41:18 PM Writing md.in\n",
      "2018-04-17 06:41:18 PM Running MD at ./local/windows/p017\n",
      "2018-04-17 06:41:18 PM Exec line: sander -O -p vac.prmtop -ref md.inpcrd -c minimize.rst7 -i md.in -o md.out -r md.rst7 -x md.nc -inf md.mdinfo -e md.mden\n",
      "2018-04-17 06:41:18 PM MD completed ...\n",
      "2018-04-17 06:41:18 PM Writing md.in\n",
      "2018-04-17 06:41:18 PM Running MD at ./local/windows/p018\n",
      "2018-04-17 06:41:18 PM Exec line: sander -O -p vac.prmtop -ref md.inpcrd -c minimize.rst7 -i md.in -o md.out -r md.rst7 -x md.nc -inf md.mdinfo -e md.mden\n",
      "2018-04-17 06:41:18 PM MD completed ...\n"
     ]
    }
   ],
   "source": [
    "for window in window_list:\n",
    "    \n",
    "    gbsim.config_gb_md()\n",
    "    gbsim.path = os.path.join(path, 'windows', window)\n",
    "    gbsim.prefix = 'md'\n",
    "    gbsim.inpcrd = 'minimize.rst7'\n",
    "    gbsim.cntrl['nstlim'] = 1\n",
    "    gbsim.cntrl['ntpr'] = 1\n",
    "    gbsim.cntrl['ig'] = 777\n",
    "    gbsim.run()"
   ]
  },
  {
   "cell_type": "markdown",
   "metadata": {},
   "source": [
    "# Add a window to the end of pull.\n",
    "\n",
    "First, I'm going to add a window that's \"in order,\" meaning I'll add a further pull distance."
   ]
  },
  {
   "cell_type": "code",
   "execution_count": 83,
   "metadata": {
    "ExecuteTime": {
     "end_time": "2018-04-18T01:44:17.955414Z",
     "start_time": "2018-04-18T01:44:17.940679Z"
    }
   },
   "outputs": [],
   "source": [
    "rest1.phase['pull']['targets'] = np.append(rest1.phase['pull']['targets'], 20)\n",
    "rest1.phase['pull']['force_constants'] = np.append(rest1.phase['pull']['force_constants'], 5)"
   ]
  },
  {
   "cell_type": "code",
   "execution_count": 84,
   "metadata": {
    "ExecuteTime": {
     "end_time": "2018-04-18T01:44:18.562484Z",
     "start_time": "2018-04-18T01:44:18.547518Z"
    }
   },
   "outputs": [
    {
     "data": {
      "text/plain": [
       "array([  4.5       ,   5.27777778,   6.05555556, ...,  17.72222222,\n",
       "        18.5       ,  20.        ])"
      ]
     },
     "execution_count": 84,
     "metadata": {},
     "output_type": "execute_result"
    }
   ],
   "source": [
    "rest1.phase['pull']['targets']"
   ]
  },
  {
   "cell_type": "markdown",
   "metadata": {},
   "source": [
    "Now, we also need to add an extra window to each of the two other restraints. I'll do that by repeating the last target value and force constants."
   ]
  },
  {
   "cell_type": "code",
   "execution_count": 89,
   "metadata": {},
   "outputs": [],
   "source": [
    "rest2.phase['pull']['targets'] = np.append(rest2.phase['pull']['targets'], rest2.phase['pull']['targets'][-1])\n",
    "rest2.phase['pull']['force_constants'] = np.append(rest2.phase['pull']['force_constants'], rest2.phase['pull']['force_constants'][-1])"
   ]
  },
  {
   "cell_type": "code",
   "execution_count": 90,
   "metadata": {},
   "outputs": [],
   "source": [
    "rest3.phase['pull']['targets'] = np.append(rest3.phase['pull']['targets'], rest3.phase['pull']['targets'][-1])\n",
    "rest3.phase['pull']['force_constants'] = np.append(rest3.phase['pull']['force_constants'], rest3.phase['pull']['force_constants'][-1])"
   ]
  },
  {
   "cell_type": "code",
   "execution_count": 98,
   "metadata": {},
   "outputs": [
    {
     "name": "stdout",
     "output_type": "stream",
     "text": [
      "This restraint has 20 target values and 20 force constants...\n",
      "This restraint has 20 target values and 20 force constants...\n",
      "This restraint has 20 target values and 20 force constants...\n"
     ]
    }
   ],
   "source": [
    "for restraint in [rest1, rest2, rest3]:\n",
    "    targets = restraint.phase['pull']['targets']\n",
    "    fc = restraint.phase['pull']['force_constants']\n",
    "    print(f'This restraint has {len(targets)} target values and {len(fc)} force constants...')"
   ]
  },
  {
   "cell_type": "code",
   "execution_count": 100,
   "metadata": {},
   "outputs": [
    {
     "data": {
      "text/plain": [
       "{'force_constants': array([ 0.   ,  0.2  ,  0.905,  2.48 ,  5.   ]),\n",
       " 'targets': array([ 4.5,  4.5,  4.5,  4.5,  4.5])}"
      ]
     },
     "execution_count": 100,
     "metadata": {},
     "output_type": "execute_result"
    }
   ],
   "source": [
    "rest1.phase['attach']"
   ]
  },
  {
   "cell_type": "markdown",
   "metadata": {},
   "source": [
    "Now, we need to recreate `window_list`..."
   ]
  },
  {
   "cell_type": "code",
   "execution_count": 101,
   "metadata": {
    "ExecuteTime": {
     "end_time": "2018-04-18T01:44:38.796410Z",
     "start_time": "2018-04-18T01:44:38.773108Z"
    }
   },
   "outputs": [
    {
     "name": "stderr",
     "output_type": "stream",
     "text": [
      "2018-04-18 10:41:02 AM All restraints are \"continuous_apr\" style.\n",
      "2018-04-18 10:41:02 AM Restraints appear to be consistent\n"
     ]
    }
   ],
   "source": [
    "window_list = create_window_list([rest1, rest2, rest3])"
   ]
  },
  {
   "cell_type": "code",
   "execution_count": 112,
   "metadata": {},
   "outputs": [],
   "source": [
    "make_window_dirs([window_list[-1]], path=path)"
   ]
  },
  {
   "cell_type": "code",
   "execution_count": 113,
   "metadata": {},
   "outputs": [],
   "source": [
    "for window in [window_list[-1]]:\n",
    "    \n",
    "    os.symlink('/home/dslochower/data/projects/pAPRika/test/cb6-but/cb6.frcmod', os.path.join(path, 'windows', window, 'cb6.frcmod'))\n",
    "    os.symlink('/home/dslochower/data/projects/pAPRika/test/cb6-but/cb6.mol2', os.path.join(path, 'windows', window, 'cb6.mol2'))\n",
    "    \n",
    "    os.symlink('/home/dslochower/data/projects/pAPRika/test/cb6-but/but.frcmod', os.path.join(path, 'windows', window, 'but.frcmod'))\n",
    "    os.symlink('/home/dslochower/data/projects/pAPRika/test/cb6-but/but.mol2', os.path.join(path, 'windows', window, 'but.mol2'))\n",
    "    \n",
    "    sys = System()\n",
    "    sys.template_file = '/home/dslochower/data/projects/pAPRika/test/cb6-but/tleap_gb.in'\n",
    "    sys.output_path = os.path.join(path, 'windows', window)\n",
    "    sys.output_prefix = 'vac'\n",
    "    sys.pbc_type = None\n",
    "    sys.loadpdb_file = '/home/dslochower/data/projects/pAPRika/test/cb6-but/cb6-but-minimized.pdb'\n",
    "    sys.build()"
   ]
  },
  {
   "cell_type": "code",
   "execution_count": 116,
   "metadata": {},
   "outputs": [
    {
     "name": "stderr",
     "output_type": "stream",
     "text": [
      "2018-04-18 10:46:13 AM Writing minimize.in\n",
      "2018-04-18 10:46:13 AM Running Minimization at ./local/windows/a000\n",
      "2018-04-18 10:46:13 AM Exec line: sander -O -p vac.prmtop -ref minimize.inpcrd -c vac.rst7 -i minimize.in -o minimize.out -r minimize.rst7 -inf minimize.mdinfo\n",
      "2018-04-18 10:46:13 AM Minimization completed...\n",
      "2018-04-18 10:46:13 AM Writing minimize.in\n",
      "2018-04-18 10:46:13 AM Running Minimization at ./local/windows/a001\n",
      "2018-04-18 10:46:13 AM Exec line: sander -O -p vac.prmtop -ref minimize.inpcrd -c vac.rst7 -i minimize.in -o minimize.out -r minimize.rst7 -inf minimize.mdinfo\n",
      "2018-04-18 10:46:13 AM Minimization completed...\n",
      "2018-04-18 10:46:13 AM Writing minimize.in\n",
      "2018-04-18 10:46:13 AM Running Minimization at ./local/windows/a002\n",
      "2018-04-18 10:46:13 AM Exec line: sander -O -p vac.prmtop -ref minimize.inpcrd -c vac.rst7 -i minimize.in -o minimize.out -r minimize.rst7 -inf minimize.mdinfo\n",
      "2018-04-18 10:46:13 AM Minimization completed...\n",
      "2018-04-18 10:46:13 AM Writing minimize.in\n",
      "2018-04-18 10:46:13 AM Running Minimization at ./local/windows/a003\n",
      "2018-04-18 10:46:13 AM Exec line: sander -O -p vac.prmtop -ref minimize.inpcrd -c vac.rst7 -i minimize.in -o minimize.out -r minimize.rst7 -inf minimize.mdinfo\n",
      "2018-04-18 10:46:13 AM Minimization completed...\n",
      "2018-04-18 10:46:13 AM Writing minimize.in\n",
      "2018-04-18 10:46:13 AM Running Minimization at ./local/windows/p000\n",
      "2018-04-18 10:46:13 AM Exec line: sander -O -p vac.prmtop -ref minimize.inpcrd -c vac.rst7 -i minimize.in -o minimize.out -r minimize.rst7 -inf minimize.mdinfo\n",
      "2018-04-18 10:46:13 AM Minimization completed...\n",
      "2018-04-18 10:46:13 AM Writing minimize.in\n",
      "2018-04-18 10:46:13 AM Running Minimization at ./local/windows/p001\n",
      "2018-04-18 10:46:13 AM Exec line: sander -O -p vac.prmtop -ref minimize.inpcrd -c vac.rst7 -i minimize.in -o minimize.out -r minimize.rst7 -inf minimize.mdinfo\n",
      "2018-04-18 10:46:13 AM Minimization completed...\n",
      "2018-04-18 10:46:13 AM Writing minimize.in\n",
      "2018-04-18 10:46:13 AM Running Minimization at ./local/windows/p002\n",
      "2018-04-18 10:46:13 AM Exec line: sander -O -p vac.prmtop -ref minimize.inpcrd -c vac.rst7 -i minimize.in -o minimize.out -r minimize.rst7 -inf minimize.mdinfo\n",
      "2018-04-18 10:46:13 AM Minimization completed...\n",
      "2018-04-18 10:46:13 AM Writing minimize.in\n",
      "2018-04-18 10:46:13 AM Running Minimization at ./local/windows/p003\n",
      "2018-04-18 10:46:13 AM Exec line: sander -O -p vac.prmtop -ref minimize.inpcrd -c vac.rst7 -i minimize.in -o minimize.out -r minimize.rst7 -inf minimize.mdinfo\n",
      "2018-04-18 10:46:13 AM Minimization completed...\n",
      "2018-04-18 10:46:13 AM Writing minimize.in\n",
      "2018-04-18 10:46:13 AM Running Minimization at ./local/windows/p004\n",
      "2018-04-18 10:46:13 AM Exec line: sander -O -p vac.prmtop -ref minimize.inpcrd -c vac.rst7 -i minimize.in -o minimize.out -r minimize.rst7 -inf minimize.mdinfo\n",
      "2018-04-18 10:46:13 AM Minimization completed...\n",
      "2018-04-18 10:46:13 AM Writing minimize.in\n",
      "2018-04-18 10:46:13 AM Running Minimization at ./local/windows/p005\n",
      "2018-04-18 10:46:13 AM Exec line: sander -O -p vac.prmtop -ref minimize.inpcrd -c vac.rst7 -i minimize.in -o minimize.out -r minimize.rst7 -inf minimize.mdinfo\n",
      "2018-04-18 10:46:13 AM Minimization completed...\n",
      "2018-04-18 10:46:13 AM Writing minimize.in\n",
      "2018-04-18 10:46:13 AM Running Minimization at ./local/windows/p006\n",
      "2018-04-18 10:46:13 AM Exec line: sander -O -p vac.prmtop -ref minimize.inpcrd -c vac.rst7 -i minimize.in -o minimize.out -r minimize.rst7 -inf minimize.mdinfo\n",
      "2018-04-18 10:46:13 AM Minimization completed...\n",
      "2018-04-18 10:46:13 AM Writing minimize.in\n",
      "2018-04-18 10:46:13 AM Running Minimization at ./local/windows/p007\n",
      "2018-04-18 10:46:13 AM Exec line: sander -O -p vac.prmtop -ref minimize.inpcrd -c vac.rst7 -i minimize.in -o minimize.out -r minimize.rst7 -inf minimize.mdinfo\n",
      "2018-04-18 10:46:13 AM Minimization completed...\n",
      "2018-04-18 10:46:13 AM Writing minimize.in\n",
      "2018-04-18 10:46:13 AM Running Minimization at ./local/windows/p008\n",
      "2018-04-18 10:46:13 AM Exec line: sander -O -p vac.prmtop -ref minimize.inpcrd -c vac.rst7 -i minimize.in -o minimize.out -r minimize.rst7 -inf minimize.mdinfo\n",
      "2018-04-18 10:46:13 AM Minimization completed...\n",
      "2018-04-18 10:46:13 AM Writing minimize.in\n",
      "2018-04-18 10:46:13 AM Running Minimization at ./local/windows/p009\n",
      "2018-04-18 10:46:13 AM Exec line: sander -O -p vac.prmtop -ref minimize.inpcrd -c vac.rst7 -i minimize.in -o minimize.out -r minimize.rst7 -inf minimize.mdinfo\n",
      "2018-04-18 10:46:13 AM Minimization completed...\n",
      "2018-04-18 10:46:13 AM Writing minimize.in\n",
      "2018-04-18 10:46:13 AM Running Minimization at ./local/windows/p010\n",
      "2018-04-18 10:46:13 AM Exec line: sander -O -p vac.prmtop -ref minimize.inpcrd -c vac.rst7 -i minimize.in -o minimize.out -r minimize.rst7 -inf minimize.mdinfo\n",
      "2018-04-18 10:46:13 AM Minimization completed...\n",
      "2018-04-18 10:46:13 AM Writing minimize.in\n",
      "2018-04-18 10:46:13 AM Running Minimization at ./local/windows/p011\n",
      "2018-04-18 10:46:13 AM Exec line: sander -O -p vac.prmtop -ref minimize.inpcrd -c vac.rst7 -i minimize.in -o minimize.out -r minimize.rst7 -inf minimize.mdinfo\n",
      "2018-04-18 10:46:13 AM Minimization completed...\n",
      "2018-04-18 10:46:13 AM Writing minimize.in\n",
      "2018-04-18 10:46:13 AM Running Minimization at ./local/windows/p012\n",
      "2018-04-18 10:46:13 AM Exec line: sander -O -p vac.prmtop -ref minimize.inpcrd -c vac.rst7 -i minimize.in -o minimize.out -r minimize.rst7 -inf minimize.mdinfo\n",
      "2018-04-18 10:46:13 AM Minimization completed...\n",
      "2018-04-18 10:46:13 AM Writing minimize.in\n",
      "2018-04-18 10:46:13 AM Running Minimization at ./local/windows/p013\n",
      "2018-04-18 10:46:13 AM Exec line: sander -O -p vac.prmtop -ref minimize.inpcrd -c vac.rst7 -i minimize.in -o minimize.out -r minimize.rst7 -inf minimize.mdinfo\n",
      "2018-04-18 10:46:13 AM Minimization completed...\n",
      "2018-04-18 10:46:13 AM Writing minimize.in\n",
      "2018-04-18 10:46:13 AM Running Minimization at ./local/windows/p014\n",
      "2018-04-18 10:46:13 AM Exec line: sander -O -p vac.prmtop -ref minimize.inpcrd -c vac.rst7 -i minimize.in -o minimize.out -r minimize.rst7 -inf minimize.mdinfo\n",
      "2018-04-18 10:46:13 AM Minimization completed...\n",
      "2018-04-18 10:46:13 AM Writing minimize.in\n",
      "2018-04-18 10:46:13 AM Running Minimization at ./local/windows/p015\n",
      "2018-04-18 10:46:13 AM Exec line: sander -O -p vac.prmtop -ref minimize.inpcrd -c vac.rst7 -i minimize.in -o minimize.out -r minimize.rst7 -inf minimize.mdinfo\n",
      "2018-04-18 10:46:13 AM Minimization completed...\n",
      "2018-04-18 10:46:13 AM Writing minimize.in\n",
      "2018-04-18 10:46:13 AM Running Minimization at ./local/windows/p016\n",
      "2018-04-18 10:46:13 AM Exec line: sander -O -p vac.prmtop -ref minimize.inpcrd -c vac.rst7 -i minimize.in -o minimize.out -r minimize.rst7 -inf minimize.mdinfo\n",
      "2018-04-18 10:46:13 AM Minimization completed...\n",
      "2018-04-18 10:46:13 AM Writing minimize.in\n",
      "2018-04-18 10:46:13 AM Running Minimization at ./local/windows/p017\n",
      "2018-04-18 10:46:13 AM Exec line: sander -O -p vac.prmtop -ref minimize.inpcrd -c vac.rst7 -i minimize.in -o minimize.out -r minimize.rst7 -inf minimize.mdinfo\n",
      "2018-04-18 10:46:13 AM Minimization completed...\n",
      "2018-04-18 10:46:13 AM Writing minimize.in\n",
      "2018-04-18 10:46:13 AM Running Minimization at ./local/windows/p018\n",
      "2018-04-18 10:46:13 AM Exec line: sander -O -p vac.prmtop -ref minimize.inpcrd -c vac.rst7 -i minimize.in -o minimize.out -r minimize.rst7 -inf minimize.mdinfo\n",
      "2018-04-18 10:46:13 AM Minimization completed...\n",
      "2018-04-18 10:46:13 AM Writing minimize.in\n",
      "2018-04-18 10:46:13 AM Running Minimization at ./local/windows/p019\n",
      "2018-04-18 10:46:13 AM Exec line: sander -O -p vac.prmtop -ref minimize.inpcrd -c vac.rst7 -i minimize.in -o minimize.out -r minimize.rst7 -inf minimize.mdinfo\n",
      "2018-04-18 10:46:13 AM Minimization completed...\n"
     ]
    }
   ],
   "source": [
    "for window in window_list:\n",
    "    \n",
    "    gbsim = Simulation()\n",
    "    gbsim.path = os.path.join(path, 'windows', window)\n",
    "    gbsim.executable = 'sander'\n",
    "    gbsim.topology = 'vac.prmtop'\n",
    "    gbsim.prefix = 'minimize'\n",
    "    gbsim.inpcrd = 'vac.rst7'\n",
    "    gbsim.restraint_file = 'disang.rest'\n",
    "    gbsim.config_gb_min()\n",
    "    gbsim.cntrl['maxcyc'] = 1\n",
    "    gbsim.cntrl['ncyc'] = 1 \n",
    "    gbsim.run()"
   ]
  },
  {
   "cell_type": "code",
   "execution_count": 117,
   "metadata": {},
   "outputs": [
    {
     "name": "stderr",
     "output_type": "stream",
     "text": [
      "2018-04-18 10:46:28 AM Writing md.in\n",
      "2018-04-18 10:46:28 AM Running MD at ./local/windows/a000\n",
      "2018-04-18 10:46:28 AM Exec line: sander -O -p vac.prmtop -ref md.inpcrd -c minimize.rst7 -i md.in -o md.out -r md.rst7 -x md.nc -inf md.mdinfo -e md.mden\n",
      "2018-04-18 10:46:28 AM MD completed ...\n",
      "2018-04-18 10:46:28 AM Writing md.in\n",
      "2018-04-18 10:46:28 AM Running MD at ./local/windows/a001\n",
      "2018-04-18 10:46:28 AM Exec line: sander -O -p vac.prmtop -ref md.inpcrd -c minimize.rst7 -i md.in -o md.out -r md.rst7 -x md.nc -inf md.mdinfo -e md.mden\n",
      "2018-04-18 10:46:28 AM MD completed ...\n",
      "2018-04-18 10:46:28 AM Writing md.in\n",
      "2018-04-18 10:46:28 AM Running MD at ./local/windows/a002\n",
      "2018-04-18 10:46:28 AM Exec line: sander -O -p vac.prmtop -ref md.inpcrd -c minimize.rst7 -i md.in -o md.out -r md.rst7 -x md.nc -inf md.mdinfo -e md.mden\n",
      "2018-04-18 10:46:28 AM MD completed ...\n",
      "2018-04-18 10:46:28 AM Writing md.in\n",
      "2018-04-18 10:46:28 AM Running MD at ./local/windows/a003\n",
      "2018-04-18 10:46:28 AM Exec line: sander -O -p vac.prmtop -ref md.inpcrd -c minimize.rst7 -i md.in -o md.out -r md.rst7 -x md.nc -inf md.mdinfo -e md.mden\n",
      "2018-04-18 10:46:28 AM MD completed ...\n",
      "2018-04-18 10:46:28 AM Writing md.in\n",
      "2018-04-18 10:46:28 AM Running MD at ./local/windows/p000\n",
      "2018-04-18 10:46:28 AM Exec line: sander -O -p vac.prmtop -ref md.inpcrd -c minimize.rst7 -i md.in -o md.out -r md.rst7 -x md.nc -inf md.mdinfo -e md.mden\n",
      "2018-04-18 10:46:28 AM MD completed ...\n",
      "2018-04-18 10:46:28 AM Writing md.in\n",
      "2018-04-18 10:46:28 AM Running MD at ./local/windows/p001\n",
      "2018-04-18 10:46:28 AM Exec line: sander -O -p vac.prmtop -ref md.inpcrd -c minimize.rst7 -i md.in -o md.out -r md.rst7 -x md.nc -inf md.mdinfo -e md.mden\n",
      "2018-04-18 10:46:28 AM MD completed ...\n",
      "2018-04-18 10:46:28 AM Writing md.in\n",
      "2018-04-18 10:46:28 AM Running MD at ./local/windows/p002\n",
      "2018-04-18 10:46:28 AM Exec line: sander -O -p vac.prmtop -ref md.inpcrd -c minimize.rst7 -i md.in -o md.out -r md.rst7 -x md.nc -inf md.mdinfo -e md.mden\n",
      "2018-04-18 10:46:28 AM MD completed ...\n",
      "2018-04-18 10:46:28 AM Writing md.in\n",
      "2018-04-18 10:46:28 AM Running MD at ./local/windows/p003\n",
      "2018-04-18 10:46:28 AM Exec line: sander -O -p vac.prmtop -ref md.inpcrd -c minimize.rst7 -i md.in -o md.out -r md.rst7 -x md.nc -inf md.mdinfo -e md.mden\n",
      "2018-04-18 10:46:28 AM MD completed ...\n",
      "2018-04-18 10:46:28 AM Writing md.in\n",
      "2018-04-18 10:46:28 AM Running MD at ./local/windows/p004\n",
      "2018-04-18 10:46:28 AM Exec line: sander -O -p vac.prmtop -ref md.inpcrd -c minimize.rst7 -i md.in -o md.out -r md.rst7 -x md.nc -inf md.mdinfo -e md.mden\n",
      "2018-04-18 10:46:28 AM MD completed ...\n",
      "2018-04-18 10:46:28 AM Writing md.in\n",
      "2018-04-18 10:46:28 AM Running MD at ./local/windows/p005\n",
      "2018-04-18 10:46:28 AM Exec line: sander -O -p vac.prmtop -ref md.inpcrd -c minimize.rst7 -i md.in -o md.out -r md.rst7 -x md.nc -inf md.mdinfo -e md.mden\n",
      "2018-04-18 10:46:28 AM MD completed ...\n",
      "2018-04-18 10:46:28 AM Writing md.in\n",
      "2018-04-18 10:46:28 AM Running MD at ./local/windows/p006\n",
      "2018-04-18 10:46:28 AM Exec line: sander -O -p vac.prmtop -ref md.inpcrd -c minimize.rst7 -i md.in -o md.out -r md.rst7 -x md.nc -inf md.mdinfo -e md.mden\n",
      "2018-04-18 10:46:28 AM MD completed ...\n",
      "2018-04-18 10:46:28 AM Writing md.in\n",
      "2018-04-18 10:46:28 AM Running MD at ./local/windows/p007\n",
      "2018-04-18 10:46:28 AM Exec line: sander -O -p vac.prmtop -ref md.inpcrd -c minimize.rst7 -i md.in -o md.out -r md.rst7 -x md.nc -inf md.mdinfo -e md.mden\n",
      "2018-04-18 10:46:28 AM MD completed ...\n",
      "2018-04-18 10:46:28 AM Writing md.in\n",
      "2018-04-18 10:46:28 AM Running MD at ./local/windows/p008\n",
      "2018-04-18 10:46:28 AM Exec line: sander -O -p vac.prmtop -ref md.inpcrd -c minimize.rst7 -i md.in -o md.out -r md.rst7 -x md.nc -inf md.mdinfo -e md.mden\n",
      "2018-04-18 10:46:28 AM MD completed ...\n",
      "2018-04-18 10:46:28 AM Writing md.in\n",
      "2018-04-18 10:46:28 AM Running MD at ./local/windows/p009\n",
      "2018-04-18 10:46:28 AM Exec line: sander -O -p vac.prmtop -ref md.inpcrd -c minimize.rst7 -i md.in -o md.out -r md.rst7 -x md.nc -inf md.mdinfo -e md.mden\n",
      "2018-04-18 10:46:28 AM MD completed ...\n",
      "2018-04-18 10:46:28 AM Writing md.in\n",
      "2018-04-18 10:46:28 AM Running MD at ./local/windows/p010\n",
      "2018-04-18 10:46:28 AM Exec line: sander -O -p vac.prmtop -ref md.inpcrd -c minimize.rst7 -i md.in -o md.out -r md.rst7 -x md.nc -inf md.mdinfo -e md.mden\n",
      "2018-04-18 10:46:28 AM MD completed ...\n",
      "2018-04-18 10:46:28 AM Writing md.in\n",
      "2018-04-18 10:46:28 AM Running MD at ./local/windows/p011\n",
      "2018-04-18 10:46:28 AM Exec line: sander -O -p vac.prmtop -ref md.inpcrd -c minimize.rst7 -i md.in -o md.out -r md.rst7 -x md.nc -inf md.mdinfo -e md.mden\n",
      "2018-04-18 10:46:28 AM MD completed ...\n",
      "2018-04-18 10:46:28 AM Writing md.in\n",
      "2018-04-18 10:46:28 AM Running MD at ./local/windows/p012\n",
      "2018-04-18 10:46:28 AM Exec line: sander -O -p vac.prmtop -ref md.inpcrd -c minimize.rst7 -i md.in -o md.out -r md.rst7 -x md.nc -inf md.mdinfo -e md.mden\n",
      "2018-04-18 10:46:28 AM MD completed ...\n",
      "2018-04-18 10:46:28 AM Writing md.in\n",
      "2018-04-18 10:46:28 AM Running MD at ./local/windows/p013\n",
      "2018-04-18 10:46:28 AM Exec line: sander -O -p vac.prmtop -ref md.inpcrd -c minimize.rst7 -i md.in -o md.out -r md.rst7 -x md.nc -inf md.mdinfo -e md.mden\n",
      "2018-04-18 10:46:28 AM MD completed ...\n",
      "2018-04-18 10:46:28 AM Writing md.in\n",
      "2018-04-18 10:46:28 AM Running MD at ./local/windows/p014\n",
      "2018-04-18 10:46:28 AM Exec line: sander -O -p vac.prmtop -ref md.inpcrd -c minimize.rst7 -i md.in -o md.out -r md.rst7 -x md.nc -inf md.mdinfo -e md.mden\n",
      "2018-04-18 10:46:28 AM MD completed ...\n",
      "2018-04-18 10:46:28 AM Writing md.in\n",
      "2018-04-18 10:46:28 AM Running MD at ./local/windows/p015\n",
      "2018-04-18 10:46:28 AM Exec line: sander -O -p vac.prmtop -ref md.inpcrd -c minimize.rst7 -i md.in -o md.out -r md.rst7 -x md.nc -inf md.mdinfo -e md.mden\n",
      "2018-04-18 10:46:28 AM MD completed ...\n",
      "2018-04-18 10:46:28 AM Writing md.in\n",
      "2018-04-18 10:46:28 AM Running MD at ./local/windows/p016\n",
      "2018-04-18 10:46:28 AM Exec line: sander -O -p vac.prmtop -ref md.inpcrd -c minimize.rst7 -i md.in -o md.out -r md.rst7 -x md.nc -inf md.mdinfo -e md.mden\n",
      "2018-04-18 10:46:28 AM MD completed ...\n",
      "2018-04-18 10:46:28 AM Writing md.in\n",
      "2018-04-18 10:46:28 AM Running MD at ./local/windows/p017\n",
      "2018-04-18 10:46:28 AM Exec line: sander -O -p vac.prmtop -ref md.inpcrd -c minimize.rst7 -i md.in -o md.out -r md.rst7 -x md.nc -inf md.mdinfo -e md.mden\n",
      "2018-04-18 10:46:28 AM MD completed ...\n",
      "2018-04-18 10:46:28 AM Writing md.in\n",
      "2018-04-18 10:46:28 AM Running MD at ./local/windows/p018\n",
      "2018-04-18 10:46:28 AM Exec line: sander -O -p vac.prmtop -ref md.inpcrd -c minimize.rst7 -i md.in -o md.out -r md.rst7 -x md.nc -inf md.mdinfo -e md.mden\n",
      "2018-04-18 10:46:28 AM MD completed ...\n",
      "2018-04-18 10:46:28 AM Writing md.in\n",
      "2018-04-18 10:46:28 AM Running MD at ./local/windows/p019\n",
      "2018-04-18 10:46:28 AM Exec line: sander -O -p vac.prmtop -ref md.inpcrd -c minimize.rst7 -i md.in -o md.out -r md.rst7 -x md.nc -inf md.mdinfo -e md.mden\n",
      "2018-04-18 10:46:28 AM MD completed ...\n"
     ]
    }
   ],
   "source": [
    "for window in window_list:\n",
    "    \n",
    "    gbsim.config_gb_md()\n",
    "    gbsim.path = os.path.join(path, 'windows', window)\n",
    "    gbsim.prefix = 'md'\n",
    "    gbsim.inpcrd = 'minimize.rst7'\n",
    "    gbsim.cntrl['nstlim'] = 1\n",
    "    gbsim.cntrl['ntpr'] = 1\n",
    "    gbsim.cntrl['ig'] = 777\n",
    "    gbsim.run()"
   ]
  },
  {
   "cell_type": "markdown",
   "metadata": {},
   "source": [
    "# Okay great. It looks we can add some new windows."
   ]
  },
  {
   "cell_type": "code",
   "execution_count": null,
   "metadata": {},
   "outputs": [],
   "source": []
  }
 ],
 "metadata": {
  "kernelspec": {
   "display_name": "Python [conda env:smirnoff-paprika]",
   "language": "python",
   "name": "conda-env-smirnoff-paprika-py"
  },
  "language_info": {
   "codemirror_mode": {
    "name": "ipython",
    "version": 3
   },
   "file_extension": ".py",
   "mimetype": "text/x-python",
   "name": "python",
   "nbconvert_exporter": "python",
   "pygments_lexer": "ipython3",
   "version": "3.6.4"
  }
 },
 "nbformat": 4,
 "nbformat_minor": 2
}
