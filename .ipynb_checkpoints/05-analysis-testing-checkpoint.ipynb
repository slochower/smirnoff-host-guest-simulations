{
 "cells": [
  {
   "cell_type": "markdown",
   "metadata": {},
   "source": [
    "# Try 1: prototype `paprika` analysis"
   ]
  },
  {
   "cell_type": "markdown",
   "metadata": {},
   "source": [
    "Presuming we have a host-guest system already setup, let's see if we can rationally instruct `paprika` to setup all the restraints for a real system."
   ]
  },
  {
   "cell_type": "code",
   "execution_count": 1,
   "metadata": {
    "ExecuteTime": {
     "end_time": "2018-04-14T00:30:25.390529Z",
     "start_time": "2018-04-14T00:30:25.062911Z"
    }
   },
   "outputs": [],
   "source": [
    "%load_ext autoreload\n",
    "%autoreload 2\n",
    "\n",
    "import os as os\n",
    "import numpy as np\n",
    "\n",
    "import parmed as pmd\n",
    "import pytraj as pt"
   ]
  },
  {
   "cell_type": "code",
   "execution_count": 2,
   "metadata": {
    "ExecuteTime": {
     "end_time": "2018-04-14T00:30:25.437671Z",
     "start_time": "2018-04-14T00:30:25.392881Z"
    }
   },
   "outputs": [
    {
     "name": "stderr",
     "output_type": "stream",
     "text": [
      "2018-04-13 05:30:25 PM Started logging...\n",
      "2018-04-13 05:30:25 PM OpenMM support: Yes\n"
     ]
    },
    {
     "name": "stdout",
     "output_type": "stream",
     "text": [
      "2018-04-12_18:53:04_-0700-800aa25-0.0.3\n"
     ]
    }
   ],
   "source": [
    "import logging\n",
    "import datetime as dt\n",
    "d_date = dt.datetime.now()\n",
    "logging.basicConfig(format='%(asctime)s %(message)s', datefmt='%Y-%m-%d %I:%M:%S %p',\n",
    "                    level=logging.DEBUG)\n",
    "logging.info('Started logging...')\n",
    "\n",
    "import paprika\n",
    "print(paprika.__version__)\n",
    "\n",
    "from paprika.restraints import static_DAT_restraint\n",
    "from paprika.restraints import DAT_restraint\n",
    "from paprika.restraints import amber_restraint_line\n",
    "from paprika.restraints import create_window_list\n",
    "\n",
    "from paprika.utils import make_window_dirs"
   ]
  },
  {
   "cell_type": "markdown",
   "metadata": {},
   "source": [
    "## Preamble"
   ]
  },
  {
   "cell_type": "markdown",
   "metadata": {},
   "source": [
    "We are going to setup host translational restraints, guest translational restraints, host \"jacks,\" and guest wall restraints with `paprika`. First, let's try working in a directory where we have a known `disang.rest` file we can use as a reference: `/data/davids4/projects/smirnoff-host-guest/a-bam-p/a00/original` or `/data/davids4/projects/smirnoff-host-guest/a-bam-p/u00/original` for the final values.\n",
    "\n",
    "<img src=\"images/paprika.png?2\">"
   ]
  },
  {
   "cell_type": "code",
   "execution_count": 3,
   "metadata": {
    "ExecuteTime": {
     "end_time": "2018-04-14T00:30:25.522589Z",
     "start_time": "2018-04-14T00:30:25.439489Z"
    }
   },
   "outputs": [],
   "source": [
    "dummy_anchors = [':8', ':9', ':10']\n",
    "host_anchors  = [':1@O3', ':3@C1', ':5@C6']\n",
    "guest_anchors = [':7@C4', ':7@N1']"
   ]
  },
  {
   "cell_type": "code",
   "execution_count": 4,
   "metadata": {
    "ExecuteTime": {
     "end_time": "2018-04-14T00:30:25.916170Z",
     "start_time": "2018-04-14T00:30:25.524361Z"
    }
   },
   "outputs": [],
   "source": [
    "hg = pmd.load_file('systems/a-bam-p/smirnoff/a000/smirnoff.prmtop',\n",
    "                   'systems/a-bam-p/smirnoff/a000/smirnoff.inpcrd',\n",
    "                    structure=True)"
   ]
  },
  {
   "cell_type": "markdown",
   "metadata": {},
   "source": [
    "The attach fractions can be found in the `Setup.pl` file in the original location on `kirkwood`: `/data/nhenriksen/projects/cds/wat6/bgbg-tip3p/a-bam-p/a00/` under `@AttachFC`."
   ]
  },
  {
   "cell_type": "markdown",
   "metadata": {
    "ExecuteTime": {
     "end_time": "2018-03-23T23:19:14.410610Z",
     "start_time": "2018-03-23T23:19:14.389300Z"
    }
   },
   "source": [
    "The attach force constant is 5.0 kcal/mol-A^{2} for distances and 100.0 kcal/mol-rad^{2} for angels and torsions based on `disang.rest` in `u00`."
   ]
  },
  {
   "cell_type": "markdown",
   "metadata": {},
   "source": [
    "The pull distances are specified by `@Translate` in `Setup.pl` and are offset by 6 Angstroms."
   ]
  },
  {
   "cell_type": "code",
   "execution_count": 5,
   "metadata": {
    "ExecuteTime": {
     "end_time": "2018-04-14T00:30:25.935767Z",
     "start_time": "2018-04-14T00:30:25.917883Z"
    }
   },
   "outputs": [
    {
     "name": "stdout",
     "output_type": "stream",
     "text": [
      "There are [15, 46, 0] windows in this attach-pull calculation.\n"
     ]
    }
   ],
   "source": [
    "attach_string = '0.00 0.40 0.80 1.60 2.40 4.00 5.50 8.65 11.80 18.10 24.40 37.00 49.60 74.80 100.00'\n",
    "attach_fractions = [float(i) / 100 for i in attach_string.split()]\n",
    "\n",
    "pull_string = '0.00 0.40 0.80 1.20 1.60 2.00 2.40 2.80 3.20 3.60 4.00 4.40 4.80 5.20 5.60 6.00 6.40 6.80 7.20 7.60 8.00 8.40 8.80 9.20 9.60 10.00 10.40 10.80 11.20 11.60 12.00 12.40 12.80 13.20 13.60 14.00 14.40 14.80 15.20 15.60 16.00 16.40 16.80 17.20 17.60 18.00'\n",
    "pull_distances = [float(i) + 6.00 for i in pull_string.split()]\n",
    "\n",
    "windows = [len(attach_fractions), len(pull_distances), 0]\n",
    "print(f'There are {windows} windows in this attach-pull calculation.')"
   ]
  },
  {
   "cell_type": "markdown",
   "metadata": {},
   "source": [
    "## Define the host translational restraints\n",
    "These restraints help pin down the host during initial attachment of the DAT restraints. They are static, meaning unlike other restraints, they are not turned on slowly during the attachment phase."
   ]
  },
  {
   "cell_type": "code",
   "execution_count": 6,
   "metadata": {
    "ExecuteTime": {
     "end_time": "2018-04-14T00:30:26.065946Z",
     "start_time": "2018-04-14T00:30:25.937450Z"
    }
   },
   "outputs": [],
   "source": [
    "static_restraint_atoms = [[dummy_anchors[0], host_anchors[0]],\n",
    "                          [dummy_anchors[1], dummy_anchors[0], host_anchors[0]],\n",
    "                          [dummy_anchors[2], dummy_anchors[1], dummy_anchors[0], host_anchors[0]],\n",
    "                          [dummy_anchors[0], host_anchors[0], host_anchors[1]],\n",
    "                          [dummy_anchors[1], dummy_anchors[0], host_anchors[0], host_anchors[1]],\n",
    "                          [dummy_anchors[0], host_anchors[0], host_anchors[1], host_anchors[2]],\n",
    "                        ]\n",
    "\n",
    "static_restraint_distance_fc = 5.0\n",
    "static_restraint_angle_fc = 100.0"
   ]
  },
  {
   "cell_type": "markdown",
   "metadata": {},
   "source": [
    "## Define the guest translational restraints"
   ]
  },
  {
   "cell_type": "code",
   "execution_count": 7,
   "metadata": {
    "ExecuteTime": {
     "end_time": "2018-04-14T00:30:26.144415Z",
     "start_time": "2018-04-14T00:30:26.067634Z"
    }
   },
   "outputs": [],
   "source": [
    "guest_restraint_atoms = [[dummy_anchors[0], guest_anchors[0]],\n",
    "                         [dummy_anchors[1], dummy_anchors[0], guest_anchors[0]],\n",
    "                         [dummy_anchors[0], guest_anchors[0], guest_anchors[1]],\n",
    "                        ]\n",
    "\n",
    "guest_restraint_targets = [6.0,\n",
    "                           180.0,\n",
    "                           180.0\n",
    "                          ]\n",
    "guest_restraint_target_final = [24.0, 180.0, 180.0]\n",
    "guest_restraint_distance_fc = 5.0\n",
    "guest_restraint_angle_fc = 100.0"
   ]
  },
  {
   "cell_type": "markdown",
   "metadata": {},
   "source": [
    "## Define the host conformational restraints"
   ]
  },
  {
   "cell_type": "markdown",
   "metadata": {},
   "source": [
    "The \"jacks\" restraints can be written O5_n - C1_n - O1_n - C4_n+1 and C1_n - O1_n - C4_n+1 - C5_n+1."
   ]
  },
  {
   "cell_type": "code",
   "execution_count": 8,
   "metadata": {
    "ExecuteTime": {
     "end_time": "2018-04-14T00:30:26.427449Z",
     "start_time": "2018-04-14T00:30:26.145972Z"
    }
   },
   "outputs": [],
   "source": [
    "host_conformational_template = [['O5', 'C1', 'O1', 'C4'],\n",
    "                                ['C1', 'O1', 'C4', 'C5']\n",
    "                               ]\n",
    "\n",
    "host_residues = len(hg[':MGO'].residues)\n",
    "first_host_residue = hg[':MGO'].residues[0].number + 1\n",
    "conformational_restraint_atoms = []\n",
    "conformational_restraint_targets = []\n",
    "conformational_restraint_fc = 6.0\n",
    "\n",
    "for n in range(first_host_residue, host_residues + first_host_residue):\n",
    "    if n + 1 < host_residues + first_host_residue:\n",
    "        next_residue = n + 1\n",
    "    else:\n",
    "        next_residue = first_host_residue\n",
    "    conformational_restraint_atoms.append(\n",
    "        [f':{n}@{host_conformational_template[0][0]}',\n",
    "         f':{n}@{host_conformational_template[0][1]}',\n",
    "         f':{n}@{host_conformational_template[0][2]}',\n",
    "         f':{next_residue}@{host_conformational_template[0][3]}'\n",
    "        ])\n",
    "    conformational_restraint_targets.append(104.30)\n",
    "    conformational_restraint_atoms.append(\n",
    "        [f':{n}@{host_conformational_template[1][0]}',\n",
    "         f':{n}@{host_conformational_template[1][1]}',\n",
    "         f':{next_residue}@{host_conformational_template[1][2]}',\n",
    "         f':{next_residue}@{host_conformational_template[1][3]}'\n",
    "        ])\n",
    "    conformational_restraint_targets.append(-108.8)"
   ]
  },
  {
   "cell_type": "markdown",
   "metadata": {},
   "source": [
    "## Define the guest \"wall\" restraints"
   ]
  },
  {
   "cell_type": "markdown",
   "metadata": {},
   "source": [
    "The guest wall restraints are only on during the attachment phase, and make sure that the guest does not unbind and waste time diffusing around the simulation box. These distance restraints are flat from zero through the restraint target value, near the edge of the binding cavity, and then increase harmonically beyond that. The guest \"wall\" angle restraint is harmonic and prevents the guest from flipping around during the bound phase."
   ]
  },
  {
   "cell_type": "code",
   "execution_count": 9,
   "metadata": {
    "ExecuteTime": {
     "end_time": "2018-04-14T00:30:26.467602Z",
     "start_time": "2018-04-14T00:30:26.429055Z"
    }
   },
   "outputs": [],
   "source": [
    "guest_wall_template = [\n",
    "    ['O2', guest_anchors[0]],\n",
    "    ['O6', guest_anchors[0]]\n",
    "]\n",
    "\n",
    "guest_wall_restraint_atoms = []\n",
    "guest_wall_restraint_targets = []\n",
    "guest_wall_restraint_angle_fc = 500.0\n",
    "guest_wall_restraint_distance_fc = 50.0\n",
    "\n",
    "for n in range(first_host_residue, host_residues + first_host_residue):\n",
    "    guest_wall_restraint_atoms.append(\n",
    "        [f':{n}@{guest_wall_template[0][0]}',\n",
    "         f'{guest_wall_template[0][1]}',\n",
    "        ])\n",
    "    guest_wall_restraint_targets.append(11.3)\n",
    "    guest_wall_restraint_atoms.append(\n",
    "        [f':{n}@{guest_wall_template[1][0]}',\n",
    "         f'{guest_wall_template[1][1]}',\n",
    "        ])\n",
    "    guest_wall_restraint_targets.append(13.3)\n",
    "\n",
    "guest_wall_restraint_atoms.append([dummy_anchors[1],\n",
    "                                 guest_anchors[0],\n",
    "                                 guest_anchors[1]])\n",
    "guest_wall_restraint_targets.append(80.0)"
   ]
  },
  {
   "cell_type": "markdown",
   "metadata": {},
   "source": [
    "## Initialize all the restraints"
   ]
  },
  {
   "cell_type": "code",
   "execution_count": 10,
   "metadata": {
    "ExecuteTime": {
     "end_time": "2018-04-14T00:30:29.159364Z",
     "start_time": "2018-04-14T00:30:26.469218Z"
    },
    "scrolled": true
   },
   "outputs": [
    {
     "name": "stderr",
     "output_type": "stream",
     "text": [
      "2018-04-13 05:30:26 PM Calculating attach targets and force constants...\n",
      "2018-04-13 05:30:26 PM Attach, Method #1\n",
      "2018-04-13 05:30:26 PM Calculating pull targets and force constants...\n",
      "2018-04-13 05:30:26 PM Pull, Method #1\n",
      "2018-04-13 05:30:26 PM Calculating release targets and force constants...\n",
      "2018-04-13 05:30:26 PM No restraint info set for the release phase! Skipping...\n",
      "2018-04-13 05:30:26 PM Number of attach windows = 15\n",
      "2018-04-13 05:30:26 PM Number of pull windows = 46\n",
      "2018-04-13 05:30:26 PM This restraint will be skipped in the release phase\n",
      "2018-04-13 05:30:26 PM Assigning atom indices...\n",
      "2018-04-13 05:30:26 PM There are 1 atoms in the mask :8  ...\n",
      "2018-04-13 05:30:27 PM There are 1 atoms in the mask :1@O3  ...\n",
      "2018-04-13 05:30:27 PM Calculating attach targets and force constants...\n",
      "2018-04-13 05:30:27 PM Attach, Method #1\n",
      "2018-04-13 05:30:27 PM Calculating pull targets and force constants...\n",
      "2018-04-13 05:30:27 PM Pull, Method #1\n",
      "2018-04-13 05:30:27 PM Calculating release targets and force constants...\n",
      "2018-04-13 05:30:27 PM No restraint info set for the release phase! Skipping...\n",
      "2018-04-13 05:30:27 PM Number of attach windows = 15\n",
      "2018-04-13 05:30:27 PM Number of pull windows = 46\n",
      "2018-04-13 05:30:27 PM This restraint will be skipped in the release phase\n",
      "2018-04-13 05:30:27 PM Assigning atom indices...\n",
      "2018-04-13 05:30:27 PM There are 1 atoms in the mask :9  ...\n",
      "2018-04-13 05:30:27 PM There are 1 atoms in the mask :8  ...\n",
      "2018-04-13 05:30:27 PM There are 1 atoms in the mask :1@O3  ...\n",
      "2018-04-13 05:30:27 PM Calculating attach targets and force constants...\n",
      "2018-04-13 05:30:27 PM Attach, Method #1\n",
      "2018-04-13 05:30:27 PM Calculating pull targets and force constants...\n",
      "2018-04-13 05:30:27 PM Pull, Method #1\n",
      "2018-04-13 05:30:27 PM Calculating release targets and force constants...\n",
      "2018-04-13 05:30:27 PM No restraint info set for the release phase! Skipping...\n",
      "2018-04-13 05:30:27 PM Number of attach windows = 15\n",
      "2018-04-13 05:30:27 PM Number of pull windows = 46\n",
      "2018-04-13 05:30:27 PM This restraint will be skipped in the release phase\n",
      "2018-04-13 05:30:27 PM Assigning atom indices...\n",
      "2018-04-13 05:30:27 PM There are 1 atoms in the mask :10  ...\n",
      "2018-04-13 05:30:27 PM There are 1 atoms in the mask :9  ...\n",
      "2018-04-13 05:30:27 PM There are 1 atoms in the mask :8  ...\n",
      "2018-04-13 05:30:27 PM There are 1 atoms in the mask :1@O3  ...\n",
      "2018-04-13 05:30:28 PM Calculating attach targets and force constants...\n",
      "2018-04-13 05:30:28 PM Attach, Method #1\n",
      "2018-04-13 05:30:28 PM Calculating pull targets and force constants...\n",
      "2018-04-13 05:30:28 PM Pull, Method #1\n",
      "2018-04-13 05:30:28 PM Calculating release targets and force constants...\n",
      "2018-04-13 05:30:28 PM No restraint info set for the release phase! Skipping...\n",
      "2018-04-13 05:30:28 PM Number of attach windows = 15\n",
      "2018-04-13 05:30:28 PM Number of pull windows = 46\n",
      "2018-04-13 05:30:28 PM This restraint will be skipped in the release phase\n",
      "2018-04-13 05:30:28 PM Assigning atom indices...\n",
      "2018-04-13 05:30:28 PM There are 1 atoms in the mask :8  ...\n",
      "2018-04-13 05:30:28 PM There are 1 atoms in the mask :1@O3  ...\n",
      "2018-04-13 05:30:28 PM There are 1 atoms in the mask :3@C1  ...\n",
      "2018-04-13 05:30:28 PM Calculating attach targets and force constants...\n",
      "2018-04-13 05:30:28 PM Attach, Method #1\n",
      "2018-04-13 05:30:28 PM Calculating pull targets and force constants...\n",
      "2018-04-13 05:30:28 PM Pull, Method #1\n",
      "2018-04-13 05:30:28 PM Calculating release targets and force constants...\n",
      "2018-04-13 05:30:28 PM No restraint info set for the release phase! Skipping...\n",
      "2018-04-13 05:30:28 PM Number of attach windows = 15\n",
      "2018-04-13 05:30:28 PM Number of pull windows = 46\n",
      "2018-04-13 05:30:28 PM This restraint will be skipped in the release phase\n",
      "2018-04-13 05:30:28 PM Assigning atom indices...\n",
      "2018-04-13 05:30:28 PM There are 1 atoms in the mask :9  ...\n",
      "2018-04-13 05:30:28 PM There are 1 atoms in the mask :8  ...\n",
      "2018-04-13 05:30:28 PM There are 1 atoms in the mask :1@O3  ...\n",
      "2018-04-13 05:30:28 PM There are 1 atoms in the mask :3@C1  ...\n",
      "2018-04-13 05:30:29 PM Calculating attach targets and force constants...\n",
      "2018-04-13 05:30:29 PM Attach, Method #1\n",
      "2018-04-13 05:30:29 PM Calculating pull targets and force constants...\n",
      "2018-04-13 05:30:29 PM Pull, Method #1\n",
      "2018-04-13 05:30:29 PM Calculating release targets and force constants...\n",
      "2018-04-13 05:30:29 PM No restraint info set for the release phase! Skipping...\n",
      "2018-04-13 05:30:29 PM Number of attach windows = 15\n",
      "2018-04-13 05:30:29 PM Number of pull windows = 46\n",
      "2018-04-13 05:30:29 PM This restraint will be skipped in the release phase\n",
      "2018-04-13 05:30:29 PM Assigning atom indices...\n",
      "2018-04-13 05:30:29 PM There are 1 atoms in the mask :8  ...\n",
      "2018-04-13 05:30:29 PM There are 1 atoms in the mask :1@O3  ...\n",
      "2018-04-13 05:30:29 PM There are 1 atoms in the mask :3@C1  ...\n",
      "2018-04-13 05:30:29 PM There are 1 atoms in the mask :5@C6  ...\n"
     ]
    }
   ],
   "source": [
    "for index, atoms in enumerate(static_restraint_atoms):    \n",
    "    static_DAT_restraint(restraint_mask_list=atoms,\n",
    "                        num_window_list=windows, \n",
    "                        ref_structure=hg,\n",
    "                        force_constant=static_restraint_angle_fc if len(atoms) > 2 else static_restraint_distance_fc,\n",
    "                        amber_index=True)"
   ]
  },
  {
   "cell_type": "code",
   "execution_count": 11,
   "metadata": {
    "ExecuteTime": {
     "end_time": "2018-04-14T00:30:29.419460Z",
     "start_time": "2018-04-14T00:30:29.161835Z"
    },
    "scrolled": true
   },
   "outputs": [
    {
     "name": "stderr",
     "output_type": "stream",
     "text": [
      "2018-04-13 05:30:29 PM Calculating attach targets and force constants...\n",
      "2018-04-13 05:30:29 PM Attach, Method #3\n",
      "2018-04-13 05:30:29 PM Calculating pull targets and force constants...\n",
      "2018-04-13 05:30:29 PM Pull, Method #1\n",
      "2018-04-13 05:30:29 PM Calculating release targets and force constants...\n",
      "2018-04-13 05:30:29 PM No restraint info set for the release phase! Skipping...\n",
      "2018-04-13 05:30:29 PM Number of attach windows = 15\n",
      "2018-04-13 05:30:29 PM Number of pull windows = 46\n",
      "2018-04-13 05:30:29 PM This restraint will be skipped in the release phase\n",
      "2018-04-13 05:30:29 PM Assigning atom indices...\n",
      "2018-04-13 05:30:29 PM There are 1 atoms in the mask :8  ...\n",
      "2018-04-13 05:30:29 PM There are 1 atoms in the mask :7@C4  ...\n",
      "2018-04-13 05:30:29 PM Calculating attach targets and force constants...\n",
      "2018-04-13 05:30:29 PM Attach, Method #3\n",
      "2018-04-13 05:30:29 PM Calculating pull targets and force constants...\n",
      "2018-04-13 05:30:29 PM Pull, Method #1\n",
      "2018-04-13 05:30:29 PM Calculating release targets and force constants...\n",
      "2018-04-13 05:30:29 PM No restraint info set for the release phase! Skipping...\n",
      "2018-04-13 05:30:29 PM Number of attach windows = 15\n",
      "2018-04-13 05:30:29 PM Number of pull windows = 46\n",
      "2018-04-13 05:30:29 PM This restraint will be skipped in the release phase\n",
      "2018-04-13 05:30:29 PM Assigning atom indices...\n",
      "2018-04-13 05:30:29 PM There are 1 atoms in the mask :9  ...\n",
      "2018-04-13 05:30:29 PM There are 1 atoms in the mask :8  ...\n",
      "2018-04-13 05:30:29 PM There are 1 atoms in the mask :7@C4  ...\n",
      "2018-04-13 05:30:29 PM Calculating attach targets and force constants...\n",
      "2018-04-13 05:30:29 PM Attach, Method #3\n",
      "2018-04-13 05:30:29 PM Calculating pull targets and force constants...\n",
      "2018-04-13 05:30:29 PM Pull, Method #1\n",
      "2018-04-13 05:30:29 PM Calculating release targets and force constants...\n",
      "2018-04-13 05:30:29 PM No restraint info set for the release phase! Skipping...\n",
      "2018-04-13 05:30:29 PM Number of attach windows = 15\n",
      "2018-04-13 05:30:29 PM Number of pull windows = 46\n",
      "2018-04-13 05:30:29 PM This restraint will be skipped in the release phase\n",
      "2018-04-13 05:30:29 PM Assigning atom indices...\n",
      "2018-04-13 05:30:29 PM There are 1 atoms in the mask :8  ...\n",
      "2018-04-13 05:30:29 PM There are 1 atoms in the mask :7@C4  ...\n",
      "2018-04-13 05:30:29 PM There are 1 atoms in the mask :7@N1  ...\n"
     ]
    },
    {
     "name": "stdout",
     "output_type": "stream",
     "text": [
      "&rst iat= 144,140,          r1=    0.00000, r2=   10.00000, r3=   10.00000, r4=  999.00000, rk2=    5.00000, rk3=    5.00000,  &end\n",
      "\n",
      "&rst iat= 145,144,140,      r1=    0.00000, r2=  180.00000, r3=  180.00000, r4=  180.00000, rk2=  100.00000, rk3=  100.00000,  &end\n",
      "\n",
      "&rst iat= 144,140,127,      r1=    0.00000, r2=  180.00000, r3=  180.00000, r4=  180.00000, rk2=  100.00000, rk3=  100.00000,  &end\n",
      "\n"
     ]
    }
   ],
   "source": [
    "for index, atoms in enumerate(guest_restraint_atoms): \n",
    "    if len(atoms) > 2:\n",
    "        angle = True\n",
    "    else:\n",
    "        angle = False\n",
    "    this = DAT_restraint()\n",
    "    this.auto_apr = True\n",
    "    this.amber_index = True\n",
    "    this.topology = hg\n",
    "    this.mask1 = atoms[0]\n",
    "    this.mask2 = atoms[1]\n",
    "    if angle:\n",
    "        this.mask3 = atoms[2]\n",
    "        this.attach['fc_final'] = guest_restraint_angle_fc\n",
    "    else:\n",
    "        this.attach['fc_final'] = guest_restraint_distance_fc\n",
    "    this.attach['target'] = guest_restraint_targets[index]\n",
    "    this.attach['fraction_list'] = attach_fractions\n",
    "    \n",
    "    \n",
    "    this.pull['target_final'] = guest_restraint_target_final[index]\n",
    "    this.pull['num_windows'] = windows[1]\n",
    "    this.initialize()\n",
    "    \n",
    "    print(amber_restraint_line(this, 'pull', 10))"
   ]
  },
  {
   "cell_type": "code",
   "execution_count": 12,
   "metadata": {
    "ExecuteTime": {
     "end_time": "2018-04-14T00:30:31.624128Z",
     "start_time": "2018-04-14T00:30:29.421348Z"
    }
   },
   "outputs": [
    {
     "name": "stderr",
     "output_type": "stream",
     "text": [
      "2018-04-13 05:30:29 PM Calculating attach targets and force constants...\n",
      "2018-04-13 05:30:29 PM Attach, Method #3\n",
      "2018-04-13 05:30:29 PM Calculating pull targets and force constants...\n",
      "2018-04-13 05:30:29 PM Pull, Method #1\n",
      "2018-04-13 05:30:29 PM Calculating release targets and force constants...\n",
      "2018-04-13 05:30:29 PM No restraint info set for the release phase! Skipping...\n",
      "2018-04-13 05:30:29 PM Number of attach windows = 15\n",
      "2018-04-13 05:30:29 PM Number of pull windows = 46\n",
      "2018-04-13 05:30:29 PM This restraint will be skipped in the release phase\n",
      "2018-04-13 05:30:29 PM Assigning atom indices...\n",
      "2018-04-13 05:30:29 PM There are 1 atoms in the mask :1@O5  ...\n",
      "2018-04-13 05:30:29 PM There are 1 atoms in the mask :1@C1  ...\n",
      "2018-04-13 05:30:29 PM There are 1 atoms in the mask :1@O1  ...\n",
      "2018-04-13 05:30:29 PM There are 1 atoms in the mask :2@C4  ...\n",
      "2018-04-13 05:30:29 PM Calculating attach targets and force constants...\n",
      "2018-04-13 05:30:29 PM Attach, Method #3\n",
      "2018-04-13 05:30:29 PM Calculating pull targets and force constants...\n",
      "2018-04-13 05:30:29 PM Pull, Method #1\n",
      "2018-04-13 05:30:29 PM Calculating release targets and force constants...\n",
      "2018-04-13 05:30:29 PM No restraint info set for the release phase! Skipping...\n",
      "2018-04-13 05:30:29 PM Number of attach windows = 15\n",
      "2018-04-13 05:30:29 PM Number of pull windows = 46\n",
      "2018-04-13 05:30:29 PM This restraint will be skipped in the release phase\n",
      "2018-04-13 05:30:29 PM Assigning atom indices...\n",
      "2018-04-13 05:30:29 PM There are 1 atoms in the mask :1@C1  ...\n",
      "2018-04-13 05:30:29 PM There are 1 atoms in the mask :1@O1  ...\n",
      "2018-04-13 05:30:29 PM There are 1 atoms in the mask :2@C4  ...\n",
      "2018-04-13 05:30:29 PM There are 1 atoms in the mask :2@C5  ...\n",
      "2018-04-13 05:30:29 PM Calculating attach targets and force constants...\n",
      "2018-04-13 05:30:29 PM Attach, Method #3\n",
      "2018-04-13 05:30:29 PM Calculating pull targets and force constants...\n",
      "2018-04-13 05:30:29 PM Pull, Method #1\n",
      "2018-04-13 05:30:29 PM Calculating release targets and force constants...\n",
      "2018-04-13 05:30:29 PM No restraint info set for the release phase! Skipping...\n",
      "2018-04-13 05:30:29 PM Number of attach windows = 15\n",
      "2018-04-13 05:30:29 PM Number of pull windows = 46\n",
      "2018-04-13 05:30:29 PM This restraint will be skipped in the release phase\n",
      "2018-04-13 05:30:29 PM Assigning atom indices...\n",
      "2018-04-13 05:30:30 PM There are 1 atoms in the mask :2@O5  ...\n",
      "2018-04-13 05:30:30 PM There are 1 atoms in the mask :2@C1  ...\n",
      "2018-04-13 05:30:30 PM There are 1 atoms in the mask :2@O1  ...\n",
      "2018-04-13 05:30:30 PM There are 1 atoms in the mask :3@C4  ...\n",
      "2018-04-13 05:30:30 PM Calculating attach targets and force constants...\n",
      "2018-04-13 05:30:30 PM Attach, Method #3\n",
      "2018-04-13 05:30:30 PM Calculating pull targets and force constants...\n",
      "2018-04-13 05:30:30 PM Pull, Method #1\n",
      "2018-04-13 05:30:30 PM Calculating release targets and force constants...\n",
      "2018-04-13 05:30:30 PM No restraint info set for the release phase! Skipping...\n",
      "2018-04-13 05:30:30 PM Number of attach windows = 15\n",
      "2018-04-13 05:30:30 PM Number of pull windows = 46\n",
      "2018-04-13 05:30:30 PM This restraint will be skipped in the release phase\n",
      "2018-04-13 05:30:30 PM Assigning atom indices...\n",
      "2018-04-13 05:30:30 PM There are 1 atoms in the mask :2@C1  ...\n",
      "2018-04-13 05:30:30 PM There are 1 atoms in the mask :2@O1  ...\n",
      "2018-04-13 05:30:30 PM There are 1 atoms in the mask :3@C4  ...\n",
      "2018-04-13 05:30:30 PM There are 1 atoms in the mask :3@C5  ...\n",
      "2018-04-13 05:30:30 PM Calculating attach targets and force constants...\n",
      "2018-04-13 05:30:30 PM Attach, Method #3\n",
      "2018-04-13 05:30:30 PM Calculating pull targets and force constants...\n",
      "2018-04-13 05:30:30 PM Pull, Method #1\n",
      "2018-04-13 05:30:30 PM Calculating release targets and force constants...\n",
      "2018-04-13 05:30:30 PM No restraint info set for the release phase! Skipping...\n",
      "2018-04-13 05:30:30 PM Number of attach windows = 15\n",
      "2018-04-13 05:30:30 PM Number of pull windows = 46\n",
      "2018-04-13 05:30:30 PM This restraint will be skipped in the release phase\n",
      "2018-04-13 05:30:30 PM Assigning atom indices...\n",
      "2018-04-13 05:30:30 PM There are 1 atoms in the mask :3@O5  ...\n",
      "2018-04-13 05:30:30 PM There are 1 atoms in the mask :3@C1  ...\n",
      "2018-04-13 05:30:30 PM There are 1 atoms in the mask :3@O1  ...\n",
      "2018-04-13 05:30:30 PM There are 1 atoms in the mask :4@C4  ...\n",
      "2018-04-13 05:30:30 PM Calculating attach targets and force constants...\n",
      "2018-04-13 05:30:30 PM Attach, Method #3\n",
      "2018-04-13 05:30:30 PM Calculating pull targets and force constants...\n",
      "2018-04-13 05:30:30 PM Pull, Method #1\n",
      "2018-04-13 05:30:30 PM Calculating release targets and force constants...\n",
      "2018-04-13 05:30:30 PM No restraint info set for the release phase! Skipping...\n",
      "2018-04-13 05:30:30 PM Number of attach windows = 15\n",
      "2018-04-13 05:30:30 PM Number of pull windows = 46\n",
      "2018-04-13 05:30:30 PM This restraint will be skipped in the release phase\n",
      "2018-04-13 05:30:30 PM Assigning atom indices...\n",
      "2018-04-13 05:30:30 PM There are 1 atoms in the mask :3@C1  ...\n",
      "2018-04-13 05:30:30 PM There are 1 atoms in the mask :3@O1  ...\n",
      "2018-04-13 05:30:30 PM There are 1 atoms in the mask :4@C4  ...\n",
      "2018-04-13 05:30:30 PM There are 1 atoms in the mask :4@C5  ...\n",
      "2018-04-13 05:30:30 PM Calculating attach targets and force constants...\n",
      "2018-04-13 05:30:30 PM Attach, Method #3\n",
      "2018-04-13 05:30:30 PM Calculating pull targets and force constants...\n",
      "2018-04-13 05:30:30 PM Pull, Method #1\n",
      "2018-04-13 05:30:30 PM Calculating release targets and force constants...\n",
      "2018-04-13 05:30:30 PM No restraint info set for the release phase! Skipping...\n",
      "2018-04-13 05:30:30 PM Number of attach windows = 15\n",
      "2018-04-13 05:30:30 PM Number of pull windows = 46\n",
      "2018-04-13 05:30:30 PM This restraint will be skipped in the release phase\n",
      "2018-04-13 05:30:30 PM Assigning atom indices...\n",
      "2018-04-13 05:30:30 PM There are 1 atoms in the mask :4@O5  ...\n",
      "2018-04-13 05:30:30 PM There are 1 atoms in the mask :4@C1  ...\n",
      "2018-04-13 05:30:30 PM There are 1 atoms in the mask :4@O1  ...\n",
      "2018-04-13 05:30:30 PM There are 1 atoms in the mask :5@C4  ...\n",
      "2018-04-13 05:30:30 PM Calculating attach targets and force constants...\n",
      "2018-04-13 05:30:30 PM Attach, Method #3\n",
      "2018-04-13 05:30:30 PM Calculating pull targets and force constants...\n",
      "2018-04-13 05:30:30 PM Pull, Method #1\n",
      "2018-04-13 05:30:30 PM Calculating release targets and force constants...\n",
      "2018-04-13 05:30:30 PM No restraint info set for the release phase! Skipping...\n",
      "2018-04-13 05:30:30 PM Number of attach windows = 15\n",
      "2018-04-13 05:30:30 PM Number of pull windows = 46\n",
      "2018-04-13 05:30:30 PM This restraint will be skipped in the release phase\n",
      "2018-04-13 05:30:30 PM Assigning atom indices...\n",
      "2018-04-13 05:30:30 PM There are 1 atoms in the mask :4@C1  ...\n",
      "2018-04-13 05:30:30 PM There are 1 atoms in the mask :4@O1  ...\n",
      "2018-04-13 05:30:30 PM There are 1 atoms in the mask :5@C4  ...\n",
      "2018-04-13 05:30:30 PM There are 1 atoms in the mask :5@C5  ...\n",
      "2018-04-13 05:30:30 PM Calculating attach targets and force constants...\n",
      "2018-04-13 05:30:30 PM Attach, Method #3\n",
      "2018-04-13 05:30:30 PM Calculating pull targets and force constants...\n",
      "2018-04-13 05:30:30 PM Pull, Method #1\n",
      "2018-04-13 05:30:30 PM Calculating release targets and force constants...\n",
      "2018-04-13 05:30:30 PM No restraint info set for the release phase! Skipping...\n",
      "2018-04-13 05:30:30 PM Number of attach windows = 15\n",
      "2018-04-13 05:30:30 PM Number of pull windows = 46\n",
      "2018-04-13 05:30:30 PM This restraint will be skipped in the release phase\n",
      "2018-04-13 05:30:30 PM Assigning atom indices...\n",
      "2018-04-13 05:30:31 PM There are 1 atoms in the mask :5@O5  ...\n",
      "2018-04-13 05:30:31 PM There are 1 atoms in the mask :5@C1  ...\n",
      "2018-04-13 05:30:31 PM There are 1 atoms in the mask :5@O1  ...\n",
      "2018-04-13 05:30:31 PM There are 1 atoms in the mask :6@C4  ...\n",
      "2018-04-13 05:30:31 PM Calculating attach targets and force constants...\n",
      "2018-04-13 05:30:31 PM Attach, Method #3\n",
      "2018-04-13 05:30:31 PM Calculating pull targets and force constants...\n",
      "2018-04-13 05:30:31 PM Pull, Method #1\n",
      "2018-04-13 05:30:31 PM Calculating release targets and force constants...\n",
      "2018-04-13 05:30:31 PM No restraint info set for the release phase! Skipping...\n",
      "2018-04-13 05:30:31 PM Number of attach windows = 15\n",
      "2018-04-13 05:30:31 PM Number of pull windows = 46\n"
     ]
    },
    {
     "name": "stderr",
     "output_type": "stream",
     "text": [
      "2018-04-13 05:30:31 PM This restraint will be skipped in the release phase\n",
      "2018-04-13 05:30:31 PM Assigning atom indices...\n",
      "2018-04-13 05:30:31 PM There are 1 atoms in the mask :5@C1  ...\n",
      "2018-04-13 05:30:31 PM There are 1 atoms in the mask :5@O1  ...\n",
      "2018-04-13 05:30:31 PM There are 1 atoms in the mask :6@C4  ...\n",
      "2018-04-13 05:30:31 PM There are 1 atoms in the mask :6@C5  ...\n",
      "2018-04-13 05:30:31 PM Calculating attach targets and force constants...\n",
      "2018-04-13 05:30:31 PM Attach, Method #3\n",
      "2018-04-13 05:30:31 PM Calculating pull targets and force constants...\n",
      "2018-04-13 05:30:31 PM Pull, Method #1\n",
      "2018-04-13 05:30:31 PM Calculating release targets and force constants...\n",
      "2018-04-13 05:30:31 PM No restraint info set for the release phase! Skipping...\n",
      "2018-04-13 05:30:31 PM Number of attach windows = 15\n",
      "2018-04-13 05:30:31 PM Number of pull windows = 46\n",
      "2018-04-13 05:30:31 PM This restraint will be skipped in the release phase\n",
      "2018-04-13 05:30:31 PM Assigning atom indices...\n",
      "2018-04-13 05:30:31 PM There are 1 atoms in the mask :6@O5  ...\n",
      "2018-04-13 05:30:31 PM There are 1 atoms in the mask :6@C1  ...\n",
      "2018-04-13 05:30:31 PM There are 1 atoms in the mask :6@O1  ...\n",
      "2018-04-13 05:30:31 PM There are 1 atoms in the mask :1@C4  ...\n",
      "2018-04-13 05:30:31 PM Calculating attach targets and force constants...\n",
      "2018-04-13 05:30:31 PM Attach, Method #3\n",
      "2018-04-13 05:30:31 PM Calculating pull targets and force constants...\n",
      "2018-04-13 05:30:31 PM Pull, Method #1\n",
      "2018-04-13 05:30:31 PM Calculating release targets and force constants...\n",
      "2018-04-13 05:30:31 PM No restraint info set for the release phase! Skipping...\n",
      "2018-04-13 05:30:31 PM Number of attach windows = 15\n",
      "2018-04-13 05:30:31 PM Number of pull windows = 46\n",
      "2018-04-13 05:30:31 PM This restraint will be skipped in the release phase\n",
      "2018-04-13 05:30:31 PM Assigning atom indices...\n",
      "2018-04-13 05:30:31 PM There are 1 atoms in the mask :6@C1  ...\n",
      "2018-04-13 05:30:31 PM There are 1 atoms in the mask :6@O1  ...\n",
      "2018-04-13 05:30:31 PM There are 1 atoms in the mask :1@C4  ...\n",
      "2018-04-13 05:30:31 PM There are 1 atoms in the mask :1@C5  ...\n"
     ]
    }
   ],
   "source": [
    "for index, atoms in enumerate(conformational_restraint_atoms): \n",
    "    \n",
    "    this = DAT_restraint()\n",
    "    this.auto_apr = True\n",
    "    this.amber_index = True\n",
    "    this.topology = hg\n",
    "    this.mask1 = atoms[0]\n",
    "    this.mask2 = atoms[1]\n",
    "    this.mask3 = atoms[2]\n",
    "    this.mask4 = atoms[3]\n",
    "    \n",
    "    this.attach['fraction_list'] = attach_fractions\n",
    "    this.attach['target'] = conformational_restraint_targets[index]\n",
    "    this.attach['fc_final'] = conformational_restraint_fc\n",
    "    this.pull['target_final'] = conformational_restraint_targets[index]\n",
    "    this.pull['num_windows'] = windows[1]\n",
    "    \n",
    "    this.initialize()"
   ]
  },
  {
   "cell_type": "code",
   "execution_count": 13,
   "metadata": {
    "ExecuteTime": {
     "end_time": "2018-04-14T00:30:32.886987Z",
     "start_time": "2018-04-14T00:30:31.626096Z"
    }
   },
   "outputs": [
    {
     "name": "stderr",
     "output_type": "stream",
     "text": [
      "2018-04-13 05:30:31 PM Calculating attach targets and force constants...\n",
      "2018-04-13 05:30:31 PM Attach, Method #1\n",
      "2018-04-13 05:30:31 PM Calculating pull targets and force constants...\n",
      "2018-04-13 05:30:31 PM No restraint info set for the pull phase! Skipping...\n",
      "2018-04-13 05:30:31 PM Calculating release targets and force constants...\n",
      "2018-04-13 05:30:31 PM No restraint info set for the release phase! Skipping...\n",
      "2018-04-13 05:30:31 PM Number of attach windows = 15\n",
      "2018-04-13 05:30:31 PM This restraint will be skipped in the pull phase\n",
      "2018-04-13 05:30:31 PM This restraint will be skipped in the release phase\n",
      "2018-04-13 05:30:31 PM Assigning atom indices...\n",
      "2018-04-13 05:30:31 PM There are 1 atoms in the mask :1@O2  ...\n",
      "2018-04-13 05:30:31 PM There are 1 atoms in the mask :7@C4  ...\n",
      "2018-04-13 05:30:31 PM Calculating attach targets and force constants...\n",
      "2018-04-13 05:30:31 PM Attach, Method #1\n",
      "2018-04-13 05:30:31 PM Calculating pull targets and force constants...\n",
      "2018-04-13 05:30:31 PM No restraint info set for the pull phase! Skipping...\n",
      "2018-04-13 05:30:31 PM Calculating release targets and force constants...\n",
      "2018-04-13 05:30:31 PM No restraint info set for the release phase! Skipping...\n",
      "2018-04-13 05:30:31 PM Number of attach windows = 15\n",
      "2018-04-13 05:30:31 PM This restraint will be skipped in the pull phase\n",
      "2018-04-13 05:30:31 PM This restraint will be skipped in the release phase\n",
      "2018-04-13 05:30:31 PM Assigning atom indices...\n",
      "2018-04-13 05:30:31 PM There are 1 atoms in the mask :1@O6  ...\n",
      "2018-04-13 05:30:31 PM There are 1 atoms in the mask :7@C4  ...\n",
      "2018-04-13 05:30:31 PM Calculating attach targets and force constants...\n",
      "2018-04-13 05:30:31 PM Attach, Method #1\n",
      "2018-04-13 05:30:31 PM Calculating pull targets and force constants...\n",
      "2018-04-13 05:30:31 PM No restraint info set for the pull phase! Skipping...\n",
      "2018-04-13 05:30:31 PM Calculating release targets and force constants...\n",
      "2018-04-13 05:30:31 PM No restraint info set for the release phase! Skipping...\n",
      "2018-04-13 05:30:31 PM Number of attach windows = 15\n",
      "2018-04-13 05:30:31 PM This restraint will be skipped in the pull phase\n",
      "2018-04-13 05:30:31 PM This restraint will be skipped in the release phase\n",
      "2018-04-13 05:30:31 PM Assigning atom indices...\n",
      "2018-04-13 05:30:31 PM There are 1 atoms in the mask :2@O2  ...\n",
      "2018-04-13 05:30:31 PM There are 1 atoms in the mask :7@C4  ...\n",
      "2018-04-13 05:30:31 PM Calculating attach targets and force constants...\n",
      "2018-04-13 05:30:31 PM Attach, Method #1\n",
      "2018-04-13 05:30:31 PM Calculating pull targets and force constants...\n",
      "2018-04-13 05:30:31 PM No restraint info set for the pull phase! Skipping...\n",
      "2018-04-13 05:30:31 PM Calculating release targets and force constants...\n",
      "2018-04-13 05:30:31 PM No restraint info set for the release phase! Skipping...\n",
      "2018-04-13 05:30:31 PM Number of attach windows = 15\n",
      "2018-04-13 05:30:31 PM This restraint will be skipped in the pull phase\n",
      "2018-04-13 05:30:31 PM This restraint will be skipped in the release phase\n",
      "2018-04-13 05:30:31 PM Assigning atom indices...\n",
      "2018-04-13 05:30:32 PM There are 1 atoms in the mask :2@O6  ...\n",
      "2018-04-13 05:30:32 PM There are 1 atoms in the mask :7@C4  ...\n",
      "2018-04-13 05:30:32 PM Calculating attach targets and force constants...\n",
      "2018-04-13 05:30:32 PM Attach, Method #1\n",
      "2018-04-13 05:30:32 PM Calculating pull targets and force constants...\n",
      "2018-04-13 05:30:32 PM No restraint info set for the pull phase! Skipping...\n",
      "2018-04-13 05:30:32 PM Calculating release targets and force constants...\n",
      "2018-04-13 05:30:32 PM No restraint info set for the release phase! Skipping...\n",
      "2018-04-13 05:30:32 PM Number of attach windows = 15\n",
      "2018-04-13 05:30:32 PM This restraint will be skipped in the pull phase\n",
      "2018-04-13 05:30:32 PM This restraint will be skipped in the release phase\n",
      "2018-04-13 05:30:32 PM Assigning atom indices...\n",
      "2018-04-13 05:30:32 PM There are 1 atoms in the mask :3@O2  ...\n",
      "2018-04-13 05:30:32 PM There are 1 atoms in the mask :7@C4  ...\n",
      "2018-04-13 05:30:32 PM Calculating attach targets and force constants...\n",
      "2018-04-13 05:30:32 PM Attach, Method #1\n",
      "2018-04-13 05:30:32 PM Calculating pull targets and force constants...\n",
      "2018-04-13 05:30:32 PM No restraint info set for the pull phase! Skipping...\n",
      "2018-04-13 05:30:32 PM Calculating release targets and force constants...\n",
      "2018-04-13 05:30:32 PM No restraint info set for the release phase! Skipping...\n",
      "2018-04-13 05:30:32 PM Number of attach windows = 15\n",
      "2018-04-13 05:30:32 PM This restraint will be skipped in the pull phase\n",
      "2018-04-13 05:30:32 PM This restraint will be skipped in the release phase\n",
      "2018-04-13 05:30:32 PM Assigning atom indices...\n",
      "2018-04-13 05:30:32 PM There are 1 atoms in the mask :3@O6  ...\n",
      "2018-04-13 05:30:32 PM There are 1 atoms in the mask :7@C4  ...\n",
      "2018-04-13 05:30:32 PM Calculating attach targets and force constants...\n",
      "2018-04-13 05:30:32 PM Attach, Method #1\n",
      "2018-04-13 05:30:32 PM Calculating pull targets and force constants...\n",
      "2018-04-13 05:30:32 PM No restraint info set for the pull phase! Skipping...\n",
      "2018-04-13 05:30:32 PM Calculating release targets and force constants...\n",
      "2018-04-13 05:30:32 PM No restraint info set for the release phase! Skipping...\n",
      "2018-04-13 05:30:32 PM Number of attach windows = 15\n",
      "2018-04-13 05:30:32 PM This restraint will be skipped in the pull phase\n",
      "2018-04-13 05:30:32 PM This restraint will be skipped in the release phase\n",
      "2018-04-13 05:30:32 PM Assigning atom indices...\n",
      "2018-04-13 05:30:32 PM There are 1 atoms in the mask :4@O2  ...\n",
      "2018-04-13 05:30:32 PM There are 1 atoms in the mask :7@C4  ...\n",
      "2018-04-13 05:30:32 PM Calculating attach targets and force constants...\n",
      "2018-04-13 05:30:32 PM Attach, Method #1\n",
      "2018-04-13 05:30:32 PM Calculating pull targets and force constants...\n",
      "2018-04-13 05:30:32 PM No restraint info set for the pull phase! Skipping...\n",
      "2018-04-13 05:30:32 PM Calculating release targets and force constants...\n",
      "2018-04-13 05:30:32 PM No restraint info set for the release phase! Skipping...\n",
      "2018-04-13 05:30:32 PM Number of attach windows = 15\n",
      "2018-04-13 05:30:32 PM This restraint will be skipped in the pull phase\n",
      "2018-04-13 05:30:32 PM This restraint will be skipped in the release phase\n",
      "2018-04-13 05:30:32 PM Assigning atom indices...\n",
      "2018-04-13 05:30:32 PM There are 1 atoms in the mask :4@O6  ...\n",
      "2018-04-13 05:30:32 PM There are 1 atoms in the mask :7@C4  ...\n",
      "2018-04-13 05:30:32 PM Calculating attach targets and force constants...\n",
      "2018-04-13 05:30:32 PM Attach, Method #1\n",
      "2018-04-13 05:30:32 PM Calculating pull targets and force constants...\n",
      "2018-04-13 05:30:32 PM No restraint info set for the pull phase! Skipping...\n",
      "2018-04-13 05:30:32 PM Calculating release targets and force constants...\n",
      "2018-04-13 05:30:32 PM No restraint info set for the release phase! Skipping...\n",
      "2018-04-13 05:30:32 PM Number of attach windows = 15\n",
      "2018-04-13 05:30:32 PM This restraint will be skipped in the pull phase\n",
      "2018-04-13 05:30:32 PM This restraint will be skipped in the release phase\n",
      "2018-04-13 05:30:32 PM Assigning atom indices...\n",
      "2018-04-13 05:30:32 PM There are 1 atoms in the mask :5@O2  ...\n",
      "2018-04-13 05:30:32 PM There are 1 atoms in the mask :7@C4  ...\n",
      "2018-04-13 05:30:32 PM Calculating attach targets and force constants...\n",
      "2018-04-13 05:30:32 PM Attach, Method #1\n",
      "2018-04-13 05:30:32 PM Calculating pull targets and force constants...\n",
      "2018-04-13 05:30:32 PM No restraint info set for the pull phase! Skipping...\n",
      "2018-04-13 05:30:32 PM Calculating release targets and force constants...\n",
      "2018-04-13 05:30:32 PM No restraint info set for the release phase! Skipping...\n",
      "2018-04-13 05:30:32 PM Number of attach windows = 15\n",
      "2018-04-13 05:30:32 PM This restraint will be skipped in the pull phase\n",
      "2018-04-13 05:30:32 PM This restraint will be skipped in the release phase\n",
      "2018-04-13 05:30:32 PM Assigning atom indices...\n",
      "2018-04-13 05:30:32 PM There are 1 atoms in the mask :5@O6  ...\n",
      "2018-04-13 05:30:32 PM There are 1 atoms in the mask :7@C4  ...\n",
      "2018-04-13 05:30:32 PM Calculating attach targets and force constants...\n",
      "2018-04-13 05:30:32 PM Attach, Method #1\n",
      "2018-04-13 05:30:32 PM Calculating pull targets and force constants...\n",
      "2018-04-13 05:30:32 PM No restraint info set for the pull phase! Skipping...\n",
      "2018-04-13 05:30:32 PM Calculating release targets and force constants...\n"
     ]
    },
    {
     "name": "stderr",
     "output_type": "stream",
     "text": [
      "2018-04-13 05:30:32 PM No restraint info set for the release phase! Skipping...\n",
      "2018-04-13 05:30:32 PM Number of attach windows = 15\n",
      "2018-04-13 05:30:32 PM This restraint will be skipped in the pull phase\n",
      "2018-04-13 05:30:32 PM This restraint will be skipped in the release phase\n",
      "2018-04-13 05:30:32 PM Assigning atom indices...\n",
      "2018-04-13 05:30:32 PM There are 1 atoms in the mask :6@O2  ...\n",
      "2018-04-13 05:30:32 PM There are 1 atoms in the mask :7@C4  ...\n",
      "2018-04-13 05:30:32 PM Calculating attach targets and force constants...\n",
      "2018-04-13 05:30:32 PM Attach, Method #1\n",
      "2018-04-13 05:30:32 PM Calculating pull targets and force constants...\n",
      "2018-04-13 05:30:32 PM No restraint info set for the pull phase! Skipping...\n",
      "2018-04-13 05:30:32 PM Calculating release targets and force constants...\n",
      "2018-04-13 05:30:32 PM No restraint info set for the release phase! Skipping...\n",
      "2018-04-13 05:30:32 PM Number of attach windows = 15\n",
      "2018-04-13 05:30:32 PM This restraint will be skipped in the pull phase\n",
      "2018-04-13 05:30:32 PM This restraint will be skipped in the release phase\n",
      "2018-04-13 05:30:32 PM Assigning atom indices...\n",
      "2018-04-13 05:30:32 PM There are 1 atoms in the mask :6@O6  ...\n",
      "2018-04-13 05:30:32 PM There are 1 atoms in the mask :7@C4  ...\n",
      "2018-04-13 05:30:32 PM Calculating attach targets and force constants...\n",
      "2018-04-13 05:30:32 PM Attach, Method #1\n",
      "2018-04-13 05:30:32 PM Calculating pull targets and force constants...\n",
      "2018-04-13 05:30:32 PM No restraint info set for the pull phase! Skipping...\n",
      "2018-04-13 05:30:32 PM Calculating release targets and force constants...\n",
      "2018-04-13 05:30:32 PM No restraint info set for the release phase! Skipping...\n",
      "2018-04-13 05:30:32 PM Number of attach windows = 15\n",
      "2018-04-13 05:30:32 PM This restraint will be skipped in the pull phase\n",
      "2018-04-13 05:30:32 PM This restraint will be skipped in the release phase\n",
      "2018-04-13 05:30:32 PM Assigning atom indices...\n",
      "2018-04-13 05:30:32 PM There are 1 atoms in the mask :9  ...\n",
      "2018-04-13 05:30:32 PM There are 1 atoms in the mask :7@C4  ...\n",
      "2018-04-13 05:30:32 PM There are 1 atoms in the mask :7@N1  ...\n"
     ]
    }
   ],
   "source": [
    "for index, atoms in enumerate(guest_wall_restraint_atoms): \n",
    "    if len(atoms) > 2:\n",
    "        angle = True\n",
    "    else:\n",
    "        angle = False\n",
    "    \n",
    "    this = DAT_restraint()\n",
    "    this.auto_apr = True\n",
    "    this.amber_index = True\n",
    "    this.topology = hg\n",
    "    this.mask1 = atoms[0]\n",
    "    this.mask2 = atoms[1]\n",
    "    if angle:\n",
    "        this.mask3 = atoms[2]\n",
    "        this.attach['fc_initial'] = guest_wall_restraint_angle_fc\n",
    "        this.attach['fc_final'] = guest_wall_restraint_angle_fc\n",
    "        this.custom_restraint_values['rk2'] = 500.0\n",
    "        this.custom_restraint_values['rk3'] = 0.0\n",
    "    else:\n",
    "        this.attach['fc_initial'] = guest_wall_restraint_distance_fc\n",
    "        this.attach['fc_final'] = guest_wall_restraint_distance_fc\n",
    "        this.custom_restraint_values['rk2'] = 50.0\n",
    "        this.custom_restraint_values['rk3'] = 50.0\n",
    "        this.custom_restraint_values['r1'] = 0.0\n",
    "        this.custom_restraint_values['r2'] = 0.0\n",
    "\n",
    "    this.attach['target'] = guest_wall_restraint_targets[index]\n",
    "    this.attach['num_windows'] = len(attach_fractions)\n",
    "    \n",
    "    this.initialize()"
   ]
  },
  {
   "cell_type": "markdown",
   "metadata": {},
   "source": [
    "# Test analysis"
   ]
  },
  {
   "cell_type": "code",
   "execution_count": 14,
   "metadata": {
    "ExecuteTime": {
     "end_time": "2018-04-14T00:30:32.949270Z",
     "start_time": "2018-04-14T00:30:32.888736Z"
    }
   },
   "outputs": [],
   "source": [
    "from paprika.utils import strip_prmtop"
   ]
  },
  {
   "cell_type": "code",
   "execution_count": 15,
   "metadata": {
    "ExecuteTime": {
     "end_time": "2018-04-14T00:30:33.042307Z",
     "start_time": "2018-04-14T00:30:32.950968Z"
    }
   },
   "outputs": [],
   "source": [
    "stripped_topology = strip_prmtop(prmtop='systems/a-bam-p/smirnoff/a000/smirnoff.prmtop')"
   ]
  },
  {
   "cell_type": "code",
   "execution_count": 16,
   "metadata": {
    "ExecuteTime": {
     "end_time": "2018-04-14T00:30:33.323873Z",
     "start_time": "2018-04-14T00:30:33.043962Z"
    }
   },
   "outputs": [],
   "source": [
    "from paprika.analysis import fe_calc"
   ]
  },
  {
   "cell_type": "code",
   "execution_count": 17,
   "metadata": {
    "ExecuteTime": {
     "end_time": "2018-04-14T00:30:33.343252Z",
     "start_time": "2018-04-14T00:30:33.325856Z"
    }
   },
   "outputs": [],
   "source": [
    "calc = fe_calc()"
   ]
  },
  {
   "cell_type": "code",
   "execution_count": 18,
   "metadata": {
    "ExecuteTime": {
     "end_time": "2018-04-14T00:30:33.412285Z",
     "start_time": "2018-04-14T00:30:33.344893Z"
    }
   },
   "outputs": [],
   "source": [
    "calc.prmtop = stripped_topology"
   ]
  },
  {
   "cell_type": "code",
   "execution_count": 19,
   "metadata": {
    "ExecuteTime": {
     "end_time": "2018-04-14T00:30:33.487424Z",
     "start_time": "2018-04-14T00:30:33.414273Z"
    }
   },
   "outputs": [],
   "source": [
    "calc.trajectory = 'traj*.nc'"
   ]
  },
  {
   "cell_type": "code",
   "execution_count": 20,
   "metadata": {
    "ExecuteTime": {
     "end_time": "2018-04-14T00:30:33.545620Z",
     "start_time": "2018-04-14T00:30:33.489070Z"
    }
   },
   "outputs": [],
   "source": [
    "calc.path = 'systems/a-bam-p/smirnoff'"
   ]
  },
  {
   "cell_type": "code",
   "execution_count": 21,
   "metadata": {
    "ExecuteTime": {
     "end_time": "2018-04-14T00:30:33.629621Z",
     "start_time": "2018-04-14T00:30:33.547216Z"
    }
   },
   "outputs": [],
   "source": [
    "calc.restraint_list = DAT_restraint.instances"
   ]
  },
  {
   "cell_type": "code",
   "execution_count": 96,
   "metadata": {
    "ExecuteTime": {
     "end_time": "2018-04-14T21:40:58.761924Z",
     "start_time": "2018-04-14T21:40:41.062284Z"
    },
    "scrolled": false
   },
   "outputs": [
    {
     "name": "stdout",
     "output_type": "stream",
     "text": [
      "(46, 46, 2500)\n",
      "(46, 46)\n"
     ]
    },
    {
     "name": "stderr",
     "output_type": "stream",
     "text": [
      "2018-04-14 02:40:58 PM pull: computing convergence for mbar-blocking\n"
     ]
    }
   ],
   "source": [
    "calc.compute_free_energy()"
   ]
  },
  {
   "cell_type": "code",
   "execution_count": 97,
   "metadata": {
    "ExecuteTime": {
     "end_time": "2018-04-14T21:41:03.401703Z",
     "start_time": "2018-04-14T21:41:03.380849Z"
    }
   },
   "outputs": [
    {
     "data": {
      "text/plain": [
       "{'attach': {'mbar-block': {'fe': None,\n",
       "   'fe_matrix': None,\n",
       "   'sem': None,\n",
       "   'sem_matrix': None}},\n",
       " 'pull': {'mbar-block': {'convergence': array([-1., -1., -1., ..., -1., -1., -1.]),\n",
       "   'fe': 5.2426400899821166,\n",
       "   'fe_matrix': array([[ 0.        ,  1.16570107,  2.6455288 , ...,  5.31709273,\n",
       "            5.2667436 ,  5.24264009],\n",
       "          [-1.16570107,  0.        ,  1.47982773, ...,  4.15139167,\n",
       "            4.10104254,  4.07693902],\n",
       "          [-2.6455288 , -1.47982773,  0.        , ...,  2.67156393,\n",
       "            2.6212148 ,  2.59711129],\n",
       "          ..., \n",
       "          [-5.31709273, -4.15139167, -2.67156393, ...,  0.        ,\n",
       "           -0.05034913, -0.07445264],\n",
       "          [-5.2667436 , -4.10104254, -2.6212148 , ...,  0.05034913,\n",
       "            0.        , -0.02410351],\n",
       "          [-5.24264009, -4.07693902, -2.59711129, ...,  0.07445264,\n",
       "            0.02410351,  0.        ]]),\n",
       "   'ordered_convergence': array([ 0.03215743,  0.03215743,  0.03131302, ...,  0.01895687,\n",
       "           0.01895687,  0.01792214]),\n",
       "   'sem': 0.415315817692473,\n",
       "   'sem_matrix': array([[ 0.        ,  0.03215743,  0.05609825, ...,  0.41371107,\n",
       "            0.41452369,  0.41531582],\n",
       "          [ 0.03215743,  0.        ,  0.03131302, ...,  0.41097507,\n",
       "            0.41179309,  0.41259046],\n",
       "          [ 0.05609825,  0.03131302,  0.        , ...,  0.40869141,\n",
       "            0.40951399,  0.41031579],\n",
       "          ..., \n",
       "          [ 0.41371107,  0.41097507,  0.40869141, ...,  0.        ,\n",
       "            0.01895687,  0.03163476],\n",
       "          [ 0.41452369,  0.41179309,  0.40951399, ...,  0.01895687,\n",
       "            0.        ,  0.01792214],\n",
       "          [ 0.41531582,  0.41259046,  0.41031579, ...,  0.03163476,\n",
       "            0.01792214,  0.        ]])}},\n",
       " 'release': {'mbar-block': {'fe': None,\n",
       "   'fe_matrix': None,\n",
       "   'sem': None,\n",
       "   'sem_matrix': None}}}"
      ]
     },
     "execution_count": 97,
     "metadata": {},
     "output_type": "execute_result"
    }
   ],
   "source": [
    "calc.results"
   ]
  },
  {
   "cell_type": "code",
   "execution_count": 98,
   "metadata": {
    "ExecuteTime": {
     "end_time": "2018-04-14T21:52:32.462853Z",
     "start_time": "2018-04-14T21:52:32.444993Z"
    }
   },
   "outputs": [
    {
     "name": "stdout",
     "output_type": "stream",
     "text": [
      "1\n"
     ]
    }
   ],
   "source": [
    "if 1:\n",
    "    print('1')\n",
    "if 0:\n",
    "    print('0')"
   ]
  },
  {
   "cell_type": "code",
   "execution_count": null,
   "metadata": {},
   "outputs": [],
   "source": []
  }
 ],
 "metadata": {
  "gist": {
   "data": {
    "description": "02a-setup-restraints.ipynb",
    "public": true
   },
   "id": ""
  },
  "kernelspec": {
   "display_name": "Python [conda env:smirnoff-paprika]",
   "language": "python",
   "name": "conda-env-smirnoff-paprika-py"
  },
  "language_info": {
   "codemirror_mode": {
    "name": "ipython",
    "version": 3
   },
   "file_extension": ".py",
   "mimetype": "text/x-python",
   "name": "python",
   "nbconvert_exporter": "python",
   "pygments_lexer": "ipython3",
   "version": "3.6.4"
  }
 },
 "nbformat": 4,
 "nbformat_minor": 2
}
