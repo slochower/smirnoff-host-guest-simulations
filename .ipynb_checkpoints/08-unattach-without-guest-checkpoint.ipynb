{
 "cells": [
  {
   "cell_type": "code",
   "execution_count": 1,
   "metadata": {
    "ExecuteTime": {
     "end_time": "2018-05-31T01:19:26.376961Z",
     "start_time": "2018-05-31T01:19:25.952563Z"
    }
   },
   "outputs": [],
   "source": [
    "%load_ext autoreload\n",
    "%autoreload 2\n",
    "\n",
    "import os as os\n",
    "import numpy as np\n",
    "\n",
    "import parmed as pmd\n",
    "import pytraj as pt"
   ]
  },
  {
   "cell_type": "code",
   "execution_count": 2,
   "metadata": {
    "ExecuteTime": {
     "end_time": "2018-05-31T01:19:26.668951Z",
     "start_time": "2018-05-31T01:19:26.380938Z"
    }
   },
   "outputs": [
    {
     "name": "stderr",
     "output_type": "stream",
     "text": [
      "2018-05-30 06:19:26 PM Started logging...\n",
      "2018-05-30 06:19:26 PM OpenMM support: Yes\n"
     ]
    },
    {
     "name": "stdout",
     "output_type": "stream",
     "text": [
      "0.0.3-with-release-tweaks\n"
     ]
    }
   ],
   "source": [
    "import logging\n",
    "import datetime as dt\n",
    "d_date = dt.datetime.now()\n",
    "logging.basicConfig(format='%(asctime)s %(message)s', datefmt='%Y-%m-%d %I:%M:%S %p',\n",
    "                    level=logging.DEBUG)\n",
    "logging.info('Started logging...')\n",
    "\n",
    "import paprika\n",
    "print(paprika.__version__)\n",
    "\n",
    "from paprika.restraints import static_DAT_restraint\n",
    "from paprika.restraints import DAT_restraint\n",
    "from paprika.restraints import amber_restraint_line\n",
    "from paprika.restraints import create_window_list\n",
    "\n",
    "from paprika.utils import make_window_dirs\n",
    "\n",
    "from paprika.analysis import fe_calc"
   ]
  },
  {
   "cell_type": "code",
   "execution_count": 3,
   "metadata": {
    "ExecuteTime": {
     "end_time": "2018-05-31T01:19:27.595855Z",
     "start_time": "2018-05-31T01:19:27.188529Z"
    }
   },
   "outputs": [],
   "source": [
    "structure = pmd.load_file('systems/a-bam-p/confirm-original/p045/full.hmr.topo',\n",
    "                          'systems/a-bam-p/confirm-original/p045/full.crds', \n",
    "                          structure=True)"
   ]
  },
  {
   "cell_type": "code",
   "execution_count": 4,
   "metadata": {
    "ExecuteTime": {
     "end_time": "2018-05-31T01:19:27.851659Z",
     "start_time": "2018-05-31T01:19:27.798753Z"
    }
   },
   "outputs": [
    {
     "data": {
      "text/plain": [
       "<AmberParm 6159 atoms; 2023 residues; 6148 bonds; PBC (orthogonal); parametrized>"
      ]
     },
     "execution_count": 4,
     "metadata": {},
     "output_type": "execute_result"
    }
   ],
   "source": [
    "structure"
   ]
  },
  {
   "cell_type": "code",
   "execution_count": 5,
   "metadata": {
    "ExecuteTime": {
     "end_time": "2018-05-31T01:19:28.421138Z",
     "start_time": "2018-05-31T01:19:28.078184Z"
    }
   },
   "outputs": [],
   "source": [
    "structure.strip(':BAM')"
   ]
  },
  {
   "cell_type": "code",
   "execution_count": 6,
   "metadata": {
    "ExecuteTime": {
     "end_time": "2018-05-31T01:19:28.606601Z",
     "start_time": "2018-05-31T01:19:28.423913Z"
    }
   },
   "outputs": [
    {
     "ename": "OSError",
     "evalue": "systems/a-bam-p/confirm-original/full.hmr.noligand.prmtop exists; not overwriting",
     "output_type": "error",
     "traceback": [
      "\u001b[0;31m---------------------------------------------------------------------------\u001b[0m",
      "\u001b[0;31mOSError\u001b[0m                                   Traceback (most recent call last)",
      "\u001b[0;32m<ipython-input-6-509dc7b9333b>\u001b[0m in \u001b[0;36m<module>\u001b[0;34m()\u001b[0m\n\u001b[0;32m----> 1\u001b[0;31m \u001b[0mstructure\u001b[0m\u001b[0;34m.\u001b[0m\u001b[0msave\u001b[0m\u001b[0;34m(\u001b[0m\u001b[0;34m'systems/a-bam-p/confirm-original/full.hmr.noligand.prmtop'\u001b[0m\u001b[0;34m)\u001b[0m\u001b[0;34m\u001b[0m\u001b[0m\n\u001b[0m",
      "\u001b[0;32m~/data/applications/anaconda3/envs/smirnoff-paprika/lib/python3.6/site-packages/parmed/structure.py\u001b[0m in \u001b[0;36msave\u001b[0;34m(self, fname, format, overwrite, **kwargs)\u001b[0m\n\u001b[1;32m   1476\u001b[0m         \u001b[0;32mif\u001b[0m \u001b[0;32mnot\u001b[0m \u001b[0mhasattr\u001b[0m\u001b[0;34m(\u001b[0m\u001b[0mfname\u001b[0m\u001b[0;34m,\u001b[0m \u001b[0;34m'write'\u001b[0m\u001b[0;34m)\u001b[0m\u001b[0;34m:\u001b[0m\u001b[0;34m\u001b[0m\u001b[0m\n\u001b[1;32m   1477\u001b[0m             \u001b[0;32mif\u001b[0m \u001b[0mos\u001b[0m\u001b[0;34m.\u001b[0m\u001b[0mpath\u001b[0m\u001b[0;34m.\u001b[0m\u001b[0mexists\u001b[0m\u001b[0;34m(\u001b[0m\u001b[0mfname\u001b[0m\u001b[0;34m)\u001b[0m \u001b[0;32mand\u001b[0m \u001b[0;32mnot\u001b[0m \u001b[0moverwrite\u001b[0m\u001b[0;34m:\u001b[0m\u001b[0;34m\u001b[0m\u001b[0m\n\u001b[0;32m-> 1478\u001b[0;31m                 \u001b[0;32mraise\u001b[0m \u001b[0mIOError\u001b[0m\u001b[0;34m(\u001b[0m\u001b[0;34m'%s exists; not overwriting'\u001b[0m \u001b[0;34m%\u001b[0m \u001b[0mfname\u001b[0m\u001b[0;34m)\u001b[0m\u001b[0;34m\u001b[0m\u001b[0m\n\u001b[0m\u001b[1;32m   1479\u001b[0m         \u001b[0;32melse\u001b[0m\u001b[0;34m:\u001b[0m\u001b[0;34m\u001b[0m\u001b[0m\n\u001b[1;32m   1480\u001b[0m             \u001b[0;32mif\u001b[0m \u001b[0mformat\u001b[0m \u001b[0;32mis\u001b[0m \u001b[0;32mNone\u001b[0m\u001b[0;34m:\u001b[0m\u001b[0;34m\u001b[0m\u001b[0m\n",
      "\u001b[0;31mOSError\u001b[0m: systems/a-bam-p/confirm-original/full.hmr.noligand.prmtop exists; not overwriting"
     ]
    }
   ],
   "source": [
    "structure.save('systems/a-bam-p/confirm-original/full.hmr.noligand.prmtop')"
   ]
  },
  {
   "cell_type": "code",
   "execution_count": 22,
   "metadata": {
    "ExecuteTime": {
     "end_time": "2018-05-30T20:22:03.644821Z",
     "start_time": "2018-05-30T20:22:03.544100Z"
    }
   },
   "outputs": [],
   "source": [
    "structure.save('systems/a-bam-p/confirm-original/full.hmr.noligand.inpcrd')"
   ]
  },
  {
   "cell_type": "markdown",
   "metadata": {},
   "source": [
    "# Setup `attach`"
   ]
  },
  {
   "cell_type": "code",
   "execution_count": 7,
   "metadata": {
    "ExecuteTime": {
     "end_time": "2018-05-31T01:19:39.593664Z",
     "start_time": "2018-05-31T01:19:39.129132Z"
    }
   },
   "outputs": [],
   "source": [
    "hg = pmd.load_file('systems/a-bam-p/confirm-original/full.hmr.noligand.prmtop',\n",
    "                   'systems/a-bam-p/confirm-original/full.hmr.noligand.inpcrd',\n",
    "                    structure=True)\n",
    "\n",
    "dummy_anchors = [':1', ':2', ':3']\n",
    "host_anchors  = [':4@O3', ':6@C1', ':8@C6']"
   ]
  },
  {
   "cell_type": "code",
   "execution_count": 8,
   "metadata": {
    "ExecuteTime": {
     "end_time": "2018-05-31T01:19:39.684186Z",
     "start_time": "2018-05-31T01:19:39.666818Z"
    }
   },
   "outputs": [
    {
     "name": "stdout",
     "output_type": "stream",
     "text": [
      "There are [15, 0, 0] windows in this attach-pull-release calculation.\n"
     ]
    }
   ],
   "source": [
    "attach_string = '0.00 0.40 0.80 1.60 2.40 4.00 5.50 8.65 11.80 18.10 24.40 37.00 49.60 74.80 100.00'\n",
    "attach_fractions = [float(i) / 100 for i in attach_string.split()]\n",
    "\n",
    "windows = [len(attach_fractions), 0, 0]\n",
    "print(f'There are {windows} windows in this attach-pull-release calculation.')"
   ]
  },
  {
   "cell_type": "code",
   "execution_count": 9,
   "metadata": {
    "ExecuteTime": {
     "end_time": "2018-05-31T01:19:42.168158Z",
     "start_time": "2018-05-31T01:19:42.125524Z"
    }
   },
   "outputs": [],
   "source": [
    "static_restraint_atoms = [[dummy_anchors[0], host_anchors[0]],\n",
    "                          [dummy_anchors[1], dummy_anchors[0], host_anchors[0]],\n",
    "                          [dummy_anchors[2], dummy_anchors[1], dummy_anchors[0], host_anchors[0]],\n",
    "                          [dummy_anchors[0], host_anchors[0], host_anchors[1]],\n",
    "                          [dummy_anchors[1], dummy_anchors[0], host_anchors[0], host_anchors[1]],\n",
    "                          [dummy_anchors[0], host_anchors[0], host_anchors[1], host_anchors[2]],\n",
    "                        ]\n",
    "\n",
    "static_restraint_distance_fc = 5.0\n",
    "static_restraint_angle_fc = 100.0"
   ]
  },
  {
   "cell_type": "code",
   "execution_count": 10,
   "metadata": {
    "ExecuteTime": {
     "end_time": "2018-05-31T01:19:43.373336Z",
     "start_time": "2018-05-31T01:19:43.127027Z"
    }
   },
   "outputs": [],
   "source": [
    "host_conformational_template = [['O5', 'C1', 'O1', 'C4'],\n",
    "                                ['C1', 'O1', 'C4', 'C5']\n",
    "                               ]\n",
    "\n",
    "host_residues = len(hg[':MGO'].residues)\n",
    "first_host_residue = hg[':MGO'].residues[0].number + 1\n",
    "conformational_restraint_atoms = []\n",
    "conformational_restraint_targets = []\n",
    "conformational_restraint_fc = 6.0\n",
    "\n",
    "for n in range(first_host_residue, host_residues + first_host_residue):\n",
    "    if n + 1 < host_residues + first_host_residue:\n",
    "        next_residue = n + 1\n",
    "    else:\n",
    "        next_residue = first_host_residue\n",
    "    conformational_restraint_atoms.append(\n",
    "        [f':{n}@{host_conformational_template[0][0]}',\n",
    "         f':{n}@{host_conformational_template[0][1]}',\n",
    "         f':{n}@{host_conformational_template[0][2]}',\n",
    "         f':{next_residue}@{host_conformational_template[0][3]}'\n",
    "        ])\n",
    "    conformational_restraint_targets.append(104.30)\n",
    "    conformational_restraint_atoms.append(\n",
    "        [f':{n}@{host_conformational_template[1][0]}',\n",
    "         f':{n}@{host_conformational_template[1][1]}',\n",
    "         f':{next_residue}@{host_conformational_template[1][2]}',\n",
    "         f':{next_residue}@{host_conformational_template[1][3]}'\n",
    "        ])\n",
    "    conformational_restraint_targets.append(-108.8)"
   ]
  },
  {
   "cell_type": "code",
   "execution_count": 11,
   "metadata": {
    "ExecuteTime": {
     "end_time": "2018-05-31T01:19:47.827251Z",
     "start_time": "2018-05-31T01:19:45.495134Z"
    },
    "scrolled": true
   },
   "outputs": [
    {
     "name": "stderr",
     "output_type": "stream",
     "text": [
      "2018-05-30 06:19:45 PM Calculating attach targets and force constants...\n",
      "2018-05-30 06:19:45 PM Attach, Method #1\n",
      "2018-05-30 06:19:45 PM Calculating pull targets and force constants...\n",
      "2018-05-30 06:19:45 PM No restraint info set for the pull phase! Skipping...\n",
      "2018-05-30 06:19:45 PM Calculating release targets and force constants...\n",
      "2018-05-30 06:19:45 PM No restraint info set for the release phase! Skipping...\n",
      "2018-05-30 06:19:45 PM Number of attach windows = 15\n",
      "2018-05-30 06:19:45 PM This restraint will be skipped in the pull phase\n",
      "2018-05-30 06:19:45 PM This restraint will be skipped in the release phase\n",
      "2018-05-30 06:19:45 PM Assigning atom indices...\n",
      "2018-05-30 06:19:45 PM There are 1 atoms in the mask :1  ...\n",
      "2018-05-30 06:19:45 PM There are 1 atoms in the mask :4@O3  ...\n",
      "2018-05-30 06:19:46 PM Calculating attach targets and force constants...\n",
      "2018-05-30 06:19:46 PM Attach, Method #1\n",
      "2018-05-30 06:19:46 PM Calculating pull targets and force constants...\n",
      "2018-05-30 06:19:46 PM No restraint info set for the pull phase! Skipping...\n",
      "2018-05-30 06:19:46 PM Calculating release targets and force constants...\n",
      "2018-05-30 06:19:46 PM No restraint info set for the release phase! Skipping...\n",
      "2018-05-30 06:19:46 PM Number of attach windows = 15\n",
      "2018-05-30 06:19:46 PM This restraint will be skipped in the pull phase\n",
      "2018-05-30 06:19:46 PM This restraint will be skipped in the release phase\n",
      "2018-05-30 06:19:46 PM Assigning atom indices...\n",
      "2018-05-30 06:19:46 PM There are 1 atoms in the mask :2  ...\n",
      "2018-05-30 06:19:46 PM There are 1 atoms in the mask :1  ...\n",
      "2018-05-30 06:19:46 PM There are 1 atoms in the mask :4@O3  ...\n",
      "2018-05-30 06:19:46 PM Calculating attach targets and force constants...\n",
      "2018-05-30 06:19:46 PM Attach, Method #1\n",
      "2018-05-30 06:19:46 PM Calculating pull targets and force constants...\n",
      "2018-05-30 06:19:46 PM No restraint info set for the pull phase! Skipping...\n",
      "2018-05-30 06:19:46 PM Calculating release targets and force constants...\n",
      "2018-05-30 06:19:46 PM No restraint info set for the release phase! Skipping...\n",
      "2018-05-30 06:19:46 PM Number of attach windows = 15\n",
      "2018-05-30 06:19:46 PM This restraint will be skipped in the pull phase\n",
      "2018-05-30 06:19:46 PM This restraint will be skipped in the release phase\n",
      "2018-05-30 06:19:46 PM Assigning atom indices...\n",
      "2018-05-30 06:19:46 PM There are 1 atoms in the mask :3  ...\n",
      "2018-05-30 06:19:46 PM There are 1 atoms in the mask :2  ...\n",
      "2018-05-30 06:19:46 PM There are 1 atoms in the mask :1  ...\n",
      "2018-05-30 06:19:46 PM There are 1 atoms in the mask :4@O3  ...\n",
      "2018-05-30 06:19:46 PM Calculating attach targets and force constants...\n",
      "2018-05-30 06:19:46 PM Attach, Method #1\n",
      "2018-05-30 06:19:46 PM Calculating pull targets and force constants...\n",
      "2018-05-30 06:19:46 PM No restraint info set for the pull phase! Skipping...\n",
      "2018-05-30 06:19:46 PM Calculating release targets and force constants...\n",
      "2018-05-30 06:19:46 PM No restraint info set for the release phase! Skipping...\n",
      "2018-05-30 06:19:46 PM Number of attach windows = 15\n",
      "2018-05-30 06:19:46 PM This restraint will be skipped in the pull phase\n",
      "2018-05-30 06:19:46 PM This restraint will be skipped in the release phase\n",
      "2018-05-30 06:19:46 PM Assigning atom indices...\n",
      "2018-05-30 06:19:46 PM There are 1 atoms in the mask :1  ...\n",
      "2018-05-30 06:19:47 PM There are 1 atoms in the mask :4@O3  ...\n",
      "2018-05-30 06:19:47 PM There are 1 atoms in the mask :6@C1  ...\n",
      "2018-05-30 06:19:47 PM Calculating attach targets and force constants...\n",
      "2018-05-30 06:19:47 PM Attach, Method #1\n",
      "2018-05-30 06:19:47 PM Calculating pull targets and force constants...\n",
      "2018-05-30 06:19:47 PM No restraint info set for the pull phase! Skipping...\n",
      "2018-05-30 06:19:47 PM Calculating release targets and force constants...\n",
      "2018-05-30 06:19:47 PM No restraint info set for the release phase! Skipping...\n",
      "2018-05-30 06:19:47 PM Number of attach windows = 15\n",
      "2018-05-30 06:19:47 PM This restraint will be skipped in the pull phase\n",
      "2018-05-30 06:19:47 PM This restraint will be skipped in the release phase\n",
      "2018-05-30 06:19:47 PM Assigning atom indices...\n",
      "2018-05-30 06:19:47 PM There are 1 atoms in the mask :2  ...\n",
      "2018-05-30 06:19:47 PM There are 1 atoms in the mask :1  ...\n",
      "2018-05-30 06:19:47 PM There are 1 atoms in the mask :4@O3  ...\n",
      "2018-05-30 06:19:47 PM There are 1 atoms in the mask :6@C1  ...\n",
      "2018-05-30 06:19:47 PM Calculating attach targets and force constants...\n",
      "2018-05-30 06:19:47 PM Attach, Method #1\n",
      "2018-05-30 06:19:47 PM Calculating pull targets and force constants...\n",
      "2018-05-30 06:19:47 PM No restraint info set for the pull phase! Skipping...\n",
      "2018-05-30 06:19:47 PM Calculating release targets and force constants...\n",
      "2018-05-30 06:19:47 PM No restraint info set for the release phase! Skipping...\n",
      "2018-05-30 06:19:47 PM Number of attach windows = 15\n",
      "2018-05-30 06:19:47 PM This restraint will be skipped in the pull phase\n",
      "2018-05-30 06:19:47 PM This restraint will be skipped in the release phase\n",
      "2018-05-30 06:19:47 PM Assigning atom indices...\n",
      "2018-05-30 06:19:47 PM There are 1 atoms in the mask :1  ...\n",
      "2018-05-30 06:19:47 PM There are 1 atoms in the mask :4@O3  ...\n",
      "2018-05-30 06:19:47 PM There are 1 atoms in the mask :6@C1  ...\n",
      "2018-05-30 06:19:47 PM There are 1 atoms in the mask :8@C6  ...\n"
     ]
    }
   ],
   "source": [
    "static_restraints = []\n",
    "for index, atoms in enumerate(static_restraint_atoms):    \n",
    "    this = static_DAT_restraint(restraint_mask_list=atoms,\n",
    "                        num_window_list=windows, \n",
    "                        ref_structure=hg,\n",
    "                        force_constant=static_restraint_angle_fc if len(atoms) > 2 else static_restraint_distance_fc,\n",
    "                        amber_index=True)\n",
    "    static_restraints.append(this)"
   ]
  },
  {
   "cell_type": "code",
   "execution_count": 12,
   "metadata": {
    "ExecuteTime": {
     "end_time": "2018-05-31T01:19:49.577314Z",
     "start_time": "2018-05-31T01:19:47.829116Z"
    }
   },
   "outputs": [
    {
     "name": "stderr",
     "output_type": "stream",
     "text": [
      "2018-05-30 06:19:47 PM Calculating attach targets and force constants...\n",
      "2018-05-30 06:19:47 PM Attach, Method #3\n",
      "2018-05-30 06:19:47 PM Calculating pull targets and force constants...\n",
      "2018-05-30 06:19:47 PM No restraint info set for the pull phase! Skipping...\n",
      "2018-05-30 06:19:47 PM Calculating release targets and force constants...\n",
      "2018-05-30 06:19:47 PM No restraint info set for the release phase! Skipping...\n",
      "2018-05-30 06:19:47 PM Number of attach windows = 15\n",
      "2018-05-30 06:19:47 PM This restraint will be skipped in the pull phase\n",
      "2018-05-30 06:19:47 PM This restraint will be skipped in the release phase\n",
      "2018-05-30 06:19:47 PM Assigning atom indices...\n",
      "2018-05-30 06:19:47 PM There are 1 atoms in the mask :4@O5  ...\n",
      "2018-05-30 06:19:47 PM There are 1 atoms in the mask :4@C1  ...\n",
      "2018-05-30 06:19:47 PM There are 1 atoms in the mask :4@O1  ...\n",
      "2018-05-30 06:19:47 PM There are 1 atoms in the mask :5@C4  ...\n",
      "2018-05-30 06:19:47 PM Calculating attach targets and force constants...\n",
      "2018-05-30 06:19:47 PM Attach, Method #3\n",
      "2018-05-30 06:19:47 PM Calculating pull targets and force constants...\n",
      "2018-05-30 06:19:47 PM No restraint info set for the pull phase! Skipping...\n",
      "2018-05-30 06:19:47 PM Calculating release targets and force constants...\n",
      "2018-05-30 06:19:47 PM No restraint info set for the release phase! Skipping...\n",
      "2018-05-30 06:19:47 PM Number of attach windows = 15\n",
      "2018-05-30 06:19:47 PM This restraint will be skipped in the pull phase\n",
      "2018-05-30 06:19:47 PM This restraint will be skipped in the release phase\n",
      "2018-05-30 06:19:47 PM Assigning atom indices...\n",
      "2018-05-30 06:19:48 PM There are 1 atoms in the mask :4@C1  ...\n",
      "2018-05-30 06:19:48 PM There are 1 atoms in the mask :4@O1  ...\n",
      "2018-05-30 06:19:48 PM There are 1 atoms in the mask :5@C4  ...\n",
      "2018-05-30 06:19:48 PM There are 1 atoms in the mask :5@C5  ...\n",
      "2018-05-30 06:19:48 PM Calculating attach targets and force constants...\n",
      "2018-05-30 06:19:48 PM Attach, Method #3\n",
      "2018-05-30 06:19:48 PM Calculating pull targets and force constants...\n",
      "2018-05-30 06:19:48 PM No restraint info set for the pull phase! Skipping...\n",
      "2018-05-30 06:19:48 PM Calculating release targets and force constants...\n",
      "2018-05-30 06:19:48 PM No restraint info set for the release phase! Skipping...\n",
      "2018-05-30 06:19:48 PM Number of attach windows = 15\n",
      "2018-05-30 06:19:48 PM This restraint will be skipped in the pull phase\n",
      "2018-05-30 06:19:48 PM This restraint will be skipped in the release phase\n",
      "2018-05-30 06:19:48 PM Assigning atom indices...\n",
      "2018-05-30 06:19:48 PM There are 1 atoms in the mask :5@O5  ...\n",
      "2018-05-30 06:19:48 PM There are 1 atoms in the mask :5@C1  ...\n",
      "2018-05-30 06:19:48 PM There are 1 atoms in the mask :5@O1  ...\n",
      "2018-05-30 06:19:48 PM There are 1 atoms in the mask :6@C4  ...\n",
      "2018-05-30 06:19:48 PM Calculating attach targets and force constants...\n",
      "2018-05-30 06:19:48 PM Attach, Method #3\n",
      "2018-05-30 06:19:48 PM Calculating pull targets and force constants...\n",
      "2018-05-30 06:19:48 PM No restraint info set for the pull phase! Skipping...\n",
      "2018-05-30 06:19:48 PM Calculating release targets and force constants...\n",
      "2018-05-30 06:19:48 PM No restraint info set for the release phase! Skipping...\n",
      "2018-05-30 06:19:48 PM Number of attach windows = 15\n",
      "2018-05-30 06:19:48 PM This restraint will be skipped in the pull phase\n",
      "2018-05-30 06:19:48 PM This restraint will be skipped in the release phase\n",
      "2018-05-30 06:19:48 PM Assigning atom indices...\n",
      "2018-05-30 06:19:48 PM There are 1 atoms in the mask :5@C1  ...\n",
      "2018-05-30 06:19:48 PM There are 1 atoms in the mask :5@O1  ...\n",
      "2018-05-30 06:19:48 PM There are 1 atoms in the mask :6@C4  ...\n",
      "2018-05-30 06:19:48 PM There are 1 atoms in the mask :6@C5  ...\n",
      "2018-05-30 06:19:48 PM Calculating attach targets and force constants...\n",
      "2018-05-30 06:19:48 PM Attach, Method #3\n",
      "2018-05-30 06:19:48 PM Calculating pull targets and force constants...\n",
      "2018-05-30 06:19:48 PM No restraint info set for the pull phase! Skipping...\n",
      "2018-05-30 06:19:48 PM Calculating release targets and force constants...\n",
      "2018-05-30 06:19:48 PM No restraint info set for the release phase! Skipping...\n",
      "2018-05-30 06:19:48 PM Number of attach windows = 15\n",
      "2018-05-30 06:19:48 PM This restraint will be skipped in the pull phase\n",
      "2018-05-30 06:19:48 PM This restraint will be skipped in the release phase\n",
      "2018-05-30 06:19:48 PM Assigning atom indices...\n",
      "2018-05-30 06:19:48 PM There are 1 atoms in the mask :6@O5  ...\n",
      "2018-05-30 06:19:48 PM There are 1 atoms in the mask :6@C1  ...\n",
      "2018-05-30 06:19:48 PM There are 1 atoms in the mask :6@O1  ...\n",
      "2018-05-30 06:19:48 PM There are 1 atoms in the mask :7@C4  ...\n",
      "2018-05-30 06:19:48 PM Calculating attach targets and force constants...\n",
      "2018-05-30 06:19:48 PM Attach, Method #3\n",
      "2018-05-30 06:19:48 PM Calculating pull targets and force constants...\n",
      "2018-05-30 06:19:48 PM No restraint info set for the pull phase! Skipping...\n",
      "2018-05-30 06:19:48 PM Calculating release targets and force constants...\n",
      "2018-05-30 06:19:48 PM No restraint info set for the release phase! Skipping...\n",
      "2018-05-30 06:19:48 PM Number of attach windows = 15\n",
      "2018-05-30 06:19:48 PM This restraint will be skipped in the pull phase\n",
      "2018-05-30 06:19:48 PM This restraint will be skipped in the release phase\n",
      "2018-05-30 06:19:48 PM Assigning atom indices...\n",
      "2018-05-30 06:19:48 PM There are 1 atoms in the mask :6@C1  ...\n",
      "2018-05-30 06:19:48 PM There are 1 atoms in the mask :6@O1  ...\n",
      "2018-05-30 06:19:48 PM There are 1 atoms in the mask :7@C4  ...\n",
      "2018-05-30 06:19:48 PM There are 1 atoms in the mask :7@C5  ...\n",
      "2018-05-30 06:19:48 PM Calculating attach targets and force constants...\n",
      "2018-05-30 06:19:48 PM Attach, Method #3\n",
      "2018-05-30 06:19:48 PM Calculating pull targets and force constants...\n",
      "2018-05-30 06:19:48 PM No restraint info set for the pull phase! Skipping...\n",
      "2018-05-30 06:19:48 PM Calculating release targets and force constants...\n",
      "2018-05-30 06:19:48 PM No restraint info set for the release phase! Skipping...\n",
      "2018-05-30 06:19:48 PM Number of attach windows = 15\n",
      "2018-05-30 06:19:48 PM This restraint will be skipped in the pull phase\n",
      "2018-05-30 06:19:48 PM This restraint will be skipped in the release phase\n",
      "2018-05-30 06:19:48 PM Assigning atom indices...\n",
      "2018-05-30 06:19:48 PM There are 1 atoms in the mask :7@O5  ...\n",
      "2018-05-30 06:19:48 PM There are 1 atoms in the mask :7@C1  ...\n",
      "2018-05-30 06:19:48 PM There are 1 atoms in the mask :7@O1  ...\n",
      "2018-05-30 06:19:48 PM There are 1 atoms in the mask :8@C4  ...\n",
      "2018-05-30 06:19:48 PM Calculating attach targets and force constants...\n",
      "2018-05-30 06:19:48 PM Attach, Method #3\n",
      "2018-05-30 06:19:48 PM Calculating pull targets and force constants...\n",
      "2018-05-30 06:19:48 PM No restraint info set for the pull phase! Skipping...\n",
      "2018-05-30 06:19:48 PM Calculating release targets and force constants...\n",
      "2018-05-30 06:19:48 PM No restraint info set for the release phase! Skipping...\n",
      "2018-05-30 06:19:48 PM Number of attach windows = 15\n",
      "2018-05-30 06:19:48 PM This restraint will be skipped in the pull phase\n",
      "2018-05-30 06:19:48 PM This restraint will be skipped in the release phase\n",
      "2018-05-30 06:19:48 PM Assigning atom indices...\n",
      "2018-05-30 06:19:48 PM There are 1 atoms in the mask :7@C1  ...\n",
      "2018-05-30 06:19:48 PM There are 1 atoms in the mask :7@O1  ...\n",
      "2018-05-30 06:19:48 PM There are 1 atoms in the mask :8@C4  ...\n",
      "2018-05-30 06:19:49 PM There are 1 atoms in the mask :8@C5  ...\n",
      "2018-05-30 06:19:49 PM Calculating attach targets and force constants...\n",
      "2018-05-30 06:19:49 PM Attach, Method #3\n",
      "2018-05-30 06:19:49 PM Calculating pull targets and force constants...\n",
      "2018-05-30 06:19:49 PM No restraint info set for the pull phase! Skipping...\n",
      "2018-05-30 06:19:49 PM Calculating release targets and force constants...\n",
      "2018-05-30 06:19:49 PM No restraint info set for the release phase! Skipping...\n",
      "2018-05-30 06:19:49 PM Number of attach windows = 15\n",
      "2018-05-30 06:19:49 PM This restraint will be skipped in the pull phase\n",
      "2018-05-30 06:19:49 PM This restraint will be skipped in the release phase\n",
      "2018-05-30 06:19:49 PM Assigning atom indices...\n",
      "2018-05-30 06:19:49 PM There are 1 atoms in the mask :8@O5  ...\n",
      "2018-05-30 06:19:49 PM There are 1 atoms in the mask :8@C1  ...\n",
      "2018-05-30 06:19:49 PM There are 1 atoms in the mask :8@O1  ...\n"
     ]
    },
    {
     "name": "stderr",
     "output_type": "stream",
     "text": [
      "2018-05-30 06:19:49 PM There are 1 atoms in the mask :9@C4  ...\n",
      "2018-05-30 06:19:49 PM Calculating attach targets and force constants...\n",
      "2018-05-30 06:19:49 PM Attach, Method #3\n",
      "2018-05-30 06:19:49 PM Calculating pull targets and force constants...\n",
      "2018-05-30 06:19:49 PM No restraint info set for the pull phase! Skipping...\n",
      "2018-05-30 06:19:49 PM Calculating release targets and force constants...\n",
      "2018-05-30 06:19:49 PM No restraint info set for the release phase! Skipping...\n",
      "2018-05-30 06:19:49 PM Number of attach windows = 15\n",
      "2018-05-30 06:19:49 PM This restraint will be skipped in the pull phase\n",
      "2018-05-30 06:19:49 PM This restraint will be skipped in the release phase\n",
      "2018-05-30 06:19:49 PM Assigning atom indices...\n",
      "2018-05-30 06:19:49 PM There are 1 atoms in the mask :8@C1  ...\n",
      "2018-05-30 06:19:49 PM There are 1 atoms in the mask :8@O1  ...\n",
      "2018-05-30 06:19:49 PM There are 1 atoms in the mask :9@C4  ...\n",
      "2018-05-30 06:19:49 PM There are 1 atoms in the mask :9@C5  ...\n",
      "2018-05-30 06:19:49 PM Calculating attach targets and force constants...\n",
      "2018-05-30 06:19:49 PM Attach, Method #3\n",
      "2018-05-30 06:19:49 PM Calculating pull targets and force constants...\n",
      "2018-05-30 06:19:49 PM No restraint info set for the pull phase! Skipping...\n",
      "2018-05-30 06:19:49 PM Calculating release targets and force constants...\n",
      "2018-05-30 06:19:49 PM No restraint info set for the release phase! Skipping...\n",
      "2018-05-30 06:19:49 PM Number of attach windows = 15\n",
      "2018-05-30 06:19:49 PM This restraint will be skipped in the pull phase\n",
      "2018-05-30 06:19:49 PM This restraint will be skipped in the release phase\n",
      "2018-05-30 06:19:49 PM Assigning atom indices...\n",
      "2018-05-30 06:19:49 PM There are 1 atoms in the mask :9@O5  ...\n",
      "2018-05-30 06:19:49 PM There are 1 atoms in the mask :9@C1  ...\n",
      "2018-05-30 06:19:49 PM There are 1 atoms in the mask :9@O1  ...\n",
      "2018-05-30 06:19:49 PM There are 1 atoms in the mask :4@C4  ...\n",
      "2018-05-30 06:19:49 PM Calculating attach targets and force constants...\n",
      "2018-05-30 06:19:49 PM Attach, Method #3\n",
      "2018-05-30 06:19:49 PM Calculating pull targets and force constants...\n",
      "2018-05-30 06:19:49 PM No restraint info set for the pull phase! Skipping...\n",
      "2018-05-30 06:19:49 PM Calculating release targets and force constants...\n",
      "2018-05-30 06:19:49 PM No restraint info set for the release phase! Skipping...\n",
      "2018-05-30 06:19:49 PM Number of attach windows = 15\n",
      "2018-05-30 06:19:49 PM This restraint will be skipped in the pull phase\n",
      "2018-05-30 06:19:49 PM This restraint will be skipped in the release phase\n",
      "2018-05-30 06:19:49 PM Assigning atom indices...\n",
      "2018-05-30 06:19:49 PM There are 1 atoms in the mask :9@C1  ...\n",
      "2018-05-30 06:19:49 PM There are 1 atoms in the mask :9@O1  ...\n",
      "2018-05-30 06:19:49 PM There are 1 atoms in the mask :4@C4  ...\n",
      "2018-05-30 06:19:49 PM There are 1 atoms in the mask :4@C5  ...\n"
     ]
    }
   ],
   "source": [
    "conformational_restraints = []\n",
    "for index, atoms in enumerate(conformational_restraint_atoms): \n",
    "    \n",
    "    this = DAT_restraint()\n",
    "    this.auto_apr = True\n",
    "    this.amber_index = True\n",
    "    this.topology = hg\n",
    "    this.mask1 = atoms[0]\n",
    "    this.mask2 = atoms[1]\n",
    "    this.mask3 = atoms[2]\n",
    "    this.mask4 = atoms[3]\n",
    "    \n",
    "    this.attach['fraction_list'] = attach_fractions\n",
    "    this.attach['target'] = conformational_restraint_targets[index]\n",
    "    this.attach['fc_final'] = conformational_restraint_fc\n",
    "    \n",
    "    this.initialize()\n",
    "    conformational_restraints.append(this)"
   ]
  },
  {
   "cell_type": "code",
   "execution_count": 13,
   "metadata": {
    "ExecuteTime": {
     "end_time": "2018-05-31T01:19:54.191861Z",
     "start_time": "2018-05-31T01:19:54.152858Z"
    }
   },
   "outputs": [
    {
     "name": "stderr",
     "output_type": "stream",
     "text": [
      "2018-05-30 06:19:54 PM All restraints are \"continuous_apr\" style.\n",
      "2018-05-30 06:19:54 PM Restraints appear to be consistent\n"
     ]
    }
   ],
   "source": [
    "window_list = create_window_list(conformational_restraints)"
   ]
  },
  {
   "cell_type": "code",
   "execution_count": 35,
   "metadata": {
    "ExecuteTime": {
     "end_time": "2018-05-30T20:37:04.198516Z",
     "start_time": "2018-05-30T20:37:04.180771Z"
    }
   },
   "outputs": [
    {
     "data": {
      "text/plain": [
       "['a000',\n",
       " 'a001',\n",
       " 'a002',\n",
       " 'a003',\n",
       " 'a004',\n",
       " 'a005',\n",
       " 'a006',\n",
       " 'a007',\n",
       " 'a008',\n",
       " 'a009',\n",
       " 'a010',\n",
       " 'a011',\n",
       " 'a012',\n",
       " 'a013']"
      ]
     },
     "execution_count": 35,
     "metadata": {},
     "output_type": "execute_result"
    }
   ],
   "source": [
    "window_list"
   ]
  },
  {
   "cell_type": "code",
   "execution_count": 14,
   "metadata": {
    "ExecuteTime": {
     "end_time": "2018-05-31T01:19:57.813573Z",
     "start_time": "2018-05-31T01:19:57.780149Z"
    }
   },
   "outputs": [],
   "source": [
    "prefix = 'systems/a-bam-p/confirm-original/no-ligand/'"
   ]
  },
  {
   "cell_type": "code",
   "execution_count": 41,
   "metadata": {
    "ExecuteTime": {
     "end_time": "2018-05-30T22:43:38.532452Z",
     "start_time": "2018-05-30T22:43:38.497990Z"
    }
   },
   "outputs": [],
   "source": [
    "for window in window_list:\n",
    "    os.makedirs(os.path.join(prefix, window))\n",
    "    # os.remove(os.path.join(prefix, window, 'full.hmr.noligand.prmtop'))\n",
    "    # os.remove(os.path.join(prefix, window, 'full.hmr.noligand.inpcrd'))\n",
    "    os.symlink(os.path.join('../../', 'full.hmr.noligand.prmtop'), os.path.join(prefix, window, 'full.hmr.noligand.prmtop'))\n",
    "    os.symlink(os.path.join('../../', 'full.hmr.noligand.inpcrd'), os.path.join(prefix, window, 'full.hmr.noligand.inpcrd'))"
   ]
  },
  {
   "cell_type": "code",
   "execution_count": 42,
   "metadata": {
    "ExecuteTime": {
     "end_time": "2018-05-30T22:45:28.991246Z",
     "start_time": "2018-05-30T22:45:28.944572Z"
    }
   },
   "outputs": [],
   "source": [
    "for window in window_list:\n",
    "    with open(os.path.join(prefix, window, 'disang.rest'), 'w') as file:\n",
    "        for restraint in static_restraints + conformational_restraints:\n",
    "            \n",
    "            try:\n",
    "                string = amber_restraint_line(restraint, 'attach', int(window[1:]))\n",
    "            except:\n",
    "                # Hack to get around trying to access\n",
    "                # --> 630         'r2': restraint.phase[phase]['targets'][window],\n",
    "                # for wall restraints, during pull.\n",
    "                continue\n",
    "            if string is not None:\n",
    "                file.write(string)"
   ]
  },
  {
   "cell_type": "code",
   "execution_count": 17,
   "metadata": {
    "ExecuteTime": {
     "end_time": "2018-05-31T01:26:55.580753Z",
     "start_time": "2018-05-31T01:22:02.752603Z"
    }
   },
   "outputs": [
    {
     "name": "stdout",
     "output_type": "stream",
     "text": [
      "Automatic pdb calling has been turned ON\n"
     ]
    },
    {
     "ename": "AttributeError",
     "evalue": "'list' object has no attribute 'any'",
     "output_type": "error",
     "traceback": [
      "\u001b[0;31m---------------------------------------------------------------------------\u001b[0m",
      "\u001b[0;31mAttributeError\u001b[0m                            Traceback (most recent call last)",
      "\u001b[0;32m<ipython-input-17-8b78932021b7>\u001b[0m in \u001b[0;36m<module>\u001b[0;34m()\u001b[0m\n\u001b[1;32m     16\u001b[0m \u001b[0;34m\u001b[0m\u001b[0m\n\u001b[1;32m     17\u001b[0m \u001b[0manalyze\u001b[0m\u001b[0;34m.\u001b[0m\u001b[0mrestraint_list\u001b[0m \u001b[0;34m=\u001b[0m \u001b[0mconformational_restraints\u001b[0m\u001b[0;34m\u001b[0m\u001b[0m\n\u001b[0;32m---> 18\u001b[0;31m \u001b[0manalyze\u001b[0m\u001b[0;34m.\u001b[0m\u001b[0mcollect_data\u001b[0m\u001b[0;34m(\u001b[0m\u001b[0;34m)\u001b[0m\u001b[0;34m\u001b[0m\u001b[0m\n\u001b[0m\u001b[1;32m     19\u001b[0m \u001b[0manalyze\u001b[0m\u001b[0;34m.\u001b[0m\u001b[0mmethods\u001b[0m \u001b[0;34m=\u001b[0m \u001b[0;34m[\u001b[0m\u001b[0;34m'ti-block'\u001b[0m\u001b[0;34m]\u001b[0m\u001b[0;34m\u001b[0m\u001b[0m\n\u001b[1;32m     20\u001b[0m \u001b[0manalyze\u001b[0m\u001b[0;34m.\u001b[0m\u001b[0mquicker_ti_matrix\u001b[0m \u001b[0;34m=\u001b[0m \u001b[0;32mTrue\u001b[0m\u001b[0;34m\u001b[0m\u001b[0m\n",
      "\u001b[0;32m~/data/applications/anaconda3/envs/smirnoff-paprika/lib/python3.6/site-packages/paprika/analysis.py\u001b[0m in \u001b[0;36mcollect_data\u001b[0;34m(self, single_prmtop, fraction)\u001b[0m\n\u001b[1;32m     86\u001b[0m         \u001b[0mself\u001b[0m\u001b[0;34m.\u001b[0m\u001b[0mchanging_restraints\u001b[0m \u001b[0;34m=\u001b[0m \u001b[0mself\u001b[0m\u001b[0;34m.\u001b[0m\u001b[0mdetermine_static_restraints\u001b[0m\u001b[0;34m(\u001b[0m\u001b[0;34m)\u001b[0m\u001b[0;34m\u001b[0m\u001b[0m\n\u001b[1;32m     87\u001b[0m         \u001b[0mself\u001b[0m\u001b[0;34m.\u001b[0m\u001b[0morders\u001b[0m \u001b[0;34m=\u001b[0m \u001b[0mself\u001b[0m\u001b[0;34m.\u001b[0m\u001b[0mdetermine_window_order\u001b[0m\u001b[0;34m(\u001b[0m\u001b[0;34m)\u001b[0m\u001b[0;34m\u001b[0m\u001b[0m\n\u001b[0;32m---> 88\u001b[0;31m         \u001b[0mself\u001b[0m\u001b[0;34m.\u001b[0m\u001b[0msimulation_data\u001b[0m \u001b[0;34m=\u001b[0m \u001b[0mself\u001b[0m\u001b[0;34m.\u001b[0m\u001b[0mread_trajectories\u001b[0m\u001b[0;34m(\u001b[0m\u001b[0msingle_prmtop\u001b[0m\u001b[0;34m=\u001b[0m\u001b[0msingle_prmtop\u001b[0m\u001b[0;34m,\u001b[0m \u001b[0mfraction\u001b[0m\u001b[0;34m=\u001b[0m\u001b[0mfraction\u001b[0m\u001b[0;34m)\u001b[0m\u001b[0;34m\u001b[0m\u001b[0m\n\u001b[0m\u001b[1;32m     89\u001b[0m \u001b[0;34m\u001b[0m\u001b[0m\n\u001b[1;32m     90\u001b[0m     \u001b[0;32mdef\u001b[0m \u001b[0mdetermine_static_restraints\u001b[0m\u001b[0;34m(\u001b[0m\u001b[0mself\u001b[0m\u001b[0;34m)\u001b[0m\u001b[0;34m:\u001b[0m\u001b[0;34m\u001b[0m\u001b[0m\n",
      "\u001b[0;32m~/data/applications/anaconda3/envs/smirnoff-paprika/lib/python3.6/site-packages/paprika/analysis.py\u001b[0m in \u001b[0;36mread_trajectories\u001b[0;34m(self, single_prmtop, fraction)\u001b[0m\n\u001b[1;32m    200\u001b[0m         \u001b[0;31m# which should be the same value for all restraints.\u001b[0m\u001b[0;34m\u001b[0m\u001b[0;34m\u001b[0m\u001b[0m\n\u001b[1;32m    201\u001b[0m         \u001b[0;32mif\u001b[0m \u001b[0mlen\u001b[0m\u001b[0;34m(\u001b[0m\u001b[0mactive_attach_restraints\u001b[0m\u001b[0;34m)\u001b[0m \u001b[0;34m>\u001b[0m \u001b[0;36m0\u001b[0m\u001b[0;34m:\u001b[0m\u001b[0;34m\u001b[0m\u001b[0m\n\u001b[0;32m--> 202\u001b[0;31m             \u001b[0;32mif\u001b[0m \u001b[0mactive_attach_restraints\u001b[0m\u001b[0;34m[\u001b[0m\u001b[0;36m0\u001b[0m\u001b[0;34m]\u001b[0m\u001b[0;34m.\u001b[0m\u001b[0mcontinuous_apr\u001b[0m \u001b[0;32mand\u001b[0m \u001b[0mself\u001b[0m\u001b[0;34m.\u001b[0m\u001b[0morders\u001b[0m\u001b[0;34m[\u001b[0m\u001b[0;34m'attach'\u001b[0m\u001b[0;34m]\u001b[0m\u001b[0;34m.\u001b[0m\u001b[0many\u001b[0m \u001b[0;32mand\u001b[0m \u001b[0mself\u001b[0m\u001b[0;34m.\u001b[0m\u001b[0morders\u001b[0m\u001b[0;34m[\u001b[0m\u001b[0;34m'pull'\u001b[0m\u001b[0;34m]\u001b[0m\u001b[0;34m.\u001b[0m\u001b[0many\u001b[0m\u001b[0;34m:\u001b[0m\u001b[0;34m\u001b[0m\u001b[0m\n\u001b[0m\u001b[1;32m    203\u001b[0m                 log.debug('Replacing {} with {} in {} for `continuous_apr`...'.format(\n\u001b[1;32m    204\u001b[0m                     ordered_attach_windows[-1], ordered_pull_windows[0], ordered_attach_windows))\n",
      "\u001b[0;31mAttributeError\u001b[0m: 'list' object has no attribute 'any'"
     ]
    },
    {
     "name": "stdout",
     "output_type": "stream",
     "text": [
      "> \u001b[0;32m/home/dslochower/data/applications/anaconda3/envs/smirnoff-paprika/lib/python3.6/site-packages/paprika/analysis.py\u001b[0m(202)\u001b[0;36mread_trajectories\u001b[0;34m()\u001b[0m\n",
      "\u001b[0;32m    200 \u001b[0;31m        \u001b[0;31m# which should be the same value for all restraints.\u001b[0m\u001b[0;34m\u001b[0m\u001b[0;34m\u001b[0m\u001b[0m\n",
      "\u001b[0m\u001b[0;32m    201 \u001b[0;31m        \u001b[0;32mif\u001b[0m \u001b[0mlen\u001b[0m\u001b[0;34m(\u001b[0m\u001b[0mactive_attach_restraints\u001b[0m\u001b[0;34m)\u001b[0m \u001b[0;34m>\u001b[0m \u001b[0;36m0\u001b[0m\u001b[0;34m:\u001b[0m\u001b[0;34m\u001b[0m\u001b[0m\n",
      "\u001b[0m\u001b[0;32m--> 202 \u001b[0;31m            \u001b[0;32mif\u001b[0m \u001b[0mactive_attach_restraints\u001b[0m\u001b[0;34m[\u001b[0m\u001b[0;36m0\u001b[0m\u001b[0;34m]\u001b[0m\u001b[0;34m.\u001b[0m\u001b[0mcontinuous_apr\u001b[0m \u001b[0;32mand\u001b[0m \u001b[0mself\u001b[0m\u001b[0;34m.\u001b[0m\u001b[0morders\u001b[0m\u001b[0;34m[\u001b[0m\u001b[0;34m'attach'\u001b[0m\u001b[0;34m]\u001b[0m\u001b[0;34m.\u001b[0m\u001b[0many\u001b[0m \u001b[0;32mand\u001b[0m \u001b[0mself\u001b[0m\u001b[0;34m.\u001b[0m\u001b[0morders\u001b[0m\u001b[0;34m[\u001b[0m\u001b[0;34m'pull'\u001b[0m\u001b[0;34m]\u001b[0m\u001b[0;34m.\u001b[0m\u001b[0many\u001b[0m\u001b[0;34m:\u001b[0m\u001b[0;34m\u001b[0m\u001b[0m\n",
      "\u001b[0m\u001b[0;32m    203 \u001b[0;31m                log.debug('Replacing {} with {} in {} for `continuous_apr`...'.format(\n",
      "\u001b[0m\u001b[0;32m    204 \u001b[0;31m                    ordered_attach_windows[-1], ordered_pull_windows[0], ordered_attach_windows))\n",
      "\u001b[0m\n",
      "ipdb> self.orders\n",
      "{'attach': array([ 0,  1,  2, ..., 12, 13, 14]), 'pull': [], 'release': []}\n",
      "ipdb> self.orders['pull']\n",
      "[]\n",
      "ipdb> self.orders['attach']\n",
      "array([ 0,  1,  2, ..., 12, 13, 14])\n",
      "ipdb> q\n"
     ]
    }
   ],
   "source": [
    "%pdb\n",
    "structure = pt.load(\n",
    "    os.path.join('/home', 'dslochower', 'kirkwood', 'projects', 'smirnoff-host-guest-simulations', \n",
    "                            'systems', 'a-bam-p', 'confirm-original', 'no-ligand', 'full.hmr.noligand.inpcrd'),\n",
    "    os.path.join('/home', 'dslochower', 'kirkwood', 'projects', 'smirnoff-host-guest-simulations', \n",
    "                            'systems', 'a-bam-p', 'confirm-original', 'no-ligand', 'full.hmr.noligand.prmtop'))\n",
    "\n",
    "stripped = structure.strip(':WAT,:Na+,:Cl-')\n",
    "\n",
    "analyze = fe_calc()\n",
    "analyze.prmtop = stripped.topology\n",
    "analyze.trajectory = 'prod.*.nc'\n",
    "analyze.path = os.path.join('/home', 'dslochower', 'kirkwood', 'projects', 'smirnoff-host-guest-simulations', \n",
    "                            'systems', 'a-bam-p', 'confirm-original', 'no-ligand')\n",
    "\n",
    "\n",
    "analyze.restraint_list = conformational_restraints\n",
    "analyze.collect_data()\n",
    "analyze.methods = ['ti-block']\n",
    "analyze.quicker_ti_matrix = True\n",
    "analyze.bootcycles = 1\n",
    "analyze.compute_free_energy()\n",
    "\n"
   ]
  },
  {
   "cell_type": "code",
   "execution_count": null,
   "metadata": {},
   "outputs": [],
   "source": []
  }
 ],
 "metadata": {
  "kernelspec": {
   "display_name": "Python [conda env:smirnoff-paprika]",
   "language": "python",
   "name": "conda-env-smirnoff-paprika-py"
  },
  "language_info": {
   "codemirror_mode": {
    "name": "ipython",
    "version": 3
   },
   "file_extension": ".py",
   "mimetype": "text/x-python",
   "name": "python",
   "nbconvert_exporter": "python",
   "pygments_lexer": "ipython3",
   "version": "3.6.5"
  }
 },
 "nbformat": 4,
 "nbformat_minor": 2
}
