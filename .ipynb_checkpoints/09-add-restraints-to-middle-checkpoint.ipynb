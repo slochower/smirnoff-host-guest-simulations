{
 "cells": [
  {
   "cell_type": "markdown",
   "metadata": {},
   "source": [
    "# Minimal simulation setup"
   ]
  },
  {
   "cell_type": "code",
   "execution_count": 1,
   "metadata": {
    "ExecuteTime": {
     "end_time": "2018-04-18T01:33:17.212094Z",
     "start_time": "2018-04-18T01:33:17.190146Z"
    }
   },
   "outputs": [],
   "source": [
    "%load_ext autoreload\n",
    "%autoreload 2\n",
    "\n",
    "from importlib import reload\n",
    "import logging\n",
    "\n",
    "reload(logging)\n",
    "logging.basicConfig(format='%(asctime)s %(message)s', datefmt='%Y-%m-%d %I:%M:%S %p',\n",
    "                    level=logging.DEBUG)\n"
   ]
  },
  {
   "cell_type": "code",
   "execution_count": 2,
   "metadata": {
    "ExecuteTime": {
     "end_time": "2018-04-18T01:43:40.415096Z",
     "start_time": "2018-04-18T01:43:40.396238Z"
    }
   },
   "outputs": [
    {
     "name": "stderr",
     "output_type": "stream",
     "text": [
      "2018-04-18 11:28:33 AM OpenMM support: Yes\n"
     ]
    }
   ],
   "source": [
    "import os\n",
    "import shutil\n",
    "import numpy as np\n",
    "\n",
    "import parmed as pmd\n",
    "from paprika.restraints import DAT_restraint\n",
    "from paprika.restraints import create_window_list\n",
    "from paprika.restraints import amber_restraint_line\n",
    "\n",
    "from paprika.tleap import System\n",
    "\n",
    "from paprika.utils import make_window_dirs\n",
    "from paprika.amber import Simulation\n",
    "\n",
    "from paprika.analysis import fe_calc"
   ]
  },
  {
   "cell_type": "markdown",
   "metadata": {},
   "source": [
    "## Setup a few restraints"
   ]
  },
  {
   "cell_type": "code",
   "execution_count": 3,
   "metadata": {
    "ExecuteTime": {
     "end_time": "2018-04-18T01:25:02.399230Z",
     "start_time": "2018-04-18T01:25:02.231281Z"
    }
   },
   "outputs": [
    {
     "name": "stderr",
     "output_type": "stream",
     "text": [
      "2018-04-18 11:28:35 AM Calculating attach targets and force constants...\n",
      "2018-04-18 11:28:35 AM Attach, Method #3\n",
      "2018-04-18 11:28:35 AM Calculating pull targets and force constants...\n",
      "2018-04-18 11:28:35 AM Pull, Method #1\n",
      "2018-04-18 11:28:35 AM Calculating release targets and force constants...\n",
      "2018-04-18 11:28:35 AM No restraint info set for the release phase! Skipping...\n",
      "2018-04-18 11:28:35 AM Number of attach windows = 5\n",
      "2018-04-18 11:28:35 AM Number of pull windows = 19\n",
      "2018-04-18 11:28:35 AM This restraint will be skipped in the release phase\n",
      "2018-04-18 11:28:35 AM Assigning atom indices...\n",
      "2018-04-18 11:28:35 AM There are 1 atoms in the mask :CB6@O  ...\n",
      "2018-04-18 11:28:35 AM There are 1 atoms in the mask :BUT@C1  ...\n",
      "2018-04-18 11:28:35 AM Calculating attach targets and force constants...\n",
      "2018-04-18 11:28:35 AM Attach, Method #3\n",
      "2018-04-18 11:28:35 AM Calculating pull targets and force constants...\n",
      "2018-04-18 11:28:35 AM Pull, Method #1\n",
      "2018-04-18 11:28:35 AM Calculating release targets and force constants...\n",
      "2018-04-18 11:28:35 AM No restraint info set for the release phase! Skipping...\n",
      "2018-04-18 11:28:35 AM Number of attach windows = 5\n",
      "2018-04-18 11:28:35 AM Number of pull windows = 19\n",
      "2018-04-18 11:28:35 AM This restraint will be skipped in the release phase\n",
      "2018-04-18 11:28:35 AM Assigning atom indices...\n",
      "2018-04-18 11:28:35 AM There are 1 atoms in the mask :CB6@O1  ...\n",
      "2018-04-18 11:28:35 AM There are 1 atoms in the mask :CB6@O  ...\n",
      "2018-04-18 11:28:35 AM There are 1 atoms in the mask :BUT@C1  ...\n",
      "2018-04-18 11:28:35 AM Calculating attach targets and force constants...\n",
      "2018-04-18 11:28:35 AM Attach, Method #3\n",
      "2018-04-18 11:28:35 AM Calculating pull targets and force constants...\n",
      "2018-04-18 11:28:35 AM Pull, Method #1\n",
      "2018-04-18 11:28:35 AM Calculating release targets and force constants...\n",
      "2018-04-18 11:28:35 AM No restraint info set for the release phase! Skipping...\n",
      "2018-04-18 11:28:35 AM Number of attach windows = 5\n",
      "2018-04-18 11:28:35 AM Number of pull windows = 19\n",
      "2018-04-18 11:28:35 AM This restraint will be skipped in the release phase\n",
      "2018-04-18 11:28:35 AM Assigning atom indices...\n",
      "2018-04-18 11:28:35 AM There are 1 atoms in the mask :CB6@O11  ...\n",
      "2018-04-18 11:28:35 AM There are 1 atoms in the mask :CB6@O1  ...\n",
      "2018-04-18 11:28:35 AM There are 1 atoms in the mask :CB6@O  ...\n",
      "2018-04-18 11:28:35 AM There are 1 atoms in the mask :BUT@C1  ...\n"
     ]
    }
   ],
   "source": [
    "input_pdb = pmd.load_file('/home/dslochower/data/projects/pAPRika/test/cb6_but_gb_apr_ref_data/vac.pdb')\n",
    "\n",
    "# Distance restraint\n",
    "rest1 = DAT_restraint()\n",
    "rest1.continuous_apr = True\n",
    "rest1.amber_index = True\n",
    "rest1.topology = input_pdb\n",
    "rest1.mask1 = ':CB6@O'\n",
    "rest1.mask2 = ':BUT@C1'\n",
    "rest1.attach['target'] = 4.5\n",
    "rest1.attach['fraction_list'] = [0.00, 0.04, 0.181, 0.496, 1.000]\n",
    "rest1.attach['fc_final'] = 5.0\n",
    "rest1.pull['fc'] = rest1.attach['fc_final']\n",
    "rest1.pull['target_initial'] = rest1.attach['target']\n",
    "rest1.pull['target_final'] = 18.5\n",
    "rest1.pull['num_windows'] = 19\n",
    "rest1.initialize()\n",
    "\n",
    "# Angle restraint\n",
    "rest2 = DAT_restraint()\n",
    "rest2.continuous_apr = True\n",
    "rest2.amber_index = True\n",
    "rest2.topology = input_pdb\n",
    "rest2.mask1 = ':CB6@O1'\n",
    "rest2.mask2 = ':CB6@O'\n",
    "rest2.mask3 = ':BUT@C1'\n",
    "rest2.attach['target'] = 8.0\n",
    "rest2.attach['fraction_list'] = [0.00, 0.04, 0.181, 0.496, 1.000]\n",
    "rest2.attach['fc_final'] = 50.0\n",
    "rest2.pull['fc'] = rest2.attach['fc_final']\n",
    "rest2.pull['target_initial'] = rest2.attach['target']\n",
    "rest2.pull['target_final'] = rest2.attach['target']\n",
    "rest2.pull['num_windows'] = 19\n",
    "rest2.initialize()\n",
    "\n",
    "# Dihedral restraint\n",
    "rest3 = DAT_restraint()\n",
    "rest3.continuous_apr = True\n",
    "rest3.amber_index = True\n",
    "rest3.topology = input_pdb\n",
    "rest3.mask1 = ':CB6@O11'\n",
    "rest3.mask2 = ':CB6@O1'\n",
    "rest3.mask3 = ':CB6@O'\n",
    "rest3.mask4 = ':BUT@C1'\n",
    "rest3.attach['target'] = -60.0\n",
    "rest3.attach['fraction_list'] = [0.00, 0.04, 0.181, 0.496, 1.000]\n",
    "rest3.attach['fc_final'] = 50.0\n",
    "rest3.pull['fc'] = rest3.attach['fc_final']\n",
    "rest3.pull['target_initial'] = rest3.attach['target']\n",
    "rest3.pull['target_final'] = rest3.attach['target']\n",
    "rest3.pull['num_windows'] = 19\n",
    "rest3.initialize()"
   ]
  },
  {
   "cell_type": "markdown",
   "metadata": {},
   "source": [
    "## Make the windows"
   ]
  },
  {
   "cell_type": "code",
   "execution_count": 4,
   "metadata": {
    "ExecuteTime": {
     "end_time": "2018-04-18T01:25:05.443723Z",
     "start_time": "2018-04-18T01:25:05.428438Z"
    }
   },
   "outputs": [],
   "source": [
    "if os.path.exists('local-add-middle-window'):\n",
    "    shutil.rmtree('local-add-middle-window')\n",
    "os.makedirs('local-add-middle-window')\n",
    "path = './local-add-middle-window/'"
   ]
  },
  {
   "cell_type": "code",
   "execution_count": 5,
   "metadata": {
    "ExecuteTime": {
     "end_time": "2018-04-18T01:25:06.081759Z",
     "start_time": "2018-04-18T01:25:06.065887Z"
    }
   },
   "outputs": [
    {
     "name": "stderr",
     "output_type": "stream",
     "text": [
      "2018-04-18 11:28:39 AM All restraints are \"continuous_apr\" style.\n",
      "2018-04-18 11:28:39 AM Restraints appear to be consistent\n"
     ]
    }
   ],
   "source": [
    "window_list = create_window_list([rest1, rest2, rest3])"
   ]
  },
  {
   "cell_type": "code",
   "execution_count": 6,
   "metadata": {
    "ExecuteTime": {
     "end_time": "2018-04-18T01:25:07.791606Z",
     "start_time": "2018-04-18T01:25:07.776200Z"
    }
   },
   "outputs": [],
   "source": [
    "make_window_dirs(window_list, path=path)"
   ]
  },
  {
   "cell_type": "code",
   "execution_count": 7,
   "metadata": {
    "ExecuteTime": {
     "end_time": "2018-04-18T01:25:08.513999Z",
     "start_time": "2018-04-18T01:25:08.486505Z"
    }
   },
   "outputs": [],
   "source": [
    "for window in window_list:\n",
    "    with open(os.path.join(path, 'windows', window, 'disang.rest'), 'w') as file:\n",
    "        for restraint in DAT_restraint.instances:\n",
    "            if window[0] == 'a':\n",
    "                phase = 'attach'\n",
    "            if window[0] == 'p':\n",
    "                phase = 'pull'\n",
    "            if window[0] == 'r':\n",
    "                phase = 'release'\n",
    "            string = amber_restraint_line(restraint, phase, int(window[1:]))\n",
    "            if string is not None:\n",
    "                file.write(string)"
   ]
  },
  {
   "cell_type": "markdown",
   "metadata": {},
   "source": [
    "## Setup the simulation"
   ]
  },
  {
   "cell_type": "code",
   "execution_count": 8,
   "metadata": {
    "ExecuteTime": {
     "end_time": "2018-04-18T01:25:10.961001Z",
     "start_time": "2018-04-18T01:25:10.140832Z"
    }
   },
   "outputs": [],
   "source": [
    "for window in window_list:\n",
    "    \n",
    "    os.symlink('/home/dslochower/data/projects/pAPRika/test/cb6-but/cb6.frcmod', os.path.join(path, 'windows', window, 'cb6.frcmod'))\n",
    "    os.symlink('/home/dslochower/data/projects/pAPRika/test/cb6-but/cb6.mol2', os.path.join(path, 'windows', window, 'cb6.mol2'))\n",
    "    \n",
    "    os.symlink('/home/dslochower/data/projects/pAPRika/test/cb6-but/but.frcmod', os.path.join(path, 'windows', window, 'but.frcmod'))\n",
    "    os.symlink('/home/dslochower/data/projects/pAPRika/test/cb6-but/but.mol2', os.path.join(path, 'windows', window, 'but.mol2'))\n",
    "    \n",
    "    sys = System()\n",
    "    sys.template_file = '/home/dslochower/data/projects/pAPRika/test/cb6-but/tleap_gb.in'\n",
    "    sys.output_path = os.path.join(path, 'windows', window)\n",
    "    sys.output_prefix = 'vac'\n",
    "    sys.pbc_type = None\n",
    "    sys.loadpdb_file = '/home/dslochower/data/projects/pAPRika/test/cb6-but/cb6-but-minimized.pdb'\n",
    "    sys.build()"
   ]
  },
  {
   "cell_type": "markdown",
   "metadata": {},
   "source": [
    "# Run a quick minimization and MD in each window"
   ]
  },
  {
   "cell_type": "code",
   "execution_count": 9,
   "metadata": {
    "ExecuteTime": {
     "end_time": "2018-04-18T01:33:22.344530Z",
     "start_time": "2018-04-18T01:33:22.277251Z"
    }
   },
   "outputs": [
    {
     "name": "stderr",
     "output_type": "stream",
     "text": [
      "2018-04-18 11:28:44 AM Writing minimize.in\n",
      "2018-04-18 11:28:44 AM Running Minimization at ./local-add-middle-window/windows/a000\n",
      "2018-04-18 11:28:44 AM Exec line: sander -O -p vac.prmtop -ref minimize.inpcrd -c vac.rst7 -i minimize.in -o minimize.out -r minimize.rst7 -inf minimize.mdinfo\n",
      "2018-04-18 11:28:44 AM Minimization completed...\n",
      "2018-04-18 11:28:44 AM Writing minimize.in\n",
      "2018-04-18 11:28:44 AM Running Minimization at ./local-add-middle-window/windows/a001\n",
      "2018-04-18 11:28:44 AM Exec line: sander -O -p vac.prmtop -ref minimize.inpcrd -c vac.rst7 -i minimize.in -o minimize.out -r minimize.rst7 -inf minimize.mdinfo\n",
      "2018-04-18 11:28:44 AM Minimization completed...\n",
      "2018-04-18 11:28:44 AM Writing minimize.in\n",
      "2018-04-18 11:28:44 AM Running Minimization at ./local-add-middle-window/windows/a002\n",
      "2018-04-18 11:28:44 AM Exec line: sander -O -p vac.prmtop -ref minimize.inpcrd -c vac.rst7 -i minimize.in -o minimize.out -r minimize.rst7 -inf minimize.mdinfo\n",
      "2018-04-18 11:28:44 AM Minimization completed...\n",
      "2018-04-18 11:28:44 AM Writing minimize.in\n",
      "2018-04-18 11:28:44 AM Running Minimization at ./local-add-middle-window/windows/a003\n",
      "2018-04-18 11:28:44 AM Exec line: sander -O -p vac.prmtop -ref minimize.inpcrd -c vac.rst7 -i minimize.in -o minimize.out -r minimize.rst7 -inf minimize.mdinfo\n",
      "2018-04-18 11:28:44 AM Minimization completed...\n",
      "2018-04-18 11:28:44 AM Writing minimize.in\n",
      "2018-04-18 11:28:44 AM Running Minimization at ./local-add-middle-window/windows/p000\n",
      "2018-04-18 11:28:44 AM Exec line: sander -O -p vac.prmtop -ref minimize.inpcrd -c vac.rst7 -i minimize.in -o minimize.out -r minimize.rst7 -inf minimize.mdinfo\n",
      "2018-04-18 11:28:44 AM Minimization completed...\n",
      "2018-04-18 11:28:44 AM Writing minimize.in\n",
      "2018-04-18 11:28:44 AM Running Minimization at ./local-add-middle-window/windows/p001\n",
      "2018-04-18 11:28:44 AM Exec line: sander -O -p vac.prmtop -ref minimize.inpcrd -c vac.rst7 -i minimize.in -o minimize.out -r minimize.rst7 -inf minimize.mdinfo\n",
      "2018-04-18 11:28:44 AM Minimization completed...\n",
      "2018-04-18 11:28:44 AM Writing minimize.in\n",
      "2018-04-18 11:28:44 AM Running Minimization at ./local-add-middle-window/windows/p002\n",
      "2018-04-18 11:28:44 AM Exec line: sander -O -p vac.prmtop -ref minimize.inpcrd -c vac.rst7 -i minimize.in -o minimize.out -r minimize.rst7 -inf minimize.mdinfo\n",
      "2018-04-18 11:28:44 AM Minimization completed...\n",
      "2018-04-18 11:28:44 AM Writing minimize.in\n",
      "2018-04-18 11:28:44 AM Running Minimization at ./local-add-middle-window/windows/p003\n",
      "2018-04-18 11:28:44 AM Exec line: sander -O -p vac.prmtop -ref minimize.inpcrd -c vac.rst7 -i minimize.in -o minimize.out -r minimize.rst7 -inf minimize.mdinfo\n",
      "2018-04-18 11:28:44 AM Minimization completed...\n",
      "2018-04-18 11:28:44 AM Writing minimize.in\n",
      "2018-04-18 11:28:44 AM Running Minimization at ./local-add-middle-window/windows/p004\n",
      "2018-04-18 11:28:44 AM Exec line: sander -O -p vac.prmtop -ref minimize.inpcrd -c vac.rst7 -i minimize.in -o minimize.out -r minimize.rst7 -inf minimize.mdinfo\n",
      "2018-04-18 11:28:44 AM Minimization completed...\n",
      "2018-04-18 11:28:44 AM Writing minimize.in\n",
      "2018-04-18 11:28:44 AM Running Minimization at ./local-add-middle-window/windows/p005\n",
      "2018-04-18 11:28:44 AM Exec line: sander -O -p vac.prmtop -ref minimize.inpcrd -c vac.rst7 -i minimize.in -o minimize.out -r minimize.rst7 -inf minimize.mdinfo\n",
      "2018-04-18 11:28:44 AM Minimization completed...\n",
      "2018-04-18 11:28:44 AM Writing minimize.in\n",
      "2018-04-18 11:28:44 AM Running Minimization at ./local-add-middle-window/windows/p006\n",
      "2018-04-18 11:28:44 AM Exec line: sander -O -p vac.prmtop -ref minimize.inpcrd -c vac.rst7 -i minimize.in -o minimize.out -r minimize.rst7 -inf minimize.mdinfo\n",
      "2018-04-18 11:28:44 AM Minimization completed...\n",
      "2018-04-18 11:28:44 AM Writing minimize.in\n",
      "2018-04-18 11:28:44 AM Running Minimization at ./local-add-middle-window/windows/p007\n",
      "2018-04-18 11:28:44 AM Exec line: sander -O -p vac.prmtop -ref minimize.inpcrd -c vac.rst7 -i minimize.in -o minimize.out -r minimize.rst7 -inf minimize.mdinfo\n",
      "2018-04-18 11:28:44 AM Minimization completed...\n",
      "2018-04-18 11:28:44 AM Writing minimize.in\n",
      "2018-04-18 11:28:44 AM Running Minimization at ./local-add-middle-window/windows/p008\n",
      "2018-04-18 11:28:44 AM Exec line: sander -O -p vac.prmtop -ref minimize.inpcrd -c vac.rst7 -i minimize.in -o minimize.out -r minimize.rst7 -inf minimize.mdinfo\n",
      "2018-04-18 11:28:44 AM Minimization completed...\n",
      "2018-04-18 11:28:44 AM Writing minimize.in\n",
      "2018-04-18 11:28:44 AM Running Minimization at ./local-add-middle-window/windows/p009\n",
      "2018-04-18 11:28:44 AM Exec line: sander -O -p vac.prmtop -ref minimize.inpcrd -c vac.rst7 -i minimize.in -o minimize.out -r minimize.rst7 -inf minimize.mdinfo\n",
      "2018-04-18 11:28:44 AM Minimization completed...\n",
      "2018-04-18 11:28:44 AM Writing minimize.in\n",
      "2018-04-18 11:28:44 AM Running Minimization at ./local-add-middle-window/windows/p010\n",
      "2018-04-18 11:28:44 AM Exec line: sander -O -p vac.prmtop -ref minimize.inpcrd -c vac.rst7 -i minimize.in -o minimize.out -r minimize.rst7 -inf minimize.mdinfo\n",
      "2018-04-18 11:28:44 AM Minimization completed...\n",
      "2018-04-18 11:28:44 AM Writing minimize.in\n",
      "2018-04-18 11:28:44 AM Running Minimization at ./local-add-middle-window/windows/p011\n",
      "2018-04-18 11:28:44 AM Exec line: sander -O -p vac.prmtop -ref minimize.inpcrd -c vac.rst7 -i minimize.in -o minimize.out -r minimize.rst7 -inf minimize.mdinfo\n",
      "2018-04-18 11:28:44 AM Minimization completed...\n",
      "2018-04-18 11:28:44 AM Writing minimize.in\n",
      "2018-04-18 11:28:44 AM Running Minimization at ./local-add-middle-window/windows/p012\n",
      "2018-04-18 11:28:44 AM Exec line: sander -O -p vac.prmtop -ref minimize.inpcrd -c vac.rst7 -i minimize.in -o minimize.out -r minimize.rst7 -inf minimize.mdinfo\n",
      "2018-04-18 11:28:44 AM Minimization completed...\n",
      "2018-04-18 11:28:44 AM Writing minimize.in\n",
      "2018-04-18 11:28:44 AM Running Minimization at ./local-add-middle-window/windows/p013\n",
      "2018-04-18 11:28:44 AM Exec line: sander -O -p vac.prmtop -ref minimize.inpcrd -c vac.rst7 -i minimize.in -o minimize.out -r minimize.rst7 -inf minimize.mdinfo\n",
      "2018-04-18 11:28:44 AM Minimization completed...\n",
      "2018-04-18 11:28:44 AM Writing minimize.in\n",
      "2018-04-18 11:28:44 AM Running Minimization at ./local-add-middle-window/windows/p014\n",
      "2018-04-18 11:28:44 AM Exec line: sander -O -p vac.prmtop -ref minimize.inpcrd -c vac.rst7 -i minimize.in -o minimize.out -r minimize.rst7 -inf minimize.mdinfo\n",
      "2018-04-18 11:28:44 AM Minimization completed...\n",
      "2018-04-18 11:28:44 AM Writing minimize.in\n",
      "2018-04-18 11:28:44 AM Running Minimization at ./local-add-middle-window/windows/p015\n",
      "2018-04-18 11:28:44 AM Exec line: sander -O -p vac.prmtop -ref minimize.inpcrd -c vac.rst7 -i minimize.in -o minimize.out -r minimize.rst7 -inf minimize.mdinfo\n",
      "2018-04-18 11:28:44 AM Minimization completed...\n",
      "2018-04-18 11:28:44 AM Writing minimize.in\n",
      "2018-04-18 11:28:44 AM Running Minimization at ./local-add-middle-window/windows/p016\n",
      "2018-04-18 11:28:44 AM Exec line: sander -O -p vac.prmtop -ref minimize.inpcrd -c vac.rst7 -i minimize.in -o minimize.out -r minimize.rst7 -inf minimize.mdinfo\n",
      "2018-04-18 11:28:44 AM Minimization completed...\n",
      "2018-04-18 11:28:44 AM Writing minimize.in\n",
      "2018-04-18 11:28:44 AM Running Minimization at ./local-add-middle-window/windows/p017\n",
      "2018-04-18 11:28:44 AM Exec line: sander -O -p vac.prmtop -ref minimize.inpcrd -c vac.rst7 -i minimize.in -o minimize.out -r minimize.rst7 -inf minimize.mdinfo\n",
      "2018-04-18 11:28:44 AM Minimization completed...\n",
      "2018-04-18 11:28:44 AM Writing minimize.in\n",
      "2018-04-18 11:28:44 AM Running Minimization at ./local-add-middle-window/windows/p018\n",
      "2018-04-18 11:28:44 AM Exec line: sander -O -p vac.prmtop -ref minimize.inpcrd -c vac.rst7 -i minimize.in -o minimize.out -r minimize.rst7 -inf minimize.mdinfo\n",
      "2018-04-18 11:28:44 AM Minimization completed...\n"
     ]
    }
   ],
   "source": [
    "for window in window_list:\n",
    "    \n",
    "    gbsim = Simulation()\n",
    "    gbsim.path = os.path.join(path, 'windows', window)\n",
    "    gbsim.executable = 'sander'\n",
    "    gbsim.topology = 'vac.prmtop'\n",
    "    gbsim.prefix = 'minimize'\n",
    "    gbsim.inpcrd = 'vac.rst7'\n",
    "    gbsim.restraint_file = 'disang.rest'\n",
    "    gbsim.config_gb_min()\n",
    "    gbsim.cntrl['maxcyc'] = 1\n",
    "    gbsim.cntrl['ncyc'] = 1 \n",
    "    gbsim.run()"
   ]
  },
  {
   "cell_type": "code",
   "execution_count": 10,
   "metadata": {
    "ExecuteTime": {
     "end_time": "2018-04-18T01:41:18.625930Z",
     "start_time": "2018-04-18T01:41:18.213956Z"
    }
   },
   "outputs": [
    {
     "name": "stderr",
     "output_type": "stream",
     "text": [
      "2018-04-18 11:28:48 AM Writing md.in\n",
      "2018-04-18 11:28:48 AM Running MD at ./local-add-middle-window/windows/a000\n",
      "2018-04-18 11:28:48 AM Exec line: sander -O -p vac.prmtop -ref md.inpcrd -c minimize.rst7 -i md.in -o md.out -r md.rst7 -x md.nc -inf md.mdinfo -e md.mden\n",
      "2018-04-18 11:28:48 AM MD completed ...\n",
      "2018-04-18 11:28:48 AM Writing md.in\n",
      "2018-04-18 11:28:48 AM Running MD at ./local-add-middle-window/windows/a001\n",
      "2018-04-18 11:28:48 AM Exec line: sander -O -p vac.prmtop -ref md.inpcrd -c minimize.rst7 -i md.in -o md.out -r md.rst7 -x md.nc -inf md.mdinfo -e md.mden\n",
      "2018-04-18 11:28:48 AM MD completed ...\n",
      "2018-04-18 11:28:48 AM Writing md.in\n",
      "2018-04-18 11:28:48 AM Running MD at ./local-add-middle-window/windows/a002\n",
      "2018-04-18 11:28:48 AM Exec line: sander -O -p vac.prmtop -ref md.inpcrd -c minimize.rst7 -i md.in -o md.out -r md.rst7 -x md.nc -inf md.mdinfo -e md.mden\n",
      "2018-04-18 11:28:48 AM MD completed ...\n",
      "2018-04-18 11:28:48 AM Writing md.in\n",
      "2018-04-18 11:28:48 AM Running MD at ./local-add-middle-window/windows/a003\n",
      "2018-04-18 11:28:48 AM Exec line: sander -O -p vac.prmtop -ref md.inpcrd -c minimize.rst7 -i md.in -o md.out -r md.rst7 -x md.nc -inf md.mdinfo -e md.mden\n",
      "2018-04-18 11:28:48 AM MD completed ...\n",
      "2018-04-18 11:28:48 AM Writing md.in\n",
      "2018-04-18 11:28:48 AM Running MD at ./local-add-middle-window/windows/p000\n",
      "2018-04-18 11:28:48 AM Exec line: sander -O -p vac.prmtop -ref md.inpcrd -c minimize.rst7 -i md.in -o md.out -r md.rst7 -x md.nc -inf md.mdinfo -e md.mden\n",
      "2018-04-18 11:28:48 AM MD completed ...\n",
      "2018-04-18 11:28:48 AM Writing md.in\n",
      "2018-04-18 11:28:48 AM Running MD at ./local-add-middle-window/windows/p001\n",
      "2018-04-18 11:28:48 AM Exec line: sander -O -p vac.prmtop -ref md.inpcrd -c minimize.rst7 -i md.in -o md.out -r md.rst7 -x md.nc -inf md.mdinfo -e md.mden\n",
      "2018-04-18 11:28:48 AM MD completed ...\n",
      "2018-04-18 11:28:48 AM Writing md.in\n",
      "2018-04-18 11:28:48 AM Running MD at ./local-add-middle-window/windows/p002\n",
      "2018-04-18 11:28:48 AM Exec line: sander -O -p vac.prmtop -ref md.inpcrd -c minimize.rst7 -i md.in -o md.out -r md.rst7 -x md.nc -inf md.mdinfo -e md.mden\n",
      "2018-04-18 11:28:48 AM MD completed ...\n",
      "2018-04-18 11:28:48 AM Writing md.in\n",
      "2018-04-18 11:28:48 AM Running MD at ./local-add-middle-window/windows/p003\n",
      "2018-04-18 11:28:48 AM Exec line: sander -O -p vac.prmtop -ref md.inpcrd -c minimize.rst7 -i md.in -o md.out -r md.rst7 -x md.nc -inf md.mdinfo -e md.mden\n",
      "2018-04-18 11:28:48 AM MD completed ...\n",
      "2018-04-18 11:28:48 AM Writing md.in\n",
      "2018-04-18 11:28:48 AM Running MD at ./local-add-middle-window/windows/p004\n",
      "2018-04-18 11:28:48 AM Exec line: sander -O -p vac.prmtop -ref md.inpcrd -c minimize.rst7 -i md.in -o md.out -r md.rst7 -x md.nc -inf md.mdinfo -e md.mden\n",
      "2018-04-18 11:28:48 AM MD completed ...\n",
      "2018-04-18 11:28:48 AM Writing md.in\n",
      "2018-04-18 11:28:48 AM Running MD at ./local-add-middle-window/windows/p005\n",
      "2018-04-18 11:28:48 AM Exec line: sander -O -p vac.prmtop -ref md.inpcrd -c minimize.rst7 -i md.in -o md.out -r md.rst7 -x md.nc -inf md.mdinfo -e md.mden\n",
      "2018-04-18 11:28:48 AM MD completed ...\n",
      "2018-04-18 11:28:48 AM Writing md.in\n",
      "2018-04-18 11:28:48 AM Running MD at ./local-add-middle-window/windows/p006\n",
      "2018-04-18 11:28:48 AM Exec line: sander -O -p vac.prmtop -ref md.inpcrd -c minimize.rst7 -i md.in -o md.out -r md.rst7 -x md.nc -inf md.mdinfo -e md.mden\n",
      "2018-04-18 11:28:48 AM MD completed ...\n",
      "2018-04-18 11:28:48 AM Writing md.in\n",
      "2018-04-18 11:28:48 AM Running MD at ./local-add-middle-window/windows/p007\n",
      "2018-04-18 11:28:48 AM Exec line: sander -O -p vac.prmtop -ref md.inpcrd -c minimize.rst7 -i md.in -o md.out -r md.rst7 -x md.nc -inf md.mdinfo -e md.mden\n",
      "2018-04-18 11:28:48 AM MD completed ...\n",
      "2018-04-18 11:28:48 AM Writing md.in\n",
      "2018-04-18 11:28:48 AM Running MD at ./local-add-middle-window/windows/p008\n",
      "2018-04-18 11:28:48 AM Exec line: sander -O -p vac.prmtop -ref md.inpcrd -c minimize.rst7 -i md.in -o md.out -r md.rst7 -x md.nc -inf md.mdinfo -e md.mden\n",
      "2018-04-18 11:28:48 AM MD completed ...\n",
      "2018-04-18 11:28:48 AM Writing md.in\n",
      "2018-04-18 11:28:48 AM Running MD at ./local-add-middle-window/windows/p009\n",
      "2018-04-18 11:28:48 AM Exec line: sander -O -p vac.prmtop -ref md.inpcrd -c minimize.rst7 -i md.in -o md.out -r md.rst7 -x md.nc -inf md.mdinfo -e md.mden\n",
      "2018-04-18 11:28:48 AM MD completed ...\n",
      "2018-04-18 11:28:48 AM Writing md.in\n",
      "2018-04-18 11:28:48 AM Running MD at ./local-add-middle-window/windows/p010\n",
      "2018-04-18 11:28:48 AM Exec line: sander -O -p vac.prmtop -ref md.inpcrd -c minimize.rst7 -i md.in -o md.out -r md.rst7 -x md.nc -inf md.mdinfo -e md.mden\n",
      "2018-04-18 11:28:48 AM MD completed ...\n",
      "2018-04-18 11:28:48 AM Writing md.in\n",
      "2018-04-18 11:28:48 AM Running MD at ./local-add-middle-window/windows/p011\n",
      "2018-04-18 11:28:48 AM Exec line: sander -O -p vac.prmtop -ref md.inpcrd -c minimize.rst7 -i md.in -o md.out -r md.rst7 -x md.nc -inf md.mdinfo -e md.mden\n",
      "2018-04-18 11:28:48 AM MD completed ...\n",
      "2018-04-18 11:28:48 AM Writing md.in\n",
      "2018-04-18 11:28:48 AM Running MD at ./local-add-middle-window/windows/p012\n",
      "2018-04-18 11:28:48 AM Exec line: sander -O -p vac.prmtop -ref md.inpcrd -c minimize.rst7 -i md.in -o md.out -r md.rst7 -x md.nc -inf md.mdinfo -e md.mden\n",
      "2018-04-18 11:28:48 AM MD completed ...\n",
      "2018-04-18 11:28:48 AM Writing md.in\n",
      "2018-04-18 11:28:48 AM Running MD at ./local-add-middle-window/windows/p013\n",
      "2018-04-18 11:28:48 AM Exec line: sander -O -p vac.prmtop -ref md.inpcrd -c minimize.rst7 -i md.in -o md.out -r md.rst7 -x md.nc -inf md.mdinfo -e md.mden\n",
      "2018-04-18 11:28:49 AM MD completed ...\n",
      "2018-04-18 11:28:49 AM Writing md.in\n",
      "2018-04-18 11:28:49 AM Running MD at ./local-add-middle-window/windows/p014\n",
      "2018-04-18 11:28:49 AM Exec line: sander -O -p vac.prmtop -ref md.inpcrd -c minimize.rst7 -i md.in -o md.out -r md.rst7 -x md.nc -inf md.mdinfo -e md.mden\n",
      "2018-04-18 11:28:49 AM MD completed ...\n",
      "2018-04-18 11:28:49 AM Writing md.in\n",
      "2018-04-18 11:28:49 AM Running MD at ./local-add-middle-window/windows/p015\n",
      "2018-04-18 11:28:49 AM Exec line: sander -O -p vac.prmtop -ref md.inpcrd -c minimize.rst7 -i md.in -o md.out -r md.rst7 -x md.nc -inf md.mdinfo -e md.mden\n",
      "2018-04-18 11:28:49 AM MD completed ...\n",
      "2018-04-18 11:28:49 AM Writing md.in\n",
      "2018-04-18 11:28:49 AM Running MD at ./local-add-middle-window/windows/p016\n",
      "2018-04-18 11:28:49 AM Exec line: sander -O -p vac.prmtop -ref md.inpcrd -c minimize.rst7 -i md.in -o md.out -r md.rst7 -x md.nc -inf md.mdinfo -e md.mden\n",
      "2018-04-18 11:28:49 AM MD completed ...\n",
      "2018-04-18 11:28:49 AM Writing md.in\n",
      "2018-04-18 11:28:49 AM Running MD at ./local-add-middle-window/windows/p017\n",
      "2018-04-18 11:28:49 AM Exec line: sander -O -p vac.prmtop -ref md.inpcrd -c minimize.rst7 -i md.in -o md.out -r md.rst7 -x md.nc -inf md.mdinfo -e md.mden\n",
      "2018-04-18 11:28:49 AM MD completed ...\n",
      "2018-04-18 11:28:49 AM Writing md.in\n",
      "2018-04-18 11:28:49 AM Running MD at ./local-add-middle-window/windows/p018\n",
      "2018-04-18 11:28:49 AM Exec line: sander -O -p vac.prmtop -ref md.inpcrd -c minimize.rst7 -i md.in -o md.out -r md.rst7 -x md.nc -inf md.mdinfo -e md.mden\n",
      "2018-04-18 11:28:49 AM MD completed ...\n"
     ]
    }
   ],
   "source": [
    "for window in window_list:\n",
    "    \n",
    "    gbsim.config_gb_md()\n",
    "    gbsim.path = os.path.join(path, 'windows', window)\n",
    "    gbsim.prefix = 'md'\n",
    "    gbsim.inpcrd = 'minimize.rst7'\n",
    "    gbsim.cntrl['nstlim'] = 1\n",
    "    gbsim.cntrl['ntpr'] = 1\n",
    "    gbsim.cntrl['ig'] = 777\n",
    "    gbsim.run()"
   ]
  },
  {
   "cell_type": "markdown",
   "metadata": {},
   "source": [
    "# Calculate the free energy from the *19* windows..."
   ]
  },
  {
   "cell_type": "code",
   "execution_count": 12,
   "metadata": {},
   "outputs": [
    {
     "ename": "TypeError",
     "evalue": "'NoneType' object is not subscriptable",
     "output_type": "error",
     "traceback": [
      "\u001b[0;31m---------------------------------------------------------------------------\u001b[0m",
      "\u001b[0;31mTypeError\u001b[0m                                 Traceback (most recent call last)",
      "\u001b[0;32m<ipython-input-12-efbdf8020461>\u001b[0m in \u001b[0;36m<module>\u001b[0;34m()\u001b[0m\n\u001b[1;32m      4\u001b[0m \u001b[0mcalc\u001b[0m\u001b[0;34m.\u001b[0m\u001b[0mpath\u001b[0m \u001b[0;34m=\u001b[0m \u001b[0;34m'./local-add-middle-window/'\u001b[0m\u001b[0;34m\u001b[0m\u001b[0m\n\u001b[1;32m      5\u001b[0m \u001b[0mcalc\u001b[0m\u001b[0;34m.\u001b[0m\u001b[0mrestraint_list\u001b[0m \u001b[0;34m=\u001b[0m \u001b[0;34m[\u001b[0m\u001b[0mrest1\u001b[0m\u001b[0;34m,\u001b[0m \u001b[0mrest2\u001b[0m\u001b[0;34m,\u001b[0m \u001b[0mrest3\u001b[0m\u001b[0;34m]\u001b[0m\u001b[0;34m\u001b[0m\u001b[0m\n\u001b[0;32m----> 6\u001b[0;31m \u001b[0mcalc\u001b[0m\u001b[0;34m.\u001b[0m\u001b[0mcompute_free_energy\u001b[0m\u001b[0;34m(\u001b[0m\u001b[0;34m)\u001b[0m\u001b[0;34m\u001b[0m\u001b[0m\n\u001b[0m",
      "\u001b[0;32m~/hgst-3tb-data/projects/pAPRika/paprika/analysis.py\u001b[0m in \u001b[0;36mcompute_free_energy\u001b[0;34m(self)\u001b[0m\n\u001b[1;32m    340\u001b[0m                 \u001b[0;31m# mbar with blocking are currently supported.\u001b[0m\u001b[0;34m\u001b[0m\u001b[0;34m\u001b[0m\u001b[0m\n\u001b[1;32m    341\u001b[0m                 \u001b[0;32mif\u001b[0m \u001b[0mmethod\u001b[0m \u001b[0;34m==\u001b[0m \u001b[0;34m'mbar-block'\u001b[0m\u001b[0;34m:\u001b[0m\u001b[0;34m\u001b[0m\u001b[0m\n\u001b[0;32m--> 342\u001b[0;31m                     \u001b[0;32mif\u001b[0m \u001b[0msum\u001b[0m\u001b[0;34m(\u001b[0m\u001b[0mself\u001b[0m\u001b[0;34m.\u001b[0m\u001b[0mchanging_restraints\u001b[0m\u001b[0;34m[\u001b[0m\u001b[0mphase\u001b[0m\u001b[0;34m]\u001b[0m\u001b[0;34m)\u001b[0m \u001b[0;34m==\u001b[0m \u001b[0;36m0\u001b[0m\u001b[0;34m:\u001b[0m\u001b[0;34m\u001b[0m\u001b[0m\n\u001b[0m\u001b[1;32m    343\u001b[0m                         \u001b[0mlog\u001b[0m\u001b[0;34m.\u001b[0m\u001b[0mdebug\u001b[0m\u001b[0;34m(\u001b[0m\u001b[0;34m'Skipping free energy calculation for %s'\u001b[0m \u001b[0;34m%\u001b[0m \u001b[0mphase\u001b[0m\u001b[0;34m)\u001b[0m\u001b[0;34m\u001b[0m\u001b[0m\n\u001b[1;32m    344\u001b[0m                         \u001b[0;32mbreak\u001b[0m\u001b[0;34m\u001b[0m\u001b[0m\n",
      "\u001b[0;31mTypeError\u001b[0m: 'NoneType' object is not subscriptable"
     ]
    }
   ],
   "source": [
    "calc = fe_calc()\n",
    "calc.prmtop = 'vac.prmtop'\n",
    "calc.trajectory = 'md*.nc'\n",
    "calc.path = './local-add-middle-window/'\n",
    "calc.restraint_list = [rest1, rest2, rest3]\n",
    "calc.compute_free_energy()"
   ]
  },
  {
   "cell_type": "code",
   "execution_count": null,
   "metadata": {},
   "outputs": [],
   "source": []
  },
  {
   "cell_type": "markdown",
   "metadata": {},
   "source": [
    "# Add a window to the *middle* of pull that will be placed in a folder at the *end* of pull."
   ]
  },
  {
   "cell_type": "code",
   "execution_count": 132,
   "metadata": {},
   "outputs": [
    {
     "data": {
      "text/plain": [
       "array([  4.5       ,   5.27777778,   6.05555556, ...,  16.94444444,\n",
       "        17.72222222,  18.5       ])"
      ]
     },
     "execution_count": 132,
     "metadata": {},
     "output_type": "execute_result"
    }
   ],
   "source": [
    "rest1.phase['pull']['targets']"
   ]
  },
  {
   "cell_type": "code",
   "execution_count": 133,
   "metadata": {
    "ExecuteTime": {
     "end_time": "2018-04-18T01:44:17.955414Z",
     "start_time": "2018-04-18T01:44:17.940679Z"
    }
   },
   "outputs": [],
   "source": [
    "rest1.phase['pull']['targets'] = np.append(rest1.phase['pull']['targets'], 10)\n",
    "rest1.phase['pull']['force_constants'] = np.append(rest1.phase['pull']['force_constants'], 5)"
   ]
  },
  {
   "cell_type": "code",
   "execution_count": 134,
   "metadata": {
    "ExecuteTime": {
     "end_time": "2018-04-18T01:44:18.562484Z",
     "start_time": "2018-04-18T01:44:18.547518Z"
    }
   },
   "outputs": [
    {
     "data": {
      "text/plain": [
       "array([  4.5       ,   5.27777778,   6.05555556, ...,  17.72222222,\n",
       "        18.5       ,  10.        ])"
      ]
     },
     "execution_count": 134,
     "metadata": {},
     "output_type": "execute_result"
    }
   ],
   "source": [
    "rest1.phase['pull']['targets']"
   ]
  },
  {
   "cell_type": "markdown",
   "metadata": {},
   "source": [
    "Now, we also need to add an extra window to each of the two other restraints. I'll do that by repeating the last target value and force constants.\n",
    "\n",
    "This is basically okay because these restraints are not changing during the pulling phase."
   ]
  },
  {
   "cell_type": "code",
   "execution_count": 136,
   "metadata": {},
   "outputs": [],
   "source": [
    "rest2.phase['pull']['targets'] = np.append(rest2.phase['pull']['targets'], rest2.phase['pull']['targets'][-1])\n",
    "rest2.phase['pull']['force_constants'] = np.append(rest2.phase['pull']['force_constants'], rest2.phase['pull']['force_constants'][-1])"
   ]
  },
  {
   "cell_type": "code",
   "execution_count": 137,
   "metadata": {},
   "outputs": [],
   "source": [
    "rest3.phase['pull']['targets'] = np.append(rest3.phase['pull']['targets'], rest3.phase['pull']['targets'][-1])\n",
    "rest3.phase['pull']['force_constants'] = np.append(rest3.phase['pull']['force_constants'], rest3.phase['pull']['force_constants'][-1])"
   ]
  },
  {
   "cell_type": "code",
   "execution_count": 138,
   "metadata": {},
   "outputs": [
    {
     "name": "stdout",
     "output_type": "stream",
     "text": [
      "This restraint has 20 target values and 20 force constants...\n",
      "This restraint has 20 target values and 20 force constants...\n",
      "This restraint has 20 target values and 20 force constants...\n"
     ]
    }
   ],
   "source": [
    "for restraint in [rest1, rest2, rest3]:\n",
    "    targets = restraint.phase['pull']['targets']\n",
    "    fc = restraint.phase['pull']['force_constants']\n",
    "    print(f'This restraint has {len(targets)} target values and {len(fc)} force constants...')"
   ]
  },
  {
   "cell_type": "markdown",
   "metadata": {},
   "source": [
    "Now, we need to recreate `window_list`..."
   ]
  },
  {
   "cell_type": "code",
   "execution_count": 140,
   "metadata": {
    "ExecuteTime": {
     "end_time": "2018-04-18T01:44:38.796410Z",
     "start_time": "2018-04-18T01:44:38.773108Z"
    }
   },
   "outputs": [
    {
     "name": "stderr",
     "output_type": "stream",
     "text": [
      "2018-04-18 11:00:14 AM All restraints are \"continuous_apr\" style.\n",
      "2018-04-18 11:00:14 AM Restraints appear to be consistent\n"
     ]
    }
   ],
   "source": [
    "window_list = create_window_list([rest1, rest2, rest3])"
   ]
  },
  {
   "cell_type": "code",
   "execution_count": 141,
   "metadata": {},
   "outputs": [],
   "source": [
    "make_window_dirs([window_list[-1]], path=path)"
   ]
  },
  {
   "cell_type": "code",
   "execution_count": 145,
   "metadata": {},
   "outputs": [
    {
     "ename": "FileExistsError",
     "evalue": "[Errno 17] File exists: '/home/dslochower/data/projects/pAPRika/test/cb6-but/cb6.frcmod' -> './local-add-middle-window/windows/p019/cb6.frcmod'",
     "output_type": "error",
     "traceback": [
      "\u001b[0;31m---------------------------------------------------------------------------\u001b[0m",
      "\u001b[0;31mFileExistsError\u001b[0m                           Traceback (most recent call last)",
      "\u001b[0;32m<ipython-input-145-07ec260ea597>\u001b[0m in \u001b[0;36m<module>\u001b[0;34m()\u001b[0m\n\u001b[1;32m      1\u001b[0m \u001b[0;32mfor\u001b[0m \u001b[0mwindow\u001b[0m \u001b[0;32min\u001b[0m \u001b[0;34m[\u001b[0m\u001b[0mwindow_list\u001b[0m\u001b[0;34m[\u001b[0m\u001b[0;34m-\u001b[0m\u001b[0;36m1\u001b[0m\u001b[0;34m]\u001b[0m\u001b[0;34m]\u001b[0m\u001b[0;34m:\u001b[0m\u001b[0;34m\u001b[0m\u001b[0m\n\u001b[1;32m      2\u001b[0m \u001b[0;34m\u001b[0m\u001b[0m\n\u001b[0;32m----> 3\u001b[0;31m     \u001b[0mos\u001b[0m\u001b[0;34m.\u001b[0m\u001b[0msymlink\u001b[0m\u001b[0;34m(\u001b[0m\u001b[0;34m'/home/dslochower/data/projects/pAPRika/test/cb6-but/cb6.frcmod'\u001b[0m\u001b[0;34m,\u001b[0m \u001b[0mos\u001b[0m\u001b[0;34m.\u001b[0m\u001b[0mpath\u001b[0m\u001b[0;34m.\u001b[0m\u001b[0mjoin\u001b[0m\u001b[0;34m(\u001b[0m\u001b[0mpath\u001b[0m\u001b[0;34m,\u001b[0m \u001b[0;34m'windows'\u001b[0m\u001b[0;34m,\u001b[0m \u001b[0mwindow\u001b[0m\u001b[0;34m,\u001b[0m \u001b[0;34m'cb6.frcmod'\u001b[0m\u001b[0;34m)\u001b[0m\u001b[0;34m)\u001b[0m\u001b[0;34m\u001b[0m\u001b[0m\n\u001b[0m\u001b[1;32m      4\u001b[0m     \u001b[0mos\u001b[0m\u001b[0;34m.\u001b[0m\u001b[0msymlink\u001b[0m\u001b[0;34m(\u001b[0m\u001b[0;34m'/home/dslochower/data/projects/pAPRika/test/cb6-but/cb6.mol2'\u001b[0m\u001b[0;34m,\u001b[0m \u001b[0mos\u001b[0m\u001b[0;34m.\u001b[0m\u001b[0mpath\u001b[0m\u001b[0;34m.\u001b[0m\u001b[0mjoin\u001b[0m\u001b[0;34m(\u001b[0m\u001b[0mpath\u001b[0m\u001b[0;34m,\u001b[0m \u001b[0;34m'windows'\u001b[0m\u001b[0;34m,\u001b[0m \u001b[0mwindow\u001b[0m\u001b[0;34m,\u001b[0m \u001b[0;34m'cb6.mol2'\u001b[0m\u001b[0;34m)\u001b[0m\u001b[0;34m)\u001b[0m\u001b[0;34m\u001b[0m\u001b[0m\n\u001b[1;32m      5\u001b[0m \u001b[0;34m\u001b[0m\u001b[0m\n",
      "\u001b[0;31mFileExistsError\u001b[0m: [Errno 17] File exists: '/home/dslochower/data/projects/pAPRika/test/cb6-but/cb6.frcmod' -> './local-add-middle-window/windows/p019/cb6.frcmod'"
     ]
    }
   ],
   "source": [
    "for window in [window_list[-1]]:\n",
    "    \n",
    "    os.symlink('/home/dslochower/data/projects/pAPRika/test/cb6-but/cb6.frcmod', os.path.join(path, 'windows', window, 'cb6.frcmod'))\n",
    "    os.symlink('/home/dslochower/data/projects/pAPRika/test/cb6-but/cb6.mol2', os.path.join(path, 'windows', window, 'cb6.mol2'))\n",
    "    \n",
    "    os.symlink('/home/dslochower/data/projects/pAPRika/test/cb6-but/but.frcmod', os.path.join(path, 'windows', window, 'but.frcmod'))\n",
    "    os.symlink('/home/dslochower/data/projects/pAPRika/test/cb6-but/but.mol2', os.path.join(path, 'windows', window, 'but.mol2'))\n",
    "    \n",
    "    sys = System()\n",
    "    sys.template_file = '/home/dslochower/data/projects/pAPRika/test/cb6-but/tleap_gb.in'\n",
    "    sys.output_path = os.path.join(path, 'windows', window)\n",
    "    sys.output_prefix = 'vac'\n",
    "    sys.pbc_type = None\n",
    "    sys.loadpdb_file = '/home/dslochower/data/projects/pAPRika/test/cb6-but/cb6-but-minimized.pdb'\n",
    "    sys.build()"
   ]
  },
  {
   "cell_type": "code",
   "execution_count": 147,
   "metadata": {},
   "outputs": [],
   "source": [
    "for window in window_list:\n",
    "    with open(os.path.join(path, 'windows', window, 'disang.rest'), 'w') as file:\n",
    "        for restraint in [rest1, rest2, rest3]:\n",
    "            if window[0] == 'a':\n",
    "                phase = 'attach'\n",
    "            if window[0] == 'p':\n",
    "                phase = 'pull'\n",
    "            if window[0] == 'r':\n",
    "                phase = 'release'\n",
    "            string = amber_restraint_line(restraint, phase, int(window[1:]))\n",
    "            if string is not None:\n",
    "                file.write(string)"
   ]
  },
  {
   "cell_type": "code",
   "execution_count": 148,
   "metadata": {},
   "outputs": [
    {
     "name": "stderr",
     "output_type": "stream",
     "text": [
      "2018-04-18 11:01:54 AM Writing minimize.in\n",
      "2018-04-18 11:01:54 AM Running Minimization at ./local-add-middle-window/windows/a000\n",
      "2018-04-18 11:01:54 AM Exec line: sander -O -p vac.prmtop -ref minimize.inpcrd -c vac.rst7 -i minimize.in -o minimize.out -r minimize.rst7 -inf minimize.mdinfo\n",
      "2018-04-18 11:01:54 AM Minimization completed...\n",
      "2018-04-18 11:01:54 AM Writing minimize.in\n",
      "2018-04-18 11:01:54 AM Running Minimization at ./local-add-middle-window/windows/a001\n",
      "2018-04-18 11:01:54 AM Exec line: sander -O -p vac.prmtop -ref minimize.inpcrd -c vac.rst7 -i minimize.in -o minimize.out -r minimize.rst7 -inf minimize.mdinfo\n",
      "2018-04-18 11:01:54 AM Minimization completed...\n",
      "2018-04-18 11:01:54 AM Writing minimize.in\n",
      "2018-04-18 11:01:54 AM Running Minimization at ./local-add-middle-window/windows/a002\n",
      "2018-04-18 11:01:54 AM Exec line: sander -O -p vac.prmtop -ref minimize.inpcrd -c vac.rst7 -i minimize.in -o minimize.out -r minimize.rst7 -inf minimize.mdinfo\n",
      "2018-04-18 11:01:54 AM Minimization completed...\n",
      "2018-04-18 11:01:54 AM Writing minimize.in\n",
      "2018-04-18 11:01:54 AM Running Minimization at ./local-add-middle-window/windows/a003\n",
      "2018-04-18 11:01:54 AM Exec line: sander -O -p vac.prmtop -ref minimize.inpcrd -c vac.rst7 -i minimize.in -o minimize.out -r minimize.rst7 -inf minimize.mdinfo\n",
      "2018-04-18 11:01:54 AM Minimization completed...\n",
      "2018-04-18 11:01:54 AM Writing minimize.in\n",
      "2018-04-18 11:01:54 AM Running Minimization at ./local-add-middle-window/windows/p000\n",
      "2018-04-18 11:01:54 AM Exec line: sander -O -p vac.prmtop -ref minimize.inpcrd -c vac.rst7 -i minimize.in -o minimize.out -r minimize.rst7 -inf minimize.mdinfo\n",
      "2018-04-18 11:01:54 AM Minimization completed...\n",
      "2018-04-18 11:01:54 AM Writing minimize.in\n",
      "2018-04-18 11:01:54 AM Running Minimization at ./local-add-middle-window/windows/p001\n",
      "2018-04-18 11:01:54 AM Exec line: sander -O -p vac.prmtop -ref minimize.inpcrd -c vac.rst7 -i minimize.in -o minimize.out -r minimize.rst7 -inf minimize.mdinfo\n",
      "2018-04-18 11:01:54 AM Minimization completed...\n",
      "2018-04-18 11:01:54 AM Writing minimize.in\n",
      "2018-04-18 11:01:54 AM Running Minimization at ./local-add-middle-window/windows/p002\n",
      "2018-04-18 11:01:54 AM Exec line: sander -O -p vac.prmtop -ref minimize.inpcrd -c vac.rst7 -i minimize.in -o minimize.out -r minimize.rst7 -inf minimize.mdinfo\n",
      "2018-04-18 11:01:54 AM Minimization completed...\n",
      "2018-04-18 11:01:54 AM Writing minimize.in\n",
      "2018-04-18 11:01:54 AM Running Minimization at ./local-add-middle-window/windows/p003\n",
      "2018-04-18 11:01:54 AM Exec line: sander -O -p vac.prmtop -ref minimize.inpcrd -c vac.rst7 -i minimize.in -o minimize.out -r minimize.rst7 -inf minimize.mdinfo\n",
      "2018-04-18 11:01:54 AM Minimization completed...\n",
      "2018-04-18 11:01:54 AM Writing minimize.in\n",
      "2018-04-18 11:01:54 AM Running Minimization at ./local-add-middle-window/windows/p004\n",
      "2018-04-18 11:01:54 AM Exec line: sander -O -p vac.prmtop -ref minimize.inpcrd -c vac.rst7 -i minimize.in -o minimize.out -r minimize.rst7 -inf minimize.mdinfo\n",
      "2018-04-18 11:01:54 AM Minimization completed...\n",
      "2018-04-18 11:01:54 AM Writing minimize.in\n",
      "2018-04-18 11:01:54 AM Running Minimization at ./local-add-middle-window/windows/p005\n",
      "2018-04-18 11:01:54 AM Exec line: sander -O -p vac.prmtop -ref minimize.inpcrd -c vac.rst7 -i minimize.in -o minimize.out -r minimize.rst7 -inf minimize.mdinfo\n",
      "2018-04-18 11:01:54 AM Minimization completed...\n",
      "2018-04-18 11:01:54 AM Writing minimize.in\n",
      "2018-04-18 11:01:54 AM Running Minimization at ./local-add-middle-window/windows/p006\n",
      "2018-04-18 11:01:54 AM Exec line: sander -O -p vac.prmtop -ref minimize.inpcrd -c vac.rst7 -i minimize.in -o minimize.out -r minimize.rst7 -inf minimize.mdinfo\n",
      "2018-04-18 11:01:54 AM Minimization completed...\n",
      "2018-04-18 11:01:54 AM Writing minimize.in\n",
      "2018-04-18 11:01:54 AM Running Minimization at ./local-add-middle-window/windows/p007\n",
      "2018-04-18 11:01:54 AM Exec line: sander -O -p vac.prmtop -ref minimize.inpcrd -c vac.rst7 -i minimize.in -o minimize.out -r minimize.rst7 -inf minimize.mdinfo\n",
      "2018-04-18 11:01:54 AM Minimization completed...\n",
      "2018-04-18 11:01:54 AM Writing minimize.in\n",
      "2018-04-18 11:01:54 AM Running Minimization at ./local-add-middle-window/windows/p008\n",
      "2018-04-18 11:01:54 AM Exec line: sander -O -p vac.prmtop -ref minimize.inpcrd -c vac.rst7 -i minimize.in -o minimize.out -r minimize.rst7 -inf minimize.mdinfo\n",
      "2018-04-18 11:01:54 AM Minimization completed...\n",
      "2018-04-18 11:01:54 AM Writing minimize.in\n",
      "2018-04-18 11:01:54 AM Running Minimization at ./local-add-middle-window/windows/p009\n",
      "2018-04-18 11:01:54 AM Exec line: sander -O -p vac.prmtop -ref minimize.inpcrd -c vac.rst7 -i minimize.in -o minimize.out -r minimize.rst7 -inf minimize.mdinfo\n",
      "2018-04-18 11:01:54 AM Minimization completed...\n",
      "2018-04-18 11:01:54 AM Writing minimize.in\n",
      "2018-04-18 11:01:54 AM Running Minimization at ./local-add-middle-window/windows/p010\n",
      "2018-04-18 11:01:54 AM Exec line: sander -O -p vac.prmtop -ref minimize.inpcrd -c vac.rst7 -i minimize.in -o minimize.out -r minimize.rst7 -inf minimize.mdinfo\n",
      "2018-04-18 11:01:54 AM Minimization completed...\n",
      "2018-04-18 11:01:54 AM Writing minimize.in\n",
      "2018-04-18 11:01:54 AM Running Minimization at ./local-add-middle-window/windows/p011\n",
      "2018-04-18 11:01:54 AM Exec line: sander -O -p vac.prmtop -ref minimize.inpcrd -c vac.rst7 -i minimize.in -o minimize.out -r minimize.rst7 -inf minimize.mdinfo\n",
      "2018-04-18 11:01:54 AM Minimization completed...\n",
      "2018-04-18 11:01:54 AM Writing minimize.in\n",
      "2018-04-18 11:01:54 AM Running Minimization at ./local-add-middle-window/windows/p012\n",
      "2018-04-18 11:01:54 AM Exec line: sander -O -p vac.prmtop -ref minimize.inpcrd -c vac.rst7 -i minimize.in -o minimize.out -r minimize.rst7 -inf minimize.mdinfo\n",
      "2018-04-18 11:01:54 AM Minimization completed...\n",
      "2018-04-18 11:01:54 AM Writing minimize.in\n",
      "2018-04-18 11:01:54 AM Running Minimization at ./local-add-middle-window/windows/p013\n",
      "2018-04-18 11:01:54 AM Exec line: sander -O -p vac.prmtop -ref minimize.inpcrd -c vac.rst7 -i minimize.in -o minimize.out -r minimize.rst7 -inf minimize.mdinfo\n",
      "2018-04-18 11:01:54 AM Minimization completed...\n",
      "2018-04-18 11:01:54 AM Writing minimize.in\n",
      "2018-04-18 11:01:54 AM Running Minimization at ./local-add-middle-window/windows/p014\n",
      "2018-04-18 11:01:54 AM Exec line: sander -O -p vac.prmtop -ref minimize.inpcrd -c vac.rst7 -i minimize.in -o minimize.out -r minimize.rst7 -inf minimize.mdinfo\n",
      "2018-04-18 11:01:54 AM Minimization completed...\n",
      "2018-04-18 11:01:54 AM Writing minimize.in\n",
      "2018-04-18 11:01:54 AM Running Minimization at ./local-add-middle-window/windows/p015\n",
      "2018-04-18 11:01:54 AM Exec line: sander -O -p vac.prmtop -ref minimize.inpcrd -c vac.rst7 -i minimize.in -o minimize.out -r minimize.rst7 -inf minimize.mdinfo\n",
      "2018-04-18 11:01:54 AM Minimization completed...\n",
      "2018-04-18 11:01:54 AM Writing minimize.in\n",
      "2018-04-18 11:01:54 AM Running Minimization at ./local-add-middle-window/windows/p016\n",
      "2018-04-18 11:01:54 AM Exec line: sander -O -p vac.prmtop -ref minimize.inpcrd -c vac.rst7 -i minimize.in -o minimize.out -r minimize.rst7 -inf minimize.mdinfo\n",
      "2018-04-18 11:01:54 AM Minimization completed...\n",
      "2018-04-18 11:01:54 AM Writing minimize.in\n",
      "2018-04-18 11:01:54 AM Running Minimization at ./local-add-middle-window/windows/p017\n",
      "2018-04-18 11:01:54 AM Exec line: sander -O -p vac.prmtop -ref minimize.inpcrd -c vac.rst7 -i minimize.in -o minimize.out -r minimize.rst7 -inf minimize.mdinfo\n",
      "2018-04-18 11:01:54 AM Minimization completed...\n",
      "2018-04-18 11:01:54 AM Writing minimize.in\n",
      "2018-04-18 11:01:54 AM Running Minimization at ./local-add-middle-window/windows/p018\n",
      "2018-04-18 11:01:54 AM Exec line: sander -O -p vac.prmtop -ref minimize.inpcrd -c vac.rst7 -i minimize.in -o minimize.out -r minimize.rst7 -inf minimize.mdinfo\n",
      "2018-04-18 11:01:54 AM Minimization completed...\n",
      "2018-04-18 11:01:54 AM Writing minimize.in\n",
      "2018-04-18 11:01:54 AM Running Minimization at ./local-add-middle-window/windows/p019\n",
      "2018-04-18 11:01:54 AM Exec line: sander -O -p vac.prmtop -ref minimize.inpcrd -c vac.rst7 -i minimize.in -o minimize.out -r minimize.rst7 -inf minimize.mdinfo\n",
      "2018-04-18 11:01:54 AM Minimization completed...\n"
     ]
    }
   ],
   "source": [
    "for window in window_list:\n",
    "    \n",
    "    gbsim = Simulation()\n",
    "    gbsim.path = os.path.join(path, 'windows', window)\n",
    "    gbsim.executable = 'sander'\n",
    "    gbsim.topology = 'vac.prmtop'\n",
    "    gbsim.prefix = 'minimize'\n",
    "    gbsim.inpcrd = 'vac.rst7'\n",
    "    gbsim.restraint_file = 'disang.rest'\n",
    "    gbsim.config_gb_min()\n",
    "    gbsim.cntrl['maxcyc'] = 1\n",
    "    gbsim.cntrl['ncyc'] = 1 \n",
    "    gbsim.run()"
   ]
  },
  {
   "cell_type": "code",
   "execution_count": 149,
   "metadata": {},
   "outputs": [
    {
     "name": "stderr",
     "output_type": "stream",
     "text": [
      "2018-04-18 11:01:59 AM Writing md.in\n",
      "2018-04-18 11:01:59 AM Running MD at ./local-add-middle-window/windows/a000\n",
      "2018-04-18 11:01:59 AM Exec line: sander -O -p vac.prmtop -ref md.inpcrd -c minimize.rst7 -i md.in -o md.out -r md.rst7 -x md.nc -inf md.mdinfo -e md.mden\n",
      "2018-04-18 11:01:59 AM MD completed ...\n",
      "2018-04-18 11:01:59 AM Writing md.in\n",
      "2018-04-18 11:01:59 AM Running MD at ./local-add-middle-window/windows/a001\n",
      "2018-04-18 11:01:59 AM Exec line: sander -O -p vac.prmtop -ref md.inpcrd -c minimize.rst7 -i md.in -o md.out -r md.rst7 -x md.nc -inf md.mdinfo -e md.mden\n",
      "2018-04-18 11:01:59 AM MD completed ...\n",
      "2018-04-18 11:01:59 AM Writing md.in\n",
      "2018-04-18 11:01:59 AM Running MD at ./local-add-middle-window/windows/a002\n",
      "2018-04-18 11:01:59 AM Exec line: sander -O -p vac.prmtop -ref md.inpcrd -c minimize.rst7 -i md.in -o md.out -r md.rst7 -x md.nc -inf md.mdinfo -e md.mden\n",
      "2018-04-18 11:01:59 AM MD completed ...\n",
      "2018-04-18 11:01:59 AM Writing md.in\n",
      "2018-04-18 11:01:59 AM Running MD at ./local-add-middle-window/windows/a003\n",
      "2018-04-18 11:01:59 AM Exec line: sander -O -p vac.prmtop -ref md.inpcrd -c minimize.rst7 -i md.in -o md.out -r md.rst7 -x md.nc -inf md.mdinfo -e md.mden\n",
      "2018-04-18 11:01:59 AM MD completed ...\n",
      "2018-04-18 11:01:59 AM Writing md.in\n",
      "2018-04-18 11:01:59 AM Running MD at ./local-add-middle-window/windows/p000\n",
      "2018-04-18 11:01:59 AM Exec line: sander -O -p vac.prmtop -ref md.inpcrd -c minimize.rst7 -i md.in -o md.out -r md.rst7 -x md.nc -inf md.mdinfo -e md.mden\n",
      "2018-04-18 11:01:59 AM MD completed ...\n",
      "2018-04-18 11:01:59 AM Writing md.in\n",
      "2018-04-18 11:01:59 AM Running MD at ./local-add-middle-window/windows/p001\n",
      "2018-04-18 11:01:59 AM Exec line: sander -O -p vac.prmtop -ref md.inpcrd -c minimize.rst7 -i md.in -o md.out -r md.rst7 -x md.nc -inf md.mdinfo -e md.mden\n",
      "2018-04-18 11:01:59 AM MD completed ...\n",
      "2018-04-18 11:01:59 AM Writing md.in\n",
      "2018-04-18 11:01:59 AM Running MD at ./local-add-middle-window/windows/p002\n",
      "2018-04-18 11:01:59 AM Exec line: sander -O -p vac.prmtop -ref md.inpcrd -c minimize.rst7 -i md.in -o md.out -r md.rst7 -x md.nc -inf md.mdinfo -e md.mden\n",
      "2018-04-18 11:01:59 AM MD completed ...\n",
      "2018-04-18 11:01:59 AM Writing md.in\n",
      "2018-04-18 11:01:59 AM Running MD at ./local-add-middle-window/windows/p003\n",
      "2018-04-18 11:01:59 AM Exec line: sander -O -p vac.prmtop -ref md.inpcrd -c minimize.rst7 -i md.in -o md.out -r md.rst7 -x md.nc -inf md.mdinfo -e md.mden\n",
      "2018-04-18 11:01:59 AM MD completed ...\n",
      "2018-04-18 11:01:59 AM Writing md.in\n",
      "2018-04-18 11:01:59 AM Running MD at ./local-add-middle-window/windows/p004\n",
      "2018-04-18 11:01:59 AM Exec line: sander -O -p vac.prmtop -ref md.inpcrd -c minimize.rst7 -i md.in -o md.out -r md.rst7 -x md.nc -inf md.mdinfo -e md.mden\n",
      "2018-04-18 11:01:59 AM MD completed ...\n",
      "2018-04-18 11:01:59 AM Writing md.in\n",
      "2018-04-18 11:01:59 AM Running MD at ./local-add-middle-window/windows/p005\n",
      "2018-04-18 11:01:59 AM Exec line: sander -O -p vac.prmtop -ref md.inpcrd -c minimize.rst7 -i md.in -o md.out -r md.rst7 -x md.nc -inf md.mdinfo -e md.mden\n",
      "2018-04-18 11:01:59 AM MD completed ...\n",
      "2018-04-18 11:01:59 AM Writing md.in\n",
      "2018-04-18 11:01:59 AM Running MD at ./local-add-middle-window/windows/p006\n",
      "2018-04-18 11:01:59 AM Exec line: sander -O -p vac.prmtop -ref md.inpcrd -c minimize.rst7 -i md.in -o md.out -r md.rst7 -x md.nc -inf md.mdinfo -e md.mden\n",
      "2018-04-18 11:01:59 AM MD completed ...\n",
      "2018-04-18 11:01:59 AM Writing md.in\n",
      "2018-04-18 11:01:59 AM Running MD at ./local-add-middle-window/windows/p007\n",
      "2018-04-18 11:01:59 AM Exec line: sander -O -p vac.prmtop -ref md.inpcrd -c minimize.rst7 -i md.in -o md.out -r md.rst7 -x md.nc -inf md.mdinfo -e md.mden\n",
      "2018-04-18 11:01:59 AM MD completed ...\n",
      "2018-04-18 11:01:59 AM Writing md.in\n",
      "2018-04-18 11:01:59 AM Running MD at ./local-add-middle-window/windows/p008\n",
      "2018-04-18 11:01:59 AM Exec line: sander -O -p vac.prmtop -ref md.inpcrd -c minimize.rst7 -i md.in -o md.out -r md.rst7 -x md.nc -inf md.mdinfo -e md.mden\n",
      "2018-04-18 11:01:59 AM MD completed ...\n",
      "2018-04-18 11:01:59 AM Writing md.in\n",
      "2018-04-18 11:01:59 AM Running MD at ./local-add-middle-window/windows/p009\n",
      "2018-04-18 11:01:59 AM Exec line: sander -O -p vac.prmtop -ref md.inpcrd -c minimize.rst7 -i md.in -o md.out -r md.rst7 -x md.nc -inf md.mdinfo -e md.mden\n",
      "2018-04-18 11:01:59 AM MD completed ...\n",
      "2018-04-18 11:01:59 AM Writing md.in\n",
      "2018-04-18 11:01:59 AM Running MD at ./local-add-middle-window/windows/p010\n",
      "2018-04-18 11:01:59 AM Exec line: sander -O -p vac.prmtop -ref md.inpcrd -c minimize.rst7 -i md.in -o md.out -r md.rst7 -x md.nc -inf md.mdinfo -e md.mden\n",
      "2018-04-18 11:01:59 AM MD completed ...\n",
      "2018-04-18 11:01:59 AM Writing md.in\n",
      "2018-04-18 11:01:59 AM Running MD at ./local-add-middle-window/windows/p011\n",
      "2018-04-18 11:01:59 AM Exec line: sander -O -p vac.prmtop -ref md.inpcrd -c minimize.rst7 -i md.in -o md.out -r md.rst7 -x md.nc -inf md.mdinfo -e md.mden\n",
      "2018-04-18 11:01:59 AM MD completed ...\n",
      "2018-04-18 11:01:59 AM Writing md.in\n",
      "2018-04-18 11:01:59 AM Running MD at ./local-add-middle-window/windows/p012\n",
      "2018-04-18 11:01:59 AM Exec line: sander -O -p vac.prmtop -ref md.inpcrd -c minimize.rst7 -i md.in -o md.out -r md.rst7 -x md.nc -inf md.mdinfo -e md.mden\n",
      "2018-04-18 11:01:59 AM MD completed ...\n",
      "2018-04-18 11:01:59 AM Writing md.in\n",
      "2018-04-18 11:01:59 AM Running MD at ./local-add-middle-window/windows/p013\n",
      "2018-04-18 11:01:59 AM Exec line: sander -O -p vac.prmtop -ref md.inpcrd -c minimize.rst7 -i md.in -o md.out -r md.rst7 -x md.nc -inf md.mdinfo -e md.mden\n",
      "2018-04-18 11:01:59 AM MD completed ...\n",
      "2018-04-18 11:01:59 AM Writing md.in\n",
      "2018-04-18 11:01:59 AM Running MD at ./local-add-middle-window/windows/p014\n",
      "2018-04-18 11:01:59 AM Exec line: sander -O -p vac.prmtop -ref md.inpcrd -c minimize.rst7 -i md.in -o md.out -r md.rst7 -x md.nc -inf md.mdinfo -e md.mden\n",
      "2018-04-18 11:01:59 AM MD completed ...\n",
      "2018-04-18 11:01:59 AM Writing md.in\n",
      "2018-04-18 11:01:59 AM Running MD at ./local-add-middle-window/windows/p015\n",
      "2018-04-18 11:01:59 AM Exec line: sander -O -p vac.prmtop -ref md.inpcrd -c minimize.rst7 -i md.in -o md.out -r md.rst7 -x md.nc -inf md.mdinfo -e md.mden\n",
      "2018-04-18 11:01:59 AM MD completed ...\n",
      "2018-04-18 11:01:59 AM Writing md.in\n",
      "2018-04-18 11:01:59 AM Running MD at ./local-add-middle-window/windows/p016\n",
      "2018-04-18 11:01:59 AM Exec line: sander -O -p vac.prmtop -ref md.inpcrd -c minimize.rst7 -i md.in -o md.out -r md.rst7 -x md.nc -inf md.mdinfo -e md.mden\n",
      "2018-04-18 11:01:59 AM MD completed ...\n",
      "2018-04-18 11:01:59 AM Writing md.in\n",
      "2018-04-18 11:01:59 AM Running MD at ./local-add-middle-window/windows/p017\n",
      "2018-04-18 11:01:59 AM Exec line: sander -O -p vac.prmtop -ref md.inpcrd -c minimize.rst7 -i md.in -o md.out -r md.rst7 -x md.nc -inf md.mdinfo -e md.mden\n",
      "2018-04-18 11:01:59 AM MD completed ...\n",
      "2018-04-18 11:01:59 AM Writing md.in\n",
      "2018-04-18 11:01:59 AM Running MD at ./local-add-middle-window/windows/p018\n",
      "2018-04-18 11:01:59 AM Exec line: sander -O -p vac.prmtop -ref md.inpcrd -c minimize.rst7 -i md.in -o md.out -r md.rst7 -x md.nc -inf md.mdinfo -e md.mden\n",
      "2018-04-18 11:01:59 AM MD completed ...\n",
      "2018-04-18 11:01:59 AM Writing md.in\n",
      "2018-04-18 11:01:59 AM Running MD at ./local-add-middle-window/windows/p019\n",
      "2018-04-18 11:01:59 AM Exec line: sander -O -p vac.prmtop -ref md.inpcrd -c minimize.rst7 -i md.in -o md.out -r md.rst7 -x md.nc -inf md.mdinfo -e md.mden\n",
      "2018-04-18 11:01:59 AM MD completed ...\n"
     ]
    }
   ],
   "source": [
    "for window in window_list:\n",
    "    \n",
    "    gbsim.config_gb_md()\n",
    "    gbsim.path = os.path.join(path, 'windows', window)\n",
    "    gbsim.prefix = 'md'\n",
    "    gbsim.inpcrd = 'minimize.rst7'\n",
    "    gbsim.cntrl['nstlim'] = 1\n",
    "    gbsim.cntrl['ntpr'] = 1\n",
    "    gbsim.cntrl['ig'] = 777\n",
    "    gbsim.run()"
   ]
  },
  {
   "cell_type": "markdown",
   "metadata": {},
   "source": [
    "I should have run the analysis before adding the window... damn."
   ]
  },
  {
   "cell_type": "code",
   "execution_count": null,
   "metadata": {},
   "outputs": [],
   "source": []
  }
 ],
 "metadata": {
  "kernelspec": {
   "display_name": "Python [conda env:smirnoff-paprika]",
   "language": "python",
   "name": "conda-env-smirnoff-paprika-py"
  },
  "language_info": {
   "codemirror_mode": {
    "name": "ipython",
    "version": 3
   },
   "file_extension": ".py",
   "mimetype": "text/x-python",
   "name": "python",
   "nbconvert_exporter": "python",
   "pygments_lexer": "ipython3",
   "version": "3.6.4"
  }
 },
 "nbformat": 4,
 "nbformat_minor": 2
}
