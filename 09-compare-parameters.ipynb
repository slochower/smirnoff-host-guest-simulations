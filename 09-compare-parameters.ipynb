{
 "cells": [
  {
   "cell_type": "code",
   "execution_count": 11,
   "metadata": {
    "ExecuteTime": {
     "end_time": "2018-10-30T23:17:23.433831Z",
     "start_time": "2018-10-30T23:17:21.526634Z"
    }
   },
   "outputs": [
    {
     "name": "stdout",
     "output_type": "stream",
     "text": [
      "The autoreload extension is already loaded. To reload it, use:\n",
      "  %reload_ext autoreload\n",
      "The blackcellmagic extension is already loaded. To reload it, use:\n",
      "  %reload_ext blackcellmagic\n"
     ]
    }
   ],
   "source": [
    "import parmed as pmd\n",
    "import numpy as np\n",
    "import os\n",
    "import pandas as pd\n",
    "\n",
    "import matplotlib as mpl\n",
    "import matplotlib.pyplot as plt\n",
    "from matplotlib.gridspec import GridSpec\n",
    "from matplotlib.colors import colorConverter\n",
    "import seaborn as sns\n",
    "\n",
    "%load_ext autoreload\n",
    "%autoreload 2\n",
    "%load_ext blackcellmagic\n",
    "%matplotlib inline"
   ]
  },
  {
   "cell_type": "code",
   "execution_count": 3,
   "metadata": {
    "ExecuteTime": {
     "end_time": "2018-10-30T23:17:23.463578Z",
     "start_time": "2018-10-30T23:17:23.436402Z"
    }
   },
   "outputs": [],
   "source": [
    "from adjustText import adjust_text\n",
    "import plotting"
   ]
  },
  {
   "cell_type": "code",
   "execution_count": 4,
   "metadata": {
    "ExecuteTime": {
     "end_time": "2018-10-30T23:18:11.411430Z",
     "start_time": "2018-10-30T23:18:11.152485Z"
    }
   },
   "outputs": [],
   "source": [
    "smirnoff = pmd.load_file(\"systems/a-bam-p/smirnoff/hg.prmtop\")\n",
    "smirnoff = smirnoff[\":MGO\"]"
   ]
  },
  {
   "cell_type": "code",
   "execution_count": 5,
   "metadata": {
    "ExecuteTime": {
     "end_time": "2018-10-30T23:21:15.929477Z",
     "start_time": "2018-10-30T23:21:15.790450Z"
    }
   },
   "outputs": [],
   "source": [
    "bgbg_tip3p = pmd.load_file(\"systems/a-bam-p/bgbg-tip3p/hg.topo\")\n",
    "bgbg_tip3p = bgbg_tip3p[\":MGO\"]"
   ]
  },
  {
   "cell_type": "code",
   "execution_count": 6,
   "metadata": {
    "ExecuteTime": {
     "end_time": "2018-10-30T23:25:03.748151Z",
     "start_time": "2018-10-30T23:25:03.708627Z"
    }
   },
   "outputs": [],
   "source": [
    "bg2bg2_tip3p = pmd.load_file(\"systems/a-bam-p/bg2bg2-tip3p/vac.topo\")\n",
    "bg2bg2_tip3p = bg2bg2_tip3p[\":MGO\"]"
   ]
  },
  {
   "cell_type": "code",
   "execution_count": 8,
   "metadata": {
    "ExecuteTime": {
     "end_time": "2018-10-31T00:05:16.472367Z",
     "start_time": "2018-10-31T00:05:16.377345Z"
    }
   },
   "outputs": [],
   "source": [
    "def scatter(df, x, y, xlabel, ylabel, lower_lim, upper_lim, highlight_color, name, adjust=False):\n",
    "    fig, ax = plt.subplots(1, figsize=(6 * 1.2, 6))\n",
    "    text = []\n",
    "\n",
    "    for index, row in df.iterrows():\n",
    "        if row[x] != row[y]:\n",
    "            ax.scatter(\n",
    "                row[x],\n",
    "                row[y],\n",
    "                s=80,\n",
    "                edgecolor=\"k\",\n",
    "                lw=0.2,\n",
    "                color=\"r\",\n",
    "                zorder=2,\n",
    "            )\n",
    "            # Not general \n",
    "            text.append(plt.text(row[x], row[y], f\"{row['atom1']}-{row['atom2']}-{row['atom3']}-{row['atom4']}\", color=\"r\", size=14))\n",
    "\n",
    "\n",
    "        else:\n",
    "            ax.scatter(\n",
    "                row[x],\n",
    "                row[y],\n",
    "                s=80,\n",
    "                edgecolor=\"k\",\n",
    "                lw=0.2,\n",
    "                color=\"0.5\",\n",
    "            )\n",
    "    \n",
    "    ax.plot([-500, 500], [-500, 500], ls=\"-\", c=\"0.3\", zorder=-1, lw=\"0.5\")\n",
    "    ax.set_ylim([lower_lim, upper_lim])\n",
    "    ax.set_xlim([lower_lim, upper_lim])\n",
    "\n",
    "    ax.set_ylabel(ylabel)\n",
    "    ax.set_xlabel(xlabel)\n",
    "    \n",
    "    if adjust:\n",
    "        adjust_text(text, expand_points=(2, 2), arrowprops=dict(arrowstyle=\"-\", color=\"r\"))\n",
    "\n",
    "    fig.savefig(f\"figures/{name}\", bbox_inches=\"tight\")"
   ]
  },
  {
   "cell_type": "code",
   "execution_count": 150,
   "metadata": {
    "ExecuteTime": {
     "end_time": "2018-10-30T23:28:18.283125Z",
     "start_time": "2018-10-30T23:28:17.452006Z"
    }
   },
   "outputs": [],
   "source": [
    "smirnoff_lj = pd.DataFrame()\n",
    "\n",
    "for atom in smirnoff.atoms:\n",
    "\n",
    "    smirnoff_lj = smirnoff_lj.append(\n",
    "        pd.DataFrame(\n",
    "            {\n",
    "                \"name\": atom.name,\n",
    "                \"type\": atom.type,\n",
    "                \"epsilon\": atom.epsilon,\n",
    "                \"sigma\": atom.sigma,\n",
    "                \n",
    "            },\n",
    "            index=[0],\n",
    "        ),\n",
    "        ignore_index=True,\n",
    "    )\n",
    "\n",
    "\n",
    "bgbg_tip3p_lj = pd.DataFrame()\n",
    "for atom in bgbg_tip3p.atoms:\n",
    "\n",
    "    bgbg_tip3p_lj = bgbg_tip3p_lj.append(\n",
    "        pd.DataFrame(\n",
    "            {\n",
    "                \"name\": atom.name,\n",
    "                \"type\": atom.type,\n",
    "                \"epsilon\": atom.epsilon,\n",
    "                \"sigma\": atom.sigma,\n",
    "                \n",
    "            },\n",
    "            index=[0],\n",
    "        ),\n",
    "        ignore_index=True,\n",
    "    )\n"
   ]
  },
  {
   "cell_type": "code",
   "execution_count": 151,
   "metadata": {
    "ExecuteTime": {
     "end_time": "2018-10-30T23:50:24.928308Z",
     "start_time": "2018-10-30T23:50:24.890432Z"
    }
   },
   "outputs": [],
   "source": [
    "df = smirnoff_lj.merge(bgbg_tip3p_lj, on=\"name\", suffixes=(\"_smirnoff\", \"_bgbg_tip3p\"))"
   ]
  },
  {
   "cell_type": "code",
   "execution_count": 152,
   "metadata": {
    "ExecuteTime": {
     "end_time": "2018-10-30T23:50:26.337005Z",
     "start_time": "2018-10-30T23:50:26.290034Z"
    }
   },
   "outputs": [
    {
     "data": {
      "text/html": [
       "<div>\n",
       "<style scoped>\n",
       "    .dataframe tbody tr th:only-of-type {\n",
       "        vertical-align: middle;\n",
       "    }\n",
       "\n",
       "    .dataframe tbody tr th {\n",
       "        vertical-align: top;\n",
       "    }\n",
       "\n",
       "    .dataframe thead th {\n",
       "        text-align: right;\n",
       "    }\n",
       "</style>\n",
       "<table border=\"1\" class=\"dataframe\">\n",
       "  <thead>\n",
       "    <tr style=\"text-align: right;\">\n",
       "      <th></th>\n",
       "      <th>epsilon_smirnoff</th>\n",
       "      <th>name</th>\n",
       "      <th>sigma_smirnoff</th>\n",
       "      <th>type_smirnoff</th>\n",
       "      <th>epsilon_bgbg_tip3p</th>\n",
       "      <th>sigma_bgbg_tip3p</th>\n",
       "      <th>type_bgbg_tip3p</th>\n",
       "    </tr>\n",
       "  </thead>\n",
       "  <tbody>\n",
       "    <tr>\n",
       "      <th>0</th>\n",
       "      <td>0.1094</td>\n",
       "      <td>C1</td>\n",
       "      <td>3.39967</td>\n",
       "      <td>1</td>\n",
       "      <td>0.1094</td>\n",
       "      <td>3.39967</td>\n",
       "      <td>c3</td>\n",
       "    </tr>\n",
       "    <tr>\n",
       "      <th>1</th>\n",
       "      <td>0.1094</td>\n",
       "      <td>C1</td>\n",
       "      <td>3.39967</td>\n",
       "      <td>1</td>\n",
       "      <td>0.1094</td>\n",
       "      <td>3.39967</td>\n",
       "      <td>c3</td>\n",
       "    </tr>\n",
       "    <tr>\n",
       "      <th>2</th>\n",
       "      <td>0.1094</td>\n",
       "      <td>C1</td>\n",
       "      <td>3.39967</td>\n",
       "      <td>1</td>\n",
       "      <td>0.1094</td>\n",
       "      <td>3.39967</td>\n",
       "      <td>c3</td>\n",
       "    </tr>\n",
       "    <tr>\n",
       "      <th>3</th>\n",
       "      <td>0.1094</td>\n",
       "      <td>C1</td>\n",
       "      <td>3.39967</td>\n",
       "      <td>1</td>\n",
       "      <td>0.1094</td>\n",
       "      <td>3.39967</td>\n",
       "      <td>c3</td>\n",
       "    </tr>\n",
       "    <tr>\n",
       "      <th>4</th>\n",
       "      <td>0.1094</td>\n",
       "      <td>C1</td>\n",
       "      <td>3.39967</td>\n",
       "      <td>1</td>\n",
       "      <td>0.1094</td>\n",
       "      <td>3.39967</td>\n",
       "      <td>c3</td>\n",
       "    </tr>\n",
       "  </tbody>\n",
       "</table>\n",
       "</div>"
      ],
      "text/plain": [
       "   epsilon_smirnoff name  sigma_smirnoff type_smirnoff  epsilon_bgbg_tip3p  \\\n",
       "0            0.1094   C1         3.39967             1              0.1094   \n",
       "1            0.1094   C1         3.39967             1              0.1094   \n",
       "2            0.1094   C1         3.39967             1              0.1094   \n",
       "3            0.1094   C1         3.39967             1              0.1094   \n",
       "4            0.1094   C1         3.39967             1              0.1094   \n",
       "\n",
       "   sigma_bgbg_tip3p type_bgbg_tip3p  \n",
       "0           3.39967              c3  \n",
       "1           3.39967              c3  \n",
       "2           3.39967              c3  \n",
       "3           3.39967              c3  \n",
       "4           3.39967              c3  "
      ]
     },
     "execution_count": 152,
     "metadata": {},
     "output_type": "execute_result"
    }
   ],
   "source": [
    "df.head()"
   ]
  },
  {
   "cell_type": "code",
   "execution_count": 153,
   "metadata": {
    "ExecuteTime": {
     "end_time": "2018-10-30T23:50:50.567797Z",
     "start_time": "2018-10-30T23:50:50.519184Z"
    }
   },
   "outputs": [],
   "source": [
    "df.drop_duplicates(inplace=True, subset=[\"epsilon_smirnoff\", \"sigma_smirnoff\", \"epsilon_bgbg_tip3p\", \"sigma_bgbg_tip3p\"])"
   ]
  },
  {
   "cell_type": "code",
   "execution_count": 154,
   "metadata": {
    "ExecuteTime": {
     "end_time": "2018-10-30T23:50:51.884518Z",
     "start_time": "2018-10-30T23:50:51.820657Z"
    }
   },
   "outputs": [
    {
     "data": {
      "text/html": [
       "<div>\n",
       "<style scoped>\n",
       "    .dataframe tbody tr th:only-of-type {\n",
       "        vertical-align: middle;\n",
       "    }\n",
       "\n",
       "    .dataframe tbody tr th {\n",
       "        vertical-align: top;\n",
       "    }\n",
       "\n",
       "    .dataframe thead th {\n",
       "        text-align: right;\n",
       "    }\n",
       "</style>\n",
       "<table border=\"1\" class=\"dataframe\">\n",
       "  <thead>\n",
       "    <tr style=\"text-align: right;\">\n",
       "      <th></th>\n",
       "      <th>epsilon_smirnoff</th>\n",
       "      <th>name</th>\n",
       "      <th>sigma_smirnoff</th>\n",
       "      <th>type_smirnoff</th>\n",
       "      <th>epsilon_bgbg_tip3p</th>\n",
       "      <th>sigma_bgbg_tip3p</th>\n",
       "      <th>type_bgbg_tip3p</th>\n",
       "    </tr>\n",
       "  </thead>\n",
       "  <tbody>\n",
       "    <tr>\n",
       "      <th>0</th>\n",
       "      <td>0.1094</td>\n",
       "      <td>C1</td>\n",
       "      <td>3.399670</td>\n",
       "      <td>1</td>\n",
       "      <td>0.1094</td>\n",
       "      <td>3.399670</td>\n",
       "      <td>c3</td>\n",
       "    </tr>\n",
       "    <tr>\n",
       "      <th>36</th>\n",
       "      <td>0.0157</td>\n",
       "      <td>H1</td>\n",
       "      <td>2.293173</td>\n",
       "      <td>2</td>\n",
       "      <td>0.0157</td>\n",
       "      <td>2.293173</td>\n",
       "      <td>h2</td>\n",
       "    </tr>\n",
       "    <tr>\n",
       "      <th>72</th>\n",
       "      <td>0.1700</td>\n",
       "      <td>O1</td>\n",
       "      <td>3.000012</td>\n",
       "      <td>3</td>\n",
       "      <td>0.1700</td>\n",
       "      <td>3.000012</td>\n",
       "      <td>os</td>\n",
       "    </tr>\n",
       "    <tr>\n",
       "      <th>144</th>\n",
       "      <td>0.0157</td>\n",
       "      <td>H2</td>\n",
       "      <td>2.471353</td>\n",
       "      <td>5</td>\n",
       "      <td>0.0157</td>\n",
       "      <td>2.471353</td>\n",
       "      <td>h1</td>\n",
       "    </tr>\n",
       "    <tr>\n",
       "      <th>180</th>\n",
       "      <td>0.2104</td>\n",
       "      <td>O2</td>\n",
       "      <td>3.066473</td>\n",
       "      <td>6</td>\n",
       "      <td>0.2104</td>\n",
       "      <td>3.066473</td>\n",
       "      <td>oh</td>\n",
       "    </tr>\n",
       "  </tbody>\n",
       "</table>\n",
       "</div>"
      ],
      "text/plain": [
       "     epsilon_smirnoff name  sigma_smirnoff type_smirnoff  epsilon_bgbg_tip3p  \\\n",
       "0              0.1094   C1        3.399670             1              0.1094   \n",
       "36             0.0157   H1        2.293173             2              0.0157   \n",
       "72             0.1700   O1        3.000012             3              0.1700   \n",
       "144            0.0157   H2        2.471353             5              0.0157   \n",
       "180            0.2104   O2        3.066473             6              0.2104   \n",
       "\n",
       "     sigma_bgbg_tip3p type_bgbg_tip3p  \n",
       "0            3.399670              c3  \n",
       "36           2.293173              h2  \n",
       "72           3.000012              os  \n",
       "144          2.471353              h1  \n",
       "180          3.066473              oh  "
      ]
     },
     "execution_count": 154,
     "metadata": {},
     "output_type": "execute_result"
    }
   ],
   "source": [
    "df.head()"
   ]
  },
  {
   "cell_type": "code",
   "execution_count": 63,
   "metadata": {
    "ExecuteTime": {
     "end_time": "2018-10-30T23:55:50.169114Z",
     "start_time": "2018-10-30T23:55:48.465840Z"
    }
   },
   "outputs": [
    {
     "data": {
      "image/png": "[encoded data removed]",
      "text/plain": [
       "<matplotlib.figure.Figure at 0x7fbc74273eb8>"
      ]
     },
     "metadata": {},
     "output_type": "display_data"
    }
   ],
   "source": [
    "scatter(df, \"epsilon_bgbg_tip3p\", \"epsilon_smirnoff\", \"GAFF v1.7 epsilon\", \"SMIRNOFF99Frosst epsilon\", \n",
    "        -0.01, 0.3, \"r\", \"SMIRNOFF99Frosst-vs-GAFF-v1.7-epsilon.pdf\")"
   ]
  },
  {
   "cell_type": "code",
   "execution_count": 64,
   "metadata": {
    "ExecuteTime": {
     "end_time": "2018-10-30T23:56:35.016961Z",
     "start_time": "2018-10-30T23:56:33.129335Z"
    },
    "scrolled": true
   },
   "outputs": [
    {
     "data": {
      "image/png": "[encoded data removed]",
      "text/plain": [
       "<matplotlib.figure.Figure at 0x7fbc7409bf98>"
      ]
     },
     "metadata": {},
     "output_type": "display_data"
    }
   ],
   "source": [
    "scatter(df, \"sigma_bgbg_tip3p\", \"sigma_smirnoff\", \"GAFF v1.7 sigma\", \"SMIRNOFF99Frosst sigma\", 4, \"r\", \"SMIRNOFF99Frosst-vs-GAFF-v1.7-sigma.pdf\")\n"
   ]
  },
  {
   "cell_type": "markdown",
   "metadata": {},
   "source": [
    "# Bonds"
   ]
  },
  {
   "cell_type": "code",
   "execution_count": 65,
   "metadata": {
    "ExecuteTime": {
     "end_time": "2018-10-30T23:58:49.006751Z",
     "start_time": "2018-10-30T23:58:48.943859Z"
    }
   },
   "outputs": [],
   "source": [
    "def find_bonds(structure):\n",
    "    df = pd.DataFrame()\n",
    "    for atom in structure.atoms:\n",
    "        for bond in atom.bonds:\n",
    "            df = df.append(\n",
    "                pd.DataFrame(\n",
    "                    {\n",
    "                        \"atom1\": bond.atom1.name,\n",
    "                        \"atom2\": bond.atom2.name,\n",
    "                        \"atom1_type\": bond.atom1.type,\n",
    "                        \"atom2_type\": bond.atom2.type,\n",
    "                        \"req\": bond.type.req,\n",
    "                        \"k\": bond.type.k,\n",
    "                    },\n",
    "                    index=[0],\n",
    "                ),\n",
    "                ignore_index=True,\n",
    "            )\n",
    "    return df\n"
   ]
  },
  {
   "cell_type": "code",
   "execution_count": 67,
   "metadata": {
    "ExecuteTime": {
     "end_time": "2018-10-30T23:59:07.066057Z",
     "start_time": "2018-10-30T23:59:06.131633Z"
    }
   },
   "outputs": [],
   "source": [
    "smirnoff_bonds = find_bonds(smirnoff)\n",
    "bgbg_tip3p_bonds = find_bonds(bgbg_tip3p)"
   ]
  },
  {
   "cell_type": "code",
   "execution_count": 70,
   "metadata": {
    "ExecuteTime": {
     "end_time": "2018-10-30T23:59:52.195842Z",
     "start_time": "2018-10-30T23:59:52.150834Z"
    }
   },
   "outputs": [],
   "source": [
    "df = smirnoff_bonds.merge(bgbg_tip3p_bonds, on=[\"atom1\", \"atom2\"], suffixes=(\"_smirnoff\", \"_bgbg_tip3p\"))"
   ]
  },
  {
   "cell_type": "code",
   "execution_count": 72,
   "metadata": {
    "ExecuteTime": {
     "end_time": "2018-10-30T23:59:55.720636Z",
     "start_time": "2018-10-30T23:59:55.674282Z"
    }
   },
   "outputs": [
    {
     "data": {
      "text/html": [
       "<div>\n",
       "<style scoped>\n",
       "    .dataframe tbody tr th:only-of-type {\n",
       "        vertical-align: middle;\n",
       "    }\n",
       "\n",
       "    .dataframe tbody tr th {\n",
       "        vertical-align: top;\n",
       "    }\n",
       "\n",
       "    .dataframe thead th {\n",
       "        text-align: right;\n",
       "    }\n",
       "</style>\n",
       "<table border=\"1\" class=\"dataframe\">\n",
       "  <thead>\n",
       "    <tr style=\"text-align: right;\">\n",
       "      <th></th>\n",
       "      <th>atom1</th>\n",
       "      <th>atom1_type_smirnoff</th>\n",
       "      <th>atom2</th>\n",
       "      <th>atom2_type_smirnoff</th>\n",
       "      <th>k_smirnoff</th>\n",
       "      <th>req_smirnoff</th>\n",
       "      <th>atom1_type_bgbg_tip3p</th>\n",
       "      <th>atom2_type_bgbg_tip3p</th>\n",
       "      <th>k_bgbg_tip3p</th>\n",
       "      <th>req_bgbg_tip3p</th>\n",
       "    </tr>\n",
       "  </thead>\n",
       "  <tbody>\n",
       "    <tr>\n",
       "      <th>0</th>\n",
       "      <td>C1</td>\n",
       "      <td>1</td>\n",
       "      <td>O1</td>\n",
       "      <td>3</td>\n",
       "      <td>320.0</td>\n",
       "      <td>1.37</td>\n",
       "      <td>c3</td>\n",
       "      <td>os</td>\n",
       "      <td>301.5</td>\n",
       "      <td>1.439</td>\n",
       "    </tr>\n",
       "    <tr>\n",
       "      <th>1</th>\n",
       "      <td>C1</td>\n",
       "      <td>1</td>\n",
       "      <td>O1</td>\n",
       "      <td>3</td>\n",
       "      <td>320.0</td>\n",
       "      <td>1.37</td>\n",
       "      <td>c3</td>\n",
       "      <td>os</td>\n",
       "      <td>301.5</td>\n",
       "      <td>1.439</td>\n",
       "    </tr>\n",
       "    <tr>\n",
       "      <th>2</th>\n",
       "      <td>C1</td>\n",
       "      <td>1</td>\n",
       "      <td>O1</td>\n",
       "      <td>3</td>\n",
       "      <td>320.0</td>\n",
       "      <td>1.37</td>\n",
       "      <td>c3</td>\n",
       "      <td>os</td>\n",
       "      <td>301.5</td>\n",
       "      <td>1.439</td>\n",
       "    </tr>\n",
       "    <tr>\n",
       "      <th>3</th>\n",
       "      <td>C1</td>\n",
       "      <td>1</td>\n",
       "      <td>O1</td>\n",
       "      <td>3</td>\n",
       "      <td>320.0</td>\n",
       "      <td>1.37</td>\n",
       "      <td>c3</td>\n",
       "      <td>os</td>\n",
       "      <td>301.5</td>\n",
       "      <td>1.439</td>\n",
       "    </tr>\n",
       "    <tr>\n",
       "      <th>4</th>\n",
       "      <td>C1</td>\n",
       "      <td>1</td>\n",
       "      <td>O1</td>\n",
       "      <td>3</td>\n",
       "      <td>320.0</td>\n",
       "      <td>1.37</td>\n",
       "      <td>c3</td>\n",
       "      <td>os</td>\n",
       "      <td>301.5</td>\n",
       "      <td>1.439</td>\n",
       "    </tr>\n",
       "  </tbody>\n",
       "</table>\n",
       "</div>"
      ],
      "text/plain": [
       "  atom1 atom1_type_smirnoff atom2 atom2_type_smirnoff  k_smirnoff  \\\n",
       "0    C1                   1    O1                   3       320.0   \n",
       "1    C1                   1    O1                   3       320.0   \n",
       "2    C1                   1    O1                   3       320.0   \n",
       "3    C1                   1    O1                   3       320.0   \n",
       "4    C1                   1    O1                   3       320.0   \n",
       "\n",
       "   req_smirnoff atom1_type_bgbg_tip3p atom2_type_bgbg_tip3p  k_bgbg_tip3p  \\\n",
       "0          1.37                    c3                    os         301.5   \n",
       "1          1.37                    c3                    os         301.5   \n",
       "2          1.37                    c3                    os         301.5   \n",
       "3          1.37                    c3                    os         301.5   \n",
       "4          1.37                    c3                    os         301.5   \n",
       "\n",
       "   req_bgbg_tip3p  \n",
       "0           1.439  \n",
       "1           1.439  \n",
       "2           1.439  \n",
       "3           1.439  \n",
       "4           1.439  "
      ]
     },
     "execution_count": 72,
     "metadata": {},
     "output_type": "execute_result"
    }
   ],
   "source": [
    "df.head()"
   ]
  },
  {
   "cell_type": "code",
   "execution_count": 85,
   "metadata": {
    "ExecuteTime": {
     "end_time": "2018-10-31T00:05:58.773504Z",
     "start_time": "2018-10-31T00:05:58.724222Z"
    }
   },
   "outputs": [],
   "source": [
    "df.drop_duplicates(inplace=True, subset=[\"k_smirnoff\", \"req_smirnoff\", \"k_bgbg_tip3p\", \"req_bgbg_tip3p\"])"
   ]
  },
  {
   "cell_type": "code",
   "execution_count": 89,
   "metadata": {
    "ExecuteTime": {
     "end_time": "2018-10-31T00:06:49.976216Z",
     "start_time": "2018-10-31T00:06:49.925586Z"
    }
   },
   "outputs": [
    {
     "data": {
      "text/plain": [
       "k_smirnoff      553.0\n",
       "k_bgbg_tip3p    369.6\n",
       "dtype: float64"
      ]
     },
     "execution_count": 89,
     "metadata": {},
     "output_type": "execute_result"
    }
   ],
   "source": [
    "df[[\"k_smirnoff\", \"k_bgbg_tip3p\"]].min()\n",
    "df[[\"k_smirnoff\", \"k_bgbg_tip3p\"]].max()"
   ]
  },
  {
   "cell_type": "code",
   "execution_count": 90,
   "metadata": {
    "ExecuteTime": {
     "end_time": "2018-10-31T00:06:56.221955Z",
     "start_time": "2018-10-31T00:06:54.215555Z"
    }
   },
   "outputs": [
    {
     "data": {
      "image/png": "[encoded data removed]",
      "text/plain": [
       "<matplotlib.figure.Figure at 0x7fbc70fc0128>"
      ]
     },
     "metadata": {},
     "output_type": "display_data"
    }
   ],
   "source": [
    "scatter(df, \"k_bgbg_tip3p\", \"k_smirnoff\", r\"GAFF v1.7 bond $k$\", r\"SMIRNOFF99Frosst bond $k$\", 280, 560, \"r\", \n",
    "        \"SMIRNOFF99Frosst-vs-GAFF-v1.7-bond-k.pdf\")\n"
   ]
  },
  {
   "cell_type": "code",
   "execution_count": 91,
   "metadata": {
    "ExecuteTime": {
     "end_time": "2018-10-31T00:07:26.746025Z",
     "start_time": "2018-10-31T00:07:26.709610Z"
    }
   },
   "outputs": [
    {
     "data": {
      "text/plain": [
       "req_smirnoff      0.960\n",
       "req_bgbg_tip3p    0.974\n",
       "dtype: float64"
      ]
     },
     "execution_count": 91,
     "metadata": {},
     "output_type": "execute_result"
    }
   ],
   "source": [
    "df[[\"req_smirnoff\", \"req_bgbg_tip3p\"]].min()"
   ]
  },
  {
   "cell_type": "code",
   "execution_count": 92,
   "metadata": {
    "ExecuteTime": {
     "end_time": "2018-10-31T00:07:27.853928Z",
     "start_time": "2018-10-31T00:07:27.798934Z"
    }
   },
   "outputs": [
    {
     "data": {
      "text/plain": [
       "req_smirnoff      1.526\n",
       "req_bgbg_tip3p    1.535\n",
       "dtype: float64"
      ]
     },
     "execution_count": 92,
     "metadata": {},
     "output_type": "execute_result"
    }
   ],
   "source": [
    "df[[\"req_smirnoff\", \"req_bgbg_tip3p\"]].max()"
   ]
  },
  {
   "cell_type": "code",
   "execution_count": 93,
   "metadata": {
    "ExecuteTime": {
     "end_time": "2018-10-31T00:08:00.393720Z",
     "start_time": "2018-10-31T00:07:57.606551Z"
    }
   },
   "outputs": [
    {
     "data": {
      "image/png": "[encoded data removed]",
      "text/plain": [
       "<matplotlib.figure.Figure at 0x7fbc72787b38>"
      ]
     },
     "metadata": {},
     "output_type": "display_data"
    }
   ],
   "source": [
    "scatter(df, \"req_bgbg_tip3p\", \"req_smirnoff\", r\"GAFF v1.7 bond $r_\\text{eq}$\", r\"SMIRNOFF99Frosst bond $r_\\text{eq}$\", 0.8, 1.6, \"r\", \n",
    "        \"SMIRNOFF99Frosst-vs-GAFF-v1.7-bond-req.pdf\")\n"
   ]
  },
  {
   "cell_type": "code",
   "execution_count": 9,
   "metadata": {
    "ExecuteTime": {
     "end_time": "2018-10-31T00:09:24.244318Z",
     "start_time": "2018-10-31T00:09:24.169804Z"
    }
   },
   "outputs": [],
   "source": [
    "def find_dihedrals(structure):\n",
    "    df = pd.DataFrame()\n",
    "    for atom in structure.atoms:\n",
    "        for dihedral in atom.dihedrals:\n",
    "            df = df.append(\n",
    "                pd.DataFrame(\n",
    "                    {\n",
    "                        \"atom1\": dihedral.atom1.name,\n",
    "                        \"atom2\": dihedral.atom2.name,\n",
    "                        \"atom3\": dihedral.atom3.name,\n",
    "                        \"atom4\": dihedral.atom4.name,\n",
    "                        \"phi_k\": dihedral.type.phi_k,\n",
    "                        \"per\": dihedral.type.per,\n",
    "                        \"phase\": dihedral.type.phase,\n",
    "                    },\n",
    "                    index=[0],\n",
    "                ),\n",
    "                ignore_index=True,\n",
    "            )\n",
    "    return df\n"
   ]
  },
  {
   "cell_type": "code",
   "execution_count": 12,
   "metadata": {
    "ExecuteTime": {
     "end_time": "2018-10-31T00:09:56.531293Z",
     "start_time": "2018-10-31T00:09:47.556544Z"
    }
   },
   "outputs": [],
   "source": [
    "smirnoff_dihedrals = find_dihedrals(smirnoff)\n",
    "bgbg_tip3p_dihedrals = find_dihedrals(bgbg_tip3p)\n",
    "bg2bg2_tip3p_dihedrals = find_dihedrals(bg2bg2_tip3p)"
   ]
  },
  {
   "cell_type": "code",
   "execution_count": 13,
   "metadata": {
    "ExecuteTime": {
     "end_time": "2018-10-31T00:12:07.279351Z",
     "start_time": "2018-10-31T00:12:07.222299Z"
    }
   },
   "outputs": [],
   "source": [
    "df = smirnoff_dihedrals.merge(bgbg_tip3p_dihedrals, on=[\"atom1\", \"atom2\", \"atom3\", \"atom4\", \"per\"], \n",
    "                              suffixes=(\"_smirnoff\", \"_bgbg_tip3p\"))"
   ]
  },
  {
   "cell_type": "code",
   "execution_count": 14,
   "metadata": {
    "ExecuteTime": {
     "end_time": "2018-10-31T00:12:07.666305Z",
     "start_time": "2018-10-31T00:12:07.622303Z"
    }
   },
   "outputs": [
    {
     "data": {
      "text/html": [
       "<div>\n",
       "<style scoped>\n",
       "    .dataframe tbody tr th:only-of-type {\n",
       "        vertical-align: middle;\n",
       "    }\n",
       "\n",
       "    .dataframe tbody tr th {\n",
       "        vertical-align: top;\n",
       "    }\n",
       "\n",
       "    .dataframe thead th {\n",
       "        text-align: right;\n",
       "    }\n",
       "</style>\n",
       "<table border=\"1\" class=\"dataframe\">\n",
       "  <thead>\n",
       "    <tr style=\"text-align: right;\">\n",
       "      <th></th>\n",
       "      <th>atom1</th>\n",
       "      <th>atom2</th>\n",
       "      <th>atom3</th>\n",
       "      <th>atom4</th>\n",
       "      <th>per</th>\n",
       "      <th>phase_smirnoff</th>\n",
       "      <th>phi_k_smirnoff</th>\n",
       "      <th>phase_bgbg_tip3p</th>\n",
       "      <th>phi_k_bgbg_tip3p</th>\n",
       "    </tr>\n",
       "  </thead>\n",
       "  <tbody>\n",
       "    <tr>\n",
       "      <th>0</th>\n",
       "      <td>O1</td>\n",
       "      <td>C1</td>\n",
       "      <td>C2</td>\n",
       "      <td>O2</td>\n",
       "      <td>3</td>\n",
       "      <td>0.0</td>\n",
       "      <td>0.144</td>\n",
       "      <td>0.0</td>\n",
       "      <td>0.144</td>\n",
       "    </tr>\n",
       "    <tr>\n",
       "      <th>1</th>\n",
       "      <td>O1</td>\n",
       "      <td>C1</td>\n",
       "      <td>C2</td>\n",
       "      <td>O2</td>\n",
       "      <td>3</td>\n",
       "      <td>0.0</td>\n",
       "      <td>0.144</td>\n",
       "      <td>0.0</td>\n",
       "      <td>0.144</td>\n",
       "    </tr>\n",
       "    <tr>\n",
       "      <th>2</th>\n",
       "      <td>O1</td>\n",
       "      <td>C1</td>\n",
       "      <td>C2</td>\n",
       "      <td>O2</td>\n",
       "      <td>3</td>\n",
       "      <td>0.0</td>\n",
       "      <td>0.144</td>\n",
       "      <td>0.0</td>\n",
       "      <td>0.144</td>\n",
       "    </tr>\n",
       "    <tr>\n",
       "      <th>3</th>\n",
       "      <td>O1</td>\n",
       "      <td>C1</td>\n",
       "      <td>C2</td>\n",
       "      <td>O2</td>\n",
       "      <td>3</td>\n",
       "      <td>0.0</td>\n",
       "      <td>0.144</td>\n",
       "      <td>0.0</td>\n",
       "      <td>0.144</td>\n",
       "    </tr>\n",
       "    <tr>\n",
       "      <th>4</th>\n",
       "      <td>O1</td>\n",
       "      <td>C1</td>\n",
       "      <td>C2</td>\n",
       "      <td>O2</td>\n",
       "      <td>3</td>\n",
       "      <td>0.0</td>\n",
       "      <td>0.144</td>\n",
       "      <td>0.0</td>\n",
       "      <td>0.144</td>\n",
       "    </tr>\n",
       "  </tbody>\n",
       "</table>\n",
       "</div>"
      ],
      "text/plain": [
       "  atom1 atom2 atom3 atom4  per  phase_smirnoff  phi_k_smirnoff  \\\n",
       "0    O1    C1    C2    O2    3             0.0           0.144   \n",
       "1    O1    C1    C2    O2    3             0.0           0.144   \n",
       "2    O1    C1    C2    O2    3             0.0           0.144   \n",
       "3    O1    C1    C2    O2    3             0.0           0.144   \n",
       "4    O1    C1    C2    O2    3             0.0           0.144   \n",
       "\n",
       "   phase_bgbg_tip3p  phi_k_bgbg_tip3p  \n",
       "0               0.0             0.144  \n",
       "1               0.0             0.144  \n",
       "2               0.0             0.144  \n",
       "3               0.0             0.144  \n",
       "4               0.0             0.144  "
      ]
     },
     "execution_count": 14,
     "metadata": {},
     "output_type": "execute_result"
    }
   ],
   "source": [
    "df.head()"
   ]
  },
  {
   "cell_type": "code",
   "execution_count": 15,
   "metadata": {
    "ExecuteTime": {
     "end_time": "2018-10-31T00:12:14.818682Z",
     "start_time": "2018-10-31T00:12:14.760085Z"
    }
   },
   "outputs": [],
   "source": [
    "df.drop_duplicates(inplace=True, subset=[\"phase_smirnoff\", \n",
    "                                         \"phi_k_smirnoff\",\n",
    "                                         \"phase_bgbg_tip3p\",\n",
    "                                         \"phi_k_bgbg_tip3p\"])"
   ]
  },
  {
   "cell_type": "code",
   "execution_count": 16,
   "metadata": {
    "ExecuteTime": {
     "end_time": "2018-10-31T00:12:15.227835Z",
     "start_time": "2018-10-31T00:12:15.185275Z"
    }
   },
   "outputs": [
    {
     "data": {
      "text/html": [
       "<div>\n",
       "<style scoped>\n",
       "    .dataframe tbody tr th:only-of-type {\n",
       "        vertical-align: middle;\n",
       "    }\n",
       "\n",
       "    .dataframe tbody tr th {\n",
       "        vertical-align: top;\n",
       "    }\n",
       "\n",
       "    .dataframe thead th {\n",
       "        text-align: right;\n",
       "    }\n",
       "</style>\n",
       "<table border=\"1\" class=\"dataframe\">\n",
       "  <thead>\n",
       "    <tr style=\"text-align: right;\">\n",
       "      <th></th>\n",
       "      <th>atom1</th>\n",
       "      <th>atom2</th>\n",
       "      <th>atom3</th>\n",
       "      <th>atom4</th>\n",
       "      <th>per</th>\n",
       "      <th>phase_smirnoff</th>\n",
       "      <th>phi_k_smirnoff</th>\n",
       "      <th>phase_bgbg_tip3p</th>\n",
       "      <th>phi_k_bgbg_tip3p</th>\n",
       "    </tr>\n",
       "  </thead>\n",
       "  <tbody>\n",
       "    <tr>\n",
       "      <th>0</th>\n",
       "      <td>O1</td>\n",
       "      <td>C1</td>\n",
       "      <td>C2</td>\n",
       "      <td>O2</td>\n",
       "      <td>3</td>\n",
       "      <td>0.0</td>\n",
       "      <td>0.144</td>\n",
       "      <td>0.000000</td>\n",
       "      <td>0.144000</td>\n",
       "    </tr>\n",
       "    <tr>\n",
       "      <th>576</th>\n",
       "      <td>O1</td>\n",
       "      <td>C1</td>\n",
       "      <td>C2</td>\n",
       "      <td>O2</td>\n",
       "      <td>2</td>\n",
       "      <td>0.0</td>\n",
       "      <td>1.175</td>\n",
       "      <td>0.000000</td>\n",
       "      <td>1.175000</td>\n",
       "    </tr>\n",
       "    <tr>\n",
       "      <th>1152</th>\n",
       "      <td>O1</td>\n",
       "      <td>C1</td>\n",
       "      <td>C2</td>\n",
       "      <td>C3</td>\n",
       "      <td>3</td>\n",
       "      <td>0.0</td>\n",
       "      <td>0.156</td>\n",
       "      <td>0.000000</td>\n",
       "      <td>0.155556</td>\n",
       "    </tr>\n",
       "    <tr>\n",
       "      <th>2320</th>\n",
       "      <td>C1</td>\n",
       "      <td>C2</td>\n",
       "      <td>C3</td>\n",
       "      <td>C4</td>\n",
       "      <td>3</td>\n",
       "      <td>0.0</td>\n",
       "      <td>0.180</td>\n",
       "      <td>0.000000</td>\n",
       "      <td>0.180000</td>\n",
       "    </tr>\n",
       "    <tr>\n",
       "      <th>2896</th>\n",
       "      <td>C1</td>\n",
       "      <td>C2</td>\n",
       "      <td>C3</td>\n",
       "      <td>C4</td>\n",
       "      <td>2</td>\n",
       "      <td>180.0</td>\n",
       "      <td>0.250</td>\n",
       "      <td>180.000077</td>\n",
       "      <td>0.250000</td>\n",
       "    </tr>\n",
       "  </tbody>\n",
       "</table>\n",
       "</div>"
      ],
      "text/plain": [
       "     atom1 atom2 atom3 atom4  per  phase_smirnoff  phi_k_smirnoff  \\\n",
       "0       O1    C1    C2    O2    3             0.0           0.144   \n",
       "576     O1    C1    C2    O2    2             0.0           1.175   \n",
       "1152    O1    C1    C2    C3    3             0.0           0.156   \n",
       "2320    C1    C2    C3    C4    3             0.0           0.180   \n",
       "2896    C1    C2    C3    C4    2           180.0           0.250   \n",
       "\n",
       "      phase_bgbg_tip3p  phi_k_bgbg_tip3p  \n",
       "0             0.000000          0.144000  \n",
       "576           0.000000          1.175000  \n",
       "1152          0.000000          0.155556  \n",
       "2320          0.000000          0.180000  \n",
       "2896        180.000077          0.250000  "
      ]
     },
     "execution_count": 16,
     "metadata": {},
     "output_type": "execute_result"
    }
   ],
   "source": [
    "df.head()"
   ]
  },
  {
   "cell_type": "code",
   "execution_count": 17,
   "metadata": {
    "ExecuteTime": {
     "end_time": "2018-10-31T00:12:40.122511Z",
     "start_time": "2018-10-31T00:12:40.089847Z"
    }
   },
   "outputs": [
    {
     "data": {
      "text/plain": [
       "phi_k_smirnoff      1.35\n",
       "phi_k_bgbg_tip3p    1.35\n",
       "dtype: float64"
      ]
     },
     "execution_count": 17,
     "metadata": {},
     "output_type": "execute_result"
    }
   ],
   "source": [
    "df[[\"phi_k_smirnoff\", \"phi_k_bgbg_tip3p\"]].max()"
   ]
  },
  {
   "cell_type": "code",
   "execution_count": 18,
   "metadata": {
    "ExecuteTime": {
     "end_time": "2018-10-31T00:12:45.120404Z",
     "start_time": "2018-10-31T00:12:45.088152Z"
    }
   },
   "outputs": [
    {
     "data": {
      "text/plain": [
       "phi_k_smirnoff      0.0\n",
       "phi_k_bgbg_tip3p    0.0\n",
       "dtype: float64"
      ]
     },
     "execution_count": 18,
     "metadata": {},
     "output_type": "execute_result"
    }
   ],
   "source": [
    "df[[\"phi_k_smirnoff\", \"phi_k_bgbg_tip3p\"]].min()"
   ]
  },
  {
   "cell_type": "code",
   "execution_count": 19,
   "metadata": {
    "ExecuteTime": {
     "end_time": "2018-10-31T00:13:53.230103Z",
     "start_time": "2018-10-31T00:13:51.369546Z"
    }
   },
   "outputs": [
    {
     "data": {
      "image/png": "[encoded data removed]",
      "text/plain": [
       "<matplotlib.figure.Figure at 0x7f8440cc7828>"
      ]
     },
     "metadata": {},
     "output_type": "display_data"
    }
   ],
   "source": [
    "scatter(df, \"phi_k_bgbg_tip3p\", \"phi_k_smirnoff\", r\"GAFF v1.7 dihedral $\\phi$ (kcal/mol/rad$^2$)\", r\"SMIRNOFF99Frosst dihedral $\\phi$ (kcal/mol/rad$^2$)\", \n",
    "        -0.1, 1.5, \"r\", \n",
    "        \"SMIRNOFF99Frosst-vs-GAFF-v1.7-dih-phi.pdf\",\n",
    "       adjust=True)\n"
   ]
  },
  {
   "cell_type": "code",
   "execution_count": 21,
   "metadata": {},
   "outputs": [
    {
     "name": "stdout",
     "output_type": "stream",
     "text": [
      "Max: phi_k_bgbg_tip3p      1.35\n",
      "phi_k_bg2bg2_tip3p    1.24\n",
      "dtype: float64\n",
      "Min: phi_k_bgbg_tip3p      0.0\n",
      "phi_k_bg2bg2_tip3p    0.0\n",
      "dtype: float64\n"
     ]
    }
   ],
   "source": [
    "df = bgbg_tip3p_dihedrals.merge(bg2bg2_tip3p_dihedrals, on=[\"atom1\", \"atom2\", \"atom3\", \"atom4\", \"per\"], \n",
    "                              suffixes=(\"_bgbg_tip3p\", \"_bg2bg2_tip3p\"))\n",
    "\n",
    "df.drop_duplicates(inplace=True, subset=[\"phase_bgbg_tip3p\", \n",
    "                                         \"phi_k_bgbg_tip3p\",\n",
    "                                         \"phase_bg2bg2_tip3p\",\n",
    "                                         \"phi_k_bg2bg2_tip3p\"])\n",
    "\n",
    "print(f'Max: {df[[\"phi_k_bgbg_tip3p\", \"phi_k_bg2bg2_tip3p\"]].max()}')\n",
    "print(f'Min: {df[[\"phi_k_bgbg_tip3p\", \"phi_k_bg2bg2_tip3p\"]].min()}')"
   ]
  },
  {
   "cell_type": "code",
   "execution_count": 23,
   "metadata": {},
   "outputs": [
    {
     "data": {
      "image/png": "[encoded data removed]",
      "text/plain": [
       "<matplotlib.figure.Figure at 0x7f843fb53668>"
      ]
     },
     "metadata": {},
     "output_type": "display_data"
    }
   ],
   "source": [
    "scatter(df, \"phi_k_bgbg_tip3p\", \"phi_k_bg2bg2_tip3p\", r\"GAFF v1.7 dihedral $\\phi$ (kcal/mol/rad$^2$)\", r\"GAFF v2.1 dihedral $\\phi$ (kcal/mol/rad$^2$)\", \n",
    "        -0.1, 1.5, \"r\", \n",
    "        \"GAFF-v2.1-vs-GAFF-v1.7-dih-phi.pdf\",\n",
    "       adjust=True)\n"
   ]
  },
  {
   "cell_type": "code",
   "execution_count": null,
   "metadata": {},
   "outputs": [],
   "source": []
  }
 ],
 "metadata": {
  "kernelspec": {
   "display_name": "Python [default]",
   "language": "python",
   "name": "python3"
  },
  "language_info": {
   "codemirror_mode": {
    "name": "ipython",
    "version": 3
   },
   "file_extension": ".py",
   "mimetype": "text/x-python",
   "name": "python",
   "nbconvert_exporter": "python",
   "pygments_lexer": "ipython3",
   "version": "3.6.4"
  }
 },
 "nbformat": 4,
 "nbformat_minor": 2
}
