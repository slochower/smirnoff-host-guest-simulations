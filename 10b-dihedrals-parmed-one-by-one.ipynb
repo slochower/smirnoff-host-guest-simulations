{
 "cells": [
  {
   "cell_type": "code",
   "execution_count": 1,
   "metadata": {
    "ExecuteTime": {
     "end_time": "2019-01-16T19:40:30.277547Z",
     "start_time": "2019-01-16T19:40:29.428676Z"
    },
    "scrolled": true
   },
   "outputs": [],
   "source": [
    "import parmed as pmd\n",
    "import numpy as np\n",
    "import os\n",
    "import pandas as pd\n",
    "\n",
    "import matplotlib as mpl\n",
    "import matplotlib.pyplot as plt\n",
    "from matplotlib.gridspec import GridSpec\n",
    "from matplotlib.colors import colorConverter\n",
    "import seaborn as sns\n",
    "\n",
    "%load_ext autoreload\n",
    "%autoreload 2\n",
    "%matplotlib inline"
   ]
  },
  {
   "cell_type": "markdown",
   "metadata": {},
   "source": [
    "# Parameter comparisons\n",
    "\n",
    "I find there are a different number of dihedral parameters applied to a system parameterized with GAFF v1.7 and SMIRNOFF99Frosst."
   ]
  },
  {
   "cell_type": "markdown",
   "metadata": {},
   "source": [
    "## Method 1 (use ParmEd)"
   ]
  },
  {
   "cell_type": "code",
   "execution_count": 4,
   "metadata": {
    "ExecuteTime": {
     "end_time": "2019-01-16T19:42:21.746050Z",
     "start_time": "2019-01-16T19:42:21.588928Z"
    }
   },
   "outputs": [],
   "source": [
    "smirnoff_prmtop = pmd.load_file(\"systems/a-bam-p/smirnoff/a000/hg.prmtop\")\n",
    "smirnoff_prmtop = smirnoff_prmtop[\":4\"]\n",
    "\n",
    "gaff_prmtop = pmd.load_file(\"systems/a-bam-p/bgbg-tip3p/hg.topo\")\n",
    "gaff_prmtop = gaff_prmtop[\":4\"]"
   ]
  },
  {
   "cell_type": "code",
   "execution_count": 14,
   "metadata": {
    "ExecuteTime": {
     "end_time": "2019-01-16T19:43:39.421116Z",
     "start_time": "2019-01-16T19:43:39.386863Z"
    }
   },
   "outputs": [],
   "source": [
    "def find_dihedrals(structure):\n",
    "    df = pd.DataFrame()\n",
    "    for dihedral in structure.dihedrals:\n",
    "        df = df.append(\n",
    "            pd.DataFrame(\n",
    "                {\n",
    "                    \"atom1\": dihedral.atom1.name,\n",
    "                    \"atom2\": dihedral.atom2.name,\n",
    "                    \"atom3\": dihedral.atom3.name,\n",
    "                    \"atom4\": dihedral.atom4.name,\n",
    "                },\n",
    "                index=[0],\n",
    "            ),\n",
    "            ignore_index=True,\n",
    "        )\n",
    "    return df"
   ]
  },
  {
   "cell_type": "code",
   "execution_count": 38,
   "metadata": {
    "ExecuteTime": {
     "end_time": "2019-01-16T19:51:13.934433Z",
     "start_time": "2019-01-16T19:51:13.696453Z"
    }
   },
   "outputs": [],
   "source": [
    "gaff_prmtop_dihedrals = find_dihedrals(gaff_prmtop)\n",
    "smirnoff_prmtop_dihedrals = find_dihedrals(smirnoff_prmtop)"
   ]
  },
  {
   "cell_type": "markdown",
   "metadata": {
    "ExecuteTime": {
     "end_time": "2019-01-16T19:45:02.806275Z",
     "start_time": "2019-01-16T19:45:02.686252Z"
    }
   },
   "source": [
    "These are just labeled by *atom name* so it is safe to drop duplicates by only keeping the unique rows."
   ]
  },
  {
   "cell_type": "code",
   "execution_count": 42,
   "metadata": {
    "ExecuteTime": {
     "end_time": "2019-01-16T19:52:00.174081Z",
     "start_time": "2019-01-16T19:52:00.143275Z"
    }
   },
   "outputs": [],
   "source": [
    "gaff_prmtop_dihedrals.drop_duplicates(inplace=True)\n",
    "smirnoff_prmtop_dihedrals.drop_duplicates(inplace=True)"
   ]
  },
  {
   "cell_type": "code",
   "execution_count": 43,
   "metadata": {
    "ExecuteTime": {
     "end_time": "2019-01-16T19:52:00.336487Z",
     "start_time": "2019-01-16T19:52:00.282483Z"
    }
   },
   "outputs": [
    {
     "data": {
      "text/plain": [
       "54"
      ]
     },
     "execution_count": 43,
     "metadata": {},
     "output_type": "execute_result"
    }
   ],
   "source": [
    "len(gaff_prmtop_dihedrals)"
   ]
  },
  {
   "cell_type": "code",
   "execution_count": 44,
   "metadata": {
    "ExecuteTime": {
     "end_time": "2019-01-16T19:52:01.878118Z",
     "start_time": "2019-01-16T19:52:01.843974Z"
    }
   },
   "outputs": [
    {
     "data": {
      "text/plain": [
       "54"
      ]
     },
     "execution_count": 44,
     "metadata": {},
     "output_type": "execute_result"
    }
   ],
   "source": [
    "len(smirnoff_prmtop_dihedrals)"
   ]
  },
  {
   "cell_type": "code",
   "execution_count": 45,
   "metadata": {
    "ExecuteTime": {
     "end_time": "2019-01-16T19:52:03.499784Z",
     "start_time": "2019-01-16T19:52:03.448470Z"
    }
   },
   "outputs": [
    {
     "data": {
      "text/html": [
       "<div>\n",
       "<style scoped>\n",
       "    .dataframe tbody tr th:only-of-type {\n",
       "        vertical-align: middle;\n",
       "    }\n",
       "\n",
       "    .dataframe tbody tr th {\n",
       "        vertical-align: top;\n",
       "    }\n",
       "\n",
       "    .dataframe thead th {\n",
       "        text-align: right;\n",
       "    }\n",
       "</style>\n",
       "<table border=\"1\" class=\"dataframe\">\n",
       "  <thead>\n",
       "    <tr style=\"text-align: right;\">\n",
       "      <th></th>\n",
       "      <th>atom1</th>\n",
       "      <th>atom2</th>\n",
       "      <th>atom3</th>\n",
       "      <th>atom4</th>\n",
       "    </tr>\n",
       "  </thead>\n",
       "  <tbody>\n",
       "    <tr>\n",
       "      <th>26</th>\n",
       "      <td>C1</td>\n",
       "      <td>C2</td>\n",
       "      <td>C3</td>\n",
       "      <td>C4</td>\n",
       "    </tr>\n",
       "    <tr>\n",
       "      <th>81</th>\n",
       "      <td>C1</td>\n",
       "      <td>C2</td>\n",
       "      <td>C3</td>\n",
       "      <td>H3</td>\n",
       "    </tr>\n",
       "    <tr>\n",
       "      <th>25</th>\n",
       "      <td>C1</td>\n",
       "      <td>C2</td>\n",
       "      <td>C3</td>\n",
       "      <td>O3</td>\n",
       "    </tr>\n",
       "    <tr>\n",
       "      <th>79</th>\n",
       "      <td>C1</td>\n",
       "      <td>C2</td>\n",
       "      <td>O2</td>\n",
       "      <td>HO2</td>\n",
       "    </tr>\n",
       "    <tr>\n",
       "      <th>29</th>\n",
       "      <td>C1</td>\n",
       "      <td>O5</td>\n",
       "      <td>C5</td>\n",
       "      <td>C4</td>\n",
       "    </tr>\n",
       "  </tbody>\n",
       "</table>\n",
       "</div>"
      ],
      "text/plain": [
       "   atom1 atom2 atom3 atom4\n",
       "26    C1    C2    C3    C4\n",
       "81    C1    C2    C3    H3\n",
       "25    C1    C2    C3    O3\n",
       "79    C1    C2    O2   HO2\n",
       "29    C1    O5    C5    C4"
      ]
     },
     "execution_count": 45,
     "metadata": {},
     "output_type": "execute_result"
    }
   ],
   "source": [
    "gaff_prmtop_dihedrals.sort_values(by=[\"atom1\", \"atom2\", \"atom3\", \"atom4\"]).head()"
   ]
  },
  {
   "cell_type": "code",
   "execution_count": 46,
   "metadata": {
    "ExecuteTime": {
     "end_time": "2019-01-16T19:52:04.010678Z",
     "start_time": "2019-01-16T19:52:03.980032Z"
    }
   },
   "outputs": [
    {
     "data": {
      "text/html": [
       "<div>\n",
       "<style scoped>\n",
       "    .dataframe tbody tr th:only-of-type {\n",
       "        vertical-align: middle;\n",
       "    }\n",
       "\n",
       "    .dataframe tbody tr th {\n",
       "        vertical-align: top;\n",
       "    }\n",
       "\n",
       "    .dataframe thead th {\n",
       "        text-align: right;\n",
       "    }\n",
       "</style>\n",
       "<table border=\"1\" class=\"dataframe\">\n",
       "  <thead>\n",
       "    <tr style=\"text-align: right;\">\n",
       "      <th></th>\n",
       "      <th>atom1</th>\n",
       "      <th>atom2</th>\n",
       "      <th>atom3</th>\n",
       "      <th>atom4</th>\n",
       "    </tr>\n",
       "  </thead>\n",
       "  <tbody>\n",
       "    <tr>\n",
       "      <th>10</th>\n",
       "      <td>C1</td>\n",
       "      <td>C2</td>\n",
       "      <td>C3</td>\n",
       "      <td>C4</td>\n",
       "    </tr>\n",
       "    <tr>\n",
       "      <th>43</th>\n",
       "      <td>C1</td>\n",
       "      <td>C2</td>\n",
       "      <td>C3</td>\n",
       "      <td>H3</td>\n",
       "    </tr>\n",
       "    <tr>\n",
       "      <th>9</th>\n",
       "      <td>C1</td>\n",
       "      <td>C2</td>\n",
       "      <td>C3</td>\n",
       "      <td>O3</td>\n",
       "    </tr>\n",
       "    <tr>\n",
       "      <th>70</th>\n",
       "      <td>C1</td>\n",
       "      <td>C2</td>\n",
       "      <td>O2</td>\n",
       "      <td>HO2</td>\n",
       "    </tr>\n",
       "    <tr>\n",
       "      <th>26</th>\n",
       "      <td>C1</td>\n",
       "      <td>O5</td>\n",
       "      <td>C5</td>\n",
       "      <td>C4</td>\n",
       "    </tr>\n",
       "  </tbody>\n",
       "</table>\n",
       "</div>"
      ],
      "text/plain": [
       "   atom1 atom2 atom3 atom4\n",
       "10    C1    C2    C3    C4\n",
       "43    C1    C2    C3    H3\n",
       "9     C1    C2    C3    O3\n",
       "70    C1    C2    O2   HO2\n",
       "26    C1    O5    C5    C4"
      ]
     },
     "execution_count": 46,
     "metadata": {},
     "output_type": "execute_result"
    }
   ],
   "source": [
    "smirnoff_prmtop_dihedrals.sort_values(by=[\"atom1\", \"atom2\", \"atom3\", \"atom4\"]).head()"
   ]
  },
  {
   "cell_type": "markdown",
   "metadata": {},
   "source": [
    "I think there are 54 unique dihedrals by name in a single `:MGO` residue and both GAFF v1.7 and SMIRNOFF99Frosst agree on the names. A little tricky to test for strict equality in the DataFrame because everything is a string, but I'm feeling pretty confident that this is correct.\n",
    "\n",
    "Next, let's loop through each row, and print the dihedral in GAFF v1.7 and SMIRNOFF99Frosst."
   ]
  },
  {
   "cell_type": "code",
   "execution_count": 139,
   "metadata": {
    "ExecuteTime": {
     "end_time": "2019-01-16T20:25:23.422672Z",
     "start_time": "2019-01-16T20:25:22.145799Z"
    }
   },
   "outputs": [
    {
     "name": "stdout",
     "output_type": "stream",
     "text": [
      "Disparity in EEL scale.\n",
      "Look at   C1 -   C2-  C3 -   C4\n",
      "Disparity in VDW scale.\n",
      "Look at   C1 -   C2-  C3 -   C4\n",
      "Disparity in EEL scale.\n",
      "Look at   C1 -   C2-  C3 -   C4\n",
      "Disparity in VDW scale.\n",
      "Look at   C1 -   C2-  C3 -   C4\n",
      "Disparity in barrier height.\n",
      "Look at   C1 -   C2-  C3 -   H3\n",
      "Disparity in barrier height.\n",
      "Look at   C1 -   C2-  C3 -   O3\n",
      "Disparity in EEL scale.\n",
      "Look at   C1 -   C2-  O2 -  HO2\n",
      "Disparity in VDW scale.\n",
      "Look at   C1 -   C2-  O2 -  HO2\n",
      "Disparity in EEL scale.\n",
      "Look at   C1 -   O5-  C5 -   C4\n",
      "Disparity in VDW scale.\n",
      "Look at   C1 -   O5-  C5 -   C4\n",
      "Disparity in EEL scale.\n",
      "Look at   C1 -   O5-  C5 -   C4\n",
      "Disparity in VDW scale.\n",
      "Look at   C1 -   O5-  C5 -   C4\n",
      "Disparity in EEL scale.\n",
      "Look at   C1 -   O5-  C5 -   C6\n",
      "Disparity in VDW scale.\n",
      "Look at   C1 -   O5-  C5 -   C6\n",
      "Disparity in EEL scale.\n",
      "Look at   C2 -   C1-  O5 -   C5\n",
      "Disparity in VDW scale.\n",
      "Look at   C2 -   C1-  O5 -   C5\n",
      "Disparity in EEL scale.\n",
      "Look at   C2 -   C1-  O5 -   C5\n",
      "Disparity in VDW scale.\n",
      "Look at   C2 -   C1-  O5 -   C5\n",
      "Disparity in EEL scale.\n",
      "Look at   C2 -   C3-  C4 -   C5\n",
      "Disparity in VDW scale.\n",
      "Look at   C2 -   C3-  C4 -   C5\n",
      "Disparity in EEL scale.\n",
      "Look at   C2 -   C3-  C4 -   C5\n",
      "Disparity in VDW scale.\n",
      "Look at   C2 -   C3-  C4 -   C5\n",
      "Disparity in barrier height.\n",
      "Look at   C2 -   C3-  C4 -   H4\n",
      "Disparity in EEL scale.\n",
      "Look at   C2 -   C3-  O3 -  HO3\n",
      "Disparity in VDW scale.\n",
      "Look at   C2 -   C3-  O3 -  HO3\n",
      "Disparity in barrier height.\n",
      "Look at   C3 -   C2-  C1 -   O5\n",
      "Disparity in EEL scale.\n",
      "Look at   C3 -   C4-  C5 -   C6\n",
      "Disparity in VDW scale.\n",
      "Look at   C3 -   C4-  C5 -   C6\n",
      "Disparity in EEL scale.\n",
      "Look at   C3 -   C4-  C5 -   C6\n",
      "Disparity in VDW scale.\n",
      "Look at   C3 -   C4-  C5 -   C6\n",
      "Disparity in barrier height.\n",
      "Look at   C3 -   C4-  C5 -   H5\n",
      "Disparity in barrier height.\n",
      "Look at   C3 -   C4-  C5 -   O5\n",
      "Disparity in EEL scale.\n",
      "Look at   C3 -   C4-  C5 -   O5\n",
      "Disparity in VDW scale.\n",
      "Look at   C3 -   C4-  C5 -   O5\n",
      "Disparity in barrier height.\n",
      "Look at   C4 -   C5-  C6 -  H61\n",
      "Disparity in barrier height.\n",
      "Look at   C4 -   C5-  C6 -  H62\n",
      "Disparity in barrier height.\n",
      "Look at   C4 -   C5-  C6 -   O6\n",
      "Disparity in EEL scale.\n",
      "Look at   C5 -   C6-  O6 -  HO6\n",
      "Disparity in VDW scale.\n",
      "Look at   C5 -   C6-  O6 -  HO6\n",
      "Disparity in barrier height.\n",
      "Look at   H1 -   C1-  C2 -   C3\n",
      "Disparity in barrier height.\n",
      "Look at   H1 -   C1-  C2 -   H2\n",
      "GAFF v1.7 has 1 and SMIRNOFF99Frosst has 2\n",
      "H1-C1-C2-O2\n",
      "Disparity in barrier height.\n",
      "Look at   H1 -   C1-  C2 -   O2\n",
      "Disparity in periodicity.\n",
      "Look at   H1 -   C1-  C2 -   O2\n",
      "Disparity in EEL scale.\n",
      "Look at   H1 -   C1-  C2 -   O2\n",
      "Disparity in VDW scale.\n",
      "Look at   H1 -   C1-  C2 -   O2\n",
      "Disparity in EEL scale.\n",
      "Look at   H2 -   C2-  C1 -   O5\n",
      "Disparity in VDW scale.\n",
      "Look at   H2 -   C2-  C1 -   O5\n",
      "Disparity in barrier height.\n",
      "Look at   H2 -   C2-  C3 -   C4\n",
      "Disparity in barrier height.\n",
      "Look at   H2 -   C2-  C3 -   H3\n",
      "Disparity in EEL scale.\n",
      "Look at   H2 -   C2-  C3 -   O3\n",
      "Disparity in VDW scale.\n",
      "Look at   H2 -   C2-  C3 -   O3\n",
      "Disparity in barrier height.\n",
      "Look at   H3 -   C3-  C4 -   C5\n",
      "Disparity in barrier height.\n",
      "Look at   H3 -   C3-  C4 -   H4\n",
      "Disparity in barrier height.\n",
      "Look at   H4 -   C4-  C5 -   C6\n",
      "Disparity in barrier height.\n",
      "Look at   H4 -   C4-  C5 -   H5\n",
      "Disparity in EEL scale.\n",
      "Look at   H4 -   C4-  C5 -   O5\n",
      "Disparity in VDW scale.\n",
      "Look at   H4 -   C4-  C5 -   O5\n",
      "Disparity in barrier height.\n",
      "Look at   H5 -   C5-  C6 -  H61\n",
      "Disparity in barrier height.\n",
      "Look at   H5 -   C5-  C6 -  H62\n",
      "Disparity in EEL scale.\n",
      "Look at   H5 -   C5-  C6 -   O6\n",
      "Disparity in VDW scale.\n",
      "Look at   H5 -   C5-  C6 -   O6\n",
      "Disparity in EEL scale.\n",
      "Look at  HO2 -   O2-  C2 -   C3\n",
      "Disparity in VDW scale.\n",
      "Look at  HO2 -   O2-  C2 -   C3\n",
      "Disparity in EEL scale.\n",
      "Look at  HO3 -   O3-  C3 -   C4\n",
      "Disparity in VDW scale.\n",
      "Look at  HO3 -   O3-  C3 -   C4\n",
      "Disparity in barrier height.\n",
      "Look at   O1 -   C1-  C2 -   C3\n",
      "Disparity in EEL scale.\n",
      "Look at   O1 -   C1-  C2 -   H2\n",
      "Disparity in VDW scale.\n",
      "Look at   O1 -   C1-  C2 -   H2\n",
      "Disparity in EEL scale.\n",
      "Look at   O1 -   C1-  C2 -   O2\n",
      "Disparity in VDW scale.\n",
      "Look at   O1 -   C1-  C2 -   O2\n",
      "Disparity in EEL scale.\n",
      "Look at   O1 -   C1-  O5 -   C5\n",
      "Disparity in VDW scale.\n",
      "Look at   O1 -   C1-  O5 -   C5\n",
      "Disparity in EEL scale.\n",
      "Look at   O1 -   C1-  O5 -   C5\n",
      "Disparity in VDW scale.\n",
      "Look at   O1 -   C1-  O5 -   C5\n",
      "Disparity in EEL scale.\n",
      "Look at   O2 -   C2-  C1 -   O5\n",
      "Disparity in VDW scale.\n",
      "Look at   O2 -   C2-  C1 -   O5\n",
      "Disparity in barrier height.\n",
      "Look at   O2 -   C2-  C3 -   C4\n",
      "Disparity in EEL scale.\n",
      "Look at   O2 -   C2-  C3 -   H3\n",
      "Disparity in VDW scale.\n",
      "Look at   O2 -   C2-  C3 -   H3\n",
      "Disparity in EEL scale.\n",
      "Look at   O2 -   C2-  C3 -   O3\n",
      "Disparity in VDW scale.\n",
      "Look at   O2 -   C2-  C3 -   O3\n",
      "Disparity in barrier height.\n",
      "Look at   O3 -   C3-  C4 -   C5\n",
      "Disparity in EEL scale.\n",
      "Look at   O3 -   C3-  C4 -   H4\n",
      "Disparity in VDW scale.\n",
      "Look at   O3 -   C3-  C4 -   H4\n",
      "Disparity in EEL scale.\n",
      "Look at   O5 -   C5-  C6 -  H61\n",
      "Disparity in VDW scale.\n",
      "Look at   O5 -   C5-  C6 -  H61\n",
      "Disparity in EEL scale.\n",
      "Look at   O5 -   C5-  C6 -  H62\n",
      "Disparity in VDW scale.\n",
      "Look at   O5 -   C5-  C6 -  H62\n",
      "Disparity in EEL scale.\n",
      "Look at   O5 -   C5-  C6 -   O6\n",
      "Disparity in VDW scale.\n",
      "Look at   O5 -   C5-  C6 -   O6\n"
     ]
    }
   ],
   "source": [
    "for index, row in gaff_prmtop_dihedrals.sort_values(by=[\"atom1\", \"atom2\", \"atom3\", \"atom4\"]).iterrows():\n",
    "    mask = f\"@{row['atom1']} @{row['atom2']} @{row['atom3']} @{row['atom4']}\"\n",
    "    gaff_string = str(pmd.tools.actions.printDihedrals(gaff_prmtop, mask))\n",
    "    gaff_df = parse_parmed_output(gaff_string)\n",
    "    \n",
    "    smirnoff_string = str(pmd.tools.actions.printDihedrals(smirnoff_prmtop, mask))\n",
    "    smirnoff_df = parse_parmed_output(smirnoff_string)\n",
    "    \n",
    "    if not len(gaff_df) == len(smirnoff_df):\n",
    "        print(f\"GAFF v1.7 has {len(gaff_df)} and SMIRNOFF99Frosst has {len(smirnoff_df)}\")\n",
    "        print(f\"{row['atom1']}-{row['atom2']}-{row['atom3']}-{row['atom4']}\")\n",
    "    compare_df(gaff_df.sort_values(by=[\"atom1\", \"atom2\", \"atom3\", \"atom4\", \"periodicity\", \"phase\"]), \n",
    "               smirnoff_df.sort_values(by=[\"atom1\", \"atom2\", \"atom3\", \"atom4\", \"periodicity\", \"phase\"]))\n"
   ]
  },
  {
   "cell_type": "code",
   "execution_count": 74,
   "metadata": {
    "ExecuteTime": {
     "end_time": "2019-01-16T19:57:27.943089Z",
     "start_time": "2019-01-16T19:57:27.898386Z"
    }
   },
   "outputs": [],
   "source": [
    "def parse_parmed_output(printDihedrals_string):\n",
    "    df = pd.DataFrame()\n",
    "    lines = printDihedrals_string.split(\"\\n\")\n",
    "    for line in lines[1:-1]:\n",
    "        df = df.append(\n",
    "            pd.DataFrame(\n",
    "                {\n",
    "                    \"atom1\": \"\".join(line[10:15]),\n",
    "                    \"atom1 serial\": int(\"\".join(line[5:10])),\n",
    "                    \"atom2\": \"\".join(line[30:35]),\n",
    "                    \"atom2 serial\": int(\"\".join(line[25:30])),\n",
    "                    \"atom3\": \"\".join(line[52:57]),\n",
    "                    \"atom3 serial\": int(\"\".join(line[47:52])),\n",
    "                    \"atom4\": \"\".join(line[72:77]),\n",
    "                    \"atom4 serial\": int(\"\".join(line[67:72])),\n",
    "                    \"height\": float(\"\".join(line[89:95])),\n",
    "                    \"periodicity\": float(\"\".join(line[100:105])),\n",
    "                    \"phase\": float(\"\".join(line[111:116])),\n",
    "                    \"EEL scale\": float(\"\".join(line[122:128])),\n",
    "                    \"VDW scale\": float(\"\".join(line[133:138])),               },\n",
    "                index=[0],\n",
    "            ),\n",
    "            ignore_index=True,\n",
    "        )\n",
    "    return df"
   ]
  },
  {
   "cell_type": "code",
   "execution_count": 133,
   "metadata": {
    "ExecuteTime": {
     "end_time": "2019-01-16T20:22:13.916309Z",
     "start_time": "2019-01-16T20:22:13.886185Z"
    }
   },
   "outputs": [],
   "source": [
    "def compare_df(gaff_df, smirnoff_df):\n",
    "    for (_, gaff_row), (_, smirnoff_row) in zip(gaff_df.iterrows(), smirnoff_df.iterrows()):\n",
    "        \n",
    "        if gaff_row[\"height\"] != smirnoff_row[\"height\"]:\n",
    "            print(\"Disparity in barrier height.\")\n",
    "            atoms = gaff_row[\"atom1\"] + \"-\" + gaff_row[\"atom2\"] + \"-\" + gaff_row[\"atom3\"] + \"-\" + gaff_row[\"atom4\"]\n",
    "            print(f\"Look at {atoms}\")\n",
    "#             gaff_string = gaff_row[\"atom1\"] + \"-\" + \\\n",
    "#                           gaff_row[\"atom2\"] + \"-\" + \\\n",
    "#                           gaff_row[\"atom3\"] + \"-\" + \\\n",
    "#                           gaff_row[\"atom4\"] + \" \" + str(gaff_row[\"height\"])\n",
    "            \n",
    "#             smirnoff_string = smirnoff_row[\"atom1\"] + \"-\" + \\\n",
    "#               smirnoff_row[\"atom2\"] + \"-\" + \\\n",
    "#               smirnoff_row[\"atom3\"] + \"-\" + \\\n",
    "#               smirnoff_row[\"atom4\"] + \" : \" + str(smirnoff_row[\"height\"])\n",
    "\n",
    "#             print(gaff_string)\n",
    "#             print(smirnoff_string)\n",
    "        if gaff_row[\"periodicity\"] != smirnoff_row[\"periodicity\"]:\n",
    "            print(\"Disparity in periodicity.\")\n",
    "            atoms = gaff_row[\"atom1\"] + \"-\" + gaff_row[\"atom2\"] + \"-\" + gaff_row[\"atom3\"] + \"-\" + gaff_row[\"atom4\"]\n",
    "            print(f\"Look at {atoms}\")\n",
    "\n",
    "        if gaff_row[\"phase\"] != smirnoff_row[\"phase\"]:\n",
    "            print(\"Disparity in phase.\")\n",
    "            atoms = gaff_row[\"atom1\"] + \"-\" + gaff_row[\"atom2\"] + \"-\" + gaff_row[\"atom3\"] + \"-\" + gaff_row[\"atom4\"]\n",
    "            print(f\"Look at {atoms}\")\n",
    "\n",
    "        if gaff_row[\"EEL scale\"] != smirnoff_row[\"EEL scale\"]:\n",
    "            print(\"Disparity in EEL scale.\")\n",
    "            atoms = gaff_row[\"atom1\"] + \"-\" + gaff_row[\"atom2\"] + \"-\" + gaff_row[\"atom3\"] + \"-\" + gaff_row[\"atom4\"]\n",
    "            print(f\"Look at {atoms}\")\n",
    "\n",
    "        if gaff_row[\"VDW scale\"] != smirnoff_row[\"VDW scale\"]:\n",
    "            print(\"Disparity in VDW scale.\")\n",
    "            atoms = gaff_row[\"atom1\"] + \"-\" + gaff_row[\"atom2\"] + \"-\" + gaff_row[\"atom3\"] + \"-\" + gaff_row[\"atom4\"]\n",
    "            print(f\"Look at {atoms}\")\n"
   ]
  },
  {
   "cell_type": "code",
   "execution_count": 136,
   "metadata": {
    "ExecuteTime": {
     "end_time": "2019-01-16T20:23:21.755462Z",
     "start_time": "2019-01-16T20:23:21.714508Z"
    }
   },
   "outputs": [
    {
     "data": {
      "text/html": [
       "<div>\n",
       "<style scoped>\n",
       "    .dataframe tbody tr th:only-of-type {\n",
       "        vertical-align: middle;\n",
       "    }\n",
       "\n",
       "    .dataframe tbody tr th {\n",
       "        vertical-align: top;\n",
       "    }\n",
       "\n",
       "    .dataframe thead th {\n",
       "        text-align: right;\n",
       "    }\n",
       "</style>\n",
       "<table border=\"1\" class=\"dataframe\">\n",
       "  <thead>\n",
       "    <tr style=\"text-align: right;\">\n",
       "      <th></th>\n",
       "      <th>atom1</th>\n",
       "      <th>atom1 serial</th>\n",
       "      <th>atom2</th>\n",
       "      <th>atom2 serial</th>\n",
       "      <th>atom3</th>\n",
       "      <th>atom3 serial</th>\n",
       "      <th>atom4</th>\n",
       "      <th>atom4 serial</th>\n",
       "      <th>height</th>\n",
       "      <th>periodicity</th>\n",
       "      <th>phase</th>\n",
       "      <th>EEL scale</th>\n",
       "      <th>VDW scale</th>\n",
       "    </tr>\n",
       "  </thead>\n",
       "  <tbody>\n",
       "    <tr>\n",
       "      <th>0</th>\n",
       "      <td>H1</td>\n",
       "      <td>2</td>\n",
       "      <td>C1</td>\n",
       "      <td>1</td>\n",
       "      <td>C2</td>\n",
       "      <td>4</td>\n",
       "      <td>O2</td>\n",
       "      <td>6</td>\n",
       "      <td>0.1556</td>\n",
       "      <td>3.0</td>\n",
       "      <td>0.0</td>\n",
       "      <td>1.2</td>\n",
       "      <td>2.0</td>\n",
       "    </tr>\n",
       "  </tbody>\n",
       "</table>\n",
       "</div>"
      ],
      "text/plain": [
       "   atom1  atom1 serial  atom2  atom2 serial  atom3  atom3 serial  atom4  \\\n",
       "0    H1              2     C1             1    C2              4     O2   \n",
       "\n",
       "   atom4 serial  height  periodicity  phase  EEL scale  VDW scale  \n",
       "0             6  0.1556          3.0    0.0        1.2        2.0  "
      ]
     },
     "execution_count": 136,
     "metadata": {},
     "output_type": "execute_result"
    }
   ],
   "source": [
    "gaff_df"
   ]
  },
  {
   "cell_type": "code",
   "execution_count": 137,
   "metadata": {
    "ExecuteTime": {
     "end_time": "2019-01-16T20:23:22.594385Z",
     "start_time": "2019-01-16T20:23:22.554466Z"
    }
   },
   "outputs": [
    {
     "data": {
      "text/html": [
       "<div>\n",
       "<style scoped>\n",
       "    .dataframe tbody tr th:only-of-type {\n",
       "        vertical-align: middle;\n",
       "    }\n",
       "\n",
       "    .dataframe tbody tr th {\n",
       "        vertical-align: top;\n",
       "    }\n",
       "\n",
       "    .dataframe thead th {\n",
       "        text-align: right;\n",
       "    }\n",
       "</style>\n",
       "<table border=\"1\" class=\"dataframe\">\n",
       "  <thead>\n",
       "    <tr style=\"text-align: right;\">\n",
       "      <th></th>\n",
       "      <th>atom1</th>\n",
       "      <th>atom1 serial</th>\n",
       "      <th>atom2</th>\n",
       "      <th>atom2 serial</th>\n",
       "      <th>atom3</th>\n",
       "      <th>atom3 serial</th>\n",
       "      <th>atom4</th>\n",
       "      <th>atom4 serial</th>\n",
       "      <th>height</th>\n",
       "      <th>periodicity</th>\n",
       "      <th>phase</th>\n",
       "      <th>EEL scale</th>\n",
       "      <th>VDW scale</th>\n",
       "    </tr>\n",
       "  </thead>\n",
       "  <tbody>\n",
       "    <tr>\n",
       "      <th>0</th>\n",
       "      <td>H1</td>\n",
       "      <td>2</td>\n",
       "      <td>C1</td>\n",
       "      <td>1</td>\n",
       "      <td>C2</td>\n",
       "      <td>4</td>\n",
       "      <td>O2</td>\n",
       "      <td>6</td>\n",
       "      <td>0.00</td>\n",
       "      <td>3.0</td>\n",
       "      <td>0.0</td>\n",
       "      <td>1.2</td>\n",
       "      <td>2.0</td>\n",
       "    </tr>\n",
       "    <tr>\n",
       "      <th>1</th>\n",
       "      <td>H1</td>\n",
       "      <td>2</td>\n",
       "      <td>C1</td>\n",
       "      <td>1</td>\n",
       "      <td>C2</td>\n",
       "      <td>4</td>\n",
       "      <td>O2</td>\n",
       "      <td>6</td>\n",
       "      <td>0.25</td>\n",
       "      <td>1.0</td>\n",
       "      <td>0.0</td>\n",
       "      <td>1.0</td>\n",
       "      <td>1.0</td>\n",
       "    </tr>\n",
       "  </tbody>\n",
       "</table>\n",
       "</div>"
      ],
      "text/plain": [
       "   atom1  atom1 serial  atom2  atom2 serial  atom3  atom3 serial  atom4  \\\n",
       "0    H1              2     C1             1    C2              4     O2   \n",
       "1    H1              2     C1             1    C2              4     O2   \n",
       "\n",
       "   atom4 serial  height  periodicity  phase  EEL scale  VDW scale  \n",
       "0             6    0.00          3.0    0.0        1.2        2.0  \n",
       "1             6    0.25          1.0    0.0        1.0        1.0  "
      ]
     },
     "execution_count": 137,
     "metadata": {},
     "output_type": "execute_result"
    }
   ],
   "source": [
    "smirnoff_df"
   ]
  },
  {
   "cell_type": "code",
   "execution_count": null,
   "metadata": {},
   "outputs": [],
   "source": []
  }
 ],
 "metadata": {
  "kernelspec": {
   "display_name": "Python [conda env:smirnoff-host-guest]",
   "language": "python",
   "name": "conda-env-smirnoff-host-guest-py"
  },
  "language_info": {
   "codemirror_mode": {
    "name": "ipython",
    "version": 3
   },
   "file_extension": ".py",
   "mimetype": "text/x-python",
   "name": "python",
   "nbconvert_exporter": "python",
   "pygments_lexer": "ipython3",
   "version": "3.6.6"
  }
 },
 "nbformat": 4,
 "nbformat_minor": 2
}
