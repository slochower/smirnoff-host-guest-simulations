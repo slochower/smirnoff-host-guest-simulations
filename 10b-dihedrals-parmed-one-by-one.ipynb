{
 "cells": [
  {
   "cell_type": "code",
   "execution_count": 1,
   "metadata": {
    "ExecuteTime": {
     "end_time": "2019-01-16T19:40:30.277547Z",
     "start_time": "2019-01-16T19:40:29.428676Z"
    },
    "scrolled": true
   },
   "outputs": [],
   "source": [
    "import parmed as pmd\n",
    "import numpy as np\n",
    "import os\n",
    "import pandas as pd\n",
    "\n",
    "import matplotlib as mpl\n",
    "import matplotlib.pyplot as plt\n",
    "from matplotlib.gridspec import GridSpec\n",
    "from matplotlib.colors import colorConverter\n",
    "import seaborn as sns\n",
    "\n",
    "%load_ext autoreload\n",
    "%autoreload 2\n",
    "%matplotlib inline"
   ]
  },
  {
   "cell_type": "markdown",
   "metadata": {},
   "source": [
    "# Dihedral parameter comparison.\n",
    "\n",
    "Let's iterate through the structure and look at the parameters, one-by-one. This seems to be the only reliable way to compare apples with apples.\n",
    "\n",
    "First, find the unique set of four atoms, by atom name, in a single alpha-cyclodextrin residue. Then we'll look at the dihedrals applied to these 4 atom sets. Thankfully, when we query ParmEd for a mask of four atoms, ParmEd looks for the atoms in either ordering (e.g., `a-b-c-d` and `d-c-b-a`), which are the same dihedral, but may be listed separately."
   ]
  },
  {
   "cell_type": "code",
   "execution_count": 210,
   "metadata": {
    "ExecuteTime": {
     "end_time": "2019-01-18T01:24:45.900963Z",
     "start_time": "2019-01-18T01:24:45.747167Z"
    }
   },
   "outputs": [],
   "source": [
    "smirnoff_prmtop = pmd.load_file(\"systems/a-bam-p/smirnoff/a000/hg.prmtop\")\n",
    "smirnoff_prmtop = smirnoff_prmtop[\":4\"]\n",
    "\n",
    "gaff_prmtop = pmd.load_file(\"systems/a-bam-p/bgbg-tip3p/hg.topo\")\n",
    "gaff_prmtop = gaff_prmtop[\":4\"]"
   ]
  },
  {
   "cell_type": "code",
   "execution_count": 211,
   "metadata": {
    "ExecuteTime": {
     "end_time": "2019-01-18T01:24:46.969293Z",
     "start_time": "2019-01-18T01:24:46.925671Z"
    }
   },
   "outputs": [],
   "source": [
    "def find_dihedrals(structure):\n",
    "    df = pd.DataFrame()\n",
    "    for dihedral in structure.dihedrals:\n",
    "        df = df.append(\n",
    "            pd.DataFrame(\n",
    "                {\n",
    "                    \"atom1\": dihedral.atom1.name,\n",
    "                    \"atom2\": dihedral.atom2.name,\n",
    "                    \"atom3\": dihedral.atom3.name,\n",
    "                    \"atom4\": dihedral.atom4.name,\n",
    "                },\n",
    "                index=[0],\n",
    "            ),\n",
    "            ignore_index=True,\n",
    "        )\n",
    "    return df"
   ]
  },
  {
   "cell_type": "code",
   "execution_count": 212,
   "metadata": {
    "ExecuteTime": {
     "end_time": "2019-01-18T01:24:49.826295Z",
     "start_time": "2019-01-18T01:24:49.564740Z"
    }
   },
   "outputs": [],
   "source": [
    "gaff_prmtop_dihedrals = find_dihedrals(gaff_prmtop)\n",
    "smirnoff_prmtop_dihedrals = find_dihedrals(smirnoff_prmtop)"
   ]
  },
  {
   "cell_type": "markdown",
   "metadata": {
    "ExecuteTime": {
     "end_time": "2019-01-16T19:45:02.806275Z",
     "start_time": "2019-01-16T19:45:02.686252Z"
    }
   },
   "source": [
    "These are just labeled by *atom name* so it is safe to drop duplicates by only keeping the unique rows."
   ]
  },
  {
   "cell_type": "code",
   "execution_count": 213,
   "metadata": {
    "ExecuteTime": {
     "end_time": "2019-01-18T01:24:52.329106Z",
     "start_time": "2019-01-18T01:24:52.300004Z"
    }
   },
   "outputs": [],
   "source": [
    "gaff_prmtop_dihedrals.drop_duplicates(inplace=True)\n",
    "smirnoff_prmtop_dihedrals.drop_duplicates(inplace=True)"
   ]
  },
  {
   "cell_type": "code",
   "execution_count": 215,
   "metadata": {
    "ExecuteTime": {
     "end_time": "2019-01-18T01:25:05.579690Z",
     "start_time": "2019-01-18T01:25:05.548488Z"
    }
   },
   "outputs": [],
   "source": [
    "assert len(gaff_prmtop_dihedrals) == len(smirnoff_prmtop_dihedrals)"
   ]
  },
  {
   "cell_type": "code",
   "execution_count": 216,
   "metadata": {
    "ExecuteTime": {
     "end_time": "2019-01-18T01:25:29.982213Z",
     "start_time": "2019-01-18T01:25:29.949272Z"
    }
   },
   "outputs": [
    {
     "name": "stdout",
     "output_type": "stream",
     "text": [
      "There are 54 sets of four atoms in the structure.\n"
     ]
    }
   ],
   "source": [
    "print(f\"There are {len(gaff_prmtop_dihedrals)} sets of four atoms in the structure.\")"
   ]
  },
  {
   "cell_type": "code",
   "execution_count": 217,
   "metadata": {
    "ExecuteTime": {
     "end_time": "2019-01-18T01:25:33.149291Z",
     "start_time": "2019-01-18T01:25:33.103720Z"
    }
   },
   "outputs": [
    {
     "data": {
      "text/html": [
       "<div>\n",
       "<style scoped>\n",
       "    .dataframe tbody tr th:only-of-type {\n",
       "        vertical-align: middle;\n",
       "    }\n",
       "\n",
       "    .dataframe tbody tr th {\n",
       "        vertical-align: top;\n",
       "    }\n",
       "\n",
       "    .dataframe thead th {\n",
       "        text-align: right;\n",
       "    }\n",
       "</style>\n",
       "<table border=\"1\" class=\"dataframe\">\n",
       "  <thead>\n",
       "    <tr style=\"text-align: right;\">\n",
       "      <th></th>\n",
       "      <th>atom1</th>\n",
       "      <th>atom2</th>\n",
       "      <th>atom3</th>\n",
       "      <th>atom4</th>\n",
       "    </tr>\n",
       "  </thead>\n",
       "  <tbody>\n",
       "    <tr>\n",
       "      <th>26</th>\n",
       "      <td>C1</td>\n",
       "      <td>C2</td>\n",
       "      <td>C3</td>\n",
       "      <td>C4</td>\n",
       "    </tr>\n",
       "    <tr>\n",
       "      <th>81</th>\n",
       "      <td>C1</td>\n",
       "      <td>C2</td>\n",
       "      <td>C3</td>\n",
       "      <td>H3</td>\n",
       "    </tr>\n",
       "    <tr>\n",
       "      <th>25</th>\n",
       "      <td>C1</td>\n",
       "      <td>C2</td>\n",
       "      <td>C3</td>\n",
       "      <td>O3</td>\n",
       "    </tr>\n",
       "    <tr>\n",
       "      <th>79</th>\n",
       "      <td>C1</td>\n",
       "      <td>C2</td>\n",
       "      <td>O2</td>\n",
       "      <td>HO2</td>\n",
       "    </tr>\n",
       "    <tr>\n",
       "      <th>29</th>\n",
       "      <td>C1</td>\n",
       "      <td>O5</td>\n",
       "      <td>C5</td>\n",
       "      <td>C4</td>\n",
       "    </tr>\n",
       "  </tbody>\n",
       "</table>\n",
       "</div>"
      ],
      "text/plain": [
       "   atom1 atom2 atom3 atom4\n",
       "26    C1    C2    C3    C4\n",
       "81    C1    C2    C3    H3\n",
       "25    C1    C2    C3    O3\n",
       "79    C1    C2    O2   HO2\n",
       "29    C1    O5    C5    C4"
      ]
     },
     "execution_count": 217,
     "metadata": {},
     "output_type": "execute_result"
    }
   ],
   "source": [
    "gaff_prmtop_dihedrals.sort_values(by=[\"atom1\", \"atom2\", \"atom3\", \"atom4\"]).head()"
   ]
  },
  {
   "cell_type": "markdown",
   "metadata": {},
   "source": [
    "I think there are 54 unique dihedrals by name in a single `:MGO` residue and both GAFF v1.7 and SMIRNOFF99Frosst agree on the names. A little tricky to test for strict equality in the DataFrame because everything is a string, but I'm feeling pretty confident that this is correct.\n",
    "\n",
    "Next, let's loop through each row, and print the dihedral in GAFF v1.7 and SMIRNOFF99Frosst."
   ]
  },
  {
   "cell_type": "code",
   "execution_count": 218,
   "metadata": {
    "ExecuteTime": {
     "end_time": "2019-01-18T01:29:35.729770Z",
     "start_time": "2019-01-18T01:29:35.675772Z"
    }
   },
   "outputs": [],
   "source": [
    "def parse_parmed_output(printDihedrals_string):\n",
    "    df = pd.DataFrame()\n",
    "    lines = printDihedrals_string.split(\"\\n\")\n",
    "    for line in lines[1:-1]:\n",
    "        df = df.append(\n",
    "            pd.DataFrame(\n",
    "                {\n",
    "                    \"atom1\": \"\".join(line[10:15]),\n",
    "                    \"atom1 serial\": int(\"\".join(line[5:10])),\n",
    "                    \"atom2\": \"\".join(line[30:35]),\n",
    "                    \"atom2 serial\": int(\"\".join(line[25:30])),\n",
    "                    \"atom3\": \"\".join(line[52:57]),\n",
    "                    \"atom3 serial\": int(\"\".join(line[47:52])),\n",
    "                    \"atom4\": \"\".join(line[72:77]),\n",
    "                    \"atom4 serial\": int(\"\".join(line[67:72])),\n",
    "                    \"height\": float(\"\".join(line[89:95])),\n",
    "                    \"periodicity\": float(\"\".join(line[100:105])),\n",
    "                    \"phase\": float(\"\".join(line[111:116])),\n",
    "                    \"EEL scale\": float(\"\".join(line[122:128])),\n",
    "                    \"VDW scale\": float(\"\".join(line[133:138])),               },\n",
    "                index=[0],\n",
    "            ),\n",
    "            ignore_index=True,\n",
    "        )\n",
    "    return df"
   ]
  },
  {
   "cell_type": "code",
   "execution_count": 238,
   "metadata": {
    "ExecuteTime": {
     "end_time": "2019-01-18T01:35:16.581145Z",
     "start_time": "2019-01-18T01:35:16.540717Z"
    }
   },
   "outputs": [],
   "source": [
    "def compare_df(gaff_df, smirnoff_df):\n",
    "    for (_, gaff_row), (_, smirnoff_row) in zip(gaff_df.iterrows(), smirnoff_df.iterrows()):\n",
    "        \n",
    "        if np.abs(gaff_row[\"height\"] - smirnoff_row[\"height\"]) > 0.01:\n",
    "            print(\"Disparity in barrier height.\")\n",
    "            atoms = gaff_row[\"atom1\"] + \"-\" + gaff_row[\"atom2\"] + \"-\" + gaff_row[\"atom3\"] + \"-\" + gaff_row[\"atom4\"]\n",
    "            print(f\"Look at {atoms}\")\n",
    "\n",
    "        if gaff_row[\"periodicity\"] != smirnoff_row[\"periodicity\"]:\n",
    "            print(\"Disparity in periodicity.\")\n",
    "            atoms = gaff_row[\"atom1\"] + \"-\" + gaff_row[\"atom2\"] + \"-\" + gaff_row[\"atom3\"] + \"-\" + gaff_row[\"atom4\"]\n",
    "            print(f\"Look at {atoms}\")\n",
    "\n",
    "        if gaff_row[\"phase\"] != smirnoff_row[\"phase\"]:\n",
    "            print(\"Disparity in phase.\")\n",
    "            atoms = gaff_row[\"atom1\"] + \"-\" + gaff_row[\"atom2\"] + \"-\" + gaff_row[\"atom3\"] + \"-\" + gaff_row[\"atom4\"]\n",
    "            print(f\"Look at {atoms}\")\n",
    "            \n",
    "        # Can optionally check for scaling here, but I do it separately down below.\n"
   ]
  },
  {
   "cell_type": "code",
   "execution_count": 220,
   "metadata": {
    "ExecuteTime": {
     "end_time": "2019-01-18T01:30:58.820294Z",
     "start_time": "2019-01-18T01:30:57.551623Z"
    }
   },
   "outputs": [
    {
     "name": "stdout",
     "output_type": "stream",
     "text": [
      "GAFF v1.7 has 1 and SMIRNOFF99Frosst has 2\n",
      "H1-C1-C2-O2\n",
      "Disparity in barrier height.\n",
      "Look at   H1 -   C1-  C2 -   O2\n",
      "Disparity in periodicity.\n",
      "Look at   H1 -   C1-  C2 -   O2\n"
     ]
    }
   ],
   "source": [
    "for index, row in gaff_prmtop_dihedrals.sort_values(by=[\"atom1\", \"atom2\", \"atom3\", \"atom4\"]).iterrows():\n",
    "    # Create an atom mask from the four atoms.\n",
    "    mask = f\"@{row['atom1']} @{row['atom2']} @{row['atom3']} @{row['atom4']}\"\n",
    "    gaff_string = str(pmd.tools.actions.printDihedrals(gaff_prmtop, mask))\n",
    "    # Turn the \"printDihedrals\" output from ParmEd into a DataFrame\n",
    "    gaff_df = parse_parmed_output(gaff_string)\n",
    "    \n",
    "    smirnoff_string = str(pmd.tools.actions.printDihedrals(smirnoff_prmtop, mask))\n",
    "    smirnoff_df = parse_parmed_output(smirnoff_string)\n",
    "    \n",
    "    # Check whether these four atoms have more entry one in FF than the other\n",
    "    if not len(gaff_df) == len(smirnoff_df):\n",
    "        print(f\"GAFF v1.7 has {len(gaff_df)} and SMIRNOFF99Frosst has {len(smirnoff_df)}\")\n",
    "        print(f\"{row['atom1']}-{row['atom2']}-{row['atom3']}-{row['atom4']}\")\n",
    "        \n",
    "    # Sort the DataFrames and then compare that each row has the same barrier height, periodicity, and phase\n",
    "    compare_df(gaff_df.sort_values(by=[\"atom1\", \"atom2\", \"atom3\", \"atom4\", \"periodicity\", \"phase\"]), \n",
    "               smirnoff_df.sort_values(by=[\"atom1\", \"atom2\", \"atom3\", \"atom4\", \"periodicity\", \"phase\"]))\n"
   ]
  },
  {
   "cell_type": "code",
   "execution_count": 221,
   "metadata": {
    "ExecuteTime": {
     "end_time": "2019-01-18T01:31:05.274673Z",
     "start_time": "2019-01-18T01:31:05.244697Z"
    }
   },
   "outputs": [
    {
     "data": {
      "text/plain": [
       "               Atom 1               Atom 2               Atom 3               Atom 4     Height  Periodic.      Phase  EEL Scale  VDW Scale\n",
       "        2   H1 (  65)        1   C1 (  64)        4   C2 (  67)        6   O2 (  69)     0.0000     3.0000     0.0000     1.2000     2.0000\n",
       "M       2   H1 (  65)        1   C1 (  64)        4   C2 (  67)        6   O2 (  69)     0.2500     1.0000     0.0000     1.0000     1.0000"
      ]
     },
     "execution_count": 221,
     "metadata": {},
     "output_type": "execute_result"
    }
   ],
   "source": [
    "pmd.tools.actions.printDihedrals(smirnoff_prmtop, \"@H1 @C1 @C2 @O2\")"
   ]
  },
  {
   "cell_type": "code",
   "execution_count": 223,
   "metadata": {
    "ExecuteTime": {
     "end_time": "2019-01-18T01:31:42.567048Z",
     "start_time": "2019-01-18T01:31:42.523799Z"
    }
   },
   "outputs": [
    {
     "data": {
      "text/plain": [
       "               Atom 1               Atom 2               Atom 3               Atom 4     Height  Periodic.      Phase  EEL Scale  VDW Scale\n",
       "        2   H1 (  h2)        1   C1 (  c3)        4   C2 (  c3)        6   O2 (  oh)     0.1556     3.0000     0.0000     1.2000     2.0000"
      ]
     },
     "execution_count": 223,
     "metadata": {},
     "output_type": "execute_result"
    }
   ],
   "source": [
    "pmd.tools.actions.printDihedrals(gaff_prmtop, \"@H1 @C1 @C2 @O2\")"
   ]
  },
  {
   "cell_type": "markdown",
   "metadata": {},
   "source": [
    "We also need to check the torsions that go between two residues."
   ]
  },
  {
   "cell_type": "code",
   "execution_count": 224,
   "metadata": {
    "ExecuteTime": {
     "end_time": "2019-01-18T01:32:05.191444Z",
     "start_time": "2019-01-18T01:32:05.148920Z"
    }
   },
   "outputs": [],
   "source": [
    "interresidue_masks = [\n",
    "\":1@C2 :1@C1 :1@O1 :2@C4\",\n",
    "\":1@O5 :1@C1 :1@O1 :2@C4\",\n",
    "\":1@H1 :1@C1 :1@O1 :2@C4\",\n",
    "\":1@C1 :1@O1 :2@C4 :2@H4\",\n",
    "\":1@C1 :1@O1 :2@C4 :2@C3\",\n",
    "\":1@C1 :1@O1 :2@C4 :2@C5\",\n",
    "\":1@O1 :2@C4 :2@C3 :2@H3\",\n",
    "\":1@O1 :2@C4 :2@C3 :2@O3\",\n",
    "\":1@O1 :2@C4 :2@C3 :2@C2\",\n",
    "\":1@O1 :2@C4 :2@C5 :2@H5\",\n",
    "\":1@O1 :2@C4 :2@C5 :2@O5\",\n",
    "\":1@O1 :2@C4 :2@C5 :2@C6\",\n",
    "]"
   ]
  },
  {
   "cell_type": "code",
   "execution_count": 225,
   "metadata": {
    "ExecuteTime": {
     "end_time": "2019-01-18T01:32:18.285242Z",
     "start_time": "2019-01-18T01:32:18.104404Z"
    }
   },
   "outputs": [],
   "source": [
    "smirnoff_prmtop = pmd.load_file(\"systems/a-bam-p/smirnoff/a000/hg.prmtop\")\n",
    "smirnoff_two_residue = smirnoff_prmtop[\":4|:5\"]\n",
    "\n",
    "gaff_prmtop = pmd.load_file(\"systems/a-bam-p/bgbg-tip3p/hg.topo\")\n",
    "gaff_two_residue = gaff_prmtop[\":4|:5\"]"
   ]
  },
  {
   "cell_type": "code",
   "execution_count": 233,
   "metadata": {
    "ExecuteTime": {
     "end_time": "2019-01-18T01:34:11.063058Z",
     "start_time": "2019-01-18T01:34:11.002741Z"
    }
   },
   "outputs": [],
   "source": [
    "def parse_parmed_output_with_marker(printDihedrals_string):\n",
    "    df = pd.DataFrame()\n",
    "    lines = printDihedrals_string.split(\"\\n\")\n",
    "    for line in lines[1:-1]:\n",
    "        df = df.append(\n",
    "            pd.DataFrame(\n",
    "                {\n",
    "                    \"marker\": line[0],\n",
    "                    \"atom1\": \"\".join(line[10:15]),\n",
    "                    \"atom1 serial\": int(\"\".join(line[5:10])),\n",
    "                    \"atom2\": \"\".join(line[30:35]),\n",
    "                    \"atom2 serial\": int(\"\".join(line[25:30])),\n",
    "                    \"atom3\": \"\".join(line[52:57]),\n",
    "                    \"atom3 serial\": int(\"\".join(line[47:52])),\n",
    "                    \"atom4\": \"\".join(line[72:77]),\n",
    "                    \"atom4 serial\": int(\"\".join(line[67:72])),\n",
    "                    \"height\": float(\"\".join(line[89:95])),\n",
    "                    \"periodicity\": float(\"\".join(line[100:105])),\n",
    "                    \"phase\": float(\"\".join(line[111:116])),\n",
    "                    \"EEL scale\": float(\"\".join(line[122:128])),\n",
    "                    \"VDW scale\": float(\"\".join(line[133:138])),               },\n",
    "                index=[0],\n",
    "            ),\n",
    "            ignore_index=True,\n",
    "        )\n",
    "    return df"
   ]
  },
  {
   "cell_type": "code",
   "execution_count": 235,
   "metadata": {
    "ExecuteTime": {
     "end_time": "2019-01-18T01:34:22.268219Z",
     "start_time": "2019-01-18T01:34:21.819040Z"
    }
   },
   "outputs": [],
   "source": [
    "for mask in interresidue_masks:\n",
    "    \n",
    "    gaff_string = str(pmd.tools.actions.printDihedrals(gaff_two_residue, mask))\n",
    "    gaff_df = parse_parmed_output_with_marker(gaff_string)\n",
    "    smirnoff_string = str(pmd.tools.actions.printDihedrals(smirnoff_two_residue, mask))\n",
    "    smirnoff_df = parse_parmed_output_with_marker(smirnoff_string)\n",
    "    \n",
    "    if not len(gaff_df) == len(smirnoff_df):\n",
    "        print(f\"GAFF v1.7 has {len(gaff_df)} and SMIRNOFF99Frosst has {len(smirnoff_df)}\")\n",
    "        print(f\"{row['atom1']}-{row['atom2']}-{row['atom3']}-{row['atom4']}\")\n",
    "        \n",
    "    compare_df(gaff_df.sort_values(by=[\"atom1\", \"atom2\", \"atom3\", \"atom4\", \"periodicity\", \"phase\"]), \n",
    "               smirnoff_df.sort_values(by=[\"atom1\", \"atom2\", \"atom3\", \"atom4\", \"periodicity\", \"phase\"]))\n",
    "\n",
    "    compare_df_for_scaling(gaff_df.sort_values(by=[\"atom1\", \"atom2\", \"atom3\", \"atom4\", \"periodicity\", \"phase\"]), \n",
    "           smirnoff_df.sort_values(by=[\"atom1\", \"atom2\", \"atom3\", \"atom4\", \"periodicity\", \"phase\"]))\n"
   ]
  },
  {
   "cell_type": "code",
   "execution_count": 237,
   "metadata": {
    "ExecuteTime": {
     "end_time": "2019-01-18T01:34:33.327235Z",
     "start_time": "2019-01-18T01:34:33.293673Z"
    }
   },
   "outputs": [
    {
     "data": {
      "text/html": [
       "<div>\n",
       "<style scoped>\n",
       "    .dataframe tbody tr th:only-of-type {\n",
       "        vertical-align: middle;\n",
       "    }\n",
       "\n",
       "    .dataframe tbody tr th {\n",
       "        vertical-align: top;\n",
       "    }\n",
       "\n",
       "    .dataframe thead th {\n",
       "        text-align: right;\n",
       "    }\n",
       "</style>\n",
       "<table border=\"1\" class=\"dataframe\">\n",
       "  <thead>\n",
       "    <tr style=\"text-align: right;\">\n",
       "      <th></th>\n",
       "      <th>marker</th>\n",
       "      <th>atom1</th>\n",
       "      <th>atom1 serial</th>\n",
       "      <th>atom2</th>\n",
       "      <th>atom2 serial</th>\n",
       "      <th>atom3</th>\n",
       "      <th>atom3 serial</th>\n",
       "      <th>atom4</th>\n",
       "      <th>atom4 serial</th>\n",
       "      <th>height</th>\n",
       "      <th>periodicity</th>\n",
       "      <th>phase</th>\n",
       "      <th>EEL scale</th>\n",
       "      <th>VDW scale</th>\n",
       "    </tr>\n",
       "  </thead>\n",
       "  <tbody>\n",
       "    <tr>\n",
       "      <th>0</th>\n",
       "      <td></td>\n",
       "      <td>O1</td>\n",
       "      <td>3</td>\n",
       "      <td>C4</td>\n",
       "      <td>33</td>\n",
       "      <td>C5</td>\n",
       "      <td>35</td>\n",
       "      <td>C6</td>\n",
       "      <td>38</td>\n",
       "      <td>0.156</td>\n",
       "      <td>3.0</td>\n",
       "      <td>0.0</td>\n",
       "      <td>1.2</td>\n",
       "      <td>2.0</td>\n",
       "    </tr>\n",
       "  </tbody>\n",
       "</table>\n",
       "</div>"
      ],
      "text/plain": [
       "  marker  atom1  atom1 serial  atom2  atom2 serial  atom3  atom3 serial  \\\n",
       "0           O1              3     C4            33    C5             35   \n",
       "\n",
       "   atom4  atom4 serial  height  periodicity  phase  EEL scale  VDW scale  \n",
       "0     C6            38   0.156          3.0    0.0        1.2        2.0  "
      ]
     },
     "execution_count": 237,
     "metadata": {},
     "output_type": "execute_result"
    }
   ],
   "source": [
    "smirnoff_df"
   ]
  },
  {
   "cell_type": "code",
   "execution_count": null,
   "metadata": {},
   "outputs": [],
   "source": []
  }
 ],
 "metadata": {
  "kernelspec": {
   "display_name": "Python [conda env:smirnoff-host-guest]",
   "language": "python",
   "name": "conda-env-smirnoff-host-guest-py"
  },
  "language_info": {
   "codemirror_mode": {
    "name": "ipython",
    "version": 3
   },
   "file_extension": ".py",
   "mimetype": "text/x-python",
   "name": "python",
   "nbconvert_exporter": "python",
   "pygments_lexer": "ipython3",
   "version": "3.6.6"
  }
 },
 "nbformat": 4,
 "nbformat_minor": 2
}
